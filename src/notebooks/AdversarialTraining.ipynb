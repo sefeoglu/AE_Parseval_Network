{
 "cells": [
  {
   "cell_type": "markdown",
   "metadata": {
    "id": "CgKND0sckj9i"
   },
   "source": [
    "# <font color=\"purple\">Adversarial Training of Residual Network</font>"
   ]
  },
  {
   "cell_type": "markdown",
   "metadata": {
    "id": "lkb49Wg6kj9n"
   },
   "source": [
    "**Libraries**"
   ]
  },
  {
   "cell_type": "code",
   "execution_count": null,
   "metadata": {
    "id": "6BZWXRQYVIw1"
   },
   "outputs": [],
   "source": [
    "#!pip install -qq -e git+http://github.com/tensorflow/cleverhans.git#egg=cleverhans\n",
    "import sys\n",
    "sys.path.append('/content/src/cleverhans')\n",
    "\n",
    "import cleverhans"
   ]
  },
  {
   "cell_type": "code",
   "execution_count": null,
   "metadata": {
    "colab": {
     "base_uri": "https://localhost:8080/"
    },
    "id": "WqCNpTkFbPEP",
    "outputId": "b962f26d-fef9-4588-e732-02c2d6064736"
   },
   "outputs": [],
   "source": [
    "!pip install hickle"
   ]
  },
  {
   "cell_type": "code",
   "execution_count": null,
   "metadata": {
    "id": "8umNu8n_bSFK"
   },
   "outputs": [],
   "source": [
    "import hickle as hkl"
   ]
  },
  {
   "cell_type": "code",
   "execution_count": null,
   "metadata": {
    "colab": {
     "base_uri": "https://localhost:8080/"
    },
    "id": "NIEl6l0kkj9o",
    "outputId": "a6b315be-3a35-4a40-db68-6890fa2ffb3b"
   },
   "outputs": [],
   "source": [
    "import tensorflow as tf\n",
    "from cleverhans.future.tf2.attacks import fast_gradient_method\n",
    "from tensorflow.keras.optimizers import SGD\n",
    "from sklearn.model_selection import KFold\n",
    "from sklearn.model_selection import train_test_split\n",
    "import pandas as pd\n",
    "import numpy as np\n",
    "from sklearn.model_selection import  KFold\n",
    "from wresnet import WideResidualNetwork\n",
    "import warnings\n",
    "warnings.filterwarnings(\"ignore\")\n",
    "\n",
    "print(\"\\nTensorflow Version: \" + tf.__version__)\n",
    "\n",
    "from parsevalnet import ParsevalNetwork\n",
    "\n",
    "from _utility import lrate, get_adversarial_examples, print_test, step_decay"
   ]
  },
  {
   "cell_type": "markdown",
   "metadata": {
    "id": "IhvWP7D-kj9v"
   },
   "source": [
    "## <font color=\"green\"> Data Preprocessing </font>\n"
   ]
  },
  {
   "cell_type": "markdown",
   "metadata": {
    "id": "o-Tkt8tPkj9w"
   },
   "source": [
    "* Read Data from File"
   ]
  },
  {
   "cell_type": "code",
   "execution_count": null,
   "metadata": {
    "id": "lggXy4Xckj96"
   },
   "outputs": [],
   "source": [
    "data = hkl.load(\"data.hkl\")\n",
    "X_train, X_test, Y_train, y_test = data['xtrain'], data['xtest'], data['ytrain'], data['ytest']"
   ]
  },
  {
   "cell_type": "markdown",
   "metadata": {
    "id": "evs0Sbh8i-pZ"
   },
   "source": [
    "### <font color = \"green\">Some Parameters </font>"
   ]
  },
  {
   "cell_type": "code",
   "execution_count": null,
   "metadata": {
    "id": "OSIcR_0oBdgk"
   },
   "outputs": [],
   "source": [
    "epsilons = [i/1000 for i in range(1,33)] # facto for fast gradient sign method"
   ]
  },
  {
   "cell_type": "code",
   "execution_count": null,
   "metadata": {
    "id": "wKaBoHadkj-M"
   },
   "outputs": [],
   "source": [
    "EPOCHS = 50\n",
    "BS = 64\n",
    "init = (32, 32,1)\n",
    "sgd = SGD(lr=0.1, momentum=0.9)\n",
    "parameter = {'epochs': EPOCHS, 'batch_size': BS, 'optimizer': sgd}"
   ]
  },
  {
   "cell_type": "code",
   "execution_count": null,
   "metadata": {
    "id": "1l_vYwIqtwdf"
   },
   "outputs": [],
   "source": [
    "wideresnet = WideResidualNetwork(init, 0.0001, 0.9, nb_classes=4, N=2, k=1, dropout=0.0)"
   ]
  },
  {
   "cell_type": "code",
   "execution_count": null,
   "metadata": {
    "id": "Xv10my1ho7Dc"
   },
   "outputs": [],
   "source": [
    "from adversarial_training import AdversarialTraining"
   ]
  },
  {
   "cell_type": "code",
   "execution_count": null,
   "metadata": {
    "id": "G6toi090mfpQ"
   },
   "outputs": [],
   "source": [
    "adversarial_training = AdversarialTraining(parameter)"
   ]
  },
  {
   "cell_type": "code",
   "execution_count": null,
   "metadata": {
    "id": "FAoBGHiWTnc9"
   },
   "outputs": [],
   "source": [
    "def simulate_train(s):\n",
    "    \n",
    "    kfold = KFold(n_splits=10, random_state=42, shuffle=False)\n",
    "    model_name=\"ResNet_da\"\n",
    "\n",
    "    for j, (train, val) in enumerate(kfold.split(X_train)):\n",
    "        if j == s :\n",
    "            print(s)\n",
    "            model = wideresnet.create_wide_residual_network()\n",
    "            model.compile(loss=\"categorical_crossentropy\",\n",
    "                        optimizer=sgd,\n",
    "                        metrics=[\"acc\"])\n",
    "            print(\"Finished compiling\")\n",
    "            x_train, y_train = X_train[train],Y_train[train]\n",
    "            x_val, y_val = X_train[val], Y_train[val]\n",
    "            train_dataset = tf.data.Dataset.from_tensor_slices((x_train, y_train))\n",
    "            train_dataset = train_dataset.batch(BS)\n",
    "            val_dataset = tf.data.Dataset.from_tensor_slices((x_val, y_val))\n",
    "            val_dataset = val_dataset.batch(BS)\n",
    "            adversarial_training.train(model, train_dataset, val_dataset, epsilons)\n",
    "            name = model_name+\"_\"+str(j)+\".h5\"\n",
    "            model.save_weights(name)"
   ]
  },
  {
   "cell_type": "code",
   "execution_count": null,
   "metadata": {},
   "outputs": [],
   "source": []
  }
 ],
 "metadata": {
  "accelerator": "GPU",
  "colab": {
   "collapsed_sections": [],
   "name": "AdversarialTraining.ipynb",
   "provenance": []
  },
  "kernelspec": {
   "display_name": "Python 3",
   "language": "python",
   "name": "python3"
  },
  "language_info": {
   "codemirror_mode": {
    "name": "ipython",
    "version": 3
   },
   "file_extension": ".py",
   "mimetype": "text/x-python",
   "name": "python",
   "nbconvert_exporter": "python",
   "pygments_lexer": "ipython3",
   "version": "3.7.4"
  }
 },
 "nbformat": 4,
 "nbformat_minor": 1
}
