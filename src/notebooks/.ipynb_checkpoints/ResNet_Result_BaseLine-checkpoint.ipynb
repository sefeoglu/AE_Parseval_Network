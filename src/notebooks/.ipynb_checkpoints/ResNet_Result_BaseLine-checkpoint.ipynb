{
 "cells": [
  {
   "cell_type": "markdown",
   "metadata": {
    "id": "CgKND0sckj9i"
   },
   "source": [
    "# <font color=\"purple\">Adversarial Training of Residual Network</font>"
   ]
  },
  {
   "cell_type": "markdown",
   "metadata": {
    "id": "WPX5KF4nkj9k"
   },
   "source": [
    "Definition of WideResNet and Architecture:"
   ]
  },
  {
   "cell_type": "markdown",
   "metadata": {
    "id": "5atyrM-Gkj9l"
   },
   "source": [
    "Residual Networks vs Wide Residual Networks"
   ]
  },
  {
   "cell_type": "markdown",
   "metadata": {
    "id": "W07XrKzjkj9l"
   },
   "source": [
    "##  <center>The Result of Residual Network </center>"
   ]
  },
  {
   "cell_type": "markdown",
   "metadata": {
    "id": "I6LWZY55kj9m"
   },
   "source": [
    "***Road Map***\n",
    "* Data Preprocessing\n",
    "* Model Cross Validation Results\n",
    "* Evaluate the GridSearchCV Results\n",
    "* Model Training and Learning Curves\n",
    "* Model Adversarial Training Approach.\n"
   ]
  },
  {
   "cell_type": "markdown",
   "metadata": {
    "id": "lkb49Wg6kj9n"
   },
   "source": [
    "**Libraries**"
   ]
  },
  {
   "cell_type": "code",
   "execution_count": 2,
   "metadata": {
    "colab": {
     "base_uri": "https://localhost:8080/"
    },
    "id": "6BZWXRQYVIw1",
    "outputId": "c497cdfe-cd44-48dd-8a4f-5e92f252bf2b"
   },
   "outputs": [
    {
     "name": "stdout",
     "output_type": "stream",
     "text": [
      "\u001b[K     |████████████████████████████████| 163kB 5.3MB/s \n",
      "\u001b[K     |████████████████████████████████| 51kB 7.6MB/s \n",
      "\u001b[?25h"
     ]
    }
   ],
   "source": [
    "!pip install -qq -e git+http://github.com/tensorflow/cleverhans.git#egg=cleverhans\n",
    "import sys\n",
    "sys.path.append('/content/src/cleverhans')\n",
    "import cleverhans"
   ]
  },
  {
   "cell_type": "code",
   "execution_count": 31,
   "metadata": {
    "colab": {
     "base_uri": "https://localhost:8080/"
    },
    "id": "NIEl6l0kkj9o",
    "outputId": "f2e7aa79-4032-4193-dab2-55e8e77690fa"
   },
   "outputs": [
    {
     "name": "stdout",
     "output_type": "stream",
     "text": [
      "\n",
      "Tensorflow Version: 2.3.0\n"
     ]
    }
   ],
   "source": [
    "import tensorflow as tf\n",
    "from cleverhans.future.tf2.attacks import fast_gradient_method\n",
    "from tensorflow.keras.optimizers import SGD\n",
    "from tensorflow.keras.callbacks import Callback, LearningRateScheduler, EarlyStopping\n",
    "from sklearn.model_selection import train_test_split\n",
    "import pandas as pd\n",
    "import numpy as np\n",
    "from sklearn.preprocessing import LabelEncoder\n",
    "from tensorflow.keras.utils import to_categorical\n",
    "from wresnet import WideResidualNetwork\n",
    "from sklearn.model_selection import  KFold\n",
    "import gzip\n",
    "import pickle\n",
    "import numpy as np\n",
    "\n",
    "import warnings\n",
    "warnings.filterwarnings(\"ignore\")\n",
    "\n",
    "print(\"\\nTensorflow Version: \" + tf.__version__)\n",
    "\n",
    "\n",
    "# defined utility functions\n",
    "from preprocessing import preprocessing_data\n",
    "\n",
    "from _utility import lrate, get_adversarial_examples, print_test"
   ]
  },
  {
   "cell_type": "markdown",
   "metadata": {
    "id": "IhvWP7D-kj9v"
   },
   "source": [
    "## <font color=\"green\"> Data Preprocessing </font>\n"
   ]
  },
  {
   "cell_type": "markdown",
   "metadata": {
    "id": "o-Tkt8tPkj9w"
   },
   "source": [
    "* Read Data from File"
   ]
  },
  {
   "cell_type": "code",
   "execution_count": 5,
   "metadata": {
    "id": "MbL58svXkj9x"
   },
   "outputs": [],
   "source": [
    "def read_data():\n",
    "    with open(\"data.pz\", 'rb') as file_:\n",
    "        with gzip.GzipFile(fileobj=file_) as gzf:\n",
    "            data = pickle.load(gzf, encoding='latin1', fix_imports=True)\n",
    "    return data\n",
    "data = read_data()"
   ]
  },
  {
   "cell_type": "markdown",
   "metadata": {
    "id": "CS5UxTh4kj91"
   },
   "source": [
    "* Call data preprocessing function"
   ]
  },
  {
   "cell_type": "code",
   "execution_count": 41,
   "metadata": {
    "id": "lggXy4Xckj96"
   },
   "outputs": [],
   "source": [
    "X, y = preprocessing_data(data)\n",
    "X_train, X_test, Y_train, y_test = train_test_split(X, y, test_size = 0.1)\n",
    "x_train, x_val, y_train, y_val = train_test_split(X_train, Y_train, test_size = 0.1)"
   ]
  },
  {
   "cell_type": "markdown",
   "metadata": {
    "id": "ZMx1UO52ozNP"
   },
   "source": [
    "## <font color=\"green\"> Utilize Functions </font>"
   ]
  },
  {
   "cell_type": "markdown",
   "metadata": {
    "id": "DN9n1xLKpNAk"
   },
   "source": [
    "* Flipping the image using data augmentation technique"
   ]
  },
  {
   "cell_type": "code",
   "execution_count": 26,
   "metadata": {
    "id": "MywglnvLo3b-"
   },
   "outputs": [],
   "source": [
    "generator = tf.keras.preprocessing.image.ImageDataGenerator(rotation_range=10,\n",
    "                               width_shift_range=5./32,\n",
    "                               height_shift_range=5./32,)"
   ]
  },
  {
   "cell_type": "markdown",
   "metadata": {
    "id": "evs0Sbh8i-pZ"
   },
   "source": [
    "### <font color = \"green\">Some Parameters Regarding Adversarial Examples</font>"
   ]
  },
  {
   "cell_type": "code",
   "execution_count": 9,
   "metadata": {
    "id": "IIgl4BDQjPFL"
   },
   "outputs": [],
   "source": [
    "# predefined epsilon values\n",
    "epsilon_list = [0.003,0.005,0.01,0.02]"
   ]
  },
  {
   "cell_type": "markdown",
   "metadata": {
    "id": "GuPefX3CoKH5"
   },
   "source": [
    "### <font>General Visulazation Methods</font>"
   ]
  },
  {
   "cell_type": "markdown",
   "metadata": {
    "id": "2dd-t4F_pecb"
   },
   "source": [
    "* Show accurancy and loss function of the results"
   ]
  },
  {
   "cell_type": "markdown",
   "metadata": {
    "id": "XzFqxjQOkj9-"
   },
   "source": [
    "## <font color=\"purple\"> 1.) Baseline of the Model</font>"
   ]
  },
  {
   "cell_type": "markdown",
   "metadata": {
    "id": "L5Zv6ceWkj9_"
   },
   "source": [
    "* Explain the Baseline Model here"
   ]
  },
  {
   "cell_type": "code",
   "execution_count": 10,
   "metadata": {
    "id": "wKaBoHadkj-M"
   },
   "outputs": [],
   "source": [
    "EPOCHS = 50\n",
    "BS = 64\n",
    "init = (32, 32,1)\n",
    "sgd = SGD(lr=0.1, momentum=0.9)\n",
    "parameter = {'epochs': EPOCHS, 'batch_size': BS, 'optimizer': sgd}"
   ]
  },
  {
   "cell_type": "code",
   "execution_count": 11,
   "metadata": {
    "id": "1l_vYwIqtwdf"
   },
   "outputs": [],
   "source": [
    "es = EarlyStopping(monitor='val_loss', mode='min', verbose=1, patience=200)\n",
    "callbacks_list = [lrate, es]\n",
    "wresnet_ins = WideResidualNetwork(init, 0.0001, 0.9, nb_classes=4, N=2, k=1, dropout=0.0)"
   ]
  },
  {
   "cell_type": "code",
   "execution_count": null,
   "metadata": {
    "id": "_OGuPszPaqKA"
   },
   "outputs": [],
   "source": [
    "premodel = wresnet_ins.create_wide_residual_network()\n",
    "premodel.compile(loss=\"categorical_crossentropy\", optimizer=sgd, metrics=[\"acc\"])\n",
    "premodel.fit(generator.flow(x_train, y_train, batch_size=BS),steps_per_epoch=len(x_train) // BS, \n",
    "              epochs= EPOCHS, callbacks = callbacks_list,\n",
    "              validation_data=(x_val, y_val),\n",
    "              validation_steps=x_val.shape[0] // BS,\n",
    "              )"
   ]
  },
  {
   "cell_type": "code",
   "execution_count": null,
   "metadata": {
    "id": "hG_0aYgPq6Jg"
   },
   "outputs": [],
   "source": [
    "result_df = train(wresnet_ins, premodel, X_train, Y_train, X_test, y_test, EPOCHS, BS, sgd, generator, callbacks_list, epsilon_list)"
   ]
  },
  {
   "cell_type": "code",
   "execution_count": 57,
   "metadata": {
    "id": "4FJqbLkvGrSS"
   },
   "outputs": [],
   "source": [
    "result_df[\"clean_mean\"] = np.sum(result_df['acc_clean'])/10.0\n",
    "result_df[\"0.003_mean\"] = np.sum(result_df['0.003_acc'])/10.0\n",
    "result_df[\"0.005_mean\"] = np.sum(result_df['0.005_acc'])/10.0\n",
    "result_df[\"0.02_mean\"] = np.sum(result_df['0.02_acc'])/10.0\n",
    "result_df[\"0.01_mean\"] = np.sum(result_df['0.01_acc'])/10.0"
   ]
  },
  {
   "cell_type": "code",
   "execution_count": 58,
   "metadata": {
    "colab": {
     "base_uri": "https://localhost:8080/",
     "height": 80
    },
    "id": "80-rkr5ysC0O",
    "outputId": "fbe548a6-a7e3-402b-b9c5-fed8383dee39"
   },
   "outputs": [
    {
     "data": {
      "text/html": [
       "<div>\n",
       "<style scoped>\n",
       "    .dataframe tbody tr th:only-of-type {\n",
       "        vertical-align: middle;\n",
       "    }\n",
       "\n",
       "    .dataframe tbody tr th {\n",
       "        vertical-align: top;\n",
       "    }\n",
       "\n",
       "    .dataframe thead th {\n",
       "        text-align: right;\n",
       "    }\n",
       "</style>\n",
       "<table border=\"1\" class=\"dataframe\">\n",
       "  <thead>\n",
       "    <tr style=\"text-align: right;\">\n",
       "      <th></th>\n",
       "      <th>clean_mean</th>\n",
       "      <th>0.003_mean</th>\n",
       "      <th>0.005_mean</th>\n",
       "      <th>0.02_mean</th>\n",
       "      <th>0.01_mean</th>\n",
       "    </tr>\n",
       "  </thead>\n",
       "  <tbody>\n",
       "    <tr>\n",
       "      <th>0</th>\n",
       "      <td>0.73822</td>\n",
       "      <td>0.680628</td>\n",
       "      <td>0.635253</td>\n",
       "      <td>0.560209</td>\n",
       "      <td>0.434555</td>\n",
       "    </tr>\n",
       "  </tbody>\n",
       "</table>\n",
       "</div>"
      ],
      "text/plain": [
       "   clean_mean  0.003_mean  0.005_mean  0.02_mean  0.01_mean\n",
       "0     0.73822    0.680628    0.635253   0.560209   0.434555"
      ]
     },
     "execution_count": 58,
     "metadata": {
      "tags": []
     },
     "output_type": "execute_result"
    }
   ],
   "source": [
    "column = [\"clean_mean\",\"0.003_mean\",\"0.005_mean\",\"0.02_mean\",\"0.01_mean\"]\n",
    "result_df[column].head(1)"
   ]
  },
  {
   "cell_type": "markdown",
   "metadata": {
    "id": "A3mH9_WMkj-a"
   },
   "source": [
    "## <font color=\"purple\">2.) Adversarial Training on Baseline Model</font>"
   ]
  },
  {
   "cell_type": "code",
   "execution_count": null,
   "metadata": {
    "id": "FAoBGHiWTnc9"
   },
   "outputs": [],
   "source": [
    "adversarial_training =  AdversarialTraining(parameter)\n",
    "result_adv_df = adversarial_training.train(wresnet_ins,premodel, X_train, Y_train, X_test, y_test, epsilon_list, callbacks_list)"
   ]
  },
  {
   "cell_type": "markdown",
   "metadata": {
    "id": "9LT0T19skj-h"
   },
   "source": [
    "### <font color=\"purple\"> Results of Adversarial Training</font>"
   ]
  },
  {
   "cell_type": "code",
   "execution_count": 52,
   "metadata": {
    "id": "XSr1gpfzkj-i"
   },
   "outputs": [],
   "source": [
    "result_adv_df[\"clean_mean\"] = np.sum(result_adv_df['acc_clean'])/10.0\n",
    "result_adv_df[\"0.003_mean\"] = np.sum(result_adv_df['0.003_acc'])/10.0\n",
    "result_adv_df[\"0.005_mean\"] = np.sum(result_adv_df['0.005_acc'])/10.0\n",
    "result_adv_df[\"0.02_mean\"] = np.sum(result_adv_df['0.02_acc'])/10.0\n",
    "result_adv_df[\"0.01_mean\"] = np.sum(result_adv_df['0.01_acc'])/10.0"
   ]
  },
  {
   "cell_type": "code",
   "execution_count": 53,
   "metadata": {
    "colab": {
     "base_uri": "https://localhost:8080/",
     "height": 80
    },
    "id": "JbtKmK02vW3N",
    "outputId": "3a8e67a0-9e61-495a-e4e7-897466b838b4"
   },
   "outputs": [
    {
     "data": {
      "text/html": [
       "<div>\n",
       "<style scoped>\n",
       "    .dataframe tbody tr th:only-of-type {\n",
       "        vertical-align: middle;\n",
       "    }\n",
       "\n",
       "    .dataframe tbody tr th {\n",
       "        vertical-align: top;\n",
       "    }\n",
       "\n",
       "    .dataframe thead th {\n",
       "        text-align: right;\n",
       "    }\n",
       "</style>\n",
       "<table border=\"1\" class=\"dataframe\">\n",
       "  <thead>\n",
       "    <tr style=\"text-align: right;\">\n",
       "      <th></th>\n",
       "      <th>clean_mean</th>\n",
       "      <th>0.003_mean</th>\n",
       "      <th>0.005_mean</th>\n",
       "      <th>0.02_mean</th>\n",
       "      <th>0.01_mean</th>\n",
       "    </tr>\n",
       "  </thead>\n",
       "  <tbody>\n",
       "    <tr>\n",
       "      <th>0</th>\n",
       "      <td>0.727225</td>\n",
       "      <td>0.720768</td>\n",
       "      <td>0.714136</td>\n",
       "      <td>0.7</td>\n",
       "      <td>0.669634</td>\n",
       "    </tr>\n",
       "  </tbody>\n",
       "</table>\n",
       "</div>"
      ],
      "text/plain": [
       "   clean_mean  0.003_mean  0.005_mean  0.02_mean  0.01_mean\n",
       "0    0.727225    0.720768    0.714136        0.7   0.669634"
      ]
     },
     "execution_count": 53,
     "metadata": {
      "tags": []
     },
     "output_type": "execute_result"
    }
   ],
   "source": [
    "result_adv_df[column].head(1)"
   ]
  },
  {
   "cell_type": "markdown",
   "metadata": {
    "id": "Dk6SrKnTB_xI"
   },
   "source": [
    "# <font color=\"blue\">Compare Non-Adversarial Training with Adversarial Training</font>"
   ]
  },
  {
   "cell_type": "code",
   "execution_count": 59,
   "metadata": {
    "colab": {
     "base_uri": "https://localhost:8080/",
     "height": 80
    },
    "id": "r9cyaTQ_CJj3",
    "outputId": "a3c397e4-1c51-47ff-e2fc-4570869a3475"
   },
   "outputs": [
    {
     "data": {
      "text/html": [
       "<div>\n",
       "<style scoped>\n",
       "    .dataframe tbody tr th:only-of-type {\n",
       "        vertical-align: middle;\n",
       "    }\n",
       "\n",
       "    .dataframe tbody tr th {\n",
       "        vertical-align: top;\n",
       "    }\n",
       "\n",
       "    .dataframe thead th {\n",
       "        text-align: right;\n",
       "    }\n",
       "</style>\n",
       "<table border=\"1\" class=\"dataframe\">\n",
       "  <thead>\n",
       "    <tr style=\"text-align: right;\">\n",
       "      <th></th>\n",
       "      <th>clean_mean</th>\n",
       "      <th>0.003_mean</th>\n",
       "      <th>0.005_mean</th>\n",
       "      <th>0.02_mean</th>\n",
       "      <th>0.01_mean</th>\n",
       "    </tr>\n",
       "  </thead>\n",
       "  <tbody>\n",
       "    <tr>\n",
       "      <th>0</th>\n",
       "      <td>0.727225</td>\n",
       "      <td>0.720768</td>\n",
       "      <td>0.714136</td>\n",
       "      <td>0.7</td>\n",
       "      <td>0.669634</td>\n",
       "    </tr>\n",
       "  </tbody>\n",
       "</table>\n",
       "</div>"
      ],
      "text/plain": [
       "   clean_mean  0.003_mean  0.005_mean  0.02_mean  0.01_mean\n",
       "0    0.727225    0.720768    0.714136        0.7   0.669634"
      ]
     },
     "execution_count": 59,
     "metadata": {
      "tags": []
     },
     "output_type": "execute_result"
    }
   ],
   "source": [
    "result_adv_df[column].head(1)"
   ]
  },
  {
   "cell_type": "code",
   "execution_count": 60,
   "metadata": {
    "colab": {
     "base_uri": "https://localhost:8080/",
     "height": 80
    },
    "id": "PAvyuKGlCJ2D",
    "outputId": "bf2496d2-572b-4866-fa5a-8115a6c1b9e2"
   },
   "outputs": [
    {
     "data": {
      "text/html": [
       "<div>\n",
       "<style scoped>\n",
       "    .dataframe tbody tr th:only-of-type {\n",
       "        vertical-align: middle;\n",
       "    }\n",
       "\n",
       "    .dataframe tbody tr th {\n",
       "        vertical-align: top;\n",
       "    }\n",
       "\n",
       "    .dataframe thead th {\n",
       "        text-align: right;\n",
       "    }\n",
       "</style>\n",
       "<table border=\"1\" class=\"dataframe\">\n",
       "  <thead>\n",
       "    <tr style=\"text-align: right;\">\n",
       "      <th></th>\n",
       "      <th>clean_mean</th>\n",
       "      <th>0.003_mean</th>\n",
       "      <th>0.005_mean</th>\n",
       "      <th>0.02_mean</th>\n",
       "      <th>0.01_mean</th>\n",
       "    </tr>\n",
       "  </thead>\n",
       "  <tbody>\n",
       "    <tr>\n",
       "      <th>0</th>\n",
       "      <td>0.73822</td>\n",
       "      <td>0.680628</td>\n",
       "      <td>0.635253</td>\n",
       "      <td>0.560209</td>\n",
       "      <td>0.434555</td>\n",
       "    </tr>\n",
       "  </tbody>\n",
       "</table>\n",
       "</div>"
      ],
      "text/plain": [
       "   clean_mean  0.003_mean  0.005_mean  0.02_mean  0.01_mean\n",
       "0     0.73822    0.680628    0.635253   0.560209   0.434555"
      ]
     },
     "execution_count": 60,
     "metadata": {
      "tags": []
     },
     "output_type": "execute_result"
    }
   ],
   "source": [
    "result_df[column].head(1)"
   ]
  },
  {
   "cell_type": "markdown",
   "metadata": {
    "id": "ziuulXV-B3SN"
   },
   "source": [
    "# <font color=\"blue\">Conclusion</font>"
   ]
  },
  {
   "cell_type": "code",
   "execution_count": null,
   "metadata": {
    "id": "7Y9z3ebdkLd0"
   },
   "outputs": [],
   "source": []
  },
  {
   "cell_type": "markdown",
   "metadata": {
    "id": "cLwwAqvXsTeo"
   },
   "source": []
  }
 ],
 "metadata": {
  "accelerator": "GPU",
  "colab": {
   "collapsed_sections": [],
   "name": "ResNet_Result_BaseLine.ipynb",
   "provenance": [],
   "toc_visible": true
  },
  "kernelspec": {
   "display_name": "Python 3",
   "language": "python",
   "name": "python3"
  },
  "language_info": {
   "codemirror_mode": {
    "name": "ipython",
    "version": 3
   },
   "file_extension": ".py",
   "mimetype": "text/x-python",
   "name": "python",
   "nbconvert_exporter": "python",
   "pygments_lexer": "ipython3",
   "version": "3.7.4"
  }
 },
 "nbformat": 4,
 "nbformat_minor": 1
}
