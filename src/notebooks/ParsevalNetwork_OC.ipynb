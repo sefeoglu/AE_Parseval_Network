{
  "nbformat": 4,
  "nbformat_minor": 0,
  "metadata": {
    "kernelspec": {
      "display_name": "Python 3",
      "language": "python",
      "name": "python3"
    },
    "language_info": {
      "codemirror_mode": {
        "name": "ipython",
        "version": 3
      },
      "file_extension": ".py",
      "mimetype": "text/x-python",
      "name": "python",
      "nbconvert_exporter": "python",
      "pygments_lexer": "ipython3",
      "version": "3.7.4"
    },
    "colab": {
      "name": "ParsevalNetwork.ipynb",
      "provenance": [],
      "toc_visible": true
    },
    "accelerator": "GPU"
  },
  "cells": [
    {
      "cell_type": "markdown",
      "metadata": {
        "id": "_idgCcuZdv0S",
        "colab_type": "text"
      },
      "source": [
        "# **Parseval Network**"
      ]
    },
    {
      "cell_type": "markdown",
      "metadata": {
        "id": "jO1kBOuDd2_r",
        "colab_type": "text"
      },
      "source": [
        "# **Data Preparation**"
      ]
    },
    {
      "cell_type": "code",
      "metadata": {
        "id": "esXS1STy_O_m",
        "colab_type": "code",
        "colab": {}
      },
      "source": [
        "from sklearn.model_selection import train_test_split\n",
        "import gzip\n",
        "import pickle\n",
        "import numpy as np\n",
        "from tensorflow.keras.utils import to_categorical\n",
        "import tensorflow.keras.backend as K"
      ],
      "execution_count": 0,
      "outputs": []
    },
    {
      "cell_type": "code",
      "metadata": {
        "id": "11nX1rD7_O_t",
        "colab_type": "code",
        "outputId": "e7256b19-9769-4a48-ae65-222e528abc7c",
        "colab": {
          "base_uri": "https://localhost:8080/",
          "height": 34
        }
      },
      "source": [
        "def read_data():\n",
        "    with open(\"data.pz\", 'rb') as file_:\n",
        "        with gzip.GzipFile(fileobj=file_) as gzf:\n",
        "            data = pickle.load(gzf, encoding='latin1', fix_imports=True)\n",
        "    return data\n",
        "data = read_data()\n",
        "import cv2\n",
        "new_data_X = []\n",
        "Y_data = []\n",
        "for row in data:\n",
        "    new_data_X.append(cv2.resize(row['crop'], (32,32)))\n",
        "    Y_data.append(row['label'])\n",
        "new_data_X = np.array(new_data_X)\n",
        "new_data_X.shape"
      ],
      "execution_count": 2,
      "outputs": [
        {
          "output_type": "execute_result",
          "data": {
            "text/plain": [
              "(5722, 32, 32)"
            ]
          },
          "metadata": {
            "tags": []
          },
          "execution_count": 2
        }
      ]
    },
    {
      "cell_type": "code",
      "metadata": {
        "id": "wuUWZk7KeFck",
        "colab_type": "code",
        "outputId": "b7430805-b1f1-4583-e259-9e5de8afd2fc",
        "colab": {
          "base_uri": "https://localhost:8080/",
          "height": 34
        }
      },
      "source": [
        "X = new_data_X.astype('float32')\n",
        "X.shape"
      ],
      "execution_count": 3,
      "outputs": [
        {
          "output_type": "execute_result",
          "data": {
            "text/plain": [
              "(5722, 32, 32)"
            ]
          },
          "metadata": {
            "tags": []
          },
          "execution_count": 3
        }
      ]
    },
    {
      "cell_type": "code",
      "metadata": {
        "id": "6T0HkiPfeH1U",
        "colab_type": "code",
        "colab": {}
      },
      "source": [
        "img_rows, img_cols = X[0].shape\n",
        "\n",
        "# transform data set\n",
        "if K.image_data_format() == 'channels_first':\n",
        "    X = X.reshape(X.shape[0], 1, img_rows, img_cols)\n",
        "    input_shape = (1, img_rows, img_cols)\n",
        "else:\n",
        "    X = X.reshape(X.shape[0], img_rows, img_cols, 1)\n",
        "    input_shape = (img_rows, img_cols, 1)"
      ],
      "execution_count": 0,
      "outputs": []
    },
    {
      "cell_type": "code",
      "metadata": {
        "id": "crqYw_LJeJif",
        "colab_type": "code",
        "colab": {}
      },
      "source": [
        "import pandas as pd\n",
        "import numpy as np\n",
        "from sklearn.preprocessing import LabelEncoder\n",
        "\n",
        "labelencoder = LabelEncoder()\n",
        "y_df = pd.DataFrame(Y_data, columns=['Label'])\n",
        "y_df['Encoded'] = labelencoder.fit_transform(y_df['Label'])"
      ],
      "execution_count": 0,
      "outputs": []
    },
    {
      "cell_type": "code",
      "metadata": {
        "id": "BuCH_ylOeLLe",
        "colab_type": "code",
        "outputId": "fcdfe05d-37bf-4e04-ff9a-8440668f0900",
        "colab": {
          "base_uri": "https://localhost:8080/",
          "height": 104
        }
      },
      "source": [
        "y_df['Label'].value_counts()"
      ],
      "execution_count": 8,
      "outputs": [
        {
          "output_type": "execute_result",
          "data": {
            "text/plain": [
              "closed           1500\n",
              "open             1500\n",
              "partiallyOpen    1376\n",
              "notVisible       1346\n",
              "Name: Label, dtype: int64"
            ]
          },
          "metadata": {
            "tags": []
          },
          "execution_count": 8
        }
      ]
    },
    {
      "cell_type": "code",
      "metadata": {
        "id": "vJGV2GZWeN-d",
        "colab_type": "code",
        "outputId": "cfb32aa7-3150-4ae2-b963-c71e8580d049",
        "colab": {
          "base_uri": "https://localhost:8080/",
          "height": 104
        }
      },
      "source": [
        "y_df['Encoded'].value_counts()\n"
      ],
      "execution_count": 9,
      "outputs": [
        {
          "output_type": "execute_result",
          "data": {
            "text/plain": [
              "2    1500\n",
              "0    1500\n",
              "3    1376\n",
              "1    1346\n",
              "Name: Encoded, dtype: int64"
            ]
          },
          "metadata": {
            "tags": []
          },
          "execution_count": 9
        }
      ]
    },
    {
      "cell_type": "code",
      "metadata": {
        "id": "GBVaEoQBeP7Q",
        "colab_type": "code",
        "colab": {}
      },
      "source": [
        "from tensorflow.keras.utils import to_categorical\n",
        "\n",
        "y_cat = to_categorical(y_df['Encoded'])"
      ],
      "execution_count": 0,
      "outputs": []
    },
    {
      "cell_type": "code",
      "metadata": {
        "id": "K5Q7NqR4eYQy",
        "colab_type": "code",
        "colab": {}
      },
      "source": [
        "X_train, X_test, y_train, y_test = train_test_split(X, y_cat, test_size = 0.1)\n",
        "X_train, X_val, y_train, y_val = train_test_split(X_train, y_train, test_size = 0.1)"
      ],
      "execution_count": 0,
      "outputs": []
    },
    {
      "cell_type": "markdown",
      "metadata": {
        "id": "BTmOEDcMtSQp",
        "colab_type": "text"
      },
      "source": [
        "# Othogonal Constraint"
      ]
    },
    {
      "cell_type": "code",
      "metadata": {
        "id": "6S2jnj2otWlg",
        "colab_type": "code",
        "colab": {}
      },
      "source": [
        "from tensorflow.python.keras.constraints import Constraint\n",
        "from tensorflow.python.ops import math_ops, array_ops\n",
        "\n",
        "class TightFrame(Constraint):\n",
        "\n",
        "\n",
        "    def __init__(self, scale, num_passes=1):\n",
        "        self.scale = scale\n",
        "\n",
        "        if num_passes < 1:\n",
        "            raise ValueError(\"Number of passes cannot be non-positive! (got {})\".format(num_passes))\n",
        "        self.num_passes = num_passes\n",
        "\n",
        "\n",
        "    def __call__(self, w):\n",
        "        transpose_channels = (len(w.shape) == 4)\n",
        "\n",
        "        # Move channels_num to the front in order to make the dimensions correct for matmul\n",
        "        if transpose_channels:\n",
        "            w_reordered = array_ops.reshape(w, (-1, w.shape[0]))\n",
        "\n",
        "        else:\n",
        "            w_reordered = w\n",
        "\n",
        "        last = w_reordered\n",
        "        for i in range(self.num_passes):\n",
        "            temp1 = math_ops.matmul(last, last, transpose_a=True)\n",
        "            temp2 = (1 + self.scale) * w_reordered - self.scale * math_ops.matmul(w_reordered, temp1)\n",
        "\n",
        "            last = temp2\n",
        "\n",
        "        # Move channels_num to the back again\n",
        "        if transpose_channels:\n",
        "            return array_ops.reshape(last, w.shape)\n",
        "        else:\n",
        "            return last\n",
        "\n",
        "\n",
        "    def get_config(self):\n",
        "        return {'scale': self.scale, 'num_passes': self.num_passes}\n",
        "\n",
        "\n",
        "# Alias\n",
        "tight_frame = TightFrame"
      ],
      "execution_count": 0,
      "outputs": []
    },
    {
      "cell_type": "code",
      "metadata": {
        "id": "G4VciYzctsSY",
        "colab_type": "code",
        "colab": {}
      },
      "source": [
        "from tensorflow.keras.models import Model\n",
        "from tensorflow.keras.layers import Input, Add, Activation, Dropout, Flatten, Dense\n",
        "from tensorflow.keras.layers import Convolution2D, MaxPooling2D, AveragePooling2D\n",
        "from tensorflow.keras.layers import BatchNormalization\n",
        "from tensorflow.keras.regularizers import l2\n",
        "from tensorflow.keras import backend as K\n",
        "import warnings\n",
        "from tensorflow.keras.utils import to_categorical\n",
        "warnings.filterwarnings(\"ignore\")\n",
        "weight_decay = 0.0001\n"
      ],
      "execution_count": 0,
      "outputs": []
    },
    {
      "cell_type": "markdown",
      "metadata": {
        "id": "v3g_vzsy_ndF",
        "colab_type": "text"
      },
      "source": [
        "**Parseval Network**"
      ]
    },
    {
      "cell_type": "code",
      "metadata": {
        "id": "WN76FYUZ_3YA",
        "colab_type": "code",
        "outputId": "d3f5d601-c9e3-41c2-a670-992cf7651bc6",
        "colab": {
          "base_uri": "https://localhost:8080/",
          "height": 69
        }
      },
      "source": [
        "\n",
        "\n",
        "def initial_conv(input):\n",
        "  \n",
        "    x = Convolution2D(16, (3, 3), padding='same', kernel_initializer='orthogonal', kernel_constraint= tight_frame(0.0001),\n",
        "                      kernel_regularizer=l2(weight_decay),\n",
        "                      use_bias=False)(input)\n",
        "\n",
        "    channel_axis = 1 if K.image_data_format() == \"channels_first\" else -1\n",
        "\n",
        "    x = BatchNormalization(axis=channel_axis, momentum=0.1, epsilon=1e-5, gamma_initializer='uniform')(x)\n",
        "    x = Activation('relu')(x)\n",
        "    return x\n",
        "\n",
        "\n",
        "def expand_conv(init, base, k, strides=(1, 1)):\n",
        "    x = Convolution2D(base * k, (3, 3), padding='same', strides=strides, kernel_initializer='Orthogonal', kernel_constraint= tight_frame(0.0001),\n",
        "                      kernel_regularizer=l2(weight_decay),\n",
        "                      use_bias=False)(init)\n",
        "\n",
        "    channel_axis = 1 if K.image_data_format() == \"channels_first\" else -1\n",
        "\n",
        "    x = BatchNormalization(axis=channel_axis, momentum=0.1, epsilon=1e-5, gamma_initializer='uniform')(x)\n",
        "    x = Activation('relu')(x)\n",
        "\n",
        "    x = Convolution2D(base * k, (3, 3), padding='same', kernel_initializer='Orthogonal',\n",
        "                      kernel_constraint= tight_frame(0.0001),\n",
        "                      kernel_regularizer=l2(weight_decay),\n",
        "                      use_bias=False)(x)\n",
        "\n",
        "    skip = Convolution2D(base * k, (1, 1), padding='same', strides=strides, kernel_initializer='Orthogonal',\n",
        "                      kernel_constraint= tight_frame(0.0001),\n",
        "                      kernel_regularizer=l2(weight_decay),\n",
        "                      use_bias=False)(init)\n",
        "\n",
        "    m = Add()([x, skip])\n",
        "\n",
        "    return m\n",
        "\n",
        "\n",
        "def conv1_block(input, k=1, dropout=0.0):\n",
        "    init = input\n",
        "\n",
        "    channel_axis = 1 if K.image_data_format() == \"channels_first\" else -1\n",
        "\n",
        "    x = BatchNormalization(axis=channel_axis, momentum=0.1, epsilon=1e-5, gamma_initializer='uniform')(input)\n",
        "    x = Activation('relu')(x)\n",
        "    x = Convolution2D(16 * k, (3, 3), padding='same', kernel_initializer='Orthogonal',\n",
        "                      kernel_constraint= tight_frame(0.0001),\n",
        "                      kernel_regularizer=l2(weight_decay),\n",
        "                      use_bias=False)(x)\n",
        "\n",
        "    if dropout > 0.0: x = Dropout(dropout)(x)\n",
        "\n",
        "    x = BatchNormalization(axis=channel_axis, momentum=0.1, epsilon=1e-5, gamma_initializer='uniform')(x)\n",
        "    x = Activation('relu')(x)\n",
        "    x = Convolution2D(16 * k, (3, 3), padding='same', kernel_initializer='Orthogonal',\n",
        "                      kernel_constraint= tight_frame(0.0001),\n",
        "                      kernel_regularizer=l2(weight_decay),\n",
        "                      use_bias=False)(x)\n",
        "\n",
        "    m = Add()([init, x])\n",
        "    return m\n",
        "\n",
        "def conv2_block(input, k=1, dropout=0.0):\n",
        "    init = input\n",
        "\n",
        "    channel_axis = 1 if K.image_data_format() == \"channels_first\" else -1\n",
        "    print(\"conv2:channel:  {}\".format(channel_axis))\n",
        "    x = BatchNormalization(axis=channel_axis, momentum=0.1, epsilon=1e-5, gamma_initializer='uniform')(input)\n",
        "    x = Activation('relu')(x)\n",
        "    x = Convolution2D(32 * k, (3, 3), padding='same', kernel_initializer='Orthogonal',\n",
        "                      kernel_constraint= tight_frame(0.0001),\n",
        "                      kernel_regularizer=l2(weight_decay),\n",
        "                      use_bias=False)(x)\n",
        "\n",
        "    if dropout > 0.0: x = Dropout(dropout)(x)\n",
        "\n",
        "    x = BatchNormalization(axis=channel_axis, momentum=0.1, epsilon=1e-5, gamma_initializer='uniform')(x)\n",
        "    x = Activation('relu')(x)\n",
        "    x = Convolution2D(32 * k, (3, 3), padding='same', kernel_initializer='Orthogonal',\n",
        "                      kernel_constraint= tight_frame(0.0001),\n",
        "                      kernel_regularizer=l2(weight_decay),\n",
        "                      use_bias=False)(x)\n",
        "\n",
        "    m = Add()([init, x])\n",
        "    return m\n",
        "\n",
        "def conv3_block(input, k=1, dropout=0.0):\n",
        "    init = input\n",
        "\n",
        "    channel_axis = 1 if K.image_data_format() == \"channels_first\" else -1\n",
        "    print(\"conv3 channel_axis:{} \".format(channel_axis))\n",
        "    x = BatchNormalization(axis=channel_axis, momentum=0.1, epsilon=1e-5, gamma_initializer='uniform')(input)\n",
        "    x = Activation('relu')(x)\n",
        "    x = Convolution2D(64 * k, (3, 3), padding='same', kernel_initializer='Orthogonal',\n",
        "                      kernel_constraint= tight_frame(0.0001),\n",
        "                      kernel_regularizer=l2(weight_decay),\n",
        "                      use_bias=False)(x)\n",
        "\n",
        "    if dropout > 0.0: x = Dropout(dropout)(x)\n",
        "\n",
        "    x = BatchNormalization(axis=channel_axis, momentum=0.1, epsilon=1e-5, gamma_initializer='uniform')(x)\n",
        "    x = Activation('relu')(x)\n",
        "    x = Convolution2D(64 * k, (3, 3), padding='same', kernel_initializer='Orthogonal',\n",
        "                      kernel_constraint= tight_frame(0.0001),\n",
        "                      kernel_regularizer=l2(weight_decay),\n",
        "                      use_bias=False)(x)\n",
        "\n",
        "    m = Add()([init, x])\n",
        "    return m\n",
        "\n",
        "def create_parseval_network(input_dim, nb_classes=100, N=2, k=1, dropout=0.0, verbose=1):\n",
        "    \"\"\"\n",
        "    Creates a Wide Residual Network with specified parameters\n",
        "\n",
        "    :param input: Input Keras object\n",
        "    :param nb_classes: Number of output classes\n",
        "    :param N: Depth of the network. Compute N = (n - 4) / 6.\n",
        "              Example : For a depth of 16, n = 16, N = (16 - 4) / 6 = 2\n",
        "              Example2: For a depth of 28, n = 28, N = (28 - 4) / 6 = 4\n",
        "              Example3: For a depth of 40, n = 40, N = (40 - 4) / 6 = 6\n",
        "    :param k: Width of the network.\n",
        "    :param dropout: Adds dropout if value is greater than 0.0\n",
        "    :param verbose: Debug info to describe created WRN\n",
        "    :return:\n",
        "    \"\"\"\n",
        "    channel_axis = 1 if K.image_data_format() == \"channels_first\" else -1\n",
        "\n",
        "    ip = Input(shape=input_dim)\n",
        "\n",
        "    x = initial_conv(ip)\n",
        "    nb_conv = 4\n",
        "\n",
        "    x = expand_conv(x, 16, k)\n",
        "    nb_conv += 2\n",
        "\n",
        "    for i in range(N - 1):\n",
        "        x = conv1_block(x, k, dropout)\n",
        "        nb_conv += 2\n",
        "\n",
        "    x = BatchNormalization(axis=channel_axis, momentum=0.1, epsilon=1e-5, gamma_initializer='uniform')(x)\n",
        "    x = Activation('relu')(x)\n",
        "\n",
        "    x = expand_conv(x, 32, k, strides=(2, 2))\n",
        "    nb_conv += 2\n",
        "\n",
        "    for i in range(N - 1):\n",
        "        x = conv2_block(x, k, dropout)\n",
        "        nb_conv += 2\n",
        "\n",
        "    x = BatchNormalization(axis=channel_axis, momentum=0.1, epsilon=1e-5, gamma_initializer='uniform')(x)\n",
        "    x = Activation('relu')(x)\n",
        "\n",
        "    x = expand_conv(x, 64, k, strides=(2, 2))\n",
        "    nb_conv += 2\n",
        "\n",
        "    for i in range(N - 1):\n",
        "        x = conv3_block(x, k, dropout)\n",
        "        nb_conv += 2\n",
        "\n",
        "    x = BatchNormalization(axis=channel_axis, momentum=0.1, epsilon=1e-5, gamma_initializer='uniform')(x)\n",
        "    x = Activation('relu')(x)\n",
        "\n",
        "    x = AveragePooling2D((8, 8))(x)\n",
        "    x = Flatten()(x)\n",
        "\n",
        "    x = Dense(nb_classes, activation='softmax' )(x)\n",
        "\n",
        "    model = Model(ip, x)\n",
        "\n",
        "    if verbose: print(\"Parseval Residual Network-%d-%d created.\" % (nb_conv, k))\n",
        "    return model\n",
        "\n",
        "if __name__ == \"__main__\":\n",
        "\n",
        "    init = (32, 32,1)\n",
        "\n",
        "    parseval_16_2 = create_parseval_network(init, nb_classes=4, N=2, k=2, dropout=0.5)"
      ],
      "execution_count": 23,
      "outputs": [
        {
          "output_type": "stream",
          "text": [
            "conv2:channel:  -1\n",
            "conv3 channel_axis:-1 \n",
            "Parseval Residual Network-16-2 created.\n"
          ],
          "name": "stdout"
        }
      ]
    },
    {
      "cell_type": "code",
      "metadata": {
        "id": "BxyMKoeaBqPh",
        "colab_type": "code",
        "colab": {}
      },
      "source": [
        "from tensorflow.keras.preprocessing.image import ImageDataGenerator\n",
        "import tensorflow.keras.callbacks as callbacks\n"
      ],
      "execution_count": 0,
      "outputs": []
    },
    {
      "cell_type": "code",
      "metadata": {
        "id": "liiFrat1Bv1_",
        "colab_type": "code",
        "colab": {}
      },
      "source": [
        "EPOCHS = 100\n",
        "BS = 128\n"
      ],
      "execution_count": 0,
      "outputs": []
    },
    {
      "cell_type": "code",
      "metadata": {
        "id": "-ygMFWH8Bzfq",
        "colab_type": "code",
        "colab": {}
      },
      "source": [
        "from tensorflow.keras.callbacks import LearningRateScheduler\n",
        "import math\n",
        "from tensorflow.keras.optimizers import SGD\n",
        "\n",
        "sgd = SGD(lr=0.1, momentum=0.6)"
      ],
      "execution_count": 0,
      "outputs": []
    },
    {
      "cell_type": "code",
      "metadata": {
        "id": "WhUvPL0dB48O",
        "colab_type": "code",
        "outputId": "0f7c10b2-aa46-438f-eff9-f7041a0f6fdf",
        "colab": {
          "base_uri": "https://localhost:8080/",
          "height": 34
        }
      },
      "source": [
        "parseval_16_2.compile(loss=\"categorical_crossentropy\", optimizer=sgd, metrics=[\"acc\"])\n",
        "print(\"Finished compiling\")"
      ],
      "execution_count": 27,
      "outputs": [
        {
          "output_type": "stream",
          "text": [
            "Finished compiling\n"
          ],
          "name": "stdout"
        }
      ]
    },
    {
      "cell_type": "code",
      "metadata": {
        "id": "6JrJ7xy1Q5rS",
        "colab_type": "code",
        "colab": {}
      },
      "source": [
        "import tensorflow\n",
        "generator = tensorflow.keras.preprocessing.image.ImageDataGenerator(rotation_range=10,\n",
        "                               width_shift_range=5./32,\n",
        "                               height_shift_range=5./32,)"
      ],
      "execution_count": 0,
      "outputs": []
    },
    {
      "cell_type": "code",
      "metadata": {
        "id": "i4EpGTMG9jeP",
        "colab_type": "code",
        "colab": {}
      },
      "source": [
        "def lr_sch(epoch):\n",
        "    if epoch < 30:\n",
        "        return 0.1\n",
        "    elif epoch < 50:\n",
        "        return 0.01\n",
        "    elif epoch < 100:\n",
        "        return 0.001\n",
        "    else:\n",
        "        return 0.0001\n",
        "\n",
        "# Learning rate scheduler callback\n",
        "lr_scheduler = LearningRateScheduler(lr_sch)"
      ],
      "execution_count": 0,
      "outputs": []
    },
    {
      "cell_type": "code",
      "metadata": {
        "id": "9z0CbPY_24ns",
        "colab_type": "code",
        "outputId": "58ec021f-d297-4fc5-ec56-b4ba1d0887bc",
        "colab": {
          "base_uri": "https://localhost:8080/",
          "height": 1000
        }
      },
      "source": [
        "from tensorflow.keras.utils import to_categorical\n",
        "hist = parseval_16_2.fit(generator.flow(X_train, y_train, batch_size=BS), steps_per_epoch=len(X_train) // BS, epochs=EPOCHS,\n",
        "                   validation_data=(X_val, y_val),\n",
        "                   callbacks = [lr_scheduler],\n",
        "                   validation_steps=X_val.shape[0] // BS,)"
      ],
      "execution_count": 30,
      "outputs": [
        {
          "output_type": "stream",
          "text": [
            "Epoch 1/100\n",
            "36/36 [==============================] - 2s 52ms/step - loss: 1.4564 - acc: 0.3065 - val_loss: 1.4089 - val_acc: 0.3495 - lr: 0.1000\n",
            "Epoch 2/100\n",
            "36/36 [==============================] - 1s 37ms/step - loss: 1.3639 - acc: 0.3622 - val_loss: 1.3738 - val_acc: 0.3476 - lr: 0.1000\n",
            "Epoch 3/100\n",
            "36/36 [==============================] - 1s 38ms/step - loss: 1.3209 - acc: 0.3806 - val_loss: 1.3091 - val_acc: 0.3922 - lr: 0.1000\n",
            "Epoch 4/100\n",
            "36/36 [==============================] - 1s 38ms/step - loss: 1.3077 - acc: 0.3764 - val_loss: 1.3301 - val_acc: 0.3650 - lr: 0.1000\n",
            "Epoch 5/100\n",
            "36/36 [==============================] - 1s 37ms/step - loss: 1.3009 - acc: 0.3842 - val_loss: 1.3098 - val_acc: 0.3825 - lr: 0.1000\n",
            "Epoch 6/100\n",
            "36/36 [==============================] - 1s 38ms/step - loss: 1.2915 - acc: 0.3748 - val_loss: 1.3139 - val_acc: 0.3961 - lr: 0.1000\n",
            "Epoch 7/100\n",
            "36/36 [==============================] - 1s 38ms/step - loss: 1.2817 - acc: 0.3857 - val_loss: 1.2600 - val_acc: 0.4058 - lr: 0.1000\n",
            "Epoch 8/100\n",
            "36/36 [==============================] - 1s 38ms/step - loss: 1.2587 - acc: 0.4143 - val_loss: 1.3168 - val_acc: 0.3553 - lr: 0.1000\n",
            "Epoch 9/100\n",
            "36/36 [==============================] - 1s 37ms/step - loss: 1.2608 - acc: 0.4021 - val_loss: 1.2114 - val_acc: 0.4466 - lr: 0.1000\n",
            "Epoch 10/100\n",
            "36/36 [==============================] - 1s 38ms/step - loss: 1.2258 - acc: 0.4405 - val_loss: 1.2238 - val_acc: 0.4505 - lr: 0.1000\n",
            "Epoch 11/100\n",
            "36/36 [==============================] - 1s 39ms/step - loss: 1.1919 - acc: 0.4900 - val_loss: 1.1405 - val_acc: 0.5379 - lr: 0.1000\n",
            "Epoch 12/100\n",
            "36/36 [==============================] - 1s 38ms/step - loss: 1.1778 - acc: 0.5013 - val_loss: 1.1052 - val_acc: 0.5476 - lr: 0.1000\n",
            "Epoch 13/100\n",
            "36/36 [==============================] - 1s 39ms/step - loss: 1.1425 - acc: 0.5169 - val_loss: 1.2320 - val_acc: 0.4544 - lr: 0.1000\n",
            "Epoch 14/100\n",
            "36/36 [==============================] - 1s 39ms/step - loss: 1.0883 - acc: 0.5530 - val_loss: 1.0474 - val_acc: 0.5864 - lr: 0.1000\n",
            "Epoch 15/100\n",
            "36/36 [==============================] - 1s 39ms/step - loss: 1.0652 - acc: 0.5566 - val_loss: 1.0638 - val_acc: 0.5670 - lr: 0.1000\n",
            "Epoch 16/100\n",
            "36/36 [==============================] - 1s 38ms/step - loss: 1.0622 - acc: 0.5632 - val_loss: 0.9808 - val_acc: 0.5903 - lr: 0.1000\n",
            "Epoch 17/100\n",
            "36/36 [==============================] - 1s 39ms/step - loss: 0.9906 - acc: 0.5983 - val_loss: 0.9787 - val_acc: 0.6233 - lr: 0.1000\n",
            "Epoch 18/100\n",
            "36/36 [==============================] - 1s 39ms/step - loss: 0.9828 - acc: 0.6030 - val_loss: 0.9639 - val_acc: 0.6252 - lr: 0.1000\n",
            "Epoch 19/100\n",
            "36/36 [==============================] - 1s 38ms/step - loss: 0.9259 - acc: 0.6225 - val_loss: 1.0869 - val_acc: 0.5592 - lr: 0.1000\n",
            "Epoch 20/100\n",
            "36/36 [==============================] - 1s 38ms/step - loss: 0.9132 - acc: 0.6332 - val_loss: 1.0777 - val_acc: 0.5612 - lr: 0.1000\n",
            "Epoch 21/100\n",
            "36/36 [==============================] - 1s 38ms/step - loss: 0.8728 - acc: 0.6576 - val_loss: 0.8728 - val_acc: 0.6835 - lr: 0.1000\n",
            "Epoch 22/100\n",
            "36/36 [==============================] - 1s 38ms/step - loss: 0.8247 - acc: 0.6775 - val_loss: 0.9223 - val_acc: 0.6408 - lr: 0.1000\n",
            "Epoch 23/100\n",
            "36/36 [==============================] - 1s 37ms/step - loss: 0.7996 - acc: 0.6924 - val_loss: 0.8214 - val_acc: 0.6874 - lr: 0.1000\n",
            "Epoch 24/100\n",
            "36/36 [==============================] - 1s 39ms/step - loss: 0.7895 - acc: 0.6980 - val_loss: 0.9149 - val_acc: 0.6330 - lr: 0.1000\n",
            "Epoch 25/100\n",
            "36/36 [==============================] - 1s 38ms/step - loss: 0.7614 - acc: 0.7020 - val_loss: 0.7980 - val_acc: 0.6874 - lr: 0.1000\n",
            "Epoch 26/100\n",
            "36/36 [==============================] - 1s 38ms/step - loss: 0.7558 - acc: 0.7113 - val_loss: 0.9112 - val_acc: 0.6466 - lr: 0.1000\n",
            "Epoch 27/100\n",
            "36/36 [==============================] - 1s 38ms/step - loss: 0.7463 - acc: 0.7095 - val_loss: 1.0880 - val_acc: 0.5806 - lr: 0.1000\n",
            "Epoch 28/100\n",
            "36/36 [==============================] - 1s 38ms/step - loss: 0.7249 - acc: 0.7241 - val_loss: 0.8539 - val_acc: 0.6699 - lr: 0.1000\n",
            "Epoch 29/100\n",
            "36/36 [==============================] - 1s 37ms/step - loss: 0.7006 - acc: 0.7377 - val_loss: 0.9150 - val_acc: 0.6524 - lr: 0.1000\n",
            "Epoch 30/100\n",
            "36/36 [==============================] - 1s 38ms/step - loss: 0.6907 - acc: 0.7375 - val_loss: 0.9627 - val_acc: 0.6466 - lr: 0.1000\n",
            "Epoch 31/100\n",
            "36/36 [==============================] - 1s 38ms/step - loss: 0.6313 - acc: 0.7632 - val_loss: 0.7737 - val_acc: 0.6971 - lr: 0.0100\n",
            "Epoch 32/100\n",
            "36/36 [==============================] - 1s 38ms/step - loss: 0.5732 - acc: 0.7923 - val_loss: 0.7423 - val_acc: 0.7301 - lr: 0.0100\n",
            "Epoch 33/100\n",
            "36/36 [==============================] - 1s 37ms/step - loss: 0.5649 - acc: 0.7876 - val_loss: 0.7551 - val_acc: 0.7282 - lr: 0.0100\n",
            "Epoch 34/100\n",
            "36/36 [==============================] - 1s 38ms/step - loss: 0.5538 - acc: 0.7934 - val_loss: 0.7381 - val_acc: 0.7379 - lr: 0.0100\n",
            "Epoch 35/100\n",
            "36/36 [==============================] - 1s 38ms/step - loss: 0.5458 - acc: 0.8023 - val_loss: 0.7247 - val_acc: 0.7204 - lr: 0.0100\n",
            "Epoch 36/100\n",
            "36/36 [==============================] - 1s 37ms/step - loss: 0.5244 - acc: 0.8054 - val_loss: 0.7228 - val_acc: 0.7359 - lr: 0.0100\n",
            "Epoch 37/100\n",
            "36/36 [==============================] - 1s 38ms/step - loss: 0.5321 - acc: 0.8014 - val_loss: 0.7167 - val_acc: 0.7184 - lr: 0.0100\n",
            "Epoch 38/100\n",
            "36/36 [==============================] - 1s 37ms/step - loss: 0.5172 - acc: 0.8083 - val_loss: 0.7660 - val_acc: 0.7223 - lr: 0.0100\n",
            "Epoch 39/100\n",
            "36/36 [==============================] - 1s 37ms/step - loss: 0.5019 - acc: 0.8138 - val_loss: 0.7432 - val_acc: 0.7456 - lr: 0.0100\n",
            "Epoch 40/100\n",
            "36/36 [==============================] - 1s 38ms/step - loss: 0.4833 - acc: 0.8267 - val_loss: 0.7321 - val_acc: 0.7437 - lr: 0.0100\n",
            "Epoch 41/100\n",
            "36/36 [==============================] - 1s 37ms/step - loss: 0.4954 - acc: 0.8196 - val_loss: 0.7197 - val_acc: 0.7515 - lr: 0.0100\n",
            "Epoch 42/100\n",
            "36/36 [==============================] - 1s 38ms/step - loss: 0.4939 - acc: 0.8185 - val_loss: 0.7080 - val_acc: 0.7398 - lr: 0.0100\n",
            "Epoch 43/100\n",
            "36/36 [==============================] - 1s 38ms/step - loss: 0.4799 - acc: 0.8320 - val_loss: 0.7703 - val_acc: 0.7301 - lr: 0.0100\n",
            "Epoch 44/100\n",
            "36/36 [==============================] - 1s 37ms/step - loss: 0.4661 - acc: 0.8280 - val_loss: 0.7402 - val_acc: 0.7398 - lr: 0.0100\n",
            "Epoch 45/100\n",
            "36/36 [==============================] - 1s 38ms/step - loss: 0.4699 - acc: 0.8358 - val_loss: 0.7234 - val_acc: 0.7573 - lr: 0.0100\n",
            "Epoch 46/100\n",
            "36/36 [==============================] - 1s 38ms/step - loss: 0.4610 - acc: 0.8256 - val_loss: 0.7157 - val_acc: 0.7612 - lr: 0.0100\n",
            "Epoch 47/100\n",
            "36/36 [==============================] - 1s 37ms/step - loss: 0.4568 - acc: 0.8320 - val_loss: 0.7443 - val_acc: 0.7592 - lr: 0.0100\n",
            "Epoch 48/100\n",
            "36/36 [==============================] - 1s 38ms/step - loss: 0.4547 - acc: 0.8358 - val_loss: 0.7235 - val_acc: 0.7495 - lr: 0.0100\n",
            "Epoch 49/100\n",
            "36/36 [==============================] - 1s 37ms/step - loss: 0.4643 - acc: 0.8336 - val_loss: 0.7441 - val_acc: 0.7592 - lr: 0.0100\n",
            "Epoch 50/100\n",
            "36/36 [==============================] - 1s 39ms/step - loss: 0.4508 - acc: 0.8322 - val_loss: 0.7580 - val_acc: 0.7534 - lr: 0.0100\n",
            "Epoch 51/100\n",
            "36/36 [==============================] - 1s 38ms/step - loss: 0.4180 - acc: 0.8518 - val_loss: 0.7055 - val_acc: 0.7650 - lr: 0.0010\n",
            "Epoch 52/100\n",
            "36/36 [==============================] - 1s 38ms/step - loss: 0.3966 - acc: 0.8595 - val_loss: 0.7088 - val_acc: 0.7612 - lr: 0.0010\n",
            "Epoch 53/100\n",
            "36/36 [==============================] - 1s 38ms/step - loss: 0.3979 - acc: 0.8604 - val_loss: 0.7078 - val_acc: 0.7553 - lr: 0.0010\n",
            "Epoch 54/100\n",
            "36/36 [==============================] - 1s 38ms/step - loss: 0.3897 - acc: 0.8646 - val_loss: 0.7316 - val_acc: 0.7534 - lr: 0.0010\n",
            "Epoch 55/100\n",
            "36/36 [==============================] - 1s 38ms/step - loss: 0.3823 - acc: 0.8615 - val_loss: 0.7460 - val_acc: 0.7592 - lr: 0.0010\n",
            "Epoch 56/100\n",
            "36/36 [==============================] - 1s 38ms/step - loss: 0.3918 - acc: 0.8564 - val_loss: 0.6834 - val_acc: 0.7534 - lr: 0.0010\n",
            "Epoch 57/100\n",
            "36/36 [==============================] - 1s 38ms/step - loss: 0.3876 - acc: 0.8631 - val_loss: 0.7106 - val_acc: 0.7612 - lr: 0.0010\n",
            "Epoch 58/100\n",
            "36/36 [==============================] - 1s 38ms/step - loss: 0.3815 - acc: 0.8637 - val_loss: 0.6926 - val_acc: 0.7670 - lr: 0.0010\n",
            "Epoch 59/100\n",
            "36/36 [==============================] - 1s 38ms/step - loss: 0.3802 - acc: 0.8675 - val_loss: 0.6914 - val_acc: 0.7631 - lr: 0.0010\n",
            "Epoch 60/100\n",
            "36/36 [==============================] - 1s 38ms/step - loss: 0.3734 - acc: 0.8744 - val_loss: 0.6804 - val_acc: 0.7689 - lr: 0.0010\n",
            "Epoch 61/100\n",
            "36/36 [==============================] - 1s 38ms/step - loss: 0.3788 - acc: 0.8711 - val_loss: 0.6911 - val_acc: 0.7612 - lr: 0.0010\n",
            "Epoch 62/100\n",
            "36/36 [==============================] - 1s 38ms/step - loss: 0.3691 - acc: 0.8684 - val_loss: 0.7084 - val_acc: 0.7631 - lr: 0.0010\n",
            "Epoch 63/100\n",
            "36/36 [==============================] - 1s 38ms/step - loss: 0.3709 - acc: 0.8693 - val_loss: 0.7493 - val_acc: 0.7631 - lr: 0.0010\n",
            "Epoch 64/100\n",
            "36/36 [==============================] - 1s 38ms/step - loss: 0.3692 - acc: 0.8700 - val_loss: 0.7070 - val_acc: 0.7631 - lr: 0.0010\n",
            "Epoch 65/100\n",
            "36/36 [==============================] - 1s 37ms/step - loss: 0.3662 - acc: 0.8717 - val_loss: 0.6816 - val_acc: 0.7709 - lr: 0.0010\n",
            "Epoch 66/100\n",
            "36/36 [==============================] - 1s 38ms/step - loss: 0.3677 - acc: 0.8764 - val_loss: 0.7265 - val_acc: 0.7592 - lr: 0.0010\n",
            "Epoch 67/100\n",
            "36/36 [==============================] - 1s 38ms/step - loss: 0.3660 - acc: 0.8744 - val_loss: 0.6922 - val_acc: 0.7670 - lr: 0.0010\n",
            "Epoch 68/100\n",
            "36/36 [==============================] - 1s 38ms/step - loss: 0.3612 - acc: 0.8715 - val_loss: 0.7432 - val_acc: 0.7650 - lr: 0.0010\n",
            "Epoch 69/100\n",
            "36/36 [==============================] - 1s 39ms/step - loss: 0.3581 - acc: 0.8711 - val_loss: 0.7050 - val_acc: 0.7650 - lr: 0.0010\n",
            "Epoch 70/100\n",
            "36/36 [==============================] - 1s 38ms/step - loss: 0.3598 - acc: 0.8757 - val_loss: 0.7271 - val_acc: 0.7612 - lr: 0.0010\n",
            "Epoch 71/100\n",
            "36/36 [==============================] - 1s 39ms/step - loss: 0.3584 - acc: 0.8759 - val_loss: 0.6869 - val_acc: 0.7689 - lr: 0.0010\n",
            "Epoch 72/100\n",
            "36/36 [==============================] - 1s 38ms/step - loss: 0.3463 - acc: 0.8802 - val_loss: 0.7146 - val_acc: 0.7709 - lr: 0.0010\n",
            "Epoch 73/100\n",
            "36/36 [==============================] - 1s 38ms/step - loss: 0.3603 - acc: 0.8722 - val_loss: 0.7191 - val_acc: 0.7553 - lr: 0.0010\n",
            "Epoch 74/100\n",
            "36/36 [==============================] - 1s 38ms/step - loss: 0.3479 - acc: 0.8804 - val_loss: 0.7240 - val_acc: 0.7670 - lr: 0.0010\n",
            "Epoch 75/100\n",
            "36/36 [==============================] - 1s 38ms/step - loss: 0.3460 - acc: 0.8788 - val_loss: 0.7429 - val_acc: 0.7592 - lr: 0.0010\n",
            "Epoch 76/100\n",
            "36/36 [==============================] - 1s 38ms/step - loss: 0.3555 - acc: 0.8735 - val_loss: 0.7045 - val_acc: 0.7748 - lr: 0.0010\n",
            "Epoch 77/100\n",
            "36/36 [==============================] - 1s 38ms/step - loss: 0.3425 - acc: 0.8806 - val_loss: 0.7680 - val_acc: 0.7612 - lr: 0.0010\n",
            "Epoch 78/100\n",
            "36/36 [==============================] - 1s 38ms/step - loss: 0.3364 - acc: 0.8810 - val_loss: 0.7434 - val_acc: 0.7689 - lr: 0.0010\n",
            "Epoch 79/100\n",
            "36/36 [==============================] - 1s 39ms/step - loss: 0.3432 - acc: 0.8795 - val_loss: 0.6854 - val_acc: 0.7689 - lr: 0.0010\n",
            "Epoch 80/100\n",
            "36/36 [==============================] - 1s 38ms/step - loss: 0.3391 - acc: 0.8773 - val_loss: 0.7040 - val_acc: 0.7709 - lr: 0.0010\n",
            "Epoch 81/100\n",
            "36/36 [==============================] - 1s 38ms/step - loss: 0.3375 - acc: 0.8848 - val_loss: 0.7413 - val_acc: 0.7748 - lr: 0.0010\n",
            "Epoch 82/100\n",
            "36/36 [==============================] - 1s 38ms/step - loss: 0.3264 - acc: 0.8884 - val_loss: 0.7349 - val_acc: 0.7650 - lr: 0.0010\n",
            "Epoch 83/100\n",
            "36/36 [==============================] - 1s 38ms/step - loss: 0.3339 - acc: 0.8866 - val_loss: 0.7102 - val_acc: 0.7709 - lr: 0.0010\n",
            "Epoch 84/100\n",
            "36/36 [==============================] - 1s 37ms/step - loss: 0.3381 - acc: 0.8764 - val_loss: 0.7501 - val_acc: 0.7592 - lr: 0.0010\n",
            "Epoch 85/100\n",
            "36/36 [==============================] - 1s 38ms/step - loss: 0.3297 - acc: 0.8828 - val_loss: 0.7081 - val_acc: 0.7592 - lr: 0.0010\n",
            "Epoch 86/100\n",
            "36/36 [==============================] - 1s 38ms/step - loss: 0.3305 - acc: 0.8842 - val_loss: 0.7284 - val_acc: 0.7670 - lr: 0.0010\n",
            "Epoch 87/100\n",
            "36/36 [==============================] - 1s 38ms/step - loss: 0.3260 - acc: 0.8870 - val_loss: 0.7117 - val_acc: 0.7650 - lr: 0.0010\n",
            "Epoch 88/100\n",
            "36/36 [==============================] - 1s 38ms/step - loss: 0.3185 - acc: 0.8873 - val_loss: 0.9344 - val_acc: 0.7320 - lr: 0.0010\n",
            "Epoch 89/100\n",
            "36/36 [==============================] - 1s 37ms/step - loss: 0.3168 - acc: 0.8930 - val_loss: 0.7315 - val_acc: 0.7650 - lr: 0.0010\n",
            "Epoch 90/100\n",
            "36/36 [==============================] - 1s 38ms/step - loss: 0.3215 - acc: 0.8901 - val_loss: 0.7072 - val_acc: 0.7806 - lr: 0.0010\n",
            "Epoch 91/100\n",
            "36/36 [==============================] - 1s 38ms/step - loss: 0.3170 - acc: 0.8886 - val_loss: 0.7435 - val_acc: 0.7728 - lr: 0.0010\n",
            "Epoch 92/100\n",
            "36/36 [==============================] - 1s 38ms/step - loss: 0.3260 - acc: 0.8866 - val_loss: 0.7284 - val_acc: 0.7728 - lr: 0.0010\n",
            "Epoch 93/100\n",
            "36/36 [==============================] - 1s 37ms/step - loss: 0.3126 - acc: 0.8884 - val_loss: 0.7027 - val_acc: 0.7650 - lr: 0.0010\n",
            "Epoch 94/100\n",
            "36/36 [==============================] - 1s 38ms/step - loss: 0.3196 - acc: 0.8848 - val_loss: 0.7252 - val_acc: 0.7748 - lr: 0.0010\n",
            "Epoch 95/100\n",
            "36/36 [==============================] - 1s 38ms/step - loss: 0.3085 - acc: 0.8979 - val_loss: 0.7563 - val_acc: 0.7689 - lr: 0.0010\n",
            "Epoch 96/100\n",
            "36/36 [==============================] - 1s 38ms/step - loss: 0.3105 - acc: 0.8950 - val_loss: 0.7820 - val_acc: 0.7553 - lr: 0.0010\n",
            "Epoch 97/100\n",
            "36/36 [==============================] - 1s 37ms/step - loss: 0.3075 - acc: 0.8959 - val_loss: 0.7441 - val_acc: 0.7650 - lr: 0.0010\n",
            "Epoch 98/100\n",
            "36/36 [==============================] - 1s 38ms/step - loss: 0.3067 - acc: 0.8910 - val_loss: 0.6999 - val_acc: 0.7709 - lr: 0.0010\n",
            "Epoch 99/100\n",
            "36/36 [==============================] - 1s 39ms/step - loss: 0.3053 - acc: 0.8966 - val_loss: 0.7564 - val_acc: 0.7612 - lr: 0.0010\n",
            "Epoch 100/100\n",
            "36/36 [==============================] - 1s 39ms/step - loss: 0.2945 - acc: 0.9006 - val_loss: 0.7766 - val_acc: 0.7631 - lr: 0.0010\n"
          ],
          "name": "stdout"
        }
      ]
    },
    {
      "cell_type": "code",
      "metadata": {
        "id": "MNGXxJTQq-UD",
        "colab_type": "code",
        "colab": {}
      },
      "source": [
        ""
      ],
      "execution_count": 0,
      "outputs": []
    },
    {
      "cell_type": "code",
      "metadata": {
        "id": "y-QerZ4RN91R",
        "colab_type": "code",
        "outputId": "6307320a-ebe1-4fee-d008-a9bfd063d054",
        "colab": {
          "base_uri": "https://localhost:8080/",
          "height": 282
        }
      },
      "source": [
        "from matplotlib import  pyplot\n",
        "\n",
        "pyplot.plot(hist.history[\"acc\"], label='train')\n",
        "pyplot.plot(hist.history['val_acc'], label='test')"
      ],
      "execution_count": 31,
      "outputs": [
        {
          "output_type": "execute_result",
          "data": {
            "text/plain": [
              "[<matplotlib.lines.Line2D at 0x7f68c43e24e0>]"
            ]
          },
          "metadata": {
            "tags": []
          },
          "execution_count": 31
        },
        {
          "output_type": "display_data",
          "data": {
            "image/png": "[encoded data removed]",
            "text/plain": [
              "<Figure size 432x288 with 1 Axes>"
            ]
          },
          "metadata": {
            "tags": [],
            "needs_background": "light"
          }
        }
      ]
    },
    {
      "cell_type": "code",
      "metadata": {
        "id": "xeg6MBf-GSgC",
        "colab_type": "code",
        "colab": {}
      },
      "source": [
        "test_err = [1.0-x for x in hist.history['val_acc']]"
      ],
      "execution_count": 0,
      "outputs": []
    },
    {
      "cell_type": "code",
      "metadata": {
        "id": "KC6DagsghRg8",
        "colab_type": "code",
        "outputId": "e78c8f42-334d-470d-9911-ee35dd148153",
        "colab": {
          "base_uri": "https://localhost:8080/",
          "height": 295
        }
      },
      "source": [
        "# summarize history for loss\n",
        "pyplot.plot(hist.history['loss'])\n",
        "pyplot.plot(hist.history['val_loss'])\n",
        "pyplot.title('model loss')\n",
        "pyplot.ylabel('loss')\n",
        "pyplot.xlabel('epoch')\n",
        "pyplot.legend(['train', 'test'], loc='upper left')\n",
        "pyplot.show()\n"
      ],
      "execution_count": 34,
      "outputs": [
        {
          "output_type": "display_data",
          "data": {
            "image/png": "[encoded data removed]",
            "text/plain": [
              "<Figure size 432x288 with 1 Axes>"
            ]
          },
          "metadata": {
            "tags": [],
            "needs_background": "light"
          }
        }
      ]
    },
    {
      "cell_type": "code",
      "metadata": {
        "id": "RgiKT6i5GiJ9",
        "colab_type": "code",
        "outputId": "c1428d2d-f974-4ee5-ee88-14abf34a7670",
        "colab": {
          "base_uri": "https://localhost:8080/",
          "height": 265
        }
      },
      "source": [
        "pyplot.plot(test_err, label='test')\n",
        "pyplot.savefig(\"deneme_err.png\")"
      ],
      "execution_count": 0,
      "outputs": [
        {
          "output_type": "display_data",
          "data": {
            "image/png": "[encoded data removed]",
            "text/plain": [
              "<Figure size 432x288 with 1 Axes>"
            ]
          },
          "metadata": {
            "tags": [],
            "needs_background": "light"
          }
        }
      ]
    },
    {
      "cell_type": "code",
      "metadata": {
        "id": "l4-IJ9Z-dQKF",
        "colab_type": "code",
        "colab": {}
      },
      "source": [
        "import tensorflow as tf\n",
        "parseval_16_2.save(\"parseval_OC.h5\")"
      ],
      "execution_count": 0,
      "outputs": []
    },
    {
      "cell_type": "code",
      "metadata": {
        "id": "MqddlwbmEV9s",
        "colab_type": "code",
        "colab": {}
      },
      "source": [
        "y_pred = parseval_16_2.predict(X_test)"
      ],
      "execution_count": 0,
      "outputs": []
    },
    {
      "cell_type": "code",
      "metadata": {
        "id": "C9Ysop6NFDbs",
        "colab_type": "code",
        "outputId": "899b161c-b36a-422a-bb0c-c29d84a461fa",
        "colab": {
          "base_uri": "https://localhost:8080/",
          "height": 52
        }
      },
      "source": [
        "parseval_16_2.evaluate(X_test,y_test)"
      ],
      "execution_count": 0,
      "outputs": [
        {
          "output_type": "stream",
          "text": [
            "18/18 [==============================] - 0s 20ms/step - loss: 0.6819 - acc: 0.7906\n"
          ],
          "name": "stdout"
        },
        {
          "output_type": "execute_result",
          "data": {
            "text/plain": [
              "[0.681878387928009, 0.7905759215354919]"
            ]
          },
          "metadata": {
            "tags": []
          },
          "execution_count": 49
        }
      ]
    },
    {
      "cell_type": "code",
      "metadata": {
        "id": "THYCAlBW15Kg",
        "colab_type": "code",
        "colab": {
          "base_uri": "https://localhost:8080/",
          "height": 749
        },
        "outputId": "8188713f-e5cc-4be0-fab6-e52f85503b2d"
      },
      "source": [
        "!pip install -q tensorflow==2.0.0b1\n",
        "# Install bleeding edge version of cleverhans\n",
        "!pip install git+https://github.com/tensorflow/cleverhans.git#egg=cleverhans\n",
        "\n",
        "import cleverhans\n",
        "import tensorflow as tf\n",
        "import numpy as np\n",
        "import matplotlib.pyplot as plt\n",
        "\n",
        "print(\"\\nTensorflow Version: \" + tf.__version__)\n",
        "print(\"Cleverhans Version: \" + cleverhans.__version__)\n",
        "print(\"GPU Available: \", tf.test.is_gpu_available())"
      ],
      "execution_count": 35,
      "outputs": [
        {
          "output_type": "stream",
          "text": [
            "\u001b[K     |████████████████████████████████| 87.9MB 51kB/s \n",
            "\u001b[K     |████████████████████████████████| 3.1MB 52.7MB/s \n",
            "\u001b[K     |████████████████████████████████| 501kB 53.2MB/s \n",
            "\u001b[?25hCollecting cleverhans\n",
            "  Cloning https://github.com/tensorflow/cleverhans.git to /tmp/pip-install-m3d6b2dj/cleverhans\n",
            "  Running command git clone -q https://github.com/tensorflow/cleverhans.git /tmp/pip-install-m3d6b2dj/cleverhans\n",
            "Collecting nose\n",
            "\u001b[?25l  Downloading https://files.pythonhosted.org/packages/15/d8/dd071918c040f50fa1cf80da16423af51ff8ce4a0f2399b7bf8de45ac3d9/nose-1.3.7-py3-none-any.whl (154kB)\n",
            "\u001b[K     |████████████████████████████████| 163kB 3.9MB/s \n",
            "\u001b[?25hCollecting pycodestyle\n",
            "\u001b[?25l  Downloading https://files.pythonhosted.org/packages/10/5b/88879fb861ab79aef45c7e199cae3ef7af487b5603dcb363517a50602dd7/pycodestyle-2.6.0-py2.py3-none-any.whl (41kB)\n",
            "\u001b[K     |████████████████████████████████| 51kB 8.3MB/s \n",
            "\u001b[?25hRequirement already satisfied: scipy in /usr/local/lib/python3.6/dist-packages (from cleverhans) (1.4.1)\n",
            "Requirement already satisfied: matplotlib in /usr/local/lib/python3.6/dist-packages (from cleverhans) (3.2.1)\n",
            "Collecting mnist~=0.2\n",
            "  Downloading https://files.pythonhosted.org/packages/c6/c4/5db3bfe009f8d71f1d532bbadbd0ec203764bba3a469e4703a889db8e5e0/mnist-0.2.2-py2.py3-none-any.whl\n",
            "Requirement already satisfied: numpy in /usr/local/lib/python3.6/dist-packages (from cleverhans) (1.18.5)\n",
            "Requirement already satisfied: tensorflow-probability in /usr/local/lib/python3.6/dist-packages (from cleverhans) (0.10.0)\n",
            "Requirement already satisfied: joblib in /usr/local/lib/python3.6/dist-packages (from cleverhans) (0.15.1)\n",
            "Requirement already satisfied: pyparsing!=2.0.4,!=2.1.2,!=2.1.6,>=2.0.1 in /usr/local/lib/python3.6/dist-packages (from matplotlib->cleverhans) (2.4.7)\n",
            "Requirement already satisfied: python-dateutil>=2.1 in /usr/local/lib/python3.6/dist-packages (from matplotlib->cleverhans) (2.8.1)\n",
            "Requirement already satisfied: cycler>=0.10 in /usr/local/lib/python3.6/dist-packages (from matplotlib->cleverhans) (0.10.0)\n",
            "Requirement already satisfied: kiwisolver>=1.0.1 in /usr/local/lib/python3.6/dist-packages (from matplotlib->cleverhans) (1.2.0)\n",
            "Requirement already satisfied: gast>=0.3.2 in /usr/local/lib/python3.6/dist-packages (from tensorflow-probability->cleverhans) (0.3.3)\n",
            "Requirement already satisfied: six>=1.10.0 in /usr/local/lib/python3.6/dist-packages (from tensorflow-probability->cleverhans) (1.12.0)\n",
            "Requirement already satisfied: decorator in /usr/local/lib/python3.6/dist-packages (from tensorflow-probability->cleverhans) (4.4.2)\n",
            "Requirement already satisfied: cloudpickle>=1.2.2 in /usr/local/lib/python3.6/dist-packages (from tensorflow-probability->cleverhans) (1.3.0)\n",
            "Building wheels for collected packages: cleverhans\n",
            "  Building wheel for cleverhans (setup.py) ... \u001b[?25l\u001b[?25hdone\n",
            "  Created wheel for cleverhans: filename=cleverhans-3.0.1-cp36-none-any.whl size=262572 sha256=5e1cd89360cea77205575de396f3f63f541aff37077db008118d536e683ddfde\n",
            "  Stored in directory: /tmp/pip-ephem-wheel-cache-sxqixm7o/wheels/6e/59/ec/723a6f654aaf62c8c40f0f0850fdf71a4948598697f56c3bfa\n",
            "Successfully built cleverhans\n",
            "Installing collected packages: nose, pycodestyle, mnist, cleverhans\n",
            "Successfully installed cleverhans-3.0.1 mnist-0.2.2 nose-1.3.7 pycodestyle-2.6.0\n",
            "\n",
            "Tensorflow Version: 2.2.0\n",
            "Cleverhans Version: 3.0.1-fc7b7c7ec903258e0e3fb88503fa629f\n",
            "WARNING:tensorflow:From <ipython-input-35-67a2c783edbc>:12: is_gpu_available (from tensorflow.python.framework.test_util) is deprecated and will be removed in a future version.\n",
            "Instructions for updating:\n",
            "Use `tf.config.list_physical_devices('GPU')` instead.\n",
            "GPU Available:  True\n"
          ],
          "name": "stdout"
        }
      ]
    },
    {
      "cell_type": "code",
      "metadata": {
        "id": "ZNev4Y9U2sFQ",
        "colab_type": "code",
        "colab": {}
      },
      "source": [
        "from cleverhans.future.tf2.attacks import fast_gradient_method\n",
        "\n",
        "#The attack requires the model to ouput the logits\n",
        "logits_model = tf.keras.Model(parseval_16_2.input,parseval_16_2.layers[-1].output)"
      ],
      "execution_count": 0,
      "outputs": []
    },
    {
      "cell_type": "markdown",
      "metadata": {
        "id": "TKoVsxZDOxyL",
        "colab_type": "text"
      },
      "source": [
        "**Non-Adversarial Training**"
      ]
    },
    {
      "cell_type": "code",
      "metadata": {
        "id": "d78MYsOGOw-_",
        "colab_type": "code",
        "colab": {}
      },
      "source": [
        "X_adv = []\n",
        "epsilon_list = [0.001]\n",
        "for j in range(len(epsilon_list)):\n",
        "  epsilon = epsilon_list[j]\n",
        "  for i in range(len(X_test)):\n",
        "    random_index = i\n",
        "    original_image = X_test[random_index]\n",
        "    original_image = tf.convert_to_tensor(original_image.reshape((1,32,32))) #The .reshape just gives it the proper form to input into the model, a batch of 1 a.k.a a tensor\n",
        "    original_label = y_test[random_index]\n",
        "    original_label = np.reshape(np.argmax(original_label), (1,)).astype('int64')\n",
        "    adv_example_targeted_label = fast_gradient_method(logits_model, original_image, epsilon, np.inf, targeted=False)\n",
        "    X_adv.append(np.array(adv_example_targeted_label).reshape(32,32,1))"
      ],
      "execution_count": 0,
      "outputs": []
    },
    {
      "cell_type": "code",
      "metadata": {
        "id": "ywDcf7XYcxBq",
        "colab_type": "code",
        "colab": {
          "base_uri": "https://localhost:8080/",
          "height": 52
        },
        "outputId": "098f180b-af25-4e67-c431-a85d038e840b"
      },
      "source": [
        "  X_adv = np.array(X_adv)\n",
        "  print(\"epsilon: {} and test evalution : {}\".format(epsilon,parseval_16_2.evaluate(X_adv,y_test)))"
      ],
      "execution_count": 127,
      "outputs": [
        {
          "output_type": "stream",
          "text": [
            "18/18 [==============================] - 0s 4ms/step - loss: 4.2711 - acc: 0.2304\n",
            "epsilon: 0.1 and test evalution : [4.2711100578308105, 0.23036649823188782]\n"
          ],
          "name": "stdout"
        }
      ]
    },
    {
      "cell_type": "code",
      "metadata": {
        "id": "K9IhlHJpcxrC",
        "colab_type": "code",
        "colab": {
          "base_uri": "https://localhost:8080/",
          "height": 52
        },
        "outputId": "bb3064af-f71a-44ee-c880-f7f77ae34f21"
      },
      "source": [
        "  X_adv = np.array(X_adv)\n",
        "  print(\"epsilon: {} and test evalution : {}\".format(epsilon,parseval_16_2.evaluate(X_adv,y_test)))"
      ],
      "execution_count": 129,
      "outputs": [
        {
          "output_type": "stream",
          "text": [
            "18/18 [==============================] - 0s 4ms/step - loss: 0.8359 - acc: 0.6545\n",
            "epsilon: 0.01 and test evalution : [0.8358755111694336, 0.6544502377510071]\n"
          ],
          "name": "stdout"
        }
      ]
    },
    {
      "cell_type": "code",
      "metadata": {
        "id": "CByMGpWJcveZ",
        "colab_type": "code",
        "colab": {
          "base_uri": "https://localhost:8080/",
          "height": 52
        },
        "outputId": "bd988d21-eb25-4295-fa8a-18f8c1831063"
      },
      "source": [
        "  X_adv = np.array(X_adv)\n",
        "  print(\"epsilon: {} and test evalution : {}\".format(epsilon,parseval_16_2.evaluate(X_adv,y_test)))"
      ],
      "execution_count": 131,
      "outputs": [
        {
          "output_type": "stream",
          "text": [
            "18/18 [==============================] - 0s 4ms/step - loss: 0.7043 - acc: 0.7609\n",
            "epsilon: 0.001 and test evalution : [0.7043264508247375, 0.7609075307846069]\n"
          ],
          "name": "stdout"
        }
      ]
    },
    {
      "cell_type": "code",
      "metadata": {
        "id": "x-EpXP0FTBtT",
        "colab_type": "code",
        "colab": {}
      },
      "source": [
        ""
      ],
      "execution_count": 0,
      "outputs": []
    },
    {
      "cell_type": "code",
      "metadata": {
        "id": "X9tfiGAXZkdQ",
        "colab_type": "code",
        "colab": {
          "base_uri": "https://localhost:8080/",
          "height": 34
        },
        "outputId": "5cbfc37a-5747-4731-8959-ae90a1eeff25"
      },
      "source": [
        "X_adv.shape"
      ],
      "execution_count": 121,
      "outputs": [
        {
          "output_type": "execute_result",
          "data": {
            "text/plain": [
              "(573, 32, 32, 1)"
            ]
          },
          "metadata": {
            "tags": []
          },
          "execution_count": 121
        }
      ]
    },
    {
      "cell_type": "code",
      "metadata": {
        "id": "flcuDmO0aSEo",
        "colab_type": "code",
        "colab": {
          "base_uri": "https://localhost:8080/",
          "height": 52
        },
        "outputId": "5b87ce20-f6d5-4b64-ca48-77dab23da7f1"
      },
      "source": [
        "parseval_16_2.evaluate(X_adv, y_test)"
      ],
      "execution_count": 122,
      "outputs": [
        {
          "output_type": "stream",
          "text": [
            "18/18 [==============================] - 0s 5ms/step - loss: 0.7043 - acc: 0.7609\n"
          ],
          "name": "stdout"
        },
        {
          "output_type": "execute_result",
          "data": {
            "text/plain": [
              "[0.7043264508247375, 0.7609075307846069]"
            ]
          },
          "metadata": {
            "tags": []
          },
          "execution_count": 122
        }
      ]
    },
    {
      "cell_type": "code",
      "metadata": {
        "id": "uJKvsMVwZ9-o",
        "colab_type": "code",
        "colab": {
          "base_uri": "https://localhost:8080/",
          "height": 297
        },
        "outputId": "63ab2a35-3364-41fc-daa1-8b8b830092cd"
      },
      "source": [
        "parseval_16_2.evaluate(X_adv,y_test)"
      ],
      "execution_count": 100,
      "outputs": [
        {
          "output_type": "error",
          "ename": "ValueError",
          "evalue": "ignored",
          "traceback": [
            "\u001b[0;31m---------------------------------------------------------------------------\u001b[0m",
            "\u001b[0;31mValueError\u001b[0m                                Traceback (most recent call last)",
            "\u001b[0;32m<ipython-input-100-c78c84ab6d67>\u001b[0m in \u001b[0;36m<module>\u001b[0;34m()\u001b[0m\n\u001b[0;32m----> 1\u001b[0;31m \u001b[0mparseval_16_2\u001b[0m\u001b[0;34m.\u001b[0m\u001b[0mevaluate\u001b[0m\u001b[0;34m(\u001b[0m\u001b[0mX_adv\u001b[0m\u001b[0;34m,\u001b[0m\u001b[0my_test\u001b[0m\u001b[0;34m)\u001b[0m\u001b[0;34m\u001b[0m\u001b[0;34m\u001b[0m\u001b[0m\n\u001b[0m",
            "\u001b[0;32m/usr/local/lib/python3.6/dist-packages/tensorflow/python/keras/engine/training.py\u001b[0m in \u001b[0;36m_method_wrapper\u001b[0;34m(self, *args, **kwargs)\u001b[0m\n\u001b[1;32m     64\u001b[0m                                         'keras api usage', 'method')\n\u001b[1;32m     65\u001b[0m \u001b[0;34m\u001b[0m\u001b[0m\n\u001b[0;32m---> 66\u001b[0;31m \u001b[0;34m\u001b[0m\u001b[0m\n\u001b[0m\u001b[1;32m     67\u001b[0m \u001b[0;34m@\u001b[0m\u001b[0mkeras_export\u001b[0m\u001b[0;34m(\u001b[0m\u001b[0;34m'keras.models.Model'\u001b[0m\u001b[0;34m,\u001b[0m \u001b[0;34m'keras.Model'\u001b[0m\u001b[0;34m)\u001b[0m\u001b[0;34m\u001b[0m\u001b[0;34m\u001b[0m\u001b[0m\n\u001b[1;32m     68\u001b[0m \u001b[0;32mclass\u001b[0m \u001b[0mModel\u001b[0m\u001b[0;34m(\u001b[0m\u001b[0mnetwork\u001b[0m\u001b[0;34m.\u001b[0m\u001b[0mNetwork\u001b[0m\u001b[0;34m)\u001b[0m\u001b[0;34m:\u001b[0m\u001b[0;34m\u001b[0m\u001b[0;34m\u001b[0m\u001b[0m\n",
            "\u001b[0;32m/usr/local/lib/python3.6/dist-packages/tensorflow/python/keras/engine/training.py\u001b[0m in \u001b[0;36mevaluate\u001b[0;34m(self, x, y, batch_size, verbose, sample_weight, steps, callbacks, max_queue_size, workers, use_multiprocessing, return_dict)\u001b[0m\n\u001b[1;32m   1055\u001b[0m                     \u001b[0muse_multiprocessing\u001b[0m\u001b[0;34m=\u001b[0m\u001b[0;32mFalse\u001b[0m\u001b[0;34m,\u001b[0m\u001b[0;34m\u001b[0m\u001b[0;34m\u001b[0m\u001b[0m\n\u001b[1;32m   1056\u001b[0m                     \u001b[0mshuffle\u001b[0m\u001b[0;34m=\u001b[0m\u001b[0;32mTrue\u001b[0m\u001b[0;34m,\u001b[0m\u001b[0;34m\u001b[0m\u001b[0;34m\u001b[0m\u001b[0m\n\u001b[0;32m-> 1057\u001b[0;31m                     initial_epoch=0):\n\u001b[0m\u001b[1;32m   1058\u001b[0m     \"\"\"Fits the model on data yielded batch-by-batch by a Python generator.\n\u001b[1;32m   1059\u001b[0m \u001b[0;34m\u001b[0m\u001b[0m\n",
            "\u001b[0;32m/usr/local/lib/python3.6/dist-packages/tensorflow/python/keras/engine/data_adapter.py\u001b[0m in \u001b[0;36m__init__\u001b[0;34m(self, x, y, sample_weight, batch_size, steps_per_epoch, initial_epoch, epochs, shuffle, class_weight, max_queue_size, workers, use_multiprocessing, model)\u001b[0m\n",
            "\u001b[0;32m/usr/local/lib/python3.6/dist-packages/tensorflow/python/keras/engine/data_adapter.py\u001b[0m in \u001b[0;36m__init__\u001b[0;34m(self, x, y, sample_weights, sample_weight_modes, batch_size, epochs, steps, shuffle, **kwargs)\u001b[0m\n",
            "\u001b[0;31mValueError\u001b[0m: Data cardinality is ambiguous:\n  x sizes: 1, 1, 1, 1, 1, 1, 1, 1, 1, 1, 1, 1, 1, 1, 1, 1, 1, 1, 1, 1, 1, 1, 1, 1, 1, 1, 1, 1, 1, 1, 1, 1, 1, 1, 1, 1, 1, 1, 1, 1, 1, 1, 1, 1, 1, 1, 1, 1, 1, 1, 1, 1, 1, 1, 1, 1, 1, 1, 1, 1, 1, 1, 1, 1, 1, 1, 1, 1, 1, 1, 1, 1, 1, 1, 1, 1, 1, 1, 1, 1, 1, 1, 1, 1, 1, 1, 1, 1, 1, 1, 1, 1, 1, 1, 1, 1, 1, 1, 1, 1, 1, 1, 1, 1, 1, 1, 1, 1, 1, 1, 1, 1, 1, 1, 1, 1, 1, 1, 1, 1, 1, 1, 1, 1, 1, 1, 1, 1, 1, 1, 1, 1, 1, 1, 1, 1, 1, 1, 1, 1, 1, 1, 1, 1, 1, 1, 1, 1, 1, 1, 1, 1, 1, 1, 1, 1, 1, 1, 1, 1, 1, 1, 1, 1, 1, 1, 1, 1, 1, 1, 1, 1, 1, 1, 1, 1, 1, 1, 1, 1, 1, 1, 1, 1, 1, 1, 1, 1, 1, 1, 1, 1, 1, 1, 1, 1, 1, 1, 1, 1, 1, 1, 1, 1, 1, 1, 1, 1, 1, 1, 1, 1, 1, 1, 1, 1, 1, 1, 1, 1, 1, 1, 1, 1, 1, 1, 1, 1, 1, 1, 1, 1, 1, 1, 1, 1, 1, 1, 1, 1, 1, 1, 1, 1, 1, 1, 1, 1, 1, 1, 1, 1, 1, 1, 1, 1, 1, 1, 1, 1, 1, 1, 1, 1, 1, 1, 1, 1, 1, 1, 1, 1, 1, 1, 1, 1, 1, 1, 1, 1, 1, 1, 1, 1, 1, 1, 1, 1, 1, 1, 1, 1, 1, 1, 1, 1, 1, 1, 1, 1, 1, 1, 1, 1, 1, 1, 1, 1, 1, 1, 1, 1, 1, 1, 1, 1, 1, 1, 1, 1, 1, 1, 1, 1, 1, 1, 1, 1, 1, 1, 1, 1, 1, 1, 1, 1, 1, 1, 1, 1, 1, 1, 1, 1, 1, 1, 1, 1, 1, 1, 1, 1, 1, 1, 1, 1, 1, 1, 1, 1, 1, 1, 1, 1, 1, 1, 1, 1, 1, 1, 1, 1, 1, 1, 1, 1, 1, 1, 1, 1, 1, 1, 1, 1, 1, 1, 1, 1, 1, 1, 1, 1, 1, 1, 1, 1, 1, 1, 1, 1, 1, 1, 1, 1, 1, 1, 1, 1, 1, 1, 1, 1, 1, 1, 1, 1, 1, 1, 1, 1, 1, 1, 1, 1, 1, 1, 1, 1, 1, 1, 1, 1, 1, 1, 1, 1, 1, 1, 1, 1, 1, 1, 1, 1, 1, 1, 1, 1, 1, 1, 1, 1, 1, 1, 1, 1, 1, 1, 1, 1, 1, 1, 1, 1, 1, 1, 1, 1, 1, 1, 1, 1, 1, 1, 1, 1, 1, 1, 1, 1, 1, 1, 1, 1, 1, 1, 1, 1, 1, 1, 1, 1, 1, 1, 1, 1...\n  y sizes: 573\nPlease provide data which shares the same first dimension."
          ]
        }
      ]
    },
    {
      "cell_type": "code",
      "metadata": {
        "id": "oisrm87QXR7x",
        "colab_type": "code",
        "colab": {
          "base_uri": "https://localhost:8080/",
          "height": 243
        },
        "outputId": "67fb8002-36cc-4e47-fc4e-69e5e94d6774"
      },
      "source": [
        ""
      ],
      "execution_count": 88,
      "outputs": [
        {
          "output_type": "execute_result",
          "data": {
            "text/plain": [
              "array([[[ 0.39118043,  0.6537521 ,  0.304938  , ..., -0.6801632 ,\n",
              "         -0.70958805, -0.37957853],\n",
              "        [ 0.42961586,  0.2691776 ,  0.343655  , ..., -0.71648675,\n",
              "         -0.5887911 , -0.66270536],\n",
              "        [ 0.31247932,  0.12931272,  0.5097248 , ..., -0.2944624 ,\n",
              "         -0.20773634, -0.5144544 ],\n",
              "        ...,\n",
              "        [ 1.4722202 ,  1.885938  ,  2.4631732 , ...,  0.5294353 ,\n",
              "          0.46791044,  0.618414  ],\n",
              "        [ 1.1115185 ,  1.778516  ,  2.218904  , ...,  0.6389692 ,\n",
              "          1.0171287 ,  0.6305831 ],\n",
              "        [ 1.4751768 ,  1.4401203 ,  2.0086267 , ...,  0.43178895,\n",
              "          0.43910995,  0.4047574 ]]], dtype=float32)"
            ]
          },
          "metadata": {
            "tags": []
          },
          "execution_count": 88
        }
      ]
    },
    {
      "cell_type": "code",
      "metadata": {
        "id": "u1MpTaIrYQMM",
        "colab_type": "code",
        "colab": {
          "base_uri": "https://localhost:8080/",
          "height": 34
        },
        "outputId": "741ebdf0-ae80-416e-a299-703277489a90"
      },
      "source": [
        ""
      ],
      "execution_count": 87,
      "outputs": [
        {
          "output_type": "execute_result",
          "data": {
            "text/plain": [
              "1"
            ]
          },
          "metadata": {
            "tags": []
          },
          "execution_count": 87
        }
      ]
    },
    {
      "cell_type": "code",
      "metadata": {
        "id": "A5y6yEa0VTxg",
        "colab_type": "code",
        "colab": {
          "base_uri": "https://localhost:8080/",
          "height": 166
        },
        "outputId": "56ff9721-e1e2-48f4-bcff-e180289564f0"
      },
      "source": [
        ""
      ],
      "execution_count": 58,
      "outputs": [
        {
          "output_type": "error",
          "ename": "TypeError",
          "evalue": "ignored",
          "traceback": [
            "\u001b[0;31m---------------------------------------------------------------------------\u001b[0m",
            "\u001b[0;31mTypeError\u001b[0m                                 Traceback (most recent call last)",
            "\u001b[0;32m<ipython-input-58-17ee6c0985d3>\u001b[0m in \u001b[0;36m<module>\u001b[0;34m()\u001b[0m\n\u001b[0;32m----> 1\u001b[0;31m \u001b[0my_predict\u001b[0m\u001b[0;34m.\u001b[0m\u001b[0msize\u001b[0m\u001b[0;34m(\u001b[0m\u001b[0;34m)\u001b[0m\u001b[0;34m\u001b[0m\u001b[0;34m\u001b[0m\u001b[0m\n\u001b[0m",
            "\u001b[0;31mTypeError\u001b[0m: 'int' object is not callable"
          ]
        }
      ]
    },
    {
      "cell_type": "code",
      "metadata": {
        "id": "RhE8N7FnSrJc",
        "colab_type": "code",
        "colab": {}
      },
      "source": [
        "  print(\"epsilon: {} and Test Evaluation: {}\".format(epsilon,parseval_16_2.evaluate(X_adv,y_test)))"
      ],
      "execution_count": 0,
      "outputs": []
    }
  ]
}