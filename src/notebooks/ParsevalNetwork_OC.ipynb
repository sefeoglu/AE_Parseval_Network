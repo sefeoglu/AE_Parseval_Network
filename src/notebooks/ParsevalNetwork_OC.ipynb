{
  "nbformat": 4,
  "nbformat_minor": 0,
  "metadata": {
    "kernelspec": {
      "display_name": "Python 3",
      "language": "python",
      "name": "python3"
    },
    "language_info": {
      "codemirror_mode": {
        "name": "ipython",
        "version": 3
      },
      "file_extension": ".py",
      "mimetype": "text/x-python",
      "name": "python",
      "nbconvert_exporter": "python",
      "pygments_lexer": "ipython3",
      "version": "3.7.4"
    },
    "colab": {
      "name": "ParsevalNetwork.ipynb",
      "provenance": []
    },
    "accelerator": "GPU"
  },
  "cells": [
    {
      "cell_type": "markdown",
      "metadata": {
        "id": "_idgCcuZdv0S",
        "colab_type": "text"
      },
      "source": [
        "# **Parseval Network**"
      ]
    },
    {
      "cell_type": "markdown",
      "metadata": {
        "id": "jO1kBOuDd2_r",
        "colab_type": "text"
      },
      "source": [
        "# **Data Preparation**"
      ]
    },
    {
      "cell_type": "code",
      "metadata": {
        "id": "esXS1STy_O_m",
        "colab_type": "code",
        "colab": {}
      },
      "source": [
        "from sklearn.model_selection import train_test_split\n",
        "import gzip\n",
        "import pickle\n",
        "import numpy as np"
      ],
      "execution_count": 0,
      "outputs": []
    },
    {
      "cell_type": "code",
      "metadata": {
        "id": "11nX1rD7_O_t",
        "colab_type": "code",
        "outputId": "478be04e-6ea2-45d7-f076-750f4eecf30e",
        "colab": {
          "base_uri": "https://localhost:8080/",
          "height": 34
        }
      },
      "source": [
        "def read_data():\n",
        "    with open(\"data.pz\", 'rb') as file_:\n",
        "        with gzip.GzipFile(fileobj=file_) as gzf:\n",
        "            data = pickle.load(gzf, encoding='latin1', fix_imports=True)\n",
        "    return data\n",
        "data = read_data()\n",
        "new_data_X = []\n",
        "Y_data = []\n",
        "for row in data:\n",
        "    new_data_X.append(row['crop'])\n",
        "    Y_data.append(row['label'])\n",
        "new_data_X = np.array(new_data_X)\n",
        "new_data_X.shape"
      ],
      "execution_count": 0,
      "outputs": [
        {
          "output_type": "execute_result",
          "data": {
            "text/plain": [
              "(5722, 68, 100)"
            ]
          },
          "metadata": {
            "tags": []
          },
          "execution_count": 2
        }
      ]
    },
    {
      "cell_type": "code",
      "metadata": {
        "id": "BmyV1MMm_O_y",
        "colab_type": "code",
        "colab": {}
      },
      "source": [
        "X_train, X_test, y_train, y_test = train_test_split(new_data_X, Y_data, test_size=0.33, random_state=42)"
      ],
      "execution_count": 0,
      "outputs": []
    },
    {
      "cell_type": "code",
      "metadata": {
        "id": "grRS393n_O_3",
        "colab_type": "code",
        "colab": {}
      },
      "source": [
        "X_train = X_train.astype('float32')\n",
        "X_test = X_test.astype('float32')"
      ],
      "execution_count": 0,
      "outputs": []
    },
    {
      "cell_type": "code",
      "metadata": {
        "id": "Xoh02WT5wiLY",
        "colab_type": "code",
        "colab": {}
      },
      "source": [
        ""
      ],
      "execution_count": 0,
      "outputs": []
    },
    {
      "cell_type": "code",
      "metadata": {
        "id": "Rx0sJsJDwiJT",
        "colab_type": "code",
        "colab": {}
      },
      "source": [
        ""
      ],
      "execution_count": 0,
      "outputs": []
    },
    {
      "cell_type": "code",
      "metadata": {
        "id": "MCu-tWhd_O_7",
        "colab_type": "code",
        "colab": {}
      },
      "source": [
        "import pandas as pd\n",
        "import numpy as np\n",
        "from sklearn.preprocessing import LabelEncoder\n",
        "\n",
        "# creating initial dataframe\n",
        "\n",
        "y_train_df = pd.DataFrame(y_train, columns=['Label'])\n",
        "# creating instance of labelencoder\n",
        "labelencoder = LabelEncoder()\n",
        "# Assigning numerical values and storing in another column\n",
        "y_train_df['New'] = labelencoder.fit_transform(y_train_df['Label'])\n",
        "y_test_df = pd.DataFrame(y_test, columns=['Label'])\n",
        "# creating instance of labelencoder\n",
        "labelencoder = LabelEncoder()\n",
        "# Assigning numerical values and storing in another column\n",
        "y_test_df['New'] = labelencoder.fit_transform(y_test_df['Label'])"
      ],
      "execution_count": 0,
      "outputs": []
    },
    {
      "cell_type": "code",
      "metadata": {
        "id": "qQ5CHhcF_PAA",
        "colab_type": "code",
        "outputId": "f058c847-7e44-4cc6-c06b-e19a4cb9f639",
        "colab": {
          "base_uri": "https://localhost:8080/",
          "height": 34
        }
      },
      "source": [
        "from keras import backend as K\n",
        "img_rows, img_cols = X_train[0].shape\n",
        "\n",
        "\n",
        "# transform data set\n",
        "if K.common.image_data_format() == 'channels_first':\n",
        "    X_train = X_train.reshape(X_train.shape[0], 1, img_rows, img_cols)\n",
        "    X_test = X_test.reshape(X_test.shape[0], 1, img_rows, img_cols)\n",
        "    input_shape = (1, img_rows, img_cols)\n",
        "else:\n",
        "    X_train = X_train.reshape(X_train.shape[0], img_rows, img_cols, 1)\n",
        "    X_test = X_test.reshape(X_test.shape[0], img_rows, img_cols, 1)\n",
        "    input_shape = (img_rows, img_cols, 1)"
      ],
      "execution_count": 0,
      "outputs": [
        {
          "output_type": "stream",
          "text": [
            "Using TensorFlow backend.\n"
          ],
          "name": "stderr"
        }
      ]
    },
    {
      "cell_type": "markdown",
      "metadata": {
        "id": "BTmOEDcMtSQp",
        "colab_type": "text"
      },
      "source": [
        "# Othogonal Constraint"
      ]
    },
    {
      "cell_type": "code",
      "metadata": {
        "id": "6S2jnj2otWlg",
        "colab_type": "code",
        "colab": {}
      },
      "source": [
        "from tensorflow.python.keras.constraints import Constraint\n",
        "from tensorflow.python.ops import math_ops, array_ops\n",
        "\n",
        "class TightFrame(Constraint):\n",
        "\n",
        "\n",
        "    def __init__(self, scale, num_passes=1):\n",
        "        self.scale = scale\n",
        "\n",
        "        if num_passes < 1:\n",
        "            raise ValueError(\"Number of passes cannot be non-positive! (got {})\".format(num_passes))\n",
        "        self.num_passes = num_passes\n",
        "\n",
        "\n",
        "    def __call__(self, w):\n",
        "        transpose_channels = (len(w.shape) == 4)\n",
        "\n",
        "        # Move channels_num to the front in order to make the dimensions correct for matmul\n",
        "        if transpose_channels:\n",
        "            w_reordered = array_ops.reshape(w, (-1, w.shape[0]))\n",
        "\n",
        "        else:\n",
        "            w_reordered = w\n",
        "\n",
        "        last = w_reordered\n",
        "        for i in range(self.num_passes):\n",
        "            temp1 = math_ops.matmul(last, last, transpose_a=True)\n",
        "            temp2 = (1 + self.scale) * w_reordered - self.scale * math_ops.matmul(w_reordered, temp1)\n",
        "\n",
        "            last = temp2\n",
        "\n",
        "        # Move channels_num to the back again\n",
        "        if transpose_channels:\n",
        "            return array_ops.reshape(last, w.shape)\n",
        "        else:\n",
        "            return last\n",
        "\n",
        "\n",
        "    def get_config(self):\n",
        "        return {'scale': self.scale, 'num_passes': self.num_passes}\n",
        "\n",
        "\n",
        "# Alias\n",
        "tight_frame = TightFrame"
      ],
      "execution_count": 0,
      "outputs": []
    },
    {
      "cell_type": "code",
      "metadata": {
        "id": "G4VciYzctsSY",
        "colab_type": "code",
        "colab": {}
      },
      "source": [
        "from tensorflow.keras.models import Model\n",
        "from tensorflow.keras.layers import Input, Add, Activation, Dropout, Flatten, Dense\n",
        "from tensorflow.keras.layers import Convolution2D, MaxPooling2D, AveragePooling2D\n",
        "from tensorflow.keras.layers import BatchNormalization\n",
        "from tensorflow.keras.regularizers import l2\n",
        "from tensorflow.keras import backend as K\n",
        "import warnings\n",
        "\n",
        "warnings.filterwarnings(\"ignore\")\n",
        "weight_decay = 0.0005\n"
      ],
      "execution_count": 0,
      "outputs": []
    },
    {
      "cell_type": "markdown",
      "metadata": {
        "id": "v3g_vzsy_ndF",
        "colab_type": "text"
      },
      "source": [
        "**Parseval Network**"
      ]
    },
    {
      "cell_type": "code",
      "metadata": {
        "id": "WN76FYUZ_3YA",
        "colab_type": "code",
        "outputId": "82113577-8022-465d-f744-a8094c99f07d",
        "colab": {
          "base_uri": "https://localhost:8080/",
          "height": 68
        }
      },
      "source": [
        "\n",
        "\n",
        "def initial_conv(input):\n",
        "  \n",
        "    x = Convolution2D(16, (3, 3), padding='same', kernel_initializer='orthogonal', kernel_constraint= tight_frame(0.0001),\n",
        "                      \n",
        "                      use_bias=False)(input)\n",
        "\n",
        "    channel_axis = 1 if K.image_data_format() == \"channels_first\" else -1\n",
        "\n",
        "    x = BatchNormalization(axis=channel_axis, momentum=0.1, epsilon=1e-5, gamma_initializer='uniform')(x)\n",
        "    x = Activation('relu')(x)\n",
        "    return x\n",
        "\n",
        "\n",
        "def expand_conv(init, base, k, strides=(1, 1)):\n",
        "    x = Convolution2D(base * k, (3, 3), padding='same', strides=strides, kernel_initializer='Orthogonal', kernel_constraint= tight_frame(0.0001),\n",
        "                      use_bias=False)(init)\n",
        "\n",
        "    channel_axis = 1 if K.image_data_format() == \"channels_first\" else -1\n",
        "\n",
        "    x = BatchNormalization(axis=channel_axis, momentum=0.1, epsilon=1e-5, gamma_initializer='uniform')(x)\n",
        "    x = Activation('relu')(x)\n",
        "\n",
        "    x = Convolution2D(base * k, (3, 3), padding='same', kernel_initializer='Orthogonal',\n",
        "                      kernel_constraint= tight_frame(0.0001),\n",
        "                      use_bias=False)(x)\n",
        "\n",
        "    skip = Convolution2D(base * k, (1, 1), padding='same', strides=strides, kernel_initializer='Orthogonal',\n",
        "                      kernel_constraint= tight_frame(0.0001),\n",
        "                      use_bias=False)(init)\n",
        "\n",
        "    m = Add()([x, skip])\n",
        "\n",
        "    return m\n",
        "\n",
        "\n",
        "def conv1_block(input, k=1, dropout=0.0):\n",
        "    init = input\n",
        "\n",
        "    channel_axis = 1 if K.image_data_format() == \"channels_first\" else -1\n",
        "\n",
        "    x = BatchNormalization(axis=channel_axis, momentum=0.1, epsilon=1e-5, gamma_initializer='uniform')(input)\n",
        "    x = Activation('relu')(x)\n",
        "    x = Convolution2D(16 * k, (3, 3), padding='same', kernel_initializer='Orthogonal',\n",
        "                      kernel_constraint= tight_frame(0.0001),\n",
        "                      use_bias=False)(x)\n",
        "\n",
        "    if dropout > 0.0: x = Dropout(dropout)(x)\n",
        "\n",
        "    x = BatchNormalization(axis=channel_axis, momentum=0.1, epsilon=1e-5, gamma_initializer='uniform')(x)\n",
        "    x = Activation('relu')(x)\n",
        "    x = Convolution2D(16 * k, (3, 3), padding='same', kernel_initializer='Orthogonal',\n",
        "                      kernel_constraint= tight_frame(0.0001),\n",
        "                      use_bias=False)(x)\n",
        "\n",
        "    m = Add()([init, x])\n",
        "    return m\n",
        "\n",
        "def conv2_block(input, k=1, dropout=0.0):\n",
        "    init = input\n",
        "\n",
        "    channel_axis = 1 if K.image_data_format() == \"channels_first\" else -1\n",
        "    print(\"conv2:channel:  {}\".format(channel_axis))\n",
        "    x = BatchNormalization(axis=channel_axis, momentum=0.1, epsilon=1e-5, gamma_initializer='uniform')(input)\n",
        "    x = Activation('relu')(x)\n",
        "    x = Convolution2D(32 * k, (3, 3), padding='same', kernel_initializer='Orthogonal',\n",
        "                      kernel_constraint= tight_frame(0.0001),\n",
        "                      use_bias=False)(x)\n",
        "\n",
        "    if dropout > 0.0: x = Dropout(dropout)(x)\n",
        "\n",
        "    x = BatchNormalization(axis=channel_axis, momentum=0.1, epsilon=1e-5, gamma_initializer='uniform')(x)\n",
        "    x = Activation('relu')(x)\n",
        "    x = Convolution2D(32 * k, (3, 3), padding='same', kernel_initializer='Orthogonal',\n",
        "                      kernel_constraint= tight_frame(0.0001),\n",
        "                      use_bias=False)(x)\n",
        "\n",
        "    m = Add()([init, x])\n",
        "    return m\n",
        "\n",
        "def conv3_block(input, k=1, dropout=0.0):\n",
        "    init = input\n",
        "\n",
        "    channel_axis = 1 if K.image_data_format() == \"channels_first\" else -1\n",
        "    print(\"conv3 channel_axis:{} \".format(channel_axis))\n",
        "    x = BatchNormalization(axis=channel_axis, momentum=0.1, epsilon=1e-5, gamma_initializer='uniform')(input)\n",
        "    x = Activation('relu')(x)\n",
        "    x = Convolution2D(64 * k, (3, 3), padding='same', kernel_initializer='Orthogonal',\n",
        "                      kernel_constraint= tight_frame(0.0001),use_bias=False)(x)\n",
        "\n",
        "    if dropout > 0.0: x = Dropout(dropout)(x)\n",
        "\n",
        "    x = BatchNormalization(axis=channel_axis, momentum=0.1, epsilon=1e-5, gamma_initializer='uniform')(x)\n",
        "    x = Activation('relu')(x)\n",
        "    x = Convolution2D(64 * k, (3, 3), padding='same', kernel_initializer='Orthogonal',\n",
        "                      kernel_constraint= tight_frame(0.0001),\n",
        "                      use_bias=False)(x)\n",
        "\n",
        "    m = Add()([init, x])\n",
        "    return m\n",
        "\n",
        "def create_parseval_network(input_dim, nb_classes=100, N=2, k=1, dropout=0.0, verbose=1):\n",
        "    \"\"\"\n",
        "    Creates a Wide Residual Network with specified parameters\n",
        "\n",
        "    :param input: Input Keras object\n",
        "    :param nb_classes: Number of output classes\n",
        "    :param N: Depth of the network. Compute N = (n - 4) / 6.\n",
        "              Example : For a depth of 16, n = 16, N = (16 - 4) / 6 = 2\n",
        "              Example2: For a depth of 28, n = 28, N = (28 - 4) / 6 = 4\n",
        "              Example3: For a depth of 40, n = 40, N = (40 - 4) / 6 = 6\n",
        "    :param k: Width of the network.\n",
        "    :param dropout: Adds dropout if value is greater than 0.0\n",
        "    :param verbose: Debug info to describe created WRN\n",
        "    :return:\n",
        "    \"\"\"\n",
        "    channel_axis = 1 if K.image_data_format() == \"channels_first\" else -1\n",
        "\n",
        "    ip = Input(shape=input_dim)\n",
        "\n",
        "    x = initial_conv(ip)\n",
        "    nb_conv = 4\n",
        "\n",
        "    x = expand_conv(x, 16, k)\n",
        "    nb_conv += 2\n",
        "\n",
        "    for i in range(N - 1):\n",
        "        x = conv1_block(x, k, dropout)\n",
        "        nb_conv += 2\n",
        "\n",
        "    x = BatchNormalization(axis=channel_axis, momentum=0.1, epsilon=1e-5, gamma_initializer='uniform')(x)\n",
        "    x = Activation('relu')(x)\n",
        "\n",
        "    x = expand_conv(x, 32, k, strides=(2, 2))\n",
        "    nb_conv += 2\n",
        "\n",
        "    for i in range(N - 1):\n",
        "        x = conv2_block(x, k, dropout)\n",
        "        nb_conv += 2\n",
        "\n",
        "    x = BatchNormalization(axis=channel_axis, momentum=0.1, epsilon=1e-5, gamma_initializer='uniform')(x)\n",
        "    x = Activation('relu')(x)\n",
        "\n",
        "    x = expand_conv(x, 64, k, strides=(2, 2))\n",
        "    nb_conv += 2\n",
        "\n",
        "    for i in range(N - 1):\n",
        "        x = conv3_block(x, k, dropout)\n",
        "        nb_conv += 2\n",
        "\n",
        "    x = BatchNormalization(axis=channel_axis, momentum=0.1, epsilon=1e-5, gamma_initializer='uniform')(x)\n",
        "    x = Activation('relu')(x)\n",
        "\n",
        "    x = AveragePooling2D((8, 8))(x)\n",
        "    x = Flatten()(x)\n",
        "\n",
        "    x = Dense(nb_classes, activation='softmax' )(x)\n",
        "\n",
        "    model = Model(ip, x)\n",
        "\n",
        "    if verbose: print(\"Parseval Residual Network-%d-%d created.\" % (nb_conv, k))\n",
        "    return model\n",
        "\n",
        "if __name__ == \"__main__\":\n",
        "\n",
        "    init = (68, 100,1)\n",
        "\n",
        "    parseval_16_2 = create_parseval_network(init, nb_classes=4, N=2, k=2, dropout=0.3)"
      ],
      "execution_count": 0,
      "outputs": [
        {
          "output_type": "stream",
          "text": [
            "conv2:channel:  -1\n",
            "conv3 channel_axis:-1 \n",
            "Parseval Residual Network-16-2 created.\n"
          ],
          "name": "stdout"
        }
      ]
    },
    {
      "cell_type": "code",
      "metadata": {
        "id": "BxyMKoeaBqPh",
        "colab_type": "code",
        "colab": {}
      },
      "source": [
        "from tensorflow.keras.preprocessing.image import ImageDataGenerator\n",
        "import tensorflow.keras.callbacks as callbacks\n"
      ],
      "execution_count": 0,
      "outputs": []
    },
    {
      "cell_type": "code",
      "metadata": {
        "id": "liiFrat1Bv1_",
        "colab_type": "code",
        "colab": {}
      },
      "source": [
        "EPOCHS = 200\n",
        "BS = 128\n"
      ],
      "execution_count": 0,
      "outputs": []
    },
    {
      "cell_type": "code",
      "metadata": {
        "id": "-ygMFWH8Bzfq",
        "colab_type": "code",
        "colab": {}
      },
      "source": [
        "from tensorflow.keras.callbacks import LearningRateScheduler\n",
        "import math\n",
        "from tensorflow.keras.optimizers import SGD\n",
        "\n",
        "sgd = SGD(lr=0.1, momentum=0.9)"
      ],
      "execution_count": 0,
      "outputs": []
    },
    {
      "cell_type": "code",
      "metadata": {
        "id": "WhUvPL0dB48O",
        "colab_type": "code",
        "outputId": "0f930ff5-5d1b-41fd-caaf-d2a8ec4acd98",
        "colab": {
          "base_uri": "https://localhost:8080/",
          "height": 34
        }
      },
      "source": [
        "parseval_16_2.compile(loss=\"categorical_crossentropy\", optimizer=sgd, metrics=[\"acc\"])\n",
        "print(\"Finished compiling\")"
      ],
      "execution_count": 0,
      "outputs": [
        {
          "output_type": "stream",
          "text": [
            "Finished compiling\n"
          ],
          "name": "stdout"
        }
      ]
    },
    {
      "cell_type": "code",
      "metadata": {
        "id": "6JrJ7xy1Q5rS",
        "colab_type": "code",
        "colab": {}
      },
      "source": [
        "import tensorflow\n",
        "generator = tensorflow.keras.preprocessing.image.ImageDataGenerator(rotation_range=10,\n",
        "                               width_shift_range=5./32,\n",
        "                               height_shift_range=5./32,)"
      ],
      "execution_count": 0,
      "outputs": []
    },
    {
      "cell_type": "code",
      "metadata": {
        "id": "i4EpGTMG9jeP",
        "colab_type": "code",
        "colab": {}
      },
      "source": [
        "def lr_sch(epoch):\n",
        "    if epoch < 60:\n",
        "        return 0.1\n",
        "    elif epoch < 120:\n",
        "        return 0.02\n",
        "    elif epoch < 160:\n",
        "        return 0.004\n",
        "    else:\n",
        "        return 0.0008\n",
        "\n",
        "# Learning rate scheduler callback\n",
        "lr_scheduler = LearningRateScheduler(lr_sch)"
      ],
      "execution_count": 0,
      "outputs": []
    },
    {
      "cell_type": "code",
      "metadata": {
        "id": "1Bu78FGi9jhv",
        "colab_type": "code",
        "colab": {}
      },
      "source": [
        ""
      ],
      "execution_count": 0,
      "outputs": []
    },
    {
      "cell_type": "code",
      "metadata": {
        "id": "9z0CbPY_24ns",
        "colab_type": "code",
        "outputId": "42f5471c-d29d-4507-9654-f31d72b0ff65",
        "colab": {
          "base_uri": "https://localhost:8080/",
          "height": 1000
        }
      },
      "source": [
        "from tensorflow.keras.utils import to_categorical\n",
        "hist = parseval_16_2.fit(generator.flow(X_train, to_categorical(y_train_df['New']), batch_size=BS), steps_per_epoch=len(X_train) // BS, epochs=EPOCHS,\n",
        "                   validation_data=(X_test, to_categorical(y_test_df['New'])), callbacks = [lr_scheduler],\n",
        "                   validation_steps=X_test.shape[0] // BS,)"
      ],
      "execution_count": 0,
      "outputs": [
        {
          "output_type": "stream",
          "text": [
            "Epoch 1/200\n",
            "29/29 [==============================] - 13s 439ms/step - loss: 1.3324 - acc: 0.3406 - val_loss: 1.5744 - val_acc: 0.2912 - lr: 0.1000\n",
            "Epoch 2/200\n",
            "29/29 [==============================] - 10s 357ms/step - loss: 1.2603 - acc: 0.3970 - val_loss: 1.2040 - val_acc: 0.4415 - lr: 0.1000\n",
            "Epoch 3/200\n",
            "29/29 [==============================] - 10s 358ms/step - loss: 1.2331 - acc: 0.4227 - val_loss: 1.2220 - val_acc: 0.4352 - lr: 0.1000\n",
            "Epoch 4/200\n",
            "29/29 [==============================] - 10s 355ms/step - loss: 1.2114 - acc: 0.4459 - val_loss: 1.1742 - val_acc: 0.4600 - lr: 0.1000\n",
            "Epoch 5/200\n",
            "29/29 [==============================] - 10s 359ms/step - loss: 1.1638 - acc: 0.4696 - val_loss: 1.7581 - val_acc: 0.3695 - lr: 0.1000\n",
            "Epoch 6/200\n",
            "29/29 [==============================] - 10s 359ms/step - loss: 1.1504 - acc: 0.4947 - val_loss: 1.0782 - val_acc: 0.5437 - lr: 0.1000\n",
            "Epoch 7/200\n",
            "29/29 [==============================] - 10s 357ms/step - loss: 1.0985 - acc: 0.5285 - val_loss: 1.1574 - val_acc: 0.4918 - lr: 0.1000\n",
            "Epoch 8/200\n",
            "29/29 [==============================] - 10s 360ms/step - loss: 1.0676 - acc: 0.5371 - val_loss: 1.0265 - val_acc: 0.5717 - lr: 0.1000\n",
            "Epoch 9/200\n",
            "29/29 [==============================] - 10s 361ms/step - loss: 1.0436 - acc: 0.5544 - val_loss: 1.1409 - val_acc: 0.4897 - lr: 0.1000\n",
            "Epoch 10/200\n",
            "29/29 [==============================] - 10s 358ms/step - loss: 1.0136 - acc: 0.5795 - val_loss: 1.0308 - val_acc: 0.5447 - lr: 0.1000\n",
            "Epoch 11/200\n",
            "29/29 [==============================] - 10s 359ms/step - loss: 0.9769 - acc: 0.5843 - val_loss: 0.9470 - val_acc: 0.6056 - lr: 0.1000\n",
            "Epoch 12/200\n",
            "29/29 [==============================] - 10s 357ms/step - loss: 0.9341 - acc: 0.6076 - val_loss: 1.0009 - val_acc: 0.5574 - lr: 0.1000\n",
            "Epoch 13/200\n",
            "29/29 [==============================] - 10s 359ms/step - loss: 0.9369 - acc: 0.6175 - val_loss: 0.9009 - val_acc: 0.6379 - lr: 0.1000\n",
            "Epoch 14/200\n",
            "29/29 [==============================] - 10s 361ms/step - loss: 0.9045 - acc: 0.6399 - val_loss: 0.8367 - val_acc: 0.6480 - lr: 0.1000\n",
            "Epoch 15/200\n",
            "29/29 [==============================] - 10s 359ms/step - loss: 0.8637 - acc: 0.6518 - val_loss: 0.8757 - val_acc: 0.6273 - lr: 0.1000\n",
            "Epoch 16/200\n",
            "29/29 [==============================] - 10s 360ms/step - loss: 0.8377 - acc: 0.6621 - val_loss: 0.8083 - val_acc: 0.6760 - lr: 0.1000\n",
            "Epoch 17/200\n",
            "29/29 [==============================] - 10s 360ms/step - loss: 0.8214 - acc: 0.6696 - val_loss: 1.4399 - val_acc: 0.4801 - lr: 0.1000\n",
            "Epoch 18/200\n",
            "29/29 [==============================] - 10s 359ms/step - loss: 0.8004 - acc: 0.6845 - val_loss: 0.7953 - val_acc: 0.6961 - lr: 0.1000\n",
            "Epoch 19/200\n",
            "29/29 [==============================] - 10s 360ms/step - loss: 0.7752 - acc: 0.6988 - val_loss: 0.8840 - val_acc: 0.6294 - lr: 0.1000\n",
            "Epoch 20/200\n",
            "29/29 [==============================] - 10s 361ms/step - loss: 0.7815 - acc: 0.6948 - val_loss: 0.7902 - val_acc: 0.6866 - lr: 0.1000\n",
            "Epoch 21/200\n",
            "29/29 [==============================] - 10s 360ms/step - loss: 0.7895 - acc: 0.6977 - val_loss: 0.8434 - val_acc: 0.6707 - lr: 0.1000\n",
            "Epoch 22/200\n",
            "29/29 [==============================] - 10s 360ms/step - loss: 0.7663 - acc: 0.6972 - val_loss: 0.7412 - val_acc: 0.7136 - lr: 0.1000\n",
            "Epoch 23/200\n",
            "29/29 [==============================] - 10s 358ms/step - loss: 0.7017 - acc: 0.7296 - val_loss: 0.7872 - val_acc: 0.6988 - lr: 0.1000\n",
            "Epoch 24/200\n",
            "29/29 [==============================] - 10s 357ms/step - loss: 0.7037 - acc: 0.7220 - val_loss: 0.7042 - val_acc: 0.7152 - lr: 0.1000\n",
            "Epoch 25/200\n",
            "29/29 [==============================] - 10s 360ms/step - loss: 0.7082 - acc: 0.7347 - val_loss: 0.6959 - val_acc: 0.7258 - lr: 0.1000\n",
            "Epoch 26/200\n",
            "29/29 [==============================] - 10s 360ms/step - loss: 0.6808 - acc: 0.7457 - val_loss: 0.6793 - val_acc: 0.7417 - lr: 0.1000\n",
            "Epoch 27/200\n",
            "29/29 [==============================] - 10s 358ms/step - loss: 0.6657 - acc: 0.7452 - val_loss: 0.6992 - val_acc: 0.7136 - lr: 0.1000\n",
            "Epoch 28/200\n",
            "29/29 [==============================] - 10s 360ms/step - loss: 0.6415 - acc: 0.7568 - val_loss: 0.8023 - val_acc: 0.6792 - lr: 0.1000\n",
            "Epoch 29/200\n",
            "29/29 [==============================] - 10s 359ms/step - loss: 0.6297 - acc: 0.7584 - val_loss: 0.7826 - val_acc: 0.7009 - lr: 0.1000\n",
            "Epoch 30/200\n",
            "29/29 [==============================] - 10s 358ms/step - loss: 0.6502 - acc: 0.7503 - val_loss: 0.7492 - val_acc: 0.7094 - lr: 0.1000\n",
            "Epoch 31/200\n",
            "29/29 [==============================] - 10s 361ms/step - loss: 0.5960 - acc: 0.7660 - val_loss: 0.6594 - val_acc: 0.7422 - lr: 0.1000\n",
            "Epoch 32/200\n",
            "29/29 [==============================] - 10s 360ms/step - loss: 0.6134 - acc: 0.7649 - val_loss: 0.6690 - val_acc: 0.7406 - lr: 0.1000\n",
            "Epoch 33/200\n",
            "29/29 [==============================] - 10s 361ms/step - loss: 0.5965 - acc: 0.7709 - val_loss: 0.6690 - val_acc: 0.7538 - lr: 0.1000\n",
            "Epoch 34/200\n",
            "29/29 [==============================] - 10s 362ms/step - loss: 0.5701 - acc: 0.7884 - val_loss: 0.7940 - val_acc: 0.7268 - lr: 0.1000\n",
            "Epoch 35/200\n",
            "29/29 [==============================] - 10s 358ms/step - loss: 0.5882 - acc: 0.7730 - val_loss: 0.6516 - val_acc: 0.7332 - lr: 0.1000\n",
            "Epoch 36/200\n",
            "29/29 [==============================] - 10s 359ms/step - loss: 0.5933 - acc: 0.7746 - val_loss: 0.6882 - val_acc: 0.7385 - lr: 0.1000\n",
            "Epoch 37/200\n",
            "29/29 [==============================] - 10s 359ms/step - loss: 0.5797 - acc: 0.7754 - val_loss: 0.6981 - val_acc: 0.7411 - lr: 0.1000\n",
            "Epoch 38/200\n",
            "29/29 [==============================] - 10s 359ms/step - loss: 0.5661 - acc: 0.7825 - val_loss: 0.6763 - val_acc: 0.7316 - lr: 0.1000\n",
            "Epoch 39/200\n",
            "29/29 [==============================] - 10s 362ms/step - loss: 0.5831 - acc: 0.7792 - val_loss: 0.7123 - val_acc: 0.7210 - lr: 0.1000\n",
            "Epoch 40/200\n",
            "29/29 [==============================] - 10s 361ms/step - loss: 0.5424 - acc: 0.7919 - val_loss: 0.6956 - val_acc: 0.7348 - lr: 0.1000\n",
            "Epoch 41/200\n",
            "29/29 [==============================] - 10s 358ms/step - loss: 0.5560 - acc: 0.7887 - val_loss: 0.6454 - val_acc: 0.7687 - lr: 0.1000\n",
            "Epoch 42/200\n",
            "29/29 [==============================] - 10s 360ms/step - loss: 0.5313 - acc: 0.7962 - val_loss: 0.6968 - val_acc: 0.7369 - lr: 0.1000\n",
            "Epoch 43/200\n",
            "29/29 [==============================] - 10s 361ms/step - loss: 0.4892 - acc: 0.8148 - val_loss: 0.6926 - val_acc: 0.7480 - lr: 0.1000\n",
            "Epoch 44/200\n",
            "29/29 [==============================] - 10s 360ms/step - loss: 0.4993 - acc: 0.8054 - val_loss: 0.6526 - val_acc: 0.7618 - lr: 0.1000\n",
            "Epoch 45/200\n",
            "29/29 [==============================] - 10s 360ms/step - loss: 0.4859 - acc: 0.8178 - val_loss: 0.6126 - val_acc: 0.7798 - lr: 0.1000\n",
            "Epoch 46/200\n",
            "29/29 [==============================] - 10s 358ms/step - loss: 0.4773 - acc: 0.8178 - val_loss: 0.8067 - val_acc: 0.7046 - lr: 0.1000\n",
            "Epoch 47/200\n",
            "29/29 [==============================] - 10s 359ms/step - loss: 0.4998 - acc: 0.8062 - val_loss: 0.6228 - val_acc: 0.7655 - lr: 0.1000\n",
            "Epoch 48/200\n",
            "29/29 [==============================] - 10s 361ms/step - loss: 0.4717 - acc: 0.8229 - val_loss: 0.7327 - val_acc: 0.7279 - lr: 0.1000\n",
            "Epoch 49/200\n",
            "29/29 [==============================] - 10s 359ms/step - loss: 0.4249 - acc: 0.8421 - val_loss: 0.6234 - val_acc: 0.7597 - lr: 0.1000\n",
            "Epoch 50/200\n",
            "29/29 [==============================] - 10s 361ms/step - loss: 0.5001 - acc: 0.8130 - val_loss: 0.7620 - val_acc: 0.7274 - lr: 0.1000\n",
            "Epoch 51/200\n",
            "29/29 [==============================] - 10s 359ms/step - loss: 0.4782 - acc: 0.8232 - val_loss: 0.7771 - val_acc: 0.7051 - lr: 0.1000\n",
            "Epoch 52/200\n",
            "29/29 [==============================] - 10s 362ms/step - loss: 0.4516 - acc: 0.8354 - val_loss: 0.6143 - val_acc: 0.7782 - lr: 0.1000\n",
            "Epoch 53/200\n",
            "29/29 [==============================] - 10s 359ms/step - loss: 0.4200 - acc: 0.8383 - val_loss: 0.6894 - val_acc: 0.7417 - lr: 0.1000\n",
            "Epoch 54/200\n",
            "29/29 [==============================] - 10s 360ms/step - loss: 0.4587 - acc: 0.8259 - val_loss: 0.9533 - val_acc: 0.6728 - lr: 0.1000\n",
            "Epoch 55/200\n",
            "29/29 [==============================] - 10s 359ms/step - loss: 0.4314 - acc: 0.8372 - val_loss: 0.6129 - val_acc: 0.7808 - lr: 0.1000\n",
            "Epoch 56/200\n",
            "29/29 [==============================] - 10s 358ms/step - loss: 0.3880 - acc: 0.8513 - val_loss: 0.6628 - val_acc: 0.7644 - lr: 0.1000\n",
            "Epoch 57/200\n",
            "29/29 [==============================] - 10s 360ms/step - loss: 0.4610 - acc: 0.8283 - val_loss: 0.6351 - val_acc: 0.7639 - lr: 0.1000\n",
            "Epoch 58/200\n",
            "29/29 [==============================] - 10s 360ms/step - loss: 0.4330 - acc: 0.8356 - val_loss: 0.7078 - val_acc: 0.7639 - lr: 0.1000\n",
            "Epoch 59/200\n",
            "29/29 [==============================] - 10s 361ms/step - loss: 0.4655 - acc: 0.8281 - val_loss: 0.6827 - val_acc: 0.7702 - lr: 0.1000\n",
            "Epoch 60/200\n",
            "29/29 [==============================] - 10s 361ms/step - loss: 0.4642 - acc: 0.8246 - val_loss: 0.8682 - val_acc: 0.7221 - lr: 0.1000\n",
            "Epoch 61/200\n",
            "29/29 [==============================] - 10s 359ms/step - loss: 0.4559 - acc: 0.8316 - val_loss: 0.6539 - val_acc: 0.7697 - lr: 0.0200\n",
            "Epoch 62/200\n",
            "29/29 [==============================] - 10s 360ms/step - loss: 0.3197 - acc: 0.8883 - val_loss: 0.5819 - val_acc: 0.7978 - lr: 0.0200\n",
            "Epoch 63/200\n",
            "29/29 [==============================] - 10s 360ms/step - loss: 0.2760 - acc: 0.9053 - val_loss: 0.5477 - val_acc: 0.8110 - lr: 0.0200\n",
            "Epoch 64/200\n",
            "29/29 [==============================] - 10s 361ms/step - loss: 0.2553 - acc: 0.9074 - val_loss: 0.5678 - val_acc: 0.8068 - lr: 0.0200\n",
            "Epoch 65/200\n",
            "29/29 [==============================] - 10s 361ms/step - loss: 0.2424 - acc: 0.9136 - val_loss: 0.5747 - val_acc: 0.8158 - lr: 0.0200\n",
            "Epoch 66/200\n",
            "29/29 [==============================] - 10s 359ms/step - loss: 0.2305 - acc: 0.9209 - val_loss: 0.5867 - val_acc: 0.8036 - lr: 0.0200\n",
            "Epoch 67/200\n",
            "29/29 [==============================] - 10s 359ms/step - loss: 0.2176 - acc: 0.9250 - val_loss: 0.5911 - val_acc: 0.8084 - lr: 0.0200\n",
            "Epoch 68/200\n",
            "29/29 [==============================] - 10s 361ms/step - loss: 0.2047 - acc: 0.9325 - val_loss: 0.6209 - val_acc: 0.8036 - lr: 0.0200\n",
            "Epoch 69/200\n",
            "29/29 [==============================] - 10s 360ms/step - loss: 0.2074 - acc: 0.9220 - val_loss: 0.6145 - val_acc: 0.7994 - lr: 0.0200\n",
            "Epoch 70/200\n",
            "29/29 [==============================] - 10s 360ms/step - loss: 0.1941 - acc: 0.9304 - val_loss: 0.6214 - val_acc: 0.8015 - lr: 0.0200\n",
            "Epoch 71/200\n",
            "29/29 [==============================] - 10s 359ms/step - loss: 0.1897 - acc: 0.9336 - val_loss: 0.6175 - val_acc: 0.8068 - lr: 0.0200\n",
            "Epoch 72/200\n",
            "29/29 [==============================] - 10s 360ms/step - loss: 0.2047 - acc: 0.9244 - val_loss: 0.7129 - val_acc: 0.7856 - lr: 0.0200\n",
            "Epoch 73/200\n",
            "29/29 [==============================] - 10s 360ms/step - loss: 0.1943 - acc: 0.9309 - val_loss: 0.6648 - val_acc: 0.7920 - lr: 0.0200\n",
            "Epoch 74/200\n",
            "29/29 [==============================] - 10s 359ms/step - loss: 0.1941 - acc: 0.9336 - val_loss: 0.7339 - val_acc: 0.7808 - lr: 0.0200\n",
            "Epoch 75/200\n",
            "29/29 [==============================] - 10s 360ms/step - loss: 0.1830 - acc: 0.9341 - val_loss: 0.6603 - val_acc: 0.8068 - lr: 0.0200\n",
            "Epoch 76/200\n",
            "29/29 [==============================] - 10s 361ms/step - loss: 0.1942 - acc: 0.9252 - val_loss: 0.6719 - val_acc: 0.7909 - lr: 0.0200\n",
            "Epoch 77/200\n",
            "29/29 [==============================] - 10s 359ms/step - loss: 0.2034 - acc: 0.9317 - val_loss: 0.6814 - val_acc: 0.8025 - lr: 0.0200\n",
            "Epoch 78/200\n",
            "29/29 [==============================] - 10s 360ms/step - loss: 0.1822 - acc: 0.9339 - val_loss: 0.6996 - val_acc: 0.7920 - lr: 0.0200\n",
            "Epoch 79/200\n",
            "29/29 [==============================] - 10s 360ms/step - loss: 0.1798 - acc: 0.9350 - val_loss: 0.7089 - val_acc: 0.7925 - lr: 0.0200\n",
            "Epoch 80/200\n",
            "29/29 [==============================] - 10s 360ms/step - loss: 0.1886 - acc: 0.9341 - val_loss: 0.7503 - val_acc: 0.8010 - lr: 0.0200\n",
            "Epoch 81/200\n",
            "29/29 [==============================] - 10s 361ms/step - loss: 0.2012 - acc: 0.9274 - val_loss: 0.6484 - val_acc: 0.7994 - lr: 0.0200\n",
            "Epoch 82/200\n",
            "29/29 [==============================] - 10s 361ms/step - loss: 0.1943 - acc: 0.9350 - val_loss: 0.7239 - val_acc: 0.7967 - lr: 0.0200\n",
            "Epoch 83/200\n",
            "29/29 [==============================] - 10s 360ms/step - loss: 0.1869 - acc: 0.9336 - val_loss: 0.7276 - val_acc: 0.7803 - lr: 0.0200\n",
            "Epoch 84/200\n",
            "29/29 [==============================] - 10s 362ms/step - loss: 0.1679 - acc: 0.9404 - val_loss: 0.7879 - val_acc: 0.7803 - lr: 0.0200\n",
            "Epoch 85/200\n",
            "29/29 [==============================] - 10s 360ms/step - loss: 0.1825 - acc: 0.9328 - val_loss: 0.7009 - val_acc: 0.7845 - lr: 0.0200\n",
            "Epoch 86/200\n",
            "29/29 [==============================] - 10s 358ms/step - loss: 0.1609 - acc: 0.9449 - val_loss: 0.7435 - val_acc: 0.7920 - lr: 0.0200\n",
            "Epoch 87/200\n",
            "29/29 [==============================] - 10s 361ms/step - loss: 0.1836 - acc: 0.9324 - val_loss: 0.7250 - val_acc: 0.7962 - lr: 0.0200\n",
            "Epoch 88/200\n",
            "29/29 [==============================] - 10s 359ms/step - loss: 0.1663 - acc: 0.9409 - val_loss: 0.7411 - val_acc: 0.7957 - lr: 0.0200\n",
            "Epoch 89/200\n",
            "29/29 [==============================] - 10s 361ms/step - loss: 0.1742 - acc: 0.9387 - val_loss: 0.6640 - val_acc: 0.8020 - lr: 0.0200\n",
            "Epoch 90/200\n",
            "29/29 [==============================] - 10s 358ms/step - loss: 0.1802 - acc: 0.9341 - val_loss: 0.7030 - val_acc: 0.8089 - lr: 0.0200\n",
            "Epoch 91/200\n",
            "29/29 [==============================] - 10s 359ms/step - loss: 0.1725 - acc: 0.9344 - val_loss: 0.7201 - val_acc: 0.8015 - lr: 0.0200\n",
            "Epoch 92/200\n",
            "29/29 [==============================] - 10s 359ms/step - loss: 0.1780 - acc: 0.9379 - val_loss: 0.6941 - val_acc: 0.7951 - lr: 0.0200\n",
            "Epoch 93/200\n",
            "29/29 [==============================] - 10s 359ms/step - loss: 0.1661 - acc: 0.9355 - val_loss: 0.7333 - val_acc: 0.8062 - lr: 0.0200\n",
            "Epoch 94/200\n",
            "29/29 [==============================] - 10s 358ms/step - loss: 0.1912 - acc: 0.9306 - val_loss: 0.7276 - val_acc: 0.7967 - lr: 0.0200\n",
            "Epoch 95/200\n",
            "29/29 [==============================] - 10s 359ms/step - loss: 0.2184 - acc: 0.9271 - val_loss: 0.6539 - val_acc: 0.8036 - lr: 0.0200\n",
            "Epoch 96/200\n",
            "29/29 [==============================] - 10s 359ms/step - loss: 0.1943 - acc: 0.9282 - val_loss: 0.7272 - val_acc: 0.7898 - lr: 0.0200\n",
            "Epoch 97/200\n",
            "29/29 [==============================] - 10s 360ms/step - loss: 0.1717 - acc: 0.9417 - val_loss: 0.7024 - val_acc: 0.8068 - lr: 0.0200\n",
            "Epoch 98/200\n",
            "29/29 [==============================] - 10s 359ms/step - loss: 0.1688 - acc: 0.9395 - val_loss: 0.7045 - val_acc: 0.8089 - lr: 0.0200\n",
            "Epoch 99/200\n",
            "29/29 [==============================] - 10s 361ms/step - loss: 0.1883 - acc: 0.9312 - val_loss: 0.7551 - val_acc: 0.7898 - lr: 0.0200\n",
            "Epoch 100/200\n",
            "29/29 [==============================] - 10s 360ms/step - loss: 0.1606 - acc: 0.9417 - val_loss: 0.7568 - val_acc: 0.8020 - lr: 0.0200\n",
            "Epoch 101/200\n",
            "29/29 [==============================] - 10s 360ms/step - loss: 0.1608 - acc: 0.9409 - val_loss: 0.9273 - val_acc: 0.7750 - lr: 0.0200\n",
            "Epoch 102/200\n",
            "29/29 [==============================] - 10s 359ms/step - loss: 0.1608 - acc: 0.9420 - val_loss: 0.7822 - val_acc: 0.7962 - lr: 0.0200\n",
            "Epoch 103/200\n",
            "29/29 [==============================] - 10s 357ms/step - loss: 0.1486 - acc: 0.9484 - val_loss: 0.7197 - val_acc: 0.8073 - lr: 0.0200\n",
            "Epoch 104/200\n",
            "29/29 [==============================] - 10s 358ms/step - loss: 0.1464 - acc: 0.9474 - val_loss: 0.6687 - val_acc: 0.8131 - lr: 0.0200\n",
            "Epoch 105/200\n",
            "29/29 [==============================] - 10s 359ms/step - loss: 0.1304 - acc: 0.9544 - val_loss: 0.7678 - val_acc: 0.7840 - lr: 0.0200\n",
            "Epoch 106/200\n",
            "29/29 [==============================] - 10s 358ms/step - loss: 0.1673 - acc: 0.9401 - val_loss: 0.7391 - val_acc: 0.8057 - lr: 0.0200\n",
            "Epoch 107/200\n",
            "29/29 [==============================] - 10s 358ms/step - loss: 0.1906 - acc: 0.9293 - val_loss: 0.7637 - val_acc: 0.7941 - lr: 0.0200\n",
            "Epoch 108/200\n",
            "29/29 [==============================] - 10s 360ms/step - loss: 0.1788 - acc: 0.9328 - val_loss: 0.7879 - val_acc: 0.7782 - lr: 0.0200\n",
            "Epoch 109/200\n",
            "29/29 [==============================] - 10s 358ms/step - loss: 0.1792 - acc: 0.9382 - val_loss: 0.7249 - val_acc: 0.8078 - lr: 0.0200\n",
            "Epoch 110/200\n",
            "29/29 [==============================] - 10s 359ms/step - loss: 0.1624 - acc: 0.9422 - val_loss: 0.6909 - val_acc: 0.8004 - lr: 0.0200\n",
            "Epoch 111/200\n",
            "29/29 [==============================] - 10s 358ms/step - loss: 0.1614 - acc: 0.9412 - val_loss: 0.8695 - val_acc: 0.7904 - lr: 0.0200\n",
            "Epoch 112/200\n",
            "29/29 [==============================] - 10s 359ms/step - loss: 0.1773 - acc: 0.9360 - val_loss: 0.6845 - val_acc: 0.7967 - lr: 0.0200\n",
            "Epoch 113/200\n",
            "29/29 [==============================] - 10s 358ms/step - loss: 0.1549 - acc: 0.9449 - val_loss: 0.7044 - val_acc: 0.8020 - lr: 0.0200\n",
            "Epoch 114/200\n",
            "29/29 [==============================] - 10s 361ms/step - loss: 0.1532 - acc: 0.9422 - val_loss: 0.7008 - val_acc: 0.8068 - lr: 0.0200\n",
            "Epoch 115/200\n",
            "29/29 [==============================] - 10s 359ms/step - loss: 0.1650 - acc: 0.9390 - val_loss: 0.7839 - val_acc: 0.7803 - lr: 0.0200\n",
            "Epoch 116/200\n",
            "29/29 [==============================] - 10s 360ms/step - loss: 0.1652 - acc: 0.9428 - val_loss: 0.8144 - val_acc: 0.7935 - lr: 0.0200\n",
            "Epoch 117/200\n",
            "29/29 [==============================] - 10s 359ms/step - loss: 0.1673 - acc: 0.9398 - val_loss: 0.7476 - val_acc: 0.8052 - lr: 0.0200\n",
            "Epoch 118/200\n",
            "29/29 [==============================] - 10s 359ms/step - loss: 0.1667 - acc: 0.9430 - val_loss: 0.8439 - val_acc: 0.7777 - lr: 0.0200\n",
            "Epoch 119/200\n",
            "29/29 [==============================] - 10s 358ms/step - loss: 0.1643 - acc: 0.9374 - val_loss: 0.7310 - val_acc: 0.8115 - lr: 0.0200\n",
            "Epoch 120/200\n",
            "29/29 [==============================] - 10s 359ms/step - loss: 0.1535 - acc: 0.9463 - val_loss: 0.7630 - val_acc: 0.7951 - lr: 0.0200\n",
            "Epoch 121/200\n",
            "29/29 [==============================] - 10s 358ms/step - loss: 0.1889 - acc: 0.9344 - val_loss: 0.7605 - val_acc: 0.7946 - lr: 0.0040\n",
            "Epoch 122/200\n",
            "29/29 [==============================] - 10s 359ms/step - loss: 0.0964 - acc: 0.9668 - val_loss: 0.6874 - val_acc: 0.8184 - lr: 0.0040\n",
            "Epoch 123/200\n",
            "29/29 [==============================] - 10s 359ms/step - loss: 0.0655 - acc: 0.9816 - val_loss: 0.6650 - val_acc: 0.8158 - lr: 0.0040\n",
            "Epoch 124/200\n",
            "29/29 [==============================] - 10s 360ms/step - loss: 0.0590 - acc: 0.9841 - val_loss: 0.6895 - val_acc: 0.8205 - lr: 0.0040\n",
            "Epoch 125/200\n",
            "29/29 [==============================] - 10s 358ms/step - loss: 0.0520 - acc: 0.9846 - val_loss: 0.6899 - val_acc: 0.8216 - lr: 0.0040\n",
            "Epoch 126/200\n",
            "29/29 [==============================] - 10s 359ms/step - loss: 0.0465 - acc: 0.9870 - val_loss: 0.6710 - val_acc: 0.8200 - lr: 0.0040\n",
            "Epoch 127/200\n",
            "29/29 [==============================] - 10s 358ms/step - loss: 0.0407 - acc: 0.9908 - val_loss: 0.7022 - val_acc: 0.8248 - lr: 0.0040\n",
            "Epoch 128/200\n",
            "29/29 [==============================] - 10s 359ms/step - loss: 0.0363 - acc: 0.9911 - val_loss: 0.6995 - val_acc: 0.8221 - lr: 0.0040\n",
            "Epoch 129/200\n",
            "29/29 [==============================] - 10s 358ms/step - loss: 0.0358 - acc: 0.9933 - val_loss: 0.8092 - val_acc: 0.8062 - lr: 0.0040\n",
            "Epoch 130/200\n",
            "29/29 [==============================] - 10s 358ms/step - loss: 0.0324 - acc: 0.9933 - val_loss: 0.7249 - val_acc: 0.8317 - lr: 0.0040\n",
            "Epoch 131/200\n",
            "29/29 [==============================] - 10s 358ms/step - loss: 0.0331 - acc: 0.9916 - val_loss: 0.7318 - val_acc: 0.8264 - lr: 0.0040\n",
            "Epoch 132/200\n",
            "29/29 [==============================] - 10s 359ms/step - loss: 0.0335 - acc: 0.9906 - val_loss: 0.7273 - val_acc: 0.8317 - lr: 0.0040\n",
            "Epoch 133/200\n",
            "29/29 [==============================] - 10s 357ms/step - loss: 0.0349 - acc: 0.9908 - val_loss: 0.7494 - val_acc: 0.8322 - lr: 0.0040\n",
            "Epoch 134/200\n",
            "29/29 [==============================] - 10s 359ms/step - loss: 0.0275 - acc: 0.9938 - val_loss: 0.7651 - val_acc: 0.8242 - lr: 0.0040\n",
            "Epoch 135/200\n",
            "29/29 [==============================] - 10s 359ms/step - loss: 0.0287 - acc: 0.9933 - val_loss: 0.7321 - val_acc: 0.8274 - lr: 0.0040\n",
            "Epoch 136/200\n",
            "29/29 [==============================] - 10s 360ms/step - loss: 0.0294 - acc: 0.9930 - val_loss: 0.7766 - val_acc: 0.8232 - lr: 0.0040\n",
            "Epoch 137/200\n",
            "29/29 [==============================] - 10s 359ms/step - loss: 0.0292 - acc: 0.9903 - val_loss: 0.7437 - val_acc: 0.8253 - lr: 0.0040\n",
            "Epoch 138/200\n",
            "29/29 [==============================] - 10s 359ms/step - loss: 0.0291 - acc: 0.9938 - val_loss: 0.7355 - val_acc: 0.8264 - lr: 0.0040\n",
            "Epoch 139/200\n",
            "29/29 [==============================] - 10s 358ms/step - loss: 0.0305 - acc: 0.9919 - val_loss: 0.7950 - val_acc: 0.8184 - lr: 0.0040\n",
            "Epoch 140/200\n",
            "29/29 [==============================] - 10s 358ms/step - loss: 0.0234 - acc: 0.9951 - val_loss: 0.7897 - val_acc: 0.8211 - lr: 0.0040\n",
            "Epoch 141/200\n",
            "29/29 [==============================] - 10s 359ms/step - loss: 0.0258 - acc: 0.9941 - val_loss: 0.7639 - val_acc: 0.8237 - lr: 0.0040\n",
            "Epoch 142/200\n",
            "29/29 [==============================] - 10s 358ms/step - loss: 0.0228 - acc: 0.9954 - val_loss: 0.8271 - val_acc: 0.8205 - lr: 0.0040\n",
            "Epoch 143/200\n",
            "29/29 [==============================] - 10s 359ms/step - loss: 0.0255 - acc: 0.9935 - val_loss: 0.7748 - val_acc: 0.8237 - lr: 0.0040\n",
            "Epoch 144/200\n",
            "29/29 [==============================] - 10s 358ms/step - loss: 0.0265 - acc: 0.9924 - val_loss: 0.7941 - val_acc: 0.8190 - lr: 0.0040\n",
            "Epoch 145/200\n",
            "29/29 [==============================] - 10s 360ms/step - loss: 0.0238 - acc: 0.9960 - val_loss: 0.7763 - val_acc: 0.8221 - lr: 0.0040\n",
            "Epoch 146/200\n",
            "29/29 [==============================] - 10s 357ms/step - loss: 0.0259 - acc: 0.9930 - val_loss: 0.8059 - val_acc: 0.8242 - lr: 0.0040\n",
            "Epoch 147/200\n",
            "29/29 [==============================] - 10s 358ms/step - loss: 0.0237 - acc: 0.9954 - val_loss: 0.8102 - val_acc: 0.8370 - lr: 0.0040\n",
            "Epoch 148/200\n",
            "29/29 [==============================] - 10s 359ms/step - loss: 0.0242 - acc: 0.9930 - val_loss: 0.7981 - val_acc: 0.8301 - lr: 0.0040\n",
            "Epoch 149/200\n",
            "29/29 [==============================] - 10s 358ms/step - loss: 0.0226 - acc: 0.9949 - val_loss: 0.7743 - val_acc: 0.8253 - lr: 0.0040\n",
            "Epoch 150/200\n",
            "29/29 [==============================] - 10s 359ms/step - loss: 0.0222 - acc: 0.9941 - val_loss: 0.8395 - val_acc: 0.8227 - lr: 0.0040\n",
            "Epoch 151/200\n",
            "29/29 [==============================] - 10s 358ms/step - loss: 0.0194 - acc: 0.9962 - val_loss: 0.8121 - val_acc: 0.8242 - lr: 0.0040\n",
            "Epoch 152/200\n",
            "29/29 [==============================] - 10s 357ms/step - loss: 0.0208 - acc: 0.9957 - val_loss: 0.8114 - val_acc: 0.8227 - lr: 0.0040\n",
            "Epoch 153/200\n",
            "29/29 [==============================] - 10s 358ms/step - loss: 0.0213 - acc: 0.9949 - val_loss: 0.8516 - val_acc: 0.8227 - lr: 0.0040\n",
            "Epoch 154/200\n",
            "29/29 [==============================] - 10s 358ms/step - loss: 0.0197 - acc: 0.9954 - val_loss: 0.7740 - val_acc: 0.8242 - lr: 0.0040\n",
            "Epoch 155/200\n",
            "29/29 [==============================] - 10s 359ms/step - loss: 0.0201 - acc: 0.9946 - val_loss: 0.8355 - val_acc: 0.8295 - lr: 0.0040\n",
            "Epoch 156/200\n",
            "29/29 [==============================] - 10s 358ms/step - loss: 0.0199 - acc: 0.9954 - val_loss: 0.8400 - val_acc: 0.8168 - lr: 0.0040\n",
            "Epoch 157/200\n",
            "29/29 [==============================] - 10s 359ms/step - loss: 0.0215 - acc: 0.9935 - val_loss: 0.8046 - val_acc: 0.8264 - lr: 0.0040\n",
            "Epoch 158/200\n",
            "29/29 [==============================] - 10s 359ms/step - loss: 0.0200 - acc: 0.9951 - val_loss: 0.7909 - val_acc: 0.8258 - lr: 0.0040\n",
            "Epoch 159/200\n",
            "29/29 [==============================] - 10s 358ms/step - loss: 0.0199 - acc: 0.9960 - val_loss: 0.8270 - val_acc: 0.8258 - lr: 0.0040\n",
            "Epoch 160/200\n",
            "29/29 [==============================] - 10s 359ms/step - loss: 0.0203 - acc: 0.9951 - val_loss: 0.8014 - val_acc: 0.8253 - lr: 0.0040\n",
            "Epoch 161/200\n",
            "29/29 [==============================] - 10s 358ms/step - loss: 0.0201 - acc: 0.9941 - val_loss: 0.7917 - val_acc: 0.8301 - lr: 8.0000e-04\n",
            "Epoch 162/200\n",
            "29/29 [==============================] - 10s 358ms/step - loss: 0.0194 - acc: 0.9954 - val_loss: 0.7968 - val_acc: 0.8258 - lr: 8.0000e-04\n",
            "Epoch 163/200\n",
            "29/29 [==============================] - 10s 358ms/step - loss: 0.0186 - acc: 0.9954 - val_loss: 0.7885 - val_acc: 0.8253 - lr: 8.0000e-04\n",
            "Epoch 164/200\n",
            "29/29 [==============================] - 10s 358ms/step - loss: 0.0132 - acc: 0.9973 - val_loss: 0.7790 - val_acc: 0.8269 - lr: 8.0000e-04\n",
            "Epoch 165/200\n",
            "29/29 [==============================] - 10s 359ms/step - loss: 0.0115 - acc: 0.9976 - val_loss: 0.7967 - val_acc: 0.8237 - lr: 8.0000e-04\n",
            "Epoch 166/200\n",
            "29/29 [==============================] - 10s 359ms/step - loss: 0.0131 - acc: 0.9976 - val_loss: 0.8024 - val_acc: 0.8290 - lr: 8.0000e-04\n",
            "Epoch 167/200\n",
            "29/29 [==============================] - 10s 359ms/step - loss: 0.0107 - acc: 0.9976 - val_loss: 0.7742 - val_acc: 0.8327 - lr: 8.0000e-04\n",
            "Epoch 168/200\n",
            "29/29 [==============================] - 10s 360ms/step - loss: 0.0129 - acc: 0.9978 - val_loss: 0.8003 - val_acc: 0.8280 - lr: 8.0000e-04\n",
            "Epoch 169/200\n",
            "29/29 [==============================] - 10s 358ms/step - loss: 0.0129 - acc: 0.9976 - val_loss: 0.8031 - val_acc: 0.8322 - lr: 8.0000e-04\n",
            "Epoch 170/200\n",
            "29/29 [==============================] - 10s 358ms/step - loss: 0.0108 - acc: 0.9984 - val_loss: 0.7923 - val_acc: 0.8301 - lr: 8.0000e-04\n",
            "Epoch 171/200\n",
            "29/29 [==============================] - 10s 359ms/step - loss: 0.0105 - acc: 0.9992 - val_loss: 0.7841 - val_acc: 0.8322 - lr: 8.0000e-04\n",
            "Epoch 172/200\n",
            "29/29 [==============================] - 10s 359ms/step - loss: 0.0135 - acc: 0.9965 - val_loss: 0.8261 - val_acc: 0.8285 - lr: 8.0000e-04\n",
            "Epoch 173/200\n",
            "29/29 [==============================] - 10s 358ms/step - loss: 0.0107 - acc: 0.9970 - val_loss: 0.7986 - val_acc: 0.8306 - lr: 8.0000e-04\n",
            "Epoch 174/200\n",
            "29/29 [==============================] - 10s 358ms/step - loss: 0.0096 - acc: 0.9989 - val_loss: 0.8016 - val_acc: 0.8311 - lr: 8.0000e-04\n",
            "Epoch 175/200\n",
            "29/29 [==============================] - 10s 359ms/step - loss: 0.0115 - acc: 0.9973 - val_loss: 0.8023 - val_acc: 0.8327 - lr: 8.0000e-04\n",
            "Epoch 176/200\n",
            "29/29 [==============================] - 10s 359ms/step - loss: 0.0099 - acc: 0.9992 - val_loss: 0.8020 - val_acc: 0.8332 - lr: 8.0000e-04\n",
            "Epoch 177/200\n",
            "29/29 [==============================] - 10s 359ms/step - loss: 0.0118 - acc: 0.9981 - val_loss: 0.8305 - val_acc: 0.8290 - lr: 8.0000e-04\n",
            "Epoch 178/200\n",
            "29/29 [==============================] - 10s 359ms/step - loss: 0.0117 - acc: 0.9984 - val_loss: 0.8221 - val_acc: 0.8301 - lr: 8.0000e-04\n",
            "Epoch 179/200\n",
            "29/29 [==============================] - 10s 357ms/step - loss: 0.0085 - acc: 0.9995 - val_loss: 0.8094 - val_acc: 0.8306 - lr: 8.0000e-04\n",
            "Epoch 180/200\n",
            "29/29 [==============================] - 10s 358ms/step - loss: 0.0098 - acc: 0.9984 - val_loss: 0.8158 - val_acc: 0.8301 - lr: 8.0000e-04\n",
            "Epoch 181/200\n",
            "29/29 [==============================] - 10s 358ms/step - loss: 0.0092 - acc: 0.9987 - val_loss: 0.8286 - val_acc: 0.8242 - lr: 8.0000e-04\n",
            "Epoch 182/200\n",
            "29/29 [==============================] - 10s 358ms/step - loss: 0.0100 - acc: 0.9984 - val_loss: 0.8002 - val_acc: 0.8301 - lr: 8.0000e-04\n",
            "Epoch 183/200\n",
            "29/29 [==============================] - 10s 359ms/step - loss: 0.0098 - acc: 0.9984 - val_loss: 0.7900 - val_acc: 0.8338 - lr: 8.0000e-04\n",
            "Epoch 184/200\n",
            "29/29 [==============================] - 10s 359ms/step - loss: 0.0102 - acc: 0.9989 - val_loss: 0.8082 - val_acc: 0.8327 - lr: 8.0000e-04\n",
            "Epoch 185/200\n",
            "29/29 [==============================] - 10s 361ms/step - loss: 0.0094 - acc: 0.9978 - val_loss: 0.8075 - val_acc: 0.8285 - lr: 8.0000e-04\n",
            "Epoch 186/200\n",
            "29/29 [==============================] - 10s 359ms/step - loss: 0.0096 - acc: 0.9989 - val_loss: 0.7993 - val_acc: 0.8274 - lr: 8.0000e-04\n",
            "Epoch 187/200\n",
            "29/29 [==============================] - 10s 359ms/step - loss: 0.0087 - acc: 0.9987 - val_loss: 0.8020 - val_acc: 0.8317 - lr: 8.0000e-04\n",
            "Epoch 188/200\n",
            "29/29 [==============================] - 10s 359ms/step - loss: 0.0095 - acc: 0.9987 - val_loss: 0.8023 - val_acc: 0.8322 - lr: 8.0000e-04\n",
            "Epoch 189/200\n",
            "29/29 [==============================] - 10s 359ms/step - loss: 0.0097 - acc: 0.9981 - val_loss: 0.8288 - val_acc: 0.8290 - lr: 8.0000e-04\n",
            "Epoch 190/200\n",
            "29/29 [==============================] - 10s 360ms/step - loss: 0.0086 - acc: 0.9992 - val_loss: 0.8070 - val_acc: 0.8317 - lr: 8.0000e-04\n",
            "Epoch 191/200\n",
            "29/29 [==============================] - 10s 358ms/step - loss: 0.0102 - acc: 0.9976 - val_loss: 0.8206 - val_acc: 0.8322 - lr: 8.0000e-04\n",
            "Epoch 192/200\n",
            "29/29 [==============================] - 10s 359ms/step - loss: 0.0093 - acc: 0.9987 - val_loss: 0.8279 - val_acc: 0.8290 - lr: 8.0000e-04\n",
            "Epoch 193/200\n",
            "29/29 [==============================] - 10s 359ms/step - loss: 0.0080 - acc: 0.9984 - val_loss: 0.8125 - val_acc: 0.8317 - lr: 8.0000e-04\n",
            "Epoch 194/200\n",
            "29/29 [==============================] - 10s 360ms/step - loss: 0.0102 - acc: 0.9987 - val_loss: 0.8327 - val_acc: 0.8295 - lr: 8.0000e-04\n",
            "Epoch 195/200\n",
            "29/29 [==============================] - 10s 358ms/step - loss: 0.0117 - acc: 0.9987 - val_loss: 0.8229 - val_acc: 0.8295 - lr: 8.0000e-04\n",
            "Epoch 196/200\n",
            "29/29 [==============================] - 10s 358ms/step - loss: 0.0086 - acc: 0.9989 - val_loss: 0.8146 - val_acc: 0.8317 - lr: 8.0000e-04\n",
            "Epoch 197/200\n",
            "29/29 [==============================] - 10s 360ms/step - loss: 0.0087 - acc: 0.9992 - val_loss: 0.8411 - val_acc: 0.8264 - lr: 8.0000e-04\n",
            "Epoch 198/200\n",
            "29/29 [==============================] - 10s 359ms/step - loss: 0.0077 - acc: 0.9992 - val_loss: 0.8319 - val_acc: 0.8269 - lr: 8.0000e-04\n",
            "Epoch 199/200\n",
            "29/29 [==============================] - 10s 360ms/step - loss: 0.0071 - acc: 0.9997 - val_loss: 0.8260 - val_acc: 0.8280 - lr: 8.0000e-04\n",
            "Epoch 200/200\n",
            "29/29 [==============================] - 10s 358ms/step - loss: 0.0063 - acc: 0.9997 - val_loss: 0.8171 - val_acc: 0.8317 - lr: 8.0000e-04\n"
          ],
          "name": "stdout"
        }
      ]
    },
    {
      "cell_type": "code",
      "metadata": {
        "id": "y-QerZ4RN91R",
        "colab_type": "code",
        "outputId": "8260a6e9-736d-46cd-bad2-3d53e4872f8d",
        "colab": {
          "base_uri": "https://localhost:8080/",
          "height": 282
        }
      },
      "source": [
        "from matplotlib import  pyplot\n",
        "\n",
        "pyplot.plot(hist.history[\"acc\"], label='train')\n",
        "pyplot.plot(hist.history['val_acc'], label='test')\n"
      ],
      "execution_count": 0,
      "outputs": [
        {
          "output_type": "execute_result",
          "data": {
            "text/plain": [
              "[<matplotlib.lines.Line2D at 0x7fc55b5cd518>]"
            ]
          },
          "metadata": {
            "tags": []
          },
          "execution_count": 17
        },
        {
          "output_type": "display_data",
          "data": {
            "image/png": "[encoded data removed]",
            "text/plain": [
              "<Figure size 432x288 with 1 Axes>"
            ]
          },
          "metadata": {
            "tags": [],
            "needs_background": "light"
          }
        }
      ]
    },
    {
      "cell_type": "code",
      "metadata": {
        "id": "xeg6MBf-GSgC",
        "colab_type": "code",
        "colab": {}
      },
      "source": [
        "test_err = [1.0-x for x in hist.history['val_acc']]"
      ],
      "execution_count": 0,
      "outputs": []
    },
    {
      "cell_type": "code",
      "metadata": {
        "id": "RgiKT6i5GiJ9",
        "colab_type": "code",
        "outputId": "090feebf-b0e1-4a8a-cf74-45d50afc802b",
        "colab": {
          "base_uri": "https://localhost:8080/",
          "height": 265
        }
      },
      "source": [
        "pyplot.plot(test_err, label='test')\n",
        "pyplot.savefig(\"deneme_err.png\")"
      ],
      "execution_count": 0,
      "outputs": [
        {
          "output_type": "display_data",
          "data": {
            "image/png": "[encoded data removed]",
            "text/plain": [
              "<Figure size 432x288 with 1 Axes>"
            ]
          },
          "metadata": {
            "tags": [],
            "needs_background": "light"
          }
        }
      ]
    },
    {
      "cell_type": "code",
      "metadata": {
        "id": "l4-IJ9Z-dQKF",
        "colab_type": "code",
        "colab": {}
      },
      "source": [
        "import tensorflow as tf\n",
        "parseval_16_2.save(\"parseval_tensor_lst.h5\")"
      ],
      "execution_count": 0,
      "outputs": []
    },
    {
      "cell_type": "code",
      "metadata": {
        "id": "MqddlwbmEV9s",
        "colab_type": "code",
        "colab": {}
      },
      "source": [
        "y_pred = parseval_16_2.predict(X_test)"
      ],
      "execution_count": 0,
      "outputs": []
    },
    {
      "cell_type": "code",
      "metadata": {
        "id": "C9Ysop6NFDbs",
        "colab_type": "code",
        "outputId": "0343737d-7d1d-468d-8531-fe503a38d5c0",
        "colab": {
          "base_uri": "https://localhost:8080/",
          "height": 51
        }
      },
      "source": [
        "parseval_16_2.evaluate(X_test,to_categorical(y_test_df['New']),batch_size=128,verbose=2)"
      ],
      "execution_count": 0,
      "outputs": [
        {
          "output_type": "stream",
          "text": [
            "15/15 - 1s - loss: 0.8171 - acc: 0.8317\n"
          ],
          "name": "stdout"
        },
        {
          "output_type": "execute_result",
          "data": {
            "text/plain": [
              "[0.817147433757782, 0.8316569328308105]"
            ]
          },
          "metadata": {
            "tags": []
          },
          "execution_count": 22
        }
      ]
    },
    {
      "cell_type": "code",
      "metadata": {
        "id": "THYCAlBW15Kg",
        "colab_type": "code",
        "outputId": "c947688e-b185-4a4f-f4a4-d0c4f889e127",
        "colab": {
          "base_uri": "https://localhost:8080/",
          "height": 734
        }
      },
      "source": [
        "!pip install -q tensorflow==2.0.0b1\n",
        "# Install bleeding edge version of cleverhans\n",
        "!pip install git+https://github.com/tensorflow/cleverhans.git#egg=cleverhans\n",
        "\n",
        "import cleverhans\n",
        "import tensorflow as tf\n",
        "import numpy as np\n",
        "import matplotlib.pyplot as plt\n",
        "\n",
        "print(\"\\nTensorflow Version: \" + tf.__version__)\n",
        "print(\"Cleverhans Version: \" + cleverhans.__version__)\n",
        "print(\"GPU Available: \", tf.test.is_gpu_available())"
      ],
      "execution_count": 0,
      "outputs": [
        {
          "output_type": "stream",
          "text": [
            "\u001b[K     |████████████████████████████████| 87.9MB 35kB/s \n",
            "\u001b[K     |████████████████████████████████| 3.1MB 52.2MB/s \n",
            "\u001b[K     |████████████████████████████████| 501kB 56.3MB/s \n",
            "\u001b[?25hCollecting cleverhans\n",
            "  Cloning https://github.com/tensorflow/cleverhans.git to /tmp/pip-install-nh_dsdoh/cleverhans\n",
            "  Running command git clone -q https://github.com/tensorflow/cleverhans.git /tmp/pip-install-nh_dsdoh/cleverhans\n",
            "Collecting nose\n",
            "\u001b[?25l  Downloading https://files.pythonhosted.org/packages/15/d8/dd071918c040f50fa1cf80da16423af51ff8ce4a0f2399b7bf8de45ac3d9/nose-1.3.7-py3-none-any.whl (154kB)\n",
            "\u001b[K     |████████████████████████████████| 163kB 31.1MB/s \n",
            "\u001b[?25hCollecting pycodestyle\n",
            "\u001b[?25l  Downloading https://files.pythonhosted.org/packages/10/5b/88879fb861ab79aef45c7e199cae3ef7af487b5603dcb363517a50602dd7/pycodestyle-2.6.0-py2.py3-none-any.whl (41kB)\n",
            "\u001b[K     |████████████████████████████████| 51kB 9.0MB/s \n",
            "\u001b[?25hRequirement already satisfied: scipy in /usr/local/lib/python3.6/dist-packages (from cleverhans) (1.4.1)\n",
            "Requirement already satisfied: matplotlib in /usr/local/lib/python3.6/dist-packages (from cleverhans) (3.2.1)\n",
            "Collecting mnist~=0.2\n",
            "  Downloading https://files.pythonhosted.org/packages/c6/c4/5db3bfe009f8d71f1d532bbadbd0ec203764bba3a469e4703a889db8e5e0/mnist-0.2.2-py2.py3-none-any.whl\n",
            "Requirement already satisfied: numpy in /usr/local/lib/python3.6/dist-packages (from cleverhans) (1.18.4)\n",
            "Requirement already satisfied: tensorflow-probability in /usr/local/lib/python3.6/dist-packages (from cleverhans) (0.10.0)\n",
            "Requirement already satisfied: joblib in /usr/local/lib/python3.6/dist-packages (from cleverhans) (0.15.1)\n",
            "Requirement already satisfied: kiwisolver>=1.0.1 in /usr/local/lib/python3.6/dist-packages (from matplotlib->cleverhans) (1.2.0)\n",
            "Requirement already satisfied: pyparsing!=2.0.4,!=2.1.2,!=2.1.6,>=2.0.1 in /usr/local/lib/python3.6/dist-packages (from matplotlib->cleverhans) (2.4.7)\n",
            "Requirement already satisfied: python-dateutil>=2.1 in /usr/local/lib/python3.6/dist-packages (from matplotlib->cleverhans) (2.8.1)\n",
            "Requirement already satisfied: cycler>=0.10 in /usr/local/lib/python3.6/dist-packages (from matplotlib->cleverhans) (0.10.0)\n",
            "Requirement already satisfied: gast>=0.3.2 in /usr/local/lib/python3.6/dist-packages (from tensorflow-probability->cleverhans) (0.3.3)\n",
            "Requirement already satisfied: decorator in /usr/local/lib/python3.6/dist-packages (from tensorflow-probability->cleverhans) (4.4.2)\n",
            "Requirement already satisfied: cloudpickle>=1.2.2 in /usr/local/lib/python3.6/dist-packages (from tensorflow-probability->cleverhans) (1.3.0)\n",
            "Requirement already satisfied: six>=1.10.0 in /usr/local/lib/python3.6/dist-packages (from tensorflow-probability->cleverhans) (1.12.0)\n",
            "Building wheels for collected packages: cleverhans\n",
            "  Building wheel for cleverhans (setup.py) ... \u001b[?25l\u001b[?25hdone\n",
            "  Created wheel for cleverhans: filename=cleverhans-3.0.1-cp36-none-any.whl size=262572 sha256=708b7304ac7a6e28e4ef9ea44126f4a715f8f96b8ee650c8814df301078e521a\n",
            "  Stored in directory: /tmp/pip-ephem-wheel-cache-jif2zqq_/wheels/6e/59/ec/723a6f654aaf62c8c40f0f0850fdf71a4948598697f56c3bfa\n",
            "Successfully built cleverhans\n",
            "Installing collected packages: nose, pycodestyle, mnist, cleverhans\n",
            "Successfully installed cleverhans-3.0.1 mnist-0.2.2 nose-1.3.7 pycodestyle-2.6.0\n",
            "\n",
            "Tensorflow Version: 2.2.0\n",
            "Cleverhans Version: 3.0.1-fc7b7c7ec903258e0e3fb88503fa629f\n",
            "WARNING:tensorflow:From <ipython-input-23-67a2c783edbc>:12: is_gpu_available (from tensorflow.python.framework.test_util) is deprecated and will be removed in a future version.\n",
            "Instructions for updating:\n",
            "Use `tf.config.list_physical_devices('GPU')` instead.\n",
            "GPU Available:  True\n"
          ],
          "name": "stdout"
        }
      ]
    },
    {
      "cell_type": "code",
      "metadata": {
        "id": "ZNev4Y9U2sFQ",
        "colab_type": "code",
        "outputId": "c87f32ea-ddb6-4e79-e7e5-4f90c61f1501",
        "colab": {
          "base_uri": "https://localhost:8080/",
          "height": 197
        }
      },
      "source": [
        "from cleverhans.future.tf2.attacks import fast_gradient_method\n",
        "\n",
        "#The attack requires the model to ouput the logits\n",
        "logits_model = tf.keras.Model(wrn_28_10.input,wrn_28_10.layers[-1].output)"
      ],
      "execution_count": 0,
      "outputs": [
        {
          "output_type": "error",
          "ename": "NameError",
          "evalue": "ignored",
          "traceback": [
            "\u001b[0;31m---------------------------------------------------------------------------\u001b[0m",
            "\u001b[0;31mNameError\u001b[0m                                 Traceback (most recent call last)",
            "\u001b[0;32m<ipython-input-24-4733b5d5dfed>\u001b[0m in \u001b[0;36m<module>\u001b[0;34m()\u001b[0m\n\u001b[1;32m      2\u001b[0m \u001b[0;34m\u001b[0m\u001b[0m\n\u001b[1;32m      3\u001b[0m \u001b[0;31m#The attack requires the model to ouput the logits\u001b[0m\u001b[0;34m\u001b[0m\u001b[0;34m\u001b[0m\u001b[0;34m\u001b[0m\u001b[0m\n\u001b[0;32m----> 4\u001b[0;31m \u001b[0mlogits_model\u001b[0m \u001b[0;34m=\u001b[0m \u001b[0mtf\u001b[0m\u001b[0;34m.\u001b[0m\u001b[0mkeras\u001b[0m\u001b[0;34m.\u001b[0m\u001b[0mModel\u001b[0m\u001b[0;34m(\u001b[0m\u001b[0mwrn_28_10\u001b[0m\u001b[0;34m.\u001b[0m\u001b[0minput\u001b[0m\u001b[0;34m,\u001b[0m\u001b[0mwrn_28_10\u001b[0m\u001b[0;34m.\u001b[0m\u001b[0mlayers\u001b[0m\u001b[0;34m[\u001b[0m\u001b[0;34m-\u001b[0m\u001b[0;36m1\u001b[0m\u001b[0;34m]\u001b[0m\u001b[0;34m.\u001b[0m\u001b[0moutput\u001b[0m\u001b[0;34m)\u001b[0m\u001b[0;34m\u001b[0m\u001b[0;34m\u001b[0m\u001b[0m\n\u001b[0m",
            "\u001b[0;31mNameError\u001b[0m: name 'wrn_28_10' is not defined"
          ]
        }
      ]
    },
    {
      "cell_type": "code",
      "metadata": {
        "id": "dtKEw7Uq3Dj-",
        "colab_type": "code",
        "colab": {}
      },
      "source": [
        "random_index = 5\n",
        "\n",
        "original_image = X_test[random_index]\n",
        "original_image = tf.convert_to_tensor(original_image.reshape((1,68,100))) "
      ],
      "execution_count": 0,
      "outputs": []
    },
    {
      "cell_type": "code",
      "metadata": {
        "id": "FdxYTfSn3R4l",
        "colab_type": "code",
        "colab": {}
      },
      "source": [
        "original_image.shape"
      ],
      "execution_count": 0,
      "outputs": []
    },
    {
      "cell_type": "code",
      "metadata": {
        "id": "YSa4WKy33U3K",
        "colab_type": "code",
        "colab": {}
      },
      "source": [
        "wrn_28_10(original_image)"
      ],
      "execution_count": 0,
      "outputs": []
    },
    {
      "cell_type": "code",
      "metadata": {
        "id": "_jrP3jw83fwT",
        "colab_type": "code",
        "colab": {}
      },
      "source": [
        "y_test_cat = to_categorical(y_test_df['New'])"
      ],
      "execution_count": 0,
      "outputs": []
    },
    {
      "cell_type": "code",
      "metadata": {
        "id": "4VoJsNJX4HiB",
        "colab_type": "code",
        "colab": {}
      },
      "source": [
        "original_label = y_test_cat[random_index]\n",
        "original_label "
      ],
      "execution_count": 0,
      "outputs": []
    },
    {
      "cell_type": "code",
      "metadata": {
        "id": "K70kNexu3l-c",
        "colab_type": "code",
        "colab": {}
      },
      "source": [
        "epsilon = 0.33\n",
        "\n",
        "\n",
        "adv_example_untargeted_label = fast_gradient_method(logits_model, original_image, epsilon, np.inf, targeted=False)\n",
        "\n",
        "adv_example_untargeted_label_pred = wrn_28_10.predict(adv_example_untargeted_label)"
      ],
      "execution_count": 0,
      "outputs": []
    },
    {
      "cell_type": "code",
      "metadata": {
        "id": "r-LglBmM4gNw",
        "colab_type": "code",
        "colab": {}
      },
      "source": [
        "adv_example_untargeted_label"
      ],
      "execution_count": 0,
      "outputs": []
    },
    {
      "cell_type": "code",
      "metadata": {
        "id": "8d6rZhTp4i2b",
        "colab_type": "code",
        "colab": {}
      },
      "source": [
        "np.argmax(adv_example_untargeted_label_pred)"
      ],
      "execution_count": 0,
      "outputs": []
    },
    {
      "cell_type": "code",
      "metadata": {
        "id": "EKCXvIXY66lb",
        "colab_type": "code",
        "colab": {}
      },
      "source": [
        "original_image = tf.reshape(adv_example_untargeted_label, (68,100))"
      ],
      "execution_count": 0,
      "outputs": []
    },
    {
      "cell_type": "code",
      "metadata": {
        "id": "R0jgK_uG7cwn",
        "colab_type": "code",
        "colab": {}
      },
      "source": [
        "original_image"
      ],
      "execution_count": 0,
      "outputs": []
    },
    {
      "cell_type": "code",
      "metadata": {
        "id": "70uI8BLT7r5H",
        "colab_type": "code",
        "colab": {}
      },
      "source": [
        "import matplotlib.pyplot as plt\n",
        "import numpy as np\n",
        "X = np.random.random((100, 100)) # sample 2D array\n",
        "plt.imshow(original_image)\n",
        "plt.show()"
      ],
      "execution_count": 0,
      "outputs": []
    },
    {
      "cell_type": "code",
      "metadata": {
        "id": "SumJnhN98Y0i",
        "colab_type": "code",
        "colab": {}
      },
      "source": [
        "y_test_cat[random_index]"
      ],
      "execution_count": 0,
      "outputs": []
    },
    {
      "cell_type": "code",
      "metadata": {
        "id": "woaZe08I8kM_",
        "colab_type": "code",
        "colab": {}
      },
      "source": [
        "y_test[random_index]"
      ],
      "execution_count": 0,
      "outputs": []
    }
  ]
}