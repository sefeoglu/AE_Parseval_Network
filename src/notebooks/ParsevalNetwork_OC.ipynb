{
  "nbformat": 4,
  "nbformat_minor": 0,
  "metadata": {
    "kernelspec": {
      "display_name": "Python 3",
      "language": "python",
      "name": "python3"
    },
    "language_info": {
      "codemirror_mode": {
        "name": "ipython",
        "version": 3
      },
      "file_extension": ".py",
      "mimetype": "text/x-python",
      "name": "python",
      "nbconvert_exporter": "python",
      "pygments_lexer": "ipython3",
      "version": "3.7.4"
    },
    "colab": {
      "name": "ParsevalNetwork.ipynb",
      "provenance": [],
      "toc_visible": true
    },
    "accelerator": "GPU"
  },
  "cells": [
    {
      "cell_type": "markdown",
      "metadata": {
        "id": "_idgCcuZdv0S",
        "colab_type": "text"
      },
      "source": [
        "# **Parseval Network**"
      ]
    },
    {
      "cell_type": "markdown",
      "metadata": {
        "id": "jO1kBOuDd2_r",
        "colab_type": "text"
      },
      "source": [
        "# **Data Preparation**"
      ]
    },
    {
      "cell_type": "code",
      "metadata": {
        "id": "esXS1STy_O_m",
        "colab_type": "code",
        "colab": {}
      },
      "source": [
        "from sklearn.model_selection import train_test_split\n",
        "import gzip\n",
        "import pickle\n",
        "import numpy as np"
      ],
      "execution_count": 0,
      "outputs": []
    },
    {
      "cell_type": "code",
      "metadata": {
        "id": "11nX1rD7_O_t",
        "colab_type": "code",
        "outputId": "f7e6d6a4-ee5c-41d3-d593-a1e75e8ac18f",
        "colab": {
          "base_uri": "https://localhost:8080/",
          "height": 34
        }
      },
      "source": [
        "def read_data():\n",
        "    with open(\"data.pz\", 'rb') as file_:\n",
        "        with gzip.GzipFile(fileobj=file_) as gzf:\n",
        "            data = pickle.load(gzf, encoding='latin1', fix_imports=True)\n",
        "    return data\n",
        "data = read_data()\n",
        "new_data_X = []\n",
        "Y_data = []\n",
        "for row in data:\n",
        "    new_data_X.append(row['crop'])\n",
        "    Y_data.append(row['label'])\n",
        "new_data_X = np.array(new_data_X)\n",
        "new_data_X.shape"
      ],
      "execution_count": 2,
      "outputs": [
        {
          "output_type": "execute_result",
          "data": {
            "text/plain": [
              "(5722, 68, 100)"
            ]
          },
          "metadata": {
            "tags": []
          },
          "execution_count": 2
        }
      ]
    },
    {
      "cell_type": "code",
      "metadata": {
        "id": "BmyV1MMm_O_y",
        "colab_type": "code",
        "colab": {}
      },
      "source": [
        "X_train, X_test, y_train, y_test = train_test_split(new_data_X, Y_data, test_size=0.33, random_state=42)"
      ],
      "execution_count": 0,
      "outputs": []
    },
    {
      "cell_type": "code",
      "metadata": {
        "id": "grRS393n_O_3",
        "colab_type": "code",
        "colab": {}
      },
      "source": [
        "X_train = X_train.astype('float32')\n",
        "X_test = X_test.astype('float32')"
      ],
      "execution_count": 0,
      "outputs": []
    },
    {
      "cell_type": "code",
      "metadata": {
        "id": "Xoh02WT5wiLY",
        "colab_type": "code",
        "colab": {}
      },
      "source": [
        ""
      ],
      "execution_count": 0,
      "outputs": []
    },
    {
      "cell_type": "code",
      "metadata": {
        "id": "Rx0sJsJDwiJT",
        "colab_type": "code",
        "colab": {}
      },
      "source": [
        ""
      ],
      "execution_count": 0,
      "outputs": []
    },
    {
      "cell_type": "code",
      "metadata": {
        "id": "MCu-tWhd_O_7",
        "colab_type": "code",
        "colab": {}
      },
      "source": [
        "import pandas as pd\n",
        "import numpy as np\n",
        "from sklearn.preprocessing import LabelEncoder\n",
        "\n",
        "# creating initial dataframe\n",
        "\n",
        "y_train_df = pd.DataFrame(y_train, columns=['Label'])\n",
        "# creating instance of labelencoder\n",
        "labelencoder = LabelEncoder()\n",
        "# Assigning numerical values and storing in another column\n",
        "y_train_df['New'] = labelencoder.fit_transform(y_train_df['Label'])\n",
        "y_test_df = pd.DataFrame(y_test, columns=['Label'])\n",
        "# creating instance of labelencoder\n",
        "labelencoder = LabelEncoder()\n",
        "# Assigning numerical values and storing in another column\n",
        "y_test_df['New'] = labelencoder.fit_transform(y_test_df['Label'])"
      ],
      "execution_count": 0,
      "outputs": []
    },
    {
      "cell_type": "code",
      "metadata": {
        "id": "qQ5CHhcF_PAA",
        "colab_type": "code",
        "outputId": "0f1f8e43-5494-41dc-943f-2cab41f2946e",
        "colab": {
          "base_uri": "https://localhost:8080/",
          "height": 34
        }
      },
      "source": [
        "from keras import backend as K\n",
        "img_rows, img_cols = X_train[0].shape\n",
        "\n",
        "\n",
        "# transform data set\n",
        "if K.common.image_data_format() == 'channels_first':\n",
        "    X_train = X_train.reshape(X_train.shape[0], 1, img_rows, img_cols)\n",
        "    X_test = X_test.reshape(X_test.shape[0], 1, img_rows, img_cols)\n",
        "    input_shape = (1, img_rows, img_cols)\n",
        "else:\n",
        "    X_train = X_train.reshape(X_train.shape[0], img_rows, img_cols, 1)\n",
        "    X_test = X_test.reshape(X_test.shape[0], img_rows, img_cols, 1)\n",
        "    input_shape = (img_rows, img_cols, 1)"
      ],
      "execution_count": 6,
      "outputs": [
        {
          "output_type": "stream",
          "text": [
            "Using TensorFlow backend.\n"
          ],
          "name": "stderr"
        }
      ]
    },
    {
      "cell_type": "markdown",
      "metadata": {
        "id": "BTmOEDcMtSQp",
        "colab_type": "text"
      },
      "source": [
        "# Othogonal Constraint"
      ]
    },
    {
      "cell_type": "code",
      "metadata": {
        "id": "6S2jnj2otWlg",
        "colab_type": "code",
        "colab": {}
      },
      "source": [
        "from tensorflow.python.keras.constraints import Constraint\n",
        "from tensorflow.python.ops import math_ops, array_ops\n",
        "\n",
        "class TightFrame(Constraint):\n",
        "\n",
        "\n",
        "    def __init__(self, scale, num_passes=1):\n",
        "        self.scale = scale\n",
        "\n",
        "        if num_passes < 1:\n",
        "            raise ValueError(\"Number of passes cannot be non-positive! (got {})\".format(num_passes))\n",
        "        self.num_passes = num_passes\n",
        "\n",
        "\n",
        "    def __call__(self, w):\n",
        "        transpose_channels = (len(w.shape) == 4)\n",
        "\n",
        "        # Move channels_num to the front in order to make the dimensions correct for matmul\n",
        "        if transpose_channels:\n",
        "            w_reordered = array_ops.reshape(w, (-1, w.shape[0]))\n",
        "\n",
        "        else:\n",
        "            w_reordered = w\n",
        "\n",
        "        last = w_reordered\n",
        "        for i in range(self.num_passes):\n",
        "            temp1 = math_ops.matmul(last, last, transpose_a=True)\n",
        "            temp2 = (1 + self.scale) * w_reordered - self.scale * math_ops.matmul(w_reordered, temp1)\n",
        "\n",
        "            last = temp2\n",
        "\n",
        "        # Move channels_num to the back again\n",
        "        if transpose_channels:\n",
        "            return array_ops.reshape(last, w.shape)\n",
        "        else:\n",
        "            return last\n",
        "\n",
        "\n",
        "    def get_config(self):\n",
        "        return {'scale': self.scale, 'num_passes': self.num_passes}\n",
        "\n",
        "\n",
        "# Alias\n",
        "tight_frame = TightFrame"
      ],
      "execution_count": 0,
      "outputs": []
    },
    {
      "cell_type": "code",
      "metadata": {
        "id": "G4VciYzctsSY",
        "colab_type": "code",
        "colab": {}
      },
      "source": [
        "from tensorflow.keras.models import Model\n",
        "from tensorflow.keras.layers import Input, Add, Activation, Dropout, Flatten, Dense\n",
        "from tensorflow.keras.layers import Convolution2D, MaxPooling2D, AveragePooling2D\n",
        "from tensorflow.keras.layers import BatchNormalization\n",
        "from tensorflow.keras.regularizers import l2\n",
        "from tensorflow.keras import backend as K\n",
        "import warnings\n",
        "\n",
        "warnings.filterwarnings(\"ignore\")\n",
        "weight_decay = 0.0005\n"
      ],
      "execution_count": 0,
      "outputs": []
    },
    {
      "cell_type": "markdown",
      "metadata": {
        "id": "v3g_vzsy_ndF",
        "colab_type": "text"
      },
      "source": [
        "**Parseval Network**"
      ]
    },
    {
      "cell_type": "code",
      "metadata": {
        "id": "WN76FYUZ_3YA",
        "colab_type": "code",
        "outputId": "c703c897-e52c-4559-93e4-6f43adea5f26",
        "colab": {
          "base_uri": "https://localhost:8080/",
          "height": 68
        }
      },
      "source": [
        "\n",
        "\n",
        "def initial_conv(input):\n",
        "  \n",
        "    x = Convolution2D(16, (3, 3), padding='same', kernel_initializer='orthogonal', kernel_constraint= tight_frame(0.0001),\n",
        "                      kernel_regularizer=l2(weight_decay),\n",
        "                      use_bias=False)(input)\n",
        "\n",
        "    channel_axis = 1 if K.image_data_format() == \"channels_first\" else -1\n",
        "\n",
        "    x = BatchNormalization(axis=channel_axis, momentum=0.1, epsilon=1e-5, gamma_initializer='uniform')(x)\n",
        "    x = Activation('relu')(x)\n",
        "    return x\n",
        "\n",
        "\n",
        "def expand_conv(init, base, k, strides=(1, 1)):\n",
        "    x = Convolution2D(base * k, (3, 3), padding='same', strides=strides, kernel_initializer='Orthogonal', kernel_constraint= tight_frame(0.0001),\n",
        "                      kernel_regularizer=l2(weight_decay),\n",
        "                      use_bias=False)(init)\n",
        "\n",
        "    channel_axis = 1 if K.image_data_format() == \"channels_first\" else -1\n",
        "\n",
        "    x = BatchNormalization(axis=channel_axis, momentum=0.1, epsilon=1e-5, gamma_initializer='uniform')(x)\n",
        "    x = Activation('relu')(x)\n",
        "\n",
        "    x = Convolution2D(base * k, (3, 3), padding='same', kernel_initializer='Orthogonal',\n",
        "                      kernel_constraint= tight_frame(0.0001),\n",
        "                      kernel_regularizer=l2(weight_decay),\n",
        "                      use_bias=False)(x)\n",
        "\n",
        "    skip = Convolution2D(base * k, (1, 1), padding='same', strides=strides, kernel_initializer='Orthogonal',\n",
        "                      kernel_constraint= tight_frame(0.0001),\n",
        "                      kernel_regularizer=l2(weight_decay),\n",
        "                      use_bias=False)(init)\n",
        "\n",
        "    m = Add()([x, skip])\n",
        "\n",
        "    return m\n",
        "\n",
        "\n",
        "def conv1_block(input, k=1, dropout=0.0):\n",
        "    init = input\n",
        "\n",
        "    channel_axis = 1 if K.image_data_format() == \"channels_first\" else -1\n",
        "\n",
        "    x = BatchNormalization(axis=channel_axis, momentum=0.1, epsilon=1e-5, gamma_initializer='uniform')(input)\n",
        "    x = Activation('relu')(x)\n",
        "    x = Convolution2D(16 * k, (3, 3), padding='same', kernel_initializer='Orthogonal',\n",
        "                      kernel_constraint= tight_frame(0.0001),\n",
        "                      kernel_regularizer=l2(weight_decay),\n",
        "                      use_bias=False)(x)\n",
        "\n",
        "    if dropout > 0.0: x = Dropout(dropout)(x)\n",
        "\n",
        "    x = BatchNormalization(axis=channel_axis, momentum=0.1, epsilon=1e-5, gamma_initializer='uniform')(x)\n",
        "    x = Activation('relu')(x)\n",
        "    x = Convolution2D(16 * k, (3, 3), padding='same', kernel_initializer='Orthogonal',\n",
        "                      kernel_constraint= tight_frame(0.0001),\n",
        "                      kernel_regularizer=l2(weight_decay),\n",
        "                      use_bias=False)(x)\n",
        "\n",
        "    m = Add()([init, x])\n",
        "    return m\n",
        "\n",
        "def conv2_block(input, k=1, dropout=0.0):\n",
        "    init = input\n",
        "\n",
        "    channel_axis = 1 if K.image_data_format() == \"channels_first\" else -1\n",
        "    print(\"conv2:channel:  {}\".format(channel_axis))\n",
        "    x = BatchNormalization(axis=channel_axis, momentum=0.1, epsilon=1e-5, gamma_initializer='uniform')(input)\n",
        "    x = Activation('relu')(x)\n",
        "    x = Convolution2D(32 * k, (3, 3), padding='same', kernel_initializer='Orthogonal',\n",
        "                      kernel_constraint= tight_frame(0.0001),\n",
        "                      kernel_regularizer=l2(weight_decay),\n",
        "                      use_bias=False)(x)\n",
        "\n",
        "    if dropout > 0.0: x = Dropout(dropout)(x)\n",
        "\n",
        "    x = BatchNormalization(axis=channel_axis, momentum=0.1, epsilon=1e-5, gamma_initializer='uniform')(x)\n",
        "    x = Activation('relu')(x)\n",
        "    x = Convolution2D(32 * k, (3, 3), padding='same', kernel_initializer='Orthogonal',\n",
        "                      kernel_constraint= tight_frame(0.0001),\n",
        "                      kernel_regularizer=l2(weight_decay),\n",
        "                      use_bias=False)(x)\n",
        "\n",
        "    m = Add()([init, x])\n",
        "    return m\n",
        "\n",
        "def conv3_block(input, k=1, dropout=0.0):\n",
        "    init = input\n",
        "\n",
        "    channel_axis = 1 if K.image_data_format() == \"channels_first\" else -1\n",
        "    print(\"conv3 channel_axis:{} \".format(channel_axis))\n",
        "    x = BatchNormalization(axis=channel_axis, momentum=0.1, epsilon=1e-5, gamma_initializer='uniform')(input)\n",
        "    x = Activation('relu')(x)\n",
        "    x = Convolution2D(64 * k, (3, 3), padding='same', kernel_initializer='Orthogonal',\n",
        "                      kernel_constraint= tight_frame(0.0001),\n",
        "                      kernel_regularizer=l2(weight_decay),\n",
        "                      use_bias=False)(x)\n",
        "\n",
        "    if dropout > 0.0: x = Dropout(dropout)(x)\n",
        "\n",
        "    x = BatchNormalization(axis=channel_axis, momentum=0.1, epsilon=1e-5, gamma_initializer='uniform')(x)\n",
        "    x = Activation('relu')(x)\n",
        "    x = Convolution2D(64 * k, (3, 3), padding='same', kernel_initializer='Orthogonal',\n",
        "                      kernel_constraint= tight_frame(0.0001),\n",
        "                      kernel_regularizer=l2(weight_decay),\n",
        "                      use_bias=False)(x)\n",
        "\n",
        "    m = Add()([init, x])\n",
        "    return m\n",
        "\n",
        "def create_parseval_network(input_dim, nb_classes=100, N=2, k=1, dropout=0.0, verbose=1):\n",
        "    \"\"\"\n",
        "    Creates a Wide Residual Network with specified parameters\n",
        "\n",
        "    :param input: Input Keras object\n",
        "    :param nb_classes: Number of output classes\n",
        "    :param N: Depth of the network. Compute N = (n - 4) / 6.\n",
        "              Example : For a depth of 16, n = 16, N = (16 - 4) / 6 = 2\n",
        "              Example2: For a depth of 28, n = 28, N = (28 - 4) / 6 = 4\n",
        "              Example3: For a depth of 40, n = 40, N = (40 - 4) / 6 = 6\n",
        "    :param k: Width of the network.\n",
        "    :param dropout: Adds dropout if value is greater than 0.0\n",
        "    :param verbose: Debug info to describe created WRN\n",
        "    :return:\n",
        "    \"\"\"\n",
        "    channel_axis = 1 if K.image_data_format() == \"channels_first\" else -1\n",
        "\n",
        "    ip = Input(shape=input_dim)\n",
        "\n",
        "    x = initial_conv(ip)\n",
        "    nb_conv = 4\n",
        "\n",
        "    x = expand_conv(x, 16, k)\n",
        "    nb_conv += 2\n",
        "\n",
        "    for i in range(N - 1):\n",
        "        x = conv1_block(x, k, dropout)\n",
        "        nb_conv += 2\n",
        "\n",
        "    x = BatchNormalization(axis=channel_axis, momentum=0.1, epsilon=1e-5, gamma_initializer='uniform')(x)\n",
        "    x = Activation('relu')(x)\n",
        "\n",
        "    x = expand_conv(x, 32, k, strides=(2, 2))\n",
        "    nb_conv += 2\n",
        "\n",
        "    for i in range(N - 1):\n",
        "        x = conv2_block(x, k, dropout)\n",
        "        nb_conv += 2\n",
        "\n",
        "    x = BatchNormalization(axis=channel_axis, momentum=0.1, epsilon=1e-5, gamma_initializer='uniform')(x)\n",
        "    x = Activation('relu')(x)\n",
        "\n",
        "    x = expand_conv(x, 64, k, strides=(2, 2))\n",
        "    nb_conv += 2\n",
        "\n",
        "    for i in range(N - 1):\n",
        "        x = conv3_block(x, k, dropout)\n",
        "        nb_conv += 2\n",
        "\n",
        "    x = BatchNormalization(axis=channel_axis, momentum=0.1, epsilon=1e-5, gamma_initializer='uniform')(x)\n",
        "    x = Activation('relu')(x)\n",
        "\n",
        "    x = AveragePooling2D((8, 8))(x)\n",
        "    x = Flatten()(x)\n",
        "\n",
        "    x = Dense(nb_classes, activation='softmax' )(x)\n",
        "\n",
        "    model = Model(ip, x)\n",
        "\n",
        "    if verbose: print(\"Parseval Residual Network-%d-%d created.\" % (nb_conv, k))\n",
        "    return model\n",
        "\n",
        "if __name__ == \"__main__\":\n",
        "\n",
        "    init = (68, 100,1)\n",
        "\n",
        "    parseval_16_2 = create_parseval_network(init, nb_classes=4, N=2, k=2, dropout=0.3)"
      ],
      "execution_count": 9,
      "outputs": [
        {
          "output_type": "stream",
          "text": [
            "conv2:channel:  -1\n",
            "conv3 channel_axis:-1 \n",
            "Parseval Residual Network-16-2 created.\n"
          ],
          "name": "stdout"
        }
      ]
    },
    {
      "cell_type": "code",
      "metadata": {
        "id": "BxyMKoeaBqPh",
        "colab_type": "code",
        "colab": {}
      },
      "source": [
        "from tensorflow.keras.preprocessing.image import ImageDataGenerator\n",
        "import tensorflow.keras.callbacks as callbacks\n"
      ],
      "execution_count": 0,
      "outputs": []
    },
    {
      "cell_type": "code",
      "metadata": {
        "id": "liiFrat1Bv1_",
        "colab_type": "code",
        "colab": {}
      },
      "source": [
        "EPOCHS = 200\n",
        "BS = 128\n"
      ],
      "execution_count": 0,
      "outputs": []
    },
    {
      "cell_type": "code",
      "metadata": {
        "id": "-ygMFWH8Bzfq",
        "colab_type": "code",
        "colab": {}
      },
      "source": [
        "from tensorflow.keras.callbacks import LearningRateScheduler\n",
        "import math\n",
        "from tensorflow.keras.optimizers import SGD\n",
        "\n",
        "sgd = SGD(lr=0.1, momentum=0.9)"
      ],
      "execution_count": 0,
      "outputs": []
    },
    {
      "cell_type": "code",
      "metadata": {
        "id": "WhUvPL0dB48O",
        "colab_type": "code",
        "outputId": "077111d1-6084-4c55-af5a-6655cd264c93",
        "colab": {
          "base_uri": "https://localhost:8080/",
          "height": 34
        }
      },
      "source": [
        "parseval_16_2.compile(loss=\"categorical_crossentropy\", optimizer=sgd, metrics=[\"acc\"])\n",
        "print(\"Finished compiling\")"
      ],
      "execution_count": 13,
      "outputs": [
        {
          "output_type": "stream",
          "text": [
            "Finished compiling\n"
          ],
          "name": "stdout"
        }
      ]
    },
    {
      "cell_type": "code",
      "metadata": {
        "id": "6JrJ7xy1Q5rS",
        "colab_type": "code",
        "colab": {}
      },
      "source": [
        "import tensorflow\n",
        "generator = tensorflow.keras.preprocessing.image.ImageDataGenerator(rotation_range=10,\n",
        "                               width_shift_range=5./68,\n",
        "                               height_shift_range=5./100,)"
      ],
      "execution_count": 0,
      "outputs": []
    },
    {
      "cell_type": "code",
      "metadata": {
        "id": "i4EpGTMG9jeP",
        "colab_type": "code",
        "colab": {}
      },
      "source": [
        "def lr_sch(epoch):\n",
        "    if epoch < 60:\n",
        "        return 0.1\n",
        "    elif epoch < 120:\n",
        "        return 0.02\n",
        "    elif epoch < 160:\n",
        "        return 0.004\n",
        "    else:\n",
        "        return 0.0008\n",
        "\n",
        "# Learning rate scheduler callback\n",
        "lr_scheduler = LearningRateScheduler(lr_sch)"
      ],
      "execution_count": 0,
      "outputs": []
    },
    {
      "cell_type": "code",
      "metadata": {
        "id": "1Bu78FGi9jhv",
        "colab_type": "code",
        "colab": {}
      },
      "source": [
        ""
      ],
      "execution_count": 0,
      "outputs": []
    },
    {
      "cell_type": "code",
      "metadata": {
        "id": "9z0CbPY_24ns",
        "colab_type": "code",
        "outputId": "ead72055-bcce-4aa3-e141-93f1a3c15d2d",
        "colab": {
          "base_uri": "https://localhost:8080/",
          "height": 1000
        }
      },
      "source": [
        "from tensorflow.keras.utils import to_categorical\n",
        "hist = parseval_16_2.fit(generator.flow(X_train, to_categorical(y_train_df['New']), batch_size=BS), steps_per_epoch=len(X_train) // BS, epochs=EPOCHS,\n",
        "                   validation_data=(X_test, to_categorical(y_test_df['New'])), callbacks = [lr_scheduler],\n",
        "                   validation_steps=X_test.shape[0] // BS,)"
      ],
      "execution_count": 18,
      "outputs": [
        {
          "output_type": "stream",
          "text": [
            "Epoch 1/200\n",
            "29/29 [==============================] - 19s 655ms/step - loss: 1.7989 - acc: 0.3366 - val_loss: 1.7291 - val_acc: 0.3467 - lr: 0.1000\n",
            "Epoch 2/200\n",
            "29/29 [==============================] - 16s 537ms/step - loss: 1.6557 - acc: 0.3595 - val_loss: 1.5943 - val_acc: 0.3690 - lr: 0.1000\n",
            "Epoch 3/200\n",
            "29/29 [==============================] - 16s 539ms/step - loss: 1.5626 - acc: 0.4124 - val_loss: 1.5009 - val_acc: 0.4240 - lr: 0.1000\n",
            "Epoch 4/200\n",
            "29/29 [==============================] - 16s 537ms/step - loss: 1.4993 - acc: 0.4340 - val_loss: 1.4621 - val_acc: 0.4161 - lr: 0.1000\n",
            "Epoch 5/200\n",
            "29/29 [==============================] - 16s 538ms/step - loss: 1.4429 - acc: 0.4470 - val_loss: 1.4017 - val_acc: 0.4722 - lr: 0.1000\n",
            "Epoch 6/200\n",
            "29/29 [==============================] - 16s 537ms/step - loss: 1.3554 - acc: 0.4764 - val_loss: 1.3359 - val_acc: 0.5066 - lr: 0.1000\n",
            "Epoch 7/200\n",
            "29/29 [==============================] - 16s 536ms/step - loss: 1.3240 - acc: 0.4953 - val_loss: 1.3162 - val_acc: 0.5093 - lr: 0.1000\n",
            "Epoch 8/200\n",
            "29/29 [==============================] - 16s 538ms/step - loss: 1.2544 - acc: 0.5395 - val_loss: 1.3035 - val_acc: 0.5061 - lr: 0.1000\n",
            "Epoch 9/200\n",
            "29/29 [==============================] - 16s 535ms/step - loss: 1.1862 - acc: 0.5668 - val_loss: 1.1643 - val_acc: 0.5802 - lr: 0.1000\n",
            "Epoch 10/200\n",
            "29/29 [==============================] - 16s 535ms/step - loss: 1.1240 - acc: 0.5992 - val_loss: 1.1441 - val_acc: 0.5998 - lr: 0.1000\n",
            "Epoch 11/200\n",
            "29/29 [==============================] - 15s 533ms/step - loss: 1.0884 - acc: 0.6067 - val_loss: 1.0729 - val_acc: 0.6125 - lr: 0.1000\n",
            "Epoch 12/200\n",
            "29/29 [==============================] - 16s 535ms/step - loss: 1.0293 - acc: 0.6426 - val_loss: 1.0422 - val_acc: 0.6257 - lr: 0.1000\n",
            "Epoch 13/200\n",
            "29/29 [==============================] - 16s 535ms/step - loss: 1.0006 - acc: 0.6421 - val_loss: 0.9982 - val_acc: 0.6485 - lr: 0.1000\n",
            "Epoch 14/200\n",
            "29/29 [==============================] - 15s 534ms/step - loss: 0.9895 - acc: 0.6445 - val_loss: 0.9782 - val_acc: 0.6670 - lr: 0.1000\n",
            "Epoch 15/200\n",
            "29/29 [==============================] - 15s 534ms/step - loss: 0.9491 - acc: 0.6637 - val_loss: 0.9868 - val_acc: 0.6739 - lr: 0.1000\n",
            "Epoch 16/200\n",
            "29/29 [==============================] - 15s 534ms/step - loss: 0.9209 - acc: 0.6796 - val_loss: 1.0246 - val_acc: 0.6390 - lr: 0.1000\n",
            "Epoch 17/200\n",
            "29/29 [==============================] - 16s 535ms/step - loss: 0.9466 - acc: 0.6699 - val_loss: 0.9529 - val_acc: 0.6681 - lr: 0.1000\n",
            "Epoch 18/200\n",
            "29/29 [==============================] - 15s 534ms/step - loss: 0.8754 - acc: 0.6877 - val_loss: 0.9272 - val_acc: 0.6840 - lr: 0.1000\n",
            "Epoch 19/200\n",
            "29/29 [==============================] - 16s 537ms/step - loss: 0.8360 - acc: 0.7126 - val_loss: 0.9328 - val_acc: 0.6829 - lr: 0.1000\n",
            "Epoch 20/200\n",
            "29/29 [==============================] - 16s 537ms/step - loss: 0.8577 - acc: 0.6974 - val_loss: 0.9540 - val_acc: 0.6644 - lr: 0.1000\n",
            "Epoch 21/200\n",
            "29/29 [==============================] - 16s 538ms/step - loss: 0.8167 - acc: 0.7231 - val_loss: 0.9173 - val_acc: 0.6914 - lr: 0.1000\n",
            "Epoch 22/200\n",
            "29/29 [==============================] - 16s 537ms/step - loss: 0.8317 - acc: 0.7104 - val_loss: 0.8750 - val_acc: 0.7104 - lr: 0.1000\n",
            "Epoch 23/200\n",
            "29/29 [==============================] - 16s 536ms/step - loss: 0.7885 - acc: 0.7269 - val_loss: 0.8980 - val_acc: 0.7067 - lr: 0.1000\n",
            "Epoch 24/200\n",
            "29/29 [==============================] - 16s 538ms/step - loss: 0.7865 - acc: 0.7358 - val_loss: 0.9126 - val_acc: 0.6840 - lr: 0.1000\n",
            "Epoch 25/200\n",
            "29/29 [==============================] - 16s 538ms/step - loss: 0.7658 - acc: 0.7395 - val_loss: 0.8984 - val_acc: 0.6908 - lr: 0.1000\n",
            "Epoch 26/200\n",
            "29/29 [==============================] - 16s 537ms/step - loss: 0.7496 - acc: 0.7482 - val_loss: 1.0162 - val_acc: 0.6750 - lr: 0.1000\n",
            "Epoch 27/200\n",
            "29/29 [==============================] - 16s 536ms/step - loss: 0.7497 - acc: 0.7479 - val_loss: 0.9002 - val_acc: 0.7073 - lr: 0.1000\n",
            "Epoch 28/200\n",
            "29/29 [==============================] - 16s 535ms/step - loss: 0.7248 - acc: 0.7541 - val_loss: 0.8025 - val_acc: 0.7353 - lr: 0.1000\n",
            "Epoch 29/200\n",
            "29/29 [==============================] - 16s 538ms/step - loss: 0.6900 - acc: 0.7713 - val_loss: 0.8382 - val_acc: 0.7189 - lr: 0.1000\n",
            "Epoch 30/200\n",
            "29/29 [==============================] - 16s 537ms/step - loss: 0.6944 - acc: 0.7717 - val_loss: 0.8189 - val_acc: 0.7401 - lr: 0.1000\n",
            "Epoch 31/200\n",
            "29/29 [==============================] - 16s 537ms/step - loss: 0.7152 - acc: 0.7638 - val_loss: 0.9225 - val_acc: 0.7020 - lr: 0.1000\n",
            "Epoch 32/200\n",
            "29/29 [==============================] - 16s 537ms/step - loss: 0.6963 - acc: 0.7668 - val_loss: 0.7978 - val_acc: 0.7332 - lr: 0.1000\n",
            "Epoch 33/200\n",
            "29/29 [==============================] - 16s 535ms/step - loss: 0.6677 - acc: 0.7798 - val_loss: 0.8421 - val_acc: 0.7215 - lr: 0.1000\n",
            "Epoch 34/200\n",
            "29/29 [==============================] - 15s 534ms/step - loss: 0.7164 - acc: 0.7671 - val_loss: 0.8766 - val_acc: 0.6993 - lr: 0.1000\n",
            "Epoch 35/200\n",
            "29/29 [==============================] - 16s 537ms/step - loss: 0.6759 - acc: 0.7881 - val_loss: 0.7919 - val_acc: 0.7353 - lr: 0.1000\n",
            "Epoch 36/200\n",
            "29/29 [==============================] - 16s 535ms/step - loss: 0.6505 - acc: 0.7954 - val_loss: 0.8176 - val_acc: 0.7385 - lr: 0.1000\n",
            "Epoch 37/200\n",
            "29/29 [==============================] - 16s 536ms/step - loss: 0.6490 - acc: 0.7981 - val_loss: 0.8434 - val_acc: 0.7263 - lr: 0.1000\n",
            "Epoch 38/200\n",
            "29/29 [==============================] - 16s 537ms/step - loss: 0.6479 - acc: 0.7881 - val_loss: 0.8319 - val_acc: 0.7411 - lr: 0.1000\n",
            "Epoch 39/200\n",
            "29/29 [==============================] - 16s 539ms/step - loss: 0.6566 - acc: 0.7862 - val_loss: 0.8172 - val_acc: 0.7290 - lr: 0.1000\n",
            "Epoch 40/200\n",
            "29/29 [==============================] - 16s 536ms/step - loss: 0.6271 - acc: 0.7984 - val_loss: 0.8163 - val_acc: 0.7369 - lr: 0.1000\n",
            "Epoch 41/200\n",
            "29/29 [==============================] - 16s 537ms/step - loss: 0.5930 - acc: 0.8146 - val_loss: 0.7550 - val_acc: 0.7639 - lr: 0.1000\n",
            "Epoch 42/200\n",
            "29/29 [==============================] - 16s 537ms/step - loss: 0.6260 - acc: 0.8047 - val_loss: 0.9888 - val_acc: 0.6993 - lr: 0.1000\n",
            "Epoch 43/200\n",
            "29/29 [==============================] - 16s 536ms/step - loss: 0.6138 - acc: 0.8035 - val_loss: 0.8998 - val_acc: 0.7305 - lr: 0.1000\n",
            "Epoch 44/200\n",
            "29/29 [==============================] - 16s 537ms/step - loss: 0.6236 - acc: 0.8032 - val_loss: 0.7760 - val_acc: 0.7491 - lr: 0.1000\n",
            "Epoch 45/200\n",
            "29/29 [==============================] - 16s 537ms/step - loss: 0.6098 - acc: 0.8097 - val_loss: 0.8004 - val_acc: 0.7565 - lr: 0.1000\n",
            "Epoch 46/200\n",
            "29/29 [==============================] - 16s 538ms/step - loss: 0.6206 - acc: 0.8032 - val_loss: 0.8545 - val_acc: 0.7390 - lr: 0.1000\n",
            "Epoch 47/200\n",
            "29/29 [==============================] - 16s 538ms/step - loss: 0.5935 - acc: 0.8157 - val_loss: 0.8309 - val_acc: 0.7422 - lr: 0.1000\n",
            "Epoch 48/200\n",
            "29/29 [==============================] - 16s 537ms/step - loss: 0.5811 - acc: 0.8211 - val_loss: 0.8601 - val_acc: 0.7088 - lr: 0.1000\n",
            "Epoch 49/200\n",
            "29/29 [==============================] - 16s 536ms/step - loss: 0.5684 - acc: 0.8273 - val_loss: 0.7836 - val_acc: 0.7623 - lr: 0.1000\n",
            "Epoch 50/200\n",
            "29/29 [==============================] - 16s 535ms/step - loss: 0.6041 - acc: 0.8124 - val_loss: 1.0792 - val_acc: 0.7009 - lr: 0.1000\n",
            "Epoch 51/200\n",
            "29/29 [==============================] - 16s 536ms/step - loss: 0.5830 - acc: 0.8262 - val_loss: 0.8029 - val_acc: 0.7401 - lr: 0.1000\n",
            "Epoch 52/200\n",
            "29/29 [==============================] - 15s 534ms/step - loss: 0.5777 - acc: 0.8260 - val_loss: 0.8335 - val_acc: 0.7470 - lr: 0.1000\n",
            "Epoch 53/200\n",
            "29/29 [==============================] - 15s 533ms/step - loss: 0.5588 - acc: 0.8359 - val_loss: 0.8213 - val_acc: 0.7470 - lr: 0.1000\n",
            "Epoch 54/200\n",
            "29/29 [==============================] - 15s 534ms/step - loss: 0.5264 - acc: 0.8443 - val_loss: 0.8616 - val_acc: 0.7448 - lr: 0.1000\n",
            "Epoch 55/200\n",
            "29/29 [==============================] - 15s 533ms/step - loss: 0.5562 - acc: 0.8321 - val_loss: 0.7962 - val_acc: 0.7438 - lr: 0.1000\n",
            "Epoch 56/200\n",
            "29/29 [==============================] - 15s 533ms/step - loss: 0.5660 - acc: 0.8370 - val_loss: 0.9336 - val_acc: 0.7258 - lr: 0.1000\n",
            "Epoch 57/200\n",
            "29/29 [==============================] - 15s 533ms/step - loss: 0.5780 - acc: 0.8270 - val_loss: 0.7820 - val_acc: 0.7496 - lr: 0.1000\n",
            "Epoch 58/200\n",
            "29/29 [==============================] - 15s 534ms/step - loss: 0.5364 - acc: 0.8507 - val_loss: 0.8055 - val_acc: 0.7581 - lr: 0.1000\n",
            "Epoch 59/200\n",
            "29/29 [==============================] - 15s 534ms/step - loss: 0.5106 - acc: 0.8537 - val_loss: 0.8155 - val_acc: 0.7485 - lr: 0.1000\n",
            "Epoch 60/200\n",
            "29/29 [==============================] - 15s 534ms/step - loss: 0.5734 - acc: 0.8316 - val_loss: 0.8458 - val_acc: 0.7448 - lr: 0.1000\n",
            "Epoch 61/200\n",
            "29/29 [==============================] - 15s 533ms/step - loss: 0.5924 - acc: 0.8283 - val_loss: 0.7671 - val_acc: 0.7745 - lr: 0.0200\n",
            "Epoch 62/200\n",
            "29/29 [==============================] - 15s 534ms/step - loss: 0.4212 - acc: 0.8955 - val_loss: 0.6963 - val_acc: 0.7867 - lr: 0.0200\n",
            "Epoch 63/200\n",
            "29/29 [==============================] - 15s 533ms/step - loss: 0.3548 - acc: 0.9188 - val_loss: 0.6960 - val_acc: 0.7962 - lr: 0.0200\n",
            "Epoch 64/200\n",
            "29/29 [==============================] - 15s 532ms/step - loss: 0.3281 - acc: 0.9269 - val_loss: 0.6655 - val_acc: 0.8015 - lr: 0.0200\n",
            "Epoch 65/200\n",
            "29/29 [==============================] - 15s 531ms/step - loss: 0.3171 - acc: 0.9274 - val_loss: 0.6961 - val_acc: 0.7867 - lr: 0.0200\n",
            "Epoch 66/200\n",
            "29/29 [==============================] - 15s 532ms/step - loss: 0.2838 - acc: 0.9412 - val_loss: 0.6857 - val_acc: 0.7978 - lr: 0.0200\n",
            "Epoch 67/200\n",
            "29/29 [==============================] - 15s 531ms/step - loss: 0.2633 - acc: 0.9457 - val_loss: 0.6939 - val_acc: 0.8004 - lr: 0.0200\n",
            "Epoch 68/200\n",
            "29/29 [==============================] - 15s 532ms/step - loss: 0.2643 - acc: 0.9382 - val_loss: 0.6941 - val_acc: 0.7957 - lr: 0.0200\n",
            "Epoch 69/200\n",
            "29/29 [==============================] - 15s 532ms/step - loss: 0.2524 - acc: 0.9425 - val_loss: 0.7049 - val_acc: 0.7941 - lr: 0.0200\n",
            "Epoch 70/200\n",
            "29/29 [==============================] - 15s 533ms/step - loss: 0.2431 - acc: 0.9460 - val_loss: 0.7363 - val_acc: 0.7935 - lr: 0.0200\n",
            "Epoch 71/200\n",
            "29/29 [==============================] - 15s 533ms/step - loss: 0.2385 - acc: 0.9479 - val_loss: 0.7247 - val_acc: 0.8068 - lr: 0.0200\n",
            "Epoch 72/200\n",
            "29/29 [==============================] - 15s 534ms/step - loss: 0.2257 - acc: 0.9538 - val_loss: 0.7325 - val_acc: 0.7967 - lr: 0.0200\n",
            "Epoch 73/200\n",
            "29/29 [==============================] - 15s 532ms/step - loss: 0.2112 - acc: 0.9568 - val_loss: 0.7445 - val_acc: 0.7946 - lr: 0.0200\n",
            "Epoch 74/200\n",
            "29/29 [==============================] - 15s 531ms/step - loss: 0.2169 - acc: 0.9536 - val_loss: 0.7682 - val_acc: 0.7888 - lr: 0.0200\n",
            "Epoch 75/200\n",
            "29/29 [==============================] - 15s 531ms/step - loss: 0.2202 - acc: 0.9484 - val_loss: 0.7587 - val_acc: 0.7935 - lr: 0.0200\n",
            "Epoch 76/200\n",
            "29/29 [==============================] - 15s 532ms/step - loss: 0.2019 - acc: 0.9584 - val_loss: 0.7197 - val_acc: 0.8062 - lr: 0.0200\n",
            "Epoch 77/200\n",
            "29/29 [==============================] - 15s 531ms/step - loss: 0.2122 - acc: 0.9493 - val_loss: 0.7677 - val_acc: 0.7904 - lr: 0.0200\n",
            "Epoch 78/200\n",
            "29/29 [==============================] - 15s 531ms/step - loss: 0.2163 - acc: 0.9474 - val_loss: 0.7909 - val_acc: 0.7877 - lr: 0.0200\n",
            "Epoch 79/200\n",
            "29/29 [==============================] - 15s 532ms/step - loss: 0.2314 - acc: 0.9417 - val_loss: 0.8031 - val_acc: 0.7819 - lr: 0.0200\n",
            "Epoch 80/200\n",
            "29/29 [==============================] - 15s 532ms/step - loss: 0.2161 - acc: 0.9466 - val_loss: 0.7516 - val_acc: 0.7983 - lr: 0.0200\n",
            "Epoch 81/200\n",
            "29/29 [==============================] - 15s 532ms/step - loss: 0.2105 - acc: 0.9468 - val_loss: 0.7716 - val_acc: 0.8025 - lr: 0.0200\n",
            "Epoch 82/200\n",
            "29/29 [==============================] - 15s 532ms/step - loss: 0.2010 - acc: 0.9549 - val_loss: 0.7729 - val_acc: 0.7898 - lr: 0.0200\n",
            "Epoch 83/200\n",
            "29/29 [==============================] - 15s 532ms/step - loss: 0.2142 - acc: 0.9484 - val_loss: 0.8297 - val_acc: 0.7872 - lr: 0.0200\n",
            "Epoch 84/200\n",
            "29/29 [==============================] - 15s 532ms/step - loss: 0.2222 - acc: 0.9466 - val_loss: 0.8205 - val_acc: 0.7835 - lr: 0.0200\n",
            "Epoch 85/200\n",
            "29/29 [==============================] - 15s 531ms/step - loss: 0.1935 - acc: 0.9571 - val_loss: 0.7979 - val_acc: 0.7967 - lr: 0.0200\n",
            "Epoch 86/200\n",
            "29/29 [==============================] - 15s 532ms/step - loss: 0.2179 - acc: 0.9449 - val_loss: 0.8520 - val_acc: 0.7792 - lr: 0.0200\n",
            "Epoch 87/200\n",
            "29/29 [==============================] - 15s 531ms/step - loss: 0.2229 - acc: 0.9430 - val_loss: 0.8504 - val_acc: 0.7750 - lr: 0.0200\n",
            "Epoch 88/200\n",
            "29/29 [==============================] - 15s 531ms/step - loss: 0.2414 - acc: 0.9336 - val_loss: 0.8715 - val_acc: 0.7766 - lr: 0.0200\n",
            "Epoch 89/200\n",
            "29/29 [==============================] - 15s 532ms/step - loss: 0.2006 - acc: 0.9555 - val_loss: 0.8180 - val_acc: 0.7882 - lr: 0.0200\n",
            "Epoch 90/200\n",
            "29/29 [==============================] - 15s 532ms/step - loss: 0.1880 - acc: 0.9565 - val_loss: 0.8308 - val_acc: 0.7782 - lr: 0.0200\n",
            "Epoch 91/200\n",
            "29/29 [==============================] - 15s 531ms/step - loss: 0.1934 - acc: 0.9582 - val_loss: 0.8199 - val_acc: 0.8004 - lr: 0.0200\n",
            "Epoch 92/200\n",
            "29/29 [==============================] - 15s 530ms/step - loss: 0.2137 - acc: 0.9444 - val_loss: 0.8435 - val_acc: 0.7845 - lr: 0.0200\n",
            "Epoch 93/200\n",
            "29/29 [==============================] - 15s 531ms/step - loss: 0.1972 - acc: 0.9538 - val_loss: 0.7817 - val_acc: 0.8020 - lr: 0.0200\n",
            "Epoch 94/200\n",
            "29/29 [==============================] - 15s 532ms/step - loss: 0.2054 - acc: 0.9503 - val_loss: 0.8941 - val_acc: 0.7681 - lr: 0.0200\n",
            "Epoch 95/200\n",
            "29/29 [==============================] - 15s 534ms/step - loss: 0.2027 - acc: 0.9490 - val_loss: 0.8117 - val_acc: 0.7935 - lr: 0.0200\n",
            "Epoch 96/200\n",
            "29/29 [==============================] - 15s 532ms/step - loss: 0.2097 - acc: 0.9538 - val_loss: 0.8407 - val_acc: 0.7893 - lr: 0.0200\n",
            "Epoch 97/200\n",
            "29/29 [==============================] - 15s 531ms/step - loss: 0.1909 - acc: 0.9565 - val_loss: 0.8946 - val_acc: 0.7798 - lr: 0.0200\n",
            "Epoch 98/200\n",
            "29/29 [==============================] - 15s 533ms/step - loss: 0.2007 - acc: 0.9528 - val_loss: 0.8561 - val_acc: 0.7830 - lr: 0.0200\n",
            "Epoch 99/200\n",
            "29/29 [==============================] - 15s 531ms/step - loss: 0.2145 - acc: 0.9439 - val_loss: 0.8287 - val_acc: 0.7978 - lr: 0.0200\n",
            "Epoch 100/200\n",
            "29/29 [==============================] - 15s 531ms/step - loss: 0.2110 - acc: 0.9455 - val_loss: 0.8351 - val_acc: 0.7914 - lr: 0.0200\n",
            "Epoch 101/200\n",
            "29/29 [==============================] - 15s 531ms/step - loss: 0.1985 - acc: 0.9541 - val_loss: 0.8268 - val_acc: 0.8004 - lr: 0.0200\n",
            "Epoch 102/200\n",
            "29/29 [==============================] - 15s 531ms/step - loss: 0.1923 - acc: 0.9541 - val_loss: 0.8533 - val_acc: 0.7930 - lr: 0.0200\n",
            "Epoch 103/200\n",
            "29/29 [==============================] - 15s 532ms/step - loss: 0.1745 - acc: 0.9630 - val_loss: 0.8350 - val_acc: 0.8004 - lr: 0.0200\n",
            "Epoch 104/200\n",
            "29/29 [==============================] - 15s 531ms/step - loss: 0.1756 - acc: 0.9646 - val_loss: 0.8632 - val_acc: 0.7935 - lr: 0.0200\n",
            "Epoch 105/200\n",
            "29/29 [==============================] - 15s 531ms/step - loss: 0.1778 - acc: 0.9587 - val_loss: 0.8133 - val_acc: 0.7999 - lr: 0.0200\n",
            "Epoch 106/200\n",
            "29/29 [==============================] - 15s 531ms/step - loss: 0.2059 - acc: 0.9501 - val_loss: 0.9230 - val_acc: 0.7951 - lr: 0.0200\n",
            "Epoch 107/200\n",
            "29/29 [==============================] - 15s 531ms/step - loss: 0.2170 - acc: 0.9482 - val_loss: 0.8773 - val_acc: 0.7877 - lr: 0.0200\n",
            "Epoch 108/200\n",
            "29/29 [==============================] - 15s 532ms/step - loss: 0.2171 - acc: 0.9420 - val_loss: 0.8657 - val_acc: 0.7840 - lr: 0.0200\n",
            "Epoch 109/200\n",
            "29/29 [==============================] - 15s 531ms/step - loss: 0.1926 - acc: 0.9530 - val_loss: 0.8587 - val_acc: 0.7808 - lr: 0.0200\n",
            "Epoch 110/200\n",
            "29/29 [==============================] - 15s 532ms/step - loss: 0.1799 - acc: 0.9641 - val_loss: 0.8153 - val_acc: 0.7935 - lr: 0.0200\n",
            "Epoch 111/200\n",
            "29/29 [==============================] - 15s 532ms/step - loss: 0.1693 - acc: 0.9628 - val_loss: 0.9018 - val_acc: 0.7909 - lr: 0.0200\n",
            "Epoch 112/200\n",
            "29/29 [==============================] - 15s 531ms/step - loss: 0.1862 - acc: 0.9574 - val_loss: 0.8414 - val_acc: 0.7898 - lr: 0.0200\n",
            "Epoch 113/200\n",
            "29/29 [==============================] - 15s 531ms/step - loss: 0.1782 - acc: 0.9633 - val_loss: 0.8807 - val_acc: 0.7845 - lr: 0.0200\n",
            "Epoch 114/200\n",
            "29/29 [==============================] - 15s 531ms/step - loss: 0.1841 - acc: 0.9590 - val_loss: 0.8379 - val_acc: 0.7909 - lr: 0.0200\n",
            "Epoch 115/200\n",
            "29/29 [==============================] - 15s 531ms/step - loss: 0.1888 - acc: 0.9560 - val_loss: 0.8251 - val_acc: 0.7925 - lr: 0.0200\n",
            "Epoch 116/200\n",
            "29/29 [==============================] - 15s 532ms/step - loss: 0.1946 - acc: 0.9571 - val_loss: 0.8275 - val_acc: 0.7904 - lr: 0.0200\n",
            "Epoch 117/200\n",
            "29/29 [==============================] - 15s 532ms/step - loss: 0.1879 - acc: 0.9574 - val_loss: 0.8809 - val_acc: 0.7882 - lr: 0.0200\n",
            "Epoch 118/200\n",
            "29/29 [==============================] - 15s 533ms/step - loss: 0.1864 - acc: 0.9568 - val_loss: 0.8907 - val_acc: 0.7777 - lr: 0.0200\n",
            "Epoch 119/200\n",
            "29/29 [==============================] - 15s 532ms/step - loss: 0.1864 - acc: 0.9536 - val_loss: 0.8379 - val_acc: 0.7920 - lr: 0.0200\n",
            "Epoch 120/200\n",
            "29/29 [==============================] - 15s 531ms/step - loss: 0.1772 - acc: 0.9633 - val_loss: 0.8529 - val_acc: 0.7803 - lr: 0.0200\n",
            "Epoch 121/200\n",
            "29/29 [==============================] - 15s 531ms/step - loss: 0.2175 - acc: 0.9444 - val_loss: 0.8009 - val_acc: 0.8121 - lr: 0.0040\n",
            "Epoch 122/200\n",
            "29/29 [==============================] - 15s 531ms/step - loss: 0.1202 - acc: 0.9843 - val_loss: 0.7727 - val_acc: 0.8110 - lr: 0.0040\n",
            "Epoch 123/200\n",
            "29/29 [==============================] - 15s 532ms/step - loss: 0.1073 - acc: 0.9889 - val_loss: 0.7735 - val_acc: 0.8168 - lr: 0.0040\n",
            "Epoch 124/200\n",
            "29/29 [==============================] - 15s 531ms/step - loss: 0.0966 - acc: 0.9930 - val_loss: 0.7873 - val_acc: 0.8121 - lr: 0.0040\n",
            "Epoch 125/200\n",
            "29/29 [==============================] - 15s 532ms/step - loss: 0.0853 - acc: 0.9957 - val_loss: 0.7949 - val_acc: 0.8126 - lr: 0.0040\n",
            "Epoch 126/200\n",
            "29/29 [==============================] - 15s 531ms/step - loss: 0.0813 - acc: 0.9973 - val_loss: 0.7882 - val_acc: 0.8152 - lr: 0.0040\n",
            "Epoch 127/200\n",
            "29/29 [==============================] - 15s 532ms/step - loss: 0.0810 - acc: 0.9957 - val_loss: 0.7747 - val_acc: 0.8142 - lr: 0.0040\n",
            "Epoch 128/200\n",
            "29/29 [==============================] - 15s 533ms/step - loss: 0.0777 - acc: 0.9976 - val_loss: 0.7673 - val_acc: 0.8131 - lr: 0.0040\n",
            "Epoch 129/200\n",
            "29/29 [==============================] - 15s 532ms/step - loss: 0.0763 - acc: 0.9962 - val_loss: 0.7930 - val_acc: 0.8174 - lr: 0.0040\n",
            "Epoch 130/200\n",
            "29/29 [==============================] - 15s 531ms/step - loss: 0.0741 - acc: 0.9962 - val_loss: 0.7739 - val_acc: 0.8163 - lr: 0.0040\n",
            "Epoch 131/200\n",
            "29/29 [==============================] - 15s 532ms/step - loss: 0.0714 - acc: 0.9976 - val_loss: 0.7730 - val_acc: 0.8195 - lr: 0.0040\n",
            "Epoch 132/200\n",
            "29/29 [==============================] - 15s 532ms/step - loss: 0.0724 - acc: 0.9968 - val_loss: 0.7992 - val_acc: 0.8158 - lr: 0.0040\n",
            "Epoch 133/200\n",
            "29/29 [==============================] - 15s 532ms/step - loss: 0.0681 - acc: 0.9984 - val_loss: 0.7975 - val_acc: 0.8147 - lr: 0.0040\n",
            "Epoch 134/200\n",
            "29/29 [==============================] - 15s 533ms/step - loss: 0.0676 - acc: 0.9973 - val_loss: 0.7773 - val_acc: 0.8168 - lr: 0.0040\n",
            "Epoch 135/200\n",
            "29/29 [==============================] - 15s 531ms/step - loss: 0.0648 - acc: 0.9984 - val_loss: 0.7938 - val_acc: 0.8142 - lr: 0.0040\n",
            "Epoch 136/200\n",
            "29/29 [==============================] - 15s 532ms/step - loss: 0.0637 - acc: 0.9981 - val_loss: 0.8084 - val_acc: 0.8163 - lr: 0.0040\n",
            "Epoch 137/200\n",
            "29/29 [==============================] - 15s 533ms/step - loss: 0.0642 - acc: 0.9976 - val_loss: 0.7868 - val_acc: 0.8211 - lr: 0.0040\n",
            "Epoch 138/200\n",
            "29/29 [==============================] - 15s 531ms/step - loss: 0.0634 - acc: 0.9978 - val_loss: 0.7776 - val_acc: 0.8184 - lr: 0.0040\n",
            "Epoch 139/200\n",
            "29/29 [==============================] - 15s 532ms/step - loss: 0.0621 - acc: 0.9989 - val_loss: 0.7812 - val_acc: 0.8227 - lr: 0.0040\n",
            "Epoch 140/200\n",
            "29/29 [==============================] - 15s 532ms/step - loss: 0.0598 - acc: 0.9984 - val_loss: 0.7740 - val_acc: 0.8184 - lr: 0.0040\n",
            "Epoch 141/200\n",
            "29/29 [==============================] - 15s 532ms/step - loss: 0.0586 - acc: 0.9981 - val_loss: 0.7993 - val_acc: 0.8147 - lr: 0.0040\n",
            "Epoch 142/200\n",
            "29/29 [==============================] - 15s 531ms/step - loss: 0.0598 - acc: 0.9984 - val_loss: 0.8073 - val_acc: 0.8147 - lr: 0.0040\n",
            "Epoch 143/200\n",
            "29/29 [==============================] - 15s 532ms/step - loss: 0.0573 - acc: 0.9989 - val_loss: 0.7981 - val_acc: 0.8163 - lr: 0.0040\n",
            "Epoch 144/200\n",
            "29/29 [==============================] - 15s 533ms/step - loss: 0.0598 - acc: 0.9970 - val_loss: 0.8044 - val_acc: 0.8190 - lr: 0.0040\n",
            "Epoch 145/200\n",
            "29/29 [==============================] - 15s 531ms/step - loss: 0.0578 - acc: 0.9978 - val_loss: 0.7994 - val_acc: 0.8211 - lr: 0.0040\n",
            "Epoch 146/200\n",
            "29/29 [==============================] - 15s 531ms/step - loss: 0.0550 - acc: 0.9992 - val_loss: 0.8159 - val_acc: 0.8158 - lr: 0.0040\n",
            "Epoch 147/200\n",
            "29/29 [==============================] - 15s 532ms/step - loss: 0.0563 - acc: 0.9981 - val_loss: 0.7760 - val_acc: 0.8200 - lr: 0.0040\n",
            "Epoch 148/200\n",
            "29/29 [==============================] - 15s 531ms/step - loss: 0.0525 - acc: 0.9995 - val_loss: 0.8213 - val_acc: 0.8205 - lr: 0.0040\n",
            "Epoch 149/200\n",
            "29/29 [==============================] - 15s 531ms/step - loss: 0.0526 - acc: 0.9992 - val_loss: 0.8315 - val_acc: 0.8137 - lr: 0.0040\n",
            "Epoch 150/200\n",
            "29/29 [==============================] - 15s 532ms/step - loss: 0.0516 - acc: 0.9987 - val_loss: 0.8266 - val_acc: 0.8142 - lr: 0.0040\n",
            "Epoch 151/200\n",
            "29/29 [==============================] - 15s 532ms/step - loss: 0.0534 - acc: 0.9973 - val_loss: 0.8214 - val_acc: 0.8137 - lr: 0.0040\n",
            "Epoch 152/200\n",
            "29/29 [==============================] - 15s 532ms/step - loss: 0.0518 - acc: 0.9984 - val_loss: 0.8472 - val_acc: 0.8126 - lr: 0.0040\n",
            "Epoch 153/200\n",
            "29/29 [==============================] - 15s 531ms/step - loss: 0.0516 - acc: 0.9984 - val_loss: 0.8556 - val_acc: 0.8131 - lr: 0.0040\n",
            "Epoch 154/200\n",
            "29/29 [==============================] - 15s 532ms/step - loss: 0.0488 - acc: 0.9997 - val_loss: 0.8380 - val_acc: 0.8174 - lr: 0.0040\n",
            "Epoch 155/200\n",
            "29/29 [==============================] - 15s 533ms/step - loss: 0.0486 - acc: 0.9992 - val_loss: 0.8092 - val_acc: 0.8200 - lr: 0.0040\n",
            "Epoch 156/200\n",
            "29/29 [==============================] - 15s 533ms/step - loss: 0.0486 - acc: 0.9989 - val_loss: 0.8528 - val_acc: 0.8100 - lr: 0.0040\n",
            "Epoch 157/200\n",
            "29/29 [==============================] - 15s 532ms/step - loss: 0.0469 - acc: 0.9992 - val_loss: 0.8524 - val_acc: 0.8190 - lr: 0.0040\n",
            "Epoch 158/200\n",
            "29/29 [==============================] - 15s 530ms/step - loss: 0.0484 - acc: 0.9981 - val_loss: 0.8184 - val_acc: 0.8147 - lr: 0.0040\n",
            "Epoch 159/200\n",
            "29/29 [==============================] - 15s 530ms/step - loss: 0.0475 - acc: 0.9992 - val_loss: 0.8522 - val_acc: 0.8158 - lr: 0.0040\n",
            "Epoch 160/200\n",
            "29/29 [==============================] - 15s 532ms/step - loss: 0.0488 - acc: 0.9973 - val_loss: 0.8730 - val_acc: 0.8105 - lr: 0.0040\n",
            "Epoch 161/200\n",
            "29/29 [==============================] - 15s 531ms/step - loss: 0.0478 - acc: 0.9989 - val_loss: 0.8412 - val_acc: 0.8147 - lr: 8.0000e-04\n",
            "Epoch 162/200\n",
            "29/29 [==============================] - 15s 532ms/step - loss: 0.0461 - acc: 0.9989 - val_loss: 0.8418 - val_acc: 0.8174 - lr: 8.0000e-04\n",
            "Epoch 163/200\n",
            "29/29 [==============================] - 15s 532ms/step - loss: 0.0449 - acc: 0.9997 - val_loss: 0.8329 - val_acc: 0.8147 - lr: 8.0000e-04\n",
            "Epoch 164/200\n",
            "29/29 [==============================] - 15s 532ms/step - loss: 0.0438 - acc: 0.9992 - val_loss: 0.8481 - val_acc: 0.8179 - lr: 8.0000e-04\n",
            "Epoch 165/200\n",
            "29/29 [==============================] - 15s 532ms/step - loss: 0.0447 - acc: 0.9992 - val_loss: 0.8270 - val_acc: 0.8205 - lr: 8.0000e-04\n",
            "Epoch 166/200\n",
            "29/29 [==============================] - 15s 532ms/step - loss: 0.0427 - acc: 0.9995 - val_loss: 0.8160 - val_acc: 0.8190 - lr: 8.0000e-04\n",
            "Epoch 167/200\n",
            "29/29 [==============================] - 15s 532ms/step - loss: 0.0433 - acc: 0.9995 - val_loss: 0.8693 - val_acc: 0.8147 - lr: 8.0000e-04\n",
            "Epoch 168/200\n",
            "29/29 [==============================] - 15s 531ms/step - loss: 0.0423 - acc: 0.9997 - val_loss: 0.8486 - val_acc: 0.8179 - lr: 8.0000e-04\n",
            "Epoch 169/200\n",
            "29/29 [==============================] - 15s 533ms/step - loss: 0.0422 - acc: 0.9997 - val_loss: 0.8435 - val_acc: 0.8205 - lr: 8.0000e-04\n",
            "Epoch 170/200\n",
            "29/29 [==============================] - 15s 531ms/step - loss: 0.0432 - acc: 0.9992 - val_loss: 0.8189 - val_acc: 0.8221 - lr: 8.0000e-04\n",
            "Epoch 171/200\n",
            "29/29 [==============================] - 15s 532ms/step - loss: 0.0412 - acc: 0.9995 - val_loss: 0.8201 - val_acc: 0.8205 - lr: 8.0000e-04\n",
            "Epoch 172/200\n",
            "29/29 [==============================] - 15s 532ms/step - loss: 0.0406 - acc: 0.9995 - val_loss: 0.8463 - val_acc: 0.8184 - lr: 8.0000e-04\n",
            "Epoch 173/200\n",
            "29/29 [==============================] - 15s 532ms/step - loss: 0.0416 - acc: 0.9995 - val_loss: 0.8535 - val_acc: 0.8158 - lr: 8.0000e-04\n",
            "Epoch 174/200\n",
            "29/29 [==============================] - 15s 532ms/step - loss: 0.0408 - acc: 0.9997 - val_loss: 0.8475 - val_acc: 0.8195 - lr: 8.0000e-04\n",
            "Epoch 175/200\n",
            "29/29 [==============================] - 15s 531ms/step - loss: 0.0410 - acc: 0.9997 - val_loss: 0.8401 - val_acc: 0.8184 - lr: 8.0000e-04\n",
            "Epoch 176/200\n",
            "29/29 [==============================] - 15s 532ms/step - loss: 0.0402 - acc: 0.9997 - val_loss: 0.8325 - val_acc: 0.8205 - lr: 8.0000e-04\n",
            "Epoch 177/200\n",
            "29/29 [==============================] - 15s 533ms/step - loss: 0.0396 - acc: 1.0000 - val_loss: 0.8424 - val_acc: 0.8211 - lr: 8.0000e-04\n",
            "Epoch 178/200\n",
            "29/29 [==============================] - 15s 534ms/step - loss: 0.0399 - acc: 0.9997 - val_loss: 0.8502 - val_acc: 0.8221 - lr: 8.0000e-04\n",
            "Epoch 179/200\n",
            "29/29 [==============================] - 15s 534ms/step - loss: 0.0394 - acc: 0.9995 - val_loss: 0.8735 - val_acc: 0.8152 - lr: 8.0000e-04\n",
            "Epoch 180/200\n",
            "29/29 [==============================] - 15s 534ms/step - loss: 0.0398 - acc: 0.9997 - val_loss: 0.8508 - val_acc: 0.8221 - lr: 8.0000e-04\n",
            "Epoch 181/200\n",
            "29/29 [==============================] - 15s 533ms/step - loss: 0.0400 - acc: 0.9995 - val_loss: 0.8365 - val_acc: 0.8221 - lr: 8.0000e-04\n",
            "Epoch 182/200\n",
            "29/29 [==============================] - 16s 535ms/step - loss: 0.0386 - acc: 1.0000 - val_loss: 0.8389 - val_acc: 0.8179 - lr: 8.0000e-04\n",
            "Epoch 183/200\n",
            "29/29 [==============================] - 16s 535ms/step - loss: 0.0389 - acc: 0.9995 - val_loss: 0.8243 - val_acc: 0.8216 - lr: 8.0000e-04\n",
            "Epoch 184/200\n",
            "29/29 [==============================] - 15s 534ms/step - loss: 0.0389 - acc: 0.9995 - val_loss: 0.8383 - val_acc: 0.8179 - lr: 8.0000e-04\n",
            "Epoch 185/200\n",
            "29/29 [==============================] - 15s 534ms/step - loss: 0.0396 - acc: 0.9989 - val_loss: 0.8134 - val_acc: 0.8184 - lr: 8.0000e-04\n",
            "Epoch 186/200\n",
            "29/29 [==============================] - 16s 535ms/step - loss: 0.0381 - acc: 0.9989 - val_loss: 0.8343 - val_acc: 0.8269 - lr: 8.0000e-04\n",
            "Epoch 187/200\n",
            "29/29 [==============================] - 15s 533ms/step - loss: 0.0383 - acc: 0.9995 - val_loss: 0.8361 - val_acc: 0.8078 - lr: 8.0000e-04\n",
            "Epoch 188/200\n",
            "29/29 [==============================] - 15s 534ms/step - loss: 0.0381 - acc: 0.9992 - val_loss: 0.8248 - val_acc: 0.8211 - lr: 8.0000e-04\n",
            "Epoch 189/200\n",
            "29/29 [==============================] - 15s 534ms/step - loss: 0.0375 - acc: 0.9997 - val_loss: 0.8257 - val_acc: 0.8253 - lr: 8.0000e-04\n",
            "Epoch 190/200\n",
            "29/29 [==============================] - 15s 531ms/step - loss: 0.0368 - acc: 0.9995 - val_loss: 0.8372 - val_acc: 0.8232 - lr: 8.0000e-04\n",
            "Epoch 191/200\n",
            "29/29 [==============================] - 15s 531ms/step - loss: 0.0377 - acc: 0.9995 - val_loss: 0.8395 - val_acc: 0.8237 - lr: 8.0000e-04\n",
            "Epoch 192/200\n",
            "29/29 [==============================] - 15s 533ms/step - loss: 0.0367 - acc: 0.9997 - val_loss: 0.8452 - val_acc: 0.8280 - lr: 8.0000e-04\n",
            "Epoch 193/200\n",
            "29/29 [==============================] - 15s 532ms/step - loss: 0.0364 - acc: 0.9992 - val_loss: 0.8363 - val_acc: 0.8205 - lr: 8.0000e-04\n",
            "Epoch 194/200\n",
            "29/29 [==============================] - 15s 534ms/step - loss: 0.0366 - acc: 0.9997 - val_loss: 0.8313 - val_acc: 0.8190 - lr: 8.0000e-04\n",
            "Epoch 195/200\n",
            "29/29 [==============================] - 15s 533ms/step - loss: 0.0360 - acc: 1.0000 - val_loss: 0.8395 - val_acc: 0.8195 - lr: 8.0000e-04\n",
            "Epoch 196/200\n",
            "29/29 [==============================] - 15s 533ms/step - loss: 0.0357 - acc: 1.0000 - val_loss: 0.8535 - val_acc: 0.8274 - lr: 8.0000e-04\n",
            "Epoch 197/200\n",
            "29/29 [==============================] - 15s 534ms/step - loss: 0.0359 - acc: 0.9997 - val_loss: 0.8485 - val_acc: 0.8216 - lr: 8.0000e-04\n",
            "Epoch 198/200\n",
            "29/29 [==============================] - 15s 533ms/step - loss: 0.0355 - acc: 0.9997 - val_loss: 0.8464 - val_acc: 0.8200 - lr: 8.0000e-04\n",
            "Epoch 199/200\n",
            "29/29 [==============================] - 15s 532ms/step - loss: 0.0352 - acc: 0.9997 - val_loss: 0.8337 - val_acc: 0.8184 - lr: 8.0000e-04\n",
            "Epoch 200/200\n",
            "29/29 [==============================] - 15s 531ms/step - loss: 0.0350 - acc: 1.0000 - val_loss: 0.8468 - val_acc: 0.8221 - lr: 8.0000e-04\n"
          ],
          "name": "stdout"
        }
      ]
    },
    {
      "cell_type": "code",
      "metadata": {
        "id": "MNGXxJTQq-UD",
        "colab_type": "code",
        "colab": {
          "base_uri": "https://localhost:8080/",
          "height": 394
        },
        "outputId": "64e2011d-01fc-4916-933d-7695c8319160"
      },
      "source": [
        ""
      ],
      "execution_count": 33,
      "outputs": [
        {
          "output_type": "error",
          "ename": "RuntimeError",
          "evalue": "ignored",
          "traceback": [
            "\u001b[0;31m---------------------------------------------------------------------------\u001b[0m",
            "\u001b[0;31mRuntimeError\u001b[0m                              Traceback (most recent call last)",
            "\u001b[0;32m<ipython-input-33-085dbac4dca3>\u001b[0m in \u001b[0;36m<module>\u001b[0;34m()\u001b[0m\n\u001b[1;32m      3\u001b[0m \u001b[0mtf\u001b[0m\u001b[0;34m.\u001b[0m\u001b[0mcompat\u001b[0m\u001b[0;34m.\u001b[0m\u001b[0mv1\u001b[0m\u001b[0;34m.\u001b[0m\u001b[0menable_eager_execution\u001b[0m\u001b[0;34m(\u001b[0m\u001b[0;34m)\u001b[0m\u001b[0;34m\u001b[0m\u001b[0;34m\u001b[0m\u001b[0m\n\u001b[1;32m      4\u001b[0m \u001b[0msess\u001b[0m \u001b[0;34m=\u001b[0m \u001b[0mtf\u001b[0m\u001b[0;34m.\u001b[0m\u001b[0mcompat\u001b[0m\u001b[0;34m.\u001b[0m\u001b[0mv1\u001b[0m\u001b[0;34m.\u001b[0m\u001b[0mInteractiveSession\u001b[0m\u001b[0;34m(\u001b[0m\u001b[0;34m)\u001b[0m\u001b[0;34m\u001b[0m\u001b[0;34m\u001b[0m\u001b[0m\n\u001b[0;32m----> 5\u001b[0;31m \u001b[0mtrain_op\u001b[0m \u001b[0;34m=\u001b[0m \u001b[0mtf\u001b[0m\u001b[0;34m.\u001b[0m\u001b[0mcompat\u001b[0m\u001b[0;34m.\u001b[0m\u001b[0mv1\u001b[0m\u001b[0;34m.\u001b[0m\u001b[0mtrain\u001b[0m\u001b[0;34m.\u001b[0m\u001b[0mAdamOptimizer\u001b[0m\u001b[0;34m(\u001b[0m\u001b[0;36m0.001\u001b[0m\u001b[0;34m)\u001b[0m\u001b[0;34m.\u001b[0m\u001b[0mminimize\u001b[0m\u001b[0;34m(\u001b[0m\u001b[0mparseval_16_2\u001b[0m\u001b[0;34m.\u001b[0m\u001b[0mloss\u001b[0m\u001b[0;34m,\u001b[0m \u001b[0mglobal_step\u001b[0m\u001b[0;34m=\u001b[0m\u001b[0;36m1\u001b[0m\u001b[0;34m)\u001b[0m\u001b[0;34m\u001b[0m\u001b[0;34m\u001b[0m\u001b[0m\n\u001b[0m\u001b[1;32m      6\u001b[0m _, loss_value, summary = sess.run([train_op,parseval_16_2.losses],\n\u001b[1;32m      7\u001b[0m                                     feed_dict={X,to_categorical(y_train_df['New'])})\n",
            "\u001b[0;32m/usr/local/lib/python3.6/dist-packages/tensorflow/python/training/optimizer.py\u001b[0m in \u001b[0;36mminimize\u001b[0;34m(self, loss, global_step, var_list, gate_gradients, aggregation_method, colocate_gradients_with_ops, name, grad_loss)\u001b[0m\n\u001b[1;32m    401\u001b[0m         \u001b[0maggregation_method\u001b[0m\u001b[0;34m=\u001b[0m\u001b[0maggregation_method\u001b[0m\u001b[0;34m,\u001b[0m\u001b[0;34m\u001b[0m\u001b[0;34m\u001b[0m\u001b[0m\n\u001b[1;32m    402\u001b[0m         \u001b[0mcolocate_gradients_with_ops\u001b[0m\u001b[0;34m=\u001b[0m\u001b[0mcolocate_gradients_with_ops\u001b[0m\u001b[0;34m,\u001b[0m\u001b[0;34m\u001b[0m\u001b[0;34m\u001b[0m\u001b[0m\n\u001b[0;32m--> 403\u001b[0;31m         grad_loss=grad_loss)\n\u001b[0m\u001b[1;32m    404\u001b[0m \u001b[0;34m\u001b[0m\u001b[0m\n\u001b[1;32m    405\u001b[0m     \u001b[0mvars_with_grad\u001b[0m \u001b[0;34m=\u001b[0m \u001b[0;34m[\u001b[0m\u001b[0mv\u001b[0m \u001b[0;32mfor\u001b[0m \u001b[0mg\u001b[0m\u001b[0;34m,\u001b[0m \u001b[0mv\u001b[0m \u001b[0;32min\u001b[0m \u001b[0mgrads_and_vars\u001b[0m \u001b[0;32mif\u001b[0m \u001b[0mg\u001b[0m \u001b[0;32mis\u001b[0m \u001b[0;32mnot\u001b[0m \u001b[0;32mNone\u001b[0m\u001b[0;34m]\u001b[0m\u001b[0;34m\u001b[0m\u001b[0;34m\u001b[0m\u001b[0m\n",
            "\u001b[0;32m/usr/local/lib/python3.6/dist-packages/tensorflow/python/training/optimizer.py\u001b[0m in \u001b[0;36mcompute_gradients\u001b[0;34m(self, loss, var_list, gate_gradients, aggregation_method, colocate_gradients_with_ops, grad_loss)\u001b[0m\n\u001b[1;32m    479\u001b[0m     \u001b[0;32mif\u001b[0m \u001b[0mcontext\u001b[0m\u001b[0;34m.\u001b[0m\u001b[0mexecuting_eagerly\u001b[0m\u001b[0;34m(\u001b[0m\u001b[0;34m)\u001b[0m\u001b[0;34m:\u001b[0m\u001b[0;34m\u001b[0m\u001b[0;34m\u001b[0m\u001b[0m\n\u001b[1;32m    480\u001b[0m       raise RuntimeError(\n\u001b[0;32m--> 481\u001b[0;31m           \u001b[0;34m\"`loss` passed to Optimizer.compute_gradients should \"\u001b[0m\u001b[0;34m\u001b[0m\u001b[0;34m\u001b[0m\u001b[0m\n\u001b[0m\u001b[1;32m    482\u001b[0m           \"be a function when eager execution is enabled.\")\n\u001b[1;32m    483\u001b[0m \u001b[0;34m\u001b[0m\u001b[0m\n",
            "\u001b[0;31mRuntimeError\u001b[0m: `loss` passed to Optimizer.compute_gradients should be a function when eager execution is enabled."
          ]
        }
      ]
    },
    {
      "cell_type": "code",
      "metadata": {
        "id": "y-QerZ4RN91R",
        "colab_type": "code",
        "outputId": "1c403473-cd6c-4446-f013-e851f2ca5b80",
        "colab": {
          "base_uri": "https://localhost:8080/",
          "height": 282
        }
      },
      "source": [
        "from matplotlib import  pyplot\n",
        "\n",
        "pyplot.plot(hist.history[\"acc\"], label='train')\n",
        "pyplot.plot(hist.history['val_acc'], label='test')"
      ],
      "execution_count": 19,
      "outputs": [
        {
          "output_type": "execute_result",
          "data": {
            "text/plain": [
              "[<matplotlib.lines.Line2D at 0x7fe5a109d5c0>]"
            ]
          },
          "metadata": {
            "tags": []
          },
          "execution_count": 19
        },
        {
          "output_type": "display_data",
          "data": {
            "image/png": "[encoded data removed]",
            "text/plain": [
              "<Figure size 432x288 with 1 Axes>"
            ]
          },
          "metadata": {
            "tags": [],
            "needs_background": "light"
          }
        }
      ]
    },
    {
      "cell_type": "code",
      "metadata": {
        "id": "xeg6MBf-GSgC",
        "colab_type": "code",
        "colab": {}
      },
      "source": [
        "test_err = [1.0-x for x in hist.history['val_acc']]"
      ],
      "execution_count": 0,
      "outputs": []
    },
    {
      "cell_type": "code",
      "metadata": {
        "id": "RgiKT6i5GiJ9",
        "colab_type": "code",
        "outputId": "090feebf-b0e1-4a8a-cf74-45d50afc802b",
        "colab": {
          "base_uri": "https://localhost:8080/",
          "height": 265
        }
      },
      "source": [
        "pyplot.plot(test_err, label='test')\n",
        "pyplot.savefig(\"deneme_err.png\")"
      ],
      "execution_count": 0,
      "outputs": [
        {
          "output_type": "display_data",
          "data": {
            "image/png": "[encoded data removed]",
            "text/plain": [
              "<Figure size 432x288 with 1 Axes>"
            ]
          },
          "metadata": {
            "tags": [],
            "needs_background": "light"
          }
        }
      ]
    },
    {
      "cell_type": "code",
      "metadata": {
        "id": "l4-IJ9Z-dQKF",
        "colab_type": "code",
        "colab": {}
      },
      "source": [
        "import tensorflow as tf\n",
        "parseval_16_2.save(\"parseval_tensor_lst.h5\")"
      ],
      "execution_count": 0,
      "outputs": []
    },
    {
      "cell_type": "code",
      "metadata": {
        "id": "MqddlwbmEV9s",
        "colab_type": "code",
        "colab": {}
      },
      "source": [
        "y_pred = parseval_16_2.predict(X_test)"
      ],
      "execution_count": 0,
      "outputs": []
    },
    {
      "cell_type": "code",
      "metadata": {
        "id": "C9Ysop6NFDbs",
        "colab_type": "code",
        "outputId": "0343737d-7d1d-468d-8531-fe503a38d5c0",
        "colab": {
          "base_uri": "https://localhost:8080/",
          "height": 51
        }
      },
      "source": [
        "parseval_16_2.evaluate(X_test,to_categorical(y_test_df['New']),batch_size=128,verbose=2)"
      ],
      "execution_count": 0,
      "outputs": [
        {
          "output_type": "stream",
          "text": [
            "15/15 - 1s - loss: 0.8171 - acc: 0.8317\n"
          ],
          "name": "stdout"
        },
        {
          "output_type": "execute_result",
          "data": {
            "text/plain": [
              "[0.817147433757782, 0.8316569328308105]"
            ]
          },
          "metadata": {
            "tags": []
          },
          "execution_count": 22
        }
      ]
    },
    {
      "cell_type": "code",
      "metadata": {
        "id": "THYCAlBW15Kg",
        "colab_type": "code",
        "outputId": "c947688e-b185-4a4f-f4a4-d0c4f889e127",
        "colab": {
          "base_uri": "https://localhost:8080/",
          "height": 734
        }
      },
      "source": [
        "!pip install -q tensorflow==2.0.0b1\n",
        "# Install bleeding edge version of cleverhans\n",
        "!pip install git+https://github.com/tensorflow/cleverhans.git#egg=cleverhans\n",
        "\n",
        "import cleverhans\n",
        "import tensorflow as tf\n",
        "import numpy as np\n",
        "import matplotlib.pyplot as plt\n",
        "\n",
        "print(\"\\nTensorflow Version: \" + tf.__version__)\n",
        "print(\"Cleverhans Version: \" + cleverhans.__version__)\n",
        "print(\"GPU Available: \", tf.test.is_gpu_available())"
      ],
      "execution_count": 0,
      "outputs": [
        {
          "output_type": "stream",
          "text": [
            "\u001b[K     |████████████████████████████████| 87.9MB 35kB/s \n",
            "\u001b[K     |████████████████████████████████| 3.1MB 52.2MB/s \n",
            "\u001b[K     |████████████████████████████████| 501kB 56.3MB/s \n",
            "\u001b[?25hCollecting cleverhans\n",
            "  Cloning https://github.com/tensorflow/cleverhans.git to /tmp/pip-install-nh_dsdoh/cleverhans\n",
            "  Running command git clone -q https://github.com/tensorflow/cleverhans.git /tmp/pip-install-nh_dsdoh/cleverhans\n",
            "Collecting nose\n",
            "\u001b[?25l  Downloading https://files.pythonhosted.org/packages/15/d8/dd071918c040f50fa1cf80da16423af51ff8ce4a0f2399b7bf8de45ac3d9/nose-1.3.7-py3-none-any.whl (154kB)\n",
            "\u001b[K     |████████████████████████████████| 163kB 31.1MB/s \n",
            "\u001b[?25hCollecting pycodestyle\n",
            "\u001b[?25l  Downloading https://files.pythonhosted.org/packages/10/5b/88879fb861ab79aef45c7e199cae3ef7af487b5603dcb363517a50602dd7/pycodestyle-2.6.0-py2.py3-none-any.whl (41kB)\n",
            "\u001b[K     |████████████████████████████████| 51kB 9.0MB/s \n",
            "\u001b[?25hRequirement already satisfied: scipy in /usr/local/lib/python3.6/dist-packages (from cleverhans) (1.4.1)\n",
            "Requirement already satisfied: matplotlib in /usr/local/lib/python3.6/dist-packages (from cleverhans) (3.2.1)\n",
            "Collecting mnist~=0.2\n",
            "  Downloading https://files.pythonhosted.org/packages/c6/c4/5db3bfe009f8d71f1d532bbadbd0ec203764bba3a469e4703a889db8e5e0/mnist-0.2.2-py2.py3-none-any.whl\n",
            "Requirement already satisfied: numpy in /usr/local/lib/python3.6/dist-packages (from cleverhans) (1.18.4)\n",
            "Requirement already satisfied: tensorflow-probability in /usr/local/lib/python3.6/dist-packages (from cleverhans) (0.10.0)\n",
            "Requirement already satisfied: joblib in /usr/local/lib/python3.6/dist-packages (from cleverhans) (0.15.1)\n",
            "Requirement already satisfied: kiwisolver>=1.0.1 in /usr/local/lib/python3.6/dist-packages (from matplotlib->cleverhans) (1.2.0)\n",
            "Requirement already satisfied: pyparsing!=2.0.4,!=2.1.2,!=2.1.6,>=2.0.1 in /usr/local/lib/python3.6/dist-packages (from matplotlib->cleverhans) (2.4.7)\n",
            "Requirement already satisfied: python-dateutil>=2.1 in /usr/local/lib/python3.6/dist-packages (from matplotlib->cleverhans) (2.8.1)\n",
            "Requirement already satisfied: cycler>=0.10 in /usr/local/lib/python3.6/dist-packages (from matplotlib->cleverhans) (0.10.0)\n",
            "Requirement already satisfied: gast>=0.3.2 in /usr/local/lib/python3.6/dist-packages (from tensorflow-probability->cleverhans) (0.3.3)\n",
            "Requirement already satisfied: decorator in /usr/local/lib/python3.6/dist-packages (from tensorflow-probability->cleverhans) (4.4.2)\n",
            "Requirement already satisfied: cloudpickle>=1.2.2 in /usr/local/lib/python3.6/dist-packages (from tensorflow-probability->cleverhans) (1.3.0)\n",
            "Requirement already satisfied: six>=1.10.0 in /usr/local/lib/python3.6/dist-packages (from tensorflow-probability->cleverhans) (1.12.0)\n",
            "Building wheels for collected packages: cleverhans\n",
            "  Building wheel for cleverhans (setup.py) ... \u001b[?25l\u001b[?25hdone\n",
            "  Created wheel for cleverhans: filename=cleverhans-3.0.1-cp36-none-any.whl size=262572 sha256=708b7304ac7a6e28e4ef9ea44126f4a715f8f96b8ee650c8814df301078e521a\n",
            "  Stored in directory: /tmp/pip-ephem-wheel-cache-jif2zqq_/wheels/6e/59/ec/723a6f654aaf62c8c40f0f0850fdf71a4948598697f56c3bfa\n",
            "Successfully built cleverhans\n",
            "Installing collected packages: nose, pycodestyle, mnist, cleverhans\n",
            "Successfully installed cleverhans-3.0.1 mnist-0.2.2 nose-1.3.7 pycodestyle-2.6.0\n",
            "\n",
            "Tensorflow Version: 2.2.0\n",
            "Cleverhans Version: 3.0.1-fc7b7c7ec903258e0e3fb88503fa629f\n",
            "WARNING:tensorflow:From <ipython-input-23-67a2c783edbc>:12: is_gpu_available (from tensorflow.python.framework.test_util) is deprecated and will be removed in a future version.\n",
            "Instructions for updating:\n",
            "Use `tf.config.list_physical_devices('GPU')` instead.\n",
            "GPU Available:  True\n"
          ],
          "name": "stdout"
        }
      ]
    },
    {
      "cell_type": "code",
      "metadata": {
        "id": "ZNev4Y9U2sFQ",
        "colab_type": "code",
        "outputId": "c87f32ea-ddb6-4e79-e7e5-4f90c61f1501",
        "colab": {
          "base_uri": "https://localhost:8080/",
          "height": 197
        }
      },
      "source": [
        "from cleverhans.future.tf2.attacks import fast_gradient_method\n",
        "\n",
        "#The attack requires the model to ouput the logits\n",
        "logits_model = tf.keras.Model(wrn_28_10.input,wrn_28_10.layers[-1].output)"
      ],
      "execution_count": 0,
      "outputs": [
        {
          "output_type": "error",
          "ename": "NameError",
          "evalue": "ignored",
          "traceback": [
            "\u001b[0;31m---------------------------------------------------------------------------\u001b[0m",
            "\u001b[0;31mNameError\u001b[0m                                 Traceback (most recent call last)",
            "\u001b[0;32m<ipython-input-24-4733b5d5dfed>\u001b[0m in \u001b[0;36m<module>\u001b[0;34m()\u001b[0m\n\u001b[1;32m      2\u001b[0m \u001b[0;34m\u001b[0m\u001b[0m\n\u001b[1;32m      3\u001b[0m \u001b[0;31m#The attack requires the model to ouput the logits\u001b[0m\u001b[0;34m\u001b[0m\u001b[0;34m\u001b[0m\u001b[0;34m\u001b[0m\u001b[0m\n\u001b[0;32m----> 4\u001b[0;31m \u001b[0mlogits_model\u001b[0m \u001b[0;34m=\u001b[0m \u001b[0mtf\u001b[0m\u001b[0;34m.\u001b[0m\u001b[0mkeras\u001b[0m\u001b[0;34m.\u001b[0m\u001b[0mModel\u001b[0m\u001b[0;34m(\u001b[0m\u001b[0mwrn_28_10\u001b[0m\u001b[0;34m.\u001b[0m\u001b[0minput\u001b[0m\u001b[0;34m,\u001b[0m\u001b[0mwrn_28_10\u001b[0m\u001b[0;34m.\u001b[0m\u001b[0mlayers\u001b[0m\u001b[0;34m[\u001b[0m\u001b[0;34m-\u001b[0m\u001b[0;36m1\u001b[0m\u001b[0;34m]\u001b[0m\u001b[0;34m.\u001b[0m\u001b[0moutput\u001b[0m\u001b[0;34m)\u001b[0m\u001b[0;34m\u001b[0m\u001b[0;34m\u001b[0m\u001b[0m\n\u001b[0m",
            "\u001b[0;31mNameError\u001b[0m: name 'wrn_28_10' is not defined"
          ]
        }
      ]
    },
    {
      "cell_type": "code",
      "metadata": {
        "id": "dtKEw7Uq3Dj-",
        "colab_type": "code",
        "colab": {}
      },
      "source": [
        "random_index = 5\n",
        "\n",
        "original_image = X_test[random_index]\n",
        "original_image = tf.convert_to_tensor(original_image.reshape((1,68,100))) "
      ],
      "execution_count": 0,
      "outputs": []
    },
    {
      "cell_type": "code",
      "metadata": {
        "id": "FdxYTfSn3R4l",
        "colab_type": "code",
        "colab": {}
      },
      "source": [
        "original_image.shape"
      ],
      "execution_count": 0,
      "outputs": []
    },
    {
      "cell_type": "code",
      "metadata": {
        "id": "YSa4WKy33U3K",
        "colab_type": "code",
        "colab": {}
      },
      "source": [
        "wrn_28_10(original_image)"
      ],
      "execution_count": 0,
      "outputs": []
    },
    {
      "cell_type": "code",
      "metadata": {
        "id": "_jrP3jw83fwT",
        "colab_type": "code",
        "colab": {}
      },
      "source": [
        "y_test_cat = to_categorical(y_test_df['New'])"
      ],
      "execution_count": 0,
      "outputs": []
    },
    {
      "cell_type": "code",
      "metadata": {
        "id": "4VoJsNJX4HiB",
        "colab_type": "code",
        "colab": {}
      },
      "source": [
        "original_label = y_test_cat[random_index]\n",
        "original_label "
      ],
      "execution_count": 0,
      "outputs": []
    },
    {
      "cell_type": "code",
      "metadata": {
        "id": "K70kNexu3l-c",
        "colab_type": "code",
        "colab": {}
      },
      "source": [
        "epsilon = 0.33\n",
        "\n",
        "\n",
        "adv_example_untargeted_label = fast_gradient_method(logits_model, original_image, epsilon, np.inf, targeted=False)\n",
        "\n",
        "adv_example_untargeted_label_pred = wrn_28_10.predict(adv_example_untargeted_label)"
      ],
      "execution_count": 0,
      "outputs": []
    },
    {
      "cell_type": "code",
      "metadata": {
        "id": "r-LglBmM4gNw",
        "colab_type": "code",
        "colab": {}
      },
      "source": [
        "adv_example_untargeted_label"
      ],
      "execution_count": 0,
      "outputs": []
    },
    {
      "cell_type": "code",
      "metadata": {
        "id": "8d6rZhTp4i2b",
        "colab_type": "code",
        "colab": {}
      },
      "source": [
        "np.argmax(adv_example_untargeted_label_pred)"
      ],
      "execution_count": 0,
      "outputs": []
    },
    {
      "cell_type": "code",
      "metadata": {
        "id": "EKCXvIXY66lb",
        "colab_type": "code",
        "colab": {}
      },
      "source": [
        "original_image = tf.reshape(adv_example_untargeted_label, (68,100))"
      ],
      "execution_count": 0,
      "outputs": []
    },
    {
      "cell_type": "code",
      "metadata": {
        "id": "R0jgK_uG7cwn",
        "colab_type": "code",
        "colab": {}
      },
      "source": [
        "original_image"
      ],
      "execution_count": 0,
      "outputs": []
    },
    {
      "cell_type": "code",
      "metadata": {
        "id": "70uI8BLT7r5H",
        "colab_type": "code",
        "colab": {}
      },
      "source": [
        "import matplotlib.pyplot as plt\n",
        "import numpy as np\n",
        "X = np.random.random((100, 100)) # sample 2D array\n",
        "plt.imshow(original_image)\n",
        "plt.show()"
      ],
      "execution_count": 0,
      "outputs": []
    },
    {
      "cell_type": "code",
      "metadata": {
        "id": "SumJnhN98Y0i",
        "colab_type": "code",
        "colab": {}
      },
      "source": [
        "y_test_cat[random_index]"
      ],
      "execution_count": 0,
      "outputs": []
    },
    {
      "cell_type": "code",
      "metadata": {
        "id": "woaZe08I8kM_",
        "colab_type": "code",
        "colab": {}
      },
      "source": [
        "y_test[random_index]"
      ],
      "execution_count": 0,
      "outputs": []
    }
  ]
}