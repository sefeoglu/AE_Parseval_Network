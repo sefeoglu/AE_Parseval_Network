{
  "nbformat": 4,
  "nbformat_minor": 0,
  "metadata": {
    "kernelspec": {
      "display_name": "Python 3",
      "language": "python",
      "name": "python3"
    },
    "language_info": {
      "codemirror_mode": {
        "name": "ipython",
        "version": 3
      },
      "file_extension": ".py",
      "mimetype": "text/x-python",
      "name": "python",
      "nbconvert_exporter": "python",
      "pygments_lexer": "ipython3",
      "version": "3.7.4"
    },
    "colab": {
      "name": "ParsevalNetwork.ipynb",
      "provenance": [],
      "toc_visible": true
    },
    "accelerator": "GPU"
  },
  "cells": [
    {
      "cell_type": "markdown",
      "metadata": {
        "id": "_idgCcuZdv0S",
        "colab_type": "text"
      },
      "source": [
        "# **Parseval Network**"
      ]
    },
    {
      "cell_type": "markdown",
      "metadata": {
        "id": "jO1kBOuDd2_r",
        "colab_type": "text"
      },
      "source": [
        "# **Data Preparation**"
      ]
    },
    {
      "cell_type": "code",
      "metadata": {
        "id": "esXS1STy_O_m",
        "colab_type": "code",
        "colab": {}
      },
      "source": [
        "from sklearn.model_selection import train_test_split\n",
        "import gzip\n",
        "import pickle\n",
        "import numpy as np\n",
        "from tensorflow.keras.utils import to_categorical\n",
        "import tensorflow.keras.backend as K"
      ],
      "execution_count": 0,
      "outputs": []
    },
    {
      "cell_type": "code",
      "metadata": {
        "id": "11nX1rD7_O_t",
        "colab_type": "code",
        "outputId": "290efad6-2d48-4fb4-b56a-f1b1ef29756c",
        "colab": {
          "base_uri": "https://localhost:8080/",
          "height": 34
        }
      },
      "source": [
        "def read_data():\n",
        "    with open(\"data.pz\", 'rb') as file_:\n",
        "        with gzip.GzipFile(fileobj=file_) as gzf:\n",
        "            data = pickle.load(gzf, encoding='latin1', fix_imports=True)\n",
        "    return data\n",
        "data = read_data()\n",
        "import cv2\n",
        "new_data_X = []\n",
        "Y_data = []\n",
        "for row in data:\n",
        "    new_data_X.append(cv2.resize(row['crop'], (32,32)))\n",
        "    Y_data.append(row['label'])\n",
        "new_data_X = np.array(new_data_X)\n",
        "new_data_X.shape"
      ],
      "execution_count": 2,
      "outputs": [
        {
          "output_type": "execute_result",
          "data": {
            "text/plain": [
              "(5722, 32, 32)"
            ]
          },
          "metadata": {
            "tags": []
          },
          "execution_count": 2
        }
      ]
    },
    {
      "cell_type": "code",
      "metadata": {
        "id": "wuUWZk7KeFck",
        "colab_type": "code",
        "outputId": "99012f9a-f1cf-402e-95bc-650fc7704164",
        "colab": {
          "base_uri": "https://localhost:8080/",
          "height": 34
        }
      },
      "source": [
        "X = new_data_X.astype('float32')\n",
        "X.shape"
      ],
      "execution_count": 3,
      "outputs": [
        {
          "output_type": "execute_result",
          "data": {
            "text/plain": [
              "(5722, 32, 32)"
            ]
          },
          "metadata": {
            "tags": []
          },
          "execution_count": 3
        }
      ]
    },
    {
      "cell_type": "code",
      "metadata": {
        "id": "6T0HkiPfeH1U",
        "colab_type": "code",
        "colab": {}
      },
      "source": [
        "img_rows, img_cols = X[0].shape\n",
        "\n",
        "# transform data set\n",
        "if K.image_data_format() == 'channels_first':\n",
        "    X = X.reshape(X.shape[0], 1, img_rows, img_cols)\n",
        "    input_shape = (1, img_rows, img_cols)\n",
        "else:\n",
        "    X = X.reshape(X.shape[0], img_rows, img_cols, 1)\n",
        "    input_shape = (img_rows, img_cols, 1)"
      ],
      "execution_count": 0,
      "outputs": []
    },
    {
      "cell_type": "code",
      "metadata": {
        "id": "crqYw_LJeJif",
        "colab_type": "code",
        "colab": {}
      },
      "source": [
        "import pandas as pd\n",
        "import numpy as np\n",
        "from sklearn.preprocessing import LabelEncoder\n",
        "\n",
        "labelencoder = LabelEncoder()\n",
        "y_df = pd.DataFrame(Y_data, columns=['Label'])\n",
        "y_df['Encoded'] = labelencoder.fit_transform(y_df['Label'])"
      ],
      "execution_count": 0,
      "outputs": []
    },
    {
      "cell_type": "code",
      "metadata": {
        "id": "BuCH_ylOeLLe",
        "colab_type": "code",
        "outputId": "4868bf16-8fe5-450b-a0b1-987ac2b491f9",
        "colab": {
          "base_uri": "https://localhost:8080/",
          "height": 102
        }
      },
      "source": [
        "y_df['Label'].value_counts()"
      ],
      "execution_count": 6,
      "outputs": [
        {
          "output_type": "execute_result",
          "data": {
            "text/plain": [
              "closed           1500\n",
              "open             1500\n",
              "partiallyOpen    1376\n",
              "notVisible       1346\n",
              "Name: Label, dtype: int64"
            ]
          },
          "metadata": {
            "tags": []
          },
          "execution_count": 6
        }
      ]
    },
    {
      "cell_type": "code",
      "metadata": {
        "id": "vJGV2GZWeN-d",
        "colab_type": "code",
        "outputId": "5fb4a951-63b7-42c5-a0e9-dc173a3485bf",
        "colab": {
          "base_uri": "https://localhost:8080/",
          "height": 102
        }
      },
      "source": [
        "y_df['Encoded'].value_counts()\n"
      ],
      "execution_count": 7,
      "outputs": [
        {
          "output_type": "execute_result",
          "data": {
            "text/plain": [
              "2    1500\n",
              "0    1500\n",
              "3    1376\n",
              "1    1346\n",
              "Name: Encoded, dtype: int64"
            ]
          },
          "metadata": {
            "tags": []
          },
          "execution_count": 7
        }
      ]
    },
    {
      "cell_type": "code",
      "metadata": {
        "id": "GBVaEoQBeP7Q",
        "colab_type": "code",
        "colab": {}
      },
      "source": [
        "from tensorflow.keras.utils import to_categorical\n",
        "\n",
        "y_cat = to_categorical(y_df['Encoded'])"
      ],
      "execution_count": 0,
      "outputs": []
    },
    {
      "cell_type": "code",
      "metadata": {
        "id": "K5Q7NqR4eYQy",
        "colab_type": "code",
        "colab": {}
      },
      "source": [
        "X_train, X_test, y_train, y_test = train_test_split(X, y_cat, test_size = 0.1)\n",
        "X_train, X_val, y_train, y_val = train_test_split(X_train, y_train, test_size = 0.1)"
      ],
      "execution_count": 0,
      "outputs": []
    },
    {
      "cell_type": "markdown",
      "metadata": {
        "id": "BTmOEDcMtSQp",
        "colab_type": "text"
      },
      "source": [
        "# Othogonal Constraint"
      ]
    },
    {
      "cell_type": "code",
      "metadata": {
        "id": "6S2jnj2otWlg",
        "colab_type": "code",
        "colab": {}
      },
      "source": [
        "from tensorflow.python.keras.constraints import Constraint\n",
        "from tensorflow.python.ops import math_ops, array_ops\n",
        "\n",
        "class TightFrame(Constraint):\n",
        "\n",
        "\n",
        "    def __init__(self, scale, num_passes=1):\n",
        "        self.scale = scale\n",
        "\n",
        "        if num_passes < 1:\n",
        "            raise ValueError(\"Number of passes cannot be non-positive! (got {})\".format(num_passes))\n",
        "        self.num_passes = num_passes\n",
        "\n",
        "\n",
        "    def __call__(self, w):\n",
        "        transpose_channels = (len(w.shape) == 4)\n",
        "\n",
        "        # Move channels_num to the front in order to make the dimensions correct for matmul\n",
        "        if transpose_channels:\n",
        "            w_reordered = array_ops.reshape(w, (-1, w.shape[0]))\n",
        "\n",
        "        else:\n",
        "            w_reordered = w\n",
        "\n",
        "        last = w_reordered\n",
        "        for i in range(self.num_passes):\n",
        "            temp1 = math_ops.matmul(last, last, transpose_a=True)\n",
        "            temp2 = (1 + self.scale) * w_reordered - self.scale * math_ops.matmul(w_reordered, temp1)\n",
        "\n",
        "            last = temp2\n",
        "\n",
        "        # Move channels_num to the back again\n",
        "        if transpose_channels:\n",
        "            return array_ops.reshape(last, w.shape)\n",
        "        else:\n",
        "            return last\n",
        "\n",
        "\n",
        "    def get_config(self):\n",
        "        return {'scale': self.scale, 'num_passes': self.num_passes}\n",
        "\n",
        "\n",
        "# Alias\n",
        "tight_frame = TightFrame"
      ],
      "execution_count": 0,
      "outputs": []
    },
    {
      "cell_type": "code",
      "metadata": {
        "id": "G4VciYzctsSY",
        "colab_type": "code",
        "colab": {}
      },
      "source": [
        "from tensorflow.keras.models import Model\n",
        "from tensorflow.keras.layers import Input, Add, Activation, Dropout, Flatten, Dense\n",
        "from tensorflow.keras.layers import Convolution2D, MaxPooling2D, AveragePooling2D\n",
        "from tensorflow.keras.layers import BatchNormalization\n",
        "from tensorflow.keras.regularizers import l2\n",
        "from tensorflow.keras import backend as K\n",
        "import warnings\n",
        "from tensorflow.keras.utils import to_categorical\n",
        "warnings.filterwarnings(\"ignore\")\n",
        "weight_decay = 0.0001\n"
      ],
      "execution_count": 0,
      "outputs": []
    },
    {
      "cell_type": "markdown",
      "metadata": {
        "id": "v3g_vzsy_ndF",
        "colab_type": "text"
      },
      "source": [
        "**Parseval Network**"
      ]
    },
    {
      "cell_type": "code",
      "metadata": {
        "id": "WN76FYUZ_3YA",
        "colab_type": "code",
        "outputId": "16830123-d68c-4cbb-f537-12e332cc0886",
        "colab": {
          "base_uri": "https://localhost:8080/",
          "height": 68
        }
      },
      "source": [
        "\n",
        "\n",
        "def initial_conv(input):\n",
        "  \n",
        "    x = Convolution2D(16, (3, 3), padding='same', kernel_initializer='orthogonal', kernel_constraint= tight_frame(0.0001),\n",
        "                      kernel_regularizer=l2(weight_decay),\n",
        "                      use_bias=False)(input)\n",
        "\n",
        "    channel_axis = 1 if K.image_data_format() == \"channels_first\" else -1\n",
        "\n",
        "    x = BatchNormalization(axis=channel_axis, momentum=0.1, epsilon=1e-5, gamma_initializer='uniform')(x)\n",
        "    x = Activation('relu')(x)\n",
        "    return x\n",
        "\n",
        "\n",
        "def expand_conv(init, base, k, strides=(1, 1)):\n",
        "    x = Convolution2D(base * k, (3, 3), padding='same', strides=strides, kernel_initializer='Orthogonal', kernel_constraint= tight_frame(0.0001),\n",
        "                      kernel_regularizer=l2(weight_decay),\n",
        "                      use_bias=False)(init)\n",
        "\n",
        "    channel_axis = 1 if K.image_data_format() == \"channels_first\" else -1\n",
        "\n",
        "    x = BatchNormalization(axis=channel_axis, momentum=0.1, epsilon=1e-5, gamma_initializer='uniform')(x)\n",
        "    x = Activation('relu')(x)\n",
        "\n",
        "    x = Convolution2D(base * k, (3, 3), padding='same', kernel_initializer='Orthogonal',\n",
        "                      kernel_constraint= tight_frame(0.0001),\n",
        "                      kernel_regularizer=l2(weight_decay),\n",
        "                      use_bias=False)(x)\n",
        "\n",
        "    skip = Convolution2D(base * k, (1, 1), padding='same', strides=strides, kernel_initializer='Orthogonal',\n",
        "                      kernel_constraint= tight_frame(0.0001),\n",
        "                      kernel_regularizer=l2(weight_decay),\n",
        "                      use_bias=False)(init)\n",
        "\n",
        "    m = Add()([x, skip])\n",
        "\n",
        "    return m\n",
        "\n",
        "\n",
        "def conv1_block(input, k=1, dropout=0.0):\n",
        "    init = input\n",
        "\n",
        "    channel_axis = 1 if K.image_data_format() == \"channels_first\" else -1\n",
        "\n",
        "    x = BatchNormalization(axis=channel_axis, momentum=0.1, epsilon=1e-5, gamma_initializer='uniform')(input)\n",
        "    x = Activation('relu')(x)\n",
        "    x = Convolution2D(16 * k, (3, 3), padding='same', kernel_initializer='Orthogonal',\n",
        "                      kernel_constraint= tight_frame(0.0001),\n",
        "                      kernel_regularizer=l2(weight_decay),\n",
        "                      use_bias=False)(x)\n",
        "\n",
        "    if dropout > 0.0: x = Dropout(dropout)(x)\n",
        "\n",
        "    x = BatchNormalization(axis=channel_axis, momentum=0.1, epsilon=1e-5, gamma_initializer='uniform')(x)\n",
        "    x = Activation('relu')(x)\n",
        "    x = Convolution2D(16 * k, (3, 3), padding='same', kernel_initializer='Orthogonal',\n",
        "                      kernel_constraint= tight_frame(0.0001),\n",
        "                      kernel_regularizer=l2(weight_decay),\n",
        "                      use_bias=False)(x)\n",
        "\n",
        "    m = Add()([init, x])\n",
        "    return m\n",
        "\n",
        "def conv2_block(input, k=1, dropout=0.0):\n",
        "    init = input\n",
        "\n",
        "    channel_axis = 1 if K.image_data_format() == \"channels_first\" else -1\n",
        "    print(\"conv2:channel:  {}\".format(channel_axis))\n",
        "    x = BatchNormalization(axis=channel_axis, momentum=0.1, epsilon=1e-5, gamma_initializer='uniform')(input)\n",
        "    x = Activation('relu')(x)\n",
        "    x = Convolution2D(32 * k, (3, 3), padding='same', kernel_initializer='Orthogonal',\n",
        "                      kernel_constraint= tight_frame(0.0001),\n",
        "                      kernel_regularizer=l2(weight_decay),\n",
        "                      use_bias=False)(x)\n",
        "\n",
        "    if dropout > 0.0: x = Dropout(dropout)(x)\n",
        "\n",
        "    x = BatchNormalization(axis=channel_axis, momentum=0.1, epsilon=1e-5, gamma_initializer='uniform')(x)\n",
        "    x = Activation('relu')(x)\n",
        "    x = Convolution2D(32 * k, (3, 3), padding='same', kernel_initializer='Orthogonal',\n",
        "                      kernel_constraint= tight_frame(0.0001),\n",
        "                      kernel_regularizer=l2(weight_decay),\n",
        "                      use_bias=False)(x)\n",
        "\n",
        "    m = Add()([init, x])\n",
        "    return m\n",
        "\n",
        "def conv3_block(input, k=1, dropout=0.0):\n",
        "    init = input\n",
        "\n",
        "    channel_axis = 1 if K.image_data_format() == \"channels_first\" else -1\n",
        "    print(\"conv3 channel_axis:{} \".format(channel_axis))\n",
        "    x = BatchNormalization(axis=channel_axis, momentum=0.1, epsilon=1e-5, gamma_initializer='uniform')(input)\n",
        "    x = Activation('relu')(x)\n",
        "    x = Convolution2D(64 * k, (3, 3), padding='same', kernel_initializer='Orthogonal',\n",
        "                      kernel_constraint= tight_frame(0.0001),\n",
        "                      kernel_regularizer=l2(weight_decay),\n",
        "                      use_bias=False)(x)\n",
        "\n",
        "    if dropout > 0.0: x = Dropout(dropout)(x)\n",
        "\n",
        "    x = BatchNormalization(axis=channel_axis, momentum=0.1, epsilon=1e-5, gamma_initializer='uniform')(x)\n",
        "    x = Activation('relu')(x)\n",
        "    x = Convolution2D(64 * k, (3, 3), padding='same', kernel_initializer='Orthogonal',\n",
        "                      kernel_constraint= tight_frame(0.0001),\n",
        "                      kernel_regularizer=l2(weight_decay),\n",
        "                      use_bias=False)(x)\n",
        "\n",
        "    m = Add()([init, x])\n",
        "    return m\n",
        "\n",
        "def create_parseval_network(input_dim, nb_classes=100, N=2, k=1, dropout=0.0, verbose=1):\n",
        "    \"\"\"\n",
        "    Creates a Wide Residual Network with specified parameters\n",
        "\n",
        "    :param input: Input Keras object\n",
        "    :param nb_classes: Number of output classes\n",
        "    :param N: Depth of the network. Compute N = (n - 4) / 6.\n",
        "              Example : For a depth of 16, n = 16, N = (16 - 4) / 6 = 2\n",
        "              Example2: For a depth of 28, n = 28, N = (28 - 4) / 6 = 4\n",
        "              Example3: For a depth of 40, n = 40, N = (40 - 4) / 6 = 6\n",
        "    :param k: Width of the network.\n",
        "    :param dropout: Adds dropout if value is greater than 0.0\n",
        "    :param verbose: Debug info to describe created WRN\n",
        "    :return:\n",
        "    \"\"\"\n",
        "    channel_axis = 1 if K.image_data_format() == \"channels_first\" else -1\n",
        "\n",
        "    ip = Input(shape=input_dim)\n",
        "\n",
        "    x = initial_conv(ip)\n",
        "    nb_conv = 4\n",
        "\n",
        "    x = expand_conv(x, 16, k)\n",
        "    nb_conv += 2\n",
        "\n",
        "    for i in range(N - 1):\n",
        "        x = conv1_block(x, k, dropout)\n",
        "        nb_conv += 2\n",
        "\n",
        "    x = BatchNormalization(axis=channel_axis, momentum=0.1, epsilon=1e-5, gamma_initializer='uniform')(x)\n",
        "    x = Activation('relu')(x)\n",
        "\n",
        "    x = expand_conv(x, 32, k, strides=(2, 2))\n",
        "    nb_conv += 2\n",
        "\n",
        "    for i in range(N - 1):\n",
        "        x = conv2_block(x, k, dropout)\n",
        "        nb_conv += 2\n",
        "\n",
        "    x = BatchNormalization(axis=channel_axis, momentum=0.1, epsilon=1e-5, gamma_initializer='uniform')(x)\n",
        "    x = Activation('relu')(x)\n",
        "\n",
        "    x = expand_conv(x, 64, k, strides=(2, 2))\n",
        "    nb_conv += 2\n",
        "\n",
        "    for i in range(N - 1):\n",
        "        x = conv3_block(x, k, dropout)\n",
        "        nb_conv += 2\n",
        "\n",
        "    x = BatchNormalization(axis=channel_axis, momentum=0.1, epsilon=1e-5, gamma_initializer='uniform')(x)\n",
        "    x = Activation('relu')(x)\n",
        "\n",
        "    x = AveragePooling2D((8, 8))(x)\n",
        "    x = Flatten()(x)\n",
        "\n",
        "    x = Dense(nb_classes, activation='softmax' )(x)\n",
        "\n",
        "    model = Model(ip, x)\n",
        "\n",
        "    if verbose: print(\"Parseval Residual Network-%d-%d created.\" % (nb_conv, k))\n",
        "    return model\n",
        "\n",
        "if __name__ == \"__main__\":\n",
        "\n",
        "    init = (32, 32,1)\n",
        "\n",
        "    parseval_16_2 = create_parseval_network(init, nb_classes=4, N=2, k=2, dropout=0.5)"
      ],
      "execution_count": 31,
      "outputs": [
        {
          "output_type": "stream",
          "text": [
            "conv2:channel:  -1\n",
            "conv3 channel_axis:-1 \n",
            "Parseval Residual Network-16-2 created.\n"
          ],
          "name": "stdout"
        }
      ]
    },
    {
      "cell_type": "code",
      "metadata": {
        "id": "BxyMKoeaBqPh",
        "colab_type": "code",
        "colab": {}
      },
      "source": [
        "from tensorflow.keras.preprocessing.image import ImageDataGenerator\n",
        "import tensorflow.keras.callbacks as callbacks\n"
      ],
      "execution_count": 0,
      "outputs": []
    },
    {
      "cell_type": "code",
      "metadata": {
        "id": "liiFrat1Bv1_",
        "colab_type": "code",
        "colab": {}
      },
      "source": [
        "EPOCHS = 200\n",
        "BS = 128\n"
      ],
      "execution_count": 0,
      "outputs": []
    },
    {
      "cell_type": "code",
      "metadata": {
        "id": "-ygMFWH8Bzfq",
        "colab_type": "code",
        "colab": {}
      },
      "source": [
        "from tensorflow.keras.callbacks import LearningRateScheduler\n",
        "import math\n",
        "from tensorflow.keras.optimizers import SGD\n",
        "\n",
        "sgd = SGD(lr=0.1, momentum=0.6)"
      ],
      "execution_count": 0,
      "outputs": []
    },
    {
      "cell_type": "code",
      "metadata": {
        "id": "WhUvPL0dB48O",
        "colab_type": "code",
        "outputId": "1638196d-cfad-4a06-d2c1-3f35e94e0551",
        "colab": {
          "base_uri": "https://localhost:8080/",
          "height": 34
        }
      },
      "source": [
        "parseval_16_2.compile(loss=\"categorical_crossentropy\", optimizer=sgd, metrics=[\"acc\"])\n",
        "print(\"Finished compiling\")"
      ],
      "execution_count": 37,
      "outputs": [
        {
          "output_type": "stream",
          "text": [
            "Finished compiling\n"
          ],
          "name": "stdout"
        }
      ]
    },
    {
      "cell_type": "code",
      "metadata": {
        "id": "6JrJ7xy1Q5rS",
        "colab_type": "code",
        "colab": {}
      },
      "source": [
        "import tensorflow\n",
        "generator = tensorflow.keras.preprocessing.image.ImageDataGenerator(rotation_range=10,\n",
        "                               width_shift_range=5./32,\n",
        "                               height_shift_range=5./32,)"
      ],
      "execution_count": 0,
      "outputs": []
    },
    {
      "cell_type": "code",
      "metadata": {
        "id": "i4EpGTMG9jeP",
        "colab_type": "code",
        "colab": {}
      },
      "source": [
        "def lr_sch(epoch):\n",
        "    if epoch < 30:\n",
        "        return 0.1\n",
        "    elif epoch < 50:\n",
        "        return 0.001\n",
        "    elif epoch < 60:\n",
        "        return 0.001\n",
        "    else:\n",
        "        return 0.00001\n",
        "\n",
        "# Learning rate scheduler callback\n",
        "lr_scheduler = LearningRateScheduler(lr_sch)"
      ],
      "execution_count": 0,
      "outputs": []
    },
    {
      "cell_type": "code",
      "metadata": {
        "id": "9z0CbPY_24ns",
        "colab_type": "code",
        "outputId": "d5653c3c-cd3b-46f8-a508-ea84255f151b",
        "colab": {
          "base_uri": "https://localhost:8080/",
          "height": 1000
        }
      },
      "source": [
        "from tensorflow.keras.utils import to_categorical\n",
        "hist = parseval_16_2.fit(generator.flow(X_train, y_train, batch_size=BS), steps_per_epoch=len(X_train) // BS, epochs=EPOCHS,\n",
        "                   validation_data=(X_val, y_val),\n",
        "                   callbacks = [lr_scheduler],\n",
        "                   validation_steps=X_val.shape[0] // BS,)"
      ],
      "execution_count": 38,
      "outputs": [
        {
          "output_type": "stream",
          "text": [
            "Epoch 1/200\n",
            "36/36 [==============================] - 2s 47ms/step - loss: 1.4425 - acc: 0.3282 - val_loss: 1.3903 - val_acc: 0.3184 - lr: 0.1000\n",
            "Epoch 2/200\n",
            "36/36 [==============================] - 1s 38ms/step - loss: 1.3509 - acc: 0.3609 - val_loss: 1.3531 - val_acc: 0.3767 - lr: 0.1000\n",
            "Epoch 3/200\n",
            "36/36 [==============================] - 1s 38ms/step - loss: 1.3302 - acc: 0.3693 - val_loss: 1.3332 - val_acc: 0.3709 - lr: 0.1000\n",
            "Epoch 4/200\n",
            "36/36 [==============================] - 1s 39ms/step - loss: 1.2992 - acc: 0.3837 - val_loss: 1.2853 - val_acc: 0.4214 - lr: 0.1000\n",
            "Epoch 5/200\n",
            "36/36 [==============================] - 1s 38ms/step - loss: 1.2812 - acc: 0.4008 - val_loss: 1.5108 - val_acc: 0.3398 - lr: 0.1000\n",
            "Epoch 6/200\n",
            "36/36 [==============================] - 1s 38ms/step - loss: 1.2760 - acc: 0.4141 - val_loss: 1.2721 - val_acc: 0.3903 - lr: 0.1000\n",
            "Epoch 7/200\n",
            "36/36 [==============================] - 1s 38ms/step - loss: 1.2424 - acc: 0.4390 - val_loss: 1.2458 - val_acc: 0.4330 - lr: 0.1000\n",
            "Epoch 8/200\n",
            "36/36 [==============================] - 1s 38ms/step - loss: 1.2013 - acc: 0.4933 - val_loss: 1.2443 - val_acc: 0.4854 - lr: 0.1000\n",
            "Epoch 9/200\n",
            "36/36 [==============================] - 1s 37ms/step - loss: 1.1588 - acc: 0.5124 - val_loss: 1.2594 - val_acc: 0.4447 - lr: 0.1000\n",
            "Epoch 10/200\n",
            "36/36 [==============================] - 1s 38ms/step - loss: 1.0931 - acc: 0.5606 - val_loss: 1.0820 - val_acc: 0.5437 - lr: 0.1000\n",
            "Epoch 11/200\n",
            "36/36 [==============================] - 1s 38ms/step - loss: 1.0800 - acc: 0.5588 - val_loss: 1.1707 - val_acc: 0.5282 - lr: 0.1000\n",
            "Epoch 12/200\n",
            "36/36 [==============================] - 1s 38ms/step - loss: 1.0128 - acc: 0.5857 - val_loss: 0.9283 - val_acc: 0.6369 - lr: 0.1000\n",
            "Epoch 13/200\n",
            "36/36 [==============================] - 1s 38ms/step - loss: 0.9634 - acc: 0.6165 - val_loss: 0.8817 - val_acc: 0.6563 - lr: 0.1000\n",
            "Epoch 14/200\n",
            "36/36 [==============================] - 1s 38ms/step - loss: 0.9218 - acc: 0.6400 - val_loss: 1.1635 - val_acc: 0.4738 - lr: 0.1000\n",
            "Epoch 15/200\n",
            "36/36 [==============================] - 1s 38ms/step - loss: 0.8950 - acc: 0.6467 - val_loss: 1.0916 - val_acc: 0.5748 - lr: 0.1000\n",
            "Epoch 16/200\n",
            "36/36 [==============================] - 1s 38ms/step - loss: 0.8934 - acc: 0.6494 - val_loss: 0.8645 - val_acc: 0.6796 - lr: 0.1000\n",
            "Epoch 17/200\n",
            "36/36 [==============================] - 1s 38ms/step - loss: 0.8380 - acc: 0.6687 - val_loss: 0.9076 - val_acc: 0.6369 - lr: 0.1000\n",
            "Epoch 18/200\n",
            "36/36 [==============================] - 1s 38ms/step - loss: 0.8240 - acc: 0.6795 - val_loss: 1.0571 - val_acc: 0.6524 - lr: 0.1000\n",
            "Epoch 19/200\n",
            "36/36 [==============================] - 1s 39ms/step - loss: 0.8168 - acc: 0.6846 - val_loss: 1.0123 - val_acc: 0.6485 - lr: 0.1000\n",
            "Epoch 20/200\n",
            "36/36 [==============================] - 1s 37ms/step - loss: 0.8050 - acc: 0.6891 - val_loss: 0.8190 - val_acc: 0.6913 - lr: 0.1000\n",
            "Epoch 21/200\n",
            "36/36 [==============================] - 1s 37ms/step - loss: 0.7847 - acc: 0.6935 - val_loss: 0.8139 - val_acc: 0.6718 - lr: 0.1000\n",
            "Epoch 22/200\n",
            "36/36 [==============================] - 1s 38ms/step - loss: 0.7632 - acc: 0.7062 - val_loss: 1.0773 - val_acc: 0.5883 - lr: 0.1000\n",
            "Epoch 23/200\n",
            "36/36 [==============================] - 1s 37ms/step - loss: 0.7532 - acc: 0.7095 - val_loss: 1.4991 - val_acc: 0.4680 - lr: 0.1000\n",
            "Epoch 24/200\n",
            "36/36 [==============================] - 1s 40ms/step - loss: 0.8017 - acc: 0.6840 - val_loss: 0.8530 - val_acc: 0.6913 - lr: 0.1000\n",
            "Epoch 25/200\n",
            "36/36 [==============================] - 1s 39ms/step - loss: 0.7497 - acc: 0.7157 - val_loss: 0.7730 - val_acc: 0.7223 - lr: 0.1000\n",
            "Epoch 26/200\n",
            "36/36 [==============================] - 1s 39ms/step - loss: 0.7150 - acc: 0.7361 - val_loss: 0.8358 - val_acc: 0.7010 - lr: 0.1000\n",
            "Epoch 27/200\n",
            "36/36 [==============================] - 1s 38ms/step - loss: 0.7059 - acc: 0.7308 - val_loss: 0.8777 - val_acc: 0.6718 - lr: 0.1000\n",
            "Epoch 28/200\n",
            "36/36 [==============================] - 1s 39ms/step - loss: 0.6936 - acc: 0.7370 - val_loss: 0.7333 - val_acc: 0.7359 - lr: 0.1000\n",
            "Epoch 29/200\n",
            "36/36 [==============================] - 1s 38ms/step - loss: 0.7232 - acc: 0.7186 - val_loss: 0.7273 - val_acc: 0.7165 - lr: 0.1000\n",
            "Epoch 30/200\n",
            "36/36 [==============================] - 1s 39ms/step - loss: 0.6849 - acc: 0.7439 - val_loss: 0.8216 - val_acc: 0.6951 - lr: 0.1000\n",
            "Epoch 31/200\n",
            "36/36 [==============================] - 1s 39ms/step - loss: 0.6807 - acc: 0.7397 - val_loss: 0.7858 - val_acc: 0.7243 - lr: 0.0010\n",
            "Epoch 32/200\n",
            "36/36 [==============================] - 1s 37ms/step - loss: 0.6533 - acc: 0.7474 - val_loss: 0.7308 - val_acc: 0.7417 - lr: 0.0010\n",
            "Epoch 33/200\n",
            "36/36 [==============================] - 1s 39ms/step - loss: 0.6197 - acc: 0.7670 - val_loss: 0.7078 - val_acc: 0.7515 - lr: 0.0010\n",
            "Epoch 34/200\n",
            "36/36 [==============================] - 1s 37ms/step - loss: 0.5906 - acc: 0.7759 - val_loss: 0.6990 - val_acc: 0.7592 - lr: 0.0010\n",
            "Epoch 35/200\n",
            "36/36 [==============================] - 1s 38ms/step - loss: 0.5975 - acc: 0.7750 - val_loss: 0.6735 - val_acc: 0.7553 - lr: 0.0010\n",
            "Epoch 36/200\n",
            "36/36 [==============================] - 1s 38ms/step - loss: 0.5778 - acc: 0.7852 - val_loss: 0.6676 - val_acc: 0.7592 - lr: 0.0010\n",
            "Epoch 37/200\n",
            "36/36 [==============================] - 1s 38ms/step - loss: 0.5745 - acc: 0.7894 - val_loss: 0.6703 - val_acc: 0.7631 - lr: 0.0010\n",
            "Epoch 38/200\n",
            "36/36 [==============================] - 1s 38ms/step - loss: 0.5729 - acc: 0.7872 - val_loss: 0.6771 - val_acc: 0.7573 - lr: 0.0010\n",
            "Epoch 39/200\n",
            "36/36 [==============================] - 1s 38ms/step - loss: 0.5704 - acc: 0.7905 - val_loss: 0.6691 - val_acc: 0.7631 - lr: 0.0010\n",
            "Epoch 40/200\n",
            "36/36 [==============================] - 1s 39ms/step - loss: 0.5646 - acc: 0.7898 - val_loss: 0.6817 - val_acc: 0.7534 - lr: 0.0010\n",
            "Epoch 41/200\n",
            "36/36 [==============================] - 1s 38ms/step - loss: 0.5661 - acc: 0.7909 - val_loss: 0.6779 - val_acc: 0.7670 - lr: 0.0010\n",
            "Epoch 42/200\n",
            "36/36 [==============================] - 1s 38ms/step - loss: 0.5538 - acc: 0.7952 - val_loss: 0.6518 - val_acc: 0.7767 - lr: 0.0010\n",
            "Epoch 43/200\n",
            "36/36 [==============================] - 1s 38ms/step - loss: 0.5621 - acc: 0.7903 - val_loss: 0.6827 - val_acc: 0.7534 - lr: 0.0010\n",
            "Epoch 44/200\n",
            "36/36 [==============================] - 1s 38ms/step - loss: 0.5393 - acc: 0.8038 - val_loss: 0.6677 - val_acc: 0.7631 - lr: 0.0010\n",
            "Epoch 45/200\n",
            "36/36 [==============================] - 1s 38ms/step - loss: 0.5506 - acc: 0.7989 - val_loss: 0.6616 - val_acc: 0.7612 - lr: 0.0010\n",
            "Epoch 46/200\n",
            "36/36 [==============================] - 1s 38ms/step - loss: 0.5464 - acc: 0.8018 - val_loss: 0.6901 - val_acc: 0.7592 - lr: 0.0010\n",
            "Epoch 47/200\n",
            "36/36 [==============================] - 1s 37ms/step - loss: 0.5377 - acc: 0.8051 - val_loss: 0.6578 - val_acc: 0.7612 - lr: 0.0010\n",
            "Epoch 48/200\n",
            "36/36 [==============================] - 1s 39ms/step - loss: 0.5366 - acc: 0.8007 - val_loss: 0.6599 - val_acc: 0.7748 - lr: 0.0010\n",
            "Epoch 49/200\n",
            "36/36 [==============================] - 1s 37ms/step - loss: 0.5377 - acc: 0.8005 - val_loss: 0.6572 - val_acc: 0.7670 - lr: 0.0010\n",
            "Epoch 50/200\n",
            "36/36 [==============================] - 1s 37ms/step - loss: 0.5429 - acc: 0.7983 - val_loss: 0.6452 - val_acc: 0.7631 - lr: 0.0010\n",
            "Epoch 51/200\n",
            "36/36 [==============================] - 1s 38ms/step - loss: 0.5323 - acc: 0.8038 - val_loss: 0.6414 - val_acc: 0.7786 - lr: 0.0010\n",
            "Epoch 52/200\n",
            "36/36 [==============================] - 1s 38ms/step - loss: 0.5327 - acc: 0.8063 - val_loss: 0.6570 - val_acc: 0.7631 - lr: 0.0010\n",
            "Epoch 53/200\n",
            "36/36 [==============================] - 1s 38ms/step - loss: 0.5396 - acc: 0.8003 - val_loss: 0.6490 - val_acc: 0.7767 - lr: 0.0010\n",
            "Epoch 54/200\n",
            "36/36 [==============================] - 1s 38ms/step - loss: 0.5312 - acc: 0.8016 - val_loss: 0.6546 - val_acc: 0.7728 - lr: 0.0010\n",
            "Epoch 55/200\n",
            "36/36 [==============================] - 1s 39ms/step - loss: 0.5332 - acc: 0.8034 - val_loss: 0.6436 - val_acc: 0.7612 - lr: 0.0010\n",
            "Epoch 56/200\n",
            "36/36 [==============================] - 1s 38ms/step - loss: 0.5249 - acc: 0.8103 - val_loss: 0.6695 - val_acc: 0.7650 - lr: 0.0010\n",
            "Epoch 57/200\n",
            "36/36 [==============================] - 1s 38ms/step - loss: 0.5206 - acc: 0.8080 - val_loss: 0.6440 - val_acc: 0.7748 - lr: 0.0010\n",
            "Epoch 58/200\n",
            "36/36 [==============================] - 1s 38ms/step - loss: 0.5193 - acc: 0.8114 - val_loss: 0.6880 - val_acc: 0.7650 - lr: 0.0010\n",
            "Epoch 59/200\n",
            "36/36 [==============================] - 1s 38ms/step - loss: 0.5219 - acc: 0.8083 - val_loss: 0.6384 - val_acc: 0.7670 - lr: 0.0010\n",
            "Epoch 60/200\n",
            "36/36 [==============================] - 1s 38ms/step - loss: 0.5136 - acc: 0.8094 - val_loss: 0.6533 - val_acc: 0.7767 - lr: 0.0010\n",
            "Epoch 61/200\n",
            "36/36 [==============================] - 1s 38ms/step - loss: 0.5153 - acc: 0.8063 - val_loss: 0.6446 - val_acc: 0.7786 - lr: 1.0000e-05\n",
            "Epoch 62/200\n",
            "36/36 [==============================] - 1s 37ms/step - loss: 0.5210 - acc: 0.8120 - val_loss: 0.6446 - val_acc: 0.7689 - lr: 1.0000e-05\n",
            "Epoch 63/200\n",
            "36/36 [==============================] - 1s 38ms/step - loss: 0.5177 - acc: 0.8103 - val_loss: 0.6402 - val_acc: 0.7748 - lr: 1.0000e-05\n",
            "Epoch 64/200\n",
            "36/36 [==============================] - 1s 38ms/step - loss: 0.5125 - acc: 0.8094 - val_loss: 0.6357 - val_acc: 0.7689 - lr: 1.0000e-05\n",
            "Epoch 65/200\n",
            "36/36 [==============================] - 1s 38ms/step - loss: 0.5160 - acc: 0.8154 - val_loss: 0.6406 - val_acc: 0.7786 - lr: 1.0000e-05\n",
            "Epoch 66/200\n",
            "36/36 [==============================] - 1s 38ms/step - loss: 0.5097 - acc: 0.8105 - val_loss: 0.6572 - val_acc: 0.7670 - lr: 1.0000e-05\n",
            "Epoch 67/200\n",
            "36/36 [==============================] - 1s 37ms/step - loss: 0.5109 - acc: 0.8138 - val_loss: 0.6674 - val_acc: 0.7689 - lr: 1.0000e-05\n",
            "Epoch 68/200\n",
            "36/36 [==============================] - 1s 38ms/step - loss: 0.5039 - acc: 0.8171 - val_loss: 0.6650 - val_acc: 0.7709 - lr: 1.0000e-05\n",
            "Epoch 69/200\n",
            "36/36 [==============================] - 1s 37ms/step - loss: 0.5064 - acc: 0.8176 - val_loss: 0.6479 - val_acc: 0.7670 - lr: 1.0000e-05\n",
            "Epoch 70/200\n",
            "36/36 [==============================] - 1s 38ms/step - loss: 0.5157 - acc: 0.8067 - val_loss: 0.6400 - val_acc: 0.7767 - lr: 1.0000e-05\n",
            "Epoch 71/200\n",
            "36/36 [==============================] - 1s 37ms/step - loss: 0.5121 - acc: 0.8154 - val_loss: 0.6483 - val_acc: 0.7728 - lr: 1.0000e-05\n",
            "Epoch 72/200\n",
            "36/36 [==============================] - 1s 37ms/step - loss: 0.5157 - acc: 0.8060 - val_loss: 0.6296 - val_acc: 0.7709 - lr: 1.0000e-05\n",
            "Epoch 73/200\n",
            "36/36 [==============================] - 1s 38ms/step - loss: 0.5062 - acc: 0.8096 - val_loss: 0.6692 - val_acc: 0.7709 - lr: 1.0000e-05\n",
            "Epoch 74/200\n",
            "36/36 [==============================] - 1s 38ms/step - loss: 0.5182 - acc: 0.8051 - val_loss: 0.6771 - val_acc: 0.7650 - lr: 1.0000e-05\n",
            "Epoch 75/200\n",
            "36/36 [==============================] - 1s 38ms/step - loss: 0.5180 - acc: 0.8076 - val_loss: 0.6559 - val_acc: 0.7670 - lr: 1.0000e-05\n",
            "Epoch 76/200\n",
            "36/36 [==============================] - 1s 38ms/step - loss: 0.5147 - acc: 0.8051 - val_loss: 0.6590 - val_acc: 0.7709 - lr: 1.0000e-05\n",
            "Epoch 77/200\n",
            "36/36 [==============================] - 1s 38ms/step - loss: 0.5093 - acc: 0.8151 - val_loss: 0.6433 - val_acc: 0.7767 - lr: 1.0000e-05\n",
            "Epoch 78/200\n",
            "36/36 [==============================] - 1s 38ms/step - loss: 0.5160 - acc: 0.8120 - val_loss: 0.7027 - val_acc: 0.7631 - lr: 1.0000e-05\n",
            "Epoch 79/200\n",
            "36/36 [==============================] - 1s 38ms/step - loss: 0.5124 - acc: 0.8116 - val_loss: 0.6385 - val_acc: 0.7689 - lr: 1.0000e-05\n",
            "Epoch 80/200\n",
            "36/36 [==============================] - 1s 38ms/step - loss: 0.5180 - acc: 0.8074 - val_loss: 0.6333 - val_acc: 0.7650 - lr: 1.0000e-05\n",
            "Epoch 81/200\n",
            "36/36 [==============================] - 1s 38ms/step - loss: 0.5187 - acc: 0.8105 - val_loss: 0.6411 - val_acc: 0.7728 - lr: 1.0000e-05\n",
            "Epoch 82/200\n",
            "36/36 [==============================] - 1s 38ms/step - loss: 0.5075 - acc: 0.8100 - val_loss: 0.6718 - val_acc: 0.7670 - lr: 1.0000e-05\n",
            "Epoch 83/200\n",
            "36/36 [==============================] - 1s 38ms/step - loss: 0.5120 - acc: 0.8169 - val_loss: 0.6625 - val_acc: 0.7786 - lr: 1.0000e-05\n",
            "Epoch 84/200\n",
            "36/36 [==============================] - 1s 38ms/step - loss: 0.5083 - acc: 0.8125 - val_loss: 0.6767 - val_acc: 0.7728 - lr: 1.0000e-05\n",
            "Epoch 85/200\n",
            "36/36 [==============================] - 1s 38ms/step - loss: 0.5018 - acc: 0.8129 - val_loss: 0.6326 - val_acc: 0.7767 - lr: 1.0000e-05\n",
            "Epoch 86/200\n",
            "36/36 [==============================] - 1s 37ms/step - loss: 0.5214 - acc: 0.8020 - val_loss: 0.6460 - val_acc: 0.7689 - lr: 1.0000e-05\n",
            "Epoch 87/200\n",
            "36/36 [==============================] - 1s 38ms/step - loss: 0.5058 - acc: 0.8174 - val_loss: 0.6633 - val_acc: 0.7709 - lr: 1.0000e-05\n",
            "Epoch 88/200\n",
            "36/36 [==============================] - 1s 38ms/step - loss: 0.5174 - acc: 0.8058 - val_loss: 0.6430 - val_acc: 0.7748 - lr: 1.0000e-05\n",
            "Epoch 89/200\n",
            "36/36 [==============================] - 1s 38ms/step - loss: 0.5056 - acc: 0.8160 - val_loss: 0.6489 - val_acc: 0.7728 - lr: 1.0000e-05\n",
            "Epoch 90/200\n",
            "36/36 [==============================] - 1s 38ms/step - loss: 0.5205 - acc: 0.8076 - val_loss: 0.6765 - val_acc: 0.7689 - lr: 1.0000e-05\n",
            "Epoch 91/200\n",
            "36/36 [==============================] - 1s 38ms/step - loss: 0.5145 - acc: 0.8116 - val_loss: 0.6348 - val_acc: 0.7825 - lr: 1.0000e-05\n",
            "Epoch 92/200\n",
            "36/36 [==============================] - 1s 38ms/step - loss: 0.5087 - acc: 0.8151 - val_loss: 0.6442 - val_acc: 0.7748 - lr: 1.0000e-05\n",
            "Epoch 93/200\n",
            "36/36 [==============================] - 1s 38ms/step - loss: 0.5181 - acc: 0.8032 - val_loss: 0.6483 - val_acc: 0.7767 - lr: 1.0000e-05\n",
            "Epoch 94/200\n",
            "36/36 [==============================] - 1s 38ms/step - loss: 0.5174 - acc: 0.8118 - val_loss: 0.6493 - val_acc: 0.7709 - lr: 1.0000e-05\n",
            "Epoch 95/200\n",
            "36/36 [==============================] - 1s 38ms/step - loss: 0.5090 - acc: 0.8094 - val_loss: 0.6328 - val_acc: 0.7689 - lr: 1.0000e-05\n",
            "Epoch 96/200\n",
            "36/36 [==============================] - 1s 38ms/step - loss: 0.5069 - acc: 0.8136 - val_loss: 0.6495 - val_acc: 0.7748 - lr: 1.0000e-05\n",
            "Epoch 97/200\n",
            "36/36 [==============================] - 1s 38ms/step - loss: 0.5103 - acc: 0.8123 - val_loss: 0.6763 - val_acc: 0.7728 - lr: 1.0000e-05\n",
            "Epoch 98/200\n",
            "36/36 [==============================] - 1s 37ms/step - loss: 0.5088 - acc: 0.8105 - val_loss: 0.6448 - val_acc: 0.7709 - lr: 1.0000e-05\n",
            "Epoch 99/200\n",
            "36/36 [==============================] - 1s 38ms/step - loss: 0.5064 - acc: 0.8129 - val_loss: 0.6380 - val_acc: 0.7631 - lr: 1.0000e-05\n",
            "Epoch 100/200\n",
            "36/36 [==============================] - 1s 39ms/step - loss: 0.5066 - acc: 0.8167 - val_loss: 0.6603 - val_acc: 0.7728 - lr: 1.0000e-05\n",
            "Epoch 101/200\n",
            "36/36 [==============================] - 1s 38ms/step - loss: 0.5054 - acc: 0.8076 - val_loss: 0.6294 - val_acc: 0.7806 - lr: 1.0000e-05\n",
            "Epoch 102/200\n",
            "36/36 [==============================] - 1s 38ms/step - loss: 0.5049 - acc: 0.8078 - val_loss: 0.6428 - val_acc: 0.7709 - lr: 1.0000e-05\n",
            "Epoch 103/200\n",
            "36/36 [==============================] - 1s 38ms/step - loss: 0.5136 - acc: 0.8127 - val_loss: 0.6451 - val_acc: 0.7670 - lr: 1.0000e-05\n",
            "Epoch 104/200\n",
            "36/36 [==============================] - 1s 38ms/step - loss: 0.5107 - acc: 0.8098 - val_loss: 0.6478 - val_acc: 0.7650 - lr: 1.0000e-05\n",
            "Epoch 105/200\n",
            "36/36 [==============================] - 1s 38ms/step - loss: 0.5165 - acc: 0.8005 - val_loss: 0.6510 - val_acc: 0.7728 - lr: 1.0000e-05\n",
            "Epoch 106/200\n",
            "36/36 [==============================] - 1s 38ms/step - loss: 0.5120 - acc: 0.8129 - val_loss: 0.6338 - val_acc: 0.7767 - lr: 1.0000e-05\n",
            "Epoch 107/200\n",
            "36/36 [==============================] - 1s 38ms/step - loss: 0.5138 - acc: 0.8051 - val_loss: 0.6859 - val_acc: 0.7709 - lr: 1.0000e-05\n",
            "Epoch 108/200\n",
            "36/36 [==============================] - 1s 37ms/step - loss: 0.5161 - acc: 0.8074 - val_loss: 0.7133 - val_acc: 0.7534 - lr: 1.0000e-05\n",
            "Epoch 109/200\n",
            "36/36 [==============================] - 1s 38ms/step - loss: 0.5089 - acc: 0.8107 - val_loss: 0.6552 - val_acc: 0.7709 - lr: 1.0000e-05\n",
            "Epoch 110/200\n",
            "36/36 [==============================] - 1s 38ms/step - loss: 0.5065 - acc: 0.8083 - val_loss: 0.6491 - val_acc: 0.7728 - lr: 1.0000e-05\n",
            "Epoch 111/200\n",
            "36/36 [==============================] - 1s 38ms/step - loss: 0.5061 - acc: 0.8136 - val_loss: 0.6446 - val_acc: 0.7767 - lr: 1.0000e-05\n",
            "Epoch 112/200\n",
            "36/36 [==============================] - 1s 38ms/step - loss: 0.5115 - acc: 0.8056 - val_loss: 0.6967 - val_acc: 0.7612 - lr: 1.0000e-05\n",
            "Epoch 113/200\n",
            "36/36 [==============================] - 1s 38ms/step - loss: 0.5089 - acc: 0.8129 - val_loss: 0.6490 - val_acc: 0.7728 - lr: 1.0000e-05\n",
            "Epoch 114/200\n",
            "36/36 [==============================] - 1s 38ms/step - loss: 0.5062 - acc: 0.8100 - val_loss: 0.6412 - val_acc: 0.7670 - lr: 1.0000e-05\n",
            "Epoch 115/200\n",
            "36/36 [==============================] - 1s 38ms/step - loss: 0.5052 - acc: 0.8145 - val_loss: 0.6606 - val_acc: 0.7689 - lr: 1.0000e-05\n",
            "Epoch 116/200\n",
            "36/36 [==============================] - 1s 38ms/step - loss: 0.5122 - acc: 0.8107 - val_loss: 0.6548 - val_acc: 0.7689 - lr: 1.0000e-05\n",
            "Epoch 117/200\n",
            "36/36 [==============================] - 1s 38ms/step - loss: 0.5035 - acc: 0.8136 - val_loss: 0.6560 - val_acc: 0.7748 - lr: 1.0000e-05\n",
            "Epoch 118/200\n",
            "36/36 [==============================] - 1s 38ms/step - loss: 0.5087 - acc: 0.8083 - val_loss: 0.6546 - val_acc: 0.7689 - lr: 1.0000e-05\n",
            "Epoch 119/200\n",
            "36/36 [==============================] - 1s 37ms/step - loss: 0.5028 - acc: 0.8154 - val_loss: 0.6346 - val_acc: 0.7748 - lr: 1.0000e-05\n",
            "Epoch 120/200\n",
            "36/36 [==============================] - 1s 38ms/step - loss: 0.5041 - acc: 0.8145 - val_loss: 0.6238 - val_acc: 0.7767 - lr: 1.0000e-05\n",
            "Epoch 121/200\n",
            "36/36 [==============================] - 1s 38ms/step - loss: 0.5091 - acc: 0.8136 - val_loss: 0.6345 - val_acc: 0.7709 - lr: 1.0000e-05\n",
            "Epoch 122/200\n",
            "36/36 [==============================] - 1s 38ms/step - loss: 0.5092 - acc: 0.8107 - val_loss: 0.6577 - val_acc: 0.7689 - lr: 1.0000e-05\n",
            "Epoch 123/200\n",
            "36/36 [==============================] - 1s 38ms/step - loss: 0.5168 - acc: 0.8080 - val_loss: 0.6716 - val_acc: 0.7689 - lr: 1.0000e-05\n",
            "Epoch 124/200\n",
            "36/36 [==============================] - 1s 37ms/step - loss: 0.5178 - acc: 0.8058 - val_loss: 0.6273 - val_acc: 0.7728 - lr: 1.0000e-05\n",
            "Epoch 125/200\n",
            "36/36 [==============================] - 1s 38ms/step - loss: 0.5032 - acc: 0.8147 - val_loss: 0.6391 - val_acc: 0.7709 - lr: 1.0000e-05\n",
            "Epoch 126/200\n",
            "36/36 [==============================] - 1s 38ms/step - loss: 0.5083 - acc: 0.8094 - val_loss: 0.6515 - val_acc: 0.7709 - lr: 1.0000e-05\n",
            "Epoch 127/200\n",
            "36/36 [==============================] - 1s 38ms/step - loss: 0.5100 - acc: 0.8123 - val_loss: 0.6384 - val_acc: 0.7748 - lr: 1.0000e-05\n",
            "Epoch 128/200\n",
            "36/36 [==============================] - 1s 38ms/step - loss: 0.5085 - acc: 0.8083 - val_loss: 0.6528 - val_acc: 0.7689 - lr: 1.0000e-05\n",
            "Epoch 129/200\n",
            "36/36 [==============================] - 1s 38ms/step - loss: 0.5124 - acc: 0.8111 - val_loss: 0.6386 - val_acc: 0.7728 - lr: 1.0000e-05\n",
            "Epoch 130/200\n",
            "36/36 [==============================] - 1s 38ms/step - loss: 0.5175 - acc: 0.8009 - val_loss: 0.6372 - val_acc: 0.7709 - lr: 1.0000e-05\n",
            "Epoch 131/200\n",
            "36/36 [==============================] - 1s 37ms/step - loss: 0.5083 - acc: 0.8105 - val_loss: 0.6582 - val_acc: 0.7709 - lr: 1.0000e-05\n",
            "Epoch 132/200\n",
            "36/36 [==============================] - 1s 38ms/step - loss: 0.5155 - acc: 0.8067 - val_loss: 0.6685 - val_acc: 0.7689 - lr: 1.0000e-05\n",
            "Epoch 133/200\n",
            "36/36 [==============================] - 1s 38ms/step - loss: 0.5123 - acc: 0.8147 - val_loss: 0.6623 - val_acc: 0.7709 - lr: 1.0000e-05\n",
            "Epoch 134/200\n",
            "36/36 [==============================] - 1s 38ms/step - loss: 0.4966 - acc: 0.8191 - val_loss: 0.6207 - val_acc: 0.7864 - lr: 1.0000e-05\n",
            "Epoch 135/200\n",
            "36/36 [==============================] - 1s 38ms/step - loss: 0.5098 - acc: 0.8058 - val_loss: 0.6935 - val_acc: 0.7650 - lr: 1.0000e-05\n",
            "Epoch 136/200\n",
            "36/36 [==============================] - 1s 38ms/step - loss: 0.5099 - acc: 0.8107 - val_loss: 0.6352 - val_acc: 0.7767 - lr: 1.0000e-05\n",
            "Epoch 137/200\n",
            "36/36 [==============================] - 1s 38ms/step - loss: 0.5104 - acc: 0.8094 - val_loss: 0.6537 - val_acc: 0.7612 - lr: 1.0000e-05\n",
            "Epoch 138/200\n",
            "36/36 [==============================] - 1s 38ms/step - loss: 0.5097 - acc: 0.8094 - val_loss: 0.6466 - val_acc: 0.7689 - lr: 1.0000e-05\n",
            "Epoch 139/200\n",
            "36/36 [==============================] - 1s 38ms/step - loss: 0.5103 - acc: 0.8060 - val_loss: 0.6457 - val_acc: 0.7728 - lr: 1.0000e-05\n",
            "Epoch 140/200\n",
            "36/36 [==============================] - 1s 37ms/step - loss: 0.5140 - acc: 0.8051 - val_loss: 0.6674 - val_acc: 0.7650 - lr: 1.0000e-05\n",
            "Epoch 141/200\n",
            "36/36 [==============================] - 1s 37ms/step - loss: 0.5034 - acc: 0.8145 - val_loss: 0.6322 - val_acc: 0.7767 - lr: 1.0000e-05\n",
            "Epoch 142/200\n",
            "36/36 [==============================] - 1s 38ms/step - loss: 0.5016 - acc: 0.8167 - val_loss: 0.6336 - val_acc: 0.7728 - lr: 1.0000e-05\n",
            "Epoch 143/200\n",
            "36/36 [==============================] - 1s 37ms/step - loss: 0.5034 - acc: 0.8145 - val_loss: 0.6424 - val_acc: 0.7689 - lr: 1.0000e-05\n",
            "Epoch 144/200\n",
            "36/36 [==============================] - 1s 38ms/step - loss: 0.5074 - acc: 0.8100 - val_loss: 0.6505 - val_acc: 0.7670 - lr: 1.0000e-05\n",
            "Epoch 145/200\n",
            "36/36 [==============================] - 1s 38ms/step - loss: 0.5067 - acc: 0.8127 - val_loss: 0.6620 - val_acc: 0.7670 - lr: 1.0000e-05\n",
            "Epoch 146/200\n",
            "36/36 [==============================] - 1s 37ms/step - loss: 0.5071 - acc: 0.8103 - val_loss: 0.6548 - val_acc: 0.7786 - lr: 1.0000e-05\n",
            "Epoch 147/200\n",
            "36/36 [==============================] - 1s 38ms/step - loss: 0.4977 - acc: 0.8229 - val_loss: 0.6346 - val_acc: 0.7670 - lr: 1.0000e-05\n",
            "Epoch 148/200\n",
            "36/36 [==============================] - 1s 37ms/step - loss: 0.4965 - acc: 0.8209 - val_loss: 0.6455 - val_acc: 0.7825 - lr: 1.0000e-05\n",
            "Epoch 149/200\n",
            "36/36 [==============================] - 1s 38ms/step - loss: 0.5066 - acc: 0.8085 - val_loss: 0.6277 - val_acc: 0.7709 - lr: 1.0000e-05\n",
            "Epoch 150/200\n",
            "36/36 [==============================] - 1s 38ms/step - loss: 0.5070 - acc: 0.8118 - val_loss: 0.6514 - val_acc: 0.7728 - lr: 1.0000e-05\n",
            "Epoch 151/200\n",
            "36/36 [==============================] - 1s 38ms/step - loss: 0.5020 - acc: 0.8127 - val_loss: 0.6319 - val_acc: 0.7670 - lr: 1.0000e-05\n",
            "Epoch 152/200\n",
            "36/36 [==============================] - 1s 38ms/step - loss: 0.5064 - acc: 0.8103 - val_loss: 0.6414 - val_acc: 0.7670 - lr: 1.0000e-05\n",
            "Epoch 153/200\n",
            "36/36 [==============================] - 1s 38ms/step - loss: 0.5058 - acc: 0.8071 - val_loss: 0.6248 - val_acc: 0.7767 - lr: 1.0000e-05\n",
            "Epoch 154/200\n",
            "36/36 [==============================] - 1s 38ms/step - loss: 0.5039 - acc: 0.8154 - val_loss: 0.6477 - val_acc: 0.7709 - lr: 1.0000e-05\n",
            "Epoch 155/200\n",
            "36/36 [==============================] - 1s 37ms/step - loss: 0.5129 - acc: 0.8127 - val_loss: 0.6378 - val_acc: 0.7767 - lr: 1.0000e-05\n",
            "Epoch 156/200\n",
            "36/36 [==============================] - 1s 38ms/step - loss: 0.5004 - acc: 0.8142 - val_loss: 0.6483 - val_acc: 0.7709 - lr: 1.0000e-05\n",
            "Epoch 157/200\n",
            "36/36 [==============================] - 1s 38ms/step - loss: 0.5103 - acc: 0.8080 - val_loss: 0.6416 - val_acc: 0.7748 - lr: 1.0000e-05\n",
            "Epoch 158/200\n",
            "36/36 [==============================] - 1s 38ms/step - loss: 0.5120 - acc: 0.8111 - val_loss: 0.6430 - val_acc: 0.7767 - lr: 1.0000e-05\n",
            "Epoch 159/200\n",
            "36/36 [==============================] - 1s 38ms/step - loss: 0.5009 - acc: 0.8178 - val_loss: 0.6437 - val_acc: 0.7806 - lr: 1.0000e-05\n",
            "Epoch 160/200\n",
            "36/36 [==============================] - 1s 39ms/step - loss: 0.5103 - acc: 0.8103 - val_loss: 0.6521 - val_acc: 0.7612 - lr: 1.0000e-05\n",
            "Epoch 161/200\n",
            "36/36 [==============================] - 1s 39ms/step - loss: 0.5055 - acc: 0.8116 - val_loss: 0.6424 - val_acc: 0.7767 - lr: 1.0000e-05\n",
            "Epoch 162/200\n",
            "36/36 [==============================] - 1s 40ms/step - loss: 0.5005 - acc: 0.8131 - val_loss: 0.6552 - val_acc: 0.7748 - lr: 1.0000e-05\n",
            "Epoch 163/200\n",
            "36/36 [==============================] - 1s 39ms/step - loss: 0.5155 - acc: 0.8138 - val_loss: 0.6275 - val_acc: 0.7670 - lr: 1.0000e-05\n",
            "Epoch 164/200\n",
            "36/36 [==============================] - 1s 39ms/step - loss: 0.5137 - acc: 0.8058 - val_loss: 0.6550 - val_acc: 0.7709 - lr: 1.0000e-05\n",
            "Epoch 165/200\n",
            "36/36 [==============================] - 1s 38ms/step - loss: 0.5182 - acc: 0.8036 - val_loss: 0.6321 - val_acc: 0.7709 - lr: 1.0000e-05\n",
            "Epoch 166/200\n",
            "36/36 [==============================] - 1s 38ms/step - loss: 0.5082 - acc: 0.8140 - val_loss: 0.6445 - val_acc: 0.7689 - lr: 1.0000e-05\n",
            "Epoch 167/200\n",
            "36/36 [==============================] - 1s 40ms/step - loss: 0.5010 - acc: 0.8158 - val_loss: 0.6514 - val_acc: 0.7728 - lr: 1.0000e-05\n",
            "Epoch 168/200\n",
            "36/36 [==============================] - 1s 39ms/step - loss: 0.5058 - acc: 0.8107 - val_loss: 0.6424 - val_acc: 0.7767 - lr: 1.0000e-05\n",
            "Epoch 169/200\n",
            "36/36 [==============================] - 1s 39ms/step - loss: 0.5052 - acc: 0.8125 - val_loss: 0.6401 - val_acc: 0.7670 - lr: 1.0000e-05\n",
            "Epoch 170/200\n",
            "36/36 [==============================] - 1s 38ms/step - loss: 0.5024 - acc: 0.8191 - val_loss: 0.6299 - val_acc: 0.7786 - lr: 1.0000e-05\n",
            "Epoch 171/200\n",
            "36/36 [==============================] - 1s 38ms/step - loss: 0.5000 - acc: 0.8151 - val_loss: 0.6776 - val_acc: 0.7650 - lr: 1.0000e-05\n",
            "Epoch 172/200\n",
            "36/36 [==============================] - 1s 38ms/step - loss: 0.5087 - acc: 0.8180 - val_loss: 0.6333 - val_acc: 0.7767 - lr: 1.0000e-05\n",
            "Epoch 173/200\n",
            "36/36 [==============================] - 1s 39ms/step - loss: 0.5149 - acc: 0.8067 - val_loss: 0.6307 - val_acc: 0.7748 - lr: 1.0000e-05\n",
            "Epoch 174/200\n",
            "36/36 [==============================] - 1s 39ms/step - loss: 0.5067 - acc: 0.8145 - val_loss: 0.6761 - val_acc: 0.7670 - lr: 1.0000e-05\n",
            "Epoch 175/200\n",
            "36/36 [==============================] - 1s 38ms/step - loss: 0.5015 - acc: 0.8162 - val_loss: 0.6342 - val_acc: 0.7709 - lr: 1.0000e-05\n",
            "Epoch 176/200\n",
            "36/36 [==============================] - 1s 38ms/step - loss: 0.5087 - acc: 0.8136 - val_loss: 0.6267 - val_acc: 0.7650 - lr: 1.0000e-05\n",
            "Epoch 177/200\n",
            "36/36 [==============================] - 1s 38ms/step - loss: 0.5104 - acc: 0.8056 - val_loss: 0.6227 - val_acc: 0.7786 - lr: 1.0000e-05\n",
            "Epoch 178/200\n",
            "36/36 [==============================] - 1s 38ms/step - loss: 0.5100 - acc: 0.8080 - val_loss: 0.6375 - val_acc: 0.7709 - lr: 1.0000e-05\n",
            "Epoch 179/200\n",
            "36/36 [==============================] - 1s 37ms/step - loss: 0.5054 - acc: 0.8047 - val_loss: 0.6370 - val_acc: 0.7709 - lr: 1.0000e-05\n",
            "Epoch 180/200\n",
            "36/36 [==============================] - 1s 38ms/step - loss: 0.4992 - acc: 0.8125 - val_loss: 0.6286 - val_acc: 0.7767 - lr: 1.0000e-05\n",
            "Epoch 181/200\n",
            "36/36 [==============================] - 1s 39ms/step - loss: 0.5096 - acc: 0.8063 - val_loss: 0.6742 - val_acc: 0.7728 - lr: 1.0000e-05\n",
            "Epoch 182/200\n",
            "36/36 [==============================] - 1s 38ms/step - loss: 0.4919 - acc: 0.8205 - val_loss: 0.6296 - val_acc: 0.7709 - lr: 1.0000e-05\n",
            "Epoch 183/200\n",
            "36/36 [==============================] - 1s 38ms/step - loss: 0.5061 - acc: 0.8103 - val_loss: 0.6245 - val_acc: 0.7806 - lr: 1.0000e-05\n",
            "Epoch 184/200\n",
            "36/36 [==============================] - 1s 38ms/step - loss: 0.5037 - acc: 0.8127 - val_loss: 0.6314 - val_acc: 0.7689 - lr: 1.0000e-05\n",
            "Epoch 185/200\n",
            "36/36 [==============================] - 1s 37ms/step - loss: 0.5030 - acc: 0.8123 - val_loss: 0.6436 - val_acc: 0.7748 - lr: 1.0000e-05\n",
            "Epoch 186/200\n",
            "36/36 [==============================] - 1s 38ms/step - loss: 0.5096 - acc: 0.8127 - val_loss: 0.6534 - val_acc: 0.7728 - lr: 1.0000e-05\n",
            "Epoch 187/200\n",
            "36/36 [==============================] - 1s 39ms/step - loss: 0.4969 - acc: 0.8227 - val_loss: 0.6435 - val_acc: 0.7748 - lr: 1.0000e-05\n",
            "Epoch 188/200\n",
            "36/36 [==============================] - 1s 38ms/step - loss: 0.5024 - acc: 0.8098 - val_loss: 0.6540 - val_acc: 0.7709 - lr: 1.0000e-05\n",
            "Epoch 189/200\n",
            "36/36 [==============================] - 1s 40ms/step - loss: 0.5052 - acc: 0.8114 - val_loss: 0.6260 - val_acc: 0.7728 - lr: 1.0000e-05\n",
            "Epoch 190/200\n",
            "36/36 [==============================] - 1s 39ms/step - loss: 0.5051 - acc: 0.8169 - val_loss: 0.6650 - val_acc: 0.7709 - lr: 1.0000e-05\n",
            "Epoch 191/200\n",
            "36/36 [==============================] - 1s 39ms/step - loss: 0.5059 - acc: 0.8129 - val_loss: 0.6332 - val_acc: 0.7767 - lr: 1.0000e-05\n",
            "Epoch 192/200\n",
            "36/36 [==============================] - 1s 38ms/step - loss: 0.5089 - acc: 0.8111 - val_loss: 0.6301 - val_acc: 0.7728 - lr: 1.0000e-05\n",
            "Epoch 193/200\n",
            "36/36 [==============================] - 1s 38ms/step - loss: 0.5052 - acc: 0.8147 - val_loss: 0.6709 - val_acc: 0.7670 - lr: 1.0000e-05\n",
            "Epoch 194/200\n",
            "36/36 [==============================] - 1s 38ms/step - loss: 0.5050 - acc: 0.8105 - val_loss: 0.6505 - val_acc: 0.7728 - lr: 1.0000e-05\n",
            "Epoch 195/200\n",
            "36/36 [==============================] - 1s 38ms/step - loss: 0.5064 - acc: 0.8085 - val_loss: 0.6527 - val_acc: 0.7767 - lr: 1.0000e-05\n",
            "Epoch 196/200\n",
            "36/36 [==============================] - 1s 38ms/step - loss: 0.5116 - acc: 0.8071 - val_loss: 0.6372 - val_acc: 0.7670 - lr: 1.0000e-05\n",
            "Epoch 197/200\n",
            "36/36 [==============================] - 1s 38ms/step - loss: 0.5072 - acc: 0.8118 - val_loss: 0.6579 - val_acc: 0.7728 - lr: 1.0000e-05\n",
            "Epoch 198/200\n",
            "36/36 [==============================] - 1s 38ms/step - loss: 0.4973 - acc: 0.8123 - val_loss: 0.6369 - val_acc: 0.7806 - lr: 1.0000e-05\n",
            "Epoch 199/200\n",
            "36/36 [==============================] - 1s 38ms/step - loss: 0.5062 - acc: 0.8094 - val_loss: 0.6474 - val_acc: 0.7786 - lr: 1.0000e-05\n",
            "Epoch 200/200\n",
            "36/36 [==============================] - 1s 38ms/step - loss: 0.5047 - acc: 0.8074 - val_loss: 0.6443 - val_acc: 0.7748 - lr: 1.0000e-05\n"
          ],
          "name": "stdout"
        }
      ]
    },
    {
      "cell_type": "code",
      "metadata": {
        "id": "MNGXxJTQq-UD",
        "colab_type": "code",
        "colab": {}
      },
      "source": [
        ""
      ],
      "execution_count": 0,
      "outputs": []
    },
    {
      "cell_type": "code",
      "metadata": {
        "id": "y-QerZ4RN91R",
        "colab_type": "code",
        "outputId": "6c870c49-8d39-4d39-80fb-462d6e4169a4",
        "colab": {
          "base_uri": "https://localhost:8080/",
          "height": 295
        }
      },
      "source": [
        "from matplotlib import  pyplot\n",
        "\n",
        "pyplot.plot(hist.history[\"acc\"], label='train')\n",
        "pyplot.plot(hist.history['val_acc'], label='test')\n",
        "pyplot.title('model accuracy')\n",
        "pyplot.ylabel('accuracy')\n",
        "pyplot.xlabel('epoch')\n",
        "pyplot.legend(['train', 'val'], loc='upper left')\n",
        "pyplot.show()"
      ],
      "execution_count": 39,
      "outputs": [
        {
          "output_type": "display_data",
          "data": {
            "image/png": "[encoded data removed]",
            "text/plain": [
              "<Figure size 432x288 with 1 Axes>"
            ]
          },
          "metadata": {
            "tags": [],
            "needs_background": "light"
          }
        }
      ]
    },
    {
      "cell_type": "code",
      "metadata": {
        "id": "xeg6MBf-GSgC",
        "colab_type": "code",
        "colab": {}
      },
      "source": [
        "test_err = [1.0-x for x in hist.history['val_acc']]"
      ],
      "execution_count": 0,
      "outputs": []
    },
    {
      "cell_type": "code",
      "metadata": {
        "id": "KC6DagsghRg8",
        "colab_type": "code",
        "outputId": "f604d592-4f79-4c8b-d3b8-eead4e76b08b",
        "colab": {
          "base_uri": "https://localhost:8080/",
          "height": 295
        }
      },
      "source": [
        "# summarize history for loss\n",
        "pyplot.plot(hist.history['loss'])\n",
        "pyplot.plot(hist.history['val_loss'])\n",
        "pyplot.title('model loss')\n",
        "pyplot.ylabel('loss')\n",
        "pyplot.xlabel('epoch')\n",
        "pyplot.legend(['train', 'test'], loc='upper left')\n",
        "pyplot.show()\n"
      ],
      "execution_count": 40,
      "outputs": [
        {
          "output_type": "display_data",
          "data": {
            "image/png": "[encoded data removed]",
            "text/plain": [
              "<Figure size 432x288 with 1 Axes>"
            ]
          },
          "metadata": {
            "tags": [],
            "needs_background": "light"
          }
        }
      ]
    },
    {
      "cell_type": "code",
      "metadata": {
        "id": "RgiKT6i5GiJ9",
        "colab_type": "code",
        "outputId": "060a44c5-3558-4fcd-a578-02bbfe02f3b4",
        "colab": {
          "base_uri": "https://localhost:8080/",
          "height": 265
        }
      },
      "source": [
        "pyplot.plot(test_err, label='test')\n",
        "pyplot.savefig(\"deneme_err.png\")"
      ],
      "execution_count": 41,
      "outputs": [
        {
          "output_type": "display_data",
          "data": {
            "image/png": "[encoded data removed]",
            "text/plain": [
              "<Figure size 432x288 with 1 Axes>"
            ]
          },
          "metadata": {
            "tags": [],
            "needs_background": "light"
          }
        }
      ]
    },
    {
      "cell_type": "code",
      "metadata": {
        "id": "l4-IJ9Z-dQKF",
        "colab_type": "code",
        "colab": {}
      },
      "source": [
        "import tensorflow as tf\n",
        "parseval_16_2.save(\"parseval_OC.h5\")"
      ],
      "execution_count": 0,
      "outputs": []
    },
    {
      "cell_type": "code",
      "metadata": {
        "id": "MqddlwbmEV9s",
        "colab_type": "code",
        "colab": {}
      },
      "source": [
        "y_pred = parseval_16_2.predict(X_test)"
      ],
      "execution_count": 0,
      "outputs": []
    },
    {
      "cell_type": "code",
      "metadata": {
        "id": "C9Ysop6NFDbs",
        "colab_type": "code",
        "outputId": "bc377e68-4531-4c71-d6bd-736cee7764c9",
        "colab": {
          "base_uri": "https://localhost:8080/",
          "height": 51
        }
      },
      "source": [
        "parseval_16_2.evaluate(X_test,y_test)"
      ],
      "execution_count": 42,
      "outputs": [
        {
          "output_type": "stream",
          "text": [
            "18/18 [==============================] - 0s 6ms/step - loss: 0.6308 - acc: 0.7801\n"
          ],
          "name": "stdout"
        },
        {
          "output_type": "execute_result",
          "data": {
            "text/plain": [
              "[0.6308341026306152, 0.7801046967506409]"
            ]
          },
          "metadata": {
            "tags": []
          },
          "execution_count": 42
        }
      ]
    },
    {
      "cell_type": "code",
      "metadata": {
        "id": "THYCAlBW15Kg",
        "colab_type": "code",
        "outputId": "7a93ff31-9f39-46c4-9096-2202bea55476",
        "colab": {
          "base_uri": "https://localhost:8080/",
          "height": 734
        }
      },
      "source": [
        "!pip install -q tensorflow==2.0.0b1\n",
        "# Install bleeding edge version of cleverhans\n",
        "!pip install git+https://github.com/tensorflow/cleverhans.git#egg=cleverhans\n",
        "\n",
        "import cleverhans\n",
        "import tensorflow as tf\n",
        "import numpy as np\n",
        "import matplotlib.pyplot as plt\n",
        "\n",
        "print(\"\\nTensorflow Version: \" + tf.__version__)\n",
        "print(\"Cleverhans Version: \" + cleverhans.__version__)\n",
        "print(\"GPU Available: \", tf.test.is_gpu_available())"
      ],
      "execution_count": 43,
      "outputs": [
        {
          "output_type": "stream",
          "text": [
            "\u001b[K     |████████████████████████████████| 87.9MB 50kB/s \n",
            "\u001b[K     |████████████████████████████████| 3.1MB 54.1MB/s \n",
            "\u001b[K     |████████████████████████████████| 501kB 57.4MB/s \n",
            "\u001b[?25hCollecting cleverhans\n",
            "  Cloning https://github.com/tensorflow/cleverhans.git to /tmp/pip-install-u1dk9_r8/cleverhans\n",
            "  Running command git clone -q https://github.com/tensorflow/cleverhans.git /tmp/pip-install-u1dk9_r8/cleverhans\n",
            "Collecting nose\n",
            "\u001b[?25l  Downloading https://files.pythonhosted.org/packages/15/d8/dd071918c040f50fa1cf80da16423af51ff8ce4a0f2399b7bf8de45ac3d9/nose-1.3.7-py3-none-any.whl (154kB)\n",
            "\u001b[K     |████████████████████████████████| 163kB 8.6MB/s \n",
            "\u001b[?25hCollecting pycodestyle\n",
            "\u001b[?25l  Downloading https://files.pythonhosted.org/packages/10/5b/88879fb861ab79aef45c7e199cae3ef7af487b5603dcb363517a50602dd7/pycodestyle-2.6.0-py2.py3-none-any.whl (41kB)\n",
            "\u001b[K     |████████████████████████████████| 51kB 7.5MB/s \n",
            "\u001b[?25hRequirement already satisfied: scipy in /usr/local/lib/python3.6/dist-packages (from cleverhans) (1.4.1)\n",
            "Requirement already satisfied: matplotlib in /usr/local/lib/python3.6/dist-packages (from cleverhans) (3.2.1)\n",
            "Collecting mnist~=0.2\n",
            "  Downloading https://files.pythonhosted.org/packages/c6/c4/5db3bfe009f8d71f1d532bbadbd0ec203764bba3a469e4703a889db8e5e0/mnist-0.2.2-py2.py3-none-any.whl\n",
            "Requirement already satisfied: numpy in /usr/local/lib/python3.6/dist-packages (from cleverhans) (1.18.5)\n",
            "Requirement already satisfied: tensorflow-probability in /usr/local/lib/python3.6/dist-packages (from cleverhans) (0.10.0)\n",
            "Requirement already satisfied: joblib in /usr/local/lib/python3.6/dist-packages (from cleverhans) (0.15.1)\n",
            "Requirement already satisfied: kiwisolver>=1.0.1 in /usr/local/lib/python3.6/dist-packages (from matplotlib->cleverhans) (1.2.0)\n",
            "Requirement already satisfied: cycler>=0.10 in /usr/local/lib/python3.6/dist-packages (from matplotlib->cleverhans) (0.10.0)\n",
            "Requirement already satisfied: pyparsing!=2.0.4,!=2.1.2,!=2.1.6,>=2.0.1 in /usr/local/lib/python3.6/dist-packages (from matplotlib->cleverhans) (2.4.7)\n",
            "Requirement already satisfied: python-dateutil>=2.1 in /usr/local/lib/python3.6/dist-packages (from matplotlib->cleverhans) (2.8.1)\n",
            "Requirement already satisfied: decorator in /usr/local/lib/python3.6/dist-packages (from tensorflow-probability->cleverhans) (4.4.2)\n",
            "Requirement already satisfied: gast>=0.3.2 in /usr/local/lib/python3.6/dist-packages (from tensorflow-probability->cleverhans) (0.3.3)\n",
            "Requirement already satisfied: six>=1.10.0 in /usr/local/lib/python3.6/dist-packages (from tensorflow-probability->cleverhans) (1.12.0)\n",
            "Requirement already satisfied: cloudpickle>=1.2.2 in /usr/local/lib/python3.6/dist-packages (from tensorflow-probability->cleverhans) (1.3.0)\n",
            "Building wheels for collected packages: cleverhans\n",
            "  Building wheel for cleverhans (setup.py) ... \u001b[?25l\u001b[?25hdone\n",
            "  Created wheel for cleverhans: filename=cleverhans-3.0.1-cp36-none-any.whl size=262572 sha256=28d39351687d2151ccd5a02bd9669df895ce80ef41817b278a3d6d4612991ccf\n",
            "  Stored in directory: /tmp/pip-ephem-wheel-cache-hmh2e0iv/wheels/6e/59/ec/723a6f654aaf62c8c40f0f0850fdf71a4948598697f56c3bfa\n",
            "Successfully built cleverhans\n",
            "Installing collected packages: nose, pycodestyle, mnist, cleverhans\n",
            "Successfully installed cleverhans-3.0.1 mnist-0.2.2 nose-1.3.7 pycodestyle-2.6.0\n",
            "\n",
            "Tensorflow Version: 2.2.0\n",
            "Cleverhans Version: 3.0.1-fc7b7c7ec903258e0e3fb88503fa629f\n",
            "WARNING:tensorflow:From <ipython-input-43-67a2c783edbc>:12: is_gpu_available (from tensorflow.python.framework.test_util) is deprecated and will be removed in a future version.\n",
            "Instructions for updating:\n",
            "Use `tf.config.list_physical_devices('GPU')` instead.\n",
            "GPU Available:  True\n"
          ],
          "name": "stdout"
        }
      ]
    },
    {
      "cell_type": "code",
      "metadata": {
        "id": "ZNev4Y9U2sFQ",
        "colab_type": "code",
        "colab": {}
      },
      "source": [
        "from cleverhans.future.tf2.attacks import fast_gradient_method\n",
        "\n",
        "#The attack requires the model to ouput the logits\n",
        "logits_model = tf.keras.Model(parseval_16_2.input,parseval_16_2.layers[-1].output)"
      ],
      "execution_count": 0,
      "outputs": []
    },
    {
      "cell_type": "markdown",
      "metadata": {
        "id": "TKoVsxZDOxyL",
        "colab_type": "text"
      },
      "source": [
        "**Non-Adversarial Training**"
      ]
    },
    {
      "cell_type": "code",
      "metadata": {
        "id": "d78MYsOGOw-_",
        "colab_type": "code",
        "colab": {}
      },
      "source": [
        "X_adv = []\n",
        "epsilon_list = [0.005]\n",
        "for j in range(len(epsilon_list)):\n",
        "  epsilon = epsilon_list[j]\n",
        "  for i in range(len(X_test)):\n",
        "    random_index = i\n",
        "    original_image = X_test[random_index]\n",
        "    original_image = tf.convert_to_tensor(original_image.reshape((1,32,32))) #The .reshape just gives it the proper form to input into the model, a batch of 1 a.k.a a tensor\n",
        "    original_label = y_test[random_index]\n",
        "    original_label = np.reshape(np.argmax(original_label), (1,)).astype('int64')\n",
        "    adv_example_targeted_label = fast_gradient_method(logits_model, original_image, epsilon, np.inf, targeted=False)\n",
        "    X_adv.append(np.array(adv_example_targeted_label).reshape(32,32,1))"
      ],
      "execution_count": 0,
      "outputs": []
    },
    {
      "cell_type": "code",
      "metadata": {
        "id": "ywDcf7XYcxBq",
        "colab_type": "code",
        "outputId": "0057e7d6-dedd-4c00-c95d-d9fac2a1e717",
        "colab": {
          "base_uri": "https://localhost:8080/",
          "height": 51
        }
      },
      "source": [
        "  X_adv = np.array(X_adv)\n",
        "  print(\"epsilon: {} and test evalution : {}\".format(epsilon,parseval_16_2.evaluate(X_adv,y_test)))"
      ],
      "execution_count": 53,
      "outputs": [
        {
          "output_type": "stream",
          "text": [
            "18/18 [==============================] - 0s 4ms/step - loss: 2.8286 - acc: 0.2356\n",
            "epsilon: 0.1 and test evalution : [2.8285772800445557, 0.23560209572315216]\n"
          ],
          "name": "stdout"
        }
      ]
    },
    {
      "cell_type": "code",
      "metadata": {
        "id": "K9IhlHJpcxrC",
        "colab_type": "code",
        "outputId": "6e48d811-8b6c-46f4-bb27-6826127738f7",
        "colab": {
          "base_uri": "https://localhost:8080/",
          "height": 51
        }
      },
      "source": [
        "  X_adv = np.array(X_adv)\n",
        "  print(\"epsilon: {} and test evalution : {}\".format(epsilon,parseval_16_2.evaluate(X_adv,y_test)))"
      ],
      "execution_count": 55,
      "outputs": [
        {
          "output_type": "stream",
          "text": [
            "18/18 [==============================] - 0s 5ms/step - loss: 0.7395 - acc: 0.6963\n",
            "epsilon: 0.01 and test evalution : [0.7394983172416687, 0.6963350772857666]\n"
          ],
          "name": "stdout"
        }
      ]
    },
    {
      "cell_type": "code",
      "metadata": {
        "id": "CByMGpWJcveZ",
        "colab_type": "code",
        "outputId": "f7adb0de-8095-4db0-ee36-e3c958f59c69",
        "colab": {
          "base_uri": "https://localhost:8080/",
          "height": 51
        }
      },
      "source": [
        "  X_adv = np.array(X_adv)\n",
        "  print(\"epsilon: {} and test evalution : {}\".format(epsilon,parseval_16_2.evaluate(X_adv,y_test)))"
      ],
      "execution_count": 61,
      "outputs": [
        {
          "output_type": "stream",
          "text": [
            "18/18 [==============================] - 0s 4ms/step - loss: 0.6521 - acc: 0.7469\n",
            "epsilon: 0.005 and test evalution : [0.6521332859992981, 0.7469459176063538]\n"
          ],
          "name": "stdout"
        }
      ]
    }
  ]
}