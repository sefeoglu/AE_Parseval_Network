{
  "nbformat": 4,
  "nbformat_minor": 0,
  "metadata": {
    "kernelspec": {
      "display_name": "Python 3",
      "language": "python",
      "name": "python3"
    },
    "language_info": {
      "codemirror_mode": {
        "name": "ipython",
        "version": 3
      },
      "file_extension": ".py",
      "mimetype": "text/x-python",
      "name": "python",
      "nbconvert_exporter": "python",
      "pygments_lexer": "ipython3",
      "version": "3.7.4"
    },
    "colab": {
      "name": "ParsevalNetwork.ipynb",
      "provenance": [],
      "toc_visible": true
    },
    "accelerator": "GPU"
  },
  "cells": [
    {
      "cell_type": "markdown",
      "metadata": {
        "id": "_idgCcuZdv0S",
        "colab_type": "text"
      },
      "source": [
        "# **Parseval Network**"
      ]
    },
    {
      "cell_type": "markdown",
      "metadata": {
        "id": "jO1kBOuDd2_r",
        "colab_type": "text"
      },
      "source": [
        "# **Data Preparation**"
      ]
    },
    {
      "cell_type": "code",
      "metadata": {
        "id": "esXS1STy_O_m",
        "colab_type": "code",
        "colab": {}
      },
      "source": [
        "from sklearn.model_selection import train_test_split\n",
        "import gzip\n",
        "import pickle\n",
        "import numpy as np\n",
        "from tensorflow.keras.utils import to_categorical\n",
        "import tensorflow.keras.backend as K"
      ],
      "execution_count": 0,
      "outputs": []
    },
    {
      "cell_type": "code",
      "metadata": {
        "id": "11nX1rD7_O_t",
        "colab_type": "code",
        "outputId": "624f2c68-625d-4bf1-90cd-e44dacd2c412",
        "colab": {
          "base_uri": "https://localhost:8080/",
          "height": 34
        }
      },
      "source": [
        "def read_data():\n",
        "    with open(\"data.pz\", 'rb') as file_:\n",
        "        with gzip.GzipFile(fileobj=file_) as gzf:\n",
        "            data = pickle.load(gzf, encoding='latin1', fix_imports=True)\n",
        "    return data\n",
        "data = read_data()\n",
        "import cv2\n",
        "new_data_X = []\n",
        "Y_data = []\n",
        "for row in data:\n",
        "    new_data_X.append(cv2.resize(row['crop'], (32,32)))\n",
        "    Y_data.append(row['label'])\n",
        "new_data_X = np.array(new_data_X)\n",
        "new_data_X.shape"
      ],
      "execution_count": 0,
      "outputs": [
        {
          "output_type": "execute_result",
          "data": {
            "text/plain": [
              "(5722, 32, 32)"
            ]
          },
          "metadata": {
            "tags": []
          },
          "execution_count": 2
        }
      ]
    },
    {
      "cell_type": "code",
      "metadata": {
        "id": "wuUWZk7KeFck",
        "colab_type": "code",
        "outputId": "17c5544b-0877-4fee-aa25-e9ee845df375",
        "colab": {
          "base_uri": "https://localhost:8080/",
          "height": 34
        }
      },
      "source": [
        "X = new_data_X.astype('float32')\n",
        "X.shape"
      ],
      "execution_count": 0,
      "outputs": [
        {
          "output_type": "execute_result",
          "data": {
            "text/plain": [
              "(5722, 32, 32)"
            ]
          },
          "metadata": {
            "tags": []
          },
          "execution_count": 3
        }
      ]
    },
    {
      "cell_type": "code",
      "metadata": {
        "id": "6T0HkiPfeH1U",
        "colab_type": "code",
        "colab": {}
      },
      "source": [
        "img_rows, img_cols = X[0].shape\n",
        "\n",
        "# transform data set\n",
        "if K.image_data_format() == 'channels_first':\n",
        "    X = X.reshape(X.shape[0], 1, img_rows, img_cols)\n",
        "    input_shape = (1, img_rows, img_cols)\n",
        "else:\n",
        "    X = X.reshape(X.shape[0], img_rows, img_cols, 1)\n",
        "    input_shape = (img_rows, img_cols, 1)"
      ],
      "execution_count": 0,
      "outputs": []
    },
    {
      "cell_type": "code",
      "metadata": {
        "id": "crqYw_LJeJif",
        "colab_type": "code",
        "colab": {}
      },
      "source": [
        "import pandas as pd\n",
        "import numpy as np\n",
        "from sklearn.preprocessing import LabelEncoder\n",
        "\n",
        "labelencoder = LabelEncoder()\n",
        "y_df = pd.DataFrame(Y_data, columns=['Label'])\n",
        "y_df['Encoded'] = labelencoder.fit_transform(y_df['Label'])"
      ],
      "execution_count": 0,
      "outputs": []
    },
    {
      "cell_type": "code",
      "metadata": {
        "id": "BuCH_ylOeLLe",
        "colab_type": "code",
        "outputId": "144f82c3-decb-4825-e152-e3013d212a62",
        "colab": {
          "base_uri": "https://localhost:8080/",
          "height": 102
        }
      },
      "source": [
        "y_df['Label'].value_counts()"
      ],
      "execution_count": 0,
      "outputs": [
        {
          "output_type": "execute_result",
          "data": {
            "text/plain": [
              "open             1500\n",
              "closed           1500\n",
              "partiallyOpen    1376\n",
              "notVisible       1346\n",
              "Name: Label, dtype: int64"
            ]
          },
          "metadata": {
            "tags": []
          },
          "execution_count": 6
        }
      ]
    },
    {
      "cell_type": "code",
      "metadata": {
        "id": "vJGV2GZWeN-d",
        "colab_type": "code",
        "outputId": "dbdeb6f8-d73a-44bb-cfc5-5f2c3824a191",
        "colab": {
          "base_uri": "https://localhost:8080/",
          "height": 102
        }
      },
      "source": [
        "y_df['Encoded'].value_counts()\n"
      ],
      "execution_count": 0,
      "outputs": [
        {
          "output_type": "execute_result",
          "data": {
            "text/plain": [
              "2    1500\n",
              "0    1500\n",
              "3    1376\n",
              "1    1346\n",
              "Name: Encoded, dtype: int64"
            ]
          },
          "metadata": {
            "tags": []
          },
          "execution_count": 7
        }
      ]
    },
    {
      "cell_type": "code",
      "metadata": {
        "id": "GBVaEoQBeP7Q",
        "colab_type": "code",
        "colab": {}
      },
      "source": [
        "from tensorflow.keras.utils import to_categorical\n",
        "\n",
        "y_cat = to_categorical(y_df['Encoded'])"
      ],
      "execution_count": 0,
      "outputs": []
    },
    {
      "cell_type": "code",
      "metadata": {
        "id": "K5Q7NqR4eYQy",
        "colab_type": "code",
        "colab": {}
      },
      "source": [
        "X_train, X_test, y_train, y_test = train_test_split(X, y_cat, test_size = 0.1)\n",
        "X_train, X_val, y_train, y_val = train_test_split(X_train, y_train, test_size = 0.1)"
      ],
      "execution_count": 0,
      "outputs": []
    },
    {
      "cell_type": "code",
      "metadata": {
        "id": "O5d6VfS7mpKm",
        "colab_type": "code",
        "colab": {}
      },
      "source": [
        "with open('data_set.pickle', 'rb') as f:\n",
        "    x = pickle.load(f)"
      ],
      "execution_count": 0,
      "outputs": []
    },
    {
      "cell_type": "code",
      "metadata": {
        "id": "suqL27vjmsYz",
        "colab_type": "code",
        "colab": {}
      },
      "source": [
        "X_train, y_train,X_test, y_test, X_val, y_val = x['X_train'], x['y_train'], x['X_test'], x['y_test'], x['X_val'], x['y_val']"
      ],
      "execution_count": 0,
      "outputs": []
    },
    {
      "cell_type": "markdown",
      "metadata": {
        "id": "BTmOEDcMtSQp",
        "colab_type": "text"
      },
      "source": [
        "# Othogonal Constraint"
      ]
    },
    {
      "cell_type": "code",
      "metadata": {
        "id": "6S2jnj2otWlg",
        "colab_type": "code",
        "colab": {}
      },
      "source": [
        "from tensorflow.python.keras.constraints import Constraint\n",
        "from tensorflow.python.ops import math_ops, array_ops\n",
        "\n",
        "class TightFrame(Constraint):\n",
        "\n",
        "\n",
        "    def __init__(self, scale, num_passes=1):\n",
        "        self.scale = scale\n",
        "\n",
        "        if num_passes < 1:\n",
        "            raise ValueError(\"Number of passes cannot be non-positive! (got {})\".format(num_passes))\n",
        "        self.num_passes = num_passes\n",
        "\n",
        "\n",
        "    def __call__(self, w):\n",
        "        transpose_channels = (len(w.shape) == 4)\n",
        "\n",
        "        # Move channels_num to the front in order to make the dimensions correct for matmul\n",
        "        if transpose_channels:\n",
        "            w_reordered = array_ops.reshape(w, (-1, w.shape[0]))\n",
        "\n",
        "        else:\n",
        "            w_reordered = w\n",
        "\n",
        "        last = w_reordered\n",
        "        for i in range(self.num_passes):\n",
        "            temp1 = math_ops.matmul(last, last, transpose_a=True)\n",
        "            temp2 = (1 + self.scale) * w_reordered - self.scale * math_ops.matmul(w_reordered, temp1)\n",
        "\n",
        "            last = temp2\n",
        "\n",
        "        # Move channels_num to the back again\n",
        "        if transpose_channels:\n",
        "            return array_ops.reshape(last, w.shape)\n",
        "        else:\n",
        "            return last\n",
        "\n",
        "\n",
        "    def get_config(self):\n",
        "        return {'scale': self.scale, 'num_passes': self.num_passes}\n",
        "\n",
        "\n",
        "# Alias\n",
        "tight_frame = TightFrame"
      ],
      "execution_count": 0,
      "outputs": []
    },
    {
      "cell_type": "code",
      "metadata": {
        "id": "G4VciYzctsSY",
        "colab_type": "code",
        "colab": {}
      },
      "source": [
        "from tensorflow.keras.models import Model\n",
        "from tensorflow.keras.layers import Input, Add, Activation, Dropout, Flatten, Dense\n",
        "from tensorflow.keras.layers import Convolution2D, MaxPooling2D, AveragePooling2D\n",
        "from tensorflow.keras.layers import BatchNormalization\n",
        "from tensorflow.keras.regularizers import l2\n",
        "from tensorflow.keras import backend as K\n",
        "import warnings\n",
        "from tensorflow.keras.utils import to_categorical\n",
        "warnings.filterwarnings(\"ignore\")\n",
        "weight_decay = 0.0001\n"
      ],
      "execution_count": 0,
      "outputs": []
    },
    {
      "cell_type": "markdown",
      "metadata": {
        "id": "v3g_vzsy_ndF",
        "colab_type": "text"
      },
      "source": [
        "**Parseval Network**"
      ]
    },
    {
      "cell_type": "code",
      "metadata": {
        "id": "WN76FYUZ_3YA",
        "colab_type": "code",
        "outputId": "4a66a5e4-4745-487a-e8f8-264a8b1c2484",
        "colab": {
          "base_uri": "https://localhost:8080/",
          "height": 68
        }
      },
      "source": [
        "\n",
        "\n",
        "def initial_conv(input):\n",
        "  \n",
        "    x = Convolution2D(16, (3, 3), padding='same', kernel_initializer='orthogonal', kernel_constraint= tight_frame(0.0001),\n",
        "                      kernel_regularizer=l2(weight_decay),\n",
        "                      use_bias=False)(input)\n",
        "\n",
        "    channel_axis = 1 if K.image_data_format() == \"channels_first\" else -1\n",
        "\n",
        "    x = BatchNormalization(axis=channel_axis, momentum=0.1, epsilon=1e-5, gamma_initializer='uniform')(x)\n",
        "    x = Activation('relu')(x)\n",
        "    return x\n",
        "\n",
        "\n",
        "def expand_conv(init, base, k, strides=(1, 1)):\n",
        "    x = Convolution2D(base * k, (3, 3), padding='same', strides=strides, kernel_initializer='Orthogonal', kernel_constraint= tight_frame(0.0001),\n",
        "                      kernel_regularizer=l2(weight_decay),\n",
        "                      use_bias=False)(init)\n",
        "\n",
        "    channel_axis = 1 if K.image_data_format() == \"channels_first\" else -1\n",
        "\n",
        "    x = BatchNormalization(axis=channel_axis, momentum=0.1, epsilon=1e-5, gamma_initializer='uniform')(x)\n",
        "    x = Activation('relu')(x)\n",
        "\n",
        "    x = Convolution2D(base * k, (3, 3), padding='same', kernel_initializer='Orthogonal',\n",
        "                      kernel_constraint= tight_frame(0.0001),\n",
        "                      kernel_regularizer=l2(weight_decay),\n",
        "                      use_bias=False)(x)\n",
        "\n",
        "    skip = Convolution2D(base * k, (1, 1), padding='same', strides=strides, kernel_initializer='Orthogonal',\n",
        "                      kernel_constraint= tight_frame(0.0001),\n",
        "                      kernel_regularizer=l2(weight_decay),\n",
        "                      use_bias=False)(init)\n",
        "\n",
        "    m = Add()([x, skip])\n",
        "\n",
        "    return m\n",
        "\n",
        "\n",
        "def conv1_block(input, k=1, dropout=0.0):\n",
        "    init = input\n",
        "\n",
        "    channel_axis = 1 if K.image_data_format() == \"channels_first\" else -1\n",
        "\n",
        "    x = BatchNormalization(axis=channel_axis, momentum=0.1, epsilon=1e-5, gamma_initializer='uniform')(input)\n",
        "    x = Activation('relu')(x)\n",
        "    x = Convolution2D(16 * k, (3, 3), padding='same', kernel_initializer='Orthogonal',\n",
        "                      kernel_constraint= tight_frame(0.0001),\n",
        "                      kernel_regularizer=l2(weight_decay),\n",
        "                      use_bias=False)(x)\n",
        "\n",
        "    if dropout > 0.0: x = Dropout(dropout)(x)\n",
        "\n",
        "    x = BatchNormalization(axis=channel_axis, momentum=0.1, epsilon=1e-5, gamma_initializer='uniform')(x)\n",
        "    x = Activation('relu')(x)\n",
        "    x = Convolution2D(16 * k, (3, 3), padding='same', kernel_initializer='Orthogonal',\n",
        "                      kernel_constraint= tight_frame(0.0001),\n",
        "                      kernel_regularizer=l2(weight_decay),\n",
        "                      use_bias=False)(x)\n",
        "\n",
        "    m = Add()([init, x])\n",
        "    return m\n",
        "\n",
        "def conv2_block(input, k=1, dropout=0.0):\n",
        "    init = input\n",
        "\n",
        "    channel_axis = 1 if K.image_data_format() == \"channels_first\" else -1\n",
        "    print(\"conv2:channel:  {}\".format(channel_axis))\n",
        "    x = BatchNormalization(axis=channel_axis, momentum=0.1, epsilon=1e-5, gamma_initializer='uniform')(input)\n",
        "    x = Activation('relu')(x)\n",
        "    x = Convolution2D(32 * k, (3, 3), padding='same', kernel_initializer='Orthogonal',\n",
        "                      kernel_constraint= tight_frame(0.0001),\n",
        "                      kernel_regularizer=l2(weight_decay),\n",
        "                      use_bias=False)(x)\n",
        "\n",
        "    if dropout > 0.0: x = Dropout(dropout)(x)\n",
        "\n",
        "    x = BatchNormalization(axis=channel_axis, momentum=0.1, epsilon=1e-5, gamma_initializer='uniform')(x)\n",
        "    x = Activation('relu')(x)\n",
        "    x = Convolution2D(32 * k, (3, 3), padding='same', kernel_initializer='Orthogonal',\n",
        "                      kernel_constraint= tight_frame(0.0001),\n",
        "                      kernel_regularizer=l2(weight_decay),\n",
        "                      use_bias=False)(x)\n",
        "\n",
        "    m = Add()([init, x])\n",
        "    return m\n",
        "\n",
        "def conv3_block(input, k=1, dropout=0.0):\n",
        "    init = input\n",
        "\n",
        "    channel_axis = 1 if K.image_data_format() == \"channels_first\" else -1\n",
        "    print(\"conv3 channel_axis:{} \".format(channel_axis))\n",
        "    x = BatchNormalization(axis=channel_axis, momentum=0.1, epsilon=1e-5, gamma_initializer='uniform')(input)\n",
        "    x = Activation('relu')(x)\n",
        "    x = Convolution2D(64 * k, (3, 3), padding='same', kernel_initializer='Orthogonal',\n",
        "                      kernel_constraint= tight_frame(0.0001),\n",
        "                      kernel_regularizer=l2(weight_decay),\n",
        "                      use_bias=False)(x)\n",
        "\n",
        "    if dropout > 0.0: x = Dropout(dropout)(x)\n",
        "\n",
        "    x = BatchNormalization(axis=channel_axis, momentum=0.1, epsilon=1e-5, gamma_initializer='uniform')(x)\n",
        "    x = Activation('relu')(x)\n",
        "    x = Convolution2D(64 * k, (3, 3), padding='same', kernel_initializer='Orthogonal',\n",
        "                      kernel_constraint= tight_frame(0.0001),\n",
        "                      kernel_regularizer=l2(weight_decay),\n",
        "                      use_bias=False)(x)\n",
        "\n",
        "    m = Add()([init, x])\n",
        "    return m\n",
        "\n",
        "def create_parseval_network(input_dim, nb_classes=100, N=2, k=1, dropout=0.0, verbose=1):\n",
        "    \"\"\"\n",
        "    Creates a Wide Residual Network with specified parameters\n",
        "\n",
        "    :param input: Input Keras object\n",
        "    :param nb_classes: Number of output classes\n",
        "    :param N: Depth of the network. Compute N = (n - 4) / 6.\n",
        "              Example : For a depth of 16, n = 16, N = (16 - 4) / 6 = 2\n",
        "              Example2: For a depth of 28, n = 28, N = (28 - 4) / 6 = 4\n",
        "              Example3: For a depth of 40, n = 40, N = (40 - 4) / 6 = 6\n",
        "    :param k: Width of the network.\n",
        "    :param dropout: Adds dropout if value is greater than 0.0\n",
        "    :param verbose: Debug info to describe created WRN\n",
        "    :return:\n",
        "    \"\"\"\n",
        "    channel_axis = 1 if K.image_data_format() == \"channels_first\" else -1\n",
        "\n",
        "    ip = Input(shape=input_dim)\n",
        "\n",
        "    x = initial_conv(ip)\n",
        "    nb_conv = 4\n",
        "\n",
        "    x = expand_conv(x, 16, k)\n",
        "    nb_conv += 2\n",
        "\n",
        "    for i in range(N - 1):\n",
        "        x = conv1_block(x, k, dropout)\n",
        "        nb_conv += 2\n",
        "\n",
        "    x = BatchNormalization(axis=channel_axis, momentum=0.1, epsilon=1e-5, gamma_initializer='uniform')(x)\n",
        "    x = Activation('relu')(x)\n",
        "\n",
        "    x = expand_conv(x, 32, k, strides=(2, 2))\n",
        "    nb_conv += 2\n",
        "\n",
        "    for i in range(N - 1):\n",
        "        x = conv2_block(x, k, dropout)\n",
        "        nb_conv += 2\n",
        "\n",
        "    x = BatchNormalization(axis=channel_axis, momentum=0.1, epsilon=1e-5, gamma_initializer='uniform')(x)\n",
        "    x = Activation('relu')(x)\n",
        "\n",
        "    x = expand_conv(x, 64, k, strides=(2, 2))\n",
        "    nb_conv += 2\n",
        "\n",
        "    for i in range(N - 1):\n",
        "        x = conv3_block(x, k, dropout)\n",
        "        nb_conv += 2\n",
        "\n",
        "    x = BatchNormalization(axis=channel_axis, momentum=0.1, epsilon=1e-5, gamma_initializer='uniform')(x)\n",
        "    x = Activation('relu')(x)\n",
        "\n",
        "    x = AveragePooling2D((8, 8))(x)\n",
        "    x = Flatten()(x)\n",
        "\n",
        "    x = Dense(nb_classes, activation='softmax' )(x)\n",
        "\n",
        "    model = Model(ip, x)\n",
        "\n",
        "    if verbose: print(\"Parseval Residual Network-%d-%d created.\" % (nb_conv, k))\n",
        "    return model\n",
        "\n",
        "if __name__ == \"__main__\":\n",
        "\n",
        "    init = (32, 32,1)\n",
        "\n",
        "    parseval_16_2 = create_parseval_network(init, nb_classes=4, N=2, k=2, dropout=0.5)"
      ],
      "execution_count": 59,
      "outputs": [
        {
          "output_type": "stream",
          "text": [
            "conv2:channel:  -1\n",
            "conv3 channel_axis:-1 \n",
            "Parseval Residual Network-16-2 created.\n"
          ],
          "name": "stdout"
        }
      ]
    },
    {
      "cell_type": "code",
      "metadata": {
        "id": "BxyMKoeaBqPh",
        "colab_type": "code",
        "colab": {}
      },
      "source": [
        "from tensorflow.keras.preprocessing.image import ImageDataGenerator\n",
        "import tensorflow.keras.callbacks as callbacks\n"
      ],
      "execution_count": 0,
      "outputs": []
    },
    {
      "cell_type": "code",
      "metadata": {
        "id": "liiFrat1Bv1_",
        "colab_type": "code",
        "colab": {}
      },
      "source": [
        "EPOCHS = 200\n",
        "BS = 128\n"
      ],
      "execution_count": 0,
      "outputs": []
    },
    {
      "cell_type": "code",
      "metadata": {
        "id": "-ygMFWH8Bzfq",
        "colab_type": "code",
        "colab": {}
      },
      "source": [
        "from tensorflow.keras.callbacks import LearningRateScheduler\n",
        "import math\n",
        "from tensorflow.keras.optimizers import SGD\n",
        "\n",
        "sgd = SGD(lr=0.1, momentum=0.6)"
      ],
      "execution_count": 0,
      "outputs": []
    },
    {
      "cell_type": "code",
      "metadata": {
        "id": "WhUvPL0dB48O",
        "colab_type": "code",
        "outputId": "3f14bac1-4f05-46a7-98fb-521bc8cfb591",
        "colab": {
          "base_uri": "https://localhost:8080/",
          "height": 34
        }
      },
      "source": [
        "parseval_16_2.compile(loss=\"categorical_crossentropy\", optimizer=sgd, metrics=[\"acc\"])\n",
        "print(\"Finished compiling\")"
      ],
      "execution_count": 60,
      "outputs": [
        {
          "output_type": "stream",
          "text": [
            "Finished compiling\n"
          ],
          "name": "stdout"
        }
      ]
    },
    {
      "cell_type": "code",
      "metadata": {
        "id": "6JrJ7xy1Q5rS",
        "colab_type": "code",
        "colab": {}
      },
      "source": [
        "import tensorflow\n",
        "generator = tensorflow.keras.preprocessing.image.ImageDataGenerator(rotation_range=10,\n",
        "                               width_shift_range=5./32,\n",
        "                               height_shift_range=5./32,)"
      ],
      "execution_count": 0,
      "outputs": []
    },
    {
      "cell_type": "code",
      "metadata": {
        "id": "i4EpGTMG9jeP",
        "colab_type": "code",
        "colab": {}
      },
      "source": [
        "def lr_sch(epoch):\n",
        "    if epoch < 30:\n",
        "        return 0.1\n",
        "    elif epoch < 50:\n",
        "        return 0.001\n",
        "    elif epoch < 60:\n",
        "        return 0.001\n",
        "    else:\n",
        "        return 0.00001\n",
        "\n",
        "# Learning rate scheduler callback\n",
        "lr_scheduler = LearningRateScheduler(lr_sch)"
      ],
      "execution_count": 0,
      "outputs": []
    },
    {
      "cell_type": "code",
      "metadata": {
        "id": "9z0CbPY_24ns",
        "colab_type": "code",
        "outputId": "3c831527-48aa-4159-a951-8364e0bb2bd2",
        "colab": {
          "base_uri": "https://localhost:8080/",
          "height": 1000
        }
      },
      "source": [
        "from tensorflow.keras.utils import to_categorical\n",
        "hist = parseval_16_2.fit(generator.flow(X_train, y_train, batch_size=BS), steps_per_epoch=len(X_train) // BS, epochs=EPOCHS,\n",
        "                   validation_data=(X_val, y_val),\n",
        "                   callbacks = [lr_scheduler],\n",
        "                   validation_steps=X_val.shape[0] // BS,)"
      ],
      "execution_count": 62,
      "outputs": [
        {
          "output_type": "stream",
          "text": [
            "Epoch 1/200\n",
            "36/36 [==============================] - 2s 66ms/step - loss: 1.4546 - acc: 0.3103 - val_loss: 1.3727 - val_acc: 0.3767 - lr: 0.1000\n",
            "Epoch 2/200\n",
            "36/36 [==============================] - 2s 56ms/step - loss: 1.3619 - acc: 0.3637 - val_loss: 1.3614 - val_acc: 0.3476 - lr: 0.1000\n",
            "Epoch 3/200\n",
            "36/36 [==============================] - 2s 55ms/step - loss: 1.3180 - acc: 0.3728 - val_loss: 1.3421 - val_acc: 0.3728 - lr: 0.1000\n",
            "Epoch 4/200\n",
            "36/36 [==============================] - 2s 53ms/step - loss: 1.2962 - acc: 0.3813 - val_loss: 1.2996 - val_acc: 0.4136 - lr: 0.1000\n",
            "Epoch 5/200\n",
            "36/36 [==============================] - 2s 55ms/step - loss: 1.2796 - acc: 0.4130 - val_loss: 1.3112 - val_acc: 0.4019 - lr: 0.1000\n",
            "Epoch 6/200\n",
            "36/36 [==============================] - 2s 55ms/step - loss: 1.2445 - acc: 0.4478 - val_loss: 1.2648 - val_acc: 0.4214 - lr: 0.1000\n",
            "Epoch 7/200\n",
            "36/36 [==============================] - 2s 56ms/step - loss: 1.2127 - acc: 0.4723 - val_loss: 1.4433 - val_acc: 0.3981 - lr: 0.1000\n",
            "Epoch 8/200\n",
            "36/36 [==============================] - 2s 54ms/step - loss: 1.1643 - acc: 0.5152 - val_loss: 2.4157 - val_acc: 0.2583 - lr: 0.1000\n",
            "Epoch 9/200\n",
            "36/36 [==============================] - 2s 54ms/step - loss: 1.1503 - acc: 0.5191 - val_loss: 1.2294 - val_acc: 0.4602 - lr: 0.1000\n",
            "Epoch 10/200\n",
            "36/36 [==============================] - 2s 56ms/step - loss: 1.0731 - acc: 0.5672 - val_loss: 1.2653 - val_acc: 0.4272 - lr: 0.1000\n",
            "Epoch 11/200\n",
            "36/36 [==============================] - 2s 56ms/step - loss: 1.0263 - acc: 0.5848 - val_loss: 1.1192 - val_acc: 0.5709 - lr: 0.1000\n",
            "Epoch 12/200\n",
            "36/36 [==============================] - 2s 57ms/step - loss: 0.9782 - acc: 0.6039 - val_loss: 1.0106 - val_acc: 0.5825 - lr: 0.1000\n",
            "Epoch 13/200\n",
            "36/36 [==============================] - 2s 56ms/step - loss: 0.9221 - acc: 0.6374 - val_loss: 0.9818 - val_acc: 0.6388 - lr: 0.1000\n",
            "Epoch 14/200\n",
            "36/36 [==============================] - 2s 58ms/step - loss: 0.9068 - acc: 0.6365 - val_loss: 0.9992 - val_acc: 0.6214 - lr: 0.1000\n",
            "Epoch 15/200\n",
            "36/36 [==============================] - 3s 74ms/step - loss: 0.8832 - acc: 0.6571 - val_loss: 1.0513 - val_acc: 0.6078 - lr: 0.1000\n",
            "Epoch 16/200\n",
            "36/36 [==============================] - 2s 56ms/step - loss: 0.8828 - acc: 0.6602 - val_loss: 0.9098 - val_acc: 0.6408 - lr: 0.1000\n",
            "Epoch 17/200\n",
            "36/36 [==============================] - 2s 54ms/step - loss: 0.8331 - acc: 0.6749 - val_loss: 0.9954 - val_acc: 0.5825 - lr: 0.1000\n",
            "Epoch 18/200\n",
            "36/36 [==============================] - 2s 55ms/step - loss: 0.8142 - acc: 0.6853 - val_loss: 0.9167 - val_acc: 0.6369 - lr: 0.1000\n",
            "Epoch 19/200\n",
            "36/36 [==============================] - 2s 54ms/step - loss: 0.8257 - acc: 0.6838 - val_loss: 0.8388 - val_acc: 0.6680 - lr: 0.1000\n",
            "Epoch 20/200\n",
            "36/36 [==============================] - 2s 54ms/step - loss: 0.7815 - acc: 0.7024 - val_loss: 0.8404 - val_acc: 0.6660 - lr: 0.1000\n",
            "Epoch 21/200\n",
            "36/36 [==============================] - 2s 54ms/step - loss: 0.7438 - acc: 0.7188 - val_loss: 0.9438 - val_acc: 0.6505 - lr: 0.1000\n",
            "Epoch 22/200\n",
            "36/36 [==============================] - 2s 57ms/step - loss: 0.7295 - acc: 0.7195 - val_loss: 0.7733 - val_acc: 0.7146 - lr: 0.1000\n",
            "Epoch 23/200\n",
            "36/36 [==============================] - 2s 56ms/step - loss: 0.7249 - acc: 0.7250 - val_loss: 1.4804 - val_acc: 0.5184 - lr: 0.1000\n",
            "Epoch 24/200\n",
            "36/36 [==============================] - 2s 55ms/step - loss: 0.7492 - acc: 0.7108 - val_loss: 0.8049 - val_acc: 0.7146 - lr: 0.1000\n",
            "Epoch 25/200\n",
            "36/36 [==============================] - 2s 55ms/step - loss: 0.7131 - acc: 0.7361 - val_loss: 0.9268 - val_acc: 0.6874 - lr: 0.1000\n",
            "Epoch 26/200\n",
            "36/36 [==============================] - 2s 55ms/step - loss: 0.7021 - acc: 0.7352 - val_loss: 0.8243 - val_acc: 0.6951 - lr: 0.1000\n",
            "Epoch 27/200\n",
            "36/36 [==============================] - 2s 55ms/step - loss: 0.6818 - acc: 0.7430 - val_loss: 0.8150 - val_acc: 0.7204 - lr: 0.1000\n",
            "Epoch 28/200\n",
            "36/36 [==============================] - 2s 55ms/step - loss: 0.6759 - acc: 0.7483 - val_loss: 0.7895 - val_acc: 0.7223 - lr: 0.1000\n",
            "Epoch 29/200\n",
            "36/36 [==============================] - 2s 54ms/step - loss: 0.6631 - acc: 0.7494 - val_loss: 1.0670 - val_acc: 0.5981 - lr: 0.1000\n",
            "Epoch 30/200\n",
            "36/36 [==============================] - 2s 55ms/step - loss: 0.6552 - acc: 0.7554 - val_loss: 0.8763 - val_acc: 0.6718 - lr: 0.1000\n",
            "Epoch 31/200\n",
            "36/36 [==============================] - 2s 55ms/step - loss: 0.9366 - acc: 0.6152 - val_loss: 0.9801 - val_acc: 0.6485 - lr: 0.0010\n",
            "Epoch 32/200\n",
            "36/36 [==============================] - 2s 56ms/step - loss: 0.7883 - acc: 0.6862 - val_loss: 0.8092 - val_acc: 0.7087 - lr: 0.0010\n",
            "Epoch 33/200\n",
            "36/36 [==============================] - 2s 55ms/step - loss: 0.7134 - acc: 0.7255 - val_loss: 0.7592 - val_acc: 0.7282 - lr: 0.0010\n",
            "Epoch 34/200\n",
            "36/36 [==============================] - 2s 57ms/step - loss: 0.6753 - acc: 0.7450 - val_loss: 0.7606 - val_acc: 0.7262 - lr: 0.0010\n",
            "Epoch 35/200\n",
            "36/36 [==============================] - 2s 53ms/step - loss: 0.6455 - acc: 0.7530 - val_loss: 0.7307 - val_acc: 0.7262 - lr: 0.0010\n",
            "Epoch 36/200\n",
            "36/36 [==============================] - 2s 55ms/step - loss: 0.6311 - acc: 0.7636 - val_loss: 0.7203 - val_acc: 0.7243 - lr: 0.0010\n",
            "Epoch 37/200\n",
            "36/36 [==============================] - 2s 55ms/step - loss: 0.6093 - acc: 0.7723 - val_loss: 0.7148 - val_acc: 0.7495 - lr: 0.0010\n",
            "Epoch 38/200\n",
            "36/36 [==============================] - 2s 55ms/step - loss: 0.5993 - acc: 0.7781 - val_loss: 0.7148 - val_acc: 0.7437 - lr: 0.0010\n",
            "Epoch 39/200\n",
            "36/36 [==============================] - 2s 55ms/step - loss: 0.5904 - acc: 0.7863 - val_loss: 0.6969 - val_acc: 0.7417 - lr: 0.0010\n",
            "Epoch 40/200\n",
            "36/36 [==============================] - 2s 55ms/step - loss: 0.5922 - acc: 0.7792 - val_loss: 0.7072 - val_acc: 0.7320 - lr: 0.0010\n",
            "Epoch 41/200\n",
            "36/36 [==============================] - 2s 55ms/step - loss: 0.5723 - acc: 0.7878 - val_loss: 0.6939 - val_acc: 0.7359 - lr: 0.0010\n",
            "Epoch 42/200\n",
            "36/36 [==============================] - 2s 56ms/step - loss: 0.5599 - acc: 0.7996 - val_loss: 0.6856 - val_acc: 0.7534 - lr: 0.0010\n",
            "Epoch 43/200\n",
            "36/36 [==============================] - 2s 55ms/step - loss: 0.5542 - acc: 0.7954 - val_loss: 0.6787 - val_acc: 0.7573 - lr: 0.0010\n",
            "Epoch 44/200\n",
            "36/36 [==============================] - 2s 54ms/step - loss: 0.5558 - acc: 0.8020 - val_loss: 0.6830 - val_acc: 0.7417 - lr: 0.0010\n",
            "Epoch 45/200\n",
            "36/36 [==============================] - 2s 55ms/step - loss: 0.5394 - acc: 0.8056 - val_loss: 0.6874 - val_acc: 0.7515 - lr: 0.0010\n",
            "Epoch 46/200\n",
            "36/36 [==============================] - 2s 56ms/step - loss: 0.5422 - acc: 0.8025 - val_loss: 0.6737 - val_acc: 0.7437 - lr: 0.0010\n",
            "Epoch 47/200\n",
            "36/36 [==============================] - 2s 55ms/step - loss: 0.5361 - acc: 0.8067 - val_loss: 0.6846 - val_acc: 0.7359 - lr: 0.0010\n",
            "Epoch 48/200\n",
            "36/36 [==============================] - 2s 54ms/step - loss: 0.5381 - acc: 0.8020 - val_loss: 0.6805 - val_acc: 0.7534 - lr: 0.0010\n",
            "Epoch 49/200\n",
            "36/36 [==============================] - 2s 54ms/step - loss: 0.5259 - acc: 0.8090 - val_loss: 0.6763 - val_acc: 0.7534 - lr: 0.0010\n",
            "Epoch 50/200\n",
            "36/36 [==============================] - 2s 55ms/step - loss: 0.5246 - acc: 0.8134 - val_loss: 0.6789 - val_acc: 0.7553 - lr: 0.0010\n",
            "Epoch 51/200\n",
            "36/36 [==============================] - 2s 55ms/step - loss: 0.5168 - acc: 0.8118 - val_loss: 0.6770 - val_acc: 0.7456 - lr: 0.0010\n",
            "Epoch 52/200\n",
            "36/36 [==============================] - 2s 55ms/step - loss: 0.5176 - acc: 0.8065 - val_loss: 0.6803 - val_acc: 0.7476 - lr: 0.0010\n",
            "Epoch 53/200\n",
            "36/36 [==============================] - 2s 56ms/step - loss: 0.5194 - acc: 0.8105 - val_loss: 0.6742 - val_acc: 0.7417 - lr: 0.0010\n",
            "Epoch 54/200\n",
            "36/36 [==============================] - 2s 54ms/step - loss: 0.5134 - acc: 0.8123 - val_loss: 0.6697 - val_acc: 0.7495 - lr: 0.0010\n",
            "Epoch 55/200\n",
            "36/36 [==============================] - 2s 54ms/step - loss: 0.5072 - acc: 0.8154 - val_loss: 0.6651 - val_acc: 0.7495 - lr: 0.0010\n",
            "Epoch 56/200\n",
            "36/36 [==============================] - 2s 55ms/step - loss: 0.5084 - acc: 0.8138 - val_loss: 0.6727 - val_acc: 0.7495 - lr: 0.0010\n",
            "Epoch 57/200\n",
            "36/36 [==============================] - 2s 57ms/step - loss: 0.5023 - acc: 0.8222 - val_loss: 0.6706 - val_acc: 0.7495 - lr: 0.0010\n",
            "Epoch 58/200\n",
            "36/36 [==============================] - 2s 55ms/step - loss: 0.4985 - acc: 0.8205 - val_loss: 0.6736 - val_acc: 0.7534 - lr: 0.0010\n",
            "Epoch 59/200\n",
            "36/36 [==============================] - 2s 55ms/step - loss: 0.4985 - acc: 0.8114 - val_loss: 0.6674 - val_acc: 0.7495 - lr: 0.0010\n",
            "Epoch 60/200\n",
            "36/36 [==============================] - 2s 55ms/step - loss: 0.4989 - acc: 0.8165 - val_loss: 0.6714 - val_acc: 0.7534 - lr: 0.0010\n",
            "Epoch 61/200\n",
            "36/36 [==============================] - 2s 55ms/step - loss: 0.4868 - acc: 0.8260 - val_loss: 0.6634 - val_acc: 0.7456 - lr: 1.0000e-05\n",
            "Epoch 62/200\n",
            "36/36 [==============================] - 2s 54ms/step - loss: 0.4973 - acc: 0.8209 - val_loss: 0.7046 - val_acc: 0.7534 - lr: 1.0000e-05\n",
            "Epoch 63/200\n",
            "36/36 [==============================] - 2s 55ms/step - loss: 0.4832 - acc: 0.8267 - val_loss: 0.6651 - val_acc: 0.7456 - lr: 1.0000e-05\n",
            "Epoch 64/200\n",
            "36/36 [==============================] - 2s 54ms/step - loss: 0.4883 - acc: 0.8220 - val_loss: 0.6778 - val_acc: 0.7476 - lr: 1.0000e-05\n",
            "Epoch 65/200\n",
            "36/36 [==============================] - 2s 54ms/step - loss: 0.4930 - acc: 0.8155 - val_loss: 0.6910 - val_acc: 0.7476 - lr: 1.0000e-05\n",
            "Epoch 66/200\n",
            "36/36 [==============================] - 2s 55ms/step - loss: 0.4882 - acc: 0.8211 - val_loss: 0.6855 - val_acc: 0.7573 - lr: 1.0000e-05\n",
            "Epoch 67/200\n",
            "36/36 [==============================] - 2s 56ms/step - loss: 0.4936 - acc: 0.8233 - val_loss: 0.6693 - val_acc: 0.7495 - lr: 1.0000e-05\n",
            "Epoch 68/200\n",
            "36/36 [==============================] - 2s 57ms/step - loss: 0.4904 - acc: 0.8236 - val_loss: 0.6858 - val_acc: 0.7437 - lr: 1.0000e-05\n",
            "Epoch 69/200\n",
            "36/36 [==============================] - 2s 56ms/step - loss: 0.4842 - acc: 0.8211 - val_loss: 0.6682 - val_acc: 0.7534 - lr: 1.0000e-05\n",
            "Epoch 70/200\n",
            "36/36 [==============================] - 2s 55ms/step - loss: 0.4868 - acc: 0.8222 - val_loss: 0.6757 - val_acc: 0.7515 - lr: 1.0000e-05\n",
            "Epoch 71/200\n",
            "36/36 [==============================] - 2s 56ms/step - loss: 0.4906 - acc: 0.8213 - val_loss: 0.6787 - val_acc: 0.7301 - lr: 1.0000e-05\n",
            "Epoch 72/200\n",
            "36/36 [==============================] - 2s 53ms/step - loss: 0.4870 - acc: 0.8291 - val_loss: 0.6778 - val_acc: 0.7340 - lr: 1.0000e-05\n",
            "Epoch 73/200\n",
            "36/36 [==============================] - 2s 54ms/step - loss: 0.4904 - acc: 0.8225 - val_loss: 0.6847 - val_acc: 0.7553 - lr: 1.0000e-05\n",
            "Epoch 74/200\n",
            "36/36 [==============================] - 2s 54ms/step - loss: 0.4791 - acc: 0.8269 - val_loss: 0.6836 - val_acc: 0.7456 - lr: 1.0000e-05\n",
            "Epoch 75/200\n",
            "36/36 [==============================] - 2s 55ms/step - loss: 0.4966 - acc: 0.8167 - val_loss: 0.6772 - val_acc: 0.7456 - lr: 1.0000e-05\n",
            "Epoch 76/200\n",
            "36/36 [==============================] - 2s 54ms/step - loss: 0.4831 - acc: 0.8233 - val_loss: 0.6791 - val_acc: 0.7398 - lr: 1.0000e-05\n",
            "Epoch 77/200\n",
            "36/36 [==============================] - 2s 55ms/step - loss: 0.4914 - acc: 0.8205 - val_loss: 0.6797 - val_acc: 0.7476 - lr: 1.0000e-05\n",
            "Epoch 78/200\n",
            "36/36 [==============================] - 2s 55ms/step - loss: 0.4870 - acc: 0.8231 - val_loss: 0.6602 - val_acc: 0.7515 - lr: 1.0000e-05\n",
            "Epoch 79/200\n",
            "36/36 [==============================] - 2s 55ms/step - loss: 0.4838 - acc: 0.8253 - val_loss: 0.6700 - val_acc: 0.7437 - lr: 1.0000e-05\n",
            "Epoch 80/200\n",
            "36/36 [==============================] - 2s 55ms/step - loss: 0.4928 - acc: 0.8207 - val_loss: 0.6736 - val_acc: 0.7515 - lr: 1.0000e-05\n",
            "Epoch 81/200\n",
            "36/36 [==============================] - 2s 57ms/step - loss: 0.4956 - acc: 0.8229 - val_loss: 0.6707 - val_acc: 0.7495 - lr: 1.0000e-05\n",
            "Epoch 82/200\n",
            "36/36 [==============================] - 2s 55ms/step - loss: 0.4867 - acc: 0.8256 - val_loss: 0.7121 - val_acc: 0.7359 - lr: 1.0000e-05\n",
            "Epoch 83/200\n",
            "36/36 [==============================] - 2s 55ms/step - loss: 0.4859 - acc: 0.8247 - val_loss: 0.6822 - val_acc: 0.7417 - lr: 1.0000e-05\n",
            "Epoch 84/200\n",
            "36/36 [==============================] - 2s 56ms/step - loss: 0.4929 - acc: 0.8180 - val_loss: 0.6690 - val_acc: 0.7515 - lr: 1.0000e-05\n",
            "Epoch 85/200\n",
            "36/36 [==============================] - 2s 55ms/step - loss: 0.4880 - acc: 0.8225 - val_loss: 0.6717 - val_acc: 0.7495 - lr: 1.0000e-05\n",
            "Epoch 86/200\n",
            "36/36 [==============================] - 2s 55ms/step - loss: 0.4857 - acc: 0.8145 - val_loss: 0.6718 - val_acc: 0.7515 - lr: 1.0000e-05\n",
            "Epoch 87/200\n",
            "36/36 [==============================] - 2s 55ms/step - loss: 0.4870 - acc: 0.8227 - val_loss: 0.6736 - val_acc: 0.7515 - lr: 1.0000e-05\n",
            "Epoch 88/200\n",
            "36/36 [==============================] - 2s 56ms/step - loss: 0.4822 - acc: 0.8227 - val_loss: 0.6827 - val_acc: 0.7417 - lr: 1.0000e-05\n",
            "Epoch 89/200\n",
            "36/36 [==============================] - 2s 55ms/step - loss: 0.4891 - acc: 0.8233 - val_loss: 0.6698 - val_acc: 0.7417 - lr: 1.0000e-05\n",
            "Epoch 90/200\n",
            "36/36 [==============================] - 2s 54ms/step - loss: 0.4865 - acc: 0.8238 - val_loss: 0.6706 - val_acc: 0.7592 - lr: 1.0000e-05\n",
            "Epoch 91/200\n",
            "36/36 [==============================] - 2s 54ms/step - loss: 0.4899 - acc: 0.8211 - val_loss: 0.6601 - val_acc: 0.7534 - lr: 1.0000e-05\n",
            "Epoch 92/200\n",
            "36/36 [==============================] - 2s 55ms/step - loss: 0.4884 - acc: 0.8207 - val_loss: 0.6728 - val_acc: 0.7398 - lr: 1.0000e-05\n",
            "Epoch 93/200\n",
            "36/36 [==============================] - 2s 57ms/step - loss: 0.4893 - acc: 0.8185 - val_loss: 0.6662 - val_acc: 0.7534 - lr: 1.0000e-05\n",
            "Epoch 94/200\n",
            "36/36 [==============================] - 2s 55ms/step - loss: 0.4844 - acc: 0.8233 - val_loss: 0.6690 - val_acc: 0.7476 - lr: 1.0000e-05\n",
            "Epoch 95/200\n",
            "36/36 [==============================] - 2s 54ms/step - loss: 0.4881 - acc: 0.8240 - val_loss: 0.6798 - val_acc: 0.7456 - lr: 1.0000e-05\n",
            "Epoch 96/200\n",
            "36/36 [==============================] - 2s 55ms/step - loss: 0.4730 - acc: 0.8293 - val_loss: 0.6654 - val_acc: 0.7456 - lr: 1.0000e-05\n",
            "Epoch 97/200\n",
            "36/36 [==============================] - 2s 56ms/step - loss: 0.4803 - acc: 0.8278 - val_loss: 0.6713 - val_acc: 0.7495 - lr: 1.0000e-05\n",
            "Epoch 98/200\n",
            "36/36 [==============================] - 2s 55ms/step - loss: 0.4824 - acc: 0.8222 - val_loss: 0.6821 - val_acc: 0.7495 - lr: 1.0000e-05\n",
            "Epoch 99/200\n",
            "36/36 [==============================] - 2s 54ms/step - loss: 0.4918 - acc: 0.8247 - val_loss: 0.6716 - val_acc: 0.7515 - lr: 1.0000e-05\n",
            "Epoch 100/200\n",
            "36/36 [==============================] - 2s 56ms/step - loss: 0.4751 - acc: 0.8285 - val_loss: 0.6725 - val_acc: 0.7456 - lr: 1.0000e-05\n",
            "Epoch 101/200\n",
            "36/36 [==============================] - 2s 55ms/step - loss: 0.4790 - acc: 0.8229 - val_loss: 0.6723 - val_acc: 0.7495 - lr: 1.0000e-05\n",
            "Epoch 102/200\n",
            "36/36 [==============================] - 2s 55ms/step - loss: 0.4874 - acc: 0.8160 - val_loss: 0.6815 - val_acc: 0.7437 - lr: 1.0000e-05\n",
            "Epoch 103/200\n",
            "36/36 [==============================] - 2s 55ms/step - loss: 0.4959 - acc: 0.8200 - val_loss: 0.6701 - val_acc: 0.7592 - lr: 1.0000e-05\n",
            "Epoch 104/200\n",
            "36/36 [==============================] - 2s 55ms/step - loss: 0.4767 - acc: 0.8280 - val_loss: 0.6703 - val_acc: 0.7437 - lr: 1.0000e-05\n",
            "Epoch 105/200\n",
            "36/36 [==============================] - 2s 56ms/step - loss: 0.4936 - acc: 0.8162 - val_loss: 0.6641 - val_acc: 0.7515 - lr: 1.0000e-05\n",
            "Epoch 106/200\n",
            "36/36 [==============================] - 2s 55ms/step - loss: 0.4865 - acc: 0.8236 - val_loss: 0.6830 - val_acc: 0.7456 - lr: 1.0000e-05\n",
            "Epoch 107/200\n",
            "36/36 [==============================] - 2s 55ms/step - loss: 0.4903 - acc: 0.8233 - val_loss: 0.6822 - val_acc: 0.7398 - lr: 1.0000e-05\n",
            "Epoch 108/200\n",
            "36/36 [==============================] - 2s 54ms/step - loss: 0.4797 - acc: 0.8229 - val_loss: 0.6638 - val_acc: 0.7495 - lr: 1.0000e-05\n",
            "Epoch 109/200\n",
            "36/36 [==============================] - 2s 55ms/step - loss: 0.4861 - acc: 0.8256 - val_loss: 0.6631 - val_acc: 0.7456 - lr: 1.0000e-05\n",
            "Epoch 110/200\n",
            "36/36 [==============================] - 2s 55ms/step - loss: 0.4898 - acc: 0.8191 - val_loss: 0.6693 - val_acc: 0.7495 - lr: 1.0000e-05\n",
            "Epoch 111/200\n",
            "36/36 [==============================] - 2s 54ms/step - loss: 0.4799 - acc: 0.8194 - val_loss: 0.6698 - val_acc: 0.7456 - lr: 1.0000e-05\n",
            "Epoch 112/200\n",
            "36/36 [==============================] - 2s 55ms/step - loss: 0.4805 - acc: 0.8220 - val_loss: 0.6617 - val_acc: 0.7553 - lr: 1.0000e-05\n",
            "Epoch 113/200\n",
            "36/36 [==============================] - 2s 55ms/step - loss: 0.4862 - acc: 0.8205 - val_loss: 0.6597 - val_acc: 0.7573 - lr: 1.0000e-05\n",
            "Epoch 114/200\n",
            "36/36 [==============================] - 2s 55ms/step - loss: 0.4923 - acc: 0.8227 - val_loss: 0.6990 - val_acc: 0.7379 - lr: 1.0000e-05\n",
            "Epoch 115/200\n",
            "36/36 [==============================] - 2s 55ms/step - loss: 0.4890 - acc: 0.8202 - val_loss: 0.6687 - val_acc: 0.7456 - lr: 1.0000e-05\n",
            "Epoch 116/200\n",
            "36/36 [==============================] - 2s 55ms/step - loss: 0.4790 - acc: 0.8238 - val_loss: 0.6728 - val_acc: 0.7417 - lr: 1.0000e-05\n",
            "Epoch 117/200\n",
            "36/36 [==============================] - 2s 56ms/step - loss: 0.4912 - acc: 0.8187 - val_loss: 0.6962 - val_acc: 0.7398 - lr: 1.0000e-05\n",
            "Epoch 118/200\n",
            "36/36 [==============================] - 2s 55ms/step - loss: 0.4884 - acc: 0.8253 - val_loss: 0.6666 - val_acc: 0.7476 - lr: 1.0000e-05\n",
            "Epoch 119/200\n",
            "36/36 [==============================] - 2s 55ms/step - loss: 0.4806 - acc: 0.8256 - val_loss: 0.6667 - val_acc: 0.7437 - lr: 1.0000e-05\n",
            "Epoch 120/200\n",
            "36/36 [==============================] - 2s 54ms/step - loss: 0.4909 - acc: 0.8185 - val_loss: 0.6908 - val_acc: 0.7340 - lr: 1.0000e-05\n",
            "Epoch 121/200\n",
            "36/36 [==============================] - 2s 55ms/step - loss: 0.4908 - acc: 0.8198 - val_loss: 0.6580 - val_acc: 0.7515 - lr: 1.0000e-05\n",
            "Epoch 122/200\n",
            "36/36 [==============================] - 2s 53ms/step - loss: 0.4842 - acc: 0.8220 - val_loss: 0.6670 - val_acc: 0.7534 - lr: 1.0000e-05\n",
            "Epoch 123/200\n",
            "36/36 [==============================] - 2s 54ms/step - loss: 0.4886 - acc: 0.8216 - val_loss: 0.6707 - val_acc: 0.7573 - lr: 1.0000e-05\n",
            "Epoch 124/200\n",
            "36/36 [==============================] - 2s 55ms/step - loss: 0.4776 - acc: 0.8287 - val_loss: 0.6730 - val_acc: 0.7417 - lr: 1.0000e-05\n",
            "Epoch 125/200\n",
            "36/36 [==============================] - 2s 55ms/step - loss: 0.4862 - acc: 0.8229 - val_loss: 0.6627 - val_acc: 0.7437 - lr: 1.0000e-05\n",
            "Epoch 126/200\n",
            "36/36 [==============================] - 2s 57ms/step - loss: 0.4860 - acc: 0.8236 - val_loss: 0.6665 - val_acc: 0.7515 - lr: 1.0000e-05\n",
            "Epoch 127/200\n",
            "36/36 [==============================] - 2s 55ms/step - loss: 0.4827 - acc: 0.8251 - val_loss: 0.6627 - val_acc: 0.7398 - lr: 1.0000e-05\n",
            "Epoch 128/200\n",
            "36/36 [==============================] - 2s 56ms/step - loss: 0.4873 - acc: 0.8216 - val_loss: 0.6678 - val_acc: 0.7379 - lr: 1.0000e-05\n",
            "Epoch 129/200\n",
            "36/36 [==============================] - 2s 57ms/step - loss: 0.4801 - acc: 0.8258 - val_loss: 0.6688 - val_acc: 0.7534 - lr: 1.0000e-05\n",
            "Epoch 130/200\n",
            "36/36 [==============================] - 2s 55ms/step - loss: 0.4841 - acc: 0.8251 - val_loss: 0.6736 - val_acc: 0.7553 - lr: 1.0000e-05\n",
            "Epoch 131/200\n",
            "36/36 [==============================] - 2s 54ms/step - loss: 0.4834 - acc: 0.8278 - val_loss: 0.6808 - val_acc: 0.7456 - lr: 1.0000e-05\n",
            "Epoch 132/200\n",
            "36/36 [==============================] - 2s 55ms/step - loss: 0.4824 - acc: 0.8229 - val_loss: 0.6748 - val_acc: 0.7476 - lr: 1.0000e-05\n",
            "Epoch 133/200\n",
            "36/36 [==============================] - 2s 55ms/step - loss: 0.4846 - acc: 0.8249 - val_loss: 0.6675 - val_acc: 0.7398 - lr: 1.0000e-05\n",
            "Epoch 134/200\n",
            "36/36 [==============================] - 2s 55ms/step - loss: 0.4806 - acc: 0.8238 - val_loss: 0.6878 - val_acc: 0.7437 - lr: 1.0000e-05\n",
            "Epoch 135/200\n",
            "36/36 [==============================] - 2s 54ms/step - loss: 0.4803 - acc: 0.8247 - val_loss: 0.6735 - val_acc: 0.7456 - lr: 1.0000e-05\n",
            "Epoch 136/200\n",
            "36/36 [==============================] - 2s 54ms/step - loss: 0.4946 - acc: 0.8118 - val_loss: 0.6734 - val_acc: 0.7573 - lr: 1.0000e-05\n",
            "Epoch 137/200\n",
            "36/36 [==============================] - 2s 55ms/step - loss: 0.4861 - acc: 0.8225 - val_loss: 0.6752 - val_acc: 0.7437 - lr: 1.0000e-05\n",
            "Epoch 138/200\n",
            "36/36 [==============================] - 2s 55ms/step - loss: 0.4940 - acc: 0.8174 - val_loss: 0.6677 - val_acc: 0.7553 - lr: 1.0000e-05\n",
            "Epoch 139/200\n",
            "36/36 [==============================] - 2s 55ms/step - loss: 0.4825 - acc: 0.8218 - val_loss: 0.6789 - val_acc: 0.7456 - lr: 1.0000e-05\n",
            "Epoch 140/200\n",
            "36/36 [==============================] - 2s 55ms/step - loss: 0.4722 - acc: 0.8267 - val_loss: 0.6695 - val_acc: 0.7456 - lr: 1.0000e-05\n",
            "Epoch 141/200\n",
            "36/36 [==============================] - 2s 56ms/step - loss: 0.4854 - acc: 0.8165 - val_loss: 0.6684 - val_acc: 0.7456 - lr: 1.0000e-05\n",
            "Epoch 142/200\n",
            "36/36 [==============================] - 2s 56ms/step - loss: 0.4792 - acc: 0.8267 - val_loss: 0.6738 - val_acc: 0.7534 - lr: 1.0000e-05\n",
            "Epoch 143/200\n",
            "36/36 [==============================] - 2s 54ms/step - loss: 0.4876 - acc: 0.8178 - val_loss: 0.6867 - val_acc: 0.7456 - lr: 1.0000e-05\n",
            "Epoch 144/200\n",
            "36/36 [==============================] - 2s 55ms/step - loss: 0.4810 - acc: 0.8231 - val_loss: 0.6867 - val_acc: 0.7379 - lr: 1.0000e-05\n",
            "Epoch 145/200\n",
            "36/36 [==============================] - 2s 54ms/step - loss: 0.4776 - acc: 0.8258 - val_loss: 0.6715 - val_acc: 0.7553 - lr: 1.0000e-05\n",
            "Epoch 146/200\n",
            "36/36 [==============================] - 2s 54ms/step - loss: 0.4855 - acc: 0.8207 - val_loss: 0.6722 - val_acc: 0.7456 - lr: 1.0000e-05\n",
            "Epoch 147/200\n",
            "36/36 [==============================] - 2s 55ms/step - loss: 0.4820 - acc: 0.8289 - val_loss: 0.6738 - val_acc: 0.7495 - lr: 1.0000e-05\n",
            "Epoch 148/200\n",
            "36/36 [==============================] - 2s 55ms/step - loss: 0.4878 - acc: 0.8169 - val_loss: 0.6853 - val_acc: 0.7379 - lr: 1.0000e-05\n",
            "Epoch 149/200\n",
            "36/36 [==============================] - 2s 54ms/step - loss: 0.4871 - acc: 0.8222 - val_loss: 0.6715 - val_acc: 0.7476 - lr: 1.0000e-05\n",
            "Epoch 150/200\n",
            "36/36 [==============================] - 2s 54ms/step - loss: 0.4929 - acc: 0.8151 - val_loss: 0.6733 - val_acc: 0.7417 - lr: 1.0000e-05\n",
            "Epoch 151/200\n",
            "36/36 [==============================] - 2s 54ms/step - loss: 0.4826 - acc: 0.8222 - val_loss: 0.6655 - val_acc: 0.7476 - lr: 1.0000e-05\n",
            "Epoch 152/200\n",
            "36/36 [==============================] - 2s 55ms/step - loss: 0.4752 - acc: 0.8260 - val_loss: 0.6695 - val_acc: 0.7456 - lr: 1.0000e-05\n",
            "Epoch 153/200\n",
            "36/36 [==============================] - 2s 55ms/step - loss: 0.4859 - acc: 0.8209 - val_loss: 0.7024 - val_acc: 0.7282 - lr: 1.0000e-05\n",
            "Epoch 154/200\n",
            "36/36 [==============================] - 2s 56ms/step - loss: 0.4819 - acc: 0.8218 - val_loss: 0.6672 - val_acc: 0.7553 - lr: 1.0000e-05\n",
            "Epoch 155/200\n",
            "36/36 [==============================] - 2s 54ms/step - loss: 0.4892 - acc: 0.8229 - val_loss: 0.7053 - val_acc: 0.7398 - lr: 1.0000e-05\n",
            "Epoch 156/200\n",
            "36/36 [==============================] - 2s 55ms/step - loss: 0.4929 - acc: 0.8207 - val_loss: 0.6703 - val_acc: 0.7573 - lr: 1.0000e-05\n",
            "Epoch 157/200\n",
            "36/36 [==============================] - 2s 54ms/step - loss: 0.4925 - acc: 0.8213 - val_loss: 0.6650 - val_acc: 0.7534 - lr: 1.0000e-05\n",
            "Epoch 158/200\n",
            "36/36 [==============================] - 2s 54ms/step - loss: 0.4833 - acc: 0.8271 - val_loss: 0.6684 - val_acc: 0.7476 - lr: 1.0000e-05\n",
            "Epoch 159/200\n",
            "36/36 [==============================] - 2s 55ms/step - loss: 0.4765 - acc: 0.8271 - val_loss: 0.6762 - val_acc: 0.7476 - lr: 1.0000e-05\n",
            "Epoch 160/200\n",
            "36/36 [==============================] - 2s 55ms/step - loss: 0.4909 - acc: 0.8240 - val_loss: 0.6606 - val_acc: 0.7456 - lr: 1.0000e-05\n",
            "Epoch 161/200\n",
            "36/36 [==============================] - 2s 55ms/step - loss: 0.4810 - acc: 0.8265 - val_loss: 0.6662 - val_acc: 0.7476 - lr: 1.0000e-05\n",
            "Epoch 162/200\n",
            "36/36 [==============================] - 2s 64ms/step - loss: 0.4857 - acc: 0.8227 - val_loss: 0.6919 - val_acc: 0.7340 - lr: 1.0000e-05\n",
            "Epoch 163/200\n",
            "36/36 [==============================] - 2s 56ms/step - loss: 0.4860 - acc: 0.8218 - val_loss: 0.6784 - val_acc: 0.7379 - lr: 1.0000e-05\n",
            "Epoch 164/200\n",
            "36/36 [==============================] - 2s 57ms/step - loss: 0.4802 - acc: 0.8245 - val_loss: 0.6614 - val_acc: 0.7534 - lr: 1.0000e-05\n",
            "Epoch 165/200\n",
            "36/36 [==============================] - 2s 57ms/step - loss: 0.4833 - acc: 0.8262 - val_loss: 0.6818 - val_acc: 0.7417 - lr: 1.0000e-05\n",
            "Epoch 166/200\n",
            "36/36 [==============================] - 2s 58ms/step - loss: 0.4855 - acc: 0.8191 - val_loss: 0.6621 - val_acc: 0.7495 - lr: 1.0000e-05\n",
            "Epoch 167/200\n",
            "36/36 [==============================] - 2s 55ms/step - loss: 0.4753 - acc: 0.8287 - val_loss: 0.6717 - val_acc: 0.7476 - lr: 1.0000e-05\n",
            "Epoch 168/200\n",
            "36/36 [==============================] - 2s 55ms/step - loss: 0.4895 - acc: 0.8182 - val_loss: 0.6649 - val_acc: 0.7456 - lr: 1.0000e-05\n",
            "Epoch 169/200\n",
            "36/36 [==============================] - 2s 55ms/step - loss: 0.4840 - acc: 0.8185 - val_loss: 0.6876 - val_acc: 0.7398 - lr: 1.0000e-05\n",
            "Epoch 170/200\n",
            "36/36 [==============================] - 2s 55ms/step - loss: 0.4919 - acc: 0.8149 - val_loss: 0.6810 - val_acc: 0.7534 - lr: 1.0000e-05\n",
            "Epoch 171/200\n",
            "36/36 [==============================] - 2s 55ms/step - loss: 0.4795 - acc: 0.8249 - val_loss: 0.6816 - val_acc: 0.7612 - lr: 1.0000e-05\n",
            "Epoch 172/200\n",
            "36/36 [==============================] - 2s 55ms/step - loss: 0.4763 - acc: 0.8245 - val_loss: 0.6920 - val_acc: 0.7320 - lr: 1.0000e-05\n",
            "Epoch 173/200\n",
            "36/36 [==============================] - 2s 55ms/step - loss: 0.4827 - acc: 0.8256 - val_loss: 0.6723 - val_acc: 0.7379 - lr: 1.0000e-05\n",
            "Epoch 174/200\n",
            "36/36 [==============================] - 2s 55ms/step - loss: 0.4759 - acc: 0.8313 - val_loss: 0.6688 - val_acc: 0.7515 - lr: 1.0000e-05\n",
            "Epoch 175/200\n",
            "36/36 [==============================] - 2s 55ms/step - loss: 0.4812 - acc: 0.8240 - val_loss: 0.6885 - val_acc: 0.7398 - lr: 1.0000e-05\n",
            "Epoch 176/200\n",
            "36/36 [==============================] - 2s 56ms/step - loss: 0.4858 - acc: 0.8227 - val_loss: 0.6735 - val_acc: 0.7398 - lr: 1.0000e-05\n",
            "Epoch 177/200\n",
            "36/36 [==============================] - 2s 55ms/step - loss: 0.4782 - acc: 0.8242 - val_loss: 0.6963 - val_acc: 0.7320 - lr: 1.0000e-05\n",
            "Epoch 178/200\n",
            "36/36 [==============================] - 2s 56ms/step - loss: 0.4811 - acc: 0.8229 - val_loss: 0.7030 - val_acc: 0.7359 - lr: 1.0000e-05\n",
            "Epoch 179/200\n",
            "36/36 [==============================] - 2s 55ms/step - loss: 0.4763 - acc: 0.8234 - val_loss: 0.6583 - val_acc: 0.7592 - lr: 1.0000e-05\n",
            "Epoch 180/200\n",
            "36/36 [==============================] - 2s 54ms/step - loss: 0.4894 - acc: 0.8180 - val_loss: 0.6797 - val_acc: 0.7476 - lr: 1.0000e-05\n",
            "Epoch 181/200\n",
            "36/36 [==============================] - 2s 55ms/step - loss: 0.4835 - acc: 0.8293 - val_loss: 0.6574 - val_acc: 0.7476 - lr: 1.0000e-05\n",
            "Epoch 182/200\n",
            "36/36 [==============================] - 2s 56ms/step - loss: 0.4778 - acc: 0.8245 - val_loss: 0.6713 - val_acc: 0.7534 - lr: 1.0000e-05\n",
            "Epoch 183/200\n",
            "36/36 [==============================] - 2s 54ms/step - loss: 0.4768 - acc: 0.8240 - val_loss: 0.6639 - val_acc: 0.7476 - lr: 1.0000e-05\n",
            "Epoch 184/200\n",
            "36/36 [==============================] - 2s 56ms/step - loss: 0.4810 - acc: 0.8189 - val_loss: 0.6616 - val_acc: 0.7417 - lr: 1.0000e-05\n",
            "Epoch 185/200\n",
            "36/36 [==============================] - 2s 55ms/step - loss: 0.4750 - acc: 0.8271 - val_loss: 0.6478 - val_acc: 0.7456 - lr: 1.0000e-05\n",
            "Epoch 186/200\n",
            "36/36 [==============================] - 2s 55ms/step - loss: 0.4841 - acc: 0.8196 - val_loss: 0.6644 - val_acc: 0.7592 - lr: 1.0000e-05\n",
            "Epoch 187/200\n",
            "36/36 [==============================] - 2s 55ms/step - loss: 0.4784 - acc: 0.8216 - val_loss: 0.6726 - val_acc: 0.7456 - lr: 1.0000e-05\n",
            "Epoch 188/200\n",
            "36/36 [==============================] - 2s 54ms/step - loss: 0.4790 - acc: 0.8207 - val_loss: 0.6799 - val_acc: 0.7515 - lr: 1.0000e-05\n",
            "Epoch 189/200\n",
            "36/36 [==============================] - 2s 55ms/step - loss: 0.4833 - acc: 0.8191 - val_loss: 0.6680 - val_acc: 0.7553 - lr: 1.0000e-05\n",
            "Epoch 190/200\n",
            "36/36 [==============================] - 2s 57ms/step - loss: 0.4801 - acc: 0.8236 - val_loss: 0.6744 - val_acc: 0.7417 - lr: 1.0000e-05\n",
            "Epoch 191/200\n",
            "36/36 [==============================] - 2s 55ms/step - loss: 0.4816 - acc: 0.8225 - val_loss: 0.6855 - val_acc: 0.7417 - lr: 1.0000e-05\n",
            "Epoch 192/200\n",
            "36/36 [==============================] - 2s 54ms/step - loss: 0.4803 - acc: 0.8233 - val_loss: 0.6606 - val_acc: 0.7592 - lr: 1.0000e-05\n",
            "Epoch 193/200\n",
            "36/36 [==============================] - 2s 56ms/step - loss: 0.4806 - acc: 0.8249 - val_loss: 0.6801 - val_acc: 0.7456 - lr: 1.0000e-05\n",
            "Epoch 194/200\n",
            "36/36 [==============================] - 2s 55ms/step - loss: 0.4805 - acc: 0.8216 - val_loss: 0.6659 - val_acc: 0.7437 - lr: 1.0000e-05\n",
            "Epoch 195/200\n",
            "36/36 [==============================] - 2s 55ms/step - loss: 0.4793 - acc: 0.8258 - val_loss: 0.6743 - val_acc: 0.7398 - lr: 1.0000e-05\n",
            "Epoch 196/200\n",
            "36/36 [==============================] - 2s 56ms/step - loss: 0.4783 - acc: 0.8256 - val_loss: 0.6679 - val_acc: 0.7476 - lr: 1.0000e-05\n",
            "Epoch 197/200\n",
            "36/36 [==============================] - 2s 55ms/step - loss: 0.4817 - acc: 0.8176 - val_loss: 0.6756 - val_acc: 0.7476 - lr: 1.0000e-05\n",
            "Epoch 198/200\n",
            "36/36 [==============================] - 2s 55ms/step - loss: 0.4771 - acc: 0.8260 - val_loss: 0.6634 - val_acc: 0.7553 - lr: 1.0000e-05\n",
            "Epoch 199/200\n",
            "36/36 [==============================] - 2s 54ms/step - loss: 0.4871 - acc: 0.8167 - val_loss: 0.6637 - val_acc: 0.7495 - lr: 1.0000e-05\n",
            "Epoch 200/200\n",
            "36/36 [==============================] - 2s 54ms/step - loss: 0.4768 - acc: 0.8267 - val_loss: 0.6784 - val_acc: 0.7553 - lr: 1.0000e-05\n"
          ],
          "name": "stdout"
        }
      ]
    },
    {
      "cell_type": "code",
      "metadata": {
        "id": "MNGXxJTQq-UD",
        "colab_type": "code",
        "colab": {}
      },
      "source": [
        ""
      ],
      "execution_count": 0,
      "outputs": []
    },
    {
      "cell_type": "code",
      "metadata": {
        "id": "jAVQ_YwYpeMN",
        "colab_type": "code",
        "colab": {
          "base_uri": "https://localhost:8080/",
          "height": 295
        },
        "outputId": "e1f1262b-9935-4719-b24c-64b870b9013d"
      },
      "source": [
        "from matplotlib import  pyplot\n",
        "\n",
        "pyplot.plot(hist.history[\"acc\"], label='train')\n",
        "pyplot.plot(hist.history['val_acc'], label='test')\n",
        "pyplot.title('model accuracy')\n",
        "pyplot.ylabel('accuracy')\n",
        "pyplot.xlabel('epoch')\n",
        "pyplot.legend(['train', 'val'], loc='upper left')\n",
        "pyplot.show()"
      ],
      "execution_count": 63,
      "outputs": [
        {
          "output_type": "display_data",
          "data": {
            "image/png": "[encoded data removed]",
            "text/plain": [
              "<Figure size 432x288 with 1 Axes>"
            ]
          },
          "metadata": {
            "tags": [],
            "needs_background": "light"
          }
        }
      ]
    },
    {
      "cell_type": "code",
      "metadata": {
        "id": "y-QerZ4RN91R",
        "colab_type": "code",
        "outputId": "e8f8a4ad-c805-4994-f780-6c12c6d0fdef",
        "colab": {
          "base_uri": "https://localhost:8080/",
          "height": 295
        }
      },
      "source": [
        "from matplotlib import  pyplot\n",
        "\n",
        "pyplot.plot(hist.history[\"acc\"], label='train')\n",
        "pyplot.plot(hist.history['val_acc'], label='test')\n",
        "pyplot.title('model accuracy')\n",
        "pyplot.ylabel('accuracy')\n",
        "pyplot.xlabel('epoch')\n",
        "pyplot.legend(['train', 'val'], loc='upper left')\n",
        "pyplot.show()"
      ],
      "execution_count": 64,
      "outputs": [
        {
          "output_type": "display_data",
          "data": {
            "image/png": "[encoded data removed]",
            "text/plain": [
              "<Figure size 432x288 with 1 Axes>"
            ]
          },
          "metadata": {
            "tags": [],
            "needs_background": "light"
          }
        }
      ]
    },
    {
      "cell_type": "code",
      "metadata": {
        "id": "xeg6MBf-GSgC",
        "colab_type": "code",
        "colab": {}
      },
      "source": [
        "test_err = [1.0-x for x in hist.history['val_acc']]"
      ],
      "execution_count": 0,
      "outputs": []
    },
    {
      "cell_type": "code",
      "metadata": {
        "id": "KC6DagsghRg8",
        "colab_type": "code",
        "outputId": "d254eac5-26de-41f7-ffd9-98abd03a2857",
        "colab": {
          "base_uri": "https://localhost:8080/",
          "height": 295
        }
      },
      "source": [
        "# summarize history for loss\n",
        "pyplot.plot(hist.history['loss'])\n",
        "pyplot.plot(hist.history['val_loss'])\n",
        "pyplot.title('model loss')\n",
        "pyplot.ylabel('loss')\n",
        "pyplot.xlabel('epoch')\n",
        "pyplot.legend(['train', 'test'], loc='upper left')\n",
        "pyplot.show()\n"
      ],
      "execution_count": 65,
      "outputs": [
        {
          "output_type": "display_data",
          "data": {
            "image/png": "[encoded data removed]",
            "text/plain": [
              "<Figure size 432x288 with 1 Axes>"
            ]
          },
          "metadata": {
            "tags": [],
            "needs_background": "light"
          }
        }
      ]
    },
    {
      "cell_type": "code",
      "metadata": {
        "id": "RgiKT6i5GiJ9",
        "colab_type": "code",
        "outputId": "28ac9ee5-c613-42cc-c4e5-1d84feacb597",
        "colab": {
          "base_uri": "https://localhost:8080/",
          "height": 265
        }
      },
      "source": [
        "pyplot.plot(test_err, label='test')\n",
        "pyplot.savefig(\"deneme_err.png\")"
      ],
      "execution_count": 68,
      "outputs": [
        {
          "output_type": "display_data",
          "data": {
            "image/png": "[encoded data removed]",
            "text/plain": [
              "<Figure size 432x288 with 1 Axes>"
            ]
          },
          "metadata": {
            "tags": [],
            "needs_background": "light"
          }
        }
      ]
    },
    {
      "cell_type": "code",
      "metadata": {
        "id": "l4-IJ9Z-dQKF",
        "colab_type": "code",
        "colab": {}
      },
      "source": [
        "import tensorflow as tf\n",
        "parseval_16_2.save(\"parseval_OC.h5\")"
      ],
      "execution_count": 0,
      "outputs": []
    },
    {
      "cell_type": "code",
      "metadata": {
        "id": "MqddlwbmEV9s",
        "colab_type": "code",
        "colab": {}
      },
      "source": [
        "y_pred = parseval_16_2.predict(X_test)"
      ],
      "execution_count": 0,
      "outputs": []
    },
    {
      "cell_type": "code",
      "metadata": {
        "id": "C9Ysop6NFDbs",
        "colab_type": "code",
        "outputId": "c0e98aa0-e6c0-4ae8-d1b3-48df5305639c",
        "colab": {
          "base_uri": "https://localhost:8080/",
          "height": 51
        }
      },
      "source": [
        "parseval_16_2.evaluate(X_test,y_test)"
      ],
      "execution_count": 69,
      "outputs": [
        {
          "output_type": "stream",
          "text": [
            "18/18 [==============================] - 0s 5ms/step - loss: 0.6859 - acc: 0.7627\n"
          ],
          "name": "stdout"
        },
        {
          "output_type": "execute_result",
          "data": {
            "text/plain": [
              "[0.6859259009361267, 0.7626526951789856]"
            ]
          },
          "metadata": {
            "tags": []
          },
          "execution_count": 69
        }
      ]
    },
    {
      "cell_type": "code",
      "metadata": {
        "id": "THYCAlBW15Kg",
        "colab_type": "code",
        "outputId": "3b854823-96b0-4ef9-a4e1-dfd835bd62f4",
        "colab": {
          "base_uri": "https://localhost:8080/",
          "height": 734
        }
      },
      "source": [
        "!pip install -q tensorflow==2.0.0b1\n",
        "# Install bleeding edge version of cleverhans\n",
        "!pip install git+https://github.com/tensorflow/cleverhans.git#egg=cleverhans\n",
        "\n",
        "import cleverhans\n",
        "import tensorflow as tf\n",
        "import numpy as np\n",
        "import matplotlib.pyplot as plt\n",
        "\n",
        "print(\"\\nTensorflow Version: \" + tf.__version__)\n",
        "print(\"Cleverhans Version: \" + cleverhans.__version__)\n",
        "print(\"GPU Available: \", tf.test.is_gpu_available())"
      ],
      "execution_count": 32,
      "outputs": [
        {
          "output_type": "stream",
          "text": [
            "\u001b[K     |████████████████████████████████| 87.9MB 51kB/s \n",
            "\u001b[K     |████████████████████████████████| 3.1MB 38.6MB/s \n",
            "\u001b[K     |████████████████████████████████| 501kB 35.1MB/s \n",
            "\u001b[?25hCollecting cleverhans\n",
            "  Cloning https://github.com/tensorflow/cleverhans.git to /tmp/pip-install-uphqspck/cleverhans\n",
            "  Running command git clone -q https://github.com/tensorflow/cleverhans.git /tmp/pip-install-uphqspck/cleverhans\n",
            "Collecting nose\n",
            "\u001b[?25l  Downloading https://files.pythonhosted.org/packages/15/d8/dd071918c040f50fa1cf80da16423af51ff8ce4a0f2399b7bf8de45ac3d9/nose-1.3.7-py3-none-any.whl (154kB)\n",
            "\u001b[K     |████████████████████████████████| 163kB 2.7MB/s \n",
            "\u001b[?25hCollecting pycodestyle\n",
            "\u001b[?25l  Downloading https://files.pythonhosted.org/packages/10/5b/88879fb861ab79aef45c7e199cae3ef7af487b5603dcb363517a50602dd7/pycodestyle-2.6.0-py2.py3-none-any.whl (41kB)\n",
            "\u001b[K     |████████████████████████████████| 51kB 5.8MB/s \n",
            "\u001b[?25hRequirement already satisfied: scipy in /usr/local/lib/python3.6/dist-packages (from cleverhans) (1.4.1)\n",
            "Requirement already satisfied: matplotlib in /usr/local/lib/python3.6/dist-packages (from cleverhans) (3.2.1)\n",
            "Collecting mnist~=0.2\n",
            "  Downloading https://files.pythonhosted.org/packages/c6/c4/5db3bfe009f8d71f1d532bbadbd0ec203764bba3a469e4703a889db8e5e0/mnist-0.2.2-py2.py3-none-any.whl\n",
            "Requirement already satisfied: numpy in /usr/local/lib/python3.6/dist-packages (from cleverhans) (1.18.5)\n",
            "Requirement already satisfied: tensorflow-probability in /usr/local/lib/python3.6/dist-packages (from cleverhans) (0.10.0)\n",
            "Requirement already satisfied: joblib in /usr/local/lib/python3.6/dist-packages (from cleverhans) (0.15.1)\n",
            "Requirement already satisfied: kiwisolver>=1.0.1 in /usr/local/lib/python3.6/dist-packages (from matplotlib->cleverhans) (1.2.0)\n",
            "Requirement already satisfied: pyparsing!=2.0.4,!=2.1.2,!=2.1.6,>=2.0.1 in /usr/local/lib/python3.6/dist-packages (from matplotlib->cleverhans) (2.4.7)\n",
            "Requirement already satisfied: cycler>=0.10 in /usr/local/lib/python3.6/dist-packages (from matplotlib->cleverhans) (0.10.0)\n",
            "Requirement already satisfied: python-dateutil>=2.1 in /usr/local/lib/python3.6/dist-packages (from matplotlib->cleverhans) (2.8.1)\n",
            "Requirement already satisfied: six>=1.10.0 in /usr/local/lib/python3.6/dist-packages (from tensorflow-probability->cleverhans) (1.12.0)\n",
            "Requirement already satisfied: gast>=0.3.2 in /usr/local/lib/python3.6/dist-packages (from tensorflow-probability->cleverhans) (0.3.3)\n",
            "Requirement already satisfied: cloudpickle>=1.2.2 in /usr/local/lib/python3.6/dist-packages (from tensorflow-probability->cleverhans) (1.3.0)\n",
            "Requirement already satisfied: decorator in /usr/local/lib/python3.6/dist-packages (from tensorflow-probability->cleverhans) (4.4.2)\n",
            "Building wheels for collected packages: cleverhans\n",
            "  Building wheel for cleverhans (setup.py) ... \u001b[?25l\u001b[?25hdone\n",
            "  Created wheel for cleverhans: filename=cleverhans-3.0.1-cp36-none-any.whl size=262572 sha256=28d9ef749b51a4a286478e20682ea36870bd456bd6c234a9d92111df90e98e42\n",
            "  Stored in directory: /tmp/pip-ephem-wheel-cache-golmkpvf/wheels/6e/59/ec/723a6f654aaf62c8c40f0f0850fdf71a4948598697f56c3bfa\n",
            "Successfully built cleverhans\n",
            "Installing collected packages: nose, pycodestyle, mnist, cleverhans\n",
            "Successfully installed cleverhans-3.0.1 mnist-0.2.2 nose-1.3.7 pycodestyle-2.6.0\n",
            "\n",
            "Tensorflow Version: 2.2.0\n",
            "Cleverhans Version: 3.0.1-fc7b7c7ec903258e0e3fb88503fa629f\n",
            "WARNING:tensorflow:From <ipython-input-32-67a2c783edbc>:12: is_gpu_available (from tensorflow.python.framework.test_util) is deprecated and will be removed in a future version.\n",
            "Instructions for updating:\n",
            "Use `tf.config.list_physical_devices('GPU')` instead.\n",
            "GPU Available:  True\n"
          ],
          "name": "stdout"
        }
      ]
    },
    {
      "cell_type": "code",
      "metadata": {
        "id": "ZNev4Y9U2sFQ",
        "colab_type": "code",
        "colab": {}
      },
      "source": [
        "from cleverhans.future.tf2.attacks import fast_gradient_method\n",
        "\n",
        "#The attack requires the model to ouput the logits\n",
        "logits_model = tf.keras.Model(parseval_16_2.input,parseval_16_2.layers[-1].output)"
      ],
      "execution_count": 0,
      "outputs": []
    },
    {
      "cell_type": "markdown",
      "metadata": {
        "id": "TKoVsxZDOxyL",
        "colab_type": "text"
      },
      "source": [
        "**Non-Adversarial Training**"
      ]
    },
    {
      "cell_type": "code",
      "metadata": {
        "id": "d78MYsOGOw-_",
        "colab_type": "code",
        "colab": {}
      },
      "source": [
        "X_adv = []\n",
        "epsilon_list = [0.003]\n",
        "for j in range(len(epsilon_list)):\n",
        "  epsilon = epsilon_list[j]\n",
        "  for i in range(len(X_test)):\n",
        "    random_index = i\n",
        "    original_image = X_test[random_index]\n",
        "    original_image = tf.convert_to_tensor(original_image.reshape((1,32,32))) #The .reshape just gives it the proper form to input into the model, a batch of 1 a.k.a a tensor\n",
        "    original_label = y_test[random_index]\n",
        "    original_label = np.reshape(np.argmax(original_label), (1,)).astype('int64')\n",
        "    adv_example_targeted_label = fast_gradient_method(logits_model, original_image, epsilon, np.inf,y=original_label, targeted=False)\n",
        "    X_adv.append(np.array(adv_example_targeted_label).reshape(32,32,1))"
      ],
      "execution_count": 0,
      "outputs": []
    },
    {
      "cell_type": "code",
      "metadata": {
        "id": "ywDcf7XYcxBq",
        "colab_type": "code",
        "outputId": "f8287b0b-ca00-4321-9037-e26c5da06da0",
        "colab": {
          "base_uri": "https://localhost:8080/",
          "height": 51
        }
      },
      "source": [
        "  X_adv = np.array(X_adv)\n",
        "  print(\"epsilon: {} and test evaluation : {}\".format(epsilon,parseval_16_2.evaluate(X_adv,y_test)))"
      ],
      "execution_count": 91,
      "outputs": [
        {
          "output_type": "stream",
          "text": [
            "18/18 [==============================] - 0s 5ms/step - loss: 0.8260 - acc: 0.7086\n",
            "epsilon: 0.003 and test evaluation : [0.8259947896003723, 0.7085514664649963]\n"
          ],
          "name": "stdout"
        }
      ]
    },
    {
      "cell_type": "code",
      "metadata": {
        "id": "GR_tV5D7ZKuB",
        "colab_type": "code",
        "outputId": "e288d37b-6634-4b85-edf7-a2f8ddfe50b5",
        "colab": {
          "base_uri": "https://localhost:8080/",
          "height": 34
        }
      },
      "source": [
        "20*np.log10(np.linalg.norm(X_test)/np.linalg.norm(X_test-X_adv))"
      ],
      "execution_count": 92,
      "outputs": [
        {
          "output_type": "execute_result",
          "data": {
            "text/plain": [
              "50.228538513183594"
            ]
          },
          "metadata": {
            "tags": []
          },
          "execution_count": 92
        }
      ]
    },
    {
      "cell_type": "code",
      "metadata": {
        "id": "K9IhlHJpcxrC",
        "colab_type": "code",
        "outputId": "32605a32-9d63-4ff2-b677-25746b091c45",
        "colab": {
          "base_uri": "https://localhost:8080/",
          "height": 51
        }
      },
      "source": [
        "  X_adv = np.array(X_adv)\n",
        "  print(\"epsilon: {} and test evalution : {}\".format(epsilon,parseval_16_2.evaluate(X_adv,y_test)))"
      ],
      "execution_count": 82,
      "outputs": [
        {
          "output_type": "stream",
          "text": [
            "18/18 [==============================] - 0s 5ms/step - loss: 0.9302 - acc: 0.6545\n",
            "epsilon: 0.005 and test evalution : [0.9301941990852356, 0.6544502377510071]\n"
          ],
          "name": "stdout"
        }
      ]
    },
    {
      "cell_type": "code",
      "metadata": {
        "id": "psJ3UdoJbxYh",
        "colab_type": "code",
        "outputId": "052abffe-f191-4794-fa02-223af82125f9",
        "colab": {
          "base_uri": "https://localhost:8080/",
          "height": 34
        }
      },
      "source": [
        "20*np.log10(np.linalg.norm(X_test)/np.linalg.norm(X_test-X_adv))"
      ],
      "execution_count": 83,
      "outputs": [
        {
          "output_type": "execute_result",
          "data": {
            "text/plain": [
              "45.79124450683594"
            ]
          },
          "metadata": {
            "tags": []
          },
          "execution_count": 83
        }
      ]
    },
    {
      "cell_type": "code",
      "metadata": {
        "id": "CByMGpWJcveZ",
        "colab_type": "code",
        "outputId": "9c973712-fac0-4af9-80f8-636967310fa4",
        "colab": {
          "base_uri": "https://localhost:8080/",
          "height": 51
        }
      },
      "source": [
        "  X_adv = np.array(X_adv)\n",
        "  print(\"epsilon: {} and test evalution : {}\".format(epsilon,parseval_16_2.evaluate(X_adv,y_test)))"
      ],
      "execution_count": 85,
      "outputs": [
        {
          "output_type": "stream",
          "text": [
            "18/18 [==============================] - 0s 5ms/step - loss: 1.2192 - acc: 0.5759\n",
            "epsilon: 0.01 and test evalution : [1.2191613912582397, 0.5759162306785583]\n"
          ],
          "name": "stdout"
        }
      ]
    },
    {
      "cell_type": "code",
      "metadata": {
        "id": "RSUKv1wcb8IZ",
        "colab_type": "code",
        "outputId": "0c291a24-85cc-4b50-ac7c-e9115d30f769",
        "colab": {
          "base_uri": "https://localhost:8080/",
          "height": 34
        }
      },
      "source": [
        "20*np.log10(np.linalg.norm(X_test)/np.linalg.norm(X_test-X_adv))"
      ],
      "execution_count": 86,
      "outputs": [
        {
          "output_type": "execute_result",
          "data": {
            "text/plain": [
              "39.77065086364746"
            ]
          },
          "metadata": {
            "tags": []
          },
          "execution_count": 86
        }
      ]
    },
    {
      "cell_type": "code",
      "metadata": {
        "id": "lsY0rp3TcYX6",
        "colab_type": "code",
        "outputId": "6ad4e09f-7a6c-415c-ab06-d43430a8760f",
        "colab": {
          "base_uri": "https://localhost:8080/",
          "height": 51
        }
      },
      "source": [
        "  X_adv = np.array(X_adv)\n",
        "  print(\"epsilon: {} and test evalution : {}\".format(epsilon,parseval_16_2.evaluate(X_adv,y_test)))"
      ],
      "execution_count": 88,
      "outputs": [
        {
          "output_type": "stream",
          "text": [
            "18/18 [==============================] - 0s 5ms/step - loss: 1.8425 - acc: 0.4398\n",
            "epsilon: 0.02 and test evalution : [1.842490553855896, 0.4397905766963959]\n"
          ],
          "name": "stdout"
        }
      ]
    },
    {
      "cell_type": "code",
      "metadata": {
        "id": "n9bX1M5ncZwJ",
        "colab_type": "code",
        "outputId": "08f25a40-9160-43a5-9386-e35c0ada3c61",
        "colab": {
          "base_uri": "https://localhost:8080/",
          "height": 34
        }
      },
      "source": [
        "20*np.log10(np.linalg.norm(X_test)/np.linalg.norm(X_test-X_adv))"
      ],
      "execution_count": 89,
      "outputs": [
        {
          "output_type": "execute_result",
          "data": {
            "text/plain": [
              "33.75005006790161"
            ]
          },
          "metadata": {
            "tags": []
          },
          "execution_count": 89
        }
      ]
    }
  ]
}