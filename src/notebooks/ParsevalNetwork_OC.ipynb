{
  "nbformat": 4,
  "nbformat_minor": 0,
  "metadata": {
    "kernelspec": {
      "display_name": "Python 3",
      "language": "python",
      "name": "python3"
    },
    "language_info": {
      "codemirror_mode": {
        "name": "ipython",
        "version": 3
      },
      "file_extension": ".py",
      "mimetype": "text/x-python",
      "name": "python",
      "nbconvert_exporter": "python",
      "pygments_lexer": "ipython3",
      "version": "3.7.4"
    },
    "colab": {
      "name": "ParsevalNetwork.ipynb",
      "provenance": [],
      "toc_visible": true
    },
    "accelerator": "GPU"
  },
  "cells": [
    {
      "cell_type": "markdown",
      "metadata": {
        "id": "_idgCcuZdv0S",
        "colab_type": "text"
      },
      "source": [
        "# **Parseval Network**"
      ]
    },
    {
      "cell_type": "markdown",
      "metadata": {
        "id": "jO1kBOuDd2_r",
        "colab_type": "text"
      },
      "source": [
        "# **Data Preparation**"
      ]
    },
    {
      "cell_type": "code",
      "metadata": {
        "id": "esXS1STy_O_m",
        "colab_type": "code",
        "colab": {}
      },
      "source": [
        "from sklearn.model_selection import train_test_split\n",
        "import gzip\n",
        "import pickle\n",
        "import numpy as np\n",
        "from tensorflow.keras.utils import to_categorical"
      ],
      "execution_count": 0,
      "outputs": []
    },
    {
      "cell_type": "code",
      "metadata": {
        "id": "11nX1rD7_O_t",
        "colab_type": "code",
        "outputId": "ff1873ec-cbaa-42e3-b509-9f3356f7bd1a",
        "colab": {
          "base_uri": "https://localhost:8080/",
          "height": 34
        }
      },
      "source": [
        "def read_data():\n",
        "    with open(\"data.pz\", 'rb') as file_:\n",
        "        with gzip.GzipFile(fileobj=file_) as gzf:\n",
        "            data = pickle.load(gzf, encoding='latin1', fix_imports=True)\n",
        "    return data\n",
        "data = read_data()\n",
        "import cv2\n",
        "new_data_X = []\n",
        "Y_data = []\n",
        "for row in data:\n",
        "    new_data_X.append(cv2.resize(row['crop'], (32,32)))\n",
        "    Y_data.append(row['label'])\n",
        "new_data_X = np.array(new_data_X)\n",
        "new_data_X.shape"
      ],
      "execution_count": 27,
      "outputs": [
        {
          "output_type": "execute_result",
          "data": {
            "text/plain": [
              "(5722, 32, 32)"
            ]
          },
          "metadata": {
            "tags": []
          },
          "execution_count": 27
        }
      ]
    },
    {
      "cell_type": "code",
      "metadata": {
        "id": "wuUWZk7KeFck",
        "colab_type": "code",
        "colab": {
          "base_uri": "https://localhost:8080/",
          "height": 34
        },
        "outputId": "d8f47b85-c1ab-4f25-82b2-d7a1b36530ef"
      },
      "source": [
        "X = new_data_X.astype('float32')\n",
        "X.shape"
      ],
      "execution_count": 28,
      "outputs": [
        {
          "output_type": "execute_result",
          "data": {
            "text/plain": [
              "(5722, 32, 32)"
            ]
          },
          "metadata": {
            "tags": []
          },
          "execution_count": 28
        }
      ]
    },
    {
      "cell_type": "code",
      "metadata": {
        "id": "6T0HkiPfeH1U",
        "colab_type": "code",
        "colab": {}
      },
      "source": [
        "img_rows, img_cols = X[0].shape\n",
        "\n",
        "# transform data set\n",
        "if K.image_data_format() == 'channels_first':\n",
        "    X = X.reshape(X.shape[0], 1, img_rows, img_cols)\n",
        "    input_shape = (1, img_rows, img_cols)\n",
        "else:\n",
        "    X = X.reshape(X.shape[0], img_rows, img_cols, 1)\n",
        "    input_shape = (img_rows, img_cols, 1)"
      ],
      "execution_count": 0,
      "outputs": []
    },
    {
      "cell_type": "code",
      "metadata": {
        "id": "crqYw_LJeJif",
        "colab_type": "code",
        "colab": {}
      },
      "source": [
        "import pandas as pd\n",
        "import numpy as np\n",
        "from sklearn.preprocessing import LabelEncoder\n",
        "\n",
        "labelencoder = LabelEncoder()\n",
        "y_df = pd.DataFrame(Y_data, columns=['Label'])\n",
        "y_df['Encoded'] = labelencoder.fit_transform(y_df['Label'])"
      ],
      "execution_count": 0,
      "outputs": []
    },
    {
      "cell_type": "code",
      "metadata": {
        "id": "BuCH_ylOeLLe",
        "colab_type": "code",
        "colab": {
          "base_uri": "https://localhost:8080/",
          "height": 104
        },
        "outputId": "a8630eb4-6c6f-4858-a0f3-a97389d8a71c"
      },
      "source": [
        "y_df['Label'].value_counts()"
      ],
      "execution_count": 31,
      "outputs": [
        {
          "output_type": "execute_result",
          "data": {
            "text/plain": [
              "open             1500\n",
              "closed           1500\n",
              "partiallyOpen    1376\n",
              "notVisible       1346\n",
              "Name: Label, dtype: int64"
            ]
          },
          "metadata": {
            "tags": []
          },
          "execution_count": 31
        }
      ]
    },
    {
      "cell_type": "code",
      "metadata": {
        "id": "vJGV2GZWeN-d",
        "colab_type": "code",
        "colab": {
          "base_uri": "https://localhost:8080/",
          "height": 104
        },
        "outputId": "afdd94ea-7f5c-489b-fb1b-91fab0fe4742"
      },
      "source": [
        "y_df['Encoded'].value_counts()\n"
      ],
      "execution_count": 32,
      "outputs": [
        {
          "output_type": "execute_result",
          "data": {
            "text/plain": [
              "2    1500\n",
              "0    1500\n",
              "3    1376\n",
              "1    1346\n",
              "Name: Encoded, dtype: int64"
            ]
          },
          "metadata": {
            "tags": []
          },
          "execution_count": 32
        }
      ]
    },
    {
      "cell_type": "code",
      "metadata": {
        "id": "GBVaEoQBeP7Q",
        "colab_type": "code",
        "colab": {}
      },
      "source": [
        "from tensorflow.keras.utils import to_categorical\n",
        "\n",
        "y_cat = to_categorical(y_df['Encoded'])"
      ],
      "execution_count": 0,
      "outputs": []
    },
    {
      "cell_type": "code",
      "metadata": {
        "id": "K5Q7NqR4eYQy",
        "colab_type": "code",
        "colab": {}
      },
      "source": [
        "X_train, X_test, y_train, y_test = train_test_split(X, y_cat, test_size = 0.1)\n",
        "X_train, X_val, y_train, y_val = train_test_split(X_train, y_train, test_size = 0.1)"
      ],
      "execution_count": 0,
      "outputs": []
    },
    {
      "cell_type": "code",
      "metadata": {
        "id": "1lZlUNCXeTVK",
        "colab_type": "code",
        "colab": {}
      },
      "source": [
        ""
      ],
      "execution_count": 0,
      "outputs": []
    },
    {
      "cell_type": "markdown",
      "metadata": {
        "id": "BTmOEDcMtSQp",
        "colab_type": "text"
      },
      "source": [
        "# Othogonal Constraint"
      ]
    },
    {
      "cell_type": "code",
      "metadata": {
        "id": "6S2jnj2otWlg",
        "colab_type": "code",
        "colab": {}
      },
      "source": [
        "from tensorflow.python.keras.constraints import Constraint\n",
        "from tensorflow.python.ops import math_ops, array_ops\n",
        "\n",
        "class TightFrame(Constraint):\n",
        "\n",
        "\n",
        "    def __init__(self, scale, num_passes=1):\n",
        "        self.scale = scale\n",
        "\n",
        "        if num_passes < 1:\n",
        "            raise ValueError(\"Number of passes cannot be non-positive! (got {})\".format(num_passes))\n",
        "        self.num_passes = num_passes\n",
        "\n",
        "\n",
        "    def __call__(self, w):\n",
        "        transpose_channels = (len(w.shape) == 4)\n",
        "\n",
        "        # Move channels_num to the front in order to make the dimensions correct for matmul\n",
        "        if transpose_channels:\n",
        "            w_reordered = array_ops.reshape(w, (-1, w.shape[0]))\n",
        "\n",
        "        else:\n",
        "            w_reordered = w\n",
        "\n",
        "        last = w_reordered\n",
        "        for i in range(self.num_passes):\n",
        "            temp1 = math_ops.matmul(last, last, transpose_a=True)\n",
        "            temp2 = (1 + self.scale) * w_reordered - self.scale * math_ops.matmul(w_reordered, temp1)\n",
        "\n",
        "            last = temp2\n",
        "\n",
        "        # Move channels_num to the back again\n",
        "        if transpose_channels:\n",
        "            return array_ops.reshape(last, w.shape)\n",
        "        else:\n",
        "            return last\n",
        "\n",
        "\n",
        "    def get_config(self):\n",
        "        return {'scale': self.scale, 'num_passes': self.num_passes}\n",
        "\n",
        "\n",
        "# Alias\n",
        "tight_frame = TightFrame"
      ],
      "execution_count": 0,
      "outputs": []
    },
    {
      "cell_type": "code",
      "metadata": {
        "id": "G4VciYzctsSY",
        "colab_type": "code",
        "colab": {}
      },
      "source": [
        "from tensorflow.keras.models import Model\n",
        "from tensorflow.keras.layers import Input, Add, Activation, Dropout, Flatten, Dense\n",
        "from tensorflow.keras.layers import Convolution2D, MaxPooling2D, AveragePooling2D\n",
        "from tensorflow.keras.layers import BatchNormalization\n",
        "from tensorflow.keras.regularizers import l2\n",
        "from tensorflow.keras import backend as K\n",
        "import warnings\n",
        "from tensorflow.keras.utils import to_categorical\n",
        "warnings.filterwarnings(\"ignore\")\n",
        "weight_decay = 0.0005\n"
      ],
      "execution_count": 0,
      "outputs": []
    },
    {
      "cell_type": "markdown",
      "metadata": {
        "id": "v3g_vzsy_ndF",
        "colab_type": "text"
      },
      "source": [
        "**Parseval Network**"
      ]
    },
    {
      "cell_type": "code",
      "metadata": {
        "id": "WN76FYUZ_3YA",
        "colab_type": "code",
        "outputId": "a55170d7-108e-4252-91ec-4790ed61bca7",
        "colab": {
          "base_uri": "https://localhost:8080/",
          "height": 69
        }
      },
      "source": [
        "\n",
        "\n",
        "def initial_conv(input):\n",
        "  \n",
        "    x = Convolution2D(16, (3, 3), padding='same', kernel_initializer='orthogonal', kernel_constraint= tight_frame(0.0001),\n",
        "                      kernel_regularizer=l2(weight_decay),\n",
        "                      use_bias=False)(input)\n",
        "\n",
        "    channel_axis = 1 if K.image_data_format() == \"channels_first\" else -1\n",
        "\n",
        "    x = BatchNormalization(axis=channel_axis, momentum=0.1, epsilon=1e-5, gamma_initializer='uniform')(x)\n",
        "    x = Activation('relu')(x)\n",
        "    return x\n",
        "\n",
        "\n",
        "def expand_conv(init, base, k, strides=(1, 1)):\n",
        "    x = Convolution2D(base * k, (3, 3), padding='same', strides=strides, kernel_initializer='Orthogonal', kernel_constraint= tight_frame(0.0001),\n",
        "                      kernel_regularizer=l2(weight_decay),\n",
        "                      use_bias=False)(init)\n",
        "\n",
        "    channel_axis = 1 if K.image_data_format() == \"channels_first\" else -1\n",
        "\n",
        "    x = BatchNormalization(axis=channel_axis, momentum=0.1, epsilon=1e-5, gamma_initializer='uniform')(x)\n",
        "    x = Activation('relu')(x)\n",
        "\n",
        "    x = Convolution2D(base * k, (3, 3), padding='same', kernel_initializer='Orthogonal',\n",
        "                      kernel_constraint= tight_frame(0.0001),\n",
        "                      kernel_regularizer=l2(weight_decay),\n",
        "                      use_bias=False)(x)\n",
        "\n",
        "    skip = Convolution2D(base * k, (1, 1), padding='same', strides=strides, kernel_initializer='Orthogonal',\n",
        "                      kernel_constraint= tight_frame(0.0001),\n",
        "                      kernel_regularizer=l2(weight_decay),\n",
        "                      use_bias=False)(init)\n",
        "\n",
        "    m = Add()([x, skip])\n",
        "\n",
        "    return m\n",
        "\n",
        "\n",
        "def conv1_block(input, k=1, dropout=0.0):\n",
        "    init = input\n",
        "\n",
        "    channel_axis = 1 if K.image_data_format() == \"channels_first\" else -1\n",
        "\n",
        "    x = BatchNormalization(axis=channel_axis, momentum=0.1, epsilon=1e-5, gamma_initializer='uniform')(input)\n",
        "    x = Activation('relu')(x)\n",
        "    x = Convolution2D(16 * k, (3, 3), padding='same', kernel_initializer='Orthogonal',\n",
        "                      kernel_constraint= tight_frame(0.0001),\n",
        "                      kernel_regularizer=l2(weight_decay),\n",
        "                      use_bias=False)(x)\n",
        "\n",
        "    if dropout > 0.0: x = Dropout(dropout)(x)\n",
        "\n",
        "    x = BatchNormalization(axis=channel_axis, momentum=0.1, epsilon=1e-5, gamma_initializer='uniform')(x)\n",
        "    x = Activation('relu')(x)\n",
        "    x = Convolution2D(16 * k, (3, 3), padding='same', kernel_initializer='Orthogonal',\n",
        "                      kernel_constraint= tight_frame(0.0001),\n",
        "                      kernel_regularizer=l2(weight_decay),\n",
        "                      use_bias=False)(x)\n",
        "\n",
        "    m = Add()([init, x])\n",
        "    return m\n",
        "\n",
        "def conv2_block(input, k=1, dropout=0.0):\n",
        "    init = input\n",
        "\n",
        "    channel_axis = 1 if K.image_data_format() == \"channels_first\" else -1\n",
        "    print(\"conv2:channel:  {}\".format(channel_axis))\n",
        "    x = BatchNormalization(axis=channel_axis, momentum=0.1, epsilon=1e-5, gamma_initializer='uniform')(input)\n",
        "    x = Activation('relu')(x)\n",
        "    x = Convolution2D(32 * k, (3, 3), padding='same', kernel_initializer='Orthogonal',\n",
        "                      kernel_constraint= tight_frame(0.0001),\n",
        "                      kernel_regularizer=l2(weight_decay),\n",
        "                      use_bias=False)(x)\n",
        "\n",
        "    if dropout > 0.0: x = Dropout(dropout)(x)\n",
        "\n",
        "    x = BatchNormalization(axis=channel_axis, momentum=0.1, epsilon=1e-5, gamma_initializer='uniform')(x)\n",
        "    x = Activation('relu')(x)\n",
        "    x = Convolution2D(32 * k, (3, 3), padding='same', kernel_initializer='Orthogonal',\n",
        "                      kernel_constraint= tight_frame(0.0001),\n",
        "                      kernel_regularizer=l2(weight_decay),\n",
        "                      use_bias=False)(x)\n",
        "\n",
        "    m = Add()([init, x])\n",
        "    return m\n",
        "\n",
        "def conv3_block(input, k=1, dropout=0.0):\n",
        "    init = input\n",
        "\n",
        "    channel_axis = 1 if K.image_data_format() == \"channels_first\" else -1\n",
        "    print(\"conv3 channel_axis:{} \".format(channel_axis))\n",
        "    x = BatchNormalization(axis=channel_axis, momentum=0.1, epsilon=1e-5, gamma_initializer='uniform')(input)\n",
        "    x = Activation('relu')(x)\n",
        "    x = Convolution2D(64 * k, (3, 3), padding='same', kernel_initializer='Orthogonal',\n",
        "                      kernel_constraint= tight_frame(0.0001),\n",
        "                      kernel_regularizer=l2(weight_decay),\n",
        "                      use_bias=False)(x)\n",
        "\n",
        "    if dropout > 0.0: x = Dropout(dropout)(x)\n",
        "\n",
        "    x = BatchNormalization(axis=channel_axis, momentum=0.1, epsilon=1e-5, gamma_initializer='uniform')(x)\n",
        "    x = Activation('relu')(x)\n",
        "    x = Convolution2D(64 * k, (3, 3), padding='same', kernel_initializer='Orthogonal',\n",
        "                      kernel_constraint= tight_frame(0.0001),\n",
        "                      kernel_regularizer=l2(weight_decay),\n",
        "                      use_bias=False)(x)\n",
        "\n",
        "    m = Add()([init, x])\n",
        "    return m\n",
        "\n",
        "def create_parseval_network(input_dim, nb_classes=100, N=2, k=1, dropout=0.0, verbose=1):\n",
        "    \"\"\"\n",
        "    Creates a Wide Residual Network with specified parameters\n",
        "\n",
        "    :param input: Input Keras object\n",
        "    :param nb_classes: Number of output classes\n",
        "    :param N: Depth of the network. Compute N = (n - 4) / 6.\n",
        "              Example : For a depth of 16, n = 16, N = (16 - 4) / 6 = 2\n",
        "              Example2: For a depth of 28, n = 28, N = (28 - 4) / 6 = 4\n",
        "              Example3: For a depth of 40, n = 40, N = (40 - 4) / 6 = 6\n",
        "    :param k: Width of the network.\n",
        "    :param dropout: Adds dropout if value is greater than 0.0\n",
        "    :param verbose: Debug info to describe created WRN\n",
        "    :return:\n",
        "    \"\"\"\n",
        "    channel_axis = 1 if K.image_data_format() == \"channels_first\" else -1\n",
        "\n",
        "    ip = Input(shape=input_dim)\n",
        "\n",
        "    x = initial_conv(ip)\n",
        "    nb_conv = 4\n",
        "\n",
        "    x = expand_conv(x, 16, k)\n",
        "    nb_conv += 2\n",
        "\n",
        "    for i in range(N - 1):\n",
        "        x = conv1_block(x, k, dropout)\n",
        "        nb_conv += 2\n",
        "\n",
        "    x = BatchNormalization(axis=channel_axis, momentum=0.1, epsilon=1e-5, gamma_initializer='uniform')(x)\n",
        "    x = Activation('relu')(x)\n",
        "\n",
        "    x = expand_conv(x, 32, k, strides=(2, 2))\n",
        "    nb_conv += 2\n",
        "\n",
        "    for i in range(N - 1):\n",
        "        x = conv2_block(x, k, dropout)\n",
        "        nb_conv += 2\n",
        "\n",
        "    x = BatchNormalization(axis=channel_axis, momentum=0.1, epsilon=1e-5, gamma_initializer='uniform')(x)\n",
        "    x = Activation('relu')(x)\n",
        "\n",
        "    x = expand_conv(x, 64, k, strides=(2, 2))\n",
        "    nb_conv += 2\n",
        "\n",
        "    for i in range(N - 1):\n",
        "        x = conv3_block(x, k, dropout)\n",
        "        nb_conv += 2\n",
        "\n",
        "    x = BatchNormalization(axis=channel_axis, momentum=0.1, epsilon=1e-5, gamma_initializer='uniform')(x)\n",
        "    x = Activation('relu')(x)\n",
        "\n",
        "    x = AveragePooling2D((8, 8))(x)\n",
        "    x = Flatten()(x)\n",
        "\n",
        "    x = Dense(nb_classes, activation='softmax' )(x)\n",
        "\n",
        "    model = Model(ip, x)\n",
        "\n",
        "    if verbose: print(\"Parseval Residual Network-%d-%d created.\" % (nb_conv, k))\n",
        "    return model\n",
        "\n",
        "if __name__ == \"__main__\":\n",
        "\n",
        "    init = (32, 32,1)\n",
        "\n",
        "    parseval_16_2 = create_parseval_network(init, nb_classes=4, N=2, k=2, dropout=0.5)"
      ],
      "execution_count": 37,
      "outputs": [
        {
          "output_type": "stream",
          "text": [
            "conv2:channel:  -1\n",
            "conv3 channel_axis:-1 \n",
            "Parseval Residual Network-16-2 created.\n"
          ],
          "name": "stdout"
        }
      ]
    },
    {
      "cell_type": "code",
      "metadata": {
        "id": "BxyMKoeaBqPh",
        "colab_type": "code",
        "colab": {}
      },
      "source": [
        "from tensorflow.keras.preprocessing.image import ImageDataGenerator\n",
        "import tensorflow.keras.callbacks as callbacks\n"
      ],
      "execution_count": 0,
      "outputs": []
    },
    {
      "cell_type": "code",
      "metadata": {
        "id": "liiFrat1Bv1_",
        "colab_type": "code",
        "colab": {}
      },
      "source": [
        "EPOCHS = 100\n",
        "BS = 128\n"
      ],
      "execution_count": 0,
      "outputs": []
    },
    {
      "cell_type": "code",
      "metadata": {
        "id": "-ygMFWH8Bzfq",
        "colab_type": "code",
        "colab": {}
      },
      "source": [
        "from tensorflow.keras.callbacks import LearningRateScheduler\n",
        "import math\n",
        "from tensorflow.keras.optimizers import SGD\n",
        "\n",
        "sgd = SGD(lr=0.1, momentum=0.6)"
      ],
      "execution_count": 0,
      "outputs": []
    },
    {
      "cell_type": "code",
      "metadata": {
        "id": "WhUvPL0dB48O",
        "colab_type": "code",
        "outputId": "9e91503f-d183-4dec-c298-8b2857412781",
        "colab": {
          "base_uri": "https://localhost:8080/",
          "height": 34
        }
      },
      "source": [
        "parseval_16_2.compile(loss=\"categorical_crossentropy\", optimizer=sgd, metrics=[\"acc\"])\n",
        "print(\"Finished compiling\")"
      ],
      "execution_count": 41,
      "outputs": [
        {
          "output_type": "stream",
          "text": [
            "Finished compiling\n"
          ],
          "name": "stdout"
        }
      ]
    },
    {
      "cell_type": "code",
      "metadata": {
        "id": "6JrJ7xy1Q5rS",
        "colab_type": "code",
        "colab": {}
      },
      "source": [
        "import tensorflow\n",
        "generator = tensorflow.keras.preprocessing.image.ImageDataGenerator(rotation_range=10,\n",
        "                               width_shift_range=5./32,\n",
        "                               height_shift_range=5./32,)"
      ],
      "execution_count": 0,
      "outputs": []
    },
    {
      "cell_type": "code",
      "metadata": {
        "id": "i4EpGTMG9jeP",
        "colab_type": "code",
        "colab": {}
      },
      "source": [
        "def lr_sch(epoch):\n",
        "    if epoch < 30:\n",
        "        return 0.1\n",
        "    elif epoch < 50:\n",
        "        return 0.01\n",
        "    elif epoch < 100:\n",
        "        return 0.001\n",
        "    else:\n",
        "        return 0.0001\n",
        "\n",
        "# Learning rate scheduler callback\n",
        "lr_scheduler = LearningRateScheduler(lr_sch)"
      ],
      "execution_count": 0,
      "outputs": []
    },
    {
      "cell_type": "code",
      "metadata": {
        "id": "40GW4OcEdvUU",
        "colab_type": "code",
        "colab": {}
      },
      "source": [
        ""
      ],
      "execution_count": 0,
      "outputs": []
    },
    {
      "cell_type": "code",
      "metadata": {
        "id": "nVUb-vfbdsCQ",
        "colab_type": "code",
        "colab": {}
      },
      "source": [
        ""
      ],
      "execution_count": 0,
      "outputs": []
    },
    {
      "cell_type": "code",
      "metadata": {
        "id": "9z0CbPY_24ns",
        "colab_type": "code",
        "outputId": "f9bbc3ca-46e4-4360-9402-e488331ca4a0",
        "colab": {
          "base_uri": "https://localhost:8080/",
          "height": 1000
        }
      },
      "source": [
        "from tensorflow.keras.utils import to_categorical\n",
        "hist = parseval_16_2.fit(generator.flow(X_train, y_train, batch_size=BS), steps_per_epoch=len(X_train) // BS, epochs=EPOCHS,\n",
        "                   validation_data=(X_val, y_val),\n",
        "                   callbacks = [lr_scheduler],\n",
        "                   validation_steps=X_val.shape[0] // BS,)"
      ],
      "execution_count": 46,
      "outputs": [
        {
          "output_type": "stream",
          "text": [
            "Epoch 1/100\n",
            "36/36 [==============================] - 4s 112ms/step - loss: 1.8142 - acc: 0.3156 - val_loss: 1.7985 - val_acc: 0.2563 - lr: 0.1000\n",
            "Epoch 2/100\n",
            "36/36 [==============================] - 3s 85ms/step - loss: 1.6605 - acc: 0.3593 - val_loss: 1.6124 - val_acc: 0.3612 - lr: 0.1000\n",
            "Epoch 3/100\n",
            "36/36 [==============================] - 3s 86ms/step - loss: 1.5839 - acc: 0.3768 - val_loss: 1.5518 - val_acc: 0.3942 - lr: 0.1000\n",
            "Epoch 4/100\n",
            "36/36 [==============================] - 3s 86ms/step - loss: 1.5300 - acc: 0.3737 - val_loss: 1.5747 - val_acc: 0.3262 - lr: 0.1000\n",
            "Epoch 5/100\n",
            "36/36 [==============================] - 3s 86ms/step - loss: 1.4814 - acc: 0.3899 - val_loss: 1.4903 - val_acc: 0.3825 - lr: 0.1000\n",
            "Epoch 6/100\n",
            "36/36 [==============================] - 3s 86ms/step - loss: 1.4476 - acc: 0.3961 - val_loss: 1.4199 - val_acc: 0.4058 - lr: 0.1000\n",
            "Epoch 7/100\n",
            "36/36 [==============================] - 3s 86ms/step - loss: 1.4078 - acc: 0.4290 - val_loss: 1.3399 - val_acc: 0.4874 - lr: 0.1000\n",
            "Epoch 8/100\n",
            "36/36 [==============================] - 3s 86ms/step - loss: 1.3459 - acc: 0.4794 - val_loss: 1.2849 - val_acc: 0.5262 - lr: 0.1000\n",
            "Epoch 9/100\n",
            "36/36 [==============================] - 3s 86ms/step - loss: 1.3053 - acc: 0.5047 - val_loss: 1.4486 - val_acc: 0.4272 - lr: 0.1000\n",
            "Epoch 10/100\n",
            "36/36 [==============================] - 3s 86ms/step - loss: 1.2899 - acc: 0.5102 - val_loss: 1.2317 - val_acc: 0.5417 - lr: 0.1000\n",
            "Epoch 11/100\n",
            "36/36 [==============================] - 3s 86ms/step - loss: 1.2359 - acc: 0.5446 - val_loss: 1.2311 - val_acc: 0.5340 - lr: 0.1000\n",
            "Epoch 12/100\n",
            "36/36 [==============================] - 3s 86ms/step - loss: 1.2143 - acc: 0.5508 - val_loss: 1.1808 - val_acc: 0.5553 - lr: 0.1000\n",
            "Epoch 13/100\n",
            "36/36 [==============================] - 3s 86ms/step - loss: 1.1506 - acc: 0.5874 - val_loss: 1.1353 - val_acc: 0.5786 - lr: 0.1000\n",
            "Epoch 14/100\n",
            "36/36 [==============================] - 3s 86ms/step - loss: 1.1259 - acc: 0.5821 - val_loss: 1.1442 - val_acc: 0.5786 - lr: 0.1000\n",
            "Epoch 15/100\n",
            "36/36 [==============================] - 3s 85ms/step - loss: 1.0826 - acc: 0.6074 - val_loss: 1.0862 - val_acc: 0.5786 - lr: 0.1000\n",
            "Epoch 16/100\n",
            "36/36 [==============================] - 3s 86ms/step - loss: 1.0490 - acc: 0.6125 - val_loss: 0.9473 - val_acc: 0.6485 - lr: 0.1000\n",
            "Epoch 17/100\n",
            "36/36 [==============================] - 3s 86ms/step - loss: 0.9905 - acc: 0.6376 - val_loss: 0.8985 - val_acc: 0.7068 - lr: 0.1000\n",
            "Epoch 18/100\n",
            "36/36 [==============================] - 3s 86ms/step - loss: 1.0034 - acc: 0.6318 - val_loss: 0.8933 - val_acc: 0.6796 - lr: 0.1000\n",
            "Epoch 19/100\n",
            "36/36 [==============================] - 3s 87ms/step - loss: 0.9415 - acc: 0.6629 - val_loss: 1.1875 - val_acc: 0.6272 - lr: 0.1000\n",
            "Epoch 20/100\n",
            "36/36 [==============================] - 3s 87ms/step - loss: 0.9124 - acc: 0.6782 - val_loss: 1.0436 - val_acc: 0.6194 - lr: 0.1000\n",
            "Epoch 21/100\n",
            "36/36 [==============================] - 3s 86ms/step - loss: 0.8803 - acc: 0.6840 - val_loss: 0.9501 - val_acc: 0.6738 - lr: 0.1000\n",
            "Epoch 22/100\n",
            "36/36 [==============================] - 3s 86ms/step - loss: 0.8876 - acc: 0.6831 - val_loss: 0.8969 - val_acc: 0.7049 - lr: 0.1000\n",
            "Epoch 23/100\n",
            "36/36 [==============================] - 3s 86ms/step - loss: 0.8523 - acc: 0.7053 - val_loss: 0.7650 - val_acc: 0.7204 - lr: 0.1000\n",
            "Epoch 24/100\n",
            "36/36 [==============================] - 3s 86ms/step - loss: 0.8409 - acc: 0.6995 - val_loss: 0.8519 - val_acc: 0.7087 - lr: 0.1000\n",
            "Epoch 25/100\n",
            "36/36 [==============================] - 3s 88ms/step - loss: 0.8197 - acc: 0.7124 - val_loss: 0.7546 - val_acc: 0.7515 - lr: 0.1000\n",
            "Epoch 26/100\n",
            "36/36 [==============================] - 3s 86ms/step - loss: 0.8156 - acc: 0.7108 - val_loss: 0.8040 - val_acc: 0.7320 - lr: 0.1000\n",
            "Epoch 27/100\n",
            "36/36 [==============================] - 3s 86ms/step - loss: 0.7828 - acc: 0.7332 - val_loss: 1.3004 - val_acc: 0.5883 - lr: 0.1000\n",
            "Epoch 28/100\n",
            "36/36 [==============================] - 3s 86ms/step - loss: 0.8377 - acc: 0.7079 - val_loss: 0.7286 - val_acc: 0.7359 - lr: 0.1000\n",
            "Epoch 29/100\n",
            "36/36 [==============================] - 3s 87ms/step - loss: 0.7766 - acc: 0.7350 - val_loss: 1.3446 - val_acc: 0.5981 - lr: 0.1000\n",
            "Epoch 30/100\n",
            "36/36 [==============================] - 3s 88ms/step - loss: 0.7623 - acc: 0.7400 - val_loss: 0.6702 - val_acc: 0.7592 - lr: 0.1000\n",
            "Epoch 31/100\n",
            "36/36 [==============================] - 3s 86ms/step - loss: 0.6727 - acc: 0.7805 - val_loss: 0.6275 - val_acc: 0.7767 - lr: 0.0100\n",
            "Epoch 32/100\n",
            "36/36 [==============================] - 3s 86ms/step - loss: 0.6338 - acc: 0.7878 - val_loss: 0.6573 - val_acc: 0.7631 - lr: 0.0100\n",
            "Epoch 33/100\n",
            "36/36 [==============================] - 3s 86ms/step - loss: 0.6116 - acc: 0.8007 - val_loss: 0.6439 - val_acc: 0.7709 - lr: 0.0100\n",
            "Epoch 34/100\n",
            "36/36 [==============================] - 3s 86ms/step - loss: 0.6004 - acc: 0.8023 - val_loss: 0.6616 - val_acc: 0.7612 - lr: 0.0100\n",
            "Epoch 35/100\n",
            "36/36 [==============================] - 3s 86ms/step - loss: 0.5933 - acc: 0.8065 - val_loss: 0.6506 - val_acc: 0.7709 - lr: 0.0100\n",
            "Epoch 36/100\n",
            "36/36 [==============================] - 3s 86ms/step - loss: 0.5821 - acc: 0.8114 - val_loss: 0.6268 - val_acc: 0.7806 - lr: 0.0100\n",
            "Epoch 37/100\n",
            "36/36 [==============================] - 3s 86ms/step - loss: 0.5686 - acc: 0.8129 - val_loss: 0.5924 - val_acc: 0.7922 - lr: 0.0100\n",
            "Epoch 38/100\n",
            "36/36 [==============================] - 3s 87ms/step - loss: 0.5767 - acc: 0.8045 - val_loss: 0.6783 - val_acc: 0.7631 - lr: 0.0100\n",
            "Epoch 39/100\n",
            "36/36 [==============================] - 3s 85ms/step - loss: 0.5489 - acc: 0.8187 - val_loss: 0.6377 - val_acc: 0.7786 - lr: 0.0100\n",
            "Epoch 40/100\n",
            "36/36 [==============================] - 3s 86ms/step - loss: 0.5485 - acc: 0.8174 - val_loss: 0.6348 - val_acc: 0.7883 - lr: 0.0100\n",
            "Epoch 41/100\n",
            "36/36 [==============================] - 3s 86ms/step - loss: 0.5394 - acc: 0.8249 - val_loss: 0.6239 - val_acc: 0.7942 - lr: 0.0100\n",
            "Epoch 42/100\n",
            "36/36 [==============================] - 3s 87ms/step - loss: 0.5286 - acc: 0.8260 - val_loss: 0.6542 - val_acc: 0.7825 - lr: 0.0100\n",
            "Epoch 43/100\n",
            "36/36 [==============================] - 3s 86ms/step - loss: 0.5244 - acc: 0.8316 - val_loss: 0.6311 - val_acc: 0.7942 - lr: 0.0100\n",
            "Epoch 44/100\n",
            "36/36 [==============================] - 3s 86ms/step - loss: 0.5197 - acc: 0.8202 - val_loss: 0.5806 - val_acc: 0.8155 - lr: 0.0100\n",
            "Epoch 45/100\n",
            "36/36 [==============================] - 3s 86ms/step - loss: 0.5058 - acc: 0.8404 - val_loss: 0.6713 - val_acc: 0.7864 - lr: 0.0100\n",
            "Epoch 46/100\n",
            "36/36 [==============================] - 3s 87ms/step - loss: 0.5005 - acc: 0.8404 - val_loss: 0.5933 - val_acc: 0.8019 - lr: 0.0100\n",
            "Epoch 47/100\n",
            "36/36 [==============================] - 3s 86ms/step - loss: 0.4899 - acc: 0.8378 - val_loss: 0.6124 - val_acc: 0.7942 - lr: 0.0100\n",
            "Epoch 48/100\n",
            "36/36 [==============================] - 3s 87ms/step - loss: 0.4901 - acc: 0.8447 - val_loss: 0.5936 - val_acc: 0.8097 - lr: 0.0100\n",
            "Epoch 49/100\n",
            "36/36 [==============================] - 3s 87ms/step - loss: 0.4877 - acc: 0.8384 - val_loss: 0.6811 - val_acc: 0.7806 - lr: 0.0100\n",
            "Epoch 50/100\n",
            "36/36 [==============================] - 3s 86ms/step - loss: 0.4768 - acc: 0.8449 - val_loss: 0.6432 - val_acc: 0.7767 - lr: 0.0100\n",
            "Epoch 51/100\n",
            "36/36 [==============================] - 3s 85ms/step - loss: 0.4524 - acc: 0.8540 - val_loss: 0.5923 - val_acc: 0.8000 - lr: 0.0010\n",
            "Epoch 52/100\n",
            "36/36 [==============================] - 3s 86ms/step - loss: 0.4376 - acc: 0.8573 - val_loss: 0.5848 - val_acc: 0.7942 - lr: 0.0010\n",
            "Epoch 53/100\n",
            "36/36 [==============================] - 3s 86ms/step - loss: 0.4195 - acc: 0.8677 - val_loss: 0.5959 - val_acc: 0.7981 - lr: 0.0010\n",
            "Epoch 54/100\n",
            "36/36 [==============================] - 3s 87ms/step - loss: 0.4232 - acc: 0.8691 - val_loss: 0.8547 - val_acc: 0.7417 - lr: 0.0010\n",
            "Epoch 55/100\n",
            "36/36 [==============================] - 3s 87ms/step - loss: 0.4240 - acc: 0.8648 - val_loss: 0.5946 - val_acc: 0.7981 - lr: 0.0010\n",
            "Epoch 56/100\n",
            "36/36 [==============================] - 3s 86ms/step - loss: 0.4179 - acc: 0.8713 - val_loss: 0.5619 - val_acc: 0.8117 - lr: 0.0010\n",
            "Epoch 57/100\n",
            "36/36 [==============================] - 3s 86ms/step - loss: 0.4132 - acc: 0.8688 - val_loss: 0.5990 - val_acc: 0.7981 - lr: 0.0010\n",
            "Epoch 58/100\n",
            "36/36 [==============================] - 3s 86ms/step - loss: 0.4131 - acc: 0.8715 - val_loss: 0.5848 - val_acc: 0.8000 - lr: 0.0010\n",
            "Epoch 59/100\n",
            "36/36 [==============================] - 3s 87ms/step - loss: 0.4143 - acc: 0.8633 - val_loss: 0.5916 - val_acc: 0.7942 - lr: 0.0010\n",
            "Epoch 60/100\n",
            "36/36 [==============================] - 3s 87ms/step - loss: 0.4081 - acc: 0.8691 - val_loss: 0.5667 - val_acc: 0.8078 - lr: 0.0010\n",
            "Epoch 61/100\n",
            "36/36 [==============================] - 3s 87ms/step - loss: 0.4008 - acc: 0.8784 - val_loss: 0.5961 - val_acc: 0.7981 - lr: 0.0010\n",
            "Epoch 62/100\n",
            "36/36 [==============================] - 3s 85ms/step - loss: 0.4033 - acc: 0.8735 - val_loss: 0.6218 - val_acc: 0.7864 - lr: 0.0010\n",
            "Epoch 63/100\n",
            "36/36 [==============================] - 3s 86ms/step - loss: 0.4040 - acc: 0.8706 - val_loss: 0.5746 - val_acc: 0.8000 - lr: 0.0010\n",
            "Epoch 64/100\n",
            "36/36 [==============================] - 3s 86ms/step - loss: 0.3967 - acc: 0.8755 - val_loss: 0.5670 - val_acc: 0.8078 - lr: 0.0010\n",
            "Epoch 65/100\n",
            "36/36 [==============================] - 3s 87ms/step - loss: 0.3848 - acc: 0.8797 - val_loss: 0.5854 - val_acc: 0.7981 - lr: 0.0010\n",
            "Epoch 66/100\n",
            "36/36 [==============================] - 3s 86ms/step - loss: 0.3942 - acc: 0.8764 - val_loss: 0.5677 - val_acc: 0.8097 - lr: 0.0010\n",
            "Epoch 67/100\n",
            "36/36 [==============================] - 3s 88ms/step - loss: 0.3817 - acc: 0.8817 - val_loss: 0.5657 - val_acc: 0.8058 - lr: 0.0010\n",
            "Epoch 68/100\n",
            "36/36 [==============================] - 3s 85ms/step - loss: 0.3804 - acc: 0.8828 - val_loss: 0.6059 - val_acc: 0.7883 - lr: 0.0010\n",
            "Epoch 69/100\n",
            "36/36 [==============================] - 3s 85ms/step - loss: 0.3853 - acc: 0.8777 - val_loss: 0.5688 - val_acc: 0.8155 - lr: 0.0010\n",
            "Epoch 70/100\n",
            "36/36 [==============================] - 3s 86ms/step - loss: 0.3810 - acc: 0.8810 - val_loss: 0.6109 - val_acc: 0.8019 - lr: 0.0010\n",
            "Epoch 71/100\n",
            "36/36 [==============================] - 3s 87ms/step - loss: 0.3729 - acc: 0.8815 - val_loss: 0.5720 - val_acc: 0.8039 - lr: 0.0010\n",
            "Epoch 72/100\n",
            "36/36 [==============================] - 3s 86ms/step - loss: 0.3780 - acc: 0.8826 - val_loss: 0.6304 - val_acc: 0.7864 - lr: 0.0010\n",
            "Epoch 73/100\n",
            "36/36 [==============================] - 3s 86ms/step - loss: 0.3712 - acc: 0.8873 - val_loss: 0.6957 - val_acc: 0.7553 - lr: 0.0010\n",
            "Epoch 74/100\n",
            "36/36 [==============================] - 3s 87ms/step - loss: 0.3824 - acc: 0.8757 - val_loss: 0.5546 - val_acc: 0.8039 - lr: 0.0010\n",
            "Epoch 75/100\n",
            "36/36 [==============================] - 3s 87ms/step - loss: 0.3814 - acc: 0.8839 - val_loss: 0.5749 - val_acc: 0.7981 - lr: 0.0010\n",
            "Epoch 76/100\n",
            "36/36 [==============================] - 3s 87ms/step - loss: 0.3640 - acc: 0.8875 - val_loss: 0.5684 - val_acc: 0.8019 - lr: 0.0010\n",
            "Epoch 77/100\n",
            "36/36 [==============================] - 3s 86ms/step - loss: 0.3569 - acc: 0.8899 - val_loss: 0.6102 - val_acc: 0.7922 - lr: 0.0010\n",
            "Epoch 78/100\n",
            "36/36 [==============================] - 3s 86ms/step - loss: 0.3594 - acc: 0.8901 - val_loss: 0.5934 - val_acc: 0.7883 - lr: 0.0010\n",
            "Epoch 79/100\n",
            "36/36 [==============================] - 3s 86ms/step - loss: 0.3681 - acc: 0.8855 - val_loss: 0.5650 - val_acc: 0.8039 - lr: 0.0010\n",
            "Epoch 80/100\n",
            "36/36 [==============================] - 3s 86ms/step - loss: 0.3640 - acc: 0.8866 - val_loss: 0.6042 - val_acc: 0.7942 - lr: 0.0010\n",
            "Epoch 81/100\n",
            "36/36 [==============================] - 3s 86ms/step - loss: 0.3591 - acc: 0.8910 - val_loss: 0.5815 - val_acc: 0.8019 - lr: 0.0010\n",
            "Epoch 82/100\n",
            "36/36 [==============================] - 3s 86ms/step - loss: 0.3591 - acc: 0.8910 - val_loss: 0.5867 - val_acc: 0.8000 - lr: 0.0010\n",
            "Epoch 83/100\n",
            "36/36 [==============================] - 3s 86ms/step - loss: 0.3579 - acc: 0.8864 - val_loss: 0.5955 - val_acc: 0.8039 - lr: 0.0010\n",
            "Epoch 84/100\n",
            "36/36 [==============================] - 3s 87ms/step - loss: 0.3445 - acc: 0.8955 - val_loss: 0.5801 - val_acc: 0.8000 - lr: 0.0010\n",
            "Epoch 85/100\n",
            "36/36 [==============================] - 3s 86ms/step - loss: 0.3609 - acc: 0.8855 - val_loss: 0.6058 - val_acc: 0.7981 - lr: 0.0010\n",
            "Epoch 86/100\n",
            "36/36 [==============================] - 3s 88ms/step - loss: 0.3466 - acc: 0.8953 - val_loss: 0.6432 - val_acc: 0.7786 - lr: 0.0010\n",
            "Epoch 87/100\n",
            "36/36 [==============================] - 3s 87ms/step - loss: 0.3515 - acc: 0.8881 - val_loss: 0.6206 - val_acc: 0.7961 - lr: 0.0010\n",
            "Epoch 88/100\n",
            "36/36 [==============================] - 3s 86ms/step - loss: 0.3415 - acc: 0.8992 - val_loss: 0.5898 - val_acc: 0.8000 - lr: 0.0010\n",
            "Epoch 89/100\n",
            "36/36 [==============================] - 3s 87ms/step - loss: 0.3429 - acc: 0.8937 - val_loss: 0.5609 - val_acc: 0.8097 - lr: 0.0010\n",
            "Epoch 90/100\n",
            "36/36 [==============================] - 3s 86ms/step - loss: 0.3464 - acc: 0.8944 - val_loss: 0.5904 - val_acc: 0.8058 - lr: 0.0010\n",
            "Epoch 91/100\n",
            "36/36 [==============================] - 3s 86ms/step - loss: 0.3366 - acc: 0.8948 - val_loss: 0.5633 - val_acc: 0.8039 - lr: 0.0010\n",
            "Epoch 92/100\n",
            "36/36 [==============================] - 3s 85ms/step - loss: 0.3346 - acc: 0.8988 - val_loss: 0.6380 - val_acc: 0.7767 - lr: 0.0010\n",
            "Epoch 93/100\n",
            "36/36 [==============================] - 3s 85ms/step - loss: 0.3305 - acc: 0.8941 - val_loss: 0.5882 - val_acc: 0.8019 - lr: 0.0010\n",
            "Epoch 94/100\n",
            "36/36 [==============================] - 3s 86ms/step - loss: 0.3241 - acc: 0.8986 - val_loss: 0.5980 - val_acc: 0.8078 - lr: 0.0010\n",
            "Epoch 95/100\n",
            "36/36 [==============================] - 3s 87ms/step - loss: 0.3370 - acc: 0.8984 - val_loss: 0.6038 - val_acc: 0.8019 - lr: 0.0010\n",
            "Epoch 96/100\n",
            "36/36 [==============================] - 3s 87ms/step - loss: 0.3333 - acc: 0.8986 - val_loss: 0.6218 - val_acc: 0.7961 - lr: 0.0010\n",
            "Epoch 97/100\n",
            "36/36 [==============================] - 3s 87ms/step - loss: 0.3232 - acc: 0.9043 - val_loss: 0.5903 - val_acc: 0.7883 - lr: 0.0010\n",
            "Epoch 98/100\n",
            "36/36 [==============================] - 3s 86ms/step - loss: 0.3240 - acc: 0.9008 - val_loss: 0.6590 - val_acc: 0.7786 - lr: 0.0010\n",
            "Epoch 99/100\n",
            "36/36 [==============================] - 3s 88ms/step - loss: 0.3229 - acc: 0.8995 - val_loss: 0.6107 - val_acc: 0.7942 - lr: 0.0010\n",
            "Epoch 100/100\n",
            "36/36 [==============================] - 3s 87ms/step - loss: 0.3155 - acc: 0.9024 - val_loss: 0.5657 - val_acc: 0.8078 - lr: 0.0010\n"
          ],
          "name": "stdout"
        }
      ]
    },
    {
      "cell_type": "code",
      "metadata": {
        "id": "MNGXxJTQq-UD",
        "colab_type": "code",
        "colab": {}
      },
      "source": [
        ""
      ],
      "execution_count": 0,
      "outputs": []
    },
    {
      "cell_type": "code",
      "metadata": {
        "id": "y-QerZ4RN91R",
        "colab_type": "code",
        "colab": {
          "base_uri": "https://localhost:8080/",
          "height": 282
        },
        "outputId": "40dd073b-acab-41fd-95ff-9ae28487941b"
      },
      "source": [
        "from matplotlib import  pyplot\n",
        "\n",
        "pyplot.plot(hist.history[\"acc\"], label='train')\n",
        "pyplot.plot(hist.history['val_acc'], label='test')"
      ],
      "execution_count": 48,
      "outputs": [
        {
          "output_type": "execute_result",
          "data": {
            "text/plain": [
              "[<matplotlib.lines.Line2D at 0x7f2461b999b0>]"
            ]
          },
          "metadata": {
            "tags": []
          },
          "execution_count": 48
        },
        {
          "output_type": "display_data",
          "data": {
            "image/png": "[encoded data removed]",
            "text/plain": [
              "<Figure size 432x288 with 1 Axes>"
            ]
          },
          "metadata": {
            "tags": [],
            "needs_background": "light"
          }
        }
      ]
    },
    {
      "cell_type": "code",
      "metadata": {
        "id": "xeg6MBf-GSgC",
        "colab_type": "code",
        "colab": {}
      },
      "source": [
        "test_err = [1.0-x for x in hist.history['val_acc']]"
      ],
      "execution_count": 0,
      "outputs": []
    },
    {
      "cell_type": "code",
      "metadata": {
        "id": "RgiKT6i5GiJ9",
        "colab_type": "code",
        "colab": {
          "base_uri": "https://localhost:8080/",
          "height": 265
        },
        "outputId": "c1428d2d-f974-4ee5-ee88-14abf34a7670"
      },
      "source": [
        "pyplot.plot(test_err, label='test')\n",
        "pyplot.savefig(\"deneme_err.png\")"
      ],
      "execution_count": 47,
      "outputs": [
        {
          "output_type": "display_data",
          "data": {
            "image/png": "[encoded data removed]",
            "text/plain": [
              "<Figure size 432x288 with 1 Axes>"
            ]
          },
          "metadata": {
            "tags": [],
            "needs_background": "light"
          }
        }
      ]
    },
    {
      "cell_type": "code",
      "metadata": {
        "id": "l4-IJ9Z-dQKF",
        "colab_type": "code",
        "colab": {}
      },
      "source": [
        "import tensorflow as tf\n",
        "parseval_16_2.save(\"parseval_tensor_lst.h5\")"
      ],
      "execution_count": 0,
      "outputs": []
    },
    {
      "cell_type": "code",
      "metadata": {
        "id": "MqddlwbmEV9s",
        "colab_type": "code",
        "colab": {}
      },
      "source": [
        "y_pred = parseval_16_2.predict(X_test)"
      ],
      "execution_count": 0,
      "outputs": []
    },
    {
      "cell_type": "code",
      "metadata": {
        "id": "C9Ysop6NFDbs",
        "colab_type": "code",
        "colab": {}
      },
      "source": [
        "parseval_16_2.evaluate(X_test,to_categorical(y_test_df['New']),batch_size=128,verbose=2)"
      ],
      "execution_count": 0,
      "outputs": []
    },
    {
      "cell_type": "code",
      "metadata": {
        "id": "THYCAlBW15Kg",
        "colab_type": "code",
        "colab": {}
      },
      "source": [
        "!pip install -q tensorflow==2.0.0b1\n",
        "# Install bleeding edge version of cleverhans\n",
        "!pip install git+https://github.com/tensorflow/cleverhans.git#egg=cleverhans\n",
        "\n",
        "import cleverhans\n",
        "import tensorflow as tf\n",
        "import numpy as np\n",
        "import matplotlib.pyplot as plt\n",
        "\n",
        "print(\"\\nTensorflow Version: \" + tf.__version__)\n",
        "print(\"Cleverhans Version: \" + cleverhans.__version__)\n",
        "print(\"GPU Available: \", tf.test.is_gpu_available())"
      ],
      "execution_count": 0,
      "outputs": []
    },
    {
      "cell_type": "code",
      "metadata": {
        "id": "ZNev4Y9U2sFQ",
        "colab_type": "code",
        "colab": {}
      },
      "source": [
        "from cleverhans.future.tf2.attacks import fast_gradient_method\n",
        "\n",
        "#The attack requires the model to ouput the logits\n",
        "logits_model = tf.keras.Model(wrn_28_10.input,wrn_28_10.layers[-1].output)"
      ],
      "execution_count": 0,
      "outputs": []
    },
    {
      "cell_type": "code",
      "metadata": {
        "id": "dtKEw7Uq3Dj-",
        "colab_type": "code",
        "colab": {}
      },
      "source": [
        "random_index = 5\n",
        "\n",
        "original_image = X_test[random_index]\n",
        "original_image = tf.convert_to_tensor(original_image.reshape((1,32,32))) "
      ],
      "execution_count": 0,
      "outputs": []
    },
    {
      "cell_type": "code",
      "metadata": {
        "id": "FdxYTfSn3R4l",
        "colab_type": "code",
        "colab": {}
      },
      "source": [
        "original_image.shape"
      ],
      "execution_count": 0,
      "outputs": []
    },
    {
      "cell_type": "code",
      "metadata": {
        "id": "YSa4WKy33U3K",
        "colab_type": "code",
        "colab": {}
      },
      "source": [
        "wrn_28_10(original_image)"
      ],
      "execution_count": 0,
      "outputs": []
    },
    {
      "cell_type": "code",
      "metadata": {
        "id": "_jrP3jw83fwT",
        "colab_type": "code",
        "colab": {}
      },
      "source": [
        "y_test_cat = to_categorical(y_test_df['New'])"
      ],
      "execution_count": 0,
      "outputs": []
    },
    {
      "cell_type": "code",
      "metadata": {
        "id": "4VoJsNJX4HiB",
        "colab_type": "code",
        "colab": {}
      },
      "source": [
        "original_label = y_test_cat[random_index]\n",
        "original_label "
      ],
      "execution_count": 0,
      "outputs": []
    },
    {
      "cell_type": "code",
      "metadata": {
        "id": "K70kNexu3l-c",
        "colab_type": "code",
        "colab": {}
      },
      "source": [
        "epsilon = 0.33\n",
        "\n",
        "\n",
        "adv_example_untargeted_label = fast_gradient_method(logits_model, original_image, epsilon, np.inf, targeted=False)\n",
        "\n",
        "adv_example_untargeted_label_pred = wrn_28_10.predict(adv_example_untargeted_label)"
      ],
      "execution_count": 0,
      "outputs": []
    },
    {
      "cell_type": "code",
      "metadata": {
        "id": "r-LglBmM4gNw",
        "colab_type": "code",
        "colab": {}
      },
      "source": [
        "adv_example_untargeted_label"
      ],
      "execution_count": 0,
      "outputs": []
    },
    {
      "cell_type": "code",
      "metadata": {
        "id": "8d6rZhTp4i2b",
        "colab_type": "code",
        "colab": {}
      },
      "source": [
        "np.argmax(adv_example_untargeted_label_pred)"
      ],
      "execution_count": 0,
      "outputs": []
    },
    {
      "cell_type": "code",
      "metadata": {
        "id": "EKCXvIXY66lb",
        "colab_type": "code",
        "colab": {}
      },
      "source": [
        "original_image = tf.reshape(adv_example_untargeted_label, (68,100))"
      ],
      "execution_count": 0,
      "outputs": []
    },
    {
      "cell_type": "code",
      "metadata": {
        "id": "R0jgK_uG7cwn",
        "colab_type": "code",
        "colab": {}
      },
      "source": [
        "original_image"
      ],
      "execution_count": 0,
      "outputs": []
    },
    {
      "cell_type": "code",
      "metadata": {
        "id": "70uI8BLT7r5H",
        "colab_type": "code",
        "colab": {}
      },
      "source": [
        "import matplotlib.pyplot as plt\n",
        "import numpy as np\n",
        "X = np.random.random((100, 100)) # sample 2D array\n",
        "plt.imshow(original_image)\n",
        "plt.show()"
      ],
      "execution_count": 0,
      "outputs": []
    },
    {
      "cell_type": "code",
      "metadata": {
        "id": "SumJnhN98Y0i",
        "colab_type": "code",
        "colab": {}
      },
      "source": [
        "y_test_cat[random_index]"
      ],
      "execution_count": 0,
      "outputs": []
    },
    {
      "cell_type": "code",
      "metadata": {
        "id": "woaZe08I8kM_",
        "colab_type": "code",
        "colab": {}
      },
      "source": [
        "y_test[random_index]"
      ],
      "execution_count": 0,
      "outputs": []
    }
  ]
}