{
  "nbformat": 4,
  "nbformat_minor": 0,
  "metadata": {
    "kernelspec": {
      "display_name": "Python 3",
      "language": "python",
      "name": "python3"
    },
    "language_info": {
      "codemirror_mode": {
        "name": "ipython",
        "version": 3
      },
      "file_extension": ".py",
      "mimetype": "text/x-python",
      "name": "python",
      "nbconvert_exporter": "python",
      "pygments_lexer": "ipython3",
      "version": "3.7.4"
    },
    "colab": {
      "name": "ParsevalNetwork.ipynb",
      "provenance": []
    },
    "accelerator": "GPU"
  },
  "cells": [
    {
      "cell_type": "code",
      "metadata": {
        "id": "esXS1STy_O_m",
        "colab_type": "code",
        "colab": {}
      },
      "source": [
        "from sklearn.model_selection import train_test_split\n",
        "import gzip\n",
        "import pickle\n",
        "import numpy as np"
      ],
      "execution_count": 0,
      "outputs": []
    },
    {
      "cell_type": "code",
      "metadata": {
        "id": "11nX1rD7_O_t",
        "colab_type": "code",
        "outputId": "5d8381e7-1ef1-4920-c7b1-533266fd9b7e",
        "colab": {
          "base_uri": "https://localhost:8080/",
          "height": 34
        }
      },
      "source": [
        "def read_data():\n",
        "    with open(\"data.pz\", 'rb') as file_:\n",
        "        with gzip.GzipFile(fileobj=file_) as gzf:\n",
        "            data = pickle.load(gzf, encoding='latin1', fix_imports=True)\n",
        "    return data\n",
        "data = read_data()\n",
        "new_data_X = []\n",
        "Y_data = []\n",
        "for row in data:\n",
        "    new_data_X.append(row['crop'])\n",
        "    Y_data.append(row['label'])\n",
        "new_data_X = np.array(new_data_X)\n",
        "new_data_X.shape"
      ],
      "execution_count": 9,
      "outputs": [
        {
          "output_type": "execute_result",
          "data": {
            "text/plain": [
              "(5722, 68, 100)"
            ]
          },
          "metadata": {
            "tags": []
          },
          "execution_count": 9
        }
      ]
    },
    {
      "cell_type": "code",
      "metadata": {
        "id": "BmyV1MMm_O_y",
        "colab_type": "code",
        "colab": {}
      },
      "source": [
        "X_train, X_test, y_train, y_test = train_test_split(new_data_X, Y_data, test_size=0.33, random_state=42)"
      ],
      "execution_count": 0,
      "outputs": []
    },
    {
      "cell_type": "code",
      "metadata": {
        "id": "grRS393n_O_3",
        "colab_type": "code",
        "colab": {}
      },
      "source": [
        "X_train = X_train.astype('float32')\n",
        "X_test = X_test.astype('float32')"
      ],
      "execution_count": 0,
      "outputs": []
    },
    {
      "cell_type": "code",
      "metadata": {
        "id": "MCu-tWhd_O_7",
        "colab_type": "code",
        "colab": {}
      },
      "source": [
        "import pandas as pd\n",
        "import numpy as np\n",
        "from sklearn.preprocessing import LabelEncoder\n",
        "\n",
        "# creating initial dataframe\n",
        "\n",
        "y_train_df = pd.DataFrame(y_train, columns=['Label'])\n",
        "# creating instance of labelencoder\n",
        "labelencoder = LabelEncoder()\n",
        "# Assigning numerical values and storing in another column\n",
        "y_train_df['New'] = labelencoder.fit_transform(y_train_df['Label'])\n",
        "y_test_df = pd.DataFrame(y_test, columns=['Label'])\n",
        "# creating instance of labelencoder\n",
        "labelencoder = LabelEncoder()\n",
        "# Assigning numerical values and storing in another column\n",
        "y_test_df['New'] = labelencoder.fit_transform(y_test_df['Label'])"
      ],
      "execution_count": 0,
      "outputs": []
    },
    {
      "cell_type": "code",
      "metadata": {
        "id": "qQ5CHhcF_PAA",
        "colab_type": "code",
        "colab": {
          "base_uri": "https://localhost:8080/",
          "height": 34
        },
        "outputId": "02f1ff5a-c8ab-45f9-ed50-a82933c7a36e"
      },
      "source": [
        "from keras import backend as K\n",
        "img_rows, img_cols = X_train[0].shape\n",
        "\n",
        "\n",
        "# transform data set\n",
        "if K.common.image_data_format() == 'channels_first':\n",
        "    X_train = X_train.reshape(X_train.shape[0], 1, img_rows, img_cols)\n",
        "    X_test = X_test.reshape(X_test.shape[0], 1, img_rows, img_cols)\n",
        "    input_shape = (1, img_rows, img_cols)\n",
        "else:\n",
        "    X_train = X_train.reshape(X_train.shape[0], img_rows, img_cols, 1)\n",
        "    X_test = X_test.reshape(X_test.shape[0], img_rows, img_cols, 1)\n",
        "    input_shape = (img_rows, img_cols, 1)"
      ],
      "execution_count": 12,
      "outputs": [
        {
          "output_type": "stream",
          "text": [
            "Using TensorFlow backend.\n"
          ],
          "name": "stderr"
        }
      ]
    },
    {
      "cell_type": "markdown",
      "metadata": {
        "id": "v3g_vzsy_ndF",
        "colab_type": "text"
      },
      "source": [
        "**Parseval Network**"
      ]
    },
    {
      "cell_type": "markdown",
      "metadata": {
        "id": "sllEBqMW_tEz",
        "colab_type": "text"
      },
      "source": [
        "**Constrait**"
      ]
    },
    {
      "cell_type": "code",
      "metadata": {
        "id": "WN76FYUZ_3YA",
        "colab_type": "code",
        "outputId": "a8ec15ab-e4dd-4ff5-ac38-135246e2eecc",
        "colab": {
          "base_uri": "https://localhost:8080/",
          "height": 1000
        }
      },
      "source": [
        "from tensorflow.keras.models import Model\n",
        "from tensorflow.keras.layers import Input, Add, Activation, Dropout, Flatten, Dense\n",
        "from tensorflow.keras.layers import Convolution2D, MaxPooling2D, AveragePooling2D\n",
        "from tensorflow.keras.layers import BatchNormalization\n",
        "from tensorflow.keras.regularizers import l2\n",
        "from tensorflow.keras import backend as K\n",
        "import warnings\n",
        "\n",
        "warnings.filterwarnings(\"ignore\")\n",
        "weight_decay = 0.0005\n",
        "\n",
        "\n",
        "def initial_conv(input):\n",
        "  \n",
        "    x = Convolution2D(16, (3, 3), padding='same', kernel_initializer='orthogonal',\n",
        "                      kernel_regularizer=l2(weight_decay),\n",
        "                      use_bias=False)(input)\n",
        "\n",
        "    channel_axis = 1 if K.image_data_format() == \"channels_first\" else -1\n",
        "\n",
        "    x = BatchNormalization(axis=channel_axis, momentum=0.1, epsilon=1e-5, gamma_initializer='uniform')(x)\n",
        "    x = Activation('relu')(x)\n",
        "    return x\n",
        "\n",
        "\n",
        "def expand_conv(init, base, k, strides=(1, 1)):\n",
        "    x = Convolution2D(base * k, (3, 3), padding='same', strides=strides, kernel_initializer='Orthogonal', kernel_regularizer=l2(weight_decay),\n",
        "                      use_bias=False)(init)\n",
        "\n",
        "    channel_axis = 1 if K.image_data_format() == \"channels_first\" else -1\n",
        "\n",
        "    x = BatchNormalization(axis=channel_axis, momentum=0.1, epsilon=1e-5, gamma_initializer='uniform')(x)\n",
        "    x = Activation('relu')(x)\n",
        "\n",
        "    x = Convolution2D(base * k, (3, 3), padding='same', kernel_initializer='Orthogonal',\n",
        "                      kernel_regularizer=l2(weight_decay),\n",
        "                      use_bias=False)(x)\n",
        "\n",
        "    skip = Convolution2D(base * k, (1, 1), padding='same', strides=strides, kernel_initializer='Orthogonal',\n",
        "                      kernel_regularizer=l2(weight_decay),\n",
        "                      use_bias=False)(init)\n",
        "\n",
        "    m = Add()([x, skip])\n",
        "\n",
        "    return m\n",
        "\n",
        "\n",
        "def conv1_block(input, k=1, dropout=0.0):\n",
        "    init = input\n",
        "\n",
        "    channel_axis = 1 if K.image_data_format() == \"channels_first\" else -1\n",
        "\n",
        "    x = BatchNormalization(axis=channel_axis, momentum=0.1, epsilon=1e-5, gamma_initializer='uniform')(input)\n",
        "    x = Activation('relu')(x)\n",
        "    x = Convolution2D(16 * k, (3, 3), padding='same', kernel_initializer='Orthogonal',\n",
        "                      kernel_regularizer=l2(weight_decay),\n",
        "                      use_bias=False)(x)\n",
        "\n",
        "    if dropout > 0.0: x = Dropout(dropout)(x)\n",
        "\n",
        "    x = BatchNormalization(axis=channel_axis, momentum=0.1, epsilon=1e-5, gamma_initializer='uniform')(x)\n",
        "    x = Activation('relu')(x)\n",
        "    x = Convolution2D(16 * k, (3, 3), padding='same', kernel_initializer='Orthogonal',\n",
        "                      kernel_regularizer=l2(weight_decay),\n",
        "                      use_bias=False)(x)\n",
        "\n",
        "    m = Add()([init, x])\n",
        "    return m\n",
        "\n",
        "def conv2_block(input, k=1, dropout=0.0):\n",
        "    init = input\n",
        "\n",
        "    channel_axis = 1 if K.image_data_format() == \"channels_first\" else -1\n",
        "    print(\"conv2:channel:  {}\".format(channel_axis))\n",
        "    x = BatchNormalization(axis=channel_axis, momentum=0.1, epsilon=1e-5, gamma_initializer='uniform')(input)\n",
        "    x = Activation('relu')(x)\n",
        "    x = Convolution2D(32 * k, (3, 3), padding='same', kernel_initializer='Orthogonal',\n",
        "                      kernel_regularizer=l2(weight_decay),\n",
        "                      use_bias=False)(x)\n",
        "\n",
        "    if dropout > 0.0: x = Dropout(dropout)(x)\n",
        "\n",
        "    x = BatchNormalization(axis=channel_axis, momentum=0.1, epsilon=1e-5, gamma_initializer='uniform')(x)\n",
        "    x = Activation('relu')(x)\n",
        "    x = Convolution2D(32 * k, (3, 3), padding='same', kernel_initializer='Orthogonal',\n",
        "                      kernel_regularizer=l2(weight_decay),\n",
        "                      use_bias=False)(x)\n",
        "\n",
        "    m = Add()([init, x])\n",
        "    return m\n",
        "\n",
        "def conv3_block(input, k=1, dropout=0.0):\n",
        "    init = input\n",
        "\n",
        "    channel_axis = 1 if K.image_data_format() == \"channels_first\" else -1\n",
        "    print(\"conv3 channel_axis:{} \".format(channel_axis))\n",
        "    x = BatchNormalization(axis=channel_axis, momentum=0.1, epsilon=1e-5, gamma_initializer='uniform')(input)\n",
        "    x = Activation('relu')(x)\n",
        "    x = Convolution2D(64 * k, (3, 3), padding='same', kernel_initializer='Orthogonal',\n",
        "                      kernel_regularizer=l2(weight_decay),\n",
        "                      use_bias=False)(x)\n",
        "\n",
        "    if dropout > 0.0: x = Dropout(dropout)(x)\n",
        "\n",
        "    x = BatchNormalization(axis=channel_axis, momentum=0.1, epsilon=1e-5, gamma_initializer='uniform')(x)\n",
        "    x = Activation('relu')(x)\n",
        "    x = Convolution2D(64 * k, (3, 3), padding='same', kernel_initializer='Orthogonal',\n",
        "                      kernel_regularizer=l2(weight_decay),\n",
        "                      use_bias=False)(x)\n",
        "\n",
        "    m = Add()([init, x])\n",
        "    return m\n",
        "\n",
        "def create_wide_residual_network(input_dim, nb_classes=100, N=2, k=1, dropout=0.0, verbose=1):\n",
        "    \"\"\"\n",
        "    Creates a Wide Residual Network with specified parameters\n",
        "\n",
        "    :param input: Input Keras object\n",
        "    :param nb_classes: Number of output classes\n",
        "    :param N: Depth of the network. Compute N = (n - 4) / 6.\n",
        "              Example : For a depth of 16, n = 16, N = (16 - 4) / 6 = 2\n",
        "              Example2: For a depth of 28, n = 28, N = (28 - 4) / 6 = 4\n",
        "              Example3: For a depth of 40, n = 40, N = (40 - 4) / 6 = 6\n",
        "    :param k: Width of the network.\n",
        "    :param dropout: Adds dropout if value is greater than 0.0\n",
        "    :param verbose: Debug info to describe created WRN\n",
        "    :return:\n",
        "    \"\"\"\n",
        "    channel_axis = 1 if K.image_data_format() == \"channels_first\" else -1\n",
        "\n",
        "    ip = Input(shape=input_dim)\n",
        "\n",
        "    x = initial_conv(ip)\n",
        "    nb_conv = 4\n",
        "\n",
        "    x = expand_conv(x, 16, k)\n",
        "    nb_conv += 2\n",
        "\n",
        "    for i in range(N - 1):\n",
        "        x = conv1_block(x, k, dropout)\n",
        "        nb_conv += 2\n",
        "\n",
        "    x = BatchNormalization(axis=channel_axis, momentum=0.1, epsilon=1e-5, gamma_initializer='uniform')(x)\n",
        "    x = Activation('relu')(x)\n",
        "\n",
        "    x = expand_conv(x, 32, k, strides=(2, 2))\n",
        "    nb_conv += 2\n",
        "\n",
        "    for i in range(N - 1):\n",
        "        x = conv2_block(x, k, dropout)\n",
        "        nb_conv += 2\n",
        "\n",
        "    x = BatchNormalization(axis=channel_axis, momentum=0.1, epsilon=1e-5, gamma_initializer='uniform')(x)\n",
        "    x = Activation('relu')(x)\n",
        "\n",
        "    x = expand_conv(x, 64, k, strides=(2, 2))\n",
        "    nb_conv += 2\n",
        "\n",
        "    for i in range(N - 1):\n",
        "        x = conv3_block(x, k, dropout)\n",
        "        nb_conv += 2\n",
        "\n",
        "    x = BatchNormalization(axis=channel_axis, momentum=0.1, epsilon=1e-5, gamma_initializer='uniform')(x)\n",
        "    x = Activation('relu')(x)\n",
        "\n",
        "    x = AveragePooling2D((8, 8))(x)\n",
        "    x = Flatten()(x)\n",
        "\n",
        "    x = Dense(nb_classes, kernel_regularizer=l2(weight_decay), activation='softmax')(x)\n",
        "\n",
        "    model = Model(ip, x)\n",
        "\n",
        "    if verbose: print(\"Parseval Residual Network-%d-%d created.\" % (nb_conv, k))\n",
        "    return model\n",
        "\n",
        "if __name__ == \"__main__\":\n",
        "    from tensorflow.keras.utils import plot_model\n",
        "    from tensorflow.keras.layers import Input\n",
        "    from tensorflow.keras.models import Model\n",
        "\n",
        "    init = (68, 100,1)\n",
        "\n",
        "    wrn_28_10 = create_wide_residual_network(init, nb_classes=4, N=2, k=2, dropout=0.0)\n",
        "\n",
        "    wrn_28_10.summary()\n",
        "\n",
        "   # plot_model(wrn_28_10, \"WRN-16-2.png\", show_shapes=True, show_layer_names=True)\n"
      ],
      "execution_count": 13,
      "outputs": [
        {
          "output_type": "stream",
          "text": [
            "conv2:channel:  -1\n",
            "conv3 channel_axis:-1 \n",
            "Parseval Residual Network-16-2 created.\n",
            "Model: \"model_1\"\n",
            "__________________________________________________________________________________________________\n",
            "Layer (type)                    Output Shape         Param #     Connected to                     \n",
            "==================================================================================================\n",
            "input_3 (InputLayer)            [(None, 68, 100, 1)] 0                                            \n",
            "__________________________________________________________________________________________________\n",
            "conv2d_16 (Conv2D)              (None, 68, 100, 16)  144         input_3[0][0]                    \n",
            "__________________________________________________________________________________________________\n",
            "batch_normalization_13 (BatchNo (None, 68, 100, 16)  64          conv2d_16[0][0]                  \n",
            "__________________________________________________________________________________________________\n",
            "activation_13 (Activation)      (None, 68, 100, 16)  0           batch_normalization_13[0][0]     \n",
            "__________________________________________________________________________________________________\n",
            "conv2d_17 (Conv2D)              (None, 68, 100, 32)  4608        activation_13[0][0]              \n",
            "__________________________________________________________________________________________________\n",
            "batch_normalization_14 (BatchNo (None, 68, 100, 32)  128         conv2d_17[0][0]                  \n",
            "__________________________________________________________________________________________________\n",
            "activation_14 (Activation)      (None, 68, 100, 32)  0           batch_normalization_14[0][0]     \n",
            "__________________________________________________________________________________________________\n",
            "conv2d_18 (Conv2D)              (None, 68, 100, 32)  9216        activation_14[0][0]              \n",
            "__________________________________________________________________________________________________\n",
            "conv2d_19 (Conv2D)              (None, 68, 100, 32)  512         activation_13[0][0]              \n",
            "__________________________________________________________________________________________________\n",
            "add_6 (Add)                     (None, 68, 100, 32)  0           conv2d_18[0][0]                  \n",
            "                                                                 conv2d_19[0][0]                  \n",
            "__________________________________________________________________________________________________\n",
            "batch_normalization_15 (BatchNo (None, 68, 100, 32)  128         add_6[0][0]                      \n",
            "__________________________________________________________________________________________________\n",
            "activation_15 (Activation)      (None, 68, 100, 32)  0           batch_normalization_15[0][0]     \n",
            "__________________________________________________________________________________________________\n",
            "conv2d_20 (Conv2D)              (None, 68, 100, 32)  9216        activation_15[0][0]              \n",
            "__________________________________________________________________________________________________\n",
            "batch_normalization_16 (BatchNo (None, 68, 100, 32)  128         conv2d_20[0][0]                  \n",
            "__________________________________________________________________________________________________\n",
            "activation_16 (Activation)      (None, 68, 100, 32)  0           batch_normalization_16[0][0]     \n",
            "__________________________________________________________________________________________________\n",
            "conv2d_21 (Conv2D)              (None, 68, 100, 32)  9216        activation_16[0][0]              \n",
            "__________________________________________________________________________________________________\n",
            "add_7 (Add)                     (None, 68, 100, 32)  0           add_6[0][0]                      \n",
            "                                                                 conv2d_21[0][0]                  \n",
            "__________________________________________________________________________________________________\n",
            "batch_normalization_17 (BatchNo (None, 68, 100, 32)  128         add_7[0][0]                      \n",
            "__________________________________________________________________________________________________\n",
            "activation_17 (Activation)      (None, 68, 100, 32)  0           batch_normalization_17[0][0]     \n",
            "__________________________________________________________________________________________________\n",
            "conv2d_22 (Conv2D)              (None, 34, 50, 64)   18432       activation_17[0][0]              \n",
            "__________________________________________________________________________________________________\n",
            "batch_normalization_18 (BatchNo (None, 34, 50, 64)   256         conv2d_22[0][0]                  \n",
            "__________________________________________________________________________________________________\n",
            "activation_18 (Activation)      (None, 34, 50, 64)   0           batch_normalization_18[0][0]     \n",
            "__________________________________________________________________________________________________\n",
            "conv2d_23 (Conv2D)              (None, 34, 50, 64)   36864       activation_18[0][0]              \n",
            "__________________________________________________________________________________________________\n",
            "conv2d_24 (Conv2D)              (None, 34, 50, 64)   2048        activation_17[0][0]              \n",
            "__________________________________________________________________________________________________\n",
            "add_8 (Add)                     (None, 34, 50, 64)   0           conv2d_23[0][0]                  \n",
            "                                                                 conv2d_24[0][0]                  \n",
            "__________________________________________________________________________________________________\n",
            "batch_normalization_19 (BatchNo (None, 34, 50, 64)   256         add_8[0][0]                      \n",
            "__________________________________________________________________________________________________\n",
            "activation_19 (Activation)      (None, 34, 50, 64)   0           batch_normalization_19[0][0]     \n",
            "__________________________________________________________________________________________________\n",
            "conv2d_25 (Conv2D)              (None, 34, 50, 64)   36864       activation_19[0][0]              \n",
            "__________________________________________________________________________________________________\n",
            "batch_normalization_20 (BatchNo (None, 34, 50, 64)   256         conv2d_25[0][0]                  \n",
            "__________________________________________________________________________________________________\n",
            "activation_20 (Activation)      (None, 34, 50, 64)   0           batch_normalization_20[0][0]     \n",
            "__________________________________________________________________________________________________\n",
            "conv2d_26 (Conv2D)              (None, 34, 50, 64)   36864       activation_20[0][0]              \n",
            "__________________________________________________________________________________________________\n",
            "add_9 (Add)                     (None, 34, 50, 64)   0           add_8[0][0]                      \n",
            "                                                                 conv2d_26[0][0]                  \n",
            "__________________________________________________________________________________________________\n",
            "batch_normalization_21 (BatchNo (None, 34, 50, 64)   256         add_9[0][0]                      \n",
            "__________________________________________________________________________________________________\n",
            "activation_21 (Activation)      (None, 34, 50, 64)   0           batch_normalization_21[0][0]     \n",
            "__________________________________________________________________________________________________\n",
            "conv2d_27 (Conv2D)              (None, 17, 25, 128)  73728       activation_21[0][0]              \n",
            "__________________________________________________________________________________________________\n",
            "batch_normalization_22 (BatchNo (None, 17, 25, 128)  512         conv2d_27[0][0]                  \n",
            "__________________________________________________________________________________________________\n",
            "activation_22 (Activation)      (None, 17, 25, 128)  0           batch_normalization_22[0][0]     \n",
            "__________________________________________________________________________________________________\n",
            "conv2d_28 (Conv2D)              (None, 17, 25, 128)  147456      activation_22[0][0]              \n",
            "__________________________________________________________________________________________________\n",
            "conv2d_29 (Conv2D)              (None, 17, 25, 128)  8192        activation_21[0][0]              \n",
            "__________________________________________________________________________________________________\n",
            "add_10 (Add)                    (None, 17, 25, 128)  0           conv2d_28[0][0]                  \n",
            "                                                                 conv2d_29[0][0]                  \n",
            "__________________________________________________________________________________________________\n",
            "batch_normalization_23 (BatchNo (None, 17, 25, 128)  512         add_10[0][0]                     \n",
            "__________________________________________________________________________________________________\n",
            "activation_23 (Activation)      (None, 17, 25, 128)  0           batch_normalization_23[0][0]     \n",
            "__________________________________________________________________________________________________\n",
            "conv2d_30 (Conv2D)              (None, 17, 25, 128)  147456      activation_23[0][0]              \n",
            "__________________________________________________________________________________________________\n",
            "batch_normalization_24 (BatchNo (None, 17, 25, 128)  512         conv2d_30[0][0]                  \n",
            "__________________________________________________________________________________________________\n",
            "activation_24 (Activation)      (None, 17, 25, 128)  0           batch_normalization_24[0][0]     \n",
            "__________________________________________________________________________________________________\n",
            "conv2d_31 (Conv2D)              (None, 17, 25, 128)  147456      activation_24[0][0]              \n",
            "__________________________________________________________________________________________________\n",
            "add_11 (Add)                    (None, 17, 25, 128)  0           add_10[0][0]                     \n",
            "                                                                 conv2d_31[0][0]                  \n",
            "__________________________________________________________________________________________________\n",
            "batch_normalization_25 (BatchNo (None, 17, 25, 128)  512         add_11[0][0]                     \n",
            "__________________________________________________________________________________________________\n",
            "activation_25 (Activation)      (None, 17, 25, 128)  0           batch_normalization_25[0][0]     \n",
            "__________________________________________________________________________________________________\n",
            "average_pooling2d_1 (AveragePoo (None, 2, 3, 128)    0           activation_25[0][0]              \n",
            "__________________________________________________________________________________________________\n",
            "flatten_1 (Flatten)             (None, 768)          0           average_pooling2d_1[0][0]        \n",
            "__________________________________________________________________________________________________\n",
            "dense_1 (Dense)                 (None, 4)            3076        flatten_1[0][0]                  \n",
            "==================================================================================================\n",
            "Total params: 694,996\n",
            "Trainable params: 693,172\n",
            "Non-trainable params: 1,824\n",
            "__________________________________________________________________________________________________\n"
          ],
          "name": "stdout"
        }
      ]
    },
    {
      "cell_type": "code",
      "metadata": {
        "id": "BxyMKoeaBqPh",
        "colab_type": "code",
        "colab": {}
      },
      "source": [
        "from tensorflow.keras.preprocessing.image import ImageDataGenerator\n",
        "import tensorflow.keras.callbacks as callbacks\n"
      ],
      "execution_count": 0,
      "outputs": []
    },
    {
      "cell_type": "code",
      "metadata": {
        "id": "liiFrat1Bv1_",
        "colab_type": "code",
        "colab": {}
      },
      "source": [
        "EPOCHS = 200\n",
        "BS = 128\n",
        "# construct the training image generator for data augmentation\n",
        "aug = ImageDataGenerator(rotation_range=20, zoom_range=0.15,\n",
        "width_shift_range=0.2, height_shift_range=0.2, shear_range=0.15,\n",
        "horizontal_flip=True, fill_mode=\"nearest\")"
      ],
      "execution_count": 0,
      "outputs": []
    },
    {
      "cell_type": "code",
      "metadata": {
        "id": "-ygMFWH8Bzfq",
        "colab_type": "code",
        "colab": {}
      },
      "source": [
        "from tensorflow.keras.callbacks import LearningRateScheduler\n",
        "import math\n",
        "from tensorflow.keras.optimizers import SGD\n",
        "\n",
        "sgd = SGD(lr=0.1, momentum=0.9)"
      ],
      "execution_count": 0,
      "outputs": []
    },
    {
      "cell_type": "code",
      "metadata": {
        "id": "WhUvPL0dB48O",
        "colab_type": "code",
        "outputId": "da5ff43e-3384-4419-de1c-101a6af5a60f",
        "colab": {
          "base_uri": "https://localhost:8080/",
          "height": 34
        }
      },
      "source": [
        "wrn_28_10.compile(loss=\"categorical_crossentropy\", optimizer=sgd, metrics=[\"acc\"])\n",
        "print(\"Finished compiling\")"
      ],
      "execution_count": 19,
      "outputs": [
        {
          "output_type": "stream",
          "text": [
            "Finished compiling\n"
          ],
          "name": "stdout"
        }
      ]
    },
    {
      "cell_type": "code",
      "metadata": {
        "id": "6JrJ7xy1Q5rS",
        "colab_type": "code",
        "colab": {}
      },
      "source": [
        "import tensorflow\n",
        "generator = tensorflow.keras.preprocessing.image.ImageDataGenerator(rotation_range=10,\n",
        "                               width_shift_range=5./32,\n",
        "                               height_shift_range=5./32,)"
      ],
      "execution_count": 0,
      "outputs": []
    },
    {
      "cell_type": "code",
      "metadata": {
        "id": "i4EpGTMG9jeP",
        "colab_type": "code",
        "colab": {}
      },
      "source": [
        "def lr_sch(epoch):\n",
        "    if epoch < 60:\n",
        "        return 0.1\n",
        "    elif epoch < 120:\n",
        "        return 0.02\n",
        "    elif epoch < 160:\n",
        "        return 0.004\n",
        "    else:\n",
        "        return 0.0008\n",
        "\n",
        "# Learning rate scheduler callback\n",
        "lr_scheduler = LearningRateScheduler(lr_sch)"
      ],
      "execution_count": 0,
      "outputs": []
    },
    {
      "cell_type": "code",
      "metadata": {
        "id": "1Bu78FGi9jhv",
        "colab_type": "code",
        "colab": {}
      },
      "source": [
        ""
      ],
      "execution_count": 0,
      "outputs": []
    },
    {
      "cell_type": "code",
      "metadata": {
        "id": "9z0CbPY_24ns",
        "colab_type": "code",
        "outputId": "5698535b-716a-4044-fa01-50ed04793555",
        "colab": {
          "base_uri": "https://localhost:8080/",
          "height": 1000
        }
      },
      "source": [
        "from tensorflow.keras.utils import to_categorical\n",
        "hist = wrn_28_10.fit_generator(generator.flow(X_train, to_categorical(y_train_df['New']), batch_size=BS), steps_per_epoch=len(X_train) // BS, epochs=EPOCHS,\n",
        "                   validation_data=(X_test, to_categorical(y_test_df['New'])), callbacks = [lr_scheduler],\n",
        "                   validation_steps=X_test.shape[0] // BS,)"
      ],
      "execution_count": 26,
      "outputs": [
        {
          "output_type": "stream",
          "text": [
            "WARNING:tensorflow:From <ipython-input-26-885b3a196f9b>:4: Model.fit_generator (from tensorflow.python.keras.engine.training) is deprecated and will be removed in a future version.\n",
            "Instructions for updating:\n",
            "Please use Model.fit, which supports generators.\n",
            "Epoch 1/200\n",
            "29/29 [==============================] - 16s 569ms/step - loss: 1.8403 - acc: 0.3192 - val_loss: 1.7881 - val_acc: 0.3843 - lr: 0.1000\n",
            "Epoch 2/200\n",
            "29/29 [==============================] - 16s 559ms/step - loss: 1.7576 - acc: 0.3749 - val_loss: 1.6923 - val_acc: 0.4029 - lr: 0.1000\n",
            "Epoch 3/200\n",
            "29/29 [==============================] - 15s 509ms/step - loss: 1.7173 - acc: 0.3989 - val_loss: 1.6509 - val_acc: 0.4389 - lr: 0.1000\n",
            "Epoch 4/200\n",
            "29/29 [==============================] - 15s 512ms/step - loss: 1.6703 - acc: 0.4084 - val_loss: 1.6039 - val_acc: 0.4468 - lr: 0.1000\n",
            "Epoch 5/200\n",
            "29/29 [==============================] - 15s 514ms/step - loss: 1.6186 - acc: 0.4354 - val_loss: 1.5530 - val_acc: 0.4717 - lr: 0.1000\n",
            "Epoch 6/200\n",
            "29/29 [==============================] - 15s 512ms/step - loss: 1.5609 - acc: 0.4737 - val_loss: 1.4949 - val_acc: 0.5050 - lr: 0.1000\n",
            "Epoch 7/200\n",
            "29/29 [==============================] - 15s 513ms/step - loss: 1.4866 - acc: 0.5012 - val_loss: 1.6719 - val_acc: 0.4653 - lr: 0.1000\n",
            "Epoch 8/200\n",
            "29/29 [==============================] - 15s 515ms/step - loss: 1.4414 - acc: 0.5285 - val_loss: 1.4135 - val_acc: 0.5363 - lr: 0.1000\n",
            "Epoch 9/200\n",
            "29/29 [==============================] - 15s 513ms/step - loss: 1.3936 - acc: 0.5463 - val_loss: 1.3387 - val_acc: 0.5839 - lr: 0.1000\n",
            "Epoch 10/200\n",
            "29/29 [==============================] - 15s 514ms/step - loss: 1.3297 - acc: 0.5722 - val_loss: 1.2743 - val_acc: 0.6003 - lr: 0.1000\n",
            "Epoch 11/200\n",
            "29/29 [==============================] - 15s 513ms/step - loss: 1.2823 - acc: 0.5873 - val_loss: 1.3554 - val_acc: 0.5686 - lr: 0.1000\n",
            "Epoch 12/200\n",
            "29/29 [==============================] - 15s 514ms/step - loss: 1.2488 - acc: 0.6008 - val_loss: 1.1947 - val_acc: 0.6416 - lr: 0.1000\n",
            "Epoch 13/200\n",
            "29/29 [==============================] - 15s 512ms/step - loss: 1.2025 - acc: 0.6294 - val_loss: 1.4595 - val_acc: 0.5363 - lr: 0.1000\n",
            "Epoch 14/200\n",
            "29/29 [==============================] - 15s 515ms/step - loss: 1.1777 - acc: 0.6294 - val_loss: 1.2458 - val_acc: 0.6347 - lr: 0.1000\n",
            "Epoch 15/200\n",
            "29/29 [==============================] - 15s 515ms/step - loss: 1.1529 - acc: 0.6424 - val_loss: 1.1616 - val_acc: 0.6458 - lr: 0.1000\n",
            "Epoch 16/200\n",
            "29/29 [==============================] - 15s 515ms/step - loss: 1.0980 - acc: 0.6623 - val_loss: 1.1094 - val_acc: 0.6564 - lr: 0.1000\n",
            "Epoch 17/200\n",
            "29/29 [==============================] - 15s 514ms/step - loss: 1.0691 - acc: 0.6726 - val_loss: 1.0969 - val_acc: 0.6644 - lr: 0.1000\n",
            "Epoch 18/200\n",
            "29/29 [==============================] - 15s 513ms/step - loss: 1.0274 - acc: 0.7004 - val_loss: 0.9636 - val_acc: 0.7231 - lr: 0.1000\n",
            "Epoch 19/200\n",
            "29/29 [==============================] - 15s 513ms/step - loss: 0.9768 - acc: 0.7080 - val_loss: 1.0264 - val_acc: 0.7035 - lr: 0.1000\n",
            "Epoch 20/200\n",
            "29/29 [==============================] - 15s 513ms/step - loss: 0.9711 - acc: 0.7155 - val_loss: 1.0626 - val_acc: 0.6797 - lr: 0.1000\n",
            "Epoch 21/200\n",
            "29/29 [==============================] - 15s 513ms/step - loss: 0.9353 - acc: 0.7233 - val_loss: 0.9610 - val_acc: 0.7205 - lr: 0.1000\n",
            "Epoch 22/200\n",
            "29/29 [==============================] - 15s 513ms/step - loss: 0.9692 - acc: 0.7042 - val_loss: 1.1046 - val_acc: 0.6570 - lr: 0.1000\n",
            "Epoch 23/200\n",
            "29/29 [==============================] - 15s 514ms/step - loss: 0.9348 - acc: 0.7169 - val_loss: 1.0626 - val_acc: 0.6776 - lr: 0.1000\n",
            "Epoch 24/200\n",
            "29/29 [==============================] - 15s 514ms/step - loss: 0.8848 - acc: 0.7430 - val_loss: 0.8949 - val_acc: 0.7337 - lr: 0.1000\n",
            "Epoch 25/200\n",
            "29/29 [==============================] - 15s 513ms/step - loss: 0.8849 - acc: 0.7455 - val_loss: 0.9219 - val_acc: 0.7295 - lr: 0.1000\n",
            "Epoch 26/200\n",
            "29/29 [==============================] - 15s 515ms/step - loss: 0.8458 - acc: 0.7619 - val_loss: 0.9391 - val_acc: 0.7395 - lr: 0.1000\n",
            "Epoch 27/200\n",
            "29/29 [==============================] - 15s 513ms/step - loss: 0.8673 - acc: 0.7439 - val_loss: 0.9145 - val_acc: 0.7279 - lr: 0.1000\n",
            "Epoch 28/200\n",
            "29/29 [==============================] - 15s 514ms/step - loss: 0.8207 - acc: 0.7628 - val_loss: 0.9721 - val_acc: 0.7364 - lr: 0.1000\n",
            "Epoch 29/200\n",
            "29/29 [==============================] - 15s 513ms/step - loss: 0.7909 - acc: 0.7714 - val_loss: 0.8717 - val_acc: 0.7528 - lr: 0.1000\n",
            "Epoch 30/200\n",
            "29/29 [==============================] - 15s 515ms/step - loss: 0.7841 - acc: 0.7714 - val_loss: 0.8492 - val_acc: 0.7522 - lr: 0.1000\n",
            "Epoch 31/200\n",
            "29/29 [==============================] - 15s 514ms/step - loss: 0.8026 - acc: 0.7722 - val_loss: 0.9719 - val_acc: 0.6924 - lr: 0.1000\n",
            "Epoch 32/200\n",
            "29/29 [==============================] - 15s 512ms/step - loss: 0.7681 - acc: 0.7800 - val_loss: 1.0149 - val_acc: 0.7200 - lr: 0.1000\n",
            "Epoch 33/200\n",
            "29/29 [==============================] - 15s 513ms/step - loss: 0.7479 - acc: 0.7868 - val_loss: 0.9236 - val_acc: 0.7184 - lr: 0.1000\n",
            "Epoch 34/200\n",
            "29/29 [==============================] - 15s 513ms/step - loss: 0.7619 - acc: 0.7919 - val_loss: 0.8726 - val_acc: 0.7522 - lr: 0.1000\n",
            "Epoch 35/200\n",
            "29/29 [==============================] - 15s 514ms/step - loss: 0.7482 - acc: 0.7873 - val_loss: 0.9806 - val_acc: 0.7168 - lr: 0.1000\n",
            "Epoch 36/200\n",
            "29/29 [==============================] - 15s 515ms/step - loss: 0.7376 - acc: 0.7935 - val_loss: 0.8260 - val_acc: 0.7639 - lr: 0.1000\n",
            "Epoch 37/200\n",
            "29/29 [==============================] - 15s 515ms/step - loss: 0.7130 - acc: 0.7984 - val_loss: 0.8609 - val_acc: 0.7390 - lr: 0.1000\n",
            "Epoch 38/200\n",
            "29/29 [==============================] - 15s 515ms/step - loss: 0.7214 - acc: 0.8065 - val_loss: 0.9265 - val_acc: 0.7253 - lr: 0.1000\n",
            "Epoch 39/200\n",
            "29/29 [==============================] - 15s 514ms/step - loss: 0.7388 - acc: 0.7852 - val_loss: 0.8278 - val_acc: 0.7655 - lr: 0.1000\n",
            "Epoch 40/200\n",
            "29/29 [==============================] - 15s 515ms/step - loss: 0.6836 - acc: 0.8054 - val_loss: 0.8856 - val_acc: 0.7528 - lr: 0.1000\n",
            "Epoch 41/200\n",
            "29/29 [==============================] - 15s 513ms/step - loss: 0.7126 - acc: 0.8027 - val_loss: 0.8138 - val_acc: 0.7724 - lr: 0.1000\n",
            "Epoch 42/200\n",
            "29/29 [==============================] - 15s 515ms/step - loss: 0.6572 - acc: 0.8275 - val_loss: 0.8083 - val_acc: 0.7697 - lr: 0.1000\n",
            "Epoch 43/200\n",
            "29/29 [==============================] - 15s 513ms/step - loss: 0.6437 - acc: 0.8300 - val_loss: 0.8799 - val_acc: 0.7401 - lr: 0.1000\n",
            "Epoch 44/200\n",
            "29/29 [==============================] - 15s 511ms/step - loss: 0.6770 - acc: 0.8208 - val_loss: 1.1375 - val_acc: 0.7035 - lr: 0.1000\n",
            "Epoch 45/200\n",
            "29/29 [==============================] - 15s 512ms/step - loss: 0.7101 - acc: 0.8011 - val_loss: 0.9003 - val_acc: 0.7321 - lr: 0.1000\n",
            "Epoch 46/200\n",
            "29/29 [==============================] - 15s 512ms/step - loss: 0.6668 - acc: 0.8248 - val_loss: 0.8166 - val_acc: 0.7655 - lr: 0.1000\n",
            "Epoch 47/200\n",
            "29/29 [==============================] - 15s 513ms/step - loss: 0.6477 - acc: 0.8265 - val_loss: 0.8529 - val_acc: 0.7623 - lr: 0.1000\n",
            "Epoch 48/200\n",
            "29/29 [==============================] - 15s 512ms/step - loss: 0.6503 - acc: 0.8313 - val_loss: 0.9075 - val_acc: 0.7528 - lr: 0.1000\n",
            "Epoch 49/200\n",
            "29/29 [==============================] - 15s 513ms/step - loss: 0.6336 - acc: 0.8329 - val_loss: 0.7975 - val_acc: 0.7861 - lr: 0.1000\n",
            "Epoch 50/200\n",
            "29/29 [==============================] - 15s 515ms/step - loss: 0.6525 - acc: 0.8275 - val_loss: 0.8855 - val_acc: 0.7517 - lr: 0.1000\n",
            "Epoch 51/200\n",
            "29/29 [==============================] - 15s 512ms/step - loss: 0.6731 - acc: 0.8175 - val_loss: 0.7978 - val_acc: 0.7867 - lr: 0.1000\n",
            "Epoch 52/200\n",
            "29/29 [==============================] - 15s 513ms/step - loss: 0.6328 - acc: 0.8367 - val_loss: 0.8488 - val_acc: 0.7692 - lr: 0.1000\n",
            "Epoch 53/200\n",
            "29/29 [==============================] - 15s 513ms/step - loss: 0.6340 - acc: 0.8348 - val_loss: 0.9125 - val_acc: 0.7406 - lr: 0.1000\n",
            "Epoch 54/200\n",
            "29/29 [==============================] - 15s 514ms/step - loss: 0.6302 - acc: 0.8375 - val_loss: 0.8960 - val_acc: 0.7687 - lr: 0.1000\n",
            "Epoch 55/200\n",
            "29/29 [==============================] - 15s 513ms/step - loss: 0.6058 - acc: 0.8486 - val_loss: 0.8795 - val_acc: 0.7761 - lr: 0.1000\n",
            "Epoch 56/200\n",
            "29/29 [==============================] - 15s 514ms/step - loss: 0.5802 - acc: 0.8602 - val_loss: 0.8521 - val_acc: 0.7718 - lr: 0.1000\n",
            "Epoch 57/200\n",
            "29/29 [==============================] - 15s 512ms/step - loss: 0.5687 - acc: 0.8688 - val_loss: 0.9483 - val_acc: 0.7618 - lr: 0.1000\n",
            "Epoch 58/200\n",
            "29/29 [==============================] - 15s 514ms/step - loss: 0.6341 - acc: 0.8410 - val_loss: 0.8018 - val_acc: 0.7946 - lr: 0.1000\n",
            "Epoch 59/200\n",
            "29/29 [==============================] - 15s 511ms/step - loss: 0.5558 - acc: 0.8737 - val_loss: 0.8588 - val_acc: 0.7824 - lr: 0.1000\n",
            "Epoch 60/200\n",
            "29/29 [==============================] - 15s 513ms/step - loss: 0.5666 - acc: 0.8731 - val_loss: 0.9410 - val_acc: 0.7517 - lr: 0.1000\n",
            "Epoch 61/200\n",
            "29/29 [==============================] - 15s 514ms/step - loss: 0.5716 - acc: 0.8648 - val_loss: 0.8328 - val_acc: 0.7988 - lr: 0.0200\n",
            "Epoch 62/200\n",
            "29/29 [==============================] - 15s 514ms/step - loss: 0.4566 - acc: 0.9185 - val_loss: 0.7899 - val_acc: 0.8158 - lr: 0.0200\n",
            "Epoch 63/200\n",
            "29/29 [==============================] - 15s 514ms/step - loss: 0.4094 - acc: 0.9358 - val_loss: 0.7719 - val_acc: 0.8205 - lr: 0.0200\n",
            "Epoch 64/200\n",
            "29/29 [==============================] - 15s 515ms/step - loss: 0.3910 - acc: 0.9363 - val_loss: 0.8249 - val_acc: 0.8115 - lr: 0.0200\n",
            "Epoch 65/200\n",
            "29/29 [==============================] - 15s 513ms/step - loss: 0.3674 - acc: 0.9520 - val_loss: 0.7881 - val_acc: 0.8152 - lr: 0.0200\n",
            "Epoch 66/200\n",
            "29/29 [==============================] - 15s 513ms/step - loss: 0.3548 - acc: 0.9506 - val_loss: 0.8108 - val_acc: 0.8205 - lr: 0.0200\n",
            "Epoch 67/200\n",
            "29/29 [==============================] - 15s 512ms/step - loss: 0.3535 - acc: 0.9501 - val_loss: 0.8032 - val_acc: 0.8237 - lr: 0.0200\n",
            "Epoch 68/200\n",
            "29/29 [==============================] - 15s 511ms/step - loss: 0.3423 - acc: 0.9547 - val_loss: 0.8033 - val_acc: 0.8227 - lr: 0.0200\n",
            "Epoch 69/200\n",
            "29/29 [==============================] - 15s 513ms/step - loss: 0.3278 - acc: 0.9601 - val_loss: 0.8483 - val_acc: 0.8179 - lr: 0.0200\n",
            "Epoch 70/200\n",
            "29/29 [==============================] - 15s 513ms/step - loss: 0.3222 - acc: 0.9609 - val_loss: 0.8389 - val_acc: 0.8163 - lr: 0.0200\n",
            "Epoch 71/200\n",
            "29/29 [==============================] - 15s 513ms/step - loss: 0.3137 - acc: 0.9628 - val_loss: 0.8147 - val_acc: 0.8285 - lr: 0.0200\n",
            "Epoch 72/200\n",
            "29/29 [==============================] - 15s 513ms/step - loss: 0.3165 - acc: 0.9646 - val_loss: 0.9117 - val_acc: 0.8084 - lr: 0.0200\n",
            "Epoch 73/200\n",
            "29/29 [==============================] - 15s 512ms/step - loss: 0.3045 - acc: 0.9676 - val_loss: 0.8540 - val_acc: 0.8216 - lr: 0.0200\n",
            "Epoch 74/200\n",
            "29/29 [==============================] - 15s 512ms/step - loss: 0.3063 - acc: 0.9625 - val_loss: 0.8666 - val_acc: 0.8068 - lr: 0.0200\n",
            "Epoch 75/200\n",
            "29/29 [==============================] - 15s 512ms/step - loss: 0.2949 - acc: 0.9663 - val_loss: 0.8674 - val_acc: 0.8258 - lr: 0.0200\n",
            "Epoch 76/200\n",
            "29/29 [==============================] - 15s 512ms/step - loss: 0.2958 - acc: 0.9625 - val_loss: 0.8535 - val_acc: 0.8264 - lr: 0.0200\n",
            "Epoch 77/200\n",
            "29/29 [==============================] - 15s 513ms/step - loss: 0.2826 - acc: 0.9719 - val_loss: 0.9152 - val_acc: 0.8158 - lr: 0.0200\n",
            "Epoch 78/200\n",
            "29/29 [==============================] - 15s 512ms/step - loss: 0.2862 - acc: 0.9663 - val_loss: 0.8977 - val_acc: 0.8190 - lr: 0.0200\n",
            "Epoch 79/200\n",
            "29/29 [==============================] - 15s 513ms/step - loss: 0.2920 - acc: 0.9633 - val_loss: 0.8647 - val_acc: 0.8121 - lr: 0.0200\n",
            "Epoch 80/200\n",
            "29/29 [==============================] - 15s 512ms/step - loss: 0.2716 - acc: 0.9733 - val_loss: 0.9128 - val_acc: 0.8221 - lr: 0.0200\n",
            "Epoch 81/200\n",
            "29/29 [==============================] - 15s 512ms/step - loss: 0.2735 - acc: 0.9722 - val_loss: 0.8717 - val_acc: 0.8205 - lr: 0.0200\n",
            "Epoch 82/200\n",
            "29/29 [==============================] - 15s 513ms/step - loss: 0.2643 - acc: 0.9762 - val_loss: 0.9147 - val_acc: 0.8062 - lr: 0.0200\n",
            "Epoch 83/200\n",
            "29/29 [==============================] - 15s 512ms/step - loss: 0.2601 - acc: 0.9754 - val_loss: 0.9667 - val_acc: 0.8152 - lr: 0.0200\n",
            "Epoch 84/200\n",
            "29/29 [==============================] - 15s 512ms/step - loss: 0.2769 - acc: 0.9652 - val_loss: 0.8617 - val_acc: 0.8269 - lr: 0.0200\n",
            "Epoch 85/200\n",
            "29/29 [==============================] - 15s 511ms/step - loss: 0.2640 - acc: 0.9725 - val_loss: 0.9265 - val_acc: 0.8174 - lr: 0.0200\n",
            "Epoch 86/200\n",
            "29/29 [==============================] - 15s 513ms/step - loss: 0.2583 - acc: 0.9757 - val_loss: 0.8947 - val_acc: 0.8205 - lr: 0.0200\n",
            "Epoch 87/200\n",
            "29/29 [==============================] - 15s 511ms/step - loss: 0.2481 - acc: 0.9787 - val_loss: 0.8912 - val_acc: 0.8248 - lr: 0.0200\n",
            "Epoch 88/200\n",
            "29/29 [==============================] - 15s 511ms/step - loss: 0.2557 - acc: 0.9744 - val_loss: 0.8780 - val_acc: 0.8211 - lr: 0.0200\n",
            "Epoch 89/200\n",
            "29/29 [==============================] - 15s 512ms/step - loss: 0.2488 - acc: 0.9746 - val_loss: 0.9314 - val_acc: 0.8195 - lr: 0.0200\n",
            "Epoch 90/200\n",
            "29/29 [==============================] - 15s 513ms/step - loss: 0.2422 - acc: 0.9781 - val_loss: 0.9293 - val_acc: 0.8115 - lr: 0.0200\n",
            "Epoch 91/200\n",
            "29/29 [==============================] - 15s 512ms/step - loss: 0.2420 - acc: 0.9827 - val_loss: 0.8930 - val_acc: 0.8205 - lr: 0.0200\n",
            "Epoch 92/200\n",
            "29/29 [==============================] - 15s 513ms/step - loss: 0.2312 - acc: 0.9825 - val_loss: 0.9062 - val_acc: 0.8248 - lr: 0.0200\n",
            "Epoch 93/200\n",
            "29/29 [==============================] - 15s 513ms/step - loss: 0.2361 - acc: 0.9798 - val_loss: 0.9904 - val_acc: 0.8195 - lr: 0.0200\n",
            "Epoch 94/200\n",
            "29/29 [==============================] - 15s 514ms/step - loss: 0.2453 - acc: 0.9752 - val_loss: 0.9374 - val_acc: 0.8248 - lr: 0.0200\n",
            "Epoch 95/200\n",
            "29/29 [==============================] - 15s 512ms/step - loss: 0.2351 - acc: 0.9798 - val_loss: 0.9415 - val_acc: 0.8221 - lr: 0.0200\n",
            "Epoch 96/200\n",
            "29/29 [==============================] - 15s 513ms/step - loss: 0.2401 - acc: 0.9771 - val_loss: 0.9056 - val_acc: 0.8211 - lr: 0.0200\n",
            "Epoch 97/200\n",
            "29/29 [==============================] - 15s 512ms/step - loss: 0.2303 - acc: 0.9803 - val_loss: 0.9030 - val_acc: 0.8359 - lr: 0.0200\n",
            "Epoch 98/200\n",
            "29/29 [==============================] - 15s 512ms/step - loss: 0.2225 - acc: 0.9833 - val_loss: 0.9122 - val_acc: 0.8216 - lr: 0.0200\n",
            "Epoch 99/200\n",
            "29/29 [==============================] - 15s 514ms/step - loss: 0.2308 - acc: 0.9800 - val_loss: 0.9735 - val_acc: 0.8216 - lr: 0.0200\n",
            "Epoch 100/200\n",
            "29/29 [==============================] - 15s 512ms/step - loss: 0.2323 - acc: 0.9789 - val_loss: 0.9929 - val_acc: 0.8126 - lr: 0.0200\n",
            "Epoch 101/200\n",
            "29/29 [==============================] - 15s 512ms/step - loss: 0.2281 - acc: 0.9789 - val_loss: 0.9681 - val_acc: 0.8242 - lr: 0.0200\n",
            "Epoch 102/200\n",
            "29/29 [==============================] - 15s 514ms/step - loss: 0.2332 - acc: 0.9784 - val_loss: 1.0473 - val_acc: 0.8089 - lr: 0.0200\n",
            "Epoch 103/200\n",
            "29/29 [==============================] - 15s 513ms/step - loss: 0.2349 - acc: 0.9760 - val_loss: 0.9110 - val_acc: 0.8232 - lr: 0.0200\n",
            "Epoch 104/200\n",
            "29/29 [==============================] - 15s 513ms/step - loss: 0.2245 - acc: 0.9792 - val_loss: 0.9274 - val_acc: 0.8179 - lr: 0.0200\n",
            "Epoch 105/200\n",
            "29/29 [==============================] - 15s 514ms/step - loss: 0.2376 - acc: 0.9717 - val_loss: 0.9279 - val_acc: 0.8269 - lr: 0.0200\n",
            "Epoch 106/200\n",
            "29/29 [==============================] - 15s 513ms/step - loss: 0.2409 - acc: 0.9711 - val_loss: 0.9536 - val_acc: 0.8211 - lr: 0.0200\n",
            "Epoch 107/200\n",
            "29/29 [==============================] - 15s 513ms/step - loss: 0.2330 - acc: 0.9754 - val_loss: 0.9508 - val_acc: 0.8227 - lr: 0.0200\n",
            "Epoch 108/200\n",
            "29/29 [==============================] - 15s 513ms/step - loss: 0.2165 - acc: 0.9822 - val_loss: 0.9726 - val_acc: 0.8152 - lr: 0.0200\n",
            "Epoch 109/200\n",
            "29/29 [==============================] - 15s 513ms/step - loss: 0.2146 - acc: 0.9827 - val_loss: 0.8985 - val_acc: 0.8295 - lr: 0.0200\n",
            "Epoch 110/200\n",
            "29/29 [==============================] - 15s 513ms/step - loss: 0.2204 - acc: 0.9784 - val_loss: 0.9666 - val_acc: 0.8121 - lr: 0.0200\n",
            "Epoch 111/200\n",
            "29/29 [==============================] - 15s 513ms/step - loss: 0.2165 - acc: 0.9811 - val_loss: 0.9396 - val_acc: 0.8227 - lr: 0.0200\n",
            "Epoch 112/200\n",
            "29/29 [==============================] - 15s 513ms/step - loss: 0.2098 - acc: 0.9843 - val_loss: 1.0784 - val_acc: 0.7983 - lr: 0.0200\n",
            "Epoch 113/200\n",
            "29/29 [==============================] - 15s 512ms/step - loss: 0.2168 - acc: 0.9814 - val_loss: 0.9440 - val_acc: 0.8126 - lr: 0.0200\n",
            "Epoch 114/200\n",
            "29/29 [==============================] - 15s 512ms/step - loss: 0.2129 - acc: 0.9822 - val_loss: 0.9049 - val_acc: 0.8200 - lr: 0.0200\n",
            "Epoch 115/200\n",
            "29/29 [==============================] - 15s 512ms/step - loss: 0.2182 - acc: 0.9830 - val_loss: 0.9647 - val_acc: 0.8237 - lr: 0.0200\n",
            "Epoch 116/200\n",
            "29/29 [==============================] - 15s 514ms/step - loss: 0.2140 - acc: 0.9792 - val_loss: 0.9845 - val_acc: 0.8137 - lr: 0.0200\n",
            "Epoch 117/200\n",
            "29/29 [==============================] - 15s 513ms/step - loss: 0.2005 - acc: 0.9854 - val_loss: 0.9728 - val_acc: 0.8158 - lr: 0.0200\n",
            "Epoch 118/200\n",
            "29/29 [==============================] - 15s 513ms/step - loss: 0.1950 - acc: 0.9887 - val_loss: 0.9807 - val_acc: 0.8184 - lr: 0.0200\n",
            "Epoch 119/200\n",
            "29/29 [==============================] - 15s 513ms/step - loss: 0.1907 - acc: 0.9881 - val_loss: 0.9534 - val_acc: 0.8290 - lr: 0.0200\n",
            "Epoch 120/200\n",
            "29/29 [==============================] - 15s 513ms/step - loss: 0.1861 - acc: 0.9906 - val_loss: 0.9195 - val_acc: 0.8311 - lr: 0.0200\n",
            "Epoch 121/200\n",
            "29/29 [==============================] - 15s 514ms/step - loss: 0.1904 - acc: 0.9876 - val_loss: 0.9329 - val_acc: 0.8359 - lr: 0.0040\n",
            "Epoch 122/200\n",
            "29/29 [==============================] - 15s 514ms/step - loss: 0.1743 - acc: 0.9949 - val_loss: 0.9395 - val_acc: 0.8338 - lr: 0.0040\n",
            "Epoch 123/200\n",
            "29/29 [==============================] - 15s 511ms/step - loss: 0.1710 - acc: 0.9951 - val_loss: 0.8820 - val_acc: 0.8354 - lr: 0.0040\n",
            "Epoch 124/200\n",
            "29/29 [==============================] - 15s 513ms/step - loss: 0.1681 - acc: 0.9968 - val_loss: 0.9210 - val_acc: 0.8401 - lr: 0.0040\n",
            "Epoch 125/200\n",
            "29/29 [==============================] - 15s 513ms/step - loss: 0.1670 - acc: 0.9962 - val_loss: 0.9255 - val_acc: 0.8317 - lr: 0.0040\n",
            "Epoch 126/200\n",
            "29/29 [==============================] - 15s 513ms/step - loss: 0.1664 - acc: 0.9962 - val_loss: 0.9094 - val_acc: 0.8385 - lr: 0.0040\n",
            "Epoch 127/200\n",
            "29/29 [==============================] - 15s 513ms/step - loss: 0.1635 - acc: 0.9976 - val_loss: 0.8664 - val_acc: 0.8417 - lr: 0.0040\n",
            "Epoch 128/200\n",
            "29/29 [==============================] - 15s 513ms/step - loss: 0.1597 - acc: 0.9987 - val_loss: 0.9163 - val_acc: 0.8417 - lr: 0.0040\n",
            "Epoch 129/200\n",
            "29/29 [==============================] - 15s 512ms/step - loss: 0.1621 - acc: 0.9976 - val_loss: 0.9332 - val_acc: 0.8332 - lr: 0.0040\n",
            "Epoch 130/200\n",
            "29/29 [==============================] - 15s 514ms/step - loss: 0.1590 - acc: 0.9970 - val_loss: 0.8997 - val_acc: 0.8370 - lr: 0.0040\n",
            "Epoch 131/200\n",
            "29/29 [==============================] - 15s 514ms/step - loss: 0.1604 - acc: 0.9965 - val_loss: 0.9021 - val_acc: 0.8433 - lr: 0.0040\n",
            "Epoch 132/200\n",
            "29/29 [==============================] - 15s 512ms/step - loss: 0.1591 - acc: 0.9987 - val_loss: 0.9321 - val_acc: 0.8385 - lr: 0.0040\n",
            "Epoch 133/200\n",
            "29/29 [==============================] - 15s 513ms/step - loss: 0.1599 - acc: 0.9978 - val_loss: 0.9127 - val_acc: 0.8396 - lr: 0.0040\n",
            "Epoch 134/200\n",
            "29/29 [==============================] - 15s 513ms/step - loss: 0.1569 - acc: 0.9984 - val_loss: 0.9527 - val_acc: 0.8370 - lr: 0.0040\n",
            "Epoch 135/200\n",
            "29/29 [==============================] - 15s 513ms/step - loss: 0.1568 - acc: 0.9984 - val_loss: 0.9401 - val_acc: 0.8385 - lr: 0.0040\n",
            "Epoch 136/200\n",
            "29/29 [==============================] - 15s 513ms/step - loss: 0.1580 - acc: 0.9978 - val_loss: 0.9277 - val_acc: 0.8412 - lr: 0.0040\n",
            "Epoch 137/200\n",
            "29/29 [==============================] - 15s 513ms/step - loss: 0.1552 - acc: 0.9984 - val_loss: 0.9178 - val_acc: 0.8375 - lr: 0.0040\n",
            "Epoch 138/200\n",
            "29/29 [==============================] - 15s 514ms/step - loss: 0.1558 - acc: 0.9978 - val_loss: 0.9391 - val_acc: 0.8338 - lr: 0.0040\n",
            "Epoch 139/200\n",
            "29/29 [==============================] - 15s 513ms/step - loss: 0.1553 - acc: 0.9984 - val_loss: 0.9173 - val_acc: 0.8433 - lr: 0.0040\n",
            "Epoch 140/200\n",
            "29/29 [==============================] - 15s 514ms/step - loss: 0.1550 - acc: 0.9976 - val_loss: 0.9332 - val_acc: 0.8380 - lr: 0.0040\n",
            "Epoch 141/200\n",
            "29/29 [==============================] - 15s 514ms/step - loss: 0.1517 - acc: 0.9992 - val_loss: 0.9293 - val_acc: 0.8359 - lr: 0.0040\n",
            "Epoch 142/200\n",
            "29/29 [==============================] - 15s 514ms/step - loss: 0.1534 - acc: 0.9987 - val_loss: 0.9257 - val_acc: 0.8385 - lr: 0.0040\n",
            "Epoch 143/200\n",
            "29/29 [==============================] - 15s 513ms/step - loss: 0.1524 - acc: 0.9992 - val_loss: 0.9496 - val_acc: 0.8343 - lr: 0.0040\n",
            "Epoch 144/200\n",
            "29/29 [==============================] - 15s 514ms/step - loss: 0.1524 - acc: 0.9995 - val_loss: 0.9180 - val_acc: 0.8385 - lr: 0.0040\n",
            "Epoch 145/200\n",
            "29/29 [==============================] - 15s 514ms/step - loss: 0.1552 - acc: 0.9976 - val_loss: 0.9187 - val_acc: 0.8375 - lr: 0.0040\n",
            "Epoch 146/200\n",
            "29/29 [==============================] - 15s 512ms/step - loss: 0.1520 - acc: 0.9989 - val_loss: 0.9293 - val_acc: 0.8375 - lr: 0.0040\n",
            "Epoch 147/200\n",
            "29/29 [==============================] - 15s 512ms/step - loss: 0.1510 - acc: 0.9992 - val_loss: 0.9194 - val_acc: 0.8364 - lr: 0.0040\n",
            "Epoch 148/200\n",
            "29/29 [==============================] - 15s 514ms/step - loss: 0.1489 - acc: 0.9995 - val_loss: 0.9055 - val_acc: 0.8401 - lr: 0.0040\n",
            "Epoch 149/200\n",
            "29/29 [==============================] - 15s 513ms/step - loss: 0.1501 - acc: 0.9989 - val_loss: 0.9089 - val_acc: 0.8385 - lr: 0.0040\n",
            "Epoch 150/200\n",
            "29/29 [==============================] - 15s 514ms/step - loss: 0.1515 - acc: 0.9981 - val_loss: 0.9288 - val_acc: 0.8354 - lr: 0.0040\n",
            "Epoch 151/200\n",
            "29/29 [==============================] - 15s 515ms/step - loss: 0.1505 - acc: 0.9987 - val_loss: 0.9241 - val_acc: 0.8391 - lr: 0.0040\n",
            "Epoch 152/200\n",
            "29/29 [==============================] - 15s 513ms/step - loss: 0.1482 - acc: 0.9995 - val_loss: 0.9143 - val_acc: 0.8359 - lr: 0.0040\n",
            "Epoch 153/200\n",
            "29/29 [==============================] - 15s 511ms/step - loss: 0.1479 - acc: 0.9992 - val_loss: 0.8994 - val_acc: 0.8407 - lr: 0.0040\n",
            "Epoch 154/200\n",
            "29/29 [==============================] - 15s 512ms/step - loss: 0.1478 - acc: 0.9987 - val_loss: 0.9018 - val_acc: 0.8359 - lr: 0.0040\n",
            "Epoch 155/200\n",
            "29/29 [==============================] - 15s 514ms/step - loss: 0.1494 - acc: 0.9978 - val_loss: 0.9479 - val_acc: 0.8380 - lr: 0.0040\n",
            "Epoch 156/200\n",
            "29/29 [==============================] - 15s 513ms/step - loss: 0.1488 - acc: 0.9987 - val_loss: 0.9349 - val_acc: 0.8380 - lr: 0.0040\n",
            "Epoch 157/200\n",
            "29/29 [==============================] - 15s 512ms/step - loss: 0.1475 - acc: 0.9989 - val_loss: 0.9491 - val_acc: 0.8348 - lr: 0.0040\n",
            "Epoch 158/200\n",
            "29/29 [==============================] - 15s 514ms/step - loss: 0.1457 - acc: 1.0000 - val_loss: 0.9552 - val_acc: 0.8348 - lr: 0.0040\n",
            "Epoch 159/200\n",
            "29/29 [==============================] - 15s 513ms/step - loss: 0.1462 - acc: 0.9995 - val_loss: 0.8946 - val_acc: 0.8370 - lr: 0.0040\n",
            "Epoch 160/200\n",
            "29/29 [==============================] - 15s 513ms/step - loss: 0.1470 - acc: 0.9978 - val_loss: 0.9093 - val_acc: 0.8370 - lr: 0.0040\n",
            "Epoch 161/200\n",
            "29/29 [==============================] - 15s 513ms/step - loss: 0.1444 - acc: 0.9995 - val_loss: 0.9553 - val_acc: 0.8354 - lr: 8.0000e-04\n",
            "Epoch 162/200\n",
            "29/29 [==============================] - 15s 512ms/step - loss: 0.1462 - acc: 0.9992 - val_loss: 0.9237 - val_acc: 0.8380 - lr: 8.0000e-04\n",
            "Epoch 163/200\n",
            "29/29 [==============================] - 15s 514ms/step - loss: 0.1445 - acc: 0.9995 - val_loss: 0.9411 - val_acc: 0.8385 - lr: 8.0000e-04\n",
            "Epoch 164/200\n",
            "29/29 [==============================] - 15s 514ms/step - loss: 0.1465 - acc: 0.9981 - val_loss: 0.9321 - val_acc: 0.8364 - lr: 8.0000e-04\n",
            "Epoch 165/200\n",
            "29/29 [==============================] - 15s 512ms/step - loss: 0.1442 - acc: 0.9997 - val_loss: 0.9049 - val_acc: 0.8396 - lr: 8.0000e-04\n",
            "Epoch 166/200\n",
            "29/29 [==============================] - 15s 513ms/step - loss: 0.1450 - acc: 0.9987 - val_loss: 0.9389 - val_acc: 0.8391 - lr: 8.0000e-04\n",
            "Epoch 167/200\n",
            "29/29 [==============================] - 15s 514ms/step - loss: 0.1453 - acc: 0.9992 - val_loss: 0.9369 - val_acc: 0.8391 - lr: 8.0000e-04\n",
            "Epoch 168/200\n",
            "29/29 [==============================] - 15s 513ms/step - loss: 0.1440 - acc: 0.9995 - val_loss: 0.9071 - val_acc: 0.8412 - lr: 8.0000e-04\n",
            "Epoch 169/200\n",
            "29/29 [==============================] - 15s 514ms/step - loss: 0.1439 - acc: 0.9995 - val_loss: 0.9119 - val_acc: 0.8396 - lr: 8.0000e-04\n",
            "Epoch 170/200\n",
            "29/29 [==============================] - 15s 513ms/step - loss: 0.1435 - acc: 1.0000 - val_loss: 0.9001 - val_acc: 0.8385 - lr: 8.0000e-04\n",
            "Epoch 171/200\n",
            "29/29 [==============================] - 15s 512ms/step - loss: 0.1442 - acc: 0.9995 - val_loss: 0.9123 - val_acc: 0.8438 - lr: 8.0000e-04\n",
            "Epoch 172/200\n",
            "29/29 [==============================] - 15s 513ms/step - loss: 0.1441 - acc: 0.9989 - val_loss: 0.9191 - val_acc: 0.8401 - lr: 8.0000e-04\n",
            "Epoch 173/200\n",
            "29/29 [==============================] - 15s 513ms/step - loss: 0.1446 - acc: 0.9992 - val_loss: 0.9358 - val_acc: 0.8401 - lr: 8.0000e-04\n",
            "Epoch 174/200\n",
            "29/29 [==============================] - 15s 515ms/step - loss: 0.1435 - acc: 0.9997 - val_loss: 0.9266 - val_acc: 0.8417 - lr: 8.0000e-04\n",
            "Epoch 175/200\n",
            "29/29 [==============================] - 15s 512ms/step - loss: 0.1446 - acc: 0.9989 - val_loss: 0.9423 - val_acc: 0.8401 - lr: 8.0000e-04\n",
            "Epoch 176/200\n",
            "29/29 [==============================] - 15s 515ms/step - loss: 0.1457 - acc: 0.9984 - val_loss: 0.9465 - val_acc: 0.8375 - lr: 8.0000e-04\n",
            "Epoch 177/200\n",
            "29/29 [==============================] - 15s 513ms/step - loss: 0.1439 - acc: 0.9992 - val_loss: 0.9424 - val_acc: 0.8401 - lr: 8.0000e-04\n",
            "Epoch 178/200\n",
            "29/29 [==============================] - 15s 513ms/step - loss: 0.1431 - acc: 1.0000 - val_loss: 0.9337 - val_acc: 0.8396 - lr: 8.0000e-04\n",
            "Epoch 179/200\n",
            "29/29 [==============================] - 15s 514ms/step - loss: 0.1430 - acc: 0.9997 - val_loss: 0.9308 - val_acc: 0.8370 - lr: 8.0000e-04\n",
            "Epoch 180/200\n",
            "29/29 [==============================] - 15s 515ms/step - loss: 0.1439 - acc: 0.9995 - val_loss: 0.9276 - val_acc: 0.8375 - lr: 8.0000e-04\n",
            "Epoch 181/200\n",
            "29/29 [==============================] - 15s 513ms/step - loss: 0.1435 - acc: 0.9997 - val_loss: 0.9299 - val_acc: 0.8359 - lr: 8.0000e-04\n",
            "Epoch 182/200\n",
            "29/29 [==============================] - 15s 514ms/step - loss: 0.1439 - acc: 0.9995 - val_loss: 0.9341 - val_acc: 0.8385 - lr: 8.0000e-04\n",
            "Epoch 183/200\n",
            "29/29 [==============================] - 15s 513ms/step - loss: 0.1432 - acc: 0.9995 - val_loss: 0.9576 - val_acc: 0.8348 - lr: 8.0000e-04\n",
            "Epoch 184/200\n",
            "29/29 [==============================] - 15s 514ms/step - loss: 0.1442 - acc: 0.9995 - val_loss: 0.9214 - val_acc: 0.8380 - lr: 8.0000e-04\n",
            "Epoch 185/200\n",
            "29/29 [==============================] - 15s 514ms/step - loss: 0.1435 - acc: 0.9995 - val_loss: 0.9527 - val_acc: 0.8359 - lr: 8.0000e-04\n",
            "Epoch 186/200\n",
            "29/29 [==============================] - 15s 513ms/step - loss: 0.1425 - acc: 0.9997 - val_loss: 0.9202 - val_acc: 0.8375 - lr: 8.0000e-04\n",
            "Epoch 187/200\n",
            "29/29 [==============================] - 15s 513ms/step - loss: 0.1433 - acc: 0.9997 - val_loss: 0.9141 - val_acc: 0.8364 - lr: 8.0000e-04\n",
            "Epoch 188/200\n",
            "29/29 [==============================] - 15s 513ms/step - loss: 0.1426 - acc: 0.9995 - val_loss: 0.9161 - val_acc: 0.8375 - lr: 8.0000e-04\n",
            "Epoch 189/200\n",
            "29/29 [==============================] - 15s 512ms/step - loss: 0.1426 - acc: 0.9995 - val_loss: 0.9205 - val_acc: 0.8375 - lr: 8.0000e-04\n",
            "Epoch 190/200\n",
            "29/29 [==============================] - 15s 513ms/step - loss: 0.1443 - acc: 0.9989 - val_loss: 0.9374 - val_acc: 0.8370 - lr: 8.0000e-04\n",
            "Epoch 191/200\n",
            "29/29 [==============================] - 15s 513ms/step - loss: 0.1429 - acc: 0.9995 - val_loss: 0.9257 - val_acc: 0.8370 - lr: 8.0000e-04\n",
            "Epoch 192/200\n",
            "29/29 [==============================] - 15s 513ms/step - loss: 0.1423 - acc: 0.9992 - val_loss: 0.9167 - val_acc: 0.8422 - lr: 8.0000e-04\n",
            "Epoch 193/200\n",
            "29/29 [==============================] - 15s 513ms/step - loss: 0.1439 - acc: 0.9995 - val_loss: 0.9301 - val_acc: 0.8364 - lr: 8.0000e-04\n",
            "Epoch 194/200\n",
            "29/29 [==============================] - 15s 513ms/step - loss: 0.1432 - acc: 0.9989 - val_loss: 0.9035 - val_acc: 0.8422 - lr: 8.0000e-04\n",
            "Epoch 195/200\n",
            "29/29 [==============================] - 15s 513ms/step - loss: 0.1437 - acc: 0.9992 - val_loss: 0.9605 - val_acc: 0.8385 - lr: 8.0000e-04\n",
            "Epoch 196/200\n",
            "29/29 [==============================] - 15s 512ms/step - loss: 0.1429 - acc: 0.9987 - val_loss: 0.9052 - val_acc: 0.8417 - lr: 8.0000e-04\n",
            "Epoch 197/200\n",
            "29/29 [==============================] - 15s 511ms/step - loss: 0.1414 - acc: 0.9997 - val_loss: 0.9245 - val_acc: 0.8385 - lr: 8.0000e-04\n",
            "Epoch 198/200\n",
            "29/29 [==============================] - 15s 515ms/step - loss: 0.1428 - acc: 0.9997 - val_loss: 0.9047 - val_acc: 0.8380 - lr: 8.0000e-04\n",
            "Epoch 199/200\n",
            "29/29 [==============================] - 15s 513ms/step - loss: 0.1422 - acc: 0.9997 - val_loss: 0.8994 - val_acc: 0.8385 - lr: 8.0000e-04\n",
            "Epoch 200/200\n",
            "29/29 [==============================] - 15s 514ms/step - loss: 0.1426 - acc: 0.9989 - val_loss: 0.9231 - val_acc: 0.8412 - lr: 8.0000e-04\n"
          ],
          "name": "stdout"
        }
      ]
    },
    {
      "cell_type": "code",
      "metadata": {
        "id": "y-QerZ4RN91R",
        "colab_type": "code",
        "outputId": "c138019c-b314-4e86-f9a4-a33195b3c351",
        "colab": {
          "base_uri": "https://localhost:8080/",
          "height": 265
        }
      },
      "source": [
        "from matplotlib import  pyplot\n",
        "\n",
        "\n",
        "pyplot.plot(hist.history[\"acc\"], label='train')\n",
        "pyplot.plot(hist.history['val_acc'], label='test')\n",
        "pyplot.savefig(\"deneme.png\")"
      ],
      "execution_count": 27,
      "outputs": [
        {
          "output_type": "display_data",
          "data": {
            "image/png": "[encoded data removed]",
            "text/plain": [
              "<Figure size 432x288 with 1 Axes>"
            ]
          },
          "metadata": {
            "tags": [],
            "needs_background": "light"
          }
        }
      ]
    },
    {
      "cell_type": "code",
      "metadata": {
        "id": "xeg6MBf-GSgC",
        "colab_type": "code",
        "colab": {}
      },
      "source": [
        "test_err = [1.0-x for x in hist.history['val_acc']]"
      ],
      "execution_count": 0,
      "outputs": []
    },
    {
      "cell_type": "code",
      "metadata": {
        "id": "RgiKT6i5GiJ9",
        "colab_type": "code",
        "outputId": "5a5d1d9b-a4e8-406b-a51f-0b882d6a0dfd",
        "colab": {
          "base_uri": "https://localhost:8080/",
          "height": 265
        }
      },
      "source": [
        "pyplot.plot(test_err, label='test')\n",
        "pyplot.savefig(\"deneme_err.png\")"
      ],
      "execution_count": 30,
      "outputs": [
        {
          "output_type": "display_data",
          "data": {
            "image/png": "[encoded data removed]",
            "text/plain": [
              "<Figure size 432x288 with 1 Axes>"
            ]
          },
          "metadata": {
            "tags": [],
            "needs_background": "light"
          }
        }
      ]
    },
    {
      "cell_type": "code",
      "metadata": {
        "id": "l4-IJ9Z-dQKF",
        "colab_type": "code",
        "colab": {}
      },
      "source": [
        "import tensorflow as tf\n",
        "wrn_28_10.save(\"parseval_tensor_lst.h5\")"
      ],
      "execution_count": 0,
      "outputs": []
    },
    {
      "cell_type": "code",
      "metadata": {
        "id": "MqddlwbmEV9s",
        "colab_type": "code",
        "colab": {}
      },
      "source": [
        "y_pred = wrn_28_10.predict(X_test)"
      ],
      "execution_count": 0,
      "outputs": []
    },
    {
      "cell_type": "code",
      "metadata": {
        "id": "GDVf4J_lEb2R",
        "colab_type": "code",
        "outputId": "5bdc07a1-9e1e-4ec5-d5f6-0d848eae9206",
        "colab": {
          "base_uri": "https://localhost:8080/",
          "height": 51
        }
      },
      "source": [
        "y_pred[8]"
      ],
      "execution_count": 33,
      "outputs": [
        {
          "output_type": "execute_result",
          "data": {
            "text/plain": [
              "array([2.1024935e-02, 9.7708249e-01, 1.3594669e-03, 5.3310243e-04],\n",
              "      dtype=float32)"
            ]
          },
          "metadata": {
            "tags": []
          },
          "execution_count": 33
        }
      ]
    },
    {
      "cell_type": "code",
      "metadata": {
        "id": "8mcYkI-REb63",
        "colab_type": "code",
        "outputId": "17a7ea63-28ac-43cb-f3cb-f95257d90478",
        "colab": {
          "base_uri": "https://localhost:8080/",
          "height": 34
        }
      },
      "source": [
        "np.argmax(y_pred[8])"
      ],
      "execution_count": 34,
      "outputs": [
        {
          "output_type": "execute_result",
          "data": {
            "text/plain": [
              "1"
            ]
          },
          "metadata": {
            "tags": []
          },
          "execution_count": 34
        }
      ]
    },
    {
      "cell_type": "code",
      "metadata": {
        "id": "C9Ysop6NFDbs",
        "colab_type": "code",
        "outputId": "0e11a8f2-4a2f-446d-ff19-3ba7f4428b4f",
        "colab": {
          "base_uri": "https://localhost:8080/",
          "height": 51
        }
      },
      "source": [
        "wrn_28_10.evaluate(X_test,to_categorical(y_test_df['New']),batch_size=128,verbose=2)"
      ],
      "execution_count": 35,
      "outputs": [
        {
          "output_type": "stream",
          "text": [
            "15/15 - 2s - loss: 0.9231 - acc: 0.8412\n"
          ],
          "name": "stdout"
        },
        {
          "output_type": "execute_result",
          "data": {
            "text/plain": [
              "[0.9231326580047607, 0.8411858081817627]"
            ]
          },
          "metadata": {
            "tags": []
          },
          "execution_count": 35
        }
      ]
    },
    {
      "cell_type": "code",
      "metadata": {
        "id": "RfXeT5NJFmUe",
        "colab_type": "code",
        "colab": {
          "base_uri": "https://localhost:8080/",
          "height": 34
        },
        "outputId": "4d025b38-52c6-4ffa-f1b8-ea190179a779"
      },
      "source": [
        "y_test_df['New'][8]"
      ],
      "execution_count": 37,
      "outputs": [
        {
          "output_type": "execute_result",
          "data": {
            "text/plain": [
              "1"
            ]
          },
          "metadata": {
            "tags": []
          },
          "execution_count": 37
        }
      ]
    },
    {
      "cell_type": "code",
      "metadata": {
        "id": "TxKfbFgo05j0",
        "colab_type": "code",
        "colab": {}
      },
      "source": [
        ""
      ],
      "execution_count": 0,
      "outputs": []
    },
    {
      "cell_type": "code",
      "metadata": {
        "id": "THYCAlBW15Kg",
        "colab_type": "code",
        "colab": {
          "base_uri": "https://localhost:8080/",
          "height": 734
        },
        "outputId": "293bdb34-113d-4a78-d934-0e669ebdf442"
      },
      "source": [
        "!pip install -q tensorflow==2.0.0b1\n",
        "# Install bleeding edge version of cleverhans\n",
        "!pip install git+https://github.com/tensorflow/cleverhans.git#egg=cleverhans\n",
        "\n",
        "import cleverhans\n",
        "import tensorflow as tf\n",
        "import numpy as np\n",
        "import matplotlib.pyplot as plt\n",
        "\n",
        "print(\"\\nTensorflow Version: \" + tf.__version__)\n",
        "print(\"Cleverhans Version: \" + cleverhans.__version__)\n",
        "print(\"GPU Available: \", tf.test.is_gpu_available())"
      ],
      "execution_count": 45,
      "outputs": [
        {
          "output_type": "stream",
          "text": [
            "\u001b[K     |████████████████████████████████| 87.9MB 35kB/s \n",
            "\u001b[K     |████████████████████████████████| 501kB 39.0MB/s \n",
            "\u001b[K     |████████████████████████████████| 3.1MB 44.9MB/s \n",
            "\u001b[?25hCollecting cleverhans\n",
            "  Cloning https://github.com/tensorflow/cleverhans.git to /tmp/pip-install-wgp3ajip/cleverhans\n",
            "  Running command git clone -q https://github.com/tensorflow/cleverhans.git /tmp/pip-install-wgp3ajip/cleverhans\n",
            "Collecting nose\n",
            "\u001b[?25l  Downloading https://files.pythonhosted.org/packages/15/d8/dd071918c040f50fa1cf80da16423af51ff8ce4a0f2399b7bf8de45ac3d9/nose-1.3.7-py3-none-any.whl (154kB)\n",
            "\u001b[K     |████████████████████████████████| 163kB 2.8MB/s \n",
            "\u001b[?25hCollecting pycodestyle\n",
            "\u001b[?25l  Downloading https://files.pythonhosted.org/packages/10/5b/88879fb861ab79aef45c7e199cae3ef7af487b5603dcb363517a50602dd7/pycodestyle-2.6.0-py2.py3-none-any.whl (41kB)\n",
            "\u001b[K     |████████████████████████████████| 51kB 5.4MB/s \n",
            "\u001b[?25hRequirement already satisfied: scipy in /usr/local/lib/python3.6/dist-packages (from cleverhans) (1.4.1)\n",
            "Requirement already satisfied: matplotlib in /usr/local/lib/python3.6/dist-packages (from cleverhans) (3.2.1)\n",
            "Collecting mnist~=0.2\n",
            "  Downloading https://files.pythonhosted.org/packages/c6/c4/5db3bfe009f8d71f1d532bbadbd0ec203764bba3a469e4703a889db8e5e0/mnist-0.2.2-py2.py3-none-any.whl\n",
            "Requirement already satisfied: numpy in /usr/local/lib/python3.6/dist-packages (from cleverhans) (1.18.4)\n",
            "Requirement already satisfied: tensorflow-probability in /usr/local/lib/python3.6/dist-packages (from cleverhans) (0.10.0)\n",
            "Requirement already satisfied: joblib in /usr/local/lib/python3.6/dist-packages (from cleverhans) (0.15.1)\n",
            "Requirement already satisfied: pyparsing!=2.0.4,!=2.1.2,!=2.1.6,>=2.0.1 in /usr/local/lib/python3.6/dist-packages (from matplotlib->cleverhans) (2.4.7)\n",
            "Requirement already satisfied: kiwisolver>=1.0.1 in /usr/local/lib/python3.6/dist-packages (from matplotlib->cleverhans) (1.2.0)\n",
            "Requirement already satisfied: cycler>=0.10 in /usr/local/lib/python3.6/dist-packages (from matplotlib->cleverhans) (0.10.0)\n",
            "Requirement already satisfied: python-dateutil>=2.1 in /usr/local/lib/python3.6/dist-packages (from matplotlib->cleverhans) (2.8.1)\n",
            "Requirement already satisfied: cloudpickle>=1.2.2 in /usr/local/lib/python3.6/dist-packages (from tensorflow-probability->cleverhans) (1.3.0)\n",
            "Requirement already satisfied: decorator in /usr/local/lib/python3.6/dist-packages (from tensorflow-probability->cleverhans) (4.4.2)\n",
            "Requirement already satisfied: gast>=0.3.2 in /usr/local/lib/python3.6/dist-packages (from tensorflow-probability->cleverhans) (0.3.3)\n",
            "Requirement already satisfied: six>=1.10.0 in /usr/local/lib/python3.6/dist-packages (from tensorflow-probability->cleverhans) (1.12.0)\n",
            "Building wheels for collected packages: cleverhans\n",
            "  Building wheel for cleverhans (setup.py) ... \u001b[?25l\u001b[?25hdone\n",
            "  Created wheel for cleverhans: filename=cleverhans-3.0.1-cp36-none-any.whl size=262572 sha256=9b140e898b4fd588b7d61044063a489b678633c8bb1e1e90c30e9ec89fb65772\n",
            "  Stored in directory: /tmp/pip-ephem-wheel-cache-g87wshp1/wheels/6e/59/ec/723a6f654aaf62c8c40f0f0850fdf71a4948598697f56c3bfa\n",
            "Successfully built cleverhans\n",
            "Installing collected packages: nose, pycodestyle, mnist, cleverhans\n",
            "Successfully installed cleverhans-3.0.1 mnist-0.2.2 nose-1.3.7 pycodestyle-2.6.0\n",
            "\n",
            "Tensorflow Version: 2.2.0\n",
            "Cleverhans Version: 3.0.1-fc7b7c7ec903258e0e3fb88503fa629f\n",
            "WARNING:tensorflow:From <ipython-input-45-67a2c783edbc>:12: is_gpu_available (from tensorflow.python.framework.test_util) is deprecated and will be removed in a future version.\n",
            "Instructions for updating:\n",
            "Use `tf.config.list_physical_devices('GPU')` instead.\n",
            "GPU Available:  True\n"
          ],
          "name": "stdout"
        }
      ]
    },
    {
      "cell_type": "code",
      "metadata": {
        "id": "ZNev4Y9U2sFQ",
        "colab_type": "code",
        "colab": {}
      },
      "source": [
        "from cleverhans.future.tf2.attacks import fast_gradient_method\n",
        "\n",
        "#The attack requires the model to ouput the logits\n",
        "logits_model = tf.keras.Model(wrn_28_10.input,wrn_28_10.layers[-1].output)"
      ],
      "execution_count": 0,
      "outputs": []
    },
    {
      "cell_type": "code",
      "metadata": {
        "id": "dtKEw7Uq3Dj-",
        "colab_type": "code",
        "colab": {}
      },
      "source": [
        "random_index = np.random.randint(X_test.shape[0])\n",
        "\n",
        "original_image = X_test[random_index]\n",
        "original_image = tf.convert_to_tensor(original_image.reshape((1,68,100))) "
      ],
      "execution_count": 0,
      "outputs": []
    },
    {
      "cell_type": "code",
      "metadata": {
        "id": "FdxYTfSn3R4l",
        "colab_type": "code",
        "colab": {
          "base_uri": "https://localhost:8080/",
          "height": 34
        },
        "outputId": "eaa38937-ae76-4b12-ede5-ef8310fabf11"
      },
      "source": [
        "original_image.shape"
      ],
      "execution_count": 48,
      "outputs": [
        {
          "output_type": "execute_result",
          "data": {
            "text/plain": [
              "TensorShape([1, 68, 100])"
            ]
          },
          "metadata": {
            "tags": []
          },
          "execution_count": 48
        }
      ]
    },
    {
      "cell_type": "code",
      "metadata": {
        "id": "YSa4WKy33U3K",
        "colab_type": "code",
        "colab": {
          "base_uri": "https://localhost:8080/",
          "height": 68
        },
        "outputId": "2cde0384-1f71-4ad2-a584-fcb253af55f1"
      },
      "source": [
        "wrn_28_10(original_image)"
      ],
      "execution_count": 49,
      "outputs": [
        {
          "output_type": "execute_result",
          "data": {
            "text/plain": [
              "<tf.Tensor: shape=(1, 4), dtype=float32, numpy=\n",
              "array([[3.5369150e-02, 9.6226656e-01, 2.2395258e-03, 1.2480342e-04]],\n",
              "      dtype=float32)>"
            ]
          },
          "metadata": {
            "tags": []
          },
          "execution_count": 49
        }
      ]
    },
    {
      "cell_type": "code",
      "metadata": {
        "id": "_jrP3jw83fwT",
        "colab_type": "code",
        "colab": {}
      },
      "source": [
        "y_test_cat = to_categorical(y_test_df['New'])"
      ],
      "execution_count": 0,
      "outputs": []
    },
    {
      "cell_type": "code",
      "metadata": {
        "id": "4VoJsNJX4HiB",
        "colab_type": "code",
        "colab": {
          "base_uri": "https://localhost:8080/",
          "height": 34
        },
        "outputId": "cb9cea88-6240-46c2-9cc2-6dc0dcd1b323"
      },
      "source": [
        "original_label = y_test_cat[random_index]\n",
        "original_label "
      ],
      "execution_count": 58,
      "outputs": [
        {
          "output_type": "execute_result",
          "data": {
            "text/plain": [
              "array([0., 1., 0., 0.], dtype=float32)"
            ]
          },
          "metadata": {
            "tags": []
          },
          "execution_count": 58
        }
      ]
    },
    {
      "cell_type": "code",
      "metadata": {
        "id": "K70kNexu3l-c",
        "colab_type": "code",
        "colab": {}
      },
      "source": [
        "epsilon = 0.33\n",
        "\n",
        "\n",
        "adv_example_untargeted_label = fast_gradient_method(logits_model, original_image, epsilon, np.inf, targeted=False)\n",
        "\n",
        "adv_example_untargeted_label_pred = wrn_28_10.predict(adv_example_untargeted_label)"
      ],
      "execution_count": 0,
      "outputs": []
    },
    {
      "cell_type": "code",
      "metadata": {
        "id": "r-LglBmM4gNw",
        "colab_type": "code",
        "colab": {
          "base_uri": "https://localhost:8080/",
          "height": 255
        },
        "outputId": "86e28cf3-6eb8-4857-af08-eefcdc9447e0"
      },
      "source": [
        "adv_example_untargeted_label"
      ],
      "execution_count": 79,
      "outputs": [
        {
          "output_type": "execute_result",
          "data": {
            "text/plain": [
              "<tf.Tensor: shape=(1, 68, 100), dtype=float32, numpy=\n",
              "array([[[ 2.2472608 ,  2.0218558 ,  2.066937  , ..., -1.5233265 ,\n",
              "         -1.2528406 , -0.5928407 ],\n",
              "        [ 2.2472608 ,  2.0218558 ,  2.066937  , ..., -1.3430027 ,\n",
              "         -1.3880836 , -1.3880836 ],\n",
              "        [ 1.5872607 ,  1.4520178 ,  1.4520178 , ..., -1.5684075 ,\n",
              "         -1.4331646 , -1.4331646 ],\n",
              "        ...,\n",
              "        [ 1.5421798 ,  1.976775  ,  1.976775  , ..., -0.86332643,\n",
              "         -0.8182454 , -0.5928407 ],\n",
              "        [ 1.5421798 ,  1.3618559 ,  2.0218558 , ..., -0.8182454 ,\n",
              "         -0.7731645 , -0.6379216 ],\n",
              "        [ 1.2266129 ,  1.271694  ,  1.271694  , ..., -0.8182454 ,\n",
              "         -0.6379216 , -0.6830026 ]]], dtype=float32)>"
            ]
          },
          "metadata": {
            "tags": []
          },
          "execution_count": 79
        }
      ]
    },
    {
      "cell_type": "code",
      "metadata": {
        "id": "8d6rZhTp4i2b",
        "colab_type": "code",
        "colab": {
          "base_uri": "https://localhost:8080/",
          "height": 34
        },
        "outputId": "661a7a6b-0e1b-4669-bef3-480acb1b3c9d"
      },
      "source": [
        "np.argmax(adv_example_untargeted_label_pred)"
      ],
      "execution_count": 80,
      "outputs": [
        {
          "output_type": "execute_result",
          "data": {
            "text/plain": [
              "0"
            ]
          },
          "metadata": {
            "tags": []
          },
          "execution_count": 80
        }
      ]
    }
  ]
}