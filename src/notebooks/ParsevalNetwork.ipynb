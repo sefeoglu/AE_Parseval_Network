{
  "nbformat": 4,
  "nbformat_minor": 0,
  "metadata": {
    "kernelspec": {
      "display_name": "Python 3",
      "language": "python",
      "name": "python3"
    },
    "language_info": {
      "codemirror_mode": {
        "name": "ipython",
        "version": 3
      },
      "file_extension": ".py",
      "mimetype": "text/x-python",
      "name": "python",
      "nbconvert_exporter": "python",
      "pygments_lexer": "ipython3",
      "version": "3.7.4"
    },
    "colab": {
      "name": "ParsevalNetwork.ipynb",
      "provenance": []
    },
    "accelerator": "GPU"
  },
  "cells": [
    {
      "cell_type": "code",
      "metadata": {
        "id": "esXS1STy_O_m",
        "colab_type": "code",
        "colab": {}
      },
      "source": [
        "from sklearn.model_selection import train_test_split\n",
        "import gzip\n",
        "import pickle\n",
        "import numpy as np"
      ],
      "execution_count": 0,
      "outputs": []
    },
    {
      "cell_type": "code",
      "metadata": {
        "id": "11nX1rD7_O_t",
        "colab_type": "code",
        "outputId": "0e364f35-5c52-4cec-e633-41c346cabdaf",
        "colab": {
          "base_uri": "https://localhost:8080/",
          "height": 34
        }
      },
      "source": [
        "def read_data():\n",
        "    with open(\"data.pz\", 'rb') as file_:\n",
        "        with gzip.GzipFile(fileobj=file_) as gzf:\n",
        "            data = pickle.load(gzf, encoding='latin1', fix_imports=True)\n",
        "    return data\n",
        "data = read_data()\n",
        "new_data_X = []\n",
        "Y_data = []\n",
        "for row in data:\n",
        "    new_data_X.append(row['crop'])\n",
        "    Y_data.append(row['label'])\n",
        "new_data_X = np.array(new_data_X)\n",
        "new_data_X.shape"
      ],
      "execution_count": 78,
      "outputs": [
        {
          "output_type": "execute_result",
          "data": {
            "text/plain": [
              "(5722, 68, 100)"
            ]
          },
          "metadata": {
            "tags": []
          },
          "execution_count": 78
        }
      ]
    },
    {
      "cell_type": "code",
      "metadata": {
        "id": "BmyV1MMm_O_y",
        "colab_type": "code",
        "colab": {}
      },
      "source": [
        "X_train, X_test, y_train, y_test = train_test_split(new_data_X, Y_data, test_size=0.33, random_state=42)"
      ],
      "execution_count": 0,
      "outputs": []
    },
    {
      "cell_type": "code",
      "metadata": {
        "id": "grRS393n_O_3",
        "colab_type": "code",
        "colab": {}
      },
      "source": [
        "X_train = X_train.astype('float32')\n",
        "X_test = X_test.astype('float32')"
      ],
      "execution_count": 0,
      "outputs": []
    },
    {
      "cell_type": "code",
      "metadata": {
        "id": "MCu-tWhd_O_7",
        "colab_type": "code",
        "colab": {}
      },
      "source": [
        "import pandas as pd\n",
        "import numpy as np\n",
        "from sklearn.preprocessing import LabelEncoder\n",
        "\n",
        "# creating initial dataframe\n",
        "\n",
        "y_train_df = pd.DataFrame(y_train, columns=['Label'])\n",
        "# creating instance of labelencoder\n",
        "labelencoder = LabelEncoder()\n",
        "# Assigning numerical values and storing in another column\n",
        "y_train_df['New'] = labelencoder.fit_transform(y_train_df['Label'])\n",
        "y_test_df = pd.DataFrame(y_test, columns=['Label'])\n",
        "# creating instance of labelencoder\n",
        "labelencoder = LabelEncoder()\n",
        "# Assigning numerical values and storing in another column\n",
        "y_test_df['New'] = labelencoder.fit_transform(y_test_df['Label'])"
      ],
      "execution_count": 0,
      "outputs": []
    },
    {
      "cell_type": "code",
      "metadata": {
        "id": "qQ5CHhcF_PAA",
        "colab_type": "code",
        "colab": {}
      },
      "source": [
        "from keras import backend as K\n",
        "img_rows, img_cols = X_train[0].shape\n",
        "\n",
        "\n",
        "# transform data set\n",
        "if K.common.image_data_format() == 'channels_first':\n",
        "    X_train = X_train.reshape(X_train.shape[0], 1, img_rows, img_cols)\n",
        "    X_test = X_test.reshape(X_test.shape[0], 1, img_rows, img_cols)\n",
        "    input_shape = (1, img_rows, img_cols)\n",
        "else:\n",
        "    X_train = X_train.reshape(X_train.shape[0], img_rows, img_cols, 1)\n",
        "    X_test = X_test.reshape(X_test.shape[0], img_rows, img_cols, 1)\n",
        "    input_shape = (img_rows, img_cols, 1)"
      ],
      "execution_count": 0,
      "outputs": []
    },
    {
      "cell_type": "markdown",
      "metadata": {
        "id": "v3g_vzsy_ndF",
        "colab_type": "text"
      },
      "source": [
        "**Parseval Network**"
      ]
    },
    {
      "cell_type": "markdown",
      "metadata": {
        "id": "sllEBqMW_tEz",
        "colab_type": "text"
      },
      "source": [
        "**Constrait**"
      ]
    },
    {
      "cell_type": "code",
      "metadata": {
        "id": "WN76FYUZ_3YA",
        "colab_type": "code",
        "outputId": "7d2b7fe6-d599-46a4-9c18-5851246ffac0",
        "colab": {
          "base_uri": "https://localhost:8080/",
          "height": 1000
        }
      },
      "source": [
        "from keras.models import Model\n",
        "from keras.layers import Input, Add, Activation, Dropout, Flatten, Dense\n",
        "from keras.layers.convolutional import Convolution2D, MaxPooling2D, AveragePooling2D\n",
        "from keras.layers.normalization import BatchNormalization\n",
        "from keras.regularizers import l2\n",
        "from keras import backend as K\n",
        "import warnings\n",
        "\n",
        "warnings.filterwarnings(\"ignore\")\n",
        "weight_decay = 0.0005\n",
        "\n",
        "\n",
        "def initial_conv(input):\n",
        "  \n",
        "    x = Convolution2D(16, (3, 3), padding='same', kernel_initializer='orthogonal',\n",
        "                      W_regularizer=l2(weight_decay),\n",
        "                      use_bias=False)(input)\n",
        "\n",
        "    channel_axis = 1 if K.image_data_format() == \"channels_first\" else -1\n",
        "\n",
        "    x = BatchNormalization(axis=channel_axis, momentum=0.1, epsilon=1e-5, gamma_initializer='uniform')(x)\n",
        "    x = Activation('relu')(x)\n",
        "    return x\n",
        "\n",
        "\n",
        "def expand_conv(init, base, k, strides=(1, 1)):\n",
        "    x = Convolution2D(base * k, (3, 3), padding='same', strides=strides, kernel_initializer='Orthogonal',\n",
        "                      W_regularizer=l2(weight_decay),\n",
        "                      use_bias=False)(init)\n",
        "\n",
        "    channel_axis = 1 if K.image_data_format() == \"channels_first\" else -1\n",
        "\n",
        "    x = BatchNormalization(axis=channel_axis, momentum=0.1, epsilon=1e-5, gamma_initializer='uniform')(x)\n",
        "    x = Activation('relu')(x)\n",
        "\n",
        "    x = Convolution2D(base * k, (3, 3), padding='same', kernel_initializer='Orthogonal',\n",
        "                      W_regularizer=l2(weight_decay),\n",
        "                      use_bias=False)(x)\n",
        "\n",
        "    skip = Convolution2D(base * k, (1, 1), padding='same', strides=strides, kernel_initializer='Orthogonal',\n",
        "                      W_regularizer=l2(weight_decay),\n",
        "                      use_bias=False)(init)\n",
        "\n",
        "    m = Add()([x, skip])\n",
        "\n",
        "    return m\n",
        "\n",
        "\n",
        "def conv1_block(input, k=1, dropout=0.0):\n",
        "    init = input\n",
        "\n",
        "    channel_axis = 1 if K.image_data_format() == \"channels_first\" else -1\n",
        "\n",
        "    x = BatchNormalization(axis=channel_axis, momentum=0.1, epsilon=1e-5, gamma_initializer='uniform')(input)\n",
        "    x = Activation('relu')(x)\n",
        "    x = Convolution2D(16 * k, (3, 3), padding='same', kernel_initializer='Orthogonal',\n",
        "                      W_regularizer=l2(weight_decay),\n",
        "                      use_bias=False)(x)\n",
        "\n",
        "    if dropout > 0.0: x = Dropout(dropout)(x)\n",
        "\n",
        "    x = BatchNormalization(axis=channel_axis, momentum=0.1, epsilon=1e-5, gamma_initializer='uniform')(x)\n",
        "    x = Activation('relu')(x)\n",
        "    x = Convolution2D(16 * k, (3, 3), padding='same', kernel_initializer='Orthogonal',\n",
        "                      W_regularizer=l2(weight_decay),\n",
        "                      use_bias=False)(x)\n",
        "\n",
        "    m = Add()([init, x])\n",
        "    return m\n",
        "\n",
        "def conv2_block(input, k=1, dropout=0.0):\n",
        "    init = input\n",
        "\n",
        "    channel_axis = 1 if K.common.image_dim_ordering() == \"th\" else -1\n",
        "    print(\"conv2:channel:  {}\".format(channel_axis))\n",
        "    x = BatchNormalization(axis=channel_axis, momentum=0.1, epsilon=1e-5, gamma_initializer='uniform')(input)\n",
        "    x = Activation('relu')(x)\n",
        "    x = Convolution2D(32 * k, (3, 3), padding='same', kernel_initializer='Orthogonal',\n",
        "                      W_regularizer=l2(weight_decay),\n",
        "                      use_bias=False)(x)\n",
        "\n",
        "    if dropout > 0.0: x = Dropout(dropout)(x)\n",
        "\n",
        "    x = BatchNormalization(axis=channel_axis, momentum=0.1, epsilon=1e-5, gamma_initializer='uniform')(x)\n",
        "    x = Activation('relu')(x)\n",
        "    x = Convolution2D(32 * k, (3, 3), padding='same', kernel_initializer='Orthogonal',\n",
        "                      W_regularizer=l2(weight_decay),\n",
        "                      use_bias=False)(x)\n",
        "\n",
        "    m = Add()([init, x])\n",
        "    return m\n",
        "\n",
        "def conv3_block(input, k=1, dropout=0.0):\n",
        "    init = input\n",
        "\n",
        "    channel_axis = 1 if K.common.image_dim_ordering() == \"th\" else -1\n",
        "    print(\"conv3 channel_axis:{} \".format(channel_axis))\n",
        "    x = BatchNormalization(axis=channel_axis, momentum=0.1, epsilon=1e-5, gamma_initializer='uniform')(input)\n",
        "    x = Activation('relu')(x)\n",
        "    x = Convolution2D(64 * k, (3, 3), padding='same', kernel_initializer='Orthogonal',\n",
        "                      W_regularizer=l2(weight_decay),\n",
        "                      use_bias=False)(x)\n",
        "\n",
        "    if dropout > 0.0: x = Dropout(dropout)(x)\n",
        "\n",
        "    x = BatchNormalization(axis=channel_axis, momentum=0.1, epsilon=1e-5, gamma_initializer='uniform')(x)\n",
        "    x = Activation('relu')(x)\n",
        "    x = Convolution2D(64 * k, (3, 3), padding='same', kernel_initializer='Orthogonal',\n",
        "                      W_regularizer=l2(weight_decay),\n",
        "                      use_bias=False)(x)\n",
        "\n",
        "    m = Add()([init, x])\n",
        "    return m\n",
        "\n",
        "def create_wide_residual_network(input_dim, nb_classes=100, N=2, k=1, dropout=0.0, verbose=1):\n",
        "    \"\"\"\n",
        "    Creates a Wide Residual Network with specified parameters\n",
        "\n",
        "    :param input: Input Keras object\n",
        "    :param nb_classes: Number of output classes\n",
        "    :param N: Depth of the network. Compute N = (n - 4) / 6.\n",
        "              Example : For a depth of 16, n = 16, N = (16 - 4) / 6 = 2\n",
        "              Example2: For a depth of 28, n = 28, N = (28 - 4) / 6 = 4\n",
        "              Example3: For a depth of 40, n = 40, N = (40 - 4) / 6 = 6\n",
        "    :param k: Width of the network.\n",
        "    :param dropout: Adds dropout if value is greater than 0.0\n",
        "    :param verbose: Debug info to describe created WRN\n",
        "    :return:\n",
        "    \"\"\"\n",
        "    channel_axis = 1 if K.common.image_data_format() == \"channels_first\" else -1\n",
        "\n",
        "    ip = Input(shape=input_dim)\n",
        "\n",
        "    x = initial_conv(ip)\n",
        "    nb_conv = 4\n",
        "\n",
        "    x = expand_conv(x, 16, k)\n",
        "    nb_conv += 2\n",
        "\n",
        "    for i in range(N - 1):\n",
        "        x = conv1_block(x, k, dropout)\n",
        "        nb_conv += 2\n",
        "\n",
        "    x = BatchNormalization(axis=channel_axis, momentum=0.1, epsilon=1e-5, gamma_initializer='uniform')(x)\n",
        "    x = Activation('relu')(x)\n",
        "\n",
        "    x = expand_conv(x, 32, k, strides=(2, 2))\n",
        "    nb_conv += 2\n",
        "\n",
        "    for i in range(N - 1):\n",
        "        x = conv2_block(x, k, dropout)\n",
        "        nb_conv += 2\n",
        "\n",
        "    x = BatchNormalization(axis=channel_axis, momentum=0.1, epsilon=1e-5, gamma_initializer='uniform')(x)\n",
        "    x = Activation('relu')(x)\n",
        "\n",
        "    x = expand_conv(x, 64, k, strides=(2, 2))\n",
        "    nb_conv += 2\n",
        "\n",
        "    for i in range(N - 1):\n",
        "        x = conv3_block(x, k, dropout)\n",
        "        nb_conv += 2\n",
        "\n",
        "    x = BatchNormalization(axis=channel_axis, momentum=0.1, epsilon=1e-5, gamma_initializer='uniform')(x)\n",
        "    x = Activation('relu')(x)\n",
        "\n",
        "    x = AveragePooling2D((8, 8))(x)\n",
        "    x = Flatten()(x)\n",
        "\n",
        "    x = Dense(nb_classes, W_regularizer=l2(weight_decay), activation='softmax')(x)\n",
        "\n",
        "    model = Model(ip, x)\n",
        "\n",
        "    if verbose: print(\"Parseval Residual Network-%d-%d created.\" % (nb_conv, k))\n",
        "    return model\n",
        "\n",
        "if __name__ == \"__main__\":\n",
        "    from keras.utils import plot_model\n",
        "    from keras.layers import Input\n",
        "    from keras.models import Model\n",
        "\n",
        "    init = (68, 100,1)\n",
        "\n",
        "    wrn_28_10 = create_wide_residual_network(init, nb_classes=4, N=2, k=2, dropout=0.0)\n",
        "\n",
        "    wrn_28_10.summary()\n",
        "\n",
        "   # plot_model(wrn_28_10, \"WRN-16-2.png\", show_shapes=True, show_layer_names=True)\n"
      ],
      "execution_count": 83,
      "outputs": [
        {
          "output_type": "stream",
          "text": [
            "conv2:channel:  -1\n",
            "conv3 channel_axis:-1 \n",
            "Parseval Residual Network-16-2 created.\n",
            "Model: \"model_7\"\n",
            "__________________________________________________________________________________________________\n",
            "Layer (type)                    Output Shape         Param #     Connected to                     \n",
            "==================================================================================================\n",
            "input_8 (InputLayer)            (None, 68, 100, 1)   0                                            \n",
            "__________________________________________________________________________________________________\n",
            "conv2d_106 (Conv2D)             (None, 68, 100, 16)  144         input_8[0][0]                    \n",
            "__________________________________________________________________________________________________\n",
            "batch_normalization_85 (BatchNo (None, 68, 100, 16)  64          conv2d_106[0][0]                 \n",
            "__________________________________________________________________________________________________\n",
            "activation_85 (Activation)      (None, 68, 100, 16)  0           batch_normalization_85[0][0]     \n",
            "__________________________________________________________________________________________________\n",
            "conv2d_107 (Conv2D)             (None, 68, 100, 32)  4608        activation_85[0][0]              \n",
            "__________________________________________________________________________________________________\n",
            "batch_normalization_86 (BatchNo (None, 68, 100, 32)  128         conv2d_107[0][0]                 \n",
            "__________________________________________________________________________________________________\n",
            "activation_86 (Activation)      (None, 68, 100, 32)  0           batch_normalization_86[0][0]     \n",
            "__________________________________________________________________________________________________\n",
            "conv2d_108 (Conv2D)             (None, 68, 100, 32)  9216        activation_86[0][0]              \n",
            "__________________________________________________________________________________________________\n",
            "conv2d_109 (Conv2D)             (None, 68, 100, 32)  512         activation_85[0][0]              \n",
            "__________________________________________________________________________________________________\n",
            "add_40 (Add)                    (None, 68, 100, 32)  0           conv2d_108[0][0]                 \n",
            "                                                                 conv2d_109[0][0]                 \n",
            "__________________________________________________________________________________________________\n",
            "batch_normalization_87 (BatchNo (None, 68, 100, 32)  128         add_40[0][0]                     \n",
            "__________________________________________________________________________________________________\n",
            "activation_87 (Activation)      (None, 68, 100, 32)  0           batch_normalization_87[0][0]     \n",
            "__________________________________________________________________________________________________\n",
            "conv2d_110 (Conv2D)             (None, 68, 100, 32)  9216        activation_87[0][0]              \n",
            "__________________________________________________________________________________________________\n",
            "batch_normalization_88 (BatchNo (None, 68, 100, 32)  128         conv2d_110[0][0]                 \n",
            "__________________________________________________________________________________________________\n",
            "activation_88 (Activation)      (None, 68, 100, 32)  0           batch_normalization_88[0][0]     \n",
            "__________________________________________________________________________________________________\n",
            "conv2d_111 (Conv2D)             (None, 68, 100, 32)  9216        activation_88[0][0]              \n",
            "__________________________________________________________________________________________________\n",
            "add_41 (Add)                    (None, 68, 100, 32)  0           add_40[0][0]                     \n",
            "                                                                 conv2d_111[0][0]                 \n",
            "__________________________________________________________________________________________________\n",
            "batch_normalization_89 (BatchNo (None, 68, 100, 32)  128         add_41[0][0]                     \n",
            "__________________________________________________________________________________________________\n",
            "activation_89 (Activation)      (None, 68, 100, 32)  0           batch_normalization_89[0][0]     \n",
            "__________________________________________________________________________________________________\n",
            "conv2d_112 (Conv2D)             (None, 34, 50, 64)   18432       activation_89[0][0]              \n",
            "__________________________________________________________________________________________________\n",
            "batch_normalization_90 (BatchNo (None, 34, 50, 64)   256         conv2d_112[0][0]                 \n",
            "__________________________________________________________________________________________________\n",
            "activation_90 (Activation)      (None, 34, 50, 64)   0           batch_normalization_90[0][0]     \n",
            "__________________________________________________________________________________________________\n",
            "conv2d_113 (Conv2D)             (None, 34, 50, 64)   36864       activation_90[0][0]              \n",
            "__________________________________________________________________________________________________\n",
            "conv2d_114 (Conv2D)             (None, 34, 50, 64)   2048        activation_89[0][0]              \n",
            "__________________________________________________________________________________________________\n",
            "add_42 (Add)                    (None, 34, 50, 64)   0           conv2d_113[0][0]                 \n",
            "                                                                 conv2d_114[0][0]                 \n",
            "__________________________________________________________________________________________________\n",
            "batch_normalization_91 (BatchNo (None, 34, 50, 64)   256         add_42[0][0]                     \n",
            "__________________________________________________________________________________________________\n",
            "activation_91 (Activation)      (None, 34, 50, 64)   0           batch_normalization_91[0][0]     \n",
            "__________________________________________________________________________________________________\n",
            "conv2d_115 (Conv2D)             (None, 34, 50, 64)   36864       activation_91[0][0]              \n",
            "__________________________________________________________________________________________________\n",
            "batch_normalization_92 (BatchNo (None, 34, 50, 64)   256         conv2d_115[0][0]                 \n",
            "__________________________________________________________________________________________________\n",
            "activation_92 (Activation)      (None, 34, 50, 64)   0           batch_normalization_92[0][0]     \n",
            "__________________________________________________________________________________________________\n",
            "conv2d_116 (Conv2D)             (None, 34, 50, 64)   36864       activation_92[0][0]              \n",
            "__________________________________________________________________________________________________\n",
            "add_43 (Add)                    (None, 34, 50, 64)   0           add_42[0][0]                     \n",
            "                                                                 conv2d_116[0][0]                 \n",
            "__________________________________________________________________________________________________\n",
            "batch_normalization_93 (BatchNo (None, 34, 50, 64)   256         add_43[0][0]                     \n",
            "__________________________________________________________________________________________________\n",
            "activation_93 (Activation)      (None, 34, 50, 64)   0           batch_normalization_93[0][0]     \n",
            "__________________________________________________________________________________________________\n",
            "conv2d_117 (Conv2D)             (None, 17, 25, 128)  73728       activation_93[0][0]              \n",
            "__________________________________________________________________________________________________\n",
            "batch_normalization_94 (BatchNo (None, 17, 25, 128)  512         conv2d_117[0][0]                 \n",
            "__________________________________________________________________________________________________\n",
            "activation_94 (Activation)      (None, 17, 25, 128)  0           batch_normalization_94[0][0]     \n",
            "__________________________________________________________________________________________________\n",
            "conv2d_118 (Conv2D)             (None, 17, 25, 128)  147456      activation_94[0][0]              \n",
            "__________________________________________________________________________________________________\n",
            "conv2d_119 (Conv2D)             (None, 17, 25, 128)  8192        activation_93[0][0]              \n",
            "__________________________________________________________________________________________________\n",
            "add_44 (Add)                    (None, 17, 25, 128)  0           conv2d_118[0][0]                 \n",
            "                                                                 conv2d_119[0][0]                 \n",
            "__________________________________________________________________________________________________\n",
            "batch_normalization_95 (BatchNo (None, 17, 25, 128)  512         add_44[0][0]                     \n",
            "__________________________________________________________________________________________________\n",
            "activation_95 (Activation)      (None, 17, 25, 128)  0           batch_normalization_95[0][0]     \n",
            "__________________________________________________________________________________________________\n",
            "conv2d_120 (Conv2D)             (None, 17, 25, 128)  147456      activation_95[0][0]              \n",
            "__________________________________________________________________________________________________\n",
            "batch_normalization_96 (BatchNo (None, 17, 25, 128)  512         conv2d_120[0][0]                 \n",
            "__________________________________________________________________________________________________\n",
            "activation_96 (Activation)      (None, 17, 25, 128)  0           batch_normalization_96[0][0]     \n",
            "__________________________________________________________________________________________________\n",
            "conv2d_121 (Conv2D)             (None, 17, 25, 128)  147456      activation_96[0][0]              \n",
            "__________________________________________________________________________________________________\n",
            "add_45 (Add)                    (None, 17, 25, 128)  0           add_44[0][0]                     \n",
            "                                                                 conv2d_121[0][0]                 \n",
            "__________________________________________________________________________________________________\n",
            "batch_normalization_97 (BatchNo (None, 17, 25, 128)  512         add_45[0][0]                     \n",
            "__________________________________________________________________________________________________\n",
            "activation_97 (Activation)      (None, 17, 25, 128)  0           batch_normalization_97[0][0]     \n",
            "__________________________________________________________________________________________________\n",
            "average_pooling2d_7 (AveragePoo (None, 2, 3, 128)    0           activation_97[0][0]              \n",
            "__________________________________________________________________________________________________\n",
            "flatten_7 (Flatten)             (None, 768)          0           average_pooling2d_7[0][0]        \n",
            "__________________________________________________________________________________________________\n",
            "dense_7 (Dense)                 (None, 4)            3076        flatten_7[0][0]                  \n",
            "==================================================================================================\n",
            "Total params: 694,996\n",
            "Trainable params: 693,172\n",
            "Non-trainable params: 1,824\n",
            "__________________________________________________________________________________________________\n"
          ],
          "name": "stdout"
        }
      ]
    },
    {
      "cell_type": "code",
      "metadata": {
        "id": "BxyMKoeaBqPh",
        "colab_type": "code",
        "colab": {}
      },
      "source": [
        "from keras.preprocessing.image import ImageDataGenerator\n",
        "import keras.callbacks as callbacks\n",
        "import keras.utils.np_utils as kutils"
      ],
      "execution_count": 0,
      "outputs": []
    },
    {
      "cell_type": "code",
      "metadata": {
        "id": "liiFrat1Bv1_",
        "colab_type": "code",
        "colab": {}
      },
      "source": [
        "EPOCHS = 200\n",
        "BS = 128\n",
        "# construct the training image generator for data augmentation\n",
        "aug = ImageDataGenerator(rotation_range=20, zoom_range=0.15,\n",
        "width_shift_range=0.2, height_shift_range=0.2, shear_range=0.15,\n",
        "horizontal_flip=True, fill_mode=\"nearest\")"
      ],
      "execution_count": 0,
      "outputs": []
    },
    {
      "cell_type": "code",
      "metadata": {
        "id": "-ygMFWH8Bzfq",
        "colab_type": "code",
        "colab": {}
      },
      "source": [
        "from keras.callbacks import LearningRateScheduler\n",
        "import math\n",
        "from keras.optimizers import SGD\n",
        "\n",
        "sgd = SGD(lr=0.1, momentum=0.9)"
      ],
      "execution_count": 0,
      "outputs": []
    },
    {
      "cell_type": "code",
      "metadata": {
        "id": "WhUvPL0dB48O",
        "colab_type": "code",
        "outputId": "d6fa245f-dd5a-4547-dc8f-5a244fd9af7c",
        "colab": {
          "base_uri": "https://localhost:8080/",
          "height": 34
        }
      },
      "source": [
        "wrn_28_10.compile(loss=\"categorical_crossentropy\", optimizer=sgd, metrics=[\"acc\"])\n",
        "print(\"Finished compiling\")"
      ],
      "execution_count": 87,
      "outputs": [
        {
          "output_type": "stream",
          "text": [
            "Finished compiling\n"
          ],
          "name": "stdout"
        }
      ]
    },
    {
      "cell_type": "code",
      "metadata": {
        "id": "6JrJ7xy1Q5rS",
        "colab_type": "code",
        "colab": {}
      },
      "source": [
        "generator = tf.keras.preprocessing.image.ImageDataGenerator(rotation_range=10,\n",
        "                               width_shift_range=5./32,\n",
        "                               height_shift_range=5./32,)"
      ],
      "execution_count": 0,
      "outputs": []
    },
    {
      "cell_type": "code",
      "metadata": {
        "id": "i4EpGTMG9jeP",
        "colab_type": "code",
        "colab": {}
      },
      "source": [
        "def lr_sch(epoch):\n",
        "    if epoch < 60:\n",
        "        return 0.1\n",
        "    elif epoch < 120:\n",
        "        return 0.02\n",
        "    elif epoch < 160:\n",
        "        return 0.004\n",
        "    else:\n",
        "        return 0.0008\n",
        "\n",
        "# Learning rate scheduler callback\n",
        "lr_scheduler = LearningRateScheduler(lr_sch)"
      ],
      "execution_count": 0,
      "outputs": []
    },
    {
      "cell_type": "code",
      "metadata": {
        "id": "1Bu78FGi9jhv",
        "colab_type": "code",
        "colab": {}
      },
      "source": [
        ""
      ],
      "execution_count": 0,
      "outputs": []
    },
    {
      "cell_type": "code",
      "metadata": {
        "id": "9z0CbPY_24ns",
        "colab_type": "code",
        "colab": {
          "base_uri": "https://localhost:8080/",
          "height": 1000
        },
        "outputId": "cc50169b-7ce0-48f9-c4fb-1dc96b3a9651"
      },
      "source": [
        "from keras.utils import to_categorical\n",
        "hist = wrn_28_10.fit_generator(generator.flow(X_train, to_categorical(y_train_df['New']), batch_size=BS), steps_per_epoch=len(X_train) // BS, epochs=EPOCHS,\n",
        "                   validation_data=(X_test, to_categorical(y_test_df['New'])), callbacks = [lr_scheduler],\n",
        "                   validation_steps=X_test.shape[0] // BS,)"
      ],
      "execution_count": 91,
      "outputs": [
        {
          "output_type": "stream",
          "text": [
            "Epoch 1/200\n",
            "29/29 [==============================] - 10s 353ms/step - loss: 1.8237 - acc: 0.3409 - val_loss: 1.8426 - val_acc: 0.3293\n",
            "Epoch 2/200\n",
            "29/29 [==============================] - 7s 258ms/step - loss: 1.7304 - acc: 0.4030 - val_loss: 1.6811 - val_acc: 0.4013\n",
            "Epoch 3/200\n",
            "29/29 [==============================] - 7s 258ms/step - loss: 1.6917 - acc: 0.4027 - val_loss: 1.6280 - val_acc: 0.4690\n",
            "Epoch 4/200\n",
            "29/29 [==============================] - 7s 259ms/step - loss: 1.6343 - acc: 0.4410 - val_loss: 1.5885 - val_acc: 0.4457\n",
            "Epoch 5/200\n",
            "29/29 [==============================] - 8s 259ms/step - loss: 1.5831 - acc: 0.4667 - val_loss: 1.5467 - val_acc: 0.4902\n",
            "Epoch 6/200\n",
            "29/29 [==============================] - 7s 258ms/step - loss: 1.4875 - acc: 0.5136 - val_loss: 1.4928 - val_acc: 0.5379\n",
            "Epoch 7/200\n",
            "29/29 [==============================] - 7s 258ms/step - loss: 1.4560 - acc: 0.5258 - val_loss: 2.0506 - val_acc: 0.4023\n",
            "Epoch 8/200\n",
            "29/29 [==============================] - 7s 259ms/step - loss: 1.4540 - acc: 0.5162 - val_loss: 1.4004 - val_acc: 0.5696\n",
            "Epoch 9/200\n",
            "29/29 [==============================] - 8s 259ms/step - loss: 1.3365 - acc: 0.5819 - val_loss: 1.4789 - val_acc: 0.5437\n",
            "Epoch 10/200\n",
            "29/29 [==============================] - 8s 259ms/step - loss: 1.2941 - acc: 0.5979 - val_loss: 1.3249 - val_acc: 0.5791\n",
            "Epoch 11/200\n",
            "29/29 [==============================] - 7s 258ms/step - loss: 1.2459 - acc: 0.6202 - val_loss: 1.2446 - val_acc: 0.6003\n",
            "Epoch 12/200\n",
            "29/29 [==============================] - 7s 258ms/step - loss: 1.2228 - acc: 0.6130 - val_loss: 1.2681 - val_acc: 0.6305\n",
            "Epoch 13/200\n",
            "29/29 [==============================] - 7s 259ms/step - loss: 1.1894 - acc: 0.6313 - val_loss: 1.2593 - val_acc: 0.6178\n",
            "Epoch 14/200\n",
            "29/29 [==============================] - 7s 258ms/step - loss: 1.1213 - acc: 0.6623 - val_loss: 1.2501 - val_acc: 0.6030\n",
            "Epoch 15/200\n",
            "29/29 [==============================] - 8s 259ms/step - loss: 1.1214 - acc: 0.6564 - val_loss: 1.0889 - val_acc: 0.6797\n",
            "Epoch 16/200\n",
            "29/29 [==============================] - 8s 259ms/step - loss: 1.0683 - acc: 0.6748 - val_loss: 1.7119 - val_acc: 0.5659\n",
            "Epoch 17/200\n",
            "29/29 [==============================] - 8s 259ms/step - loss: 1.0478 - acc: 0.6956 - val_loss: 1.1407 - val_acc: 0.6533\n",
            "Epoch 18/200\n",
            "29/29 [==============================] - 7s 258ms/step - loss: 1.0053 - acc: 0.7020 - val_loss: 0.9510 - val_acc: 0.7305\n",
            "Epoch 19/200\n",
            "29/29 [==============================] - 8s 260ms/step - loss: 0.9950 - acc: 0.6985 - val_loss: 1.4400 - val_acc: 0.5304\n",
            "Epoch 20/200\n",
            "29/29 [==============================] - 8s 259ms/step - loss: 0.9718 - acc: 0.7109 - val_loss: 1.0072 - val_acc: 0.6871\n",
            "Epoch 21/200\n",
            "29/29 [==============================] - 8s 259ms/step - loss: 0.9132 - acc: 0.7385 - val_loss: 0.9618 - val_acc: 0.7141\n",
            "Epoch 22/200\n",
            "29/29 [==============================] - 7s 258ms/step - loss: 0.9500 - acc: 0.7169 - val_loss: 0.9659 - val_acc: 0.7284\n",
            "Epoch 23/200\n",
            "29/29 [==============================] - 8s 259ms/step - loss: 0.9164 - acc: 0.7314 - val_loss: 0.9288 - val_acc: 0.7120\n",
            "Epoch 24/200\n",
            "29/29 [==============================] - 7s 258ms/step - loss: 0.8893 - acc: 0.7409 - val_loss: 0.9057 - val_acc: 0.7332\n",
            "Epoch 25/200\n",
            "29/29 [==============================] - 8s 259ms/step - loss: 0.8839 - acc: 0.7419 - val_loss: 0.8985 - val_acc: 0.7411\n",
            "Epoch 26/200\n",
            "29/29 [==============================] - 8s 260ms/step - loss: 0.8461 - acc: 0.7544 - val_loss: 0.8659 - val_acc: 0.7549\n",
            "Epoch 27/200\n",
            "29/29 [==============================] - 7s 258ms/step - loss: 0.8520 - acc: 0.7533 - val_loss: 0.9359 - val_acc: 0.7131\n",
            "Epoch 28/200\n",
            "29/29 [==============================] - 7s 258ms/step - loss: 0.8318 - acc: 0.7638 - val_loss: 0.9375 - val_acc: 0.7141\n",
            "Epoch 29/200\n",
            "29/29 [==============================] - 7s 258ms/step - loss: 0.8295 - acc: 0.7568 - val_loss: 1.1945 - val_acc: 0.5971\n",
            "Epoch 30/200\n",
            "29/29 [==============================] - 7s 258ms/step - loss: 0.7999 - acc: 0.7741 - val_loss: 0.9531 - val_acc: 0.7168\n",
            "Epoch 31/200\n",
            "29/29 [==============================] - 7s 257ms/step - loss: 0.8428 - acc: 0.7660 - val_loss: 0.8895 - val_acc: 0.7422\n",
            "Epoch 32/200\n",
            "29/29 [==============================] - 8s 259ms/step - loss: 0.8002 - acc: 0.7692 - val_loss: 0.9167 - val_acc: 0.7194\n",
            "Epoch 33/200\n",
            "29/29 [==============================] - 7s 258ms/step - loss: 0.7900 - acc: 0.7698 - val_loss: 0.9565 - val_acc: 0.7062\n",
            "Epoch 34/200\n",
            "29/29 [==============================] - 7s 258ms/step - loss: 0.7421 - acc: 0.7930 - val_loss: 0.8684 - val_acc: 0.7459\n",
            "Epoch 35/200\n",
            "29/29 [==============================] - 7s 257ms/step - loss: 0.7632 - acc: 0.7808 - val_loss: 0.7996 - val_acc: 0.7771\n",
            "Epoch 36/200\n",
            "29/29 [==============================] - 7s 258ms/step - loss: 0.7355 - acc: 0.7965 - val_loss: 0.8084 - val_acc: 0.7618\n",
            "Epoch 37/200\n",
            "29/29 [==============================] - 8s 259ms/step - loss: 0.7470 - acc: 0.7907 - val_loss: 0.8744 - val_acc: 0.7549\n",
            "Epoch 38/200\n",
            "29/29 [==============================] - 7s 258ms/step - loss: 0.7402 - acc: 0.7866 - val_loss: 0.8692 - val_acc: 0.7507\n",
            "Epoch 39/200\n",
            "29/29 [==============================] - 7s 258ms/step - loss: 0.7221 - acc: 0.8003 - val_loss: 0.7969 - val_acc: 0.7740\n",
            "Epoch 40/200\n",
            "29/29 [==============================] - 7s 258ms/step - loss: 0.7033 - acc: 0.7990 - val_loss: 0.8776 - val_acc: 0.7284\n",
            "Epoch 41/200\n",
            "29/29 [==============================] - 7s 258ms/step - loss: 0.7473 - acc: 0.7926 - val_loss: 0.8890 - val_acc: 0.7411\n",
            "Epoch 42/200\n",
            "29/29 [==============================] - 7s 258ms/step - loss: 0.7070 - acc: 0.8073 - val_loss: 0.8252 - val_acc: 0.7549\n",
            "Epoch 43/200\n",
            "29/29 [==============================] - 7s 258ms/step - loss: 0.6697 - acc: 0.8200 - val_loss: 0.8026 - val_acc: 0.7755\n",
            "Epoch 44/200\n",
            "29/29 [==============================] - 8s 259ms/step - loss: 0.6636 - acc: 0.8192 - val_loss: 1.1505 - val_acc: 0.6506\n",
            "Epoch 45/200\n",
            "29/29 [==============================] - 7s 258ms/step - loss: 0.7260 - acc: 0.7914 - val_loss: 0.8046 - val_acc: 0.7745\n",
            "Epoch 46/200\n",
            "29/29 [==============================] - 7s 258ms/step - loss: 0.6979 - acc: 0.8089 - val_loss: 0.8260 - val_acc: 0.7623\n",
            "Epoch 47/200\n",
            "29/29 [==============================] - 7s 258ms/step - loss: 0.7029 - acc: 0.8077 - val_loss: 0.7912 - val_acc: 0.7782\n",
            "Epoch 48/200\n",
            "29/29 [==============================] - 7s 258ms/step - loss: 0.6441 - acc: 0.8327 - val_loss: 0.8684 - val_acc: 0.7522\n",
            "Epoch 49/200\n",
            "29/29 [==============================] - 7s 258ms/step - loss: 0.6251 - acc: 0.8408 - val_loss: 0.8275 - val_acc: 0.7792\n",
            "Epoch 50/200\n",
            "29/29 [==============================] - 7s 258ms/step - loss: 0.6762 - acc: 0.8097 - val_loss: 0.8339 - val_acc: 0.7538\n",
            "Epoch 51/200\n",
            "29/29 [==============================] - 7s 258ms/step - loss: 0.6576 - acc: 0.8278 - val_loss: 0.9084 - val_acc: 0.7528\n",
            "Epoch 52/200\n",
            "29/29 [==============================] - 7s 258ms/step - loss: 0.6586 - acc: 0.8305 - val_loss: 0.9475 - val_acc: 0.7147\n",
            "Epoch 53/200\n",
            "29/29 [==============================] - 7s 258ms/step - loss: 0.6365 - acc: 0.8394 - val_loss: 0.8030 - val_acc: 0.7787\n",
            "Epoch 54/200\n",
            "29/29 [==============================] - 7s 258ms/step - loss: 0.6084 - acc: 0.8432 - val_loss: 0.9844 - val_acc: 0.7305\n",
            "Epoch 55/200\n",
            "29/29 [==============================] - 7s 258ms/step - loss: 0.6155 - acc: 0.8459 - val_loss: 0.8634 - val_acc: 0.7522\n",
            "Epoch 56/200\n",
            "29/29 [==============================] - 7s 258ms/step - loss: 0.6301 - acc: 0.8413 - val_loss: 1.0992 - val_acc: 0.7041\n",
            "Epoch 57/200\n",
            "29/29 [==============================] - 8s 259ms/step - loss: 0.6502 - acc: 0.8389 - val_loss: 0.8850 - val_acc: 0.7665\n",
            "Epoch 58/200\n",
            "29/29 [==============================] - 7s 258ms/step - loss: 0.6244 - acc: 0.8356 - val_loss: 0.8128 - val_acc: 0.7824\n",
            "Epoch 59/200\n",
            "29/29 [==============================] - 7s 258ms/step - loss: 0.5574 - acc: 0.8761 - val_loss: 0.9873 - val_acc: 0.7422\n",
            "Epoch 60/200\n",
            "29/29 [==============================] - 7s 258ms/step - loss: 0.6325 - acc: 0.8394 - val_loss: 1.1115 - val_acc: 0.7242\n",
            "Epoch 61/200\n",
            "29/29 [==============================] - 7s 258ms/step - loss: 0.6383 - acc: 0.8464 - val_loss: 0.8155 - val_acc: 0.7851\n",
            "Epoch 62/200\n",
            "29/29 [==============================] - 7s 258ms/step - loss: 0.4989 - acc: 0.9034 - val_loss: 0.7697 - val_acc: 0.8004\n",
            "Epoch 63/200\n",
            "29/29 [==============================] - 7s 258ms/step - loss: 0.4406 - acc: 0.9228 - val_loss: 0.7529 - val_acc: 0.8094\n",
            "Epoch 64/200\n",
            "29/29 [==============================] - 7s 258ms/step - loss: 0.4135 - acc: 0.9347 - val_loss: 0.8040 - val_acc: 0.7978\n",
            "Epoch 65/200\n",
            "29/29 [==============================] - 7s 258ms/step - loss: 0.4054 - acc: 0.9331 - val_loss: 0.8026 - val_acc: 0.8052\n",
            "Epoch 66/200\n",
            "29/29 [==============================] - 7s 258ms/step - loss: 0.3847 - acc: 0.9387 - val_loss: 0.7889 - val_acc: 0.8089\n",
            "Epoch 67/200\n",
            "29/29 [==============================] - 7s 258ms/step - loss: 0.3606 - acc: 0.9511 - val_loss: 0.7613 - val_acc: 0.8200\n",
            "Epoch 68/200\n",
            "29/29 [==============================] - 7s 258ms/step - loss: 0.3584 - acc: 0.9485 - val_loss: 0.7986 - val_acc: 0.8200\n",
            "Epoch 69/200\n",
            "29/29 [==============================] - 7s 258ms/step - loss: 0.3449 - acc: 0.9519 - val_loss: 0.7874 - val_acc: 0.8195\n",
            "Epoch 70/200\n",
            "29/29 [==============================] - 7s 258ms/step - loss: 0.3303 - acc: 0.9582 - val_loss: 0.7888 - val_acc: 0.8152\n",
            "Epoch 71/200\n",
            "29/29 [==============================] - 7s 258ms/step - loss: 0.3316 - acc: 0.9584 - val_loss: 0.8218 - val_acc: 0.8174\n",
            "Epoch 72/200\n",
            "29/29 [==============================] - 7s 258ms/step - loss: 0.3190 - acc: 0.9612 - val_loss: 0.7940 - val_acc: 0.8168\n",
            "Epoch 73/200\n",
            "29/29 [==============================] - 7s 257ms/step - loss: 0.3167 - acc: 0.9592 - val_loss: 0.8478 - val_acc: 0.8062\n",
            "Epoch 74/200\n",
            "29/29 [==============================] - 7s 258ms/step - loss: 0.3050 - acc: 0.9671 - val_loss: 0.8153 - val_acc: 0.8195\n",
            "Epoch 75/200\n",
            "29/29 [==============================] - 7s 257ms/step - loss: 0.3113 - acc: 0.9628 - val_loss: 0.8692 - val_acc: 0.8078\n",
            "Epoch 76/200\n",
            "29/29 [==============================] - 7s 258ms/step - loss: 0.3012 - acc: 0.9660 - val_loss: 0.8520 - val_acc: 0.8131\n",
            "Epoch 77/200\n",
            "29/29 [==============================] - 7s 258ms/step - loss: 0.2934 - acc: 0.9632 - val_loss: 0.8693 - val_acc: 0.8105\n",
            "Epoch 78/200\n",
            "29/29 [==============================] - 7s 258ms/step - loss: 0.2816 - acc: 0.9725 - val_loss: 0.8623 - val_acc: 0.8221\n",
            "Epoch 79/200\n",
            "29/29 [==============================] - 7s 258ms/step - loss: 0.2846 - acc: 0.9679 - val_loss: 0.8506 - val_acc: 0.8216\n",
            "Epoch 80/200\n",
            "29/29 [==============================] - 7s 258ms/step - loss: 0.2749 - acc: 0.9717 - val_loss: 0.9034 - val_acc: 0.8174\n",
            "Epoch 81/200\n",
            "29/29 [==============================] - 7s 258ms/step - loss: 0.2732 - acc: 0.9746 - val_loss: 0.8768 - val_acc: 0.8184\n",
            "Epoch 82/200\n",
            "29/29 [==============================] - 7s 258ms/step - loss: 0.2702 - acc: 0.9717 - val_loss: 0.8615 - val_acc: 0.8211\n",
            "Epoch 83/200\n",
            "29/29 [==============================] - 7s 259ms/step - loss: 0.2659 - acc: 0.9746 - val_loss: 0.9684 - val_acc: 0.8004\n",
            "Epoch 84/200\n",
            "29/29 [==============================] - 7s 257ms/step - loss: 0.2637 - acc: 0.9719 - val_loss: 0.8997 - val_acc: 0.8200\n",
            "Epoch 85/200\n",
            "29/29 [==============================] - 7s 259ms/step - loss: 0.2650 - acc: 0.9763 - val_loss: 0.9719 - val_acc: 0.8036\n",
            "Epoch 86/200\n",
            "29/29 [==============================] - 7s 258ms/step - loss: 0.2620 - acc: 0.9733 - val_loss: 0.8662 - val_acc: 0.8221\n",
            "Epoch 87/200\n",
            "29/29 [==============================] - 7s 258ms/step - loss: 0.2491 - acc: 0.9757 - val_loss: 0.9176 - val_acc: 0.8190\n",
            "Epoch 88/200\n",
            "29/29 [==============================] - 8s 259ms/step - loss: 0.2514 - acc: 0.9749 - val_loss: 0.9147 - val_acc: 0.8110\n",
            "Epoch 89/200\n",
            "29/29 [==============================] - 8s 259ms/step - loss: 0.2557 - acc: 0.9735 - val_loss: 0.9018 - val_acc: 0.8285\n",
            "Epoch 90/200\n",
            "29/29 [==============================] - 7s 258ms/step - loss: 0.2428 - acc: 0.9784 - val_loss: 0.9498 - val_acc: 0.8126\n",
            "Epoch 91/200\n",
            "29/29 [==============================] - 7s 257ms/step - loss: 0.2435 - acc: 0.9779 - val_loss: 0.9150 - val_acc: 0.8221\n",
            "Epoch 92/200\n",
            "29/29 [==============================] - 7s 258ms/step - loss: 0.2426 - acc: 0.9762 - val_loss: 0.8967 - val_acc: 0.8248\n",
            "Epoch 93/200\n",
            "29/29 [==============================] - 8s 259ms/step - loss: 0.2421 - acc: 0.9779 - val_loss: 0.9069 - val_acc: 0.8084\n",
            "Epoch 94/200\n",
            "29/29 [==============================] - 7s 258ms/step - loss: 0.2481 - acc: 0.9719 - val_loss: 0.9593 - val_acc: 0.7994\n",
            "Epoch 95/200\n",
            "29/29 [==============================] - 7s 258ms/step - loss: 0.2353 - acc: 0.9806 - val_loss: 0.9216 - val_acc: 0.8205\n",
            "Epoch 96/200\n",
            "29/29 [==============================] - 7s 259ms/step - loss: 0.2358 - acc: 0.9793 - val_loss: 0.9178 - val_acc: 0.8105\n",
            "Epoch 97/200\n",
            "29/29 [==============================] - 7s 258ms/step - loss: 0.2318 - acc: 0.9792 - val_loss: 0.8965 - val_acc: 0.8242\n",
            "Epoch 98/200\n",
            "29/29 [==============================] - 7s 258ms/step - loss: 0.2332 - acc: 0.9776 - val_loss: 0.9887 - val_acc: 0.8062\n",
            "Epoch 99/200\n",
            "29/29 [==============================] - 8s 259ms/step - loss: 0.2583 - acc: 0.9698 - val_loss: 0.9413 - val_acc: 0.8142\n",
            "Epoch 100/200\n",
            "29/29 [==============================] - 7s 257ms/step - loss: 0.2260 - acc: 0.9827 - val_loss: 0.8915 - val_acc: 0.8179\n",
            "Epoch 101/200\n",
            "29/29 [==============================] - 8s 259ms/step - loss: 0.2305 - acc: 0.9781 - val_loss: 0.9247 - val_acc: 0.8221\n",
            "Epoch 102/200\n",
            "29/29 [==============================] - 7s 258ms/step - loss: 0.2298 - acc: 0.9760 - val_loss: 0.8942 - val_acc: 0.8285\n",
            "Epoch 103/200\n",
            "29/29 [==============================] - 7s 258ms/step - loss: 0.2475 - acc: 0.9735 - val_loss: 0.8930 - val_acc: 0.8216\n",
            "Epoch 104/200\n",
            "29/29 [==============================] - 8s 259ms/step - loss: 0.2381 - acc: 0.9760 - val_loss: 0.9577 - val_acc: 0.8126\n",
            "Epoch 105/200\n",
            "29/29 [==============================] - 7s 259ms/step - loss: 0.2517 - acc: 0.9641 - val_loss: 1.0287 - val_acc: 0.7983\n",
            "Epoch 106/200\n",
            "29/29 [==============================] - 7s 258ms/step - loss: 0.2473 - acc: 0.9714 - val_loss: 1.0577 - val_acc: 0.7872\n",
            "Epoch 107/200\n",
            "29/29 [==============================] - 7s 258ms/step - loss: 0.2403 - acc: 0.9727 - val_loss: 0.9093 - val_acc: 0.8200\n",
            "Epoch 108/200\n",
            "29/29 [==============================] - 7s 258ms/step - loss: 0.2247 - acc: 0.9798 - val_loss: 0.9338 - val_acc: 0.8158\n",
            "Epoch 109/200\n",
            "29/29 [==============================] - 7s 259ms/step - loss: 0.2149 - acc: 0.9819 - val_loss: 0.9807 - val_acc: 0.8115\n",
            "Epoch 110/200\n",
            "29/29 [==============================] - 7s 259ms/step - loss: 0.2138 - acc: 0.9830 - val_loss: 0.9357 - val_acc: 0.8163\n",
            "Epoch 111/200\n",
            "29/29 [==============================] - 7s 258ms/step - loss: 0.2099 - acc: 0.9849 - val_loss: 0.9619 - val_acc: 0.8105\n",
            "Epoch 112/200\n",
            "29/29 [==============================] - 8s 259ms/step - loss: 0.2114 - acc: 0.9841 - val_loss: 0.9282 - val_acc: 0.8057\n",
            "Epoch 113/200\n",
            "29/29 [==============================] - 8s 259ms/step - loss: 0.2131 - acc: 0.9825 - val_loss: 0.9300 - val_acc: 0.8280\n",
            "Epoch 114/200\n",
            "29/29 [==============================] - 7s 258ms/step - loss: 0.2035 - acc: 0.9857 - val_loss: 0.9900 - val_acc: 0.8126\n",
            "Epoch 115/200\n",
            "29/29 [==============================] - 7s 258ms/step - loss: 0.2097 - acc: 0.9825 - val_loss: 0.8925 - val_acc: 0.8295\n",
            "Epoch 116/200\n",
            "29/29 [==============================] - 7s 258ms/step - loss: 0.2170 - acc: 0.9794 - val_loss: 0.9653 - val_acc: 0.8168\n",
            "Epoch 117/200\n",
            "29/29 [==============================] - 8s 259ms/step - loss: 0.2128 - acc: 0.9814 - val_loss: 0.9496 - val_acc: 0.8184\n",
            "Epoch 118/200\n",
            "29/29 [==============================] - 7s 258ms/step - loss: 0.2228 - acc: 0.9776 - val_loss: 0.9326 - val_acc: 0.8211\n",
            "Epoch 119/200\n",
            "29/29 [==============================] - 7s 258ms/step - loss: 0.2206 - acc: 0.9792 - val_loss: 0.9642 - val_acc: 0.8089\n",
            "Epoch 120/200\n",
            "29/29 [==============================] - 7s 258ms/step - loss: 0.2178 - acc: 0.9798 - val_loss: 0.9214 - val_acc: 0.8100\n",
            "Epoch 121/200\n",
            "29/29 [==============================] - 7s 258ms/step - loss: 0.2076 - acc: 0.9814 - val_loss: 0.9338 - val_acc: 0.8158\n",
            "Epoch 122/200\n",
            "29/29 [==============================] - 7s 258ms/step - loss: 0.1861 - acc: 0.9911 - val_loss: 0.8886 - val_acc: 0.8232\n",
            "Epoch 123/200\n",
            "29/29 [==============================] - 7s 258ms/step - loss: 0.1769 - acc: 0.9951 - val_loss: 0.8973 - val_acc: 0.8211\n",
            "Epoch 124/200\n",
            "29/29 [==============================] - 7s 258ms/step - loss: 0.1734 - acc: 0.9960 - val_loss: 0.8886 - val_acc: 0.8338\n",
            "Epoch 125/200\n",
            "29/29 [==============================] - 7s 258ms/step - loss: 0.1697 - acc: 0.9962 - val_loss: 0.8837 - val_acc: 0.8280\n",
            "Epoch 126/200\n",
            "29/29 [==============================] - 7s 258ms/step - loss: 0.1672 - acc: 0.9987 - val_loss: 0.8800 - val_acc: 0.8280\n",
            "Epoch 127/200\n",
            "29/29 [==============================] - 8s 259ms/step - loss: 0.1677 - acc: 0.9965 - val_loss: 0.8940 - val_acc: 0.8322\n",
            "Epoch 128/200\n",
            "29/29 [==============================] - 7s 259ms/step - loss: 0.1657 - acc: 0.9976 - val_loss: 0.9046 - val_acc: 0.8295\n",
            "Epoch 129/200\n",
            "29/29 [==============================] - 7s 258ms/step - loss: 0.1651 - acc: 0.9973 - val_loss: 0.8959 - val_acc: 0.8274\n",
            "Epoch 130/200\n",
            "29/29 [==============================] - 7s 259ms/step - loss: 0.1621 - acc: 0.9984 - val_loss: 0.9026 - val_acc: 0.8301\n",
            "Epoch 131/200\n",
            "29/29 [==============================] - 7s 258ms/step - loss: 0.1647 - acc: 0.9978 - val_loss: 0.9091 - val_acc: 0.8338\n",
            "Epoch 132/200\n",
            "29/29 [==============================] - 7s 258ms/step - loss: 0.1619 - acc: 0.9981 - val_loss: 0.9135 - val_acc: 0.8301\n",
            "Epoch 133/200\n",
            "29/29 [==============================] - 7s 258ms/step - loss: 0.1628 - acc: 0.9981 - val_loss: 0.9104 - val_acc: 0.8317\n",
            "Epoch 134/200\n",
            "29/29 [==============================] - 8s 259ms/step - loss: 0.1591 - acc: 0.9987 - val_loss: 0.8924 - val_acc: 0.8343\n",
            "Epoch 135/200\n",
            "29/29 [==============================] - 7s 258ms/step - loss: 0.1620 - acc: 0.9970 - val_loss: 0.9126 - val_acc: 0.8285\n",
            "Epoch 136/200\n",
            "29/29 [==============================] - 8s 259ms/step - loss: 0.1597 - acc: 0.9984 - val_loss: 0.9080 - val_acc: 0.8301\n",
            "Epoch 137/200\n",
            "29/29 [==============================] - 7s 258ms/step - loss: 0.1605 - acc: 0.9973 - val_loss: 0.9057 - val_acc: 0.8295\n",
            "Epoch 138/200\n",
            "29/29 [==============================] - 8s 259ms/step - loss: 0.1592 - acc: 0.9984 - val_loss: 0.8882 - val_acc: 0.8306\n",
            "Epoch 139/200\n",
            "29/29 [==============================] - 7s 258ms/step - loss: 0.1575 - acc: 0.9987 - val_loss: 0.9378 - val_acc: 0.8285\n",
            "Epoch 140/200\n",
            "29/29 [==============================] - 7s 257ms/step - loss: 0.1579 - acc: 0.9976 - val_loss: 0.9073 - val_acc: 0.8306\n",
            "Epoch 141/200\n",
            "29/29 [==============================] - 7s 258ms/step - loss: 0.1551 - acc: 0.9989 - val_loss: 0.9044 - val_acc: 0.8359\n",
            "Epoch 142/200\n",
            "29/29 [==============================] - 7s 259ms/step - loss: 0.1579 - acc: 0.9978 - val_loss: 0.9055 - val_acc: 0.8295\n",
            "Epoch 143/200\n",
            "29/29 [==============================] - 7s 258ms/step - loss: 0.1536 - acc: 0.9997 - val_loss: 0.8845 - val_acc: 0.8359\n",
            "Epoch 144/200\n",
            "29/29 [==============================] - 7s 259ms/step - loss: 0.1552 - acc: 0.9989 - val_loss: 0.9107 - val_acc: 0.8301\n",
            "Epoch 145/200\n",
            "29/29 [==============================] - 7s 258ms/step - loss: 0.1558 - acc: 0.9978 - val_loss: 0.9232 - val_acc: 0.8311\n",
            "Epoch 146/200\n",
            "29/29 [==============================] - 7s 259ms/step - loss: 0.1563 - acc: 0.9973 - val_loss: 0.9048 - val_acc: 0.8332\n",
            "Epoch 147/200\n",
            "29/29 [==============================] - 7s 259ms/step - loss: 0.1534 - acc: 0.9989 - val_loss: 0.8932 - val_acc: 0.8317\n",
            "Epoch 148/200\n",
            "29/29 [==============================] - 7s 258ms/step - loss: 0.1520 - acc: 0.9995 - val_loss: 0.8948 - val_acc: 0.8332\n",
            "Epoch 149/200\n",
            "29/29 [==============================] - 7s 259ms/step - loss: 0.1531 - acc: 0.9984 - val_loss: 0.8803 - val_acc: 0.8327\n",
            "Epoch 150/200\n",
            "29/29 [==============================] - 7s 258ms/step - loss: 0.1525 - acc: 0.9989 - val_loss: 0.9269 - val_acc: 0.8306\n",
            "Epoch 151/200\n",
            "29/29 [==============================] - 7s 258ms/step - loss: 0.1544 - acc: 0.9978 - val_loss: 0.9029 - val_acc: 0.8306\n",
            "Epoch 152/200\n",
            "29/29 [==============================] - 7s 258ms/step - loss: 0.1535 - acc: 0.9978 - val_loss: 0.8908 - val_acc: 0.8311\n",
            "Epoch 153/200\n",
            "29/29 [==============================] - 7s 258ms/step - loss: 0.1517 - acc: 0.9987 - val_loss: 0.9133 - val_acc: 0.8348\n",
            "Epoch 154/200\n",
            "29/29 [==============================] - 7s 258ms/step - loss: 0.1503 - acc: 0.9995 - val_loss: 0.9045 - val_acc: 0.8322\n",
            "Epoch 155/200\n",
            "29/29 [==============================] - 7s 258ms/step - loss: 0.1516 - acc: 0.9984 - val_loss: 0.9327 - val_acc: 0.8264\n",
            "Epoch 156/200\n",
            "29/29 [==============================] - 7s 258ms/step - loss: 0.1500 - acc: 0.9992 - val_loss: 0.9418 - val_acc: 0.8285\n",
            "Epoch 157/200\n",
            "29/29 [==============================] - 7s 258ms/step - loss: 0.1484 - acc: 0.9995 - val_loss: 0.9035 - val_acc: 0.8269\n",
            "Epoch 158/200\n",
            "29/29 [==============================] - 7s 257ms/step - loss: 0.1482 - acc: 0.9989 - val_loss: 0.9080 - val_acc: 0.8364\n",
            "Epoch 159/200\n",
            "29/29 [==============================] - 7s 259ms/step - loss: 0.1496 - acc: 0.9992 - val_loss: 0.9082 - val_acc: 0.8306\n",
            "Epoch 160/200\n",
            "29/29 [==============================] - 8s 259ms/step - loss: 0.1480 - acc: 0.9989 - val_loss: 0.9470 - val_acc: 0.8338\n",
            "Epoch 161/200\n",
            "29/29 [==============================] - 7s 258ms/step - loss: 0.1483 - acc: 0.9986 - val_loss: 0.9242 - val_acc: 0.8258\n",
            "Epoch 162/200\n",
            "29/29 [==============================] - 7s 258ms/step - loss: 0.1466 - acc: 0.9997 - val_loss: 0.9707 - val_acc: 0.8269\n",
            "Epoch 163/200\n",
            "29/29 [==============================] - 7s 258ms/step - loss: 0.1471 - acc: 0.9987 - val_loss: 0.9110 - val_acc: 0.8332\n",
            "Epoch 164/200\n",
            "29/29 [==============================] - 7s 258ms/step - loss: 0.1480 - acc: 0.9992 - val_loss: 0.9215 - val_acc: 0.8332\n",
            "Epoch 165/200\n",
            "29/29 [==============================] - 7s 258ms/step - loss: 0.1476 - acc: 0.9992 - val_loss: 0.9122 - val_acc: 0.8385\n",
            "Epoch 166/200\n",
            "29/29 [==============================] - 7s 258ms/step - loss: 0.1474 - acc: 0.9989 - val_loss: 0.9006 - val_acc: 0.8359\n",
            "Epoch 167/200\n",
            "29/29 [==============================] - 8s 259ms/step - loss: 0.1473 - acc: 0.9992 - val_loss: 0.9563 - val_acc: 0.8290\n",
            "Epoch 168/200\n",
            "29/29 [==============================] - 7s 258ms/step - loss: 0.1466 - acc: 0.9992 - val_loss: 0.8931 - val_acc: 0.8290\n",
            "Epoch 169/200\n",
            "29/29 [==============================] - 7s 258ms/step - loss: 0.1467 - acc: 0.9997 - val_loss: 0.9201 - val_acc: 0.8311\n",
            "Epoch 170/200\n",
            "29/29 [==============================] - 7s 258ms/step - loss: 0.1474 - acc: 0.9992 - val_loss: 0.9320 - val_acc: 0.8311\n",
            "Epoch 171/200\n",
            "29/29 [==============================] - 7s 257ms/step - loss: 0.1471 - acc: 0.9995 - val_loss: 0.8960 - val_acc: 0.8290\n",
            "Epoch 172/200\n",
            "29/29 [==============================] - 7s 258ms/step - loss: 0.1463 - acc: 0.9995 - val_loss: 0.9064 - val_acc: 0.8306\n",
            "Epoch 173/200\n",
            "29/29 [==============================] - 7s 258ms/step - loss: 0.1472 - acc: 0.9989 - val_loss: 0.9220 - val_acc: 0.8375\n",
            "Epoch 174/200\n",
            "29/29 [==============================] - 7s 258ms/step - loss: 0.1457 - acc: 0.9992 - val_loss: 0.8944 - val_acc: 0.8306\n",
            "Epoch 175/200\n",
            "29/29 [==============================] - 8s 259ms/step - loss: 0.1462 - acc: 0.9995 - val_loss: 0.8981 - val_acc: 0.8290\n",
            "Epoch 176/200\n",
            "29/29 [==============================] - 7s 258ms/step - loss: 0.1468 - acc: 0.9989 - val_loss: 0.9209 - val_acc: 0.8370\n",
            "Epoch 177/200\n",
            "29/29 [==============================] - 7s 259ms/step - loss: 0.1466 - acc: 0.9992 - val_loss: 0.8957 - val_acc: 0.8364\n",
            "Epoch 178/200\n",
            "29/29 [==============================] - 8s 259ms/step - loss: 0.1465 - acc: 0.9995 - val_loss: 0.9273 - val_acc: 0.8338\n",
            "Epoch 179/200\n",
            "29/29 [==============================] - 7s 258ms/step - loss: 0.1463 - acc: 0.9992 - val_loss: 0.9182 - val_acc: 0.8354\n",
            "Epoch 180/200\n",
            "29/29 [==============================] - 8s 259ms/step - loss: 0.1463 - acc: 0.9995 - val_loss: 0.9102 - val_acc: 0.8396\n",
            "Epoch 181/200\n",
            "29/29 [==============================] - 8s 259ms/step - loss: 0.1459 - acc: 0.9995 - val_loss: 0.9164 - val_acc: 0.8359\n",
            "Epoch 182/200\n",
            "29/29 [==============================] - 8s 260ms/step - loss: 0.1459 - acc: 0.9995 - val_loss: 0.9140 - val_acc: 0.8290\n",
            "Epoch 183/200\n",
            "29/29 [==============================] - 8s 259ms/step - loss: 0.1455 - acc: 0.9997 - val_loss: 0.9235 - val_acc: 0.8359\n",
            "Epoch 184/200\n",
            "29/29 [==============================] - 8s 261ms/step - loss: 0.1447 - acc: 1.0000 - val_loss: 0.9168 - val_acc: 0.8280\n",
            "Epoch 185/200\n",
            "29/29 [==============================] - 7s 258ms/step - loss: 0.1459 - acc: 0.9981 - val_loss: 0.8965 - val_acc: 0.8343\n",
            "Epoch 186/200\n",
            "29/29 [==============================] - 8s 260ms/step - loss: 0.1452 - acc: 0.9997 - val_loss: 0.8897 - val_acc: 0.8343\n",
            "Epoch 187/200\n",
            "29/29 [==============================] - 8s 260ms/step - loss: 0.1457 - acc: 0.9992 - val_loss: 0.9037 - val_acc: 0.8338\n",
            "Epoch 188/200\n",
            "29/29 [==============================] - 7s 258ms/step - loss: 0.1449 - acc: 0.9995 - val_loss: 0.8952 - val_acc: 0.8295\n",
            "Epoch 189/200\n",
            "29/29 [==============================] - 8s 259ms/step - loss: 0.1452 - acc: 0.9997 - val_loss: 0.9273 - val_acc: 0.8354\n",
            "Epoch 190/200\n",
            "29/29 [==============================] - 8s 259ms/step - loss: 0.1452 - acc: 0.9992 - val_loss: 0.9444 - val_acc: 0.8280\n",
            "Epoch 191/200\n",
            "29/29 [==============================] - 8s 260ms/step - loss: 0.1446 - acc: 0.9992 - val_loss: 0.9173 - val_acc: 0.8317\n",
            "Epoch 192/200\n",
            "29/29 [==============================] - 8s 259ms/step - loss: 0.1452 - acc: 0.9989 - val_loss: 0.8796 - val_acc: 0.8295\n",
            "Epoch 193/200\n",
            "29/29 [==============================] - 8s 259ms/step - loss: 0.1460 - acc: 0.9981 - val_loss: 0.9224 - val_acc: 0.8322\n",
            "Epoch 194/200\n",
            "29/29 [==============================] - 8s 259ms/step - loss: 0.1452 - acc: 0.9992 - val_loss: 0.8943 - val_acc: 0.8317\n",
            "Epoch 195/200\n",
            "29/29 [==============================] - 8s 259ms/step - loss: 0.1455 - acc: 0.9992 - val_loss: 0.9088 - val_acc: 0.8322\n",
            "Epoch 196/200\n",
            "29/29 [==============================] - 8s 260ms/step - loss: 0.1448 - acc: 0.9997 - val_loss: 0.9310 - val_acc: 0.8348\n",
            "Epoch 197/200\n",
            "29/29 [==============================] - 8s 260ms/step - loss: 0.1440 - acc: 0.9989 - val_loss: 0.8993 - val_acc: 0.8322\n",
            "Epoch 198/200\n",
            "29/29 [==============================] - 8s 260ms/step - loss: 0.1449 - acc: 0.9992 - val_loss: 0.9152 - val_acc: 0.8322\n",
            "Epoch 199/200\n",
            "29/29 [==============================] - 8s 259ms/step - loss: 0.1441 - acc: 0.9997 - val_loss: 0.9113 - val_acc: 0.8391\n",
            "Epoch 200/200\n",
            "29/29 [==============================] - 8s 259ms/step - loss: 0.1441 - acc: 0.9995 - val_loss: 0.9212 - val_acc: 0.8306\n"
          ],
          "name": "stdout"
        }
      ]
    },
    {
      "cell_type": "code",
      "metadata": {
        "id": "OFGjXGymB8cD",
        "colab_type": "code",
        "colab": {}
      },
      "source": [
        "from keras.utils import to_categorical\n",
        "\n",
        "\n",
        "# Fit the model\n",
        "hist = wrn_28_10.fit(X_train, to_categorical(y_train_df['New']), validation_data=(X_test,to_categorical(y_test_df['New'])), epochs=EPOCHS, batch_size=BS, verbose=2)"
      ],
      "execution_count": 0,
      "outputs": []
    },
    {
      "cell_type": "code",
      "metadata": {
        "id": "y-QerZ4RN91R",
        "colab_type": "code",
        "outputId": "238e0313-03ce-4e8e-eea8-68778f88c346",
        "colab": {
          "base_uri": "https://localhost:8080/",
          "height": 265
        }
      },
      "source": [
        "from matplotlib import  pyplot\n",
        "\n",
        "\n",
        "pyplot.plot(hist.history[\"acc\"], label='train')\n",
        "pyplot.plot(hist.history['val_acc'], label='test')\n",
        "pyplot.savefig(\"deneme.png\")"
      ],
      "execution_count": 118,
      "outputs": [
        {
          "output_type": "display_data",
          "data": {
            "image/png": "[encoded data removed]",
            "text/plain": [
              "<Figure size 432x288 with 1 Axes>"
            ]
          },
          "metadata": {
            "tags": [],
            "needs_background": "light"
          }
        }
      ]
    },
    {
      "cell_type": "code",
      "metadata": {
        "id": "xeg6MBf-GSgC",
        "colab_type": "code",
        "colab": {}
      },
      "source": [
        "test_err = [1.0-x for x in hist.history['val_acc']]"
      ],
      "execution_count": 0,
      "outputs": []
    },
    {
      "cell_type": "code",
      "metadata": {
        "id": "RgiKT6i5GiJ9",
        "colab_type": "code",
        "colab": {
          "base_uri": "https://localhost:8080/",
          "height": 265
        },
        "outputId": "2e82bebd-93ad-4fea-bd92-2f0717d9f80e"
      },
      "source": [
        "pyplot.plot(test_err, label='test')\n",
        "pyplot.savefig(\"deneme_err.png\")"
      ],
      "execution_count": 117,
      "outputs": [
        {
          "output_type": "display_data",
          "data": {
            "image/png": "[encoded data removed]",
            "text/plain": [
              "<Figure size 432x288 with 1 Axes>"
            ]
          },
          "metadata": {
            "tags": [],
            "needs_background": "light"
          }
        }
      ]
    },
    {
      "cell_type": "code",
      "metadata": {
        "id": "l4-IJ9Z-dQKF",
        "colab_type": "code",
        "colab": {}
      },
      "source": [
        "import tensorflow as tf\n",
        "wrn_28_10.save(\"_lst.h5\")"
      ],
      "execution_count": 0,
      "outputs": []
    },
    {
      "cell_type": "code",
      "metadata": {
        "id": "MqddlwbmEV9s",
        "colab_type": "code",
        "colab": {}
      },
      "source": [
        "y_pred = wrn_28_10.predict(X_test)"
      ],
      "execution_count": 0,
      "outputs": []
    },
    {
      "cell_type": "code",
      "metadata": {
        "id": "GDVf4J_lEb2R",
        "colab_type": "code",
        "colab": {
          "base_uri": "https://localhost:8080/",
          "height": 52
        },
        "outputId": "7011c3dc-4678-458d-b63d-716ff47a5c04"
      },
      "source": [
        "y_pred[8]"
      ],
      "execution_count": 105,
      "outputs": [
        {
          "output_type": "execute_result",
          "data": {
            "text/plain": [
              "array([5.8299833e-04, 9.9938881e-01, 2.6950407e-05, 1.1227185e-06],\n",
              "      dtype=float32)"
            ]
          },
          "metadata": {
            "tags": []
          },
          "execution_count": 105
        }
      ]
    },
    {
      "cell_type": "code",
      "metadata": {
        "id": "8mcYkI-REb63",
        "colab_type": "code",
        "colab": {
          "base_uri": "https://localhost:8080/",
          "height": 34
        },
        "outputId": "a144b844-0e12-43e2-f603-a03886c22bb1"
      },
      "source": [
        "np.argmax(y_pred[8])"
      ],
      "execution_count": 104,
      "outputs": [
        {
          "output_type": "execute_result",
          "data": {
            "text/plain": [
              "1"
            ]
          },
          "metadata": {
            "tags": []
          },
          "execution_count": 104
        }
      ]
    },
    {
      "cell_type": "code",
      "metadata": {
        "id": "C9Ysop6NFDbs",
        "colab_type": "code",
        "colab": {
          "base_uri": "https://localhost:8080/",
          "height": 34
        },
        "outputId": "b920c9f4-ace6-4d9b-ae6d-48f78b19b7b8"
      },
      "source": [
        "wrn_28_10.evaluate(X_test,to_categorical(y_test_df['New']),batch_size=128,verbose=2)"
      ],
      "execution_count": 111,
      "outputs": [
        {
          "output_type": "execute_result",
          "data": {
            "text/plain": [
              "[0.921227546644438, 0.8305981755256653]"
            ]
          },
          "metadata": {
            "tags": []
          },
          "execution_count": 111
        }
      ]
    },
    {
      "cell_type": "code",
      "metadata": {
        "id": "RfXeT5NJFmUe",
        "colab_type": "code",
        "colab": {}
      },
      "source": [
        ""
      ],
      "execution_count": 0,
      "outputs": []
    }
  ]
}