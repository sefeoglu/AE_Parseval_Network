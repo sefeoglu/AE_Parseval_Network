{
  "nbformat": 4,
  "nbformat_minor": 0,
  "metadata": {
    "kernelspec": {
      "display_name": "Python 3",
      "language": "python",
      "name": "python3"
    },
    "language_info": {
      "codemirror_mode": {
        "name": "ipython",
        "version": 3
      },
      "file_extension": ".py",
      "mimetype": "text/x-python",
      "name": "python",
      "nbconvert_exporter": "python",
      "pygments_lexer": "ipython3",
      "version": "3.7.4"
    },
    "colab": {
      "name": "ParsevalNetwork.ipynb",
      "provenance": []
    },
    "accelerator": "GPU"
  },
  "cells": [
    {
      "cell_type": "markdown",
      "metadata": {
        "id": "_idgCcuZdv0S",
        "colab_type": "text"
      },
      "source": [
        "# **Parseval Network**"
      ]
    },
    {
      "cell_type": "markdown",
      "metadata": {
        "id": "jO1kBOuDd2_r",
        "colab_type": "text"
      },
      "source": [
        "# **Data Preparation**"
      ]
    },
    {
      "cell_type": "code",
      "metadata": {
        "id": "esXS1STy_O_m",
        "colab_type": "code",
        "colab": {}
      },
      "source": [
        "from sklearn.model_selection import train_test_split\n",
        "import gzip\n",
        "import pickle\n",
        "import numpy as np"
      ],
      "execution_count": 0,
      "outputs": []
    },
    {
      "cell_type": "code",
      "metadata": {
        "id": "11nX1rD7_O_t",
        "colab_type": "code",
        "outputId": "20e66725-6abf-40e7-dcf4-850565ef867f",
        "colab": {
          "base_uri": "https://localhost:8080/",
          "height": 34
        }
      },
      "source": [
        "def read_data():\n",
        "    with open(\"data.pz\", 'rb') as file_:\n",
        "        with gzip.GzipFile(fileobj=file_) as gzf:\n",
        "            data = pickle.load(gzf, encoding='latin1', fix_imports=True)\n",
        "    return data\n",
        "data = read_data()\n",
        "new_data_X = []\n",
        "Y_data = []\n",
        "for row in data:\n",
        "    new_data_X.append(row['crop'])\n",
        "    Y_data.append(row['label'])\n",
        "new_data_X = np.array(new_data_X)\n",
        "new_data_X.shape"
      ],
      "execution_count": 2,
      "outputs": [
        {
          "output_type": "execute_result",
          "data": {
            "text/plain": [
              "(5722, 68, 100)"
            ]
          },
          "metadata": {
            "tags": []
          },
          "execution_count": 2
        }
      ]
    },
    {
      "cell_type": "code",
      "metadata": {
        "id": "BmyV1MMm_O_y",
        "colab_type": "code",
        "colab": {}
      },
      "source": [
        "X_train, X_test, y_train, y_test = train_test_split(new_data_X, Y_data, test_size=0.33, random_state=42)"
      ],
      "execution_count": 0,
      "outputs": []
    },
    {
      "cell_type": "code",
      "metadata": {
        "id": "grRS393n_O_3",
        "colab_type": "code",
        "colab": {}
      },
      "source": [
        "X_train = X_train.astype('float32')\n",
        "X_test = X_test.astype('float32')"
      ],
      "execution_count": 0,
      "outputs": []
    },
    {
      "cell_type": "code",
      "metadata": {
        "id": "MCu-tWhd_O_7",
        "colab_type": "code",
        "colab": {}
      },
      "source": [
        "import pandas as pd\n",
        "import numpy as np\n",
        "from sklearn.preprocessing import LabelEncoder\n",
        "\n",
        "# creating initial dataframe\n",
        "\n",
        "y_train_df = pd.DataFrame(y_train, columns=['Label'])\n",
        "# creating instance of labelencoder\n",
        "labelencoder = LabelEncoder()\n",
        "# Assigning numerical values and storing in another column\n",
        "y_train_df['New'] = labelencoder.fit_transform(y_train_df['Label'])\n",
        "y_test_df = pd.DataFrame(y_test, columns=['Label'])\n",
        "# creating instance of labelencoder\n",
        "labelencoder = LabelEncoder()\n",
        "# Assigning numerical values and storing in another column\n",
        "y_test_df['New'] = labelencoder.fit_transform(y_test_df['Label'])"
      ],
      "execution_count": 0,
      "outputs": []
    },
    {
      "cell_type": "code",
      "metadata": {
        "id": "qQ5CHhcF_PAA",
        "colab_type": "code",
        "outputId": "bda95a7c-3bb9-4832-b802-90f300b0f255",
        "colab": {
          "base_uri": "https://localhost:8080/",
          "height": 34
        }
      },
      "source": [
        "from keras import backend as K\n",
        "img_rows, img_cols = X_train[0].shape\n",
        "\n",
        "\n",
        "# transform data set\n",
        "if K.common.image_data_format() == 'channels_first':\n",
        "    X_train = X_train.reshape(X_train.shape[0], 1, img_rows, img_cols)\n",
        "    X_test = X_test.reshape(X_test.shape[0], 1, img_rows, img_cols)\n",
        "    input_shape = (1, img_rows, img_cols)\n",
        "else:\n",
        "    X_train = X_train.reshape(X_train.shape[0], img_rows, img_cols, 1)\n",
        "    X_test = X_test.reshape(X_test.shape[0], img_rows, img_cols, 1)\n",
        "    input_shape = (img_rows, img_cols, 1)"
      ],
      "execution_count": 6,
      "outputs": [
        {
          "output_type": "stream",
          "text": [
            "Using TensorFlow backend.\n"
          ],
          "name": "stderr"
        }
      ]
    },
    {
      "cell_type": "markdown",
      "metadata": {
        "id": "v3g_vzsy_ndF",
        "colab_type": "text"
      },
      "source": [
        "**Parseval Network**"
      ]
    },
    {
      "cell_type": "code",
      "metadata": {
        "id": "WN76FYUZ_3YA",
        "colab_type": "code",
        "outputId": "e43e91de-0b96-4d83-8a5b-0eec4209eb5a",
        "colab": {
          "base_uri": "https://localhost:8080/",
          "height": 68
        }
      },
      "source": [
        "from tensorflow.keras.models import Model\n",
        "from tensorflow.keras.layers import Input, Add, Activation, Dropout, Flatten, Dense\n",
        "from tensorflow.keras.layers import Convolution2D, MaxPooling2D, AveragePooling2D\n",
        "from tensorflow.keras.layers import BatchNormalization\n",
        "from tensorflow.keras.regularizers import l2\n",
        "from tensorflow.keras import backend as K\n",
        "import warnings\n",
        "\n",
        "warnings.filterwarnings(\"ignore\")\n",
        "weight_decay = 0.0005\n",
        "\n",
        "\n",
        "def initial_conv(input):\n",
        "  \n",
        "    x = Convolution2D(16, (3, 3), padding='same', kernel_initializer='orthogonal',\n",
        "                      kernel_regularizer=l2(weight_decay),\n",
        "                      use_bias=False)(input)\n",
        "\n",
        "    channel_axis = 1 if K.image_data_format() == \"channels_first\" else -1\n",
        "\n",
        "    x = BatchNormalization(axis=channel_axis, momentum=0.1, epsilon=1e-5, gamma_initializer='uniform')(x)\n",
        "    x = Activation('relu')(x)\n",
        "    return x\n",
        "\n",
        "\n",
        "def expand_conv(init, base, k, strides=(1, 1)):\n",
        "    x = Convolution2D(base * k, (3, 3), padding='same', strides=strides, kernel_initializer='Orthogonal', kernel_regularizer=l2(weight_decay),\n",
        "                      use_bias=False)(init)\n",
        "\n",
        "    channel_axis = 1 if K.image_data_format() == \"channels_first\" else -1\n",
        "\n",
        "    x = BatchNormalization(axis=channel_axis, momentum=0.1, epsilon=1e-5, gamma_initializer='uniform')(x)\n",
        "    x = Activation('relu')(x)\n",
        "\n",
        "    x = Convolution2D(base * k, (3, 3), padding='same', kernel_initializer='Orthogonal',\n",
        "                      kernel_regularizer=l2(weight_decay),\n",
        "                      use_bias=False)(x)\n",
        "\n",
        "    skip = Convolution2D(base * k, (1, 1), padding='same', strides=strides, kernel_initializer='Orthogonal',\n",
        "                      kernel_regularizer=l2(weight_decay),\n",
        "                      use_bias=False)(init)\n",
        "\n",
        "    m = Add()([x, skip])\n",
        "\n",
        "    return m\n",
        "\n",
        "\n",
        "def conv1_block(input, k=1, dropout=0.0):\n",
        "    init = input\n",
        "\n",
        "    channel_axis = 1 if K.image_data_format() == \"channels_first\" else -1\n",
        "\n",
        "    x = BatchNormalization(axis=channel_axis, momentum=0.1, epsilon=1e-5, gamma_initializer='uniform')(input)\n",
        "    x = Activation('relu')(x)\n",
        "    x = Convolution2D(16 * k, (3, 3), padding='same', kernel_initializer='Orthogonal',\n",
        "                      kernel_regularizer=l2(weight_decay),\n",
        "                      use_bias=False)(x)\n",
        "\n",
        "    if dropout > 0.0: x = Dropout(dropout)(x)\n",
        "\n",
        "    x = BatchNormalization(axis=channel_axis, momentum=0.1, epsilon=1e-5, gamma_initializer='uniform')(x)\n",
        "    x = Activation('relu')(x)\n",
        "    x = Convolution2D(16 * k, (3, 3), padding='same', kernel_initializer='Orthogonal',\n",
        "                      kernel_regularizer=l2(weight_decay),\n",
        "                      use_bias=False)(x)\n",
        "\n",
        "    m = Add()([init, x])\n",
        "    return m\n",
        "\n",
        "def conv2_block(input, k=1, dropout=0.0):\n",
        "    init = input\n",
        "\n",
        "    channel_axis = 1 if K.image_data_format() == \"channels_first\" else -1\n",
        "    print(\"conv2:channel:  {}\".format(channel_axis))\n",
        "    x = BatchNormalization(axis=channel_axis, momentum=0.1, epsilon=1e-5, gamma_initializer='uniform')(input)\n",
        "    x = Activation('relu')(x)\n",
        "    x = Convolution2D(32 * k, (3, 3), padding='same', kernel_initializer='Orthogonal',\n",
        "                      kernel_regularizer=l2(weight_decay),\n",
        "                      use_bias=False)(x)\n",
        "\n",
        "    if dropout > 0.0: x = Dropout(dropout)(x)\n",
        "\n",
        "    x = BatchNormalization(axis=channel_axis, momentum=0.1, epsilon=1e-5, gamma_initializer='uniform')(x)\n",
        "    x = Activation('relu')(x)\n",
        "    x = Convolution2D(32 * k, (3, 3), padding='same', kernel_initializer='Orthogonal',\n",
        "                      kernel_regularizer=l2(weight_decay),\n",
        "                      use_bias=False)(x)\n",
        "\n",
        "    m = Add()([init, x])\n",
        "    return m\n",
        "\n",
        "def conv3_block(input, k=1, dropout=0.0):\n",
        "    init = input\n",
        "\n",
        "    channel_axis = 1 if K.image_data_format() == \"channels_first\" else -1\n",
        "    print(\"conv3 channel_axis:{} \".format(channel_axis))\n",
        "    x = BatchNormalization(axis=channel_axis, momentum=0.1, epsilon=1e-5, gamma_initializer='uniform')(input)\n",
        "    x = Activation('relu')(x)\n",
        "    x = Convolution2D(64 * k, (3, 3), padding='same', kernel_initializer='Orthogonal',\n",
        "                      kernel_regularizer=l2(weight_decay),\n",
        "                      use_bias=False)(x)\n",
        "\n",
        "    if dropout > 0.0: x = Dropout(dropout)(x)\n",
        "\n",
        "    x = BatchNormalization(axis=channel_axis, momentum=0.1, epsilon=1e-5, gamma_initializer='uniform')(x)\n",
        "    x = Activation('relu')(x)\n",
        "    x = Convolution2D(64 * k, (3, 3), padding='same', kernel_initializer='Orthogonal',\n",
        "                      kernel_regularizer=l2(weight_decay),\n",
        "                      use_bias=False)(x)\n",
        "\n",
        "    m = Add()([init, x])\n",
        "    return m\n",
        "\n",
        "def create_parseval_network(input_dim, nb_classes=100, N=2, k=1, dropout=0.0, verbose=1):\n",
        "    \"\"\"\n",
        "    Creates a Wide Residual Network with specified parameters\n",
        "\n",
        "    :param input: Input Keras object\n",
        "    :param nb_classes: Number of output classes\n",
        "    :param N: Depth of the network. Compute N = (n - 4) / 6.\n",
        "              Example : For a depth of 16, n = 16, N = (16 - 4) / 6 = 2\n",
        "              Example2: For a depth of 28, n = 28, N = (28 - 4) / 6 = 4\n",
        "              Example3: For a depth of 40, n = 40, N = (40 - 4) / 6 = 6\n",
        "    :param k: Width of the network.\n",
        "    :param dropout: Adds dropout if value is greater than 0.0\n",
        "    :param verbose: Debug info to describe created WRN\n",
        "    :return:\n",
        "    \"\"\"\n",
        "    channel_axis = 1 if K.image_data_format() == \"channels_first\" else -1\n",
        "\n",
        "    ip = Input(shape=input_dim)\n",
        "\n",
        "    x = initial_conv(ip)\n",
        "    nb_conv = 4\n",
        "\n",
        "    x = expand_conv(x, 16, k)\n",
        "    nb_conv += 2\n",
        "\n",
        "    for i in range(N - 1):\n",
        "        x = conv1_block(x, k, dropout)\n",
        "        nb_conv += 2\n",
        "\n",
        "    x = BatchNormalization(axis=channel_axis, momentum=0.1, epsilon=1e-5, gamma_initializer='uniform')(x)\n",
        "    x = Activation('relu')(x)\n",
        "\n",
        "    x = expand_conv(x, 32, k, strides=(2, 2))\n",
        "    nb_conv += 2\n",
        "\n",
        "    for i in range(N - 1):\n",
        "        x = conv2_block(x, k, dropout)\n",
        "        nb_conv += 2\n",
        "\n",
        "    x = BatchNormalization(axis=channel_axis, momentum=0.1, epsilon=1e-5, gamma_initializer='uniform')(x)\n",
        "    x = Activation('relu')(x)\n",
        "\n",
        "    x = expand_conv(x, 64, k, strides=(2, 2))\n",
        "    nb_conv += 2\n",
        "\n",
        "    for i in range(N - 1):\n",
        "        x = conv3_block(x, k, dropout)\n",
        "        nb_conv += 2\n",
        "\n",
        "    x = BatchNormalization(axis=channel_axis, momentum=0.1, epsilon=1e-5, gamma_initializer='uniform')(x)\n",
        "    x = Activation('relu')(x)\n",
        "\n",
        "    x = AveragePooling2D((8, 8))(x)\n",
        "    x = Flatten()(x)\n",
        "\n",
        "    x = Dense(nb_classes, kernel_regularizer=l2(weight_decay), activation='softmax')(x)\n",
        "\n",
        "    model = Model(ip, x)\n",
        "\n",
        "    if verbose: print(\"Parseval Residual Network-%d-%d created.\" % (nb_conv, k))\n",
        "    return model\n",
        "\n",
        "if __name__ == \"__main__\":\n",
        "    from tensorflow.keras.utils import plot_model\n",
        "    from tensorflow.keras.layers import Input\n",
        "    from tensorflow.keras.models import Model\n",
        "\n",
        "    init = (68, 100,1)\n",
        "\n",
        "    parseval_16_2 = create_parseval_network(init, nb_classes=4, N=2, k=2, dropout=0.3)\n"
      ],
      "execution_count": 8,
      "outputs": [
        {
          "output_type": "stream",
          "text": [
            "conv2:channel:  -1\n",
            "conv3 channel_axis:-1 \n",
            "Parseval Residual Network-16-2 created.\n"
          ],
          "name": "stdout"
        }
      ]
    },
    {
      "cell_type": "code",
      "metadata": {
        "id": "BxyMKoeaBqPh",
        "colab_type": "code",
        "colab": {}
      },
      "source": [
        "from tensorflow.keras.preprocessing.image import ImageDataGenerator\n",
        "import tensorflow.keras.callbacks as callbacks\n"
      ],
      "execution_count": 0,
      "outputs": []
    },
    {
      "cell_type": "code",
      "metadata": {
        "id": "liiFrat1Bv1_",
        "colab_type": "code",
        "colab": {}
      },
      "source": [
        "EPOCHS = 200\n",
        "BS = 128\n",
        "# construct the training image generator for data augmentation\n",
        "aug = ImageDataGenerator(rotation_range=20, zoom_range=0.15,\n",
        "width_shift_range=0.2, height_shift_range=0.2, shear_range=0.15,\n",
        "horizontal_flip=True, fill_mode=\"nearest\")"
      ],
      "execution_count": 0,
      "outputs": []
    },
    {
      "cell_type": "code",
      "metadata": {
        "id": "-ygMFWH8Bzfq",
        "colab_type": "code",
        "colab": {}
      },
      "source": [
        "from tensorflow.keras.callbacks import LearningRateScheduler\n",
        "import math\n",
        "from tensorflow.keras.optimizers import SGD\n",
        "\n",
        "sgd = SGD(lr=0.1, momentum=0.9)"
      ],
      "execution_count": 0,
      "outputs": []
    },
    {
      "cell_type": "code",
      "metadata": {
        "id": "WhUvPL0dB48O",
        "colab_type": "code",
        "outputId": "94b89083-c198-4c0a-8273-ad42eaeff9b1",
        "colab": {
          "base_uri": "https://localhost:8080/",
          "height": 34
        }
      },
      "source": [
        "parseval_16_2.compile(loss=\"categorical_crossentropy\", optimizer=sgd, metrics=[\"acc\"])\n",
        "print(\"Finished compiling\")"
      ],
      "execution_count": 12,
      "outputs": [
        {
          "output_type": "stream",
          "text": [
            "Finished compiling\n"
          ],
          "name": "stdout"
        }
      ]
    },
    {
      "cell_type": "code",
      "metadata": {
        "id": "6JrJ7xy1Q5rS",
        "colab_type": "code",
        "colab": {}
      },
      "source": [
        "import tensorflow\n",
        "generator = tensorflow.keras.preprocessing.image.ImageDataGenerator(rotation_range=10,\n",
        "                               width_shift_range=5./32,\n",
        "                               height_shift_range=5./32,)"
      ],
      "execution_count": 0,
      "outputs": []
    },
    {
      "cell_type": "code",
      "metadata": {
        "id": "i4EpGTMG9jeP",
        "colab_type": "code",
        "colab": {}
      },
      "source": [
        "def lr_sch(epoch):\n",
        "    if epoch < 60:\n",
        "        return 0.1\n",
        "    elif epoch < 120:\n",
        "        return 0.02\n",
        "    elif epoch < 160:\n",
        "        return 0.004\n",
        "    else:\n",
        "        return 0.0008\n",
        "\n",
        "# Learning rate scheduler callback\n",
        "lr_scheduler = LearningRateScheduler(lr_sch)"
      ],
      "execution_count": 0,
      "outputs": []
    },
    {
      "cell_type": "code",
      "metadata": {
        "id": "1Bu78FGi9jhv",
        "colab_type": "code",
        "colab": {}
      },
      "source": [
        ""
      ],
      "execution_count": 0,
      "outputs": []
    },
    {
      "cell_type": "code",
      "metadata": {
        "id": "9z0CbPY_24ns",
        "colab_type": "code",
        "outputId": "0dd00df1-915b-43b9-a636-7a98869186b6",
        "colab": {
          "base_uri": "https://localhost:8080/",
          "height": 1000
        }
      },
      "source": [
        "from tensorflow.keras.utils import to_categorical\n",
        "hist = parseval_16_2.fit(generator.flow(X_train, to_categorical(y_train_df['New']), batch_size=BS), steps_per_epoch=len(X_train) // BS, epochs=EPOCHS,\n",
        "                   validation_data=(X_test, to_categorical(y_test_df['New'])), callbacks = [lr_scheduler],\n",
        "                   validation_steps=X_test.shape[0] // BS,)"
      ],
      "execution_count": 15,
      "outputs": [
        {
          "output_type": "stream",
          "text": [
            "Epoch 1/200\n",
            "29/29 [==============================] - 19s 662ms/step - loss: 1.8353 - acc: 0.3398 - val_loss: 2.5095 - val_acc: 0.3049 - lr: 0.1000\n",
            "Epoch 2/200\n",
            "29/29 [==============================] - 16s 541ms/step - loss: 1.7557 - acc: 0.3795 - val_loss: 1.6968 - val_acc: 0.4373 - lr: 0.1000\n",
            "Epoch 3/200\n",
            "29/29 [==============================] - 16s 546ms/step - loss: 1.7062 - acc: 0.3952 - val_loss: 1.6292 - val_acc: 0.4357 - lr: 0.1000\n",
            "Epoch 4/200\n",
            "29/29 [==============================] - 16s 544ms/step - loss: 1.6401 - acc: 0.4197 - val_loss: 1.5726 - val_acc: 0.4960 - lr: 0.1000\n",
            "Epoch 5/200\n",
            "29/29 [==============================] - 16s 544ms/step - loss: 1.5475 - acc: 0.4964 - val_loss: 1.5092 - val_acc: 0.5161 - lr: 0.1000\n",
            "Epoch 6/200\n",
            "29/29 [==============================] - 16s 543ms/step - loss: 1.4863 - acc: 0.5247 - val_loss: 1.5476 - val_acc: 0.4542 - lr: 0.1000\n",
            "Epoch 7/200\n",
            "29/29 [==============================] - 16s 543ms/step - loss: 1.4464 - acc: 0.5406 - val_loss: 1.7007 - val_acc: 0.4563 - lr: 0.1000\n",
            "Epoch 8/200\n",
            "29/29 [==============================] - 16s 543ms/step - loss: 1.3935 - acc: 0.5498 - val_loss: 1.4293 - val_acc: 0.5532 - lr: 0.1000\n",
            "Epoch 9/200\n",
            "29/29 [==============================] - 16s 542ms/step - loss: 1.3358 - acc: 0.5806 - val_loss: 1.4167 - val_acc: 0.5738 - lr: 0.1000\n",
            "Epoch 10/200\n",
            "29/29 [==============================] - 16s 543ms/step - loss: 1.3104 - acc: 0.5816 - val_loss: 1.2752 - val_acc: 0.6157 - lr: 0.1000\n",
            "Epoch 11/200\n",
            "29/29 [==============================] - 16s 545ms/step - loss: 1.2546 - acc: 0.5997 - val_loss: 1.2269 - val_acc: 0.6088 - lr: 0.1000\n",
            "Epoch 12/200\n",
            "29/29 [==============================] - 16s 544ms/step - loss: 1.2240 - acc: 0.6143 - val_loss: 1.4805 - val_acc: 0.5024 - lr: 0.1000\n",
            "Epoch 13/200\n",
            "29/29 [==============================] - 16s 544ms/step - loss: 1.2114 - acc: 0.6111 - val_loss: 1.3444 - val_acc: 0.5866 - lr: 0.1000\n",
            "Epoch 14/200\n",
            "29/29 [==============================] - 16s 543ms/step - loss: 1.1601 - acc: 0.6464 - val_loss: 1.1808 - val_acc: 0.6098 - lr: 0.1000\n",
            "Epoch 15/200\n",
            "29/29 [==============================] - 16s 542ms/step - loss: 1.1203 - acc: 0.6507 - val_loss: 1.1660 - val_acc: 0.6406 - lr: 0.1000\n",
            "Epoch 16/200\n",
            "29/29 [==============================] - 16s 542ms/step - loss: 1.0932 - acc: 0.6610 - val_loss: 1.1161 - val_acc: 0.6644 - lr: 0.1000\n",
            "Epoch 17/200\n",
            "29/29 [==============================] - 16s 543ms/step - loss: 1.1008 - acc: 0.6564 - val_loss: 1.1616 - val_acc: 0.6194 - lr: 0.1000\n",
            "Epoch 18/200\n",
            "29/29 [==============================] - 16s 543ms/step - loss: 1.0347 - acc: 0.6845 - val_loss: 1.2188 - val_acc: 0.6146 - lr: 0.1000\n",
            "Epoch 19/200\n",
            "29/29 [==============================] - 16s 543ms/step - loss: 1.0279 - acc: 0.6853 - val_loss: 1.0271 - val_acc: 0.6887 - lr: 0.1000\n",
            "Epoch 20/200\n",
            "29/29 [==============================] - 16s 543ms/step - loss: 1.0096 - acc: 0.6958 - val_loss: 1.2016 - val_acc: 0.6374 - lr: 0.1000\n",
            "Epoch 21/200\n",
            "29/29 [==============================] - 16s 542ms/step - loss: 0.9736 - acc: 0.7004 - val_loss: 1.0694 - val_acc: 0.6649 - lr: 0.1000\n",
            "Epoch 22/200\n",
            "29/29 [==============================] - 16s 543ms/step - loss: 0.9500 - acc: 0.7190 - val_loss: 1.0190 - val_acc: 0.6919 - lr: 0.1000\n",
            "Epoch 23/200\n",
            "29/29 [==============================] - 16s 543ms/step - loss: 0.9277 - acc: 0.7247 - val_loss: 0.9212 - val_acc: 0.7343 - lr: 0.1000\n",
            "Epoch 24/200\n",
            "29/29 [==============================] - 16s 545ms/step - loss: 0.8662 - acc: 0.7495 - val_loss: 0.9198 - val_acc: 0.7136 - lr: 0.1000\n",
            "Epoch 25/200\n",
            "29/29 [==============================] - 16s 542ms/step - loss: 0.8899 - acc: 0.7285 - val_loss: 1.1705 - val_acc: 0.6522 - lr: 0.1000\n",
            "Epoch 26/200\n",
            "29/29 [==============================] - 16s 543ms/step - loss: 0.9055 - acc: 0.7320 - val_loss: 0.9259 - val_acc: 0.7115 - lr: 0.1000\n",
            "Epoch 27/200\n",
            "29/29 [==============================] - 16s 543ms/step - loss: 0.8543 - acc: 0.7498 - val_loss: 0.9232 - val_acc: 0.7253 - lr: 0.1000\n",
            "Epoch 28/200\n",
            "29/29 [==============================] - 16s 544ms/step - loss: 0.8517 - acc: 0.7428 - val_loss: 1.0555 - val_acc: 0.6797 - lr: 0.1000\n",
            "Epoch 29/200\n",
            "29/29 [==============================] - 16s 542ms/step - loss: 0.8922 - acc: 0.7301 - val_loss: 0.9601 - val_acc: 0.7152 - lr: 0.1000\n",
            "Epoch 30/200\n",
            "29/29 [==============================] - 16s 542ms/step - loss: 0.8137 - acc: 0.7671 - val_loss: 0.9595 - val_acc: 0.7253 - lr: 0.1000\n",
            "Epoch 31/200\n",
            "29/29 [==============================] - 16s 542ms/step - loss: 0.8281 - acc: 0.7582 - val_loss: 0.8922 - val_acc: 0.7279 - lr: 0.1000\n",
            "Epoch 32/200\n",
            "29/29 [==============================] - 16s 543ms/step - loss: 0.8292 - acc: 0.7555 - val_loss: 0.9122 - val_acc: 0.7078 - lr: 0.1000\n",
            "Epoch 33/200\n",
            "29/29 [==============================] - 16s 542ms/step - loss: 0.8064 - acc: 0.7700 - val_loss: 1.0707 - val_acc: 0.6861 - lr: 0.1000\n",
            "Epoch 34/200\n",
            "29/29 [==============================] - 16s 543ms/step - loss: 0.7970 - acc: 0.7652 - val_loss: 0.9325 - val_acc: 0.7343 - lr: 0.1000\n",
            "Epoch 35/200\n",
            "29/29 [==============================] - 16s 543ms/step - loss: 0.7797 - acc: 0.7791 - val_loss: 0.9111 - val_acc: 0.7253 - lr: 0.1000\n",
            "Epoch 36/200\n",
            "29/29 [==============================] - 16s 545ms/step - loss: 0.7885 - acc: 0.7698 - val_loss: 0.8487 - val_acc: 0.7348 - lr: 0.1000\n",
            "Epoch 37/200\n",
            "29/29 [==============================] - 16s 544ms/step - loss: 0.7438 - acc: 0.7924 - val_loss: 0.9619 - val_acc: 0.7305 - lr: 0.1000\n",
            "Epoch 38/200\n",
            "29/29 [==============================] - 16s 543ms/step - loss: 0.7397 - acc: 0.7811 - val_loss: 0.8864 - val_acc: 0.7448 - lr: 0.1000\n",
            "Epoch 39/200\n",
            "29/29 [==============================] - 16s 542ms/step - loss: 0.7604 - acc: 0.7752 - val_loss: 0.9554 - val_acc: 0.7041 - lr: 0.1000\n",
            "Epoch 40/200\n",
            "29/29 [==============================] - 16s 542ms/step - loss: 0.7221 - acc: 0.7938 - val_loss: 1.0053 - val_acc: 0.7094 - lr: 0.1000\n",
            "Epoch 41/200\n",
            "29/29 [==============================] - 16s 542ms/step - loss: 0.7394 - acc: 0.7846 - val_loss: 0.9813 - val_acc: 0.7035 - lr: 0.1000\n",
            "Epoch 42/200\n",
            "29/29 [==============================] - 16s 542ms/step - loss: 0.7629 - acc: 0.7779 - val_loss: 0.9061 - val_acc: 0.7311 - lr: 0.1000\n",
            "Epoch 43/200\n",
            "29/29 [==============================] - 16s 543ms/step - loss: 0.6989 - acc: 0.8105 - val_loss: 0.7902 - val_acc: 0.7724 - lr: 0.1000\n",
            "Epoch 44/200\n",
            "29/29 [==============================] - 16s 542ms/step - loss: 0.7057 - acc: 0.8035 - val_loss: 1.0597 - val_acc: 0.6670 - lr: 0.1000\n",
            "Epoch 45/200\n",
            "29/29 [==============================] - 16s 544ms/step - loss: 0.7485 - acc: 0.7862 - val_loss: 0.8557 - val_acc: 0.7533 - lr: 0.1000\n",
            "Epoch 46/200\n",
            "29/29 [==============================] - 16s 542ms/step - loss: 0.7101 - acc: 0.8057 - val_loss: 0.8250 - val_acc: 0.7628 - lr: 0.1000\n",
            "Epoch 47/200\n",
            "29/29 [==============================] - 16s 542ms/step - loss: 0.6957 - acc: 0.8121 - val_loss: 0.7700 - val_acc: 0.7755 - lr: 0.1000\n",
            "Epoch 48/200\n",
            "29/29 [==============================] - 16s 543ms/step - loss: 0.6712 - acc: 0.8114 - val_loss: 0.8033 - val_acc: 0.7671 - lr: 0.1000\n",
            "Epoch 49/200\n",
            "29/29 [==============================] - 16s 541ms/step - loss: 0.6646 - acc: 0.8254 - val_loss: 0.8578 - val_acc: 0.7602 - lr: 0.1000\n",
            "Epoch 50/200\n",
            "29/29 [==============================] - 16s 544ms/step - loss: 0.6636 - acc: 0.8178 - val_loss: 0.8211 - val_acc: 0.7687 - lr: 0.1000\n",
            "Epoch 51/200\n",
            "29/29 [==============================] - 16s 542ms/step - loss: 0.7023 - acc: 0.8094 - val_loss: 0.9118 - val_acc: 0.7316 - lr: 0.1000\n",
            "Epoch 52/200\n",
            "29/29 [==============================] - 16s 542ms/step - loss: 0.6762 - acc: 0.8186 - val_loss: 0.7963 - val_acc: 0.7830 - lr: 0.1000\n",
            "Epoch 53/200\n",
            "29/29 [==============================] - 16s 542ms/step - loss: 0.6627 - acc: 0.8205 - val_loss: 0.9807 - val_acc: 0.6940 - lr: 0.1000\n",
            "Epoch 54/200\n",
            "29/29 [==============================] - 16s 544ms/step - loss: 0.6841 - acc: 0.8159 - val_loss: 0.9239 - val_acc: 0.7242 - lr: 0.1000\n",
            "Epoch 55/200\n",
            "29/29 [==============================] - 16s 544ms/step - loss: 0.6409 - acc: 0.8281 - val_loss: 0.9589 - val_acc: 0.7401 - lr: 0.1000\n",
            "Epoch 56/200\n",
            "29/29 [==============================] - 16s 543ms/step - loss: 0.6382 - acc: 0.8410 - val_loss: 0.8064 - val_acc: 0.7745 - lr: 0.1000\n",
            "Epoch 57/200\n",
            "29/29 [==============================] - 16s 543ms/step - loss: 0.6212 - acc: 0.8400 - val_loss: 0.9252 - val_acc: 0.7395 - lr: 0.1000\n",
            "Epoch 58/200\n",
            "29/29 [==============================] - 16s 543ms/step - loss: 0.6317 - acc: 0.8332 - val_loss: 1.1495 - val_acc: 0.6686 - lr: 0.1000\n",
            "Epoch 59/200\n",
            "29/29 [==============================] - 16s 543ms/step - loss: 0.6434 - acc: 0.8332 - val_loss: 0.9193 - val_acc: 0.7538 - lr: 0.1000\n",
            "Epoch 60/200\n",
            "29/29 [==============================] - 16s 544ms/step - loss: 0.6790 - acc: 0.8159 - val_loss: 0.9276 - val_acc: 0.7459 - lr: 0.1000\n",
            "Epoch 61/200\n",
            "29/29 [==============================] - 16s 543ms/step - loss: 0.7471 - acc: 0.7949 - val_loss: 0.8097 - val_acc: 0.7755 - lr: 0.0200\n",
            "Epoch 62/200\n",
            "29/29 [==============================] - 16s 543ms/step - loss: 0.5765 - acc: 0.8650 - val_loss: 0.7554 - val_acc: 0.7904 - lr: 0.0200\n",
            "Epoch 63/200\n",
            "29/29 [==============================] - 16s 544ms/step - loss: 0.5135 - acc: 0.8941 - val_loss: 0.7772 - val_acc: 0.7925 - lr: 0.0200\n",
            "Epoch 64/200\n",
            "29/29 [==============================] - 16s 543ms/step - loss: 0.4864 - acc: 0.9004 - val_loss: 0.7851 - val_acc: 0.7994 - lr: 0.0200\n",
            "Epoch 65/200\n",
            "29/29 [==============================] - 16s 542ms/step - loss: 0.4677 - acc: 0.9055 - val_loss: 0.7589 - val_acc: 0.8025 - lr: 0.0200\n",
            "Epoch 66/200\n",
            "29/29 [==============================] - 16s 544ms/step - loss: 0.4501 - acc: 0.9157 - val_loss: 0.7562 - val_acc: 0.7999 - lr: 0.0200\n",
            "Epoch 67/200\n",
            "29/29 [==============================] - 16s 542ms/step - loss: 0.4317 - acc: 0.9177 - val_loss: 0.7939 - val_acc: 0.8036 - lr: 0.0200\n",
            "Epoch 68/200\n",
            "29/29 [==============================] - 16s 544ms/step - loss: 0.4181 - acc: 0.9271 - val_loss: 0.8332 - val_acc: 0.7994 - lr: 0.0200\n",
            "Epoch 69/200\n",
            "29/29 [==============================] - 16s 543ms/step - loss: 0.4082 - acc: 0.9242 - val_loss: 0.7992 - val_acc: 0.8126 - lr: 0.0200\n",
            "Epoch 70/200\n",
            "29/29 [==============================] - 16s 542ms/step - loss: 0.4130 - acc: 0.9228 - val_loss: 0.8126 - val_acc: 0.7957 - lr: 0.0200\n",
            "Epoch 71/200\n",
            "29/29 [==============================] - 16s 543ms/step - loss: 0.3963 - acc: 0.9282 - val_loss: 0.8483 - val_acc: 0.7988 - lr: 0.0200\n",
            "Epoch 72/200\n",
            "29/29 [==============================] - 16s 542ms/step - loss: 0.3707 - acc: 0.9360 - val_loss: 0.7998 - val_acc: 0.8126 - lr: 0.0200\n",
            "Epoch 73/200\n",
            "29/29 [==============================] - 16s 543ms/step - loss: 0.3642 - acc: 0.9417 - val_loss: 0.7993 - val_acc: 0.8147 - lr: 0.0200\n",
            "Epoch 74/200\n",
            "29/29 [==============================] - 16s 542ms/step - loss: 0.3672 - acc: 0.9360 - val_loss: 0.8538 - val_acc: 0.8062 - lr: 0.0200\n",
            "Epoch 75/200\n",
            "29/29 [==============================] - 16s 542ms/step - loss: 0.3773 - acc: 0.9339 - val_loss: 0.8270 - val_acc: 0.7951 - lr: 0.0200\n",
            "Epoch 76/200\n",
            "29/29 [==============================] - 16s 542ms/step - loss: 0.3746 - acc: 0.9374 - val_loss: 0.8482 - val_acc: 0.7957 - lr: 0.0200\n",
            "Epoch 77/200\n",
            "29/29 [==============================] - 16s 543ms/step - loss: 0.3609 - acc: 0.9363 - val_loss: 0.8012 - val_acc: 0.8163 - lr: 0.0200\n",
            "Epoch 78/200\n",
            "29/29 [==============================] - 16s 544ms/step - loss: 0.3480 - acc: 0.9441 - val_loss: 0.8489 - val_acc: 0.8100 - lr: 0.0200\n",
            "Epoch 79/200\n",
            "29/29 [==============================] - 16s 543ms/step - loss: 0.3477 - acc: 0.9428 - val_loss: 0.8531 - val_acc: 0.8068 - lr: 0.0200\n",
            "Epoch 80/200\n",
            "29/29 [==============================] - 16s 543ms/step - loss: 0.3407 - acc: 0.9452 - val_loss: 0.8664 - val_acc: 0.8110 - lr: 0.0200\n",
            "Epoch 81/200\n",
            "29/29 [==============================] - 16s 542ms/step - loss: 0.3421 - acc: 0.9457 - val_loss: 0.8530 - val_acc: 0.7999 - lr: 0.0200\n",
            "Epoch 82/200\n",
            "29/29 [==============================] - 16s 541ms/step - loss: 0.3317 - acc: 0.9422 - val_loss: 0.8072 - val_acc: 0.8221 - lr: 0.0200\n",
            "Epoch 83/200\n",
            "29/29 [==============================] - 16s 543ms/step - loss: 0.3223 - acc: 0.9517 - val_loss: 0.8788 - val_acc: 0.8031 - lr: 0.0200\n",
            "Epoch 84/200\n",
            "29/29 [==============================] - 16s 543ms/step - loss: 0.3221 - acc: 0.9511 - val_loss: 0.8533 - val_acc: 0.8110 - lr: 0.0200\n",
            "Epoch 85/200\n",
            "29/29 [==============================] - 16s 542ms/step - loss: 0.3195 - acc: 0.9517 - val_loss: 0.8505 - val_acc: 0.8062 - lr: 0.0200\n",
            "Epoch 86/200\n",
            "29/29 [==============================] - 16s 544ms/step - loss: 0.3141 - acc: 0.9512 - val_loss: 0.8594 - val_acc: 0.8174 - lr: 0.0200\n",
            "Epoch 87/200\n",
            "29/29 [==============================] - 16s 544ms/step - loss: 0.3136 - acc: 0.9530 - val_loss: 0.8436 - val_acc: 0.8200 - lr: 0.0200\n",
            "Epoch 88/200\n",
            "29/29 [==============================] - 16s 542ms/step - loss: 0.3065 - acc: 0.9568 - val_loss: 0.8744 - val_acc: 0.8100 - lr: 0.0200\n",
            "Epoch 89/200\n",
            "29/29 [==============================] - 16s 542ms/step - loss: 0.3156 - acc: 0.9528 - val_loss: 0.9024 - val_acc: 0.8047 - lr: 0.0200\n",
            "Epoch 90/200\n",
            "29/29 [==============================] - 16s 543ms/step - loss: 0.3153 - acc: 0.9517 - val_loss: 0.8283 - val_acc: 0.8200 - lr: 0.0200\n",
            "Epoch 91/200\n",
            "29/29 [==============================] - 16s 543ms/step - loss: 0.3009 - acc: 0.9533 - val_loss: 0.8514 - val_acc: 0.8179 - lr: 0.0200\n",
            "Epoch 92/200\n",
            "29/29 [==============================] - 16s 542ms/step - loss: 0.2986 - acc: 0.9574 - val_loss: 0.8498 - val_acc: 0.8152 - lr: 0.0200\n",
            "Epoch 93/200\n",
            "29/29 [==============================] - 16s 542ms/step - loss: 0.2909 - acc: 0.9611 - val_loss: 0.8726 - val_acc: 0.8084 - lr: 0.0200\n",
            "Epoch 94/200\n",
            "29/29 [==============================] - 16s 545ms/step - loss: 0.2886 - acc: 0.9617 - val_loss: 0.9487 - val_acc: 0.8052 - lr: 0.0200\n",
            "Epoch 95/200\n",
            "29/29 [==============================] - 16s 544ms/step - loss: 0.2850 - acc: 0.9614 - val_loss: 0.9179 - val_acc: 0.8041 - lr: 0.0200\n",
            "Epoch 96/200\n",
            "29/29 [==============================] - 16s 545ms/step - loss: 0.2835 - acc: 0.9630 - val_loss: 0.9341 - val_acc: 0.8020 - lr: 0.0200\n",
            "Epoch 97/200\n",
            "29/29 [==============================] - 16s 544ms/step - loss: 0.2833 - acc: 0.9590 - val_loss: 0.9163 - val_acc: 0.8137 - lr: 0.0200\n",
            "Epoch 98/200\n",
            "29/29 [==============================] - 16s 544ms/step - loss: 0.2919 - acc: 0.9582 - val_loss: 0.8996 - val_acc: 0.8089 - lr: 0.0200\n",
            "Epoch 99/200\n",
            "29/29 [==============================] - 16s 543ms/step - loss: 0.3031 - acc: 0.9536 - val_loss: 0.9454 - val_acc: 0.8057 - lr: 0.0200\n",
            "Epoch 100/200\n",
            "29/29 [==============================] - 16s 547ms/step - loss: 0.2917 - acc: 0.9530 - val_loss: 0.9144 - val_acc: 0.8020 - lr: 0.0200\n",
            "Epoch 101/200\n",
            "29/29 [==============================] - 16s 543ms/step - loss: 0.2676 - acc: 0.9663 - val_loss: 0.9229 - val_acc: 0.8190 - lr: 0.0200\n",
            "Epoch 102/200\n",
            "29/29 [==============================] - 16s 543ms/step - loss: 0.2765 - acc: 0.9628 - val_loss: 0.8805 - val_acc: 0.8105 - lr: 0.0200\n",
            "Epoch 103/200\n",
            "29/29 [==============================] - 16s 544ms/step - loss: 0.2753 - acc: 0.9649 - val_loss: 0.9080 - val_acc: 0.8041 - lr: 0.0200\n",
            "Epoch 104/200\n",
            "29/29 [==============================] - 16s 544ms/step - loss: 0.2693 - acc: 0.9655 - val_loss: 0.9009 - val_acc: 0.8126 - lr: 0.0200\n",
            "Epoch 105/200\n",
            "29/29 [==============================] - 16s 543ms/step - loss: 0.2776 - acc: 0.9617 - val_loss: 0.9416 - val_acc: 0.7978 - lr: 0.0200\n",
            "Epoch 106/200\n",
            "29/29 [==============================] - 16s 544ms/step - loss: 0.2816 - acc: 0.9584 - val_loss: 0.9382 - val_acc: 0.8041 - lr: 0.0200\n",
            "Epoch 107/200\n",
            "29/29 [==============================] - 16s 545ms/step - loss: 0.2879 - acc: 0.9568 - val_loss: 0.9190 - val_acc: 0.8062 - lr: 0.0200\n",
            "Epoch 108/200\n",
            "29/29 [==============================] - 16s 542ms/step - loss: 0.2802 - acc: 0.9563 - val_loss: 0.8904 - val_acc: 0.8131 - lr: 0.0200\n",
            "Epoch 109/200\n",
            "29/29 [==============================] - 16s 543ms/step - loss: 0.2690 - acc: 0.9622 - val_loss: 0.8944 - val_acc: 0.8121 - lr: 0.0200\n",
            "Epoch 110/200\n",
            "29/29 [==============================] - 16s 544ms/step - loss: 0.2801 - acc: 0.9603 - val_loss: 0.9544 - val_acc: 0.8025 - lr: 0.0200\n",
            "Epoch 111/200\n",
            "29/29 [==============================] - 16s 545ms/step - loss: 0.2659 - acc: 0.9644 - val_loss: 0.8354 - val_acc: 0.8237 - lr: 0.0200\n",
            "Epoch 112/200\n",
            "29/29 [==============================] - 16s 543ms/step - loss: 0.2438 - acc: 0.9752 - val_loss: 0.9741 - val_acc: 0.7930 - lr: 0.0200\n",
            "Epoch 113/200\n",
            "29/29 [==============================] - 16s 543ms/step - loss: 0.2766 - acc: 0.9636 - val_loss: 0.9392 - val_acc: 0.8015 - lr: 0.0200\n",
            "Epoch 114/200\n",
            "29/29 [==============================] - 16s 544ms/step - loss: 0.2678 - acc: 0.9663 - val_loss: 0.9379 - val_acc: 0.8047 - lr: 0.0200\n",
            "Epoch 115/200\n",
            "29/29 [==============================] - 16s 544ms/step - loss: 0.2511 - acc: 0.9711 - val_loss: 0.9210 - val_acc: 0.8062 - lr: 0.0200\n",
            "Epoch 116/200\n",
            "29/29 [==============================] - 16s 545ms/step - loss: 0.2608 - acc: 0.9628 - val_loss: 0.9913 - val_acc: 0.8041 - lr: 0.0200\n",
            "Epoch 117/200\n",
            "29/29 [==============================] - 16s 543ms/step - loss: 0.2635 - acc: 0.9622 - val_loss: 0.9358 - val_acc: 0.8105 - lr: 0.0200\n",
            "Epoch 118/200\n",
            "29/29 [==============================] - 16s 544ms/step - loss: 0.2676 - acc: 0.9638 - val_loss: 0.9097 - val_acc: 0.8062 - lr: 0.0200\n",
            "Epoch 119/200\n",
            "29/29 [==============================] - 16s 544ms/step - loss: 0.2658 - acc: 0.9633 - val_loss: 0.9791 - val_acc: 0.7962 - lr: 0.0200\n",
            "Epoch 120/200\n",
            "29/29 [==============================] - 16s 543ms/step - loss: 0.2693 - acc: 0.9592 - val_loss: 0.9684 - val_acc: 0.7845 - lr: 0.0200\n",
            "Epoch 121/200\n",
            "29/29 [==============================] - 16s 543ms/step - loss: 0.2887 - acc: 0.9544 - val_loss: 0.9188 - val_acc: 0.8142 - lr: 0.0040\n",
            "Epoch 122/200\n",
            "29/29 [==============================] - 16s 543ms/step - loss: 0.2201 - acc: 0.9830 - val_loss: 0.8986 - val_acc: 0.8137 - lr: 0.0040\n",
            "Epoch 123/200\n",
            "29/29 [==============================] - 16s 544ms/step - loss: 0.2102 - acc: 0.9868 - val_loss: 0.9139 - val_acc: 0.8205 - lr: 0.0040\n",
            "Epoch 124/200\n",
            "29/29 [==============================] - 16s 545ms/step - loss: 0.2031 - acc: 0.9887 - val_loss: 0.8951 - val_acc: 0.8216 - lr: 0.0040\n",
            "Epoch 125/200\n",
            "29/29 [==============================] - 16s 545ms/step - loss: 0.1975 - acc: 0.9892 - val_loss: 0.8831 - val_acc: 0.8306 - lr: 0.0040\n",
            "Epoch 126/200\n",
            "29/29 [==============================] - 16s 543ms/step - loss: 0.1990 - acc: 0.9900 - val_loss: 0.9072 - val_acc: 0.8301 - lr: 0.0040\n",
            "Epoch 127/200\n",
            "29/29 [==============================] - 16s 543ms/step - loss: 0.2000 - acc: 0.9887 - val_loss: 0.8958 - val_acc: 0.8274 - lr: 0.0040\n",
            "Epoch 128/200\n",
            "29/29 [==============================] - 16s 542ms/step - loss: 0.1897 - acc: 0.9946 - val_loss: 0.8888 - val_acc: 0.8274 - lr: 0.0040\n",
            "Epoch 129/200\n",
            "29/29 [==============================] - 16s 544ms/step - loss: 0.1921 - acc: 0.9930 - val_loss: 0.8969 - val_acc: 0.8290 - lr: 0.0040\n",
            "Epoch 130/200\n",
            "29/29 [==============================] - 16s 543ms/step - loss: 0.1900 - acc: 0.9924 - val_loss: 0.8847 - val_acc: 0.8317 - lr: 0.0040\n",
            "Epoch 131/200\n",
            "29/29 [==============================] - 16s 545ms/step - loss: 0.1835 - acc: 0.9949 - val_loss: 0.8717 - val_acc: 0.8253 - lr: 0.0040\n",
            "Epoch 132/200\n",
            "29/29 [==============================] - 16s 544ms/step - loss: 0.1916 - acc: 0.9922 - val_loss: 0.9313 - val_acc: 0.8237 - lr: 0.0040\n",
            "Epoch 133/200\n",
            "29/29 [==============================] - 16s 546ms/step - loss: 0.1837 - acc: 0.9930 - val_loss: 0.8753 - val_acc: 0.8280 - lr: 0.0040\n",
            "Epoch 134/200\n",
            "29/29 [==============================] - 16s 545ms/step - loss: 0.1821 - acc: 0.9949 - val_loss: 0.8944 - val_acc: 0.8301 - lr: 0.0040\n",
            "Epoch 135/200\n",
            "29/29 [==============================] - 16s 543ms/step - loss: 0.1865 - acc: 0.9914 - val_loss: 0.9087 - val_acc: 0.8311 - lr: 0.0040\n",
            "Epoch 136/200\n",
            "29/29 [==============================] - 16s 543ms/step - loss: 0.1796 - acc: 0.9957 - val_loss: 0.9238 - val_acc: 0.8264 - lr: 0.0040\n",
            "Epoch 137/200\n",
            "29/29 [==============================] - 16s 543ms/step - loss: 0.1785 - acc: 0.9968 - val_loss: 0.9562 - val_acc: 0.8264 - lr: 0.0040\n",
            "Epoch 138/200\n",
            "29/29 [==============================] - 16s 543ms/step - loss: 0.1798 - acc: 0.9949 - val_loss: 0.9502 - val_acc: 0.8216 - lr: 0.0040\n",
            "Epoch 139/200\n",
            "29/29 [==============================] - 16s 544ms/step - loss: 0.1809 - acc: 0.9949 - val_loss: 0.9315 - val_acc: 0.8237 - lr: 0.0040\n",
            "Epoch 140/200\n",
            "29/29 [==============================] - 16s 545ms/step - loss: 0.1790 - acc: 0.9935 - val_loss: 0.8907 - val_acc: 0.8285 - lr: 0.0040\n",
            "Epoch 141/200\n",
            "29/29 [==============================] - 16s 542ms/step - loss: 0.1773 - acc: 0.9962 - val_loss: 0.9277 - val_acc: 0.8317 - lr: 0.0040\n",
            "Epoch 142/200\n",
            "29/29 [==============================] - 16s 545ms/step - loss: 0.1753 - acc: 0.9965 - val_loss: 0.9445 - val_acc: 0.8306 - lr: 0.0040\n",
            "Epoch 143/200\n",
            "29/29 [==============================] - 16s 544ms/step - loss: 0.1754 - acc: 0.9962 - val_loss: 0.9275 - val_acc: 0.8274 - lr: 0.0040\n",
            "Epoch 144/200\n",
            "29/29 [==============================] - 16s 544ms/step - loss: 0.1756 - acc: 0.9962 - val_loss: 0.9296 - val_acc: 0.8317 - lr: 0.0040\n",
            "Epoch 145/200\n",
            "29/29 [==============================] - 16s 542ms/step - loss: 0.1793 - acc: 0.9935 - val_loss: 0.9440 - val_acc: 0.8306 - lr: 0.0040\n",
            "Epoch 146/200\n",
            "29/29 [==============================] - 16s 543ms/step - loss: 0.1756 - acc: 0.9951 - val_loss: 0.9278 - val_acc: 0.8242 - lr: 0.0040\n",
            "Epoch 147/200\n",
            "29/29 [==============================] - 16s 544ms/step - loss: 0.1778 - acc: 0.9927 - val_loss: 0.9612 - val_acc: 0.8253 - lr: 0.0040\n",
            "Epoch 148/200\n",
            "29/29 [==============================] - 16s 545ms/step - loss: 0.1755 - acc: 0.9949 - val_loss: 0.9544 - val_acc: 0.8269 - lr: 0.0040\n",
            "Epoch 149/200\n",
            "29/29 [==============================] - 16s 544ms/step - loss: 0.1714 - acc: 0.9965 - val_loss: 0.9308 - val_acc: 0.8295 - lr: 0.0040\n",
            "Epoch 150/200\n",
            "29/29 [==============================] - 16s 543ms/step - loss: 0.1723 - acc: 0.9960 - val_loss: 0.9444 - val_acc: 0.8237 - lr: 0.0040\n",
            "Epoch 151/200\n",
            "29/29 [==============================] - 16s 545ms/step - loss: 0.1732 - acc: 0.9960 - val_loss: 0.9767 - val_acc: 0.8253 - lr: 0.0040\n",
            "Epoch 152/200\n",
            "29/29 [==============================] - 16s 545ms/step - loss: 0.1733 - acc: 0.9960 - val_loss: 0.9361 - val_acc: 0.8295 - lr: 0.0040\n",
            "Epoch 153/200\n",
            "29/29 [==============================] - 16s 543ms/step - loss: 0.1709 - acc: 0.9960 - val_loss: 0.9497 - val_acc: 0.8253 - lr: 0.0040\n",
            "Epoch 154/200\n",
            "29/29 [==============================] - 16s 544ms/step - loss: 0.1707 - acc: 0.9968 - val_loss: 0.9268 - val_acc: 0.8311 - lr: 0.0040\n",
            "Epoch 155/200\n",
            "29/29 [==============================] - 16s 542ms/step - loss: 0.1711 - acc: 0.9957 - val_loss: 0.9193 - val_acc: 0.8295 - lr: 0.0040\n",
            "Epoch 156/200\n",
            "29/29 [==============================] - 16s 544ms/step - loss: 0.1685 - acc: 0.9968 - val_loss: 1.0070 - val_acc: 0.8142 - lr: 0.0040\n",
            "Epoch 157/200\n",
            "29/29 [==============================] - 16s 544ms/step - loss: 0.1704 - acc: 0.9957 - val_loss: 0.9654 - val_acc: 0.8248 - lr: 0.0040\n",
            "Epoch 158/200\n",
            "29/29 [==============================] - 16s 543ms/step - loss: 0.1683 - acc: 0.9960 - val_loss: 0.9728 - val_acc: 0.8216 - lr: 0.0040\n",
            "Epoch 159/200\n",
            "29/29 [==============================] - 16s 543ms/step - loss: 0.1656 - acc: 0.9973 - val_loss: 1.0248 - val_acc: 0.8152 - lr: 0.0040\n",
            "Epoch 160/200\n",
            "29/29 [==============================] - 16s 546ms/step - loss: 0.1663 - acc: 0.9962 - val_loss: 0.9445 - val_acc: 0.8248 - lr: 0.0040\n",
            "Epoch 161/200\n",
            "29/29 [==============================] - 16s 545ms/step - loss: 0.1662 - acc: 0.9962 - val_loss: 0.9696 - val_acc: 0.8221 - lr: 8.0000e-04\n",
            "Epoch 162/200\n",
            "29/29 [==============================] - 16s 543ms/step - loss: 0.1651 - acc: 0.9970 - val_loss: 0.9726 - val_acc: 0.8253 - lr: 8.0000e-04\n",
            "Epoch 163/200\n",
            "29/29 [==============================] - 16s 544ms/step - loss: 0.1639 - acc: 0.9970 - val_loss: 0.9776 - val_acc: 0.8248 - lr: 8.0000e-04\n",
            "Epoch 164/200\n",
            "29/29 [==============================] - 16s 544ms/step - loss: 0.1647 - acc: 0.9976 - val_loss: 0.9825 - val_acc: 0.8258 - lr: 8.0000e-04\n",
            "Epoch 165/200\n",
            "29/29 [==============================] - 16s 543ms/step - loss: 0.1642 - acc: 0.9965 - val_loss: 0.9471 - val_acc: 0.8227 - lr: 8.0000e-04\n",
            "Epoch 166/200\n",
            "29/29 [==============================] - 16s 544ms/step - loss: 0.1659 - acc: 0.9962 - val_loss: 0.9759 - val_acc: 0.8253 - lr: 8.0000e-04\n",
            "Epoch 167/200\n",
            "29/29 [==============================] - 16s 546ms/step - loss: 0.1633 - acc: 0.9973 - val_loss: 0.9614 - val_acc: 0.8280 - lr: 8.0000e-04\n",
            "Epoch 168/200\n",
            "29/29 [==============================] - 16s 545ms/step - loss: 0.1615 - acc: 0.9984 - val_loss: 0.9671 - val_acc: 0.8248 - lr: 8.0000e-04\n",
            "Epoch 169/200\n",
            "29/29 [==============================] - 16s 545ms/step - loss: 0.1650 - acc: 0.9973 - val_loss: 0.9615 - val_acc: 0.8237 - lr: 8.0000e-04\n",
            "Epoch 170/200\n",
            "29/29 [==============================] - 16s 544ms/step - loss: 0.1630 - acc: 0.9970 - val_loss: 1.0059 - val_acc: 0.8205 - lr: 8.0000e-04\n",
            "Epoch 171/200\n",
            "29/29 [==============================] - 16s 546ms/step - loss: 0.1625 - acc: 0.9973 - val_loss: 0.9933 - val_acc: 0.8242 - lr: 8.0000e-04\n",
            "Epoch 172/200\n",
            "29/29 [==============================] - 16s 545ms/step - loss: 0.1637 - acc: 0.9978 - val_loss: 0.9517 - val_acc: 0.8227 - lr: 8.0000e-04\n",
            "Epoch 173/200\n",
            "29/29 [==============================] - 16s 543ms/step - loss: 0.1604 - acc: 0.9981 - val_loss: 0.9591 - val_acc: 0.8211 - lr: 8.0000e-04\n",
            "Epoch 174/200\n",
            "29/29 [==============================] - 16s 544ms/step - loss: 0.1619 - acc: 0.9978 - val_loss: 0.9620 - val_acc: 0.8280 - lr: 8.0000e-04\n",
            "Epoch 175/200\n",
            "29/29 [==============================] - 16s 544ms/step - loss: 0.1637 - acc: 0.9965 - val_loss: 0.9725 - val_acc: 0.8237 - lr: 8.0000e-04\n",
            "Epoch 176/200\n",
            "29/29 [==============================] - 16s 544ms/step - loss: 0.1636 - acc: 0.9960 - val_loss: 0.9460 - val_acc: 0.8248 - lr: 8.0000e-04\n",
            "Epoch 177/200\n",
            "29/29 [==============================] - 16s 543ms/step - loss: 0.1599 - acc: 0.9978 - val_loss: 0.9844 - val_acc: 0.8253 - lr: 8.0000e-04\n",
            "Epoch 178/200\n",
            "29/29 [==============================] - 16s 545ms/step - loss: 0.1651 - acc: 0.9973 - val_loss: 0.9561 - val_acc: 0.8264 - lr: 8.0000e-04\n",
            "Epoch 179/200\n",
            "29/29 [==============================] - 16s 544ms/step - loss: 0.1618 - acc: 0.9965 - val_loss: 0.9696 - val_acc: 0.8227 - lr: 8.0000e-04\n",
            "Epoch 180/200\n",
            "29/29 [==============================] - 16s 545ms/step - loss: 0.1623 - acc: 0.9978 - val_loss: 1.0119 - val_acc: 0.8253 - lr: 8.0000e-04\n",
            "Epoch 181/200\n",
            "29/29 [==============================] - 16s 544ms/step - loss: 0.1616 - acc: 0.9970 - val_loss: 0.9485 - val_acc: 0.8253 - lr: 8.0000e-04\n",
            "Epoch 182/200\n",
            "29/29 [==============================] - 16s 543ms/step - loss: 0.1603 - acc: 0.9973 - val_loss: 0.9400 - val_acc: 0.8232 - lr: 8.0000e-04\n",
            "Epoch 183/200\n",
            "29/29 [==============================] - 16s 544ms/step - loss: 0.1618 - acc: 0.9976 - val_loss: 0.9525 - val_acc: 0.8269 - lr: 8.0000e-04\n",
            "Epoch 184/200\n",
            "29/29 [==============================] - 16s 544ms/step - loss: 0.1602 - acc: 0.9976 - val_loss: 0.9538 - val_acc: 0.8285 - lr: 8.0000e-04\n",
            "Epoch 185/200\n",
            "29/29 [==============================] - 16s 541ms/step - loss: 0.1619 - acc: 0.9981 - val_loss: 0.9506 - val_acc: 0.8248 - lr: 8.0000e-04\n",
            "Epoch 186/200\n",
            "29/29 [==============================] - 16s 543ms/step - loss: 0.1616 - acc: 0.9973 - val_loss: 0.9489 - val_acc: 0.8269 - lr: 8.0000e-04\n",
            "Epoch 187/200\n",
            "29/29 [==============================] - 16s 546ms/step - loss: 0.1607 - acc: 0.9970 - val_loss: 0.9715 - val_acc: 0.8264 - lr: 8.0000e-04\n",
            "Epoch 188/200\n",
            "29/29 [==============================] - 16s 543ms/step - loss: 0.1622 - acc: 0.9970 - val_loss: 0.9513 - val_acc: 0.8327 - lr: 8.0000e-04\n",
            "Epoch 189/200\n",
            "29/29 [==============================] - 16s 544ms/step - loss: 0.1627 - acc: 0.9970 - val_loss: 0.9451 - val_acc: 0.8258 - lr: 8.0000e-04\n",
            "Epoch 190/200\n",
            "29/29 [==============================] - 16s 545ms/step - loss: 0.1631 - acc: 0.9968 - val_loss: 0.9722 - val_acc: 0.8216 - lr: 8.0000e-04\n",
            "Epoch 191/200\n",
            "29/29 [==============================] - 16s 543ms/step - loss: 0.1613 - acc: 0.9981 - val_loss: 0.9360 - val_acc: 0.8332 - lr: 8.0000e-04\n",
            "Epoch 192/200\n",
            "29/29 [==============================] - 16s 544ms/step - loss: 0.1589 - acc: 0.9989 - val_loss: 0.9369 - val_acc: 0.8295 - lr: 8.0000e-04\n",
            "Epoch 193/200\n",
            "29/29 [==============================] - 16s 543ms/step - loss: 0.1598 - acc: 0.9978 - val_loss: 0.9254 - val_acc: 0.8269 - lr: 8.0000e-04\n",
            "Epoch 194/200\n",
            "29/29 [==============================] - 16s 542ms/step - loss: 0.1596 - acc: 0.9978 - val_loss: 0.9508 - val_acc: 0.8258 - lr: 8.0000e-04\n",
            "Epoch 195/200\n",
            "29/29 [==============================] - 16s 544ms/step - loss: 0.1604 - acc: 0.9973 - val_loss: 0.9376 - val_acc: 0.8274 - lr: 8.0000e-04\n",
            "Epoch 196/200\n",
            "29/29 [==============================] - 16s 543ms/step - loss: 0.1609 - acc: 0.9978 - val_loss: 0.9595 - val_acc: 0.8274 - lr: 8.0000e-04\n",
            "Epoch 197/200\n",
            "29/29 [==============================] - 16s 544ms/step - loss: 0.1592 - acc: 0.9984 - val_loss: 0.9689 - val_acc: 0.8248 - lr: 8.0000e-04\n",
            "Epoch 198/200\n",
            "29/29 [==============================] - 16s 543ms/step - loss: 0.1610 - acc: 0.9968 - val_loss: 0.9432 - val_acc: 0.8248 - lr: 8.0000e-04\n",
            "Epoch 199/200\n",
            "29/29 [==============================] - 16s 544ms/step - loss: 0.1599 - acc: 0.9981 - val_loss: 0.9601 - val_acc: 0.8253 - lr: 8.0000e-04\n",
            "Epoch 200/200\n",
            "29/29 [==============================] - 16s 543ms/step - loss: 0.1608 - acc: 0.9973 - val_loss: 0.9438 - val_acc: 0.8317 - lr: 8.0000e-04\n"
          ],
          "name": "stdout"
        }
      ]
    },
    {
      "cell_type": "code",
      "metadata": {
        "id": "y-QerZ4RN91R",
        "colab_type": "code",
        "outputId": "e810b844-e2e7-4c17-caa7-1cda87f846f1",
        "colab": {
          "base_uri": "https://localhost:8080/",
          "height": 282
        }
      },
      "source": [
        "from matplotlib import  pyplot\n",
        "\n",
        "pyplot.plot(hist.history[\"acc\"], label='train')\n",
        "pyplot.plot(hist.history['val_acc'], label='test')\n"
      ],
      "execution_count": 16,
      "outputs": [
        {
          "output_type": "execute_result",
          "data": {
            "text/plain": [
              "[<matplotlib.lines.Line2D at 0x7fd841301160>]"
            ]
          },
          "metadata": {
            "tags": []
          },
          "execution_count": 16
        },
        {
          "output_type": "display_data",
          "data": {
            "image/png": "[encoded data removed]",
            "text/plain": [
              "<Figure size 432x288 with 1 Axes>"
            ]
          },
          "metadata": {
            "tags": [],
            "needs_background": "light"
          }
        }
      ]
    },
    {
      "cell_type": "code",
      "metadata": {
        "id": "xeg6MBf-GSgC",
        "colab_type": "code",
        "colab": {}
      },
      "source": [
        "test_err = [1.0-x for x in hist.history['val_acc']]"
      ],
      "execution_count": 0,
      "outputs": []
    },
    {
      "cell_type": "code",
      "metadata": {
        "id": "RgiKT6i5GiJ9",
        "colab_type": "code",
        "outputId": "5a5d1d9b-a4e8-406b-a51f-0b882d6a0dfd",
        "colab": {
          "base_uri": "https://localhost:8080/",
          "height": 265
        }
      },
      "source": [
        "pyplot.plot(test_err, label='test')\n",
        "pyplot.savefig(\"deneme_err.png\")"
      ],
      "execution_count": 0,
      "outputs": [
        {
          "output_type": "display_data",
          "data": {
            "image/png": "[encoded data removed]",
            "text/plain": [
              "<Figure size 432x288 with 1 Axes>"
            ]
          },
          "metadata": {
            "tags": [],
            "needs_background": "light"
          }
        }
      ]
    },
    {
      "cell_type": "code",
      "metadata": {
        "id": "l4-IJ9Z-dQKF",
        "colab_type": "code",
        "colab": {}
      },
      "source": [
        "import tensorflow as tf\n",
        "parseval_16_2.save(\"parseval_tensor_lst.h5\")"
      ],
      "execution_count": 0,
      "outputs": []
    },
    {
      "cell_type": "code",
      "metadata": {
        "id": "MqddlwbmEV9s",
        "colab_type": "code",
        "colab": {}
      },
      "source": [
        "y_pred = parseval_16_2.predict(X_test)"
      ],
      "execution_count": 0,
      "outputs": []
    },
    {
      "cell_type": "code",
      "metadata": {
        "id": "C9Ysop6NFDbs",
        "colab_type": "code",
        "outputId": "9f3c9a0c-3cc0-4f2a-c121-7d602244187b",
        "colab": {
          "base_uri": "https://localhost:8080/",
          "height": 51
        }
      },
      "source": [
        "parseval_16_2.evaluate(X_test,to_categorical(y_test_df['New']),batch_size=128,verbose=2)"
      ],
      "execution_count": 0,
      "outputs": [
        {
          "output_type": "stream",
          "text": [
            "15/15 - 2s - loss: 0.9231 - acc: 0.8412\n"
          ],
          "name": "stdout"
        },
        {
          "output_type": "execute_result",
          "data": {
            "text/plain": [
              "[0.9231326580047607, 0.8411858081817627]"
            ]
          },
          "metadata": {
            "tags": []
          },
          "execution_count": 81
        }
      ]
    },
    {
      "cell_type": "code",
      "metadata": {
        "id": "THYCAlBW15Kg",
        "colab_type": "code",
        "outputId": "293bdb34-113d-4a78-d934-0e669ebdf442",
        "colab": {
          "base_uri": "https://localhost:8080/",
          "height": 734
        }
      },
      "source": [
        "!pip install -q tensorflow==2.0.0b1\n",
        "# Install bleeding edge version of cleverhans\n",
        "!pip install git+https://github.com/tensorflow/cleverhans.git#egg=cleverhans\n",
        "\n",
        "import cleverhans\n",
        "import tensorflow as tf\n",
        "import numpy as np\n",
        "import matplotlib.pyplot as plt\n",
        "\n",
        "print(\"\\nTensorflow Version: \" + tf.__version__)\n",
        "print(\"Cleverhans Version: \" + cleverhans.__version__)\n",
        "print(\"GPU Available: \", tf.test.is_gpu_available())"
      ],
      "execution_count": 0,
      "outputs": [
        {
          "output_type": "stream",
          "text": [
            "\u001b[K     |████████████████████████████████| 87.9MB 35kB/s \n",
            "\u001b[K     |████████████████████████████████| 501kB 39.0MB/s \n",
            "\u001b[K     |████████████████████████████████| 3.1MB 44.9MB/s \n",
            "\u001b[?25hCollecting cleverhans\n",
            "  Cloning https://github.com/tensorflow/cleverhans.git to /tmp/pip-install-wgp3ajip/cleverhans\n",
            "  Running command git clone -q https://github.com/tensorflow/cleverhans.git /tmp/pip-install-wgp3ajip/cleverhans\n",
            "Collecting nose\n",
            "\u001b[?25l  Downloading https://files.pythonhosted.org/packages/15/d8/dd071918c040f50fa1cf80da16423af51ff8ce4a0f2399b7bf8de45ac3d9/nose-1.3.7-py3-none-any.whl (154kB)\n",
            "\u001b[K     |████████████████████████████████| 163kB 2.8MB/s \n",
            "\u001b[?25hCollecting pycodestyle\n",
            "\u001b[?25l  Downloading https://files.pythonhosted.org/packages/10/5b/88879fb861ab79aef45c7e199cae3ef7af487b5603dcb363517a50602dd7/pycodestyle-2.6.0-py2.py3-none-any.whl (41kB)\n",
            "\u001b[K     |████████████████████████████████| 51kB 5.4MB/s \n",
            "\u001b[?25hRequirement already satisfied: scipy in /usr/local/lib/python3.6/dist-packages (from cleverhans) (1.4.1)\n",
            "Requirement already satisfied: matplotlib in /usr/local/lib/python3.6/dist-packages (from cleverhans) (3.2.1)\n",
            "Collecting mnist~=0.2\n",
            "  Downloading https://files.pythonhosted.org/packages/c6/c4/5db3bfe009f8d71f1d532bbadbd0ec203764bba3a469e4703a889db8e5e0/mnist-0.2.2-py2.py3-none-any.whl\n",
            "Requirement already satisfied: numpy in /usr/local/lib/python3.6/dist-packages (from cleverhans) (1.18.4)\n",
            "Requirement already satisfied: tensorflow-probability in /usr/local/lib/python3.6/dist-packages (from cleverhans) (0.10.0)\n",
            "Requirement already satisfied: joblib in /usr/local/lib/python3.6/dist-packages (from cleverhans) (0.15.1)\n",
            "Requirement already satisfied: pyparsing!=2.0.4,!=2.1.2,!=2.1.6,>=2.0.1 in /usr/local/lib/python3.6/dist-packages (from matplotlib->cleverhans) (2.4.7)\n",
            "Requirement already satisfied: kiwisolver>=1.0.1 in /usr/local/lib/python3.6/dist-packages (from matplotlib->cleverhans) (1.2.0)\n",
            "Requirement already satisfied: cycler>=0.10 in /usr/local/lib/python3.6/dist-packages (from matplotlib->cleverhans) (0.10.0)\n",
            "Requirement already satisfied: python-dateutil>=2.1 in /usr/local/lib/python3.6/dist-packages (from matplotlib->cleverhans) (2.8.1)\n",
            "Requirement already satisfied: cloudpickle>=1.2.2 in /usr/local/lib/python3.6/dist-packages (from tensorflow-probability->cleverhans) (1.3.0)\n",
            "Requirement already satisfied: decorator in /usr/local/lib/python3.6/dist-packages (from tensorflow-probability->cleverhans) (4.4.2)\n",
            "Requirement already satisfied: gast>=0.3.2 in /usr/local/lib/python3.6/dist-packages (from tensorflow-probability->cleverhans) (0.3.3)\n",
            "Requirement already satisfied: six>=1.10.0 in /usr/local/lib/python3.6/dist-packages (from tensorflow-probability->cleverhans) (1.12.0)\n",
            "Building wheels for collected packages: cleverhans\n",
            "  Building wheel for cleverhans (setup.py) ... \u001b[?25l\u001b[?25hdone\n",
            "  Created wheel for cleverhans: filename=cleverhans-3.0.1-cp36-none-any.whl size=262572 sha256=9b140e898b4fd588b7d61044063a489b678633c8bb1e1e90c30e9ec89fb65772\n",
            "  Stored in directory: /tmp/pip-ephem-wheel-cache-g87wshp1/wheels/6e/59/ec/723a6f654aaf62c8c40f0f0850fdf71a4948598697f56c3bfa\n",
            "Successfully built cleverhans\n",
            "Installing collected packages: nose, pycodestyle, mnist, cleverhans\n",
            "Successfully installed cleverhans-3.0.1 mnist-0.2.2 nose-1.3.7 pycodestyle-2.6.0\n",
            "\n",
            "Tensorflow Version: 2.2.0\n",
            "Cleverhans Version: 3.0.1-fc7b7c7ec903258e0e3fb88503fa629f\n",
            "WARNING:tensorflow:From <ipython-input-45-67a2c783edbc>:12: is_gpu_available (from tensorflow.python.framework.test_util) is deprecated and will be removed in a future version.\n",
            "Instructions for updating:\n",
            "Use `tf.config.list_physical_devices('GPU')` instead.\n",
            "GPU Available:  True\n"
          ],
          "name": "stdout"
        }
      ]
    },
    {
      "cell_type": "code",
      "metadata": {
        "id": "ZNev4Y9U2sFQ",
        "colab_type": "code",
        "colab": {}
      },
      "source": [
        "from cleverhans.future.tf2.attacks import fast_gradient_method\n",
        "\n",
        "#The attack requires the model to ouput the logits\n",
        "logits_model = tf.keras.Model(wrn_28_10.input,wrn_28_10.layers[-1].output)"
      ],
      "execution_count": 0,
      "outputs": []
    },
    {
      "cell_type": "code",
      "metadata": {
        "id": "dtKEw7Uq3Dj-",
        "colab_type": "code",
        "colab": {}
      },
      "source": [
        "random_index = 5\n",
        "\n",
        "original_image = X_test[random_index]\n",
        "original_image = tf.convert_to_tensor(original_image.reshape((1,68,100))) "
      ],
      "execution_count": 0,
      "outputs": []
    },
    {
      "cell_type": "code",
      "metadata": {
        "id": "FdxYTfSn3R4l",
        "colab_type": "code",
        "outputId": "89e2f3bf-1913-4c7a-875c-235a6ec5aa10",
        "colab": {
          "base_uri": "https://localhost:8080/",
          "height": 34
        }
      },
      "source": [
        "original_image.shape"
      ],
      "execution_count": 0,
      "outputs": [
        {
          "output_type": "execute_result",
          "data": {
            "text/plain": [
              "TensorShape([1, 68, 100])"
            ]
          },
          "metadata": {
            "tags": []
          },
          "execution_count": 124
        }
      ]
    },
    {
      "cell_type": "code",
      "metadata": {
        "id": "YSa4WKy33U3K",
        "colab_type": "code",
        "outputId": "0f007d42-b6b9-4b80-ff0a-1e626144e71b",
        "colab": {
          "base_uri": "https://localhost:8080/",
          "height": 68
        }
      },
      "source": [
        "wrn_28_10(original_image)"
      ],
      "execution_count": 0,
      "outputs": [
        {
          "output_type": "execute_result",
          "data": {
            "text/plain": [
              "<tf.Tensor: shape=(1, 4), dtype=float32, numpy=\n",
              "array([[1.1158982e-08, 8.5471781e-09, 9.9708480e-01, 2.9151759e-03]],\n",
              "      dtype=float32)>"
            ]
          },
          "metadata": {
            "tags": []
          },
          "execution_count": 125
        }
      ]
    },
    {
      "cell_type": "code",
      "metadata": {
        "id": "_jrP3jw83fwT",
        "colab_type": "code",
        "colab": {}
      },
      "source": [
        "y_test_cat = to_categorical(y_test_df['New'])"
      ],
      "execution_count": 0,
      "outputs": []
    },
    {
      "cell_type": "code",
      "metadata": {
        "id": "4VoJsNJX4HiB",
        "colab_type": "code",
        "outputId": "475778c2-8afd-4886-b610-886fea2bb3af",
        "colab": {
          "base_uri": "https://localhost:8080/",
          "height": 34
        }
      },
      "source": [
        "original_label = y_test_cat[random_index]\n",
        "original_label "
      ],
      "execution_count": 0,
      "outputs": [
        {
          "output_type": "execute_result",
          "data": {
            "text/plain": [
              "array([0., 0., 1., 0.], dtype=float32)"
            ]
          },
          "metadata": {
            "tags": []
          },
          "execution_count": 127
        }
      ]
    },
    {
      "cell_type": "code",
      "metadata": {
        "id": "K70kNexu3l-c",
        "colab_type": "code",
        "colab": {}
      },
      "source": [
        "epsilon = 0.33\n",
        "\n",
        "\n",
        "adv_example_untargeted_label = fast_gradient_method(logits_model, original_image, epsilon, np.inf, targeted=False)\n",
        "\n",
        "adv_example_untargeted_label_pred = wrn_28_10.predict(adv_example_untargeted_label)"
      ],
      "execution_count": 0,
      "outputs": []
    },
    {
      "cell_type": "code",
      "metadata": {
        "id": "r-LglBmM4gNw",
        "colab_type": "code",
        "outputId": "cedf4711-edad-4473-fbce-aa6e9450c10e",
        "colab": {
          "base_uri": "https://localhost:8080/",
          "height": 255
        }
      },
      "source": [
        "adv_example_untargeted_label"
      ],
      "execution_count": 0,
      "outputs": [
        {
          "output_type": "execute_result",
          "data": {
            "text/plain": [
              "<tf.Tensor: shape=(1, 68, 100), dtype=float32, numpy=\n",
              "array([[[-0.2543156 , -0.71246445, -0.86518073, ...,  0.5092658 ,\n",
              "          1.3983403 ,  2.0855637 ],\n",
              "        [-0.02524117, -0.05246446,  0.10025184, ...,  1.0437728 ,\n",
              "          0.43290767,  0.81469834],\n",
              "        [ 1.2456241 ,  0.48204255,  0.48204255, ...,  0.5092658 ,\n",
              "          0.81469834,  1.0437728 ],\n",
              "        ...,\n",
              "        [ 1.5510566 ,  1.4746984 ,  1.0929077 , ...,  0.10025184,\n",
              "          0.05111697, -0.17795746],\n",
              "        [ 1.5510566 ,  1.1692659 ,  1.7037729 , ..., -0.02524117,\n",
              "         -0.33067375, -0.33067375],\n",
              "        [ 0.585624  ,  0.585624  ,  1.2456241 , ...,  0.20383325,\n",
              "          0.9401914 ,  0.5584007 ]]], dtype=float32)>"
            ]
          },
          "metadata": {
            "tags": []
          },
          "execution_count": 129
        }
      ]
    },
    {
      "cell_type": "code",
      "metadata": {
        "id": "8d6rZhTp4i2b",
        "colab_type": "code",
        "outputId": "aee6fc3a-f160-485c-ecee-5bd1397d18c2",
        "colab": {
          "base_uri": "https://localhost:8080/",
          "height": 34
        }
      },
      "source": [
        "np.argmax(adv_example_untargeted_label_pred)"
      ],
      "execution_count": 0,
      "outputs": [
        {
          "output_type": "execute_result",
          "data": {
            "text/plain": [
              "3"
            ]
          },
          "metadata": {
            "tags": []
          },
          "execution_count": 130
        }
      ]
    },
    {
      "cell_type": "code",
      "metadata": {
        "id": "EKCXvIXY66lb",
        "colab_type": "code",
        "colab": {}
      },
      "source": [
        "original_image = tf.reshape(adv_example_untargeted_label, (68,100))"
      ],
      "execution_count": 0,
      "outputs": []
    },
    {
      "cell_type": "code",
      "metadata": {
        "id": "R0jgK_uG7cwn",
        "colab_type": "code",
        "outputId": "e4135f9e-c693-4f35-de1a-f38bba733365",
        "colab": {
          "base_uri": "https://localhost:8080/",
          "height": 255
        }
      },
      "source": [
        "original_image"
      ],
      "execution_count": 0,
      "outputs": [
        {
          "output_type": "execute_result",
          "data": {
            "text/plain": [
              "<tf.Tensor: shape=(68, 100), dtype=float32, numpy=\n",
              "array([[-0.2543156 , -0.71246445, -0.86518073, ...,  0.5092658 ,\n",
              "         1.3983403 ,  2.0855637 ],\n",
              "       [-0.02524117, -0.05246446,  0.10025184, ...,  1.0437728 ,\n",
              "         0.43290767,  0.81469834],\n",
              "       [ 1.2456241 ,  0.48204255,  0.48204255, ...,  0.5092658 ,\n",
              "         0.81469834,  1.0437728 ],\n",
              "       ...,\n",
              "       [ 1.5510566 ,  1.4746984 ,  1.0929077 , ...,  0.10025184,\n",
              "         0.05111697, -0.17795746],\n",
              "       [ 1.5510566 ,  1.1692659 ,  1.7037729 , ..., -0.02524117,\n",
              "        -0.33067375, -0.33067375],\n",
              "       [ 0.585624  ,  0.585624  ,  1.2456241 , ...,  0.20383325,\n",
              "         0.9401914 ,  0.5584007 ]], dtype=float32)>"
            ]
          },
          "metadata": {
            "tags": []
          },
          "execution_count": 132
        }
      ]
    },
    {
      "cell_type": "code",
      "metadata": {
        "id": "70uI8BLT7r5H",
        "colab_type": "code",
        "outputId": "3f3dc8ee-e4b7-4bc7-959e-2757a32524cb",
        "colab": {
          "base_uri": "https://localhost:8080/",
          "height": 268
        }
      },
      "source": [
        "import matplotlib.pyplot as plt\n",
        "import numpy as np\n",
        "X = np.random.random((100, 100)) # sample 2D array\n",
        "plt.imshow(original_image)\n",
        "plt.show()"
      ],
      "execution_count": 0,
      "outputs": [
        {
          "output_type": "display_data",
          "data": {
            "image/png": "[encoded data removed]",
            "text/plain": [
              "<Figure size 432x288 with 1 Axes>"
            ]
          },
          "metadata": {
            "tags": [],
            "needs_background": "light"
          }
        }
      ]
    },
    {
      "cell_type": "code",
      "metadata": {
        "id": "SumJnhN98Y0i",
        "colab_type": "code",
        "outputId": "f6c78c67-6655-4f3b-cd8a-6047c629ca89",
        "colab": {
          "base_uri": "https://localhost:8080/",
          "height": 34
        }
      },
      "source": [
        "y_test_cat[random_index]"
      ],
      "execution_count": 0,
      "outputs": [
        {
          "output_type": "execute_result",
          "data": {
            "text/plain": [
              "array([0., 0., 1., 0.], dtype=float32)"
            ]
          },
          "metadata": {
            "tags": []
          },
          "execution_count": 141
        }
      ]
    },
    {
      "cell_type": "code",
      "metadata": {
        "id": "woaZe08I8kM_",
        "colab_type": "code",
        "outputId": "d66d0f7a-fba5-40bd-c1ad-6d89d6e10a3d",
        "colab": {
          "base_uri": "https://localhost:8080/",
          "height": 34
        }
      },
      "source": [
        "y_test[random_index]"
      ],
      "execution_count": 0,
      "outputs": [
        {
          "output_type": "execute_result",
          "data": {
            "text/plain": [
              "'open'"
            ]
          },
          "metadata": {
            "tags": []
          },
          "execution_count": 142
        }
      ]
    }
  ]
}