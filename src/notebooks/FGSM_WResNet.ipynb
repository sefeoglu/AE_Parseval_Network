{
  "nbformat": 4,
  "nbformat_minor": 0,
  "metadata": {
    "colab": {
      "name": "FGSM_WResNet.ipynb",
      "provenance": [],
      "authorship_tag": "ABX9TyPUvgHk1CasMzRkTZKxxU2e",
      "include_colab_link": true
    },
    "kernelspec": {
      "name": "python3",
      "display_name": "Python 3"
    }
  },
  "cells": [
    {
      "cell_type": "markdown",
      "metadata": {
        "id": "view-in-github",
        "colab_type": "text"
      },
      "source": [
        "<a href=\"https://colab.research.google.com/github/sefeoglu/AE_Parseval_Network/blob/master/src/notebooks/FGSM_WResNet.ipynb\" target=\"_parent\"><img src=\"https://colab.research.google.com/assets/colab-badge.svg\" alt=\"Open In Colab\"/></a>"
      ]
    },
    {
      "cell_type": "code",
      "metadata": {
        "id": "82Tilk-64gM9",
        "colab_type": "code",
        "colab": {}
      },
      "source": [
        "import os\n",
        "import sys\n",
        "sys.path.insert(0, os.path.abspath('../'))"
      ],
      "execution_count": 0,
      "outputs": []
    },
    {
      "cell_type": "code",
      "metadata": {
        "id": "ViJlE_NkLloG",
        "colab_type": "code",
        "colab": {}
      },
      "source": [
        "from sklearn.model_selection import train_test_split\n",
        "import gzip\n",
        "import pickle\n",
        "import numpy as np"
      ],
      "execution_count": 0,
      "outputs": []
    },
    {
      "cell_type": "code",
      "metadata": {
        "id": "N6Fj9eDRLnen",
        "colab_type": "code",
        "outputId": "5afbe78a-1193-485a-f5a5-a1c4fd1e0c47",
        "colab": {
          "base_uri": "https://localhost:8080/",
          "height": 34
        }
      },
      "source": [
        "def read_data():\n",
        "    with open(\"data.pz\", 'rb') as file_:\n",
        "        with gzip.GzipFile(fileobj=file_) as gzf:\n",
        "            data = pickle.load(gzf, encoding='latin1', fix_imports=True)\n",
        "    return data\n",
        "data = read_data()\n",
        "new_data_X = []\n",
        "Y_data = []\n",
        "for row in data:\n",
        "    new_data_X.append(row['crop'])\n",
        "    Y_data.append(row['label'])\n",
        "new_data_X = np.array(new_data_X)\n",
        "new_data_X.shape"
      ],
      "execution_count": 159,
      "outputs": [
        {
          "output_type": "execute_result",
          "data": {
            "text/plain": [
              "(5722, 68, 100)"
            ]
          },
          "metadata": {
            "tags": []
          },
          "execution_count": 159
        }
      ]
    },
    {
      "cell_type": "code",
      "metadata": {
        "id": "0tYay31NLoHf",
        "colab_type": "code",
        "colab": {}
      },
      "source": [
        "X_train, X_test, y_train, y_test = train_test_split(new_data_X, Y_data, test_size=0.33, random_state=42)"
      ],
      "execution_count": 0,
      "outputs": []
    },
    {
      "cell_type": "code",
      "metadata": {
        "id": "Kq2q4PvgLqDi",
        "colab_type": "code",
        "colab": {}
      },
      "source": [
        "X_train = X_train.astype('float32')\n",
        "X_test = X_test.astype('float32')"
      ],
      "execution_count": 0,
      "outputs": []
    },
    {
      "cell_type": "code",
      "metadata": {
        "id": "JmIDc5TvLsFV",
        "colab_type": "code",
        "colab": {}
      },
      "source": [
        "import pandas as pd\n",
        "import numpy as np\n",
        "from sklearn.preprocessing import LabelEncoder\n",
        "# creating initial dataframe\n",
        "\n",
        "y_train_df = pd.DataFrame(y_train, columns=['Label'])\n",
        "# creating instance of labelencoder\n",
        "labelencoder = LabelEncoder()\n",
        "# Assigning numerical values and storing in another column\n",
        "y_train_df['New'] = labelencoder.fit_transform(y_train_df['Label'])\n",
        "y_test_df = pd.DataFrame(y_test, columns=['Label'])\n",
        "# creating instance of labelencoder\n",
        "labelencoder = LabelEncoder()\n",
        "# Assigning numerical values and storing in another column\n",
        "y_test_df['New'] = labelencoder.fit_transform(y_test_df['Label'])"
      ],
      "execution_count": 0,
      "outputs": []
    },
    {
      "cell_type": "code",
      "metadata": {
        "id": "mI3dGFdSLvFD",
        "colab_type": "code",
        "colab": {}
      },
      "source": [
        "import keras.backend as K\n",
        "img_rows, img_cols = X_train[0].shape\n",
        "\n",
        "\n",
        "# transform data set\n",
        "if K.common.image_data_format() == 'channels_first':\n",
        "    X_train = X_train.reshape(X_train.shape[0], 1, img_rows, img_cols)\n",
        "    X_test = X_test.reshape(X_test.shape[0], 1, img_rows, img_cols)\n",
        "    input_shape = (1, img_rows, img_cols)\n",
        "else:\n",
        "    X_train = X_train.reshape(X_train.shape[0], img_rows, img_cols, 1)\n",
        "    X_test = X_test.reshape(X_test.shape[0], img_rows, img_cols, 1)\n",
        "    input_shape = (img_rows, img_cols, 1)"
      ],
      "execution_count": 0,
      "outputs": []
    },
    {
      "cell_type": "code",
      "metadata": {
        "id": "44FWWZapLw_7",
        "colab_type": "code",
        "colab": {}
      },
      "source": [
        "from keras.utils import to_categorical\n",
        "y_test = to_categorical(y_test_df['New'])\n",
        "y_train = to_categorical(y_train_df['New'])"
      ],
      "execution_count": 0,
      "outputs": []
    },
    {
      "cell_type": "code",
      "metadata": {
        "id": "JwDA7Z9VPbcU",
        "colab_type": "code",
        "colab": {}
      },
      "source": [
        "import keras\n",
        "\n",
        "model = tf.keras.models.load_model(\"wresnet.h5\")"
      ],
      "execution_count": 0,
      "outputs": []
    },
    {
      "cell_type": "code",
      "metadata": {
        "id": "BKHFydKyuk2l",
        "colab_type": "code",
        "colab": {}
      },
      "source": [
        ""
      ],
      "execution_count": 0,
      "outputs": []
    },
    {
      "cell_type": "markdown",
      "metadata": {
        "id": "UC-KltIRQawB",
        "colab_type": "text"
      },
      "source": [
        "Adversarial Attack\n"
      ]
    },
    {
      "cell_type": "code",
      "metadata": {
        "id": "ndZnNkyxPs9O",
        "colab_type": "code",
        "outputId": "43d1339e-ee9f-4b5e-d2e6-6f5fe341fed4",
        "colab": {
          "base_uri": "https://localhost:8080/",
          "height": 34
        }
      },
      "source": [
        "model.input.shape"
      ],
      "execution_count": 166,
      "outputs": [
        {
          "output_type": "execute_result",
          "data": {
            "text/plain": [
              "TensorShape([None, 68, 100, 1])"
            ]
          },
          "metadata": {
            "tags": []
          },
          "execution_count": 166
        }
      ]
    },
    {
      "cell_type": "code",
      "metadata": {
        "id": "FZMQHLuRQ_SD",
        "colab_type": "code",
        "colab": {}
      },
      "source": [
        "def preprocess(image):\n",
        "  image = tf.cast(image, tf.float32)\n",
        "  image = tf.image.resize(image, (68, 100))\n",
        "  image = tf.keras.applications.mobilenet_v2.preprocess_input(image)\n",
        "  image = image[None, ...]\n",
        "  return image\n",
        "\n",
        "# Helper function to extract labels from probability vector"
      ],
      "execution_count": 0,
      "outputs": []
    },
    {
      "cell_type": "code",
      "metadata": {
        "id": "bURQeec5Rh-a",
        "colab_type": "code",
        "outputId": "5642e675-6a94-4ff0-f330-217b083ce7ea",
        "colab": {
          "base_uri": "https://localhost:8080/",
          "height": 34
        }
      },
      "source": [
        "img = X_train[8]\n",
        "img.shape"
      ],
      "execution_count": 168,
      "outputs": [
        {
          "output_type": "execute_result",
          "data": {
            "text/plain": [
              "(68, 100, 1)"
            ]
          },
          "metadata": {
            "tags": []
          },
          "execution_count": 168
        }
      ]
    },
    {
      "cell_type": "code",
      "metadata": {
        "id": "TdfD4BphxF_i",
        "colab_type": "code",
        "colab": {}
      },
      "source": [
        ""
      ],
      "execution_count": 0,
      "outputs": []
    },
    {
      "cell_type": "code",
      "metadata": {
        "id": "-_uPbowwyQr3",
        "colab_type": "code",
        "colab": {}
      },
      "source": [
        "vgg19 = tf.keras.applications.VGG19()"
      ],
      "execution_count": 0,
      "outputs": []
    },
    {
      "cell_type": "code",
      "metadata": {
        "id": "sGfaC_RRyS5N",
        "colab_type": "code",
        "colab": {
          "base_uri": "https://localhost:8080/",
          "height": 901
        },
        "outputId": "a7749d3e-a1ed-4cdb-a376-cf58f0d3612e"
      },
      "source": [
        "features_list = [layer.output for layer in model.layers]\n",
        "features_list"
      ],
      "execution_count": 181,
      "outputs": [
        {
          "output_type": "execute_result",
          "data": {
            "text/plain": [
              "[<tf.Tensor 'input_1_5:0' shape=(None, 68, 100, 1) dtype=float32>,\n",
              " <tf.Tensor 'conv2d_1_4/Identity:0' shape=(None, 68, 100, 16) dtype=float32>,\n",
              " <tf.Tensor 'batch_normalization_1_4/Identity:0' shape=(None, 68, 100, 16) dtype=float32>,\n",
              " <tf.Tensor 'activation_1_5/Identity:0' shape=(None, 68, 100, 16) dtype=float32>,\n",
              " <tf.Tensor 'conv2d_2_4/Identity:0' shape=(None, 68, 100, 32) dtype=float32>,\n",
              " <tf.Tensor 'batch_normalization_2_4/Identity:0' shape=(None, 68, 100, 32) dtype=float32>,\n",
              " <tf.Tensor 'activation_2_5/Identity:0' shape=(None, 68, 100, 32) dtype=float32>,\n",
              " <tf.Tensor 'conv2d_3_4/Identity:0' shape=(None, 68, 100, 32) dtype=float32>,\n",
              " <tf.Tensor 'conv2d_4_4/Identity:0' shape=(None, 68, 100, 32) dtype=float32>,\n",
              " <tf.Tensor 'add_1_5/Identity:0' shape=(None, 68, 100, 32) dtype=float32>,\n",
              " <tf.Tensor 'batch_normalization_3_4/Identity:0' shape=(None, 68, 100, 32) dtype=float32>,\n",
              " <tf.Tensor 'activation_3_5/Identity:0' shape=(None, 68, 100, 32) dtype=float32>,\n",
              " <tf.Tensor 'conv2d_5_4/Identity:0' shape=(None, 68, 100, 32) dtype=float32>,\n",
              " <tf.Tensor 'batch_normalization_4_4/Identity:0' shape=(None, 68, 100, 32) dtype=float32>,\n",
              " <tf.Tensor 'activation_4_5/Identity:0' shape=(None, 68, 100, 32) dtype=float32>,\n",
              " <tf.Tensor 'conv2d_6_4/Identity:0' shape=(None, 68, 100, 32) dtype=float32>,\n",
              " <tf.Tensor 'add_2_5/Identity:0' shape=(None, 68, 100, 32) dtype=float32>,\n",
              " <tf.Tensor 'batch_normalization_5_4/Identity:0' shape=(None, 68, 100, 32) dtype=float32>,\n",
              " <tf.Tensor 'activation_5_5/Identity:0' shape=(None, 68, 100, 32) dtype=float32>,\n",
              " <tf.Tensor 'conv2d_7_4/Identity:0' shape=(None, 68, 100, 64) dtype=float32>,\n",
              " <tf.Tensor 'batch_normalization_6_4/Identity:0' shape=(None, 68, 100, 64) dtype=float32>,\n",
              " <tf.Tensor 'activation_6_5/Identity:0' shape=(None, 68, 100, 64) dtype=float32>,\n",
              " <tf.Tensor 'conv2d_8_4/Identity:0' shape=(None, 68, 100, 64) dtype=float32>,\n",
              " <tf.Tensor 'conv2d_9_4/Identity:0' shape=(None, 68, 100, 64) dtype=float32>,\n",
              " <tf.Tensor 'add_3_5/Identity:0' shape=(None, 68, 100, 64) dtype=float32>,\n",
              " <tf.Tensor 'batch_normalization_7_4/Identity:0' shape=(None, 68, 100, 64) dtype=float32>,\n",
              " <tf.Tensor 'activation_7_5/Identity:0' shape=(None, 68, 100, 64) dtype=float32>,\n",
              " <tf.Tensor 'conv2d_10_4/Identity:0' shape=(None, 68, 100, 64) dtype=float32>,\n",
              " <tf.Tensor 'batch_normalization_8_4/Identity:0' shape=(None, 68, 100, 64) dtype=float32>,\n",
              " <tf.Tensor 'activation_8_5/Identity:0' shape=(None, 68, 100, 64) dtype=float32>,\n",
              " <tf.Tensor 'conv2d_11_4/Identity:0' shape=(None, 68, 100, 64) dtype=float32>,\n",
              " <tf.Tensor 'add_4_5/Identity:0' shape=(None, 68, 100, 64) dtype=float32>,\n",
              " <tf.Tensor 'batch_normalization_9_4/Identity:0' shape=(None, 68, 100, 64) dtype=float32>,\n",
              " <tf.Tensor 'activation_9_5/Identity:0' shape=(None, 68, 100, 64) dtype=float32>,\n",
              " <tf.Tensor 'conv2d_12_4/Identity:0' shape=(None, 68, 100, 128) dtype=float32>,\n",
              " <tf.Tensor 'batch_normalization_10_4/Identity:0' shape=(None, 68, 100, 128) dtype=float32>,\n",
              " <tf.Tensor 'activation_10_5/Identity:0' shape=(None, 68, 100, 128) dtype=float32>,\n",
              " <tf.Tensor 'conv2d_13_4/Identity:0' shape=(None, 68, 100, 128) dtype=float32>,\n",
              " <tf.Tensor 'conv2d_14_4/Identity:0' shape=(None, 68, 100, 128) dtype=float32>,\n",
              " <tf.Tensor 'add_5_5/Identity:0' shape=(None, 68, 100, 128) dtype=float32>,\n",
              " <tf.Tensor 'batch_normalization_11_4/Identity:0' shape=(None, 68, 100, 128) dtype=float32>,\n",
              " <tf.Tensor 'activation_11_5/Identity:0' shape=(None, 68, 100, 128) dtype=float32>,\n",
              " <tf.Tensor 'conv2d_15_4/Identity:0' shape=(None, 68, 100, 128) dtype=float32>,\n",
              " <tf.Tensor 'batch_normalization_12_4/Identity:0' shape=(None, 68, 100, 128) dtype=float32>,\n",
              " <tf.Tensor 'activation_12_5/Identity:0' shape=(None, 68, 100, 128) dtype=float32>,\n",
              " <tf.Tensor 'conv2d_16_4/Identity:0' shape=(None, 68, 100, 128) dtype=float32>,\n",
              " <tf.Tensor 'add_6_5/Identity:0' shape=(None, 68, 100, 128) dtype=float32>,\n",
              " <tf.Tensor 'batch_normalization_13_4/Identity:0' shape=(None, 68, 100, 128) dtype=float32>,\n",
              " <tf.Tensor 'activation_13_5/Identity:0' shape=(None, 68, 100, 128) dtype=float32>,\n",
              " <tf.Tensor 'average_pooling2d_1_4/Identity:0' shape=(None, 8, 12, 128) dtype=float32>,\n",
              " <tf.Tensor 'flatten_1_4/Identity:0' shape=(None, 12288) dtype=float32>,\n",
              " <tf.Tensor 'dense_1_4/Identity:0' shape=(None, 4) dtype=float32>]"
            ]
          },
          "metadata": {
            "tags": []
          },
          "execution_count": 181
        }
      ]
    },
    {
      "cell_type": "code",
      "metadata": {
        "id": "Ds_w1ZyXwiN7",
        "colab_type": "code",
        "colab": {
          "base_uri": "https://localhost:8080/",
          "height": 34
        },
        "outputId": "75dea4c4-0952-4ec3-cd35-35207628267e"
      },
      "source": [
        "feat_extraction_model = tf.keras.models.Model(inputs=model.input, outputs=model.layers[-1].output)\n",
        "feat_extraction_model"
      ],
      "execution_count": 187,
      "outputs": [
        {
          "output_type": "execute_result",
          "data": {
            "text/plain": [
              "<tensorflow.python.keras.engine.training.Model at 0x7f0c33d4d518>"
            ]
          },
          "metadata": {
            "tags": []
          },
          "execution_count": 187
        }
      ]
    },
    {
      "cell_type": "code",
      "metadata": {
        "id": "4rJOVuuvRotv",
        "colab_type": "code",
        "outputId": "778435b5-edc3-4be7-fbde-768d181bcadc",
        "colab": {
          "base_uri": "https://localhost:8080/",
          "height": 34
        }
      },
      "source": [
        "import tensorflow as tf\n",
        "image = tf.convert_to_tensor(img)\n",
        "image = preprocess(image)\n",
        "image.shape"
      ],
      "execution_count": 172,
      "outputs": [
        {
          "output_type": "execute_result",
          "data": {
            "text/plain": [
              "TensorShape([1, 68, 100, 1])"
            ]
          },
          "metadata": {
            "tags": []
          },
          "execution_count": 172
        }
      ]
    },
    {
      "cell_type": "code",
      "metadata": {
        "id": "hxBmtttC3yuF",
        "colab_type": "code",
        "colab": {
          "base_uri": "https://localhost:8080/",
          "height": 34
        },
        "outputId": "72af98d8-bee2-4472-9333-bd263b159e39"
      },
      "source": [
        "feat_extraction_model(image)\n",
        "\n",
        "\n"
      ],
      "execution_count": 188,
      "outputs": [
        {
          "output_type": "execute_result",
          "data": {
            "text/plain": [
              "<tf.Tensor: shape=(1, 4), dtype=float32, numpy=array([[0.02893857, 0.2202906 , 0.09846022, 0.6523106 ]], dtype=float32)>"
            ]
          },
          "metadata": {
            "tags": []
          },
          "execution_count": 188
        }
      ]
    },
    {
      "cell_type": "code",
      "metadata": {
        "id": "3x59qVlA1YJM",
        "colab_type": "code",
        "outputId": "3f67a6af-60bb-47de-cbc0-0a1fb490ce4e",
        "colab": {
          "base_uri": "https://localhost:8080/",
          "height": 34
        }
      },
      "source": [
        ""
      ],
      "execution_count": 176,
      "outputs": [
        {
          "output_type": "execute_result",
          "data": {
            "text/plain": [
              "<tensorflow.python.keras.engine.training.Model at 0x7f0c34559ef0>"
            ]
          },
          "metadata": {
            "tags": []
          },
          "execution_count": 176
        }
      ]
    },
    {
      "cell_type": "code",
      "metadata": {
        "id": "iAqJzB5lVGSU",
        "colab_type": "code",
        "colab": {}
      },
      "source": [
        "\n"
      ],
      "execution_count": 0,
      "outputs": []
    },
    {
      "cell_type": "code",
      "metadata": {
        "id": "f4ezZXlBTLHL",
        "colab_type": "code",
        "outputId": "b616e46d-a3f7-47d6-a44b-8fcb3e12c9ee",
        "colab": {
          "base_uri": "https://localhost:8080/",
          "height": 34
        }
      },
      "source": [
        "probs = model.predict(image,batch_size=None,steps=1)\n",
        "\n",
        "label = tf.one_hot(3, probs.shape[-1])\n",
        "label = tf.reshape(label, (1, probs.shape[-1]))\n",
        "label"
      ],
      "execution_count": 189,
      "outputs": [
        {
          "output_type": "execute_result",
          "data": {
            "text/plain": [
              "<tf.Tensor: shape=(1, 4), dtype=float32, numpy=array([[0., 0., 0., 1.]], dtype=float32)>"
            ]
          },
          "metadata": {
            "tags": []
          },
          "execution_count": 189
        }
      ]
    },
    {
      "cell_type": "code",
      "metadata": {
        "id": "xIg9BR2ZyVWn",
        "colab_type": "code",
        "colab": {}
      },
      "source": [
        "loss_object = tf.keras.losses.CategoricalCrossentropy()\n",
        "\n",
        "def create_adversarial_pattern(input_image, input_label):\n",
        "  with tf.GradientTape() as tape:\n",
        "    tape.watch(input_image)\n",
        "    prediction = model(input_image)\n",
        "    loss = loss_object(input_label, prediction)\n",
        "\n",
        "  # Get the gradients of the loss w.r.t to the input image.\n",
        "  gradient = tape.gradient(loss, input_image)\n",
        "\n",
        "  # Get the sign of the gradients to create the perturbation\n",
        "  signed_grad = tf.sign(gradient)\n",
        "  return signed_grad"
      ],
      "execution_count": 0,
      "outputs": []
    },
    {
      "cell_type": "code",
      "metadata": {
        "id": "PuSJ2c69ODbO",
        "colab_type": "code",
        "colab": {
          "base_uri": "https://localhost:8080/",
          "height": 1000
        },
        "outputId": "368c6397-0a74-48a7-b772-fd8bf37f39aa"
      },
      "source": [
        "import matplotlib.pyplot as plt\n",
        "perturbations = create_adversarial_pattern(image,label)\n",
        "adve = perturbations+ 0.3*image\n",
        "adve"
      ],
      "execution_count": 202,
      "outputs": [
        {
          "output_type": "stream",
          "text": [
            "tf.Tensor(\n",
            "[[[[-2.59939494e-04]\n",
            "   [-6.70405047e-04]\n",
            "   [-8.01580085e-04]\n",
            "   ...\n",
            "   [-1.32049248e-03]\n",
            "   [-7.17259711e-04]\n",
            "   [-3.90303787e-04]]\n",
            "\n",
            "  [[-7.80968054e-04]\n",
            "   [-1.79722940e-03]\n",
            "   [-2.20469385e-03]\n",
            "   ...\n",
            "   [-4.75630816e-03]\n",
            "   [-2.38177879e-03]\n",
            "   [-1.26672606e-03]]\n",
            "\n",
            "  [[-6.57051860e-04]\n",
            "   [-1.69656775e-03]\n",
            "   [-1.71961659e-03]\n",
            "   ...\n",
            "   [-4.91720578e-03]\n",
            "   [-1.17614213e-03]\n",
            "   [-6.98767544e-04]]\n",
            "\n",
            "  ...\n",
            "\n",
            "  [[ 2.43612194e-05]\n",
            "   [ 9.29113245e-04]\n",
            "   [ 2.11995817e-03]\n",
            "   ...\n",
            "   [ 1.75066976e-04]\n",
            "   [ 2.06759156e-04]\n",
            "   [ 1.54479669e-04]]\n",
            "\n",
            "  [[ 3.05417692e-04]\n",
            "   [ 7.75912777e-04]\n",
            "   [ 8.57825624e-04]\n",
            "   ...\n",
            "   [ 2.81883476e-05]\n",
            "   [ 1.63886871e-04]\n",
            "   [ 1.34231435e-04]]\n",
            "\n",
            "  [[ 1.29242035e-04]\n",
            "   [ 7.40479954e-05]\n",
            "   [-3.18969396e-04]\n",
            "   ...\n",
            "   [ 1.91707906e-04]\n",
            "   [ 1.66031896e-04]\n",
            "   [ 1.05009465e-04]]]], shape=(1, 68, 100, 1), dtype=float32)\n"
          ],
          "name": "stdout"
        },
        {
          "output_type": "execute_result",
          "data": {
            "text/plain": [
              "<tf.Tensor: shape=(1, 68, 100, 1), dtype=float32, numpy=\n",
              "array([[[[-1.300999  ],\n",
              "         [-1.300999  ],\n",
              "         [-1.3012393 ],\n",
              "         ...,\n",
              "         [-1.2983574 ],\n",
              "         [-1.2985976 ],\n",
              "         [-1.2997983 ]],\n",
              "\n",
              "        [[-1.3005188 ],\n",
              "         [-1.3014793 ],\n",
              "         [-1.3012393 ],\n",
              "         ...,\n",
              "         [-1.2978771 ],\n",
              "         [-1.2981173 ],\n",
              "         [-1.2993181 ]],\n",
              "\n",
              "        [[-1.3014793 ],\n",
              "         [-1.300999  ],\n",
              "         [-1.3012393 ],\n",
              "         ...,\n",
              "         [-1.2973968 ],\n",
              "         [-1.2985976 ],\n",
              "         [-1.2993181 ]],\n",
              "\n",
              "        ...,\n",
              "\n",
              "        [[ 0.6980403 ],\n",
              "         [ 0.69780016],\n",
              "         [ 0.69780016],\n",
              "         ...,\n",
              "         [ 0.7035638 ],\n",
              "         [ 0.703804  ],\n",
              "         [ 0.7030835 ]],\n",
              "\n",
              "        [[ 0.69780016],\n",
              "         [ 0.69780016],\n",
              "         [ 0.69756   ],\n",
              "         ...,\n",
              "         [ 0.7033237 ],\n",
              "         [ 0.703804  ],\n",
              "         [ 0.7033237 ]],\n",
              "\n",
              "        [[ 0.69780016],\n",
              "         [ 0.69828045],\n",
              "         [-1.3024399 ],\n",
              "         ...,\n",
              "         [ 0.7035638 ],\n",
              "         [ 0.7042843 ],\n",
              "         [ 0.7030835 ]]]], dtype=float32)>"
            ]
          },
          "metadata": {
            "tags": []
          },
          "execution_count": 202
        }
      ]
    },
    {
      "cell_type": "code",
      "metadata": {
        "id": "ctCONzw2wR-4",
        "colab_type": "code",
        "outputId": "af19fc6a-5633-4eb2-e786-22c6d5be1774",
        "colab": {
          "base_uri": "https://localhost:8080/",
          "height": 34
        }
      },
      "source": [
        "np.argmax(model.predict(adve))"
      ],
      "execution_count": 205,
      "outputs": [
        {
          "output_type": "execute_result",
          "data": {
            "text/plain": [
              "1"
            ]
          },
          "metadata": {
            "tags": []
          },
          "execution_count": 205
        }
      ]
    },
    {
      "cell_type": "code",
      "metadata": {
        "id": "al9wHrYNyXJ6",
        "colab_type": "code",
        "colab": {}
      },
      "source": [
        "from six.moves import xrange\n",
        "red_ind = list(xrange(1, len(image.get_shape())))\n",
        "square = tf.reduce_sum(tf.square(grad))\n",
        "normalized_grad = grad / tf.sqrt(square)\n",
        "normalized_grad"
      ],
      "execution_count": 0,
      "outputs": []
    },
    {
      "cell_type": "code",
      "metadata": {
        "id": "6XuG0pLL9z_G",
        "colab_type": "code",
        "colab": {}
      },
      "source": [
        ""
      ],
      "execution_count": 0,
      "outputs": []
    },
    {
      "cell_type": "code",
      "metadata": {
        "id": "dYiKMNOTzUz0",
        "colab_type": "code",
        "colab": {}
      },
      "source": [
        "scaled_grad = 0.3 * normalized_grad\n",
        "adv = scaled_grad+image\n",
        "tf.compat"
      ],
      "execution_count": 0,
      "outputs": []
    },
    {
      "cell_type": "code",
      "metadata": {
        "id": "5pFl4izTWJIu",
        "colab_type": "code",
        "colab": {}
      },
      "source": [
        "probs = tf.convert_to_tensor(probs)"
      ],
      "execution_count": 0,
      "outputs": []
    },
    {
      "cell_type": "code",
      "metadata": {
        "id": "r0fKPn1jWvZn",
        "colab_type": "code",
        "colab": {}
      },
      "source": [
        "probs"
      ],
      "execution_count": 0,
      "outputs": []
    },
    {
      "cell_type": "code",
      "metadata": {
        "id": "uIZVGDp1gT26",
        "colab_type": "code",
        "colab": {}
      },
      "source": [
        " l = keras.losses.categorical_crossentropy(label, probs)"
      ],
      "execution_count": 0,
      "outputs": []
    },
    {
      "cell_type": "code",
      "metadata": {
        "id": "YbfM2ROlgT0y",
        "colab_type": "code",
        "colab": {}
      },
      "source": [
        "print(l)"
      ],
      "execution_count": 0,
      "outputs": []
    },
    {
      "cell_type": "code",
      "metadata": {
        "id": "Xb4sr-gjV3o7",
        "colab_type": "code",
        "colab": {}
      },
      "source": [
        "loss_object = keras.losses.CategoricalCrossentropy()\n",
        "variable = tf.Variable(image)\n",
        "np.gradient(np.array([l]))"
      ],
      "execution_count": 0,
      "outputs": []
    },
    {
      "cell_type": "code",
      "metadata": {
        "id": "Gky_XjsJpvMs",
        "colab_type": "code",
        "colab": {}
      },
      "source": [
        ""
      ],
      "execution_count": 0,
      "outputs": []
    },
    {
      "cell_type": "code",
      "metadata": {
        "id": "2VzY_V53pl7k",
        "colab_type": "code",
        "colab": {}
      },
      "source": [
        ""
      ],
      "execution_count": 0,
      "outputs": []
    },
    {
      "cell_type": "code",
      "metadata": {
        "id": "eWq6ZIZChF4X",
        "colab_type": "code",
        "colab": {}
      },
      "source": [
        "generate_pattern(\"dense_\")\n"
      ],
      "execution_count": 0,
      "outputs": []
    },
    {
      "cell_type": "code",
      "metadata": {
        "id": "UpKdTtXChfzt",
        "colab_type": "code",
        "colab": {}
      },
      "source": [
        ""
      ],
      "execution_count": 0,
      "outputs": []
    }
  ]
}