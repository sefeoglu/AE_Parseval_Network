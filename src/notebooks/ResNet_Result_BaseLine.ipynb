{
  "nbformat": 4,
  "nbformat_minor": 0,
  "metadata": {
    "accelerator": "GPU",
    "colab": {
      "name": "ResNet_Result_BaseLine.ipynb",
      "provenance": []
    },
    "kernelspec": {
      "display_name": "Python 3",
      "language": "python",
      "name": "python3"
    },
    "language_info": {
      "codemirror_mode": {
        "name": "ipython",
        "version": 3
      },
      "file_extension": ".py",
      "mimetype": "text/x-python",
      "name": "python",
      "nbconvert_exporter": "python",
      "pygments_lexer": "ipython3",
      "version": "3.7.4"
    }
  },
  "cells": [
    {
      "cell_type": "markdown",
      "metadata": {
        "id": "CgKND0sckj9i"
      },
      "source": [
        "# <font color=\"purple\">Adversarial Training of Residual Network</font>"
      ]
    },
    {
      "cell_type": "markdown",
      "metadata": {
        "id": "WPX5KF4nkj9k"
      },
      "source": [
        "Definition of WideResNet and Architecture:"
      ]
    },
    {
      "cell_type": "markdown",
      "metadata": {
        "id": "5atyrM-Gkj9l"
      },
      "source": [
        "Residual Networks vs Wide Residual Networks"
      ]
    },
    {
      "cell_type": "markdown",
      "metadata": {
        "id": "W07XrKzjkj9l"
      },
      "source": [
        "##  <center>The Result of Residual Network </center>"
      ]
    },
    {
      "cell_type": "markdown",
      "metadata": {
        "id": "I6LWZY55kj9m"
      },
      "source": [
        "***Road Map***\n",
        "* Data Preprocessing\n",
        "* Model Cross Validation Results\n",
        "* Evaluate the GridSearchCV Results\n",
        "* Model Training and Learning Curves\n",
        "* Model Adversarial Training Approach.\n"
      ]
    },
    {
      "cell_type": "markdown",
      "metadata": {
        "id": "lkb49Wg6kj9n"
      },
      "source": [
        "**Libraries**"
      ]
    },
    {
      "cell_type": "code",
      "metadata": {
        "id": "C3etlaVjipGZ"
      },
      "source": [
        "import sys\n",
        "sys.path.insert(1,'/home/sefika/AE_Parseval_Network/src/cleverhans/future/tf2/attacks')\n",
        "import cleverhans\n"
      ],
      "execution_count": 1,
      "outputs": []
    },
    {
      "cell_type": "code",
      "metadata": {
        "id": "6BZWXRQYVIw1"
      },
      "source": [
        "!pip install -qq -e git+http://github.com/tensorflow/cleverhans.git#egg=cleverhans\n",
        "import sys\n",
        "sys.path.append('/content/src/cleverhans')\n",
        "import cleverhans"
      ],
      "execution_count": 1,
      "outputs": []
    },
    {
      "cell_type": "code",
      "metadata": {
        "id": "NIEl6l0kkj9o",
        "outputId": "31c8dad1-abec-4fea-a330-28267bb8519b",
        "colab": {
          "base_uri": "https://localhost:8080/"
        }
      },
      "source": [
        "import tensorflow as tf\n",
        "from cleverhans.future.tf2.attacks import fast_gradient_method\n",
        "from tensorflow.keras.optimizers import SGD\n",
        "from tensorflow.keras.callbacks import Callback, LearningRateScheduler, EarlyStopping\n",
        "from sklearn.model_selection import train_test_split\n",
        "import pandas as pd\n",
        "import numpy as np\n",
        "from sklearn.preprocessing import LabelEncoder\n",
        "from tensorflow.keras.utils import to_categorical\n",
        "from wresnet import WideResidualNetwork\n",
        "from sklearn.model_selection import  KFold\n",
        "import gzip\n",
        "import pickle\n",
        "import numpy as np\n",
        "\n",
        "import warnings\n",
        "warnings.filterwarnings(\"ignore\")\n",
        "\n",
        "print(\"\\nTensorflow Version: \" + tf.__version__)\n",
        "\n",
        "\n",
        "# defined utility functions\n",
        "from preprocessing import preprocessing_data\n",
        "from training import train\n",
        "from _utility import lrate"
      ],
      "execution_count": 2,
      "outputs": [
        {
          "output_type": "stream",
          "text": [
            "\n",
            "Tensorflow Version: 2.3.0\n"
          ],
          "name": "stdout"
        }
      ]
    },
    {
      "cell_type": "markdown",
      "metadata": {
        "id": "IhvWP7D-kj9v"
      },
      "source": [
        "## <font color=\"green\"> Data Preprocessing </font>\n"
      ]
    },
    {
      "cell_type": "markdown",
      "metadata": {
        "id": "o-Tkt8tPkj9w"
      },
      "source": [
        "* Read Data from File"
      ]
    },
    {
      "cell_type": "code",
      "metadata": {
        "id": "MbL58svXkj9x"
      },
      "source": [
        "def read_data():\n",
        "    with open(\"data.pz\", 'rb') as file_:\n",
        "        with gzip.GzipFile(fileobj=file_) as gzf:\n",
        "            data = pickle.load(gzf, encoding='latin1', fix_imports=True)\n",
        "    return data\n",
        "data = read_data()"
      ],
      "execution_count": 3,
      "outputs": []
    },
    {
      "cell_type": "markdown",
      "metadata": {
        "id": "CS5UxTh4kj91"
      },
      "source": [
        "* Call data preprocessing function"
      ]
    },
    {
      "cell_type": "code",
      "metadata": {
        "id": "lggXy4Xckj96"
      },
      "source": [
        "X, y = preprocessing_data(data)\n",
        "X_train, X_test, Y_train, y_test = train_test_split(X, y, test_size = 0.1)\n",
        "x_train, X_val, y_train, y_val = train_test_split(X_train, Y_train, test_size = 0.1)"
      ],
      "execution_count": 4,
      "outputs": []
    },
    {
      "cell_type": "markdown",
      "metadata": {
        "id": "ZMx1UO52ozNP"
      },
      "source": [
        "## <font color=\"green\"> Utilize Functions </font>"
      ]
    },
    {
      "cell_type": "markdown",
      "metadata": {
        "id": "DN9n1xLKpNAk"
      },
      "source": [
        "* Flipping the image using data augmentation technique"
      ]
    },
    {
      "cell_type": "code",
      "metadata": {
        "id": "MywglnvLo3b-"
      },
      "source": [
        "generator = tf.keras.preprocessing.image.ImageDataGenerator(rotation_range=10,\n",
        "                               width_shift_range=5./32,\n",
        "                               height_shift_range=5./32,)"
      ],
      "execution_count": 5,
      "outputs": []
    },
    {
      "cell_type": "markdown",
      "metadata": {
        "id": "evs0Sbh8i-pZ"
      },
      "source": [
        "### <font color = \"green\">Some Parameters Regarding Adversarial Examples</font>"
      ]
    },
    {
      "cell_type": "code",
      "metadata": {
        "id": "IIgl4BDQjPFL"
      },
      "source": [
        "# predefined epsilon values\n",
        "epsilon_list = [0.003,0.005,0.01,0.02]"
      ],
      "execution_count": 6,
      "outputs": []
    },
    {
      "cell_type": "markdown",
      "metadata": {
        "id": "GuPefX3CoKH5"
      },
      "source": [
        "### <font>General Visulazation Methods</font>"
      ]
    },
    {
      "cell_type": "markdown",
      "metadata": {
        "id": "2dd-t4F_pecb"
      },
      "source": [
        "* Show accurancy and loss function of the results"
      ]
    },
    {
      "cell_type": "markdown",
      "metadata": {
        "id": "XzFqxjQOkj9-"
      },
      "source": [
        "## <font color=\"purple\"> 1.) Baseline of the Model</font>"
      ]
    },
    {
      "cell_type": "markdown",
      "metadata": {
        "id": "L5Zv6ceWkj9_"
      },
      "source": [
        "* Explain the Baseline Model here"
      ]
    },
    {
      "cell_type": "code",
      "metadata": {
        "id": "wKaBoHadkj-M"
      },
      "source": [
        "EPOCHS = 50\n",
        "BS = 64\n",
        "init = (32, 32,1)\n",
        "sgd = SGD(lr=0.1, momentum=0.9)\n",
        "parameter = {'epochs': EPOCHS, 'batch_size': BS, 'optimizer': sgd}"
      ],
      "execution_count": 7,
      "outputs": []
    },
    {
      "cell_type": "code",
      "metadata": {
        "id": "1l_vYwIqtwdf"
      },
      "source": [
        "es = EarlyStopping(monitor='val_loss', mode='min', verbose=1, patience=200)\n",
        "callbacks_list = [lrate, es]\n",
        "wresnet_ins = WideResidualNetwork(init, 0.0001, 0.9, nb_classes=4, N=2, k=1, dropout=0.0)"
      ],
      "execution_count": 8,
      "outputs": []
    },
    {
      "cell_type": "code",
      "metadata": {
        "id": "hG_0aYgPq6Jg"
      },
      "source": [
        "result_df = train(wresnet_ins, X_train, Y_train, X_test, y_test, EPOCHS, BS, sgd, generator, callbacks_list, epsilon_list)"
      ],
      "execution_count": null,
      "outputs": []
    },
    {
      "cell_type": "code",
      "metadata": {
        "id": "4FJqbLkvGrSS"
      },
      "source": [
        "result_df[\"clean_mean\"] = np.sum(result_df['acc_clean'])/10.0\n",
        "result_df[\"0.003_mean\"] = np.sum(result_df['0.003_acc'])/10.0\n",
        "result_df[\"0.005_mean\"] = np.sum(result_df['0.005_acc'])/10.0\n",
        "result_df[\"0.02_mean\"] = np.sum(result_df['0.02_acc'])/10.0\n",
        "result_df[\"0.01_mean\"] = np.sum(result_df['0.01_acc'])/10.0"
      ],
      "execution_count": 13,
      "outputs": []
    },
    {
      "cell_type": "code",
      "metadata": {
        "id": "80-rkr5ysC0O",
        "outputId": "10204373-9f77-486e-f79d-549c58aaf138",
        "colab": {
          "base_uri": "https://localhost:8080/",
          "height": 100
        }
      },
      "source": [
        "result_df.head(1)"
      ],
      "execution_count": 14,
      "outputs": [
        {
          "output_type": "execute_result",
          "data": {
            "text/html": [
              "<div>\n",
              "<style scoped>\n",
              "    .dataframe tbody tr th:only-of-type {\n",
              "        vertical-align: middle;\n",
              "    }\n",
              "\n",
              "    .dataframe tbody tr th {\n",
              "        vertical-align: top;\n",
              "    }\n",
              "\n",
              "    .dataframe thead th {\n",
              "        text-align: right;\n",
              "    }\n",
              "</style>\n",
              "<table border=\"1\" class=\"dataframe\">\n",
              "  <thead>\n",
              "    <tr style=\"text-align: right;\">\n",
              "      <th></th>\n",
              "      <th>loss_clean</th>\n",
              "      <th>acc_clean</th>\n",
              "      <th>0.003_loss</th>\n",
              "      <th>0.003_acc</th>\n",
              "      <th>0.005_loss</th>\n",
              "      <th>0.005_acc</th>\n",
              "      <th>0.02_acc</th>\n",
              "      <th>0.02_loss</th>\n",
              "      <th>0.01_acc</th>\n",
              "      <th>0.01_clean</th>\n",
              "      <th>0.01_loss</th>\n",
              "      <th>clean_mean</th>\n",
              "      <th>0.003_mean</th>\n",
              "      <th>0.005_mean</th>\n",
              "      <th>0.02_mean</th>\n",
              "      <th>0.01_mean</th>\n",
              "    </tr>\n",
              "  </thead>\n",
              "  <tbody>\n",
              "    <tr>\n",
              "      <th>0</th>\n",
              "      <td>0.746125</td>\n",
              "      <td>0.764398</td>\n",
              "      <td>0.852942</td>\n",
              "      <td>0.710297</td>\n",
              "      <td>0.929604</td>\n",
              "      <td>0.668412</td>\n",
              "      <td>0.584642</td>\n",
              "      <td>1.135455</td>\n",
              "      <td>0.438045</td>\n",
              "      <td>NaN</td>\n",
              "      <td>0.438045</td>\n",
              "      <td>0.729145</td>\n",
              "      <td>0.682373</td>\n",
              "      <td>0.650436</td>\n",
              "      <td>0.574869</td>\n",
              "      <td>0.435951</td>\n",
              "    </tr>\n",
              "  </tbody>\n",
              "</table>\n",
              "</div>"
            ],
            "text/plain": [
              "   loss_clean  acc_clean  0.003_loss  ...  0.005_mean  0.02_mean  0.01_mean\n",
              "0    0.746125   0.764398    0.852942  ...    0.650436   0.574869   0.435951\n",
              "\n",
              "[1 rows x 16 columns]"
            ]
          },
          "metadata": {
            "tags": []
          },
          "execution_count": 14
        }
      ]
    },
    {
      "cell_type": "markdown",
      "metadata": {
        "id": "A3mH9_WMkj-a"
      },
      "source": [
        "## <font color=\"purple\">2.) Adversarial Training on Baseline Model</font>"
      ]
    },
    {
      "cell_type": "code",
      "metadata": {
        "id": "FAoBGHiWTnc9"
      },
      "source": [
        "adversarial_training =  AdversarialTraining(parameter)\n",
        "result_adv_df = adversarial_training.train(wresnet_ins, X_train, Y_train, X_test, y_test, epsilon_list, callbacks_list)"
      ],
      "execution_count": null,
      "outputs": []
    },
    {
      "cell_type": "markdown",
      "metadata": {
        "id": "9LT0T19skj-h"
      },
      "source": [
        "### <font color=\"purple\"> Results of Adversarial Training</font>"
      ]
    },
    {
      "cell_type": "code",
      "metadata": {
        "id": "XSr1gpfzkj-i"
      },
      "source": [
        "result_adv_df[\"clean_mean\"] = np.sum(result_adv_df['acc_clean'])/10.0\n",
        "result_adv_df[\"0.003_mean\"] = np.sum(result_adv_df['0.003_acc'])/10.0\n",
        "result_adv_df[\"0.005_mean\"] = np.sum(result_adv_df['0.005_acc'])/10.0\n",
        "result_adv_df[\"0.02_mean\"] = np.sum(result_adv_df['0.02_acc'])/10.0\n",
        "result_adv_df[\"0.01_mean\"] = np.sum(result_adv_df['0.01_acc'])/10.0"
      ],
      "execution_count": 25,
      "outputs": []
    },
    {
      "cell_type": "code",
      "metadata": {
        "id": "JbtKmK02vW3N",
        "outputId": "bc479ae9-3be6-41f1-c269-6f3b31993e4a",
        "colab": {
          "base_uri": "https://localhost:8080/",
          "height": 80
        }
      },
      "source": [
        "column = [\"clean_mean\",\"0.003_mean\",\"0.005_mean\",\"0.02_mean\",\"0.01_mean\"]\n",
        "result_adv_df[column].head(1)"
      ],
      "execution_count": 26,
      "outputs": [
        {
          "output_type": "execute_result",
          "data": {
            "text/html": [
              "<div>\n",
              "<style scoped>\n",
              "    .dataframe tbody tr th:only-of-type {\n",
              "        vertical-align: middle;\n",
              "    }\n",
              "\n",
              "    .dataframe tbody tr th {\n",
              "        vertical-align: top;\n",
              "    }\n",
              "\n",
              "    .dataframe thead th {\n",
              "        text-align: right;\n",
              "    }\n",
              "</style>\n",
              "<table border=\"1\" class=\"dataframe\">\n",
              "  <thead>\n",
              "    <tr style=\"text-align: right;\">\n",
              "      <th></th>\n",
              "      <th>clean_mean</th>\n",
              "      <th>0.003_mean</th>\n",
              "      <th>0.005_mean</th>\n",
              "      <th>0.02_mean</th>\n",
              "      <th>0.01_mean</th>\n",
              "    </tr>\n",
              "  </thead>\n",
              "  <tbody>\n",
              "    <tr>\n",
              "      <th>0</th>\n",
              "      <td>0.70349</td>\n",
              "      <td>0.655846</td>\n",
              "      <td>0.626702</td>\n",
              "      <td>0.542583</td>\n",
              "      <td>0.412565</td>\n",
              "    </tr>\n",
              "  </tbody>\n",
              "</table>\n",
              "</div>"
            ],
            "text/plain": [
              "   clean_mean  0.003_mean  0.005_mean  0.02_mean  0.01_mean\n",
              "0     0.70349    0.655846    0.626702   0.542583   0.412565"
            ]
          },
          "metadata": {
            "tags": []
          },
          "execution_count": 26
        }
      ]
    },
    {
      "cell_type": "markdown",
      "metadata": {
        "id": "Dk6SrKnTB_xI"
      },
      "source": [
        "# <font color=\"blue\">Compare Non-Adversarial Training with Adversarial Training</font>"
      ]
    },
    {
      "cell_type": "code",
      "metadata": {
        "id": "r9cyaTQ_CJj3",
        "outputId": "c14a1f3f-b3a7-486a-9198-1138907779b2",
        "colab": {
          "base_uri": "https://localhost:8080/",
          "height": 80
        }
      },
      "source": [
        "result_adv_df[column].head(1)"
      ],
      "execution_count": 27,
      "outputs": [
        {
          "output_type": "execute_result",
          "data": {
            "text/html": [
              "<div>\n",
              "<style scoped>\n",
              "    .dataframe tbody tr th:only-of-type {\n",
              "        vertical-align: middle;\n",
              "    }\n",
              "\n",
              "    .dataframe tbody tr th {\n",
              "        vertical-align: top;\n",
              "    }\n",
              "\n",
              "    .dataframe thead th {\n",
              "        text-align: right;\n",
              "    }\n",
              "</style>\n",
              "<table border=\"1\" class=\"dataframe\">\n",
              "  <thead>\n",
              "    <tr style=\"text-align: right;\">\n",
              "      <th></th>\n",
              "      <th>clean_mean</th>\n",
              "      <th>0.003_mean</th>\n",
              "      <th>0.005_mean</th>\n",
              "      <th>0.02_mean</th>\n",
              "      <th>0.01_mean</th>\n",
              "    </tr>\n",
              "  </thead>\n",
              "  <tbody>\n",
              "    <tr>\n",
              "      <th>0</th>\n",
              "      <td>0.70349</td>\n",
              "      <td>0.655846</td>\n",
              "      <td>0.626702</td>\n",
              "      <td>0.542583</td>\n",
              "      <td>0.412565</td>\n",
              "    </tr>\n",
              "  </tbody>\n",
              "</table>\n",
              "</div>"
            ],
            "text/plain": [
              "   clean_mean  0.003_mean  0.005_mean  0.02_mean  0.01_mean\n",
              "0     0.70349    0.655846    0.626702   0.542583   0.412565"
            ]
          },
          "metadata": {
            "tags": []
          },
          "execution_count": 27
        }
      ]
    },
    {
      "cell_type": "code",
      "metadata": {
        "id": "PAvyuKGlCJ2D"
      },
      "source": [
        "result_df[column].head(1)"
      ],
      "execution_count": null,
      "outputs": []
    },
    {
      "cell_type": "markdown",
      "metadata": {
        "id": "ziuulXV-B3SN"
      },
      "source": [
        "# <font color=\"blue\">Conclusion</font>"
      ]
    },
    {
      "cell_type": "markdown",
      "metadata": {
        "id": "cLwwAqvXsTeo"
      },
      "source": [
        ""
      ]
    }
  ]
}