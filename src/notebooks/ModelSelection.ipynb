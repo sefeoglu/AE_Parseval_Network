{
  "nbformat": 4,
  "nbformat_minor": 0,
  "metadata": {
    "kernelspec": {
      "display_name": "Python 3",
      "language": "python",
      "name": "python3"
    },
    "language_info": {
      "codemirror_mode": {
        "name": "ipython",
        "version": 3
      },
      "file_extension": ".py",
      "mimetype": "text/x-python",
      "name": "python",
      "nbconvert_exporter": "python",
      "pygments_lexer": "ipython3",
      "version": "3.7.4"
    },
    "colab": {
      "name": "ModelSelection.ipynb",
      "provenance": []
    }
  },
  "cells": [
    {
      "cell_type": "markdown",
      "metadata": {
        "id": "HNE_1U1i-zIJ",
        "colab_type": "text"
      },
      "source": [
        "Model Selection \n",
        "Evaluation of GridSearch CV Results"
      ]
    },
    {
      "cell_type": "code",
      "metadata": {
        "id": "oXq2aFeI-IY2",
        "colab_type": "code",
        "colab": {}
      },
      "source": [
        "import pandas as pd\n",
        "import numpy as np"
      ],
      "execution_count": 0,
      "outputs": []
    },
    {
      "cell_type": "code",
      "metadata": {
        "id": "iA0datKL_-Y2",
        "colab_type": "code",
        "colab": {}
      },
      "source": [
        "data1  = pd.read_csv(\"grid1.csv\", sep=\";\")\n",
        "data2  = pd.read_csv(\"grid2.csv\", sep=\";\")\n",
        "data3  = pd.read_csv(\"grid3.csv\", sep=\";\")\n",
        "data4  = pd.read_csv(\"grid4.csv\", sep=\";\")\n",
        "data5  = pd.read_csv(\"grid5.csv\", sep=\";\")"
      ],
      "execution_count": 0,
      "outputs": []
    },
    {
      "cell_type": "code",
      "metadata": {
        "id": "QslfJoLeAnma",
        "colab_type": "code",
        "colab": {}
      },
      "source": [
        ""
      ],
      "execution_count": 0,
      "outputs": []
    },
    {
      "cell_type": "code",
      "metadata": {
        "id": "R6jenvelAv7N",
        "colab_type": "code",
        "colab": {}
      },
      "source": [
        "data_combine = pd.concat([data1, data2, data3, data4, data5])"
      ],
      "execution_count": 0,
      "outputs": []
    },
    {
      "cell_type": "code",
      "metadata": {
        "id": "kwt5bogvBC61",
        "colab_type": "code",
        "outputId": "3a1f3e1b-a83e-4622-df4a-c5b6f84df1db",
        "colab": {
          "base_uri": "https://localhost:8080/",
          "height": 456
        }
      },
      "source": [
        "data_combine"
      ],
      "execution_count": 4,
      "outputs": [
        {
          "output_type": "execute_result",
          "data": {
            "text/html": [
              "<div>\n",
              "<style scoped>\n",
              "    .dataframe tbody tr th:only-of-type {\n",
              "        vertical-align: middle;\n",
              "    }\n",
              "\n",
              "    .dataframe tbody tr th {\n",
              "        vertical-align: top;\n",
              "    }\n",
              "\n",
              "    .dataframe thead th {\n",
              "        text-align: right;\n",
              "    }\n",
              "</style>\n",
              "<table border=\"1\" class=\"dataframe\">\n",
              "  <thead>\n",
              "    <tr style=\"text-align: right;\">\n",
              "      <th></th>\n",
              "      <th>Unnamed: 0</th>\n",
              "      <th>momentum</th>\n",
              "      <th>learning rate</th>\n",
              "      <th>batch size</th>\n",
              "      <th>loss1</th>\n",
              "      <th>acc1</th>\n",
              "      <th>loss2</th>\n",
              "      <th>acc2</th>\n",
              "      <th>loss3</th>\n",
              "      <th>acc3</th>\n",
              "      <th>epoch_stopped1</th>\n",
              "      <th>epoch_stopped2</th>\n",
              "      <th>epoch_stopped3</th>\n",
              "      <th>reg_penalty</th>\n",
              "    </tr>\n",
              "  </thead>\n",
              "  <tbody>\n",
              "    <tr>\n",
              "      <th>0</th>\n",
              "      <td>0</td>\n",
              "      <td>0.7</td>\n",
              "      <td>0.10</td>\n",
              "      <td>64.0</td>\n",
              "      <td>1.155334</td>\n",
              "      <td>0.595819</td>\n",
              "      <td>1.352832</td>\n",
              "      <td>0.540070</td>\n",
              "      <td>1.076885</td>\n",
              "      <td>0.658537</td>\n",
              "      <td>50.0</td>\n",
              "      <td>50.0</td>\n",
              "      <td>50.0</td>\n",
              "      <td>0.0100</td>\n",
              "    </tr>\n",
              "    <tr>\n",
              "      <th>1</th>\n",
              "      <td>1</td>\n",
              "      <td>0.6</td>\n",
              "      <td>0.10</td>\n",
              "      <td>64.0</td>\n",
              "      <td>1.055090</td>\n",
              "      <td>0.658537</td>\n",
              "      <td>1.115252</td>\n",
              "      <td>0.662021</td>\n",
              "      <td>1.056936</td>\n",
              "      <td>0.644599</td>\n",
              "      <td>50.0</td>\n",
              "      <td>50.0</td>\n",
              "      <td>50.0</td>\n",
              "      <td>0.0100</td>\n",
              "    </tr>\n",
              "    <tr>\n",
              "      <th>2</th>\n",
              "      <td>2</td>\n",
              "      <td>0.7</td>\n",
              "      <td>0.10</td>\n",
              "      <td>64.0</td>\n",
              "      <td>1.108868</td>\n",
              "      <td>0.648084</td>\n",
              "      <td>1.083757</td>\n",
              "      <td>0.700348</td>\n",
              "      <td>1.129849</td>\n",
              "      <td>0.665505</td>\n",
              "      <td>100.0</td>\n",
              "      <td>100.0</td>\n",
              "      <td>100.0</td>\n",
              "      <td>0.0100</td>\n",
              "    </tr>\n",
              "    <tr>\n",
              "      <th>3</th>\n",
              "      <td>3</td>\n",
              "      <td>0.6</td>\n",
              "      <td>0.10</td>\n",
              "      <td>64.0</td>\n",
              "      <td>1.160712</td>\n",
              "      <td>0.648084</td>\n",
              "      <td>1.304503</td>\n",
              "      <td>0.574913</td>\n",
              "      <td>1.219630</td>\n",
              "      <td>0.606272</td>\n",
              "      <td>100.0</td>\n",
              "      <td>100.0</td>\n",
              "      <td>100.0</td>\n",
              "      <td>0.0100</td>\n",
              "    </tr>\n",
              "    <tr>\n",
              "      <th>4</th>\n",
              "      <td>4</td>\n",
              "      <td>0.7</td>\n",
              "      <td>0.10</td>\n",
              "      <td>64.0</td>\n",
              "      <td>1.097314</td>\n",
              "      <td>0.710801</td>\n",
              "      <td>1.172504</td>\n",
              "      <td>0.682927</td>\n",
              "      <td>1.310760</td>\n",
              "      <td>0.574913</td>\n",
              "      <td>150.0</td>\n",
              "      <td>150.0</td>\n",
              "      <td>150.0</td>\n",
              "      <td>0.0100</td>\n",
              "    </tr>\n",
              "    <tr>\n",
              "      <th>...</th>\n",
              "      <td>...</td>\n",
              "      <td>...</td>\n",
              "      <td>...</td>\n",
              "      <td>...</td>\n",
              "      <td>...</td>\n",
              "      <td>...</td>\n",
              "      <td>...</td>\n",
              "      <td>...</td>\n",
              "      <td>...</td>\n",
              "      <td>...</td>\n",
              "      <td>...</td>\n",
              "      <td>...</td>\n",
              "      <td>...</td>\n",
              "      <td>...</td>\n",
              "    </tr>\n",
              "    <tr>\n",
              "      <th>6</th>\n",
              "      <td>6</td>\n",
              "      <td>0.7</td>\n",
              "      <td>0.01</td>\n",
              "      <td>256.0</td>\n",
              "      <td>1.354815</td>\n",
              "      <td>0.470383</td>\n",
              "      <td>1.368851</td>\n",
              "      <td>0.459930</td>\n",
              "      <td>1.311028</td>\n",
              "      <td>0.522648</td>\n",
              "      <td>50.0</td>\n",
              "      <td>50.0</td>\n",
              "      <td>50.0</td>\n",
              "      <td>0.0001</td>\n",
              "    </tr>\n",
              "    <tr>\n",
              "      <th>7</th>\n",
              "      <td>7</td>\n",
              "      <td>0.6</td>\n",
              "      <td>0.01</td>\n",
              "      <td>256.0</td>\n",
              "      <td>1.402963</td>\n",
              "      <td>0.414634</td>\n",
              "      <td>1.380982</td>\n",
              "      <td>0.463415</td>\n",
              "      <td>1.322560</td>\n",
              "      <td>0.508711</td>\n",
              "      <td>50.0</td>\n",
              "      <td>50.0</td>\n",
              "      <td>50.0</td>\n",
              "      <td>0.0001</td>\n",
              "    </tr>\n",
              "    <tr>\n",
              "      <th>8</th>\n",
              "      <td>8</td>\n",
              "      <td>0.7</td>\n",
              "      <td>0.01</td>\n",
              "      <td>256.0</td>\n",
              "      <td>1.052604</td>\n",
              "      <td>0.658537</td>\n",
              "      <td>1.191788</td>\n",
              "      <td>0.606272</td>\n",
              "      <td>1.077801</td>\n",
              "      <td>0.655052</td>\n",
              "      <td>100.0</td>\n",
              "      <td>100.0</td>\n",
              "      <td>100.0</td>\n",
              "      <td>0.0001</td>\n",
              "    </tr>\n",
              "    <tr>\n",
              "      <th>9</th>\n",
              "      <td>9</td>\n",
              "      <td>0.6</td>\n",
              "      <td>0.01</td>\n",
              "      <td>256.0</td>\n",
              "      <td>1.305915</td>\n",
              "      <td>0.445993</td>\n",
              "      <td>1.242660</td>\n",
              "      <td>0.574913</td>\n",
              "      <td>1.137400</td>\n",
              "      <td>0.613240</td>\n",
              "      <td>100.0</td>\n",
              "      <td>100.0</td>\n",
              "      <td>100.0</td>\n",
              "      <td>0.0001</td>\n",
              "    </tr>\n",
              "    <tr>\n",
              "      <th>10</th>\n",
              "      <td>10</td>\n",
              "      <td>0.7</td>\n",
              "      <td>0.01</td>\n",
              "      <td>256.0</td>\n",
              "      <td>0.997167</td>\n",
              "      <td>0.714286</td>\n",
              "      <td>0.993397</td>\n",
              "      <td>0.693380</td>\n",
              "      <td>1.200310</td>\n",
              "      <td>0.668990</td>\n",
              "      <td>150.0</td>\n",
              "      <td>150.0</td>\n",
              "      <td>150.0</td>\n",
              "      <td>0.0001</td>\n",
              "    </tr>\n",
              "  </tbody>\n",
              "</table>\n",
              "<p>105 rows × 14 columns</p>\n",
              "</div>"
            ],
            "text/plain": [
              "    Unnamed: 0  momentum  ...  epoch_stopped3  reg_penalty\n",
              "0            0       0.7  ...            50.0       0.0100\n",
              "1            1       0.6  ...            50.0       0.0100\n",
              "2            2       0.7  ...           100.0       0.0100\n",
              "3            3       0.6  ...           100.0       0.0100\n",
              "4            4       0.7  ...           150.0       0.0100\n",
              "..         ...       ...  ...             ...          ...\n",
              "6            6       0.7  ...            50.0       0.0001\n",
              "7            7       0.6  ...            50.0       0.0001\n",
              "8            8       0.7  ...           100.0       0.0001\n",
              "9            9       0.6  ...           100.0       0.0001\n",
              "10          10       0.7  ...           150.0       0.0001\n",
              "\n",
              "[105 rows x 14 columns]"
            ]
          },
          "metadata": {
            "tags": []
          },
          "execution_count": 4
        }
      ]
    },
    {
      "cell_type": "code",
      "metadata": {
        "id": "0lgYxKz8BkFp",
        "colab_type": "code",
        "colab": {}
      },
      "source": [
        "data_combine[\"loss_mean\"] = (data_combine[\"loss1\"]+data_combine[\"loss2\"]+data_combine[\"loss3\"])/3"
      ],
      "execution_count": 0,
      "outputs": []
    },
    {
      "cell_type": "code",
      "metadata": {
        "id": "DuyOz1F82Uoz",
        "colab_type": "code",
        "colab": {}
      },
      "source": [
        "data_combine['epoch'] = data_combine['epoch_stopped1']\n",
        "data_combine['weight_decay'] = data_combine['reg_penalty']"
      ],
      "execution_count": 0,
      "outputs": []
    },
    {
      "cell_type": "code",
      "metadata": {
        "id": "KPcqOJAYCDHX",
        "colab_type": "code",
        "colab": {}
      },
      "source": [
        "data_combine[\"acc_mean\"] = (data_combine[\"acc1\"]+data_combine[\"acc2\"]+data_combine[\"acc3\"])/3"
      ],
      "execution_count": 0,
      "outputs": []
    },
    {
      "cell_type": "code",
      "metadata": {
        "id": "-KNBy_dKwUEm",
        "colab_type": "code",
        "colab": {}
      },
      "source": [
        "column_list = [\"momentum\", \"learning rate\", \"epoch\",\"batch size\",\"weight_decay\",\"loss_mean\", \"acc_mean\"]"
      ],
      "execution_count": 0,
      "outputs": []
    },
    {
      "cell_type": "code",
      "metadata": {
        "id": "gNR94-SACQlL",
        "colab_type": "code",
        "outputId": "a97e102b-a458-48d1-ad74-6b413ee14ffa",
        "colab": {
          "base_uri": "https://localhost:8080/",
          "height": 142
        }
      },
      "source": [
        "data_combine.sort_values(axis=0, by=\"loss_mean\", ascending=True)[column_list].head(3)"
      ],
      "execution_count": 11,
      "outputs": [
        {
          "output_type": "execute_result",
          "data": {
            "text/html": [
              "<div>\n",
              "<style scoped>\n",
              "    .dataframe tbody tr th:only-of-type {\n",
              "        vertical-align: middle;\n",
              "    }\n",
              "\n",
              "    .dataframe tbody tr th {\n",
              "        vertical-align: top;\n",
              "    }\n",
              "\n",
              "    .dataframe thead th {\n",
              "        text-align: right;\n",
              "    }\n",
              "</style>\n",
              "<table border=\"1\" class=\"dataframe\">\n",
              "  <thead>\n",
              "    <tr style=\"text-align: right;\">\n",
              "      <th></th>\n",
              "      <th>momentum</th>\n",
              "      <th>learning rate</th>\n",
              "      <th>epoch</th>\n",
              "      <th>batch size</th>\n",
              "      <th>weight_decay</th>\n",
              "      <th>loss_mean</th>\n",
              "      <th>acc_mean</th>\n",
              "    </tr>\n",
              "  </thead>\n",
              "  <tbody>\n",
              "    <tr>\n",
              "      <th>13</th>\n",
              "      <td>0.6</td>\n",
              "      <td>0.10</td>\n",
              "      <td>50.0</td>\n",
              "      <td>128.0</td>\n",
              "      <td>0.0001</td>\n",
              "      <td>0.922544</td>\n",
              "      <td>0.736353</td>\n",
              "    </tr>\n",
              "    <tr>\n",
              "      <th>2</th>\n",
              "      <td>0.6</td>\n",
              "      <td>0.01</td>\n",
              "      <td>100.0</td>\n",
              "      <td>64.0</td>\n",
              "      <td>0.0001</td>\n",
              "      <td>0.923988</td>\n",
              "      <td>0.742160</td>\n",
              "    </tr>\n",
              "    <tr>\n",
              "      <th>1</th>\n",
              "      <td>0.7</td>\n",
              "      <td>0.01</td>\n",
              "      <td>100.0</td>\n",
              "      <td>64.0</td>\n",
              "      <td>0.0001</td>\n",
              "      <td>0.956880</td>\n",
              "      <td>0.736353</td>\n",
              "    </tr>\n",
              "  </tbody>\n",
              "</table>\n",
              "</div>"
            ],
            "text/plain": [
              "    momentum  learning rate  epoch  ...  weight_decay  loss_mean  acc_mean\n",
              "13       0.6           0.10   50.0  ...        0.0001   0.922544  0.736353\n",
              "2        0.6           0.01  100.0  ...        0.0001   0.923988  0.742160\n",
              "1        0.7           0.01  100.0  ...        0.0001   0.956880  0.736353\n",
              "\n",
              "[3 rows x 7 columns]"
            ]
          },
          "metadata": {
            "tags": []
          },
          "execution_count": 11
        }
      ]
    },
    {
      "cell_type": "code",
      "metadata": {
        "id": "w80d-csBDivG",
        "colab_type": "code",
        "colab": {}
      },
      "source": [
        ""
      ],
      "execution_count": 0,
      "outputs": []
    }
  ]
}