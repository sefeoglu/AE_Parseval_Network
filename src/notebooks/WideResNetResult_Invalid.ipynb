{
  "nbformat": 4,
  "nbformat_minor": 0,
  "metadata": {
    "accelerator": "GPU",
    "colab": {
      "name": "WideResNetResult.ipynb",
      "provenance": [],
      "collapsed_sections": [],
      "toc_visible": true
    },
    "kernelspec": {
      "display_name": "Python 3",
      "language": "python",
      "name": "python3"
    },
    "language_info": {
      "codemirror_mode": {
        "name": "ipython",
        "version": 3
      },
      "file_extension": ".py",
      "mimetype": "text/x-python",
      "name": "python",
      "nbconvert_exporter": "python",
      "pygments_lexer": "ipython3",
      "version": "3.7.4"
    }
  },
  "cells": [
    {
      "cell_type": "markdown",
      "metadata": {
        "id": "CgKND0sckj9i"
      },
      "source": [
        "# <font color=\"purple\">Adversarial Training of Residual Network</font>"
      ]
    },
    {
      "cell_type": "markdown",
      "metadata": {
        "id": "WPX5KF4nkj9k"
      },
      "source": [
        "Definition of WideResNet and Architecture:"
      ]
    },
    {
      "cell_type": "markdown",
      "metadata": {
        "id": "5atyrM-Gkj9l"
      },
      "source": [
        "Residual Networks vs Wide Residual Networks"
      ]
    },
    {
      "cell_type": "markdown",
      "metadata": {
        "id": "W07XrKzjkj9l"
      },
      "source": [
        "##  <center>Best Wide Residual Network Experiment </center>\n"
      ]
    },
    {
      "cell_type": "markdown",
      "metadata": {
        "id": "I6LWZY55kj9m"
      },
      "source": [
        "***Road Map***\n",
        "* Data Preprocessing\n",
        "* Model Cross Validation Results\n",
        "* Evaluate the GridSearchCV Results\n",
        "* Model Training and Learning Curves\n",
        "* Model Adversarial Training Approach.\n"
      ]
    },
    {
      "cell_type": "markdown",
      "metadata": {
        "id": "lkb49Wg6kj9n"
      },
      "source": [
        "**Libraries**"
      ]
    },
    {
      "cell_type": "code",
      "metadata": {
        "id": "6BZWXRQYVIw1"
      },
      "source": [
        "!pip install -qq -e git+http://github.com/tensorflow/cleverhans.git#egg=cleverhans\n",
        "import sys\n",
        "sys.path.append('/content/src/cleverhans')\n",
        "import cleverhans"
      ],
      "execution_count": null,
      "outputs": []
    },
    {
      "cell_type": "code",
      "metadata": {
        "id": "NIEl6l0kkj9o",
        "outputId": "2e9e24a0-b491-49fd-b543-11e6a5d98edb",
        "colab": {
          "base_uri": "https://localhost:8080/"
        }
      },
      "source": [
        "import tensorflow as tf\n",
        "from cleverhans.future.tf2.attacks import fast_gradient_method\n",
        "from tensorflow.keras.optimizers import SGD\n",
        "from tensorflow.keras.callbacks import Callback, LearningRateScheduler, EarlyStopping\n",
        "from sklearn.model_selection import train_test_split\n",
        "import pandas as pd\n",
        "import numpy as np\n",
        "from sklearn.preprocessing import LabelEncoder\n",
        "from tensorflow.keras.utils import to_categorical\n",
        "from wresnet import WideResidualNetwork\n",
        "from sklearn.model_selection import  KFold\n",
        "import gzip\n",
        "import pickle\n",
        "import numpy as np\n",
        "from adversarial_training import AdversarialTraining\n",
        "from training import train\n",
        "import warnings\n",
        "warnings.filterwarnings(\"ignore\")\n",
        "\n",
        "print(\"\\nTensorflow Version: \" + tf.__version__)\n",
        "\n",
        "\n",
        "# defined utility functions\n",
        "from preprocessing import preprocessing_data\n",
        "\n",
        "from _utility import lrate, get_adversarial_examples, print_test"
      ],
      "execution_count": null,
      "outputs": [
        {
          "output_type": "stream",
          "text": [
            "\n",
            "Tensorflow Version: 2.3.0\n"
          ],
          "name": "stdout"
        }
      ]
    },
    {
      "cell_type": "markdown",
      "metadata": {
        "id": "IhvWP7D-kj9v"
      },
      "source": [
        "## <font color=\"green\"> Data Preprocessing </font>\n"
      ]
    },
    {
      "cell_type": "markdown",
      "metadata": {
        "id": "o-Tkt8tPkj9w"
      },
      "source": [
        "* Read Data from File"
      ]
    },
    {
      "cell_type": "code",
      "metadata": {
        "id": "MbL58svXkj9x"
      },
      "source": [
        "def read_data():\n",
        "    with open(\"data.pz\", 'rb') as file_:\n",
        "        with gzip.GzipFile(fileobj=file_) as gzf:\n",
        "            data = pickle.load(gzf, encoding='latin1', fix_imports=True)\n",
        "    return data\n",
        "data = read_data()"
      ],
      "execution_count": null,
      "outputs": []
    },
    {
      "cell_type": "markdown",
      "metadata": {
        "id": "CS5UxTh4kj91"
      },
      "source": [
        "* Call data preprocessing function"
      ]
    },
    {
      "cell_type": "code",
      "metadata": {
        "id": "lggXy4Xckj96"
      },
      "source": [
        "X, y = preprocessing_data(data)\n",
        "X_train, X_test, Y_train, y_test = train_test_split(X, y, test_size = 0.1)\n",
        "x_train, x_val, y_train, y_val = train_test_split(X_train, Y_train, test_size = 0.1)"
      ],
      "execution_count": null,
      "outputs": []
    },
    {
      "cell_type": "markdown",
      "metadata": {
        "id": "ZMx1UO52ozNP"
      },
      "source": [
        "## <font color=\"green\"> Utilize Functions </font>"
      ]
    },
    {
      "cell_type": "markdown",
      "metadata": {
        "id": "DN9n1xLKpNAk"
      },
      "source": [
        "* Flipping the image using data augmentation technique"
      ]
    },
    {
      "cell_type": "code",
      "metadata": {
        "id": "MywglnvLo3b-"
      },
      "source": [
        "generator = tf.keras.preprocessing.image.ImageDataGenerator(rotation_range=10,\n",
        "                               width_shift_range=5./32,\n",
        "                               height_shift_range=5./32,)"
      ],
      "execution_count": null,
      "outputs": []
    },
    {
      "cell_type": "markdown",
      "metadata": {
        "id": "evs0Sbh8i-pZ"
      },
      "source": [
        "### <font color = \"green\">Some Parameters Regarding Adversarial Examples</font>"
      ]
    },
    {
      "cell_type": "code",
      "metadata": {
        "id": "IIgl4BDQjPFL"
      },
      "source": [
        "# predefined epsilon values\n",
        "epsilon_list = [0.003,0.005,0.01,0.02]"
      ],
      "execution_count": null,
      "outputs": []
    },
    {
      "cell_type": "markdown",
      "metadata": {
        "id": "XzFqxjQOkj9-"
      },
      "source": [
        "## <font color=\"purple\"> 1.) Model Parameters</font>"
      ]
    },
    {
      "cell_type": "markdown",
      "metadata": {
        "id": "XO1nUgKM2iwM"
      },
      "source": [
        "Model Parameters of Simple Wide Residual Network According to GridSearch CV"
      ]
    },
    {
      "cell_type": "code",
      "metadata": {
        "id": "wKaBoHadkj-M"
      },
      "source": [
        "EPOCHS = 150\n",
        "BS = 64\n",
        "init = (32, 32,1)\n",
        "sgd = SGD(lr=0.01, momentum=0.9)\n",
        "parameter = {'epochs': EPOCHS, 'batch_size': BS, 'optimizer': sgd}"
      ],
      "execution_count": null,
      "outputs": []
    },
    {
      "cell_type": "code",
      "metadata": {
        "id": "pO9Jx9lGGCwK"
      },
      "source": [
        "import math\n",
        "def step_decay(epoch):\n",
        "    \"\"\"[summary]\n",
        "\n",
        "    Args:\n",
        "        epoch (int): epoch number\n",
        "\n",
        "    Returns:\n",
        "        float: new learning rate\n",
        "    \"\"\"\n",
        "    initial_lrate = 0.1\n",
        "    factor = 0.1\n",
        "    if epoch < 10:\n",
        "      lrate = initial_lrate\n",
        "    elif epoch < 20:\n",
        "      lrate = initial_lrate*math.pow(factor, 1)\n",
        "    elif epoch < 30:\n",
        "      lrate = initial_lrate*math.pow(factor, 2)\n",
        "    elif epoch < 40 :\n",
        "      lrate = initial_lrate*math.pow(factor, 3)\n",
        "    else:\n",
        "      lrate = initial_lrate*math.pow(factor, 4)\n",
        "    return lrate\n",
        "\n",
        "lrate = LearningRateScheduler(step_decay)"
      ],
      "execution_count": null,
      "outputs": []
    },
    {
      "cell_type": "code",
      "metadata": {
        "id": "1l_vYwIqtwdf"
      },
      "source": [
        "es = EarlyStopping(monitor='val_loss', mode='min', verbose=1, patience=200)\n",
        "callbacks_list = [lrate, es]\n",
        "wresnet_ins = WideResidualNetwork(init, 0.0001, 0.9, nb_classes=4, N=2, k=2, dropout=0.0)"
      ],
      "execution_count": null,
      "outputs": []
    },
    {
      "cell_type": "code",
      "metadata": {
        "id": "_OGuPszPaqKA"
      },
      "source": [
        "premodel = wresnet_ins.create_wide_residual_network()\n",
        "premodel.compile(loss=\"categorical_crossentropy\", optimizer=sgd, metrics=[\"acc\"])\n",
        "hst =premodel.fit(generator.flow(x_train, y_train, batch_size=BS),steps_per_epoch=len(x_train) // BS, \n",
        "              epochs= EPOCHS, callbacks = callbacks_list,\n",
        "              validation_data=(x_val, y_val),\n",
        "              validation_steps=x_val.shape[0] // BS,\n",
        "              )"
      ],
      "execution_count": null,
      "outputs": []
    },
    {
      "cell_type": "code",
      "metadata": {
        "id": "hG_0aYgPq6Jg"
      },
      "source": [
        "result_df = train(wresnet_ins, premodel, X_train, Y_train, X_test, y_test, EPOCHS, BS, sgd, generator, callbacks_list, epsilon_list)"
      ],
      "execution_count": null,
      "outputs": []
    },
    {
      "cell_type": "code",
      "metadata": {
        "id": "4FJqbLkvGrSS"
      },
      "source": [
        "result_df[\"clean_mean\"] = np.sum(result_df['acc_clean'])/10.0\n",
        "result_df[\"0.003_mean\"] = np.sum(result_df['0.003_acc'])/10.0\n",
        "result_df[\"0.005_mean\"] = np.sum(result_df['0.005_acc'])/10.0\n",
        "result_df[\"0.02_mean\"] = np.sum(result_df['0.02_acc'])/10.0\n",
        "result_df[\"0.01_mean\"] = np.sum(result_df['0.01_acc'])/10.0"
      ],
      "execution_count": null,
      "outputs": []
    },
    {
      "cell_type": "code",
      "metadata": {
        "id": "80-rkr5ysC0O",
        "outputId": "5542e4db-f2b3-4dbc-d4fa-45aebc10a6eb",
        "colab": {
          "base_uri": "https://localhost:8080/",
          "height": 80
        }
      },
      "source": [
        "column = [\"clean_mean\",\"0.003_mean\",\"0.005_mean\",\"0.02_mean\",\"0.01_mean\"]\n",
        "result_df[column].head(1)"
      ],
      "execution_count": null,
      "outputs": [
        {
          "output_type": "execute_result",
          "data": {
            "text/html": [
              "<div>\n",
              "<style scoped>\n",
              "    .dataframe tbody tr th:only-of-type {\n",
              "        vertical-align: middle;\n",
              "    }\n",
              "\n",
              "    .dataframe tbody tr th {\n",
              "        vertical-align: top;\n",
              "    }\n",
              "\n",
              "    .dataframe thead th {\n",
              "        text-align: right;\n",
              "    }\n",
              "</style>\n",
              "<table border=\"1\" class=\"dataframe\">\n",
              "  <thead>\n",
              "    <tr style=\"text-align: right;\">\n",
              "      <th></th>\n",
              "      <th>clean_mean</th>\n",
              "      <th>0.003_mean</th>\n",
              "      <th>0.005_mean</th>\n",
              "      <th>0.02_mean</th>\n",
              "      <th>0.01_mean</th>\n",
              "    </tr>\n",
              "  </thead>\n",
              "  <tbody>\n",
              "    <tr>\n",
              "      <th>0</th>\n",
              "      <td>0.738743</td>\n",
              "      <td>0.680628</td>\n",
              "      <td>0.65096</td>\n",
              "      <td>0.577661</td>\n",
              "      <td>0.434555</td>\n",
              "    </tr>\n",
              "  </tbody>\n",
              "</table>\n",
              "</div>"
            ],
            "text/plain": [
              "   clean_mean  0.003_mean  0.005_mean  0.02_mean  0.01_mean\n",
              "0    0.738743    0.680628     0.65096   0.577661   0.434555"
            ]
          },
          "metadata": {
            "tags": []
          },
          "execution_count": 52
        }
      ]
    },
    {
      "cell_type": "markdown",
      "metadata": {
        "id": "A3mH9_WMkj-a"
      },
      "source": [
        "## <font color=\"purple\">2.) Adversarial Training on Baseline Model</font>"
      ]
    },
    {
      "cell_type": "code",
      "metadata": {
        "id": "FAoBGHiWTnc9"
      },
      "source": [
        "adversarial_training =  AdversarialTraining(parameter)\n",
        "result_adv_df = adversarial_training.train(wresnet_ins,premodel, X_train, Y_train, X_test, y_test, epsilon_list, callbacks_list)"
      ],
      "execution_count": null,
      "outputs": []
    },
    {
      "cell_type": "markdown",
      "metadata": {
        "id": "9LT0T19skj-h"
      },
      "source": [
        "### <font color=\"purple\"> Results of Adversarial Training</font>"
      ]
    },
    {
      "cell_type": "code",
      "metadata": {
        "id": "XSr1gpfzkj-i"
      },
      "source": [
        "result_adv_df[\"clean_mean\"] = np.sum(result_adv_df['acc_clean'])/10.0\n",
        "result_adv_df[\"0.003_mean\"] = np.sum(result_adv_df['0.003_acc'])/10.0\n",
        "result_adv_df[\"0.005_mean\"] = np.sum(result_adv_df['0.005_acc'])/10.0\n",
        "result_adv_df[\"0.02_mean\"] = np.sum(result_adv_df['0.02_acc'])/10.0\n",
        "result_adv_df[\"0.01_mean\"] = np.sum(result_adv_df['0.01_acc'])/10.0"
      ],
      "execution_count": null,
      "outputs": []
    },
    {
      "cell_type": "code",
      "metadata": {
        "id": "JbtKmK02vW3N",
        "outputId": "88ee710b-2281-45e5-8323-4659aff87502",
        "colab": {
          "base_uri": "https://localhost:8080/",
          "height": 80
        }
      },
      "source": [
        "result_adv_df[column].head(1)"
      ],
      "execution_count": null,
      "outputs": [
        {
          "output_type": "execute_result",
          "data": {
            "text/html": [
              "<div>\n",
              "<style scoped>\n",
              "    .dataframe tbody tr th:only-of-type {\n",
              "        vertical-align: middle;\n",
              "    }\n",
              "\n",
              "    .dataframe tbody tr th {\n",
              "        vertical-align: top;\n",
              "    }\n",
              "\n",
              "    .dataframe thead th {\n",
              "        text-align: right;\n",
              "    }\n",
              "</style>\n",
              "<table border=\"1\" class=\"dataframe\">\n",
              "  <thead>\n",
              "    <tr style=\"text-align: right;\">\n",
              "      <th></th>\n",
              "      <th>clean_mean</th>\n",
              "      <th>0.003_mean</th>\n",
              "      <th>0.005_mean</th>\n",
              "      <th>0.02_mean</th>\n",
              "      <th>0.01_mean</th>\n",
              "    </tr>\n",
              "  </thead>\n",
              "  <tbody>\n",
              "    <tr>\n",
              "      <th>0</th>\n",
              "      <td>0.730366</td>\n",
              "      <td>0.727051</td>\n",
              "      <td>0.723735</td>\n",
              "      <td>0.703316</td>\n",
              "      <td>0.663525</td>\n",
              "    </tr>\n",
              "  </tbody>\n",
              "</table>\n",
              "</div>"
            ],
            "text/plain": [
              "   clean_mean  0.003_mean  0.005_mean  0.02_mean  0.01_mean\n",
              "0    0.730366    0.727051    0.723735   0.703316   0.663525"
            ]
          },
          "metadata": {
            "tags": []
          },
          "execution_count": 56
        }
      ]
    },
    {
      "cell_type": "markdown",
      "metadata": {
        "id": "Dk6SrKnTB_xI"
      },
      "source": [
        "# <font color=\"blue\">Compare Non-Adversarial Training with Adversarial Training</font>"
      ]
    },
    {
      "cell_type": "code",
      "metadata": {
        "id": "r9cyaTQ_CJj3",
        "outputId": "53883ecb-6c75-4806-93de-3e06e8dc229e",
        "colab": {
          "base_uri": "https://localhost:8080/",
          "height": 80
        }
      },
      "source": [
        "result_adv_df[column].head(1)"
      ],
      "execution_count": null,
      "outputs": [
        {
          "output_type": "execute_result",
          "data": {
            "text/html": [
              "<div>\n",
              "<style scoped>\n",
              "    .dataframe tbody tr th:only-of-type {\n",
              "        vertical-align: middle;\n",
              "    }\n",
              "\n",
              "    .dataframe tbody tr th {\n",
              "        vertical-align: top;\n",
              "    }\n",
              "\n",
              "    .dataframe thead th {\n",
              "        text-align: right;\n",
              "    }\n",
              "</style>\n",
              "<table border=\"1\" class=\"dataframe\">\n",
              "  <thead>\n",
              "    <tr style=\"text-align: right;\">\n",
              "      <th></th>\n",
              "      <th>clean_mean</th>\n",
              "      <th>0.003_mean</th>\n",
              "      <th>0.005_mean</th>\n",
              "      <th>0.02_mean</th>\n",
              "      <th>0.01_mean</th>\n",
              "    </tr>\n",
              "  </thead>\n",
              "  <tbody>\n",
              "    <tr>\n",
              "      <th>0</th>\n",
              "      <td>0.730366</td>\n",
              "      <td>0.727051</td>\n",
              "      <td>0.723735</td>\n",
              "      <td>0.703316</td>\n",
              "      <td>0.663525</td>\n",
              "    </tr>\n",
              "  </tbody>\n",
              "</table>\n",
              "</div>"
            ],
            "text/plain": [
              "   clean_mean  0.003_mean  0.005_mean  0.02_mean  0.01_mean\n",
              "0    0.730366    0.727051    0.723735   0.703316   0.663525"
            ]
          },
          "metadata": {
            "tags": []
          },
          "execution_count": 57
        }
      ]
    },
    {
      "cell_type": "code",
      "metadata": {
        "id": "PAvyuKGlCJ2D",
        "outputId": "1a118d4b-b719-49c1-93d9-711c5ab34ad2",
        "colab": {
          "base_uri": "https://localhost:8080/",
          "height": 80
        }
      },
      "source": [
        "result_df[column].head(1)"
      ],
      "execution_count": null,
      "outputs": [
        {
          "output_type": "execute_result",
          "data": {
            "text/html": [
              "<div>\n",
              "<style scoped>\n",
              "    .dataframe tbody tr th:only-of-type {\n",
              "        vertical-align: middle;\n",
              "    }\n",
              "\n",
              "    .dataframe tbody tr th {\n",
              "        vertical-align: top;\n",
              "    }\n",
              "\n",
              "    .dataframe thead th {\n",
              "        text-align: right;\n",
              "    }\n",
              "</style>\n",
              "<table border=\"1\" class=\"dataframe\">\n",
              "  <thead>\n",
              "    <tr style=\"text-align: right;\">\n",
              "      <th></th>\n",
              "      <th>clean_mean</th>\n",
              "      <th>0.003_mean</th>\n",
              "      <th>0.005_mean</th>\n",
              "      <th>0.02_mean</th>\n",
              "      <th>0.01_mean</th>\n",
              "    </tr>\n",
              "  </thead>\n",
              "  <tbody>\n",
              "    <tr>\n",
              "      <th>0</th>\n",
              "      <td>0.738743</td>\n",
              "      <td>0.680628</td>\n",
              "      <td>0.65096</td>\n",
              "      <td>0.577661</td>\n",
              "      <td>0.434555</td>\n",
              "    </tr>\n",
              "  </tbody>\n",
              "</table>\n",
              "</div>"
            ],
            "text/plain": [
              "   clean_mean  0.003_mean  0.005_mean  0.02_mean  0.01_mean\n",
              "0    0.738743    0.680628     0.65096   0.577661   0.434555"
            ]
          },
          "metadata": {
            "tags": []
          },
          "execution_count": 58
        }
      ]
    },
    {
      "cell_type": "code",
      "metadata": {
        "id": "J12daM9b1YG1"
      },
      "source": [
        "result_df.to_json('wrn_2_n_adv.json.gz', orient='records', lines=True, compression='gzip')"
      ],
      "execution_count": null,
      "outputs": []
    },
    {
      "cell_type": "code",
      "metadata": {
        "id": "2ExYr_281nBD"
      },
      "source": [
        "result_adv_df.to_json('wrn_2_adv.json.gz', orient='records', lines=True, compression='gzip')"
      ],
      "execution_count": null,
      "outputs": []
    },
    {
      "cell_type": "markdown",
      "metadata": {
        "id": "ziuulXV-B3SN"
      },
      "source": [
        "# <font color=\"blue\">Conclusion</font>"
      ]
    },
    {
      "cell_type": "code",
      "metadata": {
        "id": "7Y9z3ebdkLd0"
      },
      "source": [
        ""
      ],
      "execution_count": null,
      "outputs": []
    },
    {
      "cell_type": "markdown",
      "metadata": {
        "id": "cLwwAqvXsTeo"
      },
      "source": [
        ""
      ]
    }
  ]
}