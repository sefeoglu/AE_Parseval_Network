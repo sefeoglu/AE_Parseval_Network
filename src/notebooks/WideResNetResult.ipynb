{
 "cells": [
  {
   "cell_type": "markdown",
   "metadata": {
    "id": "CgKND0sckj9i"
   },
   "source": [
    "# <font color=\"purple\">Adversarial Training of Residual Network</font>"
   ]
  },
  {
   "cell_type": "markdown",
   "metadata": {
    "id": "WPX5KF4nkj9k"
   },
   "source": [
    "Definition of WideResNet and Architecture:"
   ]
  },
  {
   "cell_type": "markdown",
   "metadata": {
    "id": "5atyrM-Gkj9l"
   },
   "source": [
    "Residual Networks vs Wide Residual Networks"
   ]
  },
  {
   "cell_type": "markdown",
   "metadata": {
    "id": "W07XrKzjkj9l"
   },
   "source": [
    "##  <center>The Result of Residual Network </center>"
   ]
  },
  {
   "cell_type": "markdown",
   "metadata": {
    "id": "I6LWZY55kj9m"
   },
   "source": [
    "***Road Map***\n",
    "* Data Preprocessing\n",
    "* Model Cross Validation Results\n",
    "* Evaluate the GridSearchCV Results\n",
    "* Model Training and Learning Curves\n",
    "* Model Adversarial Training Approach.\n"
   ]
  },
  {
   "cell_type": "markdown",
   "metadata": {
    "id": "lkb49Wg6kj9n"
   },
   "source": [
    "**Libraries**"
   ]
  },
  {
   "cell_type": "code",
   "execution_count": 2,
   "metadata": {
    "colab": {
     "base_uri": "https://localhost:8080/"
    },
    "id": "C3etlaVjipGZ",
    "outputId": "2c0b7843-7928-4826-d797-96f343a7ef1b"
   },
   "outputs": [],
   "source": [
    "import sys\n",
    "sys.path.insert(1,'/home/sefika/AE_Parseval_Network/src/cleverhans/future/tf2/attacks')\n",
    "import cleverhans\n"
   ]
  },
  {
   "cell_type": "code",
   "execution_count": 8,
   "metadata": {
    "colab": {
     "base_uri": "https://localhost:8080/"
    },
    "id": "NIEl6l0kkj9o",
    "outputId": "e5a0cd4e-199f-456d-8fd7-ee30b12f47f7"
   },
   "outputs": [
    {
     "name": "stdout",
     "output_type": "stream",
     "text": [
      "\n",
      "Tensorflow Version: 2.3.0\n"
     ]
    }
   ],
   "source": [
    "import tensorflow as tf\n",
    "from cleverhans.future.tf2.attacks import fast_gradient_method\n",
    "from tensorflow.keras.optimizers import SGD\n",
    "from tensorflow.keras.callbacks import Callback, LearningRateScheduler, EarlyStopping\n",
    "from tensorflow.keras.models import Model\n",
    "from tensorflow.keras.layers import Input, Add, Activation, Dropout, Flatten, Dense\n",
    "from tensorflow.keras.layers import Convolution2D, MaxPooling2D, AveragePooling2D\n",
    "from tensorflow.keras.layers import BatchNormalization\n",
    "from tensorflow.keras.regularizers import l2\n",
    "from tensorflow.keras import backend as K\n",
    "from sklearn.model_selection import train_test_split\n",
    "import pandas as pd\n",
    "import numpy as np\n",
    "from sklearn.preprocessing import LabelEncoder\n",
    "from tensorflow.keras.utils import to_categorical\n",
    "from wresnet import WideResidualNetwork\n",
    "from sklearn.model_selection import  KFold\n",
    "import gzip\n",
    "import pickle\n",
    "from adversarial_training import AdversarialTraining\n",
    "import numpy as np\n",
    "\n",
    "import warnings\n",
    "warnings.filterwarnings(\"ignore\")\n",
    "\n",
    "print(\"\\nTensorflow Version: \" + tf.__version__)\n"
   ]
  },
  {
   "cell_type": "markdown",
   "metadata": {
    "id": "IhvWP7D-kj9v"
   },
   "source": [
    "## <font color=\"green\"> Data Preprocessing </font>\n"
   ]
  },
  {
   "cell_type": "markdown",
   "metadata": {
    "id": "o-Tkt8tPkj9w"
   },
   "source": [
    "* Read Data from File"
   ]
  },
  {
   "cell_type": "code",
   "execution_count": 9,
   "metadata": {
    "id": "MbL58svXkj9x"
   },
   "outputs": [],
   "source": [
    "def read_data():\n",
    "    with open(\"data.pz\", 'rb') as file_:\n",
    "        with gzip.GzipFile(fileobj=file_) as gzf:\n",
    "            data = pickle.load(gzf, encoding='latin1', fix_imports=True)\n",
    "    return data\n",
    "data = read_data()"
   ]
  },
  {
   "cell_type": "markdown",
   "metadata": {
    "id": "CS5UxTh4kj91"
   },
   "source": [
    "* Call data preprocessing function"
   ]
  },
  {
   "cell_type": "code",
   "execution_count": 10,
   "metadata": {
    "id": "aQ-7z3-D4-HX"
   },
   "outputs": [],
   "source": [
    "from preprocessing import preprocessing_data"
   ]
  },
  {
   "cell_type": "code",
   "execution_count": 11,
   "metadata": {
    "id": "lggXy4Xckj96"
   },
   "outputs": [],
   "source": [
    "X, y = preprocessing_data(data)\n",
    "X_train, X_test, Y_train, y_test = train_test_split(X, y, test_size = 0.1)\n",
    "x_train, X_val, y_train, y_val = train_test_split(X_train, Y_train, test_size = 0.1)"
   ]
  },
  {
   "cell_type": "markdown",
   "metadata": {
    "id": "ZMx1UO52ozNP"
   },
   "source": [
    "## <font color=\"green\"> Utilize Functions </font>"
   ]
  },
  {
   "cell_type": "markdown",
   "metadata": {
    "id": "DN9n1xLKpNAk"
   },
   "source": [
    "* Flipping the image using data augmentation technique"
   ]
  },
  {
   "cell_type": "code",
   "execution_count": 111,
   "metadata": {
    "id": "MywglnvLo3b-"
   },
   "outputs": [],
   "source": [
    "generator = tf.keras.preprocessing.image.ImageDataGenerator(rotation_range=10,\n",
    "                               width_shift_range=5./32,\n",
    "                               height_shift_range=5./32,)"
   ]
  },
  {
   "cell_type": "markdown",
   "metadata": {
    "id": "kzMNkYPwpU9s"
   },
   "source": [
    "* Print the results of the experiments"
   ]
  },
  {
   "cell_type": "code",
   "execution_count": 13,
   "metadata": {
    "id": "c__6pXN0pLsW"
   },
   "outputs": [],
   "source": [
    "def print_test(model,X_adv, X_test, y_test, epsilon):\n",
    "    \"\"\"\n",
    "        returns the test results and show the SNR and evaluation results\n",
    "    \"\"\"\n",
    "    loss, acc = model.evaluate(X_adv,y_test)\n",
    "    print(\"epsilon: {} and test evaluation : {}, {}\".format(epsilon,loss, acc))\n",
    "    SNR = 20*np.log10(np.linalg.norm(X_test)/np.linalg.norm(X_test-X_adv))\n",
    "    print(\"SNR: {}\".format(SNR))\n",
    "    return loss, acc"
   ]
  },
  {
   "cell_type": "markdown",
   "metadata": {
    "id": "3d859oY0id2o"
   },
   "source": [
    "*  CleverHans Import and Functions Regarding Adversarial Exaples."
   ]
  },
  {
   "cell_type": "code",
   "execution_count": 14,
   "metadata": {
    "id": "cS5qenzeiyto"
   },
   "outputs": [],
   "source": [
    "def get_adversarial_examples(pretrained_model, X_true, y_true, epsilon):\n",
    "    \"\"\"\n",
    "        The attack requires the model to ouput the logits\n",
    "        returns the adversarial example/s of a given image/s for epsilon value using\n",
    "        fast gradient sign method\n",
    "    \"\"\"\n",
    "    logits_model = tf.keras.Model(pretrained_model.input,pretrained_model.layers[-1].output)\n",
    "    X_adv = []\n",
    "    \n",
    "    for i in range(len(X_true)):\n",
    "        \n",
    "        random_index = i\n",
    "        \n",
    "        original_image = X_true[random_index]\n",
    "        original_image = tf.convert_to_tensor(original_image.reshape((1,32,32))) #The .reshape just gives it the proper form to input into the model, a batch of 1 a.k.a a tensor\n",
    "        original_label = y_true[random_index]\n",
    "        original_label = np.reshape(np.argmax(original_label), (1,)).astype('int64')\n",
    "        \n",
    "        adv_example_targeted_label = fast_gradient_method(logits_model, original_image, epsilon, np.inf,y=original_label, targeted=False)\n",
    "        X_adv.append(np.array(adv_example_targeted_label).reshape(32,32,1))\n",
    "        \n",
    "    X_adv = np.array(X_adv)\n",
    "    \n",
    "    return X_adv"
   ]
  },
  {
   "cell_type": "markdown",
   "metadata": {
    "id": "evs0Sbh8i-pZ"
   },
   "source": [
    "### <font color = \"green\">Some Parameters Regarding Adversarial Examples</font>"
   ]
  },
  {
   "cell_type": "code",
   "execution_count": 15,
   "metadata": {
    "id": "IIgl4BDQjPFL"
   },
   "outputs": [],
   "source": [
    "# predefined epsilon values\n",
    "epsilon_list = [0.003,0.005,0.01,0.02]"
   ]
  },
  {
   "cell_type": "markdown",
   "metadata": {
    "id": "GuPefX3CoKH5"
   },
   "source": [
    "### <font>General Visulazation Methods</font>"
   ]
  },
  {
   "cell_type": "markdown",
   "metadata": {
    "id": "2dd-t4F_pecb"
   },
   "source": [
    "* Show accurancy and loss function of the results"
   ]
  },
  {
   "cell_type": "code",
   "execution_count": 203,
   "metadata": {
    "id": "g6WGUfDAoTKO"
   },
   "outputs": [],
   "source": [
    "import matplotlib.pyplot as plt\n",
    "\n",
    "def show_graph(hist):\n",
    "    \"\"\"\n",
    "        summarize history for accuracy\n",
    "        plot the learning curves from history of the trained model\n",
    "    \"\"\"\n",
    "    history = hist\n",
    "     \n",
    "    plt.plot(history.history['acc'])\n",
    "    plt.plot(history.history['val_acc'])\n",
    "    plt.title('model accuracy')\n",
    "    plt.ylabel('accuracy')\n",
    "    plt.xlabel('epoch')\n",
    "    plt.legend(['train', 'test'], loc='upper left')\n",
    "    plt.show()\n",
    "    plt.plot(history.history['loss'])\n",
    "    plt.plot(history.history['val_loss'])\n",
    "    plt.title('model loss')\n",
    "    plt.ylabel('loss')\n",
    "    plt.xlabel('epoch')\n",
    "    plt.legend(['train', 'test'], loc='upper left')\n",
    "    plt.show()\n"
   ]
  },
  {
   "cell_type": "markdown",
   "metadata": {
    "id": "XzFqxjQOkj9-"
   },
   "source": [
    "## <font color=\"purple\"> 1.) Baseline of the Model</font>"
   ]
  },
  {
   "cell_type": "markdown",
   "metadata": {
    "id": "L5Zv6ceWkj9_"
   },
   "source": [
    "* Explain the Baseline Model here"
   ]
  },
  {
   "cell_type": "code",
   "execution_count": 327,
   "metadata": {
    "colab": {
     "base_uri": "https://localhost:8080/"
    },
    "id": "wKaBoHadkj-M",
    "outputId": "e1d8362b-4001-4461-f6a0-8d52c2247b49"
   },
   "outputs": [
    {
     "name": "stdout",
     "output_type": "stream",
     "text": [
      "conv2:channel:  -1\n",
      "Wide Residual Network-16-1 created.\n",
      "Finished compiling\n"
     ]
    }
   ],
   "source": [
    "EPOCHS = 50\n",
    "BS = 64\n",
    "init = (32, 32,1)\n",
    "sgd = SGD(lr=0.1, momentum=0.9)"
   ]
  },
  {
   "cell_type": "code",
   "execution_count": 324,
   "metadata": {
    "id": "tB1Hnkg6trJj"
   },
   "outputs": [],
   "source": [
    "# Define configuration parameters\n",
    "import math\n",
    "def step_decay(epoch):\n",
    "    \"\"\"[summary]\n",
    "\n",
    "    Args:\n",
    "        epoch (int): epoch number\n",
    "\n",
    "    Returns:\n",
    "        float: new learning rate\n",
    "    \"\"\"\n",
    "    initial_lrate = 0.1\n",
    "    factor = 0.1\n",
    "    if epoch < 10:\n",
    "      lrate = initial_lrate\n",
    "    elif epoch < 20:\n",
    "      lrate = initial_lrate*math.pow(factor, 1)\n",
    "    elif epoch < 30:\n",
    "      lrate = initial_lrate*math.pow(factor, 2)\n",
    "    elif epoch < 40 :\n",
    "      lrate = initial_lrate*math.pow(factor, 3)\n",
    "    else:\n",
    "      lrate = initial_lrate*math.pow(factor, 4)\n",
    "    return lrate\n",
    "\n",
    "\n",
    "\n",
    "lrate = LearningRateScheduler(step_decay)"
   ]
  },
  {
   "cell_type": "code",
   "execution_count": 320,
   "metadata": {
    "id": "1l_vYwIqtwdf"
   },
   "outputs": [],
   "source": [
    "from keras.callbacks import EarlyStopping\n",
    "\n",
    "es = EarlyStopping(monitor='val_loss', mode='min', verbose=1, patience=200)\n",
    "callbacks_list = [lrate, es]\n",
    "wresnet_ins = WideResidualNetwork(0.0001, init,0.9, nb_classes=4, N=2, k=1, dropout=0.0)"
   ]
  },
  {
   "cell_type": "code",
   "execution_count": 351,
   "metadata": {
    "id": "_FUyeD3zgnTm"
   },
   "outputs": [],
   "source": [
    "from training import train\n"
   ]
  },
  {
   "cell_type": "code",
   "execution_count": null,
   "metadata": {
    "id": "hG_0aYgPq6Jg"
   },
   "outputs": [],
   "source": [
    "result_df = train(wresnet_ins, X_train, Y_train, X_test, y_test, EPOCHS, BS, sgd, generator, callbacks_list)\n",
    "result_df[\"clean_mean\"] = np.sum(result_df['acc_clean'])/10.0\n"
   ]
  },
  {
   "cell_type": "code",
   "execution_count": 353,
   "metadata": {
    "colab": {
     "base_uri": "https://localhost:8080/",
     "height": 80
    },
    "id": "80-rkr5ysC0O",
    "outputId": "e22f6d81-8e2b-4961-d272-cc7f18f295e4"
   },
   "outputs": [
    {
     "data": {
      "text/html": [
       "<div>\n",
       "<style scoped>\n",
       "    .dataframe tbody tr th:only-of-type {\n",
       "        vertical-align: middle;\n",
       "    }\n",
       "\n",
       "    .dataframe tbody tr th {\n",
       "        vertical-align: top;\n",
       "    }\n",
       "\n",
       "    .dataframe thead th {\n",
       "        text-align: right;\n",
       "    }\n",
       "</style>\n",
       "<table border=\"1\" class=\"dataframe\">\n",
       "  <thead>\n",
       "    <tr style=\"text-align: right;\">\n",
       "      <th></th>\n",
       "      <th>loss_clean</th>\n",
       "      <th>acc_clean</th>\n",
       "      <th>clean_mean</th>\n",
       "    </tr>\n",
       "  </thead>\n",
       "  <tbody>\n",
       "    <tr>\n",
       "      <th>0</th>\n",
       "      <td>0.80251</td>\n",
       "      <td>0.726003</td>\n",
       "      <td>0.722688</td>\n",
       "    </tr>\n",
       "  </tbody>\n",
       "</table>\n",
       "</div>"
      ],
      "text/plain": [
       "   loss_clean  acc_clean  clean_mean\n",
       "0     0.80251   0.726003    0.722688"
      ]
     },
     "execution_count": 353,
     "metadata": {
      "tags": []
     },
     "output_type": "execute_result"
    }
   ],
   "source": [
    "result_df.head(1)"
   ]
  },
  {
   "cell_type": "markdown",
   "metadata": {
    "id": "A3mH9_WMkj-a"
   },
   "source": [
    "## <font color=\"purple\">2.) Adversarial Training on Baseline Model</font>"
   ]
  },
  {
   "cell_type": "code",
   "execution_count": null,
   "metadata": {
    "id": "FAoBGHiWTnc9"
   },
   "outputs": [],
   "source": [
    "adversarial_training =  AdversarialTraining()\n",
    "result_adv_df = adversarial_training.train(wresnet_ins, X_train, Y_train, X_test, y_test, EPOCHS, BS, epsilon_list, sgd, callbacks_list)"
   ]
  },
  {
   "cell_type": "markdown",
   "metadata": {
    "id": "9LT0T19skj-h"
   },
   "source": [
    "### <font color=\"purple\"> Results of Adversarial Training</font>"
   ]
  },
  {
   "cell_type": "code",
   "execution_count": 343,
   "metadata": {
    "id": "XSr1gpfzkj-i"
   },
   "outputs": [],
   "source": [
    "result_adv_df[\"clean_mean\"] = np.sum(result_adv_df['acc_clean'])/10.0\n",
    "result_adv_df[\"0.003_mean\"] = np.sum(result_adv_df['acc1'])/10.0\n",
    "result_adv_df[\"0.005_mean\"] = np.sum(result_adv_df['acc2'])/10.0\n",
    "result_adv_df[\"0.02_mean\"] = np.sum(result_adv_df['acc3'])/10.0\n",
    "result_adv_df[\"0.01_mean\"] = np.sum(result_adv_df['acc4'])/10.0"
   ]
  },
  {
   "cell_type": "code",
   "execution_count": 344,
   "metadata": {
    "colab": {
     "base_uri": "https://localhost:8080/",
     "height": 80
    },
    "id": "JbtKmK02vW3N",
    "outputId": "67445fd4-6c13-4348-f425-0182a95a6e7e"
   },
   "outputs": [
    {
     "data": {
      "text/html": [
       "<div>\n",
       "<style scoped>\n",
       "    .dataframe tbody tr th:only-of-type {\n",
       "        vertical-align: middle;\n",
       "    }\n",
       "\n",
       "    .dataframe tbody tr th {\n",
       "        vertical-align: top;\n",
       "    }\n",
       "\n",
       "    .dataframe thead th {\n",
       "        text-align: right;\n",
       "    }\n",
       "</style>\n",
       "<table border=\"1\" class=\"dataframe\">\n",
       "  <thead>\n",
       "    <tr style=\"text-align: right;\">\n",
       "      <th></th>\n",
       "      <th>clean_mean</th>\n",
       "      <th>0.003_mean</th>\n",
       "      <th>0.005_mean</th>\n",
       "      <th>0.02_mean</th>\n",
       "      <th>0.01_mean</th>\n",
       "    </tr>\n",
       "  </thead>\n",
       "  <tbody>\n",
       "    <tr>\n",
       "      <th>0</th>\n",
       "      <td>0.722339</td>\n",
       "      <td>0.676789</td>\n",
       "      <td>0.644852</td>\n",
       "      <td>0.573822</td>\n",
       "      <td>0.442932</td>\n",
       "    </tr>\n",
       "  </tbody>\n",
       "</table>\n",
       "</div>"
      ],
      "text/plain": [
       "   clean_mean  0.003_mean  0.005_mean  0.02_mean  0.01_mean\n",
       "0    0.722339    0.676789    0.644852   0.573822   0.442932"
      ]
     },
     "execution_count": 344,
     "metadata": {
      "tags": []
     },
     "output_type": "execute_result"
    }
   ],
   "source": [
    "column = [\"clean_mean\",\"0.003_mean\",\"0.005_mean\",\"0.02_mean\",\"0.01_mean\"]\n",
    "result_adv_df[column].head(1)"
   ]
  },
  {
   "cell_type": "markdown",
   "metadata": {
    "id": "Dk6SrKnTB_xI"
   },
   "source": [
    "# <font color=\"blue\">Compare Non-Adversarial Training with Adversarial Training</font>"
   ]
  },
  {
   "cell_type": "code",
   "execution_count": 354,
   "metadata": {
    "colab": {
     "base_uri": "https://localhost:8080/",
     "height": 80
    },
    "id": "r9cyaTQ_CJj3",
    "outputId": "abf59bce-85f2-414c-bd83-b8a137aeb658"
   },
   "outputs": [
    {
     "data": {
      "text/html": [
       "<div>\n",
       "<style scoped>\n",
       "    .dataframe tbody tr th:only-of-type {\n",
       "        vertical-align: middle;\n",
       "    }\n",
       "\n",
       "    .dataframe tbody tr th {\n",
       "        vertical-align: top;\n",
       "    }\n",
       "\n",
       "    .dataframe thead th {\n",
       "        text-align: right;\n",
       "    }\n",
       "</style>\n",
       "<table border=\"1\" class=\"dataframe\">\n",
       "  <thead>\n",
       "    <tr style=\"text-align: right;\">\n",
       "      <th></th>\n",
       "      <th>clean_mean</th>\n",
       "      <th>0.003_mean</th>\n",
       "      <th>0.005_mean</th>\n",
       "      <th>0.02_mean</th>\n",
       "      <th>0.01_mean</th>\n",
       "    </tr>\n",
       "  </thead>\n",
       "  <tbody>\n",
       "    <tr>\n",
       "      <th>0</th>\n",
       "      <td>0.722339</td>\n",
       "      <td>0.676789</td>\n",
       "      <td>0.644852</td>\n",
       "      <td>0.573822</td>\n",
       "      <td>0.442932</td>\n",
       "    </tr>\n",
       "  </tbody>\n",
       "</table>\n",
       "</div>"
      ],
      "text/plain": [
       "   clean_mean  0.003_mean  0.005_mean  0.02_mean  0.01_mean\n",
       "0    0.722339    0.676789    0.644852   0.573822   0.442932"
      ]
     },
     "execution_count": 354,
     "metadata": {
      "tags": []
     },
     "output_type": "execute_result"
    }
   ],
   "source": [
    "result_adv_df[column].head(1)"
   ]
  },
  {
   "cell_type": "code",
   "execution_count": 355,
   "metadata": {
    "colab": {
     "base_uri": "https://localhost:8080/",
     "height": 80
    },
    "id": "PAvyuKGlCJ2D",
    "outputId": "f40a2aca-2b3e-4c56-8480-cedfc2533e8f"
   },
   "outputs": [
    {
     "data": {
      "text/html": [
       "<div>\n",
       "<style scoped>\n",
       "    .dataframe tbody tr th:only-of-type {\n",
       "        vertical-align: middle;\n",
       "    }\n",
       "\n",
       "    .dataframe tbody tr th {\n",
       "        vertical-align: top;\n",
       "    }\n",
       "\n",
       "    .dataframe thead th {\n",
       "        text-align: right;\n",
       "    }\n",
       "</style>\n",
       "<table border=\"1\" class=\"dataframe\">\n",
       "  <thead>\n",
       "    <tr style=\"text-align: right;\">\n",
       "      <th></th>\n",
       "      <th>loss_clean</th>\n",
       "      <th>acc_clean</th>\n",
       "      <th>clean_mean</th>\n",
       "    </tr>\n",
       "  </thead>\n",
       "  <tbody>\n",
       "    <tr>\n",
       "      <th>0</th>\n",
       "      <td>0.80251</td>\n",
       "      <td>0.726003</td>\n",
       "      <td>0.722688</td>\n",
       "    </tr>\n",
       "  </tbody>\n",
       "</table>\n",
       "</div>"
      ],
      "text/plain": [
       "   loss_clean  acc_clean  clean_mean\n",
       "0     0.80251   0.726003    0.722688"
      ]
     },
     "execution_count": 355,
     "metadata": {
      "tags": []
     },
     "output_type": "execute_result"
    }
   ],
   "source": [
    "result_df.head(1)"
   ]
  },
  {
   "cell_type": "markdown",
   "metadata": {
    "id": "ziuulXV-B3SN"
   },
   "source": [
    "# <font color=\"blue\">Conclusion</font>"
   ]
  },
  {
   "cell_type": "markdown",
   "metadata": {
    "id": "cLwwAqvXsTeo"
   },
   "source": []
  }
 ],
 "metadata": {
  "accelerator": "GPU",
  "colab": {
   "name": "WideResNet_Result_BaseLine.ipynb",
   "provenance": [],
   "toc_visible": true
  },
  "kernelspec": {
   "display_name": "Python 3",
   "language": "python",
   "name": "python3"
  },
  "language_info": {
   "codemirror_mode": {
    "name": "ipython",
    "version": 3
   },
   "file_extension": ".py",
   "mimetype": "text/x-python",
   "name": "python",
   "nbconvert_exporter": "python",
   "pygments_lexer": "ipython3",
   "version": "3.7.4"
  }
 },
 "nbformat": 4,
 "nbformat_minor": 1
}
