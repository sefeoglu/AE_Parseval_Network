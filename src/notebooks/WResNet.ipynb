{
  "nbformat": 4,
  "nbformat_minor": 0,
  "metadata": {
    "kernelspec": {
      "display_name": "Python 3",
      "language": "python",
      "name": "python3"
    },
    "language_info": {
      "codemirror_mode": {
        "name": "ipython",
        "version": 3
      },
      "file_extension": ".py",
      "mimetype": "text/x-python",
      "name": "python",
      "nbconvert_exporter": "python",
      "pygments_lexer": "ipython3",
      "version": "3.7.4"
    },
    "colab": {
      "name": "WResNet.ipynb",
      "provenance": []
    },
    "accelerator": "GPU"
  },
  "cells": [
    {
      "cell_type": "code",
      "metadata": {
        "id": "bM4Jt-bjlVI6",
        "colab_type": "code",
        "colab": {
          "base_uri": "https://localhost:8080/",
          "height": 34
        },
        "outputId": "974467ad-b92f-4445-de45-9d58c5d3590e"
      },
      "source": [
        "import tensorflow as tf\n",
        "import keras\n",
        "\n"
      ],
      "execution_count": 1,
      "outputs": [
        {
          "output_type": "stream",
          "text": [
            "Using TensorFlow backend.\n"
          ],
          "name": "stderr"
        }
      ]
    },
    {
      "cell_type": "code",
      "metadata": {
        "id": "Z75KUVuslVJC",
        "colab_type": "code",
        "colab": {}
      },
      "source": [
        ""
      ],
      "execution_count": 0,
      "outputs": []
    },
    {
      "cell_type": "code",
      "metadata": {
        "id": "FZqJ5pXWlVJH",
        "colab_type": "code",
        "colab": {
          "base_uri": "https://localhost:8080/",
          "height": 544
        },
        "outputId": "2321e4f7-df78-448b-80f3-55e1269f2235"
      },
      "source": [
        "from tensorflow.python.client import device_lib\n",
        "print(device_lib.list_local_devices())"
      ],
      "execution_count": 2,
      "outputs": [
        {
          "output_type": "stream",
          "text": [
            "[name: \"/device:CPU:0\"\n",
            "device_type: \"CPU\"\n",
            "memory_limit: 268435456\n",
            "locality {\n",
            "}\n",
            "incarnation: 7182129534661233486\n",
            ", name: \"/device:XLA_CPU:0\"\n",
            "device_type: \"XLA_CPU\"\n",
            "memory_limit: 17179869184\n",
            "locality {\n",
            "}\n",
            "incarnation: 16462655083208677224\n",
            "physical_device_desc: \"device: XLA_CPU device\"\n",
            ", name: \"/device:XLA_GPU:0\"\n",
            "device_type: \"XLA_GPU\"\n",
            "memory_limit: 17179869184\n",
            "locality {\n",
            "}\n",
            "incarnation: 5456555619530537685\n",
            "physical_device_desc: \"device: XLA_GPU device\"\n",
            ", name: \"/device:GPU:0\"\n",
            "device_type: \"GPU\"\n",
            "memory_limit: 11150726272\n",
            "locality {\n",
            "  bus_id: 1\n",
            "  links {\n",
            "  }\n",
            "}\n",
            "incarnation: 4317554192042199169\n",
            "physical_device_desc: \"device: 0, name: Tesla K80, pci bus id: 0000:00:04.0, compute capability: 3.7\"\n",
            "]\n"
          ],
          "name": "stdout"
        }
      ]
    },
    {
      "cell_type": "code",
      "metadata": {
        "id": "zTNQ1F1hlVJM",
        "colab_type": "code",
        "colab": {
          "base_uri": "https://localhost:8080/",
          "height": 1000
        },
        "outputId": "d19ece70-b95c-4ce2-b8fb-f2eba3c9b2ce"
      },
      "source": [
        "from keras.models import Model\n",
        "from keras.layers import Input, Add, Activation, Dropout, Flatten, Dense\n",
        "from keras.layers.convolutional import Convolution2D, MaxPooling2D, AveragePooling2D\n",
        "from keras.layers.normalization import BatchNormalization\n",
        "from keras.regularizers import l2\n",
        "from keras import backend as K\n",
        "import warnings\n",
        "\n",
        "warnings.filterwarnings(\"ignore\")\n",
        "weight_decay = 0.0005\n",
        "\n",
        "\n",
        "def initial_conv(input):\n",
        "    x = Convolution2D(16, (3, 3), padding='same', kernel_initializer='he_normal',\n",
        "                      W_regularizer=l2(weight_decay),\n",
        "                      use_bias=False)(input)\n",
        "\n",
        "    channel_axis = 1 if K.image_data_format() == \"channels_first\" else -1\n",
        "\n",
        "    x = BatchNormalization(axis=channel_axis, momentum=0.1, epsilon=1e-5, gamma_initializer='uniform')(x)\n",
        "    x = Activation('relu')(x)\n",
        "    return x\n",
        "\n",
        "\n",
        "def expand_conv(init, base, k, strides=(1, 1)):\n",
        "    x = Convolution2D(base * k, (3, 3), padding='same', strides=strides, kernel_initializer='he_normal',\n",
        "                      W_regularizer=l2(weight_decay),\n",
        "                      use_bias=False)(init)\n",
        "\n",
        "    channel_axis = 1 if K.image_data_format() == \"channels_first\" else -1\n",
        "\n",
        "    x = BatchNormalization(axis=channel_axis, momentum=0.1, epsilon=1e-5, gamma_initializer='uniform')(x)\n",
        "    x = Activation('relu')(x)\n",
        "\n",
        "    x = Convolution2D(base * k, (3, 3), padding='same', kernel_initializer='he_normal',\n",
        "                      W_regularizer=l2(weight_decay),\n",
        "                      use_bias=False)(x)\n",
        "\n",
        "    skip = Convolution2D(base * k, (1, 1), padding='same', strides=strides, kernel_initializer='he_normal',\n",
        "                      W_regularizer=l2(weight_decay),\n",
        "                      use_bias=False)(init)\n",
        "\n",
        "    m = Add()([x, skip])\n",
        "\n",
        "    return m\n",
        "\n",
        "\n",
        "def conv1_block(input, k=1, dropout=0.0):\n",
        "    init = input\n",
        "\n",
        "    channel_axis = 1 if K.image_data_format() == \"channels_first\" else -1\n",
        "\n",
        "    x = BatchNormalization(axis=channel_axis, momentum=0.1, epsilon=1e-5, gamma_initializer='uniform')(input)\n",
        "    x = Activation('relu')(x)\n",
        "    x = Convolution2D(16 * k, (3, 3), padding='same', kernel_initializer='he_normal',\n",
        "                      W_regularizer=l2(weight_decay),\n",
        "                      use_bias=False)(x)\n",
        "\n",
        "    if dropout > 0.0: x = Dropout(dropout)(x)\n",
        "\n",
        "    x = BatchNormalization(axis=channel_axis, momentum=0.1, epsilon=1e-5, gamma_initializer='uniform')(x)\n",
        "    x = Activation('relu')(x)\n",
        "    x = Convolution2D(16 * k, (3, 3), padding='same', kernel_initializer='he_normal',\n",
        "                      W_regularizer=l2(weight_decay),\n",
        "                      use_bias=False)(x)\n",
        "\n",
        "    m = Add()([init, x])\n",
        "    return m\n",
        "\n",
        "def conv2_block(input, k=1, dropout=0.0):\n",
        "    init = input\n",
        "\n",
        "    channel_axis = 1 if K.common.image_dim_ordering() == \"th\" else -1\n",
        "\n",
        "    x = BatchNormalization(axis=channel_axis, momentum=0.1, epsilon=1e-5, gamma_initializer='uniform')(input)\n",
        "    x = Activation('relu')(x)\n",
        "    x = Convolution2D(32 * k, (3, 3), padding='same', kernel_initializer='he_normal',\n",
        "                      W_regularizer=l2(weight_decay),\n",
        "                      use_bias=False)(x)\n",
        "\n",
        "    if dropout > 0.0: x = Dropout(dropout)(x)\n",
        "\n",
        "    x = BatchNormalization(axis=channel_axis, momentum=0.1, epsilon=1e-5, gamma_initializer='uniform')(x)\n",
        "    x = Activation('relu')(x)\n",
        "    x = Convolution2D(32 * k, (3, 3), padding='same', kernel_initializer='he_normal',\n",
        "                      W_regularizer=l2(weight_decay),\n",
        "                      use_bias=False)(x)\n",
        "\n",
        "    m = Add()([init, x])\n",
        "    return m\n",
        "\n",
        "def conv3_block(input, k=1, dropout=0.0):\n",
        "    init = input\n",
        "\n",
        "    channel_axis = 1 if K.common.image_dim_ordering() == \"th\" else -1\n",
        "\n",
        "    x = BatchNormalization(axis=channel_axis, momentum=0.1, epsilon=1e-5, gamma_initializer='uniform')(input)\n",
        "    x = Activation('relu')(x)\n",
        "    x = Convolution2D(64 * k, (3, 3), padding='same', kernel_initializer='he_normal',\n",
        "                      W_regularizer=l2(weight_decay),\n",
        "                      use_bias=False)(x)\n",
        "\n",
        "    if dropout > 0.0: x = Dropout(dropout)(x)\n",
        "\n",
        "    x = BatchNormalization(axis=channel_axis, momentum=0.1, epsilon=1e-5, gamma_initializer='uniform')(x)\n",
        "    x = Activation('relu')(x)\n",
        "    x = Convolution2D(64 * k, (3, 3), padding='same', kernel_initializer='he_normal',\n",
        "                      W_regularizer=l2(weight_decay),\n",
        "                      use_bias=False)(x)\n",
        "\n",
        "    m = Add()([init, x])\n",
        "    return m\n",
        "\n",
        "def create_wide_residual_network(input_dim, nb_classes=100, N=2, k=1, dropout=0.0, verbose=1):\n",
        "    \"\"\"\n",
        "    Creates a Wide Residual Network with specified parameters\n",
        "\n",
        "    :param input: Input Keras object\n",
        "    :param nb_classes: Number of output classes\n",
        "    :param N: Depth of the network. Compute N = (n - 4) / 6.\n",
        "              Example : For a depth of 16, n = 16, N = (16 - 4) / 6 = 2\n",
        "              Example2: For a depth of 28, n = 28, N = (28 - 4) / 6 = 4\n",
        "              Example3: For a depth of 40, n = 40, N = (40 - 4) / 6 = 6\n",
        "    :param k: Width of the network.\n",
        "    :param dropout: Adds dropout if value is greater than 0.0\n",
        "    :param verbose: Debug info to describe created WRN\n",
        "    :return:\n",
        "    \"\"\"\n",
        "    channel_axis = 1 if K.common.image_data_format() == \"channels_first\" else -1\n",
        "\n",
        "    ip = Input(shape=input_dim)\n",
        "\n",
        "    x = initial_conv(ip)\n",
        "    nb_conv = 4\n",
        "\n",
        "    x = expand_conv(x, 16, k)\n",
        "    nb_conv += 2\n",
        "\n",
        "    for i in range(N - 1):\n",
        "        x = conv1_block(x, k, dropout)\n",
        "        nb_conv += 2\n",
        "\n",
        "    x = BatchNormalization(axis=channel_axis, momentum=0.1, epsilon=1e-5, gamma_initializer='uniform')(x)\n",
        "    x = Activation('relu')(x)\n",
        "\n",
        "    x = expand_conv(x, 32, k, strides=(2, 2))\n",
        "    nb_conv += 2\n",
        "\n",
        "    for i in range(N - 1):\n",
        "        x = conv2_block(x, k, dropout)\n",
        "        nb_conv += 2\n",
        "\n",
        "    x = BatchNormalization(axis=channel_axis, momentum=0.1, epsilon=1e-5, gamma_initializer='uniform')(x)\n",
        "    x = Activation('relu')(x)\n",
        "\n",
        "    x = expand_conv(x, 64, k, strides=(2, 2))\n",
        "    nb_conv += 2\n",
        "\n",
        "    for i in range(N - 1):\n",
        "        x = conv3_block(x, k, dropout)\n",
        "        nb_conv += 2\n",
        "\n",
        "    x = BatchNormalization(axis=channel_axis, momentum=0.1, epsilon=1e-5, gamma_initializer='uniform')(x)\n",
        "    x = Activation('relu')(x)\n",
        "\n",
        "    x = AveragePooling2D((8, 8))(x)\n",
        "    x = Flatten()(x)\n",
        "\n",
        "    x = Dense(nb_classes, W_regularizer=l2(weight_decay), activation='softmax')(x)\n",
        "\n",
        "    model = Model(ip, x)\n",
        "\n",
        "    if verbose: print(\"Wide Residual Network-%d-%d created.\" % (nb_conv, k))\n",
        "    return model\n",
        "\n",
        "if __name__ == \"__main__\":\n",
        "    from keras.utils import plot_model\n",
        "    from keras.layers import Input\n",
        "    from keras.models import Model\n",
        "\n",
        "    init = (68, 100,1)\n",
        "\n",
        "    wrn_28_10 = create_wide_residual_network(init, nb_classes=4, N=2, k=2, dropout=0.0)\n",
        "\n",
        "    wrn_28_10.summary()\n",
        "\n",
        "   # plot_model(wrn_28_10, \"WRN-16-2.png\", show_shapes=True, show_layer_names=True)\n"
      ],
      "execution_count": 3,
      "outputs": [
        {
          "output_type": "stream",
          "text": [
            "Wide Residual Network-16-2 created.\n",
            "Model: \"model_1\"\n",
            "__________________________________________________________________________________________________\n",
            "Layer (type)                    Output Shape         Param #     Connected to                     \n",
            "==================================================================================================\n",
            "input_1 (InputLayer)            (None, 68, 100, 1)   0                                            \n",
            "__________________________________________________________________________________________________\n",
            "conv2d_1 (Conv2D)               (None, 68, 100, 16)  144         input_1[0][0]                    \n",
            "__________________________________________________________________________________________________\n",
            "batch_normalization_1 (BatchNor (None, 68, 100, 16)  64          conv2d_1[0][0]                   \n",
            "__________________________________________________________________________________________________\n",
            "activation_1 (Activation)       (None, 68, 100, 16)  0           batch_normalization_1[0][0]      \n",
            "__________________________________________________________________________________________________\n",
            "conv2d_2 (Conv2D)               (None, 68, 100, 32)  4608        activation_1[0][0]               \n",
            "__________________________________________________________________________________________________\n",
            "batch_normalization_2 (BatchNor (None, 68, 100, 32)  128         conv2d_2[0][0]                   \n",
            "__________________________________________________________________________________________________\n",
            "activation_2 (Activation)       (None, 68, 100, 32)  0           batch_normalization_2[0][0]      \n",
            "__________________________________________________________________________________________________\n",
            "conv2d_3 (Conv2D)               (None, 68, 100, 32)  9216        activation_2[0][0]               \n",
            "__________________________________________________________________________________________________\n",
            "conv2d_4 (Conv2D)               (None, 68, 100, 32)  512         activation_1[0][0]               \n",
            "__________________________________________________________________________________________________\n",
            "add_1 (Add)                     (None, 68, 100, 32)  0           conv2d_3[0][0]                   \n",
            "                                                                 conv2d_4[0][0]                   \n",
            "__________________________________________________________________________________________________\n",
            "batch_normalization_3 (BatchNor (None, 68, 100, 32)  128         add_1[0][0]                      \n",
            "__________________________________________________________________________________________________\n",
            "activation_3 (Activation)       (None, 68, 100, 32)  0           batch_normalization_3[0][0]      \n",
            "__________________________________________________________________________________________________\n",
            "conv2d_5 (Conv2D)               (None, 68, 100, 32)  9216        activation_3[0][0]               \n",
            "__________________________________________________________________________________________________\n",
            "batch_normalization_4 (BatchNor (None, 68, 100, 32)  128         conv2d_5[0][0]                   \n",
            "__________________________________________________________________________________________________\n",
            "activation_4 (Activation)       (None, 68, 100, 32)  0           batch_normalization_4[0][0]      \n",
            "__________________________________________________________________________________________________\n",
            "conv2d_6 (Conv2D)               (None, 68, 100, 32)  9216        activation_4[0][0]               \n",
            "__________________________________________________________________________________________________\n",
            "add_2 (Add)                     (None, 68, 100, 32)  0           add_1[0][0]                      \n",
            "                                                                 conv2d_6[0][0]                   \n",
            "__________________________________________________________________________________________________\n",
            "batch_normalization_5 (BatchNor (None, 68, 100, 32)  128         add_2[0][0]                      \n",
            "__________________________________________________________________________________________________\n",
            "activation_5 (Activation)       (None, 68, 100, 32)  0           batch_normalization_5[0][0]      \n",
            "__________________________________________________________________________________________________\n",
            "conv2d_7 (Conv2D)               (None, 34, 50, 64)   18432       activation_5[0][0]               \n",
            "__________________________________________________________________________________________________\n",
            "batch_normalization_6 (BatchNor (None, 34, 50, 64)   256         conv2d_7[0][0]                   \n",
            "__________________________________________________________________________________________________\n",
            "activation_6 (Activation)       (None, 34, 50, 64)   0           batch_normalization_6[0][0]      \n",
            "__________________________________________________________________________________________________\n",
            "conv2d_8 (Conv2D)               (None, 34, 50, 64)   36864       activation_6[0][0]               \n",
            "__________________________________________________________________________________________________\n",
            "conv2d_9 (Conv2D)               (None, 34, 50, 64)   2048        activation_5[0][0]               \n",
            "__________________________________________________________________________________________________\n",
            "add_3 (Add)                     (None, 34, 50, 64)   0           conv2d_8[0][0]                   \n",
            "                                                                 conv2d_9[0][0]                   \n",
            "__________________________________________________________________________________________________\n",
            "batch_normalization_7 (BatchNor (None, 34, 50, 64)   256         add_3[0][0]                      \n",
            "__________________________________________________________________________________________________\n",
            "activation_7 (Activation)       (None, 34, 50, 64)   0           batch_normalization_7[0][0]      \n",
            "__________________________________________________________________________________________________\n",
            "conv2d_10 (Conv2D)              (None, 34, 50, 64)   36864       activation_7[0][0]               \n",
            "__________________________________________________________________________________________________\n",
            "batch_normalization_8 (BatchNor (None, 34, 50, 64)   256         conv2d_10[0][0]                  \n",
            "__________________________________________________________________________________________________\n",
            "activation_8 (Activation)       (None, 34, 50, 64)   0           batch_normalization_8[0][0]      \n",
            "__________________________________________________________________________________________________\n",
            "conv2d_11 (Conv2D)              (None, 34, 50, 64)   36864       activation_8[0][0]               \n",
            "__________________________________________________________________________________________________\n",
            "add_4 (Add)                     (None, 34, 50, 64)   0           add_3[0][0]                      \n",
            "                                                                 conv2d_11[0][0]                  \n",
            "__________________________________________________________________________________________________\n",
            "batch_normalization_9 (BatchNor (None, 34, 50, 64)   256         add_4[0][0]                      \n",
            "__________________________________________________________________________________________________\n",
            "activation_9 (Activation)       (None, 34, 50, 64)   0           batch_normalization_9[0][0]      \n",
            "__________________________________________________________________________________________________\n",
            "conv2d_12 (Conv2D)              (None, 17, 25, 128)  73728       activation_9[0][0]               \n",
            "__________________________________________________________________________________________________\n",
            "batch_normalization_10 (BatchNo (None, 17, 25, 128)  512         conv2d_12[0][0]                  \n",
            "__________________________________________________________________________________________________\n",
            "activation_10 (Activation)      (None, 17, 25, 128)  0           batch_normalization_10[0][0]     \n",
            "__________________________________________________________________________________________________\n",
            "conv2d_13 (Conv2D)              (None, 17, 25, 128)  147456      activation_10[0][0]              \n",
            "__________________________________________________________________________________________________\n",
            "conv2d_14 (Conv2D)              (None, 17, 25, 128)  8192        activation_9[0][0]               \n",
            "__________________________________________________________________________________________________\n",
            "add_5 (Add)                     (None, 17, 25, 128)  0           conv2d_13[0][0]                  \n",
            "                                                                 conv2d_14[0][0]                  \n",
            "__________________________________________________________________________________________________\n",
            "batch_normalization_11 (BatchNo (None, 17, 25, 128)  512         add_5[0][0]                      \n",
            "__________________________________________________________________________________________________\n",
            "activation_11 (Activation)      (None, 17, 25, 128)  0           batch_normalization_11[0][0]     \n",
            "__________________________________________________________________________________________________\n",
            "conv2d_15 (Conv2D)              (None, 17, 25, 128)  147456      activation_11[0][0]              \n",
            "__________________________________________________________________________________________________\n",
            "batch_normalization_12 (BatchNo (None, 17, 25, 128)  512         conv2d_15[0][0]                  \n",
            "__________________________________________________________________________________________________\n",
            "activation_12 (Activation)      (None, 17, 25, 128)  0           batch_normalization_12[0][0]     \n",
            "__________________________________________________________________________________________________\n",
            "conv2d_16 (Conv2D)              (None, 17, 25, 128)  147456      activation_12[0][0]              \n",
            "__________________________________________________________________________________________________\n",
            "add_6 (Add)                     (None, 17, 25, 128)  0           add_5[0][0]                      \n",
            "                                                                 conv2d_16[0][0]                  \n",
            "__________________________________________________________________________________________________\n",
            "batch_normalization_13 (BatchNo (None, 17, 25, 128)  512         add_6[0][0]                      \n",
            "__________________________________________________________________________________________________\n",
            "activation_13 (Activation)      (None, 17, 25, 128)  0           batch_normalization_13[0][0]     \n",
            "__________________________________________________________________________________________________\n",
            "average_pooling2d_1 (AveragePoo (None, 2, 3, 128)    0           activation_13[0][0]              \n",
            "__________________________________________________________________________________________________\n",
            "flatten_1 (Flatten)             (None, 768)          0           average_pooling2d_1[0][0]        \n",
            "__________________________________________________________________________________________________\n",
            "dense_1 (Dense)                 (None, 4)            3076        flatten_1[0][0]                  \n",
            "==================================================================================================\n",
            "Total params: 694,996\n",
            "Trainable params: 693,172\n",
            "Non-trainable params: 1,824\n",
            "__________________________________________________________________________________________________\n"
          ],
          "name": "stdout"
        }
      ]
    },
    {
      "cell_type": "markdown",
      "metadata": {
        "id": "qTjrjOyAlVJR",
        "colab_type": "text"
      },
      "source": [
        "## Train"
      ]
    },
    {
      "cell_type": "code",
      "metadata": {
        "id": "WDBUYk7UlVJR",
        "colab_type": "code",
        "colab": {}
      },
      "source": [
        "from sklearn.model_selection import train_test_split\n",
        "import gzip\n",
        "import pickle\n",
        "import numpy as np\n"
      ],
      "execution_count": 0,
      "outputs": []
    },
    {
      "cell_type": "code",
      "metadata": {
        "id": "dVYpCeUrlVJW",
        "colab_type": "code",
        "colab": {
          "base_uri": "https://localhost:8080/",
          "height": 34
        },
        "outputId": "cffd38d9-7193-4322-f6eb-36ba40c2b408"
      },
      "source": [
        "def read_data():\n",
        "    with open(\"data.pz\", 'rb') as file_:\n",
        "        with gzip.GzipFile(fileobj=file_) as gzf:\n",
        "            data = pickle.load(gzf, encoding='latin1', fix_imports=True)\n",
        "    return data\n",
        "data = read_data()\n",
        "new_data_X = []\n",
        "Y_data = []\n",
        "for row in data:\n",
        "    new_data_X.append(row['crop'])\n",
        "    Y_data.append(row['label'])\n",
        "new_data_X = np.array(new_data_X)\n",
        "new_data_X.shape"
      ],
      "execution_count": 5,
      "outputs": [
        {
          "output_type": "execute_result",
          "data": {
            "text/plain": [
              "(5722, 68, 100)"
            ]
          },
          "metadata": {
            "tags": []
          },
          "execution_count": 5
        }
      ]
    },
    {
      "cell_type": "code",
      "metadata": {
        "id": "NR9pAOHKlVJb",
        "colab_type": "code",
        "colab": {}
      },
      "source": [
        "X_train, X_test, y_train, y_test = train_test_split(new_data_X, Y_data, test_size=0.33, random_state=42)"
      ],
      "execution_count": 0,
      "outputs": []
    },
    {
      "cell_type": "code",
      "metadata": {
        "id": "OLXkjB3OlVJg",
        "colab_type": "code",
        "colab": {}
      },
      "source": [
        "X_train = X_train.astype('float32')\n",
        "X_test = X_test.astype('float32')"
      ],
      "execution_count": 0,
      "outputs": []
    },
    {
      "cell_type": "code",
      "metadata": {
        "id": "qdneiMC7lVJl",
        "colab_type": "code",
        "colab": {}
      },
      "source": [
        "import pandas as pd\n",
        "import numpy as np\n",
        "from sklearn.preprocessing import LabelEncoder\n",
        "# creating initial dataframe\n",
        "\n",
        "y_train_df = pd.DataFrame(y_train, columns=['Label'])\n",
        "# creating instance of labelencoder\n",
        "labelencoder = LabelEncoder()\n",
        "# Assigning numerical values and storing in another column\n",
        "y_train_df['New'] = labelencoder.fit_transform(y_train_df['Label'])\n",
        "y_test_df = pd.DataFrame(y_test, columns=['Label'])\n",
        "# creating instance of labelencoder\n",
        "labelencoder = LabelEncoder()\n",
        "# Assigning numerical values and storing in another column\n",
        "y_test_df['New'] = labelencoder.fit_transform(y_test_df['Label'])"
      ],
      "execution_count": 0,
      "outputs": []
    },
    {
      "cell_type": "code",
      "metadata": {
        "id": "bwbRj89tlVJp",
        "colab_type": "code",
        "colab": {}
      },
      "source": [
        ""
      ],
      "execution_count": 0,
      "outputs": []
    },
    {
      "cell_type": "code",
      "metadata": {
        "id": "oA9IwliGlVJt",
        "colab_type": "code",
        "colab": {}
      },
      "source": [
        "from keras.preprocessing.image import ImageDataGenerator\n",
        "import keras.callbacks as callbacks\n",
        "import keras.utils.np_utils as kutils"
      ],
      "execution_count": 0,
      "outputs": []
    },
    {
      "cell_type": "code",
      "metadata": {
        "id": "wMgoWxaklVJx",
        "colab_type": "code",
        "colab": {}
      },
      "source": [
        "EPOCHS = 200\n",
        "BS = 32\n",
        "# construct the training image generator for data augmentation\n",
        "aug = ImageDataGenerator(rotation_range=20, zoom_range=0.15,\n",
        "width_shift_range=0.2, height_shift_range=0.2, shear_range=0.15,\n",
        "horizontal_flip=True, fill_mode=\"nearest\")"
      ],
      "execution_count": 0,
      "outputs": []
    },
    {
      "cell_type": "code",
      "metadata": {
        "id": "vrX48KBplVJ2",
        "colab_type": "code",
        "colab": {}
      },
      "source": [
        "img_rows, img_cols = X_train[0].shape\n",
        "\n",
        "\n",
        "# transform data set\n",
        "if K.common.image_data_format() == 'channels_first':\n",
        "    X_train = X_train.reshape(X_train.shape[0], 1, img_rows, img_cols)\n",
        "    X_test = X_test.reshape(X_test.shape[0], 1, img_rows, img_cols)\n",
        "    input_shape = (1, img_rows, img_cols)\n",
        "else:\n",
        "    X_train = X_train.reshape(X_train.shape[0], img_rows, img_cols, 1)\n",
        "    X_test = X_test.reshape(X_test.shape[0], img_rows, img_cols, 1)\n",
        "    input_shape = (img_rows, img_cols, 1)"
      ],
      "execution_count": 0,
      "outputs": []
    },
    {
      "cell_type": "code",
      "metadata": {
        "id": "tnAMOCV-lVJ6",
        "colab_type": "code",
        "colab": {
          "base_uri": "https://localhost:8080/",
          "height": 34
        },
        "outputId": "a4c9cc9e-65e6-4c23-dbb0-13c9e7405886"
      },
      "source": [
        "opt = tf.optimizers.SGD(0.01)"
      ],
      "execution_count": 32,
      "outputs": [
        {
          "output_type": "execute_result",
          "data": {
            "text/plain": [
              "<tensorflow.python.keras.optimizer_v2.gradient_descent.SGD at 0x7fc3a90757b8>"
            ]
          },
          "metadata": {
            "tags": []
          },
          "execution_count": 32
        }
      ]
    },
    {
      "cell_type": "code",
      "metadata": {
        "id": "JZ-tuVr6lVJ-",
        "colab_type": "code",
        "colab": {
          "base_uri": "https://localhost:8080/",
          "height": 34
        },
        "outputId": "9eb77606-07e5-4cf7-848b-2859f6297ede"
      },
      "source": [
        "wrn_28_10.compile(loss=\"categorical_crossentropy\", optimizer=opt, metrics=[\"acc\"])\n",
        "print(\"Finished compiling\")"
      ],
      "execution_count": 12,
      "outputs": [
        {
          "output_type": "stream",
          "text": [
            "Finished compiling\n"
          ],
          "name": "stdout"
        }
      ]
    },
    {
      "cell_type": "code",
      "metadata": {
        "id": "Vrpg9KMplVKC",
        "colab_type": "code",
        "colab": {
          "base_uri": "https://localhost:8080/",
          "height": 1000
        },
        "outputId": "5ca9d8e9-ba0f-4615-a862-255f1bddcb68"
      },
      "source": [
        "from keras.utils import to_categorical\n",
        "hist = wrn_28_10.fit_generator(aug.flow(X_train, to_categorical(y_train_df['New']), batch_size=BS),validation_data=(X_test, to_categorical(y_test_df['New'])), steps_per_epoch=len(X_train) // BS,epochs=EPOCHS)"
      ],
      "execution_count": 13,
      "outputs": [
        {
          "output_type": "stream",
          "text": [
            "Epoch 1/200\n",
            "119/119 [==============================] - 35s 293ms/step - loss: 2.5152 - acc: 0.3344 - val_loss: 2.5049 - val_acc: 0.3843\n",
            "Epoch 2/200\n",
            "119/119 [==============================] - 30s 253ms/step - loss: 2.4925 - acc: 0.3752 - val_loss: 2.4670 - val_acc: 0.3774\n",
            "Epoch 3/200\n",
            "119/119 [==============================] - 30s 252ms/step - loss: 2.4597 - acc: 0.3717 - val_loss: 2.4537 - val_acc: 0.3722\n",
            "Epoch 4/200\n",
            "119/119 [==============================] - 30s 252ms/step - loss: 2.4297 - acc: 0.3804 - val_loss: 2.4450 - val_acc: 0.3621\n",
            "Epoch 5/200\n",
            "119/119 [==============================] - 30s 252ms/step - loss: 2.4089 - acc: 0.3746 - val_loss: 2.3993 - val_acc: 0.3949\n",
            "Epoch 6/200\n",
            "119/119 [==============================] - 30s 253ms/step - loss: 2.3968 - acc: 0.3760 - val_loss: 2.3765 - val_acc: 0.4246\n",
            "Epoch 7/200\n",
            "119/119 [==============================] - 30s 253ms/step - loss: 2.3809 - acc: 0.3902 - val_loss: 2.3673 - val_acc: 0.4187\n",
            "Epoch 8/200\n",
            "119/119 [==============================] - 30s 253ms/step - loss: 2.3715 - acc: 0.3857 - val_loss: 2.3534 - val_acc: 0.4161\n",
            "Epoch 9/200\n",
            "119/119 [==============================] - 30s 253ms/step - loss: 2.3638 - acc: 0.3933 - val_loss: 2.3418 - val_acc: 0.4182\n",
            "Epoch 10/200\n",
            "119/119 [==============================] - 30s 253ms/step - loss: 2.3652 - acc: 0.3925 - val_loss: 2.3336 - val_acc: 0.4145\n",
            "Epoch 11/200\n",
            "119/119 [==============================] - 30s 252ms/step - loss: 2.3577 - acc: 0.4081 - val_loss: 2.3622 - val_acc: 0.4187\n",
            "Epoch 12/200\n",
            "119/119 [==============================] - 30s 251ms/step - loss: 2.3461 - acc: 0.4062 - val_loss: 2.3456 - val_acc: 0.4277\n",
            "Epoch 13/200\n",
            "119/119 [==============================] - 30s 251ms/step - loss: 2.3459 - acc: 0.4117 - val_loss: 2.3215 - val_acc: 0.4320\n",
            "Epoch 14/200\n",
            "119/119 [==============================] - 30s 251ms/step - loss: 2.3253 - acc: 0.4238 - val_loss: 2.3048 - val_acc: 0.4209\n",
            "Epoch 15/200\n",
            "119/119 [==============================] - 30s 252ms/step - loss: 2.3261 - acc: 0.4351 - val_loss: 2.3234 - val_acc: 0.3981\n",
            "Epoch 16/200\n",
            "119/119 [==============================] - 30s 251ms/step - loss: 2.3210 - acc: 0.4215 - val_loss: 2.3181 - val_acc: 0.4415\n",
            "Epoch 17/200\n",
            "119/119 [==============================] - 30s 251ms/step - loss: 2.3093 - acc: 0.4415 - val_loss: 2.2951 - val_acc: 0.4696\n",
            "Epoch 18/200\n",
            "119/119 [==============================] - 30s 251ms/step - loss: 2.3055 - acc: 0.4486 - val_loss: 2.2761 - val_acc: 0.4839\n",
            "Epoch 19/200\n",
            "119/119 [==============================] - 30s 252ms/step - loss: 2.2963 - acc: 0.4459 - val_loss: 2.2699 - val_acc: 0.4780\n",
            "Epoch 20/200\n",
            "119/119 [==============================] - 30s 251ms/step - loss: 2.2884 - acc: 0.4494 - val_loss: 2.2856 - val_acc: 0.4701\n",
            "Epoch 21/200\n",
            "119/119 [==============================] - 30s 251ms/step - loss: 2.2824 - acc: 0.4560 - val_loss: 2.2564 - val_acc: 0.4696\n",
            "Epoch 22/200\n",
            "119/119 [==============================] - 30s 252ms/step - loss: 2.2715 - acc: 0.4659 - val_loss: 2.2330 - val_acc: 0.5087\n",
            "Epoch 23/200\n",
            "119/119 [==============================] - 30s 251ms/step - loss: 2.2616 - acc: 0.4676 - val_loss: 2.2493 - val_acc: 0.4833\n",
            "Epoch 24/200\n",
            "119/119 [==============================] - 30s 252ms/step - loss: 2.2457 - acc: 0.4694 - val_loss: 2.2379 - val_acc: 0.4966\n",
            "Epoch 25/200\n",
            "119/119 [==============================] - 30s 251ms/step - loss: 2.2424 - acc: 0.4861 - val_loss: 2.2023 - val_acc: 0.5236\n",
            "Epoch 26/200\n",
            "119/119 [==============================] - 30s 251ms/step - loss: 2.2277 - acc: 0.4884 - val_loss: 2.3277 - val_acc: 0.4426\n",
            "Epoch 27/200\n",
            "119/119 [==============================] - 30s 252ms/step - loss: 2.2202 - acc: 0.4920 - val_loss: 2.2104 - val_acc: 0.4569\n",
            "Epoch 28/200\n",
            "119/119 [==============================] - 30s 251ms/step - loss: 2.1966 - acc: 0.5064 - val_loss: 2.1652 - val_acc: 0.5278\n",
            "Epoch 29/200\n",
            "119/119 [==============================] - 30s 252ms/step - loss: 2.1826 - acc: 0.5155 - val_loss: 3.3061 - val_acc: 0.2965\n",
            "Epoch 30/200\n",
            "119/119 [==============================] - 30s 251ms/step - loss: 2.1818 - acc: 0.5180 - val_loss: 2.1118 - val_acc: 0.5627\n",
            "Epoch 31/200\n",
            "119/119 [==============================] - 30s 251ms/step - loss: 2.1633 - acc: 0.5264 - val_loss: 2.2550 - val_acc: 0.4272\n",
            "Epoch 32/200\n",
            "119/119 [==============================] - 30s 251ms/step - loss: 2.1444 - acc: 0.5456 - val_loss: 2.1599 - val_acc: 0.5087\n",
            "Epoch 33/200\n",
            "119/119 [==============================] - 30s 251ms/step - loss: 2.1233 - acc: 0.5467 - val_loss: 2.0856 - val_acc: 0.5834\n",
            "Epoch 34/200\n",
            "119/119 [==============================] - 30s 251ms/step - loss: 2.1131 - acc: 0.5533 - val_loss: 2.0606 - val_acc: 0.5887\n",
            "Epoch 35/200\n",
            "119/119 [==============================] - 30s 251ms/step - loss: 2.1004 - acc: 0.5567 - val_loss: 2.1040 - val_acc: 0.5416\n",
            "Epoch 36/200\n",
            "119/119 [==============================] - 30s 252ms/step - loss: 2.0833 - acc: 0.5677 - val_loss: 2.0721 - val_acc: 0.5580\n",
            "Epoch 37/200\n",
            "119/119 [==============================] - 30s 252ms/step - loss: 2.0775 - acc: 0.5743 - val_loss: 2.0674 - val_acc: 0.5749\n",
            "Epoch 38/200\n",
            "119/119 [==============================] - 30s 251ms/step - loss: 2.0531 - acc: 0.5893 - val_loss: 2.2092 - val_acc: 0.4854\n",
            "Epoch 39/200\n",
            "119/119 [==============================] - 30s 251ms/step - loss: 2.0584 - acc: 0.5767 - val_loss: 2.0103 - val_acc: 0.5940\n",
            "Epoch 40/200\n",
            "119/119 [==============================] - 30s 251ms/step - loss: 2.0233 - acc: 0.5980 - val_loss: 2.2716 - val_acc: 0.5056\n",
            "Epoch 41/200\n",
            "119/119 [==============================] - 30s 250ms/step - loss: 2.0318 - acc: 0.5914 - val_loss: 2.1167 - val_acc: 0.5220\n",
            "Epoch 42/200\n",
            "119/119 [==============================] - 30s 250ms/step - loss: 2.0132 - acc: 0.5977 - val_loss: 2.1764 - val_acc: 0.5167\n",
            "Epoch 43/200\n",
            "119/119 [==============================] - 30s 250ms/step - loss: 2.0088 - acc: 0.6017 - val_loss: 2.1951 - val_acc: 0.5019\n",
            "Epoch 44/200\n",
            "119/119 [==============================] - 30s 251ms/step - loss: 1.9809 - acc: 0.6150 - val_loss: 1.9712 - val_acc: 0.6098\n",
            "Epoch 45/200\n",
            "119/119 [==============================] - 30s 249ms/step - loss: 1.9638 - acc: 0.6241 - val_loss: 1.9747 - val_acc: 0.6204\n",
            "Epoch 46/200\n",
            "119/119 [==============================] - 30s 250ms/step - loss: 1.9664 - acc: 0.6184 - val_loss: 2.1468 - val_acc: 0.5405\n",
            "Epoch 47/200\n",
            "119/119 [==============================] - 30s 250ms/step - loss: 1.9479 - acc: 0.6246 - val_loss: 2.0481 - val_acc: 0.5691\n",
            "Epoch 48/200\n",
            "119/119 [==============================] - 30s 250ms/step - loss: 1.9374 - acc: 0.6205 - val_loss: 2.0035 - val_acc: 0.5934\n",
            "Epoch 49/200\n",
            "119/119 [==============================] - 30s 251ms/step - loss: 1.9209 - acc: 0.6343 - val_loss: 2.0116 - val_acc: 0.6061\n",
            "Epoch 50/200\n",
            "119/119 [==============================] - 30s 251ms/step - loss: 1.9181 - acc: 0.6324 - val_loss: 2.1150 - val_acc: 0.5416\n",
            "Epoch 51/200\n",
            "119/119 [==============================] - 30s 250ms/step - loss: 1.9180 - acc: 0.6202 - val_loss: 1.9121 - val_acc: 0.6390\n",
            "Epoch 52/200\n",
            "119/119 [==============================] - 30s 250ms/step - loss: 1.9052 - acc: 0.6372 - val_loss: 1.9269 - val_acc: 0.6379\n",
            "Epoch 53/200\n",
            "119/119 [==============================] - 30s 250ms/step - loss: 1.8974 - acc: 0.6373 - val_loss: 1.8945 - val_acc: 0.6601\n",
            "Epoch 54/200\n",
            "119/119 [==============================] - 30s 251ms/step - loss: 1.8970 - acc: 0.6469 - val_loss: 2.0901 - val_acc: 0.5331\n",
            "Epoch 55/200\n",
            "119/119 [==============================] - 30s 250ms/step - loss: 1.8543 - acc: 0.6603 - val_loss: 2.7980 - val_acc: 0.4457\n",
            "Epoch 56/200\n",
            "119/119 [==============================] - 30s 251ms/step - loss: 1.8558 - acc: 0.6584 - val_loss: 2.0558 - val_acc: 0.5786\n",
            "Epoch 57/200\n",
            "119/119 [==============================] - 30s 250ms/step - loss: 1.8568 - acc: 0.6548 - val_loss: 1.9146 - val_acc: 0.6231\n",
            "Epoch 58/200\n",
            "119/119 [==============================] - 30s 250ms/step - loss: 1.8522 - acc: 0.6588 - val_loss: 1.9066 - val_acc: 0.6305\n",
            "Epoch 59/200\n",
            "119/119 [==============================] - 30s 250ms/step - loss: 1.8474 - acc: 0.6558 - val_loss: 1.8650 - val_acc: 0.6713\n",
            "Epoch 60/200\n",
            "119/119 [==============================] - 30s 250ms/step - loss: 1.8324 - acc: 0.6610 - val_loss: 2.6245 - val_acc: 0.4648\n",
            "Epoch 61/200\n",
            "119/119 [==============================] - 30s 250ms/step - loss: 1.8079 - acc: 0.6726 - val_loss: 1.8095 - val_acc: 0.6734\n",
            "Epoch 62/200\n",
            "119/119 [==============================] - 30s 250ms/step - loss: 1.8067 - acc: 0.6772 - val_loss: 1.7856 - val_acc: 0.6930\n",
            "Epoch 63/200\n",
            "119/119 [==============================] - 30s 250ms/step - loss: 1.8041 - acc: 0.6807 - val_loss: 1.8072 - val_acc: 0.6760\n",
            "Epoch 64/200\n",
            "119/119 [==============================] - 30s 250ms/step - loss: 1.7875 - acc: 0.6843 - val_loss: 1.9497 - val_acc: 0.6109\n",
            "Epoch 65/200\n",
            "119/119 [==============================] - 30s 250ms/step - loss: 1.8087 - acc: 0.6740 - val_loss: 1.7642 - val_acc: 0.6951\n",
            "Epoch 66/200\n",
            "119/119 [==============================] - 30s 249ms/step - loss: 1.7557 - acc: 0.6993 - val_loss: 1.7362 - val_acc: 0.7221\n",
            "Epoch 67/200\n",
            "119/119 [==============================] - 30s 251ms/step - loss: 1.7760 - acc: 0.6859 - val_loss: 1.8840 - val_acc: 0.6358\n",
            "Epoch 68/200\n",
            "119/119 [==============================] - 30s 250ms/step - loss: 1.7605 - acc: 0.6953 - val_loss: 1.8020 - val_acc: 0.6803\n",
            "Epoch 69/200\n",
            "119/119 [==============================] - 30s 250ms/step - loss: 1.7736 - acc: 0.6943 - val_loss: 1.7676 - val_acc: 0.6893\n",
            "Epoch 70/200\n",
            "119/119 [==============================] - 30s 250ms/step - loss: 1.7468 - acc: 0.6917 - val_loss: 1.9105 - val_acc: 0.6337\n",
            "Epoch 71/200\n",
            "119/119 [==============================] - 30s 250ms/step - loss: 1.7327 - acc: 0.7096 - val_loss: 1.7169 - val_acc: 0.7184\n",
            "Epoch 72/200\n",
            "119/119 [==============================] - 30s 250ms/step - loss: 1.7314 - acc: 0.7003 - val_loss: 2.0365 - val_acc: 0.5797\n",
            "Epoch 73/200\n",
            "119/119 [==============================] - 30s 250ms/step - loss: 1.7452 - acc: 0.6977 - val_loss: 1.7676 - val_acc: 0.6824\n",
            "Epoch 74/200\n",
            "119/119 [==============================] - 30s 250ms/step - loss: 1.7329 - acc: 0.6995 - val_loss: 1.7858 - val_acc: 0.6718\n",
            "Epoch 75/200\n",
            "119/119 [==============================] - 30s 251ms/step - loss: 1.7292 - acc: 0.6893 - val_loss: 1.6852 - val_acc: 0.7194\n",
            "Epoch 76/200\n",
            "119/119 [==============================] - 30s 249ms/step - loss: 1.7180 - acc: 0.7016 - val_loss: 1.8839 - val_acc: 0.6453\n",
            "Epoch 77/200\n",
            "119/119 [==============================] - 30s 250ms/step - loss: 1.7096 - acc: 0.7098 - val_loss: 1.7574 - val_acc: 0.6977\n",
            "Epoch 78/200\n",
            "119/119 [==============================] - 30s 250ms/step - loss: 1.6853 - acc: 0.7288 - val_loss: 1.7960 - val_acc: 0.6871\n",
            "Epoch 79/200\n",
            "119/119 [==============================] - 30s 250ms/step - loss: 1.6903 - acc: 0.7096 - val_loss: 1.7744 - val_acc: 0.6908\n",
            "Epoch 80/200\n",
            "119/119 [==============================] - 30s 251ms/step - loss: 1.6898 - acc: 0.7022 - val_loss: 1.7984 - val_acc: 0.6702\n",
            "Epoch 81/200\n",
            "119/119 [==============================] - 30s 251ms/step - loss: 1.6726 - acc: 0.7225 - val_loss: 1.9748 - val_acc: 0.6030\n",
            "Epoch 82/200\n",
            "119/119 [==============================] - 30s 251ms/step - loss: 1.6721 - acc: 0.7256 - val_loss: 1.9677 - val_acc: 0.6464\n",
            "Epoch 83/200\n",
            "119/119 [==============================] - 30s 250ms/step - loss: 1.6617 - acc: 0.7180 - val_loss: 1.6534 - val_acc: 0.7163\n",
            "Epoch 84/200\n",
            "119/119 [==============================] - 30s 251ms/step - loss: 1.6376 - acc: 0.7340 - val_loss: 1.7058 - val_acc: 0.7115\n",
            "Epoch 85/200\n",
            "119/119 [==============================] - 30s 251ms/step - loss: 1.6672 - acc: 0.7198 - val_loss: 1.9736 - val_acc: 0.6136\n",
            "Epoch 86/200\n",
            "119/119 [==============================] - 30s 251ms/step - loss: 1.6359 - acc: 0.7306 - val_loss: 1.8149 - val_acc: 0.6554\n",
            "Epoch 87/200\n",
            "119/119 [==============================] - 30s 250ms/step - loss: 1.6386 - acc: 0.7264 - val_loss: 1.7024 - val_acc: 0.7020\n",
            "Epoch 88/200\n",
            "119/119 [==============================] - 30s 252ms/step - loss: 1.6459 - acc: 0.7261 - val_loss: 1.9614 - val_acc: 0.6400\n",
            "Epoch 89/200\n",
            "119/119 [==============================] - 30s 250ms/step - loss: 1.6450 - acc: 0.7217 - val_loss: 1.8616 - val_acc: 0.6368\n",
            "Epoch 90/200\n",
            "119/119 [==============================] - 30s 251ms/step - loss: 1.6131 - acc: 0.7369 - val_loss: 1.7006 - val_acc: 0.7099\n",
            "Epoch 91/200\n",
            "119/119 [==============================] - 30s 250ms/step - loss: 1.6384 - acc: 0.7243 - val_loss: 1.7767 - val_acc: 0.6596\n",
            "Epoch 92/200\n",
            "119/119 [==============================] - 30s 250ms/step - loss: 1.6238 - acc: 0.7293 - val_loss: 1.7289 - val_acc: 0.6903\n",
            "Epoch 93/200\n",
            "119/119 [==============================] - 30s 249ms/step - loss: 1.6088 - acc: 0.7364 - val_loss: 1.6191 - val_acc: 0.7321\n",
            "Epoch 94/200\n",
            "119/119 [==============================] - 30s 250ms/step - loss: 1.5963 - acc: 0.7434 - val_loss: 1.6327 - val_acc: 0.7152\n",
            "Epoch 95/200\n",
            "119/119 [==============================] - 30s 250ms/step - loss: 1.6076 - acc: 0.7409 - val_loss: 1.9124 - val_acc: 0.6019\n",
            "Epoch 96/200\n",
            "119/119 [==============================] - 30s 251ms/step - loss: 1.6062 - acc: 0.7374 - val_loss: 1.6698 - val_acc: 0.7178\n",
            "Epoch 97/200\n",
            "119/119 [==============================] - 30s 250ms/step - loss: 1.5972 - acc: 0.7411 - val_loss: 1.7330 - val_acc: 0.6914\n",
            "Epoch 98/200\n",
            "119/119 [==============================] - 30s 250ms/step - loss: 1.5838 - acc: 0.7478 - val_loss: 1.7685 - val_acc: 0.6893\n",
            "Epoch 99/200\n",
            "119/119 [==============================] - 30s 251ms/step - loss: 1.5875 - acc: 0.7471 - val_loss: 1.6405 - val_acc: 0.7141\n",
            "Epoch 100/200\n",
            "119/119 [==============================] - 30s 251ms/step - loss: 1.5673 - acc: 0.7509 - val_loss: 1.5755 - val_acc: 0.7565\n",
            "Epoch 101/200\n",
            "119/119 [==============================] - 30s 249ms/step - loss: 1.5902 - acc: 0.7422 - val_loss: 1.6431 - val_acc: 0.7406\n",
            "Epoch 102/200\n",
            "119/119 [==============================] - 30s 251ms/step - loss: 1.5549 - acc: 0.7482 - val_loss: 1.6092 - val_acc: 0.7327\n",
            "Epoch 103/200\n",
            "119/119 [==============================] - 30s 250ms/step - loss: 1.5758 - acc: 0.7406 - val_loss: 1.5770 - val_acc: 0.7364\n",
            "Epoch 104/200\n",
            "119/119 [==============================] - 30s 255ms/step - loss: 1.5447 - acc: 0.7538 - val_loss: 1.8867 - val_acc: 0.6337\n",
            "Epoch 105/200\n",
            "119/119 [==============================] - 30s 251ms/step - loss: 1.5445 - acc: 0.7545 - val_loss: 1.7079 - val_acc: 0.7125\n",
            "Epoch 106/200\n",
            "119/119 [==============================] - 30s 251ms/step - loss: 1.5630 - acc: 0.7498 - val_loss: 1.7912 - val_acc: 0.6675\n",
            "Epoch 107/200\n",
            "119/119 [==============================] - 30s 251ms/step - loss: 1.5479 - acc: 0.7482 - val_loss: 1.7328 - val_acc: 0.6649\n",
            "Epoch 108/200\n",
            "119/119 [==============================] - 30s 252ms/step - loss: 1.5487 - acc: 0.7490 - val_loss: 1.6094 - val_acc: 0.7274\n",
            "Epoch 109/200\n",
            "119/119 [==============================] - 30s 252ms/step - loss: 1.5288 - acc: 0.7583 - val_loss: 1.6767 - val_acc: 0.6956\n",
            "Epoch 110/200\n",
            "119/119 [==============================] - 30s 251ms/step - loss: 1.5290 - acc: 0.7597 - val_loss: 1.6279 - val_acc: 0.7237\n",
            "Epoch 111/200\n",
            "119/119 [==============================] - 30s 251ms/step - loss: 1.5237 - acc: 0.7603 - val_loss: 1.5478 - val_acc: 0.7475\n",
            "Epoch 112/200\n",
            "119/119 [==============================] - 30s 251ms/step - loss: 1.5270 - acc: 0.7511 - val_loss: 1.5605 - val_acc: 0.7459\n",
            "Epoch 113/200\n",
            "119/119 [==============================] - 30s 251ms/step - loss: 1.5285 - acc: 0.7522 - val_loss: 1.6070 - val_acc: 0.7279\n",
            "Epoch 114/200\n",
            "119/119 [==============================] - 30s 251ms/step - loss: 1.5065 - acc: 0.7587 - val_loss: 1.5490 - val_acc: 0.7528\n",
            "Epoch 115/200\n",
            "119/119 [==============================] - 30s 251ms/step - loss: 1.4924 - acc: 0.7685 - val_loss: 1.5656 - val_acc: 0.7517\n",
            "Epoch 116/200\n",
            "119/119 [==============================] - 30s 250ms/step - loss: 1.5072 - acc: 0.7636 - val_loss: 1.7469 - val_acc: 0.6585\n",
            "Epoch 117/200\n",
            "119/119 [==============================] - 30s 251ms/step - loss: 1.4860 - acc: 0.7707 - val_loss: 1.5966 - val_acc: 0.7263\n",
            "Epoch 118/200\n",
            "119/119 [==============================] - 30s 250ms/step - loss: 1.4913 - acc: 0.7669 - val_loss: 1.6546 - val_acc: 0.7136\n",
            "Epoch 119/200\n",
            "119/119 [==============================] - 30s 251ms/step - loss: 1.4802 - acc: 0.7695 - val_loss: 1.7313 - val_acc: 0.6686\n",
            "Epoch 120/200\n",
            "119/119 [==============================] - 30s 250ms/step - loss: 1.4920 - acc: 0.7637 - val_loss: 2.0311 - val_acc: 0.6008\n",
            "Epoch 121/200\n",
            "119/119 [==============================] - 30s 251ms/step - loss: 1.4814 - acc: 0.7651 - val_loss: 1.6084 - val_acc: 0.7152\n",
            "Epoch 122/200\n",
            "119/119 [==============================] - 30s 250ms/step - loss: 1.4921 - acc: 0.7672 - val_loss: 1.5118 - val_acc: 0.7533\n",
            "Epoch 123/200\n",
            "119/119 [==============================] - 30s 250ms/step - loss: 1.4758 - acc: 0.7732 - val_loss: 1.5250 - val_acc: 0.7544\n",
            "Epoch 124/200\n",
            "119/119 [==============================] - 30s 251ms/step - loss: 1.4777 - acc: 0.7716 - val_loss: 1.5591 - val_acc: 0.7433\n",
            "Epoch 125/200\n",
            "119/119 [==============================] - 30s 253ms/step - loss: 1.4616 - acc: 0.7687 - val_loss: 1.5495 - val_acc: 0.7374\n",
            "Epoch 126/200\n",
            "119/119 [==============================] - 30s 250ms/step - loss: 1.4571 - acc: 0.7727 - val_loss: 1.5623 - val_acc: 0.7295\n",
            "Epoch 127/200\n",
            "119/119 [==============================] - 30s 250ms/step - loss: 1.4515 - acc: 0.7735 - val_loss: 1.5866 - val_acc: 0.7327\n",
            "Epoch 128/200\n",
            "119/119 [==============================] - 30s 251ms/step - loss: 1.4454 - acc: 0.7770 - val_loss: 1.5144 - val_acc: 0.7491\n",
            "Epoch 129/200\n",
            "119/119 [==============================] - 30s 250ms/step - loss: 1.4459 - acc: 0.7754 - val_loss: 1.6556 - val_acc: 0.7099\n",
            "Epoch 130/200\n",
            "119/119 [==============================] - 30s 250ms/step - loss: 1.4414 - acc: 0.7719 - val_loss: 1.5239 - val_acc: 0.7501\n",
            "Epoch 131/200\n",
            "119/119 [==============================] - 30s 250ms/step - loss: 1.4536 - acc: 0.7693 - val_loss: 1.5086 - val_acc: 0.7443\n",
            "Epoch 132/200\n",
            "119/119 [==============================] - 30s 250ms/step - loss: 1.4468 - acc: 0.7708 - val_loss: 1.5001 - val_acc: 0.7602\n",
            "Epoch 133/200\n",
            "119/119 [==============================] - 30s 251ms/step - loss: 1.4110 - acc: 0.7962 - val_loss: 1.4770 - val_acc: 0.7570\n",
            "Epoch 134/200\n",
            "119/119 [==============================] - 30s 250ms/step - loss: 1.4446 - acc: 0.7704 - val_loss: 1.5671 - val_acc: 0.7274\n",
            "Epoch 135/200\n",
            "119/119 [==============================] - 30s 250ms/step - loss: 1.4263 - acc: 0.7853 - val_loss: 1.4953 - val_acc: 0.7454\n",
            "Epoch 136/200\n",
            "119/119 [==============================] - 30s 252ms/step - loss: 1.4108 - acc: 0.7784 - val_loss: 1.5649 - val_acc: 0.7221\n",
            "Epoch 137/200\n",
            "119/119 [==============================] - 30s 250ms/step - loss: 1.4115 - acc: 0.7818 - val_loss: 1.5012 - val_acc: 0.7454\n",
            "Epoch 138/200\n",
            "119/119 [==============================] - 30s 251ms/step - loss: 1.4019 - acc: 0.7887 - val_loss: 1.5863 - val_acc: 0.7046\n",
            "Epoch 139/200\n",
            "119/119 [==============================] - 30s 250ms/step - loss: 1.4014 - acc: 0.7843 - val_loss: 1.5626 - val_acc: 0.7274\n",
            "Epoch 140/200\n",
            "119/119 [==============================] - 30s 251ms/step - loss: 1.3985 - acc: 0.7874 - val_loss: 1.6469 - val_acc: 0.6961\n",
            "Epoch 141/200\n",
            "119/119 [==============================] - 30s 250ms/step - loss: 1.4404 - acc: 0.7756 - val_loss: 1.5462 - val_acc: 0.7343\n",
            "Epoch 142/200\n",
            "119/119 [==============================] - 30s 251ms/step - loss: 1.3655 - acc: 0.8058 - val_loss: 1.4737 - val_acc: 0.7528\n",
            "Epoch 143/200\n",
            "119/119 [==============================] - 30s 251ms/step - loss: 1.4003 - acc: 0.7856 - val_loss: 1.5811 - val_acc: 0.7380\n",
            "Epoch 144/200\n",
            "119/119 [==============================] - 30s 251ms/step - loss: 1.3967 - acc: 0.7836 - val_loss: 1.5821 - val_acc: 0.7231\n",
            "Epoch 145/200\n",
            "119/119 [==============================] - 30s 251ms/step - loss: 1.3840 - acc: 0.7920 - val_loss: 1.5760 - val_acc: 0.7353\n",
            "Epoch 146/200\n",
            "119/119 [==============================] - 30s 250ms/step - loss: 1.3860 - acc: 0.7840 - val_loss: 1.5313 - val_acc: 0.7369\n",
            "Epoch 147/200\n",
            "119/119 [==============================] - 30s 251ms/step - loss: 1.4035 - acc: 0.7816 - val_loss: 1.5153 - val_acc: 0.7205\n",
            "Epoch 148/200\n",
            "119/119 [==============================] - 30s 251ms/step - loss: 1.3539 - acc: 0.7956 - val_loss: 1.4128 - val_acc: 0.7745\n",
            "Epoch 149/200\n",
            "119/119 [==============================] - 30s 251ms/step - loss: 1.3695 - acc: 0.7919 - val_loss: 1.4556 - val_acc: 0.7687\n",
            "Epoch 150/200\n",
            "119/119 [==============================] - 30s 250ms/step - loss: 1.3637 - acc: 0.7974 - val_loss: 1.7323 - val_acc: 0.6760\n",
            "Epoch 151/200\n",
            "119/119 [==============================] - 30s 251ms/step - loss: 1.3700 - acc: 0.7911 - val_loss: 1.4694 - val_acc: 0.7485\n",
            "Epoch 152/200\n",
            "119/119 [==============================] - 30s 251ms/step - loss: 1.3688 - acc: 0.7906 - val_loss: 1.4606 - val_acc: 0.7623\n",
            "Epoch 153/200\n",
            "119/119 [==============================] - 30s 250ms/step - loss: 1.3605 - acc: 0.7985 - val_loss: 1.4996 - val_acc: 0.7401\n",
            "Epoch 154/200\n",
            "119/119 [==============================] - 30s 250ms/step - loss: 1.3641 - acc: 0.7927 - val_loss: 1.5296 - val_acc: 0.7374\n",
            "Epoch 155/200\n",
            "119/119 [==============================] - 30s 250ms/step - loss: 1.3469 - acc: 0.7993 - val_loss: 1.4617 - val_acc: 0.7470\n",
            "Epoch 156/200\n",
            "119/119 [==============================] - 30s 250ms/step - loss: 1.3460 - acc: 0.7940 - val_loss: 1.4971 - val_acc: 0.7374\n",
            "Epoch 157/200\n",
            "119/119 [==============================] - 30s 251ms/step - loss: 1.3396 - acc: 0.7998 - val_loss: 1.6351 - val_acc: 0.7004\n",
            "Epoch 158/200\n",
            "119/119 [==============================] - 30s 250ms/step - loss: 1.3404 - acc: 0.7953 - val_loss: 1.5117 - val_acc: 0.7507\n",
            "Epoch 159/200\n",
            "119/119 [==============================] - 30s 251ms/step - loss: 1.3205 - acc: 0.8032 - val_loss: 1.4143 - val_acc: 0.7745\n",
            "Epoch 160/200\n",
            "119/119 [==============================] - 30s 251ms/step - loss: 1.3122 - acc: 0.8128 - val_loss: 1.5535 - val_acc: 0.7210\n",
            "Epoch 161/200\n",
            "119/119 [==============================] - 30s 250ms/step - loss: 1.3427 - acc: 0.7926 - val_loss: 1.4214 - val_acc: 0.7623\n",
            "Epoch 162/200\n",
            "119/119 [==============================] - 30s 250ms/step - loss: 1.3233 - acc: 0.7974 - val_loss: 1.4997 - val_acc: 0.7507\n",
            "Epoch 163/200\n",
            "119/119 [==============================] - 30s 251ms/step - loss: 1.3276 - acc: 0.8059 - val_loss: 1.6875 - val_acc: 0.7009\n",
            "Epoch 164/200\n",
            "119/119 [==============================] - 30s 250ms/step - loss: 1.3211 - acc: 0.7999 - val_loss: 1.4651 - val_acc: 0.7485\n",
            "Epoch 165/200\n",
            "119/119 [==============================] - 30s 250ms/step - loss: 1.3090 - acc: 0.8048 - val_loss: 1.5184 - val_acc: 0.7433\n",
            "Epoch 166/200\n",
            "119/119 [==============================] - 30s 250ms/step - loss: 1.3089 - acc: 0.8079 - val_loss: 1.4638 - val_acc: 0.7565\n",
            "Epoch 167/200\n",
            "119/119 [==============================] - 30s 250ms/step - loss: 1.3132 - acc: 0.8017 - val_loss: 1.4749 - val_acc: 0.7491\n",
            "Epoch 168/200\n",
            "119/119 [==============================] - 30s 251ms/step - loss: 1.2978 - acc: 0.8116 - val_loss: 1.5141 - val_acc: 0.7205\n",
            "Epoch 169/200\n",
            "119/119 [==============================] - 30s 251ms/step - loss: 1.3234 - acc: 0.8037 - val_loss: 1.5533 - val_acc: 0.7321\n",
            "Epoch 170/200\n",
            "119/119 [==============================] - 30s 250ms/step - loss: 1.2711 - acc: 0.8185 - val_loss: 1.5102 - val_acc: 0.7512\n",
            "Epoch 171/200\n",
            "119/119 [==============================] - 30s 250ms/step - loss: 1.2876 - acc: 0.8065 - val_loss: 1.4242 - val_acc: 0.7554\n",
            "Epoch 172/200\n",
            "119/119 [==============================] - 30s 250ms/step - loss: 1.2914 - acc: 0.8143 - val_loss: 1.5222 - val_acc: 0.7470\n",
            "Epoch 173/200\n",
            "119/119 [==============================] - 30s 250ms/step - loss: 1.2799 - acc: 0.8090 - val_loss: 1.6529 - val_acc: 0.6935\n",
            "Epoch 174/200\n",
            "119/119 [==============================] - 30s 250ms/step - loss: 1.3030 - acc: 0.8058 - val_loss: 1.5432 - val_acc: 0.7279\n",
            "Epoch 175/200\n",
            "119/119 [==============================] - 30s 250ms/step - loss: 1.2866 - acc: 0.8106 - val_loss: 1.3958 - val_acc: 0.7687\n",
            "Epoch 176/200\n",
            "119/119 [==============================] - 30s 250ms/step - loss: 1.2525 - acc: 0.8206 - val_loss: 1.5171 - val_acc: 0.7274\n",
            "Epoch 177/200\n",
            "119/119 [==============================] - 30s 252ms/step - loss: 1.2820 - acc: 0.8044 - val_loss: 1.4023 - val_acc: 0.7644\n",
            "Epoch 178/200\n",
            "119/119 [==============================] - 30s 250ms/step - loss: 1.2549 - acc: 0.8193 - val_loss: 1.4072 - val_acc: 0.7692\n",
            "Epoch 179/200\n",
            "119/119 [==============================] - 30s 250ms/step - loss: 1.2704 - acc: 0.8094 - val_loss: 1.3978 - val_acc: 0.7676\n",
            "Epoch 180/200\n",
            "119/119 [==============================] - 30s 251ms/step - loss: 1.2491 - acc: 0.8199 - val_loss: 1.4051 - val_acc: 0.7570\n",
            "Epoch 181/200\n",
            "119/119 [==============================] - 30s 250ms/step - loss: 1.2425 - acc: 0.8205 - val_loss: 1.5358 - val_acc: 0.7120\n",
            "Epoch 182/200\n",
            "119/119 [==============================] - 30s 251ms/step - loss: 1.2697 - acc: 0.8056 - val_loss: 1.4682 - val_acc: 0.7485\n",
            "Epoch 183/200\n",
            "119/119 [==============================] - 30s 251ms/step - loss: 1.2523 - acc: 0.8162 - val_loss: 1.6142 - val_acc: 0.7041\n",
            "Epoch 184/200\n",
            "119/119 [==============================] - 30s 251ms/step - loss: 1.2528 - acc: 0.8152 - val_loss: 1.5016 - val_acc: 0.7332\n",
            "Epoch 185/200\n",
            "119/119 [==============================] - 30s 250ms/step - loss: 1.2534 - acc: 0.8074 - val_loss: 1.5371 - val_acc: 0.7194\n",
            "Epoch 186/200\n",
            "119/119 [==============================] - 30s 251ms/step - loss: 1.2460 - acc: 0.8222 - val_loss: 1.3922 - val_acc: 0.7697\n",
            "Epoch 187/200\n",
            "119/119 [==============================] - 30s 250ms/step - loss: 1.2391 - acc: 0.8197 - val_loss: 1.3738 - val_acc: 0.7713\n",
            "Epoch 188/200\n",
            "119/119 [==============================] - 30s 251ms/step - loss: 1.2195 - acc: 0.8258 - val_loss: 1.3983 - val_acc: 0.7697\n",
            "Epoch 189/200\n",
            "119/119 [==============================] - 30s 250ms/step - loss: 1.2444 - acc: 0.8150 - val_loss: 1.4545 - val_acc: 0.7575\n",
            "Epoch 190/200\n",
            "119/119 [==============================] - 30s 251ms/step - loss: 1.2174 - acc: 0.8300 - val_loss: 1.4537 - val_acc: 0.7565\n",
            "Epoch 191/200\n",
            "119/119 [==============================] - 30s 251ms/step - loss: 1.2348 - acc: 0.8196 - val_loss: 1.4971 - val_acc: 0.7263\n",
            "Epoch 192/200\n",
            "119/119 [==============================] - 30s 251ms/step - loss: 1.2348 - acc: 0.8224 - val_loss: 1.4273 - val_acc: 0.7607\n",
            "Epoch 193/200\n",
            "119/119 [==============================] - 30s 251ms/step - loss: 1.2149 - acc: 0.8237 - val_loss: 1.4884 - val_acc: 0.7390\n",
            "Epoch 194/200\n",
            "119/119 [==============================] - 30s 250ms/step - loss: 1.2047 - acc: 0.8297 - val_loss: 1.4706 - val_acc: 0.7231\n",
            "Epoch 195/200\n",
            "119/119 [==============================] - 30s 251ms/step - loss: 1.2318 - acc: 0.8177 - val_loss: 1.4618 - val_acc: 0.7358\n",
            "Epoch 196/200\n",
            "119/119 [==============================] - 30s 251ms/step - loss: 1.2032 - acc: 0.8314 - val_loss: 1.3754 - val_acc: 0.7538\n",
            "Epoch 197/200\n",
            "119/119 [==============================] - 30s 250ms/step - loss: 1.1962 - acc: 0.8324 - val_loss: 1.5602 - val_acc: 0.7300\n",
            "Epoch 198/200\n",
            "119/119 [==============================] - 30s 250ms/step - loss: 1.2023 - acc: 0.8250 - val_loss: 1.4273 - val_acc: 0.7427\n",
            "Epoch 199/200\n",
            "119/119 [==============================] - 30s 250ms/step - loss: 1.2091 - acc: 0.8195 - val_loss: 1.3047 - val_acc: 0.7941\n",
            "Epoch 200/200\n",
            "119/119 [==============================] - 30s 251ms/step - loss: 1.1902 - acc: 0.8335 - val_loss: 1.4878 - val_acc: 0.7417\n"
          ],
          "name": "stdout"
        }
      ]
    },
    {
      "cell_type": "code",
      "metadata": {
        "id": "JJysdIN3lVKG",
        "colab_type": "code",
        "colab": {
          "base_uri": "https://localhost:8080/",
          "height": 34
        },
        "outputId": "921d5cf6-62eb-4046-a278-8b62ef674464"
      },
      "source": [
        "import keras.utils.np_utils as kutils\n",
        "yPreds = wrn_28_10.predict(X_test)\n",
        "yPred = np.argmax(yPreds, axis=1)\n",
        "yPred[0]"
      ],
      "execution_count": 14,
      "outputs": [
        {
          "output_type": "execute_result",
          "data": {
            "text/plain": [
              "0"
            ]
          },
          "metadata": {
            "tags": []
          },
          "execution_count": 14
        }
      ]
    },
    {
      "cell_type": "code",
      "metadata": {
        "id": "usjrLCh6lVKL",
        "colab_type": "code",
        "colab": {
          "base_uri": "https://localhost:8080/",
          "height": 34
        },
        "outputId": "24d4580b-b5ed-4e7b-ace4-a2032dba93ad"
      },
      "source": [
        "yPred[2]"
      ],
      "execution_count": 15,
      "outputs": [
        {
          "output_type": "execute_result",
          "data": {
            "text/plain": [
              "0"
            ]
          },
          "metadata": {
            "tags": []
          },
          "execution_count": 15
        }
      ]
    },
    {
      "cell_type": "code",
      "metadata": {
        "id": "e4N7HDg0lVKP",
        "colab_type": "code",
        "colab": {
          "base_uri": "https://localhost:8080/",
          "height": 34
        },
        "outputId": "6e12f8db-0687-49f4-cc92-9ed1af595742"
      },
      "source": [
        "yTrue = y_test_df['New']\n",
        "yTrue[2]"
      ],
      "execution_count": 16,
      "outputs": [
        {
          "output_type": "execute_result",
          "data": {
            "text/plain": [
              "1"
            ]
          },
          "metadata": {
            "tags": []
          },
          "execution_count": 16
        }
      ]
    },
    {
      "cell_type": "code",
      "metadata": {
        "id": "gojN0iDIlVKU",
        "colab_type": "code",
        "colab": {
          "base_uri": "https://localhost:8080/",
          "height": 153
        },
        "outputId": "a127a91e-48f8-47bc-e723-6e9fae0c14ae"
      },
      "source": [
        "yPreds"
      ],
      "execution_count": 17,
      "outputs": [
        {
          "output_type": "execute_result",
          "data": {
            "text/plain": [
              "array([[9.7758693e-01, 9.4872536e-03, 8.8735390e-03, 4.0523075e-03],\n",
              "       [8.0385869e-03, 9.7960770e-01, 1.1277177e-02, 1.0765449e-03],\n",
              "       [6.4494306e-01, 3.1119347e-01, 3.4909833e-02, 8.9536263e-03],\n",
              "       ...,\n",
              "       [7.9813333e-05, 5.6717703e-03, 9.9110353e-01, 3.1449250e-03],\n",
              "       [2.9995468e-01, 6.7772800e-01, 1.5793923e-02, 6.5234290e-03],\n",
              "       [9.9878794e-01, 2.4846685e-04, 2.8403150e-04, 6.7955139e-04]],\n",
              "      dtype=float32)"
            ]
          },
          "metadata": {
            "tags": []
          },
          "execution_count": 17
        }
      ]
    },
    {
      "cell_type": "code",
      "metadata": {
        "id": "K4m2vMP7lVKY",
        "colab_type": "code",
        "colab": {
          "base_uri": "https://localhost:8080/",
          "height": 51
        },
        "outputId": "b906e8c4-f905-4e3c-c26e-e4c5451a14b4"
      },
      "source": [
        "import sklearn.metrics as metrics\n",
        "\n",
        "\n",
        "accuracy = metrics.accuracy_score(yTrue, yPred) * 100\n",
        "error = 100 - accuracy\n",
        "print(\"Accuracy : \", accuracy)\n",
        "print(\"Error : \", error)"
      ],
      "execution_count": 18,
      "outputs": [
        {
          "output_type": "stream",
          "text": [
            "Accuracy :  74.16622551614611\n",
            "Error :  25.833774483853887\n"
          ],
          "name": "stdout"
        }
      ]
    },
    {
      "cell_type": "code",
      "metadata": {
        "id": "2z8YVCPklVKb",
        "colab_type": "code",
        "colab": {
          "base_uri": "https://localhost:8080/",
          "height": 282
        },
        "outputId": "b66efe45-ef3f-48cf-93f4-44ac0ce80380"
      },
      "source": [
        "from matplotlib import  pyplot\n",
        "pyplot.plot(hist.history['acc'], label='train')\n",
        "pyplot.plot(hist.history['val_acc'], label='test')\n",
        "\n"
      ],
      "execution_count": 31,
      "outputs": [
        {
          "output_type": "execute_result",
          "data": {
            "text/plain": [
              "[<matplotlib.lines.Line2D at 0x7fc3aae48cc0>]"
            ]
          },
          "metadata": {
            "tags": []
          },
          "execution_count": 31
        },
        {
          "output_type": "display_data",
          "data": {
            "image/png": "[encoded data removed]",
            "text/plain": [
              "<Figure size 432x288 with 1 Axes>"
            ]
          },
          "metadata": {
            "tags": [],
            "needs_background": "light"
          }
        }
      ]
    },
    {
      "cell_type": "code",
      "metadata": {
        "id": "tKg2w43tlVKf",
        "colab_type": "code",
        "colab": {}
      },
      "source": [
        ""
      ],
      "execution_count": 0,
      "outputs": []
    },
    {
      "cell_type": "code",
      "metadata": {
        "id": "qpzTXjevlVKi",
        "colab_type": "code",
        "colab": {}
      },
      "source": [
        ""
      ],
      "execution_count": 0,
      "outputs": []
    },
    {
      "cell_type": "code",
      "metadata": {
        "id": "tppO4rXhlVKm",
        "colab_type": "code",
        "colab": {}
      },
      "source": [
        ""
      ],
      "execution_count": 0,
      "outputs": []
    },
    {
      "cell_type": "code",
      "metadata": {
        "id": "j9TnqtfIlVKr",
        "colab_type": "code",
        "colab": {}
      },
      "source": [
        ""
      ],
      "execution_count": 0,
      "outputs": []
    },
    {
      "cell_type": "code",
      "metadata": {
        "id": "8UcghrO8lVKx",
        "colab_type": "code",
        "colab": {}
      },
      "source": [
        ""
      ],
      "execution_count": 0,
      "outputs": []
    }
  ]
}