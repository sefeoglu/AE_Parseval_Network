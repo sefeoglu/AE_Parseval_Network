{
  "nbformat": 4,
  "nbformat_minor": 0,
  "metadata": {
    "kernelspec": {
      "display_name": "Python 3",
      "language": "python",
      "name": "python3"
    },
    "language_info": {
      "codemirror_mode": {
        "name": "ipython",
        "version": 3
      },
      "file_extension": ".py",
      "mimetype": "text/x-python",
      "name": "python",
      "nbconvert_exporter": "python",
      "pygments_lexer": "ipython3",
      "version": "3.7.4"
    },
    "colab": {
      "name": "WResNet.ipynb",
      "provenance": []
    },
    "accelerator": "GPU"
  },
  "cells": [
    {
      "cell_type": "code",
      "metadata": {
        "id": "bM4Jt-bjlVI6",
        "colab_type": "code",
        "colab": {
          "base_uri": "https://localhost:8080/",
          "height": 34
        },
        "outputId": "ba64b99b-3604-46a0-eada-1d4e58906a74"
      },
      "source": [
        "import tensorflow as tf\n",
        "import keras\n",
        "\n"
      ],
      "execution_count": 1,
      "outputs": [
        {
          "output_type": "stream",
          "text": [
            "Using TensorFlow backend.\n"
          ],
          "name": "stderr"
        }
      ]
    },
    {
      "cell_type": "code",
      "metadata": {
        "id": "Z75KUVuslVJC",
        "colab_type": "code",
        "colab": {}
      },
      "source": [
        ""
      ],
      "execution_count": 0,
      "outputs": []
    },
    {
      "cell_type": "code",
      "metadata": {
        "id": "FZqJ5pXWlVJH",
        "colab_type": "code",
        "colab": {
          "base_uri": "https://localhost:8080/",
          "height": 544
        },
        "outputId": "7f75a26d-8fde-45d0-c94f-d6b17d4bd89d"
      },
      "source": [
        "from tensorflow.python.client import device_lib\n",
        "print(device_lib.list_local_devices())"
      ],
      "execution_count": 2,
      "outputs": [
        {
          "output_type": "stream",
          "text": [
            "[name: \"/device:CPU:0\"\n",
            "device_type: \"CPU\"\n",
            "memory_limit: 268435456\n",
            "locality {\n",
            "}\n",
            "incarnation: 8645891680405088204\n",
            ", name: \"/device:XLA_CPU:0\"\n",
            "device_type: \"XLA_CPU\"\n",
            "memory_limit: 17179869184\n",
            "locality {\n",
            "}\n",
            "incarnation: 16073571077437798775\n",
            "physical_device_desc: \"device: XLA_CPU device\"\n",
            ", name: \"/device:XLA_GPU:0\"\n",
            "device_type: \"XLA_GPU\"\n",
            "memory_limit: 17179869184\n",
            "locality {\n",
            "}\n",
            "incarnation: 7000102027655140843\n",
            "physical_device_desc: \"device: XLA_GPU device\"\n",
            ", name: \"/device:GPU:0\"\n",
            "device_type: \"GPU\"\n",
            "memory_limit: 11150726272\n",
            "locality {\n",
            "  bus_id: 1\n",
            "  links {\n",
            "  }\n",
            "}\n",
            "incarnation: 5403499405147449980\n",
            "physical_device_desc: \"device: 0, name: Tesla K80, pci bus id: 0000:00:04.0, compute capability: 3.7\"\n",
            "]\n"
          ],
          "name": "stdout"
        }
      ]
    },
    {
      "cell_type": "code",
      "metadata": {
        "id": "zTNQ1F1hlVJM",
        "colab_type": "code",
        "colab": {
          "base_uri": "https://localhost:8080/",
          "height": 1000
        },
        "outputId": "de9874ac-fb9a-4890-e01b-f1d9403ec1ba"
      },
      "source": [
        "from keras.models import Model\n",
        "from keras.layers import Input, Add, Activation, Dropout, Flatten, Dense\n",
        "from keras.layers.convolutional import Convolution2D, MaxPooling2D, AveragePooling2D\n",
        "from keras.layers.normalization import BatchNormalization\n",
        "from keras.regularizers import l2\n",
        "from keras import backend as K\n",
        "import warnings\n",
        "\n",
        "warnings.filterwarnings(\"ignore\")\n",
        "weight_decay = 0.0005\n",
        "\n",
        "\n",
        "def initial_conv(input):\n",
        "    x = Convolution2D(16, (3, 3), padding='same', kernel_initializer='he_normal',\n",
        "                      W_regularizer=l2(weight_decay),\n",
        "                      use_bias=False)(input)\n",
        "\n",
        "    channel_axis = 1 if K.image_data_format() == \"channels_first\" else -1\n",
        "\n",
        "    x = BatchNormalization(axis=channel_axis, momentum=0.1, epsilon=1e-5, gamma_initializer='uniform')(x)\n",
        "    x = Activation('relu')(x)\n",
        "    return x\n",
        "\n",
        "\n",
        "def expand_conv(init, base, k, strides=(1, 1)):\n",
        "    x = Convolution2D(base * k, (3, 3), padding='same', strides=strides, kernel_initializer='he_normal',\n",
        "                      W_regularizer=l2(weight_decay),\n",
        "                      use_bias=False)(init)\n",
        "\n",
        "    channel_axis = 1 if K.image_data_format() == \"channels_first\" else -1\n",
        "\n",
        "    x = BatchNormalization(axis=channel_axis, momentum=0.1, epsilon=1e-5, gamma_initializer='uniform')(x)\n",
        "    x = Activation('relu')(x)\n",
        "\n",
        "    x = Convolution2D(base * k, (3, 3), padding='same', kernel_initializer='he_normal',\n",
        "                      W_regularizer=l2(weight_decay),\n",
        "                      use_bias=False)(x)\n",
        "\n",
        "    skip = Convolution2D(base * k, (1, 1), padding='same', strides=strides, kernel_initializer='he_normal',\n",
        "                      W_regularizer=l2(weight_decay),\n",
        "                      use_bias=False)(init)\n",
        "\n",
        "    m = Add()([x, skip])\n",
        "\n",
        "    return m\n",
        "\n",
        "\n",
        "def conv1_block(input, k=1, dropout=0.0):\n",
        "    init = input\n",
        "\n",
        "    channel_axis = 1 if K.image_data_format() == \"channels_first\" else -1\n",
        "\n",
        "    x = BatchNormalization(axis=channel_axis, momentum=0.1, epsilon=1e-5, gamma_initializer='uniform')(input)\n",
        "    x = Activation('relu')(x)\n",
        "    x = Convolution2D(16 * k, (3, 3), padding='same', kernel_initializer='he_normal',\n",
        "                      W_regularizer=l2(weight_decay),\n",
        "                      use_bias=False)(x)\n",
        "\n",
        "    if dropout > 0.0: x = Dropout(dropout)(x)\n",
        "\n",
        "    x = BatchNormalization(axis=channel_axis, momentum=0.1, epsilon=1e-5, gamma_initializer='uniform')(x)\n",
        "    x = Activation('relu')(x)\n",
        "    x = Convolution2D(16 * k, (3, 3), padding='same', kernel_initializer='he_normal',\n",
        "                      W_regularizer=l2(weight_decay),\n",
        "                      use_bias=False)(x)\n",
        "\n",
        "    m = Add()([init, x])\n",
        "    return m\n",
        "\n",
        "def conv2_block(input, k=1, dropout=0.0):\n",
        "    init = input\n",
        "\n",
        "    channel_axis = 1 if K.common.image_dim_ordering() == \"th\" else -1\n",
        "\n",
        "    x = BatchNormalization(axis=channel_axis, momentum=0.1, epsilon=1e-5, gamma_initializer='uniform')(input)\n",
        "    x = Activation('relu')(x)\n",
        "    x = Convolution2D(32 * k, (3, 3), padding='same', kernel_initializer='he_normal',\n",
        "                      W_regularizer=l2(weight_decay),\n",
        "                      use_bias=False)(x)\n",
        "\n",
        "    if dropout > 0.0: x = Dropout(dropout)(x)\n",
        "\n",
        "    x = BatchNormalization(axis=channel_axis, momentum=0.1, epsilon=1e-5, gamma_initializer='uniform')(x)\n",
        "    x = Activation('relu')(x)\n",
        "    x = Convolution2D(32 * k, (3, 3), padding='same', kernel_initializer='he_normal',\n",
        "                      W_regularizer=l2(weight_decay),\n",
        "                      use_bias=False)(x)\n",
        "\n",
        "    m = Add()([init, x])\n",
        "    return m\n",
        "\n",
        "def conv3_block(input, k=1, dropout=0.0):\n",
        "    init = input\n",
        "\n",
        "    channel_axis = 1 if K.common.image_dim_ordering() == \"th\" else -1\n",
        "\n",
        "    x = BatchNormalization(axis=channel_axis, momentum=0.1, epsilon=1e-5, gamma_initializer='uniform')(input)\n",
        "    x = Activation('relu')(x)\n",
        "    x = Convolution2D(64 * k, (3, 3), padding='same', kernel_initializer='he_normal',\n",
        "                      W_regularizer=l2(weight_decay),\n",
        "                      use_bias=False)(x)\n",
        "\n",
        "    if dropout > 0.0: x = Dropout(dropout)(x)\n",
        "\n",
        "    x = BatchNormalization(axis=channel_axis, momentum=0.1, epsilon=1e-5, gamma_initializer='uniform')(x)\n",
        "    x = Activation('relu')(x)\n",
        "    x = Convolution2D(64 * k, (3, 3), padding='same', kernel_initializer='he_normal',\n",
        "                      W_regularizer=l2(weight_decay),\n",
        "                      use_bias=False)(x)\n",
        "\n",
        "    m = Add()([init, x])\n",
        "    return m\n",
        "\n",
        "def create_wide_residual_network(input_dim, nb_classes=100, N=2, k=1, dropout=0.0, verbose=1):\n",
        "    \"\"\"\n",
        "    Creates a Wide Residual Network with specified parameters\n",
        "\n",
        "    :param input: Input Keras object\n",
        "    :param nb_classes: Number of output classes\n",
        "    :param N: Depth of the network. Compute N = (n - 4) / 6.\n",
        "              Example : For a depth of 16, n = 16, N = (16 - 4) / 6 = 2\n",
        "              Example2: For a depth of 28, n = 28, N = (28 - 4) / 6 = 4\n",
        "              Example3: For a depth of 40, n = 40, N = (40 - 4) / 6 = 6\n",
        "    :param k: Width of the network.\n",
        "    :param dropout: Adds dropout if value is greater than 0.0\n",
        "    :param verbose: Debug info to describe created WRN\n",
        "    :return:\n",
        "    \"\"\"\n",
        "    channel_axis = 1 if K.common.image_data_format() == \"channels_first\" else -1\n",
        "\n",
        "    ip = Input(shape=input_dim)\n",
        "\n",
        "    x = initial_conv(ip)\n",
        "    nb_conv = 4\n",
        "\n",
        "    x = expand_conv(x, 16, k)\n",
        "    nb_conv += 2\n",
        "\n",
        "    for i in range(N - 1):\n",
        "        x = conv1_block(x, k, dropout)\n",
        "        nb_conv += 2\n",
        "\n",
        "    x = BatchNormalization(axis=channel_axis, momentum=0.1, epsilon=1e-5, gamma_initializer='uniform')(x)\n",
        "    x = Activation('relu')(x)\n",
        "\n",
        "    x = expand_conv(x, 32, k, strides=(2, 2))\n",
        "    nb_conv += 2\n",
        "\n",
        "    for i in range(N - 1):\n",
        "        x = conv2_block(x, k, dropout)\n",
        "        nb_conv += 2\n",
        "\n",
        "    x = BatchNormalization(axis=channel_axis, momentum=0.1, epsilon=1e-5, gamma_initializer='uniform')(x)\n",
        "    x = Activation('relu')(x)\n",
        "\n",
        "    x = expand_conv(x, 64, k, strides=(2, 2))\n",
        "    nb_conv += 2\n",
        "\n",
        "    for i in range(N - 1):\n",
        "        x = conv3_block(x, k, dropout)\n",
        "        nb_conv += 2\n",
        "\n",
        "    x = BatchNormalization(axis=channel_axis, momentum=0.1, epsilon=1e-5, gamma_initializer='uniform')(x)\n",
        "    x = Activation('relu')(x)\n",
        "\n",
        "    x = AveragePooling2D((8, 8))(x)\n",
        "    x = Flatten()(x)\n",
        "\n",
        "    x = Dense(nb_classes, W_regularizer=l2(weight_decay), activation='softmax')(x)\n",
        "\n",
        "    model = Model(ip, x)\n",
        "\n",
        "    if verbose: print(\"Wide Residual Network-%d-%d created.\" % (nb_conv, k))\n",
        "    return model\n",
        "\n",
        "if __name__ == \"__main__\":\n",
        "    from keras.utils import plot_model\n",
        "    from keras.layers import Input\n",
        "    from keras.models import Model\n",
        "\n",
        "    init = (68, 100,1)\n",
        "\n",
        "    wrn_28_10 = create_wide_residual_network(init, nb_classes=4, N=2, k=2, dropout=0.0)\n",
        "\n",
        "    wrn_28_10.summary()\n",
        "\n",
        "   # plot_model(wrn_28_10, \"WRN-16-2.png\", show_shapes=True, show_layer_names=True)\n"
      ],
      "execution_count": 3,
      "outputs": [
        {
          "output_type": "stream",
          "text": [
            "Wide Residual Network-16-2 created.\n",
            "Model: \"model_1\"\n",
            "__________________________________________________________________________________________________\n",
            "Layer (type)                    Output Shape         Param #     Connected to                     \n",
            "==================================================================================================\n",
            "input_1 (InputLayer)            (None, 68, 100, 1)   0                                            \n",
            "__________________________________________________________________________________________________\n",
            "conv2d_1 (Conv2D)               (None, 68, 100, 16)  144         input_1[0][0]                    \n",
            "__________________________________________________________________________________________________\n",
            "batch_normalization_1 (BatchNor (None, 68, 100, 16)  64          conv2d_1[0][0]                   \n",
            "__________________________________________________________________________________________________\n",
            "activation_1 (Activation)       (None, 68, 100, 16)  0           batch_normalization_1[0][0]      \n",
            "__________________________________________________________________________________________________\n",
            "conv2d_2 (Conv2D)               (None, 68, 100, 32)  4608        activation_1[0][0]               \n",
            "__________________________________________________________________________________________________\n",
            "batch_normalization_2 (BatchNor (None, 68, 100, 32)  128         conv2d_2[0][0]                   \n",
            "__________________________________________________________________________________________________\n",
            "activation_2 (Activation)       (None, 68, 100, 32)  0           batch_normalization_2[0][0]      \n",
            "__________________________________________________________________________________________________\n",
            "conv2d_3 (Conv2D)               (None, 68, 100, 32)  9216        activation_2[0][0]               \n",
            "__________________________________________________________________________________________________\n",
            "conv2d_4 (Conv2D)               (None, 68, 100, 32)  512         activation_1[0][0]               \n",
            "__________________________________________________________________________________________________\n",
            "add_1 (Add)                     (None, 68, 100, 32)  0           conv2d_3[0][0]                   \n",
            "                                                                 conv2d_4[0][0]                   \n",
            "__________________________________________________________________________________________________\n",
            "batch_normalization_3 (BatchNor (None, 68, 100, 32)  128         add_1[0][0]                      \n",
            "__________________________________________________________________________________________________\n",
            "activation_3 (Activation)       (None, 68, 100, 32)  0           batch_normalization_3[0][0]      \n",
            "__________________________________________________________________________________________________\n",
            "conv2d_5 (Conv2D)               (None, 68, 100, 32)  9216        activation_3[0][0]               \n",
            "__________________________________________________________________________________________________\n",
            "batch_normalization_4 (BatchNor (None, 68, 100, 32)  128         conv2d_5[0][0]                   \n",
            "__________________________________________________________________________________________________\n",
            "activation_4 (Activation)       (None, 68, 100, 32)  0           batch_normalization_4[0][0]      \n",
            "__________________________________________________________________________________________________\n",
            "conv2d_6 (Conv2D)               (None, 68, 100, 32)  9216        activation_4[0][0]               \n",
            "__________________________________________________________________________________________________\n",
            "add_2 (Add)                     (None, 68, 100, 32)  0           add_1[0][0]                      \n",
            "                                                                 conv2d_6[0][0]                   \n",
            "__________________________________________________________________________________________________\n",
            "batch_normalization_5 (BatchNor (None, 68, 100, 32)  128         add_2[0][0]                      \n",
            "__________________________________________________________________________________________________\n",
            "activation_5 (Activation)       (None, 68, 100, 32)  0           batch_normalization_5[0][0]      \n",
            "__________________________________________________________________________________________________\n",
            "conv2d_7 (Conv2D)               (None, 34, 50, 64)   18432       activation_5[0][0]               \n",
            "__________________________________________________________________________________________________\n",
            "batch_normalization_6 (BatchNor (None, 34, 50, 64)   256         conv2d_7[0][0]                   \n",
            "__________________________________________________________________________________________________\n",
            "activation_6 (Activation)       (None, 34, 50, 64)   0           batch_normalization_6[0][0]      \n",
            "__________________________________________________________________________________________________\n",
            "conv2d_8 (Conv2D)               (None, 34, 50, 64)   36864       activation_6[0][0]               \n",
            "__________________________________________________________________________________________________\n",
            "conv2d_9 (Conv2D)               (None, 34, 50, 64)   2048        activation_5[0][0]               \n",
            "__________________________________________________________________________________________________\n",
            "add_3 (Add)                     (None, 34, 50, 64)   0           conv2d_8[0][0]                   \n",
            "                                                                 conv2d_9[0][0]                   \n",
            "__________________________________________________________________________________________________\n",
            "batch_normalization_7 (BatchNor (None, 34, 50, 64)   256         add_3[0][0]                      \n",
            "__________________________________________________________________________________________________\n",
            "activation_7 (Activation)       (None, 34, 50, 64)   0           batch_normalization_7[0][0]      \n",
            "__________________________________________________________________________________________________\n",
            "conv2d_10 (Conv2D)              (None, 34, 50, 64)   36864       activation_7[0][0]               \n",
            "__________________________________________________________________________________________________\n",
            "batch_normalization_8 (BatchNor (None, 34, 50, 64)   256         conv2d_10[0][0]                  \n",
            "__________________________________________________________________________________________________\n",
            "activation_8 (Activation)       (None, 34, 50, 64)   0           batch_normalization_8[0][0]      \n",
            "__________________________________________________________________________________________________\n",
            "conv2d_11 (Conv2D)              (None, 34, 50, 64)   36864       activation_8[0][0]               \n",
            "__________________________________________________________________________________________________\n",
            "add_4 (Add)                     (None, 34, 50, 64)   0           add_3[0][0]                      \n",
            "                                                                 conv2d_11[0][0]                  \n",
            "__________________________________________________________________________________________________\n",
            "batch_normalization_9 (BatchNor (None, 34, 50, 64)   256         add_4[0][0]                      \n",
            "__________________________________________________________________________________________________\n",
            "activation_9 (Activation)       (None, 34, 50, 64)   0           batch_normalization_9[0][0]      \n",
            "__________________________________________________________________________________________________\n",
            "conv2d_12 (Conv2D)              (None, 17, 25, 128)  73728       activation_9[0][0]               \n",
            "__________________________________________________________________________________________________\n",
            "batch_normalization_10 (BatchNo (None, 17, 25, 128)  512         conv2d_12[0][0]                  \n",
            "__________________________________________________________________________________________________\n",
            "activation_10 (Activation)      (None, 17, 25, 128)  0           batch_normalization_10[0][0]     \n",
            "__________________________________________________________________________________________________\n",
            "conv2d_13 (Conv2D)              (None, 17, 25, 128)  147456      activation_10[0][0]              \n",
            "__________________________________________________________________________________________________\n",
            "conv2d_14 (Conv2D)              (None, 17, 25, 128)  8192        activation_9[0][0]               \n",
            "__________________________________________________________________________________________________\n",
            "add_5 (Add)                     (None, 17, 25, 128)  0           conv2d_13[0][0]                  \n",
            "                                                                 conv2d_14[0][0]                  \n",
            "__________________________________________________________________________________________________\n",
            "batch_normalization_11 (BatchNo (None, 17, 25, 128)  512         add_5[0][0]                      \n",
            "__________________________________________________________________________________________________\n",
            "activation_11 (Activation)      (None, 17, 25, 128)  0           batch_normalization_11[0][0]     \n",
            "__________________________________________________________________________________________________\n",
            "conv2d_15 (Conv2D)              (None, 17, 25, 128)  147456      activation_11[0][0]              \n",
            "__________________________________________________________________________________________________\n",
            "batch_normalization_12 (BatchNo (None, 17, 25, 128)  512         conv2d_15[0][0]                  \n",
            "__________________________________________________________________________________________________\n",
            "activation_12 (Activation)      (None, 17, 25, 128)  0           batch_normalization_12[0][0]     \n",
            "__________________________________________________________________________________________________\n",
            "conv2d_16 (Conv2D)              (None, 17, 25, 128)  147456      activation_12[0][0]              \n",
            "__________________________________________________________________________________________________\n",
            "add_6 (Add)                     (None, 17, 25, 128)  0           add_5[0][0]                      \n",
            "                                                                 conv2d_16[0][0]                  \n",
            "__________________________________________________________________________________________________\n",
            "batch_normalization_13 (BatchNo (None, 17, 25, 128)  512         add_6[0][0]                      \n",
            "__________________________________________________________________________________________________\n",
            "activation_13 (Activation)      (None, 17, 25, 128)  0           batch_normalization_13[0][0]     \n",
            "__________________________________________________________________________________________________\n",
            "average_pooling2d_1 (AveragePoo (None, 2, 3, 128)    0           activation_13[0][0]              \n",
            "__________________________________________________________________________________________________\n",
            "flatten_1 (Flatten)             (None, 768)          0           average_pooling2d_1[0][0]        \n",
            "__________________________________________________________________________________________________\n",
            "dense_1 (Dense)                 (None, 4)            3076        flatten_1[0][0]                  \n",
            "==================================================================================================\n",
            "Total params: 694,996\n",
            "Trainable params: 693,172\n",
            "Non-trainable params: 1,824\n",
            "__________________________________________________________________________________________________\n"
          ],
          "name": "stdout"
        }
      ]
    },
    {
      "cell_type": "markdown",
      "metadata": {
        "id": "qTjrjOyAlVJR",
        "colab_type": "text"
      },
      "source": [
        "## Train"
      ]
    },
    {
      "cell_type": "code",
      "metadata": {
        "id": "WDBUYk7UlVJR",
        "colab_type": "code",
        "colab": {}
      },
      "source": [
        "from sklearn.model_selection import train_test_split\n",
        "import gzip\n",
        "import pickle\n",
        "import numpy as np\n"
      ],
      "execution_count": 0,
      "outputs": []
    },
    {
      "cell_type": "code",
      "metadata": {
        "id": "dVYpCeUrlVJW",
        "colab_type": "code",
        "colab": {
          "base_uri": "https://localhost:8080/",
          "height": 34
        },
        "outputId": "f62a6258-50d9-49d2-db5c-c63fe53c870f"
      },
      "source": [
        "def read_data():\n",
        "    with open(\"data.pz\", 'rb') as file_:\n",
        "        with gzip.GzipFile(fileobj=file_) as gzf:\n",
        "            data = pickle.load(gzf, encoding='latin1', fix_imports=True)\n",
        "    return data\n",
        "data = read_data()\n",
        "new_data_X = []\n",
        "Y_data = []\n",
        "for row in data:\n",
        "    new_data_X.append(row['crop'])\n",
        "    Y_data.append(row['label'])\n",
        "new_data_X = np.array(new_data_X)\n",
        "new_data_X.shape"
      ],
      "execution_count": 5,
      "outputs": [
        {
          "output_type": "execute_result",
          "data": {
            "text/plain": [
              "(5722, 68, 100)"
            ]
          },
          "metadata": {
            "tags": []
          },
          "execution_count": 5
        }
      ]
    },
    {
      "cell_type": "code",
      "metadata": {
        "id": "NR9pAOHKlVJb",
        "colab_type": "code",
        "colab": {}
      },
      "source": [
        "X_train, X_test, y_train, y_test = train_test_split(new_data_X, Y_data, test_size=0.33, random_state=42)"
      ],
      "execution_count": 0,
      "outputs": []
    },
    {
      "cell_type": "code",
      "metadata": {
        "id": "OLXkjB3OlVJg",
        "colab_type": "code",
        "colab": {}
      },
      "source": [
        "X_train = X_train.astype('float32')\n",
        "X_test = X_test.astype('float32')"
      ],
      "execution_count": 0,
      "outputs": []
    },
    {
      "cell_type": "code",
      "metadata": {
        "id": "qdneiMC7lVJl",
        "colab_type": "code",
        "colab": {}
      },
      "source": [
        "import pandas as pd\n",
        "import numpy as np\n",
        "from sklearn.preprocessing import LabelEncoder\n",
        "# creating initial dataframe\n",
        "\n",
        "y_train_df = pd.DataFrame(y_train, columns=['Label'])\n",
        "# creating instance of labelencoder\n",
        "labelencoder = LabelEncoder()\n",
        "# Assigning numerical values and storing in another column\n",
        "y_train_df['New'] = labelencoder.fit_transform(y_train_df['Label'])\n",
        "y_test_df = pd.DataFrame(y_test, columns=['Label'])\n",
        "# creating instance of labelencoder\n",
        "labelencoder = LabelEncoder()\n",
        "# Assigning numerical values and storing in another column\n",
        "y_test_df['New'] = labelencoder.fit_transform(y_test_df['Label'])"
      ],
      "execution_count": 0,
      "outputs": []
    },
    {
      "cell_type": "code",
      "metadata": {
        "id": "bwbRj89tlVJp",
        "colab_type": "code",
        "colab": {}
      },
      "source": [
        ""
      ],
      "execution_count": 0,
      "outputs": []
    },
    {
      "cell_type": "code",
      "metadata": {
        "id": "oA9IwliGlVJt",
        "colab_type": "code",
        "colab": {}
      },
      "source": [
        "from keras.preprocessing.image import ImageDataGenerator\n",
        "import keras.callbacks as callbacks\n",
        "import keras.utils.np_utils as kutils"
      ],
      "execution_count": 0,
      "outputs": []
    },
    {
      "cell_type": "code",
      "metadata": {
        "id": "wMgoWxaklVJx",
        "colab_type": "code",
        "colab": {}
      },
      "source": [
        "EPOCHS = 100\n",
        "BS = 128\n",
        "# construct the training image generator for data augmentation\n",
        "aug = ImageDataGenerator(rotation_range=20, zoom_range=0.15,\n",
        "width_shift_range=0.2, height_shift_range=0.2, shear_range=0.15,\n",
        "horizontal_flip=True, fill_mode=\"nearest\")"
      ],
      "execution_count": 0,
      "outputs": []
    },
    {
      "cell_type": "code",
      "metadata": {
        "id": "vrX48KBplVJ2",
        "colab_type": "code",
        "colab": {}
      },
      "source": [
        "img_rows, img_cols = X_train[0].shape\n",
        "\n",
        "\n",
        "# transform data set\n",
        "if K.common.image_data_format() == 'channels_first':\n",
        "    X_train = X_train.reshape(X_train.shape[0], 1, img_rows, img_cols)\n",
        "    X_test = X_test.reshape(X_test.shape[0], 1, img_rows, img_cols)\n",
        "    input_shape = (1, img_rows, img_cols)\n",
        "else:\n",
        "    X_train = X_train.reshape(X_train.shape[0], img_rows, img_cols, 1)\n",
        "    X_test = X_test.reshape(X_test.shape[0], img_rows, img_cols, 1)\n",
        "    input_shape = (img_rows, img_cols, 1)"
      ],
      "execution_count": 0,
      "outputs": []
    },
    {
      "cell_type": "code",
      "metadata": {
        "id": "tnAMOCV-lVJ6",
        "colab_type": "code",
        "colab": {}
      },
      "source": [
        "\n",
        "from keras.callbacks import LearningRateScheduler\n",
        "import math\n",
        "from keras.optimizers import SGD\n",
        "def step_decay(epoch):\n",
        "  initial_lrate = 0.1\n",
        "  drop = 0.2\n",
        "  epochs_drop = 60\n",
        "  lrate = 0.1\n",
        "  if math.floor((1+epoch)/epochs_drop) !=0:\n",
        "    lrate = initial_lrate*math.pow(drop,math.floor((1+epoch)/epochs_drop))\n",
        "  return lrate\n",
        " \n",
        "sgd = SGD(lr=0.1, momentum=0.9)"
      ],
      "execution_count": 0,
      "outputs": []
    },
    {
      "cell_type": "code",
      "metadata": {
        "id": "JZ-tuVr6lVJ-",
        "colab_type": "code",
        "colab": {
          "base_uri": "https://localhost:8080/",
          "height": 34
        },
        "outputId": "d8a33c62-949a-4782-f445-0895dae405fa"
      },
      "source": [
        "wrn_28_10.compile(loss=\"categorical_crossentropy\", optimizer=sgd, metrics=[\"acc\"])\n",
        "print(\"Finished compiling\")\n"
      ],
      "execution_count": 13,
      "outputs": [
        {
          "output_type": "stream",
          "text": [
            "Finished compiling\n"
          ],
          "name": "stdout"
        }
      ]
    },
    {
      "cell_type": "code",
      "metadata": {
        "id": "kl_-nmapa7qr",
        "colab_type": "code",
        "colab": {
          "base_uri": "https://localhost:8080/",
          "height": 1000
        },
        "outputId": "10d983a5-40a1-4742-8350-05357d9d6175"
      },
      "source": [
        "from keras.utils import to_categorical\n",
        "\n",
        "# learning schedule callback\n",
        "lrate = LearningRateScheduler(step_decay)\n",
        "callbacks_list = [lrate]\n",
        "# Fit the model\n",
        "hist = wrn_28_10.fit(X_train, to_categorical(y_train_df['New']), validation_split=0.33, epochs=EPOCHS, batch_size=BS, verbose=2, callbacks=callbacks_list)"
      ],
      "execution_count": 14,
      "outputs": [
        {
          "output_type": "stream",
          "text": [
            "2568/2568 [==============================] - 24s 9ms/step - loss: 2.4853 - acc: 0.3326 - val_loss: 2.5886 - val_acc: 0.2751\n",
            "Epoch 2/200\n",
            "2568/2568 [==============================] - 18s 7ms/step - loss: 2.3577 - acc: 0.3898 - val_loss: 2.4395 - val_acc: 0.3462\n",
            "Epoch 3/200\n",
            "2568/2568 [==============================] - 18s 7ms/step - loss: 2.2977 - acc: 0.4073 - val_loss: 2.2589 - val_acc: 0.4229\n",
            "Epoch 4/200\n",
            "2568/2568 [==============================] - 18s 7ms/step - loss: 2.2581 - acc: 0.4143 - val_loss: 2.2949 - val_acc: 0.4174\n",
            "Epoch 5/200\n",
            "2568/2568 [==============================] - 18s 7ms/step - loss: 2.1728 - acc: 0.4330 - val_loss: 2.1829 - val_acc: 0.4245\n",
            "Epoch 6/200\n",
            "2568/2568 [==============================] - 18s 7ms/step - loss: 2.0995 - acc: 0.4529 - val_loss: 2.2563 - val_acc: 0.4134\n",
            "Epoch 7/200\n",
            "2568/2568 [==============================] - 18s 7ms/step - loss: 2.0170 - acc: 0.4891 - val_loss: 2.0742 - val_acc: 0.4664\n",
            "Epoch 8/200\n",
            "2568/2568 [==============================] - 18s 7ms/step - loss: 1.9700 - acc: 0.5047 - val_loss: 2.1736 - val_acc: 0.3968\n",
            "Epoch 9/200\n",
            "2568/2568 [==============================] - 18s 7ms/step - loss: 1.9203 - acc: 0.5265 - val_loss: 2.0902 - val_acc: 0.4387\n",
            "Epoch 10/200\n",
            "2568/2568 [==============================] - 18s 7ms/step - loss: 1.8420 - acc: 0.5615 - val_loss: 1.9860 - val_acc: 0.4791\n",
            "Epoch 11/200\n",
            "2568/2568 [==============================] - 18s 7ms/step - loss: 1.7621 - acc: 0.5744 - val_loss: 1.8371 - val_acc: 0.5447\n",
            "Epoch 12/200\n",
            "2568/2568 [==============================] - 18s 7ms/step - loss: 1.7019 - acc: 0.5985 - val_loss: 1.7257 - val_acc: 0.5676\n",
            "Epoch 13/200\n",
            "2568/2568 [==============================] - 18s 7ms/step - loss: 1.6334 - acc: 0.6211 - val_loss: 1.8325 - val_acc: 0.5431\n",
            "Epoch 14/200\n",
            "2568/2568 [==============================] - 18s 7ms/step - loss: 1.6678 - acc: 0.5814 - val_loss: 1.6771 - val_acc: 0.5881\n",
            "Epoch 15/200\n",
            "2568/2568 [==============================] - 18s 7ms/step - loss: 1.5466 - acc: 0.6359 - val_loss: 1.7750 - val_acc: 0.5644\n",
            "Epoch 16/200\n",
            "2568/2568 [==============================] - 18s 7ms/step - loss: 1.5650 - acc: 0.6168 - val_loss: 1.6414 - val_acc: 0.5960\n",
            "Epoch 17/200\n",
            "2568/2568 [==============================] - 18s 7ms/step - loss: 1.4599 - acc: 0.6651 - val_loss: 1.5073 - val_acc: 0.6466\n",
            "Epoch 18/200\n",
            "2568/2568 [==============================] - 18s 7ms/step - loss: 1.3653 - acc: 0.6776 - val_loss: 1.8107 - val_acc: 0.5012\n",
            "Epoch 19/200\n",
            "2568/2568 [==============================] - 18s 7ms/step - loss: 1.5064 - acc: 0.6281 - val_loss: 2.0860 - val_acc: 0.4292\n",
            "Epoch 20/200\n",
            "2568/2568 [==============================] - 18s 7ms/step - loss: 1.4436 - acc: 0.6507 - val_loss: 1.4484 - val_acc: 0.6458\n",
            "Epoch 21/200\n",
            "2568/2568 [==============================] - 18s 7ms/step - loss: 1.3039 - acc: 0.7091 - val_loss: 1.6909 - val_acc: 0.5897\n",
            "Epoch 22/200\n",
            "2568/2568 [==============================] - 18s 7ms/step - loss: 1.3592 - acc: 0.6636 - val_loss: 1.3708 - val_acc: 0.6577\n",
            "Epoch 23/200\n",
            "2568/2568 [==============================] - 18s 7ms/step - loss: 1.2641 - acc: 0.7083 - val_loss: 1.5084 - val_acc: 0.5984\n",
            "Epoch 24/200\n",
            "2568/2568 [==============================] - 18s 7ms/step - loss: 1.2400 - acc: 0.7142 - val_loss: 1.5047 - val_acc: 0.6016\n",
            "Epoch 25/200\n",
            "2568/2568 [==============================] - 18s 7ms/step - loss: 1.1788 - acc: 0.7247 - val_loss: 1.4532 - val_acc: 0.6206\n",
            "Epoch 26/200\n",
            "2568/2568 [==============================] - 18s 7ms/step - loss: 1.1082 - acc: 0.7590 - val_loss: 1.4753 - val_acc: 0.6166\n",
            "Epoch 27/200\n",
            "2568/2568 [==============================] - 18s 7ms/step - loss: 1.1697 - acc: 0.7138 - val_loss: 1.4514 - val_acc: 0.6269\n",
            "Epoch 28/200\n",
            "2568/2568 [==============================] - 18s 7ms/step - loss: 1.0750 - acc: 0.7687 - val_loss: 1.4685 - val_acc: 0.6395\n",
            "Epoch 29/200\n",
            "2568/2568 [==============================] - 18s 7ms/step - loss: 1.0041 - acc: 0.7843 - val_loss: 1.3194 - val_acc: 0.6783\n",
            "Epoch 30/200\n",
            "2568/2568 [==============================] - 18s 7ms/step - loss: 1.0600 - acc: 0.7570 - val_loss: 1.3645 - val_acc: 0.6545\n",
            "Epoch 31/200\n",
            "2568/2568 [==============================] - 18s 7ms/step - loss: 1.0497 - acc: 0.7539 - val_loss: 1.3318 - val_acc: 0.6411\n",
            "Epoch 32/200\n",
            "2568/2568 [==============================] - 18s 7ms/step - loss: 0.9413 - acc: 0.7991 - val_loss: 1.5271 - val_acc: 0.5779\n",
            "Epoch 33/200\n",
            "2568/2568 [==============================] - 18s 7ms/step - loss: 0.9953 - acc: 0.7714 - val_loss: 1.3267 - val_acc: 0.6609\n",
            "Epoch 34/200\n",
            "2568/2568 [==============================] - 18s 7ms/step - loss: 0.8967 - acc: 0.8107 - val_loss: 1.4197 - val_acc: 0.6553\n",
            "Epoch 35/200\n",
            "2568/2568 [==============================] - 18s 7ms/step - loss: 0.8147 - acc: 0.8466 - val_loss: 1.2999 - val_acc: 0.6893\n",
            "Epoch 36/200\n",
            "2568/2568 [==============================] - 18s 7ms/step - loss: 0.7755 - acc: 0.8540 - val_loss: 1.4454 - val_acc: 0.6862\n",
            "Epoch 37/200\n",
            "2568/2568 [==============================] - 18s 7ms/step - loss: 0.7373 - acc: 0.8734 - val_loss: 1.5153 - val_acc: 0.6490\n",
            "Epoch 38/200\n",
            "2568/2568 [==============================] - 18s 7ms/step - loss: 0.7533 - acc: 0.8606 - val_loss: 1.4757 - val_acc: 0.6395\n",
            "Epoch 39/200\n",
            "2568/2568 [==============================] - 18s 7ms/step - loss: 0.6838 - acc: 0.8851 - val_loss: 1.4070 - val_acc: 0.6656\n",
            "Epoch 40/200\n",
            "2568/2568 [==============================] - 18s 7ms/step - loss: 0.7209 - acc: 0.8711 - val_loss: 1.3968 - val_acc: 0.6964\n",
            "Epoch 41/200\n",
            "2568/2568 [==============================] - 18s 7ms/step - loss: 0.5982 - acc: 0.9229 - val_loss: 1.3581 - val_acc: 0.6862\n",
            "Epoch 42/200\n",
            "2568/2568 [==============================] - 18s 7ms/step - loss: 0.5528 - acc: 0.9361 - val_loss: 1.3857 - val_acc: 0.6949\n",
            "Epoch 43/200\n",
            "2568/2568 [==============================] - 18s 7ms/step - loss: 0.4917 - acc: 0.9525 - val_loss: 1.5618 - val_acc: 0.6609\n",
            "Epoch 44/200\n",
            "2568/2568 [==============================] - 18s 7ms/step - loss: 0.4939 - acc: 0.9537 - val_loss: 1.7721 - val_acc: 0.6735\n",
            "Epoch 45/200\n",
            "2568/2568 [==============================] - 18s 7ms/step - loss: 0.6820 - acc: 0.8731 - val_loss: 2.2097 - val_acc: 0.6032\n",
            "Epoch 46/200\n",
            "2568/2568 [==============================] - 18s 7ms/step - loss: 1.0600 - acc: 0.7426 - val_loss: 1.4596 - val_acc: 0.6474\n",
            "Epoch 47/200\n",
            "2568/2568 [==============================] - 18s 7ms/step - loss: 0.8173 - acc: 0.8287 - val_loss: 1.5077 - val_acc: 0.6538\n",
            "Epoch 48/200\n",
            "2568/2568 [==============================] - 18s 7ms/step - loss: 0.7703 - acc: 0.8427 - val_loss: 1.7395 - val_acc: 0.6348\n",
            "Epoch 49/200\n",
            "2568/2568 [==============================] - 18s 7ms/step - loss: 0.6646 - acc: 0.8879 - val_loss: 1.6342 - val_acc: 0.6680\n",
            "Epoch 50/200\n",
            "2568/2568 [==============================] - 18s 7ms/step - loss: 0.6402 - acc: 0.8952 - val_loss: 1.4408 - val_acc: 0.6672\n",
            "Epoch 51/200\n",
            "2568/2568 [==============================] - 18s 7ms/step - loss: 0.6041 - acc: 0.9198 - val_loss: 1.4969 - val_acc: 0.6893\n",
            "Epoch 52/200\n",
            "2568/2568 [==============================] - 18s 7ms/step - loss: 0.5558 - acc: 0.9350 - val_loss: 1.5173 - val_acc: 0.6877\n",
            "Epoch 53/200\n",
            "2568/2568 [==============================] - 18s 7ms/step - loss: 0.4680 - acc: 0.9677 - val_loss: 1.8309 - val_acc: 0.6648\n",
            "Epoch 54/200\n",
            "2568/2568 [==============================] - 18s 7ms/step - loss: 0.4601 - acc: 0.9638 - val_loss: 1.6682 - val_acc: 0.6395\n",
            "Epoch 55/200\n",
            "2568/2568 [==============================] - 18s 7ms/step - loss: 0.5193 - acc: 0.9369 - val_loss: 1.8315 - val_acc: 0.6727\n",
            "Epoch 56/200\n",
            "2568/2568 [==============================] - 18s 7ms/step - loss: 0.5982 - acc: 0.9011 - val_loss: 1.8513 - val_acc: 0.6640\n",
            "Epoch 57/200\n",
            "2568/2568 [==============================] - 18s 7ms/step - loss: 0.5026 - acc: 0.9463 - val_loss: 1.8682 - val_acc: 0.6846\n",
            "Epoch 58/200\n",
            "2568/2568 [==============================] - 18s 7ms/step - loss: 0.5180 - acc: 0.9369 - val_loss: 1.7047 - val_acc: 0.6498\n",
            "Epoch 59/200\n",
            "2568/2568 [==============================] - 18s 7ms/step - loss: 0.4970 - acc: 0.9502 - val_loss: 1.8598 - val_acc: 0.6087\n",
            "Epoch 60/200\n",
            "2568/2568 [==============================] - 18s 7ms/step - loss: 0.4266 - acc: 0.9747 - val_loss: 1.5429 - val_acc: 0.6759\n",
            "Epoch 61/200\n",
            "2568/2568 [==============================] - 18s 7ms/step - loss: 0.3829 - acc: 0.9864 - val_loss: 1.6608 - val_acc: 0.6925\n",
            "Epoch 62/200\n",
            "2568/2568 [==============================] - 18s 7ms/step - loss: 0.3520 - acc: 0.9953 - val_loss: 1.9957 - val_acc: 0.6672\n",
            "Epoch 63/200\n",
            "2568/2568 [==============================] - 18s 7ms/step - loss: 0.3357 - acc: 0.9961 - val_loss: 1.6872 - val_acc: 0.6846\n",
            "Epoch 64/200\n",
            "2568/2568 [==============================] - 18s 7ms/step - loss: 0.3176 - acc: 0.9988 - val_loss: 1.8168 - val_acc: 0.6751\n",
            "Epoch 65/200\n",
            "2568/2568 [==============================] - 18s 7ms/step - loss: 0.2996 - acc: 1.0000 - val_loss: 1.5721 - val_acc: 0.7020\n",
            "Epoch 66/200\n",
            "2568/2568 [==============================] - 18s 7ms/step - loss: 0.2857 - acc: 1.0000 - val_loss: 1.5594 - val_acc: 0.7059\n",
            "Epoch 67/200\n",
            "2568/2568 [==============================] - 18s 7ms/step - loss: 0.2737 - acc: 1.0000 - val_loss: 1.6225 - val_acc: 0.7036\n",
            "Epoch 68/200\n",
            "2568/2568 [==============================] - 18s 7ms/step - loss: 0.2624 - acc: 1.0000 - val_loss: 1.6638 - val_acc: 0.7075\n",
            "Epoch 69/200\n",
            "2568/2568 [==============================] - 18s 7ms/step - loss: 0.2517 - acc: 1.0000 - val_loss: 1.5097 - val_acc: 0.6949\n",
            "Epoch 70/200\n",
            "2568/2568 [==============================] - 18s 7ms/step - loss: 0.2417 - acc: 1.0000 - val_loss: 1.6374 - val_acc: 0.6870\n",
            "Epoch 71/200\n",
            "2568/2568 [==============================] - 18s 7ms/step - loss: 0.2662 - acc: 0.9918 - val_loss: 1.5836 - val_acc: 0.6458\n",
            "Epoch 72/200\n",
            "2568/2568 [==============================] - 18s 7ms/step - loss: 0.3094 - acc: 0.9731 - val_loss: 2.9048 - val_acc: 0.5289\n",
            "Epoch 73/200\n",
            "2568/2568 [==============================] - 18s 7ms/step - loss: 0.8719 - acc: 0.7776 - val_loss: 2.3979 - val_acc: 0.5123\n",
            "Epoch 74/200\n",
            "2568/2568 [==============================] - 18s 7ms/step - loss: 0.8139 - acc: 0.7979 - val_loss: 1.8527 - val_acc: 0.5739\n",
            "Epoch 75/200\n",
            "2568/2568 [==============================] - 18s 7ms/step - loss: 0.8213 - acc: 0.8065 - val_loss: 1.6198 - val_acc: 0.5897\n",
            "Epoch 76/200\n",
            "2568/2568 [==============================] - 18s 7ms/step - loss: 0.6382 - acc: 0.8672 - val_loss: 1.4561 - val_acc: 0.6561\n",
            "Epoch 77/200\n",
            "2568/2568 [==============================] - 18s 7ms/step - loss: 0.4279 - acc: 0.9653 - val_loss: 1.3963 - val_acc: 0.6806\n",
            "Epoch 78/200\n",
            "2568/2568 [==============================] - 18s 7ms/step - loss: 0.3468 - acc: 0.9930 - val_loss: 1.5125 - val_acc: 0.6957\n",
            "Epoch 79/200\n",
            "2568/2568 [==============================] - 18s 7ms/step - loss: 0.3057 - acc: 0.9977 - val_loss: 1.4843 - val_acc: 0.6846\n",
            "Epoch 80/200\n",
            "2568/2568 [==============================] - 18s 7ms/step - loss: 0.3002 - acc: 0.9981 - val_loss: 1.8398 - val_acc: 0.6727\n",
            "Epoch 81/200\n",
            "2568/2568 [==============================] - 18s 7ms/step - loss: 0.2820 - acc: 0.9996 - val_loss: 1.6400 - val_acc: 0.6988\n",
            "Epoch 82/200\n",
            "2568/2568 [==============================] - 18s 7ms/step - loss: 0.2647 - acc: 1.0000 - val_loss: 1.4924 - val_acc: 0.7107\n",
            "Epoch 83/200\n",
            "2568/2568 [==============================] - 18s 7ms/step - loss: 0.2524 - acc: 1.0000 - val_loss: 1.6283 - val_acc: 0.7051\n",
            "Epoch 84/200\n",
            "2568/2568 [==============================] - 18s 7ms/step - loss: 0.2431 - acc: 1.0000 - val_loss: 1.6979 - val_acc: 0.6711\n",
            "Epoch 85/200\n",
            "2568/2568 [==============================] - 18s 7ms/step - loss: 0.2327 - acc: 1.0000 - val_loss: 1.5751 - val_acc: 0.7051\n",
            "Epoch 86/200\n",
            "2568/2568 [==============================] - 18s 7ms/step - loss: 0.2228 - acc: 1.0000 - val_loss: 1.5016 - val_acc: 0.7059\n",
            "Epoch 87/200\n",
            "2568/2568 [==============================] - 18s 7ms/step - loss: 0.2137 - acc: 1.0000 - val_loss: 1.4996 - val_acc: 0.7012\n",
            "Epoch 88/200\n",
            "2568/2568 [==============================] - 18s 7ms/step - loss: 0.2065 - acc: 1.0000 - val_loss: 1.5409 - val_acc: 0.7091\n",
            "Epoch 89/200\n",
            "2568/2568 [==============================] - 18s 7ms/step - loss: 0.1975 - acc: 1.0000 - val_loss: 1.6327 - val_acc: 0.7036\n",
            "Epoch 90/200\n",
            "2568/2568 [==============================] - 18s 7ms/step - loss: 0.1892 - acc: 1.0000 - val_loss: 1.6750 - val_acc: 0.6964\n",
            "Epoch 91/200\n",
            "2568/2568 [==============================] - 18s 7ms/step - loss: 0.1817 - acc: 1.0000 - val_loss: 1.7204 - val_acc: 0.6838\n",
            "Epoch 92/200\n",
            "2568/2568 [==============================] - 18s 7ms/step - loss: 0.1746 - acc: 1.0000 - val_loss: 1.5631 - val_acc: 0.6957\n",
            "Epoch 93/200\n",
            "2568/2568 [==============================] - 18s 7ms/step - loss: 0.1689 - acc: 1.0000 - val_loss: 1.3348 - val_acc: 0.7130\n",
            "Epoch 94/200\n",
            "2568/2568 [==============================] - 18s 7ms/step - loss: 0.1615 - acc: 1.0000 - val_loss: 1.4901 - val_acc: 0.7051\n",
            "Epoch 95/200\n",
            "2568/2568 [==============================] - 18s 7ms/step - loss: 0.1549 - acc: 1.0000 - val_loss: 1.4834 - val_acc: 0.7028\n",
            "Epoch 96/200\n",
            "2568/2568 [==============================] - 18s 7ms/step - loss: 0.1484 - acc: 1.0000 - val_loss: 1.4533 - val_acc: 0.7099\n",
            "Epoch 97/200\n",
            "2568/2568 [==============================] - 18s 7ms/step - loss: 0.1433 - acc: 1.0000 - val_loss: 1.5184 - val_acc: 0.7043\n",
            "Epoch 98/200\n",
            "2568/2568 [==============================] - 18s 7ms/step - loss: 0.1372 - acc: 1.0000 - val_loss: 1.3520 - val_acc: 0.7067\n",
            "Epoch 99/200\n",
            "2568/2568 [==============================] - 18s 7ms/step - loss: 0.1317 - acc: 1.0000 - val_loss: 1.3880 - val_acc: 0.6949\n",
            "Epoch 100/200\n",
            "2568/2568 [==============================] - 18s 7ms/step - loss: 0.1265 - acc: 1.0000 - val_loss: 1.4483 - val_acc: 0.7051\n",
            "Epoch 101/200\n",
            "2568/2568 [==============================] - 18s 7ms/step - loss: 0.1368 - acc: 0.9969 - val_loss: 2.2923 - val_acc: 0.5154\n",
            "Epoch 102/200\n",
            "2568/2568 [==============================] - 18s 7ms/step - loss: 0.6328 - acc: 0.8135 - val_loss: 1.5317 - val_acc: 0.5850\n",
            "Epoch 103/200\n",
            "2568/2568 [==============================] - 18s 7ms/step - loss: 0.8919 - acc: 0.7352 - val_loss: 1.4733 - val_acc: 0.5502\n",
            "Epoch 104/200\n",
            "2568/2568 [==============================] - 18s 7ms/step - loss: 0.8639 - acc: 0.7360 - val_loss: 1.3584 - val_acc: 0.5826\n",
            "Epoch 105/200\n",
            "2568/2568 [==============================] - 18s 7ms/step - loss: 0.7111 - acc: 0.8010 - val_loss: 1.3621 - val_acc: 0.6150\n",
            "Epoch 106/200\n",
            "2568/2568 [==============================] - 18s 7ms/step - loss: 0.6840 - acc: 0.8240 - val_loss: 1.4978 - val_acc: 0.6158\n",
            "Epoch 107/200\n",
            "2568/2568 [==============================] - 18s 7ms/step - loss: 0.5184 - acc: 0.8945 - val_loss: 1.3345 - val_acc: 0.6585\n",
            "Epoch 108/200\n",
            "2568/2568 [==============================] - 18s 7ms/step - loss: 0.6208 - acc: 0.8544 - val_loss: 1.5719 - val_acc: 0.5818\n",
            "Epoch 109/200\n",
            "2568/2568 [==============================] - 18s 7ms/step - loss: 0.5973 - acc: 0.8703 - val_loss: 1.3205 - val_acc: 0.6435\n",
            "Epoch 110/200\n",
            "2568/2568 [==============================] - 18s 7ms/step - loss: 0.4882 - acc: 0.9233 - val_loss: 1.3153 - val_acc: 0.6822\n",
            "Epoch 111/200\n",
            "2568/2568 [==============================] - 18s 7ms/step - loss: 0.3970 - acc: 0.9556 - val_loss: 1.4910 - val_acc: 0.6553\n",
            "Epoch 112/200\n",
            "2568/2568 [==============================] - 18s 7ms/step - loss: 0.3879 - acc: 0.9607 - val_loss: 1.5039 - val_acc: 0.6672\n",
            "Epoch 113/200\n",
            "2568/2568 [==============================] - 18s 7ms/step - loss: 0.3170 - acc: 0.9895 - val_loss: 1.4917 - val_acc: 0.6656\n",
            "Epoch 114/200\n",
            "2568/2568 [==============================] - 18s 7ms/step - loss: 0.3155 - acc: 0.9805 - val_loss: 1.6726 - val_acc: 0.6593\n",
            "Epoch 115/200\n",
            "2568/2568 [==============================] - 18s 7ms/step - loss: 0.5746 - acc: 0.8894 - val_loss: 1.9259 - val_acc: 0.6103\n",
            "Epoch 116/200\n",
            "2568/2568 [==============================] - 18s 7ms/step - loss: 0.6615 - acc: 0.8621 - val_loss: 2.2386 - val_acc: 0.5771\n",
            "Epoch 117/200\n",
            "2568/2568 [==============================] - 18s 7ms/step - loss: 0.8161 - acc: 0.8018 - val_loss: 1.5315 - val_acc: 0.6601\n",
            "Epoch 118/200\n",
            "2568/2568 [==============================] - 18s 7ms/step - loss: 0.6235 - acc: 0.8882 - val_loss: 1.4340 - val_acc: 0.6680\n",
            "Epoch 119/200\n",
            "2568/2568 [==============================] - 18s 7ms/step - loss: 0.4302 - acc: 0.9692 - val_loss: 1.5119 - val_acc: 0.6735\n",
            "Epoch 120/200\n",
            "2568/2568 [==============================] - 18s 7ms/step - loss: 0.4128 - acc: 0.9731 - val_loss: 1.6079 - val_acc: 0.6862\n",
            "Epoch 121/200\n",
            "2568/2568 [==============================] - 18s 7ms/step - loss: 0.3437 - acc: 0.9942 - val_loss: 1.6029 - val_acc: 0.6980\n",
            "Epoch 122/200\n",
            "2568/2568 [==============================] - 18s 7ms/step - loss: 0.3134 - acc: 0.9984 - val_loss: 1.5404 - val_acc: 0.6846\n",
            "Epoch 123/200\n",
            "2568/2568 [==============================] - 18s 7ms/step - loss: 0.2944 - acc: 1.0000 - val_loss: 1.5720 - val_acc: 0.7036\n",
            "Epoch 124/200\n",
            "2568/2568 [==============================] - 18s 7ms/step - loss: 0.2812 - acc: 1.0000 - val_loss: 1.6102 - val_acc: 0.6751\n",
            "Epoch 125/200\n",
            "2568/2568 [==============================] - 18s 7ms/step - loss: 0.2692 - acc: 1.0000 - val_loss: 1.5984 - val_acc: 0.7020\n",
            "Epoch 126/200\n",
            "2568/2568 [==============================] - 18s 7ms/step - loss: 0.2581 - acc: 1.0000 - val_loss: 1.5247 - val_acc: 0.6893\n",
            "Epoch 127/200\n",
            "2568/2568 [==============================] - 18s 7ms/step - loss: 0.2477 - acc: 1.0000 - val_loss: 1.5140 - val_acc: 0.6909\n",
            "Epoch 128/200\n",
            "2568/2568 [==============================] - 18s 7ms/step - loss: 0.2499 - acc: 0.9977 - val_loss: 1.4676 - val_acc: 0.6830\n",
            "Epoch 129/200\n",
            "2568/2568 [==============================] - 18s 7ms/step - loss: 0.2366 - acc: 0.9988 - val_loss: 1.6550 - val_acc: 0.6877\n",
            "Epoch 130/200\n",
            "2568/2568 [==============================] - 18s 7ms/step - loss: 0.2232 - acc: 1.0000 - val_loss: 1.4535 - val_acc: 0.6846\n",
            "Epoch 131/200\n",
            "2568/2568 [==============================] - 18s 7ms/step - loss: 0.2134 - acc: 1.0000 - val_loss: 1.4958 - val_acc: 0.6988\n",
            "Epoch 132/200\n",
            "2568/2568 [==============================] - 18s 7ms/step - loss: 0.2044 - acc: 1.0000 - val_loss: 1.5202 - val_acc: 0.6980\n",
            "Epoch 133/200\n",
            "2568/2568 [==============================] - 18s 7ms/step - loss: 0.2002 - acc: 1.0000 - val_loss: 1.5856 - val_acc: 0.6727\n",
            "Epoch 134/200\n",
            "2568/2568 [==============================] - 18s 7ms/step - loss: 0.1915 - acc: 1.0000 - val_loss: 1.4372 - val_acc: 0.6877\n",
            "Epoch 135/200\n",
            "2568/2568 [==============================] - 18s 7ms/step - loss: 0.2015 - acc: 0.9965 - val_loss: 1.5357 - val_acc: 0.6838\n",
            "Epoch 136/200\n",
            "2568/2568 [==============================] - 18s 7ms/step - loss: 0.2222 - acc: 0.9887 - val_loss: 1.5526 - val_acc: 0.6577\n",
            "Epoch 137/200\n",
            "2568/2568 [==============================] - 18s 7ms/step - loss: 0.2224 - acc: 0.9891 - val_loss: 1.5679 - val_acc: 0.6719\n",
            "Epoch 138/200\n",
            "2568/2568 [==============================] - 18s 7ms/step - loss: 0.2101 - acc: 0.9914 - val_loss: 1.5517 - val_acc: 0.6941\n",
            "Epoch 139/200\n",
            "2568/2568 [==============================] - 18s 7ms/step - loss: 0.1894 - acc: 0.9973 - val_loss: 1.5258 - val_acc: 0.6830\n",
            "Epoch 140/200\n",
            "2568/2568 [==============================] - 18s 7ms/step - loss: 0.1805 - acc: 0.9988 - val_loss: 1.7127 - val_acc: 0.6672\n",
            "Epoch 141/200\n",
            "2568/2568 [==============================] - 18s 7ms/step - loss: 0.1708 - acc: 0.9992 - val_loss: 1.5329 - val_acc: 0.6925\n",
            "Epoch 142/200\n",
            "2568/2568 [==============================] - 18s 7ms/step - loss: 0.1630 - acc: 0.9996 - val_loss: 1.5144 - val_acc: 0.6933\n",
            "Epoch 143/200\n",
            "2568/2568 [==============================] - 18s 7ms/step - loss: 0.1558 - acc: 1.0000 - val_loss: 1.5339 - val_acc: 0.6798\n",
            "Epoch 144/200\n",
            "2568/2568 [==============================] - 18s 7ms/step - loss: 0.1496 - acc: 1.0000 - val_loss: 1.4147 - val_acc: 0.6996\n",
            "Epoch 145/200\n",
            "2568/2568 [==============================] - 18s 7ms/step - loss: 0.1437 - acc: 1.0000 - val_loss: 1.8658 - val_acc: 0.6617\n",
            "Epoch 146/200\n",
            "2568/2568 [==============================] - 18s 7ms/step - loss: 0.1601 - acc: 0.9934 - val_loss: 1.8929 - val_acc: 0.6419\n",
            "Epoch 147/200\n",
            "2568/2568 [==============================] - 18s 7ms/step - loss: 0.2084 - acc: 0.9770 - val_loss: 2.5150 - val_acc: 0.5692\n",
            "Epoch 148/200\n",
            "2568/2568 [==============================] - 18s 7ms/step - loss: 0.3993 - acc: 0.9062 - val_loss: 3.1484 - val_acc: 0.4909\n",
            "Epoch 149/200\n",
            "2568/2568 [==============================] - 18s 7ms/step - loss: 0.6753 - acc: 0.8232 - val_loss: 2.1410 - val_acc: 0.5597\n",
            "Epoch 150/200\n",
            "2568/2568 [==============================] - 18s 7ms/step - loss: 0.8492 - acc: 0.7652 - val_loss: 1.6973 - val_acc: 0.5739\n",
            "Epoch 151/200\n",
            "2568/2568 [==============================] - 18s 7ms/step - loss: 0.7328 - acc: 0.8189 - val_loss: 1.7210 - val_acc: 0.6190\n",
            "Epoch 152/200\n",
            "2568/2568 [==============================] - 18s 7ms/step - loss: 0.6418 - acc: 0.8606 - val_loss: 1.3624 - val_acc: 0.6538\n",
            "Epoch 153/200\n",
            "2568/2568 [==============================] - 18s 7ms/step - loss: 0.5138 - acc: 0.9147 - val_loss: 1.3963 - val_acc: 0.6617\n",
            "Epoch 154/200\n",
            "2568/2568 [==============================] - 18s 7ms/step - loss: 0.3897 - acc: 0.9642 - val_loss: 1.6114 - val_acc: 0.6545\n",
            "Epoch 155/200\n",
            "2568/2568 [==============================] - 18s 7ms/step - loss: 0.3382 - acc: 0.9852 - val_loss: 1.5638 - val_acc: 0.6664\n",
            "Epoch 156/200\n",
            "2568/2568 [==============================] - 18s 7ms/step - loss: 0.2966 - acc: 0.9973 - val_loss: 1.6148 - val_acc: 0.6759\n",
            "Epoch 157/200\n",
            "2568/2568 [==============================] - 18s 7ms/step - loss: 0.2723 - acc: 1.0000 - val_loss: 1.6680 - val_acc: 0.6640\n",
            "Epoch 158/200\n",
            "2568/2568 [==============================] - 18s 7ms/step - loss: 0.2581 - acc: 1.0000 - val_loss: 1.6024 - val_acc: 0.6846\n",
            "Epoch 159/200\n",
            "2568/2568 [==============================] - 18s 7ms/step - loss: 0.2466 - acc: 1.0000 - val_loss: 1.6017 - val_acc: 0.6822\n",
            "Epoch 160/200\n",
            "2568/2568 [==============================] - 18s 7ms/step - loss: 0.2365 - acc: 1.0000 - val_loss: 1.7742 - val_acc: 0.6593\n",
            "Epoch 161/200\n",
            "2568/2568 [==============================] - 18s 7ms/step - loss: 0.2269 - acc: 1.0000 - val_loss: 1.6039 - val_acc: 0.6846\n",
            "Epoch 162/200\n",
            "2568/2568 [==============================] - 18s 7ms/step - loss: 0.2177 - acc: 1.0000 - val_loss: 1.5349 - val_acc: 0.6830\n",
            "Epoch 163/200\n",
            "2568/2568 [==============================] - 18s 7ms/step - loss: 0.2089 - acc: 1.0000 - val_loss: 1.5981 - val_acc: 0.6798\n",
            "Epoch 164/200\n",
            "2568/2568 [==============================] - 18s 7ms/step - loss: 0.2008 - acc: 1.0000 - val_loss: 1.6466 - val_acc: 0.6696\n",
            "Epoch 165/200\n",
            "2568/2568 [==============================] - 18s 7ms/step - loss: 0.1926 - acc: 1.0000 - val_loss: 1.5523 - val_acc: 0.6901\n",
            "Epoch 166/200\n",
            "2568/2568 [==============================] - 18s 7ms/step - loss: 0.1847 - acc: 1.0000 - val_loss: 1.5816 - val_acc: 0.6909\n",
            "Epoch 167/200\n",
            "2568/2568 [==============================] - 18s 7ms/step - loss: 0.1773 - acc: 1.0000 - val_loss: 1.4289 - val_acc: 0.6909\n",
            "Epoch 168/200\n",
            "2568/2568 [==============================] - 18s 7ms/step - loss: 0.1701 - acc: 1.0000 - val_loss: 1.5295 - val_acc: 0.6791\n",
            "Epoch 169/200\n",
            "2568/2568 [==============================] - 18s 7ms/step - loss: 0.1633 - acc: 1.0000 - val_loss: 1.5581 - val_acc: 0.6798\n",
            "Epoch 170/200\n",
            "2568/2568 [==============================] - 18s 7ms/step - loss: 0.1568 - acc: 1.0000 - val_loss: 1.5805 - val_acc: 0.6727\n",
            "Epoch 171/200\n",
            "2568/2568 [==============================] - 18s 7ms/step - loss: 0.1504 - acc: 1.0000 - val_loss: 1.4308 - val_acc: 0.6791\n",
            "Epoch 172/200\n",
            "2568/2568 [==============================] - 18s 7ms/step - loss: 0.1445 - acc: 1.0000 - val_loss: 1.4852 - val_acc: 0.6917\n",
            "Epoch 173/200\n",
            "2568/2568 [==============================] - 18s 7ms/step - loss: 0.1389 - acc: 1.0000 - val_loss: 1.4789 - val_acc: 0.6862\n",
            "Epoch 174/200\n",
            "2568/2568 [==============================] - 18s 7ms/step - loss: 0.1333 - acc: 1.0000 - val_loss: 1.4892 - val_acc: 0.6830\n",
            "Epoch 175/200\n",
            "2568/2568 [==============================] - 18s 7ms/step - loss: 0.1280 - acc: 1.0000 - val_loss: 1.5990 - val_acc: 0.6862\n",
            "Epoch 176/200\n",
            "2568/2568 [==============================] - 18s 7ms/step - loss: 0.1242 - acc: 1.0000 - val_loss: 1.4706 - val_acc: 0.6893\n",
            "Epoch 177/200\n",
            "2568/2568 [==============================] - 18s 7ms/step - loss: 0.1210 - acc: 1.0000 - val_loss: 1.6397 - val_acc: 0.6735\n",
            "Epoch 178/200\n",
            "2568/2568 [==============================] - 18s 7ms/step - loss: 0.1178 - acc: 1.0000 - val_loss: 1.5450 - val_acc: 0.6751\n",
            "Epoch 179/200\n",
            "2568/2568 [==============================] - 18s 7ms/step - loss: 0.1167 - acc: 0.9988 - val_loss: 1.5012 - val_acc: 0.6711\n",
            "Epoch 180/200\n",
            "2568/2568 [==============================] - 18s 7ms/step - loss: 0.1242 - acc: 0.9977 - val_loss: 1.4734 - val_acc: 0.6585\n",
            "Epoch 181/200\n",
            "2568/2568 [==============================] - 18s 7ms/step - loss: 0.1458 - acc: 0.9910 - val_loss: 1.8458 - val_acc: 0.5929\n",
            "Epoch 182/200\n",
            "2568/2568 [==============================] - 18s 7ms/step - loss: 0.4015 - acc: 0.8929 - val_loss: 2.3494 - val_acc: 0.5605\n",
            "Epoch 183/200\n",
            "2568/2568 [==============================] - 18s 7ms/step - loss: 0.6225 - acc: 0.8318 - val_loss: 2.8177 - val_acc: 0.4704\n",
            "Epoch 184/200\n",
            "2568/2568 [==============================] - 18s 7ms/step - loss: 0.6548 - acc: 0.8232 - val_loss: 1.4258 - val_acc: 0.6134\n",
            "Epoch 185/200\n",
            "2568/2568 [==============================] - 18s 7ms/step - loss: 0.4107 - acc: 0.9241 - val_loss: 1.3419 - val_acc: 0.6538\n",
            "Epoch 186/200\n",
            "2568/2568 [==============================] - 18s 7ms/step - loss: 0.4184 - acc: 0.9307 - val_loss: 1.5531 - val_acc: 0.6482\n",
            "Epoch 187/200\n",
            "2568/2568 [==============================] - 18s 7ms/step - loss: 0.3655 - acc: 0.9529 - val_loss: 1.7247 - val_acc: 0.6601\n",
            "Epoch 188/200\n",
            "2568/2568 [==============================] - 18s 7ms/step - loss: 0.3857 - acc: 0.9552 - val_loss: 2.1297 - val_acc: 0.6119\n",
            "Epoch 189/200\n",
            "2568/2568 [==============================] - 18s 7ms/step - loss: 0.7203 - acc: 0.8322 - val_loss: 1.4205 - val_acc: 0.6593\n",
            "Epoch 190/200\n",
            "2568/2568 [==============================] - 18s 7ms/step - loss: 0.5075 - acc: 0.9252 - val_loss: 1.3616 - val_acc: 0.6727\n",
            "Epoch 191/200\n",
            "2568/2568 [==============================] - 18s 7ms/step - loss: 0.3808 - acc: 0.9743 - val_loss: 1.5435 - val_acc: 0.6783\n",
            "Epoch 192/200\n",
            "2568/2568 [==============================] - 18s 7ms/step - loss: 0.3253 - acc: 0.9938 - val_loss: 1.5560 - val_acc: 0.6767\n",
            "Epoch 193/200\n",
            "2568/2568 [==============================] - 18s 7ms/step - loss: 0.2950 - acc: 0.9977 - val_loss: 1.5642 - val_acc: 0.6846\n",
            "Epoch 194/200\n",
            "2568/2568 [==============================] - 18s 7ms/step - loss: 0.2753 - acc: 1.0000 - val_loss: 1.5362 - val_acc: 0.6743\n",
            "Epoch 195/200\n",
            "2568/2568 [==============================] - 18s 7ms/step - loss: 0.2622 - acc: 1.0000 - val_loss: 1.6314 - val_acc: 0.6791\n",
            "Epoch 196/200\n",
            "2568/2568 [==============================] - 18s 7ms/step - loss: 0.2510 - acc: 1.0000 - val_loss: 1.5362 - val_acc: 0.6862\n",
            "Epoch 197/200\n",
            "2568/2568 [==============================] - 18s 7ms/step - loss: 0.2407 - acc: 1.0000 - val_loss: 1.6227 - val_acc: 0.6767\n",
            "Epoch 198/200\n",
            "2568/2568 [==============================] - 18s 7ms/step - loss: 0.2308 - acc: 1.0000 - val_loss: 1.5562 - val_acc: 0.6664\n",
            "Epoch 199/200\n",
            "2568/2568 [==============================] - 18s 7ms/step - loss: 0.2214 - acc: 1.0000 - val_loss: 1.5685 - val_acc: 0.6759\n",
            "Epoch 200/200\n",
            "2568/2568 [==============================] - 18s 7ms/step - loss: 0.2124 - acc: 1.0000 - val_loss: 1.7797 - val_acc: 0.6451\n"
          ],
          "name": "stdout"
        }
      ]
    },
    {
      "cell_type": "code",
      "metadata": {
        "id": "Vrpg9KMplVKC",
        "colab_type": "code",
        "colab": {}
      },
      "source": [
        "from keras.utils import to_categorical\n",
        "#wrn_28_10.fit_generator(aug.flow(X_train, to_categorical(y_train_df['New']), batch_size=BS),validation_data=(X_test, to_categorical(y_test_df['New'])), validation_steps=X_test.shape[0] // BS,)"
      ],
      "execution_count": 0,
      "outputs": []
    },
    {
      "cell_type": "code",
      "metadata": {
        "id": "JJysdIN3lVKG",
        "colab_type": "code",
        "colab": {
          "base_uri": "https://localhost:8080/",
          "height": 34
        },
        "outputId": "b65c3460-0b1d-485f-d8d9-c408f78430b7"
      },
      "source": [
        "import keras.utils.np_utils as kutils\n",
        "yPreds = wrn_28_10.predict(X_test)\n",
        "yPred = np.argmax(yPreds, axis=1)\n",
        "yPred[0]"
      ],
      "execution_count": 16,
      "outputs": [
        {
          "output_type": "execute_result",
          "data": {
            "text/plain": [
              "3"
            ]
          },
          "metadata": {
            "tags": []
          },
          "execution_count": 16
        }
      ]
    },
    {
      "cell_type": "code",
      "metadata": {
        "id": "usjrLCh6lVKL",
        "colab_type": "code",
        "colab": {
          "base_uri": "https://localhost:8080/",
          "height": 34
        },
        "outputId": "bac657ca-6d76-4fec-d8f2-cf04c6a7b1cc"
      },
      "source": [
        "yPred[2]"
      ],
      "execution_count": 17,
      "outputs": [
        {
          "output_type": "execute_result",
          "data": {
            "text/plain": [
              "1"
            ]
          },
          "metadata": {
            "tags": []
          },
          "execution_count": 17
        }
      ]
    },
    {
      "cell_type": "code",
      "metadata": {
        "id": "e4N7HDg0lVKP",
        "colab_type": "code",
        "colab": {
          "base_uri": "https://localhost:8080/",
          "height": 34
        },
        "outputId": "ce93833e-db15-45c8-aa3d-d4f4f7598d9c"
      },
      "source": [
        "yTrue = y_test_df['New']\n",
        "yTrue[2]"
      ],
      "execution_count": 18,
      "outputs": [
        {
          "output_type": "execute_result",
          "data": {
            "text/plain": [
              "1"
            ]
          },
          "metadata": {
            "tags": []
          },
          "execution_count": 18
        }
      ]
    },
    {
      "cell_type": "code",
      "metadata": {
        "id": "gojN0iDIlVKU",
        "colab_type": "code",
        "colab": {
          "base_uri": "https://localhost:8080/",
          "height": 153
        },
        "outputId": "acf20d24-a8dc-4401-a0ee-ca37c34997a6"
      },
      "source": [
        "yPreds"
      ],
      "execution_count": 19,
      "outputs": [
        {
          "output_type": "execute_result",
          "data": {
            "text/plain": [
              "array([[3.25724576e-03, 1.69853563e-03, 6.39387453e-03, 9.88650441e-01],\n",
              "       [4.32612467e-07, 9.99977827e-01, 2.16743283e-05, 1.26896493e-08],\n",
              "       [4.58722860e-01, 5.26561975e-01, 1.02345766e-02, 4.48056357e-03],\n",
              "       ...,\n",
              "       [1.05931445e-13, 1.57635766e-10, 1.00000000e+00, 2.27572058e-10],\n",
              "       [4.43276912e-02, 3.64337802e-01, 5.68621099e-01, 2.27134004e-02],\n",
              "       [1.48276554e-03, 1.05738651e-03, 9.97195363e-01, 2.64485716e-04]],\n",
              "      dtype=float32)"
            ]
          },
          "metadata": {
            "tags": []
          },
          "execution_count": 19
        }
      ]
    },
    {
      "cell_type": "code",
      "metadata": {
        "id": "K4m2vMP7lVKY",
        "colab_type": "code",
        "colab": {
          "base_uri": "https://localhost:8080/",
          "height": 51
        },
        "outputId": "f930ab50-3058-4d96-bce2-50187dcc4fcc"
      },
      "source": [
        "import sklearn.metrics as metrics\n",
        "\n",
        "\n",
        "accuracy = metrics.accuracy_score(yTrue, yPred) * 100\n",
        "error = 100 - accuracy\n",
        "print(\"Accuracy : \", accuracy)\n",
        "print(\"Error : \", error)"
      ],
      "execution_count": 28,
      "outputs": [
        {
          "output_type": "stream",
          "text": [
            "Accuracy :  66.49020645844362\n",
            "Error :  33.50979354155638\n"
          ],
          "name": "stdout"
        }
      ]
    },
    {
      "cell_type": "code",
      "metadata": {
        "id": "2z8YVCPklVKb",
        "colab_type": "code",
        "colab": {
          "base_uri": "https://localhost:8080/",
          "height": 282
        },
        "outputId": "4a53fabe-05fe-4028-a875-8bbf2f914deb"
      },
      "source": [
        "from matplotlib import  pyplot\n",
        "\n",
        "\n",
        "pyplot.plot(hist.history[\"acc\"], label='train')\n",
        "pyplot.plot(hist.history['val_acc'], label='test')\n",
        "\n"
      ],
      "execution_count": 27,
      "outputs": [
        {
          "output_type": "execute_result",
          "data": {
            "text/plain": [
              "[<matplotlib.lines.Line2D at 0x7f05323cddd8>]"
            ]
          },
          "metadata": {
            "tags": []
          },
          "execution_count": 27
        },
        {
          "output_type": "display_data",
          "data": {
            "image/png": "[encoded data removed]",
            "text/plain": [
              "<Figure size 432x288 with 1 Axes>"
            ]
          },
          "metadata": {
            "tags": [],
            "needs_background": "light"
          }
        }
      ]
    },
    {
      "cell_type": "code",
      "metadata": {
        "id": "tKg2w43tlVKf",
        "colab_type": "code",
        "colab": {
          "base_uri": "https://localhost:8080/",
          "height": 1000
        },
        "outputId": "00e66114-861e-4681-c899-cabf05bf9061"
      },
      "source": [
        "hist.history['loss']\n"
      ],
      "execution_count": 22,
      "outputs": [
        {
          "output_type": "execute_result",
          "data": {
            "text/plain": [
              "[2.4852685898635247,\n",
              " 2.3577441656700917,\n",
              " 2.2976779514384047,\n",
              " 2.2581057058316527,\n",
              " 2.172838179121879,\n",
              " 2.0995072338068597,\n",
              " 2.016986147265568,\n",
              " 1.9700154433740633,\n",
              " 1.9203159051520802,\n",
              " 1.8420374044376742,\n",
              " 1.7620685821010316,\n",
              " 1.7019386336068127,\n",
              " 1.633372816341317,\n",
              " 1.667760568987172,\n",
              " 1.54664027059561,\n",
              " 1.5650473420865068,\n",
              " 1.4599247951745244,\n",
              " 1.3653090003866273,\n",
              " 1.5064145014664838,\n",
              " 1.4436111754717484,\n",
              " 1.3039106955038053,\n",
              " 1.35924953537938,\n",
              " 1.2641059732140039,\n",
              " 1.2399832572892449,\n",
              " 1.1787623495699089,\n",
              " 1.1082134391659888,\n",
              " 1.1696957535461474,\n",
              " 1.0750275664611768,\n",
              " 1.0041106716494694,\n",
              " 1.0599869341122399,\n",
              " 1.049710791244685,\n",
              " 0.941314704692995,\n",
              " 0.9953079357325474,\n",
              " 0.8966918051057144,\n",
              " 0.8146872180644597,\n",
              " 0.7754658206229641,\n",
              " 0.7372594061670273,\n",
              " 0.7532974366458406,\n",
              " 0.6837602549252851,\n",
              " 0.7208685266823041,\n",
              " 0.5981945119728552,\n",
              " 0.552755093184587,\n",
              " 0.49170571807017577,\n",
              " 0.4938759761064595,\n",
              " 0.6820475323549312,\n",
              " 1.0600451145588052,\n",
              " 0.8172963107486381,\n",
              " 0.7703278302403626,\n",
              " 0.6646137738896307,\n",
              " 0.6401679872352386,\n",
              " 0.6040715985580397,\n",
              " 0.5557588114173985,\n",
              " 0.46797231591750527,\n",
              " 0.46007543542303403,\n",
              " 0.5193291113384044,\n",
              " 0.5982187551872753,\n",
              " 0.5026499375561687,\n",
              " 0.518007412135044,\n",
              " 0.4969692726001561,\n",
              " 0.42658350270856576,\n",
              " 0.3829443412963475,\n",
              " 0.35200318981925277,\n",
              " 0.3356572475017417,\n",
              " 0.31763398981540003,\n",
              " 0.2995649161182831,\n",
              " 0.2857485097888103,\n",
              " 0.27373132128210453,\n",
              " 0.2623550152852899,\n",
              " 0.2517214171425947,\n",
              " 0.2416743069794319,\n",
              " 0.2662116272427211,\n",
              " 0.3093713084670985,\n",
              " 0.8719228832892539,\n",
              " 0.8138889664801482,\n",
              " 0.8212870364991304,\n",
              " 0.6381546418614849,\n",
              " 0.4278596888450076,\n",
              " 0.34680516326167504,\n",
              " 0.3056828043542547,\n",
              " 0.3002414844489172,\n",
              " 0.2819660727480119,\n",
              " 0.264672643763254,\n",
              " 0.2523520163657881,\n",
              " 0.24305415636282474,\n",
              " 0.23265558202690054,\n",
              " 0.2227836142633563,\n",
              " 0.21369043048297134,\n",
              " 0.20649932946928565,\n",
              " 0.19752833015079438,\n",
              " 0.18916124973527368,\n",
              " 0.1816667771877901,\n",
              " 0.17460862628396054,\n",
              " 0.16888773534156823,\n",
              " 0.16149019131964984,\n",
              " 0.1548579114248448,\n",
              " 0.1484137680671668,\n",
              " 0.14330236664813628,\n",
              " 0.13720144187549935,\n",
              " 0.1316574064556312,\n",
              " 0.12645937265636764,\n",
              " 0.13681208864550723,\n",
              " 0.6328024011906063,\n",
              " 0.8919163088189479,\n",
              " 0.8638731382346228,\n",
              " 0.711080555603883,\n",
              " 0.6839930311170322,\n",
              " 0.5184448307548356,\n",
              " 0.6207522688625015,\n",
              " 0.597296137119008,\n",
              " 0.4881631557443803,\n",
              " 0.3970265345781392,\n",
              " 0.38789035737328814,\n",
              " 0.3169669793959347,\n",
              " 0.315468513891333,\n",
              " 0.5745615760485331,\n",
              " 0.6615479456672787,\n",
              " 0.8161347228047261,\n",
              " 0.6235427452582065,\n",
              " 0.43018379575366916,\n",
              " 0.41278180062213793,\n",
              " 0.34365154389651764,\n",
              " 0.3133853758421271,\n",
              " 0.2943869733550467,\n",
              " 0.28120465850532983,\n",
              " 0.269207330693337,\n",
              " 0.25813268658899446,\n",
              " 0.24769673856247995,\n",
              " 0.24993173903393967,\n",
              " 0.2366357585908468,\n",
              " 0.223169865034451,\n",
              " 0.21340073139125312,\n",
              " 0.20439139110648372,\n",
              " 0.20020063049696687,\n",
              " 0.19145769498244253,\n",
              " 0.20148551607986107,\n",
              " 0.2222137781689843,\n",
              " 0.2224308146958782,\n",
              " 0.21008346622049623,\n",
              " 0.18938875801838076,\n",
              " 0.18049460723764058,\n",
              " 0.17079555770132773,\n",
              " 0.16302356133208468,\n",
              " 0.1558013120637133,\n",
              " 0.14957403927762933,\n",
              " 0.14372689390665275,\n",
              " 0.1600512184457987,\n",
              " 0.20835378376122948,\n",
              " 0.399276676950425,\n",
              " 0.6753274343466833,\n",
              " 0.8492364352365892,\n",
              " 0.7327507660025006,\n",
              " 0.6417608758742193,\n",
              " 0.5137862266038438,\n",
              " 0.38974594568537774,\n",
              " 0.33822481979462216,\n",
              " 0.2966434050386197,\n",
              " 0.2722572915464918,\n",
              " 0.25809723955819913,\n",
              " 0.24664780195814057,\n",
              " 0.23647396948850044,\n",
              " 0.22692676635917475,\n",
              " 0.21765424682529544,\n",
              " 0.20885559990769978,\n",
              " 0.20076625893977573,\n",
              " 0.1925742750598634,\n",
              " 0.18468089341374572,\n",
              " 0.17725841246104315,\n",
              " 0.17012802434858876,\n",
              " 0.16331622510498559,\n",
              " 0.15680758111944823,\n",
              " 0.15042087667827667,\n",
              " 0.14450057036594438,\n",
              " 0.1389137505556564,\n",
              " 0.13334058740428675,\n",
              " 0.12798441524074827,\n",
              " 0.12417982504746625,\n",
              " 0.12097365397530553,\n",
              " 0.11782369913527527,\n",
              " 0.11672758069643721,\n",
              " 0.12421695572379222,\n",
              " 0.14578709721193878,\n",
              " 0.4015156639699253,\n",
              " 0.622450535542497,\n",
              " 0.6547642795839043,\n",
              " 0.4107158850657977,\n",
              " 0.41844572790686585,\n",
              " 0.36552326757217124,\n",
              " 0.3857127933115974,\n",
              " 0.7202832792592568,\n",
              " 0.5075109680865041,\n",
              " 0.38080025378417376,\n",
              " 0.3253413203906419,\n",
              " 0.2950261783005664,\n",
              " 0.27528417723201143,\n",
              " 0.26222188209076164,\n",
              " 0.2510450064578903,\n",
              " 0.24072160513787255,\n",
              " 0.230842066238231,\n",
              " 0.22138174764835203,\n",
              " 0.21244778686037688]"
            ]
          },
          "metadata": {
            "tags": []
          },
          "execution_count": 22
        }
      ]
    },
    {
      "cell_type": "code",
      "metadata": {
        "id": "qpzTXjevlVKi",
        "colab_type": "code",
        "colab": {}
      },
      "source": [
        ""
      ],
      "execution_count": 0,
      "outputs": []
    },
    {
      "cell_type": "code",
      "metadata": {
        "id": "tppO4rXhlVKm",
        "colab_type": "code",
        "colab": {}
      },
      "source": [
        ""
      ],
      "execution_count": 0,
      "outputs": []
    },
    {
      "cell_type": "code",
      "metadata": {
        "id": "j9TnqtfIlVKr",
        "colab_type": "code",
        "colab": {}
      },
      "source": [
        ""
      ],
      "execution_count": 0,
      "outputs": []
    },
    {
      "cell_type": "code",
      "metadata": {
        "id": "eDXyYhWU24G5",
        "colab_type": "code",
        "colab": {}
      },
      "source": [
        ""
      ],
      "execution_count": 0,
      "outputs": []
    },
    {
      "cell_type": "code",
      "metadata": {
        "id": "8UcghrO8lVKx",
        "colab_type": "code",
        "colab": {}
      },
      "source": [
        ""
      ],
      "execution_count": 0,
      "outputs": []
    }
  ]
}