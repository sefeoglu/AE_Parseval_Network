{
  "nbformat": 4,
  "nbformat_minor": 0,
  "metadata": {
    "kernelspec": {
      "display_name": "Python 3",
      "language": "python",
      "name": "python3"
    },
    "language_info": {
      "codemirror_mode": {
        "name": "ipython",
        "version": 3
      },
      "file_extension": ".py",
      "mimetype": "text/x-python",
      "name": "python",
      "nbconvert_exporter": "python",
      "pygments_lexer": "ipython3",
      "version": "3.7.4"
    },
    "colab": {
      "name": "WideResNet_Result.ipynb",
      "provenance": [],
      "toc_visible": true
    },
    "accelerator": "GPU"
  },
  "cells": [
    {
      "cell_type": "markdown",
      "metadata": {
        "id": "CgKND0sckj9i",
        "colab_type": "text"
      },
      "source": [
        "# Wide Residual Network"
      ]
    },
    {
      "cell_type": "markdown",
      "metadata": {
        "id": "WPX5KF4nkj9k",
        "colab_type": "text"
      },
      "source": [
        "Definition of WideResNet and Architecture:"
      ]
    },
    {
      "cell_type": "markdown",
      "metadata": {
        "id": "5atyrM-Gkj9l",
        "colab_type": "text"
      },
      "source": [
        "Residual Networks vs Wide Residual Networks"
      ]
    },
    {
      "cell_type": "markdown",
      "metadata": {
        "id": "W07XrKzjkj9l",
        "colab_type": "text"
      },
      "source": [
        "##  <center>The Result of Wide Residual Network </center>"
      ]
    },
    {
      "cell_type": "markdown",
      "metadata": {
        "id": "I6LWZY55kj9m",
        "colab_type": "text"
      },
      "source": [
        "***Road Map***\n",
        "* Data Preprocessing\n",
        "* Model Cross Validation Results\n",
        "* Evaluate the GridSearchCV Results\n",
        "* Model Training and Learning Curves\n",
        "* Model Adversarial Training Approach.\n"
      ]
    },
    {
      "cell_type": "markdown",
      "metadata": {
        "id": "lkb49Wg6kj9n",
        "colab_type": "text"
      },
      "source": [
        "#### import the libraries."
      ]
    },
    {
      "cell_type": "code",
      "metadata": {
        "id": "C3etlaVjipGZ",
        "colab_type": "code",
        "colab": {}
      },
      "source": [
        "!pip install git+https://github.com/tensorflow/cleverhans.git#egg=cleverhans\n",
        "\n",
        "import cleverhans\n",
        "\n",
        "print(\"Cleverhans Version: \" + cleverhans.__version__)\n"
      ],
      "execution_count": null,
      "outputs": []
    },
    {
      "cell_type": "code",
      "metadata": {
        "id": "NIEl6l0kkj9o",
        "colab_type": "code",
        "colab": {
          "base_uri": "https://localhost:8080/",
          "height": 51
        },
        "outputId": "bbeddfad-5b85-4ec2-a436-50271f8df07b"
      },
      "source": [
        "import tensorflow as tf\n",
        "from cleverhans.future.tf2.attacks import fast_gradient_method\n",
        "from tensorflow.keras.optimizers import SGD\n",
        "from tensorflow.keras.callbacks import Callback, LearningRateScheduler, EarlyStopping\n",
        "from tensorflow.keras.models import Model\n",
        "from tensorflow.keras.layers import Input, Add, Activation, Dropout, Flatten, Dense\n",
        "from tensorflow.keras.layers import Convolution2D, MaxPooling2D, AveragePooling2D\n",
        "from tensorflow.keras.layers import BatchNormalization\n",
        "from tensorflow.keras.regularizers import l2\n",
        "from tensorflow.keras import backend as K\n",
        "from sklearn.model_selection import train_test_split\n",
        "import pandas as pd\n",
        "import numpy as np\n",
        "from sklearn.preprocessing import LabelEncoder\n",
        "from tensorflow.keras.utils import to_categorical\n",
        "from wresnet import WideResidualNetwork\n",
        "from adversarial_training import AdversarialTraining\n",
        "from sklearn.model_selection import  KFold\n",
        "import gzip\n",
        "import pickle\n",
        "\n",
        "import numpy as np\n",
        "\n",
        "import warnings\n",
        "warnings.filterwarnings(\"ignore\")\n",
        "\n",
        "print(\"\\nTensorflow Version: \" + tf.__version__)\n"
      ],
      "execution_count": 2,
      "outputs": [
        {
          "output_type": "stream",
          "text": [
            "\n",
            "Tensorflow Version: 2.2.0\n"
          ],
          "name": "stdout"
        }
      ]
    },
    {
      "cell_type": "markdown",
      "metadata": {
        "id": "IhvWP7D-kj9v",
        "colab_type": "text"
      },
      "source": [
        "<b> Data Preprocessing </b>\n"
      ]
    },
    {
      "cell_type": "markdown",
      "metadata": {
        "id": "o-Tkt8tPkj9w",
        "colab_type": "text"
      },
      "source": [
        "* Read Data from File"
      ]
    },
    {
      "cell_type": "code",
      "metadata": {
        "id": "MbL58svXkj9x",
        "colab_type": "code",
        "colab": {}
      },
      "source": [
        "def read_data():\n",
        "    with open(\"data.pz\", 'rb') as file_:\n",
        "        with gzip.GzipFile(fileobj=file_) as gzf:\n",
        "            data = pickle.load(gzf, encoding='latin1', fix_imports=True)\n",
        "    return data\n",
        "data = read_data()"
      ],
      "execution_count": 3,
      "outputs": []
    },
    {
      "cell_type": "markdown",
      "metadata": {
        "id": "CS5UxTh4kj91",
        "colab_type": "text"
      },
      "source": [
        "* Call data preprocessing function"
      ]
    },
    {
      "cell_type": "code",
      "metadata": {
        "id": "aQ-7z3-D4-HX",
        "colab_type": "code",
        "colab": {}
      },
      "source": [
        "from preprocessing import preprocessing_data"
      ],
      "execution_count": 4,
      "outputs": []
    },
    {
      "cell_type": "code",
      "metadata": {
        "id": "lggXy4Xckj96",
        "colab_type": "code",
        "colab": {}
      },
      "source": [
        "X, y = preprocessing_data(data)\n",
        "X_train, X_test, Y_train, y_test = train_test_split(X, y, test_size = 0.1)\n",
        "x_train, X_val, y_train, y_val = train_test_split(X_train, Y_train, test_size = 0.1)"
      ],
      "execution_count": 5,
      "outputs": []
    },
    {
      "cell_type": "markdown",
      "metadata": {
        "id": "ZMx1UO52ozNP",
        "colab_type": "text"
      },
      "source": [
        "**Utilize Functions**"
      ]
    },
    {
      "cell_type": "markdown",
      "metadata": {
        "id": "DN9n1xLKpNAk",
        "colab_type": "text"
      },
      "source": [
        "* Flipping the image using data augmentation technique"
      ]
    },
    {
      "cell_type": "code",
      "metadata": {
        "id": "MywglnvLo3b-",
        "colab_type": "code",
        "colab": {}
      },
      "source": [
        "generator = tf.keras.preprocessing.image.ImageDataGenerator(rotation_range=10,\n",
        "                               width_shift_range=5./32,\n",
        "                               height_shift_range=5./32,)"
      ],
      "execution_count": 6,
      "outputs": []
    },
    {
      "cell_type": "markdown",
      "metadata": {
        "id": "kzMNkYPwpU9s",
        "colab_type": "text"
      },
      "source": [
        "* Print the results of the experiments"
      ]
    },
    {
      "cell_type": "code",
      "metadata": {
        "id": "c__6pXN0pLsW",
        "colab_type": "code",
        "colab": {}
      },
      "source": [
        "def print_test(model,X_adv, X_test, y_test, epsilon):\n",
        "  loss, acc = model.evaluate(X_adv,y_test)\n",
        "  print(\"epsilon: {} and test evaluation : {}, {}\".format(epsilon,loss, acc))\n",
        "  SNR = 20*np.log10(np.linalg.norm(X_test)/np.linalg.norm(X_test-X_adv))\n",
        "  print(\"SNR: {}\".format(SNR))\n",
        "  return loss, acc"
      ],
      "execution_count": 7,
      "outputs": []
    },
    {
      "cell_type": "markdown",
      "metadata": {
        "id": "3d859oY0id2o",
        "colab_type": "text"
      },
      "source": [
        "*  CleverHans Import and Functions Regarding Adversarial Exaples."
      ]
    },
    {
      "cell_type": "code",
      "metadata": {
        "id": "cS5qenzeiyto",
        "colab_type": "code",
        "colab": {}
      },
      "source": [
        "def get_adversarial_examples(pretrained_model, X_true, y_true, epsilon):\n",
        "  #The attack requires the model to ouput the logits\n",
        "   \n",
        "  logits_model = tf.keras.Model(pretrained_model.input,pretrained_model.layers[-1].output)\n",
        "  X_adv = []\n",
        "  for i in range(len(X_true)):\n",
        "    random_index = i\n",
        "    original_image = X_true[random_index]\n",
        "    original_image = tf.convert_to_tensor(original_image.reshape((1,32,32))) #The .reshape just gives it the proper form to input into the model, a batch of 1 a.k.a a tensor\n",
        "    original_label = y_true[random_index]\n",
        "    original_label = np.reshape(np.argmax(original_label), (1,)).astype('int64')\n",
        "    adv_example_targeted_label = fast_gradient_method(logits_model, original_image, epsilon, np.inf,y=original_label, targeted=False)\n",
        "    X_adv.append(np.array(adv_example_targeted_label).reshape(32,32,1))\n",
        "  X_adv = np.array(X_adv)\n",
        "  return X_adv\n",
        "\n"
      ],
      "execution_count": 8,
      "outputs": []
    },
    {
      "cell_type": "markdown",
      "metadata": {
        "id": "evs0Sbh8i-pZ",
        "colab_type": "text"
      },
      "source": [
        "**Some Parameters Regarding Adversarial Examples**"
      ]
    },
    {
      "cell_type": "code",
      "metadata": {
        "id": "IIgl4BDQjPFL",
        "colab_type": "code",
        "colab": {}
      },
      "source": [
        "epsilon_list = [0.003,0.005,0.01,0.02]"
      ],
      "execution_count": 9,
      "outputs": []
    },
    {
      "cell_type": "markdown",
      "metadata": {
        "id": "GuPefX3CoKH5",
        "colab_type": "text"
      },
      "source": [
        "**General Visulazation Methods**"
      ]
    },
    {
      "cell_type": "markdown",
      "metadata": {
        "id": "2dd-t4F_pecb",
        "colab_type": "text"
      },
      "source": [
        "* Show accurancy and loss function of the results"
      ]
    },
    {
      "cell_type": "code",
      "metadata": {
        "id": "g6WGUfDAoTKO",
        "colab_type": "code",
        "colab": {}
      },
      "source": [
        "import matplotlib.pyplot as plt\n",
        "\n",
        "def show_graph(hist):\n",
        "  history = hist\n",
        "  print(history.history.keys())\n",
        "  # summarize history for accuracy\n",
        "  plt.plot(history.history['acc'])\n",
        "  plt.plot(history.history['val_acc'])\n",
        "  plt.title('model accuracy')\n",
        "  plt.ylabel('accuracy')\n",
        "  plt.xlabel('epoch')\n",
        "  plt.legend(['train', 'test'], loc='upper left')\n",
        "  plt.show()\n",
        "  plt.plot(history.history['loss'])\n",
        "  plt.plot(history.history['val_loss'])\n",
        "  plt.title('model loss')\n",
        "  plt.ylabel('loss')\n",
        "  plt.xlabel('epoch')\n",
        "  plt.legend(['train', 'test'], loc='upper left')\n",
        "  plt.show()\n"
      ],
      "execution_count": 10,
      "outputs": []
    },
    {
      "cell_type": "markdown",
      "metadata": {
        "id": "XzFqxjQOkj9-",
        "colab_type": "text"
      },
      "source": [
        "## 1.) Baseline of the Model"
      ]
    },
    {
      "cell_type": "markdown",
      "metadata": {
        "id": "L5Zv6ceWkj9_",
        "colab_type": "text"
      },
      "source": [
        "* Explain the Baseline Model here"
      ]
    },
    {
      "cell_type": "markdown",
      "metadata": {
        "id": "3BplLQX4kj-B",
        "colab_type": "text"
      },
      "source": [
        "Give a shape regarding model base layers"
      ]
    },
    {
      "cell_type": "markdown",
      "metadata": {
        "id": "-OnGRhNJkj-B",
        "colab_type": "text"
      },
      "source": [
        "### 1.1. ) Find Model Parameters using Cross Validation and GridSearch "
      ]
    },
    {
      "cell_type": "code",
      "metadata": {
        "id": "oWHF1Iklkj-C",
        "colab_type": "code",
        "colab": {}
      },
      "source": [
        "data_list = []\n",
        "for  i in range(0,11):\n",
        "  if i == 5: continue\n",
        "  data_result  = pd.read_csv(\"grid_16_{0}.csv\".format(str(i)), sep=\";\")\n",
        "  data_list.append(data_result)\n",
        "result = pd.concat(data_list)"
      ],
      "execution_count": 11,
      "outputs": []
    },
    {
      "cell_type": "markdown",
      "metadata": {
        "id": "OFhVecoMkj-H",
        "colab_type": "text"
      },
      "source": [
        "#### Evaluate the Results"
      ]
    },
    {
      "cell_type": "code",
      "metadata": {
        "id": "0nfGO6S_nWsH",
        "colab_type": "code",
        "colab": {}
      },
      "source": [
        "result[\"loss_mean\"] = (result[\"loss1\"]+result[\"loss2\"]+result[\"loss3\"])/3\n",
        "result[\"acc_mean\"] = (result[\"acc1\"]+result[\"acc2\"]+result[\"acc3\"])/3"
      ],
      "execution_count": 12,
      "outputs": []
    },
    {
      "cell_type": "code",
      "metadata": {
        "id": "mz9NMqkSneUk",
        "colab_type": "code",
        "colab": {}
      },
      "source": [
        "result['epoch'] = result['epoch_stopped1']\n",
        "result['weight_decay'] = result['reg_penalty']\n",
        "column_list = [\"momentum\", \"learning rate\", \"epoch\",\"batch size\",\"weight_decay\",\"loss_mean\", \"acc_mean\"]"
      ],
      "execution_count": 13,
      "outputs": []
    },
    {
      "cell_type": "code",
      "metadata": {
        "id": "H2Yebmw9nq32",
        "colab_type": "code",
        "colab": {
          "base_uri": "https://localhost:8080/",
          "height": 142
        },
        "outputId": "9cc8cd1f-f1bd-46ca-bc79-8c9be03777fd"
      },
      "source": [
        "result.sort_values(axis=0, by=\"acc_mean\", ascending=False)[column_list].head(3)"
      ],
      "execution_count": 14,
      "outputs": [
        {
          "output_type": "execute_result",
          "data": {
            "text/html": [
              "<div>\n",
              "<style scoped>\n",
              "    .dataframe tbody tr th:only-of-type {\n",
              "        vertical-align: middle;\n",
              "    }\n",
              "\n",
              "    .dataframe tbody tr th {\n",
              "        vertical-align: top;\n",
              "    }\n",
              "\n",
              "    .dataframe thead th {\n",
              "        text-align: right;\n",
              "    }\n",
              "</style>\n",
              "<table border=\"1\" class=\"dataframe\">\n",
              "  <thead>\n",
              "    <tr style=\"text-align: right;\">\n",
              "      <th></th>\n",
              "      <th>momentum</th>\n",
              "      <th>learning rate</th>\n",
              "      <th>epoch</th>\n",
              "      <th>batch size</th>\n",
              "      <th>weight_decay</th>\n",
              "      <th>loss_mean</th>\n",
              "      <th>acc_mean</th>\n",
              "    </tr>\n",
              "  </thead>\n",
              "  <tbody>\n",
              "    <tr>\n",
              "      <th>0</th>\n",
              "      <td>0.9</td>\n",
              "      <td>0.10</td>\n",
              "      <td>50.0</td>\n",
              "      <td>128.0</td>\n",
              "      <td>0.0001</td>\n",
              "      <td>1.096489</td>\n",
              "      <td>0.726003</td>\n",
              "    </tr>\n",
              "    <tr>\n",
              "      <th>3</th>\n",
              "      <td>0.9</td>\n",
              "      <td>0.10</td>\n",
              "      <td>100.0</td>\n",
              "      <td>128.0</td>\n",
              "      <td>0.0010</td>\n",
              "      <td>1.199277</td>\n",
              "      <td>0.722513</td>\n",
              "    </tr>\n",
              "    <tr>\n",
              "      <th>0</th>\n",
              "      <td>0.9</td>\n",
              "      <td>0.01</td>\n",
              "      <td>50.0</td>\n",
              "      <td>64.0</td>\n",
              "      <td>0.0010</td>\n",
              "      <td>1.687745</td>\n",
              "      <td>0.718441</td>\n",
              "    </tr>\n",
              "  </tbody>\n",
              "</table>\n",
              "</div>"
            ],
            "text/plain": [
              "   momentum  learning rate  epoch  ...  weight_decay  loss_mean  acc_mean\n",
              "0       0.9           0.10   50.0  ...        0.0001   1.096489  0.726003\n",
              "3       0.9           0.10  100.0  ...        0.0010   1.199277  0.722513\n",
              "0       0.9           0.01   50.0  ...        0.0010   1.687745  0.718441\n",
              "\n",
              "[3 rows x 7 columns]"
            ]
          },
          "metadata": {
            "tags": []
          },
          "execution_count": 14
        }
      ]
    },
    {
      "cell_type": "code",
      "metadata": {
        "id": "4IuVoNt6n9X_",
        "colab_type": "code",
        "colab": {
          "base_uri": "https://localhost:8080/",
          "height": 142
        },
        "outputId": "ee6cc28f-60be-4896-d04a-a239586b2768"
      },
      "source": [
        "result.sort_values(axis=0, by=\"loss_mean\", ascending=True)[column_list].head(3)"
      ],
      "execution_count": 15,
      "outputs": [
        {
          "output_type": "execute_result",
          "data": {
            "text/html": [
              "<div>\n",
              "<style scoped>\n",
              "    .dataframe tbody tr th:only-of-type {\n",
              "        vertical-align: middle;\n",
              "    }\n",
              "\n",
              "    .dataframe tbody tr th {\n",
              "        vertical-align: top;\n",
              "    }\n",
              "\n",
              "    .dataframe thead th {\n",
              "        text-align: right;\n",
              "    }\n",
              "</style>\n",
              "<table border=\"1\" class=\"dataframe\">\n",
              "  <thead>\n",
              "    <tr style=\"text-align: right;\">\n",
              "      <th></th>\n",
              "      <th>momentum</th>\n",
              "      <th>learning rate</th>\n",
              "      <th>epoch</th>\n",
              "      <th>batch size</th>\n",
              "      <th>weight_decay</th>\n",
              "      <th>loss_mean</th>\n",
              "      <th>acc_mean</th>\n",
              "    </tr>\n",
              "  </thead>\n",
              "  <tbody>\n",
              "    <tr>\n",
              "      <th>2</th>\n",
              "      <td>0.9</td>\n",
              "      <td>0.01</td>\n",
              "      <td>50.0</td>\n",
              "      <td>64.0</td>\n",
              "      <td>0.0100</td>\n",
              "      <td>1.003848</td>\n",
              "      <td>0.708551</td>\n",
              "    </tr>\n",
              "    <tr>\n",
              "      <th>3</th>\n",
              "      <td>0.9</td>\n",
              "      <td>0.10</td>\n",
              "      <td>50.0</td>\n",
              "      <td>64.0</td>\n",
              "      <td>0.0010</td>\n",
              "      <td>1.033697</td>\n",
              "      <td>0.699825</td>\n",
              "    </tr>\n",
              "    <tr>\n",
              "      <th>2</th>\n",
              "      <td>0.9</td>\n",
              "      <td>0.01</td>\n",
              "      <td>50.0</td>\n",
              "      <td>128.0</td>\n",
              "      <td>0.0001</td>\n",
              "      <td>1.043016</td>\n",
              "      <td>0.689936</td>\n",
              "    </tr>\n",
              "  </tbody>\n",
              "</table>\n",
              "</div>"
            ],
            "text/plain": [
              "   momentum  learning rate  epoch  ...  weight_decay  loss_mean  acc_mean\n",
              "2       0.9           0.01   50.0  ...        0.0100   1.003848  0.708551\n",
              "3       0.9           0.10   50.0  ...        0.0010   1.033697  0.699825\n",
              "2       0.9           0.01   50.0  ...        0.0001   1.043016  0.689936\n",
              "\n",
              "[3 rows x 7 columns]"
            ]
          },
          "metadata": {
            "tags": []
          },
          "execution_count": 15
        }
      ]
    },
    {
      "cell_type": "markdown",
      "metadata": {
        "id": "bENJipcFkj-L",
        "colab_type": "text"
      },
      "source": [
        "Results and comments here"
      ]
    },
    {
      "cell_type": "markdown",
      "metadata": {
        "id": "vCeeH3HTkj-M",
        "colab_type": "text"
      },
      "source": [
        "### 1.2.) Train Baseline Model"
      ]
    },
    {
      "cell_type": "code",
      "metadata": {
        "id": "wKaBoHadkj-M",
        "colab_type": "code",
        "colab": {
          "base_uri": "https://localhost:8080/",
          "height": 68
        },
        "outputId": "7639b0cb-9b3b-44e7-dca6-4bff02e08626"
      },
      "source": [
        "wresnet_ins = WideResidualNetwork()\n",
        "EPOCHS = 50\n",
        "BS = 64\n",
        "init = (32, 32,1)\n",
        "sgd = SGD(lr=0.01, momentum=0.9)\n",
        "#wrn_16_2.summary()\n",
        "wrn_16_2 = wresnet_ins.create_wide_residual_network(0.0001, 0.01,init,0.9, nb_classes=4, N=2, k=2, dropout=0.0)\n",
        "wrn_16_2.compile(loss=\"categorical_crossentropy\", optimizer=sgd, metrics=[\"acc\"])\n",
        "print(\"Finished compiling\")\n"
      ],
      "execution_count": 16,
      "outputs": [
        {
          "output_type": "stream",
          "text": [
            "conv2:channel:  -1\n",
            "Wide Residual Network-16-2 created.\n",
            "Finished compiling\n"
          ],
          "name": "stdout"
        }
      ]
    },
    {
      "cell_type": "code",
      "metadata": {
        "id": "hG_0aYgPq6Jg",
        "colab_type": "code",
        "colab": {
          "base_uri": "https://localhost:8080/",
          "height": 1000
        },
        "outputId": "3a50e3fc-f2f8-47f8-8083-117e930f3360"
      },
      "source": [
        "\n",
        "hist = wrn_16_2.fit(generator.flow(x_train, y_train, batch_size=BS), steps_per_epoch=len(x_train) // BS, epochs=EPOCHS,\n",
        "                   validation_data=(X_val, y_val),\n",
        "                   validation_steps=X_val.shape[0] // BS,)\n",
        "wrn_16_2.save(\"wrn_model.h5\")"
      ],
      "execution_count": 17,
      "outputs": [
        {
          "output_type": "stream",
          "text": [
            "72/72 [==============================] - 2s 30ms/step - loss: 1.1993 - acc: 0.5908 - val_loss: 1.1585 - val_acc: 0.6175\n",
            "Epoch 14/50\n",
            "72/72 [==============================] - 2s 31ms/step - loss: 1.1559 - acc: 0.6223 - val_loss: 1.1134 - val_acc: 0.6524\n",
            "Epoch 15/50\n",
            "72/72 [==============================] - 2s 31ms/step - loss: 1.1253 - acc: 0.6258 - val_loss: 1.0900 - val_acc: 0.6563\n",
            "Epoch 16/50\n",
            "72/72 [==============================] - 2s 31ms/step - loss: 1.0937 - acc: 0.6446 - val_loss: 1.0872 - val_acc: 0.6485\n",
            "Epoch 17/50\n",
            "72/72 [==============================] - 2s 31ms/step - loss: 1.0573 - acc: 0.6661 - val_loss: 1.0685 - val_acc: 0.6563\n",
            "Epoch 18/50\n",
            "72/72 [==============================] - 2s 31ms/step - loss: 1.0380 - acc: 0.6639 - val_loss: 1.0502 - val_acc: 0.6660\n",
            "Epoch 19/50\n",
            "72/72 [==============================] - 2s 31ms/step - loss: 1.0232 - acc: 0.6783 - val_loss: 1.0966 - val_acc: 0.6447\n",
            "Epoch 20/50\n",
            "72/72 [==============================] - 2s 31ms/step - loss: 1.0037 - acc: 0.6856 - val_loss: 1.0884 - val_acc: 0.6583\n",
            "Epoch 21/50\n",
            "72/72 [==============================] - 2s 31ms/step - loss: 0.9662 - acc: 0.7077 - val_loss: 1.0220 - val_acc: 0.6757\n",
            "Epoch 22/50\n",
            "72/72 [==============================] - 2s 31ms/step - loss: 0.9779 - acc: 0.7022 - val_loss: 0.9689 - val_acc: 0.7184\n",
            "Epoch 23/50\n",
            "72/72 [==============================] - 2s 31ms/step - loss: 0.9400 - acc: 0.7088 - val_loss: 1.0900 - val_acc: 0.6583\n",
            "Epoch 24/50\n",
            "72/72 [==============================] - 2s 31ms/step - loss: 0.9305 - acc: 0.7210 - val_loss: 0.9769 - val_acc: 0.7107\n",
            "Epoch 25/50\n",
            "72/72 [==============================] - 2s 31ms/step - loss: 0.9000 - acc: 0.7317 - val_loss: 0.9635 - val_acc: 0.7068\n",
            "Epoch 26/50\n",
            "72/72 [==============================] - 2s 30ms/step - loss: 0.9011 - acc: 0.7326 - val_loss: 0.9782 - val_acc: 0.7010\n",
            "Epoch 27/50\n",
            "72/72 [==============================] - 2s 32ms/step - loss: 0.8812 - acc: 0.7405 - val_loss: 0.9098 - val_acc: 0.7476\n",
            "Epoch 28/50\n",
            "72/72 [==============================] - 2s 31ms/step - loss: 0.8648 - acc: 0.7479 - val_loss: 0.9934 - val_acc: 0.6816\n",
            "Epoch 29/50\n",
            "72/72 [==============================] - 2s 30ms/step - loss: 0.8745 - acc: 0.7473 - val_loss: 0.9732 - val_acc: 0.7282\n",
            "Epoch 30/50\n",
            "72/72 [==============================] - 2s 30ms/step - loss: 0.8671 - acc: 0.7490 - val_loss: 0.9713 - val_acc: 0.7126\n",
            "Epoch 31/50\n",
            "72/72 [==============================] - 2s 31ms/step - loss: 0.8537 - acc: 0.7514 - val_loss: 0.9437 - val_acc: 0.7262\n",
            "Epoch 32/50\n",
            "72/72 [==============================] - 2s 31ms/step - loss: 0.8405 - acc: 0.7538 - val_loss: 0.9456 - val_acc: 0.7204\n",
            "Epoch 33/50\n",
            "72/72 [==============================] - 2s 30ms/step - loss: 0.8355 - acc: 0.7567 - val_loss: 0.9289 - val_acc: 0.7476\n",
            "Epoch 34/50\n",
            "72/72 [==============================] - 2s 30ms/step - loss: 0.8269 - acc: 0.7575 - val_loss: 0.9658 - val_acc: 0.7282\n",
            "Epoch 35/50\n",
            "72/72 [==============================] - 2s 31ms/step - loss: 0.8183 - acc: 0.7650 - val_loss: 0.9377 - val_acc: 0.7262\n",
            "Epoch 36/50\n",
            "72/72 [==============================] - 2s 31ms/step - loss: 0.7965 - acc: 0.7735 - val_loss: 0.9479 - val_acc: 0.7223\n",
            "Epoch 37/50\n",
            "72/72 [==============================] - 2s 30ms/step - loss: 0.7952 - acc: 0.7755 - val_loss: 0.8969 - val_acc: 0.7515\n",
            "Epoch 38/50\n",
            "72/72 [==============================] - 2s 31ms/step - loss: 0.7818 - acc: 0.7763 - val_loss: 0.9465 - val_acc: 0.7204\n",
            "Epoch 39/50\n",
            "72/72 [==============================] - 2s 31ms/step - loss: 0.7963 - acc: 0.7716 - val_loss: 0.9598 - val_acc: 0.7243\n",
            "Epoch 40/50\n",
            "72/72 [==============================] - 2s 31ms/step - loss: 0.7768 - acc: 0.7816 - val_loss: 0.9561 - val_acc: 0.7379\n",
            "Epoch 41/50\n",
            "72/72 [==============================] - 2s 31ms/step - loss: 0.7775 - acc: 0.7856 - val_loss: 0.9074 - val_acc: 0.7456\n",
            "Epoch 42/50\n",
            "72/72 [==============================] - 2s 31ms/step - loss: 0.7541 - acc: 0.7910 - val_loss: 0.9236 - val_acc: 0.7301\n",
            "Epoch 43/50\n",
            "72/72 [==============================] - 2s 31ms/step - loss: 0.7417 - acc: 0.7993 - val_loss: 0.9329 - val_acc: 0.7515\n",
            "Epoch 44/50\n",
            "72/72 [==============================] - 2s 31ms/step - loss: 0.7444 - acc: 0.7961 - val_loss: 0.9096 - val_acc: 0.7573\n",
            "Epoch 45/50\n",
            "72/72 [==============================] - 2s 31ms/step - loss: 0.7446 - acc: 0.7950 - val_loss: 1.0508 - val_acc: 0.6913\n",
            "Epoch 46/50\n",
            "72/72 [==============================] - 2s 31ms/step - loss: 0.7253 - acc: 0.8024 - val_loss: 0.9454 - val_acc: 0.7282\n",
            "Epoch 47/50\n",
            "72/72 [==============================] - 2s 30ms/step - loss: 0.7115 - acc: 0.8048 - val_loss: 0.9009 - val_acc: 0.7476\n",
            "Epoch 48/50\n",
            "72/72 [==============================] - 2s 31ms/step - loss: 0.7075 - acc: 0.8070 - val_loss: 0.8918 - val_acc: 0.7379\n",
            "Epoch 49/50\n",
            "72/72 [==============================] - 2s 31ms/step - loss: 0.7297 - acc: 0.8009 - val_loss: 0.9084 - val_acc: 0.7476\n",
            "Epoch 50/50\n",
            "72/72 [==============================] - 2s 30ms/step - loss: 0.6996 - acc: 0.8107 - val_loss: 0.9874 - val_acc: 0.7243\n"
          ],
          "name": "stdout"
        }
      ]
    },
    {
      "cell_type": "code",
      "metadata": {
        "id": "1t8MN-34iHQk",
        "colab_type": "code",
        "colab": {
          "base_uri": "https://localhost:8080/",
          "height": 51
        },
        "outputId": "8931d70b-a916-4bad-f2e9-935592ac6b2b"
      },
      "source": [
        "wrn_16_2.evaluate(X_test, y_test)"
      ],
      "execution_count": 22,
      "outputs": [
        {
          "output_type": "stream",
          "text": [
            "18/18 [==============================] - 0s 5ms/step - loss: 1.0463 - acc: 0.7138\n"
          ],
          "name": "stdout"
        },
        {
          "output_type": "execute_result",
          "data": {
            "text/plain": [
              "[1.0463284254074097, 0.7137870788574219]"
            ]
          },
          "metadata": {
            "tags": []
          },
          "execution_count": 22
        }
      ]
    },
    {
      "cell_type": "markdown",
      "metadata": {
        "id": "YkSQoSA8kj-Q",
        "colab_type": "text"
      },
      "source": [
        "<b>Evaluate the Learning Curve</b>"
      ]
    },
    {
      "cell_type": "code",
      "metadata": {
        "id": "yOQ6tQgIkj-R",
        "colab_type": "code",
        "colab": {
          "base_uri": "https://localhost:8080/",
          "height": 590
        },
        "outputId": "a1ec1e23-d688-4982-86fc-9264a8d29c34"
      },
      "source": [
        "show_graph(hist)"
      ],
      "execution_count": 19,
      "outputs": [
        {
          "output_type": "stream",
          "text": [
            "dict_keys(['loss', 'acc', 'val_loss', 'val_acc'])\n"
          ],
          "name": "stdout"
        },
        {
          "output_type": "display_data",
          "data": {
            "image/png": "[encoded data removed]",
            "text/plain": [
              "<Figure size 432x288 with 1 Axes>"
            ]
          },
          "metadata": {
            "tags": [],
            "needs_background": "light"
          }
        },
        {
          "output_type": "display_data",
          "data": {
            "image/png": "[encoded data removed]",
            "text/plain": [
              "<Figure size 432x288 with 1 Axes>"
            ]
          },
          "metadata": {
            "tags": [],
            "needs_background": "light"
          }
        }
      ]
    },
    {
      "cell_type": "markdown",
      "metadata": {
        "id": "fYGhWSzUiU1A",
        "colab_type": "text"
      },
      "source": [
        "* Evaluate the result"
      ]
    },
    {
      "cell_type": "markdown",
      "metadata": {
        "id": "A3mH9_WMkj-a",
        "colab_type": "text"
      },
      "source": [
        "### 1.3.) Adversarial Training on Baseline Model"
      ]
    },
    {
      "cell_type": "code",
      "metadata": {
        "id": "mo_Iwi1Zkj-a",
        "colab_type": "code",
        "colab": {}
      },
      "source": [
        "epsilon_list = [0.003,0.005,0.01,0.02]\n",
        "EPOCHS = 50\n",
        "BS = 64\n",
        "adversarial_training =  AdversarialTraining()\n",
        "logits_model = tf.keras.Model(wrn_16_2.input, wrn_16_2.layers[-1].output)\n",
        "sgd = SGD(lr=0.01, momentum=0.9)"
      ],
      "execution_count": 20,
      "outputs": []
    },
    {
      "cell_type": "code",
      "metadata": {
        "id": "Vl61OVpAkj-e",
        "colab_type": "code",
        "colab": {}
      },
      "source": [
        "result_adv_df = adversarial_training.train(logits_model, X_train, Y_train, X_test, y_test, EPOCHS, BS, epsilon_list, sgd)"
      ],
      "execution_count": null,
      "outputs": []
    },
    {
      "cell_type": "markdown",
      "metadata": {
        "id": "9LT0T19skj-h",
        "colab_type": "text"
      },
      "source": [
        "### Evaluate the Results of Adversarial Traing and Non-Adversarial Training "
      ]
    },
    {
      "cell_type": "code",
      "metadata": {
        "id": "XSr1gpfzkj-i",
        "colab_type": "code",
        "colab": {}
      },
      "source": [
        "result_adv_df[\"clean_mean\"]= np.sum(result_adv_df['acc_clean'])/10.0\n",
        "result_adv_df[\"0.003_mean\"]= np.sum(result_adv_df['acc1'])/10.0\n",
        "result_adv_df[\"0.005_mean\"]= np.sum(result_adv_df['acc2'])/10.0\n",
        "result_adv_df[\"0.02_mean\"]= np.sum(result_adv_df['acc3'])/10.0\n",
        "result_adv_df[\"0.01_mean\"]= np.sum(result_adv_df['acc4'])/10.0"
      ],
      "execution_count": null,
      "outputs": []
    },
    {
      "cell_type": "code",
      "metadata": {
        "id": "JbtKmK02vW3N",
        "colab_type": "code",
        "colab": {
          "base_uri": "https://localhost:8080/",
          "height": 80
        },
        "outputId": "5f021841-a3a1-49b1-8d52-7f9adf484979"
      },
      "source": [
        "column = [\"clean_mean\",\"0.003_mean\",\t\"0.005_mean\",\t\"0.02_mean\",\t\"0.01_mean\"]\n",
        "result_adv_df[column].head(1)"
      ],
      "execution_count": null,
      "outputs": [
        {
          "output_type": "execute_result",
          "data": {
            "text/html": [
              "<div>\n",
              "<style scoped>\n",
              "    .dataframe tbody tr th:only-of-type {\n",
              "        vertical-align: middle;\n",
              "    }\n",
              "\n",
              "    .dataframe tbody tr th {\n",
              "        vertical-align: top;\n",
              "    }\n",
              "\n",
              "    .dataframe thead th {\n",
              "        text-align: right;\n",
              "    }\n",
              "</style>\n",
              "<table border=\"1\" class=\"dataframe\">\n",
              "  <thead>\n",
              "    <tr style=\"text-align: right;\">\n",
              "      <th></th>\n",
              "      <th>clean_mean</th>\n",
              "      <th>0.003_mean</th>\n",
              "      <th>0.005_mean</th>\n",
              "      <th>0.02_mean</th>\n",
              "      <th>0.01_mean</th>\n",
              "    </tr>\n",
              "  </thead>\n",
              "  <tbody>\n",
              "    <tr>\n",
              "      <th>0</th>\n",
              "      <td>0.752007</td>\n",
              "      <td>0.744677</td>\n",
              "      <td>0.739965</td>\n",
              "      <td>0.726702</td>\n",
              "      <td>0.697033</td>\n",
              "    </tr>\n",
              "  </tbody>\n",
              "</table>\n",
              "</div>"
            ],
            "text/plain": [
              "   clean_mean  0.003_mean  0.005_mean  0.02_mean  0.01_mean\n",
              "0    0.752007    0.744677    0.739965   0.726702   0.697033"
            ]
          },
          "metadata": {
            "tags": []
          },
          "execution_count": 36
        }
      ]
    },
    {
      "cell_type": "markdown",
      "metadata": {
        "id": "EGx2TDhYkj-l",
        "colab_type": "text"
      },
      "source": [
        "## 2. Complex Model"
      ]
    },
    {
      "cell_type": "code",
      "metadata": {
        "id": "0Cy7Eqtxkj-m",
        "colab_type": "code",
        "colab": {}
      },
      "source": [
        ""
      ],
      "execution_count": null,
      "outputs": []
    },
    {
      "cell_type": "markdown",
      "metadata": {
        "id": "cbEB2rg_kj-q",
        "colab_type": "text"
      },
      "source": [
        "### 2.1.) Find Model Parameters using Cross Validation and GridSearch"
      ]
    },
    {
      "cell_type": "code",
      "metadata": {
        "id": "tjC2EYOdkj-r",
        "colab_type": "code",
        "colab": {}
      },
      "source": [
        ""
      ],
      "execution_count": null,
      "outputs": []
    },
    {
      "cell_type": "markdown",
      "metadata": {
        "id": "gvnFuUyrkj-v",
        "colab_type": "text"
      },
      "source": [
        "### 2.2.) Train Model"
      ]
    },
    {
      "cell_type": "code",
      "metadata": {
        "id": "2Oci-AISkj-w",
        "colab_type": "code",
        "colab": {}
      },
      "source": [
        ""
      ],
      "execution_count": null,
      "outputs": []
    },
    {
      "cell_type": "code",
      "metadata": {
        "id": "fUgC-RrMkj-z",
        "colab_type": "code",
        "colab": {}
      },
      "source": [
        ""
      ],
      "execution_count": null,
      "outputs": []
    },
    {
      "cell_type": "markdown",
      "metadata": {
        "id": "GpK2A-b_kj-2",
        "colab_type": "text"
      },
      "source": [
        "### 2.3.) Adversarial Training"
      ]
    },
    {
      "cell_type": "code",
      "metadata": {
        "id": "ZOhSOG7Ukj-3",
        "colab_type": "code",
        "colab": {}
      },
      "source": [
        ""
      ],
      "execution_count": null,
      "outputs": []
    },
    {
      "cell_type": "code",
      "metadata": {
        "id": "w9tjiR0bkj-6",
        "colab_type": "code",
        "colab": {}
      },
      "source": [
        ""
      ],
      "execution_count": null,
      "outputs": []
    },
    {
      "cell_type": "markdown",
      "metadata": {
        "id": "gMIyb0YDkj-9",
        "colab_type": "text"
      },
      "source": [
        "#### <center> Evaluate the Results of Adversarial Traing and Non-Adversarial Training for the Model</center>"
      ]
    },
    {
      "cell_type": "code",
      "metadata": {
        "id": "8EnLBD7Ykj--",
        "colab_type": "code",
        "colab": {}
      },
      "source": [
        ""
      ],
      "execution_count": null,
      "outputs": []
    }
  ]
}