{
  "nbformat": 4,
  "nbformat_minor": 0,
  "metadata": {
    "accelerator": "GPU",
    "colab": {
      "name": "ParsevalNetwork_Result_2.ipynb",
      "provenance": [],
      "collapsed_sections": [],
      "toc_visible": true
    },
    "kernelspec": {
      "display_name": "Python 3",
      "language": "python",
      "name": "python3"
    },
    "language_info": {
      "codemirror_mode": {
        "name": "ipython",
        "version": 3
      },
      "file_extension": ".py",
      "mimetype": "text/x-python",
      "name": "python",
      "nbconvert_exporter": "python",
      "pygments_lexer": "ipython3",
      "version": "3.7.4"
    }
  },
  "cells": [
    {
      "cell_type": "markdown",
      "metadata": {
        "id": "CgKND0sckj9i"
      },
      "source": [
        "# <font color=\"purple\">Adversarial Training of Residual Network</font>"
      ]
    },
    {
      "cell_type": "markdown",
      "metadata": {
        "id": "WPX5KF4nkj9k"
      },
      "source": [
        "Definition of WideResNet and Architecture:"
      ]
    },
    {
      "cell_type": "markdown",
      "metadata": {
        "id": "W07XrKzjkj9l"
      },
      "source": [
        "##  <center>The Result of Residual Network </center>"
      ]
    },
    {
      "cell_type": "markdown",
      "metadata": {
        "id": "I6LWZY55kj9m"
      },
      "source": [
        "***Road Map***\n",
        "* Data Preprocessing\n",
        "* Model Cross Validation Results\n",
        "* Evaluate the GridSearchCV Results\n",
        "* Model Training and Learning Curves\n",
        "* Model Adversarial Training Approach.\n"
      ]
    },
    {
      "cell_type": "markdown",
      "metadata": {
        "id": "lkb49Wg6kj9n"
      },
      "source": [
        "**Libraries**"
      ]
    },
    {
      "cell_type": "code",
      "metadata": {
        "id": "Dlx9oRcwjDbJ"
      },
      "source": [
        "!pip install -qq -e git+http://github.com/tensorflow/cleverhans.git#egg=cleverhans\n",
        "import sys\n",
        "sys.path.append('/content/src/cleverhans')\n",
        "import cleverhans"
      ],
      "execution_count": 10,
      "outputs": []
    },
    {
      "cell_type": "code",
      "metadata": {
        "id": "NIEl6l0kkj9o",
        "outputId": "128b7d81-110d-4fe6-8c87-cb6b59cebdd2",
        "colab": {
          "base_uri": "https://localhost:8080/"
        }
      },
      "source": [
        "import tensorflow as tf\n",
        "from cleverhans.future.tf2.attacks import fast_gradient_method\n",
        "from tensorflow.keras.optimizers import SGD\n",
        "from tensorflow.keras.callbacks import Callback, LearningRateScheduler, EarlyStopping\n",
        "from sklearn.model_selection import train_test_split\n",
        "import pandas as pd\n",
        "import numpy as np\n",
        "from sklearn.preprocessing import LabelEncoder\n",
        "from tensorflow.keras.utils import to_categorical\n",
        "from sklearn.model_selection import  KFold\n",
        "import gzip\n",
        "import pickle\n",
        "import numpy as np\n",
        "from parsevalnet import ParsevalNetwork\n",
        "import warnings\n",
        "warnings.filterwarnings(\"ignore\")\n",
        "\n",
        "print(\"\\nTensorflow Version: \" + tf.__version__)\n",
        "# utility functions\n",
        "from preprocessing import preprocessing_data\n",
        "# Define configuration parameters\n",
        "from _utility import lrate\n",
        "from training import train\n",
        "from adversarial_training import  AdversarialTraining"
      ],
      "execution_count": 11,
      "outputs": [
        {
          "output_type": "stream",
          "text": [
            "\n",
            "Tensorflow Version: 2.3.0\n"
          ],
          "name": "stdout"
        }
      ]
    },
    {
      "cell_type": "markdown",
      "metadata": {
        "id": "IhvWP7D-kj9v"
      },
      "source": [
        "## <font color=\"green\"> Data Preprocessing </font>\n"
      ]
    },
    {
      "cell_type": "markdown",
      "metadata": {
        "id": "o-Tkt8tPkj9w"
      },
      "source": [
        "* Read Data from File"
      ]
    },
    {
      "cell_type": "code",
      "metadata": {
        "id": "MbL58svXkj9x"
      },
      "source": [
        "def read_data():\n",
        "    with open(\"data.pz\", 'rb') as file_:\n",
        "        with gzip.GzipFile(fileobj=file_) as gzf:\n",
        "            data = pickle.load(gzf, encoding='latin1', fix_imports=True)\n",
        "    return data\n",
        "data = read_data()"
      ],
      "execution_count": 12,
      "outputs": []
    },
    {
      "cell_type": "markdown",
      "metadata": {
        "id": "CS5UxTh4kj91"
      },
      "source": [
        "* Call data preprocessing function"
      ]
    },
    {
      "cell_type": "code",
      "metadata": {
        "id": "lggXy4Xckj96"
      },
      "source": [
        "X, y = preprocessing_data(data)\n",
        "X_train, X_test, Y_train, y_test = train_test_split(X, y, test_size = 0.1)\n",
        "x_train, x_val, y_train, y_val = train_test_split(X_train, Y_train, test_size = 0.1)"
      ],
      "execution_count": 13,
      "outputs": []
    },
    {
      "cell_type": "markdown",
      "metadata": {
        "id": "ZMx1UO52ozNP"
      },
      "source": [
        "## <font color=\"green\"> Utilize Functions </font>"
      ]
    },
    {
      "cell_type": "markdown",
      "metadata": {
        "id": "DN9n1xLKpNAk"
      },
      "source": [
        "* Flipping the image using data augmentation technique"
      ]
    },
    {
      "cell_type": "code",
      "metadata": {
        "id": "MywglnvLo3b-"
      },
      "source": [
        "generator = tf.keras.preprocessing.image.ImageDataGenerator(rotation_range=10,\n",
        "                               width_shift_range=5./32,\n",
        "                               height_shift_range=5./32,)"
      ],
      "execution_count": 14,
      "outputs": []
    },
    {
      "cell_type": "markdown",
      "metadata": {
        "id": "evs0Sbh8i-pZ"
      },
      "source": [
        "### <font color = \"green\">Some Parameters Regarding Adversarial Examples</font>"
      ]
    },
    {
      "cell_type": "code",
      "metadata": {
        "id": "IIgl4BDQjPFL"
      },
      "source": [
        "# predefined epsilon values\n",
        "epsilon_list = [0.003,0.005,0.01,0.02]"
      ],
      "execution_count": 15,
      "outputs": []
    },
    {
      "cell_type": "markdown",
      "metadata": {
        "id": "XzFqxjQOkj9-"
      },
      "source": [
        "## <font color=\"purple\"> 1.) Baseline of the Model</font>"
      ]
    },
    {
      "cell_type": "code",
      "metadata": {
        "id": "wKaBoHadkj-M"
      },
      "source": [
        "EPOCHS = 150\n",
        "BS = 64\n",
        "init = (32, 32,1)\n",
        "sgd = SGD(lr=0.01, momentum=0.9)\n",
        "parameter = {'epochs': EPOCHS, 'batch_size': BS, 'optimizer': sgd}"
      ],
      "execution_count": 16,
      "outputs": []
    },
    {
      "cell_type": "code",
      "metadata": {
        "id": "1l_vYwIqtwdf"
      },
      "source": [
        "es = EarlyStopping(monitor='val_loss', mode='min', verbose=1, patience=200)\n",
        "callbacks_list = [lrate, es]\n",
        "parseval = ParsevalNetwork(init,0.0001, 0.9, nb_classes=4, N=2, k=2, dropout=0.0)"
      ],
      "execution_count": 17,
      "outputs": []
    },
    {
      "cell_type": "code",
      "metadata": {
        "id": "ul2WNPdGcy1f"
      },
      "source": [
        "premodel = parseval.create_wide_residual_network()\n",
        "premodel.compile(loss=\"categorical_crossentropy\", optimizer=sgd, metrics=[\"acc\"])\n",
        "premodel.fit(generator.flow(x_train, y_train, batch_size=BS),steps_per_epoch=len(x_train) // BS, \n",
        "              epochs= EPOCHS, callbacks = callbacks_list,\n",
        "              validation_data=(x_val, y_val),\n",
        "              validation_steps=x_val.shape[0] // BS,\n",
        "              )"
      ],
      "execution_count": null,
      "outputs": []
    },
    {
      "cell_type": "code",
      "metadata": {
        "id": "yE0ESEsu0kyV"
      },
      "source": [
        "result_df = train(parseval,premodel, X_train, Y_train, X_test, y_test, EPOCHS, BS, sgd, generator, callbacks_list, epsilon_list, model_name=\"Parseval\")"
      ],
      "execution_count": null,
      "outputs": []
    },
    {
      "cell_type": "code",
      "metadata": {
        "id": "wwWhlkgG1PA8"
      },
      "source": [
        "result_df[\"clean_mean\"] = np.sum(result_df['acc_clean'])/10.0\n",
        "result_df[\"0.003_mean\"] = np.sum(result_df['0.003_acc'])/10.0\n",
        "result_df[\"0.005_mean\"] = np.sum(result_df['0.005_acc'])/10.0\n",
        "result_df[\"0.02_mean\"] = np.sum(result_df['0.02_acc'])/10.0\n",
        "result_df[\"0.01_mean\"] = np.sum(result_df['0.01_acc'])/10.0"
      ],
      "execution_count": 20,
      "outputs": []
    },
    {
      "cell_type": "code",
      "metadata": {
        "id": "7mR0LQQp0ZAu",
        "outputId": "d5739bbd-7542-4720-f43a-c918be313c9a",
        "colab": {
          "base_uri": "https://localhost:8080/",
          "height": 100
        }
      },
      "source": [
        "result_df.head(1)"
      ],
      "execution_count": 21,
      "outputs": [
        {
          "output_type": "execute_result",
          "data": {
            "text/html": [
              "<div>\n",
              "<style scoped>\n",
              "    .dataframe tbody tr th:only-of-type {\n",
              "        vertical-align: middle;\n",
              "    }\n",
              "\n",
              "    .dataframe tbody tr th {\n",
              "        vertical-align: top;\n",
              "    }\n",
              "\n",
              "    .dataframe thead th {\n",
              "        text-align: right;\n",
              "    }\n",
              "</style>\n",
              "<table border=\"1\" class=\"dataframe\">\n",
              "  <thead>\n",
              "    <tr style=\"text-align: right;\">\n",
              "      <th></th>\n",
              "      <th>loss_clean</th>\n",
              "      <th>acc_clean</th>\n",
              "      <th>0.003_loss</th>\n",
              "      <th>0.003_acc</th>\n",
              "      <th>0.005_loss</th>\n",
              "      <th>0.005_acc</th>\n",
              "      <th>0.02_acc</th>\n",
              "      <th>0.02_loss</th>\n",
              "      <th>0.01_acc</th>\n",
              "      <th>0.01_clean</th>\n",
              "      <th>0.01_loss</th>\n",
              "      <th>clean_mean</th>\n",
              "      <th>0.003_mean</th>\n",
              "      <th>0.005_mean</th>\n",
              "      <th>0.02_mean</th>\n",
              "      <th>0.01_mean</th>\n",
              "    </tr>\n",
              "  </thead>\n",
              "  <tbody>\n",
              "    <tr>\n",
              "      <th>0</th>\n",
              "      <td>0.698203</td>\n",
              "      <td>0.753927</td>\n",
              "      <td>0.945641</td>\n",
              "      <td>0.692845</td>\n",
              "      <td>1.045521</td>\n",
              "      <td>0.663176</td>\n",
              "      <td>0.588133</td>\n",
              "      <td>1.315899</td>\n",
              "      <td>0.406632</td>\n",
              "      <td>NaN</td>\n",
              "      <td>0.406632</td>\n",
              "      <td>0.751483</td>\n",
              "      <td>0.692845</td>\n",
              "      <td>0.663176</td>\n",
              "      <td>0.588133</td>\n",
              "      <td>0.406632</td>\n",
              "    </tr>\n",
              "  </tbody>\n",
              "</table>\n",
              "</div>"
            ],
            "text/plain": [
              "   loss_clean  acc_clean  0.003_loss  ...  0.005_mean  0.02_mean  0.01_mean\n",
              "0    0.698203   0.753927    0.945641  ...    0.663176   0.588133   0.406632\n",
              "\n",
              "[1 rows x 16 columns]"
            ]
          },
          "metadata": {
            "tags": []
          },
          "execution_count": 21
        }
      ]
    },
    {
      "cell_type": "markdown",
      "metadata": {
        "id": "A3mH9_WMkj-a"
      },
      "source": [
        "## <font color=\"purple\">2.) Adversarial Training on Baseline Model</font>"
      ]
    },
    {
      "cell_type": "code",
      "metadata": {
        "id": "FAoBGHiWTnc9"
      },
      "source": [
        "adversarial_training =  AdversarialTraining(parameter)\n",
        "result_adv_df = adversarial_training.train(parseval,premodel, X_train, Y_train, X_test, y_test, epsilon_list, callbacks_list,model_name=\"parseval\")"
      ],
      "execution_count": null,
      "outputs": []
    },
    {
      "cell_type": "code",
      "metadata": {
        "id": "-YzBB_U6A07l",
        "outputId": "cbd4883a-da7b-4db5-cc1c-8e76300147d5",
        "colab": {
          "base_uri": "https://localhost:8080/",
          "height": 379
        }
      },
      "source": [
        "result_adv_df"
      ],
      "execution_count": 23,
      "outputs": [
        {
          "output_type": "execute_result",
          "data": {
            "text/html": [
              "<div>\n",
              "<style scoped>\n",
              "    .dataframe tbody tr th:only-of-type {\n",
              "        vertical-align: middle;\n",
              "    }\n",
              "\n",
              "    .dataframe tbody tr th {\n",
              "        vertical-align: top;\n",
              "    }\n",
              "\n",
              "    .dataframe thead th {\n",
              "        text-align: right;\n",
              "    }\n",
              "</style>\n",
              "<table border=\"1\" class=\"dataframe\">\n",
              "  <thead>\n",
              "    <tr style=\"text-align: right;\">\n",
              "      <th></th>\n",
              "      <th>loss_clean</th>\n",
              "      <th>acc_clean</th>\n",
              "      <th>0.003_loss</th>\n",
              "      <th>0.003_acc</th>\n",
              "      <th>0.005_loss</th>\n",
              "      <th>0.005_acc</th>\n",
              "      <th>0.02_acc</th>\n",
              "      <th>0.02_loss</th>\n",
              "      <th>0.01_acc</th>\n",
              "      <th>0.01_loss</th>\n",
              "    </tr>\n",
              "  </thead>\n",
              "  <tbody>\n",
              "    <tr>\n",
              "      <th>0</th>\n",
              "      <td>0.688139</td>\n",
              "      <td>0.769634</td>\n",
              "      <td>0.836034</td>\n",
              "      <td>0.727749</td>\n",
              "      <td>0.855202</td>\n",
              "      <td>0.720768</td>\n",
              "      <td>0.713787</td>\n",
              "      <td>0.905421</td>\n",
              "      <td>0.685864</td>\n",
              "      <td>1.015160</td>\n",
              "    </tr>\n",
              "    <tr>\n",
              "      <th>1</th>\n",
              "      <td>0.734335</td>\n",
              "      <td>0.748691</td>\n",
              "      <td>0.839018</td>\n",
              "      <td>0.726003</td>\n",
              "      <td>0.860420</td>\n",
              "      <td>0.720768</td>\n",
              "      <td>0.705061</td>\n",
              "      <td>0.916079</td>\n",
              "      <td>0.663176</td>\n",
              "      <td>1.039588</td>\n",
              "    </tr>\n",
              "    <tr>\n",
              "      <th>2</th>\n",
              "      <td>0.734178</td>\n",
              "      <td>0.739965</td>\n",
              "      <td>0.838033</td>\n",
              "      <td>0.722513</td>\n",
              "      <td>0.858467</td>\n",
              "      <td>0.719023</td>\n",
              "      <td>0.706806</td>\n",
              "      <td>0.912670</td>\n",
              "      <td>0.661431</td>\n",
              "      <td>1.030494</td>\n",
              "    </tr>\n",
              "    <tr>\n",
              "      <th>3</th>\n",
              "      <td>0.704380</td>\n",
              "      <td>0.759162</td>\n",
              "      <td>0.836271</td>\n",
              "      <td>0.724258</td>\n",
              "      <td>0.855892</td>\n",
              "      <td>0.720768</td>\n",
              "      <td>0.712042</td>\n",
              "      <td>0.907846</td>\n",
              "      <td>0.670157</td>\n",
              "      <td>1.021665</td>\n",
              "    </tr>\n",
              "    <tr>\n",
              "      <th>4</th>\n",
              "      <td>0.762612</td>\n",
              "      <td>0.753927</td>\n",
              "      <td>0.839419</td>\n",
              "      <td>0.722513</td>\n",
              "      <td>0.860984</td>\n",
              "      <td>0.719023</td>\n",
              "      <td>0.706806</td>\n",
              "      <td>0.917756</td>\n",
              "      <td>0.657941</td>\n",
              "      <td>1.038949</td>\n",
              "    </tr>\n",
              "    <tr>\n",
              "      <th>5</th>\n",
              "      <td>0.701838</td>\n",
              "      <td>0.771379</td>\n",
              "      <td>0.839357</td>\n",
              "      <td>0.724258</td>\n",
              "      <td>0.860839</td>\n",
              "      <td>0.717277</td>\n",
              "      <td>0.706806</td>\n",
              "      <td>0.916767</td>\n",
              "      <td>0.677138</td>\n",
              "      <td>1.035962</td>\n",
              "    </tr>\n",
              "    <tr>\n",
              "      <th>6</th>\n",
              "      <td>0.758194</td>\n",
              "      <td>0.724258</td>\n",
              "      <td>0.834633</td>\n",
              "      <td>0.726003</td>\n",
              "      <td>0.852951</td>\n",
              "      <td>0.724258</td>\n",
              "      <td>0.708551</td>\n",
              "      <td>0.901419</td>\n",
              "      <td>0.675393</td>\n",
              "      <td>1.006575</td>\n",
              "    </tr>\n",
              "    <tr>\n",
              "      <th>7</th>\n",
              "      <td>0.672759</td>\n",
              "      <td>0.767888</td>\n",
              "      <td>0.838415</td>\n",
              "      <td>0.726003</td>\n",
              "      <td>0.859193</td>\n",
              "      <td>0.724258</td>\n",
              "      <td>0.708551</td>\n",
              "      <td>0.913812</td>\n",
              "      <td>0.670157</td>\n",
              "      <td>1.035642</td>\n",
              "    </tr>\n",
              "    <tr>\n",
              "      <th>8</th>\n",
              "      <td>0.718666</td>\n",
              "      <td>0.759162</td>\n",
              "      <td>0.836523</td>\n",
              "      <td>0.726003</td>\n",
              "      <td>0.856082</td>\n",
              "      <td>0.722513</td>\n",
              "      <td>0.712042</td>\n",
              "      <td>0.907375</td>\n",
              "      <td>0.675393</td>\n",
              "      <td>1.016348</td>\n",
              "    </tr>\n",
              "    <tr>\n",
              "      <th>9</th>\n",
              "      <td>0.698537</td>\n",
              "      <td>0.760908</td>\n",
              "      <td>0.837199</td>\n",
              "      <td>0.726003</td>\n",
              "      <td>0.857154</td>\n",
              "      <td>0.719023</td>\n",
              "      <td>0.708551</td>\n",
              "      <td>0.909638</td>\n",
              "      <td>0.663176</td>\n",
              "      <td>1.024063</td>\n",
              "    </tr>\n",
              "  </tbody>\n",
              "</table>\n",
              "</div>"
            ],
            "text/plain": [
              "   loss_clean  acc_clean  0.003_loss  ...  0.02_loss  0.01_acc  0.01_loss\n",
              "0    0.688139   0.769634    0.836034  ...   0.905421  0.685864   1.015160\n",
              "1    0.734335   0.748691    0.839018  ...   0.916079  0.663176   1.039588\n",
              "2    0.734178   0.739965    0.838033  ...   0.912670  0.661431   1.030494\n",
              "3    0.704380   0.759162    0.836271  ...   0.907846  0.670157   1.021665\n",
              "4    0.762612   0.753927    0.839419  ...   0.917756  0.657941   1.038949\n",
              "5    0.701838   0.771379    0.839357  ...   0.916767  0.677138   1.035962\n",
              "6    0.758194   0.724258    0.834633  ...   0.901419  0.675393   1.006575\n",
              "7    0.672759   0.767888    0.838415  ...   0.913812  0.670157   1.035642\n",
              "8    0.718666   0.759162    0.836523  ...   0.907375  0.675393   1.016348\n",
              "9    0.698537   0.760908    0.837199  ...   0.909638  0.663176   1.024063\n",
              "\n",
              "[10 rows x 10 columns]"
            ]
          },
          "metadata": {
            "tags": []
          },
          "execution_count": 23
        }
      ]
    },
    {
      "cell_type": "markdown",
      "metadata": {
        "id": "9LT0T19skj-h"
      },
      "source": [
        "### <font color=\"purple\"> Results of Adversarial Training</font>"
      ]
    },
    {
      "cell_type": "code",
      "metadata": {
        "id": "XSr1gpfzkj-i"
      },
      "source": [
        "result_adv_df[\"clean_mean\"] = np.sum(result_adv_df['acc_clean'])/10.0\n",
        "result_adv_df[\"0.003_mean\"] = np.sum(result_adv_df['0.003_acc'])/10.0\n",
        "result_adv_df[\"0.005_mean\"] = np.sum(result_adv_df['0.005_acc'])/10.0\n",
        "result_adv_df[\"0.02_mean\"] = np.sum(result_adv_df['0.02_acc'])/10.0\n",
        "result_adv_df[\"0.01_mean\"] = np.sum(result_adv_df['0.01_acc'])/10.0"
      ],
      "execution_count": 24,
      "outputs": []
    },
    {
      "cell_type": "code",
      "metadata": {
        "id": "JbtKmK02vW3N",
        "outputId": "ae63f23f-bc1a-4821-9785-e9b1049dcefb",
        "colab": {
          "base_uri": "https://localhost:8080/",
          "height": 80
        }
      },
      "source": [
        "column = [\"clean_mean\",\"0.003_mean\",\"0.005_mean\",\"0.02_mean\",\"0.01_mean\"]\n",
        "result_adv_df[column].head(1)"
      ],
      "execution_count": 25,
      "outputs": [
        {
          "output_type": "execute_result",
          "data": {
            "text/html": [
              "<div>\n",
              "<style scoped>\n",
              "    .dataframe tbody tr th:only-of-type {\n",
              "        vertical-align: middle;\n",
              "    }\n",
              "\n",
              "    .dataframe tbody tr th {\n",
              "        vertical-align: top;\n",
              "    }\n",
              "\n",
              "    .dataframe thead th {\n",
              "        text-align: right;\n",
              "    }\n",
              "</style>\n",
              "<table border=\"1\" class=\"dataframe\">\n",
              "  <thead>\n",
              "    <tr style=\"text-align: right;\">\n",
              "      <th></th>\n",
              "      <th>clean_mean</th>\n",
              "      <th>0.003_mean</th>\n",
              "      <th>0.005_mean</th>\n",
              "      <th>0.02_mean</th>\n",
              "      <th>0.01_mean</th>\n",
              "    </tr>\n",
              "  </thead>\n",
              "  <tbody>\n",
              "    <tr>\n",
              "      <th>0</th>\n",
              "      <td>0.755497</td>\n",
              "      <td>0.725131</td>\n",
              "      <td>0.720768</td>\n",
              "      <td>0.708901</td>\n",
              "      <td>0.669983</td>\n",
              "    </tr>\n",
              "  </tbody>\n",
              "</table>\n",
              "</div>"
            ],
            "text/plain": [
              "   clean_mean  0.003_mean  0.005_mean  0.02_mean  0.01_mean\n",
              "0    0.755497    0.725131    0.720768   0.708901   0.669983"
            ]
          },
          "metadata": {
            "tags": []
          },
          "execution_count": 25
        }
      ]
    },
    {
      "cell_type": "markdown",
      "metadata": {
        "id": "Dk6SrKnTB_xI"
      },
      "source": [
        "# <font color=\"blue\">Compare Non-Adversarial Training with Adversarial Training</font>"
      ]
    },
    {
      "cell_type": "code",
      "metadata": {
        "id": "r9cyaTQ_CJj3",
        "outputId": "1cd07533-ae89-4610-cdb1-b5473913259c",
        "colab": {
          "base_uri": "https://localhost:8080/",
          "height": 80
        }
      },
      "source": [
        "result_adv_df[column].head(1)"
      ],
      "execution_count": 26,
      "outputs": [
        {
          "output_type": "execute_result",
          "data": {
            "text/html": [
              "<div>\n",
              "<style scoped>\n",
              "    .dataframe tbody tr th:only-of-type {\n",
              "        vertical-align: middle;\n",
              "    }\n",
              "\n",
              "    .dataframe tbody tr th {\n",
              "        vertical-align: top;\n",
              "    }\n",
              "\n",
              "    .dataframe thead th {\n",
              "        text-align: right;\n",
              "    }\n",
              "</style>\n",
              "<table border=\"1\" class=\"dataframe\">\n",
              "  <thead>\n",
              "    <tr style=\"text-align: right;\">\n",
              "      <th></th>\n",
              "      <th>clean_mean</th>\n",
              "      <th>0.003_mean</th>\n",
              "      <th>0.005_mean</th>\n",
              "      <th>0.02_mean</th>\n",
              "      <th>0.01_mean</th>\n",
              "    </tr>\n",
              "  </thead>\n",
              "  <tbody>\n",
              "    <tr>\n",
              "      <th>0</th>\n",
              "      <td>0.755497</td>\n",
              "      <td>0.725131</td>\n",
              "      <td>0.720768</td>\n",
              "      <td>0.708901</td>\n",
              "      <td>0.669983</td>\n",
              "    </tr>\n",
              "  </tbody>\n",
              "</table>\n",
              "</div>"
            ],
            "text/plain": [
              "   clean_mean  0.003_mean  0.005_mean  0.02_mean  0.01_mean\n",
              "0    0.755497    0.725131    0.720768   0.708901   0.669983"
            ]
          },
          "metadata": {
            "tags": []
          },
          "execution_count": 26
        }
      ]
    },
    {
      "cell_type": "code",
      "metadata": {
        "id": "PAvyuKGlCJ2D",
        "outputId": "8d91d051-28d5-4c57-8f94-a872aad8ba1d",
        "colab": {
          "base_uri": "https://localhost:8080/",
          "height": 80
        }
      },
      "source": [
        "result_df[column].head(1)"
      ],
      "execution_count": 27,
      "outputs": [
        {
          "output_type": "execute_result",
          "data": {
            "text/html": [
              "<div>\n",
              "<style scoped>\n",
              "    .dataframe tbody tr th:only-of-type {\n",
              "        vertical-align: middle;\n",
              "    }\n",
              "\n",
              "    .dataframe tbody tr th {\n",
              "        vertical-align: top;\n",
              "    }\n",
              "\n",
              "    .dataframe thead th {\n",
              "        text-align: right;\n",
              "    }\n",
              "</style>\n",
              "<table border=\"1\" class=\"dataframe\">\n",
              "  <thead>\n",
              "    <tr style=\"text-align: right;\">\n",
              "      <th></th>\n",
              "      <th>clean_mean</th>\n",
              "      <th>0.003_mean</th>\n",
              "      <th>0.005_mean</th>\n",
              "      <th>0.02_mean</th>\n",
              "      <th>0.01_mean</th>\n",
              "    </tr>\n",
              "  </thead>\n",
              "  <tbody>\n",
              "    <tr>\n",
              "      <th>0</th>\n",
              "      <td>0.751483</td>\n",
              "      <td>0.692845</td>\n",
              "      <td>0.663176</td>\n",
              "      <td>0.588133</td>\n",
              "      <td>0.406632</td>\n",
              "    </tr>\n",
              "  </tbody>\n",
              "</table>\n",
              "</div>"
            ],
            "text/plain": [
              "   clean_mean  0.003_mean  0.005_mean  0.02_mean  0.01_mean\n",
              "0    0.751483    0.692845    0.663176   0.588133   0.406632"
            ]
          },
          "metadata": {
            "tags": []
          },
          "execution_count": 27
        }
      ]
    },
    {
      "cell_type": "code",
      "metadata": {
        "id": "plOeOk0DagZP"
      },
      "source": [
        "result_df.to_json('parseval_2_n_adv.json.gz', orient='records', lines=True, compression='gzip')"
      ],
      "execution_count": 29,
      "outputs": []
    },
    {
      "cell_type": "code",
      "metadata": {
        "id": "4fNbLbAEapxP"
      },
      "source": [
        "result_adv_df.to_json('parseval_2_adv.json.gz', orient='records', lines=True, compression='gzip')"
      ],
      "execution_count": 30,
      "outputs": []
    },
    {
      "cell_type": "markdown",
      "metadata": {
        "id": "ziuulXV-B3SN"
      },
      "source": [
        "# <font color=\"blue\">Conclusion</font>"
      ]
    },
    {
      "cell_type": "code",
      "metadata": {
        "id": "P6wMdcJ37yA9"
      },
      "source": [
        ""
      ],
      "execution_count": 27,
      "outputs": []
    },
    {
      "cell_type": "markdown",
      "metadata": {
        "id": "cLwwAqvXsTeo"
      },
      "source": [
        ""
      ]
    }
  ]
}