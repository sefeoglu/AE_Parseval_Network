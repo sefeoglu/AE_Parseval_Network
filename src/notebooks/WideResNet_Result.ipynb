{
  "nbformat": 4,
  "nbformat_minor": 0,
  "metadata": {
    "kernelspec": {
      "display_name": "Python 3",
      "language": "python",
      "name": "python3"
    },
    "language_info": {
      "codemirror_mode": {
        "name": "ipython",
        "version": 3
      },
      "file_extension": ".py",
      "mimetype": "text/x-python",
      "name": "python",
      "nbconvert_exporter": "python",
      "pygments_lexer": "ipython3",
      "version": "3.7.4"
    },
    "colab": {
      "name": "WideResNet_Result.ipynb",
      "provenance": []
    },
    "accelerator": "GPU"
  },
  "cells": [
    {
      "cell_type": "markdown",
      "metadata": {
        "id": "CgKND0sckj9i",
        "colab_type": "text"
      },
      "source": [
        "# Wide Residual Network"
      ]
    },
    {
      "cell_type": "markdown",
      "metadata": {
        "id": "WPX5KF4nkj9k",
        "colab_type": "text"
      },
      "source": [
        "Definition of WideResNet and Architecture:"
      ]
    },
    {
      "cell_type": "markdown",
      "metadata": {
        "id": "5atyrM-Gkj9l",
        "colab_type": "text"
      },
      "source": [
        "Residual Networks vs Wide Residual Networks"
      ]
    },
    {
      "cell_type": "markdown",
      "metadata": {
        "id": "W07XrKzjkj9l",
        "colab_type": "text"
      },
      "source": [
        "##  <center>The Result of Wide Residual Network </center>"
      ]
    },
    {
      "cell_type": "markdown",
      "metadata": {
        "id": "I6LWZY55kj9m",
        "colab_type": "text"
      },
      "source": [
        "* Data Preprocessing\n",
        "* Model Cross Validation Results\n",
        "* Evaluate the GridSearchCV Results\n",
        "* Model Training and Learning Curves\n",
        "* Model Adversarial Training Approach.\n"
      ]
    },
    {
      "cell_type": "markdown",
      "metadata": {
        "id": "lkb49Wg6kj9n",
        "colab_type": "text"
      },
      "source": [
        "#### import the libraries."
      ]
    },
    {
      "cell_type": "code",
      "metadata": {
        "id": "NIEl6l0kkj9o",
        "colab_type": "code",
        "colab": {
          "base_uri": "https://localhost:8080/",
          "height": 367
        },
        "outputId": "6887e73b-d50b-4205-f160-16742ef3cd59"
      },
      "source": [
        "import tensorflow as tf\n",
        "from tensorflow.keras.optimizers import SGD\n",
        "from tensorflow.keras.callbacks import Callback, LearningRateScheduler, EarlyStopping\n",
        "import tensorflow\n",
        "from tensorflow.keras.models import Model\n",
        "from tensorflow.keras.layers import Input, Add, Activation, Dropout, Flatten, Dense\n",
        "from tensorflow.keras.layers import Convolution2D, MaxPooling2D, AveragePooling2D\n",
        "from tensorflow.keras.layers import BatchNormalization\n",
        "from tensorflow.keras.regularizers import l2\n",
        "from tensorflow.keras import backend as K\n",
        "from sklearn.model_selection import train_test_split\n",
        "import pandas as pd\n",
        "import numpy as np\n",
        "import cv2\n",
        "from sklearn.preprocessing import LabelEncoder\n",
        "from tensorflow.keras.utils import to_categorical\n",
        "from wresnet import WideResidualNetwork\n",
        "\n",
        "import gzip\n",
        "import pickle\n",
        "\n",
        "import numpy as np\n",
        "\n",
        "import warnings\n",
        "warnings.filterwarnings(\"ignore\")\n",
        "\n",
        "print(\"\\nTensorflow Version: \" + tf.__version__)\n"
      ],
      "execution_count": 2,
      "outputs": [
        {
          "output_type": "error",
          "ename": "ModuleNotFoundError",
          "evalue": "ignored",
          "traceback": [
            "\u001b[0;31m---------------------------------------------------------------------------\u001b[0m",
            "\u001b[0;31mModuleNotFoundError\u001b[0m                       Traceback (most recent call last)",
            "\u001b[0;32m<ipython-input-2-5e126bbc2842>\u001b[0m in \u001b[0;36m<module>\u001b[0;34m()\u001b[0m\n\u001b[1;32m     15\u001b[0m \u001b[0;32mfrom\u001b[0m \u001b[0msklearn\u001b[0m\u001b[0;34m.\u001b[0m\u001b[0mpreprocessing\u001b[0m \u001b[0;32mimport\u001b[0m \u001b[0mLabelEncoder\u001b[0m\u001b[0;34m\u001b[0m\u001b[0;34m\u001b[0m\u001b[0m\n\u001b[1;32m     16\u001b[0m \u001b[0;32mfrom\u001b[0m \u001b[0mtensorflow\u001b[0m\u001b[0;34m.\u001b[0m\u001b[0mkeras\u001b[0m\u001b[0;34m.\u001b[0m\u001b[0mutils\u001b[0m \u001b[0;32mimport\u001b[0m \u001b[0mto_categorical\u001b[0m\u001b[0;34m\u001b[0m\u001b[0;34m\u001b[0m\u001b[0m\n\u001b[0;32m---> 17\u001b[0;31m \u001b[0;32mfrom\u001b[0m \u001b[0mwresnet\u001b[0m \u001b[0;32mimport\u001b[0m \u001b[0mWideResidualNetwork\u001b[0m\u001b[0;34m\u001b[0m\u001b[0;34m\u001b[0m\u001b[0m\n\u001b[0m\u001b[1;32m     18\u001b[0m \u001b[0;34m\u001b[0m\u001b[0m\n\u001b[1;32m     19\u001b[0m \u001b[0;32mimport\u001b[0m \u001b[0mgzip\u001b[0m\u001b[0;34m\u001b[0m\u001b[0;34m\u001b[0m\u001b[0m\n",
            "\u001b[0;31mModuleNotFoundError\u001b[0m: No module named 'wresnet'",
            "",
            "\u001b[0;31m---------------------------------------------------------------------------\u001b[0;32m\nNOTE: If your import is failing due to a missing package, you can\nmanually install dependencies using either !pip or !apt.\n\nTo view examples of installing some common dependencies, click the\n\"Open Examples\" button below.\n\u001b[0;31m---------------------------------------------------------------------------\u001b[0m\n"
          ]
        }
      ]
    },
    {
      "cell_type": "markdown",
      "metadata": {
        "id": "IhvWP7D-kj9v",
        "colab_type": "text"
      },
      "source": [
        "<b> Data Preprocessing </b>\n"
      ]
    },
    {
      "cell_type": "markdown",
      "metadata": {
        "id": "o-Tkt8tPkj9w",
        "colab_type": "text"
      },
      "source": [
        "* Read Data from File"
      ]
    },
    {
      "cell_type": "code",
      "metadata": {
        "id": "MbL58svXkj9x",
        "colab_type": "code",
        "colab": {}
      },
      "source": [
        "def read_data():\n",
        "    with open(\"data.pz\", 'rb') as file_:\n",
        "        with gzip.GzipFile(fileobj=file_) as gzf:\n",
        "            data = pickle.load(gzf, encoding='latin1', fix_imports=True)\n",
        "    return data\n",
        "data = read_data()"
      ],
      "execution_count": 28,
      "outputs": []
    },
    {
      "cell_type": "markdown",
      "metadata": {
        "id": "CS5UxTh4kj91",
        "colab_type": "text"
      },
      "source": [
        "* Call data preprocessing function"
      ]
    },
    {
      "cell_type": "code",
      "metadata": {
        "id": "EU4aJpa6kj92",
        "colab_type": "code",
        "colab": {}
      },
      "source": [
        "def preprocessing_data(data):\n",
        "    data_X = []\n",
        "    Y_data = []\n",
        "    for row in data:\n",
        "        data_X.append(cv2.resize(row['crop'], (32,32)))\n",
        "        Y_data.append(row['label'])\n",
        "    data_X = np.array(data_X)\n",
        "    X = transform_X(data_X.astype('float32'))\n",
        "    Y = transform_Y(Y_data)\n",
        "    return X, Y\n",
        "\n",
        "def transform_Y(Y):\n",
        "    labelencoder = LabelEncoder()\n",
        "    y_df = pd.DataFrame(Y, columns=['Label'])\n",
        "    y_df['Encoded'] = labelencoder.fit_transform(y_df['Label'])\n",
        "    y_cat = to_categorical(y_df['Encoded'])\n",
        "    return y_cat\n",
        "\n",
        "def transform_X(X):\n",
        "    img_rows, img_cols = X[0].shape\n",
        "\n",
        "    # transform data set\n",
        "    if K.image_data_format() == 'channels_first':\n",
        "        X = X.reshape(X.shape[0], 1, img_rows, img_cols)\n",
        "        input_shape = (1, img_rows, img_cols)\n",
        "    else:\n",
        "        X = X.reshape(X.shape[0], img_rows, img_cols, 1)\n",
        "        input_shape = (img_rows, img_cols, 1)\n",
        "    return X\n",
        "    "
      ],
      "execution_count": 31,
      "outputs": []
    },
    {
      "cell_type": "code",
      "metadata": {
        "id": "lggXy4Xckj96",
        "colab_type": "code",
        "colab": {}
      },
      "source": [
        "X, y = preprocessing_data(data)\n",
        "X_train, X_test, Y_train, y_test = train_test_split(X, y, test_size = 0.1)\n",
        "x_train, X_val, y_train, y_val = train_test_split(X_train, Y_train, test_size = 0.1)"
      ],
      "execution_count": 32,
      "outputs": []
    },
    {
      "cell_type": "markdown",
      "metadata": {
        "id": "ZMx1UO52ozNP",
        "colab_type": "text"
      },
      "source": [
        "**Utilize Functions**"
      ]
    },
    {
      "cell_type": "markdown",
      "metadata": {
        "id": "DN9n1xLKpNAk",
        "colab_type": "text"
      },
      "source": [
        "* Flipping the image using data augmentation technique"
      ]
    },
    {
      "cell_type": "code",
      "metadata": {
        "id": "MywglnvLo3b-",
        "colab_type": "code",
        "colab": {}
      },
      "source": [
        "generator = tensorflow.keras.preprocessing.image.ImageDataGenerator(rotation_range=10,\n",
        "                               width_shift_range=5./32,\n",
        "                               height_shift_range=5./32,)"
      ],
      "execution_count": 21,
      "outputs": []
    },
    {
      "cell_type": "markdown",
      "metadata": {
        "id": "kzMNkYPwpU9s",
        "colab_type": "text"
      },
      "source": [
        "* Print the results of the experiments"
      ]
    },
    {
      "cell_type": "code",
      "metadata": {
        "id": "c__6pXN0pLsW",
        "colab_type": "code",
        "colab": {}
      },
      "source": [
        "def print_test(model,X_adv, X_test, y_test, epsilon):\n",
        "  loss, acc = model.evaluate(X_adv,y_test)\n",
        "  print(\"epsilon: {} and test evaluation : {}, {}\".format(epsilon,loss, acc))\n",
        "  SNR = 20*np.log10(np.linalg.norm(X_test)/np.linalg.norm(X_test-X_adv))\n",
        "  print(\"SNR: {}\".format(SNR))\n",
        "  return loss, acc"
      ],
      "execution_count": null,
      "outputs": []
    },
    {
      "cell_type": "markdown",
      "metadata": {
        "id": "GuPefX3CoKH5",
        "colab_type": "text"
      },
      "source": [
        "**General Visulazation Methods**"
      ]
    },
    {
      "cell_type": "markdown",
      "metadata": {
        "id": "2dd-t4F_pecb",
        "colab_type": "text"
      },
      "source": [
        "* Show accurancy and loss function of the results"
      ]
    },
    {
      "cell_type": "code",
      "metadata": {
        "id": "g6WGUfDAoTKO",
        "colab_type": "code",
        "colab": {}
      },
      "source": [
        "import matplotlib.pyplot as plt\n",
        "\n",
        "def show_graph(hist):\n",
        "  history = hist\n",
        "  print(history.history.keys())\n",
        "  # summarize history for accuracy\n",
        "  plt.plot(history.history['acc'])\n",
        "  plt.plot(history.history['val_acc'])\n",
        "  plt.title('model accuracy')\n",
        "  plt.ylabel('accuracy')\n",
        "  plt.xlabel('epoch')\n",
        "  plt.legend(['train', 'test'], loc='upper left')\n",
        "  plt.show()\n",
        "  plt.plot(history.history['loss'])\n",
        "  plt.plot(history.history['val_loss'])\n",
        "  plt.title('model loss')\n",
        "  plt.ylabel('loss')\n",
        "  plt.xlabel('epoch')\n",
        "  plt.legend(['train', 'test'], loc='upper left')\n",
        "  plt.show()\n"
      ],
      "execution_count": 22,
      "outputs": []
    },
    {
      "cell_type": "markdown",
      "metadata": {
        "id": "XzFqxjQOkj9-",
        "colab_type": "text"
      },
      "source": [
        "## 1.) Baseline of the Model"
      ]
    },
    {
      "cell_type": "markdown",
      "metadata": {
        "id": "L5Zv6ceWkj9_",
        "colab_type": "text"
      },
      "source": [
        "* Explain the Baseline Model here"
      ]
    },
    {
      "cell_type": "markdown",
      "metadata": {
        "id": "3BplLQX4kj-B",
        "colab_type": "text"
      },
      "source": [
        "Give a shape regarding model base layers"
      ]
    },
    {
      "cell_type": "markdown",
      "metadata": {
        "id": "-OnGRhNJkj-B",
        "colab_type": "text"
      },
      "source": [
        "### 1.1. ) Find Model Parameters using Cross Validation and GridSearch "
      ]
    },
    {
      "cell_type": "code",
      "metadata": {
        "id": "oWHF1Iklkj-C",
        "colab_type": "code",
        "colab": {}
      },
      "source": [
        "data_list = []\n",
        "for  i in range(0,11):\n",
        "  if i == 5: continue\n",
        "  data_result  = pd.read_csv(\"grid_16_{0}.csv\".format(str(i)), sep=\";\")\n",
        "  data_list.append(data_result)\n",
        "result = pd.concat(data_list)"
      ],
      "execution_count": 10,
      "outputs": []
    },
    {
      "cell_type": "markdown",
      "metadata": {
        "id": "OFhVecoMkj-H",
        "colab_type": "text"
      },
      "source": [
        "#### Evaluate the Results"
      ]
    },
    {
      "cell_type": "code",
      "metadata": {
        "id": "-VMMaGCOkj-H",
        "colab_type": "code",
        "colab": {}
      },
      "source": [
        "result[\"loss_mean\"] = (result[\"loss1\"]+result[\"loss2\"]+result[\"loss3\"])/3"
      ],
      "execution_count": 13,
      "outputs": []
    },
    {
      "cell_type": "code",
      "metadata": {
        "id": "0nfGO6S_nWsH",
        "colab_type": "code",
        "colab": {}
      },
      "source": [
        "result[\"acc_mean\"] = (result[\"acc1\"]+result[\"acc2\"]+result[\"acc3\"])/3"
      ],
      "execution_count": 14,
      "outputs": []
    },
    {
      "cell_type": "code",
      "metadata": {
        "id": "mz9NMqkSneUk",
        "colab_type": "code",
        "colab": {}
      },
      "source": [
        "result['epoch'] = result['epoch_stopped1']\n",
        "result['weight_decay'] = result['reg_penalty']\n",
        "column_list = [\"momentum\", \"learning rate\", \"epoch\",\"batch size\",\"weight_decay\",\"loss_mean\", \"acc_mean\"]"
      ],
      "execution_count": 15,
      "outputs": []
    },
    {
      "cell_type": "code",
      "metadata": {
        "id": "H2Yebmw9nq32",
        "colab_type": "code",
        "colab": {
          "base_uri": "https://localhost:8080/",
          "height": 142
        },
        "outputId": "a73c8a68-b69d-4f7f-98b7-0f8f6c75c25c"
      },
      "source": [
        "result.sort_values(axis=0, by=\"acc_mean\", ascending=False)[column_list].head(3)"
      ],
      "execution_count": 18,
      "outputs": [
        {
          "output_type": "execute_result",
          "data": {
            "text/html": [
              "<div>\n",
              "<style scoped>\n",
              "    .dataframe tbody tr th:only-of-type {\n",
              "        vertical-align: middle;\n",
              "    }\n",
              "\n",
              "    .dataframe tbody tr th {\n",
              "        vertical-align: top;\n",
              "    }\n",
              "\n",
              "    .dataframe thead th {\n",
              "        text-align: right;\n",
              "    }\n",
              "</style>\n",
              "<table border=\"1\" class=\"dataframe\">\n",
              "  <thead>\n",
              "    <tr style=\"text-align: right;\">\n",
              "      <th></th>\n",
              "      <th>momentum</th>\n",
              "      <th>learning rate</th>\n",
              "      <th>epoch</th>\n",
              "      <th>batch size</th>\n",
              "      <th>weight_decay</th>\n",
              "      <th>loss_mean</th>\n",
              "      <th>acc_mean</th>\n",
              "    </tr>\n",
              "  </thead>\n",
              "  <tbody>\n",
              "    <tr>\n",
              "      <th>0</th>\n",
              "      <td>0.9</td>\n",
              "      <td>0.10</td>\n",
              "      <td>50.0</td>\n",
              "      <td>128.0</td>\n",
              "      <td>0.0001</td>\n",
              "      <td>1.096489</td>\n",
              "      <td>0.726003</td>\n",
              "    </tr>\n",
              "    <tr>\n",
              "      <th>3</th>\n",
              "      <td>0.9</td>\n",
              "      <td>0.10</td>\n",
              "      <td>100.0</td>\n",
              "      <td>128.0</td>\n",
              "      <td>0.0010</td>\n",
              "      <td>1.199277</td>\n",
              "      <td>0.722513</td>\n",
              "    </tr>\n",
              "    <tr>\n",
              "      <th>0</th>\n",
              "      <td>0.9</td>\n",
              "      <td>0.01</td>\n",
              "      <td>50.0</td>\n",
              "      <td>64.0</td>\n",
              "      <td>0.0010</td>\n",
              "      <td>1.687745</td>\n",
              "      <td>0.718441</td>\n",
              "    </tr>\n",
              "  </tbody>\n",
              "</table>\n",
              "</div>"
            ],
            "text/plain": [
              "   momentum  learning rate  epoch  ...  weight_decay  loss_mean  acc_mean\n",
              "0       0.9           0.10   50.0  ...        0.0001   1.096489  0.726003\n",
              "3       0.9           0.10  100.0  ...        0.0010   1.199277  0.722513\n",
              "0       0.9           0.01   50.0  ...        0.0010   1.687745  0.718441\n",
              "\n",
              "[3 rows x 7 columns]"
            ]
          },
          "metadata": {
            "tags": []
          },
          "execution_count": 18
        }
      ]
    },
    {
      "cell_type": "code",
      "metadata": {
        "id": "4IuVoNt6n9X_",
        "colab_type": "code",
        "colab": {
          "base_uri": "https://localhost:8080/",
          "height": 142
        },
        "outputId": "c72ce6fb-24bf-48e9-8d25-2bcbc30cd222"
      },
      "source": [
        "result.sort_values(axis=0, by=\"loss_mean\", ascending=True)[column_list].head(3)"
      ],
      "execution_count": 20,
      "outputs": [
        {
          "output_type": "execute_result",
          "data": {
            "text/html": [
              "<div>\n",
              "<style scoped>\n",
              "    .dataframe tbody tr th:only-of-type {\n",
              "        vertical-align: middle;\n",
              "    }\n",
              "\n",
              "    .dataframe tbody tr th {\n",
              "        vertical-align: top;\n",
              "    }\n",
              "\n",
              "    .dataframe thead th {\n",
              "        text-align: right;\n",
              "    }\n",
              "</style>\n",
              "<table border=\"1\" class=\"dataframe\">\n",
              "  <thead>\n",
              "    <tr style=\"text-align: right;\">\n",
              "      <th></th>\n",
              "      <th>momentum</th>\n",
              "      <th>learning rate</th>\n",
              "      <th>epoch</th>\n",
              "      <th>batch size</th>\n",
              "      <th>weight_decay</th>\n",
              "      <th>loss_mean</th>\n",
              "      <th>acc_mean</th>\n",
              "    </tr>\n",
              "  </thead>\n",
              "  <tbody>\n",
              "    <tr>\n",
              "      <th>2</th>\n",
              "      <td>0.9</td>\n",
              "      <td>0.01</td>\n",
              "      <td>50.0</td>\n",
              "      <td>64.0</td>\n",
              "      <td>0.0100</td>\n",
              "      <td>1.003848</td>\n",
              "      <td>0.708551</td>\n",
              "    </tr>\n",
              "    <tr>\n",
              "      <th>3</th>\n",
              "      <td>0.9</td>\n",
              "      <td>0.10</td>\n",
              "      <td>50.0</td>\n",
              "      <td>64.0</td>\n",
              "      <td>0.0010</td>\n",
              "      <td>1.033697</td>\n",
              "      <td>0.699825</td>\n",
              "    </tr>\n",
              "    <tr>\n",
              "      <th>2</th>\n",
              "      <td>0.9</td>\n",
              "      <td>0.01</td>\n",
              "      <td>50.0</td>\n",
              "      <td>128.0</td>\n",
              "      <td>0.0001</td>\n",
              "      <td>1.043016</td>\n",
              "      <td>0.689936</td>\n",
              "    </tr>\n",
              "  </tbody>\n",
              "</table>\n",
              "</div>"
            ],
            "text/plain": [
              "   momentum  learning rate  epoch  ...  weight_decay  loss_mean  acc_mean\n",
              "2       0.9           0.01   50.0  ...        0.0100   1.003848  0.708551\n",
              "3       0.9           0.10   50.0  ...        0.0010   1.033697  0.699825\n",
              "2       0.9           0.01   50.0  ...        0.0001   1.043016  0.689936\n",
              "\n",
              "[3 rows x 7 columns]"
            ]
          },
          "metadata": {
            "tags": []
          },
          "execution_count": 20
        }
      ]
    },
    {
      "cell_type": "markdown",
      "metadata": {
        "id": "bENJipcFkj-L",
        "colab_type": "text"
      },
      "source": [
        "Results and comments here"
      ]
    },
    {
      "cell_type": "markdown",
      "metadata": {
        "id": "vCeeH3HTkj-M",
        "colab_type": "text"
      },
      "source": [
        "### 1.2.) Train Baseline Model"
      ]
    },
    {
      "cell_type": "code",
      "metadata": {
        "id": "wKaBoHadkj-M",
        "colab_type": "code",
        "colab": {
          "base_uri": "https://localhost:8080/",
          "height": 68
        },
        "outputId": "41a08bc5-388f-42c4-e736-a03fae7fed7e"
      },
      "source": [
        "wresnet_ins = WideResidualNetwork()\n",
        "EPOCHS = 50\n",
        "BS = 64\n",
        "init = (32, 32,1)\n",
        "sgd = SGD(lr=0.01, momentum=0.9)\n",
        "#wrn_16_2.summary()\n",
        "wrn_16_2 = wresnet_ins.create_wide_residual_network(0.0005, 0.01,init,0.9, nb_classes=4, N=2, k=2, dropout=0.0)\n",
        "wrn_16_2.compile(loss=\"categorical_crossentropy\", optimizer=sgd, metrics=[\"acc\"])\n",
        "print(\"Finished compiling\")\n"
      ],
      "execution_count": 27,
      "outputs": [
        {
          "output_type": "stream",
          "text": [
            "conv2:channel:  -1\n",
            "Wide Residual Network-16-2 created.\n",
            "Finished compiling\n"
          ],
          "name": "stdout"
        }
      ]
    },
    {
      "cell_type": "code",
      "metadata": {
        "id": "hG_0aYgPq6Jg",
        "colab_type": "code",
        "colab": {
          "base_uri": "https://localhost:8080/",
          "height": 231
        },
        "outputId": "1033ba52-8a95-48d7-cf1c-0e3596ebe339"
      },
      "source": [
        "\n",
        "hist = wrn_16_2.fit(generator.flow(x_train, y_train, batch_size=BS), steps_per_epoch=len(x_train) // BS, epochs=EPOCHS,\n",
        "                   validation_data=(X_val, y_val),\n",
        "                   validation_steps=X_val.shape[0] // BS,)\n",
        "wrn_16_2.save(\"wrn_model.h5\")"
      ],
      "execution_count": 1,
      "outputs": [
        {
          "output_type": "error",
          "ename": "NameError",
          "evalue": "ignored",
          "traceback": [
            "\u001b[0;31m---------------------------------------------------------------------------\u001b[0m",
            "\u001b[0;31mNameError\u001b[0m                                 Traceback (most recent call last)",
            "\u001b[0;32m<ipython-input-1-391d75c479bc>\u001b[0m in \u001b[0;36m<module>\u001b[0;34m()\u001b[0m\n\u001b[1;32m      1\u001b[0m \u001b[0;34m\u001b[0m\u001b[0m\n\u001b[0;32m----> 2\u001b[0;31m hist = wrn_16_2.fit(generator.flow(x_train, y_train, batch_size=BS), steps_per_epoch=len(x_train) // BS, epochs=EPOCHS,\n\u001b[0m\u001b[1;32m      3\u001b[0m                    \u001b[0mvalidation_data\u001b[0m\u001b[0;34m=\u001b[0m\u001b[0;34m(\u001b[0m\u001b[0mX_val\u001b[0m\u001b[0;34m,\u001b[0m \u001b[0my_val\u001b[0m\u001b[0;34m)\u001b[0m\u001b[0;34m,\u001b[0m\u001b[0;34m\u001b[0m\u001b[0;34m\u001b[0m\u001b[0m\n\u001b[1;32m      4\u001b[0m                    validation_steps=X_val.shape[0] // BS,)\n\u001b[1;32m      5\u001b[0m \u001b[0mwrn_16_2\u001b[0m\u001b[0;34m.\u001b[0m\u001b[0msave\u001b[0m\u001b[0;34m(\u001b[0m\u001b[0;34m\"wrn_model.h5\"\u001b[0m\u001b[0;34m)\u001b[0m\u001b[0;34m\u001b[0m\u001b[0;34m\u001b[0m\u001b[0m\n",
            "\u001b[0;31mNameError\u001b[0m: name 'wrn_16_2' is not defined"
          ]
        }
      ]
    },
    {
      "cell_type": "markdown",
      "metadata": {
        "id": "YkSQoSA8kj-Q",
        "colab_type": "text"
      },
      "source": [
        "<b>Evaluate the Learning Curve</b>"
      ]
    },
    {
      "cell_type": "code",
      "metadata": {
        "id": "yOQ6tQgIkj-R",
        "colab_type": "code",
        "colab": {}
      },
      "source": [
        ""
      ],
      "execution_count": null,
      "outputs": []
    },
    {
      "cell_type": "code",
      "metadata": {
        "id": "mCfoeDxMkj-V",
        "colab_type": "code",
        "colab": {}
      },
      "source": [
        ""
      ],
      "execution_count": null,
      "outputs": []
    },
    {
      "cell_type": "markdown",
      "metadata": {
        "id": "A3mH9_WMkj-a",
        "colab_type": "text"
      },
      "source": [
        "### 1.3.) Adversarial Training on Baseline Model"
      ]
    },
    {
      "cell_type": "code",
      "metadata": {
        "id": "mo_Iwi1Zkj-a",
        "colab_type": "code",
        "colab": {}
      },
      "source": [
        ""
      ],
      "execution_count": null,
      "outputs": []
    },
    {
      "cell_type": "code",
      "metadata": {
        "id": "Vl61OVpAkj-e",
        "colab_type": "code",
        "colab": {}
      },
      "source": [
        ""
      ],
      "execution_count": null,
      "outputs": []
    },
    {
      "cell_type": "markdown",
      "metadata": {
        "id": "9LT0T19skj-h",
        "colab_type": "text"
      },
      "source": [
        "### Evaluate the Results of Adversarial Traing and Non-Adversarial Training "
      ]
    },
    {
      "cell_type": "code",
      "metadata": {
        "id": "XSr1gpfzkj-i",
        "colab_type": "code",
        "colab": {}
      },
      "source": [
        ""
      ],
      "execution_count": null,
      "outputs": []
    },
    {
      "cell_type": "markdown",
      "metadata": {
        "id": "EGx2TDhYkj-l",
        "colab_type": "text"
      },
      "source": [
        "## 2. Complex Model"
      ]
    },
    {
      "cell_type": "code",
      "metadata": {
        "id": "0Cy7Eqtxkj-m",
        "colab_type": "code",
        "colab": {}
      },
      "source": [
        ""
      ],
      "execution_count": null,
      "outputs": []
    },
    {
      "cell_type": "markdown",
      "metadata": {
        "id": "cbEB2rg_kj-q",
        "colab_type": "text"
      },
      "source": [
        "### 2.1.) Find Model Parameters using Cross Validation and GridSearch"
      ]
    },
    {
      "cell_type": "code",
      "metadata": {
        "id": "tjC2EYOdkj-r",
        "colab_type": "code",
        "colab": {}
      },
      "source": [
        ""
      ],
      "execution_count": null,
      "outputs": []
    },
    {
      "cell_type": "markdown",
      "metadata": {
        "id": "gvnFuUyrkj-v",
        "colab_type": "text"
      },
      "source": [
        "### 2.2.) Train Model"
      ]
    },
    {
      "cell_type": "code",
      "metadata": {
        "id": "2Oci-AISkj-w",
        "colab_type": "code",
        "colab": {}
      },
      "source": [
        ""
      ],
      "execution_count": null,
      "outputs": []
    },
    {
      "cell_type": "code",
      "metadata": {
        "id": "fUgC-RrMkj-z",
        "colab_type": "code",
        "colab": {}
      },
      "source": [
        ""
      ],
      "execution_count": null,
      "outputs": []
    },
    {
      "cell_type": "markdown",
      "metadata": {
        "id": "GpK2A-b_kj-2",
        "colab_type": "text"
      },
      "source": [
        "### 2.3.) Adversarial Training"
      ]
    },
    {
      "cell_type": "code",
      "metadata": {
        "id": "ZOhSOG7Ukj-3",
        "colab_type": "code",
        "colab": {}
      },
      "source": [
        ""
      ],
      "execution_count": null,
      "outputs": []
    },
    {
      "cell_type": "code",
      "metadata": {
        "id": "w9tjiR0bkj-6",
        "colab_type": "code",
        "colab": {}
      },
      "source": [
        ""
      ],
      "execution_count": null,
      "outputs": []
    },
    {
      "cell_type": "markdown",
      "metadata": {
        "id": "gMIyb0YDkj-9",
        "colab_type": "text"
      },
      "source": [
        "#### <center> Evaluate the Results of Adversarial Traing and Non-Adversarial Training for the Model</center>"
      ]
    },
    {
      "cell_type": "code",
      "metadata": {
        "id": "8EnLBD7Ykj--",
        "colab_type": "code",
        "colab": {}
      },
      "source": [
        ""
      ],
      "execution_count": null,
      "outputs": []
    }
  ]
}