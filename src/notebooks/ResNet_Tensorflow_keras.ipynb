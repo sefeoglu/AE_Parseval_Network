{
  "nbformat": 4,
  "nbformat_minor": 0,
  "metadata": {
    "colab": {
      "name": "ResNet_Tensorflow_keras.ipynb",
      "provenance": [],
      "include_colab_link": true
    },
    "kernelspec": {
      "name": "python3",
      "display_name": "Python 3"
    },
    "accelerator": "GPU"
  },
  "cells": [
    {
      "cell_type": "markdown",
      "metadata": {
        "id": "view-in-github",
        "colab_type": "text"
      },
      "source": [
        "<a href=\"https://colab.research.google.com/github/sefeoglu/AE_Parseval_Network/blob/master/src/notebooks/ResNet_Tensorflow_keras.ipynb\" target=\"_parent\"><img src=\"https://colab.research.google.com/assets/colab-badge.svg\" alt=\"Open In Colab\"/></a>"
      ]
    },
    {
      "cell_type": "markdown",
      "metadata": {
        "id": "cczYDRrfFlDx",
        "colab_type": "text"
      },
      "source": [
        "# Wide ResNet 16_2"
      ]
    },
    {
      "cell_type": "code",
      "metadata": {
        "id": "HWvd9YADGtMS",
        "colab_type": "code",
        "colab": {}
      },
      "source": [
        "import tensorflow as tf"
      ],
      "execution_count": 0,
      "outputs": []
    },
    {
      "cell_type": "code",
      "metadata": {
        "id": "QRdSMgRjG8ex",
        "colab_type": "code",
        "outputId": "4c9cf2f0-b54c-4be6-fea9-8aeb0257ce03",
        "colab": {
          "base_uri": "https://localhost:8080/",
          "height": 1000
        }
      },
      "source": [
        "from tensorflow.keras.models import Model\n",
        "from tensorflow.keras.layers import Input, Add, Activation, Dropout, Flatten, Dense\n",
        "from tensorflow.keras.layers import Convolution2D, MaxPooling2D, AveragePooling2D\n",
        "from tensorflow.keras.layers import BatchNormalization\n",
        "from tensorflow.keras.regularizers import l2\n",
        "from tensorflow.keras import backend as K\n",
        "import warnings\n",
        "\n",
        "warnings.filterwarnings(\"ignore\")\n",
        "weight_decay = 0.0005\n",
        "\n",
        "\n",
        "def initial_conv(input):\n",
        "  \n",
        "    x = Convolution2D(16, (3, 3), padding='same', kernel_initializer='he_normal',\n",
        "                      kernel_regularizer=l2(weight_decay),\n",
        "                      use_bias=False)(input)\n",
        "\n",
        "    channel_axis = 1 if K.image_data_format() == \"channels_first\" else -1\n",
        "\n",
        "    x = BatchNormalization(axis=channel_axis, momentum=0.1, epsilon=1e-5, gamma_initializer='uniform')(x)\n",
        "    x = Activation('relu')(x)\n",
        "    return x\n",
        "\n",
        "\n",
        "def expand_conv(init, base, k, strides=(1, 1)):\n",
        "    x = Convolution2D(base * k, (3, 3), padding='same', strides=strides, kernel_initializer='he_normal', kernel_regularizer=l2(weight_decay),\n",
        "                      use_bias=False)(init)\n",
        "\n",
        "    channel_axis = 1 if K.image_data_format() == \"channels_first\" else -1\n",
        "\n",
        "    x = BatchNormalization(axis=channel_axis, momentum=0.1, epsilon=1e-5, gamma_initializer='uniform')(x)\n",
        "    x = Activation('relu')(x)\n",
        "\n",
        "    x = Convolution2D(base * k, (3, 3), padding='same', kernel_initializer='he_normal',\n",
        "                      kernel_regularizer=l2(weight_decay),\n",
        "                      use_bias=False)(x)\n",
        "\n",
        "    skip = Convolution2D(base * k, (1, 1), padding='same', strides=strides, kernel_initializer='he_normal',\n",
        "                      kernel_regularizer=l2(weight_decay),\n",
        "                      use_bias=False)(init)\n",
        "\n",
        "    m = Add()([x, skip])\n",
        "\n",
        "    return m\n",
        "\n",
        "\n",
        "def conv1_block(input, k=1, dropout=0.0):\n",
        "    init = input\n",
        "\n",
        "    channel_axis = 1 if K.image_data_format() == \"channels_first\" else -1\n",
        "\n",
        "    x = BatchNormalization(axis=channel_axis, momentum=0.1, epsilon=1e-5, gamma_initializer='uniform')(input)\n",
        "    x = Activation('relu')(x)\n",
        "    x = Convolution2D(16 * k, (3, 3), padding='same', kernel_initializer='he_normal',\n",
        "                      kernel_regularizer=l2(weight_decay),\n",
        "                      use_bias=False)(x)\n",
        "\n",
        "    if dropout > 0.0: x = Dropout(dropout)(x)\n",
        "\n",
        "    x = BatchNormalization(axis=channel_axis, momentum=0.1, epsilon=1e-5, gamma_initializer='uniform')(x)\n",
        "    x = Activation('relu')(x)\n",
        "    x = Convolution2D(16 * k, (3, 3), padding='same', kernel_initializer='he_normal',\n",
        "                      kernel_regularizer=l2(weight_decay),\n",
        "                      use_bias=False)(x)\n",
        "\n",
        "    m = Add()([init, x])\n",
        "    return m\n",
        "\n",
        "def conv2_block(input, k=1, dropout=0.0):\n",
        "    init = input\n",
        "\n",
        "    channel_axis = 1 if K.image_data_format() == \"channels_first\" else -1\n",
        "    print(\"conv2:channel:  {}\".format(channel_axis))\n",
        "    x = BatchNormalization(axis=channel_axis, momentum=0.1, epsilon=1e-5, gamma_initializer='uniform')(input)\n",
        "    x = Activation('relu')(x)\n",
        "    x = Convolution2D(32 * k, (3, 3), padding='same', kernel_initializer='he_normal',\n",
        "                      kernel_regularizer=l2(weight_decay),\n",
        "                      use_bias=False)(x)\n",
        "\n",
        "    if dropout > 0.0: x = Dropout(dropout)(x)\n",
        "\n",
        "    x = BatchNormalization(axis=channel_axis, momentum=0.1, epsilon=1e-5, gamma_initializer='uniform')(x)\n",
        "    x = Activation('relu')(x)\n",
        "    x = Convolution2D(32 * k, (3, 3), padding='same', kernel_initializer='he_normal',\n",
        "                      kernel_regularizer=l2(weight_decay),\n",
        "                      use_bias=False)(x)\n",
        "\n",
        "    m = Add()([init, x])\n",
        "    return m\n",
        "\n",
        "def conv3_block(input, k=1, dropout=0.0):\n",
        "    init = input\n",
        "\n",
        "    channel_axis = 1 if K.image_data_format() == \"channels_first\" else -1\n",
        "    print(\"conv3 channel_axis:{} \".format(channel_axis))\n",
        "    x = BatchNormalization(axis=channel_axis, momentum=0.1, epsilon=1e-5, gamma_initializer='uniform')(input)\n",
        "    x = Activation('relu')(x)\n",
        "    x = Convolution2D(64 * k, (3, 3), padding='same', kernel_initializer='he_normal',\n",
        "                      kernel_regularizer=l2(weight_decay),\n",
        "                      use_bias=False)(x)\n",
        "\n",
        "    if dropout > 0.0: x = Dropout(dropout)(x)\n",
        "\n",
        "    x = BatchNormalization(axis=channel_axis, momentum=0.1, epsilon=1e-5, gamma_initializer='uniform')(x)\n",
        "    x = Activation('relu')(x)\n",
        "    x = Convolution2D(64 * k, (3, 3), padding='same', kernel_initializer='he_normal',\n",
        "                      kernel_regularizer=l2(weight_decay),\n",
        "                      use_bias=False)(x)\n",
        "\n",
        "    m = Add()([init, x])\n",
        "    return m\n",
        "\n",
        "def create_wide_residual_network(input_dim, nb_classes=100, N=2, k=1, dropout=0.0, verbose=1):\n",
        "    \"\"\"\n",
        "    Creates a Wide Residual Network with specified parameters\n",
        "\n",
        "    :param input: Input Keras object\n",
        "    :param nb_classes: Number of output classes\n",
        "    :param N: Depth of the network. Compute N = (n - 4) / 6.\n",
        "              Example : For a depth of 16, n = 16, N = (16 - 4) / 6 = 2\n",
        "              Example2: For a depth of 28, n = 28, N = (28 - 4) / 6 = 4\n",
        "              Example3: For a depth of 40, n = 40, N = (40 - 4) / 6 = 6\n",
        "    :param k: Width of the network.\n",
        "    :param dropout: Adds dropout if value is greater than 0.0\n",
        "    :param verbose: Debug info to describe created WRN\n",
        "    :return:\n",
        "    \"\"\"\n",
        "    channel_axis = 1 if K.image_data_format() == \"channels_first\" else -1\n",
        "\n",
        "    ip = Input(shape=input_dim)\n",
        "\n",
        "    x = initial_conv(ip)\n",
        "    nb_conv = 4\n",
        "\n",
        "    x = expand_conv(x, 16, k)\n",
        "    nb_conv += 2\n",
        "\n",
        "    for i in range(N - 1):\n",
        "        x = conv1_block(x, k, dropout)\n",
        "        nb_conv += 2\n",
        "\n",
        "    x = BatchNormalization(axis=channel_axis, momentum=0.1, epsilon=1e-5, gamma_initializer='uniform')(x)\n",
        "    x = Activation('relu')(x)\n",
        "\n",
        "    x = expand_conv(x, 32, k, strides=(2, 2))\n",
        "    nb_conv += 2\n",
        "\n",
        "    for i in range(N - 1):\n",
        "        x = conv2_block(x, k, dropout)\n",
        "        nb_conv += 2\n",
        "\n",
        "    x = BatchNormalization(axis=channel_axis, momentum=0.1, epsilon=1e-5, gamma_initializer='uniform')(x)\n",
        "    x = Activation('relu')(x)\n",
        "\n",
        "    x = expand_conv(x, 64, k, strides=(2, 2))\n",
        "    nb_conv += 2\n",
        "\n",
        "    for i in range(N - 1):\n",
        "        x = conv3_block(x, k, dropout)\n",
        "        nb_conv += 2\n",
        "\n",
        "    x = BatchNormalization(axis=channel_axis, momentum=0.1, epsilon=1e-5, gamma_initializer='uniform')(x)\n",
        "    x = Activation('relu')(x)\n",
        "\n",
        "    x = AveragePooling2D((8, 8))(x)\n",
        "    x = Flatten()(x)\n",
        "\n",
        "    x = Dense(nb_classes, kernel_regularizer=l2(weight_decay), activation='softmax')(x)\n",
        "\n",
        "    model = Model(ip, x)\n",
        "\n",
        "    if verbose: print(\"Parseval Residual Network-%d-%d created.\" % (nb_conv, k))\n",
        "    return model\n",
        "\n",
        "if __name__ == \"__main__\":\n",
        "    from tensorflow.keras.utils import plot_model\n",
        "    from tensorflow.keras.layers import Input\n",
        "    from tensorflow.keras.models import Model\n",
        "\n",
        "    init = (68, 100,1)\n",
        "\n",
        "    wrn_16_2 = create_wide_residual_network(init, nb_classes=4, N=2, k=2, dropout=0.0)\n",
        "\n",
        "    wrn_16_2.summary()\n",
        "\n",
        "   # plot_model(wrn_28_10, \"WRN-16-2.png\", show_shapes=True, show_layer_names=True)\n"
      ],
      "execution_count": 2,
      "outputs": [
        {
          "output_type": "stream",
          "text": [
            "conv2:channel:  -1\n",
            "conv3 channel_axis:-1 \n",
            "Parseval Residual Network-16-2 created.\n",
            "Model: \"model\"\n",
            "__________________________________________________________________________________________________\n",
            "Layer (type)                    Output Shape         Param #     Connected to                     \n",
            "==================================================================================================\n",
            "input_1 (InputLayer)            [(None, 68, 100, 1)] 0                                            \n",
            "__________________________________________________________________________________________________\n",
            "conv2d (Conv2D)                 (None, 68, 100, 16)  144         input_1[0][0]                    \n",
            "__________________________________________________________________________________________________\n",
            "batch_normalization (BatchNorma (None, 68, 100, 16)  64          conv2d[0][0]                     \n",
            "__________________________________________________________________________________________________\n",
            "activation (Activation)         (None, 68, 100, 16)  0           batch_normalization[0][0]        \n",
            "__________________________________________________________________________________________________\n",
            "conv2d_1 (Conv2D)               (None, 68, 100, 32)  4608        activation[0][0]                 \n",
            "__________________________________________________________________________________________________\n",
            "batch_normalization_1 (BatchNor (None, 68, 100, 32)  128         conv2d_1[0][0]                   \n",
            "__________________________________________________________________________________________________\n",
            "activation_1 (Activation)       (None, 68, 100, 32)  0           batch_normalization_1[0][0]      \n",
            "__________________________________________________________________________________________________\n",
            "conv2d_2 (Conv2D)               (None, 68, 100, 32)  9216        activation_1[0][0]               \n",
            "__________________________________________________________________________________________________\n",
            "conv2d_3 (Conv2D)               (None, 68, 100, 32)  512         activation[0][0]                 \n",
            "__________________________________________________________________________________________________\n",
            "add (Add)                       (None, 68, 100, 32)  0           conv2d_2[0][0]                   \n",
            "                                                                 conv2d_3[0][0]                   \n",
            "__________________________________________________________________________________________________\n",
            "batch_normalization_2 (BatchNor (None, 68, 100, 32)  128         add[0][0]                        \n",
            "__________________________________________________________________________________________________\n",
            "activation_2 (Activation)       (None, 68, 100, 32)  0           batch_normalization_2[0][0]      \n",
            "__________________________________________________________________________________________________\n",
            "conv2d_4 (Conv2D)               (None, 68, 100, 32)  9216        activation_2[0][0]               \n",
            "__________________________________________________________________________________________________\n",
            "batch_normalization_3 (BatchNor (None, 68, 100, 32)  128         conv2d_4[0][0]                   \n",
            "__________________________________________________________________________________________________\n",
            "activation_3 (Activation)       (None, 68, 100, 32)  0           batch_normalization_3[0][0]      \n",
            "__________________________________________________________________________________________________\n",
            "conv2d_5 (Conv2D)               (None, 68, 100, 32)  9216        activation_3[0][0]               \n",
            "__________________________________________________________________________________________________\n",
            "add_1 (Add)                     (None, 68, 100, 32)  0           add[0][0]                        \n",
            "                                                                 conv2d_5[0][0]                   \n",
            "__________________________________________________________________________________________________\n",
            "batch_normalization_4 (BatchNor (None, 68, 100, 32)  128         add_1[0][0]                      \n",
            "__________________________________________________________________________________________________\n",
            "activation_4 (Activation)       (None, 68, 100, 32)  0           batch_normalization_4[0][0]      \n",
            "__________________________________________________________________________________________________\n",
            "conv2d_6 (Conv2D)               (None, 34, 50, 64)   18432       activation_4[0][0]               \n",
            "__________________________________________________________________________________________________\n",
            "batch_normalization_5 (BatchNor (None, 34, 50, 64)   256         conv2d_6[0][0]                   \n",
            "__________________________________________________________________________________________________\n",
            "activation_5 (Activation)       (None, 34, 50, 64)   0           batch_normalization_5[0][0]      \n",
            "__________________________________________________________________________________________________\n",
            "conv2d_7 (Conv2D)               (None, 34, 50, 64)   36864       activation_5[0][0]               \n",
            "__________________________________________________________________________________________________\n",
            "conv2d_8 (Conv2D)               (None, 34, 50, 64)   2048        activation_4[0][0]               \n",
            "__________________________________________________________________________________________________\n",
            "add_2 (Add)                     (None, 34, 50, 64)   0           conv2d_7[0][0]                   \n",
            "                                                                 conv2d_8[0][0]                   \n",
            "__________________________________________________________________________________________________\n",
            "batch_normalization_6 (BatchNor (None, 34, 50, 64)   256         add_2[0][0]                      \n",
            "__________________________________________________________________________________________________\n",
            "activation_6 (Activation)       (None, 34, 50, 64)   0           batch_normalization_6[0][0]      \n",
            "__________________________________________________________________________________________________\n",
            "conv2d_9 (Conv2D)               (None, 34, 50, 64)   36864       activation_6[0][0]               \n",
            "__________________________________________________________________________________________________\n",
            "batch_normalization_7 (BatchNor (None, 34, 50, 64)   256         conv2d_9[0][0]                   \n",
            "__________________________________________________________________________________________________\n",
            "activation_7 (Activation)       (None, 34, 50, 64)   0           batch_normalization_7[0][0]      \n",
            "__________________________________________________________________________________________________\n",
            "conv2d_10 (Conv2D)              (None, 34, 50, 64)   36864       activation_7[0][0]               \n",
            "__________________________________________________________________________________________________\n",
            "add_3 (Add)                     (None, 34, 50, 64)   0           add_2[0][0]                      \n",
            "                                                                 conv2d_10[0][0]                  \n",
            "__________________________________________________________________________________________________\n",
            "batch_normalization_8 (BatchNor (None, 34, 50, 64)   256         add_3[0][0]                      \n",
            "__________________________________________________________________________________________________\n",
            "activation_8 (Activation)       (None, 34, 50, 64)   0           batch_normalization_8[0][0]      \n",
            "__________________________________________________________________________________________________\n",
            "conv2d_11 (Conv2D)              (None, 17, 25, 128)  73728       activation_8[0][0]               \n",
            "__________________________________________________________________________________________________\n",
            "batch_normalization_9 (BatchNor (None, 17, 25, 128)  512         conv2d_11[0][0]                  \n",
            "__________________________________________________________________________________________________\n",
            "activation_9 (Activation)       (None, 17, 25, 128)  0           batch_normalization_9[0][0]      \n",
            "__________________________________________________________________________________________________\n",
            "conv2d_12 (Conv2D)              (None, 17, 25, 128)  147456      activation_9[0][0]               \n",
            "__________________________________________________________________________________________________\n",
            "conv2d_13 (Conv2D)              (None, 17, 25, 128)  8192        activation_8[0][0]               \n",
            "__________________________________________________________________________________________________\n",
            "add_4 (Add)                     (None, 17, 25, 128)  0           conv2d_12[0][0]                  \n",
            "                                                                 conv2d_13[0][0]                  \n",
            "__________________________________________________________________________________________________\n",
            "batch_normalization_10 (BatchNo (None, 17, 25, 128)  512         add_4[0][0]                      \n",
            "__________________________________________________________________________________________________\n",
            "activation_10 (Activation)      (None, 17, 25, 128)  0           batch_normalization_10[0][0]     \n",
            "__________________________________________________________________________________________________\n",
            "conv2d_14 (Conv2D)              (None, 17, 25, 128)  147456      activation_10[0][0]              \n",
            "__________________________________________________________________________________________________\n",
            "batch_normalization_11 (BatchNo (None, 17, 25, 128)  512         conv2d_14[0][0]                  \n",
            "__________________________________________________________________________________________________\n",
            "activation_11 (Activation)      (None, 17, 25, 128)  0           batch_normalization_11[0][0]     \n",
            "__________________________________________________________________________________________________\n",
            "conv2d_15 (Conv2D)              (None, 17, 25, 128)  147456      activation_11[0][0]              \n",
            "__________________________________________________________________________________________________\n",
            "add_5 (Add)                     (None, 17, 25, 128)  0           add_4[0][0]                      \n",
            "                                                                 conv2d_15[0][0]                  \n",
            "__________________________________________________________________________________________________\n",
            "batch_normalization_12 (BatchNo (None, 17, 25, 128)  512         add_5[0][0]                      \n",
            "__________________________________________________________________________________________________\n",
            "activation_12 (Activation)      (None, 17, 25, 128)  0           batch_normalization_12[0][0]     \n",
            "__________________________________________________________________________________________________\n",
            "average_pooling2d (AveragePooli (None, 2, 3, 128)    0           activation_12[0][0]              \n",
            "__________________________________________________________________________________________________\n",
            "flatten (Flatten)               (None, 768)          0           average_pooling2d[0][0]          \n",
            "__________________________________________________________________________________________________\n",
            "dense (Dense)                   (None, 4)            3076        flatten[0][0]                    \n",
            "==================================================================================================\n",
            "Total params: 694,996\n",
            "Trainable params: 693,172\n",
            "Non-trainable params: 1,824\n",
            "__________________________________________________________________________________________________\n"
          ],
          "name": "stdout"
        }
      ]
    },
    {
      "cell_type": "code",
      "metadata": {
        "id": "AJqH742XcPQv",
        "colab_type": "code",
        "colab": {}
      },
      "source": [
        "from sklearn.model_selection import train_test_split\n",
        "import gzip\n",
        "import pickle\n",
        "\n",
        "import numpy as np"
      ],
      "execution_count": 0,
      "outputs": []
    },
    {
      "cell_type": "code",
      "metadata": {
        "id": "fNBI_SkvuzgK",
        "colab_type": "code",
        "colab": {}
      },
      "source": [
        "def read_data():\n",
        "    with open(\"data.pz\", 'rb') as file_:\n",
        "        with gzip.GzipFile(fileobj=file_) as gzf:\n",
        "            data = pickle.load(gzf, encoding='latin1', fix_imports=True)\n",
        "    return data\n",
        "data = read_data()\n"
      ],
      "execution_count": 0,
      "outputs": []
    },
    {
      "cell_type": "code",
      "metadata": {
        "id": "4euxwMe2jIoX",
        "colab_type": "code",
        "outputId": "d19d12e1-ccb2-495a-91aa-e8403c2094a3",
        "colab": {
          "base_uri": "https://localhost:8080/",
          "height": 34
        }
      },
      "source": [
        "new_data_X = []\n",
        "Y_data = []\n",
        "for row in data:\n",
        "    new_data_X.append(row['crop'])\n",
        "    Y_data.append(row['label'])\n",
        "new_data_X = np.array(new_data_X)\n",
        "new_data_X.shape"
      ],
      "execution_count": 99,
      "outputs": [
        {
          "output_type": "execute_result",
          "data": {
            "text/plain": [
              "(5722, 68, 100)"
            ]
          },
          "metadata": {
            "tags": []
          },
          "execution_count": 99
        }
      ]
    },
    {
      "cell_type": "code",
      "metadata": {
        "id": "TNBsNVDNu6Ku",
        "colab_type": "code",
        "outputId": "d8838a6f-4b2d-463e-aa34-155c23874a0e",
        "colab": {
          "base_uri": "https://localhost:8080/",
          "height": 34
        }
      },
      "source": [
        "X = new_data_X.astype('float32')\n",
        "X.shape"
      ],
      "execution_count": 100,
      "outputs": [
        {
          "output_type": "execute_result",
          "data": {
            "text/plain": [
              "(5722, 68, 100)"
            ]
          },
          "metadata": {
            "tags": []
          },
          "execution_count": 100
        }
      ]
    },
    {
      "cell_type": "code",
      "metadata": {
        "id": "Rv-A3B72JXDE",
        "colab_type": "code",
        "colab": {}
      },
      "source": [
        ""
      ],
      "execution_count": 0,
      "outputs": []
    },
    {
      "cell_type": "code",
      "metadata": {
        "id": "uqf-dZOrvC0e",
        "colab_type": "code",
        "colab": {}
      },
      "source": [
        "\n",
        "img_rows, img_cols = X[0].shape\n",
        "\n",
        "# transform data set\n",
        "if K.image_data_format() == 'channels_first':\n",
        "    X = X.reshape(X.shape[0], 1, img_rows, img_cols)\n",
        "    input_shape = (1, img_rows, img_cols)\n",
        "else:\n",
        "    X = X.reshape(X.shape[0], img_rows, img_cols, 1)\n",
        "    input_shape = (img_rows, img_cols, 1)"
      ],
      "execution_count": 0,
      "outputs": []
    },
    {
      "cell_type": "code",
      "metadata": {
        "id": "I7Z7UDOByArq",
        "colab_type": "code",
        "outputId": "d11ee819-1e57-40b6-c02f-6fe1fa2150df",
        "colab": {
          "base_uri": "https://localhost:8080/",
          "height": 34
        }
      },
      "source": [
        "X.shape\n"
      ],
      "execution_count": 102,
      "outputs": [
        {
          "output_type": "execute_result",
          "data": {
            "text/plain": [
              "(5722, 68, 100, 1)"
            ]
          },
          "metadata": {
            "tags": []
          },
          "execution_count": 102
        }
      ]
    },
    {
      "cell_type": "code",
      "metadata": {
        "id": "2eEHVf2Bu9xt",
        "colab_type": "code",
        "colab": {}
      },
      "source": [
        "import pandas as pd\n",
        "import numpy as np\n",
        "from sklearn.preprocessing import LabelEncoder\n",
        "\n",
        "labelencoder = LabelEncoder()\n",
        "y_df = pd.DataFrame(Y_data, columns=['Label'])\n",
        "y_df['Encoded'] = labelencoder.fit_transform(y_df['Label'])"
      ],
      "execution_count": 0,
      "outputs": []
    },
    {
      "cell_type": "code",
      "metadata": {
        "id": "56hwq9R2jruF",
        "colab_type": "code",
        "outputId": "7a60cda4-bf3e-441e-9144-12d113c566fe",
        "colab": {
          "base_uri": "https://localhost:8080/",
          "height": 104
        }
      },
      "source": [
        "y_df['Label'].value_counts()"
      ],
      "execution_count": 11,
      "outputs": [
        {
          "output_type": "execute_result",
          "data": {
            "text/plain": [
              "closed           1500\n",
              "open             1500\n",
              "partiallyOpen    1376\n",
              "notVisible       1346\n",
              "Name: Label, dtype: int64"
            ]
          },
          "metadata": {
            "tags": []
          },
          "execution_count": 11
        }
      ]
    },
    {
      "cell_type": "code",
      "metadata": {
        "id": "WxAYuiEzj4Bp",
        "colab_type": "code",
        "outputId": "914abc14-39d7-4046-8f69-1f9745ae46bd",
        "colab": {
          "base_uri": "https://localhost:8080/",
          "height": 104
        }
      },
      "source": [
        "y_df['Encoded'].value_counts()\n"
      ],
      "execution_count": 12,
      "outputs": [
        {
          "output_type": "execute_result",
          "data": {
            "text/plain": [
              "2    1500\n",
              "0    1500\n",
              "3    1376\n",
              "1    1346\n",
              "Name: Encoded, dtype: int64"
            ]
          },
          "metadata": {
            "tags": []
          },
          "execution_count": 12
        }
      ]
    },
    {
      "cell_type": "code",
      "metadata": {
        "id": "wdkpb2Jkqu6t",
        "colab_type": "code",
        "colab": {}
      },
      "source": [
        "from tensorflow.keras.utils import to_categorical\n",
        "\n",
        "y_cat = to_categorical(y_df['Encoded'])"
      ],
      "execution_count": 0,
      "outputs": []
    },
    {
      "cell_type": "code",
      "metadata": {
        "id": "rghSgp3NvhhV",
        "colab_type": "code",
        "colab": {}
      },
      "source": [
        "from tensorflow.keras.optimizers import SGD\n",
        "\n",
        "EPOCHS = 200\n",
        "BS = 128"
      ],
      "execution_count": 0,
      "outputs": []
    },
    {
      "cell_type": "code",
      "metadata": {
        "id": "PUHIVZnNwLL0",
        "colab_type": "code",
        "colab": {}
      },
      "source": [
        "sgd = SGD(lr=0.1, momentum=0.9)"
      ],
      "execution_count": 0,
      "outputs": []
    },
    {
      "cell_type": "code",
      "metadata": {
        "id": "yBnqXaiNwHGl",
        "colab_type": "code",
        "outputId": "8b6cbfca-44e4-4379-d916-686b41b6f7c5",
        "colab": {
          "base_uri": "https://localhost:8080/",
          "height": 34
        }
      },
      "source": [
        "wrn_16_2.compile(loss=\"categorical_crossentropy\", optimizer=sgd, metrics=[\"acc\"])\n",
        "print(\"Finished compiling\")\n"
      ],
      "execution_count": 16,
      "outputs": [
        {
          "output_type": "stream",
          "text": [
            "Finished compiling\n"
          ],
          "name": "stdout"
        }
      ]
    },
    {
      "cell_type": "code",
      "metadata": {
        "id": "4HA8PdUYwhsH",
        "colab_type": "code",
        "colab": {}
      },
      "source": [
        "from tensorflow.keras.utils import to_categorical\n",
        "from tensorflow.keras.callbacks import Callback, LearningRateScheduler, EarlyStopping\n"
      ],
      "execution_count": 0,
      "outputs": []
    },
    {
      "cell_type": "code",
      "metadata": {
        "id": "88yOqhbSwjPa",
        "colab_type": "code",
        "colab": {}
      },
      "source": [
        "def lr_sch(epoch):\n",
        "    if epoch < 60:\n",
        "        return 0.1\n",
        "    elif epoch < 120:\n",
        "        return 0.02\n",
        "    elif epoch < 160:\n",
        "        return 0.004\n",
        "    else:\n",
        "        return 0.0008\n",
        "\n",
        "# Learning rate scheduler callback\n",
        "lr_scheduler = LearningRateScheduler(lr_sch)"
      ],
      "execution_count": 0,
      "outputs": []
    },
    {
      "cell_type": "code",
      "metadata": {
        "id": "TbpiWMEgRpWa",
        "colab_type": "code",
        "colab": {}
      },
      "source": [
        "import tensorflow\n",
        "generator = tensorflow.keras.preprocessing.image.ImageDataGenerator(rotation_range=10,\n",
        "                               width_shift_range=5./32,\n",
        "                               height_shift_range=5./32,)"
      ],
      "execution_count": 0,
      "outputs": []
    },
    {
      "cell_type": "code",
      "metadata": {
        "id": "uo-6r-Zvva5l",
        "colab_type": "code",
        "colab": {}
      },
      "source": [
        "X_train, X_test, y_train, y_test = train_test_split(X, y_cat, test_size = 0.33)"
      ],
      "execution_count": 0,
      "outputs": []
    },
    {
      "cell_type": "code",
      "metadata": {
        "id": "JVs_QNHoEKji",
        "colab_type": "code",
        "outputId": "1e9cac39-e915-4fb2-da8e-db2c211bfc3e",
        "colab": {
          "base_uri": "https://localhost:8080/",
          "height": 1000
        }
      },
      "source": [
        "\n",
        "hist = wrn_16_2.fit_generator(generator.flow(X_train, y_train, batch_size=BS), steps_per_epoch=len(X_train) // BS, epochs=EPOCHS,\n",
        "                   callbacks=[lr_scheduler],\n",
        "                   validation_data=(X_test, y_test),\n",
        "                   validation_steps=X_test.shape[0] // BS,)"
      ],
      "execution_count": 21,
      "outputs": [
        {
          "output_type": "stream",
          "text": [
            "WARNING:tensorflow:From <ipython-input-21-99af60e7ca68>:5: Model.fit_generator (from tensorflow.python.keras.engine.training) is deprecated and will be removed in a future version.\n",
            "Instructions for updating:\n",
            "Please use Model.fit, which supports generators.\n",
            "Epoch 1/200\n",
            "29/29 [==============================] - 17s 595ms/step - loss: 2.4586 - acc: 0.3260 - val_loss: 2.5395 - val_acc: 0.3335 - lr: 0.1000\n",
            "Epoch 2/200\n",
            "29/29 [==============================] - 14s 484ms/step - loss: 2.3208 - acc: 0.3765 - val_loss: 2.3468 - val_acc: 0.3806 - lr: 0.1000\n",
            "Epoch 3/200\n",
            "29/29 [==============================] - 14s 483ms/step - loss: 2.2335 - acc: 0.4186 - val_loss: 2.1843 - val_acc: 0.4907 - lr: 0.1000\n",
            "Epoch 4/200\n",
            "29/29 [==============================] - 14s 487ms/step - loss: 2.1466 - acc: 0.4475 - val_loss: 2.1042 - val_acc: 0.5034 - lr: 0.1000\n",
            "Epoch 5/200\n",
            "29/29 [==============================] - 14s 488ms/step - loss: 2.0594 - acc: 0.4791 - val_loss: 2.0432 - val_acc: 0.4796 - lr: 0.1000\n",
            "Epoch 6/200\n",
            "29/29 [==============================] - 14s 490ms/step - loss: 1.9810 - acc: 0.5077 - val_loss: 1.9313 - val_acc: 0.5135 - lr: 0.1000\n",
            "Epoch 7/200\n",
            "29/29 [==============================] - 14s 489ms/step - loss: 1.9064 - acc: 0.5285 - val_loss: 1.8294 - val_acc: 0.5611 - lr: 0.1000\n",
            "Epoch 8/200\n",
            "29/29 [==============================] - 14s 491ms/step - loss: 1.8088 - acc: 0.5636 - val_loss: 1.7288 - val_acc: 0.5876 - lr: 0.1000\n",
            "Epoch 9/200\n",
            "29/29 [==============================] - 14s 489ms/step - loss: 1.7186 - acc: 0.5816 - val_loss: 1.7213 - val_acc: 0.5770 - lr: 0.1000\n",
            "Epoch 10/200\n",
            "29/29 [==============================] - 14s 489ms/step - loss: 1.6817 - acc: 0.5835 - val_loss: 1.7639 - val_acc: 0.5405 - lr: 0.1000\n",
            "Epoch 11/200\n",
            "29/29 [==============================] - 14s 490ms/step - loss: 1.6082 - acc: 0.5954 - val_loss: 1.5625 - val_acc: 0.6114 - lr: 0.1000\n",
            "Epoch 12/200\n",
            "29/29 [==============================] - 14s 488ms/step - loss: 1.5502 - acc: 0.6157 - val_loss: 1.6350 - val_acc: 0.5516 - lr: 0.1000\n",
            "Epoch 13/200\n",
            "29/29 [==============================] - 14s 491ms/step - loss: 1.4726 - acc: 0.6532 - val_loss: 1.8176 - val_acc: 0.4690 - lr: 0.1000\n",
            "Epoch 14/200\n",
            "29/29 [==============================] - 14s 489ms/step - loss: 1.4101 - acc: 0.6648 - val_loss: 1.3975 - val_acc: 0.6580 - lr: 0.1000\n",
            "Epoch 15/200\n",
            "29/29 [==============================] - 14s 487ms/step - loss: 1.3690 - acc: 0.6699 - val_loss: 1.3842 - val_acc: 0.6755 - lr: 0.1000\n",
            "Epoch 16/200\n",
            "29/29 [==============================] - 14s 487ms/step - loss: 1.3269 - acc: 0.6815 - val_loss: 1.3510 - val_acc: 0.6713 - lr: 0.1000\n",
            "Epoch 17/200\n",
            "29/29 [==============================] - 14s 487ms/step - loss: 1.3159 - acc: 0.6772 - val_loss: 1.3795 - val_acc: 0.6390 - lr: 0.1000\n",
            "Epoch 18/200\n",
            "29/29 [==============================] - 14s 486ms/step - loss: 1.2319 - acc: 0.6996 - val_loss: 1.3925 - val_acc: 0.6559 - lr: 0.1000\n",
            "Epoch 19/200\n",
            "29/29 [==============================] - 14s 486ms/step - loss: 1.1888 - acc: 0.7204 - val_loss: 1.2066 - val_acc: 0.6983 - lr: 0.1000\n",
            "Epoch 20/200\n",
            "29/29 [==============================] - 14s 484ms/step - loss: 1.1819 - acc: 0.7061 - val_loss: 1.1871 - val_acc: 0.6998 - lr: 0.1000\n",
            "Epoch 21/200\n",
            "29/29 [==============================] - 14s 485ms/step - loss: 1.1176 - acc: 0.7244 - val_loss: 1.3176 - val_acc: 0.6406 - lr: 0.1000\n",
            "Epoch 22/200\n",
            "29/29 [==============================] - 14s 484ms/step - loss: 1.1182 - acc: 0.7241 - val_loss: 1.3545 - val_acc: 0.6511 - lr: 0.1000\n",
            "Epoch 23/200\n",
            "29/29 [==============================] - 14s 484ms/step - loss: 1.0580 - acc: 0.7422 - val_loss: 1.2039 - val_acc: 0.6850 - lr: 0.1000\n",
            "Epoch 24/200\n",
            "29/29 [==============================] - 14s 485ms/step - loss: 1.0792 - acc: 0.7258 - val_loss: 1.1594 - val_acc: 0.6977 - lr: 0.1000\n",
            "Epoch 25/200\n",
            "29/29 [==============================] - 14s 484ms/step - loss: 1.0293 - acc: 0.7422 - val_loss: 0.9972 - val_acc: 0.7491 - lr: 0.1000\n",
            "Epoch 26/200\n",
            "29/29 [==============================] - 14s 484ms/step - loss: 1.0043 - acc: 0.7468 - val_loss: 1.0154 - val_acc: 0.7332 - lr: 0.1000\n",
            "Epoch 27/200\n",
            "29/29 [==============================] - 14s 487ms/step - loss: 1.0024 - acc: 0.7493 - val_loss: 1.0237 - val_acc: 0.7311 - lr: 0.1000\n",
            "Epoch 28/200\n",
            "29/29 [==============================] - 14s 488ms/step - loss: 0.9573 - acc: 0.7655 - val_loss: 1.0342 - val_acc: 0.7374 - lr: 0.1000\n",
            "Epoch 29/200\n",
            "29/29 [==============================] - 14s 489ms/step - loss: 0.9462 - acc: 0.7652 - val_loss: 1.2110 - val_acc: 0.6517 - lr: 0.1000\n",
            "Epoch 30/200\n",
            "29/29 [==============================] - 14s 484ms/step - loss: 0.9421 - acc: 0.7582 - val_loss: 1.1798 - val_acc: 0.7046 - lr: 0.1000\n",
            "Epoch 31/200\n",
            "29/29 [==============================] - 14s 485ms/step - loss: 0.9008 - acc: 0.7673 - val_loss: 0.9400 - val_acc: 0.7538 - lr: 0.1000\n",
            "Epoch 32/200\n",
            "29/29 [==============================] - 14s 487ms/step - loss: 0.8959 - acc: 0.7695 - val_loss: 1.0438 - val_acc: 0.7067 - lr: 0.1000\n",
            "Epoch 33/200\n",
            "29/29 [==============================] - 14s 487ms/step - loss: 0.8771 - acc: 0.7727 - val_loss: 0.9401 - val_acc: 0.7560 - lr: 0.1000\n",
            "Epoch 34/200\n",
            "29/29 [==============================] - 14s 485ms/step - loss: 0.8718 - acc: 0.7725 - val_loss: 0.9301 - val_acc: 0.7560 - lr: 0.1000\n",
            "Epoch 35/200\n",
            "29/29 [==============================] - 14s 486ms/step - loss: 0.8032 - acc: 0.8019 - val_loss: 0.8992 - val_acc: 0.7665 - lr: 0.1000\n",
            "Epoch 36/200\n",
            "29/29 [==============================] - 14s 486ms/step - loss: 0.7925 - acc: 0.7981 - val_loss: 0.8997 - val_acc: 0.7591 - lr: 0.1000\n",
            "Epoch 37/200\n",
            "29/29 [==============================] - 14s 485ms/step - loss: 0.8096 - acc: 0.7888 - val_loss: 0.9538 - val_acc: 0.7464 - lr: 0.1000\n",
            "Epoch 38/200\n",
            "29/29 [==============================] - 14s 485ms/step - loss: 0.8119 - acc: 0.7849 - val_loss: 0.9250 - val_acc: 0.7443 - lr: 0.1000\n",
            "Epoch 39/200\n",
            "29/29 [==============================] - 14s 486ms/step - loss: 0.7872 - acc: 0.7973 - val_loss: 0.9634 - val_acc: 0.7311 - lr: 0.1000\n",
            "Epoch 40/200\n",
            "29/29 [==============================] - 14s 485ms/step - loss: 0.7599 - acc: 0.8116 - val_loss: 0.9055 - val_acc: 0.7575 - lr: 0.1000\n",
            "Epoch 41/200\n",
            "29/29 [==============================] - 14s 485ms/step - loss: 0.7494 - acc: 0.8059 - val_loss: 0.8590 - val_acc: 0.7856 - lr: 0.1000\n",
            "Epoch 42/200\n",
            "29/29 [==============================] - 14s 483ms/step - loss: 0.7087 - acc: 0.8256 - val_loss: 0.9614 - val_acc: 0.7358 - lr: 0.1000\n",
            "Epoch 43/200\n",
            "29/29 [==============================] - 14s 485ms/step - loss: 0.7349 - acc: 0.8113 - val_loss: 0.9488 - val_acc: 0.7454 - lr: 0.1000\n",
            "Epoch 44/200\n",
            "29/29 [==============================] - 14s 484ms/step - loss: 0.7287 - acc: 0.8189 - val_loss: 0.9053 - val_acc: 0.7676 - lr: 0.1000\n",
            "Epoch 45/200\n",
            "29/29 [==============================] - 14s 486ms/step - loss: 0.7284 - acc: 0.8138 - val_loss: 0.8992 - val_acc: 0.7676 - lr: 0.1000\n",
            "Epoch 46/200\n",
            "29/29 [==============================] - 14s 485ms/step - loss: 0.7222 - acc: 0.8192 - val_loss: 1.1319 - val_acc: 0.6792 - lr: 0.1000\n",
            "Epoch 47/200\n",
            "29/29 [==============================] - 14s 485ms/step - loss: 0.7035 - acc: 0.8189 - val_loss: 0.8507 - val_acc: 0.7909 - lr: 0.1000\n",
            "Epoch 48/200\n",
            "29/29 [==============================] - 14s 484ms/step - loss: 0.6815 - acc: 0.8316 - val_loss: 0.8280 - val_acc: 0.7830 - lr: 0.1000\n",
            "Epoch 49/200\n",
            "29/29 [==============================] - 14s 485ms/step - loss: 0.6918 - acc: 0.8267 - val_loss: 0.9451 - val_acc: 0.7538 - lr: 0.1000\n",
            "Epoch 50/200\n",
            "29/29 [==============================] - 14s 485ms/step - loss: 0.6827 - acc: 0.8367 - val_loss: 0.9268 - val_acc: 0.7501 - lr: 0.1000\n",
            "Epoch 51/200\n",
            "29/29 [==============================] - 14s 484ms/step - loss: 0.6619 - acc: 0.8424 - val_loss: 0.9823 - val_acc: 0.7565 - lr: 0.1000\n",
            "Epoch 52/200\n",
            "29/29 [==============================] - 14s 486ms/step - loss: 0.6837 - acc: 0.8265 - val_loss: 0.8782 - val_acc: 0.7856 - lr: 0.1000\n",
            "Epoch 53/200\n",
            "29/29 [==============================] - 14s 485ms/step - loss: 0.6660 - acc: 0.8399 - val_loss: 0.9845 - val_acc: 0.7427 - lr: 0.1000\n",
            "Epoch 54/200\n",
            "29/29 [==============================] - 14s 484ms/step - loss: 0.6966 - acc: 0.8279 - val_loss: 0.8769 - val_acc: 0.7755 - lr: 0.1000\n",
            "Epoch 55/200\n",
            "29/29 [==============================] - 14s 484ms/step - loss: 0.6696 - acc: 0.8378 - val_loss: 0.8682 - val_acc: 0.7713 - lr: 0.1000\n",
            "Epoch 56/200\n",
            "29/29 [==============================] - 14s 485ms/step - loss: 0.6301 - acc: 0.8564 - val_loss: 0.8521 - val_acc: 0.7824 - lr: 0.1000\n",
            "Epoch 57/200\n",
            "29/29 [==============================] - 14s 486ms/step - loss: 0.6305 - acc: 0.8491 - val_loss: 0.9051 - val_acc: 0.7766 - lr: 0.1000\n",
            "Epoch 58/200\n",
            "29/29 [==============================] - 14s 484ms/step - loss: 0.6152 - acc: 0.8623 - val_loss: 0.8311 - val_acc: 0.7967 - lr: 0.1000\n",
            "Epoch 59/200\n",
            "29/29 [==============================] - 14s 485ms/step - loss: 0.6281 - acc: 0.8564 - val_loss: 0.8371 - val_acc: 0.7877 - lr: 0.1000\n",
            "Epoch 60/200\n",
            "29/29 [==============================] - 14s 482ms/step - loss: 0.6109 - acc: 0.8564 - val_loss: 0.9924 - val_acc: 0.7406 - lr: 0.1000\n",
            "Epoch 61/200\n",
            "29/29 [==============================] - 14s 483ms/step - loss: 0.6022 - acc: 0.8605 - val_loss: 0.8455 - val_acc: 0.7898 - lr: 0.0200\n",
            "Epoch 62/200\n",
            "29/29 [==============================] - 14s 483ms/step - loss: 0.4907 - acc: 0.9077 - val_loss: 0.7784 - val_acc: 0.8195 - lr: 0.0200\n",
            "Epoch 63/200\n",
            "29/29 [==============================] - 14s 484ms/step - loss: 0.4417 - acc: 0.9279 - val_loss: 0.7643 - val_acc: 0.8232 - lr: 0.0200\n",
            "Epoch 64/200\n",
            "29/29 [==============================] - 14s 483ms/step - loss: 0.4158 - acc: 0.9371 - val_loss: 0.7816 - val_acc: 0.8258 - lr: 0.0200\n",
            "Epoch 65/200\n",
            "29/29 [==============================] - 14s 483ms/step - loss: 0.3925 - acc: 0.9455 - val_loss: 0.8092 - val_acc: 0.8301 - lr: 0.0200\n",
            "Epoch 66/200\n",
            "29/29 [==============================] - 14s 482ms/step - loss: 0.3889 - acc: 0.9425 - val_loss: 0.8133 - val_acc: 0.8227 - lr: 0.0200\n",
            "Epoch 67/200\n",
            "29/29 [==============================] - 14s 483ms/step - loss: 0.3724 - acc: 0.9503 - val_loss: 0.7871 - val_acc: 0.8290 - lr: 0.0200\n",
            "Epoch 68/200\n",
            "29/29 [==============================] - 14s 482ms/step - loss: 0.3686 - acc: 0.9514 - val_loss: 0.8404 - val_acc: 0.8242 - lr: 0.0200\n",
            "Epoch 69/200\n",
            "29/29 [==============================] - 14s 483ms/step - loss: 0.3524 - acc: 0.9582 - val_loss: 0.8298 - val_acc: 0.8311 - lr: 0.0200\n",
            "Epoch 70/200\n",
            "29/29 [==============================] - 14s 482ms/step - loss: 0.3370 - acc: 0.9638 - val_loss: 0.8042 - val_acc: 0.8332 - lr: 0.0200\n",
            "Epoch 71/200\n",
            "29/29 [==============================] - 14s 483ms/step - loss: 0.3393 - acc: 0.9606 - val_loss: 0.8608 - val_acc: 0.8242 - lr: 0.0200\n",
            "Epoch 72/200\n",
            "29/29 [==============================] - 14s 483ms/step - loss: 0.3356 - acc: 0.9601 - val_loss: 0.8619 - val_acc: 0.8121 - lr: 0.0200\n",
            "Epoch 73/200\n",
            "29/29 [==============================] - 14s 482ms/step - loss: 0.3172 - acc: 0.9679 - val_loss: 0.8649 - val_acc: 0.8280 - lr: 0.0200\n",
            "Epoch 74/200\n",
            "29/29 [==============================] - 14s 482ms/step - loss: 0.3167 - acc: 0.9663 - val_loss: 0.8577 - val_acc: 0.8227 - lr: 0.0200\n",
            "Epoch 75/200\n",
            "29/29 [==============================] - 14s 481ms/step - loss: 0.3132 - acc: 0.9671 - val_loss: 0.8789 - val_acc: 0.8232 - lr: 0.0200\n",
            "Epoch 76/200\n",
            "29/29 [==============================] - 14s 481ms/step - loss: 0.3070 - acc: 0.9706 - val_loss: 0.8361 - val_acc: 0.8348 - lr: 0.0200\n",
            "Epoch 77/200\n",
            "29/29 [==============================] - 14s 483ms/step - loss: 0.3078 - acc: 0.9666 - val_loss: 0.8444 - val_acc: 0.8327 - lr: 0.0200\n",
            "Epoch 78/200\n",
            "29/29 [==============================] - 14s 484ms/step - loss: 0.2878 - acc: 0.9760 - val_loss: 1.0059 - val_acc: 0.8078 - lr: 0.0200\n",
            "Epoch 79/200\n",
            "29/29 [==============================] - 14s 485ms/step - loss: 0.2974 - acc: 0.9706 - val_loss: 0.9099 - val_acc: 0.8158 - lr: 0.0200\n",
            "Epoch 80/200\n",
            "29/29 [==============================] - 14s 486ms/step - loss: 0.2856 - acc: 0.9741 - val_loss: 0.8550 - val_acc: 0.8343 - lr: 0.0200\n",
            "Epoch 81/200\n",
            "29/29 [==============================] - 14s 486ms/step - loss: 0.2803 - acc: 0.9757 - val_loss: 0.8625 - val_acc: 0.8301 - lr: 0.0200\n",
            "Epoch 82/200\n",
            "29/29 [==============================] - 14s 485ms/step - loss: 0.2917 - acc: 0.9711 - val_loss: 0.9683 - val_acc: 0.8221 - lr: 0.0200\n",
            "Epoch 83/200\n",
            "29/29 [==============================] - 14s 485ms/step - loss: 0.2908 - acc: 0.9692 - val_loss: 0.9050 - val_acc: 0.8290 - lr: 0.0200\n",
            "Epoch 84/200\n",
            "29/29 [==============================] - 14s 484ms/step - loss: 0.2769 - acc: 0.9773 - val_loss: 0.8885 - val_acc: 0.8274 - lr: 0.0200\n",
            "Epoch 85/200\n",
            "29/29 [==============================] - 14s 485ms/step - loss: 0.2760 - acc: 0.9760 - val_loss: 0.9672 - val_acc: 0.8227 - lr: 0.0200\n",
            "Epoch 86/200\n",
            "29/29 [==============================] - 14s 485ms/step - loss: 0.2663 - acc: 0.9765 - val_loss: 0.8990 - val_acc: 0.8216 - lr: 0.0200\n",
            "Epoch 87/200\n",
            "29/29 [==============================] - 14s 485ms/step - loss: 0.2632 - acc: 0.9789 - val_loss: 0.8987 - val_acc: 0.8327 - lr: 0.0200\n",
            "Epoch 88/200\n",
            "29/29 [==============================] - 14s 485ms/step - loss: 0.2621 - acc: 0.9760 - val_loss: 0.9868 - val_acc: 0.8163 - lr: 0.0200\n",
            "Epoch 89/200\n",
            "29/29 [==============================] - 14s 483ms/step - loss: 0.2616 - acc: 0.9779 - val_loss: 0.9809 - val_acc: 0.8195 - lr: 0.0200\n",
            "Epoch 90/200\n",
            "29/29 [==============================] - 14s 484ms/step - loss: 0.2629 - acc: 0.9744 - val_loss: 0.9736 - val_acc: 0.8237 - lr: 0.0200\n",
            "Epoch 91/200\n",
            "29/29 [==============================] - 14s 485ms/step - loss: 0.2575 - acc: 0.9789 - val_loss: 0.9068 - val_acc: 0.8375 - lr: 0.0200\n",
            "Epoch 92/200\n",
            "29/29 [==============================] - 14s 485ms/step - loss: 0.2553 - acc: 0.9792 - val_loss: 0.9902 - val_acc: 0.8290 - lr: 0.0200\n",
            "Epoch 93/200\n",
            "29/29 [==============================] - 14s 487ms/step - loss: 0.2591 - acc: 0.9746 - val_loss: 0.9159 - val_acc: 0.8295 - lr: 0.0200\n",
            "Epoch 94/200\n",
            "29/29 [==============================] - 14s 487ms/step - loss: 0.2470 - acc: 0.9803 - val_loss: 0.8691 - val_acc: 0.8322 - lr: 0.0200\n",
            "Epoch 95/200\n",
            "29/29 [==============================] - 14s 483ms/step - loss: 0.2505 - acc: 0.9771 - val_loss: 0.9017 - val_acc: 0.8332 - lr: 0.0200\n",
            "Epoch 96/200\n",
            "29/29 [==============================] - 14s 484ms/step - loss: 0.2469 - acc: 0.9819 - val_loss: 0.9410 - val_acc: 0.8248 - lr: 0.0200\n",
            "Epoch 97/200\n",
            "29/29 [==============================] - 14s 482ms/step - loss: 0.2470 - acc: 0.9803 - val_loss: 0.8888 - val_acc: 0.8311 - lr: 0.0200\n",
            "Epoch 98/200\n",
            "29/29 [==============================] - 14s 481ms/step - loss: 0.2407 - acc: 0.9819 - val_loss: 0.9138 - val_acc: 0.8179 - lr: 0.0200\n",
            "Epoch 99/200\n",
            "29/29 [==============================] - 14s 483ms/step - loss: 0.2330 - acc: 0.9816 - val_loss: 0.8899 - val_acc: 0.8359 - lr: 0.0200\n",
            "Epoch 100/200\n",
            "29/29 [==============================] - 14s 483ms/step - loss: 0.2295 - acc: 0.9849 - val_loss: 0.9972 - val_acc: 0.8200 - lr: 0.0200\n",
            "Epoch 101/200\n",
            "29/29 [==============================] - 14s 484ms/step - loss: 0.2311 - acc: 0.9819 - val_loss: 0.9619 - val_acc: 0.8168 - lr: 0.0200\n",
            "Epoch 102/200\n",
            "29/29 [==============================] - 14s 485ms/step - loss: 0.2301 - acc: 0.9838 - val_loss: 0.9934 - val_acc: 0.8253 - lr: 0.0200\n",
            "Epoch 103/200\n",
            "29/29 [==============================] - 14s 486ms/step - loss: 0.2594 - acc: 0.9730 - val_loss: 1.0547 - val_acc: 0.8047 - lr: 0.0200\n",
            "Epoch 104/200\n",
            "29/29 [==============================] - 14s 488ms/step - loss: 0.2515 - acc: 0.9733 - val_loss: 0.8967 - val_acc: 0.8242 - lr: 0.0200\n",
            "Epoch 105/200\n",
            "29/29 [==============================] - 14s 484ms/step - loss: 0.2390 - acc: 0.9795 - val_loss: 0.9669 - val_acc: 0.8274 - lr: 0.0200\n",
            "Epoch 106/200\n",
            "29/29 [==============================] - 14s 484ms/step - loss: 0.2499 - acc: 0.9771 - val_loss: 0.9619 - val_acc: 0.8163 - lr: 0.0200\n",
            "Epoch 107/200\n",
            "29/29 [==============================] - 14s 483ms/step - loss: 0.2472 - acc: 0.9765 - val_loss: 0.9228 - val_acc: 0.8269 - lr: 0.0200\n",
            "Epoch 108/200\n",
            "29/29 [==============================] - 14s 483ms/step - loss: 0.2341 - acc: 0.9808 - val_loss: 0.9528 - val_acc: 0.8205 - lr: 0.0200\n",
            "Epoch 109/200\n",
            "29/29 [==============================] - 14s 486ms/step - loss: 0.2247 - acc: 0.9816 - val_loss: 0.9031 - val_acc: 0.8258 - lr: 0.0200\n",
            "Epoch 110/200\n",
            "29/29 [==============================] - 14s 485ms/step - loss: 0.2241 - acc: 0.9846 - val_loss: 0.8809 - val_acc: 0.8385 - lr: 0.0200\n",
            "Epoch 111/200\n",
            "29/29 [==============================] - 14s 484ms/step - loss: 0.2205 - acc: 0.9843 - val_loss: 0.9543 - val_acc: 0.8280 - lr: 0.0200\n",
            "Epoch 112/200\n",
            "29/29 [==============================] - 14s 484ms/step - loss: 0.2249 - acc: 0.9835 - val_loss: 0.8809 - val_acc: 0.8317 - lr: 0.0200\n",
            "Epoch 113/200\n",
            "29/29 [==============================] - 14s 485ms/step - loss: 0.2187 - acc: 0.9838 - val_loss: 1.0243 - val_acc: 0.8184 - lr: 0.0200\n",
            "Epoch 114/200\n",
            "29/29 [==============================] - 14s 485ms/step - loss: 0.2336 - acc: 0.9749 - val_loss: 0.9217 - val_acc: 0.8221 - lr: 0.0200\n",
            "Epoch 115/200\n",
            "29/29 [==============================] - 14s 485ms/step - loss: 0.2287 - acc: 0.9757 - val_loss: 0.9206 - val_acc: 0.8285 - lr: 0.0200\n",
            "Epoch 116/200\n",
            "29/29 [==============================] - 14s 486ms/step - loss: 0.2307 - acc: 0.9803 - val_loss: 0.9964 - val_acc: 0.8174 - lr: 0.0200\n",
            "Epoch 117/200\n",
            "29/29 [==============================] - 14s 484ms/step - loss: 0.2412 - acc: 0.9760 - val_loss: 0.9952 - val_acc: 0.8285 - lr: 0.0200\n",
            "Epoch 118/200\n",
            "29/29 [==============================] - 14s 486ms/step - loss: 0.2405 - acc: 0.9738 - val_loss: 0.9655 - val_acc: 0.8200 - lr: 0.0200\n",
            "Epoch 119/200\n",
            "29/29 [==============================] - 14s 484ms/step - loss: 0.2268 - acc: 0.9787 - val_loss: 1.0369 - val_acc: 0.8168 - lr: 0.0200\n",
            "Epoch 120/200\n",
            "29/29 [==============================] - 14s 484ms/step - loss: 0.2322 - acc: 0.9754 - val_loss: 1.1253 - val_acc: 0.7930 - lr: 0.0200\n",
            "Epoch 121/200\n",
            "29/29 [==============================] - 14s 485ms/step - loss: 0.2488 - acc: 0.9709 - val_loss: 0.8667 - val_acc: 0.8285 - lr: 0.0040\n",
            "Epoch 122/200\n",
            "29/29 [==============================] - 14s 483ms/step - loss: 0.1983 - acc: 0.9903 - val_loss: 0.9964 - val_acc: 0.8248 - lr: 0.0040\n",
            "Epoch 123/200\n",
            "29/29 [==============================] - 14s 483ms/step - loss: 0.1894 - acc: 0.9935 - val_loss: 0.9036 - val_acc: 0.8338 - lr: 0.0040\n",
            "Epoch 124/200\n",
            "29/29 [==============================] - 14s 484ms/step - loss: 0.1805 - acc: 0.9970 - val_loss: 0.8817 - val_acc: 0.8338 - lr: 0.0040\n",
            "Epoch 125/200\n",
            "29/29 [==============================] - 14s 484ms/step - loss: 0.1795 - acc: 0.9970 - val_loss: 0.8807 - val_acc: 0.8433 - lr: 0.0040\n",
            "Epoch 126/200\n",
            "29/29 [==============================] - 14s 485ms/step - loss: 0.1764 - acc: 0.9984 - val_loss: 0.8896 - val_acc: 0.8407 - lr: 0.0040\n",
            "Epoch 127/200\n",
            "29/29 [==============================] - 14s 486ms/step - loss: 0.1766 - acc: 0.9965 - val_loss: 0.9054 - val_acc: 0.8380 - lr: 0.0040\n",
            "Epoch 128/200\n",
            "29/29 [==============================] - 14s 484ms/step - loss: 0.1754 - acc: 0.9987 - val_loss: 0.8973 - val_acc: 0.8396 - lr: 0.0040\n",
            "Epoch 129/200\n",
            "29/29 [==============================] - 14s 484ms/step - loss: 0.1757 - acc: 0.9962 - val_loss: 0.9034 - val_acc: 0.8417 - lr: 0.0040\n",
            "Epoch 130/200\n",
            "29/29 [==============================] - 14s 481ms/step - loss: 0.1728 - acc: 0.9987 - val_loss: 0.9017 - val_acc: 0.8428 - lr: 0.0040\n",
            "Epoch 131/200\n",
            "29/29 [==============================] - 14s 483ms/step - loss: 0.1715 - acc: 0.9981 - val_loss: 0.8944 - val_acc: 0.8417 - lr: 0.0040\n",
            "Epoch 132/200\n",
            "29/29 [==============================] - 14s 483ms/step - loss: 0.1730 - acc: 0.9973 - val_loss: 0.8992 - val_acc: 0.8396 - lr: 0.0040\n",
            "Epoch 133/200\n",
            "29/29 [==============================] - 14s 485ms/step - loss: 0.1710 - acc: 0.9984 - val_loss: 0.8845 - val_acc: 0.8449 - lr: 0.0040\n",
            "Epoch 134/200\n",
            "29/29 [==============================] - 14s 484ms/step - loss: 0.1689 - acc: 0.9989 - val_loss: 0.9084 - val_acc: 0.8449 - lr: 0.0040\n",
            "Epoch 135/200\n",
            "29/29 [==============================] - 14s 487ms/step - loss: 0.1712 - acc: 0.9968 - val_loss: 0.9026 - val_acc: 0.8417 - lr: 0.0040\n",
            "Epoch 136/200\n",
            "29/29 [==============================] - 14s 486ms/step - loss: 0.1681 - acc: 0.9992 - val_loss: 0.8948 - val_acc: 0.8407 - lr: 0.0040\n",
            "Epoch 137/200\n",
            "29/29 [==============================] - 14s 484ms/step - loss: 0.1688 - acc: 0.9984 - val_loss: 0.9101 - val_acc: 0.8401 - lr: 0.0040\n",
            "Epoch 138/200\n",
            "29/29 [==============================] - 14s 483ms/step - loss: 0.1699 - acc: 0.9978 - val_loss: 0.9308 - val_acc: 0.8370 - lr: 0.0040\n",
            "Epoch 139/200\n",
            "29/29 [==============================] - 14s 483ms/step - loss: 0.1676 - acc: 0.9987 - val_loss: 0.8954 - val_acc: 0.8417 - lr: 0.0040\n",
            "Epoch 140/200\n",
            "29/29 [==============================] - 14s 487ms/step - loss: 0.1666 - acc: 0.9989 - val_loss: 0.9532 - val_acc: 0.8401 - lr: 0.0040\n",
            "Epoch 141/200\n",
            "29/29 [==============================] - 14s 485ms/step - loss: 0.1659 - acc: 0.9987 - val_loss: 0.8850 - val_acc: 0.8412 - lr: 0.0040\n",
            "Epoch 142/200\n",
            "29/29 [==============================] - 14s 484ms/step - loss: 0.1648 - acc: 0.9995 - val_loss: 0.8979 - val_acc: 0.8460 - lr: 0.0040\n",
            "Epoch 143/200\n",
            "29/29 [==============================] - 14s 484ms/step - loss: 0.1633 - acc: 0.9997 - val_loss: 0.9029 - val_acc: 0.8433 - lr: 0.0040\n",
            "Epoch 144/200\n",
            "29/29 [==============================] - 14s 483ms/step - loss: 0.1653 - acc: 0.9981 - val_loss: 0.9380 - val_acc: 0.8375 - lr: 0.0040\n",
            "Epoch 145/200\n",
            "29/29 [==============================] - 14s 486ms/step - loss: 0.1646 - acc: 0.9981 - val_loss: 0.9136 - val_acc: 0.8401 - lr: 0.0040\n",
            "Epoch 146/200\n",
            "29/29 [==============================] - 14s 484ms/step - loss: 0.1668 - acc: 0.9976 - val_loss: 0.8909 - val_acc: 0.8454 - lr: 0.0040\n",
            "Epoch 147/200\n",
            "29/29 [==============================] - 14s 486ms/step - loss: 0.1656 - acc: 0.9981 - val_loss: 0.8855 - val_acc: 0.8433 - lr: 0.0040\n",
            "Epoch 148/200\n",
            "29/29 [==============================] - 14s 486ms/step - loss: 0.1625 - acc: 0.9995 - val_loss: 0.8824 - val_acc: 0.8422 - lr: 0.0040\n",
            "Epoch 149/200\n",
            "29/29 [==============================] - 14s 485ms/step - loss: 0.1629 - acc: 0.9987 - val_loss: 0.8925 - val_acc: 0.8481 - lr: 0.0040\n",
            "Epoch 150/200\n",
            "29/29 [==============================] - 14s 486ms/step - loss: 0.1616 - acc: 0.9992 - val_loss: 0.9062 - val_acc: 0.8407 - lr: 0.0040\n",
            "Epoch 151/200\n",
            "29/29 [==============================] - 14s 484ms/step - loss: 0.1611 - acc: 0.9987 - val_loss: 0.9719 - val_acc: 0.8364 - lr: 0.0040\n",
            "Epoch 152/200\n",
            "29/29 [==============================] - 14s 483ms/step - loss: 0.1609 - acc: 0.9989 - val_loss: 0.8994 - val_acc: 0.8412 - lr: 0.0040\n",
            "Epoch 153/200\n",
            "29/29 [==============================] - 14s 485ms/step - loss: 0.1593 - acc: 0.9997 - val_loss: 0.9674 - val_acc: 0.8407 - lr: 0.0040\n",
            "Epoch 154/200\n",
            "29/29 [==============================] - 14s 486ms/step - loss: 0.1595 - acc: 0.9997 - val_loss: 0.8924 - val_acc: 0.8449 - lr: 0.0040\n",
            "Epoch 155/200\n",
            "29/29 [==============================] - 14s 485ms/step - loss: 0.1581 - acc: 0.9992 - val_loss: 0.8937 - val_acc: 0.8449 - lr: 0.0040\n",
            "Epoch 156/200\n",
            "29/29 [==============================] - 14s 486ms/step - loss: 0.1622 - acc: 0.9976 - val_loss: 0.9193 - val_acc: 0.8438 - lr: 0.0040\n",
            "Epoch 157/200\n",
            "29/29 [==============================] - 14s 484ms/step - loss: 0.1583 - acc: 0.9995 - val_loss: 0.9016 - val_acc: 0.8433 - lr: 0.0040\n",
            "Epoch 158/200\n",
            "29/29 [==============================] - 14s 485ms/step - loss: 0.1582 - acc: 0.9992 - val_loss: 0.9241 - val_acc: 0.8396 - lr: 0.0040\n",
            "Epoch 159/200\n",
            "29/29 [==============================] - 14s 487ms/step - loss: 0.1574 - acc: 0.9997 - val_loss: 0.9178 - val_acc: 0.8460 - lr: 0.0040\n",
            "Epoch 160/200\n",
            "29/29 [==============================] - 14s 485ms/step - loss: 0.1564 - acc: 0.9997 - val_loss: 0.9033 - val_acc: 0.8444 - lr: 0.0040\n",
            "Epoch 161/200\n",
            "29/29 [==============================] - 14s 485ms/step - loss: 0.1568 - acc: 0.9995 - val_loss: 0.9015 - val_acc: 0.8465 - lr: 8.0000e-04\n",
            "Epoch 162/200\n",
            "29/29 [==============================] - 14s 485ms/step - loss: 0.1554 - acc: 0.9997 - val_loss: 0.9326 - val_acc: 0.8417 - lr: 8.0000e-04\n",
            "Epoch 163/200\n",
            "29/29 [==============================] - 14s 485ms/step - loss: 0.1577 - acc: 0.9987 - val_loss: 0.9386 - val_acc: 0.8422 - lr: 8.0000e-04\n",
            "Epoch 164/200\n",
            "29/29 [==============================] - 14s 484ms/step - loss: 0.1573 - acc: 0.9987 - val_loss: 0.8723 - val_acc: 0.8412 - lr: 8.0000e-04\n",
            "Epoch 165/200\n",
            "29/29 [==============================] - 14s 482ms/step - loss: 0.1565 - acc: 0.9989 - val_loss: 0.9202 - val_acc: 0.8407 - lr: 8.0000e-04\n",
            "Epoch 166/200\n",
            "29/29 [==============================] - 14s 482ms/step - loss: 0.1556 - acc: 0.9992 - val_loss: 0.8904 - val_acc: 0.8460 - lr: 8.0000e-04\n",
            "Epoch 167/200\n",
            "29/29 [==============================] - 14s 484ms/step - loss: 0.1559 - acc: 0.9992 - val_loss: 0.9144 - val_acc: 0.8465 - lr: 8.0000e-04\n",
            "Epoch 168/200\n",
            "29/29 [==============================] - 14s 486ms/step - loss: 0.1560 - acc: 0.9989 - val_loss: 0.9105 - val_acc: 0.8460 - lr: 8.0000e-04\n",
            "Epoch 169/200\n",
            "29/29 [==============================] - 14s 484ms/step - loss: 0.1553 - acc: 0.9997 - val_loss: 0.9039 - val_acc: 0.8433 - lr: 8.0000e-04\n",
            "Epoch 170/200\n",
            "29/29 [==============================] - 14s 484ms/step - loss: 0.1552 - acc: 0.9995 - val_loss: 0.9027 - val_acc: 0.8465 - lr: 8.0000e-04\n",
            "Epoch 171/200\n",
            "29/29 [==============================] - 14s 485ms/step - loss: 0.1561 - acc: 0.9992 - val_loss: 0.9357 - val_acc: 0.8433 - lr: 8.0000e-04\n",
            "Epoch 172/200\n",
            "29/29 [==============================] - 14s 484ms/step - loss: 0.1563 - acc: 0.9989 - val_loss: 0.8951 - val_acc: 0.8465 - lr: 8.0000e-04\n",
            "Epoch 173/200\n",
            "29/29 [==============================] - 14s 485ms/step - loss: 0.1553 - acc: 0.9997 - val_loss: 0.9250 - val_acc: 0.8396 - lr: 8.0000e-04\n",
            "Epoch 174/200\n",
            "29/29 [==============================] - 14s 485ms/step - loss: 0.1551 - acc: 0.9997 - val_loss: 0.9196 - val_acc: 0.8475 - lr: 8.0000e-04\n",
            "Epoch 175/200\n",
            "29/29 [==============================] - 14s 485ms/step - loss: 0.1556 - acc: 0.9995 - val_loss: 0.9246 - val_acc: 0.8422 - lr: 8.0000e-04\n",
            "Epoch 176/200\n",
            "29/29 [==============================] - 14s 485ms/step - loss: 0.1545 - acc: 0.9997 - val_loss: 0.9298 - val_acc: 0.8444 - lr: 8.0000e-04\n",
            "Epoch 177/200\n",
            "29/29 [==============================] - 14s 486ms/step - loss: 0.1547 - acc: 0.9995 - val_loss: 0.9160 - val_acc: 0.8412 - lr: 8.0000e-04\n",
            "Epoch 178/200\n",
            "29/29 [==============================] - 14s 487ms/step - loss: 0.1549 - acc: 0.9995 - val_loss: 0.8953 - val_acc: 0.8433 - lr: 8.0000e-04\n",
            "Epoch 179/200\n",
            "29/29 [==============================] - 14s 484ms/step - loss: 0.1549 - acc: 0.9989 - val_loss: 0.9100 - val_acc: 0.8449 - lr: 8.0000e-04\n",
            "Epoch 180/200\n",
            "29/29 [==============================] - 14s 484ms/step - loss: 0.1545 - acc: 0.9995 - val_loss: 0.9289 - val_acc: 0.8396 - lr: 8.0000e-04\n",
            "Epoch 181/200\n",
            "29/29 [==============================] - 14s 487ms/step - loss: 0.1555 - acc: 0.9992 - val_loss: 0.9129 - val_acc: 0.8438 - lr: 8.0000e-04\n",
            "Epoch 182/200\n",
            "29/29 [==============================] - 14s 484ms/step - loss: 0.1556 - acc: 0.9989 - val_loss: 0.9062 - val_acc: 0.8481 - lr: 8.0000e-04\n",
            "Epoch 183/200\n",
            "29/29 [==============================] - 14s 487ms/step - loss: 0.1545 - acc: 0.9995 - val_loss: 0.9022 - val_acc: 0.8433 - lr: 8.0000e-04\n",
            "Epoch 184/200\n",
            "29/29 [==============================] - 14s 489ms/step - loss: 0.1539 - acc: 0.9997 - val_loss: 0.9996 - val_acc: 0.8338 - lr: 8.0000e-04\n",
            "Epoch 185/200\n",
            "29/29 [==============================] - 14s 489ms/step - loss: 0.1544 - acc: 0.9997 - val_loss: 0.9298 - val_acc: 0.8396 - lr: 8.0000e-04\n",
            "Epoch 186/200\n",
            "29/29 [==============================] - 14s 490ms/step - loss: 0.1537 - acc: 0.9997 - val_loss: 0.9161 - val_acc: 0.8449 - lr: 8.0000e-04\n",
            "Epoch 187/200\n",
            "29/29 [==============================] - 14s 489ms/step - loss: 0.1535 - acc: 1.0000 - val_loss: 0.8982 - val_acc: 0.8428 - lr: 8.0000e-04\n",
            "Epoch 188/200\n",
            "29/29 [==============================] - 14s 490ms/step - loss: 0.1550 - acc: 0.9992 - val_loss: 0.8984 - val_acc: 0.8454 - lr: 8.0000e-04\n",
            "Epoch 189/200\n",
            "29/29 [==============================] - 14s 488ms/step - loss: 0.1552 - acc: 0.9989 - val_loss: 0.9113 - val_acc: 0.8407 - lr: 8.0000e-04\n",
            "Epoch 190/200\n",
            "29/29 [==============================] - 14s 490ms/step - loss: 0.1537 - acc: 1.0000 - val_loss: 0.9041 - val_acc: 0.8475 - lr: 8.0000e-04\n",
            "Epoch 191/200\n",
            "29/29 [==============================] - 14s 490ms/step - loss: 0.1533 - acc: 1.0000 - val_loss: 0.8850 - val_acc: 0.8465 - lr: 8.0000e-04\n",
            "Epoch 192/200\n",
            "29/29 [==============================] - 14s 491ms/step - loss: 0.1534 - acc: 0.9997 - val_loss: 0.9178 - val_acc: 0.8417 - lr: 8.0000e-04\n",
            "Epoch 193/200\n",
            "29/29 [==============================] - 14s 490ms/step - loss: 0.1532 - acc: 1.0000 - val_loss: 0.9509 - val_acc: 0.8460 - lr: 8.0000e-04\n",
            "Epoch 194/200\n",
            "29/29 [==============================] - 14s 492ms/step - loss: 0.1541 - acc: 0.9992 - val_loss: 0.9147 - val_acc: 0.8449 - lr: 8.0000e-04\n",
            "Epoch 195/200\n",
            "29/29 [==============================] - 14s 490ms/step - loss: 0.1542 - acc: 0.9992 - val_loss: 0.9094 - val_acc: 0.8449 - lr: 8.0000e-04\n",
            "Epoch 196/200\n",
            "29/29 [==============================] - 14s 492ms/step - loss: 0.1537 - acc: 0.9992 - val_loss: 0.8962 - val_acc: 0.8444 - lr: 8.0000e-04\n",
            "Epoch 197/200\n",
            "29/29 [==============================] - 14s 490ms/step - loss: 0.1526 - acc: 0.9997 - val_loss: 0.9089 - val_acc: 0.8438 - lr: 8.0000e-04\n",
            "Epoch 198/200\n",
            "29/29 [==============================] - 14s 489ms/step - loss: 0.1534 - acc: 0.9992 - val_loss: 0.9020 - val_acc: 0.8460 - lr: 8.0000e-04\n",
            "Epoch 199/200\n",
            "29/29 [==============================] - 14s 492ms/step - loss: 0.1524 - acc: 1.0000 - val_loss: 0.8923 - val_acc: 0.8444 - lr: 8.0000e-04\n",
            "Epoch 200/200\n",
            "29/29 [==============================] - 14s 487ms/step - loss: 0.1538 - acc: 0.9997 - val_loss: 0.9133 - val_acc: 0.8470 - lr: 8.0000e-04\n"
          ],
          "name": "stdout"
        }
      ]
    },
    {
      "cell_type": "code",
      "metadata": {
        "id": "xI39Sx-kYyUx",
        "colab_type": "code",
        "colab": {}
      },
      "source": [
        "wrn_16_2.save(\"model_wrn_last.h5\")"
      ],
      "execution_count": 0,
      "outputs": []
    },
    {
      "cell_type": "code",
      "metadata": {
        "id": "5Paxp_UhrduV",
        "colab_type": "code",
        "colab": {
          "base_uri": "https://localhost:8080/",
          "height": 34
        },
        "outputId": "b7760940-ac3c-4fa4-9764-364a54382a87"
      },
      "source": [
        "img = X_train[8]\n",
        "img.shape"
      ],
      "execution_count": 24,
      "outputs": [
        {
          "output_type": "execute_result",
          "data": {
            "text/plain": [
              "(68, 100, 1)"
            ]
          },
          "metadata": {
            "tags": []
          },
          "execution_count": 24
        }
      ]
    },
    {
      "cell_type": "code",
      "metadata": {
        "id": "AO-_q-QUsn-T",
        "colab_type": "code",
        "colab": {
          "base_uri": "https://localhost:8080/",
          "height": 34
        },
        "outputId": "b35367c5-e3aa-43d7-a1ff-64025debe3d9"
      },
      "source": [
        "y_train[8]"
      ],
      "execution_count": 25,
      "outputs": [
        {
          "output_type": "execute_result",
          "data": {
            "text/plain": [
              "array([0., 0., 1., 0.], dtype=float32)"
            ]
          },
          "metadata": {
            "tags": []
          },
          "execution_count": 25
        }
      ]
    },
    {
      "cell_type": "code",
      "metadata": {
        "id": "FFw-Cjamdsi8",
        "colab_type": "code",
        "colab": {}
      },
      "source": [
        ""
      ],
      "execution_count": 0,
      "outputs": []
    },
    {
      "cell_type": "code",
      "metadata": {
        "id": "lr_quzDGwKGM",
        "colab_type": "code",
        "outputId": "d825e589-d0c4-4aca-91d6-55a4903c4b44",
        "colab": {
          "base_uri": "https://localhost:8080/",
          "height": 608
        }
      },
      "source": [
        "import matplotlib.pyplot as plt\n",
        "\n",
        "history = hist\n",
        "print(history.history.keys())\n",
        "# summarize history for accuracy\n",
        "plt.plot(history.history['acc'])\n",
        "plt.plot(history.history['val_acc'])\n",
        "plt.title('model accuracy')\n",
        "plt.ylabel('accuracy')\n",
        "plt.xlabel('epoch')\n",
        "plt.legend(['train', 'test'], loc='upper left')\n",
        "plt.show()\n",
        "plt.savefig(\"wrn_tensor.png\")\n",
        "# summarize history for loss\n",
        "plt.plot(history.history['loss'])\n",
        "plt.plot(history.history['val_loss'])\n",
        "plt.title('model loss')\n",
        "plt.ylabel('loss')\n",
        "plt.xlabel('epoch')\n",
        "plt.legend(['train', 'test'], loc='upper left')\n",
        "plt.show()\n",
        "plt.savefig(\"deneme.png\")"
      ],
      "execution_count": 30,
      "outputs": [
        {
          "output_type": "stream",
          "text": [
            "dict_keys(['loss', 'acc', 'val_loss', 'val_acc', 'lr'])\n"
          ],
          "name": "stdout"
        },
        {
          "output_type": "display_data",
          "data": {
            "image/png": "[encoded data removed]",
            "text/plain": [
              "<Figure size 432x288 with 1 Axes>"
            ]
          },
          "metadata": {
            "tags": [],
            "needs_background": "light"
          }
        },
        {
          "output_type": "display_data",
          "data": {
            "image/png": "[encoded data removed]",
            "text/plain": [
              "<Figure size 432x288 with 1 Axes>"
            ]
          },
          "metadata": {
            "tags": [],
            "needs_background": "light"
          }
        },
        {
          "output_type": "display_data",
          "data": {
            "text/plain": [
              "<Figure size 432x288 with 0 Axes>"
            ]
          },
          "metadata": {
            "tags": []
          }
        }
      ]
    },
    {
      "cell_type": "code",
      "metadata": {
        "id": "iE16jXuZw8xb",
        "colab_type": "code",
        "outputId": "3b6604ce-0adc-45f7-b1d4-f36d00d55229",
        "colab": {
          "base_uri": "https://localhost:8080/",
          "height": 52
        }
      },
      "source": [
        "wrn_16_2.evaluate(X_test,y_test)"
      ],
      "execution_count": 31,
      "outputs": [
        {
          "output_type": "stream",
          "text": [
            "60/60 [==============================] - 2s 39ms/step - loss: 0.9133 - acc: 0.8470\n"
          ],
          "name": "stdout"
        },
        {
          "output_type": "execute_result",
          "data": {
            "text/plain": [
              "[0.9133426547050476, 0.847009003162384]"
            ]
          },
          "metadata": {
            "tags": []
          },
          "execution_count": 31
        }
      ]
    },
    {
      "cell_type": "code",
      "metadata": {
        "id": "SmZpcppX5u_C",
        "colab_type": "code",
        "outputId": "9a42f227-598f-42b6-db0e-356731061fc2",
        "colab": {
          "base_uri": "https://localhost:8080/",
          "height": 52
        }
      },
      "source": [
        "wrn_16_2.evaluate(X_train,y_train)"
      ],
      "execution_count": 32,
      "outputs": [
        {
          "output_type": "stream",
          "text": [
            "120/120 [==============================] - 5s 38ms/step - loss: 0.1493 - acc: 1.0000\n"
          ],
          "name": "stdout"
        },
        {
          "output_type": "execute_result",
          "data": {
            "text/plain": [
              "[0.14926087856292725, 1.0]"
            ]
          },
          "metadata": {
            "tags": []
          },
          "execution_count": 32
        }
      ]
    },
    {
      "cell_type": "markdown",
      "metadata": {
        "id": "vEDHJIheU8bm",
        "colab_type": "text"
      },
      "source": [
        "##Adversarial Examples\n"
      ]
    },
    {
      "cell_type": "code",
      "metadata": {
        "id": "5QB8zFSSU7Qy",
        "colab_type": "code",
        "colab": {
          "base_uri": "https://localhost:8080/",
          "height": 749
        },
        "outputId": "87b52911-6476-4f32-bcb6-6c7a91b5331b"
      },
      "source": [
        "!pip install -q tensorflow==2.0.0b1\n",
        "# Install bleeding edge version of cleverhans\n",
        "!pip install git+https://github.com/tensorflow/cleverhans.git#egg=cleverhans\n",
        "\n",
        "import cleverhans\n",
        "import tensorflow as tf\n",
        "import numpy as np\n",
        "import matplotlib.pyplot as plt\n",
        "\n",
        "print(\"\\nTensorflow Version: \" + tf.__version__)\n",
        "print(\"Cleverhans Version: \" + cleverhans.__version__)\n",
        "print(\"GPU Available: \", tf.test.is_gpu_available())"
      ],
      "execution_count": 33,
      "outputs": [
        {
          "output_type": "stream",
          "text": [
            "\u001b[K     |████████████████████████████████| 87.9MB 1.4MB/s \n",
            "\u001b[K     |████████████████████████████████| 501kB 41.4MB/s \n",
            "\u001b[K     |████████████████████████████████| 3.1MB 39.7MB/s \n",
            "\u001b[?25hCollecting cleverhans\n",
            "  Cloning https://github.com/tensorflow/cleverhans.git to /tmp/pip-install-bzrlej2a/cleverhans\n",
            "  Running command git clone -q https://github.com/tensorflow/cleverhans.git /tmp/pip-install-bzrlej2a/cleverhans\n",
            "Collecting nose\n",
            "\u001b[?25l  Downloading https://files.pythonhosted.org/packages/15/d8/dd071918c040f50fa1cf80da16423af51ff8ce4a0f2399b7bf8de45ac3d9/nose-1.3.7-py3-none-any.whl (154kB)\n",
            "\u001b[K     |████████████████████████████████| 163kB 3.2MB/s \n",
            "\u001b[?25hCollecting pycodestyle\n",
            "\u001b[?25l  Downloading https://files.pythonhosted.org/packages/10/5b/88879fb861ab79aef45c7e199cae3ef7af487b5603dcb363517a50602dd7/pycodestyle-2.6.0-py2.py3-none-any.whl (41kB)\n",
            "\u001b[K     |████████████████████████████████| 51kB 4.2MB/s \n",
            "\u001b[?25hRequirement already satisfied: scipy in /usr/local/lib/python3.6/dist-packages (from cleverhans) (1.4.1)\n",
            "Requirement already satisfied: matplotlib in /usr/local/lib/python3.6/dist-packages (from cleverhans) (3.2.1)\n",
            "Collecting mnist~=0.2\n",
            "  Downloading https://files.pythonhosted.org/packages/c6/c4/5db3bfe009f8d71f1d532bbadbd0ec203764bba3a469e4703a889db8e5e0/mnist-0.2.2-py2.py3-none-any.whl\n",
            "Requirement already satisfied: numpy in /usr/local/lib/python3.6/dist-packages (from cleverhans) (1.18.4)\n",
            "Requirement already satisfied: tensorflow-probability in /usr/local/lib/python3.6/dist-packages (from cleverhans) (0.10.0)\n",
            "Requirement already satisfied: joblib in /usr/local/lib/python3.6/dist-packages (from cleverhans) (0.15.1)\n",
            "Requirement already satisfied: cycler>=0.10 in /usr/local/lib/python3.6/dist-packages (from matplotlib->cleverhans) (0.10.0)\n",
            "Requirement already satisfied: kiwisolver>=1.0.1 in /usr/local/lib/python3.6/dist-packages (from matplotlib->cleverhans) (1.2.0)\n",
            "Requirement already satisfied: pyparsing!=2.0.4,!=2.1.2,!=2.1.6,>=2.0.1 in /usr/local/lib/python3.6/dist-packages (from matplotlib->cleverhans) (2.4.7)\n",
            "Requirement already satisfied: python-dateutil>=2.1 in /usr/local/lib/python3.6/dist-packages (from matplotlib->cleverhans) (2.8.1)\n",
            "Requirement already satisfied: six>=1.10.0 in /usr/local/lib/python3.6/dist-packages (from tensorflow-probability->cleverhans) (1.12.0)\n",
            "Requirement already satisfied: cloudpickle>=1.2.2 in /usr/local/lib/python3.6/dist-packages (from tensorflow-probability->cleverhans) (1.3.0)\n",
            "Requirement already satisfied: decorator in /usr/local/lib/python3.6/dist-packages (from tensorflow-probability->cleverhans) (4.4.2)\n",
            "Requirement already satisfied: gast>=0.3.2 in /usr/local/lib/python3.6/dist-packages (from tensorflow-probability->cleverhans) (0.3.3)\n",
            "Building wheels for collected packages: cleverhans\n",
            "  Building wheel for cleverhans (setup.py) ... \u001b[?25l\u001b[?25hdone\n",
            "  Created wheel for cleverhans: filename=cleverhans-3.0.1-cp36-none-any.whl size=262572 sha256=df319abce8690a698d93bd729bc658551a0b01bdab7596181c6eb19428f22eb2\n",
            "  Stored in directory: /tmp/pip-ephem-wheel-cache-xaxu23j9/wheels/6e/59/ec/723a6f654aaf62c8c40f0f0850fdf71a4948598697f56c3bfa\n",
            "Successfully built cleverhans\n",
            "Installing collected packages: nose, pycodestyle, mnist, cleverhans\n",
            "Successfully installed cleverhans-3.0.1 mnist-0.2.2 nose-1.3.7 pycodestyle-2.6.0\n",
            "\n",
            "Tensorflow Version: 2.2.0\n",
            "Cleverhans Version: 3.0.1-fc7b7c7ec903258e0e3fb88503fa629f\n",
            "WARNING:tensorflow:From <ipython-input-33-67a2c783edbc>:12: is_gpu_available (from tensorflow.python.framework.test_util) is deprecated and will be removed in a future version.\n",
            "Instructions for updating:\n",
            "Use `tf.config.list_physical_devices('GPU')` instead.\n",
            "GPU Available:  True\n"
          ],
          "name": "stdout"
        }
      ]
    },
    {
      "cell_type": "code",
      "metadata": {
        "id": "2_bfZ4G8W_sM",
        "colab_type": "code",
        "colab": {}
      },
      "source": [
        "from cleverhans.future.tf2.attacks import fast_gradient_method\n",
        "\n",
        "#The attack requires the model to ouput the logits\n",
        "logits_model = tf.keras.Model(wrn_16_2.input,wrn_16_2.layers[-1].output)"
      ],
      "execution_count": 0,
      "outputs": []
    },
    {
      "cell_type": "code",
      "metadata": {
        "id": "gGWIlakqVD_i",
        "colab_type": "code",
        "colab": {}
      },
      "source": [
        "X_adv = []\n",
        "y_adv = []\n",
        "for i in range(len(X)):\n",
        "  random_index = i\n",
        "  original_image = X[random_index]\n",
        "  original_image = tf.convert_to_tensor(original_image.reshape((1,68,100))) #The .reshape just gives it the proper form to input into the model, a batch of 1 a.k.a a tensor\n",
        "\n",
        "  original_label = y_cat[random_index]\n",
        "\n",
        "  epsilon = 0.4\n",
        "  original_label\n",
        "  adv_example_targeted_label = fast_gradient_method(logits_model, original_image, epsilon, np.inf, targeted=False)\n",
        "\n",
        "  adv_example_targeted_label_pred = wrn_16_2.predict(adv_example_targeted_label)\n",
        "  X_adv.append(adv_example_targeted_label)\n",
        "  y_adv.append(np.argmax(adv_example_targeted_label_pred))\n",
        "\n",
        "\n"
      ],
      "execution_count": 0,
      "outputs": []
    },
    {
      "cell_type": "code",
      "metadata": {
        "id": "nfF0d5ePbXK0",
        "colab_type": "code",
        "colab": {}
      },
      "source": [
        "y_adv = np.array(y_adv)"
      ],
      "execution_count": 0,
      "outputs": []
    },
    {
      "cell_type": "code",
      "metadata": {
        "id": "d5I9X-0mboqa",
        "colab_type": "code",
        "colab": {}
      },
      "source": [
        "\n",
        "y_adv_df['Encoded'] = labelencoder.fit_transform(y_adv)"
      ],
      "execution_count": 0,
      "outputs": []
    },
    {
      "cell_type": "code",
      "metadata": {
        "id": "IcxHP-bTcIwR",
        "colab_type": "code",
        "colab": {
          "base_uri": "https://localhost:8080/",
          "height": 104
        },
        "outputId": "d5559788-038a-4a8b-df17-430c0816d28e"
      },
      "source": [
        "y_adv_df['Encoded'].value_counts()"
      ],
      "execution_count": 71,
      "outputs": [
        {
          "output_type": "execute_result",
          "data": {
            "text/plain": [
              "1    2931\n",
              "2    1158\n",
              "0    1031\n",
              "3     602\n",
              "Name: Encoded, dtype: int64"
            ]
          },
          "metadata": {
            "tags": []
          },
          "execution_count": 71
        }
      ]
    },
    {
      "cell_type": "code",
      "metadata": {
        "id": "M1DCXV9Tc9B0",
        "colab_type": "code",
        "colab": {}
      },
      "source": [
        "import pickle\n",
        "\n",
        "my_data = {'image': X_adv,\n",
        "           'label': y_adv_df['Encoded']\n",
        "           }\n",
        "output = open('data_adv.pkl', 'wb')\n",
        "pickle.dump(my_data, output)\n",
        "output.close()"
      ],
      "execution_count": 0,
      "outputs": []
    },
    {
      "cell_type": "code",
      "metadata": {
        "id": "J1mGBoQbd46-",
        "colab_type": "code",
        "colab": {}
      },
      "source": [
        "X_new = []\n",
        "for i in range(len(X_adv)):\n",
        "  a = np.array(X_adv[i])\n",
        "  X_new.append(a.reshape(68,100,1))"
      ],
      "execution_count": 0,
      "outputs": []
    },
    {
      "cell_type": "code",
      "metadata": {
        "id": "DdE_WN8Ffgyz",
        "colab_type": "code",
        "colab": {}
      },
      "source": [
        "for i in range(len(X)):\n",
        "  a = np.array(X[i])\n",
        "  X_new.append(a)"
      ],
      "execution_count": 0,
      "outputs": []
    },
    {
      "cell_type": "code",
      "metadata": {
        "id": "YKAnXO0Vfg1T",
        "colab_type": "code",
        "colab": {}
      },
      "source": [
        "X_third = np.array(X_new)"
      ],
      "execution_count": 0,
      "outputs": []
    },
    {
      "cell_type": "code",
      "metadata": {
        "id": "dKEU954BeHee",
        "colab_type": "code",
        "colab": {
          "base_uri": "https://localhost:8080/",
          "height": 34
        },
        "outputId": "8ee35c46-e649-4681-8093-d68b891a5c2a"
      },
      "source": [
        "X_third.shape"
      ],
      "execution_count": 127,
      "outputs": [
        {
          "output_type": "execute_result",
          "data": {
            "text/plain": [
              "(11444, 68, 100, 1)"
            ]
          },
          "metadata": {
            "tags": []
          },
          "execution_count": 127
        }
      ]
    },
    {
      "cell_type": "code",
      "metadata": {
        "id": "m9UIXimpiKWk",
        "colab_type": "code",
        "colab": {}
      },
      "source": [
        "y_new = []\n",
        "for j in range(0,2):\n",
        "  for i in range(len(y_cat)):\n",
        "    y_new.append(y_cat[i])\n",
        "y_third = np.array(y_new)"
      ],
      "execution_count": 0,
      "outputs": []
    },
    {
      "cell_type": "code",
      "metadata": {
        "id": "vuRIuXcNiKY4",
        "colab_type": "code",
        "colab": {}
      },
      "source": [
        "X_all, y_all = X_third, y_third"
      ],
      "execution_count": 0,
      "outputs": []
    },
    {
      "cell_type": "code",
      "metadata": {
        "id": "qJXveP1Veo7G",
        "colab_type": "code",
        "colab": {}
      },
      "source": [
        "X_train_adv, X_test_adv, y_train_adv, y_test_adv = train_test_split( X_all,y_all, test_size = 0.33)"
      ],
      "execution_count": 0,
      "outputs": []
    },
    {
      "cell_type": "code",
      "metadata": {
        "id": "WMJjEg9qiI0n",
        "colab_type": "code",
        "colab": {}
      },
      "source": [
        ""
      ],
      "execution_count": 0,
      "outputs": []
    },
    {
      "cell_type": "code",
      "metadata": {
        "id": "HibsOpTIcNq8",
        "colab_type": "code",
        "colab": {
          "base_uri": "https://localhost:8080/",
          "height": 69
        },
        "outputId": "3bf77317-66e1-4453-8c76-0569cd73b75d"
      },
      "source": [
        "wrn_16_2_adv = create_wide_residual_network(init, nb_classes=4, N=2, k=2, dropout=0.3)"
      ],
      "execution_count": 153,
      "outputs": [
        {
          "output_type": "stream",
          "text": [
            "conv2:channel:  -1\n",
            "conv3 channel_axis:-1 \n",
            "Parseval Residual Network-16-2 created.\n"
          ],
          "name": "stdout"
        }
      ]
    },
    {
      "cell_type": "code",
      "metadata": {
        "id": "q96wjHqxeTJ-",
        "colab_type": "code",
        "colab": {
          "base_uri": "https://localhost:8080/",
          "height": 34
        },
        "outputId": "d9c63039-ca6b-4c7d-d4e0-67159795e522"
      },
      "source": [
        "wrn_16_2_adv.compile(loss=\"categorical_crossentropy\", optimizer=sgd, metrics=[\"acc\"])\n",
        "print(\"Finished compiling\")\n",
        "BS_adv= 100\n",
        "EPOCHS_adv = 50"
      ],
      "execution_count": 154,
      "outputs": [
        {
          "output_type": "stream",
          "text": [
            "Finished compiling\n"
          ],
          "name": "stdout"
        }
      ]
    },
    {
      "cell_type": "code",
      "metadata": {
        "id": "-Jewqs8yxlnf",
        "colab_type": "code",
        "colab": {}
      },
      "source": [
        "def lr_sch_train(epoch):\n",
        "    if epoch < 10:\n",
        "        return 0.1\n",
        "    elif epoch <20:\n",
        "        return 0.1/2.0\n",
        "    elif epoch < 30:\n",
        "        return 0.1/2.0**2\n",
        "    elif epoch < 40:\n",
        "        return 0.1/2.0**3\n",
        "    else:\n",
        "        return 0.1/2.0**4\n",
        "\n",
        "# Learning rate scheduler callback\n",
        "lr_scheduler_train = LearningRateScheduler(lr_sch_train)"
      ],
      "execution_count": 0,
      "outputs": []
    },
    {
      "cell_type": "code",
      "metadata": {
        "id": "9FIn8khEd45J",
        "colab_type": "code",
        "colab": {
          "base_uri": "https://localhost:8080/",
          "height": 1000
        },
        "outputId": "51172b1f-1ce3-47a1-abde-71d18e4ffb58"
      },
      "source": [
        "\n",
        "hist = wrn_16_2_adv.fit_generator(generator.flow(X_train_adv, y_train_adv, batch_size=BS_adv), steps_per_epoch=len(X_train_adv) // BS_adv, epochs=EPOCHS_adv,\n",
        "                   callbacks=[lr_scheduler_train],\n",
        "                   validation_data=(X_test_adv, y_test_adv),\n",
        "                   validation_steps=X_test_adv.shape[0] // BS_adv,)"
      ],
      "execution_count": 156,
      "outputs": [
        {
          "output_type": "stream",
          "text": [
            "Epoch 1/50\n",
            "76/76 [==============================] - 32s 419ms/step - loss: 2.3738 - acc: 0.3544 - val_loss: 2.2785 - val_acc: 0.4064 - lr: 0.1000\n",
            "Epoch 2/50\n",
            "76/76 [==============================] - 31s 411ms/step - loss: 2.1618 - acc: 0.4109 - val_loss: 2.0733 - val_acc: 0.4292 - lr: 0.1000\n",
            "Epoch 3/50\n",
            "76/76 [==============================] - 31s 411ms/step - loss: 1.9893 - acc: 0.4518 - val_loss: 1.9536 - val_acc: 0.4376 - lr: 0.1000\n",
            "Epoch 4/50\n",
            "76/76 [==============================] - 31s 413ms/step - loss: 1.8452 - acc: 0.4791 - val_loss: 1.7485 - val_acc: 0.5322 - lr: 0.1000\n",
            "Epoch 5/50\n",
            "76/76 [==============================] - 31s 412ms/step - loss: 1.7029 - acc: 0.5166 - val_loss: 1.6114 - val_acc: 0.5645 - lr: 0.1000\n",
            "Epoch 6/50\n",
            "76/76 [==============================] - 31s 413ms/step - loss: 1.5954 - acc: 0.5351 - val_loss: 1.5133 - val_acc: 0.5706 - lr: 0.1000\n",
            "Epoch 7/50\n",
            "76/76 [==============================] - 31s 411ms/step - loss: 1.4995 - acc: 0.5532 - val_loss: 1.4497 - val_acc: 0.5766 - lr: 0.1000\n",
            "Epoch 8/50\n",
            "76/76 [==============================] - 31s 411ms/step - loss: 1.4139 - acc: 0.5713 - val_loss: 1.4159 - val_acc: 0.5669 - lr: 0.1000\n",
            "Epoch 9/50\n",
            "76/76 [==============================] - 31s 412ms/step - loss: 1.3481 - acc: 0.5828 - val_loss: 1.2919 - val_acc: 0.5978 - lr: 0.1000\n",
            "Epoch 10/50\n",
            "76/76 [==============================] - 31s 412ms/step - loss: 1.2969 - acc: 0.5918 - val_loss: 1.3846 - val_acc: 0.5502 - lr: 0.1000\n",
            "Epoch 11/50\n",
            "76/76 [==============================] - 31s 412ms/step - loss: 1.2273 - acc: 0.6020 - val_loss: 1.1851 - val_acc: 0.6357 - lr: 0.0500\n",
            "Epoch 12/50\n",
            "76/76 [==============================] - 31s 413ms/step - loss: 1.1700 - acc: 0.6292 - val_loss: 1.1405 - val_acc: 0.6450 - lr: 0.0500\n",
            "Epoch 13/50\n",
            "76/76 [==============================] - 31s 414ms/step - loss: 1.1394 - acc: 0.6371 - val_loss: 1.1936 - val_acc: 0.6015 - lr: 0.0500\n",
            "Epoch 14/50\n",
            "76/76 [==============================] - 31s 413ms/step - loss: 1.1181 - acc: 0.6407 - val_loss: 1.1068 - val_acc: 0.6442 - lr: 0.0500\n",
            "Epoch 15/50\n",
            "76/76 [==============================] - 31s 414ms/step - loss: 1.0854 - acc: 0.6518 - val_loss: 1.0905 - val_acc: 0.6503 - lr: 0.0500\n",
            "Epoch 16/50\n",
            "76/76 [==============================] - 31s 411ms/step - loss: 1.0607 - acc: 0.6630 - val_loss: 1.1266 - val_acc: 0.6373 - lr: 0.0500\n",
            "Epoch 17/50\n",
            "76/76 [==============================] - 31s 413ms/step - loss: 1.0402 - acc: 0.6626 - val_loss: 1.0292 - val_acc: 0.6598 - lr: 0.0500\n",
            "Epoch 18/50\n",
            "76/76 [==============================] - 31s 413ms/step - loss: 1.0170 - acc: 0.6750 - val_loss: 1.0494 - val_acc: 0.6407 - lr: 0.0500\n",
            "Epoch 19/50\n",
            "76/76 [==============================] - 31s 413ms/step - loss: 1.0070 - acc: 0.6716 - val_loss: 1.0807 - val_acc: 0.6375 - lr: 0.0500\n",
            "Epoch 20/50\n",
            "76/76 [==============================] - 31s 412ms/step - loss: 0.9880 - acc: 0.6811 - val_loss: 1.1039 - val_acc: 0.6394 - lr: 0.0500\n",
            "Epoch 21/50\n",
            "76/76 [==============================] - 31s 413ms/step - loss: 0.9153 - acc: 0.7083 - val_loss: 0.9311 - val_acc: 0.7122 - lr: 0.0250\n",
            "Epoch 22/50\n",
            "76/76 [==============================] - 31s 412ms/step - loss: 0.8762 - acc: 0.7278 - val_loss: 0.9186 - val_acc: 0.7077 - lr: 0.0250\n",
            "Epoch 23/50\n",
            "76/76 [==============================] - 31s 412ms/step - loss: 0.8473 - acc: 0.7365 - val_loss: 0.9130 - val_acc: 0.7199 - lr: 0.0250\n",
            "Epoch 24/50\n",
            "76/76 [==============================] - 31s 413ms/step - loss: 0.8381 - acc: 0.7430 - val_loss: 0.9325 - val_acc: 0.7088 - lr: 0.0250\n",
            "Epoch 25/50\n",
            "76/76 [==============================] - 31s 411ms/step - loss: 0.8239 - acc: 0.7490 - val_loss: 0.8660 - val_acc: 0.7276 - lr: 0.0250\n",
            "Epoch 26/50\n",
            "76/76 [==============================] - 31s 413ms/step - loss: 0.8024 - acc: 0.7568 - val_loss: 0.8711 - val_acc: 0.7265 - lr: 0.0250\n",
            "Epoch 27/50\n",
            "76/76 [==============================] - 31s 413ms/step - loss: 0.7933 - acc: 0.7590 - val_loss: 0.8485 - val_acc: 0.7337 - lr: 0.0250\n",
            "Epoch 28/50\n",
            "76/76 [==============================] - 31s 412ms/step - loss: 0.7825 - acc: 0.7641 - val_loss: 0.8004 - val_acc: 0.7612 - lr: 0.0250\n",
            "Epoch 29/50\n",
            "76/76 [==============================] - 31s 413ms/step - loss: 0.7651 - acc: 0.7734 - val_loss: 0.8394 - val_acc: 0.7427 - lr: 0.0250\n",
            "Epoch 30/50\n",
            "76/76 [==============================] - 31s 412ms/step - loss: 0.7570 - acc: 0.7705 - val_loss: 0.8663 - val_acc: 0.7315 - lr: 0.0250\n",
            "Epoch 31/50\n",
            "76/76 [==============================] - 31s 413ms/step - loss: 0.6992 - acc: 0.8008 - val_loss: 0.7483 - val_acc: 0.7858 - lr: 0.0125\n",
            "Epoch 32/50\n",
            "76/76 [==============================] - 31s 412ms/step - loss: 0.6457 - acc: 0.8199 - val_loss: 0.7474 - val_acc: 0.7847 - lr: 0.0125\n",
            "Epoch 33/50\n",
            "76/76 [==============================] - 31s 412ms/step - loss: 0.6387 - acc: 0.8230 - val_loss: 0.7797 - val_acc: 0.7636 - lr: 0.0125\n",
            "Epoch 34/50\n",
            "76/76 [==============================] - 31s 414ms/step - loss: 0.6243 - acc: 0.8234 - val_loss: 0.7431 - val_acc: 0.7871 - lr: 0.0125\n",
            "Epoch 35/50\n",
            "76/76 [==============================] - 31s 413ms/step - loss: 0.6144 - acc: 0.8332 - val_loss: 0.7250 - val_acc: 0.7924 - lr: 0.0125\n",
            "Epoch 36/50\n",
            "76/76 [==============================] - 31s 414ms/step - loss: 0.6039 - acc: 0.8371 - val_loss: 0.7819 - val_acc: 0.7861 - lr: 0.0125\n",
            "Epoch 37/50\n",
            "76/76 [==============================] - 31s 413ms/step - loss: 0.5977 - acc: 0.8371 - val_loss: 0.7983 - val_acc: 0.7742 - lr: 0.0125\n",
            "Epoch 38/50\n",
            "76/76 [==============================] - 31s 414ms/step - loss: 0.5873 - acc: 0.8415 - val_loss: 0.7476 - val_acc: 0.7948 - lr: 0.0125\n",
            "Epoch 39/50\n",
            "76/76 [==============================] - 31s 412ms/step - loss: 0.5750 - acc: 0.8464 - val_loss: 0.8959 - val_acc: 0.7474 - lr: 0.0125\n",
            "Epoch 40/50\n",
            "76/76 [==============================] - 31s 414ms/step - loss: 0.5621 - acc: 0.8504 - val_loss: 0.7107 - val_acc: 0.8028 - lr: 0.0125\n",
            "Epoch 41/50\n",
            "76/76 [==============================] - 31s 412ms/step - loss: 0.5060 - acc: 0.8758 - val_loss: 0.7132 - val_acc: 0.8094 - lr: 0.0063\n",
            "Epoch 42/50\n",
            "76/76 [==============================] - 31s 413ms/step - loss: 0.4857 - acc: 0.8848 - val_loss: 0.7146 - val_acc: 0.8125 - lr: 0.0063\n",
            "Epoch 43/50\n",
            "76/76 [==============================] - 31s 414ms/step - loss: 0.4736 - acc: 0.8900 - val_loss: 0.7405 - val_acc: 0.8041 - lr: 0.0063\n",
            "Epoch 44/50\n",
            "76/76 [==============================] - 31s 413ms/step - loss: 0.4607 - acc: 0.8955 - val_loss: 0.7856 - val_acc: 0.7903 - lr: 0.0063\n",
            "Epoch 45/50\n",
            "76/76 [==============================] - 31s 413ms/step - loss: 0.4463 - acc: 0.8982 - val_loss: 0.6987 - val_acc: 0.8200 - lr: 0.0063\n",
            "Epoch 46/50\n",
            "76/76 [==============================] - 31s 413ms/step - loss: 0.4509 - acc: 0.8984 - val_loss: 0.7709 - val_acc: 0.7922 - lr: 0.0063\n",
            "Epoch 47/50\n",
            "76/76 [==============================] - 31s 412ms/step - loss: 0.4501 - acc: 0.8985 - val_loss: 0.7473 - val_acc: 0.8073 - lr: 0.0063\n",
            "Epoch 48/50\n",
            "76/76 [==============================] - 31s 413ms/step - loss: 0.4364 - acc: 0.9015 - val_loss: 0.6945 - val_acc: 0.8247 - lr: 0.0063\n",
            "Epoch 49/50\n",
            "76/76 [==============================] - 31s 412ms/step - loss: 0.4371 - acc: 0.8981 - val_loss: 0.6824 - val_acc: 0.8218 - lr: 0.0063\n",
            "Epoch 50/50\n",
            "76/76 [==============================] - 31s 414ms/step - loss: 0.4354 - acc: 0.8973 - val_loss: 0.7112 - val_acc: 0.8123 - lr: 0.0063\n"
          ],
          "name": "stdout"
        }
      ]
    },
    {
      "cell_type": "code",
      "metadata": {
        "id": "3qXnteSOpFZH",
        "colab_type": "code",
        "colab": {}
      },
      "source": [
        "wrn_16_2_adv.save(\"model_adv_wrn_tensor_dropout.h5\")"
      ],
      "execution_count": 0,
      "outputs": []
    },
    {
      "cell_type": "code",
      "metadata": {
        "id": "-S5IjLivpMbp",
        "colab_type": "code",
        "colab": {
          "base_uri": "https://localhost:8080/",
          "height": 608
        },
        "outputId": "80be3567-22d2-42c6-c9e4-a475dada6554"
      },
      "source": [
        "import matplotlib.pyplot as plt\n",
        "\n",
        "history = hist\n",
        "print(history.history.keys())\n",
        "# summarize history for accuracy\n",
        "plt.plot(history.history['acc'])\n",
        "plt.plot(history.history['val_acc'])\n",
        "plt.title('model accuracy')\n",
        "plt.ylabel('accuracy')\n",
        "plt.xlabel('epoch')\n",
        "plt.legend(['train', 'test'], loc='upper left')\n",
        "plt.show()\n",
        "plt.savefig(\"wrn_tensor.png\")\n",
        "# summarize history for loss\n",
        "plt.plot(history.history['loss'])\n",
        "plt.plot(history.history['val_loss'])\n",
        "plt.title('model loss')\n",
        "plt.ylabel('loss')\n",
        "plt.xlabel('epoch')\n",
        "plt.legend(['train', 'test'], loc='upper left')\n",
        "plt.show()\n",
        "plt.savefig(\"deneme.png\")"
      ],
      "execution_count": 158,
      "outputs": [
        {
          "output_type": "stream",
          "text": [
            "dict_keys(['loss', 'acc', 'val_loss', 'val_acc', 'lr'])\n"
          ],
          "name": "stdout"
        },
        {
          "output_type": "display_data",
          "data": {
            "image/png": "[encoded data removed]",
            "text/plain": [
              "<Figure size 432x288 with 1 Axes>"
            ]
          },
          "metadata": {
            "tags": [],
            "needs_background": "light"
          }
        },
        {
          "output_type": "display_data",
          "data": {
            "image/png": "[encoded data removed]",
            "text/plain": [
              "<Figure size 432x288 with 1 Axes>"
            ]
          },
          "metadata": {
            "tags": [],
            "needs_background": "light"
          }
        },
        {
          "output_type": "display_data",
          "data": {
            "text/plain": [
              "<Figure size 432x288 with 0 Axes>"
            ]
          },
          "metadata": {
            "tags": []
          }
        }
      ]
    },
    {
      "cell_type": "markdown",
      "metadata": {
        "id": "ftcU_6z90QSJ",
        "colab_type": "text"
      },
      "source": [
        "**CleanExperiment**"
      ]
    },
    {
      "cell_type": "code",
      "metadata": {
        "id": "3i5qUE6j0JUE",
        "colab_type": "code",
        "colab": {
          "base_uri": "https://localhost:8080/",
          "height": 69
        },
        "outputId": "63e79c67-889a-4149-baf0-d6820f5b4cca"
      },
      "source": [
        "wrn_16_2_clean = create_wide_residual_network(init, nb_classes=4, N=2, k=2, dropout=0.3)"
      ],
      "execution_count": 159,
      "outputs": [
        {
          "output_type": "stream",
          "text": [
            "conv2:channel:  -1\n",
            "conv3 channel_axis:-1 \n",
            "Parseval Residual Network-16-2 created.\n"
          ],
          "name": "stdout"
        }
      ]
    },
    {
      "cell_type": "code",
      "metadata": {
        "id": "X4p2TUIj0csZ",
        "colab_type": "code",
        "colab": {
          "base_uri": "https://localhost:8080/",
          "height": 34
        },
        "outputId": "a1aa6f00-908d-4258-c1ea-6fba687dc93b"
      },
      "source": [
        "wrn_16_2_clean.compile(loss=\"categorical_crossentropy\", optimizer=sgd, metrics=[\"acc\"])\n",
        "print(\"Finished compiling\")"
      ],
      "execution_count": 160,
      "outputs": [
        {
          "output_type": "stream",
          "text": [
            "Finished compiling\n"
          ],
          "name": "stdout"
        }
      ]
    },
    {
      "cell_type": "code",
      "metadata": {
        "id": "5rQljdkd0he9",
        "colab_type": "code",
        "colab": {
          "base_uri": "https://localhost:8080/",
          "height": 1000
        },
        "outputId": "cd850a47-6019-4650-fe8c-777736805bff"
      },
      "source": [
        "hist_clean = wrn_16_2_clean.fit_generator(generator.flow(X_train, y_train, batch_size=BS_adv), steps_per_epoch=len(X_train) // BS_adv, epochs=EPOCHS_adv,\n",
        "                   callbacks=[lr_scheduler_train],\n",
        "                   validation_data=(X_test, y_test),\n",
        "                   validation_steps=X_test.shape[0] // BS_adv,)"
      ],
      "execution_count": 161,
      "outputs": [
        {
          "output_type": "stream",
          "text": [
            "Epoch 1/50\n",
            "38/38 [==============================] - 16s 420ms/step - loss: 2.4337 - acc: 0.3437 - val_loss: 2.3742 - val_acc: 0.4007 - lr: 0.1000\n",
            "Epoch 2/50\n",
            "38/38 [==============================] - 15s 405ms/step - loss: 2.2850 - acc: 0.3986 - val_loss: 2.2203 - val_acc: 0.4426 - lr: 0.1000\n",
            "Epoch 3/50\n",
            "38/38 [==============================] - 16s 410ms/step - loss: 2.1897 - acc: 0.4187 - val_loss: 2.1333 - val_acc: 0.4394 - lr: 0.1000\n",
            "Epoch 4/50\n",
            "38/38 [==============================] - 15s 404ms/step - loss: 2.0886 - acc: 0.4425 - val_loss: 2.0077 - val_acc: 0.4881 - lr: 0.1000\n",
            "Epoch 5/50\n",
            "38/38 [==============================] - 15s 403ms/step - loss: 1.9779 - acc: 0.4811 - val_loss: 2.1236 - val_acc: 0.4219 - lr: 0.1000\n",
            "Epoch 6/50\n",
            "38/38 [==============================] - 15s 403ms/step - loss: 1.8904 - acc: 0.5130 - val_loss: 1.7901 - val_acc: 0.5458 - lr: 0.1000\n",
            "Epoch 7/50\n",
            "38/38 [==============================] - 15s 403ms/step - loss: 1.7728 - acc: 0.5430 - val_loss: 1.7735 - val_acc: 0.5532 - lr: 0.1000\n",
            "Epoch 8/50\n",
            "38/38 [==============================] - 15s 403ms/step - loss: 1.6836 - acc: 0.5647 - val_loss: 1.6580 - val_acc: 0.5744 - lr: 0.1000\n",
            "Epoch 9/50\n",
            "38/38 [==============================] - 15s 404ms/step - loss: 1.6122 - acc: 0.5928 - val_loss: 1.5899 - val_acc: 0.5934 - lr: 0.1000\n",
            "Epoch 10/50\n",
            "38/38 [==============================] - 15s 405ms/step - loss: 1.5708 - acc: 0.5845 - val_loss: 1.5707 - val_acc: 0.5744 - lr: 0.1000\n",
            "Epoch 11/50\n",
            "38/38 [==============================] - 15s 404ms/step - loss: 1.5237 - acc: 0.5995 - val_loss: 1.4327 - val_acc: 0.6305 - lr: 0.0500\n",
            "Epoch 12/50\n",
            "38/38 [==============================] - 15s 407ms/step - loss: 1.4081 - acc: 0.6499 - val_loss: 1.3563 - val_acc: 0.6670 - lr: 0.0500\n",
            "Epoch 13/50\n",
            "38/38 [==============================] - 15s 403ms/step - loss: 1.3839 - acc: 0.6443 - val_loss: 1.4192 - val_acc: 0.6331 - lr: 0.0500\n",
            "Epoch 14/50\n",
            "38/38 [==============================] - 15s 404ms/step - loss: 1.3211 - acc: 0.6721 - val_loss: 1.3150 - val_acc: 0.6734 - lr: 0.0500\n",
            "Epoch 15/50\n",
            "38/38 [==============================] - 15s 404ms/step - loss: 1.3013 - acc: 0.6697 - val_loss: 1.3014 - val_acc: 0.6707 - lr: 0.0500\n",
            "Epoch 16/50\n",
            "38/38 [==============================] - 15s 404ms/step - loss: 1.2597 - acc: 0.6793 - val_loss: 1.2756 - val_acc: 0.6813 - lr: 0.0500\n",
            "Epoch 17/50\n",
            "38/38 [==============================] - 15s 403ms/step - loss: 1.2084 - acc: 0.7010 - val_loss: 1.2298 - val_acc: 0.6930 - lr: 0.0500\n",
            "Epoch 18/50\n",
            "38/38 [==============================] - 15s 404ms/step - loss: 1.1919 - acc: 0.7045 - val_loss: 1.2139 - val_acc: 0.7046 - lr: 0.0500\n",
            "Epoch 19/50\n",
            "38/38 [==============================] - 15s 403ms/step - loss: 1.1634 - acc: 0.7040 - val_loss: 1.1802 - val_acc: 0.6935 - lr: 0.0500\n",
            "Epoch 20/50\n",
            "38/38 [==============================] - 16s 408ms/step - loss: 1.1307 - acc: 0.7265 - val_loss: 1.2550 - val_acc: 0.6654 - lr: 0.0500\n",
            "Epoch 21/50\n",
            "38/38 [==============================] - 15s 406ms/step - loss: 1.0945 - acc: 0.7377 - val_loss: 1.0666 - val_acc: 0.7470 - lr: 0.0250\n",
            "Epoch 22/50\n",
            "38/38 [==============================] - 15s 403ms/step - loss: 1.0297 - acc: 0.7608 - val_loss: 1.0982 - val_acc: 0.7284 - lr: 0.0250\n",
            "Epoch 23/50\n",
            "38/38 [==============================] - 15s 403ms/step - loss: 1.0094 - acc: 0.7712 - val_loss: 1.1232 - val_acc: 0.7332 - lr: 0.0250\n",
            "Epoch 24/50\n",
            "38/38 [==============================] - 15s 405ms/step - loss: 0.9877 - acc: 0.7707 - val_loss: 1.1982 - val_acc: 0.7073 - lr: 0.0250\n",
            "Epoch 25/50\n",
            "38/38 [==============================] - 15s 404ms/step - loss: 0.9977 - acc: 0.7691 - val_loss: 1.1466 - val_acc: 0.7046 - lr: 0.0250\n",
            "Epoch 26/50\n",
            "38/38 [==============================] - 15s 403ms/step - loss: 0.9738 - acc: 0.7744 - val_loss: 1.1087 - val_acc: 0.7348 - lr: 0.0250\n",
            "Epoch 27/50\n",
            "38/38 [==============================] - 15s 404ms/step - loss: 0.9574 - acc: 0.7857 - val_loss: 1.0686 - val_acc: 0.7438 - lr: 0.0250\n",
            "Epoch 28/50\n",
            "38/38 [==============================] - 15s 402ms/step - loss: 0.9393 - acc: 0.7790 - val_loss: 1.0321 - val_acc: 0.7618 - lr: 0.0250\n",
            "Epoch 29/50\n",
            "38/38 [==============================] - 15s 403ms/step - loss: 0.9355 - acc: 0.7868 - val_loss: 1.1789 - val_acc: 0.6914 - lr: 0.0250\n",
            "Epoch 30/50\n",
            "38/38 [==============================] - 15s 402ms/step - loss: 0.9614 - acc: 0.7766 - val_loss: 1.0417 - val_acc: 0.7406 - lr: 0.0250\n",
            "Epoch 31/50\n",
            "38/38 [==============================] - 15s 405ms/step - loss: 0.8762 - acc: 0.8114 - val_loss: 0.9807 - val_acc: 0.7718 - lr: 0.0125\n",
            "Epoch 32/50\n",
            "38/38 [==============================] - 15s 404ms/step - loss: 0.8483 - acc: 0.8208 - val_loss: 0.9724 - val_acc: 0.7639 - lr: 0.0125\n",
            "Epoch 33/50\n",
            "38/38 [==============================] - 15s 404ms/step - loss: 0.8391 - acc: 0.8197 - val_loss: 1.0117 - val_acc: 0.7528 - lr: 0.0125\n",
            "Epoch 34/50\n",
            "38/38 [==============================] - 15s 405ms/step - loss: 0.8200 - acc: 0.8269 - val_loss: 0.9586 - val_acc: 0.7755 - lr: 0.0125\n",
            "Epoch 35/50\n",
            "38/38 [==============================] - 15s 403ms/step - loss: 0.8049 - acc: 0.8323 - val_loss: 1.0020 - val_acc: 0.7618 - lr: 0.0125\n",
            "Epoch 36/50\n",
            "38/38 [==============================] - 15s 403ms/step - loss: 0.8017 - acc: 0.8315 - val_loss: 1.0343 - val_acc: 0.7612 - lr: 0.0125\n",
            "Epoch 37/50\n",
            "38/38 [==============================] - 15s 407ms/step - loss: 0.8010 - acc: 0.8280 - val_loss: 0.9878 - val_acc: 0.7560 - lr: 0.0125\n",
            "Epoch 38/50\n",
            "38/38 [==============================] - 15s 404ms/step - loss: 0.7811 - acc: 0.8361 - val_loss: 1.0252 - val_acc: 0.7554 - lr: 0.0125\n",
            "Epoch 39/50\n",
            "38/38 [==============================] - 15s 405ms/step - loss: 0.7590 - acc: 0.8486 - val_loss: 1.0267 - val_acc: 0.7538 - lr: 0.0125\n",
            "Epoch 40/50\n",
            "38/38 [==============================] - 15s 404ms/step - loss: 0.7713 - acc: 0.8361 - val_loss: 0.9929 - val_acc: 0.7602 - lr: 0.0125\n",
            "Epoch 41/50\n",
            "38/38 [==============================] - 15s 404ms/step - loss: 0.7281 - acc: 0.8484 - val_loss: 0.9663 - val_acc: 0.7708 - lr: 0.0063\n",
            "Epoch 42/50\n",
            "38/38 [==============================] - 15s 403ms/step - loss: 0.6901 - acc: 0.8687 - val_loss: 1.0152 - val_acc: 0.7597 - lr: 0.0063\n",
            "Epoch 43/50\n",
            "38/38 [==============================] - 15s 404ms/step - loss: 0.6898 - acc: 0.8711 - val_loss: 0.9861 - val_acc: 0.7665 - lr: 0.0063\n",
            "Epoch 44/50\n",
            "38/38 [==============================] - 15s 402ms/step - loss: 0.6752 - acc: 0.8784 - val_loss: 0.9841 - val_acc: 0.7628 - lr: 0.0063\n",
            "Epoch 45/50\n",
            "38/38 [==============================] - 15s 405ms/step - loss: 0.6691 - acc: 0.8800 - val_loss: 1.0122 - val_acc: 0.7655 - lr: 0.0063\n",
            "Epoch 46/50\n",
            "38/38 [==============================] - 15s 403ms/step - loss: 0.6879 - acc: 0.8709 - val_loss: 0.9788 - val_acc: 0.7634 - lr: 0.0063\n",
            "Epoch 47/50\n",
            "38/38 [==============================] - 15s 404ms/step - loss: 0.6712 - acc: 0.8819 - val_loss: 0.9442 - val_acc: 0.7824 - lr: 0.0063\n",
            "Epoch 48/50\n",
            "38/38 [==============================] - 15s 404ms/step - loss: 0.6475 - acc: 0.8878 - val_loss: 0.9560 - val_acc: 0.7755 - lr: 0.0063\n",
            "Epoch 49/50\n",
            "38/38 [==============================] - 15s 404ms/step - loss: 0.6390 - acc: 0.8859 - val_loss: 0.9497 - val_acc: 0.7840 - lr: 0.0063\n",
            "Epoch 50/50\n",
            "38/38 [==============================] - 15s 404ms/step - loss: 0.6225 - acc: 0.8934 - val_loss: 1.0292 - val_acc: 0.7687 - lr: 0.0063\n"
          ],
          "name": "stdout"
        }
      ]
    },
    {
      "cell_type": "code",
      "metadata": {
        "id": "1acrchBU185p",
        "colab_type": "code",
        "colab": {}
      },
      "source": [
        "wrn_16_2_clean.save(\"model_adv_train_clean_dropout.h5\")"
      ],
      "execution_count": 0,
      "outputs": []
    },
    {
      "cell_type": "code",
      "metadata": {
        "id": "_pgU_KsH0yVM",
        "colab_type": "code",
        "colab": {
          "base_uri": "https://localhost:8080/",
          "height": 608
        },
        "outputId": "54d66717-a3fb-4ed6-bbcd-f0ab95520e3b"
      },
      "source": [
        "import matplotlib.pyplot as plt\n",
        "\n",
        "history = hist_clean\n",
        "print(history.history.keys())\n",
        "# summarize history for accuracy\n",
        "plt.plot(history.history['acc'])\n",
        "plt.plot(history.history['val_acc'])\n",
        "plt.title('model accuracy')\n",
        "plt.ylabel('accuracy')\n",
        "plt.xlabel('epoch')\n",
        "plt.legend(['train', 'test'], loc='upper left')\n",
        "plt.show()\n",
        "plt.savefig(\"wrn_tensor.png\")\n",
        "# summarize history for loss\n",
        "plt.plot(history.history['loss'])\n",
        "plt.plot(history.history['val_loss'])\n",
        "plt.title('model loss')\n",
        "plt.ylabel('loss')\n",
        "plt.xlabel('epoch')\n",
        "plt.legend(['train', 'test'], loc='upper left')\n",
        "plt.show()\n",
        "plt.savefig(\"deneme.png\")"
      ],
      "execution_count": 164,
      "outputs": [
        {
          "output_type": "stream",
          "text": [
            "dict_keys(['loss', 'acc', 'val_loss', 'val_acc', 'lr'])\n"
          ],
          "name": "stdout"
        },
        {
          "output_type": "display_data",
          "data": {
            "image/png": "[encoded data removed]",
            "text/plain": [
              "<Figure size 432x288 with 1 Axes>"
            ]
          },
          "metadata": {
            "tags": [],
            "needs_background": "light"
          }
        },
        {
          "output_type": "display_data",
          "data": {
            "image/png": "[encoded data removed]",
            "text/plain": [
              "<Figure size 432x288 with 1 Axes>"
            ]
          },
          "metadata": {
            "tags": [],
            "needs_background": "light"
          }
        },
        {
          "output_type": "display_data",
          "data": {
            "text/plain": [
              "<Figure size 432x288 with 0 Axes>"
            ]
          },
          "metadata": {
            "tags": []
          }
        }
      ]
    },
    {
      "cell_type": "code",
      "metadata": {
        "id": "ouj6OqTD8VdE",
        "colab_type": "code",
        "colab": {
          "base_uri": "https://localhost:8080/",
          "height": 52
        },
        "outputId": "ae893d71-46d1-4efb-837b-23f7afd5f6cb"
      },
      "source": [
        "wrn_16_2_clean.evaluate(X_train, y_train)"
      ],
      "execution_count": 165,
      "outputs": [
        {
          "output_type": "stream",
          "text": [
            "120/120 [==============================] - 5s 38ms/step - loss: 0.6188 - acc: 0.8881\n"
          ],
          "name": "stdout"
        },
        {
          "output_type": "execute_result",
          "data": {
            "text/plain": [
              "[0.6188268661499023, 0.8880771994590759]"
            ]
          },
          "metadata": {
            "tags": []
          },
          "execution_count": 165
        }
      ]
    },
    {
      "cell_type": "code",
      "metadata": {
        "id": "XhiqvES18c-j",
        "colab_type": "code",
        "colab": {
          "base_uri": "https://localhost:8080/",
          "height": 52
        },
        "outputId": "06fa1884-72ca-4ff0-95a3-b13aa145c275"
      },
      "source": [
        "wrn_16_2_adv.evaluate(X_train,y_train)"
      ],
      "execution_count": 166,
      "outputs": [
        {
          "output_type": "stream",
          "text": [
            "120/120 [==============================] - 4s 37ms/step - loss: 0.5650 - acc: 0.8471\n"
          ],
          "name": "stdout"
        },
        {
          "output_type": "execute_result",
          "data": {
            "text/plain": [
              "[0.5650342106819153, 0.8471171259880066]"
            ]
          },
          "metadata": {
            "tags": []
          },
          "execution_count": 166
        }
      ]
    },
    {
      "cell_type": "code",
      "metadata": {
        "id": "nZuONcAeAwQb",
        "colab_type": "code",
        "colab": {}
      },
      "source": [
        "from sklearn.model_selection import GridSearchCV\n",
        "from keras.wrappers.scikit_learn import KerasClassifier\n",
        "params = dict(epochs=[50,100,120], batch_size = [32,64,100,128])\n",
        "wrn_16_2_validation = create_wide_residual_network(init, nb_classes=4, N=2, k=2, dropout=0.3)\n",
        "model = KerasClassifier(build_fn=wrn_16_2_validation, verbose=0)\n",
        "grid = GridSearchCV(estimator=model, param_grid=params, n_jobs=-1, cv=3)\n",
        "grid_result = grid.fit(X_test,y_test)\n",
        "print(\"Best: %f using %s\" % (grid_result.best_score_, grid_result.best_params_))"
      ],
      "execution_count": 0,
      "outputs": []
    },
    {
      "cell_type": "code",
      "metadata": {
        "id": "8gJh7MDHChHo",
        "colab_type": "code",
        "colab": {}
      },
      "source": [
        ""
      ],
      "execution_count": 0,
      "outputs": []
    }
  ]
}