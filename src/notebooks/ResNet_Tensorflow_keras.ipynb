{
  "nbformat": 4,
  "nbformat_minor": 0,
  "metadata": {
    "colab": {
      "name": "ResNet_Tensorflow_keras.ipynb",
      "provenance": [],
      "toc_visible": true,
      "authorship_tag": "ABX9TyN7drVAsEXrRK5DrezDaROx",
      "include_colab_link": true
    },
    "kernelspec": {
      "name": "python3",
      "display_name": "Python 3"
    }
  },
  "cells": [
    {
      "cell_type": "markdown",
      "metadata": {
        "id": "view-in-github",
        "colab_type": "text"
      },
      "source": [
        "<a href=\"https://colab.research.google.com/github/sefeoglu/AE_Parseval_Network/blob/master/src/notebooks/ResNet_Tensorflow_keras.ipynb\" target=\"_parent\"><img src=\"https://colab.research.google.com/assets/colab-badge.svg\" alt=\"Open In Colab\"/></a>"
      ]
    },
    {
      "cell_type": "markdown",
      "metadata": {
        "id": "cczYDRrfFlDx",
        "colab_type": "text"
      },
      "source": [
        "# New ResNet"
      ]
    },
    {
      "cell_type": "code",
      "metadata": {
        "id": "HWvd9YADGtMS",
        "colab_type": "code",
        "colab": {}
      },
      "source": [
        "import tensorflow as tf"
      ],
      "execution_count": 0,
      "outputs": []
    },
    {
      "cell_type": "code",
      "metadata": {
        "id": "AZYgCQ_-FkSn",
        "colab_type": "code",
        "colab": {}
      },
      "source": [
        "\n",
        "from tensorflow.keras.models import Model\n",
        "from tensorflow.keras.layers import  Input, Add, Activation, Dropout, Flatten, Dense\n",
        "from tensorflow.keras.layers import Convolution2D, MaxPooling2D, AveragePooling2D\n",
        "from tensorflow.keras.layers import BatchNormalization\n",
        "from tensorflow.keras.regularizers import  l2\n",
        "from tensorflow.keras import backend as K\n",
        "import warnings\n",
        "\n",
        "warnings.filterwarnings(\"ignore\")\n",
        "weight_decay = 0.0005"
      ],
      "execution_count": 0,
      "outputs": []
    },
    {
      "cell_type": "code",
      "metadata": {
        "id": "5bt9111oHGs_",
        "colab_type": "code",
        "colab": {}
      },
      "source": [
        "def initial_conv(input):\n",
        "  x = Convolution2D(16,(3,3),padding=\"same\", kernel_initializer='he_normal',\n",
        "                    kernel_regularizer=l2(weight_decay),use_bias=False)(input)\n",
        "  channel_axis = 1 if K.image_data_format() == \"channels_first\" else -1\n",
        "  x = BatchNormalization(axis=channel_axis, momentum=0.1, epsilon=1e-5, gamma_initializer='uniform')(x)\n",
        "  x = Activation('relu')(x)\n",
        "  return x"
      ],
      "execution_count": 0,
      "outputs": []
    },
    {
      "cell_type": "code",
      "metadata": {
        "id": "Z2-99bU_HGrq",
        "colab_type": "code",
        "colab": {}
      },
      "source": [
        "def expand_conv(init, base, k, strides = (1,1)):\n",
        "  x = Convolution2D(base * k, kernel_size=(3,3),padding= \"same\", strides=strides, kernel_initializer=\"he_normal\", kernel_regularizer=l2(weight_decay),\n",
        "                    use_bias=False)(init)\n",
        "  channel_axis = 1 if K.image_data_format() == \"channels_first\" else -1\n",
        "\n",
        "  x = BatchNormalization(axis=channel_axis, momentum=0.1, epsilon= 1e-5, gamma_initializer= 'uniform')(x)\n",
        "  x = Activation('relu')(x)\n",
        "\n",
        "  x = Convolution2D(base * k, kernel_size=(3,3), padding = 'same', kernel_initializer = 'he_normal',kernel_regularizer=l2(weight_decay),\n",
        "                    use_bias = False)(x)\n",
        "  skip = Convolution2D(base * k, kernel_size=(1,1), padding='same', strides=strides, kernel_initializer='he_normal',\n",
        "                       kernel_regularizer=l2(weight_decay),\n",
        "                       use_bias = False)(init)\n",
        "  m = Add()([x, skip])\n",
        "  return m"
      ],
      "execution_count": 0,
      "outputs": []
    },
    {
      "cell_type": "code",
      "metadata": {
        "id": "y8-3eRVvL3dA",
        "colab_type": "code",
        "colab": {}
      },
      "source": [
        "def conv1_block(input, k=1, dropout = 0.0):\n",
        "  init = input\n",
        "  \n",
        "  channel_axis = 1 if K.image_data_format() == \"channels_first\" else -1\n",
        "\n",
        "  x = BatchNormalization(axis=channel_axis, momentum=0.1, epsilon=1e-5, gamma_initializer='uniform')(input)\n",
        "  x = Activation('relu')(x)\n",
        "  x = Convolution2D(16 * k, kernel_size=(3,3), padding='same', kernel_initializer='he_normal', kernel_regularizer=l2(weight_decay),\n",
        "                    use_bias=False)(x)\n",
        "  if dropout > 0.0: x = Dropout(dropout)(x)\n",
        "\n",
        "  x = BatchNormalization(axis=channel_axis, momentum=0.1, epsilon=1e-5, gamma_initializer='uniform')(x)\n",
        "  x = Activation('relu')(x)\n",
        "  x = Convolution2D(16 * k, kernel_size=(3,3), padding='same', kernel_initializer='he_normal',kernel_regularizer=l2(weight_decay),\n",
        "                    use_bias = False)(x)\n",
        "  m = Add()([init, x])\n",
        "  return m"
      ],
      "execution_count": 0,
      "outputs": []
    },
    {
      "cell_type": "code",
      "metadata": {
        "id": "l8Qzpd9HVBXQ",
        "colab_type": "code",
        "colab": {}
      },
      "source": [
        "def  conv2_block(input, k=1, dropout = 0.0):\n",
        "  init = input\n",
        "\n",
        "  channel_axis = 1 \n",
        "\n",
        "  x = BatchNormalization(axis=channel_axis, momentum=0.1, epsilon=1e-5, gamma_initializer='uniform')(input)\n",
        "  x = Activation('relu')(x)\n",
        "  x = Convolution2D(32 * k, kernel_size=(3,3), padding='same', kernel_initializer='he_normal',\n",
        "                    kernel_regularizer = l2(weight_decay), use_bias = False)(x)\n",
        "  \n",
        "  if dropout > 0.0: x = Dropout(dropout)(x)\n",
        "\n",
        "  x = BatchNormalization(axis=channel_axis, momentum=0.1, epsilon=1e-5, gamma_initializer='uniform')(x)\n",
        "  x = Activation('relu')(x)\n",
        "  x = Convolution2D(32*k, kernel_size=(3,3), padding='same', kernel_initializer='he_normal',\n",
        "                    kernel_regularizer= l2(weight_decay),\n",
        "                    use_bias = False)(x)\n",
        "  \n",
        "  m = Add()([init, x])\n",
        "  return m\n"
      ],
      "execution_count": 0,
      "outputs": []
    },
    {
      "cell_type": "code",
      "metadata": {
        "id": "xydZpkBAYi1p",
        "colab_type": "code",
        "colab": {}
      },
      "source": [
        "def conv3_block(input, k=1, dropout=0.0):\n",
        "  init = input\n",
        "\n",
        "  channel_axis = 1 \n",
        "\n",
        "  x = BatchNormalization(axis=channel_axis, momentum= 0.1, epsilon = 1e-5, gamma_initializer='uniform' )(input)\n",
        "  x = Activation('relu')(x)\n",
        "  x = Convolution2D(64 * k, kernel_size=(3,3), padding='same', kernel_initializer='he_normal',\n",
        "                    kernel_regularizer= l2(weight_decay),\n",
        "                    use_bias = False)(x)\n",
        "  \n",
        "  if dropout > 0.0: x = Dropout(dropout)(x)\n",
        "\n",
        "  x = BatchNormalization(axis=channel_axis, momentum=0.1, epsilon=1e-5, gamma_initializer='uniform')(x)\n",
        "  x = Activation('relu')(x)\n",
        "  x = Convolution2D(64 * k, kernel_size=(3,3), padding='same', kernel_initializer='he_normal',\n",
        "                    kernel_regularizer=l2(weight_decay),\n",
        "                    use_bias=False)(x)\n",
        "  m = Add()([init, x])\n",
        "  return m\n"
      ],
      "execution_count": 0,
      "outputs": []
    },
    {
      "cell_type": "code",
      "metadata": {
        "id": "QRdSMgRjG8ex",
        "colab_type": "code",
        "colab": {}
      },
      "source": [
        "def create_wide_residual_network(input_dim, nb_classes=4, N=2, k=2, dropout = 0.0, verbose=1):\n",
        "  channel_axis = 1 if K.image_data_format() == \"channels_first\" else -1\n",
        "\n",
        "  ip = Input(shape=input_dim)\n",
        "\n",
        "  x = initial_conv(ip)\n",
        "  nb_conv = 4\n",
        "  x = expand_conv(x, 16, k)\n",
        "  nb_conv +=2\n",
        "\n",
        "  for i in range(N-1):\n",
        "    x = conv1_block(x, k, dropout)\n",
        "    nb_conv +=2\n",
        "  x = BatchNormalization(axis=channel_axis, momentum=0.1, epsilon=1e-5, gamma_initializer='uniform')(x)\n",
        "  x = Activation('relu')(x)\n",
        "\n",
        "  x = expand_conv(x, 32, k, strides=(1, 1))\n",
        "  nb_conv += 2\n",
        "  for i in range(N - 1):\n",
        "    x = conv2_block(x, k, dropout)\n",
        "    nb_conv += 2\n",
        "  \n",
        "  x = BatchNormalization(axis=channel_axis, momentum=0.1, epsilon=1e-5, gamma_initializer='uniform')(x)\n",
        "  x = Activation('relu')(x)\n",
        "  \n",
        "  x = expand_conv(x, 64, k, strides=(1, 1))\n",
        "  nb_conv += 2\n",
        "  \n",
        "  for i in range(N - 1):\n",
        "    x = conv3_block(x, k, dropout)\n",
        "    nb_conv += 2\n",
        "    \n",
        "  x = BatchNormalization(axis=channel_axis, momentum=0.1, epsilon=1e-5, gamma_initializer='uniform')(x)\n",
        "  x = Activation('relu')(x)\n",
        "  \n",
        "  x = AveragePooling2D((8, 8))(x)\n",
        "  x = Flatten()(x)\n",
        "  \n",
        "  x = Dense(nb_classes, kernel_regularizer=l2(weight_decay), activation='softmax')(x)\n",
        "  \n",
        "  model = Model(ip, x)\n",
        "  \n",
        "  if verbose: print(\"Wide Residual Network-%d-%d created.\" % (nb_conv, k))\n",
        "  \n",
        "  return model\n",
        "\n",
        "\n",
        "\n"
      ],
      "execution_count": 0,
      "outputs": []
    },
    {
      "cell_type": "code",
      "metadata": {
        "id": "4bjIRpiBcPSR",
        "colab_type": "code",
        "outputId": "ba291f0a-3f7c-4bf5-8fb9-4665c4d3a1ca",
        "colab": {
          "base_uri": "https://localhost:8080/",
          "height": 34
        }
      },
      "source": [
        "if __name__ == \"__main__\":\n",
        "    from tensorflow.keras.utils import plot_model\n",
        "    from tensorflow.keras.layers import Input\n",
        "    from tensorflow.keras.models import Model\n",
        "\n",
        "    init = (68, 100,1)\n",
        "    wrn28_10 = create_wide_residual_network(init, nb_classes=4, N=2, k=2, dropout = 0.0, verbose=1)\n",
        "  "
      ],
      "execution_count": 9,
      "outputs": [
        {
          "output_type": "stream",
          "text": [
            "Wide Residual Network-16-2 created.\n"
          ],
          "name": "stdout"
        }
      ]
    },
    {
      "cell_type": "code",
      "metadata": {
        "id": "AJqH742XcPQv",
        "colab_type": "code",
        "colab": {}
      },
      "source": [
        "from sklearn.model_selection import train_test_split\n",
        "import gzip\n",
        "import pickle\n",
        "import numpy as np"
      ],
      "execution_count": 0,
      "outputs": []
    },
    {
      "cell_type": "code",
      "metadata": {
        "id": "fNBI_SkvuzgK",
        "colab_type": "code",
        "colab": {
          "base_uri": "https://localhost:8080/",
          "height": 34
        },
        "outputId": "30d9dbb9-610b-4e03-8fda-5a7682388f93"
      },
      "source": [
        "def read_data():\n",
        "    with open(\"data.pz\", 'rb') as file_:\n",
        "        with gzip.GzipFile(fileobj=file_) as gzf:\n",
        "            data = pickle.load(gzf, encoding='latin1', fix_imports=True)\n",
        "    return data\n",
        "data = read_data()\n",
        "new_data_X = []\n",
        "Y_data = []\n",
        "for row in data:\n",
        "    new_data_X.append(row['crop'])\n",
        "    Y_data.append(row['label'])\n",
        "new_data_X = np.array(new_data_X)\n",
        "new_data_X.shape"
      ],
      "execution_count": 11,
      "outputs": [
        {
          "output_type": "execute_result",
          "data": {
            "text/plain": [
              "(5722, 68, 100)"
            ]
          },
          "metadata": {
            "tags": []
          },
          "execution_count": 11
        }
      ]
    },
    {
      "cell_type": "code",
      "metadata": {
        "id": "jNro9iNCu2v6",
        "colab_type": "code",
        "colab": {}
      },
      "source": [
        "X_train, X_test, y_train, y_test = train_test_split(new_data_X, Y_data, test_size=0.9, random_state=42)"
      ],
      "execution_count": 0,
      "outputs": []
    },
    {
      "cell_type": "code",
      "metadata": {
        "id": "TNBsNVDNu6Ku",
        "colab_type": "code",
        "colab": {}
      },
      "source": [
        "X_train = X_train.astype('float32')\n",
        "X_test = X_test.astype('float32')"
      ],
      "execution_count": 0,
      "outputs": []
    },
    {
      "cell_type": "code",
      "metadata": {
        "id": "2eEHVf2Bu9xt",
        "colab_type": "code",
        "colab": {}
      },
      "source": [
        "import pandas as pd\n",
        "import numpy as np\n",
        "from sklearn.preprocessing import LabelEncoder\n",
        "\n",
        "# creating initial dataframe\n",
        "\n",
        "y_train_df = pd.DataFrame(y_train, columns=['Label'])\n",
        "# creating instance of labelencoder\n",
        "labelencoder = LabelEncoder()\n",
        "# Assigning numerical values and storing in another column\n",
        "y_train_df['New'] = labelencoder.fit_transform(y_train_df['Label'])\n",
        "y_test_df = pd.DataFrame(y_test, columns=['Label'])\n",
        "# creating instance of labelencoder\n",
        "labelencoder = LabelEncoder()\n",
        "# Assigning numerical values and storing in another column\n",
        "y_test_df['New'] = labelencoder.fit_transform(y_test_df['Label'])"
      ],
      "execution_count": 0,
      "outputs": []
    },
    {
      "cell_type": "code",
      "metadata": {
        "id": "C8Y5exHhvuEE",
        "colab_type": "code",
        "colab": {}
      },
      "source": [
        ""
      ],
      "execution_count": 0,
      "outputs": []
    },
    {
      "cell_type": "code",
      "metadata": {
        "id": "uqf-dZOrvC0e",
        "colab_type": "code",
        "colab": {}
      },
      "source": [
        "\n",
        "img_rows, img_cols = X_train[0].shape\n",
        "\n",
        "# transform data set\n",
        "if K.image_data_format() == 'channels_first':\n",
        "    X_train = X_train.reshape(X_train.shape[0], 1, img_rows, img_cols)\n",
        "    X_test = X_test.reshape(X_test.shape[0], 1, img_rows, img_cols)\n",
        "    input_shape = (1, img_rows, img_cols)\n",
        "else:\n",
        "    X_train = X_train.reshape(X_train.shape[0], img_rows, img_cols, 1)\n",
        "    X_test = X_test.reshape(X_test.shape[0], img_rows, img_cols, 1)\n",
        "    input_shape = (img_rows, img_cols, 1)"
      ],
      "execution_count": 0,
      "outputs": []
    },
    {
      "cell_type": "code",
      "metadata": {
        "id": "rghSgp3NvhhV",
        "colab_type": "code",
        "colab": {}
      },
      "source": [
        "from tensorflow.keras.optimizers import SGD\n",
        "\n",
        "EPOCHS = 60\n",
        "BS = 128"
      ],
      "execution_count": 0,
      "outputs": []
    },
    {
      "cell_type": "code",
      "metadata": {
        "id": "PUHIVZnNwLL0",
        "colab_type": "code",
        "colab": {}
      },
      "source": [
        "sgd = SGD(lr=0.1, momentum=0.9)"
      ],
      "execution_count": 0,
      "outputs": []
    },
    {
      "cell_type": "code",
      "metadata": {
        "id": "yBnqXaiNwHGl",
        "colab_type": "code",
        "colab": {
          "base_uri": "https://localhost:8080/",
          "height": 34
        },
        "outputId": "a50cf0b6-e9d3-4ec1-e4b8-af9cb925419b"
      },
      "source": [
        "wrn28_10.compile(loss=\"categorical_crossentropy\", optimizer=sgd, metrics=[\"acc\"])\n",
        "print(\"Finished compiling\")"
      ],
      "execution_count": 18,
      "outputs": [
        {
          "output_type": "stream",
          "text": [
            "Finished compiling\n"
          ],
          "name": "stdout"
        }
      ]
    },
    {
      "cell_type": "code",
      "metadata": {
        "id": "4HA8PdUYwhsH",
        "colab_type": "code",
        "colab": {}
      },
      "source": [
        "from tensorflow.keras.utils import to_categorical"
      ],
      "execution_count": 0,
      "outputs": []
    },
    {
      "cell_type": "code",
      "metadata": {
        "id": "UUmbja_jwwnR",
        "colab_type": "code",
        "colab": {
          "base_uri": "https://localhost:8080/",
          "height": 68
        },
        "outputId": "1dd5df12-4473-4680-f40e-061d933abcf6"
      },
      "source": [
        "hist = wrn28_10.fit(X_train, to_categorical(y_train_df['New']), validation_split=0.33, epochs=EPOCHS, batch_size=BS, verbose=2)"
      ],
      "execution_count": 0,
      "outputs": [
        {
          "output_type": "stream",
          "text": [
            "Epoch 1/60\n",
            "3/3 - 230s - loss: 2.5200 - acc: 0.2898 - val_loss: 2.5232 - val_acc: 0.2698\n",
            "Epoch 2/60\n"
          ],
          "name": "stdout"
        }
      ]
    }
  ]
}