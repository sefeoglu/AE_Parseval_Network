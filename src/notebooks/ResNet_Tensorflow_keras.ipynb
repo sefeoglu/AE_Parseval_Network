{
  "nbformat": 4,
  "nbformat_minor": 0,
  "metadata": {
    "colab": {
      "name": "ResNet_Tensorflow_keras.ipynb",
      "provenance": [],
      "include_colab_link": true
    },
    "kernelspec": {
      "name": "python3",
      "display_name": "Python 3"
    },
    "accelerator": "GPU"
  },
  "cells": [
    {
      "cell_type": "markdown",
      "metadata": {
        "id": "view-in-github",
        "colab_type": "text"
      },
      "source": [
        "<a href=\"https://colab.research.google.com/github/sefeoglu/AE_Parseval_Network/blob/master/src/notebooks/ResNet_Tensorflow_keras.ipynb\" target=\"_parent\"><img src=\"https://colab.research.google.com/assets/colab-badge.svg\" alt=\"Open In Colab\"/></a>"
      ]
    },
    {
      "cell_type": "markdown",
      "metadata": {
        "id": "cczYDRrfFlDx",
        "colab_type": "text"
      },
      "source": [
        "# Wide ResNet 16_2"
      ]
    },
    {
      "cell_type": "code",
      "metadata": {
        "id": "HWvd9YADGtMS",
        "colab_type": "code",
        "colab": {}
      },
      "source": [
        "import tensorflow as tf"
      ],
      "execution_count": 1,
      "outputs": []
    },
    {
      "cell_type": "markdown",
      "metadata": {
        "id": "8aqbIFJTwXLH",
        "colab_type": "text"
      },
      "source": [
        "# Model"
      ]
    },
    {
      "cell_type": "code",
      "metadata": {
        "id": "QRdSMgRjG8ex",
        "colab_type": "code",
        "colab": {
          "base_uri": "https://localhost:8080/",
          "height": 69
        },
        "outputId": "e7a5445d-2c74-47f0-e796-3228693d64c9"
      },
      "source": [
        "from tensorflow.keras.models import Model\n",
        "from tensorflow.keras.layers import Input, Add, Activation, Dropout, Flatten, Dense\n",
        "from tensorflow.keras.layers import Convolution2D, MaxPooling2D, AveragePooling2D\n",
        "from tensorflow.keras.layers import BatchNormalization\n",
        "from tensorflow.keras.regularizers import l2\n",
        "from tensorflow.keras import backend as K\n",
        "import warnings\n",
        "\n",
        "warnings.filterwarnings(\"ignore\")\n",
        "weight_decay = 0.0001\n",
        "\n",
        "\n",
        "def initial_conv(input):\n",
        "  \n",
        "    x = Convolution2D(16, (3, 3), padding='same', kernel_initializer='he_normal',\n",
        "                      kernel_regularizer=l2(weight_decay),\n",
        "                      use_bias=False)(input)\n",
        "\n",
        "    channel_axis = 1 if K.image_data_format() == \"channels_first\" else -1\n",
        "\n",
        "    x = BatchNormalization(axis=channel_axis, momentum=0.1, epsilon=1e-5, gamma_initializer='uniform')(x)\n",
        "    x = Activation('relu')(x)\n",
        "    return x\n",
        "\n",
        "\n",
        "def expand_conv(init, base, k, strides=(1, 1)):\n",
        "    x = Convolution2D(base * k, (3, 3), padding='same', strides=strides, kernel_initializer='he_normal', kernel_regularizer=l2(weight_decay),\n",
        "                      use_bias=False)(init)\n",
        "\n",
        "    channel_axis = 1 if K.image_data_format() == \"channels_first\" else -1\n",
        "\n",
        "    x = BatchNormalization(axis=channel_axis, momentum=0.1, epsilon=1e-5, gamma_initializer='uniform')(x)\n",
        "    x = Activation('relu')(x)\n",
        "\n",
        "    x = Convolution2D(base * k, (3, 3), padding='same', kernel_initializer='he_normal',\n",
        "                      kernel_regularizer=l2(weight_decay),\n",
        "                      use_bias=False)(x)\n",
        "\n",
        "    skip = Convolution2D(base * k, (1, 1), padding='same', strides=strides, kernel_initializer='he_normal',\n",
        "                      kernel_regularizer=l2(weight_decay),\n",
        "                      use_bias=False)(init)\n",
        "\n",
        "    m = Add()([x, skip])\n",
        "\n",
        "    return m\n",
        "\n",
        "\n",
        "def conv1_block(input, k=1, dropout=0.0):\n",
        "    init = input\n",
        "\n",
        "    channel_axis = 1 if K.image_data_format() == \"channels_first\" else -1\n",
        "\n",
        "    x = BatchNormalization(axis=channel_axis, momentum=0.1, epsilon=1e-5, gamma_initializer='uniform')(input)\n",
        "    x = Activation('relu')(x)\n",
        "    x = Convolution2D(16 * k, (3, 3), padding='same', kernel_initializer='he_normal',\n",
        "                      kernel_regularizer=l2(weight_decay),\n",
        "                      use_bias=False)(x)\n",
        "\n",
        "    if dropout > 0.0: x = Dropout(dropout)(x)\n",
        "\n",
        "    x = BatchNormalization(axis=channel_axis, momentum=0.1, epsilon=1e-5, gamma_initializer='uniform')(x)\n",
        "    x = Activation('relu')(x)\n",
        "    x = Convolution2D(16 * k, (3, 3), padding='same', kernel_initializer='he_normal',\n",
        "                      kernel_regularizer=l2(weight_decay),\n",
        "                      use_bias=False)(x)\n",
        "\n",
        "    m = Add()([init, x])\n",
        "    return m\n",
        "\n",
        "def conv2_block(input, k=1, dropout=0.0):\n",
        "    init = input\n",
        "\n",
        "    channel_axis = 1 if K.image_data_format() == \"channels_first\" else -1\n",
        "    print(\"conv2:channel:  {}\".format(channel_axis))\n",
        "    x = BatchNormalization(axis=channel_axis, momentum=0.1, epsilon=1e-5, gamma_initializer='uniform')(input)\n",
        "    x = Activation('relu')(x)\n",
        "    x = Convolution2D(32 * k, (3, 3), padding='same', kernel_initializer='he_normal',\n",
        "                      kernel_regularizer=l2(weight_decay),\n",
        "                      use_bias=False)(x)\n",
        "\n",
        "    if dropout > 0.0: x = Dropout(dropout)(x)\n",
        "\n",
        "    x = BatchNormalization(axis=channel_axis, momentum=0.1, epsilon=1e-5, gamma_initializer='uniform')(x)\n",
        "    x = Activation('relu')(x)\n",
        "    x = Convolution2D(32 * k, (3, 3), padding='same', kernel_initializer='he_normal',\n",
        "                      kernel_regularizer=l2(weight_decay),\n",
        "                      use_bias=False)(x)\n",
        "\n",
        "    m = Add()([init, x])\n",
        "    return m\n",
        "\n",
        "def conv3_block(input, k=1, dropout=0.0):\n",
        "    init = input\n",
        "\n",
        "    channel_axis = 1 if K.image_data_format() == \"channels_first\" else -1\n",
        "    print(\"conv3 channel_axis:{} \".format(channel_axis))\n",
        "    x = BatchNormalization(axis=channel_axis, momentum=0.1, epsilon=1e-5, gamma_initializer='uniform')(input)\n",
        "    x = Activation('relu')(x)\n",
        "    x = Convolution2D(64 * k, (3, 3), padding='same', kernel_initializer='he_normal',\n",
        "                      kernel_regularizer=l2(weight_decay),\n",
        "                      use_bias=False)(x)\n",
        "\n",
        "    if dropout > 0.0: x = Dropout(dropout)(x)\n",
        "\n",
        "    x = BatchNormalization(axis=channel_axis, momentum=0.1, epsilon=1e-5, gamma_initializer='uniform')(x)\n",
        "    x = Activation('relu')(x)\n",
        "    x = Convolution2D(64 * k, (3, 3), padding='same', kernel_initializer='he_normal',\n",
        "                      kernel_regularizer=l2(weight_decay),\n",
        "                      use_bias=False)(x)\n",
        "\n",
        "    m = Add()([init, x])\n",
        "    return m\n",
        "\n",
        "def create_wide_residual_network(input_dim, nb_classes=100, N=2, k=1, dropout=0.0, verbose=1):\n",
        "    \"\"\"\n",
        "    Creates a Wide Residual Network with specified parameters\n",
        "\n",
        "    :param input: Input Keras object\n",
        "    :param nb_classes: Number of output classes\n",
        "    :param N: Depth of the network. Compute N = (n - 4) / 6.\n",
        "              Example : For a depth of 16, n = 16, N = (16 - 4) / 6 = 2\n",
        "              Example2: For a depth of 28, n = 28, N = (28 - 4) / 6 = 4\n",
        "              Example3: For a depth of 40, n = 40, N = (40 - 4) / 6 = 6\n",
        "    :param k: Width of the network.\n",
        "    :param dropout: Adds dropout if value is greater than 0.0\n",
        "    :param verbose: Debug info to describe created WRN\n",
        "    :return:\n",
        "    \"\"\"\n",
        "    channel_axis = 1 if K.image_data_format() == \"channels_first\" else -1\n",
        "\n",
        "    ip = Input(shape=input_dim)\n",
        "\n",
        "    x = initial_conv(ip)\n",
        "    nb_conv = 4\n",
        "\n",
        "    x = expand_conv(x, 16, k)\n",
        "    nb_conv += 2\n",
        "\n",
        "    for i in range(N - 1):\n",
        "        x = conv1_block(x, k, dropout)\n",
        "        nb_conv += 2\n",
        "\n",
        "    x = BatchNormalization(axis=channel_axis, momentum=0.1, epsilon=1e-5, gamma_initializer='uniform')(x)\n",
        "    x = Activation('relu')(x)\n",
        "\n",
        "    x = expand_conv(x, 32, k, strides=(2, 2))\n",
        "    nb_conv += 2\n",
        "\n",
        "    for i in range(N - 1):\n",
        "        x = conv2_block(x, k, dropout)\n",
        "        nb_conv += 2\n",
        "\n",
        "    x = BatchNormalization(axis=channel_axis, momentum=0.1, epsilon=1e-5, gamma_initializer='uniform')(x)\n",
        "    x = Activation('relu')(x)\n",
        "\n",
        "    x = expand_conv(x, 64, k, strides=(2, 2))\n",
        "    nb_conv += 2\n",
        "\n",
        "    for i in range(N - 1):\n",
        "        x = conv3_block(x, k, dropout)\n",
        "        nb_conv += 2\n",
        "\n",
        "    x = BatchNormalization(axis=channel_axis, momentum=0.1, epsilon=1e-5, gamma_initializer='uniform')(x)\n",
        "    x = Activation('relu')(x)\n",
        "\n",
        "    x = AveragePooling2D((8, 8))(x)\n",
        "    x = Flatten()(x)\n",
        "\n",
        "    x = Dense(nb_classes, kernel_regularizer=l2(weight_decay), activation='softmax')(x)\n",
        "\n",
        "    model = Model(ip, x)\n",
        "\n",
        "    if verbose: print(\"Wide Residual Network-%d-%d created.\" % (nb_conv, k))\n",
        "    return model\n",
        "\n",
        "if __name__ == \"__main__\":\n",
        "\n",
        "    init = (32, 32,1)\n",
        "\n",
        "    wrn_16_2 = create_wide_residual_network(init, nb_classes=4, N=2, k=2, dropout=0.5)\n",
        "\n",
        "    #wrn_16_2.summary()\n",
        "\n"
      ],
      "execution_count": 2,
      "outputs": [
        {
          "output_type": "stream",
          "text": [
            "conv2:channel:  -1\n",
            "conv3 channel_axis:-1 \n",
            "Wide Residual Network-16-2 created.\n"
          ],
          "name": "stdout"
        }
      ]
    },
    {
      "cell_type": "markdown",
      "metadata": {
        "id": "ffNo5x-Ft9Fe",
        "colab_type": "text"
      },
      "source": [
        "# Data Prepare and Processing\n",
        "\n",
        "\n"
      ]
    },
    {
      "cell_type": "code",
      "metadata": {
        "id": "AJqH742XcPQv",
        "colab_type": "code",
        "colab": {}
      },
      "source": [
        "from sklearn.model_selection import train_test_split\n",
        "import gzip\n",
        "import pickle\n",
        "\n",
        "import numpy as np"
      ],
      "execution_count": 7,
      "outputs": []
    },
    {
      "cell_type": "code",
      "metadata": {
        "id": "pBRh7YDqiuqw",
        "colab_type": "code",
        "colab": {}
      },
      "source": [
        "\n",
        "with open('data_set.pickle', 'rb') as f:\n",
        "    x = pickle.load(f)"
      ],
      "execution_count": null,
      "outputs": []
    },
    {
      "cell_type": "code",
      "metadata": {
        "id": "ONi_4KtjjNE2",
        "colab_type": "code",
        "colab": {}
      },
      "source": [
        "X_train, y_train,X_test, y_test, X_val, y_val = x['X_train'], x['y_train'], x['X_test'], x['y_test'], x['X_val'], x['y_val']"
      ],
      "execution_count": null,
      "outputs": []
    },
    {
      "cell_type": "code",
      "metadata": {
        "id": "fNBI_SkvuzgK",
        "colab_type": "code",
        "colab": {}
      },
      "source": [
        "def read_data():\n",
        "    with open(\"data.pz\", 'rb') as file_:\n",
        "        with gzip.GzipFile(fileobj=file_) as gzf:\n",
        "            data = pickle.load(gzf, encoding='latin1', fix_imports=True)\n",
        "    return data\n",
        "data = read_data()\n"
      ],
      "execution_count": 9,
      "outputs": []
    },
    {
      "cell_type": "code",
      "metadata": {
        "id": "4euxwMe2jIoX",
        "colab_type": "code",
        "colab": {
          "base_uri": "https://localhost:8080/",
          "height": 34
        },
        "outputId": "7202541f-29c1-47f6-ab4a-24b63d7a3bf9"
      },
      "source": [
        "import cv2\n",
        "new_data_X = []\n",
        "Y_data = []\n",
        "for row in data:\n",
        "    new_data_X.append(cv2.resize(row['crop'], (32,32)))\n",
        "    Y_data.append(row['label'])\n",
        "new_data_X = np.array(new_data_X)\n",
        "new_data_X.shape"
      ],
      "execution_count": 10,
      "outputs": [
        {
          "output_type": "execute_result",
          "data": {
            "text/plain": [
              "(5722, 32, 32)"
            ]
          },
          "metadata": {
            "tags": []
          },
          "execution_count": 10
        }
      ]
    },
    {
      "cell_type": "code",
      "metadata": {
        "id": "TNBsNVDNu6Ku",
        "colab_type": "code",
        "colab": {
          "base_uri": "https://localhost:8080/",
          "height": 34
        },
        "outputId": "535bf223-c635-4bd2-f1e1-fcb342c3b302"
      },
      "source": [
        "X = new_data_X.astype('float32')\n",
        "X.shape"
      ],
      "execution_count": 11,
      "outputs": [
        {
          "output_type": "execute_result",
          "data": {
            "text/plain": [
              "(5722, 32, 32)"
            ]
          },
          "metadata": {
            "tags": []
          },
          "execution_count": 11
        }
      ]
    },
    {
      "cell_type": "markdown",
      "metadata": {
        "id": "MFQdrnTKuM8c",
        "colab_type": "text"
      },
      "source": [
        "# Preprocessing"
      ]
    },
    {
      "cell_type": "code",
      "metadata": {
        "id": "uqf-dZOrvC0e",
        "colab_type": "code",
        "colab": {}
      },
      "source": [
        "img_rows, img_cols = X[0].shape\n",
        "\n",
        "# transform data set\n",
        "if K.image_data_format() == 'channels_first':\n",
        "    X = X.reshape(X.shape[0], 1, img_rows, img_cols)\n",
        "    input_shape = (1, img_rows, img_cols)\n",
        "else:\n",
        "    X = X.reshape(X.shape[0], img_rows, img_cols, 1)\n",
        "    input_shape = (img_rows, img_cols, 1)"
      ],
      "execution_count": 12,
      "outputs": []
    },
    {
      "cell_type": "code",
      "metadata": {
        "id": "2eEHVf2Bu9xt",
        "colab_type": "code",
        "colab": {}
      },
      "source": [
        "import pandas as pd\n",
        "import numpy as np\n",
        "from sklearn.preprocessing import LabelEncoder\n",
        "\n",
        "labelencoder = LabelEncoder()\n",
        "y_df = pd.DataFrame(Y_data, columns=['Label'])\n",
        "y_df['Encoded'] = labelencoder.fit_transform(y_df['Label'])"
      ],
      "execution_count": 13,
      "outputs": []
    },
    {
      "cell_type": "code",
      "metadata": {
        "id": "wdkpb2Jkqu6t",
        "colab_type": "code",
        "colab": {}
      },
      "source": [
        "from tensorflow.keras.utils import to_categorical\n",
        "\n",
        "y_cat = to_categorical(y_df['Encoded'])"
      ],
      "execution_count": 14,
      "outputs": []
    },
    {
      "cell_type": "markdown",
      "metadata": {
        "id": "Kif3Li9NuSnV",
        "colab_type": "text"
      },
      "source": [
        "# Training"
      ]
    },
    {
      "cell_type": "code",
      "metadata": {
        "id": "rghSgp3NvhhV",
        "colab_type": "code",
        "colab": {}
      },
      "source": [
        "from tensorflow.keras.optimizers import SGD\n",
        "from tensorflow.keras.callbacks import Callback, LearningRateScheduler, EarlyStopping\n",
        "import tensorflow\n",
        "\n",
        "EPOCHS = 200\n",
        "BS = 128\n",
        "sgd = SGD(lr=0.1, momentum=0.6)"
      ],
      "execution_count": 15,
      "outputs": []
    },
    {
      "cell_type": "code",
      "metadata": {
        "id": "yBnqXaiNwHGl",
        "colab_type": "code",
        "colab": {
          "base_uri": "https://localhost:8080/",
          "height": 34
        },
        "outputId": "13c87254-6b7a-445e-ed63-7629afc27def"
      },
      "source": [
        "wrn_16_2.compile(loss=\"categorical_crossentropy\", optimizer=sgd, metrics=[\"acc\"])\n",
        "print(\"Finished compiling\")\n"
      ],
      "execution_count": 16,
      "outputs": [
        {
          "output_type": "stream",
          "text": [
            "Finished compiling\n"
          ],
          "name": "stdout"
        }
      ]
    },
    {
      "cell_type": "code",
      "metadata": {
        "id": "88yOqhbSwjPa",
        "colab_type": "code",
        "colab": {}
      },
      "source": [
        "def lr_sch(epoch):\n",
        "    if epoch < 30:\n",
        "        return 0.1\n",
        "    elif epoch < 50:\n",
        "        return 0.001\n",
        "    elif epoch < 60:\n",
        "        return 0.001\n",
        "    else:\n",
        "        return 0.00001\n",
        "\n",
        "# Learning rate scheduler callback\n",
        "lr_scheduler = LearningRateScheduler(lr_sch)"
      ],
      "execution_count": 17,
      "outputs": []
    },
    {
      "cell_type": "code",
      "metadata": {
        "id": "TbpiWMEgRpWa",
        "colab_type": "code",
        "colab": {}
      },
      "source": [
        "generator = tensorflow.keras.preprocessing.image.ImageDataGenerator(rotation_range=10,\n",
        "                               width_shift_range=5./32,\n",
        "                               height_shift_range=5./32,)"
      ],
      "execution_count": 18,
      "outputs": []
    },
    {
      "cell_type": "code",
      "metadata": {
        "id": "uo-6r-Zvva5l",
        "colab_type": "code",
        "colab": {}
      },
      "source": [
        "X_train, X_test, y_train, y_test = train_test_split(X, y_cat, test_size = 0.1)\n",
        "X_train, X_val, y_train, y_val = train_test_split(X_train, y_train, test_size = 0.1)"
      ],
      "execution_count": 19,
      "outputs": []
    },
    {
      "cell_type": "code",
      "metadata": {
        "id": "JVs_QNHoEKji",
        "colab_type": "code",
        "colab": {
          "base_uri": "https://localhost:8080/",
          "height": 1000
        },
        "outputId": "2c31435a-00a1-4c29-cf84-a0a2eca86078"
      },
      "source": [
        "hist = wrn_16_2.fit(generator.flow(X_train, y_train, batch_size=BS), steps_per_epoch=len(X_train) // BS, epochs=EPOCHS,\n",
        "                   callbacks = [lr_scheduler],\n",
        "                   validation_data=(X_val, y_val),\n",
        "                   validation_steps=X_val.shape[0] // BS,)"
      ],
      "execution_count": 20,
      "outputs": [
        {
          "output_type": "stream",
          "text": [
            "Epoch 1/200\n",
            "36/36 [==============================] - 4s 115ms/step - loss: 1.5891 - acc: 0.3118 - val_loss: 1.5415 - val_acc: 0.3437 - lr: 0.1000\n",
            "Epoch 2/200\n",
            "36/36 [==============================] - 3s 84ms/step - loss: 1.5056 - acc: 0.3653 - val_loss: 1.5103 - val_acc: 0.3456 - lr: 0.1000\n",
            "Epoch 3/200\n",
            "36/36 [==============================] - 3s 84ms/step - loss: 1.4824 - acc: 0.3804 - val_loss: 1.4429 - val_acc: 0.3612 - lr: 0.1000\n",
            "Epoch 4/200\n",
            "36/36 [==============================] - 3s 84ms/step - loss: 1.4670 - acc: 0.3846 - val_loss: 1.4684 - val_acc: 0.4272 - lr: 0.1000\n",
            "Epoch 5/200\n",
            "36/36 [==============================] - 3s 85ms/step - loss: 1.4615 - acc: 0.3953 - val_loss: 1.4844 - val_acc: 0.3456 - lr: 0.1000\n",
            "Epoch 6/200\n",
            "36/36 [==============================] - 3s 84ms/step - loss: 1.4440 - acc: 0.4057 - val_loss: 1.4121 - val_acc: 0.4350 - lr: 0.1000\n",
            "Epoch 7/200\n",
            "36/36 [==============================] - 3s 84ms/step - loss: 1.4417 - acc: 0.4159 - val_loss: 1.4372 - val_acc: 0.3845 - lr: 0.1000\n",
            "Epoch 8/200\n",
            "36/36 [==============================] - 3s 84ms/step - loss: 1.4149 - acc: 0.4303 - val_loss: 1.5062 - val_acc: 0.4233 - lr: 0.1000\n",
            "Epoch 9/200\n",
            "36/36 [==============================] - 3s 84ms/step - loss: 1.4105 - acc: 0.4494 - val_loss: 1.4437 - val_acc: 0.4136 - lr: 0.1000\n",
            "Epoch 10/200\n",
            "36/36 [==============================] - 3s 84ms/step - loss: 1.4050 - acc: 0.4587 - val_loss: 1.3324 - val_acc: 0.4913 - lr: 0.1000\n",
            "Epoch 11/200\n",
            "36/36 [==============================] - 3s 84ms/step - loss: 1.3564 - acc: 0.5007 - val_loss: 1.4835 - val_acc: 0.3806 - lr: 0.1000\n",
            "Epoch 12/200\n",
            "36/36 [==============================] - 3s 84ms/step - loss: 1.3418 - acc: 0.5102 - val_loss: 1.3029 - val_acc: 0.5340 - lr: 0.1000\n",
            "Epoch 13/200\n",
            "36/36 [==============================] - 3s 84ms/step - loss: 1.3241 - acc: 0.5209 - val_loss: 1.3016 - val_acc: 0.5398 - lr: 0.1000\n",
            "Epoch 14/200\n",
            "36/36 [==============================] - 3s 85ms/step - loss: 1.2925 - acc: 0.5364 - val_loss: 1.3461 - val_acc: 0.5379 - lr: 0.1000\n",
            "Epoch 15/200\n",
            "36/36 [==============================] - 3s 84ms/step - loss: 1.2615 - acc: 0.5524 - val_loss: 1.4862 - val_acc: 0.4524 - lr: 0.1000\n",
            "Epoch 16/200\n",
            "36/36 [==============================] - 3s 84ms/step - loss: 1.2286 - acc: 0.5863 - val_loss: 1.3323 - val_acc: 0.5223 - lr: 0.1000\n",
            "Epoch 17/200\n",
            "36/36 [==============================] - 3s 84ms/step - loss: 1.1920 - acc: 0.5970 - val_loss: 1.5727 - val_acc: 0.4990 - lr: 0.1000\n",
            "Epoch 18/200\n",
            "36/36 [==============================] - 3s 84ms/step - loss: 1.1784 - acc: 0.6032 - val_loss: 1.0895 - val_acc: 0.6233 - lr: 0.1000\n",
            "Epoch 19/200\n",
            "36/36 [==============================] - 3s 84ms/step - loss: 1.1331 - acc: 0.6276 - val_loss: 1.2125 - val_acc: 0.6078 - lr: 0.1000\n",
            "Epoch 20/200\n",
            "36/36 [==============================] - 3s 84ms/step - loss: 1.1119 - acc: 0.6334 - val_loss: 1.0898 - val_acc: 0.6583 - lr: 0.1000\n",
            "Epoch 21/200\n",
            "36/36 [==============================] - 3s 84ms/step - loss: 1.0910 - acc: 0.6498 - val_loss: 1.2490 - val_acc: 0.6175 - lr: 0.1000\n",
            "Epoch 22/200\n",
            "36/36 [==============================] - 3s 83ms/step - loss: 1.0757 - acc: 0.6507 - val_loss: 1.0445 - val_acc: 0.6563 - lr: 0.1000\n",
            "Epoch 23/200\n",
            "36/36 [==============================] - 3s 83ms/step - loss: 1.0554 - acc: 0.6633 - val_loss: 1.1149 - val_acc: 0.6602 - lr: 0.1000\n",
            "Epoch 24/200\n",
            "36/36 [==============================] - 3s 83ms/step - loss: 1.0494 - acc: 0.6636 - val_loss: 1.1526 - val_acc: 0.6252 - lr: 0.1000\n",
            "Epoch 25/200\n",
            "36/36 [==============================] - 3s 84ms/step - loss: 1.0342 - acc: 0.6667 - val_loss: 1.1162 - val_acc: 0.6485 - lr: 0.1000\n",
            "Epoch 26/200\n",
            "36/36 [==============================] - 3s 84ms/step - loss: 1.0069 - acc: 0.6742 - val_loss: 1.1721 - val_acc: 0.6233 - lr: 0.1000\n",
            "Epoch 27/200\n",
            "36/36 [==============================] - 3s 84ms/step - loss: 0.9985 - acc: 0.6862 - val_loss: 1.2318 - val_acc: 0.6252 - lr: 0.1000\n",
            "Epoch 28/200\n",
            "36/36 [==============================] - 3s 83ms/step - loss: 0.9870 - acc: 0.6893 - val_loss: 0.9478 - val_acc: 0.7029 - lr: 0.1000\n",
            "Epoch 29/200\n",
            "36/36 [==============================] - 3s 84ms/step - loss: 0.9830 - acc: 0.6984 - val_loss: 1.0351 - val_acc: 0.6796 - lr: 0.1000\n",
            "Epoch 30/200\n",
            "36/36 [==============================] - 3s 84ms/step - loss: 0.9688 - acc: 0.7031 - val_loss: 1.0529 - val_acc: 0.7029 - lr: 0.1000\n",
            "Epoch 31/200\n",
            "36/36 [==============================] - 3s 83ms/step - loss: 0.9276 - acc: 0.7188 - val_loss: 0.9925 - val_acc: 0.7010 - lr: 0.0010\n",
            "Epoch 32/200\n",
            "36/36 [==============================] - 3s 83ms/step - loss: 0.9110 - acc: 0.7301 - val_loss: 0.9591 - val_acc: 0.7184 - lr: 0.0010\n",
            "Epoch 33/200\n",
            "36/36 [==============================] - 3s 84ms/step - loss: 0.9098 - acc: 0.7235 - val_loss: 0.9698 - val_acc: 0.7165 - lr: 0.0010\n",
            "Epoch 34/200\n",
            "36/36 [==============================] - 3s 83ms/step - loss: 0.9023 - acc: 0.7273 - val_loss: 0.9480 - val_acc: 0.7204 - lr: 0.0010\n",
            "Epoch 35/200\n",
            "36/36 [==============================] - 3s 84ms/step - loss: 0.8946 - acc: 0.7348 - val_loss: 0.9577 - val_acc: 0.7184 - lr: 0.0010\n",
            "Epoch 36/200\n",
            "36/36 [==============================] - 3s 84ms/step - loss: 0.8991 - acc: 0.7357 - val_loss: 0.9435 - val_acc: 0.7204 - lr: 0.0010\n",
            "Epoch 37/200\n",
            "36/36 [==============================] - 3s 84ms/step - loss: 0.8884 - acc: 0.7337 - val_loss: 0.9458 - val_acc: 0.7107 - lr: 0.0010\n",
            "Epoch 38/200\n",
            "36/36 [==============================] - 3s 84ms/step - loss: 0.8901 - acc: 0.7357 - val_loss: 0.9291 - val_acc: 0.7340 - lr: 0.0010\n",
            "Epoch 39/200\n",
            "36/36 [==============================] - 3s 83ms/step - loss: 0.8799 - acc: 0.7395 - val_loss: 0.9297 - val_acc: 0.7320 - lr: 0.0010\n",
            "Epoch 40/200\n",
            "36/36 [==============================] - 3s 83ms/step - loss: 0.8908 - acc: 0.7344 - val_loss: 0.9000 - val_acc: 0.7359 - lr: 0.0010\n",
            "Epoch 41/200\n",
            "36/36 [==============================] - 3s 83ms/step - loss: 0.8764 - acc: 0.7359 - val_loss: 0.9171 - val_acc: 0.7320 - lr: 0.0010\n",
            "Epoch 42/200\n",
            "36/36 [==============================] - 3s 83ms/step - loss: 0.8863 - acc: 0.7410 - val_loss: 0.9092 - val_acc: 0.7398 - lr: 0.0010\n",
            "Epoch 43/200\n",
            "36/36 [==============================] - 3s 83ms/step - loss: 0.8853 - acc: 0.7443 - val_loss: 0.9093 - val_acc: 0.7359 - lr: 0.0010\n",
            "Epoch 44/200\n",
            "36/36 [==============================] - 3s 84ms/step - loss: 0.8855 - acc: 0.7364 - val_loss: 0.9252 - val_acc: 0.7398 - lr: 0.0010\n",
            "Epoch 45/200\n",
            "36/36 [==============================] - 3s 83ms/step - loss: 0.8747 - acc: 0.7481 - val_loss: 0.9161 - val_acc: 0.7359 - lr: 0.0010\n",
            "Epoch 46/200\n",
            "36/36 [==============================] - 3s 84ms/step - loss: 0.8740 - acc: 0.7437 - val_loss: 0.9244 - val_acc: 0.7340 - lr: 0.0010\n",
            "Epoch 47/200\n",
            "36/36 [==============================] - 3s 83ms/step - loss: 0.8708 - acc: 0.7423 - val_loss: 0.9112 - val_acc: 0.7417 - lr: 0.0010\n",
            "Epoch 48/200\n",
            "36/36 [==============================] - 3s 84ms/step - loss: 0.8656 - acc: 0.7548 - val_loss: 0.9038 - val_acc: 0.7398 - lr: 0.0010\n",
            "Epoch 49/200\n",
            "36/36 [==============================] - 3s 84ms/step - loss: 0.8639 - acc: 0.7565 - val_loss: 0.9270 - val_acc: 0.7320 - lr: 0.0010\n",
            "Epoch 50/200\n",
            "36/36 [==============================] - 3s 84ms/step - loss: 0.8695 - acc: 0.7472 - val_loss: 0.9397 - val_acc: 0.7379 - lr: 0.0010\n",
            "Epoch 51/200\n",
            "36/36 [==============================] - 3s 83ms/step - loss: 0.8673 - acc: 0.7439 - val_loss: 0.9071 - val_acc: 0.7398 - lr: 0.0010\n",
            "Epoch 52/200\n",
            "36/36 [==============================] - 3s 83ms/step - loss: 0.8624 - acc: 0.7494 - val_loss: 0.9319 - val_acc: 0.7262 - lr: 0.0010\n",
            "Epoch 53/200\n",
            "36/36 [==============================] - 3s 84ms/step - loss: 0.8574 - acc: 0.7530 - val_loss: 0.9673 - val_acc: 0.7301 - lr: 0.0010\n",
            "Epoch 54/200\n",
            "36/36 [==============================] - 3s 84ms/step - loss: 0.8640 - acc: 0.7459 - val_loss: 0.9166 - val_acc: 0.7340 - lr: 0.0010\n",
            "Epoch 55/200\n",
            "36/36 [==============================] - 3s 84ms/step - loss: 0.8699 - acc: 0.7481 - val_loss: 0.9439 - val_acc: 0.7223 - lr: 0.0010\n",
            "Epoch 56/200\n",
            "36/36 [==============================] - 3s 83ms/step - loss: 0.8570 - acc: 0.7503 - val_loss: 0.9330 - val_acc: 0.7262 - lr: 0.0010\n",
            "Epoch 57/200\n",
            "36/36 [==============================] - 3s 84ms/step - loss: 0.8664 - acc: 0.7435 - val_loss: 0.9138 - val_acc: 0.7359 - lr: 0.0010\n",
            "Epoch 58/200\n",
            "36/36 [==============================] - 3s 83ms/step - loss: 0.8622 - acc: 0.7474 - val_loss: 0.9193 - val_acc: 0.7379 - lr: 0.0010\n",
            "Epoch 59/200\n",
            "36/36 [==============================] - 3s 83ms/step - loss: 0.8551 - acc: 0.7530 - val_loss: 0.9192 - val_acc: 0.7340 - lr: 0.0010\n",
            "Epoch 60/200\n",
            "36/36 [==============================] - 3s 85ms/step - loss: 0.8629 - acc: 0.7526 - val_loss: 0.9138 - val_acc: 0.7437 - lr: 0.0010\n",
            "Epoch 61/200\n",
            "36/36 [==============================] - 3s 83ms/step - loss: 0.8568 - acc: 0.7550 - val_loss: 0.9019 - val_acc: 0.7476 - lr: 1.0000e-05\n",
            "Epoch 62/200\n",
            "36/36 [==============================] - 3s 83ms/step - loss: 0.8584 - acc: 0.7483 - val_loss: 0.9153 - val_acc: 0.7379 - lr: 1.0000e-05\n",
            "Epoch 63/200\n",
            "36/36 [==============================] - 3s 84ms/step - loss: 0.8577 - acc: 0.7559 - val_loss: 0.9232 - val_acc: 0.7320 - lr: 1.0000e-05\n",
            "Epoch 64/200\n",
            "36/36 [==============================] - 3s 83ms/step - loss: 0.8586 - acc: 0.7463 - val_loss: 0.9338 - val_acc: 0.7417 - lr: 1.0000e-05\n",
            "Epoch 65/200\n",
            "36/36 [==============================] - 3s 84ms/step - loss: 0.8702 - acc: 0.7450 - val_loss: 0.9184 - val_acc: 0.7320 - lr: 1.0000e-05\n",
            "Epoch 66/200\n",
            "36/36 [==============================] - 3s 84ms/step - loss: 0.8539 - acc: 0.7557 - val_loss: 0.9124 - val_acc: 0.7398 - lr: 1.0000e-05\n",
            "Epoch 67/200\n",
            "36/36 [==============================] - 3s 84ms/step - loss: 0.8603 - acc: 0.7512 - val_loss: 0.9151 - val_acc: 0.7340 - lr: 1.0000e-05\n",
            "Epoch 68/200\n",
            "36/36 [==============================] - 3s 84ms/step - loss: 0.8496 - acc: 0.7550 - val_loss: 0.9131 - val_acc: 0.7417 - lr: 1.0000e-05\n",
            "Epoch 69/200\n",
            "36/36 [==============================] - 3s 83ms/step - loss: 0.8500 - acc: 0.7557 - val_loss: 0.9171 - val_acc: 0.7301 - lr: 1.0000e-05\n",
            "Epoch 70/200\n",
            "36/36 [==============================] - 3s 83ms/step - loss: 0.8533 - acc: 0.7499 - val_loss: 0.9007 - val_acc: 0.7398 - lr: 1.0000e-05\n",
            "Epoch 71/200\n",
            "36/36 [==============================] - 3s 84ms/step - loss: 0.8491 - acc: 0.7574 - val_loss: 0.9181 - val_acc: 0.7320 - lr: 1.0000e-05\n",
            "Epoch 72/200\n",
            "36/36 [==============================] - 3s 85ms/step - loss: 0.8689 - acc: 0.7388 - val_loss: 0.9126 - val_acc: 0.7379 - lr: 1.0000e-05\n",
            "Epoch 73/200\n",
            "36/36 [==============================] - 3s 84ms/step - loss: 0.8634 - acc: 0.7488 - val_loss: 0.9330 - val_acc: 0.7417 - lr: 1.0000e-05\n",
            "Epoch 74/200\n",
            "36/36 [==============================] - 3s 84ms/step - loss: 0.8535 - acc: 0.7532 - val_loss: 0.9157 - val_acc: 0.7417 - lr: 1.0000e-05\n",
            "Epoch 75/200\n",
            "36/36 [==============================] - 3s 84ms/step - loss: 0.8590 - acc: 0.7459 - val_loss: 0.9172 - val_acc: 0.7340 - lr: 1.0000e-05\n",
            "Epoch 76/200\n",
            "36/36 [==============================] - 3s 84ms/step - loss: 0.8646 - acc: 0.7430 - val_loss: 0.9215 - val_acc: 0.7340 - lr: 1.0000e-05\n",
            "Epoch 77/200\n",
            "36/36 [==============================] - 3s 84ms/step - loss: 0.8685 - acc: 0.7399 - val_loss: 0.8960 - val_acc: 0.7437 - lr: 1.0000e-05\n",
            "Epoch 78/200\n",
            "36/36 [==============================] - 3s 84ms/step - loss: 0.8536 - acc: 0.7479 - val_loss: 0.9015 - val_acc: 0.7476 - lr: 1.0000e-05\n",
            "Epoch 79/200\n",
            "36/36 [==============================] - 3s 84ms/step - loss: 0.8558 - acc: 0.7486 - val_loss: 0.9120 - val_acc: 0.7379 - lr: 1.0000e-05\n",
            "Epoch 80/200\n",
            "36/36 [==============================] - 3s 84ms/step - loss: 0.8651 - acc: 0.7490 - val_loss: 0.9803 - val_acc: 0.7184 - lr: 1.0000e-05\n",
            "Epoch 81/200\n",
            "36/36 [==============================] - 3s 83ms/step - loss: 0.8564 - acc: 0.7530 - val_loss: 0.9197 - val_acc: 0.7282 - lr: 1.0000e-05\n",
            "Epoch 82/200\n",
            "36/36 [==============================] - 3s 84ms/step - loss: 0.8579 - acc: 0.7474 - val_loss: 0.9132 - val_acc: 0.7437 - lr: 1.0000e-05\n",
            "Epoch 83/200\n",
            "36/36 [==============================] - 3s 83ms/step - loss: 0.8615 - acc: 0.7432 - val_loss: 0.9054 - val_acc: 0.7437 - lr: 1.0000e-05\n",
            "Epoch 84/200\n",
            "36/36 [==============================] - 3s 84ms/step - loss: 0.8521 - acc: 0.7523 - val_loss: 0.9244 - val_acc: 0.7282 - lr: 1.0000e-05\n",
            "Epoch 85/200\n",
            "36/36 [==============================] - 3s 83ms/step - loss: 0.8560 - acc: 0.7565 - val_loss: 0.9214 - val_acc: 0.7243 - lr: 1.0000e-05\n",
            "Epoch 86/200\n",
            "36/36 [==============================] - 3s 84ms/step - loss: 0.8579 - acc: 0.7483 - val_loss: 0.8988 - val_acc: 0.7476 - lr: 1.0000e-05\n",
            "Epoch 87/200\n",
            "36/36 [==============================] - 3s 83ms/step - loss: 0.8568 - acc: 0.7474 - val_loss: 0.8986 - val_acc: 0.7456 - lr: 1.0000e-05\n",
            "Epoch 88/200\n",
            "36/36 [==============================] - 3s 83ms/step - loss: 0.8687 - acc: 0.7446 - val_loss: 0.9161 - val_acc: 0.7301 - lr: 1.0000e-05\n",
            "Epoch 89/200\n",
            "36/36 [==============================] - 3s 84ms/step - loss: 0.8604 - acc: 0.7479 - val_loss: 0.9005 - val_acc: 0.7359 - lr: 1.0000e-05\n",
            "Epoch 90/200\n",
            "36/36 [==============================] - 3s 85ms/step - loss: 0.8572 - acc: 0.7478 - val_loss: 0.8968 - val_acc: 0.7417 - lr: 1.0000e-05\n",
            "Epoch 91/200\n",
            "36/36 [==============================] - 3s 84ms/step - loss: 0.8661 - acc: 0.7428 - val_loss: 0.8994 - val_acc: 0.7417 - lr: 1.0000e-05\n",
            "Epoch 92/200\n",
            "36/36 [==============================] - 3s 84ms/step - loss: 0.8598 - acc: 0.7417 - val_loss: 0.9100 - val_acc: 0.7417 - lr: 1.0000e-05\n",
            "Epoch 93/200\n",
            "36/36 [==============================] - 3s 84ms/step - loss: 0.8615 - acc: 0.7417 - val_loss: 0.9244 - val_acc: 0.7301 - lr: 1.0000e-05\n",
            "Epoch 94/200\n",
            "36/36 [==============================] - 3s 84ms/step - loss: 0.8562 - acc: 0.7506 - val_loss: 0.9252 - val_acc: 0.7398 - lr: 1.0000e-05\n",
            "Epoch 95/200\n",
            "36/36 [==============================] - 3s 84ms/step - loss: 0.8587 - acc: 0.7506 - val_loss: 0.9155 - val_acc: 0.7476 - lr: 1.0000e-05\n",
            "Epoch 96/200\n",
            "36/36 [==============================] - 3s 83ms/step - loss: 0.8548 - acc: 0.7506 - val_loss: 0.9386 - val_acc: 0.7359 - lr: 1.0000e-05\n",
            "Epoch 97/200\n",
            "36/36 [==============================] - 3s 85ms/step - loss: 0.8618 - acc: 0.7472 - val_loss: 0.9097 - val_acc: 0.7437 - lr: 1.0000e-05\n",
            "Epoch 98/200\n",
            "36/36 [==============================] - 3s 84ms/step - loss: 0.8592 - acc: 0.7541 - val_loss: 0.9128 - val_acc: 0.7398 - lr: 1.0000e-05\n",
            "Epoch 99/200\n",
            "36/36 [==============================] - 3s 84ms/step - loss: 0.8616 - acc: 0.7510 - val_loss: 0.9168 - val_acc: 0.7320 - lr: 1.0000e-05\n",
            "Epoch 100/200\n",
            "36/36 [==============================] - 3s 83ms/step - loss: 0.8591 - acc: 0.7486 - val_loss: 0.9032 - val_acc: 0.7456 - lr: 1.0000e-05\n",
            "Epoch 101/200\n",
            "36/36 [==============================] - 3s 83ms/step - loss: 0.8667 - acc: 0.7492 - val_loss: 0.9095 - val_acc: 0.7417 - lr: 1.0000e-05\n",
            "Epoch 102/200\n",
            "36/36 [==============================] - 3s 84ms/step - loss: 0.8504 - acc: 0.7477 - val_loss: 0.9027 - val_acc: 0.7398 - lr: 1.0000e-05\n",
            "Epoch 103/200\n",
            "36/36 [==============================] - 3s 85ms/step - loss: 0.8600 - acc: 0.7493 - val_loss: 0.9216 - val_acc: 0.7301 - lr: 1.0000e-05\n",
            "Epoch 104/200\n",
            "36/36 [==============================] - 3s 84ms/step - loss: 0.8582 - acc: 0.7530 - val_loss: 0.9505 - val_acc: 0.7456 - lr: 1.0000e-05\n",
            "Epoch 105/200\n",
            "36/36 [==============================] - 3s 84ms/step - loss: 0.8603 - acc: 0.7455 - val_loss: 0.9162 - val_acc: 0.7359 - lr: 1.0000e-05\n",
            "Epoch 106/200\n",
            "36/36 [==============================] - 3s 84ms/step - loss: 0.8598 - acc: 0.7470 - val_loss: 0.9023 - val_acc: 0.7437 - lr: 1.0000e-05\n",
            "Epoch 107/200\n",
            "36/36 [==============================] - 3s 84ms/step - loss: 0.8612 - acc: 0.7501 - val_loss: 0.9352 - val_acc: 0.7359 - lr: 1.0000e-05\n",
            "Epoch 108/200\n",
            "36/36 [==============================] - 3s 84ms/step - loss: 0.8588 - acc: 0.7472 - val_loss: 0.9051 - val_acc: 0.7417 - lr: 1.0000e-05\n",
            "Epoch 109/200\n",
            "36/36 [==============================] - 3s 83ms/step - loss: 0.8587 - acc: 0.7466 - val_loss: 0.9169 - val_acc: 0.7301 - lr: 1.0000e-05\n",
            "Epoch 110/200\n",
            "36/36 [==============================] - 3s 83ms/step - loss: 0.8585 - acc: 0.7521 - val_loss: 0.9015 - val_acc: 0.7379 - lr: 1.0000e-05\n",
            "Epoch 111/200\n",
            "36/36 [==============================] - 3s 83ms/step - loss: 0.8583 - acc: 0.7488 - val_loss: 0.8988 - val_acc: 0.7437 - lr: 1.0000e-05\n",
            "Epoch 112/200\n",
            "36/36 [==============================] - 3s 84ms/step - loss: 0.8600 - acc: 0.7481 - val_loss: 0.8988 - val_acc: 0.7417 - lr: 1.0000e-05\n",
            "Epoch 113/200\n",
            "36/36 [==============================] - 3s 84ms/step - loss: 0.8578 - acc: 0.7450 - val_loss: 0.9347 - val_acc: 0.7243 - lr: 1.0000e-05\n",
            "Epoch 114/200\n",
            "36/36 [==============================] - 3s 83ms/step - loss: 0.8524 - acc: 0.7557 - val_loss: 0.8975 - val_acc: 0.7456 - lr: 1.0000e-05\n",
            "Epoch 115/200\n",
            "36/36 [==============================] - 3s 84ms/step - loss: 0.8572 - acc: 0.7526 - val_loss: 0.9037 - val_acc: 0.7476 - lr: 1.0000e-05\n",
            "Epoch 116/200\n",
            "36/36 [==============================] - 3s 83ms/step - loss: 0.8566 - acc: 0.7472 - val_loss: 0.9135 - val_acc: 0.7340 - lr: 1.0000e-05\n",
            "Epoch 117/200\n",
            "36/36 [==============================] - 3s 83ms/step - loss: 0.8477 - acc: 0.7497 - val_loss: 0.9074 - val_acc: 0.7359 - lr: 1.0000e-05\n",
            "Epoch 118/200\n",
            "36/36 [==============================] - 3s 83ms/step - loss: 0.8608 - acc: 0.7463 - val_loss: 0.9135 - val_acc: 0.7340 - lr: 1.0000e-05\n",
            "Epoch 119/200\n",
            "36/36 [==============================] - 3s 84ms/step - loss: 0.8619 - acc: 0.7490 - val_loss: 0.8956 - val_acc: 0.7417 - lr: 1.0000e-05\n",
            "Epoch 120/200\n",
            "36/36 [==============================] - 3s 83ms/step - loss: 0.8584 - acc: 0.7506 - val_loss: 0.9379 - val_acc: 0.7223 - lr: 1.0000e-05\n",
            "Epoch 121/200\n",
            "36/36 [==============================] - 3s 83ms/step - loss: 0.8531 - acc: 0.7532 - val_loss: 0.9031 - val_acc: 0.7359 - lr: 1.0000e-05\n",
            "Epoch 122/200\n",
            "36/36 [==============================] - 3s 84ms/step - loss: 0.8572 - acc: 0.7501 - val_loss: 0.9302 - val_acc: 0.7282 - lr: 1.0000e-05\n",
            "Epoch 123/200\n",
            "36/36 [==============================] - 3s 84ms/step - loss: 0.8577 - acc: 0.7481 - val_loss: 0.9041 - val_acc: 0.7456 - lr: 1.0000e-05\n",
            "Epoch 124/200\n",
            "36/36 [==============================] - 3s 83ms/step - loss: 0.8543 - acc: 0.7550 - val_loss: 0.9063 - val_acc: 0.7340 - lr: 1.0000e-05\n",
            "Epoch 125/200\n",
            "36/36 [==============================] - 3s 83ms/step - loss: 0.8700 - acc: 0.7403 - val_loss: 0.9121 - val_acc: 0.7359 - lr: 1.0000e-05\n",
            "Epoch 126/200\n",
            "36/36 [==============================] - 3s 83ms/step - loss: 0.8543 - acc: 0.7574 - val_loss: 0.9065 - val_acc: 0.7476 - lr: 1.0000e-05\n",
            "Epoch 127/200\n",
            "36/36 [==============================] - 3s 83ms/step - loss: 0.8601 - acc: 0.7481 - val_loss: 0.9008 - val_acc: 0.7476 - lr: 1.0000e-05\n",
            "Epoch 128/200\n",
            "36/36 [==============================] - 3s 86ms/step - loss: 0.8649 - acc: 0.7450 - val_loss: 0.9299 - val_acc: 0.7301 - lr: 1.0000e-05\n",
            "Epoch 129/200\n",
            "36/36 [==============================] - 3s 85ms/step - loss: 0.8591 - acc: 0.7515 - val_loss: 0.9209 - val_acc: 0.7398 - lr: 1.0000e-05\n",
            "Epoch 130/200\n",
            "36/36 [==============================] - 3s 84ms/step - loss: 0.8541 - acc: 0.7503 - val_loss: 0.9221 - val_acc: 0.7476 - lr: 1.0000e-05\n",
            "Epoch 131/200\n",
            "36/36 [==============================] - 3s 84ms/step - loss: 0.8544 - acc: 0.7521 - val_loss: 0.9023 - val_acc: 0.7437 - lr: 1.0000e-05\n",
            "Epoch 132/200\n",
            "36/36 [==============================] - 3s 83ms/step - loss: 0.8524 - acc: 0.7490 - val_loss: 0.9141 - val_acc: 0.7359 - lr: 1.0000e-05\n",
            "Epoch 133/200\n",
            "36/36 [==============================] - 3s 83ms/step - loss: 0.8654 - acc: 0.7428 - val_loss: 0.8928 - val_acc: 0.7417 - lr: 1.0000e-05\n",
            "Epoch 134/200\n",
            "36/36 [==============================] - 3s 84ms/step - loss: 0.8567 - acc: 0.7541 - val_loss: 0.8955 - val_acc: 0.7456 - lr: 1.0000e-05\n",
            "Epoch 135/200\n",
            "36/36 [==============================] - 3s 85ms/step - loss: 0.8605 - acc: 0.7481 - val_loss: 0.9163 - val_acc: 0.7340 - lr: 1.0000e-05\n",
            "Epoch 136/200\n",
            "36/36 [==============================] - 3s 84ms/step - loss: 0.8645 - acc: 0.7545 - val_loss: 0.9383 - val_acc: 0.7204 - lr: 1.0000e-05\n",
            "Epoch 137/200\n",
            "36/36 [==============================] - 3s 84ms/step - loss: 0.8679 - acc: 0.7468 - val_loss: 0.8981 - val_acc: 0.7515 - lr: 1.0000e-05\n",
            "Epoch 138/200\n",
            "36/36 [==============================] - 3s 84ms/step - loss: 0.8495 - acc: 0.7557 - val_loss: 0.9143 - val_acc: 0.7417 - lr: 1.0000e-05\n",
            "Epoch 139/200\n",
            "36/36 [==============================] - 3s 83ms/step - loss: 0.8591 - acc: 0.7539 - val_loss: 0.9078 - val_acc: 0.7437 - lr: 1.0000e-05\n",
            "Epoch 140/200\n",
            "36/36 [==============================] - 3s 84ms/step - loss: 0.8585 - acc: 0.7537 - val_loss: 0.9039 - val_acc: 0.7417 - lr: 1.0000e-05\n",
            "Epoch 141/200\n",
            "36/36 [==============================] - 3s 84ms/step - loss: 0.8412 - acc: 0.7541 - val_loss: 0.9073 - val_acc: 0.7476 - lr: 1.0000e-05\n",
            "Epoch 142/200\n",
            "36/36 [==============================] - 3s 83ms/step - loss: 0.8596 - acc: 0.7481 - val_loss: 0.9006 - val_acc: 0.7437 - lr: 1.0000e-05\n",
            "Epoch 143/200\n",
            "36/36 [==============================] - 3s 83ms/step - loss: 0.8487 - acc: 0.7581 - val_loss: 0.9280 - val_acc: 0.7320 - lr: 1.0000e-05\n",
            "Epoch 144/200\n",
            "36/36 [==============================] - 3s 84ms/step - loss: 0.8554 - acc: 0.7514 - val_loss: 0.9087 - val_acc: 0.7417 - lr: 1.0000e-05\n",
            "Epoch 145/200\n",
            "36/36 [==============================] - 3s 84ms/step - loss: 0.8522 - acc: 0.7499 - val_loss: 0.9025 - val_acc: 0.7437 - lr: 1.0000e-05\n",
            "Epoch 146/200\n",
            "36/36 [==============================] - 3s 84ms/step - loss: 0.8574 - acc: 0.7486 - val_loss: 0.9021 - val_acc: 0.7456 - lr: 1.0000e-05\n",
            "Epoch 147/200\n",
            "36/36 [==============================] - 3s 83ms/step - loss: 0.8615 - acc: 0.7534 - val_loss: 0.9151 - val_acc: 0.7515 - lr: 1.0000e-05\n",
            "Epoch 148/200\n",
            "36/36 [==============================] - 3s 84ms/step - loss: 0.8575 - acc: 0.7554 - val_loss: 0.9035 - val_acc: 0.7476 - lr: 1.0000e-05\n",
            "Epoch 149/200\n",
            "36/36 [==============================] - 3s 83ms/step - loss: 0.8568 - acc: 0.7459 - val_loss: 0.9157 - val_acc: 0.7243 - lr: 1.0000e-05\n",
            "Epoch 150/200\n",
            "36/36 [==============================] - 3s 84ms/step - loss: 0.8553 - acc: 0.7508 - val_loss: 0.9009 - val_acc: 0.7301 - lr: 1.0000e-05\n",
            "Epoch 151/200\n",
            "36/36 [==============================] - 3s 83ms/step - loss: 0.8640 - acc: 0.7508 - val_loss: 0.9387 - val_acc: 0.7301 - lr: 1.0000e-05\n",
            "Epoch 152/200\n",
            "36/36 [==============================] - 3s 83ms/step - loss: 0.8551 - acc: 0.7497 - val_loss: 0.9168 - val_acc: 0.7398 - lr: 1.0000e-05\n",
            "Epoch 153/200\n",
            "36/36 [==============================] - 3s 84ms/step - loss: 0.8668 - acc: 0.7439 - val_loss: 0.9022 - val_acc: 0.7495 - lr: 1.0000e-05\n",
            "Epoch 154/200\n",
            "36/36 [==============================] - 3s 83ms/step - loss: 0.8537 - acc: 0.7554 - val_loss: 0.9031 - val_acc: 0.7359 - lr: 1.0000e-05\n",
            "Epoch 155/200\n",
            "36/36 [==============================] - 3s 84ms/step - loss: 0.8601 - acc: 0.7490 - val_loss: 0.9019 - val_acc: 0.7379 - lr: 1.0000e-05\n",
            "Epoch 156/200\n",
            "36/36 [==============================] - 3s 83ms/step - loss: 0.8627 - acc: 0.7463 - val_loss: 0.9284 - val_acc: 0.7282 - lr: 1.0000e-05\n",
            "Epoch 157/200\n",
            "36/36 [==============================] - 3s 83ms/step - loss: 0.8503 - acc: 0.7537 - val_loss: 0.9098 - val_acc: 0.7398 - lr: 1.0000e-05\n",
            "Epoch 158/200\n",
            "36/36 [==============================] - 3s 83ms/step - loss: 0.8652 - acc: 0.7537 - val_loss: 0.8995 - val_acc: 0.7456 - lr: 1.0000e-05\n",
            "Epoch 159/200\n",
            "36/36 [==============================] - 3s 84ms/step - loss: 0.8568 - acc: 0.7459 - val_loss: 0.9126 - val_acc: 0.7456 - lr: 1.0000e-05\n",
            "Epoch 160/200\n",
            "36/36 [==============================] - 3s 83ms/step - loss: 0.8638 - acc: 0.7450 - val_loss: 0.9245 - val_acc: 0.7417 - lr: 1.0000e-05\n",
            "Epoch 161/200\n",
            "36/36 [==============================] - 3s 83ms/step - loss: 0.8596 - acc: 0.7479 - val_loss: 0.9182 - val_acc: 0.7340 - lr: 1.0000e-05\n",
            "Epoch 162/200\n",
            "36/36 [==============================] - 3s 83ms/step - loss: 0.8490 - acc: 0.7550 - val_loss: 0.9020 - val_acc: 0.7456 - lr: 1.0000e-05\n",
            "Epoch 163/200\n",
            "36/36 [==============================] - 3s 83ms/step - loss: 0.8514 - acc: 0.7499 - val_loss: 0.8944 - val_acc: 0.7476 - lr: 1.0000e-05\n",
            "Epoch 164/200\n",
            "36/36 [==============================] - 3s 84ms/step - loss: 0.8594 - acc: 0.7512 - val_loss: 0.9049 - val_acc: 0.7515 - lr: 1.0000e-05\n",
            "Epoch 165/200\n",
            "36/36 [==============================] - 3s 83ms/step - loss: 0.8582 - acc: 0.7477 - val_loss: 0.9068 - val_acc: 0.7340 - lr: 1.0000e-05\n",
            "Epoch 166/200\n",
            "36/36 [==============================] - 3s 83ms/step - loss: 0.8650 - acc: 0.7468 - val_loss: 0.9132 - val_acc: 0.7456 - lr: 1.0000e-05\n",
            "Epoch 167/200\n",
            "36/36 [==============================] - 3s 83ms/step - loss: 0.8638 - acc: 0.7470 - val_loss: 0.9045 - val_acc: 0.7359 - lr: 1.0000e-05\n",
            "Epoch 168/200\n",
            "36/36 [==============================] - 3s 84ms/step - loss: 0.8588 - acc: 0.7470 - val_loss: 0.9006 - val_acc: 0.7379 - lr: 1.0000e-05\n",
            "Epoch 169/200\n",
            "36/36 [==============================] - 3s 84ms/step - loss: 0.8515 - acc: 0.7510 - val_loss: 0.8992 - val_acc: 0.7417 - lr: 1.0000e-05\n",
            "Epoch 170/200\n",
            "36/36 [==============================] - 3s 84ms/step - loss: 0.8603 - acc: 0.7510 - val_loss: 0.8966 - val_acc: 0.7515 - lr: 1.0000e-05\n",
            "Epoch 171/200\n",
            "36/36 [==============================] - 3s 83ms/step - loss: 0.8631 - acc: 0.7494 - val_loss: 0.9522 - val_acc: 0.7204 - lr: 1.0000e-05\n",
            "Epoch 172/200\n",
            "36/36 [==============================] - 3s 83ms/step - loss: 0.8595 - acc: 0.7506 - val_loss: 0.9396 - val_acc: 0.7204 - lr: 1.0000e-05\n",
            "Epoch 173/200\n",
            "36/36 [==============================] - 3s 84ms/step - loss: 0.8540 - acc: 0.7503 - val_loss: 0.8912 - val_acc: 0.7456 - lr: 1.0000e-05\n",
            "Epoch 174/200\n",
            "36/36 [==============================] - 3s 84ms/step - loss: 0.8578 - acc: 0.7519 - val_loss: 0.9026 - val_acc: 0.7417 - lr: 1.0000e-05\n",
            "Epoch 175/200\n",
            "36/36 [==============================] - 3s 83ms/step - loss: 0.8605 - acc: 0.7508 - val_loss: 0.9231 - val_acc: 0.7379 - lr: 1.0000e-05\n",
            "Epoch 176/200\n",
            "36/36 [==============================] - 3s 83ms/step - loss: 0.8650 - acc: 0.7428 - val_loss: 0.9051 - val_acc: 0.7437 - lr: 1.0000e-05\n",
            "Epoch 177/200\n",
            "36/36 [==============================] - 3s 84ms/step - loss: 0.8587 - acc: 0.7497 - val_loss: 0.9098 - val_acc: 0.7495 - lr: 1.0000e-05\n",
            "Epoch 178/200\n",
            "36/36 [==============================] - 3s 83ms/step - loss: 0.8625 - acc: 0.7474 - val_loss: 0.9200 - val_acc: 0.7359 - lr: 1.0000e-05\n",
            "Epoch 179/200\n",
            "36/36 [==============================] - 3s 85ms/step - loss: 0.8565 - acc: 0.7507 - val_loss: 0.9120 - val_acc: 0.7379 - lr: 1.0000e-05\n",
            "Epoch 180/200\n",
            "36/36 [==============================] - 3s 84ms/step - loss: 0.8631 - acc: 0.7521 - val_loss: 0.9374 - val_acc: 0.7262 - lr: 1.0000e-05\n",
            "Epoch 181/200\n",
            "36/36 [==============================] - 3s 84ms/step - loss: 0.8537 - acc: 0.7565 - val_loss: 0.9280 - val_acc: 0.7282 - lr: 1.0000e-05\n",
            "Epoch 182/200\n",
            "36/36 [==============================] - 3s 84ms/step - loss: 0.8620 - acc: 0.7477 - val_loss: 0.9093 - val_acc: 0.7320 - lr: 1.0000e-05\n",
            "Epoch 183/200\n",
            "36/36 [==============================] - 3s 85ms/step - loss: 0.8532 - acc: 0.7534 - val_loss: 0.9161 - val_acc: 0.7417 - lr: 1.0000e-05\n",
            "Epoch 184/200\n",
            "36/36 [==============================] - 3s 84ms/step - loss: 0.8573 - acc: 0.7492 - val_loss: 0.9029 - val_acc: 0.7437 - lr: 1.0000e-05\n",
            "Epoch 185/200\n",
            "36/36 [==============================] - 3s 84ms/step - loss: 0.8629 - acc: 0.7435 - val_loss: 0.9233 - val_acc: 0.7359 - lr: 1.0000e-05\n",
            "Epoch 186/200\n",
            "36/36 [==============================] - 3s 83ms/step - loss: 0.8648 - acc: 0.7479 - val_loss: 0.8995 - val_acc: 0.7437 - lr: 1.0000e-05\n",
            "Epoch 187/200\n",
            "36/36 [==============================] - 3s 84ms/step - loss: 0.8546 - acc: 0.7492 - val_loss: 0.9155 - val_acc: 0.7515 - lr: 1.0000e-05\n",
            "Epoch 188/200\n",
            "36/36 [==============================] - 3s 84ms/step - loss: 0.8592 - acc: 0.7472 - val_loss: 0.9331 - val_acc: 0.7223 - lr: 1.0000e-05\n",
            "Epoch 189/200\n",
            "36/36 [==============================] - 3s 84ms/step - loss: 0.8622 - acc: 0.7477 - val_loss: 0.9085 - val_acc: 0.7417 - lr: 1.0000e-05\n",
            "Epoch 190/200\n",
            "36/36 [==============================] - 3s 84ms/step - loss: 0.8467 - acc: 0.7557 - val_loss: 0.8981 - val_acc: 0.7398 - lr: 1.0000e-05\n",
            "Epoch 191/200\n",
            "36/36 [==============================] - 3s 84ms/step - loss: 0.8515 - acc: 0.7486 - val_loss: 0.9083 - val_acc: 0.7282 - lr: 1.0000e-05\n",
            "Epoch 192/200\n",
            "36/36 [==============================] - 3s 84ms/step - loss: 0.8541 - acc: 0.7499 - val_loss: 0.9088 - val_acc: 0.7282 - lr: 1.0000e-05\n",
            "Epoch 193/200\n",
            "36/36 [==============================] - 3s 84ms/step - loss: 0.8606 - acc: 0.7530 - val_loss: 0.8822 - val_acc: 0.7476 - lr: 1.0000e-05\n",
            "Epoch 194/200\n",
            "36/36 [==============================] - 3s 84ms/step - loss: 0.8620 - acc: 0.7488 - val_loss: 0.8975 - val_acc: 0.7495 - lr: 1.0000e-05\n",
            "Epoch 195/200\n",
            "36/36 [==============================] - 3s 84ms/step - loss: 0.8512 - acc: 0.7512 - val_loss: 0.9126 - val_acc: 0.7417 - lr: 1.0000e-05\n",
            "Epoch 196/200\n",
            "36/36 [==============================] - 3s 83ms/step - loss: 0.8571 - acc: 0.7512 - val_loss: 0.8935 - val_acc: 0.7437 - lr: 1.0000e-05\n",
            "Epoch 197/200\n",
            "36/36 [==============================] - 3s 84ms/step - loss: 0.8553 - acc: 0.7510 - val_loss: 0.9059 - val_acc: 0.7282 - lr: 1.0000e-05\n",
            "Epoch 198/200\n",
            "36/36 [==============================] - 3s 84ms/step - loss: 0.8579 - acc: 0.7508 - val_loss: 0.9078 - val_acc: 0.7495 - lr: 1.0000e-05\n",
            "Epoch 199/200\n",
            "36/36 [==============================] - 3s 83ms/step - loss: 0.8563 - acc: 0.7532 - val_loss: 0.9015 - val_acc: 0.7515 - lr: 1.0000e-05\n",
            "Epoch 200/200\n",
            "36/36 [==============================] - 3s 84ms/step - loss: 0.8610 - acc: 0.7488 - val_loss: 0.9079 - val_acc: 0.7340 - lr: 1.0000e-05\n"
          ],
          "name": "stdout"
        }
      ]
    },
    {
      "cell_type": "code",
      "metadata": {
        "id": "xI39Sx-kYyUx",
        "colab_type": "code",
        "colab": {}
      },
      "source": [
        "wrn_16_2.save(\"wrn_model.h5\")"
      ],
      "execution_count": 21,
      "outputs": []
    },
    {
      "cell_type": "markdown",
      "metadata": {
        "id": "djH4uwAnvkfb",
        "colab_type": "text"
      },
      "source": [
        "**Visualization**"
      ]
    },
    {
      "cell_type": "code",
      "metadata": {
        "id": "lr_quzDGwKGM",
        "colab_type": "code",
        "colab": {
          "base_uri": "https://localhost:8080/",
          "height": 608
        },
        "outputId": "079f2b6e-ad58-4fa5-c07e-aca64c4ff973"
      },
      "source": [
        "import matplotlib.pyplot as plt\n",
        "\n",
        "history = hist\n",
        "print(history.history.keys())\n",
        "# summarize history for accuracy\n",
        "plt.plot(history.history['acc'])\n",
        "plt.plot(history.history['val_acc'])\n",
        "plt.title('model accuracy')\n",
        "plt.ylabel('accuracy')\n",
        "plt.xlabel('epoch')\n",
        "plt.legend(['train', 'test'], loc='upper left')\n",
        "plt.show()\n",
        "plt.savefig(\"wrn_tensor.png\")\n",
        "# summarize history for loss\n",
        "plt.plot(history.history['loss'])\n",
        "plt.plot(history.history['val_loss'])\n",
        "plt.title('model loss')\n",
        "plt.ylabel('loss')\n",
        "plt.xlabel('epoch')\n",
        "plt.legend(['train', 'test'], loc='upper left')\n",
        "plt.show()\n",
        "plt.savefig(\"deneme.png\")"
      ],
      "execution_count": 22,
      "outputs": [
        {
          "output_type": "stream",
          "text": [
            "dict_keys(['loss', 'acc', 'val_loss', 'val_acc', 'lr'])\n"
          ],
          "name": "stdout"
        },
        {
          "output_type": "display_data",
          "data": {
            "image/png": "[encoded data removed]",
            "text/plain": [
              "<Figure size 432x288 with 1 Axes>"
            ]
          },
          "metadata": {
            "tags": [],
            "needs_background": "light"
          }
        },
        {
          "output_type": "display_data",
          "data": {
            "image/png": "[encoded data removed]",
            "text/plain": [
              "<Figure size 432x288 with 1 Axes>"
            ]
          },
          "metadata": {
            "tags": [],
            "needs_background": "light"
          }
        },
        {
          "output_type": "display_data",
          "data": {
            "text/plain": [
              "<Figure size 432x288 with 0 Axes>"
            ]
          },
          "metadata": {
            "tags": []
          }
        }
      ]
    },
    {
      "cell_type": "code",
      "metadata": {
        "id": "iE16jXuZw8xb",
        "colab_type": "code",
        "colab": {
          "base_uri": "https://localhost:8080/",
          "height": 52
        },
        "outputId": "f053822f-0ce6-49fa-c1f8-0810d6e606d2"
      },
      "source": [
        "wrn_16_2.evaluate(X_test,y_test)"
      ],
      "execution_count": 23,
      "outputs": [
        {
          "output_type": "stream",
          "text": [
            "18/18 [==============================] - 0s 19ms/step - loss: 0.9118 - acc: 0.7435\n"
          ],
          "name": "stdout"
        },
        {
          "output_type": "execute_result",
          "data": {
            "text/plain": [
              "[0.9118168950080872, 0.7434554696083069]"
            ]
          },
          "metadata": {
            "tags": []
          },
          "execution_count": 23
        }
      ]
    },
    {
      "cell_type": "markdown",
      "metadata": {
        "id": "vEDHJIheU8bm",
        "colab_type": "text"
      },
      "source": [
        "# Adversarial Examples\n"
      ]
    },
    {
      "cell_type": "code",
      "metadata": {
        "id": "5QB8zFSSU7Qy",
        "colab_type": "code",
        "colab": {
          "base_uri": "https://localhost:8080/",
          "height": 749
        },
        "outputId": "1b3dc3c2-f4ae-4d60-8c6d-7abf3aa05fcd"
      },
      "source": [
        "!pip install -q tensorflow==2.0.0b1\n",
        "# Install bleeding edge version of cleverhans\n",
        "!pip install git+https://github.com/tensorflow/cleverhans.git#egg=cleverhans\n",
        "\n",
        "import cleverhans\n",
        "import tensorflow as tf\n",
        "import numpy as np\n",
        "import matplotlib.pyplot as plt\n",
        "\n",
        "print(\"\\nTensorflow Version: \" + tf.__version__)\n",
        "print(\"Cleverhans Version: \" + cleverhans.__version__)\n",
        "print(\"GPU Available: \", tf.test.is_gpu_available())"
      ],
      "execution_count": 24,
      "outputs": [
        {
          "output_type": "stream",
          "text": [
            "\u001b[K     |████████████████████████████████| 87.9MB 120kB/s \n",
            "\u001b[K     |████████████████████████████████| 3.1MB 40.9MB/s \n",
            "\u001b[K     |████████████████████████████████| 501kB 44.0MB/s \n",
            "\u001b[?25hCollecting cleverhans\n",
            "  Cloning https://github.com/tensorflow/cleverhans.git to /tmp/pip-install-9y8oajjf/cleverhans\n",
            "  Running command git clone -q https://github.com/tensorflow/cleverhans.git /tmp/pip-install-9y8oajjf/cleverhans\n",
            "Collecting nose\n",
            "\u001b[?25l  Downloading https://files.pythonhosted.org/packages/15/d8/dd071918c040f50fa1cf80da16423af51ff8ce4a0f2399b7bf8de45ac3d9/nose-1.3.7-py3-none-any.whl (154kB)\n",
            "\u001b[K     |████████████████████████████████| 163kB 6.6MB/s \n",
            "\u001b[?25hCollecting pycodestyle\n",
            "\u001b[?25l  Downloading https://files.pythonhosted.org/packages/10/5b/88879fb861ab79aef45c7e199cae3ef7af487b5603dcb363517a50602dd7/pycodestyle-2.6.0-py2.py3-none-any.whl (41kB)\n",
            "\u001b[K     |████████████████████████████████| 51kB 4.4MB/s \n",
            "\u001b[?25hRequirement already satisfied: scipy in /usr/local/lib/python3.6/dist-packages (from cleverhans) (1.4.1)\n",
            "Requirement already satisfied: matplotlib in /usr/local/lib/python3.6/dist-packages (from cleverhans) (3.2.1)\n",
            "Collecting mnist~=0.2\n",
            "  Downloading https://files.pythonhosted.org/packages/c6/c4/5db3bfe009f8d71f1d532bbadbd0ec203764bba3a469e4703a889db8e5e0/mnist-0.2.2-py2.py3-none-any.whl\n",
            "Requirement already satisfied: numpy in /usr/local/lib/python3.6/dist-packages (from cleverhans) (1.18.5)\n",
            "Requirement already satisfied: tensorflow-probability in /usr/local/lib/python3.6/dist-packages (from cleverhans) (0.10.0)\n",
            "Requirement already satisfied: joblib in /usr/local/lib/python3.6/dist-packages (from cleverhans) (0.15.1)\n",
            "Requirement already satisfied: pyparsing!=2.0.4,!=2.1.2,!=2.1.6,>=2.0.1 in /usr/local/lib/python3.6/dist-packages (from matplotlib->cleverhans) (2.4.7)\n",
            "Requirement already satisfied: kiwisolver>=1.0.1 in /usr/local/lib/python3.6/dist-packages (from matplotlib->cleverhans) (1.2.0)\n",
            "Requirement already satisfied: cycler>=0.10 in /usr/local/lib/python3.6/dist-packages (from matplotlib->cleverhans) (0.10.0)\n",
            "Requirement already satisfied: python-dateutil>=2.1 in /usr/local/lib/python3.6/dist-packages (from matplotlib->cleverhans) (2.8.1)\n",
            "Requirement already satisfied: six>=1.10.0 in /usr/local/lib/python3.6/dist-packages (from tensorflow-probability->cleverhans) (1.12.0)\n",
            "Requirement already satisfied: decorator in /usr/local/lib/python3.6/dist-packages (from tensorflow-probability->cleverhans) (4.4.2)\n",
            "Requirement already satisfied: gast>=0.3.2 in /usr/local/lib/python3.6/dist-packages (from tensorflow-probability->cleverhans) (0.3.3)\n",
            "Requirement already satisfied: cloudpickle>=1.2.2 in /usr/local/lib/python3.6/dist-packages (from tensorflow-probability->cleverhans) (1.3.0)\n",
            "Building wheels for collected packages: cleverhans\n",
            "  Building wheel for cleverhans (setup.py) ... \u001b[?25l\u001b[?25hdone\n",
            "  Created wheel for cleverhans: filename=cleverhans-3.0.1-cp36-none-any.whl size=262572 sha256=f1ef3008478b66c6c172ff0a2f8c3083f29e0582c22cedf91c3ea9c516f6b3a8\n",
            "  Stored in directory: /tmp/pip-ephem-wheel-cache-cfvjxosq/wheels/6e/59/ec/723a6f654aaf62c8c40f0f0850fdf71a4948598697f56c3bfa\n",
            "Successfully built cleverhans\n",
            "Installing collected packages: nose, pycodestyle, mnist, cleverhans\n",
            "Successfully installed cleverhans-3.0.1 mnist-0.2.2 nose-1.3.7 pycodestyle-2.6.0\n",
            "\n",
            "Tensorflow Version: 2.2.0\n",
            "Cleverhans Version: 3.0.1-fc7b7c7ec903258e0e3fb88503fa629f\n",
            "WARNING:tensorflow:From <ipython-input-24-67a2c783edbc>:12: is_gpu_available (from tensorflow.python.framework.test_util) is deprecated and will be removed in a future version.\n",
            "Instructions for updating:\n",
            "Use `tf.config.list_physical_devices('GPU')` instead.\n",
            "GPU Available:  True\n"
          ],
          "name": "stdout"
        }
      ]
    },
    {
      "cell_type": "code",
      "metadata": {
        "id": "2_bfZ4G8W_sM",
        "colab_type": "code",
        "colab": {}
      },
      "source": [
        "from cleverhans.future.tf2.attacks import fast_gradient_method\n",
        "\n",
        "#The attack requires the model to ouput the logits\n",
        "\n",
        "logits_model = tf.keras.Model(wrn_16_2.input,wrn_16_2.layers[-1].output)"
      ],
      "execution_count": 25,
      "outputs": []
    },
    {
      "cell_type": "code",
      "metadata": {
        "id": "gGWIlakqVD_i",
        "colab_type": "code",
        "colab": {}
      },
      "source": [
        "X_adv = []\n",
        "epsilon_list = [0.003]\n",
        "for j in range(len(epsilon_list)):\n",
        "  epsilon = epsilon_list[j]\n",
        "  for i in range(len(X_test)):\n",
        "    random_index = i\n",
        "    original_image = X_test[random_index]\n",
        "    original_image = tf.convert_to_tensor(original_image.reshape((1,32,32))) #The .reshape just gives it the proper form to input into the model, a batch of 1 a.k.a a tensor\n",
        "    original_label = y_test[random_index]\n",
        "    original_label = np.reshape(np.argmax(original_label), (1,)).astype('int64')\n",
        "    adv_example_targeted_label = fast_gradient_method(logits_model, original_image, epsilon, np.inf,y=original_label, targeted=False)\n",
        "    X_adv.append(np.array(adv_example_targeted_label).reshape(32,32,1))"
      ],
      "execution_count": 217,
      "outputs": []
    },
    {
      "cell_type": "code",
      "metadata": {
        "id": "O8XZJIGBkUku",
        "colab_type": "code",
        "colab": {
          "base_uri": "https://localhost:8080/",
          "height": 52
        },
        "outputId": "0a01ae22-955a-4cfa-f577-16d3ec78720c"
      },
      "source": [
        "  X_adv = np.array(X_adv)\n",
        "  print(\"epsilon: {} and test evalution : {}\".format(epsilon,wrn_16_2.evaluate(X_adv,y_test)))"
      ],
      "execution_count": 218,
      "outputs": [
        {
          "output_type": "stream",
          "text": [
            "18/18 [==============================] - 0s 13ms/step - loss: 1.0164 - acc: 0.7086\n",
            "epsilon: 0.003 and test evalution : [1.016408920288086, 0.7085514664649963]\n"
          ],
          "name": "stdout"
        }
      ]
    },
    {
      "cell_type": "code",
      "metadata": {
        "id": "SB2PbXrudUWL",
        "colab_type": "code",
        "colab": {
          "base_uri": "https://localhost:8080/",
          "height": 34
        },
        "outputId": "1095dfa1-7b14-4bd0-c803-233f6984270a"
      },
      "source": [
        "20*np.log10(np.linalg.norm(X_test)/np.linalg.norm(X_test-X_adv))"
      ],
      "execution_count": null,
      "outputs": [
        {
          "output_type": "execute_result",
          "data": {
            "text/plain": [
              "50.228538513183594"
            ]
          },
          "metadata": {
            "tags": []
          },
          "execution_count": 93
        }
      ]
    },
    {
      "cell_type": "code",
      "metadata": {
        "id": "M1DCXV9Tc9B0",
        "colab_type": "code",
        "colab": {
          "base_uri": "https://localhost:8080/",
          "height": 51
        },
        "outputId": "492ad00d-dbd5-462a-8cf8-917b151bf2f7"
      },
      "source": [
        "  X_adv = np.array(X_adv)\n",
        "  print(\"epsilon: {} and test evalution : {}\".format(epsilon,wrn_16_2.evaluate(X_adv,y_test)))"
      ],
      "execution_count": null,
      "outputs": [
        {
          "output_type": "stream",
          "text": [
            "18/18 [==============================] - 0s 13ms/step - loss: 1.1244 - acc: 0.6614\n",
            "epsilon: 0.005 and test evalution : [1.124449372291565, 0.661431074142456]\n"
          ],
          "name": "stdout"
        }
      ]
    },
    {
      "cell_type": "code",
      "metadata": {
        "id": "WGgsDCDodU_P",
        "colab_type": "code",
        "colab": {
          "base_uri": "https://localhost:8080/",
          "height": 34
        },
        "outputId": "3686bfaa-b695-4e0b-e6d4-352d3be899b4"
      },
      "source": [
        "20*np.log10(np.linalg.norm(X_test)/np.linalg.norm(X_test-X_adv))"
      ],
      "execution_count": null,
      "outputs": [
        {
          "output_type": "execute_result",
          "data": {
            "text/plain": [
              "45.79124450683594"
            ]
          },
          "metadata": {
            "tags": []
          },
          "execution_count": 97
        }
      ]
    },
    {
      "cell_type": "code",
      "metadata": {
        "id": "Q7Ah3eA2kYBp",
        "colab_type": "code",
        "colab": {
          "base_uri": "https://localhost:8080/",
          "height": 51
        },
        "outputId": "28105974-2f9c-475d-dfab-d5a402d223f0"
      },
      "source": [
        "  X_adv = np.array(X_adv)\n",
        "  print(\"epsilon: {} and test evalution : {}\".format(epsilon,wrn_16_2.evaluate(X_adv,y_test)))"
      ],
      "execution_count": null,
      "outputs": [
        {
          "output_type": "stream",
          "text": [
            "18/18 [==============================] - 0s 12ms/step - loss: 1.3272 - acc: 0.5689\n",
            "epsilon: 0.01 and test evalution : [1.3272491693496704, 0.5689354538917542]\n"
          ],
          "name": "stdout"
        }
      ]
    },
    {
      "cell_type": "code",
      "metadata": {
        "id": "YjfdNA70dVoW",
        "colab_type": "code",
        "colab": {
          "base_uri": "https://localhost:8080/",
          "height": 34
        },
        "outputId": "823284d4-c58c-40dd-88a1-3857d942695c"
      },
      "source": [
        "20*np.log10(np.linalg.norm(X_test)/np.linalg.norm(X_test-X_adv))"
      ],
      "execution_count": null,
      "outputs": [
        {
          "output_type": "execute_result",
          "data": {
            "text/plain": [
              "39.77065086364746"
            ]
          },
          "metadata": {
            "tags": []
          },
          "execution_count": 100
        }
      ]
    },
    {
      "cell_type": "code",
      "metadata": {
        "id": "Xed10n0QmMqr",
        "colab_type": "code",
        "colab": {
          "base_uri": "https://localhost:8080/",
          "height": 51
        },
        "outputId": "b80f9c7d-4342-4724-d02d-ee56a1eb2b24"
      },
      "source": [
        "  X_adv = np.array(X_adv)\n",
        "  print(\"epsilon: {} and test evalution : {}\".format(epsilon,wrn_16_2.evaluate(X_adv,y_test)))"
      ],
      "execution_count": null,
      "outputs": [
        {
          "output_type": "stream",
          "text": [
            "18/18 [==============================] - 0s 13ms/step - loss: 1.7637 - acc: 0.4642\n",
            "epsilon: 0.02 and test evalution : [1.7636723518371582, 0.46422338485717773]\n"
          ],
          "name": "stdout"
        }
      ]
    },
    {
      "cell_type": "code",
      "metadata": {
        "id": "RbqrQrSZdWX6",
        "colab_type": "code",
        "colab": {
          "base_uri": "https://localhost:8080/",
          "height": 34
        },
        "outputId": "149bfd90-9342-47ea-a757-4796ebd05a8d"
      },
      "source": [
        "20*np.log10(np.linalg.norm(X_test)/np.linalg.norm(X_test-X_adv))"
      ],
      "execution_count": null,
      "outputs": [
        {
          "output_type": "execute_result",
          "data": {
            "text/plain": [
              "33.75005006790161"
            ]
          },
          "metadata": {
            "tags": []
          },
          "execution_count": 103
        }
      ]
    },
    {
      "cell_type": "markdown",
      "metadata": {
        "id": "ZuWpwrKuwmsc",
        "colab_type": "text"
      },
      "source": [
        "# Adversarial Training"
      ]
    },
    {
      "cell_type": "code",
      "metadata": {
        "id": "0p3bOQqOO5yX",
        "colab_type": "code",
        "colab": {}
      },
      "source": [
        "def adversarial_example(epsilon):\n",
        "  X_adv = []\n",
        "  for i in range(len(X_test)):\n",
        "    random_index = i\n",
        "    original_image = X_test[random_index]\n",
        "    original_image = tf.convert_to_tensor(original_image.reshape((1,32,32))) #The .reshape just gives it the proper form to input into the model, a batch of 1 a.k.a a tensor\n",
        "    original_label = y_test[random_index]\n",
        "    original_label = np.reshape(np.argmax(original_label), (1,)).astype('int64')\n",
        "    adv_example_targeted_label = fast_gradient_method(logits_model, original_image, epsilon, np.inf,y=original_label, targeted=False)\n",
        "    X_adv.append(np.array(adv_example_targeted_label).reshape(32,32,1))\n",
        "  return X_adv\n"
      ],
      "execution_count": null,
      "outputs": []
    },
    {
      "cell_type": "markdown",
      "metadata": {
        "id": "FOvOBknOPTHx",
        "colab_type": "text"
      },
      "source": [
        "**Mini batch training**"
      ]
    },
    {
      "cell_type": "code",
      "metadata": {
        "id": "MDxVNgZvPRHP",
        "colab_type": "code",
        "colab": {}
      },
      "source": [
        "\"\"\" Adversarial Training \"\"\"\n",
        "\n",
        "import numpy as np\n",
        "class AdversarialTraining(object):\n",
        "    \"\"\"Adversarial Training  \"\"\"\n",
        "    def __init__(self):\n",
        "        pass\n",
        "    def train(self, model, pretrained_model, X_train, Y_train, X_val, Y_val, epochs, batch_size, epsilon_list):\n",
        "        \n",
        "        x_train, y_train = self.data_augmentation(X_train, Y_train, BS, pretrained_model, epsilon_list)\n",
        "        x_val, y_val = self.data_augmentation(X_val, Y_val, BS, pretrained_model, epsilon_list)\n",
        "        \n",
        "        hist = model.fit(generator.flow(X_train, y_train, batch_size=BS), steps_per_epoch=len(X_train) // BS, epochs=epochs,\n",
        "                   callbacks = [lr_scheduler],\n",
        "                   validation_data=(x_val, y_val),\n",
        "                   validation_steps=x_val.shape[0] // BS,)\n",
        "        return model\n",
        "    def mini_batch_train(self, model, X_train,y_train, x_val, y_val, BS, pretrained_model, epsilon):\n",
        "\n",
        "\n",
        "        hist = model.fit(generator.flow(X_train, y_train, batch_size=BS), steps_per_epoch=len(X_train) // BS, epochs=1,\n",
        "                   validation_data=(x_val, y_val),\n",
        "                   validation_steps=x_val.shape[0] // BS, shuffle = True)\n",
        "        \n",
        "        ### TODO ###\n",
        "        ## Save hist on file.###\n",
        "\n",
        "\n",
        "    def data_augmentation(self, X_train, Y_train, batch_size, pretrained_model, epsilon_list):\n",
        "      ### divide data 16,16,16,16 for 4 different epsilons and 64 is true image. ### \n",
        "        #start_index = self.data_iteration(X_train, batch_size)\n",
        "        first_half_end = int(len(X_train)/2)\n",
        "        second_half_end = int(len(X_train))\n",
        "        x_clean = X_train[0:first_half_end,:,:,:]\n",
        "        x_adv = self.get_adversarial(X_train[first_half_end:second_half_end,:,:,:], Y_train[first_half_end:second_half_end], epsilon_list)\n",
        "        x_mix = self.merge_data(x_clean, x_adv)\n",
        "        y_mix = Y_train[0:second_half_end]\n",
        "        ### TODO###\n",
        "        # Mixture data for 4 epsilon values\n",
        "\n",
        "        return x_mix, y_mix\n",
        "\n",
        "    def data_iteration(self, X_train, batch_size):\n",
        "        N = X_train.shape[0]\n",
        "        start = np.random.randint(0, N-batch_size)\n",
        "        return start\n",
        "\n",
        "    def merge_data(self, x_clean, x_adv):\n",
        "        x_mix = []\n",
        "        for i in range(len(x_clean)):\n",
        "          x_mix.append(x_clean[i])\n",
        "        for j in range(len(x_adv)):\n",
        "          x_mix.append(x_adv[j])\n",
        "        x_mix = np.array(x_mix)\n",
        "        print(x_mix.shape)\n",
        "\n",
        "        return x_mix\n",
        "\n",
        "\n",
        "    def get_adversarial(self, X_true, y_true, epsilon_list):\n",
        "\n",
        "        return self.adversarial_example(X_true, y_true, epsilon_list)\n",
        "\n",
        "    def adversarial_example(self, X_true, Y_true, epsilon_list):\n",
        "        size = len(X_true)\n",
        "        X_adv = []\n",
        "        interval = int(size/4)\n",
        "        index_list = [0,interval, interval*2, interval*3, size]\n",
        "        index = 0\n",
        "        for epsilon in epsilon_list:\n",
        "          print(index)\n",
        "          if index == 4:\n",
        "            break\n",
        "          x_true = X_true[index_list[index]:index_list[index+1],:,:,:]\n",
        "          y_true = Y_true[index_list[index]:index_list[index+1]]\n",
        "\n",
        "          index = index + 1\n",
        "\n",
        "          for i in range(len(x_true)):\n",
        "            random_index = i\n",
        "            original_image = x_true[random_index]\n",
        "            original_image = tf.convert_to_tensor(original_image.reshape((1,32,32))) #The .reshape just gives it the proper form to input into the model, a batch of 1 a.k.a a tensor\n",
        "            original_label = y_true[random_index]\n",
        "            original_label = np.reshape(np.argmax(original_label), (1,)).astype('int64')\n",
        "            adv_example_targeted_label = fast_gradient_method(logits_model, original_image, epsilon, np.inf,y=original_label, targeted=False)\n",
        "            X_adv.append(np.array(adv_example_targeted_label).reshape(32,32,1))\n",
        "          \n",
        "        X_adv = np.array(X_adv)\n",
        "        return X_adv\n"
      ],
      "execution_count": 204,
      "outputs": []
    },
    {
      "cell_type": "markdown",
      "metadata": {
        "id": "SW5vG0s9PAmw",
        "colab_type": "text"
      },
      "source": [
        "Adversarial Training Second Wide ResNet "
      ]
    },
    {
      "cell_type": "code",
      "metadata": {
        "id": "zaOvrHuAOuS0",
        "colab_type": "code",
        "colab": {
          "base_uri": "https://localhost:8080/",
          "height": 69
        },
        "outputId": "71d2e3ce-4353-47e5-c75f-a291defd0ece"
      },
      "source": [
        "wrn_adv_16_2 = create_wide_residual_network(init, nb_classes=4, N=2, k=2, dropout=0.5)\n",
        "\n",
        "#wrn_adv_16_2.summary()"
      ],
      "execution_count": 207,
      "outputs": [
        {
          "output_type": "stream",
          "text": [
            "conv2:channel:  -1\n",
            "conv3 channel_axis:-1 \n",
            "Wide Residual Network-16-2 created.\n"
          ],
          "name": "stdout"
        }
      ]
    },
    {
      "cell_type": "code",
      "metadata": {
        "id": "DdZqOMNvOqTa",
        "colab_type": "code",
        "colab": {
          "base_uri": "https://localhost:8080/",
          "height": 34
        },
        "outputId": "43c15464-ea74-4e73-cc52-d0d68c5311d8"
      },
      "source": [
        "wrn_adv_16_2.compile(loss=\"categorical_crossentropy\", optimizer=sgd, metrics=[\"acc\"])\n",
        "print(\"Finished compiling\")"
      ],
      "execution_count": 208,
      "outputs": [
        {
          "output_type": "stream",
          "text": [
            "Finished compiling\n"
          ],
          "name": "stdout"
        }
      ]
    },
    {
      "cell_type": "code",
      "metadata": {
        "id": "4xuZWpx-70n6",
        "colab_type": "code",
        "colab": {}
      },
      "source": [
        "epsilon_list = [0.003,0.005,0.01,0.02]"
      ],
      "execution_count": 209,
      "outputs": []
    },
    {
      "cell_type": "code",
      "metadata": {
        "id": "UR3373MWPvSY",
        "colab_type": "code",
        "colab": {}
      },
      "source": [
        "adversarial_training =  AdversarialTraining()"
      ],
      "execution_count": 210,
      "outputs": []
    },
    {
      "cell_type": "code",
      "metadata": {
        "id": "i82EfjWHP2mv",
        "colab_type": "code",
        "colab": {
          "base_uri": "https://localhost:8080/",
          "height": 1000
        },
        "outputId": "69a0ac3a-e023-4579-96c8-0fd7506acf33"
      },
      "source": [
        "adversarial_training.train(wrn_adv_16_2, logits_model, X_train, y_train, X_val, y_val, 50, BS, epsilon_list)"
      ],
      "execution_count": 211,
      "outputs": [
        {
          "output_type": "stream",
          "text": [
            "0\n",
            "1\n",
            "2\n",
            "3\n",
            "(4634, 32, 32, 1)\n",
            "0\n",
            "1\n",
            "2\n",
            "3\n",
            "(515, 32, 32, 1)\n",
            "Epoch 1/50\n",
            "36/36 [==============================] - 4s 97ms/step - loss: 1.5970 - acc: 0.2980 - val_loss: 1.5647 - val_acc: 0.3320 - lr: 0.1000\n",
            "Epoch 2/50\n",
            "36/36 [==============================] - 3s 85ms/step - loss: 1.5252 - acc: 0.3604 - val_loss: 1.4601 - val_acc: 0.3534 - lr: 0.1000\n",
            "Epoch 3/50\n",
            "36/36 [==============================] - 3s 86ms/step - loss: 1.4880 - acc: 0.3704 - val_loss: 1.4702 - val_acc: 0.3553 - lr: 0.1000\n",
            "Epoch 4/50\n",
            "36/36 [==============================] - 3s 85ms/step - loss: 1.4690 - acc: 0.3806 - val_loss: 1.4531 - val_acc: 0.3631 - lr: 0.1000\n",
            "Epoch 5/50\n",
            "36/36 [==============================] - 3s 84ms/step - loss: 1.4490 - acc: 0.3855 - val_loss: 1.4210 - val_acc: 0.4466 - lr: 0.1000\n",
            "Epoch 6/50\n",
            "36/36 [==============================] - 3s 84ms/step - loss: 1.4349 - acc: 0.4037 - val_loss: 1.5277 - val_acc: 0.3631 - lr: 0.1000\n",
            "Epoch 7/50\n",
            "36/36 [==============================] - 3s 85ms/step - loss: 1.4182 - acc: 0.4265 - val_loss: 1.4105 - val_acc: 0.4311 - lr: 0.1000\n",
            "Epoch 8/50\n",
            "36/36 [==============================] - 3s 84ms/step - loss: 1.4079 - acc: 0.4434 - val_loss: 1.3614 - val_acc: 0.4680 - lr: 0.1000\n",
            "Epoch 9/50\n",
            "36/36 [==============================] - 3s 85ms/step - loss: 1.3753 - acc: 0.4889 - val_loss: 2.0882 - val_acc: 0.3456 - lr: 0.1000\n",
            "Epoch 10/50\n",
            "36/36 [==============================] - 3s 85ms/step - loss: 1.3720 - acc: 0.4996 - val_loss: 1.3378 - val_acc: 0.5204 - lr: 0.1000\n",
            "Epoch 11/50\n",
            "36/36 [==============================] - 3s 84ms/step - loss: 1.3145 - acc: 0.5315 - val_loss: 1.3646 - val_acc: 0.4835 - lr: 0.1000\n",
            "Epoch 12/50\n",
            "36/36 [==============================] - 3s 84ms/step - loss: 1.2948 - acc: 0.5422 - val_loss: 1.2550 - val_acc: 0.5709 - lr: 0.1000\n",
            "Epoch 13/50\n",
            "36/36 [==============================] - 3s 84ms/step - loss: 1.2604 - acc: 0.5617 - val_loss: 1.5086 - val_acc: 0.4408 - lr: 0.1000\n",
            "Epoch 14/50\n",
            "36/36 [==============================] - 3s 84ms/step - loss: 1.2355 - acc: 0.5788 - val_loss: 1.4166 - val_acc: 0.5087 - lr: 0.1000\n",
            "Epoch 15/50\n",
            "36/36 [==============================] - 3s 84ms/step - loss: 1.2121 - acc: 0.5881 - val_loss: 1.4509 - val_acc: 0.4874 - lr: 0.1000\n",
            "Epoch 16/50\n",
            "36/36 [==============================] - 3s 84ms/step - loss: 1.1882 - acc: 0.5985 - val_loss: 1.1897 - val_acc: 0.5864 - lr: 0.1000\n",
            "Epoch 17/50\n",
            "36/36 [==============================] - 3s 83ms/step - loss: 1.1377 - acc: 0.6183 - val_loss: 1.2916 - val_acc: 0.5650 - lr: 0.1000\n",
            "Epoch 18/50\n",
            "36/36 [==============================] - 3s 84ms/step - loss: 1.1488 - acc: 0.6176 - val_loss: 1.8775 - val_acc: 0.4252 - lr: 0.1000\n",
            "Epoch 19/50\n",
            "36/36 [==============================] - 3s 84ms/step - loss: 1.1171 - acc: 0.6391 - val_loss: 1.3887 - val_acc: 0.5359 - lr: 0.1000\n",
            "Epoch 20/50\n",
            "36/36 [==============================] - 3s 83ms/step - loss: 1.0752 - acc: 0.6531 - val_loss: 1.1956 - val_acc: 0.5864 - lr: 0.1000\n",
            "Epoch 21/50\n",
            "36/36 [==============================] - 3s 84ms/step - loss: 1.0519 - acc: 0.6622 - val_loss: 1.2045 - val_acc: 0.6194 - lr: 0.1000\n",
            "Epoch 22/50\n",
            "36/36 [==============================] - 3s 83ms/step - loss: 1.0350 - acc: 0.6671 - val_loss: 1.2078 - val_acc: 0.6136 - lr: 0.1000\n",
            "Epoch 23/50\n",
            "36/36 [==============================] - 3s 85ms/step - loss: 1.0386 - acc: 0.6662 - val_loss: 1.3412 - val_acc: 0.5961 - lr: 0.1000\n",
            "Epoch 24/50\n",
            "36/36 [==============================] - 3s 84ms/step - loss: 0.9977 - acc: 0.6904 - val_loss: 1.2680 - val_acc: 0.5942 - lr: 0.1000\n",
            "Epoch 25/50\n",
            "36/36 [==============================] - 3s 84ms/step - loss: 0.9904 - acc: 0.6982 - val_loss: 1.3116 - val_acc: 0.6000 - lr: 0.1000\n",
            "Epoch 26/50\n",
            "36/36 [==============================] - 3s 84ms/step - loss: 0.9910 - acc: 0.6964 - val_loss: 1.1185 - val_acc: 0.6563 - lr: 0.1000\n",
            "Epoch 27/50\n",
            "36/36 [==============================] - 3s 84ms/step - loss: 0.9665 - acc: 0.7028 - val_loss: 1.0436 - val_acc: 0.6913 - lr: 0.1000\n",
            "Epoch 28/50\n",
            "36/36 [==============================] - 3s 84ms/step - loss: 0.9577 - acc: 0.7037 - val_loss: 1.1330 - val_acc: 0.6330 - lr: 0.1000\n",
            "Epoch 29/50\n",
            "36/36 [==============================] - 3s 83ms/step - loss: 0.9482 - acc: 0.7086 - val_loss: 1.1606 - val_acc: 0.6233 - lr: 0.1000\n",
            "Epoch 30/50\n",
            "36/36 [==============================] - 3s 84ms/step - loss: 0.9350 - acc: 0.7144 - val_loss: 0.9852 - val_acc: 0.7184 - lr: 0.1000\n",
            "Epoch 31/50\n",
            "36/36 [==============================] - 3s 83ms/step - loss: 0.9190 - acc: 0.7186 - val_loss: 1.0046 - val_acc: 0.7126 - lr: 0.0010\n",
            "Epoch 32/50\n",
            "36/36 [==============================] - 3s 84ms/step - loss: 0.8824 - acc: 0.7417 - val_loss: 0.9653 - val_acc: 0.7282 - lr: 0.0010\n",
            "Epoch 33/50\n",
            "36/36 [==============================] - 3s 85ms/step - loss: 0.8850 - acc: 0.7335 - val_loss: 0.9672 - val_acc: 0.7243 - lr: 0.0010\n",
            "Epoch 34/50\n",
            "36/36 [==============================] - 3s 83ms/step - loss: 0.8682 - acc: 0.7461 - val_loss: 0.9990 - val_acc: 0.7049 - lr: 0.0010\n",
            "Epoch 35/50\n",
            "36/36 [==============================] - 3s 83ms/step - loss: 0.8639 - acc: 0.7419 - val_loss: 0.9658 - val_acc: 0.7146 - lr: 0.0010\n",
            "Epoch 36/50\n",
            "36/36 [==============================] - 3s 83ms/step - loss: 0.8655 - acc: 0.7410 - val_loss: 0.9933 - val_acc: 0.6990 - lr: 0.0010\n",
            "Epoch 37/50\n",
            "36/36 [==============================] - 3s 83ms/step - loss: 0.8632 - acc: 0.7452 - val_loss: 0.9591 - val_acc: 0.7146 - lr: 0.0010\n",
            "Epoch 38/50\n",
            "36/36 [==============================] - 3s 83ms/step - loss: 0.8569 - acc: 0.7452 - val_loss: 0.9718 - val_acc: 0.7126 - lr: 0.0010\n",
            "Epoch 39/50\n",
            "36/36 [==============================] - 3s 84ms/step - loss: 0.8601 - acc: 0.7463 - val_loss: 0.9591 - val_acc: 0.7165 - lr: 0.0010\n",
            "Epoch 40/50\n",
            "36/36 [==============================] - 3s 84ms/step - loss: 0.8418 - acc: 0.7570 - val_loss: 0.9545 - val_acc: 0.7126 - lr: 0.0010\n",
            "Epoch 41/50\n",
            "36/36 [==============================] - 3s 84ms/step - loss: 0.8430 - acc: 0.7567 - val_loss: 0.9757 - val_acc: 0.7049 - lr: 0.0010\n",
            "Epoch 42/50\n",
            "36/36 [==============================] - 3s 83ms/step - loss: 0.8512 - acc: 0.7537 - val_loss: 0.9716 - val_acc: 0.7146 - lr: 0.0010\n",
            "Epoch 43/50\n",
            "36/36 [==============================] - 3s 84ms/step - loss: 0.8417 - acc: 0.7565 - val_loss: 1.0097 - val_acc: 0.7049 - lr: 0.0010\n",
            "Epoch 44/50\n",
            "36/36 [==============================] - 3s 84ms/step - loss: 0.8473 - acc: 0.7597 - val_loss: 0.9823 - val_acc: 0.7049 - lr: 0.0010\n",
            "Epoch 45/50\n",
            "36/36 [==============================] - 3s 84ms/step - loss: 0.8475 - acc: 0.7554 - val_loss: 0.9884 - val_acc: 0.6971 - lr: 0.0010\n",
            "Epoch 46/50\n",
            "36/36 [==============================] - 3s 84ms/step - loss: 0.8358 - acc: 0.7614 - val_loss: 0.9610 - val_acc: 0.7087 - lr: 0.0010\n",
            "Epoch 47/50\n",
            "36/36 [==============================] - 3s 84ms/step - loss: 0.8355 - acc: 0.7561 - val_loss: 0.9569 - val_acc: 0.7107 - lr: 0.0010\n",
            "Epoch 48/50\n",
            "36/36 [==============================] - 3s 84ms/step - loss: 0.8494 - acc: 0.7470 - val_loss: 0.9916 - val_acc: 0.7107 - lr: 0.0010\n",
            "Epoch 49/50\n",
            "36/36 [==============================] - 3s 84ms/step - loss: 0.8373 - acc: 0.7568 - val_loss: 1.0133 - val_acc: 0.6951 - lr: 0.0010\n",
            "Epoch 50/50\n",
            "36/36 [==============================] - 3s 84ms/step - loss: 0.8353 - acc: 0.7563 - val_loss: 0.9777 - val_acc: 0.7126 - lr: 0.0010\n"
          ],
          "name": "stdout"
        },
        {
          "output_type": "execute_result",
          "data": {
            "text/plain": [
              "<tensorflow.python.keras.engine.training.Model at 0x7fb7777bf780>"
            ]
          },
          "metadata": {
            "tags": []
          },
          "execution_count": 211
        }
      ]
    },
    {
      "cell_type": "code",
      "metadata": {
        "id": "jltHWzqqt5W0",
        "colab_type": "code",
        "colab": {
          "base_uri": "https://localhost:8080/",
          "height": 52
        },
        "outputId": "025270a4-82a4-4226-f598-f373885251d9"
      },
      "source": [
        "wrn_adv_16_2.evaluate(X_test,y_test)"
      ],
      "execution_count": 219,
      "outputs": [
        {
          "output_type": "stream",
          "text": [
            "18/18 [==============================] - 0s 13ms/step - loss: 0.9052 - acc: 0.7469\n"
          ],
          "name": "stdout"
        },
        {
          "output_type": "execute_result",
          "data": {
            "text/plain": [
              "[0.9051674604415894, 0.7469459176063538]"
            ]
          },
          "metadata": {
            "tags": []
          },
          "execution_count": 219
        }
      ]
    },
    {
      "cell_type": "code",
      "metadata": {
        "id": "iYljaenf38Mf",
        "colab_type": "code",
        "colab": {
          "base_uri": "https://localhost:8080/",
          "height": 52
        },
        "outputId": "80ec8377-5928-4a7c-bda5-5e4e248f87ee"
      },
      "source": [
        "model.evaluate(X_adv,y_test)"
      ],
      "execution_count": 220,
      "outputs": [
        {
          "output_type": "stream",
          "text": [
            "18/18 [==============================] - 0s 13ms/step - loss: 0.9039 - acc: 0.7312\n"
          ],
          "name": "stdout"
        },
        {
          "output_type": "execute_result",
          "data": {
            "text/plain": [
              "[0.903908371925354, 0.7312390804290771]"
            ]
          },
          "metadata": {
            "tags": []
          },
          "execution_count": 220
        }
      ]
    }
  ]
}