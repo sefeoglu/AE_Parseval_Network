{
  "nbformat": 4,
  "nbformat_minor": 0,
  "metadata": {
    "colab": {
      "name": "ResNet_Tensorflow_keras.ipynb",
      "provenance": [],
      "toc_visible": true,
      "include_colab_link": true
    },
    "kernelspec": {
      "name": "python3",
      "display_name": "Python 3"
    },
    "accelerator": "GPU"
  },
  "cells": [
    {
      "cell_type": "markdown",
      "metadata": {
        "id": "view-in-github",
        "colab_type": "text"
      },
      "source": [
        "<a href=\"https://colab.research.google.com/github/sefeoglu/AE_Parseval_Network/blob/master/src/notebooks/ResNet_Tensorflow_keras.ipynb\" target=\"_parent\"><img src=\"https://colab.research.google.com/assets/colab-badge.svg\" alt=\"Open In Colab\"/></a>"
      ]
    },
    {
      "cell_type": "markdown",
      "metadata": {
        "id": "cczYDRrfFlDx",
        "colab_type": "text"
      },
      "source": [
        "# Wide ResNet 16_2"
      ]
    },
    {
      "cell_type": "code",
      "metadata": {
        "id": "HWvd9YADGtMS",
        "colab_type": "code",
        "colab": {}
      },
      "source": [
        "import tensorflow as tf"
      ],
      "execution_count": 0,
      "outputs": []
    },
    {
      "cell_type": "code",
      "metadata": {
        "id": "QRdSMgRjG8ex",
        "colab_type": "code",
        "outputId": "cadb5a0f-c7e8-4548-8762-696328f5bef4",
        "colab": {
          "base_uri": "https://localhost:8080/",
          "height": 1000
        }
      },
      "source": [
        "from tensorflow.keras.models import Model\n",
        "from tensorflow.keras.layers import Input, Add, Activation, Dropout, Flatten, Dense\n",
        "from tensorflow.keras.layers import Convolution2D, MaxPooling2D, AveragePooling2D\n",
        "from tensorflow.keras.layers import BatchNormalization\n",
        "from tensorflow.keras.regularizers import l2\n",
        "from tensorflow.keras import backend as K\n",
        "import warnings\n",
        "\n",
        "warnings.filterwarnings(\"ignore\")\n",
        "weight_decay = 0.0005\n",
        "\n",
        "\n",
        "def initial_conv(input):\n",
        "  \n",
        "    x = Convolution2D(16, (3, 3), padding='same', kernel_initializer='he_normal',\n",
        "                      kernel_regularizer=l2(weight_decay),\n",
        "                      use_bias=False)(input)\n",
        "\n",
        "    channel_axis = 1 if K.image_data_format() == \"channels_first\" else -1\n",
        "\n",
        "    x = BatchNormalization(axis=channel_axis, momentum=0.1, epsilon=1e-5, gamma_initializer='uniform')(x)\n",
        "    x = Activation('relu')(x)\n",
        "    return x\n",
        "\n",
        "\n",
        "def expand_conv(init, base, k, strides=(1, 1)):\n",
        "    x = Convolution2D(base * k, (3, 3), padding='same', strides=strides, kernel_initializer='he_normal', kernel_regularizer=l2(weight_decay),\n",
        "                      use_bias=False)(init)\n",
        "\n",
        "    channel_axis = 1 if K.image_data_format() == \"channels_first\" else -1\n",
        "\n",
        "    x = BatchNormalization(axis=channel_axis, momentum=0.1, epsilon=1e-5, gamma_initializer='uniform')(x)\n",
        "    x = Activation('relu')(x)\n",
        "\n",
        "    x = Convolution2D(base * k, (3, 3), padding='same', kernel_initializer='he_normal',\n",
        "                      kernel_regularizer=l2(weight_decay),\n",
        "                      use_bias=False)(x)\n",
        "\n",
        "    skip = Convolution2D(base * k, (1, 1), padding='same', strides=strides, kernel_initializer='he_normal',\n",
        "                      kernel_regularizer=l2(weight_decay),\n",
        "                      use_bias=False)(init)\n",
        "\n",
        "    m = Add()([x, skip])\n",
        "\n",
        "    return m\n",
        "\n",
        "\n",
        "def conv1_block(input, k=1, dropout=0.0):\n",
        "    init = input\n",
        "\n",
        "    channel_axis = 1 if K.image_data_format() == \"channels_first\" else -1\n",
        "\n",
        "    x = BatchNormalization(axis=channel_axis, momentum=0.1, epsilon=1e-5, gamma_initializer='uniform')(input)\n",
        "    x = Activation('relu')(x)\n",
        "    x = Convolution2D(16 * k, (3, 3), padding='same', kernel_initializer='he_normal',\n",
        "                      kernel_regularizer=l2(weight_decay),\n",
        "                      use_bias=False)(x)\n",
        "\n",
        "    if dropout > 0.0: x = Dropout(dropout)(x)\n",
        "\n",
        "    x = BatchNormalization(axis=channel_axis, momentum=0.1, epsilon=1e-5, gamma_initializer='uniform')(x)\n",
        "    x = Activation('relu')(x)\n",
        "    x = Convolution2D(16 * k, (3, 3), padding='same', kernel_initializer='he_normal',\n",
        "                      kernel_regularizer=l2(weight_decay),\n",
        "                      use_bias=False)(x)\n",
        "\n",
        "    m = Add()([init, x])\n",
        "    return m\n",
        "\n",
        "def conv2_block(input, k=1, dropout=0.0):\n",
        "    init = input\n",
        "\n",
        "    channel_axis = 1 if K.image_data_format() == \"channels_first\" else -1\n",
        "    print(\"conv2:channel:  {}\".format(channel_axis))\n",
        "    x = BatchNormalization(axis=channel_axis, momentum=0.1, epsilon=1e-5, gamma_initializer='uniform')(input)\n",
        "    x = Activation('relu')(x)\n",
        "    x = Convolution2D(32 * k, (3, 3), padding='same', kernel_initializer='he_normal',\n",
        "                      kernel_regularizer=l2(weight_decay),\n",
        "                      use_bias=False)(x)\n",
        "\n",
        "    if dropout > 0.0: x = Dropout(dropout)(x)\n",
        "\n",
        "    x = BatchNormalization(axis=channel_axis, momentum=0.1, epsilon=1e-5, gamma_initializer='uniform')(x)\n",
        "    x = Activation('relu')(x)\n",
        "    x = Convolution2D(32 * k, (3, 3), padding='same', kernel_initializer='he_normal',\n",
        "                      kernel_regularizer=l2(weight_decay),\n",
        "                      use_bias=False)(x)\n",
        "\n",
        "    m = Add()([init, x])\n",
        "    return m\n",
        "\n",
        "def conv3_block(input, k=1, dropout=0.0):\n",
        "    init = input\n",
        "\n",
        "    channel_axis = 1 if K.image_data_format() == \"channels_first\" else -1\n",
        "    print(\"conv3 channel_axis:{} \".format(channel_axis))\n",
        "    x = BatchNormalization(axis=channel_axis, momentum=0.1, epsilon=1e-5, gamma_initializer='uniform')(input)\n",
        "    x = Activation('relu')(x)\n",
        "    x = Convolution2D(64 * k, (3, 3), padding='same', kernel_initializer='he_normal',\n",
        "                      kernel_regularizer=l2(weight_decay),\n",
        "                      use_bias=False)(x)\n",
        "\n",
        "    if dropout > 0.0: x = Dropout(dropout)(x)\n",
        "\n",
        "    x = BatchNormalization(axis=channel_axis, momentum=0.1, epsilon=1e-5, gamma_initializer='uniform')(x)\n",
        "    x = Activation('relu')(x)\n",
        "    x = Convolution2D(64 * k, (3, 3), padding='same', kernel_initializer='he_normal',\n",
        "                      kernel_regularizer=l2(weight_decay),\n",
        "                      use_bias=False)(x)\n",
        "\n",
        "    m = Add()([init, x])\n",
        "    return m\n",
        "\n",
        "def create_wide_residual_network(input_dim, nb_classes=100, N=2, k=1, dropout=0.0, verbose=1):\n",
        "    \"\"\"\n",
        "    Creates a Wide Residual Network with specified parameters\n",
        "\n",
        "    :param input: Input Keras object\n",
        "    :param nb_classes: Number of output classes\n",
        "    :param N: Depth of the network. Compute N = (n - 4) / 6.\n",
        "              Example : For a depth of 16, n = 16, N = (16 - 4) / 6 = 2\n",
        "              Example2: For a depth of 28, n = 28, N = (28 - 4) / 6 = 4\n",
        "              Example3: For a depth of 40, n = 40, N = (40 - 4) / 6 = 6\n",
        "    :param k: Width of the network.\n",
        "    :param dropout: Adds dropout if value is greater than 0.0\n",
        "    :param verbose: Debug info to describe created WRN\n",
        "    :return:\n",
        "    \"\"\"\n",
        "    channel_axis = 1 if K.image_data_format() == \"channels_first\" else -1\n",
        "\n",
        "    ip = Input(shape=input_dim)\n",
        "\n",
        "    x = initial_conv(ip)\n",
        "    nb_conv = 4\n",
        "\n",
        "    x = expand_conv(x, 16, k)\n",
        "    nb_conv += 2\n",
        "\n",
        "    for i in range(N - 1):\n",
        "        x = conv1_block(x, k, dropout)\n",
        "        nb_conv += 2\n",
        "\n",
        "    x = BatchNormalization(axis=channel_axis, momentum=0.1, epsilon=1e-5, gamma_initializer='uniform')(x)\n",
        "    x = Activation('relu')(x)\n",
        "\n",
        "    x = expand_conv(x, 32, k, strides=(2, 2))\n",
        "    nb_conv += 2\n",
        "\n",
        "    for i in range(N - 1):\n",
        "        x = conv2_block(x, k, dropout)\n",
        "        nb_conv += 2\n",
        "\n",
        "    x = BatchNormalization(axis=channel_axis, momentum=0.1, epsilon=1e-5, gamma_initializer='uniform')(x)\n",
        "    x = Activation('relu')(x)\n",
        "\n",
        "    x = expand_conv(x, 64, k, strides=(2, 2))\n",
        "    nb_conv += 2\n",
        "\n",
        "    for i in range(N - 1):\n",
        "        x = conv3_block(x, k, dropout)\n",
        "        nb_conv += 2\n",
        "\n",
        "    x = BatchNormalization(axis=channel_axis, momentum=0.1, epsilon=1e-5, gamma_initializer='uniform')(x)\n",
        "    x = Activation('relu')(x)\n",
        "\n",
        "    x = AveragePooling2D((8, 8))(x)\n",
        "    x = Flatten()(x)\n",
        "\n",
        "    x = Dense(nb_classes, kernel_regularizer=l2(weight_decay), activation='softmax')(x)\n",
        "\n",
        "    model = Model(ip, x)\n",
        "\n",
        "    if verbose: print(\"Parseval Residual Network-%d-%d created.\" % (nb_conv, k))\n",
        "    return model\n",
        "\n",
        "if __name__ == \"__main__\":\n",
        "    from tensorflow.keras.utils import plot_model\n",
        "    from tensorflow.keras.layers import Input\n",
        "    from tensorflow.keras.models import Model\n",
        "\n",
        "    init = (68, 100,1)\n",
        "\n",
        "    wrn_16_2 = create_wide_residual_network(init, nb_classes=4, N=2, k=2, dropout=0.0)\n",
        "\n",
        "    wrn_16_2.summary()\n",
        "\n",
        "   # plot_model(wrn_28_10, \"WRN-16-2.png\", show_shapes=True, show_layer_names=True)\n"
      ],
      "execution_count": 24,
      "outputs": [
        {
          "output_type": "stream",
          "text": [
            "conv2:channel:  -1\n",
            "conv3 channel_axis:-1 \n",
            "Parseval Residual Network-16-2 created.\n",
            "Model: \"model_1\"\n",
            "__________________________________________________________________________________________________\n",
            "Layer (type)                    Output Shape         Param #     Connected to                     \n",
            "==================================================================================================\n",
            "input_3 (InputLayer)            [(None, 68, 100, 1)] 0                                            \n",
            "__________________________________________________________________________________________________\n",
            "conv2d_17 (Conv2D)              (None, 68, 100, 16)  144         input_3[0][0]                    \n",
            "__________________________________________________________________________________________________\n",
            "batch_normalization_13 (BatchNo (None, 68, 100, 16)  64          conv2d_17[0][0]                  \n",
            "__________________________________________________________________________________________________\n",
            "activation_13 (Activation)      (None, 68, 100, 16)  0           batch_normalization_13[0][0]     \n",
            "__________________________________________________________________________________________________\n",
            "conv2d_18 (Conv2D)              (None, 68, 100, 32)  4608        activation_13[0][0]              \n",
            "__________________________________________________________________________________________________\n",
            "batch_normalization_14 (BatchNo (None, 68, 100, 32)  128         conv2d_18[0][0]                  \n",
            "__________________________________________________________________________________________________\n",
            "activation_14 (Activation)      (None, 68, 100, 32)  0           batch_normalization_14[0][0]     \n",
            "__________________________________________________________________________________________________\n",
            "conv2d_19 (Conv2D)              (None, 68, 100, 32)  9216        activation_14[0][0]              \n",
            "__________________________________________________________________________________________________\n",
            "conv2d_20 (Conv2D)              (None, 68, 100, 32)  512         activation_13[0][0]              \n",
            "__________________________________________________________________________________________________\n",
            "add_6 (Add)                     (None, 68, 100, 32)  0           conv2d_19[0][0]                  \n",
            "                                                                 conv2d_20[0][0]                  \n",
            "__________________________________________________________________________________________________\n",
            "batch_normalization_15 (BatchNo (None, 68, 100, 32)  128         add_6[0][0]                      \n",
            "__________________________________________________________________________________________________\n",
            "activation_15 (Activation)      (None, 68, 100, 32)  0           batch_normalization_15[0][0]     \n",
            "__________________________________________________________________________________________________\n",
            "conv2d_21 (Conv2D)              (None, 68, 100, 32)  9216        activation_15[0][0]              \n",
            "__________________________________________________________________________________________________\n",
            "batch_normalization_16 (BatchNo (None, 68, 100, 32)  128         conv2d_21[0][0]                  \n",
            "__________________________________________________________________________________________________\n",
            "activation_16 (Activation)      (None, 68, 100, 32)  0           batch_normalization_16[0][0]     \n",
            "__________________________________________________________________________________________________\n",
            "conv2d_22 (Conv2D)              (None, 68, 100, 32)  9216        activation_16[0][0]              \n",
            "__________________________________________________________________________________________________\n",
            "add_7 (Add)                     (None, 68, 100, 32)  0           add_6[0][0]                      \n",
            "                                                                 conv2d_22[0][0]                  \n",
            "__________________________________________________________________________________________________\n",
            "batch_normalization_17 (BatchNo (None, 68, 100, 32)  128         add_7[0][0]                      \n",
            "__________________________________________________________________________________________________\n",
            "activation_17 (Activation)      (None, 68, 100, 32)  0           batch_normalization_17[0][0]     \n",
            "__________________________________________________________________________________________________\n",
            "conv2d_23 (Conv2D)              (None, 34, 50, 64)   18432       activation_17[0][0]              \n",
            "__________________________________________________________________________________________________\n",
            "batch_normalization_18 (BatchNo (None, 34, 50, 64)   256         conv2d_23[0][0]                  \n",
            "__________________________________________________________________________________________________\n",
            "activation_18 (Activation)      (None, 34, 50, 64)   0           batch_normalization_18[0][0]     \n",
            "__________________________________________________________________________________________________\n",
            "conv2d_24 (Conv2D)              (None, 34, 50, 64)   36864       activation_18[0][0]              \n",
            "__________________________________________________________________________________________________\n",
            "conv2d_25 (Conv2D)              (None, 34, 50, 64)   2048        activation_17[0][0]              \n",
            "__________________________________________________________________________________________________\n",
            "add_8 (Add)                     (None, 34, 50, 64)   0           conv2d_24[0][0]                  \n",
            "                                                                 conv2d_25[0][0]                  \n",
            "__________________________________________________________________________________________________\n",
            "batch_normalization_19 (BatchNo (None, 34, 50, 64)   256         add_8[0][0]                      \n",
            "__________________________________________________________________________________________________\n",
            "activation_19 (Activation)      (None, 34, 50, 64)   0           batch_normalization_19[0][0]     \n",
            "__________________________________________________________________________________________________\n",
            "conv2d_26 (Conv2D)              (None, 34, 50, 64)   36864       activation_19[0][0]              \n",
            "__________________________________________________________________________________________________\n",
            "batch_normalization_20 (BatchNo (None, 34, 50, 64)   256         conv2d_26[0][0]                  \n",
            "__________________________________________________________________________________________________\n",
            "activation_20 (Activation)      (None, 34, 50, 64)   0           batch_normalization_20[0][0]     \n",
            "__________________________________________________________________________________________________\n",
            "conv2d_27 (Conv2D)              (None, 34, 50, 64)   36864       activation_20[0][0]              \n",
            "__________________________________________________________________________________________________\n",
            "add_9 (Add)                     (None, 34, 50, 64)   0           add_8[0][0]                      \n",
            "                                                                 conv2d_27[0][0]                  \n",
            "__________________________________________________________________________________________________\n",
            "batch_normalization_21 (BatchNo (None, 34, 50, 64)   256         add_9[0][0]                      \n",
            "__________________________________________________________________________________________________\n",
            "activation_21 (Activation)      (None, 34, 50, 64)   0           batch_normalization_21[0][0]     \n",
            "__________________________________________________________________________________________________\n",
            "conv2d_28 (Conv2D)              (None, 17, 25, 128)  73728       activation_21[0][0]              \n",
            "__________________________________________________________________________________________________\n",
            "batch_normalization_22 (BatchNo (None, 17, 25, 128)  512         conv2d_28[0][0]                  \n",
            "__________________________________________________________________________________________________\n",
            "activation_22 (Activation)      (None, 17, 25, 128)  0           batch_normalization_22[0][0]     \n",
            "__________________________________________________________________________________________________\n",
            "conv2d_29 (Conv2D)              (None, 17, 25, 128)  147456      activation_22[0][0]              \n",
            "__________________________________________________________________________________________________\n",
            "conv2d_30 (Conv2D)              (None, 17, 25, 128)  8192        activation_21[0][0]              \n",
            "__________________________________________________________________________________________________\n",
            "add_10 (Add)                    (None, 17, 25, 128)  0           conv2d_29[0][0]                  \n",
            "                                                                 conv2d_30[0][0]                  \n",
            "__________________________________________________________________________________________________\n",
            "batch_normalization_23 (BatchNo (None, 17, 25, 128)  512         add_10[0][0]                     \n",
            "__________________________________________________________________________________________________\n",
            "activation_23 (Activation)      (None, 17, 25, 128)  0           batch_normalization_23[0][0]     \n",
            "__________________________________________________________________________________________________\n",
            "conv2d_31 (Conv2D)              (None, 17, 25, 128)  147456      activation_23[0][0]              \n",
            "__________________________________________________________________________________________________\n",
            "batch_normalization_24 (BatchNo (None, 17, 25, 128)  512         conv2d_31[0][0]                  \n",
            "__________________________________________________________________________________________________\n",
            "activation_24 (Activation)      (None, 17, 25, 128)  0           batch_normalization_24[0][0]     \n",
            "__________________________________________________________________________________________________\n",
            "conv2d_32 (Conv2D)              (None, 17, 25, 128)  147456      activation_24[0][0]              \n",
            "__________________________________________________________________________________________________\n",
            "add_11 (Add)                    (None, 17, 25, 128)  0           add_10[0][0]                     \n",
            "                                                                 conv2d_32[0][0]                  \n",
            "__________________________________________________________________________________________________\n",
            "batch_normalization_25 (BatchNo (None, 17, 25, 128)  512         add_11[0][0]                     \n",
            "__________________________________________________________________________________________________\n",
            "activation_25 (Activation)      (None, 17, 25, 128)  0           batch_normalization_25[0][0]     \n",
            "__________________________________________________________________________________________________\n",
            "average_pooling2d_1 (AveragePoo (None, 2, 3, 128)    0           activation_25[0][0]              \n",
            "__________________________________________________________________________________________________\n",
            "flatten_1 (Flatten)             (None, 768)          0           average_pooling2d_1[0][0]        \n",
            "__________________________________________________________________________________________________\n",
            "dense_1 (Dense)                 (None, 4)            3076        flatten_1[0][0]                  \n",
            "==================================================================================================\n",
            "Total params: 694,996\n",
            "Trainable params: 693,172\n",
            "Non-trainable params: 1,824\n",
            "__________________________________________________________________________________________________\n"
          ],
          "name": "stdout"
        }
      ]
    },
    {
      "cell_type": "code",
      "metadata": {
        "id": "AJqH742XcPQv",
        "colab_type": "code",
        "colab": {}
      },
      "source": [
        "from sklearn.model_selection import train_test_split\n",
        "import gzip\n",
        "import pickle\n",
        "\n",
        "import numpy as np"
      ],
      "execution_count": 0,
      "outputs": []
    },
    {
      "cell_type": "code",
      "metadata": {
        "id": "fNBI_SkvuzgK",
        "colab_type": "code",
        "colab": {}
      },
      "source": [
        "def read_data():\n",
        "    with open(\"data.pz\", 'rb') as file_:\n",
        "        with gzip.GzipFile(fileobj=file_) as gzf:\n",
        "            data = pickle.load(gzf, encoding='latin1', fix_imports=True)\n",
        "    return data\n",
        "data = read_data()\n"
      ],
      "execution_count": 0,
      "outputs": []
    },
    {
      "cell_type": "code",
      "metadata": {
        "id": "4euxwMe2jIoX",
        "colab_type": "code",
        "outputId": "62ad8da8-df53-4a43-93e1-6eeeca854cb4",
        "colab": {
          "base_uri": "https://localhost:8080/",
          "height": 34
        }
      },
      "source": [
        "new_data_X = []\n",
        "Y_data = []\n",
        "for row in data:\n",
        "    new_data_X.append(row['crop'])\n",
        "    Y_data.append(row['label'])\n",
        "new_data_X = np.array(new_data_X)\n",
        "new_data_X.shape"
      ],
      "execution_count": 27,
      "outputs": [
        {
          "output_type": "execute_result",
          "data": {
            "text/plain": [
              "(5722, 68, 100)"
            ]
          },
          "metadata": {
            "tags": []
          },
          "execution_count": 27
        }
      ]
    },
    {
      "cell_type": "code",
      "metadata": {
        "id": "TNBsNVDNu6Ku",
        "colab_type": "code",
        "outputId": "4eda1333-3daf-40b3-ac8f-d15bd2bf3621",
        "colab": {
          "base_uri": "https://localhost:8080/",
          "height": 34
        }
      },
      "source": [
        "X = new_data_X.astype('float32')\n",
        "X.shape"
      ],
      "execution_count": 28,
      "outputs": [
        {
          "output_type": "execute_result",
          "data": {
            "text/plain": [
              "(5722, 68, 100)"
            ]
          },
          "metadata": {
            "tags": []
          },
          "execution_count": 28
        }
      ]
    },
    {
      "cell_type": "code",
      "metadata": {
        "id": "Rv-A3B72JXDE",
        "colab_type": "code",
        "colab": {}
      },
      "source": [
        ""
      ],
      "execution_count": 0,
      "outputs": []
    },
    {
      "cell_type": "code",
      "metadata": {
        "id": "uqf-dZOrvC0e",
        "colab_type": "code",
        "colab": {}
      },
      "source": [
        "\n",
        "img_rows, img_cols = X[0].shape\n",
        "\n",
        "# transform data set\n",
        "if K.image_data_format() == 'channels_first':\n",
        "    X = X.reshape(X.shape[0], 1, img_rows, img_cols)\n",
        "    input_shape = (1, img_rows, img_cols)\n",
        "else:\n",
        "    X = X.reshape(X.shape[0], img_rows, img_cols, 1)\n",
        "    input_shape = (img_rows, img_cols, 1)"
      ],
      "execution_count": 0,
      "outputs": []
    },
    {
      "cell_type": "code",
      "metadata": {
        "id": "I7Z7UDOByArq",
        "colab_type": "code",
        "outputId": "c667f282-16b9-42b6-e783-0a22ab2b2aab",
        "colab": {
          "base_uri": "https://localhost:8080/",
          "height": 34
        }
      },
      "source": [
        "X.shape\n"
      ],
      "execution_count": 30,
      "outputs": [
        {
          "output_type": "execute_result",
          "data": {
            "text/plain": [
              "(5722, 68, 100, 1)"
            ]
          },
          "metadata": {
            "tags": []
          },
          "execution_count": 30
        }
      ]
    },
    {
      "cell_type": "code",
      "metadata": {
        "id": "2eEHVf2Bu9xt",
        "colab_type": "code",
        "colab": {}
      },
      "source": [
        "import pandas as pd\n",
        "import numpy as np\n",
        "from sklearn.preprocessing import LabelEncoder\n",
        "\n",
        "labelencoder = LabelEncoder()\n",
        "y_df = pd.DataFrame(Y_data, columns=['Label'])\n",
        "y_df['Encoded'] = labelencoder.fit_transform(y_df['Label'])"
      ],
      "execution_count": 0,
      "outputs": []
    },
    {
      "cell_type": "code",
      "metadata": {
        "id": "56hwq9R2jruF",
        "colab_type": "code",
        "outputId": "864bdf8a-1271-4b6e-a0b0-5f472d587630",
        "colab": {
          "base_uri": "https://localhost:8080/",
          "height": 104
        }
      },
      "source": [
        "y_df['Label'].value_counts()"
      ],
      "execution_count": 32,
      "outputs": [
        {
          "output_type": "execute_result",
          "data": {
            "text/plain": [
              "open             1500\n",
              "closed           1500\n",
              "partiallyOpen    1376\n",
              "notVisible       1346\n",
              "Name: Label, dtype: int64"
            ]
          },
          "metadata": {
            "tags": []
          },
          "execution_count": 32
        }
      ]
    },
    {
      "cell_type": "code",
      "metadata": {
        "id": "WxAYuiEzj4Bp",
        "colab_type": "code",
        "outputId": "923a1356-b349-4152-8b60-0a3a04767baa",
        "colab": {
          "base_uri": "https://localhost:8080/",
          "height": 104
        }
      },
      "source": [
        "y_df['Encoded'].value_counts()\n"
      ],
      "execution_count": 33,
      "outputs": [
        {
          "output_type": "execute_result",
          "data": {
            "text/plain": [
              "2    1500\n",
              "0    1500\n",
              "3    1376\n",
              "1    1346\n",
              "Name: Encoded, dtype: int64"
            ]
          },
          "metadata": {
            "tags": []
          },
          "execution_count": 33
        }
      ]
    },
    {
      "cell_type": "code",
      "metadata": {
        "id": "wdkpb2Jkqu6t",
        "colab_type": "code",
        "colab": {}
      },
      "source": [
        "from tensorflow.keras.utils import to_categorical\n",
        "\n",
        "y_cat = to_categorical(y_df['Encoded'])"
      ],
      "execution_count": 0,
      "outputs": []
    },
    {
      "cell_type": "code",
      "metadata": {
        "id": "rghSgp3NvhhV",
        "colab_type": "code",
        "colab": {}
      },
      "source": [
        "from tensorflow.keras.optimizers import SGD\n",
        "\n",
        "EPOCHS = 200\n",
        "BS = 128"
      ],
      "execution_count": 0,
      "outputs": []
    },
    {
      "cell_type": "code",
      "metadata": {
        "id": "PUHIVZnNwLL0",
        "colab_type": "code",
        "colab": {}
      },
      "source": [
        "sgd = SGD(lr=0.1, momentum=0.9)"
      ],
      "execution_count": 0,
      "outputs": []
    },
    {
      "cell_type": "code",
      "metadata": {
        "id": "yBnqXaiNwHGl",
        "colab_type": "code",
        "outputId": "79ed3ab6-c2c6-4ec1-b2bc-9accb412fd5d",
        "colab": {
          "base_uri": "https://localhost:8080/",
          "height": 34
        }
      },
      "source": [
        "wrn_16_2.compile(loss=\"categorical_crossentropy\", optimizer=sgd, metrics=[\"acc\"])\n",
        "print(\"Finished compiling\")\n"
      ],
      "execution_count": 37,
      "outputs": [
        {
          "output_type": "stream",
          "text": [
            "Finished compiling\n"
          ],
          "name": "stdout"
        }
      ]
    },
    {
      "cell_type": "code",
      "metadata": {
        "id": "4HA8PdUYwhsH",
        "colab_type": "code",
        "colab": {}
      },
      "source": [
        "from tensorflow.keras.utils import to_categorical\n",
        "from tensorflow.keras.callbacks import Callback, LearningRateScheduler, EarlyStopping\n"
      ],
      "execution_count": 0,
      "outputs": []
    },
    {
      "cell_type": "code",
      "metadata": {
        "id": "88yOqhbSwjPa",
        "colab_type": "code",
        "colab": {}
      },
      "source": [
        "def lr_sch(epoch):\n",
        "    if epoch < 60:\n",
        "        return 0.1\n",
        "    elif epoch < 120:\n",
        "        return 0.02\n",
        "    elif epoch < 160:\n",
        "        return 0.004\n",
        "    else:\n",
        "        return 0.0008\n",
        "\n",
        "# Learning rate scheduler callback\n",
        "lr_scheduler = LearningRateScheduler(lr_sch)"
      ],
      "execution_count": 0,
      "outputs": []
    },
    {
      "cell_type": "code",
      "metadata": {
        "id": "TbpiWMEgRpWa",
        "colab_type": "code",
        "colab": {}
      },
      "source": [
        "import tensorflow\n",
        "generator = tensorflow.keras.preprocessing.image.ImageDataGenerator(rotation_range=10,\n",
        "                               width_shift_range=5./32,\n",
        "                               height_shift_range=5./32,)"
      ],
      "execution_count": 0,
      "outputs": []
    },
    {
      "cell_type": "code",
      "metadata": {
        "id": "uo-6r-Zvva5l",
        "colab_type": "code",
        "colab": {}
      },
      "source": [
        "X_train, X_test, y_train, y_test = train_test_split(X, y_cat, test_size = 0.33)"
      ],
      "execution_count": 0,
      "outputs": []
    },
    {
      "cell_type": "code",
      "metadata": {
        "id": "JVs_QNHoEKji",
        "colab_type": "code",
        "outputId": "f93df9ef-04ee-4dbf-f294-f05339ded48c",
        "colab": {
          "base_uri": "https://localhost:8080/",
          "height": 1000
        }
      },
      "source": [
        "\n",
        "hist = wrn_16_2.fit_generator(generator.flow(X_train, y_train, batch_size=BS), steps_per_epoch=len(X_train) // BS, epochs=EPOCHS,\n",
        "                   callbacks=[lr_scheduler],\n",
        "                   validation_data=(X_test, y_test),\n",
        "                   validation_steps=X_test.shape[0] // BS,)"
      ],
      "execution_count": 42,
      "outputs": [
        {
          "output_type": "stream",
          "text": [
            "Epoch 1/200\n",
            "29/29 [==============================] - 4s 153ms/step - loss: 2.4529 - acc: 0.3398 - val_loss: 2.4787 - val_acc: 0.3240 - lr: 0.1000\n",
            "Epoch 2/200\n",
            "29/29 [==============================] - 4s 142ms/step - loss: 2.3343 - acc: 0.3897 - val_loss: 2.2738 - val_acc: 0.3843 - lr: 0.1000\n",
            "Epoch 3/200\n",
            "29/29 [==============================] - 4s 143ms/step - loss: 2.2477 - acc: 0.4076 - val_loss: 2.1917 - val_acc: 0.4442 - lr: 0.1000\n",
            "Epoch 4/200\n",
            "29/29 [==============================] - 4s 142ms/step - loss: 2.1574 - acc: 0.4381 - val_loss: 2.1718 - val_acc: 0.4648 - lr: 0.1000\n",
            "Epoch 5/200\n",
            "29/29 [==============================] - 4s 142ms/step - loss: 2.0530 - acc: 0.4877 - val_loss: 2.0566 - val_acc: 0.4775 - lr: 0.1000\n",
            "Epoch 6/200\n",
            "29/29 [==============================] - 4s 142ms/step - loss: 1.9567 - acc: 0.5206 - val_loss: 1.8679 - val_acc: 0.5675 - lr: 0.1000\n",
            "Epoch 7/200\n",
            "29/29 [==============================] - 4s 143ms/step - loss: 1.8531 - acc: 0.5484 - val_loss: 1.8002 - val_acc: 0.5929 - lr: 0.1000\n",
            "Epoch 8/200\n",
            "29/29 [==============================] - 4s 143ms/step - loss: 1.7545 - acc: 0.5749 - val_loss: 1.7331 - val_acc: 0.5781 - lr: 0.1000\n",
            "Epoch 9/200\n",
            "29/29 [==============================] - 4s 142ms/step - loss: 1.7048 - acc: 0.5968 - val_loss: 1.6588 - val_acc: 0.6008 - lr: 0.1000\n",
            "Epoch 10/200\n",
            "29/29 [==============================] - 4s 143ms/step - loss: 1.6668 - acc: 0.5876 - val_loss: 1.6635 - val_acc: 0.5844 - lr: 0.1000\n",
            "Epoch 11/200\n",
            "29/29 [==============================] - 4s 142ms/step - loss: 1.6058 - acc: 0.5981 - val_loss: 1.6575 - val_acc: 0.6136 - lr: 0.1000\n",
            "Epoch 12/200\n",
            "29/29 [==============================] - 4s 142ms/step - loss: 1.5253 - acc: 0.6367 - val_loss: 1.5116 - val_acc: 0.6501 - lr: 0.1000\n",
            "Epoch 13/200\n",
            "29/29 [==============================] - 4s 143ms/step - loss: 1.4548 - acc: 0.6596 - val_loss: 1.4997 - val_acc: 0.6374 - lr: 0.1000\n",
            "Epoch 14/200\n",
            "29/29 [==============================] - 4s 142ms/step - loss: 1.3947 - acc: 0.6656 - val_loss: 1.4161 - val_acc: 0.6607 - lr: 0.1000\n",
            "Epoch 15/200\n",
            "29/29 [==============================] - 4s 142ms/step - loss: 1.3520 - acc: 0.6823 - val_loss: 1.4319 - val_acc: 0.6416 - lr: 0.1000\n",
            "Epoch 16/200\n",
            "29/29 [==============================] - 4s 142ms/step - loss: 1.3317 - acc: 0.6794 - val_loss: 1.4414 - val_acc: 0.6501 - lr: 0.1000\n",
            "Epoch 17/200\n",
            "29/29 [==============================] - 4s 141ms/step - loss: 1.2799 - acc: 0.6923 - val_loss: 1.4008 - val_acc: 0.6448 - lr: 0.1000\n",
            "Epoch 18/200\n",
            "29/29 [==============================] - 4s 142ms/step - loss: 1.2383 - acc: 0.7058 - val_loss: 1.2860 - val_acc: 0.7025 - lr: 0.1000\n",
            "Epoch 19/200\n",
            "29/29 [==============================] - 4s 142ms/step - loss: 1.2153 - acc: 0.7063 - val_loss: 1.2115 - val_acc: 0.7104 - lr: 0.1000\n",
            "Epoch 20/200\n",
            "29/29 [==============================] - 4s 142ms/step - loss: 1.1696 - acc: 0.7128 - val_loss: 1.3312 - val_acc: 0.6384 - lr: 0.1000\n",
            "Epoch 21/200\n",
            "29/29 [==============================] - 4s 143ms/step - loss: 1.1203 - acc: 0.7252 - val_loss: 1.3215 - val_acc: 0.6612 - lr: 0.1000\n",
            "Epoch 22/200\n",
            "29/29 [==============================] - 4s 142ms/step - loss: 1.0871 - acc: 0.7385 - val_loss: 1.2070 - val_acc: 0.6792 - lr: 0.1000\n",
            "Epoch 23/200\n",
            "29/29 [==============================] - 4s 142ms/step - loss: 1.0428 - acc: 0.7517 - val_loss: 1.1901 - val_acc: 0.6834 - lr: 0.1000\n",
            "Epoch 24/200\n",
            "29/29 [==============================] - 4s 143ms/step - loss: 1.0257 - acc: 0.7425 - val_loss: 1.1022 - val_acc: 0.7284 - lr: 0.1000\n",
            "Epoch 25/200\n",
            "29/29 [==============================] - 4s 142ms/step - loss: 1.0051 - acc: 0.7487 - val_loss: 1.0633 - val_acc: 0.7369 - lr: 0.1000\n",
            "Epoch 26/200\n",
            "29/29 [==============================] - 4s 143ms/step - loss: 0.9672 - acc: 0.7668 - val_loss: 1.1592 - val_acc: 0.7157 - lr: 0.1000\n",
            "Epoch 27/200\n",
            "29/29 [==============================] - 4s 142ms/step - loss: 0.9417 - acc: 0.7673 - val_loss: 1.1118 - val_acc: 0.7125 - lr: 0.1000\n",
            "Epoch 28/200\n",
            "29/29 [==============================] - 4s 142ms/step - loss: 0.9458 - acc: 0.7576 - val_loss: 1.0657 - val_acc: 0.7152 - lr: 0.1000\n",
            "Epoch 29/200\n",
            "29/29 [==============================] - 4s 142ms/step - loss: 0.9232 - acc: 0.7646 - val_loss: 1.2162 - val_acc: 0.6427 - lr: 0.1000\n",
            "Epoch 30/200\n",
            "29/29 [==============================] - 4s 142ms/step - loss: 0.9509 - acc: 0.7538 - val_loss: 1.0703 - val_acc: 0.7242 - lr: 0.1000\n",
            "Epoch 31/200\n",
            "29/29 [==============================] - 4s 142ms/step - loss: 0.8902 - acc: 0.7825 - val_loss: 1.0087 - val_acc: 0.7448 - lr: 0.1000\n",
            "Epoch 32/200\n",
            "29/29 [==============================] - 4s 141ms/step - loss: 0.8827 - acc: 0.7816 - val_loss: 1.0514 - val_acc: 0.7157 - lr: 0.1000\n",
            "Epoch 33/200\n",
            "29/29 [==============================] - 4s 142ms/step - loss: 0.8520 - acc: 0.7881 - val_loss: 1.1085 - val_acc: 0.7152 - lr: 0.1000\n",
            "Epoch 34/200\n",
            "29/29 [==============================] - 4s 143ms/step - loss: 0.8593 - acc: 0.7754 - val_loss: 1.0194 - val_acc: 0.7099 - lr: 0.1000\n",
            "Epoch 35/200\n",
            "29/29 [==============================] - 4s 142ms/step - loss: 0.8192 - acc: 0.7911 - val_loss: 0.9686 - val_acc: 0.7496 - lr: 0.1000\n",
            "Epoch 36/200\n",
            "29/29 [==============================] - 4s 142ms/step - loss: 0.8308 - acc: 0.7935 - val_loss: 0.9251 - val_acc: 0.7575 - lr: 0.1000\n",
            "Epoch 37/200\n",
            "29/29 [==============================] - 4s 142ms/step - loss: 0.7875 - acc: 0.8005 - val_loss: 0.9220 - val_acc: 0.7491 - lr: 0.1000\n",
            "Epoch 38/200\n",
            "29/29 [==============================] - 4s 142ms/step - loss: 0.7651 - acc: 0.8105 - val_loss: 0.9449 - val_acc: 0.7311 - lr: 0.1000\n",
            "Epoch 39/200\n",
            "29/29 [==============================] - 4s 142ms/step - loss: 0.7480 - acc: 0.8138 - val_loss: 1.0031 - val_acc: 0.7194 - lr: 0.1000\n",
            "Epoch 40/200\n",
            "29/29 [==============================] - 4s 141ms/step - loss: 0.7419 - acc: 0.8159 - val_loss: 0.9530 - val_acc: 0.7512 - lr: 0.1000\n",
            "Epoch 41/200\n",
            "29/29 [==============================] - 4s 142ms/step - loss: 0.7520 - acc: 0.8084 - val_loss: 0.9132 - val_acc: 0.7491 - lr: 0.1000\n",
            "Epoch 42/200\n",
            "29/29 [==============================] - 4s 142ms/step - loss: 0.7260 - acc: 0.8202 - val_loss: 1.0660 - val_acc: 0.7073 - lr: 0.1000\n",
            "Epoch 43/200\n",
            "29/29 [==============================] - 4s 141ms/step - loss: 0.7290 - acc: 0.8175 - val_loss: 0.8658 - val_acc: 0.7687 - lr: 0.1000\n",
            "Epoch 44/200\n",
            "29/29 [==============================] - 4s 142ms/step - loss: 0.7119 - acc: 0.8300 - val_loss: 0.8846 - val_acc: 0.7591 - lr: 0.1000\n",
            "Epoch 45/200\n",
            "29/29 [==============================] - 4s 142ms/step - loss: 0.7208 - acc: 0.8162 - val_loss: 0.8819 - val_acc: 0.7665 - lr: 0.1000\n",
            "Epoch 46/200\n",
            "29/29 [==============================] - 4s 142ms/step - loss: 0.6773 - acc: 0.8356 - val_loss: 0.8729 - val_acc: 0.7803 - lr: 0.1000\n",
            "Epoch 47/200\n",
            "29/29 [==============================] - 4s 142ms/step - loss: 0.6411 - acc: 0.8507 - val_loss: 0.9334 - val_acc: 0.7374 - lr: 0.1000\n",
            "Epoch 48/200\n",
            "29/29 [==============================] - 4s 141ms/step - loss: 0.6526 - acc: 0.8389 - val_loss: 0.9694 - val_acc: 0.7385 - lr: 0.1000\n",
            "Epoch 49/200\n",
            "29/29 [==============================] - 4s 142ms/step - loss: 0.6928 - acc: 0.8286 - val_loss: 0.9725 - val_acc: 0.7406 - lr: 0.1000\n",
            "Epoch 50/200\n",
            "29/29 [==============================] - 4s 142ms/step - loss: 0.6577 - acc: 0.8445 - val_loss: 1.0201 - val_acc: 0.7247 - lr: 0.1000\n",
            "Epoch 51/200\n",
            "29/29 [==============================] - 4s 141ms/step - loss: 0.6702 - acc: 0.8386 - val_loss: 1.0262 - val_acc: 0.7300 - lr: 0.1000\n",
            "Epoch 52/200\n",
            "29/29 [==============================] - 4s 142ms/step - loss: 0.6672 - acc: 0.8343 - val_loss: 0.9459 - val_acc: 0.7581 - lr: 0.1000\n",
            "Epoch 53/200\n",
            "29/29 [==============================] - 4s 142ms/step - loss: 0.6584 - acc: 0.8424 - val_loss: 0.9700 - val_acc: 0.7485 - lr: 0.1000\n",
            "Epoch 54/200\n",
            "29/29 [==============================] - 4s 142ms/step - loss: 0.6434 - acc: 0.8448 - val_loss: 0.9652 - val_acc: 0.7570 - lr: 0.1000\n",
            "Epoch 55/200\n",
            "29/29 [==============================] - 4s 141ms/step - loss: 0.6468 - acc: 0.8405 - val_loss: 1.0558 - val_acc: 0.7390 - lr: 0.1000\n",
            "Epoch 56/200\n",
            "29/29 [==============================] - 4s 142ms/step - loss: 0.6647 - acc: 0.8364 - val_loss: 0.8515 - val_acc: 0.7830 - lr: 0.1000\n",
            "Epoch 57/200\n",
            "29/29 [==============================] - 4s 142ms/step - loss: 0.6250 - acc: 0.8572 - val_loss: 1.0091 - val_acc: 0.7390 - lr: 0.1000\n",
            "Epoch 58/200\n",
            "29/29 [==============================] - 4s 141ms/step - loss: 0.6153 - acc: 0.8572 - val_loss: 0.8877 - val_acc: 0.7755 - lr: 0.1000\n",
            "Epoch 59/200\n",
            "29/29 [==============================] - 4s 142ms/step - loss: 0.6144 - acc: 0.8548 - val_loss: 1.0614 - val_acc: 0.7205 - lr: 0.1000\n",
            "Epoch 60/200\n",
            "29/29 [==============================] - 4s 143ms/step - loss: 0.6116 - acc: 0.8605 - val_loss: 0.9548 - val_acc: 0.7433 - lr: 0.1000\n",
            "Epoch 61/200\n",
            "29/29 [==============================] - 4s 143ms/step - loss: 0.5960 - acc: 0.8653 - val_loss: 0.8584 - val_acc: 0.7909 - lr: 0.0200\n",
            "Epoch 62/200\n",
            "29/29 [==============================] - 4s 142ms/step - loss: 0.4828 - acc: 0.9131 - val_loss: 0.8363 - val_acc: 0.7983 - lr: 0.0200\n",
            "Epoch 63/200\n",
            "29/29 [==============================] - 4s 142ms/step - loss: 0.4390 - acc: 0.9274 - val_loss: 0.8502 - val_acc: 0.7999 - lr: 0.0200\n",
            "Epoch 64/200\n",
            "29/29 [==============================] - 4s 142ms/step - loss: 0.4164 - acc: 0.9325 - val_loss: 0.8382 - val_acc: 0.8115 - lr: 0.0200\n",
            "Epoch 65/200\n",
            "29/29 [==============================] - 4s 141ms/step - loss: 0.3921 - acc: 0.9436 - val_loss: 0.8449 - val_acc: 0.8121 - lr: 0.0200\n",
            "Epoch 66/200\n",
            "29/29 [==============================] - 4s 142ms/step - loss: 0.3880 - acc: 0.9428 - val_loss: 0.8775 - val_acc: 0.8110 - lr: 0.0200\n",
            "Epoch 67/200\n",
            "29/29 [==============================] - 4s 142ms/step - loss: 0.3735 - acc: 0.9517 - val_loss: 0.8963 - val_acc: 0.7978 - lr: 0.0200\n",
            "Epoch 68/200\n",
            "29/29 [==============================] - 4s 142ms/step - loss: 0.3558 - acc: 0.9579 - val_loss: 0.8541 - val_acc: 0.8100 - lr: 0.0200\n",
            "Epoch 69/200\n",
            "29/29 [==============================] - 4s 142ms/step - loss: 0.3506 - acc: 0.9552 - val_loss: 0.8865 - val_acc: 0.8131 - lr: 0.0200\n",
            "Epoch 70/200\n",
            "29/29 [==============================] - 4s 141ms/step - loss: 0.3419 - acc: 0.9617 - val_loss: 0.8612 - val_acc: 0.8242 - lr: 0.0200\n",
            "Epoch 71/200\n",
            "29/29 [==============================] - 4s 141ms/step - loss: 0.3310 - acc: 0.9625 - val_loss: 0.8861 - val_acc: 0.8147 - lr: 0.0200\n",
            "Epoch 72/200\n",
            "29/29 [==============================] - 4s 142ms/step - loss: 0.3223 - acc: 0.9652 - val_loss: 0.9360 - val_acc: 0.8052 - lr: 0.0200\n",
            "Epoch 73/200\n",
            "29/29 [==============================] - 4s 142ms/step - loss: 0.3216 - acc: 0.9638 - val_loss: 0.9284 - val_acc: 0.8089 - lr: 0.0200\n",
            "Epoch 74/200\n",
            "29/29 [==============================] - 4s 142ms/step - loss: 0.3202 - acc: 0.9633 - val_loss: 0.9184 - val_acc: 0.8152 - lr: 0.0200\n",
            "Epoch 75/200\n",
            "29/29 [==============================] - 4s 142ms/step - loss: 0.3115 - acc: 0.9685 - val_loss: 0.9525 - val_acc: 0.8168 - lr: 0.0200\n",
            "Epoch 76/200\n",
            "29/29 [==============================] - 4s 142ms/step - loss: 0.2954 - acc: 0.9735 - val_loss: 0.9123 - val_acc: 0.8115 - lr: 0.0200\n",
            "Epoch 77/200\n",
            "29/29 [==============================] - 4s 141ms/step - loss: 0.3072 - acc: 0.9655 - val_loss: 0.9753 - val_acc: 0.8052 - lr: 0.0200\n",
            "Epoch 78/200\n",
            "29/29 [==============================] - 4s 142ms/step - loss: 0.2922 - acc: 0.9722 - val_loss: 0.9567 - val_acc: 0.8094 - lr: 0.0200\n",
            "Epoch 79/200\n",
            "29/29 [==============================] - 4s 142ms/step - loss: 0.2828 - acc: 0.9754 - val_loss: 0.9669 - val_acc: 0.8110 - lr: 0.0200\n",
            "Epoch 80/200\n",
            "29/29 [==============================] - 4s 141ms/step - loss: 0.2787 - acc: 0.9757 - val_loss: 0.9595 - val_acc: 0.8131 - lr: 0.0200\n",
            "Epoch 81/200\n",
            "29/29 [==============================] - 4s 142ms/step - loss: 0.2848 - acc: 0.9725 - val_loss: 1.0238 - val_acc: 0.8174 - lr: 0.0200\n",
            "Epoch 82/200\n",
            "29/29 [==============================] - 4s 142ms/step - loss: 0.2871 - acc: 0.9733 - val_loss: 0.9926 - val_acc: 0.8020 - lr: 0.0200\n",
            "Epoch 83/200\n",
            "29/29 [==============================] - 4s 142ms/step - loss: 0.2691 - acc: 0.9765 - val_loss: 0.9799 - val_acc: 0.8100 - lr: 0.0200\n",
            "Epoch 84/200\n",
            "29/29 [==============================] - 4s 143ms/step - loss: 0.2689 - acc: 0.9795 - val_loss: 1.0388 - val_acc: 0.8163 - lr: 0.0200\n",
            "Epoch 85/200\n",
            "29/29 [==============================] - 4s 141ms/step - loss: 0.2791 - acc: 0.9730 - val_loss: 1.0003 - val_acc: 0.8131 - lr: 0.0200\n",
            "Epoch 86/200\n",
            "29/29 [==============================] - 4s 142ms/step - loss: 0.2840 - acc: 0.9676 - val_loss: 0.9840 - val_acc: 0.8036 - lr: 0.0200\n",
            "Epoch 87/200\n",
            "29/29 [==============================] - 4s 141ms/step - loss: 0.2886 - acc: 0.9682 - val_loss: 1.0544 - val_acc: 0.8031 - lr: 0.0200\n",
            "Epoch 88/200\n",
            "29/29 [==============================] - 4s 142ms/step - loss: 0.2639 - acc: 0.9787 - val_loss: 1.0442 - val_acc: 0.8004 - lr: 0.0200\n",
            "Epoch 89/200\n",
            "29/29 [==============================] - 4s 142ms/step - loss: 0.2617 - acc: 0.9757 - val_loss: 0.9578 - val_acc: 0.8020 - lr: 0.0200\n",
            "Epoch 90/200\n",
            "29/29 [==============================] - 4s 143ms/step - loss: 0.2555 - acc: 0.9825 - val_loss: 1.0291 - val_acc: 0.8078 - lr: 0.0200\n",
            "Epoch 91/200\n",
            "29/29 [==============================] - 4s 141ms/step - loss: 0.2537 - acc: 0.9757 - val_loss: 1.0371 - val_acc: 0.8062 - lr: 0.0200\n",
            "Epoch 92/200\n",
            "29/29 [==============================] - 4s 141ms/step - loss: 0.2545 - acc: 0.9779 - val_loss: 1.0607 - val_acc: 0.7967 - lr: 0.0200\n",
            "Epoch 93/200\n",
            "29/29 [==============================] - 4s 142ms/step - loss: 0.2573 - acc: 0.9752 - val_loss: 1.0736 - val_acc: 0.8041 - lr: 0.0200\n",
            "Epoch 94/200\n",
            "29/29 [==============================] - 4s 142ms/step - loss: 0.2715 - acc: 0.9719 - val_loss: 1.0333 - val_acc: 0.8031 - lr: 0.0200\n",
            "Epoch 95/200\n",
            "29/29 [==============================] - 4s 142ms/step - loss: 0.2683 - acc: 0.9714 - val_loss: 1.0543 - val_acc: 0.7951 - lr: 0.0200\n",
            "Epoch 96/200\n",
            "29/29 [==============================] - 4s 142ms/step - loss: 0.2627 - acc: 0.9744 - val_loss: 1.0547 - val_acc: 0.8068 - lr: 0.0200\n",
            "Epoch 97/200\n",
            "29/29 [==============================] - 4s 142ms/step - loss: 0.2593 - acc: 0.9714 - val_loss: 1.0145 - val_acc: 0.8031 - lr: 0.0200\n",
            "Epoch 98/200\n",
            "29/29 [==============================] - 4s 141ms/step - loss: 0.2636 - acc: 0.9682 - val_loss: 1.0131 - val_acc: 0.8073 - lr: 0.0200\n",
            "Epoch 99/200\n",
            "29/29 [==============================] - 4s 142ms/step - loss: 0.2568 - acc: 0.9735 - val_loss: 1.1392 - val_acc: 0.7888 - lr: 0.0200\n",
            "Epoch 100/200\n",
            "29/29 [==============================] - 4s 142ms/step - loss: 0.2521 - acc: 0.9776 - val_loss: 1.0431 - val_acc: 0.8041 - lr: 0.0200\n",
            "Epoch 101/200\n",
            "29/29 [==============================] - 4s 141ms/step - loss: 0.2475 - acc: 0.9792 - val_loss: 1.1567 - val_acc: 0.7920 - lr: 0.0200\n",
            "Epoch 102/200\n",
            "29/29 [==============================] - 4s 142ms/step - loss: 0.2518 - acc: 0.9744 - val_loss: 1.0585 - val_acc: 0.7951 - lr: 0.0200\n",
            "Epoch 103/200\n",
            "29/29 [==============================] - 4s 142ms/step - loss: 0.2315 - acc: 0.9822 - val_loss: 1.1123 - val_acc: 0.8015 - lr: 0.0200\n",
            "Epoch 104/200\n",
            "29/29 [==============================] - 4s 141ms/step - loss: 0.2452 - acc: 0.9776 - val_loss: 1.1002 - val_acc: 0.7935 - lr: 0.0200\n",
            "Epoch 105/200\n",
            "29/29 [==============================] - 4s 141ms/step - loss: 0.2432 - acc: 0.9768 - val_loss: 1.0070 - val_acc: 0.8057 - lr: 0.0200\n",
            "Epoch 106/200\n",
            "29/29 [==============================] - 4s 142ms/step - loss: 0.2256 - acc: 0.9854 - val_loss: 1.0695 - val_acc: 0.8073 - lr: 0.0200\n",
            "Epoch 107/200\n",
            "29/29 [==============================] - 4s 141ms/step - loss: 0.2278 - acc: 0.9806 - val_loss: 1.0744 - val_acc: 0.8025 - lr: 0.0200\n",
            "Epoch 108/200\n",
            "29/29 [==============================] - 4s 142ms/step - loss: 0.2248 - acc: 0.9827 - val_loss: 1.0563 - val_acc: 0.8004 - lr: 0.0200\n",
            "Epoch 109/200\n",
            "29/29 [==============================] - 4s 143ms/step - loss: 0.2380 - acc: 0.9768 - val_loss: 1.1008 - val_acc: 0.8010 - lr: 0.0200\n",
            "Epoch 110/200\n",
            "29/29 [==============================] - 4s 142ms/step - loss: 0.2411 - acc: 0.9787 - val_loss: 1.0578 - val_acc: 0.8015 - lr: 0.0200\n",
            "Epoch 111/200\n",
            "29/29 [==============================] - 4s 141ms/step - loss: 0.2502 - acc: 0.9725 - val_loss: 1.0113 - val_acc: 0.8094 - lr: 0.0200\n",
            "Epoch 112/200\n",
            "29/29 [==============================] - 4s 141ms/step - loss: 0.2447 - acc: 0.9741 - val_loss: 1.0323 - val_acc: 0.8084 - lr: 0.0200\n",
            "Epoch 113/200\n",
            "29/29 [==============================] - 4s 142ms/step - loss: 0.2439 - acc: 0.9771 - val_loss: 1.0544 - val_acc: 0.7957 - lr: 0.0200\n",
            "Epoch 114/200\n",
            "29/29 [==============================] - 4s 142ms/step - loss: 0.2199 - acc: 0.9857 - val_loss: 1.0427 - val_acc: 0.8015 - lr: 0.0200\n",
            "Epoch 115/200\n",
            "29/29 [==============================] - 4s 142ms/step - loss: 0.2251 - acc: 0.9806 - val_loss: 1.0758 - val_acc: 0.8137 - lr: 0.0200\n",
            "Epoch 116/200\n",
            "29/29 [==============================] - 4s 141ms/step - loss: 0.2393 - acc: 0.9749 - val_loss: 1.0446 - val_acc: 0.8010 - lr: 0.0200\n",
            "Epoch 117/200\n",
            "29/29 [==============================] - 4s 141ms/step - loss: 0.2420 - acc: 0.9765 - val_loss: 1.1342 - val_acc: 0.7872 - lr: 0.0200\n",
            "Epoch 118/200\n",
            "29/29 [==============================] - 4s 141ms/step - loss: 0.2316 - acc: 0.9787 - val_loss: 1.0393 - val_acc: 0.8031 - lr: 0.0200\n",
            "Epoch 119/200\n",
            "29/29 [==============================] - 4s 141ms/step - loss: 0.2263 - acc: 0.9795 - val_loss: 1.1105 - val_acc: 0.7957 - lr: 0.0200\n",
            "Epoch 120/200\n",
            "29/29 [==============================] - 4s 141ms/step - loss: 0.2226 - acc: 0.9825 - val_loss: 1.0375 - val_acc: 0.8089 - lr: 0.0200\n",
            "Epoch 121/200\n",
            "29/29 [==============================] - 4s 142ms/step - loss: 0.2280 - acc: 0.9773 - val_loss: 1.0597 - val_acc: 0.8062 - lr: 0.0040\n",
            "Epoch 122/200\n",
            "29/29 [==============================] - 4s 141ms/step - loss: 0.1989 - acc: 0.9900 - val_loss: 1.0202 - val_acc: 0.8168 - lr: 0.0040\n",
            "Epoch 123/200\n",
            "29/29 [==============================] - 4s 142ms/step - loss: 0.1872 - acc: 0.9946 - val_loss: 1.0259 - val_acc: 0.8094 - lr: 0.0040\n",
            "Epoch 124/200\n",
            "29/29 [==============================] - 4s 142ms/step - loss: 0.1817 - acc: 0.9957 - val_loss: 1.0315 - val_acc: 0.8195 - lr: 0.0040\n",
            "Epoch 125/200\n",
            "29/29 [==============================] - 4s 142ms/step - loss: 0.1821 - acc: 0.9968 - val_loss: 1.0264 - val_acc: 0.8227 - lr: 0.0040\n",
            "Epoch 126/200\n",
            "29/29 [==============================] - 4s 142ms/step - loss: 0.1766 - acc: 0.9981 - val_loss: 1.0149 - val_acc: 0.8211 - lr: 0.0040\n",
            "Epoch 127/200\n",
            "29/29 [==============================] - 4s 141ms/step - loss: 0.1793 - acc: 0.9962 - val_loss: 1.0569 - val_acc: 0.8084 - lr: 0.0040\n",
            "Epoch 128/200\n",
            "29/29 [==============================] - 4s 141ms/step - loss: 0.1742 - acc: 0.9978 - val_loss: 1.0334 - val_acc: 0.8221 - lr: 0.0040\n",
            "Epoch 129/200\n",
            "29/29 [==============================] - 4s 142ms/step - loss: 0.1734 - acc: 0.9989 - val_loss: 1.0220 - val_acc: 0.8269 - lr: 0.0040\n",
            "Epoch 130/200\n",
            "29/29 [==============================] - 4s 142ms/step - loss: 0.1768 - acc: 0.9965 - val_loss: 1.0270 - val_acc: 0.8211 - lr: 0.0040\n",
            "Epoch 131/200\n",
            "29/29 [==============================] - 4s 142ms/step - loss: 0.1720 - acc: 0.9987 - val_loss: 1.0131 - val_acc: 0.8227 - lr: 0.0040\n",
            "Epoch 132/200\n",
            "29/29 [==============================] - 4s 142ms/step - loss: 0.1737 - acc: 0.9973 - val_loss: 1.0299 - val_acc: 0.8184 - lr: 0.0040\n",
            "Epoch 133/200\n",
            "29/29 [==============================] - 4s 142ms/step - loss: 0.1720 - acc: 0.9973 - val_loss: 1.0147 - val_acc: 0.8152 - lr: 0.0040\n",
            "Epoch 134/200\n",
            "29/29 [==============================] - 4s 142ms/step - loss: 0.1720 - acc: 0.9973 - val_loss: 1.0170 - val_acc: 0.8174 - lr: 0.0040\n",
            "Epoch 135/200\n",
            "29/29 [==============================] - 4s 141ms/step - loss: 0.1713 - acc: 0.9973 - val_loss: 1.0261 - val_acc: 0.8100 - lr: 0.0040\n",
            "Epoch 136/200\n",
            "29/29 [==============================] - 4s 142ms/step - loss: 0.1717 - acc: 0.9981 - val_loss: 1.0418 - val_acc: 0.8126 - lr: 0.0040\n",
            "Epoch 137/200\n",
            "29/29 [==============================] - 4s 141ms/step - loss: 0.1704 - acc: 0.9978 - val_loss: 0.9996 - val_acc: 0.8195 - lr: 0.0040\n",
            "Epoch 138/200\n",
            "29/29 [==============================] - 4s 142ms/step - loss: 0.1681 - acc: 0.9984 - val_loss: 1.0487 - val_acc: 0.8184 - lr: 0.0040\n",
            "Epoch 139/200\n",
            "29/29 [==============================] - 4s 142ms/step - loss: 0.1685 - acc: 0.9984 - val_loss: 1.0092 - val_acc: 0.8190 - lr: 0.0040\n",
            "Epoch 140/200\n",
            "29/29 [==============================] - 4s 142ms/step - loss: 0.1659 - acc: 0.9989 - val_loss: 1.0408 - val_acc: 0.8184 - lr: 0.0040\n",
            "Epoch 141/200\n",
            "29/29 [==============================] - 4s 142ms/step - loss: 0.1673 - acc: 0.9989 - val_loss: 1.0479 - val_acc: 0.8184 - lr: 0.0040\n",
            "Epoch 142/200\n",
            "29/29 [==============================] - 4s 142ms/step - loss: 0.1683 - acc: 0.9981 - val_loss: 1.0440 - val_acc: 0.8126 - lr: 0.0040\n",
            "Epoch 143/200\n",
            "29/29 [==============================] - 4s 141ms/step - loss: 0.1663 - acc: 0.9981 - val_loss: 1.0418 - val_acc: 0.8190 - lr: 0.0040\n",
            "Epoch 144/200\n",
            "29/29 [==============================] - 4s 142ms/step - loss: 0.1664 - acc: 0.9987 - val_loss: 1.0231 - val_acc: 0.8147 - lr: 0.0040\n",
            "Epoch 145/200\n",
            "29/29 [==============================] - 4s 142ms/step - loss: 0.1635 - acc: 0.9997 - val_loss: 1.0552 - val_acc: 0.8089 - lr: 0.0040\n",
            "Epoch 146/200\n",
            "29/29 [==============================] - 4s 141ms/step - loss: 0.1648 - acc: 0.9978 - val_loss: 1.0265 - val_acc: 0.8216 - lr: 0.0040\n",
            "Epoch 147/200\n",
            "29/29 [==============================] - 4s 142ms/step - loss: 0.1631 - acc: 0.9984 - val_loss: 1.0297 - val_acc: 0.8152 - lr: 0.0040\n",
            "Epoch 148/200\n",
            "29/29 [==============================] - 4s 142ms/step - loss: 0.1653 - acc: 0.9981 - val_loss: 1.0475 - val_acc: 0.8174 - lr: 0.0040\n",
            "Epoch 149/200\n",
            "29/29 [==============================] - 4s 142ms/step - loss: 0.1634 - acc: 0.9981 - val_loss: 1.0389 - val_acc: 0.8131 - lr: 0.0040\n",
            "Epoch 150/200\n",
            "29/29 [==============================] - 4s 142ms/step - loss: 0.1615 - acc: 0.9995 - val_loss: 1.0343 - val_acc: 0.8190 - lr: 0.0040\n",
            "Epoch 151/200\n",
            "29/29 [==============================] - 4s 142ms/step - loss: 0.1618 - acc: 0.9987 - val_loss: 1.0088 - val_acc: 0.8174 - lr: 0.0040\n",
            "Epoch 152/200\n",
            "29/29 [==============================] - 4s 142ms/step - loss: 0.1638 - acc: 0.9973 - val_loss: 1.0522 - val_acc: 0.8163 - lr: 0.0040\n",
            "Epoch 153/200\n",
            "29/29 [==============================] - 4s 141ms/step - loss: 0.1616 - acc: 0.9981 - val_loss: 1.0377 - val_acc: 0.8205 - lr: 0.0040\n",
            "Epoch 154/200\n",
            "29/29 [==============================] - 4s 147ms/step - loss: 0.1597 - acc: 0.9995 - val_loss: 1.0341 - val_acc: 0.8211 - lr: 0.0040\n",
            "Epoch 155/200\n",
            "29/29 [==============================] - 4s 141ms/step - loss: 0.1597 - acc: 0.9995 - val_loss: 1.0431 - val_acc: 0.8269 - lr: 0.0040\n",
            "Epoch 156/200\n",
            "29/29 [==============================] - 4s 142ms/step - loss: 0.1580 - acc: 0.9989 - val_loss: 1.0470 - val_acc: 0.8184 - lr: 0.0040\n",
            "Epoch 157/200\n",
            "29/29 [==============================] - 4s 142ms/step - loss: 0.1568 - acc: 0.9997 - val_loss: 1.0647 - val_acc: 0.8126 - lr: 0.0040\n",
            "Epoch 158/200\n",
            "29/29 [==============================] - 4s 141ms/step - loss: 0.1587 - acc: 0.9997 - val_loss: 1.0540 - val_acc: 0.8163 - lr: 0.0040\n",
            "Epoch 159/200\n",
            "29/29 [==============================] - 4s 141ms/step - loss: 0.1572 - acc: 0.9989 - val_loss: 1.0250 - val_acc: 0.8205 - lr: 0.0040\n",
            "Epoch 160/200\n",
            "29/29 [==============================] - 4s 142ms/step - loss: 0.1592 - acc: 0.9978 - val_loss: 1.0129 - val_acc: 0.8205 - lr: 0.0040\n",
            "Epoch 161/200\n",
            "29/29 [==============================] - 4s 141ms/step - loss: 0.1589 - acc: 0.9984 - val_loss: 1.0574 - val_acc: 0.8158 - lr: 8.0000e-04\n",
            "Epoch 162/200\n",
            "29/29 [==============================] - 4s 142ms/step - loss: 0.1578 - acc: 0.9992 - val_loss: 1.0304 - val_acc: 0.8168 - lr: 8.0000e-04\n",
            "Epoch 163/200\n",
            "29/29 [==============================] - 4s 142ms/step - loss: 0.1570 - acc: 0.9997 - val_loss: 1.0419 - val_acc: 0.8152 - lr: 8.0000e-04\n",
            "Epoch 164/200\n",
            "29/29 [==============================] - 4s 141ms/step - loss: 0.1563 - acc: 0.9997 - val_loss: 1.0593 - val_acc: 0.8216 - lr: 8.0000e-04\n",
            "Epoch 165/200\n",
            "29/29 [==============================] - 4s 142ms/step - loss: 0.1571 - acc: 0.9995 - val_loss: 1.0612 - val_acc: 0.8126 - lr: 8.0000e-04\n",
            "Epoch 166/200\n",
            "29/29 [==============================] - 4s 142ms/step - loss: 0.1571 - acc: 0.9989 - val_loss: 1.0599 - val_acc: 0.8200 - lr: 8.0000e-04\n",
            "Epoch 167/200\n",
            "29/29 [==============================] - 4s 141ms/step - loss: 0.1580 - acc: 0.9987 - val_loss: 1.0346 - val_acc: 0.8126 - lr: 8.0000e-04\n",
            "Epoch 168/200\n",
            "29/29 [==============================] - 4s 142ms/step - loss: 0.1567 - acc: 0.9992 - val_loss: 1.0880 - val_acc: 0.8115 - lr: 8.0000e-04\n",
            "Epoch 169/200\n",
            "29/29 [==============================] - 4s 141ms/step - loss: 0.1569 - acc: 0.9997 - val_loss: 1.0558 - val_acc: 0.8126 - lr: 8.0000e-04\n",
            "Epoch 170/200\n",
            "29/29 [==============================] - 4s 141ms/step - loss: 0.1576 - acc: 0.9984 - val_loss: 1.0412 - val_acc: 0.8179 - lr: 8.0000e-04\n",
            "Epoch 171/200\n",
            "29/29 [==============================] - 4s 142ms/step - loss: 0.1549 - acc: 0.9995 - val_loss: 1.0630 - val_acc: 0.8200 - lr: 8.0000e-04\n",
            "Epoch 172/200\n",
            "29/29 [==============================] - 4s 141ms/step - loss: 0.1560 - acc: 0.9989 - val_loss: 1.0249 - val_acc: 0.8280 - lr: 8.0000e-04\n",
            "Epoch 173/200\n",
            "29/29 [==============================] - 4s 142ms/step - loss: 0.1553 - acc: 0.9995 - val_loss: 1.0553 - val_acc: 0.8147 - lr: 8.0000e-04\n",
            "Epoch 174/200\n",
            "29/29 [==============================] - 4s 141ms/step - loss: 0.1552 - acc: 0.9989 - val_loss: 1.0659 - val_acc: 0.8221 - lr: 8.0000e-04\n",
            "Epoch 175/200\n",
            "29/29 [==============================] - 4s 141ms/step - loss: 0.1559 - acc: 0.9992 - val_loss: 1.0267 - val_acc: 0.8200 - lr: 8.0000e-04\n",
            "Epoch 176/200\n",
            "29/29 [==============================] - 4s 142ms/step - loss: 0.1561 - acc: 0.9992 - val_loss: 1.0435 - val_acc: 0.8115 - lr: 8.0000e-04\n",
            "Epoch 177/200\n",
            "29/29 [==============================] - 4s 142ms/step - loss: 0.1555 - acc: 0.9992 - val_loss: 1.0418 - val_acc: 0.8221 - lr: 8.0000e-04\n",
            "Epoch 178/200\n",
            "29/29 [==============================] - 4s 142ms/step - loss: 0.1551 - acc: 0.9995 - val_loss: 1.0571 - val_acc: 0.8242 - lr: 8.0000e-04\n",
            "Epoch 179/200\n",
            "29/29 [==============================] - 4s 142ms/step - loss: 0.1578 - acc: 0.9981 - val_loss: 1.0269 - val_acc: 0.8253 - lr: 8.0000e-04\n",
            "Epoch 180/200\n",
            "29/29 [==============================] - 4s 141ms/step - loss: 0.1556 - acc: 0.9992 - val_loss: 1.0230 - val_acc: 0.8152 - lr: 8.0000e-04\n",
            "Epoch 181/200\n",
            "29/29 [==============================] - 4s 141ms/step - loss: 0.1548 - acc: 0.9997 - val_loss: 1.0273 - val_acc: 0.8248 - lr: 8.0000e-04\n",
            "Epoch 182/200\n",
            "29/29 [==============================] - 4s 142ms/step - loss: 0.1553 - acc: 0.9995 - val_loss: 1.0217 - val_acc: 0.8285 - lr: 8.0000e-04\n",
            "Epoch 183/200\n",
            "29/29 [==============================] - 4s 142ms/step - loss: 0.1545 - acc: 0.9997 - val_loss: 1.0454 - val_acc: 0.8211 - lr: 8.0000e-04\n",
            "Epoch 184/200\n",
            "29/29 [==============================] - 4s 142ms/step - loss: 0.1547 - acc: 0.9984 - val_loss: 1.0373 - val_acc: 0.8237 - lr: 8.0000e-04\n",
            "Epoch 185/200\n",
            "29/29 [==============================] - 4s 141ms/step - loss: 0.1560 - acc: 0.9989 - val_loss: 1.0642 - val_acc: 0.8158 - lr: 8.0000e-04\n",
            "Epoch 186/200\n",
            "29/29 [==============================] - 4s 142ms/step - loss: 0.1552 - acc: 0.9987 - val_loss: 1.0331 - val_acc: 0.8274 - lr: 8.0000e-04\n",
            "Epoch 187/200\n",
            "29/29 [==============================] - 4s 142ms/step - loss: 0.1543 - acc: 0.9995 - val_loss: 1.0513 - val_acc: 0.8152 - lr: 8.0000e-04\n",
            "Epoch 188/200\n",
            "29/29 [==============================] - 4s 141ms/step - loss: 0.1546 - acc: 1.0000 - val_loss: 1.0449 - val_acc: 0.8105 - lr: 8.0000e-04\n",
            "Epoch 189/200\n",
            "29/29 [==============================] - 4s 142ms/step - loss: 0.1534 - acc: 0.9997 - val_loss: 1.0485 - val_acc: 0.8174 - lr: 8.0000e-04\n",
            "Epoch 190/200\n",
            "29/29 [==============================] - 4s 141ms/step - loss: 0.1548 - acc: 0.9989 - val_loss: 1.0130 - val_acc: 0.8152 - lr: 8.0000e-04\n",
            "Epoch 191/200\n",
            "29/29 [==============================] - 4s 142ms/step - loss: 0.1560 - acc: 0.9984 - val_loss: 1.0571 - val_acc: 0.8211 - lr: 8.0000e-04\n",
            "Epoch 192/200\n",
            "29/29 [==============================] - 4s 142ms/step - loss: 0.1544 - acc: 0.9987 - val_loss: 1.0635 - val_acc: 0.8195 - lr: 8.0000e-04\n",
            "Epoch 193/200\n",
            "29/29 [==============================] - 4s 142ms/step - loss: 0.1545 - acc: 0.9989 - val_loss: 1.0545 - val_acc: 0.8179 - lr: 8.0000e-04\n",
            "Epoch 194/200\n",
            "29/29 [==============================] - 4s 142ms/step - loss: 0.1534 - acc: 0.9995 - val_loss: 1.0522 - val_acc: 0.8227 - lr: 8.0000e-04\n",
            "Epoch 195/200\n",
            "29/29 [==============================] - 4s 141ms/step - loss: 0.1536 - acc: 0.9992 - val_loss: 1.0427 - val_acc: 0.8221 - lr: 8.0000e-04\n",
            "Epoch 196/200\n",
            "29/29 [==============================] - 4s 142ms/step - loss: 0.1535 - acc: 0.9997 - val_loss: 1.0410 - val_acc: 0.8174 - lr: 8.0000e-04\n",
            "Epoch 197/200\n",
            "29/29 [==============================] - 4s 142ms/step - loss: 0.1537 - acc: 1.0000 - val_loss: 1.0145 - val_acc: 0.8184 - lr: 8.0000e-04\n",
            "Epoch 198/200\n",
            "29/29 [==============================] - 4s 141ms/step - loss: 0.1539 - acc: 0.9995 - val_loss: 1.0334 - val_acc: 0.8152 - lr: 8.0000e-04\n",
            "Epoch 199/200\n",
            "29/29 [==============================] - 4s 143ms/step - loss: 0.1531 - acc: 0.9997 - val_loss: 1.0347 - val_acc: 0.8174 - lr: 8.0000e-04\n",
            "Epoch 200/200\n",
            "29/29 [==============================] - 4s 141ms/step - loss: 0.1534 - acc: 0.9995 - val_loss: 1.0443 - val_acc: 0.8205 - lr: 8.0000e-04\n"
          ],
          "name": "stdout"
        }
      ]
    },
    {
      "cell_type": "code",
      "metadata": {
        "id": "xI39Sx-kYyUx",
        "colab_type": "code",
        "colab": {}
      },
      "source": [
        "wrn_16_2.save(\"model_wrn_last.h5\")"
      ],
      "execution_count": 0,
      "outputs": []
    },
    {
      "cell_type": "code",
      "metadata": {
        "id": "5Paxp_UhrduV",
        "colab_type": "code",
        "outputId": "0f8cded9-0ea4-49e3-8589-6f3444088a39",
        "colab": {
          "base_uri": "https://localhost:8080/",
          "height": 34
        }
      },
      "source": [
        "img = X_train[8]\n",
        "img.shape"
      ],
      "execution_count": 44,
      "outputs": [
        {
          "output_type": "execute_result",
          "data": {
            "text/plain": [
              "(68, 100, 1)"
            ]
          },
          "metadata": {
            "tags": []
          },
          "execution_count": 44
        }
      ]
    },
    {
      "cell_type": "code",
      "metadata": {
        "id": "AO-_q-QUsn-T",
        "colab_type": "code",
        "outputId": "f95b7e35-89ce-49e7-99bc-7cbc9fa7ca3a",
        "colab": {
          "base_uri": "https://localhost:8080/",
          "height": 34
        }
      },
      "source": [
        "y_train[8]"
      ],
      "execution_count": 45,
      "outputs": [
        {
          "output_type": "execute_result",
          "data": {
            "text/plain": [
              "array([0., 1., 0., 0.], dtype=float32)"
            ]
          },
          "metadata": {
            "tags": []
          },
          "execution_count": 45
        }
      ]
    },
    {
      "cell_type": "code",
      "metadata": {
        "id": "FFw-Cjamdsi8",
        "colab_type": "code",
        "colab": {}
      },
      "source": [
        ""
      ],
      "execution_count": 0,
      "outputs": []
    },
    {
      "cell_type": "code",
      "metadata": {
        "id": "lr_quzDGwKGM",
        "colab_type": "code",
        "outputId": "98ba32af-3651-46b7-c573-2fb3a7e1663b",
        "colab": {
          "base_uri": "https://localhost:8080/",
          "height": 608
        }
      },
      "source": [
        "import matplotlib.pyplot as plt\n",
        "\n",
        "history = hist\n",
        "print(history.history.keys())\n",
        "# summarize history for accuracy\n",
        "plt.plot(history.history['acc'])\n",
        "plt.plot(history.history['val_acc'])\n",
        "plt.title('model accuracy')\n",
        "plt.ylabel('accuracy')\n",
        "plt.xlabel('epoch')\n",
        "plt.legend(['train', 'test'], loc='upper left')\n",
        "plt.show()\n",
        "plt.savefig(\"wrn_tensor.png\")\n",
        "# summarize history for loss\n",
        "plt.plot(history.history['loss'])\n",
        "plt.plot(history.history['val_loss'])\n",
        "plt.title('model loss')\n",
        "plt.ylabel('loss')\n",
        "plt.xlabel('epoch')\n",
        "plt.legend(['train', 'test'], loc='upper left')\n",
        "plt.show()\n",
        "plt.savefig(\"deneme.png\")"
      ],
      "execution_count": 46,
      "outputs": [
        {
          "output_type": "stream",
          "text": [
            "dict_keys(['loss', 'acc', 'val_loss', 'val_acc', 'lr'])\n"
          ],
          "name": "stdout"
        },
        {
          "output_type": "display_data",
          "data": {
            "image/png": "[encoded data removed]",
            "text/plain": [
              "<Figure size 432x288 with 1 Axes>"
            ]
          },
          "metadata": {
            "tags": [],
            "needs_background": "light"
          }
        },
        {
          "output_type": "display_data",
          "data": {
            "image/png": "[encoded data removed]",
            "text/plain": [
              "<Figure size 432x288 with 1 Axes>"
            ]
          },
          "metadata": {
            "tags": [],
            "needs_background": "light"
          }
        },
        {
          "output_type": "display_data",
          "data": {
            "text/plain": [
              "<Figure size 432x288 with 0 Axes>"
            ]
          },
          "metadata": {
            "tags": []
          }
        }
      ]
    },
    {
      "cell_type": "code",
      "metadata": {
        "id": "iE16jXuZw8xb",
        "colab_type": "code",
        "outputId": "401e8338-5f19-4918-e4dc-d5a668c674e1",
        "colab": {
          "base_uri": "https://localhost:8080/",
          "height": 52
        }
      },
      "source": [
        "wrn_16_2.evaluate(X_test,y_test)"
      ],
      "execution_count": 47,
      "outputs": [
        {
          "output_type": "stream",
          "text": [
            "60/60 [==============================] - 1s 12ms/step - loss: 1.0443 - acc: 0.8205\n"
          ],
          "name": "stdout"
        },
        {
          "output_type": "execute_result",
          "data": {
            "text/plain": [
              "[1.0443141460418701, 0.8205399513244629]"
            ]
          },
          "metadata": {
            "tags": []
          },
          "execution_count": 47
        }
      ]
    },
    {
      "cell_type": "code",
      "metadata": {
        "id": "SmZpcppX5u_C",
        "colab_type": "code",
        "outputId": "84c542aa-6a3c-4670-fb71-f1c98a18f45d",
        "colab": {
          "base_uri": "https://localhost:8080/",
          "height": 52
        }
      },
      "source": [
        "wrn_16_2.evaluate(X_train,y_train)"
      ],
      "execution_count": 48,
      "outputs": [
        {
          "output_type": "stream",
          "text": [
            "120/120 [==============================] - 1s 12ms/step - loss: 0.1507 - acc: 0.9995\n"
          ],
          "name": "stdout"
        },
        {
          "output_type": "execute_result",
          "data": {
            "text/plain": [
              "[0.15069280564785004, 0.9994782209396362]"
            ]
          },
          "metadata": {
            "tags": []
          },
          "execution_count": 48
        }
      ]
    },
    {
      "cell_type": "markdown",
      "metadata": {
        "id": "vEDHJIheU8bm",
        "colab_type": "text"
      },
      "source": [
        "##Adversarial Examples\n"
      ]
    },
    {
      "cell_type": "code",
      "metadata": {
        "id": "5QB8zFSSU7Qy",
        "colab_type": "code",
        "outputId": "7aa747b1-b705-424e-a31c-363ce7b6d6ca",
        "colab": {
          "base_uri": "https://localhost:8080/",
          "height": 749
        }
      },
      "source": [
        "!pip install -q tensorflow==2.0.0b1\n",
        "# Install bleeding edge version of cleverhans\n",
        "!pip install git+https://github.com/tensorflow/cleverhans.git#egg=cleverhans\n",
        "\n",
        "import cleverhans\n",
        "import tensorflow as tf\n",
        "import numpy as np\n",
        "import matplotlib.pyplot as plt\n",
        "\n",
        "print(\"\\nTensorflow Version: \" + tf.__version__)\n",
        "print(\"Cleverhans Version: \" + cleverhans.__version__)\n",
        "print(\"GPU Available: \", tf.test.is_gpu_available())"
      ],
      "execution_count": 49,
      "outputs": [
        {
          "output_type": "stream",
          "text": [
            "\u001b[K     |████████████████████████████████| 87.9MB 50kB/s \n",
            "\u001b[K     |████████████████████████████████| 3.1MB 55.1MB/s \n",
            "\u001b[K     |████████████████████████████████| 501kB 52.1MB/s \n",
            "\u001b[?25hCollecting cleverhans\n",
            "  Cloning https://github.com/tensorflow/cleverhans.git to /tmp/pip-install-jbk653za/cleverhans\n",
            "  Running command git clone -q https://github.com/tensorflow/cleverhans.git /tmp/pip-install-jbk653za/cleverhans\n",
            "Collecting nose\n",
            "\u001b[?25l  Downloading https://files.pythonhosted.org/packages/15/d8/dd071918c040f50fa1cf80da16423af51ff8ce4a0f2399b7bf8de45ac3d9/nose-1.3.7-py3-none-any.whl (154kB)\n",
            "\u001b[K     |████████████████████████████████| 163kB 7.2MB/s \n",
            "\u001b[?25hCollecting pycodestyle\n",
            "\u001b[?25l  Downloading https://files.pythonhosted.org/packages/10/5b/88879fb861ab79aef45c7e199cae3ef7af487b5603dcb363517a50602dd7/pycodestyle-2.6.0-py2.py3-none-any.whl (41kB)\n",
            "\u001b[K     |████████████████████████████████| 51kB 5.0MB/s \n",
            "\u001b[?25hRequirement already satisfied: scipy in /usr/local/lib/python3.6/dist-packages (from cleverhans) (1.4.1)\n",
            "Requirement already satisfied: matplotlib in /usr/local/lib/python3.6/dist-packages (from cleverhans) (3.2.1)\n",
            "Collecting mnist~=0.2\n",
            "  Downloading https://files.pythonhosted.org/packages/c6/c4/5db3bfe009f8d71f1d532bbadbd0ec203764bba3a469e4703a889db8e5e0/mnist-0.2.2-py2.py3-none-any.whl\n",
            "Requirement already satisfied: numpy in /usr/local/lib/python3.6/dist-packages (from cleverhans) (1.18.4)\n",
            "Requirement already satisfied: tensorflow-probability in /usr/local/lib/python3.6/dist-packages (from cleverhans) (0.10.0)\n",
            "Requirement already satisfied: joblib in /usr/local/lib/python3.6/dist-packages (from cleverhans) (0.15.1)\n",
            "Requirement already satisfied: kiwisolver>=1.0.1 in /usr/local/lib/python3.6/dist-packages (from matplotlib->cleverhans) (1.2.0)\n",
            "Requirement already satisfied: python-dateutil>=2.1 in /usr/local/lib/python3.6/dist-packages (from matplotlib->cleverhans) (2.8.1)\n",
            "Requirement already satisfied: cycler>=0.10 in /usr/local/lib/python3.6/dist-packages (from matplotlib->cleverhans) (0.10.0)\n",
            "Requirement already satisfied: pyparsing!=2.0.4,!=2.1.2,!=2.1.6,>=2.0.1 in /usr/local/lib/python3.6/dist-packages (from matplotlib->cleverhans) (2.4.7)\n",
            "Requirement already satisfied: six>=1.10.0 in /usr/local/lib/python3.6/dist-packages (from tensorflow-probability->cleverhans) (1.12.0)\n",
            "Requirement already satisfied: decorator in /usr/local/lib/python3.6/dist-packages (from tensorflow-probability->cleverhans) (4.4.2)\n",
            "Requirement already satisfied: cloudpickle>=1.2.2 in /usr/local/lib/python3.6/dist-packages (from tensorflow-probability->cleverhans) (1.3.0)\n",
            "Requirement already satisfied: gast>=0.3.2 in /usr/local/lib/python3.6/dist-packages (from tensorflow-probability->cleverhans) (0.3.3)\n",
            "Building wheels for collected packages: cleverhans\n",
            "  Building wheel for cleverhans (setup.py) ... \u001b[?25l\u001b[?25hdone\n",
            "  Created wheel for cleverhans: filename=cleverhans-3.0.1-cp36-none-any.whl size=262572 sha256=fb16e333e0f8695963d1cd50d6963699a6d7698ec5769ee1894dab2d7a0f0880\n",
            "  Stored in directory: /tmp/pip-ephem-wheel-cache-mkqxgqwn/wheels/6e/59/ec/723a6f654aaf62c8c40f0f0850fdf71a4948598697f56c3bfa\n",
            "Successfully built cleverhans\n",
            "Installing collected packages: nose, pycodestyle, mnist, cleverhans\n",
            "Successfully installed cleverhans-3.0.1 mnist-0.2.2 nose-1.3.7 pycodestyle-2.6.0\n",
            "\n",
            "Tensorflow Version: 2.2.0\n",
            "Cleverhans Version: 3.0.1-fc7b7c7ec903258e0e3fb88503fa629f\n",
            "WARNING:tensorflow:From <ipython-input-49-67a2c783edbc>:12: is_gpu_available (from tensorflow.python.framework.test_util) is deprecated and will be removed in a future version.\n",
            "Instructions for updating:\n",
            "Use `tf.config.list_physical_devices('GPU')` instead.\n",
            "GPU Available:  True\n"
          ],
          "name": "stdout"
        }
      ]
    },
    {
      "cell_type": "code",
      "metadata": {
        "id": "2_bfZ4G8W_sM",
        "colab_type": "code",
        "colab": {}
      },
      "source": [
        "from cleverhans.future.tf2.attacks import fast_gradient_method\n",
        "\n",
        "#The attack requires the model to ouput the logits\n",
        "logits_model = tf.keras.Model(wrn_16_2.input,wrn_16_2.layers[-1].output)"
      ],
      "execution_count": 0,
      "outputs": []
    },
    {
      "cell_type": "code",
      "metadata": {
        "id": "gGWIlakqVD_i",
        "colab_type": "code",
        "colab": {
          "base_uri": "https://localhost:8080/",
          "height": 141
        },
        "outputId": "eb25274a-caf8-49f2-ed28-660f69333283"
      },
      "source": [
        "X_adv = []\n",
        "y_adv = []\n",
        "for i in range(len(X)):\n",
        "  random_index = i\n",
        "  original_image = X[random_index]\n",
        "  original_image = tf.convert_to_tensor(original_image.reshape((1,68,100))) #The .reshape just gives it the proper form to input into the model, a batch of 1 a.k.a a tensor\n",
        "\n",
        "  original_label = y_cat[random_index]\n",
        "\n",
        "  epsilon = 0.4\n",
        "  original_label\n",
        "  adv_example_targeted_label = fast_gradient_method(logits_model, original_image, epsilon, np.inf, targeted=False)\n",
        "\n",
        "  adv_example_targeted_label_pred = wrn_16_2.predict(adv_example_targeted_label)\n",
        "  X_adv.append(adv_example_targeted_label)\n",
        "  y_adv.append(np.argmax(adv_example_targeted_label_pred))\n",
        "\n",
        "\n"
      ],
      "execution_count": 51,
      "outputs": [
        {
          "output_type": "stream",
          "text": [
            "WARNING:tensorflow:AutoGraph could not transform <function Model.make_predict_function.<locals>.predict_function at 0x7fd6e9861950> and will run it as-is.\n",
            "Cause: generators are not supported\n",
            "To silence this warning, decorate the function with @tf.autograph.experimental.do_not_convert\n",
            "WARNING: AutoGraph could not transform <function Model.make_predict_function.<locals>.predict_function at 0x7fd6e9861950> and will run it as-is.\n",
            "Cause: generators are not supported\n",
            "To silence this warning, decorate the function with @tf.autograph.experimental.do_not_convert\n"
          ],
          "name": "stdout"
        }
      ]
    },
    {
      "cell_type": "code",
      "metadata": {
        "id": "nfF0d5ePbXK0",
        "colab_type": "code",
        "colab": {}
      },
      "source": [
        "y_adv = np.array(y_adv)"
      ],
      "execution_count": 0,
      "outputs": []
    },
    {
      "cell_type": "code",
      "metadata": {
        "id": "d5I9X-0mboqa",
        "colab_type": "code",
        "colab": {}
      },
      "source": [
        "y_adv_df = pd.DataFrame(y_adv, columns=['Encoded'])\n",
        "y_adv_df['Encoded'] = labelencoder.fit_transform(y_adv)"
      ],
      "execution_count": 0,
      "outputs": []
    },
    {
      "cell_type": "code",
      "metadata": {
        "id": "IcxHP-bTcIwR",
        "colab_type": "code",
        "outputId": "30d3ac6e-f818-47dd-b679-360b56d711cd",
        "colab": {
          "base_uri": "https://localhost:8080/",
          "height": 104
        }
      },
      "source": [
        "y_adv_df['Encoded'].value_counts()"
      ],
      "execution_count": 55,
      "outputs": [
        {
          "output_type": "execute_result",
          "data": {
            "text/plain": [
              "1    3842\n",
              "0    1023\n",
              "2     544\n",
              "3     313\n",
              "Name: Encoded, dtype: int64"
            ]
          },
          "metadata": {
            "tags": []
          },
          "execution_count": 55
        }
      ]
    },
    {
      "cell_type": "code",
      "metadata": {
        "id": "M1DCXV9Tc9B0",
        "colab_type": "code",
        "colab": {}
      },
      "source": [
        "import pickle\n",
        "\n",
        "my_data = {'image': X_adv,\n",
        "           'label': y_adv_df['Encoded']\n",
        "           }\n",
        "output = open('data_adv.pkl', 'wb')\n",
        "pickle.dump(my_data, output)\n",
        "output.close()"
      ],
      "execution_count": 0,
      "outputs": []
    },
    {
      "cell_type": "code",
      "metadata": {
        "id": "J1mGBoQbd46-",
        "colab_type": "code",
        "colab": {}
      },
      "source": [
        "X_new = []\n",
        "for i in range(len(X_adv)):\n",
        "  a = np.array(X_adv[i])\n",
        "  X_new.append(a.reshape(68,100,1))"
      ],
      "execution_count": 0,
      "outputs": []
    },
    {
      "cell_type": "code",
      "metadata": {
        "id": "DdE_WN8Ffgyz",
        "colab_type": "code",
        "colab": {}
      },
      "source": [
        "for i in range(len(X)):\n",
        "  a = np.array(X[i])\n",
        "  X_new.append(a)"
      ],
      "execution_count": 0,
      "outputs": []
    },
    {
      "cell_type": "code",
      "metadata": {
        "id": "YKAnXO0Vfg1T",
        "colab_type": "code",
        "colab": {}
      },
      "source": [
        "X_third = np.array(X_new)"
      ],
      "execution_count": 0,
      "outputs": []
    },
    {
      "cell_type": "code",
      "metadata": {
        "id": "dKEU954BeHee",
        "colab_type": "code",
        "outputId": "e2c7a19f-3eac-4033-d1a9-7c4168889f31",
        "colab": {
          "base_uri": "https://localhost:8080/",
          "height": 34
        }
      },
      "source": [
        "X_third.shape"
      ],
      "execution_count": 67,
      "outputs": [
        {
          "output_type": "execute_result",
          "data": {
            "text/plain": [
              "(11444, 68, 100, 1)"
            ]
          },
          "metadata": {
            "tags": []
          },
          "execution_count": 67
        }
      ]
    },
    {
      "cell_type": "code",
      "metadata": {
        "id": "m9UIXimpiKWk",
        "colab_type": "code",
        "colab": {}
      },
      "source": [
        "y_new = []\n",
        "for j in range(0,2):\n",
        "  for i in range(len(y_cat)):\n",
        "    y_new.append(y_cat[i])\n",
        "y_third = np.array(y_new)"
      ],
      "execution_count": 0,
      "outputs": []
    },
    {
      "cell_type": "code",
      "metadata": {
        "id": "vuRIuXcNiKY4",
        "colab_type": "code",
        "colab": {}
      },
      "source": [
        "X_all, y_all = X_third, y_third"
      ],
      "execution_count": 0,
      "outputs": []
    },
    {
      "cell_type": "code",
      "metadata": {
        "id": "qJXveP1Veo7G",
        "colab_type": "code",
        "colab": {}
      },
      "source": [
        "X_train_adv, X_test_adv, y_train_adv, y_test_adv = train_test_split( X_all,y_all, test_size = 0.33, shuffle=True)"
      ],
      "execution_count": 0,
      "outputs": []
    },
    {
      "cell_type": "code",
      "metadata": {
        "id": "WMJjEg9qiI0n",
        "colab_type": "code",
        "colab": {}
      },
      "source": [
        ""
      ],
      "execution_count": 0,
      "outputs": []
    },
    {
      "cell_type": "code",
      "metadata": {
        "id": "HibsOpTIcNq8",
        "colab_type": "code",
        "outputId": "a0168590-34e3-4688-ac47-bc17f303abd4",
        "colab": {
          "base_uri": "https://localhost:8080/",
          "height": 69
        }
      },
      "source": [
        "wrn_16_2_adv = create_wide_residual_network(init, nb_classes=4, N=2, k=2, dropout=0.3)"
      ],
      "execution_count": 71,
      "outputs": [
        {
          "output_type": "stream",
          "text": [
            "conv2:channel:  -1\n",
            "conv3 channel_axis:-1 \n",
            "Parseval Residual Network-16-2 created.\n"
          ],
          "name": "stdout"
        }
      ]
    },
    {
      "cell_type": "code",
      "metadata": {
        "id": "q96wjHqxeTJ-",
        "colab_type": "code",
        "outputId": "0fce4671-f1cb-47af-fd8f-f11614c39c03",
        "colab": {
          "base_uri": "https://localhost:8080/",
          "height": 34
        }
      },
      "source": [
        "wrn_16_2_adv.compile(loss=\"categorical_crossentropy\", optimizer=sgd, metrics=[\"acc\"])\n",
        "print(\"Finished compiling\")\n",
        "BS_adv= 100\n",
        "EPOCHS_adv = 50"
      ],
      "execution_count": 72,
      "outputs": [
        {
          "output_type": "stream",
          "text": [
            "Finished compiling\n"
          ],
          "name": "stdout"
        }
      ]
    },
    {
      "cell_type": "code",
      "metadata": {
        "id": "-Jewqs8yxlnf",
        "colab_type": "code",
        "colab": {}
      },
      "source": [
        "def lr_sch_train(epoch):\n",
        "    if epoch < 10:\n",
        "        return 0.1\n",
        "    elif epoch <20:\n",
        "        return 0.1/2.0\n",
        "    elif epoch < 30:\n",
        "        return 0.1/2.0**2\n",
        "    elif epoch < 40:\n",
        "        return 0.1/2.0**3\n",
        "    else:\n",
        "        return 0.1/2.0**4\n",
        "\n",
        "# Learning rate scheduler callback\n",
        "lr_scheduler_train = LearningRateScheduler(lr_sch_train)"
      ],
      "execution_count": 0,
      "outputs": []
    },
    {
      "cell_type": "code",
      "metadata": {
        "id": "9FIn8khEd45J",
        "colab_type": "code",
        "outputId": "61782c12-f422-4c20-e4a6-8a6d6c6c05e2",
        "colab": {
          "base_uri": "https://localhost:8080/",
          "height": 1000
        }
      },
      "source": [
        "\n",
        "hist = wrn_16_2_adv.fit_generator(generator.flow(X_train_adv, y_train_adv, batch_size=BS_adv), steps_per_epoch=len(X_train_adv) // BS_adv, epochs=EPOCHS_adv,\n",
        "                   callbacks=[lr_scheduler_train],\n",
        "                   validation_data=(X_test_adv, y_test_adv),\n",
        "                   validation_steps=X_test_adv.shape[0] // BS_adv,)"
      ],
      "execution_count": 74,
      "outputs": [
        {
          "output_type": "stream",
          "text": [
            "Epoch 1/50\n",
            "76/76 [==============================] - 10s 133ms/step - loss: 2.3755 - acc: 0.3602 - val_loss: 2.2495 - val_acc: 0.4059 - lr: 0.1000\n",
            "Epoch 2/50\n",
            "76/76 [==============================] - 9s 122ms/step - loss: 2.1648 - acc: 0.4086 - val_loss: 2.0533 - val_acc: 0.4445 - lr: 0.1000\n",
            "Epoch 3/50\n",
            "76/76 [==============================] - 9s 122ms/step - loss: 1.9909 - acc: 0.4604 - val_loss: 1.8964 - val_acc: 0.4935 - lr: 0.1000\n",
            "Epoch 4/50\n",
            "76/76 [==============================] - 9s 121ms/step - loss: 1.8280 - acc: 0.4991 - val_loss: 2.0598 - val_acc: 0.4040 - lr: 0.1000\n",
            "Epoch 5/50\n",
            "76/76 [==============================] - 9s 122ms/step - loss: 1.7085 - acc: 0.5254 - val_loss: 1.6490 - val_acc: 0.5449 - lr: 0.1000\n",
            "Epoch 6/50\n",
            "76/76 [==============================] - 9s 123ms/step - loss: 1.5827 - acc: 0.5524 - val_loss: 1.5226 - val_acc: 0.5594 - lr: 0.1000\n",
            "Epoch 7/50\n",
            "76/76 [==============================] - 9s 122ms/step - loss: 1.5102 - acc: 0.5573 - val_loss: 1.4375 - val_acc: 0.5650 - lr: 0.1000\n",
            "Epoch 8/50\n",
            "76/76 [==============================] - 9s 122ms/step - loss: 1.4166 - acc: 0.5680 - val_loss: 1.4771 - val_acc: 0.5536 - lr: 0.1000\n",
            "Epoch 9/50\n",
            "76/76 [==============================] - 9s 122ms/step - loss: 1.3535 - acc: 0.5840 - val_loss: 1.3046 - val_acc: 0.6031 - lr: 0.1000\n",
            "Epoch 10/50\n",
            "76/76 [==============================] - 9s 121ms/step - loss: 1.2866 - acc: 0.5980 - val_loss: 1.2296 - val_acc: 0.6142 - lr: 0.1000\n",
            "Epoch 11/50\n",
            "76/76 [==============================] - 9s 121ms/step - loss: 1.2200 - acc: 0.6136 - val_loss: 1.1887 - val_acc: 0.6312 - lr: 0.0500\n",
            "Epoch 12/50\n",
            "76/76 [==============================] - 9s 121ms/step - loss: 1.1740 - acc: 0.6247 - val_loss: 1.1986 - val_acc: 0.6100 - lr: 0.0500\n",
            "Epoch 13/50\n",
            "76/76 [==============================] - 9s 121ms/step - loss: 1.1479 - acc: 0.6263 - val_loss: 1.1410 - val_acc: 0.6410 - lr: 0.0500\n",
            "Epoch 14/50\n",
            "76/76 [==============================] - 9s 121ms/step - loss: 1.1319 - acc: 0.6354 - val_loss: 1.1132 - val_acc: 0.6346 - lr: 0.0500\n",
            "Epoch 15/50\n",
            "76/76 [==============================] - 9s 121ms/step - loss: 1.0819 - acc: 0.6580 - val_loss: 1.0653 - val_acc: 0.6645 - lr: 0.0500\n",
            "Epoch 16/50\n",
            "76/76 [==============================] - 9s 121ms/step - loss: 1.0766 - acc: 0.6473 - val_loss: 1.0523 - val_acc: 0.6704 - lr: 0.0500\n",
            "Epoch 17/50\n",
            "76/76 [==============================] - 9s 121ms/step - loss: 1.0451 - acc: 0.6569 - val_loss: 1.1296 - val_acc: 0.6405 - lr: 0.0500\n",
            "Epoch 18/50\n",
            "76/76 [==============================] - 9s 122ms/step - loss: 1.0201 - acc: 0.6671 - val_loss: 0.9986 - val_acc: 0.6781 - lr: 0.0500\n",
            "Epoch 19/50\n",
            "76/76 [==============================] - 9s 121ms/step - loss: 0.9984 - acc: 0.6756 - val_loss: 1.0105 - val_acc: 0.6720 - lr: 0.0500\n",
            "Epoch 20/50\n",
            "76/76 [==============================] - 9s 121ms/step - loss: 0.9872 - acc: 0.6816 - val_loss: 1.0096 - val_acc: 0.6770 - lr: 0.0500\n",
            "Epoch 21/50\n",
            "76/76 [==============================] - 9s 121ms/step - loss: 0.9250 - acc: 0.7038 - val_loss: 0.9511 - val_acc: 0.7000 - lr: 0.0250\n",
            "Epoch 22/50\n",
            "76/76 [==============================] - 9s 120ms/step - loss: 0.8928 - acc: 0.7185 - val_loss: 0.9148 - val_acc: 0.7239 - lr: 0.0250\n",
            "Epoch 23/50\n",
            "76/76 [==============================] - 9s 121ms/step - loss: 0.8663 - acc: 0.7250 - val_loss: 0.9794 - val_acc: 0.6905 - lr: 0.0250\n",
            "Epoch 24/50\n",
            "76/76 [==============================] - 9s 121ms/step - loss: 0.8584 - acc: 0.7262 - val_loss: 0.8972 - val_acc: 0.7191 - lr: 0.0250\n",
            "Epoch 25/50\n",
            "76/76 [==============================] - 9s 121ms/step - loss: 0.8473 - acc: 0.7361 - val_loss: 0.9065 - val_acc: 0.7061 - lr: 0.0250\n",
            "Epoch 26/50\n",
            "76/76 [==============================] - 9s 121ms/step - loss: 0.8229 - acc: 0.7475 - val_loss: 0.9528 - val_acc: 0.6886 - lr: 0.0250\n",
            "Epoch 27/50\n",
            "76/76 [==============================] - 9s 121ms/step - loss: 0.8120 - acc: 0.7456 - val_loss: 0.8912 - val_acc: 0.7199 - lr: 0.0250\n",
            "Epoch 28/50\n",
            "76/76 [==============================] - 9s 121ms/step - loss: 0.8020 - acc: 0.7597 - val_loss: 0.8631 - val_acc: 0.7387 - lr: 0.0250\n",
            "Epoch 29/50\n",
            "76/76 [==============================] - 9s 122ms/step - loss: 0.7844 - acc: 0.7621 - val_loss: 0.8657 - val_acc: 0.7265 - lr: 0.0250\n",
            "Epoch 30/50\n",
            "76/76 [==============================] - 9s 121ms/step - loss: 0.7678 - acc: 0.7714 - val_loss: 0.9260 - val_acc: 0.7024 - lr: 0.0250\n",
            "Epoch 31/50\n",
            "76/76 [==============================] - 9s 120ms/step - loss: 0.7166 - acc: 0.7899 - val_loss: 0.8175 - val_acc: 0.7622 - lr: 0.0125\n",
            "Epoch 32/50\n",
            "76/76 [==============================] - 9s 121ms/step - loss: 0.6741 - acc: 0.8069 - val_loss: 0.8126 - val_acc: 0.7583 - lr: 0.0125\n",
            "Epoch 33/50\n",
            "76/76 [==============================] - 9s 120ms/step - loss: 0.6616 - acc: 0.8119 - val_loss: 0.7561 - val_acc: 0.7736 - lr: 0.0125\n",
            "Epoch 34/50\n",
            "76/76 [==============================] - 9s 121ms/step - loss: 0.6590 - acc: 0.8151 - val_loss: 0.7678 - val_acc: 0.7750 - lr: 0.0125\n",
            "Epoch 35/50\n",
            "76/76 [==============================] - 9s 121ms/step - loss: 0.6470 - acc: 0.8170 - val_loss: 0.7665 - val_acc: 0.7885 - lr: 0.0125\n",
            "Epoch 36/50\n",
            "76/76 [==============================] - 9s 121ms/step - loss: 0.6150 - acc: 0.8279 - val_loss: 0.9348 - val_acc: 0.7154 - lr: 0.0125\n",
            "Epoch 37/50\n",
            "76/76 [==============================] - 9s 121ms/step - loss: 0.6104 - acc: 0.8301 - val_loss: 0.7907 - val_acc: 0.7575 - lr: 0.0125\n",
            "Epoch 38/50\n",
            "76/76 [==============================] - 9s 121ms/step - loss: 0.6065 - acc: 0.8306 - val_loss: 0.9045 - val_acc: 0.7223 - lr: 0.0125\n",
            "Epoch 39/50\n",
            "76/76 [==============================] - 9s 121ms/step - loss: 0.6043 - acc: 0.8298 - val_loss: 0.8050 - val_acc: 0.7697 - lr: 0.0125\n",
            "Epoch 40/50\n",
            "76/76 [==============================] - 9s 121ms/step - loss: 0.5936 - acc: 0.8349 - val_loss: 0.8304 - val_acc: 0.7532 - lr: 0.0125\n",
            "Epoch 41/50\n",
            "76/76 [==============================] - 9s 121ms/step - loss: 0.5518 - acc: 0.8544 - val_loss: 0.7267 - val_acc: 0.7961 - lr: 0.0063\n",
            "Epoch 42/50\n",
            "76/76 [==============================] - 9s 121ms/step - loss: 0.5001 - acc: 0.8783 - val_loss: 0.7073 - val_acc: 0.8088 - lr: 0.0063\n",
            "Epoch 43/50\n",
            "76/76 [==============================] - 9s 121ms/step - loss: 0.4964 - acc: 0.8779 - val_loss: 0.6804 - val_acc: 0.8181 - lr: 0.0063\n",
            "Epoch 44/50\n",
            "76/76 [==============================] - 9s 121ms/step - loss: 0.4828 - acc: 0.8816 - val_loss: 0.6933 - val_acc: 0.8086 - lr: 0.0063\n",
            "Epoch 45/50\n",
            "76/76 [==============================] - 9s 120ms/step - loss: 0.4775 - acc: 0.8812 - val_loss: 0.7037 - val_acc: 0.8102 - lr: 0.0063\n",
            "Epoch 46/50\n",
            "76/76 [==============================] - 9s 121ms/step - loss: 0.4904 - acc: 0.8759 - val_loss: 0.7609 - val_acc: 0.7879 - lr: 0.0063\n",
            "Epoch 47/50\n",
            "76/76 [==============================] - 9s 120ms/step - loss: 0.4807 - acc: 0.8804 - val_loss: 0.7652 - val_acc: 0.7890 - lr: 0.0063\n",
            "Epoch 48/50\n",
            "76/76 [==============================] - 9s 121ms/step - loss: 0.4661 - acc: 0.8850 - val_loss: 0.8026 - val_acc: 0.7879 - lr: 0.0063\n",
            "Epoch 49/50\n",
            "76/76 [==============================] - 9s 120ms/step - loss: 0.4622 - acc: 0.8833 - val_loss: 0.7140 - val_acc: 0.8131 - lr: 0.0063\n",
            "Epoch 50/50\n",
            "76/76 [==============================] - 9s 121ms/step - loss: 0.4611 - acc: 0.8887 - val_loss: 0.6479 - val_acc: 0.8239 - lr: 0.0063\n"
          ],
          "name": "stdout"
        }
      ]
    },
    {
      "cell_type": "code",
      "metadata": {
        "id": "3qXnteSOpFZH",
        "colab_type": "code",
        "colab": {}
      },
      "source": [
        "wrn_16_2_adv.save(\"model_adv_wrn_tensor_dropout.h5\")"
      ],
      "execution_count": 0,
      "outputs": []
    },
    {
      "cell_type": "code",
      "metadata": {
        "id": "-S5IjLivpMbp",
        "colab_type": "code",
        "outputId": "2232118e-c382-4726-c818-87c6761ad90f",
        "colab": {
          "base_uri": "https://localhost:8080/",
          "height": 608
        }
      },
      "source": [
        "import matplotlib.pyplot as plt\n",
        "\n",
        "history = hist\n",
        "print(history.history.keys())\n",
        "# summarize history for accuracy\n",
        "plt.plot(history.history['acc'])\n",
        "plt.plot(history.history['val_acc'])\n",
        "plt.title('model accuracy')\n",
        "plt.ylabel('accuracy')\n",
        "plt.xlabel('epoch')\n",
        "plt.legend(['train', 'test'], loc='upper left')\n",
        "plt.show()\n",
        "plt.savefig(\"wrn_tensor.png\")\n",
        "# summarize history for loss\n",
        "plt.plot(history.history['loss'])\n",
        "plt.plot(history.history['val_loss'])\n",
        "plt.title('model loss')\n",
        "plt.ylabel('loss')\n",
        "plt.xlabel('epoch')\n",
        "plt.legend(['train', 'test'], loc='upper left')\n",
        "plt.show()\n",
        "plt.savefig(\"deneme.png\")"
      ],
      "execution_count": 76,
      "outputs": [
        {
          "output_type": "stream",
          "text": [
            "dict_keys(['loss', 'acc', 'val_loss', 'val_acc', 'lr'])\n"
          ],
          "name": "stdout"
        },
        {
          "output_type": "display_data",
          "data": {
            "image/png": "[encoded data removed]",
            "text/plain": [
              "<Figure size 432x288 with 1 Axes>"
            ]
          },
          "metadata": {
            "tags": [],
            "needs_background": "light"
          }
        },
        {
          "output_type": "display_data",
          "data": {
            "image/png": "[encoded data removed]",
            "text/plain": [
              "<Figure size 432x288 with 1 Axes>"
            ]
          },
          "metadata": {
            "tags": [],
            "needs_background": "light"
          }
        },
        {
          "output_type": "display_data",
          "data": {
            "text/plain": [
              "<Figure size 432x288 with 0 Axes>"
            ]
          },
          "metadata": {
            "tags": []
          }
        }
      ]
    },
    {
      "cell_type": "markdown",
      "metadata": {
        "id": "ftcU_6z90QSJ",
        "colab_type": "text"
      },
      "source": [
        "**CleanExperiment**"
      ]
    },
    {
      "cell_type": "code",
      "metadata": {
        "id": "3i5qUE6j0JUE",
        "colab_type": "code",
        "outputId": "e5a91ba5-2024-42f0-b827-d1b22ca73b08",
        "colab": {
          "base_uri": "https://localhost:8080/",
          "height": 69
        }
      },
      "source": [
        "wrn_16_2_clean = create_wide_residual_network(init, nb_classes=4, N=2, k=2, dropout=0.3)"
      ],
      "execution_count": 77,
      "outputs": [
        {
          "output_type": "stream",
          "text": [
            "conv2:channel:  -1\n",
            "conv3 channel_axis:-1 \n",
            "Parseval Residual Network-16-2 created.\n"
          ],
          "name": "stdout"
        }
      ]
    },
    {
      "cell_type": "code",
      "metadata": {
        "id": "X4p2TUIj0csZ",
        "colab_type": "code",
        "outputId": "99c7ea7a-9341-444c-9112-bd11d2f844bc",
        "colab": {
          "base_uri": "https://localhost:8080/",
          "height": 34
        }
      },
      "source": [
        "wrn_16_2_clean.compile(loss=\"categorical_crossentropy\", optimizer=sgd, metrics=[\"acc\"])\n",
        "print(\"Finished compiling\")"
      ],
      "execution_count": 78,
      "outputs": [
        {
          "output_type": "stream",
          "text": [
            "Finished compiling\n"
          ],
          "name": "stdout"
        }
      ]
    },
    {
      "cell_type": "code",
      "metadata": {
        "id": "5rQljdkd0he9",
        "colab_type": "code",
        "outputId": "3b0dcb34-0915-48f4-b308-64990110c01f",
        "colab": {
          "base_uri": "https://localhost:8080/",
          "height": 1000
        }
      },
      "source": [
        "hist_clean = wrn_16_2_clean.fit_generator(generator.flow(X_train, y_train, batch_size=BS_adv), steps_per_epoch=len(X_train) // BS_adv, epochs=EPOCHS_adv,\n",
        "                   callbacks=[lr_scheduler_train],\n",
        "                   validation_data=(X_test, y_test),\n",
        "                   validation_steps=X_test.shape[0] // BS_adv,)"
      ],
      "execution_count": 80,
      "outputs": [
        {
          "output_type": "stream",
          "text": [
            "Epoch 1/50\n",
            "38/38 [==============================] - 5s 119ms/step - loss: 1.1643 - acc: 0.6949 - val_loss: 1.2506 - val_acc: 0.6808 - lr: 0.1000\n",
            "Epoch 2/50\n",
            "38/38 [==============================] - 5s 120ms/step - loss: 1.1566 - acc: 0.7045 - val_loss: 1.1594 - val_acc: 0.7062 - lr: 0.1000\n",
            "Epoch 3/50\n",
            "38/38 [==============================] - 5s 119ms/step - loss: 1.1044 - acc: 0.7152 - val_loss: 1.2216 - val_acc: 0.6765 - lr: 0.1000\n",
            "Epoch 4/50\n",
            "38/38 [==============================] - 5s 119ms/step - loss: 1.0925 - acc: 0.7217 - val_loss: 1.1175 - val_acc: 0.6998 - lr: 0.1000\n",
            "Epoch 5/50\n",
            "38/38 [==============================] - 5s 119ms/step - loss: 1.0456 - acc: 0.7302 - val_loss: 1.0842 - val_acc: 0.6977 - lr: 0.1000\n",
            "Epoch 6/50\n",
            "38/38 [==============================] - 5s 119ms/step - loss: 1.0642 - acc: 0.7168 - val_loss: 1.1666 - val_acc: 0.6713 - lr: 0.1000\n",
            "Epoch 7/50\n",
            "38/38 [==============================] - 5s 120ms/step - loss: 0.9913 - acc: 0.7420 - val_loss: 1.1523 - val_acc: 0.6750 - lr: 0.1000\n",
            "Epoch 8/50\n",
            "38/38 [==============================] - 5s 120ms/step - loss: 0.9587 - acc: 0.7544 - val_loss: 1.0350 - val_acc: 0.7274 - lr: 0.1000\n",
            "Epoch 9/50\n",
            "38/38 [==============================] - 5s 120ms/step - loss: 0.9617 - acc: 0.7487 - val_loss: 1.1079 - val_acc: 0.7051 - lr: 0.1000\n",
            "Epoch 10/50\n",
            "38/38 [==============================] - 5s 119ms/step - loss: 0.9499 - acc: 0.7511 - val_loss: 1.0032 - val_acc: 0.7332 - lr: 0.1000\n",
            "Epoch 11/50\n",
            "38/38 [==============================] - 5s 119ms/step - loss: 0.8857 - acc: 0.7755 - val_loss: 0.9528 - val_acc: 0.7570 - lr: 0.0500\n",
            "Epoch 12/50\n",
            "38/38 [==============================] - 5s 120ms/step - loss: 0.8051 - acc: 0.7977 - val_loss: 0.9580 - val_acc: 0.7501 - lr: 0.0500\n",
            "Epoch 13/50\n",
            "38/38 [==============================] - 5s 119ms/step - loss: 0.7733 - acc: 0.8130 - val_loss: 0.9012 - val_acc: 0.7607 - lr: 0.0500\n",
            "Epoch 14/50\n",
            "38/38 [==============================] - 5s 119ms/step - loss: 0.7885 - acc: 0.8018 - val_loss: 0.9028 - val_acc: 0.7417 - lr: 0.0500\n",
            "Epoch 15/50\n",
            "38/38 [==============================] - 5s 119ms/step - loss: 0.7758 - acc: 0.8095 - val_loss: 0.9128 - val_acc: 0.7544 - lr: 0.0500\n",
            "Epoch 16/50\n",
            "38/38 [==============================] - 5s 119ms/step - loss: 0.7453 - acc: 0.8157 - val_loss: 0.9644 - val_acc: 0.7496 - lr: 0.0500\n",
            "Epoch 17/50\n",
            "38/38 [==============================] - 5s 120ms/step - loss: 0.7624 - acc: 0.8109 - val_loss: 0.9562 - val_acc: 0.7485 - lr: 0.0500\n",
            "Epoch 18/50\n",
            "38/38 [==============================] - 5s 119ms/step - loss: 0.7174 - acc: 0.8237 - val_loss: 0.8756 - val_acc: 0.7724 - lr: 0.0500\n",
            "Epoch 19/50\n",
            "38/38 [==============================] - 5s 119ms/step - loss: 0.6962 - acc: 0.8366 - val_loss: 0.9361 - val_acc: 0.7697 - lr: 0.0500\n",
            "Epoch 20/50\n",
            "38/38 [==============================] - 5s 119ms/step - loss: 0.7031 - acc: 0.8267 - val_loss: 0.9447 - val_acc: 0.7454 - lr: 0.0500\n",
            "Epoch 21/50\n",
            "38/38 [==============================] - 5s 120ms/step - loss: 0.6881 - acc: 0.8286 - val_loss: 0.8715 - val_acc: 0.7650 - lr: 0.0250\n",
            "Epoch 22/50\n",
            "38/38 [==============================] - 5s 120ms/step - loss: 0.6149 - acc: 0.8570 - val_loss: 0.8494 - val_acc: 0.7729 - lr: 0.0250\n",
            "Epoch 23/50\n",
            "38/38 [==============================] - 5s 119ms/step - loss: 0.5939 - acc: 0.8620 - val_loss: 0.9168 - val_acc: 0.7729 - lr: 0.0250\n",
            "Epoch 24/50\n",
            "38/38 [==============================] - 5s 119ms/step - loss: 0.5959 - acc: 0.8650 - val_loss: 0.8658 - val_acc: 0.7755 - lr: 0.0250\n",
            "Epoch 25/50\n",
            "38/38 [==============================] - 5s 119ms/step - loss: 0.5755 - acc: 0.8693 - val_loss: 0.8412 - val_acc: 0.7882 - lr: 0.0250\n",
            "Epoch 26/50\n",
            "38/38 [==============================] - 5s 119ms/step - loss: 0.5619 - acc: 0.8701 - val_loss: 0.8955 - val_acc: 0.7882 - lr: 0.0250\n",
            "Epoch 27/50\n",
            "38/38 [==============================] - 5s 119ms/step - loss: 0.5826 - acc: 0.8703 - val_loss: 0.8903 - val_acc: 0.7835 - lr: 0.0250\n",
            "Epoch 28/50\n",
            "38/38 [==============================] - 5s 119ms/step - loss: 0.5782 - acc: 0.8709 - val_loss: 0.9024 - val_acc: 0.7745 - lr: 0.0250\n",
            "Epoch 29/50\n",
            "38/38 [==============================] - 5s 119ms/step - loss: 0.5448 - acc: 0.8749 - val_loss: 0.8398 - val_acc: 0.7808 - lr: 0.0250\n",
            "Epoch 30/50\n",
            "38/38 [==============================] - 5s 119ms/step - loss: 0.5560 - acc: 0.8717 - val_loss: 0.9281 - val_acc: 0.7761 - lr: 0.0250\n",
            "Epoch 31/50\n",
            "38/38 [==============================] - 5s 119ms/step - loss: 0.5240 - acc: 0.8856 - val_loss: 0.8545 - val_acc: 0.7930 - lr: 0.0125\n",
            "Epoch 32/50\n",
            "38/38 [==============================] - 5s 119ms/step - loss: 0.4755 - acc: 0.9108 - val_loss: 0.8384 - val_acc: 0.7978 - lr: 0.0125\n",
            "Epoch 33/50\n",
            "38/38 [==============================] - 5s 119ms/step - loss: 0.4704 - acc: 0.9060 - val_loss: 0.8601 - val_acc: 0.8047 - lr: 0.0125\n",
            "Epoch 34/50\n",
            "38/38 [==============================] - 5s 119ms/step - loss: 0.4516 - acc: 0.9140 - val_loss: 0.8936 - val_acc: 0.7877 - lr: 0.0125\n",
            "Epoch 35/50\n",
            "38/38 [==============================] - 5s 120ms/step - loss: 0.4483 - acc: 0.9162 - val_loss: 0.8745 - val_acc: 0.7909 - lr: 0.0125\n",
            "Epoch 36/50\n",
            "38/38 [==============================] - 5s 120ms/step - loss: 0.4399 - acc: 0.9194 - val_loss: 0.9071 - val_acc: 0.7877 - lr: 0.0125\n",
            "Epoch 37/50\n",
            "38/38 [==============================] - 5s 120ms/step - loss: 0.4252 - acc: 0.9215 - val_loss: 0.9344 - val_acc: 0.7867 - lr: 0.0125\n",
            "Epoch 38/50\n",
            "38/38 [==============================] - 5s 119ms/step - loss: 0.4213 - acc: 0.9269 - val_loss: 0.8731 - val_acc: 0.8062 - lr: 0.0125\n",
            "Epoch 39/50\n",
            "38/38 [==============================] - 4s 118ms/step - loss: 0.4277 - acc: 0.9164 - val_loss: 0.8708 - val_acc: 0.7909 - lr: 0.0125\n",
            "Epoch 40/50\n",
            "38/38 [==============================] - 5s 121ms/step - loss: 0.4210 - acc: 0.9183 - val_loss: 0.9564 - val_acc: 0.7724 - lr: 0.0125\n",
            "Epoch 41/50\n",
            "38/38 [==============================] - 5s 119ms/step - loss: 0.4015 - acc: 0.9322 - val_loss: 0.9050 - val_acc: 0.7925 - lr: 0.0063\n",
            "Epoch 42/50\n",
            "38/38 [==============================] - 5s 119ms/step - loss: 0.3796 - acc: 0.9349 - val_loss: 0.8977 - val_acc: 0.8057 - lr: 0.0063\n",
            "Epoch 43/50\n",
            "38/38 [==============================] - 5s 119ms/step - loss: 0.3670 - acc: 0.9462 - val_loss: 0.9656 - val_acc: 0.7750 - lr: 0.0063\n",
            "Epoch 44/50\n",
            "38/38 [==============================] - 5s 119ms/step - loss: 0.3607 - acc: 0.9437 - val_loss: 0.9653 - val_acc: 0.7898 - lr: 0.0063\n",
            "Epoch 45/50\n",
            "38/38 [==============================] - 5s 120ms/step - loss: 0.3731 - acc: 0.9403 - val_loss: 1.0127 - val_acc: 0.7814 - lr: 0.0063\n",
            "Epoch 46/50\n",
            "38/38 [==============================] - 5s 119ms/step - loss: 0.3525 - acc: 0.9470 - val_loss: 1.0776 - val_acc: 0.7538 - lr: 0.0063\n",
            "Epoch 47/50\n",
            "38/38 [==============================] - 5s 120ms/step - loss: 0.3510 - acc: 0.9555 - val_loss: 0.8856 - val_acc: 0.8031 - lr: 0.0063\n",
            "Epoch 48/50\n",
            "38/38 [==============================] - 5s 120ms/step - loss: 0.3344 - acc: 0.9542 - val_loss: 0.9315 - val_acc: 0.7935 - lr: 0.0063\n",
            "Epoch 49/50\n",
            "38/38 [==============================] - 5s 120ms/step - loss: 0.3388 - acc: 0.9545 - val_loss: 0.9398 - val_acc: 0.7814 - lr: 0.0063\n",
            "Epoch 50/50\n",
            "38/38 [==============================] - 5s 121ms/step - loss: 0.3376 - acc: 0.9513 - val_loss: 0.9308 - val_acc: 0.7946 - lr: 0.0063\n"
          ],
          "name": "stdout"
        }
      ]
    },
    {
      "cell_type": "code",
      "metadata": {
        "id": "1acrchBU185p",
        "colab_type": "code",
        "colab": {}
      },
      "source": [
        "wrn_16_2_clean.save(\"model_adv_train_clean_dropout.h5\")"
      ],
      "execution_count": 0,
      "outputs": []
    },
    {
      "cell_type": "code",
      "metadata": {
        "id": "_pgU_KsH0yVM",
        "colab_type": "code",
        "outputId": "66711bf6-ee30-4270-81be-8d0eee22b28f",
        "colab": {
          "base_uri": "https://localhost:8080/",
          "height": 608
        }
      },
      "source": [
        "import matplotlib.pyplot as plt\n",
        "\n",
        "history = hist_clean\n",
        "print(history.history.keys())\n",
        "# summarize history for accuracy\n",
        "plt.plot(history.history['acc'])\n",
        "plt.plot(history.history['val_acc'])\n",
        "plt.title('model accuracy')\n",
        "plt.ylabel('accuracy')\n",
        "plt.xlabel('epoch')\n",
        "plt.legend(['train', 'test'], loc='upper left')\n",
        "plt.show()\n",
        "plt.savefig(\"wrn_tensor.png\")\n",
        "# summarize history for loss\n",
        "plt.plot(history.history['loss'])\n",
        "plt.plot(history.history['val_loss'])\n",
        "plt.title('model loss')\n",
        "plt.ylabel('loss')\n",
        "plt.xlabel('epoch')\n",
        "plt.legend(['train', 'test'], loc='upper left')\n",
        "plt.show()\n",
        "plt.savefig(\"deneme.png\")"
      ],
      "execution_count": 82,
      "outputs": [
        {
          "output_type": "stream",
          "text": [
            "dict_keys(['loss', 'acc', 'val_loss', 'val_acc', 'lr'])\n"
          ],
          "name": "stdout"
        },
        {
          "output_type": "display_data",
          "data": {
            "image/png": "[encoded data removed]",
            "text/plain": [
              "<Figure size 432x288 with 1 Axes>"
            ]
          },
          "metadata": {
            "tags": [],
            "needs_background": "light"
          }
        },
        {
          "output_type": "display_data",
          "data": {
            "image/png": "[encoded data removed]",
            "text/plain": [
              "<Figure size 432x288 with 1 Axes>"
            ]
          },
          "metadata": {
            "tags": [],
            "needs_background": "light"
          }
        },
        {
          "output_type": "display_data",
          "data": {
            "text/plain": [
              "<Figure size 432x288 with 0 Axes>"
            ]
          },
          "metadata": {
            "tags": []
          }
        }
      ]
    },
    {
      "cell_type": "markdown",
      "metadata": {
        "id": "UCKONCZ0Jzfi",
        "colab_type": "text"
      },
      "source": [
        "**Adversarial Training**"
      ]
    },
    {
      "cell_type": "code",
      "metadata": {
        "id": "pFgpFgWbKeR_",
        "colab_type": "code",
        "outputId": "501b32f0-9109-442f-86ad-c14e0aef0e9c",
        "colab": {
          "base_uri": "https://localhost:8080/",
          "height": 52
        }
      },
      "source": [
        "wrn_16_2_adv.evaluate(X_train,y_train)"
      ],
      "execution_count": 83,
      "outputs": [
        {
          "output_type": "stream",
          "text": [
            "120/120 [==============================] - 1s 11ms/step - loss: 0.4969 - acc: 0.8753\n"
          ],
          "name": "stdout"
        },
        {
          "output_type": "execute_result",
          "data": {
            "text/plain": [
              "[0.49691981077194214, 0.875293493270874]"
            ]
          },
          "metadata": {
            "tags": []
          },
          "execution_count": 83
        }
      ]
    },
    {
      "cell_type": "code",
      "metadata": {
        "id": "XhiqvES18c-j",
        "colab_type": "code",
        "outputId": "9c9032bd-ce8d-4853-a5de-839900a6be4e",
        "colab": {
          "base_uri": "https://localhost:8080/",
          "height": 52
        }
      },
      "source": [
        "wrn_16_2_adv.evaluate(X_train_adv,y_train_adv)"
      ],
      "execution_count": 84,
      "outputs": [
        {
          "output_type": "stream",
          "text": [
            "240/240 [==============================] - 3s 11ms/step - loss: 0.3797 - acc: 0.9185\n"
          ],
          "name": "stdout"
        },
        {
          "output_type": "execute_result",
          "data": {
            "text/plain": [
              "[0.37973764538764954, 0.9184818267822266]"
            ]
          },
          "metadata": {
            "tags": []
          },
          "execution_count": 84
        }
      ]
    },
    {
      "cell_type": "code",
      "metadata": {
        "id": "tjHVWy96Llce",
        "colab_type": "code",
        "outputId": "a3a2bd8d-54fe-46dd-d205-fdc67e1c7c24",
        "colab": {
          "base_uri": "https://localhost:8080/",
          "height": 52
        }
      },
      "source": [
        "wrn_16_2_adv.evaluate(X_test,y_test)"
      ],
      "execution_count": 85,
      "outputs": [
        {
          "output_type": "stream",
          "text": [
            "60/60 [==============================] - 1s 11ms/step - loss: 0.4595 - acc: 0.8899\n"
          ],
          "name": "stdout"
        },
        {
          "output_type": "execute_result",
          "data": {
            "text/plain": [
              "[0.45953917503356934, 0.8898888230323792]"
            ]
          },
          "metadata": {
            "tags": []
          },
          "execution_count": 85
        }
      ]
    },
    {
      "cell_type": "code",
      "metadata": {
        "id": "JXT3YD6iLl0N",
        "colab_type": "code",
        "outputId": "0790fa5f-b92c-40cd-9aac-bcf5086fdbee",
        "colab": {
          "base_uri": "https://localhost:8080/",
          "height": 52
        }
      },
      "source": [
        "wrn_16_2_adv.evaluate(X_test_adv,y_test_adv)"
      ],
      "execution_count": 86,
      "outputs": [
        {
          "output_type": "stream",
          "text": [
            "119/119 [==============================] - 1s 11ms/step - loss: 0.6479 - acc: 0.8239\n"
          ],
          "name": "stdout"
        },
        {
          "output_type": "execute_result",
          "data": {
            "text/plain": [
              "[0.6478583812713623, 0.8239343166351318]"
            ]
          },
          "metadata": {
            "tags": []
          },
          "execution_count": 86
        }
      ]
    },
    {
      "cell_type": "markdown",
      "metadata": {
        "id": "-fKhEMXgKAnZ",
        "colab_type": "text"
      },
      "source": [
        "**Non_Adversarial_Training**"
      ]
    },
    {
      "cell_type": "code",
      "metadata": {
        "id": "ouj6OqTD8VdE",
        "colab_type": "code",
        "outputId": "05423b58-1fed-46b2-869d-4f89341a712e",
        "colab": {
          "base_uri": "https://localhost:8080/",
          "height": 52
        }
      },
      "source": [
        "wrn_16_2_clean.evaluate(X_train, y_train)"
      ],
      "execution_count": 87,
      "outputs": [
        {
          "output_type": "stream",
          "text": [
            "120/120 [==============================] - 1s 11ms/step - loss: 0.2887 - acc: 0.9697\n"
          ],
          "name": "stdout"
        },
        {
          "output_type": "execute_result",
          "data": {
            "text/plain": [
              "[0.28865504264831543, 0.9697365164756775]"
            ]
          },
          "metadata": {
            "tags": []
          },
          "execution_count": 87
        }
      ]
    },
    {
      "cell_type": "code",
      "metadata": {
        "id": "sfkUSeV6KHp5",
        "colab_type": "code",
        "outputId": "8756f7de-513b-4c02-e11f-ff2f8df16fa3",
        "colab": {
          "base_uri": "https://localhost:8080/",
          "height": 52
        }
      },
      "source": [
        "wrn_16_2_clean.evaluate(X_train_adv,y_train_adv)"
      ],
      "execution_count": 88,
      "outputs": [
        {
          "output_type": "stream",
          "text": [
            "240/240 [==============================] - 3s 11ms/step - loss: 3.1526 - acc: 0.5882\n"
          ],
          "name": "stdout"
        },
        {
          "output_type": "execute_result",
          "data": {
            "text/plain": [
              "[3.15264630317688, 0.5882353186607361]"
            ]
          },
          "metadata": {
            "tags": []
          },
          "execution_count": 88
        }
      ]
    },
    {
      "cell_type": "code",
      "metadata": {
        "id": "kZFJl2D4Hbxa",
        "colab_type": "code",
        "outputId": "fe84f0c2-cc36-4c3d-9f6a-78592f526dd2",
        "colab": {
          "base_uri": "https://localhost:8080/",
          "height": 52
        }
      },
      "source": [
        "wrn_16_2_clean.evaluate(X_test, y_test)"
      ],
      "execution_count": 89,
      "outputs": [
        {
          "output_type": "stream",
          "text": [
            "60/60 [==============================] - 1s 11ms/step - loss: 0.9308 - acc: 0.7946\n"
          ],
          "name": "stdout"
        },
        {
          "output_type": "execute_result",
          "data": {
            "text/plain": [
              "[0.930786669254303, 0.7946003079414368]"
            ]
          },
          "metadata": {
            "tags": []
          },
          "execution_count": 89
        }
      ]
    },
    {
      "cell_type": "code",
      "metadata": {
        "id": "nZuONcAeAwQb",
        "colab_type": "code",
        "outputId": "954abc2a-7133-430b-b869-9ef6730d5b6f",
        "colab": {
          "base_uri": "https://localhost:8080/",
          "height": 52
        }
      },
      "source": [
        "wrn_16_2_clean.evaluate(X_test_adv, y_test_adv)"
      ],
      "execution_count": 90,
      "outputs": [
        {
          "output_type": "stream",
          "text": [
            "119/119 [==============================] - 1s 11ms/step - loss: 3.2311 - acc: 0.5843\n"
          ],
          "name": "stdout"
        },
        {
          "output_type": "execute_result",
          "data": {
            "text/plain": [
              "[3.2310943603515625, 0.5843262076377869]"
            ]
          },
          "metadata": {
            "tags": []
          },
          "execution_count": 90
        }
      ]
    },
    {
      "cell_type": "code",
      "metadata": {
        "id": "8gJh7MDHChHo",
        "colab_type": "code",
        "colab": {}
      },
      "source": [
        ""
      ],
      "execution_count": 0,
      "outputs": []
    }
  ]
}