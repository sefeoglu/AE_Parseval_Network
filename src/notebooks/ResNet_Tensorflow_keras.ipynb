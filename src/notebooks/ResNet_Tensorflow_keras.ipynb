{
  "nbformat": 4,
  "nbformat_minor": 0,
  "metadata": {
    "colab": {
      "name": "ResNet_Tensorflow_keras.ipynb",
      "provenance": [],
      "toc_visible": true,
      "include_colab_link": true
    },
    "kernelspec": {
      "name": "python3",
      "display_name": "Python 3"
    },
    "accelerator": "GPU"
  },
  "cells": [
    {
      "cell_type": "markdown",
      "metadata": {
        "id": "view-in-github",
        "colab_type": "text"
      },
      "source": [
        "<a href=\"https://colab.research.google.com/github/sefeoglu/AE_Parseval_Network/blob/master/src/notebooks/ResNet_Tensorflow_keras.ipynb\" target=\"_parent\"><img src=\"https://colab.research.google.com/assets/colab-badge.svg\" alt=\"Open In Colab\"/></a>"
      ]
    },
    {
      "cell_type": "markdown",
      "metadata": {
        "id": "cczYDRrfFlDx",
        "colab_type": "text"
      },
      "source": [
        "# Wide ResNet 16_2"
      ]
    },
    {
      "cell_type": "code",
      "metadata": {
        "id": "HWvd9YADGtMS",
        "colab_type": "code",
        "colab": {}
      },
      "source": [
        "import tensorflow as tf"
      ],
      "execution_count": 0,
      "outputs": []
    },
    {
      "cell_type": "markdown",
      "metadata": {
        "id": "8aqbIFJTwXLH",
        "colab_type": "text"
      },
      "source": [
        "# Model"
      ]
    },
    {
      "cell_type": "code",
      "metadata": {
        "id": "QRdSMgRjG8ex",
        "colab_type": "code",
        "outputId": "f61621b4-330d-4f56-8a26-4e39caff92d7",
        "colab": {
          "base_uri": "https://localhost:8080/",
          "height": 1000
        }
      },
      "source": [
        "from tensorflow.keras.models import Model\n",
        "from tensorflow.keras.layers import Input, Add, Activation, Dropout, Flatten, Dense\n",
        "from tensorflow.keras.layers import Convolution2D, MaxPooling2D, AveragePooling2D\n",
        "from tensorflow.keras.layers import BatchNormalization\n",
        "from tensorflow.keras.regularizers import l2\n",
        "from tensorflow.keras import backend as K\n",
        "import warnings\n",
        "\n",
        "warnings.filterwarnings(\"ignore\")\n",
        "weight_decay = 0.0001\n",
        "\n",
        "\n",
        "def initial_conv(input):\n",
        "  \n",
        "    x = Convolution2D(16, (3, 3), padding='same', kernel_initializer='he_normal',\n",
        "                      kernel_regularizer=l2(weight_decay),\n",
        "                      use_bias=False)(input)\n",
        "\n",
        "    channel_axis = 1 if K.image_data_format() == \"channels_first\" else -1\n",
        "\n",
        "    x = BatchNormalization(axis=channel_axis, momentum=0.1, epsilon=1e-5, gamma_initializer='uniform')(x)\n",
        "    x = Activation('relu')(x)\n",
        "    return x\n",
        "\n",
        "\n",
        "def expand_conv(init, base, k, strides=(1, 1)):\n",
        "    x = Convolution2D(base * k, (3, 3), padding='same', strides=strides, kernel_initializer='he_normal', kernel_regularizer=l2(weight_decay),\n",
        "                      use_bias=False)(init)\n",
        "\n",
        "    channel_axis = 1 if K.image_data_format() == \"channels_first\" else -1\n",
        "\n",
        "    x = BatchNormalization(axis=channel_axis, momentum=0.1, epsilon=1e-5, gamma_initializer='uniform')(x)\n",
        "    x = Activation('relu')(x)\n",
        "\n",
        "    x = Convolution2D(base * k, (3, 3), padding='same', kernel_initializer='he_normal',\n",
        "                      kernel_regularizer=l2(weight_decay),\n",
        "                      use_bias=False)(x)\n",
        "\n",
        "    skip = Convolution2D(base * k, (1, 1), padding='same', strides=strides, kernel_initializer='he_normal',\n",
        "                      kernel_regularizer=l2(weight_decay),\n",
        "                      use_bias=False)(init)\n",
        "\n",
        "    m = Add()([x, skip])\n",
        "\n",
        "    return m\n",
        "\n",
        "\n",
        "def conv1_block(input, k=1, dropout=0.0):\n",
        "    init = input\n",
        "\n",
        "    channel_axis = 1 if K.image_data_format() == \"channels_first\" else -1\n",
        "\n",
        "    x = BatchNormalization(axis=channel_axis, momentum=0.1, epsilon=1e-5, gamma_initializer='uniform')(input)\n",
        "    x = Activation('relu')(x)\n",
        "    x = Convolution2D(16 * k, (3, 3), padding='same', kernel_initializer='he_normal',\n",
        "                      kernel_regularizer=l2(weight_decay),\n",
        "                      use_bias=False)(x)\n",
        "\n",
        "    if dropout > 0.0: x = Dropout(dropout)(x)\n",
        "\n",
        "    x = BatchNormalization(axis=channel_axis, momentum=0.1, epsilon=1e-5, gamma_initializer='uniform')(x)\n",
        "    x = Activation('relu')(x)\n",
        "    x = Convolution2D(16 * k, (3, 3), padding='same', kernel_initializer='he_normal',\n",
        "                      kernel_regularizer=l2(weight_decay),\n",
        "                      use_bias=False)(x)\n",
        "\n",
        "    m = Add()([init, x])\n",
        "    return m\n",
        "\n",
        "def conv2_block(input, k=1, dropout=0.0):\n",
        "    init = input\n",
        "\n",
        "    channel_axis = 1 if K.image_data_format() == \"channels_first\" else -1\n",
        "    print(\"conv2:channel:  {}\".format(channel_axis))\n",
        "    x = BatchNormalization(axis=channel_axis, momentum=0.1, epsilon=1e-5, gamma_initializer='uniform')(input)\n",
        "    x = Activation('relu')(x)\n",
        "    x = Convolution2D(32 * k, (3, 3), padding='same', kernel_initializer='he_normal',\n",
        "                      kernel_regularizer=l2(weight_decay),\n",
        "                      use_bias=False)(x)\n",
        "\n",
        "    if dropout > 0.0: x = Dropout(dropout)(x)\n",
        "\n",
        "    x = BatchNormalization(axis=channel_axis, momentum=0.1, epsilon=1e-5, gamma_initializer='uniform')(x)\n",
        "    x = Activation('relu')(x)\n",
        "    x = Convolution2D(32 * k, (3, 3), padding='same', kernel_initializer='he_normal',\n",
        "                      kernel_regularizer=l2(weight_decay),\n",
        "                      use_bias=False)(x)\n",
        "\n",
        "    m = Add()([init, x])\n",
        "    return m\n",
        "\n",
        "def conv3_block(input, k=1, dropout=0.0):\n",
        "    init = input\n",
        "\n",
        "    channel_axis = 1 if K.image_data_format() == \"channels_first\" else -1\n",
        "    print(\"conv3 channel_axis:{} \".format(channel_axis))\n",
        "    x = BatchNormalization(axis=channel_axis, momentum=0.1, epsilon=1e-5, gamma_initializer='uniform')(input)\n",
        "    x = Activation('relu')(x)\n",
        "    x = Convolution2D(64 * k, (3, 3), padding='same', kernel_initializer='he_normal',\n",
        "                      kernel_regularizer=l2(weight_decay),\n",
        "                      use_bias=False)(x)\n",
        "\n",
        "    if dropout > 0.0: x = Dropout(dropout)(x)\n",
        "\n",
        "    x = BatchNormalization(axis=channel_axis, momentum=0.1, epsilon=1e-5, gamma_initializer='uniform')(x)\n",
        "    x = Activation('relu')(x)\n",
        "    x = Convolution2D(64 * k, (3, 3), padding='same', kernel_initializer='he_normal',\n",
        "                      kernel_regularizer=l2(weight_decay),\n",
        "                      use_bias=False)(x)\n",
        "\n",
        "    m = Add()([init, x])\n",
        "    return m\n",
        "\n",
        "def create_wide_residual_network(input_dim, nb_classes=100, N=2, k=1, dropout=0.0, verbose=1):\n",
        "    \"\"\"\n",
        "    Creates a Wide Residual Network with specified parameters\n",
        "\n",
        "    :param input: Input Keras object\n",
        "    :param nb_classes: Number of output classes\n",
        "    :param N: Depth of the network. Compute N = (n - 4) / 6.\n",
        "              Example : For a depth of 16, n = 16, N = (16 - 4) / 6 = 2\n",
        "              Example2: For a depth of 28, n = 28, N = (28 - 4) / 6 = 4\n",
        "              Example3: For a depth of 40, n = 40, N = (40 - 4) / 6 = 6\n",
        "    :param k: Width of the network.\n",
        "    :param dropout: Adds dropout if value is greater than 0.0\n",
        "    :param verbose: Debug info to describe created WRN\n",
        "    :return:\n",
        "    \"\"\"\n",
        "    channel_axis = 1 if K.image_data_format() == \"channels_first\" else -1\n",
        "\n",
        "    ip = Input(shape=input_dim)\n",
        "\n",
        "    x = initial_conv(ip)\n",
        "    nb_conv = 4\n",
        "\n",
        "    x = expand_conv(x, 16, k)\n",
        "    nb_conv += 2\n",
        "\n",
        "    for i in range(N - 1):\n",
        "        x = conv1_block(x, k, dropout)\n",
        "        nb_conv += 2\n",
        "\n",
        "    x = BatchNormalization(axis=channel_axis, momentum=0.1, epsilon=1e-5, gamma_initializer='uniform')(x)\n",
        "    x = Activation('relu')(x)\n",
        "\n",
        "    x = expand_conv(x, 32, k, strides=(2, 2))\n",
        "    nb_conv += 2\n",
        "\n",
        "    for i in range(N - 1):\n",
        "        x = conv2_block(x, k, dropout)\n",
        "        nb_conv += 2\n",
        "\n",
        "    x = BatchNormalization(axis=channel_axis, momentum=0.1, epsilon=1e-5, gamma_initializer='uniform')(x)\n",
        "    x = Activation('relu')(x)\n",
        "\n",
        "    x = expand_conv(x, 64, k, strides=(2, 2))\n",
        "    nb_conv += 2\n",
        "\n",
        "    for i in range(N - 1):\n",
        "        x = conv3_block(x, k, dropout)\n",
        "        nb_conv += 2\n",
        "\n",
        "    x = BatchNormalization(axis=channel_axis, momentum=0.1, epsilon=1e-5, gamma_initializer='uniform')(x)\n",
        "    x = Activation('relu')(x)\n",
        "\n",
        "    x = AveragePooling2D((8, 8))(x)\n",
        "    x = Flatten()(x)\n",
        "\n",
        "    x = Dense(nb_classes, kernel_regularizer=l2(weight_decay), activation='softmax')(x)\n",
        "\n",
        "    model = Model(ip, x)\n",
        "\n",
        "    if verbose: print(\"Wide Residual Network-%d-%d created.\" % (nb_conv, k))\n",
        "    return model\n",
        "\n",
        "if __name__ == \"__main__\":\n",
        "\n",
        "    init = (32, 32,1)\n",
        "\n",
        "    wrn_16_2 = create_wide_residual_network(init, nb_classes=4, N=2, k=2, dropout=0.5)\n",
        "\n",
        "    wrn_16_2.summary()\n",
        "\n"
      ],
      "execution_count": 2,
      "outputs": [
        {
          "output_type": "stream",
          "text": [
            "conv2:channel:  -1\n",
            "conv3 channel_axis:-1 \n",
            "Wide Residual Network-16-2 created.\n",
            "Model: \"model\"\n",
            "__________________________________________________________________________________________________\n",
            "Layer (type)                    Output Shape         Param #     Connected to                     \n",
            "==================================================================================================\n",
            "input_1 (InputLayer)            [(None, 32, 32, 1)]  0                                            \n",
            "__________________________________________________________________________________________________\n",
            "conv2d (Conv2D)                 (None, 32, 32, 16)   144         input_1[0][0]                    \n",
            "__________________________________________________________________________________________________\n",
            "batch_normalization (BatchNorma (None, 32, 32, 16)   64          conv2d[0][0]                     \n",
            "__________________________________________________________________________________________________\n",
            "activation (Activation)         (None, 32, 32, 16)   0           batch_normalization[0][0]        \n",
            "__________________________________________________________________________________________________\n",
            "conv2d_1 (Conv2D)               (None, 32, 32, 32)   4608        activation[0][0]                 \n",
            "__________________________________________________________________________________________________\n",
            "batch_normalization_1 (BatchNor (None, 32, 32, 32)   128         conv2d_1[0][0]                   \n",
            "__________________________________________________________________________________________________\n",
            "activation_1 (Activation)       (None, 32, 32, 32)   0           batch_normalization_1[0][0]      \n",
            "__________________________________________________________________________________________________\n",
            "conv2d_2 (Conv2D)               (None, 32, 32, 32)   9216        activation_1[0][0]               \n",
            "__________________________________________________________________________________________________\n",
            "conv2d_3 (Conv2D)               (None, 32, 32, 32)   512         activation[0][0]                 \n",
            "__________________________________________________________________________________________________\n",
            "add (Add)                       (None, 32, 32, 32)   0           conv2d_2[0][0]                   \n",
            "                                                                 conv2d_3[0][0]                   \n",
            "__________________________________________________________________________________________________\n",
            "batch_normalization_2 (BatchNor (None, 32, 32, 32)   128         add[0][0]                        \n",
            "__________________________________________________________________________________________________\n",
            "activation_2 (Activation)       (None, 32, 32, 32)   0           batch_normalization_2[0][0]      \n",
            "__________________________________________________________________________________________________\n",
            "conv2d_4 (Conv2D)               (None, 32, 32, 32)   9216        activation_2[0][0]               \n",
            "__________________________________________________________________________________________________\n",
            "dropout (Dropout)               (None, 32, 32, 32)   0           conv2d_4[0][0]                   \n",
            "__________________________________________________________________________________________________\n",
            "batch_normalization_3 (BatchNor (None, 32, 32, 32)   128         dropout[0][0]                    \n",
            "__________________________________________________________________________________________________\n",
            "activation_3 (Activation)       (None, 32, 32, 32)   0           batch_normalization_3[0][0]      \n",
            "__________________________________________________________________________________________________\n",
            "conv2d_5 (Conv2D)               (None, 32, 32, 32)   9216        activation_3[0][0]               \n",
            "__________________________________________________________________________________________________\n",
            "add_1 (Add)                     (None, 32, 32, 32)   0           add[0][0]                        \n",
            "                                                                 conv2d_5[0][0]                   \n",
            "__________________________________________________________________________________________________\n",
            "batch_normalization_4 (BatchNor (None, 32, 32, 32)   128         add_1[0][0]                      \n",
            "__________________________________________________________________________________________________\n",
            "activation_4 (Activation)       (None, 32, 32, 32)   0           batch_normalization_4[0][0]      \n",
            "__________________________________________________________________________________________________\n",
            "conv2d_6 (Conv2D)               (None, 16, 16, 64)   18432       activation_4[0][0]               \n",
            "__________________________________________________________________________________________________\n",
            "batch_normalization_5 (BatchNor (None, 16, 16, 64)   256         conv2d_6[0][0]                   \n",
            "__________________________________________________________________________________________________\n",
            "activation_5 (Activation)       (None, 16, 16, 64)   0           batch_normalization_5[0][0]      \n",
            "__________________________________________________________________________________________________\n",
            "conv2d_7 (Conv2D)               (None, 16, 16, 64)   36864       activation_5[0][0]               \n",
            "__________________________________________________________________________________________________\n",
            "conv2d_8 (Conv2D)               (None, 16, 16, 64)   2048        activation_4[0][0]               \n",
            "__________________________________________________________________________________________________\n",
            "add_2 (Add)                     (None, 16, 16, 64)   0           conv2d_7[0][0]                   \n",
            "                                                                 conv2d_8[0][0]                   \n",
            "__________________________________________________________________________________________________\n",
            "batch_normalization_6 (BatchNor (None, 16, 16, 64)   256         add_2[0][0]                      \n",
            "__________________________________________________________________________________________________\n",
            "activation_6 (Activation)       (None, 16, 16, 64)   0           batch_normalization_6[0][0]      \n",
            "__________________________________________________________________________________________________\n",
            "conv2d_9 (Conv2D)               (None, 16, 16, 64)   36864       activation_6[0][0]               \n",
            "__________________________________________________________________________________________________\n",
            "dropout_1 (Dropout)             (None, 16, 16, 64)   0           conv2d_9[0][0]                   \n",
            "__________________________________________________________________________________________________\n",
            "batch_normalization_7 (BatchNor (None, 16, 16, 64)   256         dropout_1[0][0]                  \n",
            "__________________________________________________________________________________________________\n",
            "activation_7 (Activation)       (None, 16, 16, 64)   0           batch_normalization_7[0][0]      \n",
            "__________________________________________________________________________________________________\n",
            "conv2d_10 (Conv2D)              (None, 16, 16, 64)   36864       activation_7[0][0]               \n",
            "__________________________________________________________________________________________________\n",
            "add_3 (Add)                     (None, 16, 16, 64)   0           add_2[0][0]                      \n",
            "                                                                 conv2d_10[0][0]                  \n",
            "__________________________________________________________________________________________________\n",
            "batch_normalization_8 (BatchNor (None, 16, 16, 64)   256         add_3[0][0]                      \n",
            "__________________________________________________________________________________________________\n",
            "activation_8 (Activation)       (None, 16, 16, 64)   0           batch_normalization_8[0][0]      \n",
            "__________________________________________________________________________________________________\n",
            "conv2d_11 (Conv2D)              (None, 8, 8, 128)    73728       activation_8[0][0]               \n",
            "__________________________________________________________________________________________________\n",
            "batch_normalization_9 (BatchNor (None, 8, 8, 128)    512         conv2d_11[0][0]                  \n",
            "__________________________________________________________________________________________________\n",
            "activation_9 (Activation)       (None, 8, 8, 128)    0           batch_normalization_9[0][0]      \n",
            "__________________________________________________________________________________________________\n",
            "conv2d_12 (Conv2D)              (None, 8, 8, 128)    147456      activation_9[0][0]               \n",
            "__________________________________________________________________________________________________\n",
            "conv2d_13 (Conv2D)              (None, 8, 8, 128)    8192        activation_8[0][0]               \n",
            "__________________________________________________________________________________________________\n",
            "add_4 (Add)                     (None, 8, 8, 128)    0           conv2d_12[0][0]                  \n",
            "                                                                 conv2d_13[0][0]                  \n",
            "__________________________________________________________________________________________________\n",
            "batch_normalization_10 (BatchNo (None, 8, 8, 128)    512         add_4[0][0]                      \n",
            "__________________________________________________________________________________________________\n",
            "activation_10 (Activation)      (None, 8, 8, 128)    0           batch_normalization_10[0][0]     \n",
            "__________________________________________________________________________________________________\n",
            "conv2d_14 (Conv2D)              (None, 8, 8, 128)    147456      activation_10[0][0]              \n",
            "__________________________________________________________________________________________________\n",
            "dropout_2 (Dropout)             (None, 8, 8, 128)    0           conv2d_14[0][0]                  \n",
            "__________________________________________________________________________________________________\n",
            "batch_normalization_11 (BatchNo (None, 8, 8, 128)    512         dropout_2[0][0]                  \n",
            "__________________________________________________________________________________________________\n",
            "activation_11 (Activation)      (None, 8, 8, 128)    0           batch_normalization_11[0][0]     \n",
            "__________________________________________________________________________________________________\n",
            "conv2d_15 (Conv2D)              (None, 8, 8, 128)    147456      activation_11[0][0]              \n",
            "__________________________________________________________________________________________________\n",
            "add_5 (Add)                     (None, 8, 8, 128)    0           add_4[0][0]                      \n",
            "                                                                 conv2d_15[0][0]                  \n",
            "__________________________________________________________________________________________________\n",
            "batch_normalization_12 (BatchNo (None, 8, 8, 128)    512         add_5[0][0]                      \n",
            "__________________________________________________________________________________________________\n",
            "activation_12 (Activation)      (None, 8, 8, 128)    0           batch_normalization_12[0][0]     \n",
            "__________________________________________________________________________________________________\n",
            "average_pooling2d (AveragePooli (None, 1, 1, 128)    0           activation_12[0][0]              \n",
            "__________________________________________________________________________________________________\n",
            "flatten (Flatten)               (None, 128)          0           average_pooling2d[0][0]          \n",
            "__________________________________________________________________________________________________\n",
            "dense (Dense)                   (None, 4)            516         flatten[0][0]                    \n",
            "==================================================================================================\n",
            "Total params: 692,436\n",
            "Trainable params: 690,612\n",
            "Non-trainable params: 1,824\n",
            "__________________________________________________________________________________________________\n"
          ],
          "name": "stdout"
        }
      ]
    },
    {
      "cell_type": "markdown",
      "metadata": {
        "id": "ffNo5x-Ft9Fe",
        "colab_type": "text"
      },
      "source": [
        "# Data Prepare and Processing\n",
        "\n",
        "\n"
      ]
    },
    {
      "cell_type": "code",
      "metadata": {
        "id": "AJqH742XcPQv",
        "colab_type": "code",
        "colab": {}
      },
      "source": [
        "from sklearn.model_selection import train_test_split\n",
        "import gzip\n",
        "import pickle\n",
        "\n",
        "import numpy as np"
      ],
      "execution_count": 0,
      "outputs": []
    },
    {
      "cell_type": "code",
      "metadata": {
        "id": "pBRh7YDqiuqw",
        "colab_type": "code",
        "colab": {}
      },
      "source": [
        "\n",
        "with open('data_set.pickle', 'rb') as f:\n",
        "    x = pickle.load(f)"
      ],
      "execution_count": 0,
      "outputs": []
    },
    {
      "cell_type": "code",
      "metadata": {
        "id": "ONi_4KtjjNE2",
        "colab_type": "code",
        "colab": {}
      },
      "source": [
        "X_train, y_train,X_test, y_test, X_val, y_val = x['X_train'], x['y_train'], x['X_test'], x['y_test'], x['X_val'], x['y_val']"
      ],
      "execution_count": 0,
      "outputs": []
    },
    {
      "cell_type": "code",
      "metadata": {
        "id": "fNBI_SkvuzgK",
        "colab_type": "code",
        "colab": {}
      },
      "source": [
        "def read_data():\n",
        "    with open(\"data.pz\", 'rb') as file_:\n",
        "        with gzip.GzipFile(fileobj=file_) as gzf:\n",
        "            data = pickle.load(gzf, encoding='latin1', fix_imports=True)\n",
        "    return data\n",
        "data = read_data()\n"
      ],
      "execution_count": 0,
      "outputs": []
    },
    {
      "cell_type": "code",
      "metadata": {
        "id": "4euxwMe2jIoX",
        "colab_type": "code",
        "outputId": "b8a89af9-b15e-428f-81f2-ba981804c810",
        "colab": {
          "base_uri": "https://localhost:8080/",
          "height": 34
        }
      },
      "source": [
        "import cv2\n",
        "new_data_X = []\n",
        "Y_data = []\n",
        "for row in data:\n",
        "    new_data_X.append(cv2.resize(row['crop'], (32,32)))\n",
        "    Y_data.append(row['label'])\n",
        "new_data_X = np.array(new_data_X)\n",
        "new_data_X.shape"
      ],
      "execution_count": 0,
      "outputs": [
        {
          "output_type": "execute_result",
          "data": {
            "text/plain": [
              "(5722, 32, 32)"
            ]
          },
          "metadata": {
            "tags": []
          },
          "execution_count": 53
        }
      ]
    },
    {
      "cell_type": "code",
      "metadata": {
        "id": "TNBsNVDNu6Ku",
        "colab_type": "code",
        "outputId": "2266e79c-ba96-48fd-9247-86b41b5c9362",
        "colab": {
          "base_uri": "https://localhost:8080/",
          "height": 34
        }
      },
      "source": [
        "X = new_data_X.astype('float32')\n",
        "X.shape"
      ],
      "execution_count": 0,
      "outputs": [
        {
          "output_type": "execute_result",
          "data": {
            "text/plain": [
              "(5722, 32, 32)"
            ]
          },
          "metadata": {
            "tags": []
          },
          "execution_count": 54
        }
      ]
    },
    {
      "cell_type": "markdown",
      "metadata": {
        "id": "MFQdrnTKuM8c",
        "colab_type": "text"
      },
      "source": [
        "# Preprocessing"
      ]
    },
    {
      "cell_type": "code",
      "metadata": {
        "id": "uqf-dZOrvC0e",
        "colab_type": "code",
        "colab": {}
      },
      "source": [
        "img_rows, img_cols = X[0].shape\n",
        "\n",
        "# transform data set\n",
        "if K.image_data_format() == 'channels_first':\n",
        "    X = X.reshape(X.shape[0], 1, img_rows, img_cols)\n",
        "    input_shape = (1, img_rows, img_cols)\n",
        "else:\n",
        "    X = X.reshape(X.shape[0], img_rows, img_cols, 1)\n",
        "    input_shape = (img_rows, img_cols, 1)"
      ],
      "execution_count": 0,
      "outputs": []
    },
    {
      "cell_type": "code",
      "metadata": {
        "id": "2eEHVf2Bu9xt",
        "colab_type": "code",
        "colab": {}
      },
      "source": [
        "import pandas as pd\n",
        "import numpy as np\n",
        "from sklearn.preprocessing import LabelEncoder\n",
        "\n",
        "labelencoder = LabelEncoder()\n",
        "y_df = pd.DataFrame(Y_data, columns=['Label'])\n",
        "y_df['Encoded'] = labelencoder.fit_transform(y_df['Label'])"
      ],
      "execution_count": 0,
      "outputs": []
    },
    {
      "cell_type": "code",
      "metadata": {
        "id": "56hwq9R2jruF",
        "colab_type": "code",
        "outputId": "fde82827-16be-4fb3-93a9-d908e5350f28",
        "colab": {
          "base_uri": "https://localhost:8080/",
          "height": 104
        }
      },
      "source": [
        "y_df['Label'].value_counts()"
      ],
      "execution_count": 0,
      "outputs": [
        {
          "output_type": "execute_result",
          "data": {
            "text/plain": [
              "closed           1500\n",
              "open             1500\n",
              "partiallyOpen    1376\n",
              "notVisible       1346\n",
              "Name: Label, dtype: int64"
            ]
          },
          "metadata": {
            "tags": []
          },
          "execution_count": 57
        }
      ]
    },
    {
      "cell_type": "code",
      "metadata": {
        "id": "WxAYuiEzj4Bp",
        "colab_type": "code",
        "outputId": "0289812a-6ff3-4727-9b99-fe5276b85a17",
        "colab": {
          "base_uri": "https://localhost:8080/",
          "height": 104
        }
      },
      "source": [
        "y_df['Encoded'].value_counts()\n"
      ],
      "execution_count": 0,
      "outputs": [
        {
          "output_type": "execute_result",
          "data": {
            "text/plain": [
              "2    1500\n",
              "0    1500\n",
              "3    1376\n",
              "1    1346\n",
              "Name: Encoded, dtype: int64"
            ]
          },
          "metadata": {
            "tags": []
          },
          "execution_count": 58
        }
      ]
    },
    {
      "cell_type": "code",
      "metadata": {
        "id": "wdkpb2Jkqu6t",
        "colab_type": "code",
        "colab": {}
      },
      "source": [
        "from tensorflow.keras.utils import to_categorical\n",
        "\n",
        "y_cat = to_categorical(y_df['Encoded'])"
      ],
      "execution_count": 0,
      "outputs": []
    },
    {
      "cell_type": "markdown",
      "metadata": {
        "id": "Kif3Li9NuSnV",
        "colab_type": "text"
      },
      "source": [
        "# Training"
      ]
    },
    {
      "cell_type": "code",
      "metadata": {
        "id": "rghSgp3NvhhV",
        "colab_type": "code",
        "colab": {}
      },
      "source": [
        "from tensorflow.keras.optimizers import SGD\n",
        "from tensorflow.keras.callbacks import Callback, LearningRateScheduler, EarlyStopping\n",
        "import tensorflow\n",
        "\n",
        "EPOCHS = 200\n",
        "BS = 128\n",
        "sgd = SGD(lr=0.1, momentum=0.6)"
      ],
      "execution_count": 0,
      "outputs": []
    },
    {
      "cell_type": "code",
      "metadata": {
        "id": "yBnqXaiNwHGl",
        "colab_type": "code",
        "outputId": "b16631fb-0134-4d36-b027-71406fd505b7",
        "colab": {
          "base_uri": "https://localhost:8080/",
          "height": 34
        }
      },
      "source": [
        "wrn_16_2.compile(loss=\"categorical_crossentropy\", optimizer=sgd, metrics=[\"acc\"])\n",
        "print(\"Finished compiling\")\n"
      ],
      "execution_count": 7,
      "outputs": [
        {
          "output_type": "stream",
          "text": [
            "Finished compiling\n"
          ],
          "name": "stdout"
        }
      ]
    },
    {
      "cell_type": "code",
      "metadata": {
        "id": "88yOqhbSwjPa",
        "colab_type": "code",
        "colab": {}
      },
      "source": [
        "def lr_sch(epoch):\n",
        "    if epoch < 30:\n",
        "        return 0.1\n",
        "    elif epoch < 50:\n",
        "        return 0.001\n",
        "    elif epoch < 60:\n",
        "        return 0.001\n",
        "    else:\n",
        "        return 0.00001\n",
        "\n",
        "# Learning rate scheduler callback\n",
        "lr_scheduler = LearningRateScheduler(lr_sch)"
      ],
      "execution_count": 0,
      "outputs": []
    },
    {
      "cell_type": "code",
      "metadata": {
        "id": "TbpiWMEgRpWa",
        "colab_type": "code",
        "colab": {}
      },
      "source": [
        "generator = tensorflow.keras.preprocessing.image.ImageDataGenerator(rotation_range=10,\n",
        "                               width_shift_range=5./32,\n",
        "                               height_shift_range=5./32,)"
      ],
      "execution_count": 0,
      "outputs": []
    },
    {
      "cell_type": "code",
      "metadata": {
        "id": "uo-6r-Zvva5l",
        "colab_type": "code",
        "colab": {}
      },
      "source": [
        "X_train, X_test, y_train, y_test = train_test_split(X, y_cat, test_size = 0.1)\n",
        "X_train, X_val, y_train, y_val = train_test_split(X_train, y_train, test_size = 0.1)"
      ],
      "execution_count": 0,
      "outputs": []
    },
    {
      "cell_type": "code",
      "metadata": {
        "id": "JVs_QNHoEKji",
        "colab_type": "code",
        "outputId": "fa892c95-f59b-4890-b258-37075bdca70f",
        "colab": {
          "base_uri": "https://localhost:8080/",
          "height": 1000
        }
      },
      "source": [
        "hist = wrn_16_2.fit(generator.flow(X_train, y_train, batch_size=BS), steps_per_epoch=len(X_train) // BS, epochs=EPOCHS,\n",
        "                   callbacks = [lr_scheduler],\n",
        "                   validation_data=(X_val, y_val),\n",
        "                   validation_steps=X_val.shape[0] // BS,)"
      ],
      "execution_count": 11,
      "outputs": [
        {
          "output_type": "stream",
          "text": [
            "Epoch 1/200\n",
            "36/36 [==============================] - 2s 68ms/step - loss: 1.5912 - acc: 0.3079 - val_loss: 1.5338 - val_acc: 0.3845 - lr: 0.1000\n",
            "Epoch 2/200\n",
            "36/36 [==============================] - 2s 55ms/step - loss: 1.5084 - acc: 0.3673 - val_loss: 1.5161 - val_acc: 0.3883 - lr: 0.1000\n",
            "Epoch 3/200\n",
            "36/36 [==============================] - 2s 52ms/step - loss: 1.4671 - acc: 0.3806 - val_loss: 1.5058 - val_acc: 0.3592 - lr: 0.1000\n",
            "Epoch 4/200\n",
            "36/36 [==============================] - 2s 54ms/step - loss: 1.4622 - acc: 0.3877 - val_loss: 1.4645 - val_acc: 0.3689 - lr: 0.1000\n",
            "Epoch 5/200\n",
            "36/36 [==============================] - 2s 57ms/step - loss: 1.4451 - acc: 0.3886 - val_loss: 1.4417 - val_acc: 0.4078 - lr: 0.1000\n",
            "Epoch 6/200\n",
            "36/36 [==============================] - 2s 57ms/step - loss: 1.4361 - acc: 0.4099 - val_loss: 1.4039 - val_acc: 0.4039 - lr: 0.1000\n",
            "Epoch 7/200\n",
            "36/36 [==============================] - 2s 51ms/step - loss: 1.4344 - acc: 0.4099 - val_loss: 1.3981 - val_acc: 0.4505 - lr: 0.1000\n",
            "Epoch 8/200\n",
            "36/36 [==============================] - 2s 54ms/step - loss: 1.4151 - acc: 0.4332 - val_loss: 1.4019 - val_acc: 0.4330 - lr: 0.1000\n",
            "Epoch 9/200\n",
            "36/36 [==============================] - 2s 52ms/step - loss: 1.4139 - acc: 0.4294 - val_loss: 1.3998 - val_acc: 0.4699 - lr: 0.1000\n",
            "Epoch 10/200\n",
            "36/36 [==============================] - 2s 54ms/step - loss: 1.3825 - acc: 0.4747 - val_loss: 1.3987 - val_acc: 0.4951 - lr: 0.1000\n",
            "Epoch 11/200\n",
            "36/36 [==============================] - 2s 53ms/step - loss: 1.3551 - acc: 0.5020 - val_loss: 1.2899 - val_acc: 0.5223 - lr: 0.1000\n",
            "Epoch 12/200\n",
            "36/36 [==============================] - 2s 53ms/step - loss: 1.3314 - acc: 0.5198 - val_loss: 1.3237 - val_acc: 0.5010 - lr: 0.1000\n",
            "Epoch 13/200\n",
            "36/36 [==============================] - 2s 54ms/step - loss: 1.3099 - acc: 0.5331 - val_loss: 1.2947 - val_acc: 0.5417 - lr: 0.1000\n",
            "Epoch 14/200\n",
            "36/36 [==============================] - 2s 54ms/step - loss: 1.2855 - acc: 0.5446 - val_loss: 1.3478 - val_acc: 0.5476 - lr: 0.1000\n",
            "Epoch 15/200\n",
            "36/36 [==============================] - 2s 53ms/step - loss: 1.2621 - acc: 0.5630 - val_loss: 1.2955 - val_acc: 0.5282 - lr: 0.1000\n",
            "Epoch 16/200\n",
            "36/36 [==============================] - 2s 54ms/step - loss: 1.2303 - acc: 0.5701 - val_loss: 1.4759 - val_acc: 0.4621 - lr: 0.1000\n",
            "Epoch 17/200\n",
            "36/36 [==============================] - 2s 53ms/step - loss: 1.2089 - acc: 0.5850 - val_loss: 1.1999 - val_acc: 0.5825 - lr: 0.1000\n",
            "Epoch 18/200\n",
            "36/36 [==============================] - 2s 53ms/step - loss: 1.1771 - acc: 0.6056 - val_loss: 1.3145 - val_acc: 0.5670 - lr: 0.1000\n",
            "Epoch 19/200\n",
            "36/36 [==============================] - 2s 54ms/step - loss: 1.1431 - acc: 0.6174 - val_loss: 1.2130 - val_acc: 0.5845 - lr: 0.1000\n",
            "Epoch 20/200\n",
            "36/36 [==============================] - 2s 52ms/step - loss: 1.1260 - acc: 0.6238 - val_loss: 1.1231 - val_acc: 0.6388 - lr: 0.1000\n",
            "Epoch 21/200\n",
            "36/36 [==============================] - 2s 52ms/step - loss: 1.0917 - acc: 0.6489 - val_loss: 1.0534 - val_acc: 0.6680 - lr: 0.1000\n",
            "Epoch 22/200\n",
            "36/36 [==============================] - 2s 53ms/step - loss: 1.0725 - acc: 0.6538 - val_loss: 1.0893 - val_acc: 0.6641 - lr: 0.1000\n",
            "Epoch 23/200\n",
            "36/36 [==============================] - 2s 52ms/step - loss: 1.0396 - acc: 0.6629 - val_loss: 1.0922 - val_acc: 0.6350 - lr: 0.1000\n",
            "Epoch 24/200\n",
            "36/36 [==============================] - 2s 51ms/step - loss: 1.0536 - acc: 0.6662 - val_loss: 1.0401 - val_acc: 0.6699 - lr: 0.1000\n",
            "Epoch 25/200\n",
            "36/36 [==============================] - 2s 52ms/step - loss: 1.0047 - acc: 0.6815 - val_loss: 1.4935 - val_acc: 0.5437 - lr: 0.1000\n",
            "Epoch 26/200\n",
            "36/36 [==============================] - 2s 52ms/step - loss: 1.0099 - acc: 0.6798 - val_loss: 1.0320 - val_acc: 0.6680 - lr: 0.1000\n",
            "Epoch 27/200\n",
            "36/36 [==============================] - 2s 53ms/step - loss: 0.9744 - acc: 0.6980 - val_loss: 1.0640 - val_acc: 0.6932 - lr: 0.1000\n",
            "Epoch 28/200\n",
            "36/36 [==============================] - 2s 54ms/step - loss: 0.9593 - acc: 0.7146 - val_loss: 1.1328 - val_acc: 0.6388 - lr: 0.1000\n",
            "Epoch 29/200\n",
            "36/36 [==============================] - 2s 52ms/step - loss: 0.9505 - acc: 0.7170 - val_loss: 1.1371 - val_acc: 0.6078 - lr: 0.1000\n",
            "Epoch 30/200\n",
            "36/36 [==============================] - 2s 55ms/step - loss: 0.9407 - acc: 0.7139 - val_loss: 1.1338 - val_acc: 0.6388 - lr: 0.1000\n",
            "Epoch 31/200\n",
            "36/36 [==============================] - 2s 54ms/step - loss: 0.9638 - acc: 0.7071 - val_loss: 0.9889 - val_acc: 0.6738 - lr: 0.0010\n",
            "Epoch 32/200\n",
            "36/36 [==============================] - 2s 54ms/step - loss: 0.9144 - acc: 0.7215 - val_loss: 0.9745 - val_acc: 0.6816 - lr: 0.0010\n",
            "Epoch 33/200\n",
            "36/36 [==============================] - 2s 53ms/step - loss: 0.8803 - acc: 0.7388 - val_loss: 0.9443 - val_acc: 0.7029 - lr: 0.0010\n",
            "Epoch 34/200\n",
            "36/36 [==============================] - 2s 52ms/step - loss: 0.8747 - acc: 0.7386 - val_loss: 0.9778 - val_acc: 0.6854 - lr: 0.0010\n",
            "Epoch 35/200\n",
            "36/36 [==============================] - 2s 53ms/step - loss: 0.8726 - acc: 0.7364 - val_loss: 0.9442 - val_acc: 0.6951 - lr: 0.0010\n",
            "Epoch 36/200\n",
            "36/36 [==============================] - 2s 53ms/step - loss: 0.8611 - acc: 0.7499 - val_loss: 0.9387 - val_acc: 0.7087 - lr: 0.0010\n",
            "Epoch 37/200\n",
            "36/36 [==============================] - 2s 54ms/step - loss: 0.8572 - acc: 0.7523 - val_loss: 0.9608 - val_acc: 0.6951 - lr: 0.0010\n",
            "Epoch 38/200\n",
            "36/36 [==============================] - 2s 54ms/step - loss: 0.8567 - acc: 0.7517 - val_loss: 0.9741 - val_acc: 0.6971 - lr: 0.0010\n",
            "Epoch 39/200\n",
            "36/36 [==============================] - 2s 53ms/step - loss: 0.8578 - acc: 0.7474 - val_loss: 0.9332 - val_acc: 0.7146 - lr: 0.0010\n",
            "Epoch 40/200\n",
            "36/36 [==============================] - 2s 53ms/step - loss: 0.8642 - acc: 0.7412 - val_loss: 0.9338 - val_acc: 0.7087 - lr: 0.0010\n",
            "Epoch 41/200\n",
            "36/36 [==============================] - 2s 51ms/step - loss: 0.8487 - acc: 0.7494 - val_loss: 0.9500 - val_acc: 0.7049 - lr: 0.0010\n",
            "Epoch 42/200\n",
            "36/36 [==============================] - 2s 52ms/step - loss: 0.8499 - acc: 0.7514 - val_loss: 0.9302 - val_acc: 0.7146 - lr: 0.0010\n",
            "Epoch 43/200\n",
            "36/36 [==============================] - 2s 54ms/step - loss: 0.8411 - acc: 0.7641 - val_loss: 0.9384 - val_acc: 0.7107 - lr: 0.0010\n",
            "Epoch 44/200\n",
            "36/36 [==============================] - 2s 54ms/step - loss: 0.8444 - acc: 0.7565 - val_loss: 0.9229 - val_acc: 0.7107 - lr: 0.0010\n",
            "Epoch 45/200\n",
            "36/36 [==============================] - 2s 54ms/step - loss: 0.8385 - acc: 0.7554 - val_loss: 0.9453 - val_acc: 0.6913 - lr: 0.0010\n",
            "Epoch 46/200\n",
            "36/36 [==============================] - 2s 54ms/step - loss: 0.8468 - acc: 0.7483 - val_loss: 0.9243 - val_acc: 0.7126 - lr: 0.0010\n",
            "Epoch 47/200\n",
            "36/36 [==============================] - 2s 55ms/step - loss: 0.8381 - acc: 0.7639 - val_loss: 0.9422 - val_acc: 0.7087 - lr: 0.0010\n",
            "Epoch 48/200\n",
            "36/36 [==============================] - 2s 54ms/step - loss: 0.8302 - acc: 0.7670 - val_loss: 0.9260 - val_acc: 0.7107 - lr: 0.0010\n",
            "Epoch 49/200\n",
            "36/36 [==============================] - 2s 53ms/step - loss: 0.8323 - acc: 0.7594 - val_loss: 0.9286 - val_acc: 0.7107 - lr: 0.0010\n",
            "Epoch 50/200\n",
            "36/36 [==============================] - 2s 52ms/step - loss: 0.8428 - acc: 0.7506 - val_loss: 0.9285 - val_acc: 0.7087 - lr: 0.0010\n",
            "Epoch 51/200\n",
            "36/36 [==============================] - 2s 53ms/step - loss: 0.8340 - acc: 0.7645 - val_loss: 0.9897 - val_acc: 0.6971 - lr: 0.0010\n",
            "Epoch 52/200\n",
            "36/36 [==============================] - 2s 52ms/step - loss: 0.8243 - acc: 0.7676 - val_loss: 0.9230 - val_acc: 0.7087 - lr: 0.0010\n",
            "Epoch 53/200\n",
            "36/36 [==============================] - 2s 53ms/step - loss: 0.8348 - acc: 0.7643 - val_loss: 0.9213 - val_acc: 0.7204 - lr: 0.0010\n",
            "Epoch 54/200\n",
            "36/36 [==============================] - 2s 53ms/step - loss: 0.8373 - acc: 0.7639 - val_loss: 0.9375 - val_acc: 0.7087 - lr: 0.0010\n",
            "Epoch 55/200\n",
            "36/36 [==============================] - 2s 53ms/step - loss: 0.8343 - acc: 0.7590 - val_loss: 0.9235 - val_acc: 0.7165 - lr: 0.0010\n",
            "Epoch 56/200\n",
            "36/36 [==============================] - 2s 53ms/step - loss: 0.8294 - acc: 0.7628 - val_loss: 0.9303 - val_acc: 0.7068 - lr: 0.0010\n",
            "Epoch 57/200\n",
            "36/36 [==============================] - 2s 55ms/step - loss: 0.8221 - acc: 0.7714 - val_loss: 0.9181 - val_acc: 0.7126 - lr: 0.0010\n",
            "Epoch 58/200\n",
            "36/36 [==============================] - 2s 54ms/step - loss: 0.8336 - acc: 0.7594 - val_loss: 0.9377 - val_acc: 0.7087 - lr: 0.0010\n",
            "Epoch 59/200\n",
            "36/36 [==============================] - 2s 53ms/step - loss: 0.8339 - acc: 0.7579 - val_loss: 0.9423 - val_acc: 0.7029 - lr: 0.0010\n",
            "Epoch 60/200\n",
            "36/36 [==============================] - 2s 54ms/step - loss: 0.8313 - acc: 0.7641 - val_loss: 0.9168 - val_acc: 0.7068 - lr: 0.0010\n",
            "Epoch 61/200\n",
            "36/36 [==============================] - 2s 53ms/step - loss: 0.8313 - acc: 0.7583 - val_loss: 0.9417 - val_acc: 0.7126 - lr: 1.0000e-05\n",
            "Epoch 62/200\n",
            "36/36 [==============================] - 2s 55ms/step - loss: 0.8246 - acc: 0.7623 - val_loss: 0.9405 - val_acc: 0.7068 - lr: 1.0000e-05\n",
            "Epoch 63/200\n",
            "36/36 [==============================] - 2s 54ms/step - loss: 0.8249 - acc: 0.7652 - val_loss: 0.9506 - val_acc: 0.7165 - lr: 1.0000e-05\n",
            "Epoch 64/200\n",
            "36/36 [==============================] - 2s 53ms/step - loss: 0.8241 - acc: 0.7659 - val_loss: 0.9181 - val_acc: 0.7068 - lr: 1.0000e-05\n",
            "Epoch 65/200\n",
            "36/36 [==============================] - 2s 53ms/step - loss: 0.8272 - acc: 0.7605 - val_loss: 0.9207 - val_acc: 0.7107 - lr: 1.0000e-05\n",
            "Epoch 66/200\n",
            "36/36 [==============================] - 2s 55ms/step - loss: 0.8141 - acc: 0.7681 - val_loss: 0.9283 - val_acc: 0.7146 - lr: 1.0000e-05\n",
            "Epoch 67/200\n",
            "36/36 [==============================] - 2s 54ms/step - loss: 0.8274 - acc: 0.7599 - val_loss: 0.9297 - val_acc: 0.7087 - lr: 1.0000e-05\n",
            "Epoch 68/200\n",
            "36/36 [==============================] - 2s 55ms/step - loss: 0.8339 - acc: 0.7608 - val_loss: 0.9153 - val_acc: 0.7107 - lr: 1.0000e-05\n",
            "Epoch 69/200\n",
            "36/36 [==============================] - 2s 52ms/step - loss: 0.8251 - acc: 0.7581 - val_loss: 0.9418 - val_acc: 0.7126 - lr: 1.0000e-05\n",
            "Epoch 70/200\n",
            "36/36 [==============================] - 2s 54ms/step - loss: 0.8240 - acc: 0.7688 - val_loss: 0.9262 - val_acc: 0.7126 - lr: 1.0000e-05\n",
            "Epoch 71/200\n",
            "36/36 [==============================] - 2s 54ms/step - loss: 0.8280 - acc: 0.7563 - val_loss: 0.9073 - val_acc: 0.7204 - lr: 1.0000e-05\n",
            "Epoch 72/200\n",
            "36/36 [==============================] - 2s 53ms/step - loss: 0.8290 - acc: 0.7597 - val_loss: 0.9291 - val_acc: 0.7010 - lr: 1.0000e-05\n",
            "Epoch 73/200\n",
            "36/36 [==============================] - 2s 53ms/step - loss: 0.8273 - acc: 0.7597 - val_loss: 0.9139 - val_acc: 0.7029 - lr: 1.0000e-05\n",
            "Epoch 74/200\n",
            "36/36 [==============================] - 2s 55ms/step - loss: 0.8287 - acc: 0.7685 - val_loss: 0.9161 - val_acc: 0.7165 - lr: 1.0000e-05\n",
            "Epoch 75/200\n",
            "36/36 [==============================] - 2s 53ms/step - loss: 0.8256 - acc: 0.7654 - val_loss: 0.9311 - val_acc: 0.7165 - lr: 1.0000e-05\n",
            "Epoch 76/200\n",
            "36/36 [==============================] - 2s 53ms/step - loss: 0.8280 - acc: 0.7654 - val_loss: 0.9392 - val_acc: 0.7010 - lr: 1.0000e-05\n",
            "Epoch 77/200\n",
            "36/36 [==============================] - 2s 51ms/step - loss: 0.8313 - acc: 0.7634 - val_loss: 0.9394 - val_acc: 0.7049 - lr: 1.0000e-05\n",
            "Epoch 78/200\n",
            "36/36 [==============================] - 2s 53ms/step - loss: 0.8280 - acc: 0.7688 - val_loss: 0.9591 - val_acc: 0.7010 - lr: 1.0000e-05\n",
            "Epoch 79/200\n",
            "36/36 [==============================] - 2s 53ms/step - loss: 0.8218 - acc: 0.7617 - val_loss: 0.9345 - val_acc: 0.7126 - lr: 1.0000e-05\n",
            "Epoch 80/200\n",
            "36/36 [==============================] - 2s 52ms/step - loss: 0.8207 - acc: 0.7730 - val_loss: 0.9279 - val_acc: 0.7049 - lr: 1.0000e-05\n",
            "Epoch 81/200\n",
            "36/36 [==============================] - 2s 53ms/step - loss: 0.8247 - acc: 0.7630 - val_loss: 0.9194 - val_acc: 0.7049 - lr: 1.0000e-05\n",
            "Epoch 82/200\n",
            "36/36 [==============================] - 2s 53ms/step - loss: 0.8275 - acc: 0.7641 - val_loss: 0.9232 - val_acc: 0.7029 - lr: 1.0000e-05\n",
            "Epoch 83/200\n",
            "36/36 [==============================] - 2s 52ms/step - loss: 0.8426 - acc: 0.7605 - val_loss: 0.9111 - val_acc: 0.7107 - lr: 1.0000e-05\n",
            "Epoch 84/200\n",
            "36/36 [==============================] - 2s 54ms/step - loss: 0.8287 - acc: 0.7597 - val_loss: 0.9232 - val_acc: 0.7146 - lr: 1.0000e-05\n",
            "Epoch 85/200\n",
            "36/36 [==============================] - 2s 53ms/step - loss: 0.8341 - acc: 0.7663 - val_loss: 0.9165 - val_acc: 0.7146 - lr: 1.0000e-05\n",
            "Epoch 86/200\n",
            "36/36 [==============================] - 2s 53ms/step - loss: 0.8197 - acc: 0.7650 - val_loss: 0.9398 - val_acc: 0.7184 - lr: 1.0000e-05\n",
            "Epoch 87/200\n",
            "36/36 [==============================] - 2s 54ms/step - loss: 0.8293 - acc: 0.7585 - val_loss: 0.9891 - val_acc: 0.7068 - lr: 1.0000e-05\n",
            "Epoch 88/200\n",
            "36/36 [==============================] - 2s 54ms/step - loss: 0.8143 - acc: 0.7670 - val_loss: 0.9211 - val_acc: 0.7107 - lr: 1.0000e-05\n",
            "Epoch 89/200\n",
            "36/36 [==============================] - 2s 54ms/step - loss: 0.8279 - acc: 0.7614 - val_loss: 0.9337 - val_acc: 0.7068 - lr: 1.0000e-05\n",
            "Epoch 90/200\n",
            "36/36 [==============================] - 2s 52ms/step - loss: 0.8353 - acc: 0.7565 - val_loss: 0.9234 - val_acc: 0.7029 - lr: 1.0000e-05\n",
            "Epoch 91/200\n",
            "36/36 [==============================] - 2s 53ms/step - loss: 0.8332 - acc: 0.7654 - val_loss: 0.9234 - val_acc: 0.7068 - lr: 1.0000e-05\n",
            "Epoch 92/200\n",
            "36/36 [==============================] - 2s 53ms/step - loss: 0.8223 - acc: 0.7679 - val_loss: 0.9226 - val_acc: 0.7146 - lr: 1.0000e-05\n",
            "Epoch 93/200\n",
            "36/36 [==============================] - 2s 52ms/step - loss: 0.8347 - acc: 0.7588 - val_loss: 0.9361 - val_acc: 0.7068 - lr: 1.0000e-05\n",
            "Epoch 94/200\n",
            "36/36 [==============================] - 2s 54ms/step - loss: 0.8280 - acc: 0.7632 - val_loss: 0.9118 - val_acc: 0.7068 - lr: 1.0000e-05\n",
            "Epoch 95/200\n",
            "36/36 [==============================] - 2s 51ms/step - loss: 0.8270 - acc: 0.7648 - val_loss: 0.9020 - val_acc: 0.7068 - lr: 1.0000e-05\n",
            "Epoch 96/200\n",
            "36/36 [==============================] - 2s 52ms/step - loss: 0.8198 - acc: 0.7621 - val_loss: 0.9205 - val_acc: 0.7049 - lr: 1.0000e-05\n",
            "Epoch 97/200\n",
            "36/36 [==============================] - 2s 51ms/step - loss: 0.8268 - acc: 0.7632 - val_loss: 0.9338 - val_acc: 0.7029 - lr: 1.0000e-05\n",
            "Epoch 98/200\n",
            "36/36 [==============================] - 2s 52ms/step - loss: 0.8240 - acc: 0.7659 - val_loss: 0.9289 - val_acc: 0.7049 - lr: 1.0000e-05\n",
            "Epoch 99/200\n",
            "36/36 [==============================] - 2s 53ms/step - loss: 0.8211 - acc: 0.7734 - val_loss: 0.9232 - val_acc: 0.7087 - lr: 1.0000e-05\n",
            "Epoch 100/200\n",
            "36/36 [==============================] - 2s 54ms/step - loss: 0.8251 - acc: 0.7645 - val_loss: 0.9172 - val_acc: 0.7049 - lr: 1.0000e-05\n",
            "Epoch 101/200\n",
            "36/36 [==============================] - 2s 53ms/step - loss: 0.8200 - acc: 0.7652 - val_loss: 0.9360 - val_acc: 0.7068 - lr: 1.0000e-05\n",
            "Epoch 102/200\n",
            "36/36 [==============================] - 2s 51ms/step - loss: 0.8360 - acc: 0.7614 - val_loss: 0.9206 - val_acc: 0.7087 - lr: 1.0000e-05\n",
            "Epoch 103/200\n",
            "36/36 [==============================] - 2s 52ms/step - loss: 0.8294 - acc: 0.7572 - val_loss: 0.9187 - val_acc: 0.7087 - lr: 1.0000e-05\n",
            "Epoch 104/200\n",
            "36/36 [==============================] - 2s 54ms/step - loss: 0.8281 - acc: 0.7588 - val_loss: 0.9282 - val_acc: 0.7068 - lr: 1.0000e-05\n",
            "Epoch 105/200\n",
            "36/36 [==============================] - 2s 55ms/step - loss: 0.8323 - acc: 0.7590 - val_loss: 0.9303 - val_acc: 0.7107 - lr: 1.0000e-05\n",
            "Epoch 106/200\n",
            "36/36 [==============================] - 2s 52ms/step - loss: 0.8243 - acc: 0.7645 - val_loss: 0.9344 - val_acc: 0.7107 - lr: 1.0000e-05\n",
            "Epoch 107/200\n",
            "36/36 [==============================] - 2s 52ms/step - loss: 0.8279 - acc: 0.7590 - val_loss: 0.9165 - val_acc: 0.7107 - lr: 1.0000e-05\n",
            "Epoch 108/200\n",
            "36/36 [==============================] - 2s 51ms/step - loss: 0.8290 - acc: 0.7593 - val_loss: 0.9198 - val_acc: 0.7165 - lr: 1.0000e-05\n",
            "Epoch 109/200\n",
            "36/36 [==============================] - 2s 53ms/step - loss: 0.8335 - acc: 0.7652 - val_loss: 0.9320 - val_acc: 0.7204 - lr: 1.0000e-05\n",
            "Epoch 110/200\n",
            "36/36 [==============================] - 2s 52ms/step - loss: 0.8270 - acc: 0.7656 - val_loss: 0.9206 - val_acc: 0.7126 - lr: 1.0000e-05\n",
            "Epoch 111/200\n",
            "36/36 [==============================] - 2s 53ms/step - loss: 0.8253 - acc: 0.7628 - val_loss: 0.9143 - val_acc: 0.7223 - lr: 1.0000e-05\n",
            "Epoch 112/200\n",
            "36/36 [==============================] - 2s 52ms/step - loss: 0.8304 - acc: 0.7661 - val_loss: 0.9271 - val_acc: 0.7068 - lr: 1.0000e-05\n",
            "Epoch 113/200\n",
            "36/36 [==============================] - 2s 51ms/step - loss: 0.8267 - acc: 0.7614 - val_loss: 0.9454 - val_acc: 0.7049 - lr: 1.0000e-05\n",
            "Epoch 114/200\n",
            "36/36 [==============================] - 2s 53ms/step - loss: 0.8358 - acc: 0.7614 - val_loss: 0.9312 - val_acc: 0.7087 - lr: 1.0000e-05\n",
            "Epoch 115/200\n",
            "36/36 [==============================] - 2s 52ms/step - loss: 0.8292 - acc: 0.7605 - val_loss: 0.9223 - val_acc: 0.7184 - lr: 1.0000e-05\n",
            "Epoch 116/200\n",
            "36/36 [==============================] - 2s 52ms/step - loss: 0.8276 - acc: 0.7608 - val_loss: 0.9095 - val_acc: 0.7049 - lr: 1.0000e-05\n",
            "Epoch 117/200\n",
            "36/36 [==============================] - 2s 52ms/step - loss: 0.8169 - acc: 0.7692 - val_loss: 0.9211 - val_acc: 0.7087 - lr: 1.0000e-05\n",
            "Epoch 118/200\n",
            "36/36 [==============================] - 2s 54ms/step - loss: 0.8246 - acc: 0.7668 - val_loss: 0.9332 - val_acc: 0.7029 - lr: 1.0000e-05\n",
            "Epoch 119/200\n",
            "36/36 [==============================] - 2s 54ms/step - loss: 0.8328 - acc: 0.7590 - val_loss: 0.9287 - val_acc: 0.7107 - lr: 1.0000e-05\n",
            "Epoch 120/200\n",
            "36/36 [==============================] - 2s 54ms/step - loss: 0.8272 - acc: 0.7683 - val_loss: 0.9236 - val_acc: 0.7126 - lr: 1.0000e-05\n",
            "Epoch 121/200\n",
            "36/36 [==============================] - 2s 54ms/step - loss: 0.8205 - acc: 0.7663 - val_loss: 0.9171 - val_acc: 0.7126 - lr: 1.0000e-05\n",
            "Epoch 122/200\n",
            "36/36 [==============================] - 2s 52ms/step - loss: 0.8270 - acc: 0.7599 - val_loss: 0.9338 - val_acc: 0.7087 - lr: 1.0000e-05\n",
            "Epoch 123/200\n",
            "36/36 [==============================] - 2s 51ms/step - loss: 0.8214 - acc: 0.7634 - val_loss: 0.9256 - val_acc: 0.7087 - lr: 1.0000e-05\n",
            "Epoch 124/200\n",
            "36/36 [==============================] - 2s 52ms/step - loss: 0.8333 - acc: 0.7621 - val_loss: 0.9163 - val_acc: 0.7068 - lr: 1.0000e-05\n",
            "Epoch 125/200\n",
            "36/36 [==============================] - 2s 52ms/step - loss: 0.8302 - acc: 0.7614 - val_loss: 0.9324 - val_acc: 0.7049 - lr: 1.0000e-05\n",
            "Epoch 126/200\n",
            "36/36 [==============================] - 2s 53ms/step - loss: 0.8242 - acc: 0.7610 - val_loss: 0.9220 - val_acc: 0.7107 - lr: 1.0000e-05\n",
            "Epoch 127/200\n",
            "36/36 [==============================] - 2s 53ms/step - loss: 0.8231 - acc: 0.7630 - val_loss: 0.9264 - val_acc: 0.7107 - lr: 1.0000e-05\n",
            "Epoch 128/200\n",
            "36/36 [==============================] - 2s 52ms/step - loss: 0.8317 - acc: 0.7628 - val_loss: 0.9171 - val_acc: 0.7146 - lr: 1.0000e-05\n",
            "Epoch 129/200\n",
            "36/36 [==============================] - 2s 53ms/step - loss: 0.8274 - acc: 0.7668 - val_loss: 0.9575 - val_acc: 0.7087 - lr: 1.0000e-05\n",
            "Epoch 130/200\n",
            "36/36 [==============================] - 2s 52ms/step - loss: 0.8273 - acc: 0.7610 - val_loss: 0.9302 - val_acc: 0.7068 - lr: 1.0000e-05\n",
            "Epoch 131/200\n",
            "36/36 [==============================] - 2s 50ms/step - loss: 0.8311 - acc: 0.7610 - val_loss: 0.9280 - val_acc: 0.7165 - lr: 1.0000e-05\n",
            "Epoch 132/200\n",
            "36/36 [==============================] - 2s 52ms/step - loss: 0.8284 - acc: 0.7661 - val_loss: 0.9462 - val_acc: 0.6990 - lr: 1.0000e-05\n",
            "Epoch 133/200\n",
            "36/36 [==============================] - 2s 53ms/step - loss: 0.8316 - acc: 0.7597 - val_loss: 0.9174 - val_acc: 0.7165 - lr: 1.0000e-05\n",
            "Epoch 134/200\n",
            "36/36 [==============================] - 2s 52ms/step - loss: 0.8276 - acc: 0.7625 - val_loss: 0.9642 - val_acc: 0.7107 - lr: 1.0000e-05\n",
            "Epoch 135/200\n",
            "36/36 [==============================] - 2s 53ms/step - loss: 0.8356 - acc: 0.7572 - val_loss: 0.9295 - val_acc: 0.7146 - lr: 1.0000e-05\n",
            "Epoch 136/200\n",
            "36/36 [==============================] - 2s 51ms/step - loss: 0.8266 - acc: 0.7639 - val_loss: 0.9823 - val_acc: 0.6990 - lr: 1.0000e-05\n",
            "Epoch 137/200\n",
            "36/36 [==============================] - 2s 53ms/step - loss: 0.8265 - acc: 0.7643 - val_loss: 0.9230 - val_acc: 0.7146 - lr: 1.0000e-05\n",
            "Epoch 138/200\n",
            "36/36 [==============================] - 2s 51ms/step - loss: 0.8239 - acc: 0.7674 - val_loss: 0.9267 - val_acc: 0.7049 - lr: 1.0000e-05\n",
            "Epoch 139/200\n",
            "36/36 [==============================] - 2s 52ms/step - loss: 0.8308 - acc: 0.7632 - val_loss: 0.9131 - val_acc: 0.7068 - lr: 1.0000e-05\n",
            "Epoch 140/200\n",
            "36/36 [==============================] - 2s 54ms/step - loss: 0.8123 - acc: 0.7670 - val_loss: 0.9079 - val_acc: 0.7243 - lr: 1.0000e-05\n",
            "Epoch 141/200\n",
            "36/36 [==============================] - 2s 53ms/step - loss: 0.8335 - acc: 0.7585 - val_loss: 0.9216 - val_acc: 0.7087 - lr: 1.0000e-05\n",
            "Epoch 142/200\n",
            "36/36 [==============================] - 2s 54ms/step - loss: 0.8232 - acc: 0.7603 - val_loss: 0.9262 - val_acc: 0.7126 - lr: 1.0000e-05\n",
            "Epoch 143/200\n",
            "36/36 [==============================] - 2s 55ms/step - loss: 0.8294 - acc: 0.7643 - val_loss: 0.9247 - val_acc: 0.7087 - lr: 1.0000e-05\n",
            "Epoch 144/200\n",
            "36/36 [==============================] - 2s 53ms/step - loss: 0.8292 - acc: 0.7636 - val_loss: 0.9234 - val_acc: 0.7126 - lr: 1.0000e-05\n",
            "Epoch 145/200\n",
            "36/36 [==============================] - 2s 53ms/step - loss: 0.8244 - acc: 0.7628 - val_loss: 0.9428 - val_acc: 0.7029 - lr: 1.0000e-05\n",
            "Epoch 146/200\n",
            "36/36 [==============================] - 2s 50ms/step - loss: 0.8211 - acc: 0.7685 - val_loss: 0.9214 - val_acc: 0.7107 - lr: 1.0000e-05\n",
            "Epoch 147/200\n",
            "36/36 [==============================] - 2s 53ms/step - loss: 0.8247 - acc: 0.7650 - val_loss: 0.9380 - val_acc: 0.7049 - lr: 1.0000e-05\n",
            "Epoch 148/200\n",
            "36/36 [==============================] - 2s 52ms/step - loss: 0.8297 - acc: 0.7639 - val_loss: 0.9464 - val_acc: 0.7107 - lr: 1.0000e-05\n",
            "Epoch 149/200\n",
            "36/36 [==============================] - 2s 53ms/step - loss: 0.8363 - acc: 0.7630 - val_loss: 0.9602 - val_acc: 0.7049 - lr: 1.0000e-05\n",
            "Epoch 150/200\n",
            "36/36 [==============================] - 2s 51ms/step - loss: 0.8180 - acc: 0.7690 - val_loss: 0.9632 - val_acc: 0.7010 - lr: 1.0000e-05\n",
            "Epoch 151/200\n",
            "36/36 [==============================] - 2s 52ms/step - loss: 0.8290 - acc: 0.7632 - val_loss: 0.9235 - val_acc: 0.7068 - lr: 1.0000e-05\n",
            "Epoch 152/200\n",
            "36/36 [==============================] - 2s 52ms/step - loss: 0.8231 - acc: 0.7579 - val_loss: 0.9254 - val_acc: 0.7146 - lr: 1.0000e-05\n",
            "Epoch 153/200\n",
            "36/36 [==============================] - 2s 52ms/step - loss: 0.8307 - acc: 0.7583 - val_loss: 0.9144 - val_acc: 0.7146 - lr: 1.0000e-05\n",
            "Epoch 154/200\n",
            "36/36 [==============================] - 2s 53ms/step - loss: 0.8351 - acc: 0.7619 - val_loss: 0.9287 - val_acc: 0.7146 - lr: 1.0000e-05\n",
            "Epoch 155/200\n",
            "36/36 [==============================] - 2s 51ms/step - loss: 0.8164 - acc: 0.7634 - val_loss: 0.9115 - val_acc: 0.7223 - lr: 1.0000e-05\n",
            "Epoch 156/200\n",
            "36/36 [==============================] - 2s 51ms/step - loss: 0.8269 - acc: 0.7601 - val_loss: 0.9296 - val_acc: 0.7204 - lr: 1.0000e-05\n",
            "Epoch 157/200\n",
            "36/36 [==============================] - 2s 51ms/step - loss: 0.8316 - acc: 0.7614 - val_loss: 0.9222 - val_acc: 0.7107 - lr: 1.0000e-05\n",
            "Epoch 158/200\n",
            "36/36 [==============================] - 2s 54ms/step - loss: 0.8230 - acc: 0.7605 - val_loss: 0.9228 - val_acc: 0.7087 - lr: 1.0000e-05\n",
            "Epoch 159/200\n",
            "36/36 [==============================] - 2s 52ms/step - loss: 0.8204 - acc: 0.7696 - val_loss: 0.9373 - val_acc: 0.7087 - lr: 1.0000e-05\n",
            "Epoch 160/200\n",
            "36/36 [==============================] - 2s 51ms/step - loss: 0.8224 - acc: 0.7581 - val_loss: 0.9298 - val_acc: 0.7049 - lr: 1.0000e-05\n",
            "Epoch 161/200\n",
            "36/36 [==============================] - 2s 52ms/step - loss: 0.8260 - acc: 0.7565 - val_loss: 0.9285 - val_acc: 0.7068 - lr: 1.0000e-05\n",
            "Epoch 162/200\n",
            "36/36 [==============================] - 2s 52ms/step - loss: 0.8204 - acc: 0.7614 - val_loss: 0.9215 - val_acc: 0.7068 - lr: 1.0000e-05\n",
            "Epoch 163/200\n",
            "36/36 [==============================] - 2s 52ms/step - loss: 0.8267 - acc: 0.7623 - val_loss: 0.9044 - val_acc: 0.7146 - lr: 1.0000e-05\n",
            "Epoch 164/200\n",
            "36/36 [==============================] - 2s 52ms/step - loss: 0.8298 - acc: 0.7599 - val_loss: 0.9232 - val_acc: 0.7087 - lr: 1.0000e-05\n",
            "Epoch 165/200\n",
            "36/36 [==============================] - 2s 51ms/step - loss: 0.8188 - acc: 0.7668 - val_loss: 0.9146 - val_acc: 0.7107 - lr: 1.0000e-05\n",
            "Epoch 166/200\n",
            "36/36 [==============================] - 2s 51ms/step - loss: 0.8170 - acc: 0.7719 - val_loss: 0.9354 - val_acc: 0.6990 - lr: 1.0000e-05\n",
            "Epoch 167/200\n",
            "36/36 [==============================] - 2s 52ms/step - loss: 0.8178 - acc: 0.7727 - val_loss: 0.9295 - val_acc: 0.7010 - lr: 1.0000e-05\n",
            "Epoch 168/200\n",
            "36/36 [==============================] - 2s 51ms/step - loss: 0.8261 - acc: 0.7661 - val_loss: 0.9175 - val_acc: 0.7029 - lr: 1.0000e-05\n",
            "Epoch 169/200\n",
            "36/36 [==============================] - 2s 52ms/step - loss: 0.8245 - acc: 0.7579 - val_loss: 0.9163 - val_acc: 0.7107 - lr: 1.0000e-05\n",
            "Epoch 170/200\n",
            "36/36 [==============================] - 2s 51ms/step - loss: 0.8220 - acc: 0.7665 - val_loss: 0.9282 - val_acc: 0.7068 - lr: 1.0000e-05\n",
            "Epoch 171/200\n",
            "36/36 [==============================] - 2s 51ms/step - loss: 0.8290 - acc: 0.7639 - val_loss: 0.9344 - val_acc: 0.7010 - lr: 1.0000e-05\n",
            "Epoch 172/200\n",
            "36/36 [==============================] - 2s 52ms/step - loss: 0.8200 - acc: 0.7696 - val_loss: 0.9258 - val_acc: 0.7126 - lr: 1.0000e-05\n",
            "Epoch 173/200\n",
            "36/36 [==============================] - 2s 51ms/step - loss: 0.8274 - acc: 0.7641 - val_loss: 0.9269 - val_acc: 0.7126 - lr: 1.0000e-05\n",
            "Epoch 174/200\n",
            "36/36 [==============================] - 2s 54ms/step - loss: 0.8255 - acc: 0.7619 - val_loss: 0.9363 - val_acc: 0.6990 - lr: 1.0000e-05\n",
            "Epoch 175/200\n",
            "36/36 [==============================] - 2s 52ms/step - loss: 0.8245 - acc: 0.7665 - val_loss: 0.9208 - val_acc: 0.7107 - lr: 1.0000e-05\n",
            "Epoch 176/200\n",
            "36/36 [==============================] - 2s 53ms/step - loss: 0.8296 - acc: 0.7619 - val_loss: 0.9551 - val_acc: 0.7146 - lr: 1.0000e-05\n",
            "Epoch 177/200\n",
            "36/36 [==============================] - 2s 50ms/step - loss: 0.8268 - acc: 0.7663 - val_loss: 0.9308 - val_acc: 0.7107 - lr: 1.0000e-05\n",
            "Epoch 178/200\n",
            "36/36 [==============================] - 2s 51ms/step - loss: 0.8174 - acc: 0.7668 - val_loss: 0.9439 - val_acc: 0.7010 - lr: 1.0000e-05\n",
            "Epoch 179/200\n",
            "36/36 [==============================] - 2s 53ms/step - loss: 0.8321 - acc: 0.7621 - val_loss: 0.9530 - val_acc: 0.7165 - lr: 1.0000e-05\n",
            "Epoch 180/200\n",
            "36/36 [==============================] - 2s 52ms/step - loss: 0.8210 - acc: 0.7625 - val_loss: 0.9331 - val_acc: 0.7068 - lr: 1.0000e-05\n",
            "Epoch 181/200\n",
            "36/36 [==============================] - 2s 52ms/step - loss: 0.8223 - acc: 0.7634 - val_loss: 0.9369 - val_acc: 0.7049 - lr: 1.0000e-05\n",
            "Epoch 182/200\n",
            "36/36 [==============================] - 2s 51ms/step - loss: 0.8168 - acc: 0.7692 - val_loss: 0.9573 - val_acc: 0.7029 - lr: 1.0000e-05\n",
            "Epoch 183/200\n",
            "36/36 [==============================] - 2s 51ms/step - loss: 0.8226 - acc: 0.7701 - val_loss: 0.9252 - val_acc: 0.7107 - lr: 1.0000e-05\n",
            "Epoch 184/200\n",
            "36/36 [==============================] - 2s 52ms/step - loss: 0.8238 - acc: 0.7614 - val_loss: 0.9188 - val_acc: 0.7049 - lr: 1.0000e-05\n",
            "Epoch 185/200\n",
            "36/36 [==============================] - 2s 52ms/step - loss: 0.8208 - acc: 0.7663 - val_loss: 0.9340 - val_acc: 0.7068 - lr: 1.0000e-05\n",
            "Epoch 186/200\n",
            "36/36 [==============================] - 2s 52ms/step - loss: 0.8224 - acc: 0.7636 - val_loss: 0.9425 - val_acc: 0.7146 - lr: 1.0000e-05\n",
            "Epoch 187/200\n",
            "36/36 [==============================] - 2s 51ms/step - loss: 0.8192 - acc: 0.7645 - val_loss: 0.9118 - val_acc: 0.7107 - lr: 1.0000e-05\n",
            "Epoch 188/200\n",
            "36/36 [==============================] - 2s 51ms/step - loss: 0.8263 - acc: 0.7641 - val_loss: 0.9150 - val_acc: 0.7068 - lr: 1.0000e-05\n",
            "Epoch 189/200\n",
            "36/36 [==============================] - 2s 52ms/step - loss: 0.8136 - acc: 0.7685 - val_loss: 0.9302 - val_acc: 0.7068 - lr: 1.0000e-05\n",
            "Epoch 190/200\n",
            "36/36 [==============================] - 2s 54ms/step - loss: 0.8287 - acc: 0.7694 - val_loss: 0.9249 - val_acc: 0.7087 - lr: 1.0000e-05\n",
            "Epoch 191/200\n",
            "36/36 [==============================] - 2s 53ms/step - loss: 0.8258 - acc: 0.7572 - val_loss: 0.9346 - val_acc: 0.7049 - lr: 1.0000e-05\n",
            "Epoch 192/200\n",
            "36/36 [==============================] - 2s 53ms/step - loss: 0.8186 - acc: 0.7619 - val_loss: 0.9553 - val_acc: 0.7068 - lr: 1.0000e-05\n",
            "Epoch 193/200\n",
            "36/36 [==============================] - 2s 52ms/step - loss: 0.8261 - acc: 0.7654 - val_loss: 0.9155 - val_acc: 0.6971 - lr: 1.0000e-05\n",
            "Epoch 194/200\n",
            "36/36 [==============================] - 2s 51ms/step - loss: 0.8217 - acc: 0.7683 - val_loss: 0.9830 - val_acc: 0.7068 - lr: 1.0000e-05\n",
            "Epoch 195/200\n",
            "36/36 [==============================] - 2s 50ms/step - loss: 0.8233 - acc: 0.7632 - val_loss: 0.9197 - val_acc: 0.7165 - lr: 1.0000e-05\n",
            "Epoch 196/200\n",
            "36/36 [==============================] - 2s 52ms/step - loss: 0.8243 - acc: 0.7663 - val_loss: 0.9325 - val_acc: 0.7107 - lr: 1.0000e-05\n",
            "Epoch 197/200\n",
            "36/36 [==============================] - 2s 52ms/step - loss: 0.8287 - acc: 0.7592 - val_loss: 0.9196 - val_acc: 0.7029 - lr: 1.0000e-05\n",
            "Epoch 198/200\n",
            "36/36 [==============================] - 2s 52ms/step - loss: 0.8278 - acc: 0.7601 - val_loss: 0.9174 - val_acc: 0.7010 - lr: 1.0000e-05\n",
            "Epoch 199/200\n",
            "36/36 [==============================] - 2s 52ms/step - loss: 0.8208 - acc: 0.7727 - val_loss: 0.9326 - val_acc: 0.7049 - lr: 1.0000e-05\n",
            "Epoch 200/200\n",
            "36/36 [==============================] - 2s 52ms/step - loss: 0.8280 - acc: 0.7645 - val_loss: 0.9287 - val_acc: 0.7068 - lr: 1.0000e-05\n"
          ],
          "name": "stdout"
        }
      ]
    },
    {
      "cell_type": "code",
      "metadata": {
        "id": "xI39Sx-kYyUx",
        "colab_type": "code",
        "colab": {}
      },
      "source": [
        "wrn_16_2.save(\"wrn_model.h5\")"
      ],
      "execution_count": 0,
      "outputs": []
    },
    {
      "cell_type": "markdown",
      "metadata": {
        "id": "djH4uwAnvkfb",
        "colab_type": "text"
      },
      "source": [
        "**Visualization**"
      ]
    },
    {
      "cell_type": "code",
      "metadata": {
        "id": "lr_quzDGwKGM",
        "colab_type": "code",
        "outputId": "493733e5-3c82-455e-e061-1769835a0f4b",
        "colab": {
          "base_uri": "https://localhost:8080/",
          "height": 607
        }
      },
      "source": [
        "import matplotlib.pyplot as plt\n",
        "\n",
        "history = hist\n",
        "print(history.history.keys())\n",
        "# summarize history for accuracy\n",
        "plt.plot(history.history['acc'])\n",
        "plt.plot(history.history['val_acc'])\n",
        "plt.title('model accuracy')\n",
        "plt.ylabel('accuracy')\n",
        "plt.xlabel('epoch')\n",
        "plt.legend(['train', 'test'], loc='upper left')\n",
        "plt.show()\n",
        "plt.savefig(\"wrn_tensor.png\")\n",
        "# summarize history for loss\n",
        "plt.plot(history.history['loss'])\n",
        "plt.plot(history.history['val_loss'])\n",
        "plt.title('model loss')\n",
        "plt.ylabel('loss')\n",
        "plt.xlabel('epoch')\n",
        "plt.legend(['train', 'test'], loc='upper left')\n",
        "plt.show()\n",
        "plt.savefig(\"deneme.png\")"
      ],
      "execution_count": 13,
      "outputs": [
        {
          "output_type": "stream",
          "text": [
            "dict_keys(['loss', 'acc', 'val_loss', 'val_acc', 'lr'])\n"
          ],
          "name": "stdout"
        },
        {
          "output_type": "display_data",
          "data": {
            "image/png": "[encoded data removed]",
            "text/plain": [
              "<Figure size 432x288 with 1 Axes>"
            ]
          },
          "metadata": {
            "tags": [],
            "needs_background": "light"
          }
        },
        {
          "output_type": "display_data",
          "data": {
            "image/png": "[encoded data removed]",
            "text/plain": [
              "<Figure size 432x288 with 1 Axes>"
            ]
          },
          "metadata": {
            "tags": [],
            "needs_background": "light"
          }
        },
        {
          "output_type": "display_data",
          "data": {
            "text/plain": [
              "<Figure size 432x288 with 0 Axes>"
            ]
          },
          "metadata": {
            "tags": []
          }
        }
      ]
    },
    {
      "cell_type": "code",
      "metadata": {
        "id": "iE16jXuZw8xb",
        "colab_type": "code",
        "outputId": "a2c1102b-35f5-49f4-9348-84f4cf0bd35f",
        "colab": {
          "base_uri": "https://localhost:8080/",
          "height": 51
        }
      },
      "source": [
        "wrn_16_2.evaluate(X_test,y_test)"
      ],
      "execution_count": 14,
      "outputs": [
        {
          "output_type": "stream",
          "text": [
            "18/18 [==============================] - 0s 8ms/step - loss: 0.8932 - acc: 0.7347\n"
          ],
          "name": "stdout"
        },
        {
          "output_type": "execute_result",
          "data": {
            "text/plain": [
              "[0.8932190537452698, 0.7347294688224792]"
            ]
          },
          "metadata": {
            "tags": []
          },
          "execution_count": 14
        }
      ]
    },
    {
      "cell_type": "code",
      "metadata": {
        "id": "SmZpcppX5u_C",
        "colab_type": "code",
        "outputId": "d8c5c032-3668-4397-cbc0-4ea363b2a2d8",
        "colab": {
          "base_uri": "https://localhost:8080/",
          "height": 52
        }
      },
      "source": [
        "wrn_16_2.evaluate(X_train,y_train)"
      ],
      "execution_count": 0,
      "outputs": [
        {
          "output_type": "stream",
          "text": [
            "145/145 [==============================] - 1s 4ms/step - loss: 1.1210 - acc: 0.8323\n"
          ],
          "name": "stdout"
        },
        {
          "output_type": "execute_result",
          "data": {
            "text/plain": [
              "[1.1209561824798584, 0.8323262929916382]"
            ]
          },
          "metadata": {
            "tags": []
          },
          "execution_count": 69
        }
      ]
    },
    {
      "cell_type": "markdown",
      "metadata": {
        "id": "vEDHJIheU8bm",
        "colab_type": "text"
      },
      "source": [
        "# Adversarial Examples\n"
      ]
    },
    {
      "cell_type": "code",
      "metadata": {
        "id": "5QB8zFSSU7Qy",
        "colab_type": "code",
        "outputId": "fbaa606d-6520-44c7-c329-5f9ce1a9e216",
        "colab": {
          "base_uri": "https://localhost:8080/",
          "height": 734
        }
      },
      "source": [
        "!pip install -q tensorflow==2.0.0b1\n",
        "# Install bleeding edge version of cleverhans\n",
        "!pip install git+https://github.com/tensorflow/cleverhans.git#egg=cleverhans\n",
        "\n",
        "import cleverhans\n",
        "import tensorflow as tf\n",
        "import numpy as np\n",
        "import matplotlib.pyplot as plt\n",
        "\n",
        "print(\"\\nTensorflow Version: \" + tf.__version__)\n",
        "print(\"Cleverhans Version: \" + cleverhans.__version__)\n",
        "print(\"GPU Available: \", tf.test.is_gpu_available())"
      ],
      "execution_count": 15,
      "outputs": [
        {
          "output_type": "stream",
          "text": [
            "\u001b[K     |████████████████████████████████| 87.9MB 52kB/s \n",
            "\u001b[K     |████████████████████████████████| 501kB 43.5MB/s \n",
            "\u001b[K     |████████████████████████████████| 3.1MB 37.1MB/s \n",
            "\u001b[?25hCollecting cleverhans\n",
            "  Cloning https://github.com/tensorflow/cleverhans.git to /tmp/pip-install-ahbkk35p/cleverhans\n",
            "  Running command git clone -q https://github.com/tensorflow/cleverhans.git /tmp/pip-install-ahbkk35p/cleverhans\n",
            "Collecting nose\n",
            "\u001b[?25l  Downloading https://files.pythonhosted.org/packages/15/d8/dd071918c040f50fa1cf80da16423af51ff8ce4a0f2399b7bf8de45ac3d9/nose-1.3.7-py3-none-any.whl (154kB)\n",
            "\u001b[K     |████████████████████████████████| 163kB 2.6MB/s \n",
            "\u001b[?25hCollecting pycodestyle\n",
            "\u001b[?25l  Downloading https://files.pythonhosted.org/packages/10/5b/88879fb861ab79aef45c7e199cae3ef7af487b5603dcb363517a50602dd7/pycodestyle-2.6.0-py2.py3-none-any.whl (41kB)\n",
            "\u001b[K     |████████████████████████████████| 51kB 4.1MB/s \n",
            "\u001b[?25hRequirement already satisfied: scipy in /usr/local/lib/python3.6/dist-packages (from cleverhans) (1.4.1)\n",
            "Requirement already satisfied: matplotlib in /usr/local/lib/python3.6/dist-packages (from cleverhans) (3.2.1)\n",
            "Collecting mnist~=0.2\n",
            "  Downloading https://files.pythonhosted.org/packages/c6/c4/5db3bfe009f8d71f1d532bbadbd0ec203764bba3a469e4703a889db8e5e0/mnist-0.2.2-py2.py3-none-any.whl\n",
            "Requirement already satisfied: numpy in /usr/local/lib/python3.6/dist-packages (from cleverhans) (1.18.5)\n",
            "Requirement already satisfied: tensorflow-probability in /usr/local/lib/python3.6/dist-packages (from cleverhans) (0.10.0)\n",
            "Requirement already satisfied: joblib in /usr/local/lib/python3.6/dist-packages (from cleverhans) (0.15.1)\n",
            "Requirement already satisfied: pyparsing!=2.0.4,!=2.1.2,!=2.1.6,>=2.0.1 in /usr/local/lib/python3.6/dist-packages (from matplotlib->cleverhans) (2.4.7)\n",
            "Requirement already satisfied: python-dateutil>=2.1 in /usr/local/lib/python3.6/dist-packages (from matplotlib->cleverhans) (2.8.1)\n",
            "Requirement already satisfied: cycler>=0.10 in /usr/local/lib/python3.6/dist-packages (from matplotlib->cleverhans) (0.10.0)\n",
            "Requirement already satisfied: kiwisolver>=1.0.1 in /usr/local/lib/python3.6/dist-packages (from matplotlib->cleverhans) (1.2.0)\n",
            "Requirement already satisfied: gast>=0.3.2 in /usr/local/lib/python3.6/dist-packages (from tensorflow-probability->cleverhans) (0.3.3)\n",
            "Requirement already satisfied: decorator in /usr/local/lib/python3.6/dist-packages (from tensorflow-probability->cleverhans) (4.4.2)\n",
            "Requirement already satisfied: cloudpickle>=1.2.2 in /usr/local/lib/python3.6/dist-packages (from tensorflow-probability->cleverhans) (1.3.0)\n",
            "Requirement already satisfied: six>=1.10.0 in /usr/local/lib/python3.6/dist-packages (from tensorflow-probability->cleverhans) (1.12.0)\n",
            "Building wheels for collected packages: cleverhans\n",
            "  Building wheel for cleverhans (setup.py) ... \u001b[?25l\u001b[?25hdone\n",
            "  Created wheel for cleverhans: filename=cleverhans-3.0.1-cp36-none-any.whl size=262572 sha256=371ac51e4c3e7e37696d6ede8cdd58b5d9cba16844d9fa736bc6fb3236da419c\n",
            "  Stored in directory: /tmp/pip-ephem-wheel-cache-xr27wh9n/wheels/6e/59/ec/723a6f654aaf62c8c40f0f0850fdf71a4948598697f56c3bfa\n",
            "Successfully built cleverhans\n",
            "Installing collected packages: nose, pycodestyle, mnist, cleverhans\n",
            "Successfully installed cleverhans-3.0.1 mnist-0.2.2 nose-1.3.7 pycodestyle-2.6.0\n",
            "\n",
            "Tensorflow Version: 2.2.0\n",
            "Cleverhans Version: 3.0.1-fc7b7c7ec903258e0e3fb88503fa629f\n",
            "WARNING:tensorflow:From <ipython-input-15-67a2c783edbc>:12: is_gpu_available (from tensorflow.python.framework.test_util) is deprecated and will be removed in a future version.\n",
            "Instructions for updating:\n",
            "Use `tf.config.list_physical_devices('GPU')` instead.\n",
            "GPU Available:  True\n"
          ],
          "name": "stdout"
        }
      ]
    },
    {
      "cell_type": "code",
      "metadata": {
        "id": "2_bfZ4G8W_sM",
        "colab_type": "code",
        "colab": {}
      },
      "source": [
        "from cleverhans.future.tf2.attacks import fast_gradient_method\n",
        "\n",
        "#The attack requires the model to ouput the logits\n",
        "logits_model = tf.keras.Model(wrn_16_2.input,wrn_16_2.layers[-1].output)"
      ],
      "execution_count": 0,
      "outputs": []
    },
    {
      "cell_type": "code",
      "metadata": {
        "id": "gGWIlakqVD_i",
        "colab_type": "code",
        "colab": {}
      },
      "source": [
        "X_adv = []\n",
        "epsilon_list = [0.005]\n",
        "for j in range(len(epsilon_list)):\n",
        "  epsilon = epsilon_list[j]\n",
        "  for i in range(len(X_test)):\n",
        "    random_index = i\n",
        "    original_image = X_test[random_index]\n",
        "    original_image = tf.convert_to_tensor(original_image.reshape((1,32,32))) #The .reshape just gives it the proper form to input into the model, a batch of 1 a.k.a a tensor\n",
        "    original_label = y_test[random_index]\n",
        "    original_label = np.reshape(np.argmax(original_label), (1,)).astype('int64')\n",
        "    adv_example_targeted_label = fast_gradient_method(logits_model, original_image, epsilon, np.inf, targeted=False)\n",
        "    X_adv.append(np.array(adv_example_targeted_label).reshape(32,32,1))"
      ],
      "execution_count": 0,
      "outputs": []
    },
    {
      "cell_type": "code",
      "metadata": {
        "id": "O8XZJIGBkUku",
        "colab_type": "code",
        "outputId": "dfd252fb-4b4c-442f-ac05-23bde80e31dc",
        "colab": {
          "base_uri": "https://localhost:8080/",
          "height": 51
        }
      },
      "source": [
        "  X_adv = np.array(X_adv)\n",
        "  print(\"epsilon: {} and test evalution : {}\".format(epsilon,wrn_16_2.evaluate(X_adv,y_test)))"
      ],
      "execution_count": 18,
      "outputs": [
        {
          "output_type": "stream",
          "text": [
            "18/18 [==============================] - 0s 5ms/step - loss: 2.8275 - acc: 0.2286\n",
            "epsilon: 0.1 and test evalution : [2.8275392055511475, 0.22862128913402557]\n"
          ],
          "name": "stdout"
        }
      ]
    },
    {
      "cell_type": "code",
      "metadata": {
        "id": "M1DCXV9Tc9B0",
        "colab_type": "code",
        "outputId": "614e2c3d-267f-4b0e-ad53-e5c0325edf82",
        "colab": {
          "base_uri": "https://localhost:8080/",
          "height": 51
        }
      },
      "source": [
        "  X_adv = np.array(X_adv)\n",
        "  print(\"epsilon: {} and test evalution : {}\".format(epsilon,wrn_16_2.evaluate(X_adv,y_test)))"
      ],
      "execution_count": 20,
      "outputs": [
        {
          "output_type": "stream",
          "text": [
            "18/18 [==============================] - 0s 5ms/step - loss: 0.9418 - acc: 0.6876\n",
            "epsilon: 0.01 and test evalution : [0.9417540431022644, 0.687609076499939]\n"
          ],
          "name": "stdout"
        }
      ]
    },
    {
      "cell_type": "code",
      "metadata": {
        "id": "Q7Ah3eA2kYBp",
        "colab_type": "code",
        "outputId": "ac46aff1-bc0f-4966-dff4-f00cb82b9843",
        "colab": {
          "base_uri": "https://localhost:8080/",
          "height": 51
        }
      },
      "source": [
        "  X_adv = np.array(X_adv)\n",
        "  print(\"epsilon: {} and test evalution : {}\".format(epsilon,wrn_16_2.evaluate(X_adv,y_test)))"
      ],
      "execution_count": 22,
      "outputs": [
        {
          "output_type": "stream",
          "text": [
            "18/18 [==============================] - 0s 5ms/step - loss: 0.8955 - acc: 0.7120\n",
            "epsilon: 0.005 and test evalution : [0.8954875469207764, 0.7120419144630432]\n"
          ],
          "name": "stdout"
        }
      ]
    },
    {
      "cell_type": "code",
      "metadata": {
        "id": "Xed10n0QmMqr",
        "colab_type": "code",
        "outputId": "00afc29b-447f-47ac-c732-228734d1c644",
        "colab": {
          "base_uri": "https://localhost:8080/",
          "height": 52
        }
      },
      "source": [
        "  X_adv = np.array(X_adv)\n",
        "  print(\"epsilon: {} and test evalution : {}\".format(epsilon,wrn_16_2.evaluate(X_adv,y_test)))"
      ],
      "execution_count": 0,
      "outputs": [
        {
          "output_type": "stream",
          "text": [
            "18/18 [==============================] - 0s 12ms/step - loss: 1.0721 - acc: 0.6178\n",
            "epsilon: 0.015 and test evalution : [1.0720562934875488, 0.6178010702133179]\n"
          ],
          "name": "stdout"
        }
      ]
    },
    {
      "cell_type": "markdown",
      "metadata": {
        "id": "ZuWpwrKuwmsc",
        "colab_type": "text"
      },
      "source": [
        "# Adversarial Training"
      ]
    },
    {
      "cell_type": "code",
      "metadata": {
        "id": "nfF0d5ePbXK0",
        "colab_type": "code",
        "colab": {}
      },
      "source": [
        "y_adv = np.array(y_adv)"
      ],
      "execution_count": 0,
      "outputs": []
    },
    {
      "cell_type": "code",
      "metadata": {
        "id": "d5I9X-0mboqa",
        "colab_type": "code",
        "colab": {}
      },
      "source": [
        "y_adv_df = pd.DataFrame(y_adv, columns=['Encoded'])\n",
        "y_adv_df['Encoded'] = labelencoder.fit_transform(y_adv)"
      ],
      "execution_count": 0,
      "outputs": []
    },
    {
      "cell_type": "code",
      "metadata": {
        "id": "IcxHP-bTcIwR",
        "colab_type": "code",
        "colab": {}
      },
      "source": [
        "y_adv_df['Encoded'].value_counts()"
      ],
      "execution_count": 0,
      "outputs": []
    },
    {
      "cell_type": "code",
      "metadata": {
        "id": "J1mGBoQbd46-",
        "colab_type": "code",
        "colab": {}
      },
      "source": [
        "X_new = []\n",
        "X_adv =my_data['image']\n",
        "for i in range(len(X_adv)):\n",
        "  a = np.array(X_adv[i])\n",
        "  X_new.append(a.reshape(68,100,1))"
      ],
      "execution_count": 0,
      "outputs": []
    },
    {
      "cell_type": "code",
      "metadata": {
        "id": "DdE_WN8Ffgyz",
        "colab_type": "code",
        "colab": {}
      },
      "source": [
        "for i in range(len(X)):\n",
        "  a = np.array(X[i])\n",
        "  X_new.append(a)"
      ],
      "execution_count": 0,
      "outputs": []
    },
    {
      "cell_type": "code",
      "metadata": {
        "id": "YKAnXO0Vfg1T",
        "colab_type": "code",
        "colab": {}
      },
      "source": [
        "X_third = np.array(X_new)"
      ],
      "execution_count": 0,
      "outputs": []
    },
    {
      "cell_type": "code",
      "metadata": {
        "id": "D_jH1i_FMA2V",
        "colab_type": "code",
        "colab": {}
      },
      "source": [
        "X_adv_a = np.array(X_new)"
      ],
      "execution_count": 0,
      "outputs": []
    },
    {
      "cell_type": "code",
      "metadata": {
        "id": "Dackr68mMA0Y",
        "colab_type": "code",
        "colab": {}
      },
      "source": [
        "X_adv_a.shape"
      ],
      "execution_count": 0,
      "outputs": []
    },
    {
      "cell_type": "code",
      "metadata": {
        "id": "m9UIXimpiKWk",
        "colab_type": "code",
        "colab": {}
      },
      "source": [
        "y_new = []\n",
        "for j in range(0,2):\n",
        "  for i in range(len(y_cat)):\n",
        "    y_new.append(y_cat[i])\n",
        "y_third = np.array(y_new)"
      ],
      "execution_count": 0,
      "outputs": []
    },
    {
      "cell_type": "code",
      "metadata": {
        "id": "vuRIuXcNiKY4",
        "colab_type": "code",
        "colab": {}
      },
      "source": [
        "X_all, y_all = X_third, y_third"
      ],
      "execution_count": 0,
      "outputs": []
    },
    {
      "cell_type": "code",
      "metadata": {
        "id": "qJXveP1Veo7G",
        "colab_type": "code",
        "colab": {}
      },
      "source": [
        "X_train_adv, X_test_adv, y_train_adv, y_test_adv = train_test_split( X_all,y_all, test_size = 0.33, shuffle=True)"
      ],
      "execution_count": 0,
      "outputs": []
    },
    {
      "cell_type": "code",
      "metadata": {
        "id": "WMJjEg9qiI0n",
        "colab_type": "code",
        "colab": {}
      },
      "source": [
        ""
      ],
      "execution_count": 0,
      "outputs": []
    },
    {
      "cell_type": "code",
      "metadata": {
        "id": "HibsOpTIcNq8",
        "colab_type": "code",
        "colab": {}
      },
      "source": [
        "wrn_16_2_adv = create_wide_residual_network(init, nb_classes=4, N=2, k=2, dropout=0.3)"
      ],
      "execution_count": 0,
      "outputs": []
    },
    {
      "cell_type": "code",
      "metadata": {
        "id": "q96wjHqxeTJ-",
        "colab_type": "code",
        "colab": {}
      },
      "source": [
        "wrn_16_2_adv.compile(loss=\"categorical_crossentropy\", optimizer=sgd, metrics=[\"acc\"])\n",
        "print(\"Finished compiling\")\n",
        "BS_adv= 100\n",
        "EPOCHS_adv = 50"
      ],
      "execution_count": 0,
      "outputs": []
    },
    {
      "cell_type": "code",
      "metadata": {
        "id": "-Jewqs8yxlnf",
        "colab_type": "code",
        "colab": {}
      },
      "source": [
        "def lr_sch_train(epoch):\n",
        "    if epoch < 10:\n",
        "        return 0.1\n",
        "    elif epoch <20:\n",
        "        return 0.1/2.0\n",
        "    elif epoch < 30:\n",
        "        return 0.1/2.0**2\n",
        "    elif epoch < 40:\n",
        "        return 0.1/2.0**3\n",
        "    else:\n",
        "        return 0.1/2.0**4\n",
        "\n",
        "# Learning rate scheduler callback\n",
        "lr_scheduler_train = LearningRateScheduler(lr_sch_train)"
      ],
      "execution_count": 0,
      "outputs": []
    },
    {
      "cell_type": "code",
      "metadata": {
        "id": "9FIn8khEd45J",
        "colab_type": "code",
        "colab": {}
      },
      "source": [
        "\n",
        "hist = wrn_16_2_adv.fit_generator(generator.flow(X_train_adv, y_train_adv, batch_size=BS_adv), steps_per_epoch=len(X_train_adv) // BS_adv, epochs=EPOCHS_adv,\n",
        "                   callbacks=[lr_scheduler_train],\n",
        "                   validation_data=(X_test_adv, y_test_adv),\n",
        "                   validation_steps=X_test_adv.shape[0] // BS_adv,)"
      ],
      "execution_count": 0,
      "outputs": []
    },
    {
      "cell_type": "code",
      "metadata": {
        "id": "3qXnteSOpFZH",
        "colab_type": "code",
        "colab": {}
      },
      "source": [
        "wrn_16_2_adv.save(\"model_adv_wrn_tensor_dropout.h5\")"
      ],
      "execution_count": 0,
      "outputs": []
    },
    {
      "cell_type": "markdown",
      "metadata": {
        "id": "CeetxZrNv9oM",
        "colab_type": "text"
      },
      "source": [
        "**Visualization**"
      ]
    },
    {
      "cell_type": "code",
      "metadata": {
        "id": "-S5IjLivpMbp",
        "colab_type": "code",
        "colab": {}
      },
      "source": [
        "import matplotlib.pyplot as plt\n",
        "\n",
        "history = hist\n",
        "print(history.history.keys())\n",
        "# summarize history for accuracy\n",
        "plt.plot(history.history['acc'])\n",
        "plt.plot(history.history['val_acc'])\n",
        "plt.title('model accuracy')\n",
        "plt.ylabel('accuracy')\n",
        "plt.xlabel('epoch')\n",
        "plt.legend(['train', 'test'], loc='upper left')\n",
        "plt.show()\n",
        "plt.savefig(\"wrn_tensor.png\")\n",
        "# summarize history for loss\n",
        "plt.plot(history.history['loss'])\n",
        "plt.plot(history.history['val_loss'])\n",
        "plt.title('model loss')\n",
        "plt.ylabel('loss')\n",
        "plt.xlabel('epoch')\n",
        "plt.legend(['train', 'test'], loc='upper left')\n",
        "plt.show()\n",
        "plt.savefig(\"deneme.png\")"
      ],
      "execution_count": 0,
      "outputs": []
    },
    {
      "cell_type": "markdown",
      "metadata": {
        "id": "ftcU_6z90QSJ",
        "colab_type": "text"
      },
      "source": [
        "**CleanExperiment**"
      ]
    },
    {
      "cell_type": "code",
      "metadata": {
        "id": "3i5qUE6j0JUE",
        "colab_type": "code",
        "colab": {}
      },
      "source": [
        "wrn_16_2_clean = create_wide_residual_network(init, nb_classes=4, N=2, k=2, dropout=0.3)"
      ],
      "execution_count": 0,
      "outputs": []
    },
    {
      "cell_type": "code",
      "metadata": {
        "id": "X4p2TUIj0csZ",
        "colab_type": "code",
        "colab": {}
      },
      "source": [
        "wrn_16_2_clean.compile(loss=\"categorical_crossentropy\", optimizer=sgd, metrics=[\"acc\"])\n",
        "print(\"Finished compiling\")"
      ],
      "execution_count": 0,
      "outputs": []
    },
    {
      "cell_type": "code",
      "metadata": {
        "id": "5rQljdkd0he9",
        "colab_type": "code",
        "colab": {}
      },
      "source": [
        "hist_clean = wrn_16_2_clean.fit_generator(generator.flow(X_train, y_train, batch_size=BS_adv), steps_per_epoch=len(X_train) // BS_adv, epochs=EPOCHS_adv,\n",
        "                   callbacks=[lr_scheduler_train],\n",
        "                   validation_data=(X_test, y_test),\n",
        "                   validation_steps=X_test.shape[0] // BS_adv,)"
      ],
      "execution_count": 0,
      "outputs": []
    },
    {
      "cell_type": "code",
      "metadata": {
        "id": "1acrchBU185p",
        "colab_type": "code",
        "colab": {}
      },
      "source": [
        "wrn_16_2_clean.save(\"model_adv_train_clean_dropout.h5\")"
      ],
      "execution_count": 0,
      "outputs": []
    },
    {
      "cell_type": "markdown",
      "metadata": {
        "id": "i9hLRXbmwETE",
        "colab_type": "text"
      },
      "source": [
        "**Visualization**"
      ]
    },
    {
      "cell_type": "code",
      "metadata": {
        "id": "_pgU_KsH0yVM",
        "colab_type": "code",
        "colab": {}
      },
      "source": [
        "import matplotlib.pyplot as plt\n",
        "\n",
        "history = hist_clean\n",
        "print(history.history.keys())\n",
        "# summarize history for accuracy\n",
        "plt.plot(history.history['acc'])\n",
        "plt.plot(history.history['val_acc'])\n",
        "plt.title('model accuracy')\n",
        "plt.ylabel('accuracy')\n",
        "plt.xlabel('epoch')\n",
        "plt.legend(['train', 'test'], loc='upper left')\n",
        "plt.show()\n",
        "plt.savefig(\"wrn_tensor.png\")\n",
        "# summarize history for loss\n",
        "plt.plot(history.history['loss'])\n",
        "plt.plot(history.history['val_loss'])\n",
        "plt.title('model loss')\n",
        "plt.ylabel('loss')\n",
        "plt.xlabel('epoch')\n",
        "plt.legend(['train', 'test'], loc='upper left')\n",
        "plt.show()\n",
        "plt.savefig(\"deneme.png\")"
      ],
      "execution_count": 0,
      "outputs": []
    },
    {
      "cell_type": "markdown",
      "metadata": {
        "id": "UCKONCZ0Jzfi",
        "colab_type": "text"
      },
      "source": [
        "**Adversarial Training**"
      ]
    },
    {
      "cell_type": "code",
      "metadata": {
        "id": "pFgpFgWbKeR_",
        "colab_type": "code",
        "colab": {}
      },
      "source": [
        "wrn_16_2_adv.evaluate(X_train,y_train)"
      ],
      "execution_count": 0,
      "outputs": []
    },
    {
      "cell_type": "code",
      "metadata": {
        "id": "XhiqvES18c-j",
        "colab_type": "code",
        "colab": {}
      },
      "source": [
        "wrn_16_2_adv.evaluate(X_train_adv,y_train_adv)"
      ],
      "execution_count": 0,
      "outputs": []
    },
    {
      "cell_type": "code",
      "metadata": {
        "id": "tjHVWy96Llce",
        "colab_type": "code",
        "colab": {}
      },
      "source": [
        "wrn_16_2_adv.evaluate(X_test,y_test)"
      ],
      "execution_count": 0,
      "outputs": []
    },
    {
      "cell_type": "code",
      "metadata": {
        "id": "Uqj_Ax7MI4SC",
        "colab_type": "code",
        "colab": {}
      },
      "source": [
        "wrn_16_2_adv.evaluate(X_adv_a,y_cat)"
      ],
      "execution_count": 0,
      "outputs": []
    },
    {
      "cell_type": "code",
      "metadata": {
        "id": "JXT3YD6iLl0N",
        "colab_type": "code",
        "colab": {}
      },
      "source": [
        "wrn_16_2_adv.evaluate(X_test_adv,y_test_adv)"
      ],
      "execution_count": 0,
      "outputs": []
    },
    {
      "cell_type": "markdown",
      "metadata": {
        "id": "-fKhEMXgKAnZ",
        "colab_type": "text"
      },
      "source": [
        "**Non_Adversarial_Training**"
      ]
    },
    {
      "cell_type": "code",
      "metadata": {
        "id": "ouj6OqTD8VdE",
        "colab_type": "code",
        "colab": {}
      },
      "source": [
        "wrn_16_2_clean.evaluate(X_train, y_train)"
      ],
      "execution_count": 0,
      "outputs": []
    },
    {
      "cell_type": "code",
      "metadata": {
        "id": "sfkUSeV6KHp5",
        "colab_type": "code",
        "colab": {}
      },
      "source": [
        "wrn_16_2_clean.evaluate(X_train_adv,y_train_adv)"
      ],
      "execution_count": 0,
      "outputs": []
    },
    {
      "cell_type": "code",
      "metadata": {
        "id": "kZFJl2D4Hbxa",
        "colab_type": "code",
        "colab": {}
      },
      "source": [
        "wrn_16_2_clean.evaluate(X_test, y_test)"
      ],
      "execution_count": 0,
      "outputs": []
    },
    {
      "cell_type": "code",
      "metadata": {
        "id": "8gJh7MDHChHo",
        "colab_type": "code",
        "colab": {}
      },
      "source": [
        "wrn_16_2_clean.evaluate(X_adv_a,y_cat)"
      ],
      "execution_count": 0,
      "outputs": []
    },
    {
      "cell_type": "code",
      "metadata": {
        "id": "nZuONcAeAwQb",
        "colab_type": "code",
        "colab": {}
      },
      "source": [
        "wrn_16_2_clean.evaluate(X_test_adv, y_test_adv)"
      ],
      "execution_count": 0,
      "outputs": []
    }
  ]
}