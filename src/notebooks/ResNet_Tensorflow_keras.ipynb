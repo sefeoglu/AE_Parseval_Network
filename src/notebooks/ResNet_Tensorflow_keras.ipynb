{
  "nbformat": 4,
  "nbformat_minor": 0,
  "metadata": {
    "colab": {
      "name": "ResNet_Tensorflow_keras.ipynb",
      "provenance": [],
      "toc_visible": true,
      "include_colab_link": true
    },
    "kernelspec": {
      "name": "python3",
      "display_name": "Python 3"
    },
    "accelerator": "GPU"
  },
  "cells": [
    {
      "cell_type": "markdown",
      "metadata": {
        "id": "view-in-github",
        "colab_type": "text"
      },
      "source": [
        "<a href=\"https://colab.research.google.com/github/sefeoglu/AE_Parseval_Network/blob/master/src/notebooks/ResNet_Tensorflow_keras.ipynb\" target=\"_parent\"><img src=\"https://colab.research.google.com/assets/colab-badge.svg\" alt=\"Open In Colab\"/></a>"
      ]
    },
    {
      "cell_type": "markdown",
      "metadata": {
        "id": "cczYDRrfFlDx",
        "colab_type": "text"
      },
      "source": [
        "# Wide ResNet 16_2"
      ]
    },
    {
      "cell_type": "code",
      "metadata": {
        "id": "HWvd9YADGtMS",
        "colab_type": "code",
        "colab": {}
      },
      "source": [
        "import tensorflow as tf"
      ],
      "execution_count": 0,
      "outputs": []
    },
    {
      "cell_type": "markdown",
      "metadata": {
        "id": "8aqbIFJTwXLH",
        "colab_type": "text"
      },
      "source": [
        "# Model"
      ]
    },
    {
      "cell_type": "code",
      "metadata": {
        "id": "QRdSMgRjG8ex",
        "colab_type": "code",
        "outputId": "eb726602-90ce-47b6-c529-967aafb590f8",
        "colab": {
          "base_uri": "https://localhost:8080/",
          "height": 1000
        }
      },
      "source": [
        "from tensorflow.keras.models import Model\n",
        "from tensorflow.keras.layers import Input, Add, Activation, Dropout, Flatten, Dense\n",
        "from tensorflow.keras.layers import Convolution2D, MaxPooling2D, AveragePooling2D\n",
        "from tensorflow.keras.layers import BatchNormalization\n",
        "from tensorflow.keras.regularizers import l2\n",
        "from tensorflow.keras import backend as K\n",
        "import warnings\n",
        "\n",
        "warnings.filterwarnings(\"ignore\")\n",
        "weight_decay = 0.0005\n",
        "\n",
        "\n",
        "def initial_conv(input):\n",
        "  \n",
        "    x = Convolution2D(16, (3, 3), padding='same', kernel_initializer='he_normal',\n",
        "                      kernel_regularizer=l2(weight_decay),\n",
        "                      use_bias=False)(input)\n",
        "\n",
        "    channel_axis = 1 if K.image_data_format() == \"channels_first\" else -1\n",
        "\n",
        "    x = BatchNormalization(axis=channel_axis, momentum=0.1, epsilon=1e-5, gamma_initializer='uniform')(x)\n",
        "    x = Activation('relu')(x)\n",
        "    return x\n",
        "\n",
        "\n",
        "def expand_conv(init, base, k, strides=(1, 1)):\n",
        "    x = Convolution2D(base * k, (3, 3), padding='same', strides=strides, kernel_initializer='he_normal', kernel_regularizer=l2(weight_decay),\n",
        "                      use_bias=False)(init)\n",
        "\n",
        "    channel_axis = 1 if K.image_data_format() == \"channels_first\" else -1\n",
        "\n",
        "    x = BatchNormalization(axis=channel_axis, momentum=0.1, epsilon=1e-5, gamma_initializer='uniform')(x)\n",
        "    x = Activation('relu')(x)\n",
        "\n",
        "    x = Convolution2D(base * k, (3, 3), padding='same', kernel_initializer='he_normal',\n",
        "                      kernel_regularizer=l2(weight_decay),\n",
        "                      use_bias=False)(x)\n",
        "\n",
        "    skip = Convolution2D(base * k, (1, 1), padding='same', strides=strides, kernel_initializer='he_normal',\n",
        "                      kernel_regularizer=l2(weight_decay),\n",
        "                      use_bias=False)(init)\n",
        "\n",
        "    m = Add()([x, skip])\n",
        "\n",
        "    return m\n",
        "\n",
        "\n",
        "def conv1_block(input, k=1, dropout=0.0):\n",
        "    init = input\n",
        "\n",
        "    channel_axis = 1 if K.image_data_format() == \"channels_first\" else -1\n",
        "\n",
        "    x = BatchNormalization(axis=channel_axis, momentum=0.1, epsilon=1e-5, gamma_initializer='uniform')(input)\n",
        "    x = Activation('relu')(x)\n",
        "    x = Convolution2D(16 * k, (3, 3), padding='same', kernel_initializer='he_normal',\n",
        "                      kernel_regularizer=l2(weight_decay),\n",
        "                      use_bias=False)(x)\n",
        "\n",
        "    if dropout > 0.0: x = Dropout(dropout)(x)\n",
        "\n",
        "    x = BatchNormalization(axis=channel_axis, momentum=0.1, epsilon=1e-5, gamma_initializer='uniform')(x)\n",
        "    x = Activation('relu')(x)\n",
        "    x = Convolution2D(16 * k, (3, 3), padding='same', kernel_initializer='he_normal',\n",
        "                      kernel_regularizer=l2(weight_decay),\n",
        "                      use_bias=False)(x)\n",
        "\n",
        "    m = Add()([init, x])\n",
        "    return m\n",
        "\n",
        "def conv2_block(input, k=1, dropout=0.0):\n",
        "    init = input\n",
        "\n",
        "    channel_axis = 1 if K.image_data_format() == \"channels_first\" else -1\n",
        "    print(\"conv2:channel:  {}\".format(channel_axis))\n",
        "    x = BatchNormalization(axis=channel_axis, momentum=0.1, epsilon=1e-5, gamma_initializer='uniform')(input)\n",
        "    x = Activation('relu')(x)\n",
        "    x = Convolution2D(32 * k, (3, 3), padding='same', kernel_initializer='he_normal',\n",
        "                      kernel_regularizer=l2(weight_decay),\n",
        "                      use_bias=False)(x)\n",
        "\n",
        "    if dropout > 0.0: x = Dropout(dropout)(x)\n",
        "\n",
        "    x = BatchNormalization(axis=channel_axis, momentum=0.1, epsilon=1e-5, gamma_initializer='uniform')(x)\n",
        "    x = Activation('relu')(x)\n",
        "    x = Convolution2D(32 * k, (3, 3), padding='same', kernel_initializer='he_normal',\n",
        "                      kernel_regularizer=l2(weight_decay),\n",
        "                      use_bias=False)(x)\n",
        "\n",
        "    m = Add()([init, x])\n",
        "    return m\n",
        "\n",
        "def conv3_block(input, k=1, dropout=0.0):\n",
        "    init = input\n",
        "\n",
        "    channel_axis = 1 if K.image_data_format() == \"channels_first\" else -1\n",
        "    print(\"conv3 channel_axis:{} \".format(channel_axis))\n",
        "    x = BatchNormalization(axis=channel_axis, momentum=0.1, epsilon=1e-5, gamma_initializer='uniform')(input)\n",
        "    x = Activation('relu')(x)\n",
        "    x = Convolution2D(64 * k, (3, 3), padding='same', kernel_initializer='he_normal',\n",
        "                      kernel_regularizer=l2(weight_decay),\n",
        "                      use_bias=False)(x)\n",
        "\n",
        "    if dropout > 0.0: x = Dropout(dropout)(x)\n",
        "\n",
        "    x = BatchNormalization(axis=channel_axis, momentum=0.1, epsilon=1e-5, gamma_initializer='uniform')(x)\n",
        "    x = Activation('relu')(x)\n",
        "    x = Convolution2D(64 * k, (3, 3), padding='same', kernel_initializer='he_normal',\n",
        "                      kernel_regularizer=l2(weight_decay),\n",
        "                      use_bias=False)(x)\n",
        "\n",
        "    m = Add()([init, x])\n",
        "    return m\n",
        "\n",
        "def create_wide_residual_network(input_dim, nb_classes=100, N=2, k=1, dropout=0.0, verbose=1):\n",
        "    \"\"\"\n",
        "    Creates a Wide Residual Network with specified parameters\n",
        "\n",
        "    :param input: Input Keras object\n",
        "    :param nb_classes: Number of output classes\n",
        "    :param N: Depth of the network. Compute N = (n - 4) / 6.\n",
        "              Example : For a depth of 16, n = 16, N = (16 - 4) / 6 = 2\n",
        "              Example2: For a depth of 28, n = 28, N = (28 - 4) / 6 = 4\n",
        "              Example3: For a depth of 40, n = 40, N = (40 - 4) / 6 = 6\n",
        "    :param k: Width of the network.\n",
        "    :param dropout: Adds dropout if value is greater than 0.0\n",
        "    :param verbose: Debug info to describe created WRN\n",
        "    :return:\n",
        "    \"\"\"\n",
        "    channel_axis = 1 if K.image_data_format() == \"channels_first\" else -1\n",
        "\n",
        "    ip = Input(shape=input_dim)\n",
        "\n",
        "    x = initial_conv(ip)\n",
        "    nb_conv = 4\n",
        "\n",
        "    x = expand_conv(x, 16, k)\n",
        "    nb_conv += 2\n",
        "\n",
        "    for i in range(N - 1):\n",
        "        x = conv1_block(x, k, dropout)\n",
        "        nb_conv += 2\n",
        "\n",
        "    x = BatchNormalization(axis=channel_axis, momentum=0.1, epsilon=1e-5, gamma_initializer='uniform')(x)\n",
        "    x = Activation('relu')(x)\n",
        "\n",
        "    x = expand_conv(x, 32, k, strides=(2, 2))\n",
        "    nb_conv += 2\n",
        "\n",
        "    for i in range(N - 1):\n",
        "        x = conv2_block(x, k, dropout)\n",
        "        nb_conv += 2\n",
        "\n",
        "    x = BatchNormalization(axis=channel_axis, momentum=0.1, epsilon=1e-5, gamma_initializer='uniform')(x)\n",
        "    x = Activation('relu')(x)\n",
        "\n",
        "    x = expand_conv(x, 64, k, strides=(2, 2))\n",
        "    nb_conv += 2\n",
        "\n",
        "    for i in range(N - 1):\n",
        "        x = conv3_block(x, k, dropout)\n",
        "        nb_conv += 2\n",
        "\n",
        "    x = BatchNormalization(axis=channel_axis, momentum=0.1, epsilon=1e-5, gamma_initializer='uniform')(x)\n",
        "    x = Activation('relu')(x)\n",
        "\n",
        "    x = AveragePooling2D((8, 8))(x)\n",
        "    x = Flatten()(x)\n",
        "\n",
        "    x = Dense(nb_classes, kernel_regularizer=l2(weight_decay), activation='softmax')(x)\n",
        "\n",
        "    model = Model(ip, x)\n",
        "\n",
        "    if verbose: print(\"Wide Residual Network-%d-%d created.\" % (nb_conv, k))\n",
        "    return model\n",
        "\n",
        "if __name__ == \"__main__\":\n",
        "\n",
        "    init = (32, 32,1)\n",
        "\n",
        "    wrn_16_2 = create_wide_residual_network(init, nb_classes=4, N=2, k=2, dropout=0.5)\n",
        "\n",
        "    wrn_16_2.summary()\n",
        "\n"
      ],
      "execution_count": 2,
      "outputs": [
        {
          "output_type": "stream",
          "text": [
            "conv2:channel:  -1\n",
            "conv3 channel_axis:-1 \n",
            "Wide Residual Network-16-2 created.\n",
            "Model: \"model\"\n",
            "__________________________________________________________________________________________________\n",
            "Layer (type)                    Output Shape         Param #     Connected to                     \n",
            "==================================================================================================\n",
            "input_1 (InputLayer)            [(None, 32, 32, 1)]  0                                            \n",
            "__________________________________________________________________________________________________\n",
            "conv2d (Conv2D)                 (None, 32, 32, 16)   144         input_1[0][0]                    \n",
            "__________________________________________________________________________________________________\n",
            "batch_normalization (BatchNorma (None, 32, 32, 16)   64          conv2d[0][0]                     \n",
            "__________________________________________________________________________________________________\n",
            "activation (Activation)         (None, 32, 32, 16)   0           batch_normalization[0][0]        \n",
            "__________________________________________________________________________________________________\n",
            "conv2d_1 (Conv2D)               (None, 32, 32, 32)   4608        activation[0][0]                 \n",
            "__________________________________________________________________________________________________\n",
            "batch_normalization_1 (BatchNor (None, 32, 32, 32)   128         conv2d_1[0][0]                   \n",
            "__________________________________________________________________________________________________\n",
            "activation_1 (Activation)       (None, 32, 32, 32)   0           batch_normalization_1[0][0]      \n",
            "__________________________________________________________________________________________________\n",
            "conv2d_2 (Conv2D)               (None, 32, 32, 32)   9216        activation_1[0][0]               \n",
            "__________________________________________________________________________________________________\n",
            "conv2d_3 (Conv2D)               (None, 32, 32, 32)   512         activation[0][0]                 \n",
            "__________________________________________________________________________________________________\n",
            "add (Add)                       (None, 32, 32, 32)   0           conv2d_2[0][0]                   \n",
            "                                                                 conv2d_3[0][0]                   \n",
            "__________________________________________________________________________________________________\n",
            "batch_normalization_2 (BatchNor (None, 32, 32, 32)   128         add[0][0]                        \n",
            "__________________________________________________________________________________________________\n",
            "activation_2 (Activation)       (None, 32, 32, 32)   0           batch_normalization_2[0][0]      \n",
            "__________________________________________________________________________________________________\n",
            "conv2d_4 (Conv2D)               (None, 32, 32, 32)   9216        activation_2[0][0]               \n",
            "__________________________________________________________________________________________________\n",
            "dropout (Dropout)               (None, 32, 32, 32)   0           conv2d_4[0][0]                   \n",
            "__________________________________________________________________________________________________\n",
            "batch_normalization_3 (BatchNor (None, 32, 32, 32)   128         dropout[0][0]                    \n",
            "__________________________________________________________________________________________________\n",
            "activation_3 (Activation)       (None, 32, 32, 32)   0           batch_normalization_3[0][0]      \n",
            "__________________________________________________________________________________________________\n",
            "conv2d_5 (Conv2D)               (None, 32, 32, 32)   9216        activation_3[0][0]               \n",
            "__________________________________________________________________________________________________\n",
            "add_1 (Add)                     (None, 32, 32, 32)   0           add[0][0]                        \n",
            "                                                                 conv2d_5[0][0]                   \n",
            "__________________________________________________________________________________________________\n",
            "batch_normalization_4 (BatchNor (None, 32, 32, 32)   128         add_1[0][0]                      \n",
            "__________________________________________________________________________________________________\n",
            "activation_4 (Activation)       (None, 32, 32, 32)   0           batch_normalization_4[0][0]      \n",
            "__________________________________________________________________________________________________\n",
            "conv2d_6 (Conv2D)               (None, 16, 16, 64)   18432       activation_4[0][0]               \n",
            "__________________________________________________________________________________________________\n",
            "batch_normalization_5 (BatchNor (None, 16, 16, 64)   256         conv2d_6[0][0]                   \n",
            "__________________________________________________________________________________________________\n",
            "activation_5 (Activation)       (None, 16, 16, 64)   0           batch_normalization_5[0][0]      \n",
            "__________________________________________________________________________________________________\n",
            "conv2d_7 (Conv2D)               (None, 16, 16, 64)   36864       activation_5[0][0]               \n",
            "__________________________________________________________________________________________________\n",
            "conv2d_8 (Conv2D)               (None, 16, 16, 64)   2048        activation_4[0][0]               \n",
            "__________________________________________________________________________________________________\n",
            "add_2 (Add)                     (None, 16, 16, 64)   0           conv2d_7[0][0]                   \n",
            "                                                                 conv2d_8[0][0]                   \n",
            "__________________________________________________________________________________________________\n",
            "batch_normalization_6 (BatchNor (None, 16, 16, 64)   256         add_2[0][0]                      \n",
            "__________________________________________________________________________________________________\n",
            "activation_6 (Activation)       (None, 16, 16, 64)   0           batch_normalization_6[0][0]      \n",
            "__________________________________________________________________________________________________\n",
            "conv2d_9 (Conv2D)               (None, 16, 16, 64)   36864       activation_6[0][0]               \n",
            "__________________________________________________________________________________________________\n",
            "dropout_1 (Dropout)             (None, 16, 16, 64)   0           conv2d_9[0][0]                   \n",
            "__________________________________________________________________________________________________\n",
            "batch_normalization_7 (BatchNor (None, 16, 16, 64)   256         dropout_1[0][0]                  \n",
            "__________________________________________________________________________________________________\n",
            "activation_7 (Activation)       (None, 16, 16, 64)   0           batch_normalization_7[0][0]      \n",
            "__________________________________________________________________________________________________\n",
            "conv2d_10 (Conv2D)              (None, 16, 16, 64)   36864       activation_7[0][0]               \n",
            "__________________________________________________________________________________________________\n",
            "add_3 (Add)                     (None, 16, 16, 64)   0           add_2[0][0]                      \n",
            "                                                                 conv2d_10[0][0]                  \n",
            "__________________________________________________________________________________________________\n",
            "batch_normalization_8 (BatchNor (None, 16, 16, 64)   256         add_3[0][0]                      \n",
            "__________________________________________________________________________________________________\n",
            "activation_8 (Activation)       (None, 16, 16, 64)   0           batch_normalization_8[0][0]      \n",
            "__________________________________________________________________________________________________\n",
            "conv2d_11 (Conv2D)              (None, 8, 8, 128)    73728       activation_8[0][0]               \n",
            "__________________________________________________________________________________________________\n",
            "batch_normalization_9 (BatchNor (None, 8, 8, 128)    512         conv2d_11[0][0]                  \n",
            "__________________________________________________________________________________________________\n",
            "activation_9 (Activation)       (None, 8, 8, 128)    0           batch_normalization_9[0][0]      \n",
            "__________________________________________________________________________________________________\n",
            "conv2d_12 (Conv2D)              (None, 8, 8, 128)    147456      activation_9[0][0]               \n",
            "__________________________________________________________________________________________________\n",
            "conv2d_13 (Conv2D)              (None, 8, 8, 128)    8192        activation_8[0][0]               \n",
            "__________________________________________________________________________________________________\n",
            "add_4 (Add)                     (None, 8, 8, 128)    0           conv2d_12[0][0]                  \n",
            "                                                                 conv2d_13[0][0]                  \n",
            "__________________________________________________________________________________________________\n",
            "batch_normalization_10 (BatchNo (None, 8, 8, 128)    512         add_4[0][0]                      \n",
            "__________________________________________________________________________________________________\n",
            "activation_10 (Activation)      (None, 8, 8, 128)    0           batch_normalization_10[0][0]     \n",
            "__________________________________________________________________________________________________\n",
            "conv2d_14 (Conv2D)              (None, 8, 8, 128)    147456      activation_10[0][0]              \n",
            "__________________________________________________________________________________________________\n",
            "dropout_2 (Dropout)             (None, 8, 8, 128)    0           conv2d_14[0][0]                  \n",
            "__________________________________________________________________________________________________\n",
            "batch_normalization_11 (BatchNo (None, 8, 8, 128)    512         dropout_2[0][0]                  \n",
            "__________________________________________________________________________________________________\n",
            "activation_11 (Activation)      (None, 8, 8, 128)    0           batch_normalization_11[0][0]     \n",
            "__________________________________________________________________________________________________\n",
            "conv2d_15 (Conv2D)              (None, 8, 8, 128)    147456      activation_11[0][0]              \n",
            "__________________________________________________________________________________________________\n",
            "add_5 (Add)                     (None, 8, 8, 128)    0           add_4[0][0]                      \n",
            "                                                                 conv2d_15[0][0]                  \n",
            "__________________________________________________________________________________________________\n",
            "batch_normalization_12 (BatchNo (None, 8, 8, 128)    512         add_5[0][0]                      \n",
            "__________________________________________________________________________________________________\n",
            "activation_12 (Activation)      (None, 8, 8, 128)    0           batch_normalization_12[0][0]     \n",
            "__________________________________________________________________________________________________\n",
            "average_pooling2d (AveragePooli (None, 1, 1, 128)    0           activation_12[0][0]              \n",
            "__________________________________________________________________________________________________\n",
            "flatten (Flatten)               (None, 128)          0           average_pooling2d[0][0]          \n",
            "__________________________________________________________________________________________________\n",
            "dense (Dense)                   (None, 4)            516         flatten[0][0]                    \n",
            "==================================================================================================\n",
            "Total params: 692,436\n",
            "Trainable params: 690,612\n",
            "Non-trainable params: 1,824\n",
            "__________________________________________________________________________________________________\n"
          ],
          "name": "stdout"
        }
      ]
    },
    {
      "cell_type": "markdown",
      "metadata": {
        "id": "ffNo5x-Ft9Fe",
        "colab_type": "text"
      },
      "source": [
        "# Data Prepare and Processing\n",
        "\n",
        "\n"
      ]
    },
    {
      "cell_type": "code",
      "metadata": {
        "id": "AJqH742XcPQv",
        "colab_type": "code",
        "colab": {}
      },
      "source": [
        "from sklearn.model_selection import train_test_split\n",
        "import gzip\n",
        "import pickle\n",
        "\n",
        "import numpy as np"
      ],
      "execution_count": 0,
      "outputs": []
    },
    {
      "cell_type": "code",
      "metadata": {
        "id": "fNBI_SkvuzgK",
        "colab_type": "code",
        "colab": {}
      },
      "source": [
        "def read_data():\n",
        "    with open(\"data.pz\", 'rb') as file_:\n",
        "        with gzip.GzipFile(fileobj=file_) as gzf:\n",
        "            data = pickle.load(gzf, encoding='latin1', fix_imports=True)\n",
        "    return data\n",
        "data = read_data()\n"
      ],
      "execution_count": 0,
      "outputs": []
    },
    {
      "cell_type": "code",
      "metadata": {
        "id": "4euxwMe2jIoX",
        "colab_type": "code",
        "outputId": "3a1d20f9-f9b1-48d2-a13f-4d0816b8ffe3",
        "colab": {
          "base_uri": "https://localhost:8080/",
          "height": 34
        }
      },
      "source": [
        "import cv2\n",
        "new_data_X = []\n",
        "Y_data = []\n",
        "for row in data:\n",
        "    new_data_X.append(cv2.resize(row['crop'], (32,32)))\n",
        "    Y_data.append(row['label'])\n",
        "new_data_X = np.array(new_data_X)\n",
        "new_data_X.shape"
      ],
      "execution_count": 5,
      "outputs": [
        {
          "output_type": "execute_result",
          "data": {
            "text/plain": [
              "(5722, 32, 32)"
            ]
          },
          "metadata": {
            "tags": []
          },
          "execution_count": 5
        }
      ]
    },
    {
      "cell_type": "code",
      "metadata": {
        "id": "TNBsNVDNu6Ku",
        "colab_type": "code",
        "outputId": "05d09c40-a141-4af2-e465-b7513640ab03",
        "colab": {
          "base_uri": "https://localhost:8080/",
          "height": 34
        }
      },
      "source": [
        "X = new_data_X.astype('float32')\n",
        "X.shape"
      ],
      "execution_count": 6,
      "outputs": [
        {
          "output_type": "execute_result",
          "data": {
            "text/plain": [
              "(5722, 32, 32)"
            ]
          },
          "metadata": {
            "tags": []
          },
          "execution_count": 6
        }
      ]
    },
    {
      "cell_type": "markdown",
      "metadata": {
        "id": "MFQdrnTKuM8c",
        "colab_type": "text"
      },
      "source": [
        "# Preprocessing"
      ]
    },
    {
      "cell_type": "code",
      "metadata": {
        "id": "uqf-dZOrvC0e",
        "colab_type": "code",
        "colab": {}
      },
      "source": [
        "img_rows, img_cols = X[0].shape\n",
        "\n",
        "# transform data set\n",
        "if K.image_data_format() == 'channels_first':\n",
        "    X = X.reshape(X.shape[0], 1, img_rows, img_cols)\n",
        "    input_shape = (1, img_rows, img_cols)\n",
        "else:\n",
        "    X = X.reshape(X.shape[0], img_rows, img_cols, 1)\n",
        "    input_shape = (img_rows, img_cols, 1)"
      ],
      "execution_count": 0,
      "outputs": []
    },
    {
      "cell_type": "code",
      "metadata": {
        "id": "2eEHVf2Bu9xt",
        "colab_type": "code",
        "colab": {}
      },
      "source": [
        "import pandas as pd\n",
        "import numpy as np\n",
        "from sklearn.preprocessing import LabelEncoder\n",
        "\n",
        "labelencoder = LabelEncoder()\n",
        "y_df = pd.DataFrame(Y_data, columns=['Label'])\n",
        "y_df['Encoded'] = labelencoder.fit_transform(y_df['Label'])"
      ],
      "execution_count": 0,
      "outputs": []
    },
    {
      "cell_type": "code",
      "metadata": {
        "id": "56hwq9R2jruF",
        "colab_type": "code",
        "outputId": "11ba3ee4-b3ad-4c90-bb80-1a9b8aa3a0e7",
        "colab": {
          "base_uri": "https://localhost:8080/",
          "height": 104
        }
      },
      "source": [
        "y_df['Label'].value_counts()"
      ],
      "execution_count": 9,
      "outputs": [
        {
          "output_type": "execute_result",
          "data": {
            "text/plain": [
              "closed           1500\n",
              "open             1500\n",
              "partiallyOpen    1376\n",
              "notVisible       1346\n",
              "Name: Label, dtype: int64"
            ]
          },
          "metadata": {
            "tags": []
          },
          "execution_count": 9
        }
      ]
    },
    {
      "cell_type": "code",
      "metadata": {
        "id": "WxAYuiEzj4Bp",
        "colab_type": "code",
        "outputId": "7c7539f1-2c7d-48ec-c817-1ca112b44e5f",
        "colab": {
          "base_uri": "https://localhost:8080/",
          "height": 104
        }
      },
      "source": [
        "y_df['Encoded'].value_counts()\n"
      ],
      "execution_count": 10,
      "outputs": [
        {
          "output_type": "execute_result",
          "data": {
            "text/plain": [
              "2    1500\n",
              "0    1500\n",
              "3    1376\n",
              "1    1346\n",
              "Name: Encoded, dtype: int64"
            ]
          },
          "metadata": {
            "tags": []
          },
          "execution_count": 10
        }
      ]
    },
    {
      "cell_type": "code",
      "metadata": {
        "id": "wdkpb2Jkqu6t",
        "colab_type": "code",
        "colab": {}
      },
      "source": [
        "from tensorflow.keras.utils import to_categorical\n",
        "\n",
        "y_cat = to_categorical(y_df['Encoded'])"
      ],
      "execution_count": 0,
      "outputs": []
    },
    {
      "cell_type": "markdown",
      "metadata": {
        "id": "Kif3Li9NuSnV",
        "colab_type": "text"
      },
      "source": [
        "# Training"
      ]
    },
    {
      "cell_type": "code",
      "metadata": {
        "id": "rghSgp3NvhhV",
        "colab_type": "code",
        "colab": {}
      },
      "source": [
        "from tensorflow.keras.optimizers import SGD\n",
        "from tensorflow.keras.callbacks import Callback, LearningRateScheduler, EarlyStopping\n",
        "import tensorflow\n",
        "\n",
        "EPOCHS = 100\n",
        "BS = 128\n",
        "sgd = SGD(lr=0.1, momentum=0.6)"
      ],
      "execution_count": 0,
      "outputs": []
    },
    {
      "cell_type": "code",
      "metadata": {
        "id": "yBnqXaiNwHGl",
        "colab_type": "code",
        "outputId": "fc404d81-8fdf-45ee-e0b3-89515c75bbaf",
        "colab": {
          "base_uri": "https://localhost:8080/",
          "height": 34
        }
      },
      "source": [
        "wrn_16_2.compile(loss=\"categorical_crossentropy\", optimizer=sgd, metrics=[\"acc\"])\n",
        "print(\"Finished compiling\")\n"
      ],
      "execution_count": 13,
      "outputs": [
        {
          "output_type": "stream",
          "text": [
            "Finished compiling\n"
          ],
          "name": "stdout"
        }
      ]
    },
    {
      "cell_type": "code",
      "metadata": {
        "id": "88yOqhbSwjPa",
        "colab_type": "code",
        "colab": {}
      },
      "source": [
        "def lr_sch(epoch):\n",
        "    if epoch < 50:\n",
        "        return 0.1\n",
        "    elif epoch < 75:\n",
        "        return 0.01\n",
        "    elif epoch < 120:\n",
        "        return 0.001\n",
        "    else:\n",
        "        return 0.0001\n",
        "\n",
        "# Learning rate scheduler callback\n",
        "lr_scheduler = LearningRateScheduler(lr_sch)"
      ],
      "execution_count": 0,
      "outputs": []
    },
    {
      "cell_type": "code",
      "metadata": {
        "id": "TbpiWMEgRpWa",
        "colab_type": "code",
        "colab": {}
      },
      "source": [
        "generator = tensorflow.keras.preprocessing.image.ImageDataGenerator(rotation_range=10,\n",
        "                               width_shift_range=5./32,\n",
        "                               height_shift_range=5./32,)"
      ],
      "execution_count": 0,
      "outputs": []
    },
    {
      "cell_type": "code",
      "metadata": {
        "id": "uo-6r-Zvva5l",
        "colab_type": "code",
        "colab": {}
      },
      "source": [
        "X_train, X_test, y_train, y_test = train_test_split(X, y_cat, test_size = 0.1)\n",
        "X_train, X_val, y_train, y_val = train_test_split(X_train, y_train, test_size = 0.1)"
      ],
      "execution_count": 0,
      "outputs": []
    },
    {
      "cell_type": "code",
      "metadata": {
        "id": "n33l2yoxJe1T",
        "colab_type": "code",
        "colab": {}
      },
      "source": [
        ""
      ],
      "execution_count": 0,
      "outputs": []
    },
    {
      "cell_type": "code",
      "metadata": {
        "id": "JVs_QNHoEKji",
        "colab_type": "code",
        "outputId": "4cfed650-602a-42d3-e977-00f607580bed",
        "colab": {
          "base_uri": "https://localhost:8080/",
          "height": 1000
        }
      },
      "source": [
        "hist = wrn_16_2.fit(generator.flow(X_train, y_train, batch_size=BS), steps_per_epoch=len(X_train) // BS, epochs=EPOCHS,\n",
        "                   callbacks = [lr_scheduler],\n",
        "                   validation_data=(X_val, y_val),\n",
        "                   validation_steps=X_val.shape[0] // BS,)"
      ],
      "execution_count": 17,
      "outputs": [
        {
          "output_type": "stream",
          "text": [
            "Epoch 1/100\n",
            "36/36 [==============================] - 2s 57ms/step - loss: 2.4952 - acc: 0.3196 - val_loss: 2.3984 - val_acc: 0.3942 - lr: 0.1000\n",
            "Epoch 2/100\n",
            "36/36 [==============================] - 1s 40ms/step - loss: 2.4033 - acc: 0.3613 - val_loss: 2.3492 - val_acc: 0.3573 - lr: 0.1000\n",
            "Epoch 3/100\n",
            "36/36 [==============================] - 1s 40ms/step - loss: 2.3620 - acc: 0.3609 - val_loss: 2.3640 - val_acc: 0.3437 - lr: 0.1000\n",
            "Epoch 4/100\n",
            "36/36 [==============================] - 1s 40ms/step - loss: 2.3252 - acc: 0.3737 - val_loss: 2.3532 - val_acc: 0.3534 - lr: 0.1000\n",
            "Epoch 5/100\n",
            "36/36 [==============================] - 1s 40ms/step - loss: 2.2970 - acc: 0.3744 - val_loss: 2.3772 - val_acc: 0.3359 - lr: 0.1000\n",
            "Epoch 6/100\n",
            "36/36 [==============================] - 1s 39ms/step - loss: 2.2667 - acc: 0.3804 - val_loss: 2.2619 - val_acc: 0.3786 - lr: 0.1000\n",
            "Epoch 7/100\n",
            "36/36 [==============================] - 1s 40ms/step - loss: 2.2493 - acc: 0.3924 - val_loss: 2.2583 - val_acc: 0.4097 - lr: 0.1000\n",
            "Epoch 8/100\n",
            "36/36 [==============================] - 1s 40ms/step - loss: 2.2087 - acc: 0.4123 - val_loss: 2.1793 - val_acc: 0.4311 - lr: 0.1000\n",
            "Epoch 9/100\n",
            "36/36 [==============================] - 1s 40ms/step - loss: 2.1759 - acc: 0.4225 - val_loss: 2.1864 - val_acc: 0.4019 - lr: 0.1000\n",
            "Epoch 10/100\n",
            "36/36 [==============================] - 1s 39ms/step - loss: 2.1568 - acc: 0.4332 - val_loss: 2.1502 - val_acc: 0.4369 - lr: 0.1000\n",
            "Epoch 11/100\n",
            "36/36 [==============================] - 1s 40ms/step - loss: 2.1189 - acc: 0.4763 - val_loss: 2.2166 - val_acc: 0.3689 - lr: 0.1000\n",
            "Epoch 12/100\n",
            "36/36 [==============================] - 1s 40ms/step - loss: 2.0703 - acc: 0.5100 - val_loss: 2.3162 - val_acc: 0.3631 - lr: 0.1000\n",
            "Epoch 13/100\n",
            "36/36 [==============================] - 1s 40ms/step - loss: 2.0464 - acc: 0.5211 - val_loss: 2.1600 - val_acc: 0.4291 - lr: 0.1000\n",
            "Epoch 14/100\n",
            "36/36 [==============================] - 1s 39ms/step - loss: 1.9849 - acc: 0.5426 - val_loss: 2.1781 - val_acc: 0.4233 - lr: 0.1000\n",
            "Epoch 15/100\n",
            "36/36 [==============================] - 1s 39ms/step - loss: 1.9518 - acc: 0.5464 - val_loss: 1.9092 - val_acc: 0.5534 - lr: 0.1000\n",
            "Epoch 16/100\n",
            "36/36 [==============================] - 1s 41ms/step - loss: 1.9022 - acc: 0.5668 - val_loss: 1.9407 - val_acc: 0.5437 - lr: 0.1000\n",
            "Epoch 17/100\n",
            "36/36 [==============================] - 1s 40ms/step - loss: 1.8690 - acc: 0.5846 - val_loss: 1.9012 - val_acc: 0.5631 - lr: 0.1000\n",
            "Epoch 18/100\n",
            "36/36 [==============================] - 1s 40ms/step - loss: 1.8295 - acc: 0.5848 - val_loss: 1.9278 - val_acc: 0.5806 - lr: 0.1000\n",
            "Epoch 19/100\n",
            "36/36 [==============================] - 1s 39ms/step - loss: 1.7983 - acc: 0.5970 - val_loss: 1.9806 - val_acc: 0.5068 - lr: 0.1000\n",
            "Epoch 20/100\n",
            "36/36 [==============================] - 1s 40ms/step - loss: 1.7472 - acc: 0.6154 - val_loss: 1.8573 - val_acc: 0.5650 - lr: 0.1000\n",
            "Epoch 21/100\n",
            "36/36 [==============================] - 1s 40ms/step - loss: 1.7050 - acc: 0.6336 - val_loss: 1.7129 - val_acc: 0.6350 - lr: 0.1000\n",
            "Epoch 22/100\n",
            "36/36 [==============================] - 1s 40ms/step - loss: 1.6870 - acc: 0.6305 - val_loss: 1.6709 - val_acc: 0.6233 - lr: 0.1000\n",
            "Epoch 23/100\n",
            "36/36 [==============================] - 1s 40ms/step - loss: 1.6600 - acc: 0.6411 - val_loss: 1.7794 - val_acc: 0.5767 - lr: 0.1000\n",
            "Epoch 24/100\n",
            "36/36 [==============================] - 1s 39ms/step - loss: 1.6107 - acc: 0.6620 - val_loss: 1.8277 - val_acc: 0.6155 - lr: 0.1000\n",
            "Epoch 25/100\n",
            "36/36 [==============================] - 1s 40ms/step - loss: 1.5833 - acc: 0.6724 - val_loss: 1.6626 - val_acc: 0.6058 - lr: 0.1000\n",
            "Epoch 26/100\n",
            "36/36 [==============================] - 1s 40ms/step - loss: 1.5644 - acc: 0.6693 - val_loss: 1.6798 - val_acc: 0.6330 - lr: 0.1000\n",
            "Epoch 27/100\n",
            "36/36 [==============================] - 1s 40ms/step - loss: 1.5166 - acc: 0.6862 - val_loss: 1.5136 - val_acc: 0.6583 - lr: 0.1000\n",
            "Epoch 28/100\n",
            "36/36 [==============================] - 1s 40ms/step - loss: 1.5243 - acc: 0.6791 - val_loss: 1.4830 - val_acc: 0.7146 - lr: 0.1000\n",
            "Epoch 29/100\n",
            "36/36 [==============================] - 1s 40ms/step - loss: 1.4739 - acc: 0.6964 - val_loss: 1.5400 - val_acc: 0.6738 - lr: 0.1000\n",
            "Epoch 30/100\n",
            "36/36 [==============================] - 1s 40ms/step - loss: 1.4587 - acc: 0.7026 - val_loss: 1.4288 - val_acc: 0.7262 - lr: 0.1000\n",
            "Epoch 31/100\n",
            "36/36 [==============================] - 1s 40ms/step - loss: 1.4407 - acc: 0.7046 - val_loss: 1.4663 - val_acc: 0.6796 - lr: 0.1000\n",
            "Epoch 32/100\n",
            "36/36 [==============================] - 1s 40ms/step - loss: 1.4124 - acc: 0.7088 - val_loss: 1.4356 - val_acc: 0.7010 - lr: 0.1000\n",
            "Epoch 33/100\n",
            "36/36 [==============================] - 1s 39ms/step - loss: 1.3681 - acc: 0.7188 - val_loss: 1.4910 - val_acc: 0.6757 - lr: 0.1000\n",
            "Epoch 34/100\n",
            "36/36 [==============================] - 1s 40ms/step - loss: 1.3659 - acc: 0.7197 - val_loss: 1.3834 - val_acc: 0.7398 - lr: 0.1000\n",
            "Epoch 35/100\n",
            "36/36 [==============================] - 1s 40ms/step - loss: 1.3435 - acc: 0.7284 - val_loss: 1.4280 - val_acc: 0.6718 - lr: 0.1000\n",
            "Epoch 36/100\n",
            "36/36 [==============================] - 1s 40ms/step - loss: 1.3280 - acc: 0.7281 - val_loss: 1.4232 - val_acc: 0.6854 - lr: 0.1000\n",
            "Epoch 37/100\n",
            "36/36 [==============================] - 1s 40ms/step - loss: 1.3131 - acc: 0.7288 - val_loss: 1.4555 - val_acc: 0.6932 - lr: 0.1000\n",
            "Epoch 38/100\n",
            "36/36 [==============================] - 1s 40ms/step - loss: 1.2890 - acc: 0.7383 - val_loss: 1.4463 - val_acc: 0.6932 - lr: 0.1000\n",
            "Epoch 39/100\n",
            "36/36 [==============================] - 1s 40ms/step - loss: 1.2810 - acc: 0.7275 - val_loss: 1.4544 - val_acc: 0.6699 - lr: 0.1000\n",
            "Epoch 40/100\n",
            "36/36 [==============================] - 1s 39ms/step - loss: 1.2465 - acc: 0.7512 - val_loss: 1.3909 - val_acc: 0.6951 - lr: 0.1000\n",
            "Epoch 41/100\n",
            "36/36 [==============================] - 1s 40ms/step - loss: 1.2483 - acc: 0.7383 - val_loss: 1.3572 - val_acc: 0.7029 - lr: 0.1000\n",
            "Epoch 42/100\n",
            "36/36 [==============================] - 1s 40ms/step - loss: 1.2306 - acc: 0.7523 - val_loss: 1.2728 - val_acc: 0.7476 - lr: 0.1000\n",
            "Epoch 43/100\n",
            "36/36 [==============================] - 1s 41ms/step - loss: 1.2116 - acc: 0.7550 - val_loss: 1.3004 - val_acc: 0.7146 - lr: 0.1000\n",
            "Epoch 44/100\n",
            "36/36 [==============================] - 1s 40ms/step - loss: 1.2001 - acc: 0.7506 - val_loss: 1.2319 - val_acc: 0.7437 - lr: 0.1000\n",
            "Epoch 45/100\n",
            "36/36 [==============================] - 1s 39ms/step - loss: 1.1739 - acc: 0.7581 - val_loss: 1.3429 - val_acc: 0.7126 - lr: 0.1000\n",
            "Epoch 46/100\n",
            "36/36 [==============================] - 1s 39ms/step - loss: 1.1592 - acc: 0.7636 - val_loss: 1.4173 - val_acc: 0.6796 - lr: 0.1000\n",
            "Epoch 47/100\n",
            "36/36 [==============================] - 1s 40ms/step - loss: 1.1699 - acc: 0.7585 - val_loss: 1.2655 - val_acc: 0.7204 - lr: 0.1000\n",
            "Epoch 48/100\n",
            "36/36 [==============================] - 1s 40ms/step - loss: 1.1355 - acc: 0.7679 - val_loss: 1.2502 - val_acc: 0.7146 - lr: 0.1000\n",
            "Epoch 49/100\n",
            "36/36 [==============================] - 1s 40ms/step - loss: 1.1247 - acc: 0.7725 - val_loss: 1.2509 - val_acc: 0.7262 - lr: 0.1000\n",
            "Epoch 50/100\n",
            "36/36 [==============================] - 1s 42ms/step - loss: 1.1090 - acc: 0.7763 - val_loss: 1.2135 - val_acc: 0.7204 - lr: 0.1000\n",
            "Epoch 51/100\n",
            "36/36 [==============================] - 1s 39ms/step - loss: 1.0644 - acc: 0.7909 - val_loss: 1.1450 - val_acc: 0.7573 - lr: 0.0100\n",
            "Epoch 52/100\n",
            "36/36 [==============================] - 1s 40ms/step - loss: 1.0104 - acc: 0.8169 - val_loss: 1.1222 - val_acc: 0.7806 - lr: 0.0100\n",
            "Epoch 53/100\n",
            "36/36 [==============================] - 1s 39ms/step - loss: 0.9846 - acc: 0.8216 - val_loss: 1.1292 - val_acc: 0.7728 - lr: 0.0100\n",
            "Epoch 54/100\n",
            "36/36 [==============================] - 1s 40ms/step - loss: 0.9751 - acc: 0.8309 - val_loss: 1.1310 - val_acc: 0.7728 - lr: 0.0100\n",
            "Epoch 55/100\n",
            "36/36 [==============================] - 1s 40ms/step - loss: 0.9765 - acc: 0.8238 - val_loss: 1.1120 - val_acc: 0.7806 - lr: 0.0100\n",
            "Epoch 56/100\n",
            "36/36 [==============================] - 1s 41ms/step - loss: 0.9551 - acc: 0.8393 - val_loss: 1.1129 - val_acc: 0.7806 - lr: 0.0100\n",
            "Epoch 57/100\n",
            "36/36 [==============================] - 1s 40ms/step - loss: 0.9650 - acc: 0.8276 - val_loss: 1.1036 - val_acc: 0.7670 - lr: 0.0100\n",
            "Epoch 58/100\n",
            "36/36 [==============================] - 1s 39ms/step - loss: 0.9580 - acc: 0.8336 - val_loss: 1.1201 - val_acc: 0.7748 - lr: 0.0100\n",
            "Epoch 59/100\n",
            "36/36 [==============================] - 1s 40ms/step - loss: 0.9511 - acc: 0.8382 - val_loss: 1.1526 - val_acc: 0.7748 - lr: 0.0100\n",
            "Epoch 60/100\n",
            "36/36 [==============================] - 1s 39ms/step - loss: 0.9352 - acc: 0.8424 - val_loss: 1.1080 - val_acc: 0.7806 - lr: 0.0100\n",
            "Epoch 61/100\n",
            "36/36 [==============================] - 1s 40ms/step - loss: 0.9419 - acc: 0.8387 - val_loss: 1.1302 - val_acc: 0.7709 - lr: 0.0100\n",
            "Epoch 62/100\n",
            "36/36 [==============================] - 1s 40ms/step - loss: 0.9329 - acc: 0.8407 - val_loss: 1.1464 - val_acc: 0.7728 - lr: 0.0100\n",
            "Epoch 63/100\n",
            "36/36 [==============================] - 1s 40ms/step - loss: 0.9290 - acc: 0.8402 - val_loss: 1.1425 - val_acc: 0.7786 - lr: 0.0100\n",
            "Epoch 64/100\n",
            "36/36 [==============================] - 1s 40ms/step - loss: 0.9304 - acc: 0.8415 - val_loss: 1.1678 - val_acc: 0.7612 - lr: 0.0100\n",
            "Epoch 65/100\n",
            "36/36 [==============================] - 1s 39ms/step - loss: 0.9174 - acc: 0.8493 - val_loss: 1.1265 - val_acc: 0.7903 - lr: 0.0100\n",
            "Epoch 66/100\n",
            "36/36 [==============================] - 1s 40ms/step - loss: 0.9124 - acc: 0.8522 - val_loss: 1.1426 - val_acc: 0.7592 - lr: 0.0100\n",
            "Epoch 67/100\n",
            "36/36 [==============================] - 1s 39ms/step - loss: 0.9055 - acc: 0.8511 - val_loss: 1.1335 - val_acc: 0.7748 - lr: 0.0100\n",
            "Epoch 68/100\n",
            "36/36 [==============================] - 1s 40ms/step - loss: 0.9098 - acc: 0.8471 - val_loss: 1.1342 - val_acc: 0.7806 - lr: 0.0100\n",
            "Epoch 69/100\n",
            "36/36 [==============================] - 1s 39ms/step - loss: 0.9157 - acc: 0.8433 - val_loss: 1.1398 - val_acc: 0.7689 - lr: 0.0100\n",
            "Epoch 70/100\n",
            "36/36 [==============================] - 1s 40ms/step - loss: 0.9149 - acc: 0.8382 - val_loss: 1.1254 - val_acc: 0.7922 - lr: 0.0100\n",
            "Epoch 71/100\n",
            "36/36 [==============================] - 1s 40ms/step - loss: 0.8979 - acc: 0.8524 - val_loss: 1.1514 - val_acc: 0.7767 - lr: 0.0100\n",
            "Epoch 72/100\n",
            "36/36 [==============================] - 1s 40ms/step - loss: 0.8897 - acc: 0.8551 - val_loss: 1.1531 - val_acc: 0.7767 - lr: 0.0100\n",
            "Epoch 73/100\n",
            "36/36 [==============================] - 1s 39ms/step - loss: 0.9022 - acc: 0.8515 - val_loss: 1.1312 - val_acc: 0.7767 - lr: 0.0100\n",
            "Epoch 74/100\n",
            "36/36 [==============================] - 1s 40ms/step - loss: 0.8885 - acc: 0.8555 - val_loss: 1.1212 - val_acc: 0.7806 - lr: 0.0100\n",
            "Epoch 75/100\n",
            "36/36 [==============================] - 1s 40ms/step - loss: 0.8860 - acc: 0.8597 - val_loss: 1.1263 - val_acc: 0.7961 - lr: 0.0100\n",
            "Epoch 76/100\n",
            "36/36 [==============================] - 1s 40ms/step - loss: 0.8699 - acc: 0.8640 - val_loss: 1.1172 - val_acc: 0.7883 - lr: 0.0010\n",
            "Epoch 77/100\n",
            "36/36 [==============================] - 1s 40ms/step - loss: 0.8712 - acc: 0.8633 - val_loss: 1.1077 - val_acc: 0.7883 - lr: 0.0010\n",
            "Epoch 78/100\n",
            "36/36 [==============================] - 1s 41ms/step - loss: 0.8679 - acc: 0.8648 - val_loss: 1.1198 - val_acc: 0.7961 - lr: 0.0010\n",
            "Epoch 79/100\n",
            "36/36 [==============================] - 1s 40ms/step - loss: 0.8570 - acc: 0.8697 - val_loss: 1.1082 - val_acc: 0.7864 - lr: 0.0010\n",
            "Epoch 80/100\n",
            "36/36 [==============================] - 1s 40ms/step - loss: 0.8698 - acc: 0.8657 - val_loss: 1.1231 - val_acc: 0.7767 - lr: 0.0010\n",
            "Epoch 81/100\n",
            "36/36 [==============================] - 1s 40ms/step - loss: 0.8570 - acc: 0.8671 - val_loss: 1.1598 - val_acc: 0.7748 - lr: 0.0010\n",
            "Epoch 82/100\n",
            "36/36 [==============================] - 1s 40ms/step - loss: 0.8558 - acc: 0.8691 - val_loss: 1.1236 - val_acc: 0.7883 - lr: 0.0010\n",
            "Epoch 83/100\n",
            "36/36 [==============================] - 1s 40ms/step - loss: 0.8619 - acc: 0.8653 - val_loss: 1.1276 - val_acc: 0.7786 - lr: 0.0010\n",
            "Epoch 84/100\n",
            "36/36 [==============================] - 1s 39ms/step - loss: 0.8601 - acc: 0.8648 - val_loss: 1.1138 - val_acc: 0.7922 - lr: 0.0010\n",
            "Epoch 85/100\n",
            "36/36 [==============================] - 1s 40ms/step - loss: 0.8605 - acc: 0.8664 - val_loss: 1.1179 - val_acc: 0.7903 - lr: 0.0010\n",
            "Epoch 86/100\n",
            "36/36 [==============================] - 1s 39ms/step - loss: 0.8637 - acc: 0.8637 - val_loss: 1.1336 - val_acc: 0.7806 - lr: 0.0010\n",
            "Epoch 87/100\n",
            "36/36 [==============================] - 1s 40ms/step - loss: 0.8565 - acc: 0.8648 - val_loss: 1.1317 - val_acc: 0.7903 - lr: 0.0010\n",
            "Epoch 88/100\n",
            "36/36 [==============================] - 1s 40ms/step - loss: 0.8690 - acc: 0.8602 - val_loss: 1.1183 - val_acc: 0.7883 - lr: 0.0010\n",
            "Epoch 89/100\n",
            "36/36 [==============================] - 1s 40ms/step - loss: 0.8566 - acc: 0.8697 - val_loss: 1.1442 - val_acc: 0.7786 - lr: 0.0010\n",
            "Epoch 90/100\n",
            "36/36 [==============================] - 1s 40ms/step - loss: 0.8525 - acc: 0.8660 - val_loss: 1.1518 - val_acc: 0.7612 - lr: 0.0010\n",
            "Epoch 91/100\n",
            "36/36 [==============================] - 1s 41ms/step - loss: 0.8505 - acc: 0.8693 - val_loss: 1.1219 - val_acc: 0.7845 - lr: 0.0010\n",
            "Epoch 92/100\n",
            "36/36 [==============================] - 1s 40ms/step - loss: 0.8587 - acc: 0.8693 - val_loss: 1.1423 - val_acc: 0.7786 - lr: 0.0010\n",
            "Epoch 93/100\n",
            "36/36 [==============================] - 1s 40ms/step - loss: 0.8557 - acc: 0.8700 - val_loss: 1.1176 - val_acc: 0.7883 - lr: 0.0010\n",
            "Epoch 94/100\n",
            "36/36 [==============================] - 1s 39ms/step - loss: 0.8643 - acc: 0.8595 - val_loss: 1.1392 - val_acc: 0.7825 - lr: 0.0010\n",
            "Epoch 95/100\n",
            "36/36 [==============================] - 1s 39ms/step - loss: 0.8558 - acc: 0.8684 - val_loss: 1.1209 - val_acc: 0.7845 - lr: 0.0010\n",
            "Epoch 96/100\n",
            "36/36 [==============================] - 1s 39ms/step - loss: 0.8615 - acc: 0.8666 - val_loss: 1.1064 - val_acc: 0.7864 - lr: 0.0010\n",
            "Epoch 97/100\n",
            "36/36 [==============================] - 1s 39ms/step - loss: 0.8613 - acc: 0.8640 - val_loss: 1.1488 - val_acc: 0.7845 - lr: 0.0010\n",
            "Epoch 98/100\n",
            "36/36 [==============================] - 1s 40ms/step - loss: 0.8547 - acc: 0.8687 - val_loss: 1.1254 - val_acc: 0.7903 - lr: 0.0010\n",
            "Epoch 99/100\n",
            "36/36 [==============================] - 1s 39ms/step - loss: 0.8492 - acc: 0.8695 - val_loss: 1.1175 - val_acc: 0.7864 - lr: 0.0010\n",
            "Epoch 100/100\n",
            "36/36 [==============================] - 1s 40ms/step - loss: 0.8442 - acc: 0.8739 - val_loss: 1.1143 - val_acc: 0.7864 - lr: 0.0010\n"
          ],
          "name": "stdout"
        }
      ]
    },
    {
      "cell_type": "code",
      "metadata": {
        "id": "xI39Sx-kYyUx",
        "colab_type": "code",
        "colab": {}
      },
      "source": [
        "wrn_16_2.save(\"model_wrn_last.h5\")"
      ],
      "execution_count": 0,
      "outputs": []
    },
    {
      "cell_type": "markdown",
      "metadata": {
        "id": "djH4uwAnvkfb",
        "colab_type": "text"
      },
      "source": [
        "**Visualization**"
      ]
    },
    {
      "cell_type": "code",
      "metadata": {
        "id": "lr_quzDGwKGM",
        "colab_type": "code",
        "colab": {
          "base_uri": "https://localhost:8080/",
          "height": 608
        },
        "outputId": "bb8766dd-14be-4918-ff30-fab2499e2d62"
      },
      "source": [
        "import matplotlib.pyplot as plt\n",
        "\n",
        "history = hist\n",
        "print(history.history.keys())\n",
        "# summarize history for accuracy\n",
        "plt.plot(history.history['acc'])\n",
        "plt.plot(history.history['val_acc'])\n",
        "plt.title('model accuracy')\n",
        "plt.ylabel('accuracy')\n",
        "plt.xlabel('epoch')\n",
        "plt.legend(['train', 'test'], loc='upper left')\n",
        "plt.show()\n",
        "plt.savefig(\"wrn_tensor.png\")\n",
        "# summarize history for loss\n",
        "plt.plot(history.history['loss'])\n",
        "plt.plot(history.history['val_loss'])\n",
        "plt.title('model loss')\n",
        "plt.ylabel('loss')\n",
        "plt.xlabel('epoch')\n",
        "plt.legend(['train', 'test'], loc='upper left')\n",
        "plt.show()\n",
        "plt.savefig(\"deneme.png\")"
      ],
      "execution_count": 19,
      "outputs": [
        {
          "output_type": "stream",
          "text": [
            "dict_keys(['loss', 'acc', 'val_loss', 'val_acc', 'lr'])\n"
          ],
          "name": "stdout"
        },
        {
          "output_type": "display_data",
          "data": {
            "image/png": "[encoded data removed]",
            "text/plain": [
              "<Figure size 432x288 with 1 Axes>"
            ]
          },
          "metadata": {
            "tags": [],
            "needs_background": "light"
          }
        },
        {
          "output_type": "display_data",
          "data": {
            "image/png": "[encoded data removed]",
            "text/plain": [
              "<Figure size 432x288 with 1 Axes>"
            ]
          },
          "metadata": {
            "tags": [],
            "needs_background": "light"
          }
        },
        {
          "output_type": "display_data",
          "data": {
            "text/plain": [
              "<Figure size 432x288 with 0 Axes>"
            ]
          },
          "metadata": {
            "tags": []
          }
        }
      ]
    },
    {
      "cell_type": "code",
      "metadata": {
        "id": "iE16jXuZw8xb",
        "colab_type": "code",
        "colab": {
          "base_uri": "https://localhost:8080/",
          "height": 52
        },
        "outputId": "3cba2b12-37f9-4196-dc7d-54188bcfeeae"
      },
      "source": [
        "wrn_16_2.evaluate(X_test,y_test)"
      ],
      "execution_count": 20,
      "outputs": [
        {
          "output_type": "stream",
          "text": [
            "18/18 [==============================] - 0s 7ms/step - loss: 1.1462 - acc: 0.7714\n"
          ],
          "name": "stdout"
        },
        {
          "output_type": "execute_result",
          "data": {
            "text/plain": [
              "[1.1462349891662598, 0.7713786959648132]"
            ]
          },
          "metadata": {
            "tags": []
          },
          "execution_count": 20
        }
      ]
    },
    {
      "cell_type": "code",
      "metadata": {
        "id": "SmZpcppX5u_C",
        "colab_type": "code",
        "colab": {
          "base_uri": "https://localhost:8080/",
          "height": 52
        },
        "outputId": "163740ad-6c29-41e8-a3e0-adf36747d474"
      },
      "source": [
        "wrn_16_2.evaluate(X_train,y_train)"
      ],
      "execution_count": 21,
      "outputs": [
        {
          "output_type": "stream",
          "text": [
            "145/145 [==============================] - 1s 4ms/step - loss: 0.8231 - acc: 0.8794\n"
          ],
          "name": "stdout"
        },
        {
          "output_type": "execute_result",
          "data": {
            "text/plain": [
              "[0.8231325745582581, 0.879369854927063]"
            ]
          },
          "metadata": {
            "tags": []
          },
          "execution_count": 21
        }
      ]
    },
    {
      "cell_type": "markdown",
      "metadata": {
        "id": "vEDHJIheU8bm",
        "colab_type": "text"
      },
      "source": [
        "# Adversarial Examples\n"
      ]
    },
    {
      "cell_type": "code",
      "metadata": {
        "id": "5QB8zFSSU7Qy",
        "colab_type": "code",
        "colab": {
          "base_uri": "https://localhost:8080/",
          "height": 0
        },
        "outputId": "5467b65c-08ee-4df3-e367-75fbd35063b2"
      },
      "source": [
        "!pip install -q tensorflow==2.0.0b1\n",
        "# Install bleeding edge version of cleverhans\n",
        "!pip install git+https://github.com/tensorflow/cleverhans.git#egg=cleverhans\n",
        "\n",
        "import cleverhans\n",
        "import tensorflow as tf\n",
        "import numpy as np\n",
        "import matplotlib.pyplot as plt\n",
        "\n",
        "print(\"\\nTensorflow Version: \" + tf.__version__)\n",
        "print(\"Cleverhans Version: \" + cleverhans.__version__)\n",
        "print(\"GPU Available: \", tf.test.is_gpu_available())"
      ],
      "execution_count": 0,
      "outputs": [
        {
          "output_type": "stream",
          "text": [
            "\u001b[K     |████████████████████████████████| 87.9MB 35kB/s \n",
            "\u001b[K     |████████████████████████████████| 3.1MB 55.8MB/s \n",
            "\u001b[K     |████████████████████████████████| 501kB 51.2MB/s \n"
          ],
          "name": "stdout"
        }
      ]
    },
    {
      "cell_type": "code",
      "metadata": {
        "id": "2_bfZ4G8W_sM",
        "colab_type": "code",
        "colab": {}
      },
      "source": [
        "from cleverhans.future.tf2.attacks import fast_gradient_method\n",
        "\n",
        "#The attack requires the model to ouput the logits\n",
        "logits_model = tf.keras.Model(wrn_16_2.input,wrn_16_2.layers[-1].output)"
      ],
      "execution_count": 0,
      "outputs": []
    },
    {
      "cell_type": "code",
      "metadata": {
        "id": "gGWIlakqVD_i",
        "colab_type": "code",
        "colab": {}
      },
      "source": [
        "X_adv = []\n",
        "y_adv = []\n",
        "for i in range(len(X)):\n",
        "  random_index = i\n",
        "  original_image = X[random_index]\n",
        "  original_image = tf.convert_to_tensor(original_image.reshape((1,68,100))) #The .reshape just gives it the proper form to input into the model, a batch of 1 a.k.a a tensor\n",
        "\n",
        "  original_label = y_cat[random_index]\n",
        "\n",
        "  epsilon = 0.5\n",
        "  original_label\n",
        "  adv_example_targeted_label = fast_gradient_method(logits_model, original_image, epsilon, np.inf, targeted=False)\n",
        "\n",
        "  adv_example_targeted_label_pred = wrn_16_2.predict(adv_example_targeted_label)\n",
        "  X_adv.append(adv_example_targeted_label)\n",
        "  y_adv.append(np.argmax(adv_example_targeted_label_pred))"
      ],
      "execution_count": 0,
      "outputs": []
    },
    {
      "cell_type": "code",
      "metadata": {
        "id": "M1DCXV9Tc9B0",
        "colab_type": "code",
        "colab": {}
      },
      "source": [
        "import pickle\n",
        "\n",
        "my_data = {'image': X_adv,\n",
        "           'label': y_adv_df['Encoded']\n",
        "           }\n",
        "output = open('data_adv_50.pkl', 'wb')\n",
        "pickle.dump(my_data, output)\n",
        "output.close()"
      ],
      "execution_count": 0,
      "outputs": []
    },
    {
      "cell_type": "markdown",
      "metadata": {
        "id": "ZuWpwrKuwmsc",
        "colab_type": "text"
      },
      "source": [
        "# Adversarial Training"
      ]
    },
    {
      "cell_type": "code",
      "metadata": {
        "id": "nfF0d5ePbXK0",
        "colab_type": "code",
        "colab": {}
      },
      "source": [
        "y_adv = np.array(y_adv)"
      ],
      "execution_count": 0,
      "outputs": []
    },
    {
      "cell_type": "code",
      "metadata": {
        "id": "d5I9X-0mboqa",
        "colab_type": "code",
        "colab": {}
      },
      "source": [
        "y_adv_df = pd.DataFrame(y_adv, columns=['Encoded'])\n",
        "y_adv_df['Encoded'] = labelencoder.fit_transform(y_adv)"
      ],
      "execution_count": 0,
      "outputs": []
    },
    {
      "cell_type": "code",
      "metadata": {
        "id": "IcxHP-bTcIwR",
        "colab_type": "code",
        "colab": {}
      },
      "source": [
        "y_adv_df['Encoded'].value_counts()"
      ],
      "execution_count": 0,
      "outputs": []
    },
    {
      "cell_type": "code",
      "metadata": {
        "id": "J1mGBoQbd46-",
        "colab_type": "code",
        "colab": {}
      },
      "source": [
        "X_new = []\n",
        "X_adv =my_data['image']\n",
        "for i in range(len(X_adv)):\n",
        "  a = np.array(X_adv[i])\n",
        "  X_new.append(a.reshape(68,100,1))"
      ],
      "execution_count": 0,
      "outputs": []
    },
    {
      "cell_type": "code",
      "metadata": {
        "id": "DdE_WN8Ffgyz",
        "colab_type": "code",
        "colab": {}
      },
      "source": [
        "for i in range(len(X)):\n",
        "  a = np.array(X[i])\n",
        "  X_new.append(a)"
      ],
      "execution_count": 0,
      "outputs": []
    },
    {
      "cell_type": "code",
      "metadata": {
        "id": "YKAnXO0Vfg1T",
        "colab_type": "code",
        "colab": {}
      },
      "source": [
        "X_third = np.array(X_new)"
      ],
      "execution_count": 0,
      "outputs": []
    },
    {
      "cell_type": "code",
      "metadata": {
        "id": "D_jH1i_FMA2V",
        "colab_type": "code",
        "colab": {}
      },
      "source": [
        "X_adv_a = np.array(X_new)"
      ],
      "execution_count": 0,
      "outputs": []
    },
    {
      "cell_type": "code",
      "metadata": {
        "id": "Dackr68mMA0Y",
        "colab_type": "code",
        "colab": {}
      },
      "source": [
        "X_adv_a.shape"
      ],
      "execution_count": 0,
      "outputs": []
    },
    {
      "cell_type": "code",
      "metadata": {
        "id": "m9UIXimpiKWk",
        "colab_type": "code",
        "colab": {}
      },
      "source": [
        "y_new = []\n",
        "for j in range(0,2):\n",
        "  for i in range(len(y_cat)):\n",
        "    y_new.append(y_cat[i])\n",
        "y_third = np.array(y_new)"
      ],
      "execution_count": 0,
      "outputs": []
    },
    {
      "cell_type": "code",
      "metadata": {
        "id": "vuRIuXcNiKY4",
        "colab_type": "code",
        "colab": {}
      },
      "source": [
        "X_all, y_all = X_third, y_third"
      ],
      "execution_count": 0,
      "outputs": []
    },
    {
      "cell_type": "code",
      "metadata": {
        "id": "qJXveP1Veo7G",
        "colab_type": "code",
        "colab": {}
      },
      "source": [
        "X_train_adv, X_test_adv, y_train_adv, y_test_adv = train_test_split( X_all,y_all, test_size = 0.33, shuffle=True)"
      ],
      "execution_count": 0,
      "outputs": []
    },
    {
      "cell_type": "code",
      "metadata": {
        "id": "WMJjEg9qiI0n",
        "colab_type": "code",
        "colab": {}
      },
      "source": [
        ""
      ],
      "execution_count": 0,
      "outputs": []
    },
    {
      "cell_type": "code",
      "metadata": {
        "id": "HibsOpTIcNq8",
        "colab_type": "code",
        "colab": {}
      },
      "source": [
        "wrn_16_2_adv = create_wide_residual_network(init, nb_classes=4, N=2, k=2, dropout=0.3)"
      ],
      "execution_count": 0,
      "outputs": []
    },
    {
      "cell_type": "code",
      "metadata": {
        "id": "q96wjHqxeTJ-",
        "colab_type": "code",
        "colab": {}
      },
      "source": [
        "wrn_16_2_adv.compile(loss=\"categorical_crossentropy\", optimizer=sgd, metrics=[\"acc\"])\n",
        "print(\"Finished compiling\")\n",
        "BS_adv= 100\n",
        "EPOCHS_adv = 50"
      ],
      "execution_count": 0,
      "outputs": []
    },
    {
      "cell_type": "code",
      "metadata": {
        "id": "-Jewqs8yxlnf",
        "colab_type": "code",
        "colab": {}
      },
      "source": [
        "def lr_sch_train(epoch):\n",
        "    if epoch < 10:\n",
        "        return 0.1\n",
        "    elif epoch <20:\n",
        "        return 0.1/2.0\n",
        "    elif epoch < 30:\n",
        "        return 0.1/2.0**2\n",
        "    elif epoch < 40:\n",
        "        return 0.1/2.0**3\n",
        "    else:\n",
        "        return 0.1/2.0**4\n",
        "\n",
        "# Learning rate scheduler callback\n",
        "lr_scheduler_train = LearningRateScheduler(lr_sch_train)"
      ],
      "execution_count": 0,
      "outputs": []
    },
    {
      "cell_type": "code",
      "metadata": {
        "id": "9FIn8khEd45J",
        "colab_type": "code",
        "colab": {}
      },
      "source": [
        "\n",
        "hist = wrn_16_2_adv.fit_generator(generator.flow(X_train_adv, y_train_adv, batch_size=BS_adv), steps_per_epoch=len(X_train_adv) // BS_adv, epochs=EPOCHS_adv,\n",
        "                   callbacks=[lr_scheduler_train],\n",
        "                   validation_data=(X_test_adv, y_test_adv),\n",
        "                   validation_steps=X_test_adv.shape[0] // BS_adv,)"
      ],
      "execution_count": 0,
      "outputs": []
    },
    {
      "cell_type": "code",
      "metadata": {
        "id": "3qXnteSOpFZH",
        "colab_type": "code",
        "colab": {}
      },
      "source": [
        "wrn_16_2_adv.save(\"model_adv_wrn_tensor_dropout.h5\")"
      ],
      "execution_count": 0,
      "outputs": []
    },
    {
      "cell_type": "markdown",
      "metadata": {
        "id": "CeetxZrNv9oM",
        "colab_type": "text"
      },
      "source": [
        "**Visualization**"
      ]
    },
    {
      "cell_type": "code",
      "metadata": {
        "id": "-S5IjLivpMbp",
        "colab_type": "code",
        "colab": {}
      },
      "source": [
        "import matplotlib.pyplot as plt\n",
        "\n",
        "history = hist\n",
        "print(history.history.keys())\n",
        "# summarize history for accuracy\n",
        "plt.plot(history.history['acc'])\n",
        "plt.plot(history.history['val_acc'])\n",
        "plt.title('model accuracy')\n",
        "plt.ylabel('accuracy')\n",
        "plt.xlabel('epoch')\n",
        "plt.legend(['train', 'test'], loc='upper left')\n",
        "plt.show()\n",
        "plt.savefig(\"wrn_tensor.png\")\n",
        "# summarize history for loss\n",
        "plt.plot(history.history['loss'])\n",
        "plt.plot(history.history['val_loss'])\n",
        "plt.title('model loss')\n",
        "plt.ylabel('loss')\n",
        "plt.xlabel('epoch')\n",
        "plt.legend(['train', 'test'], loc='upper left')\n",
        "plt.show()\n",
        "plt.savefig(\"deneme.png\")"
      ],
      "execution_count": 0,
      "outputs": []
    },
    {
      "cell_type": "markdown",
      "metadata": {
        "id": "ftcU_6z90QSJ",
        "colab_type": "text"
      },
      "source": [
        "**CleanExperiment**"
      ]
    },
    {
      "cell_type": "code",
      "metadata": {
        "id": "3i5qUE6j0JUE",
        "colab_type": "code",
        "colab": {}
      },
      "source": [
        "wrn_16_2_clean = create_wide_residual_network(init, nb_classes=4, N=2, k=2, dropout=0.3)"
      ],
      "execution_count": 0,
      "outputs": []
    },
    {
      "cell_type": "code",
      "metadata": {
        "id": "X4p2TUIj0csZ",
        "colab_type": "code",
        "colab": {}
      },
      "source": [
        "wrn_16_2_clean.compile(loss=\"categorical_crossentropy\", optimizer=sgd, metrics=[\"acc\"])\n",
        "print(\"Finished compiling\")"
      ],
      "execution_count": 0,
      "outputs": []
    },
    {
      "cell_type": "code",
      "metadata": {
        "id": "5rQljdkd0he9",
        "colab_type": "code",
        "colab": {}
      },
      "source": [
        "hist_clean = wrn_16_2_clean.fit_generator(generator.flow(X_train, y_train, batch_size=BS_adv), steps_per_epoch=len(X_train) // BS_adv, epochs=EPOCHS_adv,\n",
        "                   callbacks=[lr_scheduler_train],\n",
        "                   validation_data=(X_test, y_test),\n",
        "                   validation_steps=X_test.shape[0] // BS_adv,)"
      ],
      "execution_count": 0,
      "outputs": []
    },
    {
      "cell_type": "code",
      "metadata": {
        "id": "1acrchBU185p",
        "colab_type": "code",
        "colab": {}
      },
      "source": [
        "wrn_16_2_clean.save(\"model_adv_train_clean_dropout.h5\")"
      ],
      "execution_count": 0,
      "outputs": []
    },
    {
      "cell_type": "markdown",
      "metadata": {
        "id": "i9hLRXbmwETE",
        "colab_type": "text"
      },
      "source": [
        "**Visualization**"
      ]
    },
    {
      "cell_type": "code",
      "metadata": {
        "id": "_pgU_KsH0yVM",
        "colab_type": "code",
        "colab": {}
      },
      "source": [
        "import matplotlib.pyplot as plt\n",
        "\n",
        "history = hist_clean\n",
        "print(history.history.keys())\n",
        "# summarize history for accuracy\n",
        "plt.plot(history.history['acc'])\n",
        "plt.plot(history.history['val_acc'])\n",
        "plt.title('model accuracy')\n",
        "plt.ylabel('accuracy')\n",
        "plt.xlabel('epoch')\n",
        "plt.legend(['train', 'test'], loc='upper left')\n",
        "plt.show()\n",
        "plt.savefig(\"wrn_tensor.png\")\n",
        "# summarize history for loss\n",
        "plt.plot(history.history['loss'])\n",
        "plt.plot(history.history['val_loss'])\n",
        "plt.title('model loss')\n",
        "plt.ylabel('loss')\n",
        "plt.xlabel('epoch')\n",
        "plt.legend(['train', 'test'], loc='upper left')\n",
        "plt.show()\n",
        "plt.savefig(\"deneme.png\")"
      ],
      "execution_count": 0,
      "outputs": []
    },
    {
      "cell_type": "markdown",
      "metadata": {
        "id": "UCKONCZ0Jzfi",
        "colab_type": "text"
      },
      "source": [
        "**Adversarial Training**"
      ]
    },
    {
      "cell_type": "code",
      "metadata": {
        "id": "pFgpFgWbKeR_",
        "colab_type": "code",
        "colab": {}
      },
      "source": [
        "wrn_16_2_adv.evaluate(X_train,y_train)"
      ],
      "execution_count": 0,
      "outputs": []
    },
    {
      "cell_type": "code",
      "metadata": {
        "id": "XhiqvES18c-j",
        "colab_type": "code",
        "colab": {}
      },
      "source": [
        "wrn_16_2_adv.evaluate(X_train_adv,y_train_adv)"
      ],
      "execution_count": 0,
      "outputs": []
    },
    {
      "cell_type": "code",
      "metadata": {
        "id": "tjHVWy96Llce",
        "colab_type": "code",
        "colab": {}
      },
      "source": [
        "wrn_16_2_adv.evaluate(X_test,y_test)"
      ],
      "execution_count": 0,
      "outputs": []
    },
    {
      "cell_type": "code",
      "metadata": {
        "id": "Uqj_Ax7MI4SC",
        "colab_type": "code",
        "colab": {}
      },
      "source": [
        "wrn_16_2_adv.evaluate(X_adv_a,y_cat)"
      ],
      "execution_count": 0,
      "outputs": []
    },
    {
      "cell_type": "code",
      "metadata": {
        "id": "JXT3YD6iLl0N",
        "colab_type": "code",
        "colab": {}
      },
      "source": [
        "wrn_16_2_adv.evaluate(X_test_adv,y_test_adv)"
      ],
      "execution_count": 0,
      "outputs": []
    },
    {
      "cell_type": "markdown",
      "metadata": {
        "id": "-fKhEMXgKAnZ",
        "colab_type": "text"
      },
      "source": [
        "**Non_Adversarial_Training**"
      ]
    },
    {
      "cell_type": "code",
      "metadata": {
        "id": "ouj6OqTD8VdE",
        "colab_type": "code",
        "colab": {}
      },
      "source": [
        "wrn_16_2_clean.evaluate(X_train, y_train)"
      ],
      "execution_count": 0,
      "outputs": []
    },
    {
      "cell_type": "code",
      "metadata": {
        "id": "sfkUSeV6KHp5",
        "colab_type": "code",
        "colab": {}
      },
      "source": [
        "wrn_16_2_clean.evaluate(X_train_adv,y_train_adv)"
      ],
      "execution_count": 0,
      "outputs": []
    },
    {
      "cell_type": "code",
      "metadata": {
        "id": "kZFJl2D4Hbxa",
        "colab_type": "code",
        "colab": {}
      },
      "source": [
        "wrn_16_2_clean.evaluate(X_test, y_test)"
      ],
      "execution_count": 0,
      "outputs": []
    },
    {
      "cell_type": "code",
      "metadata": {
        "id": "8gJh7MDHChHo",
        "colab_type": "code",
        "colab": {}
      },
      "source": [
        "wrn_16_2_clean.evaluate(X_adv_a,y_cat)"
      ],
      "execution_count": 0,
      "outputs": []
    },
    {
      "cell_type": "code",
      "metadata": {
        "id": "nZuONcAeAwQb",
        "colab_type": "code",
        "colab": {}
      },
      "source": [
        "wrn_16_2_clean.evaluate(X_test_adv, y_test_adv)"
      ],
      "execution_count": 0,
      "outputs": []
    }
  ]
}