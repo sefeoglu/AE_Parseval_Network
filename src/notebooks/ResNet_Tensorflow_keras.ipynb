{
  "nbformat": 4,
  "nbformat_minor": 0,
  "metadata": {
    "colab": {
      "name": "ResNet_Tensorflow_keras.ipynb",
      "provenance": [],
      "toc_visible": true,
      "include_colab_link": true
    },
    "kernelspec": {
      "name": "python3",
      "display_name": "Python 3"
    },
    "accelerator": "GPU"
  },
  "cells": [
    {
      "cell_type": "markdown",
      "metadata": {
        "id": "view-in-github",
        "colab_type": "text"
      },
      "source": [
        "<a href=\"https://colab.research.google.com/github/sefeoglu/AE_Parseval_Network/blob/master/src/notebooks/ResNet_Tensorflow_keras.ipynb\" target=\"_parent\"><img src=\"https://colab.research.google.com/assets/colab-badge.svg\" alt=\"Open In Colab\"/></a>"
      ]
    },
    {
      "cell_type": "markdown",
      "metadata": {
        "id": "cczYDRrfFlDx",
        "colab_type": "text"
      },
      "source": [
        "# Wide ResNet 16_2"
      ]
    },
    {
      "cell_type": "code",
      "metadata": {
        "id": "HWvd9YADGtMS",
        "colab_type": "code",
        "colab": {}
      },
      "source": [
        "import tensorflow as tf"
      ],
      "execution_count": 0,
      "outputs": []
    },
    {
      "cell_type": "code",
      "metadata": {
        "id": "QRdSMgRjG8ex",
        "colab_type": "code",
        "colab": {
          "base_uri": "https://localhost:8080/",
          "height": 1000
        },
        "outputId": "db157313-7f50-433b-81bc-62e3ed3d49a0"
      },
      "source": [
        "from tensorflow.keras.models import Model\n",
        "from tensorflow.keras.layers import Input, Add, Activation, Dropout, Flatten, Dense\n",
        "from tensorflow.keras.layers import Convolution2D, MaxPooling2D, AveragePooling2D\n",
        "from tensorflow.keras.layers import BatchNormalization\n",
        "from tensorflow.keras.regularizers import l2\n",
        "from tensorflow.keras import backend as K\n",
        "import warnings\n",
        "\n",
        "warnings.filterwarnings(\"ignore\")\n",
        "weight_decay = 0.0005\n",
        "\n",
        "\n",
        "def initial_conv(input):\n",
        "  \n",
        "    x = Convolution2D(16, (3, 3), padding='same', kernel_initializer='he_normal',\n",
        "                      kernel_regularizer=l2(weight_decay),\n",
        "                      use_bias=False)(input)\n",
        "\n",
        "    channel_axis = 1 if K.image_data_format() == \"channels_first\" else -1\n",
        "\n",
        "    x = BatchNormalization(axis=channel_axis, momentum=0.1, epsilon=1e-5, gamma_initializer='uniform')(x)\n",
        "    x = Activation('relu')(x)\n",
        "    return x\n",
        "\n",
        "\n",
        "def expand_conv(init, base, k, strides=(1, 1)):\n",
        "    x = Convolution2D(base * k, (3, 3), padding='same', strides=strides, kernel_initializer='he_normal', kernel_regularizer=l2(weight_decay),\n",
        "                      use_bias=False)(init)\n",
        "\n",
        "    channel_axis = 1 if K.image_data_format() == \"channels_first\" else -1\n",
        "\n",
        "    x = BatchNormalization(axis=channel_axis, momentum=0.1, epsilon=1e-5, gamma_initializer='uniform')(x)\n",
        "    x = Activation('relu')(x)\n",
        "\n",
        "    x = Convolution2D(base * k, (3, 3), padding='same', kernel_initializer='he_normal',\n",
        "                      kernel_regularizer=l2(weight_decay),\n",
        "                      use_bias=False)(x)\n",
        "\n",
        "    skip = Convolution2D(base * k, (1, 1), padding='same', strides=strides, kernel_initializer='he_normal',\n",
        "                      kernel_regularizer=l2(weight_decay),\n",
        "                      use_bias=False)(init)\n",
        "\n",
        "    m = Add()([x, skip])\n",
        "\n",
        "    return m\n",
        "\n",
        "\n",
        "def conv1_block(input, k=1, dropout=0.0):\n",
        "    init = input\n",
        "\n",
        "    channel_axis = 1 if K.image_data_format() == \"channels_first\" else -1\n",
        "\n",
        "    x = BatchNormalization(axis=channel_axis, momentum=0.1, epsilon=1e-5, gamma_initializer='uniform')(input)\n",
        "    x = Activation('relu')(x)\n",
        "    x = Convolution2D(16 * k, (3, 3), padding='same', kernel_initializer='he_normal',\n",
        "                      kernel_regularizer=l2(weight_decay),\n",
        "                      use_bias=False)(x)\n",
        "\n",
        "    if dropout > 0.0: x = Dropout(dropout)(x)\n",
        "\n",
        "    x = BatchNormalization(axis=channel_axis, momentum=0.1, epsilon=1e-5, gamma_initializer='uniform')(x)\n",
        "    x = Activation('relu')(x)\n",
        "    x = Convolution2D(16 * k, (3, 3), padding='same', kernel_initializer='he_normal',\n",
        "                      kernel_regularizer=l2(weight_decay),\n",
        "                      use_bias=False)(x)\n",
        "\n",
        "    m = Add()([init, x])\n",
        "    return m\n",
        "\n",
        "def conv2_block(input, k=1, dropout=0.0):\n",
        "    init = input\n",
        "\n",
        "    channel_axis = 1 if K.image_data_format() == \"channels_first\" else -1\n",
        "    print(\"conv2:channel:  {}\".format(channel_axis))\n",
        "    x = BatchNormalization(axis=channel_axis, momentum=0.1, epsilon=1e-5, gamma_initializer='uniform')(input)\n",
        "    x = Activation('relu')(x)\n",
        "    x = Convolution2D(32 * k, (3, 3), padding='same', kernel_initializer='he_normal',\n",
        "                      kernel_regularizer=l2(weight_decay),\n",
        "                      use_bias=False)(x)\n",
        "\n",
        "    if dropout > 0.0: x = Dropout(dropout)(x)\n",
        "\n",
        "    x = BatchNormalization(axis=channel_axis, momentum=0.1, epsilon=1e-5, gamma_initializer='uniform')(x)\n",
        "    x = Activation('relu')(x)\n",
        "    x = Convolution2D(32 * k, (3, 3), padding='same', kernel_initializer='he_normal',\n",
        "                      kernel_regularizer=l2(weight_decay),\n",
        "                      use_bias=False)(x)\n",
        "\n",
        "    m = Add()([init, x])\n",
        "    return m\n",
        "\n",
        "def conv3_block(input, k=1, dropout=0.0):\n",
        "    init = input\n",
        "\n",
        "    channel_axis = 1 if K.image_data_format() == \"channels_first\" else -1\n",
        "    print(\"conv3 channel_axis:{} \".format(channel_axis))\n",
        "    x = BatchNormalization(axis=channel_axis, momentum=0.1, epsilon=1e-5, gamma_initializer='uniform')(input)\n",
        "    x = Activation('relu')(x)\n",
        "    x = Convolution2D(64 * k, (3, 3), padding='same', kernel_initializer='he_normal',\n",
        "                      kernel_regularizer=l2(weight_decay),\n",
        "                      use_bias=False)(x)\n",
        "\n",
        "    if dropout > 0.0: x = Dropout(dropout)(x)\n",
        "\n",
        "    x = BatchNormalization(axis=channel_axis, momentum=0.1, epsilon=1e-5, gamma_initializer='uniform')(x)\n",
        "    x = Activation('relu')(x)\n",
        "    x = Convolution2D(64 * k, (3, 3), padding='same', kernel_initializer='he_normal',\n",
        "                      kernel_regularizer=l2(weight_decay),\n",
        "                      use_bias=False)(x)\n",
        "\n",
        "    m = Add()([init, x])\n",
        "    return m\n",
        "\n",
        "def create_wide_residual_network(input_dim, nb_classes=100, N=2, k=1, dropout=0.0, verbose=1):\n",
        "    \"\"\"\n",
        "    Creates a Wide Residual Network with specified parameters\n",
        "\n",
        "    :param input: Input Keras object\n",
        "    :param nb_classes: Number of output classes\n",
        "    :param N: Depth of the network. Compute N = (n - 4) / 6.\n",
        "              Example : For a depth of 16, n = 16, N = (16 - 4) / 6 = 2\n",
        "              Example2: For a depth of 28, n = 28, N = (28 - 4) / 6 = 4\n",
        "              Example3: For a depth of 40, n = 40, N = (40 - 4) / 6 = 6\n",
        "    :param k: Width of the network.\n",
        "    :param dropout: Adds dropout if value is greater than 0.0\n",
        "    :param verbose: Debug info to describe created WRN\n",
        "    :return:\n",
        "    \"\"\"\n",
        "    channel_axis = 1 if K.image_data_format() == \"channels_first\" else -1\n",
        "\n",
        "    ip = Input(shape=input_dim)\n",
        "\n",
        "    x = initial_conv(ip)\n",
        "    nb_conv = 4\n",
        "\n",
        "    x = expand_conv(x, 16, k)\n",
        "    nb_conv += 2\n",
        "\n",
        "    for i in range(N - 1):\n",
        "        x = conv1_block(x, k, dropout)\n",
        "        nb_conv += 2\n",
        "\n",
        "    x = BatchNormalization(axis=channel_axis, momentum=0.1, epsilon=1e-5, gamma_initializer='uniform')(x)\n",
        "    x = Activation('relu')(x)\n",
        "\n",
        "    x = expand_conv(x, 32, k, strides=(2, 2))\n",
        "    nb_conv += 2\n",
        "\n",
        "    for i in range(N - 1):\n",
        "        x = conv2_block(x, k, dropout)\n",
        "        nb_conv += 2\n",
        "\n",
        "    x = BatchNormalization(axis=channel_axis, momentum=0.1, epsilon=1e-5, gamma_initializer='uniform')(x)\n",
        "    x = Activation('relu')(x)\n",
        "\n",
        "    x = expand_conv(x, 64, k, strides=(2, 2))\n",
        "    nb_conv += 2\n",
        "\n",
        "    for i in range(N - 1):\n",
        "        x = conv3_block(x, k, dropout)\n",
        "        nb_conv += 2\n",
        "\n",
        "    x = BatchNormalization(axis=channel_axis, momentum=0.1, epsilon=1e-5, gamma_initializer='uniform')(x)\n",
        "    x = Activation('relu')(x)\n",
        "\n",
        "    x = AveragePooling2D((8, 8))(x)\n",
        "    x = Flatten()(x)\n",
        "\n",
        "    x = Dense(nb_classes, kernel_regularizer=l2(weight_decay), activation='softmax')(x)\n",
        "\n",
        "    model = Model(ip, x)\n",
        "\n",
        "    if verbose: print(\"Parseval Residual Network-%d-%d created.\" % (nb_conv, k))\n",
        "    return model\n",
        "\n",
        "if __name__ == \"__main__\":\n",
        "    from tensorflow.keras.utils import plot_model\n",
        "    from tensorflow.keras.layers import Input\n",
        "    from tensorflow.keras.models import Model\n",
        "\n",
        "    init = (68, 100,1)\n",
        "\n",
        "    wrn_16_2 = create_wide_residual_network(init, nb_classes=4, N=2, k=2, dropout=0.0)\n",
        "\n",
        "    wrn_16_2.summary()\n",
        "\n",
        "   # plot_model(wrn_28_10, \"WRN-16-2.png\", show_shapes=True, show_layer_names=True)\n"
      ],
      "execution_count": 53,
      "outputs": [
        {
          "output_type": "stream",
          "text": [
            "conv2:channel:  -1\n",
            "conv3 channel_axis:-1 \n",
            "Parseval Residual Network-16-2 created.\n",
            "Model: \"model_4\"\n",
            "__________________________________________________________________________________________________\n",
            "Layer (type)                    Output Shape         Param #     Connected to                     \n",
            "==================================================================================================\n",
            "input_5 (InputLayer)            [(None, 68, 100, 1)] 0                                            \n",
            "__________________________________________________________________________________________________\n",
            "conv2d_64 (Conv2D)              (None, 68, 100, 16)  144         input_5[0][0]                    \n",
            "__________________________________________________________________________________________________\n",
            "batch_normalization_52 (BatchNo (None, 68, 100, 16)  64          conv2d_64[0][0]                  \n",
            "__________________________________________________________________________________________________\n",
            "activation_52 (Activation)      (None, 68, 100, 16)  0           batch_normalization_52[0][0]     \n",
            "__________________________________________________________________________________________________\n",
            "conv2d_65 (Conv2D)              (None, 68, 100, 32)  4608        activation_52[0][0]              \n",
            "__________________________________________________________________________________________________\n",
            "batch_normalization_53 (BatchNo (None, 68, 100, 32)  128         conv2d_65[0][0]                  \n",
            "__________________________________________________________________________________________________\n",
            "activation_53 (Activation)      (None, 68, 100, 32)  0           batch_normalization_53[0][0]     \n",
            "__________________________________________________________________________________________________\n",
            "conv2d_66 (Conv2D)              (None, 68, 100, 32)  9216        activation_53[0][0]              \n",
            "__________________________________________________________________________________________________\n",
            "conv2d_67 (Conv2D)              (None, 68, 100, 32)  512         activation_52[0][0]              \n",
            "__________________________________________________________________________________________________\n",
            "add_24 (Add)                    (None, 68, 100, 32)  0           conv2d_66[0][0]                  \n",
            "                                                                 conv2d_67[0][0]                  \n",
            "__________________________________________________________________________________________________\n",
            "batch_normalization_54 (BatchNo (None, 68, 100, 32)  128         add_24[0][0]                     \n",
            "__________________________________________________________________________________________________\n",
            "activation_54 (Activation)      (None, 68, 100, 32)  0           batch_normalization_54[0][0]     \n",
            "__________________________________________________________________________________________________\n",
            "conv2d_68 (Conv2D)              (None, 68, 100, 32)  9216        activation_54[0][0]              \n",
            "__________________________________________________________________________________________________\n",
            "batch_normalization_55 (BatchNo (None, 68, 100, 32)  128         conv2d_68[0][0]                  \n",
            "__________________________________________________________________________________________________\n",
            "activation_55 (Activation)      (None, 68, 100, 32)  0           batch_normalization_55[0][0]     \n",
            "__________________________________________________________________________________________________\n",
            "conv2d_69 (Conv2D)              (None, 68, 100, 32)  9216        activation_55[0][0]              \n",
            "__________________________________________________________________________________________________\n",
            "add_25 (Add)                    (None, 68, 100, 32)  0           add_24[0][0]                     \n",
            "                                                                 conv2d_69[0][0]                  \n",
            "__________________________________________________________________________________________________\n",
            "batch_normalization_56 (BatchNo (None, 68, 100, 32)  128         add_25[0][0]                     \n",
            "__________________________________________________________________________________________________\n",
            "activation_56 (Activation)      (None, 68, 100, 32)  0           batch_normalization_56[0][0]     \n",
            "__________________________________________________________________________________________________\n",
            "conv2d_70 (Conv2D)              (None, 34, 50, 64)   18432       activation_56[0][0]              \n",
            "__________________________________________________________________________________________________\n",
            "batch_normalization_57 (BatchNo (None, 34, 50, 64)   256         conv2d_70[0][0]                  \n",
            "__________________________________________________________________________________________________\n",
            "activation_57 (Activation)      (None, 34, 50, 64)   0           batch_normalization_57[0][0]     \n",
            "__________________________________________________________________________________________________\n",
            "conv2d_71 (Conv2D)              (None, 34, 50, 64)   36864       activation_57[0][0]              \n",
            "__________________________________________________________________________________________________\n",
            "conv2d_72 (Conv2D)              (None, 34, 50, 64)   2048        activation_56[0][0]              \n",
            "__________________________________________________________________________________________________\n",
            "add_26 (Add)                    (None, 34, 50, 64)   0           conv2d_71[0][0]                  \n",
            "                                                                 conv2d_72[0][0]                  \n",
            "__________________________________________________________________________________________________\n",
            "batch_normalization_58 (BatchNo (None, 34, 50, 64)   256         add_26[0][0]                     \n",
            "__________________________________________________________________________________________________\n",
            "activation_58 (Activation)      (None, 34, 50, 64)   0           batch_normalization_58[0][0]     \n",
            "__________________________________________________________________________________________________\n",
            "conv2d_73 (Conv2D)              (None, 34, 50, 64)   36864       activation_58[0][0]              \n",
            "__________________________________________________________________________________________________\n",
            "batch_normalization_59 (BatchNo (None, 34, 50, 64)   256         conv2d_73[0][0]                  \n",
            "__________________________________________________________________________________________________\n",
            "activation_59 (Activation)      (None, 34, 50, 64)   0           batch_normalization_59[0][0]     \n",
            "__________________________________________________________________________________________________\n",
            "conv2d_74 (Conv2D)              (None, 34, 50, 64)   36864       activation_59[0][0]              \n",
            "__________________________________________________________________________________________________\n",
            "add_27 (Add)                    (None, 34, 50, 64)   0           add_26[0][0]                     \n",
            "                                                                 conv2d_74[0][0]                  \n",
            "__________________________________________________________________________________________________\n",
            "batch_normalization_60 (BatchNo (None, 34, 50, 64)   256         add_27[0][0]                     \n",
            "__________________________________________________________________________________________________\n",
            "activation_60 (Activation)      (None, 34, 50, 64)   0           batch_normalization_60[0][0]     \n",
            "__________________________________________________________________________________________________\n",
            "conv2d_75 (Conv2D)              (None, 17, 25, 128)  73728       activation_60[0][0]              \n",
            "__________________________________________________________________________________________________\n",
            "batch_normalization_61 (BatchNo (None, 17, 25, 128)  512         conv2d_75[0][0]                  \n",
            "__________________________________________________________________________________________________\n",
            "activation_61 (Activation)      (None, 17, 25, 128)  0           batch_normalization_61[0][0]     \n",
            "__________________________________________________________________________________________________\n",
            "conv2d_76 (Conv2D)              (None, 17, 25, 128)  147456      activation_61[0][0]              \n",
            "__________________________________________________________________________________________________\n",
            "conv2d_77 (Conv2D)              (None, 17, 25, 128)  8192        activation_60[0][0]              \n",
            "__________________________________________________________________________________________________\n",
            "add_28 (Add)                    (None, 17, 25, 128)  0           conv2d_76[0][0]                  \n",
            "                                                                 conv2d_77[0][0]                  \n",
            "__________________________________________________________________________________________________\n",
            "batch_normalization_62 (BatchNo (None, 17, 25, 128)  512         add_28[0][0]                     \n",
            "__________________________________________________________________________________________________\n",
            "activation_62 (Activation)      (None, 17, 25, 128)  0           batch_normalization_62[0][0]     \n",
            "__________________________________________________________________________________________________\n",
            "conv2d_78 (Conv2D)              (None, 17, 25, 128)  147456      activation_62[0][0]              \n",
            "__________________________________________________________________________________________________\n",
            "batch_normalization_63 (BatchNo (None, 17, 25, 128)  512         conv2d_78[0][0]                  \n",
            "__________________________________________________________________________________________________\n",
            "activation_63 (Activation)      (None, 17, 25, 128)  0           batch_normalization_63[0][0]     \n",
            "__________________________________________________________________________________________________\n",
            "conv2d_79 (Conv2D)              (None, 17, 25, 128)  147456      activation_63[0][0]              \n",
            "__________________________________________________________________________________________________\n",
            "add_29 (Add)                    (None, 17, 25, 128)  0           add_28[0][0]                     \n",
            "                                                                 conv2d_79[0][0]                  \n",
            "__________________________________________________________________________________________________\n",
            "batch_normalization_64 (BatchNo (None, 17, 25, 128)  512         add_29[0][0]                     \n",
            "__________________________________________________________________________________________________\n",
            "activation_64 (Activation)      (None, 17, 25, 128)  0           batch_normalization_64[0][0]     \n",
            "__________________________________________________________________________________________________\n",
            "average_pooling2d_4 (AveragePoo (None, 2, 3, 128)    0           activation_64[0][0]              \n",
            "__________________________________________________________________________________________________\n",
            "flatten_4 (Flatten)             (None, 768)          0           average_pooling2d_4[0][0]        \n",
            "__________________________________________________________________________________________________\n",
            "dense_4 (Dense)                 (None, 4)            3076        flatten_4[0][0]                  \n",
            "==================================================================================================\n",
            "Total params: 694,996\n",
            "Trainable params: 693,172\n",
            "Non-trainable params: 1,824\n",
            "__________________________________________________________________________________________________\n"
          ],
          "name": "stdout"
        }
      ]
    },
    {
      "cell_type": "code",
      "metadata": {
        "id": "AJqH742XcPQv",
        "colab_type": "code",
        "colab": {}
      },
      "source": [
        "from sklearn.model_selection import train_test_split\n",
        "import gzip\n",
        "import pickle\n",
        "\n",
        "import numpy as np"
      ],
      "execution_count": 0,
      "outputs": []
    },
    {
      "cell_type": "code",
      "metadata": {
        "id": "fNBI_SkvuzgK",
        "colab_type": "code",
        "colab": {}
      },
      "source": [
        "def read_data():\n",
        "    with open(\"data.pz\", 'rb') as file_:\n",
        "        with gzip.GzipFile(fileobj=file_) as gzf:\n",
        "            data = pickle.load(gzf, encoding='latin1', fix_imports=True)\n",
        "    return data\n",
        "data = read_data()\n"
      ],
      "execution_count": 0,
      "outputs": []
    },
    {
      "cell_type": "code",
      "metadata": {
        "id": "4euxwMe2jIoX",
        "colab_type": "code",
        "outputId": "8fee32f5-c63d-488d-be8b-7718c5560a48",
        "colab": {
          "base_uri": "https://localhost:8080/",
          "height": 34
        }
      },
      "source": [
        "new_data_X = []\n",
        "Y_data = []\n",
        "for row in data:\n",
        "    new_data_X.append(row['crop'])\n",
        "    Y_data.append(row['label'])\n",
        "new_data_X = np.array(new_data_X)\n",
        "new_data_X.shape"
      ],
      "execution_count": 56,
      "outputs": [
        {
          "output_type": "execute_result",
          "data": {
            "text/plain": [
              "(5722, 68, 100)"
            ]
          },
          "metadata": {
            "tags": []
          },
          "execution_count": 56
        }
      ]
    },
    {
      "cell_type": "code",
      "metadata": {
        "id": "TNBsNVDNu6Ku",
        "colab_type": "code",
        "outputId": "66cccc6a-10ab-4b8d-b54e-183cab7007d1",
        "colab": {
          "base_uri": "https://localhost:8080/",
          "height": 34
        }
      },
      "source": [
        "X = new_data_X.astype('float32')\n",
        "X[0].shape"
      ],
      "execution_count": 57,
      "outputs": [
        {
          "output_type": "execute_result",
          "data": {
            "text/plain": [
              "(68, 100)"
            ]
          },
          "metadata": {
            "tags": []
          },
          "execution_count": 57
        }
      ]
    },
    {
      "cell_type": "code",
      "metadata": {
        "id": "Rv-A3B72JXDE",
        "colab_type": "code",
        "outputId": "9567db07-ba09-460a-df53-dad3036927d8",
        "colab": {
          "base_uri": "https://localhost:8080/",
          "height": 34
        }
      },
      "source": [
        "X = list(map(augment_cifar, X))\n",
        "X = np.array(X)\n",
        "X.shape"
      ],
      "execution_count": 9,
      "outputs": [
        {
          "output_type": "execute_result",
          "data": {
            "text/plain": [
              "(5722, 32, 32)"
            ]
          },
          "metadata": {
            "tags": []
          },
          "execution_count": 9
        }
      ]
    },
    {
      "cell_type": "code",
      "metadata": {
        "id": "uqf-dZOrvC0e",
        "colab_type": "code",
        "colab": {}
      },
      "source": [
        "img_rows, img_cols = X[0].shape\n",
        "\n",
        "# transform data set\n",
        "if K.image_data_format() == 'channels_first':\n",
        "    X = X.reshape(X.shape[0], 1, img_rows, img_cols)\n",
        "    input_shape = (1, img_rows, img_cols)\n",
        "else:\n",
        "    X = X.reshape(X.shape[0], img_rows, img_cols, 1)\n",
        "    input_shape = (img_rows, img_cols, 1)"
      ],
      "execution_count": 0,
      "outputs": []
    },
    {
      "cell_type": "code",
      "metadata": {
        "id": "I7Z7UDOByArq",
        "colab_type": "code",
        "outputId": "41ca23b5-cb34-474e-feb2-4d2f48b5788c",
        "colab": {
          "base_uri": "https://localhost:8080/",
          "height": 34
        }
      },
      "source": [
        "X.shape\n"
      ],
      "execution_count": 59,
      "outputs": [
        {
          "output_type": "execute_result",
          "data": {
            "text/plain": [
              "(5722, 68, 100, 1)"
            ]
          },
          "metadata": {
            "tags": []
          },
          "execution_count": 59
        }
      ]
    },
    {
      "cell_type": "code",
      "metadata": {
        "id": "2eEHVf2Bu9xt",
        "colab_type": "code",
        "colab": {}
      },
      "source": [
        "import pandas as pd\n",
        "import numpy as np\n",
        "from sklearn.preprocessing import LabelEncoder\n",
        "\n",
        "labelencoder = LabelEncoder()\n",
        "y_df = pd.DataFrame(Y_data, columns=['Label'])\n",
        "y_df['Encoded'] = labelencoder.fit_transform(y_df['Label'])"
      ],
      "execution_count": 0,
      "outputs": []
    },
    {
      "cell_type": "code",
      "metadata": {
        "id": "56hwq9R2jruF",
        "colab_type": "code",
        "outputId": "9cb56fb6-6469-4f1e-a25c-66d8ab52c362",
        "colab": {
          "base_uri": "https://localhost:8080/",
          "height": 102
        }
      },
      "source": [
        "y_df['Label'].value_counts()"
      ],
      "execution_count": 61,
      "outputs": [
        {
          "output_type": "execute_result",
          "data": {
            "text/plain": [
              "open             1500\n",
              "closed           1500\n",
              "partiallyOpen    1376\n",
              "notVisible       1346\n",
              "Name: Label, dtype: int64"
            ]
          },
          "metadata": {
            "tags": []
          },
          "execution_count": 61
        }
      ]
    },
    {
      "cell_type": "code",
      "metadata": {
        "id": "WxAYuiEzj4Bp",
        "colab_type": "code",
        "outputId": "2d97f91e-f7af-4f80-d896-ee052d4785a0",
        "colab": {
          "base_uri": "https://localhost:8080/",
          "height": 102
        }
      },
      "source": [
        "y_df['Encoded'].value_counts()\n"
      ],
      "execution_count": 62,
      "outputs": [
        {
          "output_type": "execute_result",
          "data": {
            "text/plain": [
              "2    1500\n",
              "0    1500\n",
              "3    1376\n",
              "1    1346\n",
              "Name: Encoded, dtype: int64"
            ]
          },
          "metadata": {
            "tags": []
          },
          "execution_count": 62
        }
      ]
    },
    {
      "cell_type": "code",
      "metadata": {
        "id": "wdkpb2Jkqu6t",
        "colab_type": "code",
        "colab": {}
      },
      "source": [
        "from tensorflow.keras.utils import to_categorical\n",
        "\n",
        "y_cat = to_categorical(y_df['Encoded'])"
      ],
      "execution_count": 0,
      "outputs": []
    },
    {
      "cell_type": "code",
      "metadata": {
        "id": "rghSgp3NvhhV",
        "colab_type": "code",
        "colab": {}
      },
      "source": [
        "from tensorflow.keras.optimizers import SGD\n",
        "\n",
        "EPOCHS = 200\n",
        "BS = 128"
      ],
      "execution_count": 0,
      "outputs": []
    },
    {
      "cell_type": "code",
      "metadata": {
        "id": "PUHIVZnNwLL0",
        "colab_type": "code",
        "colab": {}
      },
      "source": [
        "sgd = SGD(lr=0.1, momentum=0.9)"
      ],
      "execution_count": 0,
      "outputs": []
    },
    {
      "cell_type": "code",
      "metadata": {
        "id": "yBnqXaiNwHGl",
        "colab_type": "code",
        "outputId": "2156b483-358b-4833-de40-8572fcfc3333",
        "colab": {
          "base_uri": "https://localhost:8080/",
          "height": 34
        }
      },
      "source": [
        "wrn_16_2.compile(loss=\"categorical_crossentropy\", optimizer=sgd, metrics=[\"acc\"])\n",
        "print(\"Finished compiling\")\n"
      ],
      "execution_count": 66,
      "outputs": [
        {
          "output_type": "stream",
          "text": [
            "Finished compiling\n"
          ],
          "name": "stdout"
        }
      ]
    },
    {
      "cell_type": "code",
      "metadata": {
        "id": "4HA8PdUYwhsH",
        "colab_type": "code",
        "colab": {}
      },
      "source": [
        "from tensorflow.keras.utils import to_categorical\n",
        "from tensorflow.keras.callbacks import Callback, LearningRateScheduler, EarlyStopping\n"
      ],
      "execution_count": 0,
      "outputs": []
    },
    {
      "cell_type": "code",
      "metadata": {
        "id": "88yOqhbSwjPa",
        "colab_type": "code",
        "colab": {}
      },
      "source": [
        "def lr_sch(epoch):\n",
        "    if epoch < 60:\n",
        "        return 0.1\n",
        "    elif epoch < 120:\n",
        "        return 0.02\n",
        "    elif epoch < 160:\n",
        "        return 0.004\n",
        "    else:\n",
        "        return 0.0008\n",
        "\n",
        "# Learning rate scheduler callback\n",
        "lr_scheduler = LearningRateScheduler(lr_sch)"
      ],
      "execution_count": 0,
      "outputs": []
    },
    {
      "cell_type": "code",
      "metadata": {
        "id": "TbpiWMEgRpWa",
        "colab_type": "code",
        "colab": {}
      },
      "source": [
        "import tensorflow\n",
        "generator = tensorflow.keras.preprocessing.image.ImageDataGenerator(rotation_range=10,\n",
        "                               width_shift_range=5./32,\n",
        "                               height_shift_range=5./32,)"
      ],
      "execution_count": 0,
      "outputs": []
    },
    {
      "cell_type": "code",
      "metadata": {
        "id": "wxj3cWeUR1VA",
        "colab_type": "code",
        "outputId": "069da484-a32c-4415-fa35-5edb1401527f",
        "colab": {
          "base_uri": "https://localhost:8080/",
          "height": 1000
        }
      },
      "source": [
        "from sklearn.model_selection import KFold\n",
        "cv = KFold(n_splits=2, random_state=42, shuffle=False)\n",
        "hist_list = []\n",
        "train_set= []\n",
        "test_set = []\n",
        "for train_index, test_index in cv.split(X):\n",
        "    print(\"Train Index: \", train_index, \"\\n\")\n",
        "    print(\"Test Index: \", test_index)\n",
        "    train_set.append(train_index)\n",
        "    test_set.append(test_index)\n",
        "    X_train, X_test, y_train, y_test = X[train_index], X[test_index], y_cat[train_index], y_cat[test_index]\n",
        "    hist = wrn16_2.fit_generator(generator.flow(X_train, y_train, batch_size=BS), steps_per_epoch=len(X_train) // BS, epochs=EPOCHS,\n",
        "                   callbacks=[lr_scheduler],\n",
        "                   validation_data=(X_test, y_test),\n",
        "                   validation_steps=X_test.shape[0] // BS,)\n",
        "    hist_list.append(hist)"
      ],
      "execution_count": 0,
      "outputs": [
        {
          "output_type": "stream",
          "text": [
            "Train Index:  [2861 2862 2863 ... 5719 5720 5721] \n",
            "\n",
            "Test Index:  [   0    1    2 ... 2858 2859 2860]\n",
            "WARNING:tensorflow:From <ipython-input-69-ba5a3465a143>:15: Model.fit_generator (from tensorflow.python.keras.engine.training) is deprecated and will be removed in a future version.\n",
            "Instructions for updating:\n",
            "Please use Model.fit, which supports generators.\n",
            "Epoch 1/200\n",
            "22/22 [==============================] - 9s 401ms/step - loss: 2.4788 - acc: 0.3132 - val_loss: 2.7075 - val_acc: 0.2478 - lr: 0.1000\n",
            "Epoch 2/200\n",
            "22/22 [==============================] - 7s 302ms/step - loss: 2.3858 - acc: 0.3465 - val_loss: 2.3950 - val_acc: 0.3387 - lr: 0.1000\n",
            "Epoch 3/200\n",
            "22/22 [==============================] - 7s 303ms/step - loss: 2.3268 - acc: 0.3417 - val_loss: 2.3503 - val_acc: 0.3443 - lr: 0.1000\n",
            "Epoch 4/200\n",
            "22/22 [==============================] - 7s 303ms/step - loss: 2.2811 - acc: 0.3597 - val_loss: 2.2910 - val_acc: 0.3502 - lr: 0.1000\n",
            "Epoch 5/200\n",
            "22/22 [==============================] - 7s 304ms/step - loss: 2.2260 - acc: 0.3659 - val_loss: 2.2878 - val_acc: 0.3279 - lr: 0.1000\n",
            "Epoch 6/200\n",
            "22/22 [==============================] - 7s 302ms/step - loss: 2.2028 - acc: 0.3674 - val_loss: 2.1918 - val_acc: 0.3656 - lr: 0.1000\n",
            "Epoch 7/200\n",
            "22/22 [==============================] - 7s 303ms/step - loss: 2.1469 - acc: 0.3659 - val_loss: 2.1597 - val_acc: 0.3810 - lr: 0.1000\n",
            "Epoch 8/200\n",
            "22/22 [==============================] - 7s 304ms/step - loss: 2.0955 - acc: 0.3816 - val_loss: 2.1292 - val_acc: 0.3548 - lr: 0.1000\n",
            "Epoch 9/200\n",
            "22/22 [==============================] - 7s 302ms/step - loss: 2.0567 - acc: 0.3955 - val_loss: 2.1040 - val_acc: 0.3516 - lr: 0.1000\n",
            "Epoch 10/200\n",
            "22/22 [==============================] - 7s 303ms/step - loss: 2.0275 - acc: 0.3721 - val_loss: 2.0683 - val_acc: 0.3467 - lr: 0.1000\n",
            "Epoch 11/200\n",
            "22/22 [==============================] - 7s 303ms/step - loss: 1.9764 - acc: 0.4036 - val_loss: 2.0801 - val_acc: 0.3457 - lr: 0.1000\n",
            "Epoch 12/200\n",
            "22/22 [==============================] - 7s 303ms/step - loss: 1.9568 - acc: 0.3889 - val_loss: 1.9952 - val_acc: 0.3569 - lr: 0.1000\n",
            "Epoch 13/200\n",
            "22/22 [==============================] - 7s 309ms/step - loss: 1.9258 - acc: 0.3970 - val_loss: 1.9644 - val_acc: 0.3586 - lr: 0.1000\n",
            "Epoch 14/200\n",
            "22/22 [==============================] - 7s 303ms/step - loss: 1.8951 - acc: 0.3875 - val_loss: 2.0590 - val_acc: 0.3300 - lr: 0.1000\n",
            "Epoch 15/200\n",
            "22/22 [==============================] - 7s 303ms/step - loss: 1.8551 - acc: 0.4047 - val_loss: 1.9879 - val_acc: 0.3418 - lr: 0.1000\n",
            "Epoch 16/200\n",
            "22/22 [==============================] - 7s 302ms/step - loss: 1.8252 - acc: 0.4058 - val_loss: 1.9573 - val_acc: 0.3618 - lr: 0.1000\n",
            "Epoch 17/200\n",
            "22/22 [==============================] - 7s 303ms/step - loss: 1.8071 - acc: 0.4043 - val_loss: 1.9235 - val_acc: 0.3681 - lr: 0.1000\n",
            "Epoch 18/200\n",
            "22/22 [==============================] - 7s 302ms/step - loss: 1.7836 - acc: 0.4036 - val_loss: 1.8828 - val_acc: 0.3740 - lr: 0.1000\n",
            "Epoch 19/200\n",
            "22/22 [==============================] - 7s 304ms/step - loss: 1.7541 - acc: 0.4179 - val_loss: 1.8604 - val_acc: 0.3667 - lr: 0.1000\n",
            "Epoch 20/200\n",
            "22/22 [==============================] - 7s 302ms/step - loss: 1.7301 - acc: 0.4069 - val_loss: 1.9214 - val_acc: 0.3593 - lr: 0.1000\n",
            "Epoch 21/200\n",
            "22/22 [==============================] - 7s 303ms/step - loss: 1.6994 - acc: 0.4204 - val_loss: 1.8401 - val_acc: 0.3726 - lr: 0.1000\n",
            "Epoch 22/200\n",
            "22/22 [==============================] - 7s 302ms/step - loss: 1.6771 - acc: 0.4135 - val_loss: 1.9544 - val_acc: 0.3460 - lr: 0.1000\n",
            "Epoch 23/200\n",
            "22/22 [==============================] - 7s 303ms/step - loss: 1.6564 - acc: 0.4182 - val_loss: 1.9034 - val_acc: 0.3537 - lr: 0.1000\n",
            "Epoch 24/200\n",
            "22/22 [==============================] - 7s 303ms/step - loss: 1.6433 - acc: 0.4135 - val_loss: 1.8535 - val_acc: 0.3481 - lr: 0.1000\n",
            "Epoch 25/200\n",
            "22/22 [==============================] - 7s 303ms/step - loss: 1.6161 - acc: 0.4277 - val_loss: 1.8656 - val_acc: 0.3677 - lr: 0.1000\n",
            "Epoch 26/200\n",
            "22/22 [==============================] - 7s 303ms/step - loss: 1.6032 - acc: 0.4292 - val_loss: 1.8052 - val_acc: 0.3387 - lr: 0.1000\n",
            "Epoch 27/200\n",
            "22/22 [==============================] - 7s 304ms/step - loss: 1.5789 - acc: 0.4318 - val_loss: 1.7920 - val_acc: 0.3432 - lr: 0.1000\n",
            "Epoch 28/200\n",
            "22/22 [==============================] - 7s 303ms/step - loss: 1.5710 - acc: 0.4292 - val_loss: 1.7435 - val_acc: 0.3715 - lr: 0.1000\n",
            "Epoch 29/200\n",
            "22/22 [==============================] - 7s 303ms/step - loss: 1.5588 - acc: 0.4321 - val_loss: 1.7470 - val_acc: 0.3544 - lr: 0.1000\n",
            "Epoch 30/200\n",
            "22/22 [==============================] - 7s 303ms/step - loss: 1.5520 - acc: 0.4321 - val_loss: 1.6627 - val_acc: 0.3841 - lr: 0.1000\n",
            "Epoch 31/200\n",
            "22/22 [==============================] - 7s 304ms/step - loss: 1.5244 - acc: 0.4277 - val_loss: 1.7082 - val_acc: 0.3635 - lr: 0.1000\n",
            "Epoch 32/200\n",
            "22/22 [==============================] - 7s 303ms/step - loss: 1.5116 - acc: 0.4175 - val_loss: 1.7169 - val_acc: 0.3593 - lr: 0.1000\n",
            "Epoch 33/200\n",
            "22/22 [==============================] - 7s 302ms/step - loss: 1.4929 - acc: 0.4380 - val_loss: 1.6734 - val_acc: 0.3674 - lr: 0.1000\n",
            "Epoch 34/200\n",
            "22/22 [==============================] - 7s 303ms/step - loss: 1.4728 - acc: 0.4544 - val_loss: 1.6696 - val_acc: 0.3768 - lr: 0.1000\n",
            "Epoch 35/200\n",
            "22/22 [==============================] - 7s 303ms/step - loss: 1.4518 - acc: 0.4541 - val_loss: 1.6507 - val_acc: 0.3604 - lr: 0.1000\n",
            "Epoch 36/200\n",
            "22/22 [==============================] - 7s 303ms/step - loss: 1.4538 - acc: 0.4398 - val_loss: 1.7176 - val_acc: 0.3743 - lr: 0.1000\n",
            "Epoch 37/200\n",
            "22/22 [==============================] - 7s 302ms/step - loss: 1.4501 - acc: 0.4383 - val_loss: 1.7382 - val_acc: 0.3534 - lr: 0.1000\n",
            "Epoch 38/200\n",
            "22/22 [==============================] - 7s 302ms/step - loss: 1.4470 - acc: 0.4416 - val_loss: 1.5945 - val_acc: 0.3688 - lr: 0.1000\n",
            "Epoch 39/200\n",
            "22/22 [==============================] - 7s 311ms/step - loss: 1.4241 - acc: 0.4418 - val_loss: 1.6168 - val_acc: 0.3775 - lr: 0.1000\n",
            "Epoch 40/200\n",
            "22/22 [==============================] - 7s 303ms/step - loss: 1.4051 - acc: 0.4475 - val_loss: 1.6400 - val_acc: 0.3551 - lr: 0.1000\n",
            "Epoch 41/200\n",
            "22/22 [==============================] - 7s 303ms/step - loss: 1.4039 - acc: 0.4523 - val_loss: 1.6152 - val_acc: 0.3799 - lr: 0.1000\n",
            "Epoch 42/200\n",
            "22/22 [==============================] - 7s 303ms/step - loss: 1.3928 - acc: 0.4457 - val_loss: 1.5882 - val_acc: 0.3729 - lr: 0.1000\n",
            "Epoch 43/200\n",
            "22/22 [==============================] - 7s 302ms/step - loss: 1.3902 - acc: 0.4416 - val_loss: 1.5187 - val_acc: 0.3974 - lr: 0.1000\n",
            "Epoch 44/200\n",
            "22/22 [==============================] - 7s 310ms/step - loss: 1.3931 - acc: 0.4340 - val_loss: 1.6927 - val_acc: 0.3681 - lr: 0.1000\n",
            "Epoch 45/200\n",
            "22/22 [==============================] - 7s 303ms/step - loss: 1.3704 - acc: 0.4376 - val_loss: 1.5919 - val_acc: 0.3915 - lr: 0.1000\n",
            "Epoch 46/200\n",
            "22/22 [==============================] - 7s 302ms/step - loss: 1.3659 - acc: 0.4493 - val_loss: 1.6132 - val_acc: 0.3397 - lr: 0.1000\n",
            "Epoch 47/200\n",
            "22/22 [==============================] - 7s 302ms/step - loss: 1.3638 - acc: 0.4490 - val_loss: 1.6146 - val_acc: 0.3614 - lr: 0.1000\n",
            "Epoch 48/200\n",
            "22/22 [==============================] - 7s 302ms/step - loss: 1.3637 - acc: 0.4574 - val_loss: 1.5896 - val_acc: 0.3660 - lr: 0.1000\n",
            "Epoch 49/200\n",
            "22/22 [==============================] - 7s 303ms/step - loss: 1.3428 - acc: 0.4544 - val_loss: 1.6446 - val_acc: 0.3492 - lr: 0.1000\n",
            "Epoch 50/200\n",
            "22/22 [==============================] - 7s 302ms/step - loss: 1.3286 - acc: 0.4530 - val_loss: 1.5885 - val_acc: 0.3614 - lr: 0.1000\n",
            "Epoch 51/200\n",
            "22/22 [==============================] - 7s 303ms/step - loss: 1.3328 - acc: 0.4526 - val_loss: 1.7250 - val_acc: 0.3328 - lr: 0.1000\n",
            "Epoch 52/200\n",
            "22/22 [==============================] - 7s 303ms/step - loss: 1.3193 - acc: 0.4464 - val_loss: 1.5198 - val_acc: 0.3820 - lr: 0.1000\n",
            "Epoch 53/200\n",
            "22/22 [==============================] - 7s 309ms/step - loss: 1.3217 - acc: 0.4705 - val_loss: 1.5211 - val_acc: 0.3764 - lr: 0.1000\n",
            "Epoch 54/200\n",
            "22/22 [==============================] - 7s 302ms/step - loss: 1.3056 - acc: 0.4673 - val_loss: 1.5446 - val_acc: 0.3719 - lr: 0.1000\n",
            "Epoch 55/200\n",
            "22/22 [==============================] - 7s 303ms/step - loss: 1.2866 - acc: 0.4877 - val_loss: 1.6259 - val_acc: 0.3911 - lr: 0.1000\n",
            "Epoch 56/200\n",
            "22/22 [==============================] - 7s 302ms/step - loss: 1.3093 - acc: 0.4614 - val_loss: 1.6239 - val_acc: 0.3796 - lr: 0.1000\n",
            "Epoch 57/200\n",
            "22/22 [==============================] - 7s 302ms/step - loss: 1.2938 - acc: 0.4523 - val_loss: 1.4958 - val_acc: 0.3831 - lr: 0.1000\n",
            "Epoch 58/200\n",
            "22/22 [==============================] - 7s 302ms/step - loss: 1.3157 - acc: 0.4435 - val_loss: 1.5481 - val_acc: 0.3736 - lr: 0.1000\n",
            "Epoch 59/200\n",
            "22/22 [==============================] - 7s 305ms/step - loss: 1.2963 - acc: 0.4555 - val_loss: 1.5020 - val_acc: 0.3967 - lr: 0.1000\n",
            "Epoch 60/200\n",
            "22/22 [==============================] - 7s 303ms/step - loss: 1.2671 - acc: 0.4746 - val_loss: 1.5300 - val_acc: 0.3778 - lr: 0.1000\n",
            "Epoch 61/200\n",
            "22/22 [==============================] - 7s 309ms/step - loss: 1.2939 - acc: 0.4490 - val_loss: 1.4786 - val_acc: 0.3607 - lr: 0.0200\n",
            "Epoch 62/200\n",
            " 4/22 [====>.........................] - ETA: 3s - loss: 1.2764 - acc: 0.4316"
          ],
          "name": "stdout"
        }
      ]
    },
    {
      "cell_type": "code",
      "metadata": {
        "id": "uo-6r-Zvva5l",
        "colab_type": "code",
        "colab": {}
      },
      "source": [
        "X_train, X_test, y_train, y_test = train_test_split(X, y_cat, test_size = 0.33)"
      ],
      "execution_count": 0,
      "outputs": []
    },
    {
      "cell_type": "code",
      "metadata": {
        "id": "JVs_QNHoEKji",
        "colab_type": "code",
        "outputId": "e664586e-ab71-4abd-e70d-bac90c0a0f34",
        "colab": {
          "base_uri": "https://localhost:8080/",
          "height": 1000
        }
      },
      "source": [
        "\n",
        "hist = wrn_16_2.fit_generator(generator.flow(X_train, y_train, batch_size=BS), steps_per_epoch=len(X_train) // BS, epochs=EPOCHS,\n",
        "                   callbacks=[lr_scheduler],\n",
        "                   validation_data=(X_test, y_test),\n",
        "                   validation_steps=X_test.shape[0] // BS,)"
      ],
      "execution_count": 74,
      "outputs": [
        {
          "output_type": "stream",
          "text": [
            "WARNING:tensorflow:From <ipython-input-74-99af60e7ca68>:5: Model.fit_generator (from tensorflow.python.keras.engine.training) is deprecated and will be removed in a future version.\n",
            "Instructions for updating:\n",
            "Please use Model.fit, which supports generators.\n",
            "Epoch 1/200\n",
            "29/29 [==============================] - 5s 165ms/step - loss: 2.4583 - acc: 0.3233 - val_loss: 2.3692 - val_acc: 0.3716 - lr: 0.1000\n",
            "Epoch 2/200\n",
            "29/29 [==============================] - 4s 142ms/step - loss: 2.3242 - acc: 0.3879 - val_loss: 2.2560 - val_acc: 0.4214 - lr: 0.1000\n",
            "Epoch 3/200\n",
            "29/29 [==============================] - 4s 150ms/step - loss: 2.2429 - acc: 0.4016 - val_loss: 2.1912 - val_acc: 0.4383 - lr: 0.1000\n",
            "Epoch 4/200\n",
            "29/29 [==============================] - 4s 143ms/step - loss: 2.1608 - acc: 0.4205 - val_loss: 2.3368 - val_acc: 0.3430 - lr: 0.1000\n",
            "Epoch 5/200\n",
            "29/29 [==============================] - 4s 143ms/step - loss: 2.0869 - acc: 0.4489 - val_loss: 1.9971 - val_acc: 0.5013 - lr: 0.1000\n",
            "Epoch 6/200\n",
            "29/29 [==============================] - 4s 143ms/step - loss: 1.9923 - acc: 0.4964 - val_loss: 1.9794 - val_acc: 0.4844 - lr: 0.1000\n",
            "Epoch 7/200\n",
            "29/29 [==============================] - 4s 143ms/step - loss: 1.8914 - acc: 0.5277 - val_loss: 1.8016 - val_acc: 0.5643 - lr: 0.1000\n",
            "Epoch 8/200\n",
            "29/29 [==============================] - 4s 142ms/step - loss: 1.8197 - acc: 0.5471 - val_loss: 1.7891 - val_acc: 0.5659 - lr: 0.1000\n",
            "Epoch 9/200\n",
            "29/29 [==============================] - 4s 143ms/step - loss: 1.7621 - acc: 0.5576 - val_loss: 1.7366 - val_acc: 0.6098 - lr: 0.1000\n",
            "Epoch 10/200\n",
            "29/29 [==============================] - 4s 142ms/step - loss: 1.6862 - acc: 0.5841 - val_loss: 1.7145 - val_acc: 0.5469 - lr: 0.1000\n",
            "Epoch 11/200\n",
            "29/29 [==============================] - 4s 143ms/step - loss: 1.6205 - acc: 0.5960 - val_loss: 1.7278 - val_acc: 0.5611 - lr: 0.1000\n",
            "Epoch 12/200\n",
            "29/29 [==============================] - 4s 143ms/step - loss: 1.5842 - acc: 0.6065 - val_loss: 1.5020 - val_acc: 0.6220 - lr: 0.1000\n",
            "Epoch 13/200\n",
            "29/29 [==============================] - 4s 143ms/step - loss: 1.4989 - acc: 0.6300 - val_loss: 1.5121 - val_acc: 0.6199 - lr: 0.1000\n",
            "Epoch 14/200\n",
            "29/29 [==============================] - 4s 143ms/step - loss: 1.4372 - acc: 0.6426 - val_loss: 1.3760 - val_acc: 0.6855 - lr: 0.1000\n",
            "Epoch 15/200\n",
            "29/29 [==============================] - 4s 143ms/step - loss: 1.3826 - acc: 0.6653 - val_loss: 1.3847 - val_acc: 0.6691 - lr: 0.1000\n",
            "Epoch 16/200\n",
            "29/29 [==============================] - 4s 143ms/step - loss: 1.3488 - acc: 0.6686 - val_loss: 1.3858 - val_acc: 0.6390 - lr: 0.1000\n",
            "Epoch 17/200\n",
            "29/29 [==============================] - 4s 142ms/step - loss: 1.2847 - acc: 0.6874 - val_loss: 1.3207 - val_acc: 0.6861 - lr: 0.1000\n",
            "Epoch 18/200\n",
            "29/29 [==============================] - 4s 142ms/step - loss: 1.2780 - acc: 0.6758 - val_loss: 1.6652 - val_acc: 0.5839 - lr: 0.1000\n",
            "Epoch 19/200\n",
            "29/29 [==============================] - 4s 142ms/step - loss: 1.2201 - acc: 0.7080 - val_loss: 1.2452 - val_acc: 0.6824 - lr: 0.1000\n",
            "Epoch 20/200\n",
            "29/29 [==============================] - 4s 143ms/step - loss: 1.1572 - acc: 0.7152 - val_loss: 1.1901 - val_acc: 0.6914 - lr: 0.1000\n",
            "Epoch 21/200\n",
            "29/29 [==============================] - 4s 142ms/step - loss: 1.1581 - acc: 0.7166 - val_loss: 1.0915 - val_acc: 0.7395 - lr: 0.1000\n",
            "Epoch 22/200\n",
            "29/29 [==============================] - 4s 142ms/step - loss: 1.1008 - acc: 0.7287 - val_loss: 1.0551 - val_acc: 0.7538 - lr: 0.1000\n",
            "Epoch 23/200\n",
            "29/29 [==============================] - 4s 143ms/step - loss: 1.0991 - acc: 0.7271 - val_loss: 1.1889 - val_acc: 0.6887 - lr: 0.1000\n",
            "Epoch 24/200\n",
            "29/29 [==============================] - 4s 142ms/step - loss: 1.0514 - acc: 0.7409 - val_loss: 1.0854 - val_acc: 0.7290 - lr: 0.1000\n",
            "Epoch 25/200\n",
            "29/29 [==============================] - 4s 142ms/step - loss: 1.0116 - acc: 0.7595 - val_loss: 1.0365 - val_acc: 0.7470 - lr: 0.1000\n",
            "Epoch 26/200\n",
            "29/29 [==============================] - 4s 142ms/step - loss: 1.0180 - acc: 0.7436 - val_loss: 1.0538 - val_acc: 0.7316 - lr: 0.1000\n",
            "Epoch 27/200\n",
            "29/29 [==============================] - 4s 142ms/step - loss: 0.9753 - acc: 0.7638 - val_loss: 1.1174 - val_acc: 0.7073 - lr: 0.1000\n",
            "Epoch 28/200\n",
            "29/29 [==============================] - 4s 142ms/step - loss: 0.9644 - acc: 0.7579 - val_loss: 1.0117 - val_acc: 0.7374 - lr: 0.1000\n",
            "Epoch 29/200\n",
            "29/29 [==============================] - 4s 143ms/step - loss: 0.9344 - acc: 0.7733 - val_loss: 1.0166 - val_acc: 0.7358 - lr: 0.1000\n",
            "Epoch 30/200\n",
            "29/29 [==============================] - 4s 143ms/step - loss: 0.8896 - acc: 0.7854 - val_loss: 0.9801 - val_acc: 0.7433 - lr: 0.1000\n",
            "Epoch 31/200\n",
            "29/29 [==============================] - 4s 143ms/step - loss: 0.8868 - acc: 0.7843 - val_loss: 1.0716 - val_acc: 0.7125 - lr: 0.1000\n",
            "Epoch 32/200\n",
            "29/29 [==============================] - 4s 143ms/step - loss: 0.9139 - acc: 0.7606 - val_loss: 0.9254 - val_acc: 0.7538 - lr: 0.1000\n",
            "Epoch 33/200\n",
            "29/29 [==============================] - 4s 142ms/step - loss: 0.8862 - acc: 0.7792 - val_loss: 0.9469 - val_acc: 0.7470 - lr: 0.1000\n",
            "Epoch 34/200\n",
            "29/29 [==============================] - 4s 142ms/step - loss: 0.8286 - acc: 0.7919 - val_loss: 1.0252 - val_acc: 0.7274 - lr: 0.1000\n",
            "Epoch 35/200\n",
            "29/29 [==============================] - 4s 143ms/step - loss: 0.8802 - acc: 0.7692 - val_loss: 0.9116 - val_acc: 0.7565 - lr: 0.1000\n",
            "Epoch 36/200\n",
            "29/29 [==============================] - 4s 143ms/step - loss: 0.7888 - acc: 0.8057 - val_loss: 0.9244 - val_acc: 0.7464 - lr: 0.1000\n",
            "Epoch 37/200\n",
            "29/29 [==============================] - 4s 142ms/step - loss: 0.7904 - acc: 0.8011 - val_loss: 0.9155 - val_acc: 0.7565 - lr: 0.1000\n",
            "Epoch 38/200\n",
            "29/29 [==============================] - 4s 142ms/step - loss: 0.7732 - acc: 0.8059 - val_loss: 0.9433 - val_acc: 0.7570 - lr: 0.1000\n",
            "Epoch 39/200\n",
            "29/29 [==============================] - 4s 142ms/step - loss: 0.7784 - acc: 0.8019 - val_loss: 0.9330 - val_acc: 0.7475 - lr: 0.1000\n",
            "Epoch 40/200\n",
            "29/29 [==============================] - 4s 143ms/step - loss: 0.7653 - acc: 0.8022 - val_loss: 0.8863 - val_acc: 0.7565 - lr: 0.1000\n",
            "Epoch 41/200\n",
            "29/29 [==============================] - 4s 142ms/step - loss: 0.7433 - acc: 0.8167 - val_loss: 1.0075 - val_acc: 0.7178 - lr: 0.1000\n",
            "Epoch 42/200\n",
            "29/29 [==============================] - 4s 143ms/step - loss: 0.7417 - acc: 0.8175 - val_loss: 0.8850 - val_acc: 0.7665 - lr: 0.1000\n",
            "Epoch 43/200\n",
            "29/29 [==============================] - 4s 143ms/step - loss: 0.7094 - acc: 0.8248 - val_loss: 0.8529 - val_acc: 0.7718 - lr: 0.1000\n",
            "Epoch 44/200\n",
            "29/29 [==============================] - 4s 142ms/step - loss: 0.7165 - acc: 0.8194 - val_loss: 0.9708 - val_acc: 0.7480 - lr: 0.1000\n",
            "Epoch 45/200\n",
            "29/29 [==============================] - 4s 142ms/step - loss: 0.7200 - acc: 0.8243 - val_loss: 0.9191 - val_acc: 0.7538 - lr: 0.1000\n",
            "Epoch 46/200\n",
            "29/29 [==============================] - 4s 142ms/step - loss: 0.7111 - acc: 0.8221 - val_loss: 0.9244 - val_acc: 0.7427 - lr: 0.1000\n",
            "Epoch 47/200\n",
            "29/29 [==============================] - 4s 142ms/step - loss: 0.6932 - acc: 0.8305 - val_loss: 0.9530 - val_acc: 0.7650 - lr: 0.1000\n",
            "Epoch 48/200\n",
            "29/29 [==============================] - 4s 142ms/step - loss: 0.7219 - acc: 0.8227 - val_loss: 0.8539 - val_acc: 0.7628 - lr: 0.1000\n",
            "Epoch 49/200\n",
            "29/29 [==============================] - 4s 143ms/step - loss: 0.7246 - acc: 0.8157 - val_loss: 0.9168 - val_acc: 0.7533 - lr: 0.1000\n",
            "Epoch 50/200\n",
            "29/29 [==============================] - 4s 143ms/step - loss: 0.6765 - acc: 0.8354 - val_loss: 0.9098 - val_acc: 0.7623 - lr: 0.1000\n",
            "Epoch 51/200\n",
            "29/29 [==============================] - 4s 142ms/step - loss: 0.6484 - acc: 0.8448 - val_loss: 0.9178 - val_acc: 0.7676 - lr: 0.1000\n",
            "Epoch 52/200\n",
            "29/29 [==============================] - 4s 142ms/step - loss: 0.6655 - acc: 0.8356 - val_loss: 0.8690 - val_acc: 0.7665 - lr: 0.1000\n",
            "Epoch 53/200\n",
            "29/29 [==============================] - 4s 142ms/step - loss: 0.6602 - acc: 0.8378 - val_loss: 0.8895 - val_acc: 0.7623 - lr: 0.1000\n",
            "Epoch 54/200\n",
            "29/29 [==============================] - 4s 142ms/step - loss: 0.6362 - acc: 0.8470 - val_loss: 0.9183 - val_acc: 0.7591 - lr: 0.1000\n",
            "Epoch 55/200\n",
            "29/29 [==============================] - 4s 142ms/step - loss: 0.6386 - acc: 0.8486 - val_loss: 0.9824 - val_acc: 0.7337 - lr: 0.1000\n",
            "Epoch 56/200\n",
            "29/29 [==============================] - 4s 141ms/step - loss: 0.6469 - acc: 0.8459 - val_loss: 1.0596 - val_acc: 0.7073 - lr: 0.1000\n",
            "Epoch 57/200\n",
            "29/29 [==============================] - 4s 142ms/step - loss: 0.7001 - acc: 0.8283 - val_loss: 0.8674 - val_acc: 0.7766 - lr: 0.1000\n",
            "Epoch 58/200\n",
            "29/29 [==============================] - 4s 142ms/step - loss: 0.6797 - acc: 0.8327 - val_loss: 0.8456 - val_acc: 0.7713 - lr: 0.1000\n",
            "Epoch 59/200\n",
            "29/29 [==============================] - 4s 142ms/step - loss: 0.6243 - acc: 0.8613 - val_loss: 0.8133 - val_acc: 0.7988 - lr: 0.1000\n",
            "Epoch 60/200\n",
            "29/29 [==============================] - 4s 142ms/step - loss: 0.6004 - acc: 0.8637 - val_loss: 0.8999 - val_acc: 0.7814 - lr: 0.1000\n",
            "Epoch 61/200\n",
            "29/29 [==============================] - 4s 142ms/step - loss: 0.6439 - acc: 0.8497 - val_loss: 0.7842 - val_acc: 0.7999 - lr: 0.0200\n",
            "Epoch 62/200\n",
            "29/29 [==============================] - 4s 142ms/step - loss: 0.5126 - acc: 0.8985 - val_loss: 0.7764 - val_acc: 0.8195 - lr: 0.0200\n",
            "Epoch 63/200\n",
            "29/29 [==============================] - 4s 141ms/step - loss: 0.4663 - acc: 0.9206 - val_loss: 0.7568 - val_acc: 0.8147 - lr: 0.0200\n",
            "Epoch 64/200\n",
            "29/29 [==============================] - 4s 143ms/step - loss: 0.4350 - acc: 0.9320 - val_loss: 0.7388 - val_acc: 0.8269 - lr: 0.0200\n",
            "Epoch 65/200\n",
            "29/29 [==============================] - 4s 142ms/step - loss: 0.4124 - acc: 0.9352 - val_loss: 0.7632 - val_acc: 0.8237 - lr: 0.0200\n",
            "Epoch 66/200\n",
            "29/29 [==============================] - 4s 141ms/step - loss: 0.4017 - acc: 0.9395 - val_loss: 0.7560 - val_acc: 0.8301 - lr: 0.0200\n",
            "Epoch 67/200\n",
            "29/29 [==============================] - 4s 143ms/step - loss: 0.3724 - acc: 0.9552 - val_loss: 0.7793 - val_acc: 0.8290 - lr: 0.0200\n",
            "Epoch 68/200\n",
            "29/29 [==============================] - 4s 142ms/step - loss: 0.3774 - acc: 0.9468 - val_loss: 0.7793 - val_acc: 0.8258 - lr: 0.0200\n",
            "Epoch 69/200\n",
            "29/29 [==============================] - 4s 142ms/step - loss: 0.3616 - acc: 0.9582 - val_loss: 0.8027 - val_acc: 0.8184 - lr: 0.0200\n",
            "Epoch 70/200\n",
            "29/29 [==============================] - 4s 142ms/step - loss: 0.3527 - acc: 0.9592 - val_loss: 0.7673 - val_acc: 0.8290 - lr: 0.0200\n",
            "Epoch 71/200\n",
            "29/29 [==============================] - 4s 142ms/step - loss: 0.3514 - acc: 0.9536 - val_loss: 0.7648 - val_acc: 0.8327 - lr: 0.0200\n",
            "Epoch 72/200\n",
            "29/29 [==============================] - 4s 141ms/step - loss: 0.3502 - acc: 0.9555 - val_loss: 0.7660 - val_acc: 0.8354 - lr: 0.0200\n",
            "Epoch 73/200\n",
            "29/29 [==============================] - 4s 142ms/step - loss: 0.3517 - acc: 0.9552 - val_loss: 0.8417 - val_acc: 0.8227 - lr: 0.0200\n",
            "Epoch 74/200\n",
            "29/29 [==============================] - 4s 142ms/step - loss: 0.3459 - acc: 0.9568 - val_loss: 0.7895 - val_acc: 0.8221 - lr: 0.0200\n",
            "Epoch 75/200\n",
            "29/29 [==============================] - 4s 142ms/step - loss: 0.3274 - acc: 0.9614 - val_loss: 0.8163 - val_acc: 0.8232 - lr: 0.0200\n",
            "Epoch 76/200\n",
            "29/29 [==============================] - 4s 141ms/step - loss: 0.3242 - acc: 0.9611 - val_loss: 0.8223 - val_acc: 0.8269 - lr: 0.0200\n",
            "Epoch 77/200\n",
            "29/29 [==============================] - 4s 142ms/step - loss: 0.3117 - acc: 0.9676 - val_loss: 0.8132 - val_acc: 0.8274 - lr: 0.0200\n",
            "Epoch 78/200\n",
            "29/29 [==============================] - 4s 142ms/step - loss: 0.3093 - acc: 0.9669 - val_loss: 0.8050 - val_acc: 0.8370 - lr: 0.0200\n",
            "Epoch 79/200\n",
            "29/29 [==============================] - 4s 142ms/step - loss: 0.2981 - acc: 0.9722 - val_loss: 0.8407 - val_acc: 0.8306 - lr: 0.0200\n",
            "Epoch 80/200\n",
            "29/29 [==============================] - 4s 142ms/step - loss: 0.2936 - acc: 0.9725 - val_loss: 0.7781 - val_acc: 0.8380 - lr: 0.0200\n",
            "Epoch 81/200\n",
            "29/29 [==============================] - 4s 142ms/step - loss: 0.2959 - acc: 0.9714 - val_loss: 0.8159 - val_acc: 0.8274 - lr: 0.0200\n",
            "Epoch 82/200\n",
            "29/29 [==============================] - 4s 142ms/step - loss: 0.2977 - acc: 0.9679 - val_loss: 0.8197 - val_acc: 0.8290 - lr: 0.0200\n",
            "Epoch 83/200\n",
            "29/29 [==============================] - 4s 142ms/step - loss: 0.3000 - acc: 0.9690 - val_loss: 0.8131 - val_acc: 0.8385 - lr: 0.0200\n",
            "Epoch 84/200\n",
            "29/29 [==============================] - 4s 142ms/step - loss: 0.2769 - acc: 0.9760 - val_loss: 0.8082 - val_acc: 0.8364 - lr: 0.0200\n",
            "Epoch 85/200\n",
            "29/29 [==============================] - 4s 142ms/step - loss: 0.2680 - acc: 0.9768 - val_loss: 0.8410 - val_acc: 0.8295 - lr: 0.0200\n",
            "Epoch 86/200\n",
            "29/29 [==============================] - 4s 142ms/step - loss: 0.2709 - acc: 0.9771 - val_loss: 0.8307 - val_acc: 0.8295 - lr: 0.0200\n",
            "Epoch 87/200\n",
            "29/29 [==============================] - 4s 142ms/step - loss: 0.2760 - acc: 0.9717 - val_loss: 0.8322 - val_acc: 0.8327 - lr: 0.0200\n",
            "Epoch 88/200\n",
            "29/29 [==============================] - 4s 142ms/step - loss: 0.2847 - acc: 0.9725 - val_loss: 0.8627 - val_acc: 0.8269 - lr: 0.0200\n",
            "Epoch 89/200\n",
            "29/29 [==============================] - 4s 142ms/step - loss: 0.2773 - acc: 0.9752 - val_loss: 0.8034 - val_acc: 0.8370 - lr: 0.0200\n",
            "Epoch 90/200\n",
            "29/29 [==============================] - 4s 142ms/step - loss: 0.2679 - acc: 0.9784 - val_loss: 0.8512 - val_acc: 0.8301 - lr: 0.0200\n",
            "Epoch 91/200\n",
            "29/29 [==============================] - 4s 143ms/step - loss: 0.2648 - acc: 0.9768 - val_loss: 0.8664 - val_acc: 0.8301 - lr: 0.0200\n",
            "Epoch 92/200\n",
            "29/29 [==============================] - 4s 142ms/step - loss: 0.2703 - acc: 0.9723 - val_loss: 0.8846 - val_acc: 0.8258 - lr: 0.0200\n",
            "Epoch 93/200\n",
            "29/29 [==============================] - 4s 142ms/step - loss: 0.2634 - acc: 0.9765 - val_loss: 0.9136 - val_acc: 0.8285 - lr: 0.0200\n",
            "Epoch 94/200\n",
            "29/29 [==============================] - 4s 142ms/step - loss: 0.2579 - acc: 0.9779 - val_loss: 0.8383 - val_acc: 0.8359 - lr: 0.0200\n",
            "Epoch 95/200\n",
            "29/29 [==============================] - 4s 142ms/step - loss: 0.2414 - acc: 0.9825 - val_loss: 0.8558 - val_acc: 0.8348 - lr: 0.0200\n",
            "Epoch 96/200\n",
            "29/29 [==============================] - 4s 142ms/step - loss: 0.2573 - acc: 0.9762 - val_loss: 0.8605 - val_acc: 0.8332 - lr: 0.0200\n",
            "Epoch 97/200\n",
            "29/29 [==============================] - 4s 142ms/step - loss: 0.2671 - acc: 0.9733 - val_loss: 0.8782 - val_acc: 0.8295 - lr: 0.0200\n",
            "Epoch 98/200\n",
            "29/29 [==============================] - 4s 142ms/step - loss: 0.2688 - acc: 0.9709 - val_loss: 0.8555 - val_acc: 0.8343 - lr: 0.0200\n",
            "Epoch 99/200\n",
            "29/29 [==============================] - 4s 142ms/step - loss: 0.2777 - acc: 0.9671 - val_loss: 0.8263 - val_acc: 0.8269 - lr: 0.0200\n",
            "Epoch 100/200\n",
            "29/29 [==============================] - 4s 143ms/step - loss: 0.2634 - acc: 0.9719 - val_loss: 0.8499 - val_acc: 0.8348 - lr: 0.0200\n",
            "Epoch 101/200\n",
            "29/29 [==============================] - 4s 142ms/step - loss: 0.2604 - acc: 0.9722 - val_loss: 0.8443 - val_acc: 0.8322 - lr: 0.0200\n",
            "Epoch 102/200\n",
            "29/29 [==============================] - 4s 142ms/step - loss: 0.2439 - acc: 0.9803 - val_loss: 0.8499 - val_acc: 0.8280 - lr: 0.0200\n",
            "Epoch 103/200\n",
            "29/29 [==============================] - 4s 143ms/step - loss: 0.2323 - acc: 0.9830 - val_loss: 0.8826 - val_acc: 0.8311 - lr: 0.0200\n",
            "Epoch 104/200\n",
            "29/29 [==============================] - 4s 142ms/step - loss: 0.2372 - acc: 0.9816 - val_loss: 0.9028 - val_acc: 0.8295 - lr: 0.0200\n",
            "Epoch 105/200\n",
            "29/29 [==============================] - 4s 143ms/step - loss: 0.2489 - acc: 0.9771 - val_loss: 0.9217 - val_acc: 0.8158 - lr: 0.0200\n",
            "Epoch 106/200\n",
            "29/29 [==============================] - 4s 142ms/step - loss: 0.2406 - acc: 0.9784 - val_loss: 0.9554 - val_acc: 0.8211 - lr: 0.0200\n",
            "Epoch 107/200\n",
            "29/29 [==============================] - 4s 142ms/step - loss: 0.2456 - acc: 0.9779 - val_loss: 0.8998 - val_acc: 0.8158 - lr: 0.0200\n",
            "Epoch 108/200\n",
            "29/29 [==============================] - 4s 142ms/step - loss: 0.2461 - acc: 0.9773 - val_loss: 0.8753 - val_acc: 0.8290 - lr: 0.0200\n",
            "Epoch 109/200\n",
            "29/29 [==============================] - 4s 142ms/step - loss: 0.2450 - acc: 0.9781 - val_loss: 0.8858 - val_acc: 0.8375 - lr: 0.0200\n",
            "Epoch 110/200\n",
            "29/29 [==============================] - 4s 142ms/step - loss: 0.2291 - acc: 0.9814 - val_loss: 0.9060 - val_acc: 0.8253 - lr: 0.0200\n",
            "Epoch 111/200\n",
            "29/29 [==============================] - 4s 143ms/step - loss: 0.2453 - acc: 0.9725 - val_loss: 0.9019 - val_acc: 0.8216 - lr: 0.0200\n",
            "Epoch 112/200\n",
            "29/29 [==============================] - 4s 142ms/step - loss: 0.2454 - acc: 0.9757 - val_loss: 0.8719 - val_acc: 0.8348 - lr: 0.0200\n",
            "Epoch 113/200\n",
            "29/29 [==============================] - 4s 142ms/step - loss: 0.2428 - acc: 0.9762 - val_loss: 0.8157 - val_acc: 0.8327 - lr: 0.0200\n",
            "Epoch 114/200\n",
            "29/29 [==============================] - 4s 142ms/step - loss: 0.2250 - acc: 0.9816 - val_loss: 0.8727 - val_acc: 0.8269 - lr: 0.0200\n",
            "Epoch 115/200\n",
            "29/29 [==============================] - 4s 142ms/step - loss: 0.2300 - acc: 0.9806 - val_loss: 0.8446 - val_acc: 0.8274 - lr: 0.0200\n",
            "Epoch 116/200\n",
            "29/29 [==============================] - 4s 141ms/step - loss: 0.2241 - acc: 0.9819 - val_loss: 0.9036 - val_acc: 0.8269 - lr: 0.0200\n",
            "Epoch 117/200\n",
            "29/29 [==============================] - 4s 142ms/step - loss: 0.2286 - acc: 0.9784 - val_loss: 0.9548 - val_acc: 0.8290 - lr: 0.0200\n",
            "Epoch 118/200\n",
            "29/29 [==============================] - 4s 142ms/step - loss: 0.2279 - acc: 0.9787 - val_loss: 0.8604 - val_acc: 0.8301 - lr: 0.0200\n",
            "Epoch 119/200\n",
            "29/29 [==============================] - 4s 142ms/step - loss: 0.2262 - acc: 0.9816 - val_loss: 0.9540 - val_acc: 0.8142 - lr: 0.0200\n",
            "Epoch 120/200\n",
            "29/29 [==============================] - 4s 142ms/step - loss: 0.2367 - acc: 0.9773 - val_loss: 1.0116 - val_acc: 0.8242 - lr: 0.0200\n",
            "Epoch 121/200\n",
            "29/29 [==============================] - 4s 142ms/step - loss: 0.2355 - acc: 0.9779 - val_loss: 0.8868 - val_acc: 0.8306 - lr: 0.0040\n",
            "Epoch 122/200\n",
            "29/29 [==============================] - 4s 142ms/step - loss: 0.2035 - acc: 0.9895 - val_loss: 0.8483 - val_acc: 0.8396 - lr: 0.0040\n",
            "Epoch 123/200\n",
            "29/29 [==============================] - 4s 142ms/step - loss: 0.1935 - acc: 0.9933 - val_loss: 0.8939 - val_acc: 0.8332 - lr: 0.0040\n",
            "Epoch 124/200\n",
            "29/29 [==============================] - 4s 142ms/step - loss: 0.1834 - acc: 0.9973 - val_loss: 0.8655 - val_acc: 0.8348 - lr: 0.0040\n",
            "Epoch 125/200\n",
            "29/29 [==============================] - 4s 142ms/step - loss: 0.1815 - acc: 0.9973 - val_loss: 0.8358 - val_acc: 0.8412 - lr: 0.0040\n",
            "Epoch 126/200\n",
            "29/29 [==============================] - 4s 142ms/step - loss: 0.1811 - acc: 0.9970 - val_loss: 0.8644 - val_acc: 0.8412 - lr: 0.0040\n",
            "Epoch 127/200\n",
            "29/29 [==============================] - 4s 142ms/step - loss: 0.1810 - acc: 0.9970 - val_loss: 0.8528 - val_acc: 0.8412 - lr: 0.0040\n",
            "Epoch 128/200\n",
            "29/29 [==============================] - 4s 142ms/step - loss: 0.1815 - acc: 0.9962 - val_loss: 0.8234 - val_acc: 0.8401 - lr: 0.0040\n",
            "Epoch 129/200\n",
            "29/29 [==============================] - 4s 142ms/step - loss: 0.1796 - acc: 0.9957 - val_loss: 0.8412 - val_acc: 0.8417 - lr: 0.0040\n",
            "Epoch 130/200\n",
            "29/29 [==============================] - 4s 143ms/step - loss: 0.1768 - acc: 0.9987 - val_loss: 0.8863 - val_acc: 0.8364 - lr: 0.0040\n",
            "Epoch 131/200\n",
            "29/29 [==============================] - 4s 142ms/step - loss: 0.1758 - acc: 0.9981 - val_loss: 0.8426 - val_acc: 0.8417 - lr: 0.0040\n",
            "Epoch 132/200\n",
            "29/29 [==============================] - 4s 142ms/step - loss: 0.1760 - acc: 0.9973 - val_loss: 0.8671 - val_acc: 0.8375 - lr: 0.0040\n",
            "Epoch 133/200\n",
            "29/29 [==============================] - 4s 142ms/step - loss: 0.1751 - acc: 0.9984 - val_loss: 0.8746 - val_acc: 0.8407 - lr: 0.0040\n",
            "Epoch 134/200\n",
            "29/29 [==============================] - 4s 142ms/step - loss: 0.1731 - acc: 0.9978 - val_loss: 0.8599 - val_acc: 0.8375 - lr: 0.0040\n",
            "Epoch 135/200\n",
            "29/29 [==============================] - 4s 142ms/step - loss: 0.1723 - acc: 0.9984 - val_loss: 0.8524 - val_acc: 0.8412 - lr: 0.0040\n",
            "Epoch 136/200\n",
            "29/29 [==============================] - 4s 142ms/step - loss: 0.1711 - acc: 0.9992 - val_loss: 0.8586 - val_acc: 0.8370 - lr: 0.0040\n",
            "Epoch 137/200\n",
            "29/29 [==============================] - 4s 142ms/step - loss: 0.1700 - acc: 0.9987 - val_loss: 0.8416 - val_acc: 0.8417 - lr: 0.0040\n",
            "Epoch 138/200\n",
            "29/29 [==============================] - 4s 143ms/step - loss: 0.1703 - acc: 0.9981 - val_loss: 0.8438 - val_acc: 0.8428 - lr: 0.0040\n",
            "Epoch 139/200\n",
            "29/29 [==============================] - 4s 142ms/step - loss: 0.1711 - acc: 0.9992 - val_loss: 0.9540 - val_acc: 0.8327 - lr: 0.0040\n",
            "Epoch 140/200\n",
            "29/29 [==============================] - 4s 142ms/step - loss: 0.1691 - acc: 0.9992 - val_loss: 0.8586 - val_acc: 0.8370 - lr: 0.0040\n",
            "Epoch 141/200\n",
            "29/29 [==============================] - 4s 142ms/step - loss: 0.1683 - acc: 0.9987 - val_loss: 0.8501 - val_acc: 0.8375 - lr: 0.0040\n",
            "Epoch 142/200\n",
            "29/29 [==============================] - 4s 142ms/step - loss: 0.1674 - acc: 0.9995 - val_loss: 0.8923 - val_acc: 0.8380 - lr: 0.0040\n",
            "Epoch 143/200\n",
            "29/29 [==============================] - 4s 142ms/step - loss: 0.1680 - acc: 0.9987 - val_loss: 0.9081 - val_acc: 0.8412 - lr: 0.0040\n",
            "Epoch 144/200\n",
            "29/29 [==============================] - 4s 142ms/step - loss: 0.1679 - acc: 0.9978 - val_loss: 0.8757 - val_acc: 0.8396 - lr: 0.0040\n",
            "Epoch 145/200\n",
            "29/29 [==============================] - 4s 142ms/step - loss: 0.1674 - acc: 0.9987 - val_loss: 0.8339 - val_acc: 0.8422 - lr: 0.0040\n",
            "Epoch 146/200\n",
            "29/29 [==============================] - 4s 143ms/step - loss: 0.1663 - acc: 0.9981 - val_loss: 0.8663 - val_acc: 0.8401 - lr: 0.0040\n",
            "Epoch 147/200\n",
            "29/29 [==============================] - 4s 142ms/step - loss: 0.1666 - acc: 0.9992 - val_loss: 0.8426 - val_acc: 0.8428 - lr: 0.0040\n",
            "Epoch 148/200\n",
            "29/29 [==============================] - 4s 142ms/step - loss: 0.1658 - acc: 0.9989 - val_loss: 0.8604 - val_acc: 0.8391 - lr: 0.0040\n",
            "Epoch 149/200\n",
            "29/29 [==============================] - 4s 142ms/step - loss: 0.1675 - acc: 0.9981 - val_loss: 0.8633 - val_acc: 0.8391 - lr: 0.0040\n",
            "Epoch 150/200\n",
            "29/29 [==============================] - 4s 142ms/step - loss: 0.1640 - acc: 0.9989 - val_loss: 0.8390 - val_acc: 0.8428 - lr: 0.0040\n",
            "Epoch 151/200\n",
            "29/29 [==============================] - 4s 142ms/step - loss: 0.1649 - acc: 0.9992 - val_loss: 0.9019 - val_acc: 0.8348 - lr: 0.0040\n",
            "Epoch 152/200\n",
            "29/29 [==============================] - 4s 142ms/step - loss: 0.1648 - acc: 0.9984 - val_loss: 0.8650 - val_acc: 0.8385 - lr: 0.0040\n",
            "Epoch 153/200\n",
            "29/29 [==============================] - 4s 142ms/step - loss: 0.1641 - acc: 0.9989 - val_loss: 0.8661 - val_acc: 0.8422 - lr: 0.0040\n",
            "Epoch 154/200\n",
            "29/29 [==============================] - 4s 142ms/step - loss: 0.1646 - acc: 0.9981 - val_loss: 0.8560 - val_acc: 0.8428 - lr: 0.0040\n",
            "Epoch 155/200\n",
            "29/29 [==============================] - 4s 142ms/step - loss: 0.1613 - acc: 0.9995 - val_loss: 0.8564 - val_acc: 0.8417 - lr: 0.0040\n",
            "Epoch 156/200\n",
            "29/29 [==============================] - 4s 142ms/step - loss: 0.1620 - acc: 0.9987 - val_loss: 0.8594 - val_acc: 0.8470 - lr: 0.0040\n",
            "Epoch 157/200\n",
            "29/29 [==============================] - 4s 143ms/step - loss: 0.1603 - acc: 0.9992 - val_loss: 0.8543 - val_acc: 0.8428 - lr: 0.0040\n",
            "Epoch 158/200\n",
            "29/29 [==============================] - 4s 142ms/step - loss: 0.1611 - acc: 0.9984 - val_loss: 0.8877 - val_acc: 0.8391 - lr: 0.0040\n",
            "Epoch 159/200\n",
            "29/29 [==============================] - 4s 142ms/step - loss: 0.1602 - acc: 0.9989 - val_loss: 0.8624 - val_acc: 0.8364 - lr: 0.0040\n",
            "Epoch 160/200\n",
            "29/29 [==============================] - 4s 142ms/step - loss: 0.1593 - acc: 0.9992 - val_loss: 0.8629 - val_acc: 0.8428 - lr: 0.0040\n",
            "Epoch 161/200\n",
            "29/29 [==============================] - 4s 142ms/step - loss: 0.1605 - acc: 0.9987 - val_loss: 0.8717 - val_acc: 0.8412 - lr: 8.0000e-04\n",
            "Epoch 162/200\n",
            "29/29 [==============================] - 4s 141ms/step - loss: 0.1588 - acc: 0.9992 - val_loss: 0.8668 - val_acc: 0.8417 - lr: 8.0000e-04\n",
            "Epoch 163/200\n",
            "29/29 [==============================] - 4s 142ms/step - loss: 0.1596 - acc: 0.9992 - val_loss: 0.8819 - val_acc: 0.8433 - lr: 8.0000e-04\n",
            "Epoch 164/200\n",
            "29/29 [==============================] - 4s 142ms/step - loss: 0.1599 - acc: 0.9992 - val_loss: 0.8631 - val_acc: 0.8433 - lr: 8.0000e-04\n",
            "Epoch 165/200\n",
            "29/29 [==============================] - 4s 142ms/step - loss: 0.1580 - acc: 0.9997 - val_loss: 0.8982 - val_acc: 0.8454 - lr: 8.0000e-04\n",
            "Epoch 166/200\n",
            "29/29 [==============================] - 4s 143ms/step - loss: 0.1599 - acc: 0.9978 - val_loss: 0.8381 - val_acc: 0.8428 - lr: 8.0000e-04\n",
            "Epoch 167/200\n",
            "29/29 [==============================] - 4s 142ms/step - loss: 0.1595 - acc: 0.9992 - val_loss: 0.8631 - val_acc: 0.8417 - lr: 8.0000e-04\n",
            "Epoch 168/200\n",
            "29/29 [==============================] - 4s 142ms/step - loss: 0.1578 - acc: 0.9995 - val_loss: 0.8768 - val_acc: 0.8417 - lr: 8.0000e-04\n",
            "Epoch 169/200\n",
            "29/29 [==============================] - 4s 142ms/step - loss: 0.1584 - acc: 0.9989 - val_loss: 0.8421 - val_acc: 0.8460 - lr: 8.0000e-04\n",
            "Epoch 170/200\n",
            "29/29 [==============================] - 4s 141ms/step - loss: 0.1590 - acc: 0.9987 - val_loss: 0.8518 - val_acc: 0.8449 - lr: 8.0000e-04\n",
            "Epoch 171/200\n",
            "29/29 [==============================] - 4s 142ms/step - loss: 0.1592 - acc: 0.9992 - val_loss: 0.8428 - val_acc: 0.8444 - lr: 8.0000e-04\n",
            "Epoch 172/200\n",
            "29/29 [==============================] - 4s 142ms/step - loss: 0.1607 - acc: 0.9984 - val_loss: 0.8497 - val_acc: 0.8481 - lr: 8.0000e-04\n",
            "Epoch 173/200\n",
            "29/29 [==============================] - 4s 143ms/step - loss: 0.1591 - acc: 0.9992 - val_loss: 0.8468 - val_acc: 0.8433 - lr: 8.0000e-04\n",
            "Epoch 174/200\n",
            "29/29 [==============================] - 4s 143ms/step - loss: 0.1573 - acc: 0.9995 - val_loss: 0.8412 - val_acc: 0.8481 - lr: 8.0000e-04\n",
            "Epoch 175/200\n",
            "29/29 [==============================] - 4s 142ms/step - loss: 0.1591 - acc: 0.9992 - val_loss: 0.8727 - val_acc: 0.8422 - lr: 8.0000e-04\n",
            "Epoch 176/200\n",
            "29/29 [==============================] - 4s 142ms/step - loss: 0.1565 - acc: 1.0000 - val_loss: 0.8420 - val_acc: 0.8507 - lr: 8.0000e-04\n",
            "Epoch 177/200\n",
            "29/29 [==============================] - 4s 142ms/step - loss: 0.1588 - acc: 0.9997 - val_loss: 0.8808 - val_acc: 0.8407 - lr: 8.0000e-04\n",
            "Epoch 178/200\n",
            "29/29 [==============================] - 4s 142ms/step - loss: 0.1567 - acc: 0.9997 - val_loss: 0.8686 - val_acc: 0.8401 - lr: 8.0000e-04\n",
            "Epoch 179/200\n",
            "29/29 [==============================] - 4s 142ms/step - loss: 0.1571 - acc: 0.9995 - val_loss: 0.8472 - val_acc: 0.8444 - lr: 8.0000e-04\n",
            "Epoch 180/200\n",
            "29/29 [==============================] - 4s 142ms/step - loss: 0.1582 - acc: 0.9995 - val_loss: 0.8538 - val_acc: 0.8380 - lr: 8.0000e-04\n",
            "Epoch 181/200\n",
            "29/29 [==============================] - 4s 142ms/step - loss: 0.1572 - acc: 0.9997 - val_loss: 0.8558 - val_acc: 0.8370 - lr: 8.0000e-04\n",
            "Epoch 182/200\n",
            "29/29 [==============================] - 4s 142ms/step - loss: 0.1582 - acc: 0.9992 - val_loss: 0.8725 - val_acc: 0.8407 - lr: 8.0000e-04\n",
            "Epoch 183/200\n",
            "29/29 [==============================] - 4s 142ms/step - loss: 0.1585 - acc: 0.9995 - val_loss: 0.8399 - val_acc: 0.8497 - lr: 8.0000e-04\n",
            "Epoch 184/200\n",
            "29/29 [==============================] - 4s 142ms/step - loss: 0.1565 - acc: 0.9997 - val_loss: 0.8621 - val_acc: 0.8460 - lr: 8.0000e-04\n",
            "Epoch 185/200\n",
            "29/29 [==============================] - 4s 142ms/step - loss: 0.1588 - acc: 0.9984 - val_loss: 0.8379 - val_acc: 0.8470 - lr: 8.0000e-04\n",
            "Epoch 186/200\n",
            "29/29 [==============================] - 4s 142ms/step - loss: 0.1581 - acc: 0.9992 - val_loss: 0.8647 - val_acc: 0.8470 - lr: 8.0000e-04\n",
            "Epoch 187/200\n",
            "29/29 [==============================] - 4s 142ms/step - loss: 0.1572 - acc: 0.9989 - val_loss: 0.8550 - val_acc: 0.8481 - lr: 8.0000e-04\n",
            "Epoch 188/200\n",
            "29/29 [==============================] - 4s 141ms/step - loss: 0.1586 - acc: 0.9987 - val_loss: 0.8598 - val_acc: 0.8460 - lr: 8.0000e-04\n",
            "Epoch 189/200\n",
            "29/29 [==============================] - 4s 142ms/step - loss: 0.1578 - acc: 0.9984 - val_loss: 0.8640 - val_acc: 0.8401 - lr: 8.0000e-04\n",
            "Epoch 190/200\n",
            "29/29 [==============================] - 4s 141ms/step - loss: 0.1566 - acc: 1.0000 - val_loss: 0.8468 - val_acc: 0.8475 - lr: 8.0000e-04\n",
            "Epoch 191/200\n",
            "29/29 [==============================] - 4s 141ms/step - loss: 0.1569 - acc: 0.9995 - val_loss: 0.8848 - val_acc: 0.8433 - lr: 8.0000e-04\n",
            "Epoch 192/200\n",
            "29/29 [==============================] - 4s 142ms/step - loss: 0.1570 - acc: 0.9995 - val_loss: 0.8569 - val_acc: 0.8449 - lr: 8.0000e-04\n",
            "Epoch 193/200\n",
            "29/29 [==============================] - 4s 142ms/step - loss: 0.1576 - acc: 0.9992 - val_loss: 0.8656 - val_acc: 0.8422 - lr: 8.0000e-04\n",
            "Epoch 194/200\n",
            "29/29 [==============================] - 4s 142ms/step - loss: 0.1550 - acc: 1.0000 - val_loss: 0.8541 - val_acc: 0.8396 - lr: 8.0000e-04\n",
            "Epoch 195/200\n",
            "29/29 [==============================] - 4s 142ms/step - loss: 0.1562 - acc: 0.9995 - val_loss: 0.8675 - val_acc: 0.8454 - lr: 8.0000e-04\n",
            "Epoch 196/200\n",
            "29/29 [==============================] - 4s 142ms/step - loss: 0.1557 - acc: 0.9992 - val_loss: 0.8536 - val_acc: 0.8523 - lr: 8.0000e-04\n",
            "Epoch 197/200\n",
            "29/29 [==============================] - 4s 142ms/step - loss: 0.1562 - acc: 0.9997 - val_loss: 0.8423 - val_acc: 0.8497 - lr: 8.0000e-04\n",
            "Epoch 198/200\n",
            "29/29 [==============================] - 4s 141ms/step - loss: 0.1570 - acc: 0.9987 - val_loss: 0.8640 - val_acc: 0.8428 - lr: 8.0000e-04\n",
            "Epoch 199/200\n",
            "29/29 [==============================] - 4s 142ms/step - loss: 0.1550 - acc: 0.9997 - val_loss: 0.8609 - val_acc: 0.8433 - lr: 8.0000e-04\n",
            "Epoch 200/200\n",
            "29/29 [==============================] - 4s 141ms/step - loss: 0.1558 - acc: 0.9995 - val_loss: 0.8555 - val_acc: 0.8444 - lr: 8.0000e-04\n"
          ],
          "name": "stdout"
        }
      ]
    },
    {
      "cell_type": "code",
      "metadata": {
        "id": "xI39Sx-kYyUx",
        "colab_type": "code",
        "colab": {}
      },
      "source": [
        "wrn28_10.save(\"model_last.h5\")"
      ],
      "execution_count": 0,
      "outputs": []
    },
    {
      "cell_type": "code",
      "metadata": {
        "id": "5Paxp_UhrduV",
        "colab_type": "code",
        "colab": {}
      },
      "source": [
        "img = X_train[8]\n",
        "img.shape"
      ],
      "execution_count": 0,
      "outputs": []
    },
    {
      "cell_type": "code",
      "metadata": {
        "id": "AO-_q-QUsn-T",
        "colab_type": "code",
        "colab": {}
      },
      "source": [
        "y_train[8]"
      ],
      "execution_count": 0,
      "outputs": []
    },
    {
      "cell_type": "code",
      "metadata": {
        "id": "SIs_x5kasn9K",
        "colab_type": "code",
        "colab": {}
      },
      "source": [
        "np.argmax(wrn28_10(image))"
      ],
      "execution_count": 0,
      "outputs": []
    },
    {
      "cell_type": "code",
      "metadata": {
        "id": "FFw-Cjamdsi8",
        "colab_type": "code",
        "colab": {}
      },
      "source": [
        "y_train_df['Label'])"
      ],
      "execution_count": 0,
      "outputs": []
    },
    {
      "cell_type": "code",
      "metadata": {
        "id": "lr_quzDGwKGM",
        "colab_type": "code",
        "colab": {
          "base_uri": "https://localhost:8080/",
          "height": 607
        },
        "outputId": "8b6ca513-0be5-4309-e591-fa5456ab5ffd"
      },
      "source": [
        "import matplotlib.pyplot as plt\n",
        "\n",
        "history = hist\n",
        "print(history.history.keys())\n",
        "# summarize history for accuracy\n",
        "plt.plot(history.history['acc'])\n",
        "plt.plot(history.history['val_acc'])\n",
        "plt.title('model accuracy')\n",
        "plt.ylabel('accuracy')\n",
        "plt.xlabel('epoch')\n",
        "plt.legend(['train', 'test'], loc='upper left')\n",
        "plt.show()\n",
        "plt.savefig(\"wrn_tensor.png\")\n",
        "# summarize history for loss\n",
        "plt.plot(history.history['loss'])\n",
        "plt.plot(history.history['val_loss'])\n",
        "plt.title('model loss')\n",
        "plt.ylabel('loss')\n",
        "plt.xlabel('epoch')\n",
        "plt.legend(['train', 'test'], loc='upper left')\n",
        "plt.show()\n",
        "plt.savefig(\"deneme.png\")"
      ],
      "execution_count": 78,
      "outputs": [
        {
          "output_type": "stream",
          "text": [
            "dict_keys(['loss', 'acc', 'val_loss', 'val_acc', 'lr'])\n"
          ],
          "name": "stdout"
        },
        {
          "output_type": "display_data",
          "data": {
            "image/png": "[encoded data removed]",
            "text/plain": [
              "<Figure size 432x288 with 1 Axes>"
            ]
          },
          "metadata": {
            "tags": [],
            "needs_background": "light"
          }
        },
        {
          "output_type": "display_data",
          "data": {
            "image/png": "[encoded data removed]",
            "text/plain": [
              "<Figure size 432x288 with 1 Axes>"
            ]
          },
          "metadata": {
            "tags": [],
            "needs_background": "light"
          }
        },
        {
          "output_type": "display_data",
          "data": {
            "text/plain": [
              "<Figure size 432x288 with 0 Axes>"
            ]
          },
          "metadata": {
            "tags": []
          }
        }
      ]
    },
    {
      "cell_type": "code",
      "metadata": {
        "id": "iE16jXuZw8xb",
        "colab_type": "code",
        "colab": {
          "base_uri": "https://localhost:8080/",
          "height": 51
        },
        "outputId": "45ed350a-d41e-4ff5-d7ca-6dc03a195842"
      },
      "source": [
        "wrn_16_2.evaluate(X_test,y_test)"
      ],
      "execution_count": 79,
      "outputs": [
        {
          "output_type": "stream",
          "text": [
            "60/60 [==============================] - 1s 12ms/step - loss: 0.8555 - acc: 0.8444\n"
          ],
          "name": "stdout"
        },
        {
          "output_type": "execute_result",
          "data": {
            "text/plain": [
              "[0.8555046319961548, 0.8443620800971985]"
            ]
          },
          "metadata": {
            "tags": []
          },
          "execution_count": 79
        }
      ]
    },
    {
      "cell_type": "code",
      "metadata": {
        "id": "SmZpcppX5u_C",
        "colab_type": "code",
        "colab": {
          "base_uri": "https://localhost:8080/",
          "height": 51
        },
        "outputId": "d06a13b9-bf89-4a2d-b924-005c6b2accdf"
      },
      "source": [
        "wrn_16_2.evaluate(X_train,y_train)"
      ],
      "execution_count": 80,
      "outputs": [
        {
          "output_type": "stream",
          "text": [
            "120/120 [==============================] - 1s 12ms/step - loss: 0.1524 - acc: 0.9997\n"
          ],
          "name": "stdout"
        },
        {
          "output_type": "execute_result",
          "data": {
            "text/plain": [
              "[0.1523597091436386, 0.9997391104698181]"
            ]
          },
          "metadata": {
            "tags": []
          },
          "execution_count": 80
        }
      ]
    }
  ]
}