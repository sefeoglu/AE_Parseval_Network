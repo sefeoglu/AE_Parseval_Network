{
  "nbformat": 4,
  "nbformat_minor": 0,
  "metadata": {
    "colab": {
      "name": "ResNet_Tensorflow_keras.ipynb",
      "provenance": [],
      "toc_visible": true,
      "include_colab_link": true
    },
    "kernelspec": {
      "name": "python3",
      "display_name": "Python 3"
    },
    "accelerator": "GPU"
  },
  "cells": [
    {
      "cell_type": "markdown",
      "metadata": {
        "id": "view-in-github",
        "colab_type": "text"
      },
      "source": [
        "<a href=\"https://colab.research.google.com/github/sefeoglu/AE_Parseval_Network/blob/master/src/notebooks/ResNet_Tensorflow_keras.ipynb\" target=\"_parent\"><img src=\"https://colab.research.google.com/assets/colab-badge.svg\" alt=\"Open In Colab\"/></a>"
      ]
    },
    {
      "cell_type": "markdown",
      "metadata": {
        "id": "cczYDRrfFlDx",
        "colab_type": "text"
      },
      "source": [
        "# Wide ResNet 16_2"
      ]
    },
    {
      "cell_type": "code",
      "metadata": {
        "id": "HWvd9YADGtMS",
        "colab_type": "code",
        "colab": {
          "base_uri": "https://localhost:8080/",
          "height": 51
        },
        "outputId": "46069cb5-e53e-4366-ece5-864d38ca4138"
      },
      "source": [
        "import tensorflow as tf\n",
        "from tensorflow.keras.optimizers import SGD\n",
        "from tensorflow.keras.callbacks import Callback, LearningRateScheduler, EarlyStopping\n",
        "import tensorflow\n",
        "\n",
        "print(\"\\nTensorflow Version: \" + tf.__version__)"
      ],
      "execution_count": 1,
      "outputs": [
        {
          "output_type": "stream",
          "text": [
            "\n",
            "Tensorflow Version: 2.2.0\n"
          ],
          "name": "stdout"
        }
      ]
    },
    {
      "cell_type": "markdown",
      "metadata": {
        "id": "8aqbIFJTwXLH",
        "colab_type": "text"
      },
      "source": [
        "# Model"
      ]
    },
    {
      "cell_type": "code",
      "metadata": {
        "id": "QRdSMgRjG8ex",
        "colab_type": "code",
        "colab": {
          "base_uri": "https://localhost:8080/",
          "height": 68
        },
        "outputId": "d0d786cb-11c0-4657-f92e-2e1973111cf4"
      },
      "source": [
        "from tensorflow.keras.models import Model\n",
        "from tensorflow.keras.layers import Input, Add, Activation, Dropout, Flatten, Dense\n",
        "from tensorflow.keras.layers import Convolution2D, MaxPooling2D, AveragePooling2D\n",
        "from tensorflow.keras.layers import BatchNormalization\n",
        "from tensorflow.keras.regularizers import l2\n",
        "from tensorflow.keras import backend as K\n",
        "import warnings\n",
        "\n",
        "warnings.filterwarnings(\"ignore\")\n",
        "weight_decay = 0.0001\n",
        "\n",
        "\n",
        "def initial_conv(input):\n",
        "  \n",
        "    x = Convolution2D(16, (3, 3), padding='same', kernel_initializer='he_normal',\n",
        "                      kernel_regularizer=l2(weight_decay),\n",
        "                      use_bias=False)(input)\n",
        "\n",
        "    channel_axis = 1 if K.image_data_format() == \"channels_first\" else -1\n",
        "\n",
        "    x = BatchNormalization(axis=channel_axis, momentum=0.1, epsilon=1e-5, gamma_initializer='uniform')(x)\n",
        "    x = Activation('relu')(x)\n",
        "    return x\n",
        "\n",
        "\n",
        "def expand_conv(init, base, k, strides=(1, 1)):\n",
        "    x = Convolution2D(base * k, (3, 3), padding='same', strides=strides, kernel_initializer='he_normal', kernel_regularizer=l2(weight_decay),\n",
        "                      use_bias=False)(init)\n",
        "\n",
        "    channel_axis = 1 if K.image_data_format() == \"channels_first\" else -1\n",
        "\n",
        "    x = BatchNormalization(axis=channel_axis, momentum=0.1, epsilon=1e-5, gamma_initializer='uniform')(x)\n",
        "    x = Activation('relu')(x)\n",
        "\n",
        "    x = Convolution2D(base * k, (3, 3), padding='same', kernel_initializer='he_normal',\n",
        "                      kernel_regularizer=l2(weight_decay),\n",
        "                      use_bias=False)(x)\n",
        "\n",
        "    skip = Convolution2D(base * k, (1, 1), padding='same', strides=strides, kernel_initializer='he_normal',\n",
        "                      kernel_regularizer=l2(weight_decay),\n",
        "                      use_bias=False)(init)\n",
        "\n",
        "    m = Add()([x, skip])\n",
        "\n",
        "    return m\n",
        "\n",
        "\n",
        "def conv1_block(input, k=1, dropout=0.0):\n",
        "    init = input\n",
        "\n",
        "    channel_axis = 1 if K.image_data_format() == \"channels_first\" else -1\n",
        "\n",
        "    x = BatchNormalization(axis=channel_axis, momentum=0.1, epsilon=1e-5, gamma_initializer='uniform')(input)\n",
        "    x = Activation('relu')(x)\n",
        "    x = Convolution2D(16 * k, (3, 3), padding='same', kernel_initializer='he_normal',\n",
        "                      kernel_regularizer=l2(weight_decay),\n",
        "                      use_bias=False)(x)\n",
        "\n",
        "    if dropout > 0.0: x = Dropout(dropout)(x)\n",
        "\n",
        "    x = BatchNormalization(axis=channel_axis, momentum=0.1, epsilon=1e-5, gamma_initializer='uniform')(x)\n",
        "    x = Activation('relu')(x)\n",
        "    x = Convolution2D(16 * k, (3, 3), padding='same', kernel_initializer='he_normal',\n",
        "                      kernel_regularizer=l2(weight_decay),\n",
        "                      use_bias=False)(x)\n",
        "\n",
        "    m = Add()([init, x])\n",
        "    return m\n",
        "\n",
        "def conv2_block(input, k=1, dropout=0.0):\n",
        "    init = input\n",
        "\n",
        "    channel_axis = 1 if K.image_data_format() == \"channels_first\" else -1\n",
        "    print(\"conv2:channel:  {}\".format(channel_axis))\n",
        "    x = BatchNormalization(axis=channel_axis, momentum=0.1, epsilon=1e-5, gamma_initializer='uniform')(input)\n",
        "    x = Activation('relu')(x)\n",
        "    x = Convolution2D(32 * k, (3, 3), padding='same', kernel_initializer='he_normal',\n",
        "                      kernel_regularizer=l2(weight_decay),\n",
        "                      use_bias=False)(x)\n",
        "\n",
        "    if dropout > 0.0: x = Dropout(dropout)(x)\n",
        "\n",
        "    x = BatchNormalization(axis=channel_axis, momentum=0.1, epsilon=1e-5, gamma_initializer='uniform')(x)\n",
        "    x = Activation('relu')(x)\n",
        "    x = Convolution2D(32 * k, (3, 3), padding='same', kernel_initializer='he_normal',\n",
        "                      kernel_regularizer=l2(weight_decay),\n",
        "                      use_bias=False)(x)\n",
        "\n",
        "    m = Add()([init, x])\n",
        "    return m\n",
        "\n",
        "def conv3_block(input, k=1, dropout=0.0):\n",
        "    init = input\n",
        "\n",
        "    channel_axis = 1 if K.image_data_format() == \"channels_first\" else -1\n",
        "    print(\"conv3 channel_axis:{} \".format(channel_axis))\n",
        "    x = BatchNormalization(axis=channel_axis, momentum=0.1, epsilon=1e-5, gamma_initializer='uniform')(input)\n",
        "    x = Activation('relu')(x)\n",
        "    x = Convolution2D(64 * k, (3, 3), padding='same', kernel_initializer='he_normal',\n",
        "                      kernel_regularizer=l2(weight_decay),\n",
        "                      use_bias=False)(x)\n",
        "\n",
        "    if dropout > 0.0: x = Dropout(dropout)(x)\n",
        "\n",
        "    x = BatchNormalization(axis=channel_axis, momentum=0.1, epsilon=1e-5, gamma_initializer='uniform')(x)\n",
        "    x = Activation('relu')(x)\n",
        "    x = Convolution2D(64 * k, (3, 3), padding='same', kernel_initializer='he_normal',\n",
        "                      kernel_regularizer=l2(weight_decay),\n",
        "                      use_bias=False)(x)\n",
        "\n",
        "    m = Add()([init, x])\n",
        "    return m\n",
        "\n",
        "def create_wide_residual_network(input_dim, nb_classes=100, N=2, k=1, dropout=0.0, verbose=1):\n",
        "    \"\"\"\n",
        "    Creates a Wide Residual Network with specified parameters\n",
        "\n",
        "    :param input: Input Keras object\n",
        "    :param nb_classes: Number of output classes\n",
        "    :param N: Depth of the network. Compute N = (n - 4) / 6.\n",
        "              Example : For a depth of 16, n = 16, N = (16 - 4) / 6 = 2\n",
        "              Example2: For a depth of 28, n = 28, N = (28 - 4) / 6 = 4\n",
        "              Example3: For a depth of 40, n = 40, N = (40 - 4) / 6 = 6\n",
        "    :param k: Width of the network.\n",
        "    :param dropout: Adds dropout if value is greater than 0.0\n",
        "    :param verbose: Debug info to describe created WRN\n",
        "    :return:\n",
        "    \"\"\"\n",
        "    channel_axis = 1 if K.image_data_format() == \"channels_first\" else -1\n",
        "\n",
        "    ip = Input(shape=input_dim)\n",
        "\n",
        "    x = initial_conv(ip)\n",
        "    nb_conv = 4\n",
        "\n",
        "    x = expand_conv(x, 16, k)\n",
        "    nb_conv += 2\n",
        "\n",
        "    for i in range(N - 1):\n",
        "        x = conv1_block(x, k, dropout)\n",
        "        nb_conv += 2\n",
        "\n",
        "    x = BatchNormalization(axis=channel_axis, momentum=0.1, epsilon=1e-5, gamma_initializer='uniform')(x)\n",
        "    x = Activation('relu')(x)\n",
        "\n",
        "    x = expand_conv(x, 32, k, strides=(2, 2))\n",
        "    nb_conv += 2\n",
        "\n",
        "    for i in range(N - 1):\n",
        "        x = conv2_block(x, k, dropout)\n",
        "        nb_conv += 2\n",
        "\n",
        "    x = BatchNormalization(axis=channel_axis, momentum=0.1, epsilon=1e-5, gamma_initializer='uniform')(x)\n",
        "    x = Activation('relu')(x)\n",
        "\n",
        "    x = expand_conv(x, 64, k, strides=(2, 2))\n",
        "    nb_conv += 2\n",
        "\n",
        "    for i in range(N - 1):\n",
        "        x = conv3_block(x, k, dropout)\n",
        "        nb_conv += 2\n",
        "\n",
        "    x = BatchNormalization(axis=channel_axis, momentum=0.1, epsilon=1e-5, gamma_initializer='uniform')(x)\n",
        "    x = Activation('relu')(x)\n",
        "\n",
        "    x = AveragePooling2D((8, 8))(x)\n",
        "    x = Flatten()(x)\n",
        "\n",
        "    x = Dense(nb_classes, kernel_regularizer=l2(weight_decay), activation='softmax')(x)\n",
        "\n",
        "    model = Model(ip, x)\n",
        "\n",
        "    if verbose: print(\"Wide Residual Network-%d-%d created.\" % (nb_conv, k))\n",
        "    return model\n",
        "if __name__ == \"__main__\":\n",
        "  init = (32, 32,1)\n",
        "  wrn_16_2 = create_wide_residual_network(init, nb_classes=4, N=2, k=2, dropout=0.5)\n"
      ],
      "execution_count": 2,
      "outputs": [
        {
          "output_type": "stream",
          "text": [
            "conv2:channel:  -1\n",
            "conv3 channel_axis:-1 \n",
            "Wide Residual Network-16-2 created.\n"
          ],
          "name": "stdout"
        }
      ]
    },
    {
      "cell_type": "markdown",
      "metadata": {
        "id": "ffNo5x-Ft9Fe",
        "colab_type": "text"
      },
      "source": [
        "# Data Prepare and Processing\n",
        "\n",
        "\n"
      ]
    },
    {
      "cell_type": "code",
      "metadata": {
        "id": "AJqH742XcPQv",
        "colab_type": "code",
        "colab": {}
      },
      "source": [
        "from sklearn.model_selection import train_test_split\n",
        "import gzip\n",
        "import pickle\n",
        "\n",
        "import numpy as np"
      ],
      "execution_count": 3,
      "outputs": []
    },
    {
      "cell_type": "code",
      "metadata": {
        "id": "fNBI_SkvuzgK",
        "colab_type": "code",
        "colab": {}
      },
      "source": [
        "def read_data():\n",
        "    with open(\"data.pz\", 'rb') as file_:\n",
        "        with gzip.GzipFile(fileobj=file_) as gzf:\n",
        "            data = pickle.load(gzf, encoding='latin1', fix_imports=True)\n",
        "    return data\n",
        "data = read_data()\n"
      ],
      "execution_count": 4,
      "outputs": []
    },
    {
      "cell_type": "code",
      "metadata": {
        "id": "4euxwMe2jIoX",
        "colab_type": "code",
        "colab": {
          "base_uri": "https://localhost:8080/",
          "height": 34
        },
        "outputId": "c57bf881-6dc1-41bf-b55c-09f588254505"
      },
      "source": [
        "import cv2\n",
        "new_data_X = []\n",
        "Y_data = []\n",
        "for row in data:\n",
        "    new_data_X.append(cv2.resize(row['crop'], (32,32)))\n",
        "    Y_data.append(row['label'])\n",
        "new_data_X = np.array(new_data_X)\n",
        "new_data_X.shape"
      ],
      "execution_count": 5,
      "outputs": [
        {
          "output_type": "execute_result",
          "data": {
            "text/plain": [
              "(5722, 32, 32)"
            ]
          },
          "metadata": {
            "tags": []
          },
          "execution_count": 5
        }
      ]
    },
    {
      "cell_type": "code",
      "metadata": {
        "id": "TNBsNVDNu6Ku",
        "colab_type": "code",
        "colab": {
          "base_uri": "https://localhost:8080/",
          "height": 34
        },
        "outputId": "74275ae5-54c8-4513-cfec-48e0fe831f54"
      },
      "source": [
        "X = new_data_X.astype('float32')\n",
        "X.shape"
      ],
      "execution_count": 6,
      "outputs": [
        {
          "output_type": "execute_result",
          "data": {
            "text/plain": [
              "(5722, 32, 32)"
            ]
          },
          "metadata": {
            "tags": []
          },
          "execution_count": 6
        }
      ]
    },
    {
      "cell_type": "markdown",
      "metadata": {
        "id": "MFQdrnTKuM8c",
        "colab_type": "text"
      },
      "source": [
        "# Preprocessing"
      ]
    },
    {
      "cell_type": "code",
      "metadata": {
        "id": "uqf-dZOrvC0e",
        "colab_type": "code",
        "colab": {}
      },
      "source": [
        "img_rows, img_cols = X[0].shape\n",
        "\n",
        "# transform data set\n",
        "if K.image_data_format() == 'channels_first':\n",
        "    X = X.reshape(X.shape[0], 1, img_rows, img_cols)\n",
        "    input_shape = (1, img_rows, img_cols)\n",
        "else:\n",
        "    X = X.reshape(X.shape[0], img_rows, img_cols, 1)\n",
        "    input_shape = (img_rows, img_cols, 1)"
      ],
      "execution_count": 7,
      "outputs": []
    },
    {
      "cell_type": "code",
      "metadata": {
        "id": "2eEHVf2Bu9xt",
        "colab_type": "code",
        "colab": {}
      },
      "source": [
        "import pandas as pd\n",
        "import numpy as np\n",
        "from sklearn.preprocessing import LabelEncoder\n",
        "\n",
        "labelencoder = LabelEncoder()\n",
        "y_df = pd.DataFrame(Y_data, columns=['Label'])\n",
        "y_df['Encoded'] = labelencoder.fit_transform(y_df['Label'])"
      ],
      "execution_count": 8,
      "outputs": []
    },
    {
      "cell_type": "code",
      "metadata": {
        "id": "wdkpb2Jkqu6t",
        "colab_type": "code",
        "colab": {}
      },
      "source": [
        "from tensorflow.keras.utils import to_categorical\n",
        "\n",
        "y_cat = to_categorical(y_df['Encoded'])"
      ],
      "execution_count": 9,
      "outputs": []
    },
    {
      "cell_type": "code",
      "metadata": {
        "id": "Wb5M1kDQnX5d",
        "colab_type": "code",
        "colab": {}
      },
      "source": [
        "X_train, X_test, Y_train, y_test = train_test_split(X, y_cat, test_size = 0.1)\n",
        "x_train, X_val, y_train, y_val = train_test_split(X_train, Y_train, test_size = 0.1)"
      ],
      "execution_count": 10,
      "outputs": []
    },
    {
      "cell_type": "markdown",
      "metadata": {
        "id": "Kif3Li9NuSnV",
        "colab_type": "text"
      },
      "source": [
        "# Training"
      ]
    },
    {
      "cell_type": "code",
      "metadata": {
        "id": "88yOqhbSwjPa",
        "colab_type": "code",
        "colab": {}
      },
      "source": [
        "def lr_sch(epoch):\n",
        "    if epoch < 30:\n",
        "        return 0.1\n",
        "    elif epoch < 50:\n",
        "        return 0.001\n",
        "    elif epoch < 60:\n",
        "        return 0.001\n",
        "    else:\n",
        "        return 0.00001\n",
        "\n",
        "# Learning rate scheduler callback\n",
        "lr_scheduler = LearningRateScheduler(lr_sch)"
      ],
      "execution_count": 11,
      "outputs": []
    },
    {
      "cell_type": "code",
      "metadata": {
        "id": "TbpiWMEgRpWa",
        "colab_type": "code",
        "colab": {}
      },
      "source": [
        "generator = tensorflow.keras.preprocessing.image.ImageDataGenerator(rotation_range=10,\n",
        "                               width_shift_range=5./32,\n",
        "                               height_shift_range=5./32,)"
      ],
      "execution_count": 12,
      "outputs": []
    },
    {
      "cell_type": "code",
      "metadata": {
        "id": "JVs_QNHoEKji",
        "colab_type": "code",
        "colab": {}
      },
      "source": [
        "from sklearn.model_selection import  KFold\n",
        "\n",
        "class Non_adversarial(object):\n",
        "  def __init__(self):\n",
        "    pass\n",
        "\n",
        "  def train_iterate(self, X_train, Y_train, X_test, y_test, epochs, BS,sgd, epsilon_list):\n",
        "          init = (32, 32,1)\n",
        "          res_df = pd.DataFrame(columns=['loss_clean','acc_clean',\n",
        "                                  'loss1', 'acc1','loss2', 'acc2','loss3',\n",
        "                                    'acc3','loss4', 'acc4'])\n",
        "          kf = KFold(n_splits=3, random_state=42, shuffle=False)\n",
        "          \n",
        "          for j, (train, val) in enumerate(kf.split(X_train)):\n",
        "            x_train, y_train,  x_val, y_val = X_train[train], Y_train[train], X_train[val], Y_train[val]\n",
        "            model = create_wide_residual_network(init, nb_classes=4, N=2, k=2, dropout=0.5)\n",
        "\n",
        "            model.compile(loss=\"categorical_crossentropy\", optimizer=sgd, metrics=[\"acc\"])\n",
        "            hist = model.fit(generator.flow(x_train, y_train, batch_size=BS), steps_per_epoch=len(x_train) // BS, epochs=epochs,\n",
        "                            callbacks = [lr_scheduler],\n",
        "                            validation_data=(x_val, y_val),\n",
        "                            validation_steps=x_val.shape[0] // BS,)\n",
        "            loss, acc = model.evaluate(X_test, y_test)\n",
        "            loss1, acc1 = print_test(model, get_adversarial_examples(model, X_test, y_test, epsilon_list[0]),X_test, y_test, epsilon_list[0])\n",
        "            loss2, acc2 = print_test(model, get_adversarial_examples(model, X_test, y_test, epsilon_list[1]),X_test, y_test, epsilon_list[1])\n",
        "            loss3, acc3 = print_test(model, get_adversarial_examples(model, X_test, y_test, epsilon_list[2]),X_test, y_test, epsilon_list[2])\n",
        "            loss4, acc4 = print_test(model, get_adversarial_examples(model, X_test, y_test, epsilon_list[3]),X_test, y_test, epsilon_list[3])\n",
        "            row = {'loss_clean':loss,'acc_clean':acc, 'loss1':loss1, 'acc1':acc1, 'loss2':loss2,\n",
        "                    'acc2':acc2, 'loss3':loss3, 'acc3':acc3, 'loss4':loss4, 'acc4':acc4}\n",
        "            res_df = res_df.append(row , ignore_index=True)\n",
        "            \n",
        "          return res_df"
      ],
      "execution_count": 60,
      "outputs": []
    },
    {
      "cell_type": "code",
      "metadata": {
        "id": "cFgKVWiHKYsj",
        "colab_type": "code",
        "colab": {
          "base_uri": "https://localhost:8080/",
          "height": 445
        },
        "outputId": "9d6f97c1-66c6-4ef8-c237-d20a8dc292f9"
      },
      "source": [
        "\n",
        "!pip install git+https://github.com/tensorflow/cleverhans.git#egg=cleverhans\n",
        "\n",
        "import cleverhans\n",
        "\n",
        "print(\"\\nTensorflow Version: \" + tf.__version__)\n",
        "print(\"Cleverhans Version: \" + cleverhans.__version__)\n",
        "print(\"GPU Available: \", tf.test.is_gpu_available())"
      ],
      "execution_count": 14,
      "outputs": [
        {
          "output_type": "stream",
          "text": [
            "Requirement already satisfied: cleverhans from git+https://github.com/tensorflow/cleverhans.git#egg=cleverhans in /usr/local/lib/python3.6/dist-packages (3.0.1)\n",
            "Requirement already satisfied: scipy in /usr/local/lib/python3.6/dist-packages (from cleverhans) (1.4.1)\n",
            "Requirement already satisfied: pycodestyle in /usr/local/lib/python3.6/dist-packages (from cleverhans) (2.6.0)\n",
            "Requirement already satisfied: numpy in /usr/local/lib/python3.6/dist-packages (from cleverhans) (1.18.5)\n",
            "Requirement already satisfied: joblib in /usr/local/lib/python3.6/dist-packages (from cleverhans) (0.15.1)\n",
            "Requirement already satisfied: tensorflow-probability in /usr/local/lib/python3.6/dist-packages (from cleverhans) (0.10.0)\n",
            "Requirement already satisfied: matplotlib in /usr/local/lib/python3.6/dist-packages (from cleverhans) (3.2.2)\n",
            "Requirement already satisfied: nose in /usr/local/lib/python3.6/dist-packages (from cleverhans) (1.3.7)\n",
            "Requirement already satisfied: mnist~=0.2 in /usr/local/lib/python3.6/dist-packages (from cleverhans) (0.2.2)\n",
            "Requirement already satisfied: decorator in /usr/local/lib/python3.6/dist-packages (from tensorflow-probability->cleverhans) (4.4.2)\n",
            "Requirement already satisfied: cloudpickle>=1.2.2 in /usr/local/lib/python3.6/dist-packages (from tensorflow-probability->cleverhans) (1.3.0)\n",
            "Requirement already satisfied: gast>=0.3.2 in /usr/local/lib/python3.6/dist-packages (from tensorflow-probability->cleverhans) (0.3.3)\n",
            "Requirement already satisfied: six>=1.10.0 in /usr/local/lib/python3.6/dist-packages (from tensorflow-probability->cleverhans) (1.12.0)\n",
            "Requirement already satisfied: cycler>=0.10 in /usr/local/lib/python3.6/dist-packages (from matplotlib->cleverhans) (0.10.0)\n",
            "Requirement already satisfied: pyparsing!=2.0.4,!=2.1.2,!=2.1.6,>=2.0.1 in /usr/local/lib/python3.6/dist-packages (from matplotlib->cleverhans) (2.4.7)\n",
            "Requirement already satisfied: kiwisolver>=1.0.1 in /usr/local/lib/python3.6/dist-packages (from matplotlib->cleverhans) (1.2.0)\n",
            "Requirement already satisfied: python-dateutil>=2.1 in /usr/local/lib/python3.6/dist-packages (from matplotlib->cleverhans) (2.8.1)\n",
            "\n",
            "Tensorflow Version: 2.2.0\n",
            "Cleverhans Version: 3.0.1-fc7b7c7ec903258e0e3fb88503fa629f\n",
            "WARNING:tensorflow:From <ipython-input-14-21b906498791>:8: is_gpu_available (from tensorflow.python.framework.test_util) is deprecated and will be removed in a future version.\n",
            "Instructions for updating:\n",
            "Use `tf.config.list_physical_devices('GPU')` instead.\n",
            "GPU Available:  True\n"
          ],
          "name": "stdout"
        }
      ]
    },
    {
      "cell_type": "code",
      "metadata": {
        "id": "Bm6HjbpvKslU",
        "colab_type": "code",
        "colab": {}
      },
      "source": [
        "from cleverhans.future.tf2.attacks import fast_gradient_method\n",
        "\n",
        "def get_adversarial_examples(pretrained_model, X_true, y_true, epsilon):\n",
        "  #The attack requires the model to ouput the logits\n",
        "   \n",
        "  logits_model = tf.keras.Model(pretrained_model.input,pretrained_model.layers[-1].output)\n",
        "  X_adv = []\n",
        "  for i in range(len(X_true)):\n",
        "    random_index = i\n",
        "    original_image = X_true[random_index]\n",
        "    original_image = tf.convert_to_tensor(original_image.reshape((1,32,32))) #The .reshape just gives it the proper form to input into the model, a batch of 1 a.k.a a tensor\n",
        "    original_label = y_true[random_index]\n",
        "    original_label = np.reshape(np.argmax(original_label), (1,)).astype('int64')\n",
        "    adv_example_targeted_label = fast_gradient_method(logits_model, original_image, epsilon, np.inf,y=original_label, targeted=False)\n",
        "    X_adv.append(np.array(adv_example_targeted_label).reshape(32,32,1))\n",
        "  X_adv = np.array(X_adv)\n",
        "  return X_adv\n",
        "\n"
      ],
      "execution_count": 15,
      "outputs": []
    },
    {
      "cell_type": "code",
      "metadata": {
        "id": "lr_quzDGwKGM",
        "colab_type": "code",
        "colab": {}
      },
      "source": [
        "import matplotlib.pyplot as plt\n",
        "\n",
        "def show_graph(hist):\n",
        "  history = hist\n",
        "  print(history.history.keys())\n",
        "  # summarize history for accuracy\n",
        "  plt.plot(history.history['acc'])\n",
        "  plt.plot(history.history['val_acc'])\n",
        "  plt.title('model accuracy')\n",
        "  plt.ylabel('accuracy')\n",
        "  plt.xlabel('epoch')\n",
        "  plt.legend(['train', 'test'], loc='upper left')\n",
        "  plt.show()\n",
        "  plt.savefig(\"wrn_tensor.png\")\n",
        "  # summarize history for loss\n",
        "  plt.plot(history.history['loss'])\n",
        "  plt.plot(history.history['val_loss'])\n",
        "  plt.title('model loss')\n",
        "  plt.ylabel('loss')\n",
        "  plt.xlabel('epoch')\n",
        "  plt.legend(['train', 'test'], loc='upper left')\n",
        "  plt.show()\n",
        "  plt.savefig(\"deneme.png\")"
      ],
      "execution_count": 16,
      "outputs": []
    },
    {
      "cell_type": "code",
      "metadata": {
        "id": "bnbbLi83NyVI",
        "colab_type": "code",
        "colab": {}
      },
      "source": [
        "def print_test(model,X_adv, X_test, y_test, epsilon):\n",
        "  loss, acc = model.evaluate(X_adv,y_test)\n",
        "  print(\"epsilon: {} and test evaluation : {}, {}\".format(epsilon,loss, acc))\n",
        "  SNR = 20*np.log10(np.linalg.norm(X_test)/np.linalg.norm(X_test-X_adv))\n",
        "  print(\"SNR: {}\".format(SNR))\n",
        "  return loss, acc"
      ],
      "execution_count": 17,
      "outputs": []
    },
    {
      "cell_type": "markdown",
      "metadata": {
        "id": "WxNDNAa6MWu7",
        "colab_type": "text"
      },
      "source": [
        "**Train a Model**"
      ]
    },
    {
      "cell_type": "code",
      "metadata": {
        "id": "rghSgp3NvhhV",
        "colab_type": "code",
        "colab": {}
      },
      "source": [
        "EPOCHS = 200\n",
        "BS = 128\n",
        "sgd = SGD(lr=0.1, momentum=0.6)"
      ],
      "execution_count": 18,
      "outputs": []
    },
    {
      "cell_type": "code",
      "metadata": {
        "id": "yBnqXaiNwHGl",
        "colab_type": "code",
        "colab": {
          "base_uri": "https://localhost:8080/",
          "height": 1000
        },
        "outputId": "41277f2a-7443-424b-9fc8-3289dbb5f02e"
      },
      "source": [
        "#wrn_16_2.summary()\n",
        "wrn_16_2.compile(loss=\"categorical_crossentropy\", optimizer=sgd, metrics=[\"acc\"])\n",
        "print(\"Finished compiling\")\n",
        "\n",
        "hist = wrn_16_2.fit(generator.flow(x_train, y_train, batch_size=BS), steps_per_epoch=len(x_train) // BS, epochs=EPOCHS,\n",
        "                   callbacks = [lr_scheduler],\n",
        "                   validation_data=(X_val, y_val),\n",
        "                   validation_steps=X_val.shape[0] // BS,)\n",
        "wrn_16_2.save(\"wrn_model.h5\")\n"
      ],
      "execution_count": 19,
      "outputs": [
        {
          "output_type": "stream",
          "text": [
            "Finished compiling\n",
            "Epoch 1/200\n",
            "36/36 [==============================] - 2s 56ms/step - loss: 1.5944 - acc: 0.3012 - val_loss: 1.5481 - val_acc: 0.3515 - lr: 0.1000\n",
            "Epoch 2/200\n",
            "36/36 [==============================] - 1s 39ms/step - loss: 1.5057 - acc: 0.3788 - val_loss: 1.4811 - val_acc: 0.3612 - lr: 0.1000\n",
            "Epoch 3/200\n",
            "36/36 [==============================] - 1s 39ms/step - loss: 1.4745 - acc: 0.3837 - val_loss: 1.4660 - val_acc: 0.3728 - lr: 0.1000\n",
            "Epoch 4/200\n",
            "36/36 [==============================] - 1s 40ms/step - loss: 1.4571 - acc: 0.3990 - val_loss: 1.4769 - val_acc: 0.3573 - lr: 0.1000\n",
            "Epoch 5/200\n",
            "36/36 [==============================] - 1s 39ms/step - loss: 1.4468 - acc: 0.3988 - val_loss: 1.4503 - val_acc: 0.3845 - lr: 0.1000\n",
            "Epoch 6/200\n",
            "36/36 [==============================] - 1s 39ms/step - loss: 1.4385 - acc: 0.4128 - val_loss: 1.4649 - val_acc: 0.3786 - lr: 0.1000\n",
            "Epoch 7/200\n",
            "36/36 [==============================] - 1s 38ms/step - loss: 1.4205 - acc: 0.4172 - val_loss: 1.4570 - val_acc: 0.4000 - lr: 0.1000\n",
            "Epoch 8/200\n",
            "36/36 [==============================] - 2s 44ms/step - loss: 1.3957 - acc: 0.4627 - val_loss: 1.4432 - val_acc: 0.4058 - lr: 0.1000\n",
            "Epoch 9/200\n",
            "36/36 [==============================] - 1s 38ms/step - loss: 1.3552 - acc: 0.5126 - val_loss: 1.4077 - val_acc: 0.4641 - lr: 0.1000\n",
            "Epoch 10/200\n",
            "36/36 [==============================] - 1s 39ms/step - loss: 1.3222 - acc: 0.5275 - val_loss: 1.4302 - val_acc: 0.4699 - lr: 0.1000\n",
            "Epoch 11/200\n",
            "36/36 [==============================] - 1s 40ms/step - loss: 1.3090 - acc: 0.5366 - val_loss: 1.3101 - val_acc: 0.5165 - lr: 0.1000\n",
            "Epoch 12/200\n",
            "36/36 [==============================] - 1s 39ms/step - loss: 1.2812 - acc: 0.5464 - val_loss: 1.3773 - val_acc: 0.5398 - lr: 0.1000\n",
            "Epoch 13/200\n",
            "36/36 [==============================] - 1s 38ms/step - loss: 1.2622 - acc: 0.5502 - val_loss: 1.8886 - val_acc: 0.3126 - lr: 0.1000\n",
            "Epoch 14/200\n",
            "36/36 [==============================] - 1s 39ms/step - loss: 1.2319 - acc: 0.5737 - val_loss: 1.2704 - val_acc: 0.5515 - lr: 0.1000\n",
            "Epoch 15/200\n",
            "36/36 [==============================] - 1s 40ms/step - loss: 1.2157 - acc: 0.5748 - val_loss: 1.2947 - val_acc: 0.5146 - lr: 0.1000\n",
            "Epoch 16/200\n",
            "36/36 [==============================] - 1s 39ms/step - loss: 1.2085 - acc: 0.5830 - val_loss: 1.3546 - val_acc: 0.4680 - lr: 0.1000\n",
            "Epoch 17/200\n",
            "36/36 [==============================] - 1s 39ms/step - loss: 1.1762 - acc: 0.5861 - val_loss: 1.4340 - val_acc: 0.5165 - lr: 0.1000\n",
            "Epoch 18/200\n",
            "36/36 [==============================] - 1s 38ms/step - loss: 1.1683 - acc: 0.5961 - val_loss: 1.3265 - val_acc: 0.5670 - lr: 0.1000\n",
            "Epoch 19/200\n",
            "36/36 [==============================] - 1s 40ms/step - loss: 1.1406 - acc: 0.6141 - val_loss: 1.5974 - val_acc: 0.4718 - lr: 0.1000\n",
            "Epoch 20/200\n",
            "36/36 [==============================] - 1s 40ms/step - loss: 1.1449 - acc: 0.6063 - val_loss: 1.3350 - val_acc: 0.5845 - lr: 0.1000\n",
            "Epoch 21/200\n",
            "36/36 [==============================] - 1s 40ms/step - loss: 1.1298 - acc: 0.6176 - val_loss: 1.1942 - val_acc: 0.6039 - lr: 0.1000\n",
            "Epoch 22/200\n",
            "36/36 [==============================] - 1s 39ms/step - loss: 1.0912 - acc: 0.6409 - val_loss: 1.3420 - val_acc: 0.5068 - lr: 0.1000\n",
            "Epoch 23/200\n",
            "36/36 [==============================] - 1s 39ms/step - loss: 1.0924 - acc: 0.6374 - val_loss: 1.3718 - val_acc: 0.5184 - lr: 0.1000\n",
            "Epoch 24/200\n",
            "36/36 [==============================] - 1s 39ms/step - loss: 1.0542 - acc: 0.6569 - val_loss: 1.1643 - val_acc: 0.6485 - lr: 0.1000\n",
            "Epoch 25/200\n",
            "36/36 [==============================] - 1s 38ms/step - loss: 1.0416 - acc: 0.6633 - val_loss: 1.1731 - val_acc: 0.6117 - lr: 0.1000\n",
            "Epoch 26/200\n",
            "36/36 [==============================] - 1s 40ms/step - loss: 1.0227 - acc: 0.6680 - val_loss: 1.1753 - val_acc: 0.6388 - lr: 0.1000\n",
            "Epoch 27/200\n",
            "36/36 [==============================] - 1s 39ms/step - loss: 1.0149 - acc: 0.6700 - val_loss: 1.1354 - val_acc: 0.6680 - lr: 0.1000\n",
            "Epoch 28/200\n",
            "36/36 [==============================] - 1s 39ms/step - loss: 0.9858 - acc: 0.6855 - val_loss: 1.3545 - val_acc: 0.5709 - lr: 0.1000\n",
            "Epoch 29/200\n",
            "36/36 [==============================] - 1s 39ms/step - loss: 0.9784 - acc: 0.6933 - val_loss: 1.0641 - val_acc: 0.6835 - lr: 0.1000\n",
            "Epoch 30/200\n",
            "36/36 [==============================] - 1s 39ms/step - loss: 0.9778 - acc: 0.6931 - val_loss: 1.1372 - val_acc: 0.6524 - lr: 0.1000\n",
            "Epoch 31/200\n",
            "36/36 [==============================] - 1s 39ms/step - loss: 0.9648 - acc: 0.6955 - val_loss: 1.1117 - val_acc: 0.6641 - lr: 0.0010\n",
            "Epoch 32/200\n",
            "36/36 [==============================] - 1s 39ms/step - loss: 0.9205 - acc: 0.7175 - val_loss: 1.0862 - val_acc: 0.6854 - lr: 0.0010\n",
            "Epoch 33/200\n",
            "36/36 [==============================] - 1s 39ms/step - loss: 0.9154 - acc: 0.7230 - val_loss: 1.0784 - val_acc: 0.6738 - lr: 0.0010\n",
            "Epoch 34/200\n",
            "36/36 [==============================] - 1s 39ms/step - loss: 0.8992 - acc: 0.7352 - val_loss: 1.0708 - val_acc: 0.6874 - lr: 0.0010\n",
            "Epoch 35/200\n",
            "36/36 [==============================] - 1s 39ms/step - loss: 0.8876 - acc: 0.7281 - val_loss: 1.0697 - val_acc: 0.6757 - lr: 0.0010\n",
            "Epoch 36/200\n",
            "36/36 [==============================] - 1s 39ms/step - loss: 0.8864 - acc: 0.7383 - val_loss: 1.0524 - val_acc: 0.6757 - lr: 0.0010\n",
            "Epoch 37/200\n",
            "36/36 [==============================] - 1s 38ms/step - loss: 0.8886 - acc: 0.7357 - val_loss: 1.0848 - val_acc: 0.6718 - lr: 0.0010\n",
            "Epoch 38/200\n",
            "36/36 [==============================] - 1s 39ms/step - loss: 0.8824 - acc: 0.7368 - val_loss: 1.0616 - val_acc: 0.6718 - lr: 0.0010\n",
            "Epoch 39/200\n",
            "36/36 [==============================] - 1s 39ms/step - loss: 0.8767 - acc: 0.7397 - val_loss: 1.0765 - val_acc: 0.6757 - lr: 0.0010\n",
            "Epoch 40/200\n",
            "36/36 [==============================] - 1s 40ms/step - loss: 0.8891 - acc: 0.7321 - val_loss: 1.0533 - val_acc: 0.6816 - lr: 0.0010\n",
            "Epoch 41/200\n",
            "36/36 [==============================] - 1s 39ms/step - loss: 0.8835 - acc: 0.7395 - val_loss: 1.0418 - val_acc: 0.6913 - lr: 0.0010\n",
            "Epoch 42/200\n",
            "36/36 [==============================] - 1s 39ms/step - loss: 0.8686 - acc: 0.7401 - val_loss: 1.0542 - val_acc: 0.6816 - lr: 0.0010\n",
            "Epoch 43/200\n",
            "36/36 [==============================] - 1s 39ms/step - loss: 0.8701 - acc: 0.7381 - val_loss: 1.0384 - val_acc: 0.6893 - lr: 0.0010\n",
            "Epoch 44/200\n",
            "36/36 [==============================] - 1s 40ms/step - loss: 0.8654 - acc: 0.7494 - val_loss: 1.0499 - val_acc: 0.6893 - lr: 0.0010\n",
            "Epoch 45/200\n",
            "36/36 [==============================] - 1s 39ms/step - loss: 0.8714 - acc: 0.7455 - val_loss: 1.0519 - val_acc: 0.6835 - lr: 0.0010\n",
            "Epoch 46/200\n",
            "36/36 [==============================] - 1s 40ms/step - loss: 0.8757 - acc: 0.7335 - val_loss: 1.0552 - val_acc: 0.6893 - lr: 0.0010\n",
            "Epoch 47/200\n",
            "36/36 [==============================] - 1s 39ms/step - loss: 0.8680 - acc: 0.7399 - val_loss: 1.0423 - val_acc: 0.7010 - lr: 0.0010\n",
            "Epoch 48/200\n",
            "36/36 [==============================] - 1s 39ms/step - loss: 0.8615 - acc: 0.7439 - val_loss: 1.0348 - val_acc: 0.6874 - lr: 0.0010\n",
            "Epoch 49/200\n",
            "36/36 [==============================] - 1s 39ms/step - loss: 0.8697 - acc: 0.7435 - val_loss: 1.1287 - val_acc: 0.6874 - lr: 0.0010\n",
            "Epoch 50/200\n",
            "36/36 [==============================] - 1s 38ms/step - loss: 0.8669 - acc: 0.7463 - val_loss: 1.0831 - val_acc: 0.6777 - lr: 0.0010\n",
            "Epoch 51/200\n",
            "36/36 [==============================] - 1s 39ms/step - loss: 0.8634 - acc: 0.7530 - val_loss: 1.0452 - val_acc: 0.7010 - lr: 0.0010\n",
            "Epoch 52/200\n",
            "36/36 [==============================] - 1s 38ms/step - loss: 0.8608 - acc: 0.7483 - val_loss: 1.0432 - val_acc: 0.6971 - lr: 0.0010\n",
            "Epoch 53/200\n",
            "36/36 [==============================] - 1s 38ms/step - loss: 0.8549 - acc: 0.7494 - val_loss: 1.0460 - val_acc: 0.7068 - lr: 0.0010\n",
            "Epoch 54/200\n",
            "36/36 [==============================] - 1s 38ms/step - loss: 0.8545 - acc: 0.7514 - val_loss: 1.0291 - val_acc: 0.7010 - lr: 0.0010\n",
            "Epoch 55/200\n",
            "36/36 [==============================] - 1s 39ms/step - loss: 0.8536 - acc: 0.7521 - val_loss: 1.0595 - val_acc: 0.6893 - lr: 0.0010\n",
            "Epoch 56/200\n",
            "36/36 [==============================] - 1s 40ms/step - loss: 0.8510 - acc: 0.7534 - val_loss: 1.0436 - val_acc: 0.7049 - lr: 0.0010\n",
            "Epoch 57/200\n",
            "36/36 [==============================] - 1s 39ms/step - loss: 0.8476 - acc: 0.7541 - val_loss: 1.0594 - val_acc: 0.6874 - lr: 0.0010\n",
            "Epoch 58/200\n",
            "36/36 [==============================] - 1s 39ms/step - loss: 0.8470 - acc: 0.7514 - val_loss: 1.0518 - val_acc: 0.6816 - lr: 0.0010\n",
            "Epoch 59/200\n",
            "36/36 [==============================] - 1s 39ms/step - loss: 0.8543 - acc: 0.7470 - val_loss: 1.0244 - val_acc: 0.7010 - lr: 0.0010\n",
            "Epoch 60/200\n",
            "36/36 [==============================] - 1s 40ms/step - loss: 0.8552 - acc: 0.7514 - val_loss: 1.0661 - val_acc: 0.6777 - lr: 0.0010\n",
            "Epoch 61/200\n",
            "36/36 [==============================] - 1s 40ms/step - loss: 0.8492 - acc: 0.7486 - val_loss: 1.0329 - val_acc: 0.6990 - lr: 1.0000e-05\n",
            "Epoch 62/200\n",
            "36/36 [==============================] - 1s 39ms/step - loss: 0.8538 - acc: 0.7501 - val_loss: 1.0372 - val_acc: 0.7068 - lr: 1.0000e-05\n",
            "Epoch 63/200\n",
            "36/36 [==============================] - 1s 39ms/step - loss: 0.8512 - acc: 0.7521 - val_loss: 1.0140 - val_acc: 0.7087 - lr: 1.0000e-05\n",
            "Epoch 64/200\n",
            "36/36 [==============================] - 1s 38ms/step - loss: 0.8482 - acc: 0.7568 - val_loss: 1.0552 - val_acc: 0.6932 - lr: 1.0000e-05\n",
            "Epoch 65/200\n",
            "36/36 [==============================] - 1s 40ms/step - loss: 0.8414 - acc: 0.7517 - val_loss: 1.0528 - val_acc: 0.6990 - lr: 1.0000e-05\n",
            "Epoch 66/200\n",
            "36/36 [==============================] - 1s 38ms/step - loss: 0.8487 - acc: 0.7550 - val_loss: 1.0518 - val_acc: 0.6971 - lr: 1.0000e-05\n",
            "Epoch 67/200\n",
            "36/36 [==============================] - 1s 38ms/step - loss: 0.8527 - acc: 0.7530 - val_loss: 1.0542 - val_acc: 0.6951 - lr: 1.0000e-05\n",
            "Epoch 68/200\n",
            "36/36 [==============================] - 1s 39ms/step - loss: 0.8480 - acc: 0.7552 - val_loss: 1.0746 - val_acc: 0.6874 - lr: 1.0000e-05\n",
            "Epoch 69/200\n",
            "36/36 [==============================] - 1s 39ms/step - loss: 0.8578 - acc: 0.7477 - val_loss: 1.0525 - val_acc: 0.6990 - lr: 1.0000e-05\n",
            "Epoch 70/200\n",
            "36/36 [==============================] - 1s 40ms/step - loss: 0.8475 - acc: 0.7494 - val_loss: 1.0585 - val_acc: 0.6951 - lr: 1.0000e-05\n",
            "Epoch 71/200\n",
            "36/36 [==============================] - 1s 38ms/step - loss: 0.8512 - acc: 0.7501 - val_loss: 1.0591 - val_acc: 0.6893 - lr: 1.0000e-05\n",
            "Epoch 72/200\n",
            "36/36 [==============================] - 1s 39ms/step - loss: 0.8481 - acc: 0.7559 - val_loss: 1.0571 - val_acc: 0.6874 - lr: 1.0000e-05\n",
            "Epoch 73/200\n",
            "36/36 [==============================] - 1s 38ms/step - loss: 0.8583 - acc: 0.7488 - val_loss: 1.0383 - val_acc: 0.6971 - lr: 1.0000e-05\n",
            "Epoch 74/200\n",
            "36/36 [==============================] - 1s 38ms/step - loss: 0.8475 - acc: 0.7577 - val_loss: 1.0399 - val_acc: 0.7049 - lr: 1.0000e-05\n",
            "Epoch 75/200\n",
            "36/36 [==============================] - 1s 39ms/step - loss: 0.8473 - acc: 0.7532 - val_loss: 1.0420 - val_acc: 0.7010 - lr: 1.0000e-05\n",
            "Epoch 76/200\n",
            "36/36 [==============================] - 1s 37ms/step - loss: 0.8422 - acc: 0.7585 - val_loss: 1.0524 - val_acc: 0.6913 - lr: 1.0000e-05\n",
            "Epoch 77/200\n",
            "36/36 [==============================] - 1s 39ms/step - loss: 0.8552 - acc: 0.7492 - val_loss: 1.0172 - val_acc: 0.7068 - lr: 1.0000e-05\n",
            "Epoch 78/200\n",
            "36/36 [==============================] - 1s 38ms/step - loss: 0.8438 - acc: 0.7532 - val_loss: 1.0366 - val_acc: 0.7049 - lr: 1.0000e-05\n",
            "Epoch 79/200\n",
            "36/36 [==============================] - 1s 38ms/step - loss: 0.8499 - acc: 0.7577 - val_loss: 1.0322 - val_acc: 0.7010 - lr: 1.0000e-05\n",
            "Epoch 80/200\n",
            "36/36 [==============================] - 1s 39ms/step - loss: 0.8563 - acc: 0.7523 - val_loss: 1.0559 - val_acc: 0.7010 - lr: 1.0000e-05\n",
            "Epoch 81/200\n",
            "36/36 [==============================] - 1s 38ms/step - loss: 0.8517 - acc: 0.7537 - val_loss: 1.0487 - val_acc: 0.6951 - lr: 1.0000e-05\n",
            "Epoch 82/200\n",
            "36/36 [==============================] - 1s 39ms/step - loss: 0.8399 - acc: 0.7572 - val_loss: 1.0280 - val_acc: 0.7049 - lr: 1.0000e-05\n",
            "Epoch 83/200\n",
            "36/36 [==============================] - 1s 38ms/step - loss: 0.8464 - acc: 0.7563 - val_loss: 1.0163 - val_acc: 0.7087 - lr: 1.0000e-05\n",
            "Epoch 84/200\n",
            "36/36 [==============================] - 1s 39ms/step - loss: 0.8477 - acc: 0.7534 - val_loss: 1.1438 - val_acc: 0.6816 - lr: 1.0000e-05\n",
            "Epoch 85/200\n",
            "36/36 [==============================] - 1s 38ms/step - loss: 0.8502 - acc: 0.7463 - val_loss: 1.1648 - val_acc: 0.6485 - lr: 1.0000e-05\n",
            "Epoch 86/200\n",
            "36/36 [==============================] - 1s 39ms/step - loss: 0.8486 - acc: 0.7461 - val_loss: 1.0381 - val_acc: 0.6990 - lr: 1.0000e-05\n",
            "Epoch 87/200\n",
            "36/36 [==============================] - 1s 39ms/step - loss: 0.8488 - acc: 0.7499 - val_loss: 1.0327 - val_acc: 0.7029 - lr: 1.0000e-05\n",
            "Epoch 88/200\n",
            "36/36 [==============================] - 1s 39ms/step - loss: 0.8504 - acc: 0.7506 - val_loss: 1.0472 - val_acc: 0.6990 - lr: 1.0000e-05\n",
            "Epoch 89/200\n",
            "36/36 [==============================] - 1s 39ms/step - loss: 0.8547 - acc: 0.7437 - val_loss: 1.0443 - val_acc: 0.7010 - lr: 1.0000e-05\n",
            "Epoch 90/200\n",
            "36/36 [==============================] - 1s 38ms/step - loss: 0.8602 - acc: 0.7426 - val_loss: 1.0465 - val_acc: 0.7010 - lr: 1.0000e-05\n",
            "Epoch 91/200\n",
            "36/36 [==============================] - 1s 38ms/step - loss: 0.8569 - acc: 0.7486 - val_loss: 1.0379 - val_acc: 0.6932 - lr: 1.0000e-05\n",
            "Epoch 92/200\n",
            "36/36 [==============================] - 1s 38ms/step - loss: 0.8497 - acc: 0.7543 - val_loss: 1.0291 - val_acc: 0.7029 - lr: 1.0000e-05\n",
            "Epoch 93/200\n",
            "36/36 [==============================] - 1s 39ms/step - loss: 0.8573 - acc: 0.7450 - val_loss: 1.0278 - val_acc: 0.6951 - lr: 1.0000e-05\n",
            "Epoch 94/200\n",
            "36/36 [==============================] - 1s 38ms/step - loss: 0.8502 - acc: 0.7523 - val_loss: 1.0636 - val_acc: 0.6913 - lr: 1.0000e-05\n",
            "Epoch 95/200\n",
            "36/36 [==============================] - 1s 40ms/step - loss: 0.8571 - acc: 0.7468 - val_loss: 1.0416 - val_acc: 0.6951 - lr: 1.0000e-05\n",
            "Epoch 96/200\n",
            "36/36 [==============================] - 1s 40ms/step - loss: 0.8580 - acc: 0.7437 - val_loss: 1.0655 - val_acc: 0.6777 - lr: 1.0000e-05\n",
            "Epoch 97/200\n",
            "36/36 [==============================] - 1s 40ms/step - loss: 0.8470 - acc: 0.7532 - val_loss: 1.0399 - val_acc: 0.7107 - lr: 1.0000e-05\n",
            "Epoch 98/200\n",
            "36/36 [==============================] - 1s 39ms/step - loss: 0.8510 - acc: 0.7481 - val_loss: 1.0631 - val_acc: 0.6835 - lr: 1.0000e-05\n",
            "Epoch 99/200\n",
            "36/36 [==============================] - 1s 39ms/step - loss: 0.8458 - acc: 0.7479 - val_loss: 1.0396 - val_acc: 0.6990 - lr: 1.0000e-05\n",
            "Epoch 100/200\n",
            "36/36 [==============================] - 1s 39ms/step - loss: 0.8550 - acc: 0.7521 - val_loss: 1.0872 - val_acc: 0.6835 - lr: 1.0000e-05\n",
            "Epoch 101/200\n",
            "36/36 [==============================] - 1s 39ms/step - loss: 0.8504 - acc: 0.7466 - val_loss: 1.0285 - val_acc: 0.7049 - lr: 1.0000e-05\n",
            "Epoch 102/200\n",
            "36/36 [==============================] - 1s 39ms/step - loss: 0.8473 - acc: 0.7565 - val_loss: 1.0498 - val_acc: 0.6913 - lr: 1.0000e-05\n",
            "Epoch 103/200\n",
            "36/36 [==============================] - 1s 39ms/step - loss: 0.8517 - acc: 0.7532 - val_loss: 1.0358 - val_acc: 0.7049 - lr: 1.0000e-05\n",
            "Epoch 104/200\n",
            "36/36 [==============================] - 1s 39ms/step - loss: 0.8462 - acc: 0.7523 - val_loss: 1.0523 - val_acc: 0.7029 - lr: 1.0000e-05\n",
            "Epoch 105/200\n",
            "36/36 [==============================] - 1s 39ms/step - loss: 0.8530 - acc: 0.7493 - val_loss: 1.0300 - val_acc: 0.6932 - lr: 1.0000e-05\n",
            "Epoch 106/200\n",
            "36/36 [==============================] - 1s 39ms/step - loss: 0.8510 - acc: 0.7543 - val_loss: 1.0484 - val_acc: 0.6990 - lr: 1.0000e-05\n",
            "Epoch 107/200\n",
            "36/36 [==============================] - 1s 40ms/step - loss: 0.8524 - acc: 0.7557 - val_loss: 1.0442 - val_acc: 0.7068 - lr: 1.0000e-05\n",
            "Epoch 108/200\n",
            "36/36 [==============================] - 1s 39ms/step - loss: 0.8565 - acc: 0.7441 - val_loss: 1.0750 - val_acc: 0.6874 - lr: 1.0000e-05\n",
            "Epoch 109/200\n",
            "36/36 [==============================] - 1s 39ms/step - loss: 0.8506 - acc: 0.7514 - val_loss: 1.0712 - val_acc: 0.6932 - lr: 1.0000e-05\n",
            "Epoch 110/200\n",
            "36/36 [==============================] - 1s 39ms/step - loss: 0.8523 - acc: 0.7501 - val_loss: 1.0243 - val_acc: 0.7049 - lr: 1.0000e-05\n",
            "Epoch 111/200\n",
            "36/36 [==============================] - 1s 40ms/step - loss: 0.8464 - acc: 0.7486 - val_loss: 1.0447 - val_acc: 0.6951 - lr: 1.0000e-05\n",
            "Epoch 112/200\n",
            "36/36 [==============================] - 1s 39ms/step - loss: 0.8585 - acc: 0.7430 - val_loss: 1.0413 - val_acc: 0.7107 - lr: 1.0000e-05\n",
            "Epoch 113/200\n",
            "36/36 [==============================] - 1s 41ms/step - loss: 0.8511 - acc: 0.7466 - val_loss: 1.0583 - val_acc: 0.6893 - lr: 1.0000e-05\n",
            "Epoch 114/200\n",
            "36/36 [==============================] - 1s 39ms/step - loss: 0.8535 - acc: 0.7437 - val_loss: 1.0596 - val_acc: 0.6990 - lr: 1.0000e-05\n",
            "Epoch 115/200\n",
            "36/36 [==============================] - 1s 40ms/step - loss: 0.8535 - acc: 0.7401 - val_loss: 1.0516 - val_acc: 0.6913 - lr: 1.0000e-05\n",
            "Epoch 116/200\n",
            "36/36 [==============================] - 1s 39ms/step - loss: 0.8442 - acc: 0.7528 - val_loss: 1.0477 - val_acc: 0.6932 - lr: 1.0000e-05\n",
            "Epoch 117/200\n",
            "36/36 [==============================] - 1s 40ms/step - loss: 0.8418 - acc: 0.7528 - val_loss: 1.0376 - val_acc: 0.7010 - lr: 1.0000e-05\n",
            "Epoch 118/200\n",
            "36/36 [==============================] - 1s 39ms/step - loss: 0.8475 - acc: 0.7545 - val_loss: 1.0469 - val_acc: 0.6932 - lr: 1.0000e-05\n",
            "Epoch 119/200\n",
            "36/36 [==============================] - 1s 40ms/step - loss: 0.8582 - acc: 0.7477 - val_loss: 1.0348 - val_acc: 0.7146 - lr: 1.0000e-05\n",
            "Epoch 120/200\n",
            "36/36 [==============================] - 1s 40ms/step - loss: 0.8463 - acc: 0.7577 - val_loss: 1.0336 - val_acc: 0.7126 - lr: 1.0000e-05\n",
            "Epoch 121/200\n",
            "36/36 [==============================] - 1s 39ms/step - loss: 0.8541 - acc: 0.7499 - val_loss: 1.0397 - val_acc: 0.7087 - lr: 1.0000e-05\n",
            "Epoch 122/200\n",
            "36/36 [==============================] - 1s 38ms/step - loss: 0.8506 - acc: 0.7499 - val_loss: 1.0227 - val_acc: 0.7049 - lr: 1.0000e-05\n",
            "Epoch 123/200\n",
            "36/36 [==============================] - 1s 38ms/step - loss: 0.8500 - acc: 0.7514 - val_loss: 1.0608 - val_acc: 0.6854 - lr: 1.0000e-05\n",
            "Epoch 124/200\n",
            "36/36 [==============================] - 1s 38ms/step - loss: 0.8573 - acc: 0.7479 - val_loss: 1.0580 - val_acc: 0.6835 - lr: 1.0000e-05\n",
            "Epoch 125/200\n",
            "36/36 [==============================] - 1s 37ms/step - loss: 0.8495 - acc: 0.7397 - val_loss: 1.0306 - val_acc: 0.6971 - lr: 1.0000e-05\n",
            "Epoch 126/200\n",
            "36/36 [==============================] - 1s 39ms/step - loss: 0.8431 - acc: 0.7508 - val_loss: 1.0516 - val_acc: 0.6932 - lr: 1.0000e-05\n",
            "Epoch 127/200\n",
            "36/36 [==============================] - 1s 40ms/step - loss: 0.8542 - acc: 0.7497 - val_loss: 1.0883 - val_acc: 0.6854 - lr: 1.0000e-05\n",
            "Epoch 128/200\n",
            "36/36 [==============================] - 1s 39ms/step - loss: 0.8573 - acc: 0.7392 - val_loss: 1.0503 - val_acc: 0.6932 - lr: 1.0000e-05\n",
            "Epoch 129/200\n",
            "36/36 [==============================] - 1s 40ms/step - loss: 0.8574 - acc: 0.7501 - val_loss: 1.0602 - val_acc: 0.6932 - lr: 1.0000e-05\n",
            "Epoch 130/200\n",
            "36/36 [==============================] - 1s 38ms/step - loss: 0.8502 - acc: 0.7537 - val_loss: 1.0363 - val_acc: 0.7029 - lr: 1.0000e-05\n",
            "Epoch 131/200\n",
            "36/36 [==============================] - 1s 39ms/step - loss: 0.8477 - acc: 0.7581 - val_loss: 1.0506 - val_acc: 0.6990 - lr: 1.0000e-05\n",
            "Epoch 132/200\n",
            "36/36 [==============================] - 1s 38ms/step - loss: 0.8477 - acc: 0.7448 - val_loss: 1.0539 - val_acc: 0.6990 - lr: 1.0000e-05\n",
            "Epoch 133/200\n",
            "36/36 [==============================] - 1s 39ms/step - loss: 0.8452 - acc: 0.7521 - val_loss: 1.0370 - val_acc: 0.6971 - lr: 1.0000e-05\n",
            "Epoch 134/200\n",
            "36/36 [==============================] - 1s 39ms/step - loss: 0.8608 - acc: 0.7452 - val_loss: 1.0335 - val_acc: 0.7126 - lr: 1.0000e-05\n",
            "Epoch 135/200\n",
            "36/36 [==============================] - 1s 38ms/step - loss: 0.8444 - acc: 0.7556 - val_loss: 1.0807 - val_acc: 0.6874 - lr: 1.0000e-05\n",
            "Epoch 136/200\n",
            "36/36 [==============================] - 1s 38ms/step - loss: 0.8566 - acc: 0.7457 - val_loss: 1.0756 - val_acc: 0.6913 - lr: 1.0000e-05\n",
            "Epoch 137/200\n",
            "36/36 [==============================] - 1s 38ms/step - loss: 0.8475 - acc: 0.7528 - val_loss: 1.0516 - val_acc: 0.6951 - lr: 1.0000e-05\n",
            "Epoch 138/200\n",
            "36/36 [==============================] - 1s 39ms/step - loss: 0.8445 - acc: 0.7514 - val_loss: 1.0453 - val_acc: 0.7010 - lr: 1.0000e-05\n",
            "Epoch 139/200\n",
            "36/36 [==============================] - 1s 38ms/step - loss: 0.8517 - acc: 0.7499 - val_loss: 1.0475 - val_acc: 0.7010 - lr: 1.0000e-05\n",
            "Epoch 140/200\n",
            "36/36 [==============================] - 1s 38ms/step - loss: 0.8505 - acc: 0.7483 - val_loss: 1.0212 - val_acc: 0.6990 - lr: 1.0000e-05\n",
            "Epoch 141/200\n",
            "36/36 [==============================] - 1s 38ms/step - loss: 0.8559 - acc: 0.7554 - val_loss: 1.0770 - val_acc: 0.6874 - lr: 1.0000e-05\n",
            "Epoch 142/200\n",
            "36/36 [==============================] - 1s 39ms/step - loss: 0.8549 - acc: 0.7443 - val_loss: 1.0446 - val_acc: 0.7010 - lr: 1.0000e-05\n",
            "Epoch 143/200\n",
            "36/36 [==============================] - 1s 39ms/step - loss: 0.8574 - acc: 0.7455 - val_loss: 1.0443 - val_acc: 0.6990 - lr: 1.0000e-05\n",
            "Epoch 144/200\n",
            "36/36 [==============================] - 1s 39ms/step - loss: 0.8521 - acc: 0.7437 - val_loss: 1.0668 - val_acc: 0.6913 - lr: 1.0000e-05\n",
            "Epoch 145/200\n",
            "36/36 [==============================] - 1s 38ms/step - loss: 0.8507 - acc: 0.7459 - val_loss: 1.0450 - val_acc: 0.7029 - lr: 1.0000e-05\n",
            "Epoch 146/200\n",
            "36/36 [==============================] - 1s 38ms/step - loss: 0.8545 - acc: 0.7448 - val_loss: 1.0736 - val_acc: 0.6971 - lr: 1.0000e-05\n",
            "Epoch 147/200\n",
            "36/36 [==============================] - 1s 39ms/step - loss: 0.8564 - acc: 0.7517 - val_loss: 1.0471 - val_acc: 0.7010 - lr: 1.0000e-05\n",
            "Epoch 148/200\n",
            "36/36 [==============================] - 1s 39ms/step - loss: 0.8491 - acc: 0.7552 - val_loss: 1.0464 - val_acc: 0.7029 - lr: 1.0000e-05\n",
            "Epoch 149/200\n",
            "36/36 [==============================] - 1s 40ms/step - loss: 0.8497 - acc: 0.7528 - val_loss: 1.0273 - val_acc: 0.7068 - lr: 1.0000e-05\n",
            "Epoch 150/200\n",
            "36/36 [==============================] - 1s 39ms/step - loss: 0.8565 - acc: 0.7461 - val_loss: 1.0624 - val_acc: 0.6835 - lr: 1.0000e-05\n",
            "Epoch 151/200\n",
            "36/36 [==============================] - 1s 39ms/step - loss: 0.8421 - acc: 0.7592 - val_loss: 1.0287 - val_acc: 0.7068 - lr: 1.0000e-05\n",
            "Epoch 152/200\n",
            "36/36 [==============================] - 1s 39ms/step - loss: 0.8585 - acc: 0.7455 - val_loss: 1.0368 - val_acc: 0.7029 - lr: 1.0000e-05\n",
            "Epoch 153/200\n",
            "36/36 [==============================] - 1s 38ms/step - loss: 0.8508 - acc: 0.7474 - val_loss: 1.0209 - val_acc: 0.7068 - lr: 1.0000e-05\n",
            "Epoch 154/200\n",
            "36/36 [==============================] - 1s 39ms/step - loss: 0.8556 - acc: 0.7486 - val_loss: 1.0375 - val_acc: 0.7010 - lr: 1.0000e-05\n",
            "Epoch 155/200\n",
            "36/36 [==============================] - 1s 38ms/step - loss: 0.8433 - acc: 0.7532 - val_loss: 1.0417 - val_acc: 0.6971 - lr: 1.0000e-05\n",
            "Epoch 156/200\n",
            "36/36 [==============================] - 1s 39ms/step - loss: 0.8611 - acc: 0.7554 - val_loss: 1.0434 - val_acc: 0.6990 - lr: 1.0000e-05\n",
            "Epoch 157/200\n",
            "36/36 [==============================] - 1s 39ms/step - loss: 0.8505 - acc: 0.7526 - val_loss: 1.0347 - val_acc: 0.6990 - lr: 1.0000e-05\n",
            "Epoch 158/200\n",
            "36/36 [==============================] - 1s 40ms/step - loss: 0.8556 - acc: 0.7472 - val_loss: 1.0677 - val_acc: 0.7010 - lr: 1.0000e-05\n",
            "Epoch 159/200\n",
            "36/36 [==============================] - 1s 39ms/step - loss: 0.8493 - acc: 0.7526 - val_loss: 1.0362 - val_acc: 0.6951 - lr: 1.0000e-05\n",
            "Epoch 160/200\n",
            "36/36 [==============================] - 1s 39ms/step - loss: 0.8414 - acc: 0.7541 - val_loss: 1.0287 - val_acc: 0.7068 - lr: 1.0000e-05\n",
            "Epoch 161/200\n",
            "36/36 [==============================] - 1s 39ms/step - loss: 0.8517 - acc: 0.7439 - val_loss: 1.0657 - val_acc: 0.6932 - lr: 1.0000e-05\n",
            "Epoch 162/200\n",
            "36/36 [==============================] - 1s 39ms/step - loss: 0.8561 - acc: 0.7490 - val_loss: 1.0383 - val_acc: 0.7068 - lr: 1.0000e-05\n",
            "Epoch 163/200\n",
            "36/36 [==============================] - 1s 38ms/step - loss: 0.8476 - acc: 0.7483 - val_loss: 1.0371 - val_acc: 0.7029 - lr: 1.0000e-05\n",
            "Epoch 164/200\n",
            "36/36 [==============================] - 1s 38ms/step - loss: 0.8516 - acc: 0.7530 - val_loss: 1.0346 - val_acc: 0.7010 - lr: 1.0000e-05\n",
            "Epoch 165/200\n",
            "36/36 [==============================] - 1s 38ms/step - loss: 0.8484 - acc: 0.7483 - val_loss: 1.0169 - val_acc: 0.7087 - lr: 1.0000e-05\n",
            "Epoch 166/200\n",
            "36/36 [==============================] - 1s 39ms/step - loss: 0.8561 - acc: 0.7468 - val_loss: 1.0270 - val_acc: 0.7068 - lr: 1.0000e-05\n",
            "Epoch 167/200\n",
            "36/36 [==============================] - 1s 39ms/step - loss: 0.8488 - acc: 0.7488 - val_loss: 1.0391 - val_acc: 0.6932 - lr: 1.0000e-05\n",
            "Epoch 168/200\n",
            "36/36 [==============================] - 1s 39ms/step - loss: 0.8501 - acc: 0.7486 - val_loss: 1.0500 - val_acc: 0.7049 - lr: 1.0000e-05\n",
            "Epoch 169/200\n",
            "36/36 [==============================] - 1s 39ms/step - loss: 0.8524 - acc: 0.7490 - val_loss: 1.0361 - val_acc: 0.6951 - lr: 1.0000e-05\n",
            "Epoch 170/200\n",
            "36/36 [==============================] - 1s 39ms/step - loss: 0.8507 - acc: 0.7483 - val_loss: 1.0250 - val_acc: 0.7068 - lr: 1.0000e-05\n",
            "Epoch 171/200\n",
            "36/36 [==============================] - 1s 39ms/step - loss: 0.8467 - acc: 0.7541 - val_loss: 1.0561 - val_acc: 0.6913 - lr: 1.0000e-05\n",
            "Epoch 172/200\n",
            "36/36 [==============================] - 1s 39ms/step - loss: 0.8500 - acc: 0.7499 - val_loss: 1.0492 - val_acc: 0.6893 - lr: 1.0000e-05\n",
            "Epoch 173/200\n",
            "36/36 [==============================] - 1s 39ms/step - loss: 0.8482 - acc: 0.7510 - val_loss: 1.0450 - val_acc: 0.6990 - lr: 1.0000e-05\n",
            "Epoch 174/200\n",
            "36/36 [==============================] - 1s 39ms/step - loss: 0.8437 - acc: 0.7625 - val_loss: 1.0494 - val_acc: 0.6913 - lr: 1.0000e-05\n",
            "Epoch 175/200\n",
            "36/36 [==============================] - 1s 38ms/step - loss: 0.8452 - acc: 0.7559 - val_loss: 1.0467 - val_acc: 0.6971 - lr: 1.0000e-05\n",
            "Epoch 176/200\n",
            "36/36 [==============================] - 1s 38ms/step - loss: 0.8475 - acc: 0.7526 - val_loss: 1.0699 - val_acc: 0.7010 - lr: 1.0000e-05\n",
            "Epoch 177/200\n",
            "36/36 [==============================] - 1s 38ms/step - loss: 0.8490 - acc: 0.7483 - val_loss: 1.0470 - val_acc: 0.6990 - lr: 1.0000e-05\n",
            "Epoch 178/200\n",
            "36/36 [==============================] - 1s 38ms/step - loss: 0.8547 - acc: 0.7519 - val_loss: 1.0869 - val_acc: 0.6913 - lr: 1.0000e-05\n",
            "Epoch 179/200\n",
            "36/36 [==============================] - 1s 38ms/step - loss: 0.8428 - acc: 0.7563 - val_loss: 1.0399 - val_acc: 0.7029 - lr: 1.0000e-05\n",
            "Epoch 180/200\n",
            "36/36 [==============================] - 1s 38ms/step - loss: 0.8540 - acc: 0.7503 - val_loss: 1.0319 - val_acc: 0.7029 - lr: 1.0000e-05\n",
            "Epoch 181/200\n",
            "36/36 [==============================] - 1s 38ms/step - loss: 0.8518 - acc: 0.7450 - val_loss: 1.0395 - val_acc: 0.6990 - lr: 1.0000e-05\n",
            "Epoch 182/200\n",
            "36/36 [==============================] - 1s 39ms/step - loss: 0.8557 - acc: 0.7457 - val_loss: 1.0282 - val_acc: 0.6990 - lr: 1.0000e-05\n",
            "Epoch 183/200\n",
            "36/36 [==============================] - 1s 39ms/step - loss: 0.8562 - acc: 0.7472 - val_loss: 1.0566 - val_acc: 0.6932 - lr: 1.0000e-05\n",
            "Epoch 184/200\n",
            "36/36 [==============================] - 1s 38ms/step - loss: 0.8477 - acc: 0.7455 - val_loss: 1.0443 - val_acc: 0.6971 - lr: 1.0000e-05\n",
            "Epoch 185/200\n",
            "36/36 [==============================] - 1s 39ms/step - loss: 0.8573 - acc: 0.7468 - val_loss: 1.0650 - val_acc: 0.6913 - lr: 1.0000e-05\n",
            "Epoch 186/200\n",
            "36/36 [==============================] - 1s 38ms/step - loss: 0.8395 - acc: 0.7568 - val_loss: 1.0381 - val_acc: 0.6990 - lr: 1.0000e-05\n",
            "Epoch 187/200\n",
            "36/36 [==============================] - 1s 39ms/step - loss: 0.8515 - acc: 0.7508 - val_loss: 1.0369 - val_acc: 0.7049 - lr: 1.0000e-05\n",
            "Epoch 188/200\n",
            "36/36 [==============================] - 1s 38ms/step - loss: 0.8573 - acc: 0.7430 - val_loss: 1.0423 - val_acc: 0.7010 - lr: 1.0000e-05\n",
            "Epoch 189/200\n",
            "36/36 [==============================] - 1s 39ms/step - loss: 0.8566 - acc: 0.7430 - val_loss: 1.0194 - val_acc: 0.7068 - lr: 1.0000e-05\n",
            "Epoch 190/200\n",
            "36/36 [==============================] - 1s 39ms/step - loss: 0.8457 - acc: 0.7528 - val_loss: 1.0599 - val_acc: 0.6893 - lr: 1.0000e-05\n",
            "Epoch 191/200\n",
            "36/36 [==============================] - 1s 40ms/step - loss: 0.8481 - acc: 0.7483 - val_loss: 1.0501 - val_acc: 0.6893 - lr: 1.0000e-05\n",
            "Epoch 192/200\n",
            "36/36 [==============================] - 1s 40ms/step - loss: 0.8542 - acc: 0.7492 - val_loss: 1.0604 - val_acc: 0.6913 - lr: 1.0000e-05\n",
            "Epoch 193/200\n",
            "36/36 [==============================] - 1s 39ms/step - loss: 0.8494 - acc: 0.7523 - val_loss: 1.0713 - val_acc: 0.6951 - lr: 1.0000e-05\n",
            "Epoch 194/200\n",
            "36/36 [==============================] - 1s 40ms/step - loss: 0.8522 - acc: 0.7552 - val_loss: 1.0594 - val_acc: 0.6990 - lr: 1.0000e-05\n",
            "Epoch 195/200\n",
            "36/36 [==============================] - 1s 39ms/step - loss: 0.8507 - acc: 0.7470 - val_loss: 1.0311 - val_acc: 0.7010 - lr: 1.0000e-05\n",
            "Epoch 196/200\n",
            "36/36 [==============================] - 1s 40ms/step - loss: 0.8530 - acc: 0.7501 - val_loss: 1.0384 - val_acc: 0.7068 - lr: 1.0000e-05\n",
            "Epoch 197/200\n",
            "36/36 [==============================] - 1s 40ms/step - loss: 0.8522 - acc: 0.7510 - val_loss: 1.0412 - val_acc: 0.6971 - lr: 1.0000e-05\n",
            "Epoch 198/200\n",
            "36/36 [==============================] - 1s 39ms/step - loss: 0.8601 - acc: 0.7410 - val_loss: 1.0328 - val_acc: 0.6932 - lr: 1.0000e-05\n",
            "Epoch 199/200\n",
            "36/36 [==============================] - 1s 38ms/step - loss: 0.8455 - acc: 0.7545 - val_loss: 1.0640 - val_acc: 0.7029 - lr: 1.0000e-05\n",
            "Epoch 200/200\n",
            "36/36 [==============================] - 1s 39ms/step - loss: 0.8528 - acc: 0.7506 - val_loss: 1.0524 - val_acc: 0.7010 - lr: 1.0000e-05\n"
          ],
          "name": "stdout"
        }
      ]
    },
    {
      "cell_type": "code",
      "metadata": {
        "id": "mvd1NVKvpH0U",
        "colab_type": "code",
        "colab": {
          "base_uri": "https://localhost:8080/",
          "height": 607
        },
        "outputId": "1f11b8f9-c2e5-4e50-f74e-a8b58dfd0172"
      },
      "source": [
        "show_graph(hist)"
      ],
      "execution_count": 20,
      "outputs": [
        {
          "output_type": "stream",
          "text": [
            "dict_keys(['loss', 'acc', 'val_loss', 'val_acc', 'lr'])\n"
          ],
          "name": "stdout"
        },
        {
          "output_type": "display_data",
          "data": {
            "image/png": "[encoded data removed]",
            "text/plain": [
              "<Figure size 432x288 with 1 Axes>"
            ]
          },
          "metadata": {
            "tags": [],
            "needs_background": "light"
          }
        },
        {
          "output_type": "display_data",
          "data": {
            "image/png": "[encoded data removed]",
            "text/plain": [
              "<Figure size 432x288 with 1 Axes>"
            ]
          },
          "metadata": {
            "tags": [],
            "needs_background": "light"
          }
        },
        {
          "output_type": "display_data",
          "data": {
            "text/plain": [
              "<Figure size 432x288 with 0 Axes>"
            ]
          },
          "metadata": {
            "tags": []
          }
        }
      ]
    },
    {
      "cell_type": "markdown",
      "metadata": {
        "id": "vEDHJIheU8bm",
        "colab_type": "text"
      },
      "source": [
        "# Adversarial Examples\n"
      ]
    },
    {
      "cell_type": "markdown",
      "metadata": {
        "id": "cydHkZ8pauMe",
        "colab_type": "text"
      },
      "source": [
        "**Non_Adversarial Training Test**"
      ]
    },
    {
      "cell_type": "code",
      "metadata": {
        "id": "HkjbXCV6KFcL",
        "colab_type": "code",
        "colab": {}
      },
      "source": [
        "epsilon_list = [0.003,0.005,0.01,0.02]\n",
        "train_object = Non_adversarial()\n",
        "sgd = SGD(lr=0.1, momentum=0.6)\n",
        "result_df = train_object.train_iterate(X_train, Y_train, X_test, y_test, EPOCHS, BS,sgd, epsilon_list)"
      ],
      "execution_count": null,
      "outputs": []
    },
    {
      "cell_type": "markdown",
      "metadata": {
        "id": "8IkS-pL3EkeO",
        "colab_type": "text"
      },
      "source": [
        "# **Show Results**"
      ]
    },
    {
      "cell_type": "code",
      "metadata": {
        "id": "IH9uGMSFVwwK",
        "colab_type": "code",
        "colab": {}
      },
      "source": [
        "result_df[\"acc_clean_mean\"]= np.sum(result_df['acc_clean'])/3.0\n",
        "result_df[\"acc_0.003_mean\"]= np.sum(result_df['acc1'])/3.0\n",
        "result_df[\"acc_0.005_mean\"]= np.sum(result_df['acc2'])/3.0\n",
        "result_df[\"acc_0.01_mean\"]= np.sum(result_df['acc3'])/3.0\n",
        "result_df[\"acc_0.02_mean\"]= np.sum(result_df['acc4'])/3.0"
      ],
      "execution_count": 49,
      "outputs": []
    },
    {
      "cell_type": "code",
      "metadata": {
        "id": "FvrbKwan2yV0",
        "colab_type": "code",
        "colab": {
          "base_uri": "https://localhost:8080/",
          "height": 100
        },
        "outputId": "210af884-83ed-4c28-c575-7b434c46bb2e"
      },
      "source": [
        "result_df.head(1)"
      ],
      "execution_count": 43,
      "outputs": [
        {
          "output_type": "execute_result",
          "data": {
            "text/html": [
              "<div>\n",
              "<style scoped>\n",
              "    .dataframe tbody tr th:only-of-type {\n",
              "        vertical-align: middle;\n",
              "    }\n",
              "\n",
              "    .dataframe tbody tr th {\n",
              "        vertical-align: top;\n",
              "    }\n",
              "\n",
              "    .dataframe thead th {\n",
              "        text-align: right;\n",
              "    }\n",
              "</style>\n",
              "<table border=\"1\" class=\"dataframe\">\n",
              "  <thead>\n",
              "    <tr style=\"text-align: right;\">\n",
              "      <th></th>\n",
              "      <th>loss_clean</th>\n",
              "      <th>acc_clean</th>\n",
              "      <th>loss1</th>\n",
              "      <th>acc1</th>\n",
              "      <th>loss2</th>\n",
              "      <th>acc2</th>\n",
              "      <th>loss3</th>\n",
              "      <th>acc3</th>\n",
              "      <th>loss4</th>\n",
              "      <th>acc4</th>\n",
              "      <th>acc_clean_mean</th>\n",
              "      <th>acc_0.003_mean</th>\n",
              "      <th>acc_0.005_mean</th>\n",
              "      <th>acc_0.02_mean</th>\n",
              "      <th>acc_0.01_mean</th>\n",
              "    </tr>\n",
              "  </thead>\n",
              "  <tbody>\n",
              "    <tr>\n",
              "      <th>0</th>\n",
              "      <td>1.006274</td>\n",
              "      <td>0.65445</td>\n",
              "      <td>1.087387</td>\n",
              "      <td>0.619546</td>\n",
              "      <td>1.143842</td>\n",
              "      <td>0.603839</td>\n",
              "      <td>1.29054</td>\n",
              "      <td>0.549738</td>\n",
              "      <td>1.596286</td>\n",
              "      <td>0.455497</td>\n",
              "      <td>0.691681</td>\n",
              "      <td>0.662595</td>\n",
              "      <td>0.643979</td>\n",
              "      <td>0.585806</td>\n",
              "      <td>0.477022</td>\n",
              "    </tr>\n",
              "  </tbody>\n",
              "</table>\n",
              "</div>"
            ],
            "text/plain": [
              "   loss_clean  acc_clean  ...  acc_0.02_mean  acc_0.01_mean\n",
              "0    1.006274    0.65445  ...       0.585806       0.477022\n",
              "\n",
              "[1 rows x 15 columns]"
            ]
          },
          "metadata": {
            "tags": []
          },
          "execution_count": 43
        }
      ]
    },
    {
      "cell_type": "markdown",
      "metadata": {
        "id": "ZuWpwrKuwmsc",
        "colab_type": "text"
      },
      "source": [
        "# Adversarial Training"
      ]
    },
    {
      "cell_type": "code",
      "metadata": {
        "id": "MDxVNgZvPRHP",
        "colab_type": "code",
        "colab": {}
      },
      "source": [
        "\"\"\" Adversarial Training \"\"\"\n",
        "\n",
        "import numpy as np\n",
        "class AdversarialTraining(object):\n",
        "    \"\"\"Adversarial Training  \"\"\"\n",
        "    def __init__(self):\n",
        "        pass\n",
        "    def train(self, pretrained_model, X_train, Y_train, X_test, y_test, epochs, BS, epsilon_list, sgd):\n",
        "        init = (32, 32,1)\n",
        "        res_df = pd.DataFrame(columns=['loss_clean','acc_clean',\n",
        "                                 'loss1', 'acc1','loss2', 'acc2','loss3',\n",
        "                                  'acc3','loss4', 'acc4'])\n",
        "\n",
        "        kfold = KFold(n_splits = 3, random_state = 42, shuffle=False)\n",
        "        for j, (train, val) in enumerate(kfold.split(X_train)):\n",
        "          x_train, y_train = self.data_augmentation(X_train[train], Y_train[train], BS, pretrained_model, epsilon_list)\n",
        "          x_val, y_val = self.data_augmentation(X_train[val], Y_train[val], BS, pretrained_model, epsilon_list)\n",
        "          model = create_wide_residual_network(init, nb_classes=4, N=2, k=2, dropout=0.5)\n",
        "          model.compile(loss=\"categorical_crossentropy\", optimizer=sgd, metrics=[\"acc\"])\n",
        "          hist = model.fit(generator.flow(x_train, y_train, batch_size=BS), steps_per_epoch=len(x_train) // BS, epochs=epochs,\n",
        "                          callbacks = [lr_scheduler],\n",
        "                          validation_data=(x_val, y_val),\n",
        "                          validation_steps=x_val.shape[0] // BS,)\n",
        "          loss, acc = model.evaluate(X_test, y_test)\n",
        "          loss1, acc1 = print_test(model, get_adversarial_examples(pretrained_model, X_test, y_test, epsilon_list[0]),X_test, y_test, epsilon_list[0])\n",
        "          loss2, acc2 = print_test(model, get_adversarial_examples(pretrained_model, X_test, y_test, epsilon_list[1]),X_test, y_test, epsilon_list[1])\n",
        "          loss3, acc3 = print_test(model, get_adversarial_examples(pretrained_model, X_test, y_test, epsilon_list[2]),X_test, y_test, epsilon_list[2])\n",
        "          loss4, acc4 = print_test(model, get_adversarial_examples(pretrained_model, X_test, y_test, epsilon_list[3]),X_test, y_test, epsilon_list[3])\n",
        "          row = {'loss_clean':loss,'acc_clean':acc, 'loss1':loss1, 'acc1':acc1, 'loss2':loss2,\n",
        "                  'acc2':acc2, 'loss3':loss3, 'acc3':acc3, 'loss4':loss4, 'acc4':acc4}\n",
        "          res_df = res_df.append(row , ignore_index=True)\n",
        "          \n",
        "        return res_df\n",
        "    def mini_batch_train(self, model, X_train,y_train, x_val, y_val, BS, pretrained_model, epsilon):\n",
        "\n",
        "\n",
        "        hist = model.fit(generator.flow(X_train, y_train, batch_size=BS), steps_per_epoch=len(X_train) // BS, epochs=1,\n",
        "                   validation_data=(x_val, y_val),\n",
        "                   validation_steps=x_val.shape[0] // BS, shuffle = True)\n",
        "        \n",
        "        ### TODO ###\n",
        "        ## Save hist on file.###\n",
        "\n",
        "\n",
        "    def data_augmentation(self, X_train, Y_train, batch_size, pretrained_model, epsilon_list):\n",
        "      ### divide data 16,16,16,16 for 4 different epsilons and 64 is true image. ### \n",
        "        #start_index = self.data_iteration(X_train, batch_size)\n",
        "        first_half_end = int(len(X_train)/2)\n",
        "        second_half_end = int(len(X_train))\n",
        "        x_clean = X_train[0:first_half_end,:,:,:]\n",
        "        x_adv = self.get_adversarial(pretrained_model,X_train[first_half_end:second_half_end,:,:,:], Y_train[first_half_end:second_half_end], epsilon_list)\n",
        "        x_mix = self.merge_data(x_clean, x_adv)\n",
        "        y_mix = Y_train[0:second_half_end]\n",
        "        ### TODO###\n",
        "        # Mixture data for 4 epsilon values\n",
        "\n",
        "        return x_mix, y_mix\n",
        "\n",
        "    def data_iteration(self, X_train, batch_size):\n",
        "        N = X_train.shape[0]\n",
        "        start = np.random.randint(0, N-batch_size)\n",
        "        return start\n",
        "\n",
        "    def merge_data(self, x_clean, x_adv):\n",
        "        x_mix = []\n",
        "        for i in range(len(x_clean)):\n",
        "          x_mix.append(x_clean[i])\n",
        "        for j in range(len(x_adv)):\n",
        "          x_mix.append(x_adv[j])\n",
        "        x_mix = np.array(x_mix)\n",
        "\n",
        "        return x_mix\n",
        "\n",
        "\n",
        "    def get_adversarial(self,logits_model, X_true, y_true, epsilon_list):\n",
        "\n",
        "        return self.adversarial_example(logits_model,X_true, y_true, epsilon_list)\n",
        "\n",
        "    def adversarial_example(self,logits_model, X_true, Y_true, epsilon_list):\n",
        "        size = len(X_true)\n",
        "        X_adv = []\n",
        "        interval = int(size/4)\n",
        "        index_list = [0,interval, interval*2, interval*3, size]\n",
        "        index = 0\n",
        "        for epsilon in epsilon_list:\n",
        "          if index == 4:\n",
        "            break\n",
        "          x_true = X_true[index_list[index]:index_list[index+1],:,:,:]\n",
        "          y_true = Y_true[index_list[index]:index_list[index+1]]\n",
        "\n",
        "          index = index + 1\n",
        "\n",
        "          for i in range(len(x_true)):\n",
        "            random_index = i\n",
        "            original_image = x_true[random_index]\n",
        "            original_image = tf.convert_to_tensor(original_image.reshape((1,32,32))) #The .reshape just gives it the proper form to input into the model, a batch of 1 a.k.a a tensor\n",
        "            original_label = y_true[random_index]\n",
        "            original_label = np.reshape(np.argmax(original_label), (1,)).astype('int64')\n",
        "            adv_example_targeted_label = fast_gradient_method(logits_model, original_image, epsilon, np.inf,y=original_label, targeted=False)\n",
        "            X_adv.append(np.array(adv_example_targeted_label).reshape(32,32,1))\n",
        "          \n",
        "        X_adv = np.array(X_adv)\n",
        "        return X_adv\n"
      ],
      "execution_count": 51,
      "outputs": []
    },
    {
      "cell_type": "markdown",
      "metadata": {
        "id": "SW5vG0s9PAmw",
        "colab_type": "text"
      },
      "source": [
        "Adversarial Training Second Wide ResNet "
      ]
    },
    {
      "cell_type": "code",
      "metadata": {
        "id": "UR3373MWPvSY",
        "colab_type": "code",
        "colab": {}
      },
      "source": [
        "epsilon_list = [0.003,0.005,0.01,0.02]\n",
        "adversarial_training =  AdversarialTraining()"
      ],
      "execution_count": 52,
      "outputs": []
    },
    {
      "cell_type": "code",
      "metadata": {
        "id": "S2LxFwajOiI7",
        "colab_type": "code",
        "colab": {}
      },
      "source": [
        "logits_model = tf.keras.Model(wrn_16_2.input, wrn_16_2.layers[-1].output)\n",
        "sgd = SGD(lr=0.1, momentum=0.6)"
      ],
      "execution_count": 53,
      "outputs": []
    },
    {
      "cell_type": "code",
      "metadata": {
        "id": "i82EfjWHP2mv",
        "colab_type": "code",
        "colab": {}
      },
      "source": [
        "result_adv_df = adversarial_training.train(logits_model, X_train, Y_train, X_test, y_test, EPOCHS, BS, epsilon_list, sgd)"
      ],
      "execution_count": null,
      "outputs": []
    },
    {
      "cell_type": "markdown",
      "metadata": {
        "id": "_xBzRKS8IoCR",
        "colab_type": "text"
      },
      "source": [
        "# **Show Result**"
      ]
    },
    {
      "cell_type": "code",
      "metadata": {
        "id": "l2KYCUfIFW6h",
        "colab_type": "code",
        "colab": {}
      },
      "source": [
        "result_adv_df[\"acc_clean_mean\"]= np.sum(result_adv_df['acc_clean'])/3.0\n",
        "result_adv_df[\"acc_0.003_mean\"]= np.sum(result_adv_df['acc1'])/3.0\n",
        "result_adv_df[\"acc_0.005_mean\"]= np.sum(result_adv_df['acc2'])/3.0\n",
        "result_adv_df[\"acc_0.02_mean\"]= np.sum(result_adv_df['acc3'])/3.0\n",
        "result_adv_df[\"acc_0.01_mean\"]= np.sum(result_adv_df['acc4'])/3.0"
      ],
      "execution_count": 57,
      "outputs": []
    },
    {
      "cell_type": "code",
      "metadata": {
        "id": "sgmnwxkO5xdV",
        "colab_type": "code",
        "colab": {
          "base_uri": "https://localhost:8080/",
          "height": 100
        },
        "outputId": "b8b1ff5e-7890-4dff-b1df-4f4f76b80bae"
      },
      "source": [
        "result_adv_df.head(1)"
      ],
      "execution_count": 41,
      "outputs": [
        {
          "output_type": "execute_result",
          "data": {
            "text/html": [
              "<div>\n",
              "<style scoped>\n",
              "    .dataframe tbody tr th:only-of-type {\n",
              "        vertical-align: middle;\n",
              "    }\n",
              "\n",
              "    .dataframe tbody tr th {\n",
              "        vertical-align: top;\n",
              "    }\n",
              "\n",
              "    .dataframe thead th {\n",
              "        text-align: right;\n",
              "    }\n",
              "</style>\n",
              "<table border=\"1\" class=\"dataframe\">\n",
              "  <thead>\n",
              "    <tr style=\"text-align: right;\">\n",
              "      <th></th>\n",
              "      <th>loss_clean</th>\n",
              "      <th>acc_clean</th>\n",
              "      <th>loss1</th>\n",
              "      <th>acc1</th>\n",
              "      <th>loss2</th>\n",
              "      <th>acc2</th>\n",
              "      <th>loss3</th>\n",
              "      <th>acc3</th>\n",
              "      <th>loss4</th>\n",
              "      <th>acc4</th>\n",
              "      <th>acc_clean_mean</th>\n",
              "      <th>acc_0.003_mean</th>\n",
              "      <th>acc_0.005_mean</th>\n",
              "      <th>acc_0.02_mean</th>\n",
              "      <th>acc_0.01_mean</th>\n",
              "    </tr>\n",
              "  </thead>\n",
              "  <tbody>\n",
              "    <tr>\n",
              "      <th>0</th>\n",
              "      <td>0.957502</td>\n",
              "      <td>0.708551</td>\n",
              "      <td>0.969366</td>\n",
              "      <td>0.703316</td>\n",
              "      <td>0.977373</td>\n",
              "      <td>0.696335</td>\n",
              "      <td>0.997614</td>\n",
              "      <td>0.684119</td>\n",
              "      <td>1.039549</td>\n",
              "      <td>0.670157</td>\n",
              "      <td>0.710878</td>\n",
              "      <td>0.706806</td>\n",
              "      <td>0.703898</td>\n",
              "      <td>0.685864</td>\n",
              "      <td>0.66783</td>\n",
              "    </tr>\n",
              "  </tbody>\n",
              "</table>\n",
              "</div>"
            ],
            "text/plain": [
              "   loss_clean  acc_clean  ...  acc_0.02_mean  acc_0.01_mean\n",
              "0    0.957502   0.708551  ...       0.685864        0.66783\n",
              "\n",
              "[1 rows x 15 columns]"
            ]
          },
          "metadata": {
            "tags": []
          },
          "execution_count": 41
        }
      ]
    }
  ]
}