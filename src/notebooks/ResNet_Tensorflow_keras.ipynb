{
  "nbformat": 4,
  "nbformat_minor": 0,
  "metadata": {
    "colab": {
      "name": "ResNet_Tensorflow_keras.ipynb",
      "provenance": [],
      "toc_visible": true,
      "include_colab_link": true
    },
    "kernelspec": {
      "name": "python3",
      "display_name": "Python 3"
    },
    "accelerator": "GPU"
  },
  "cells": [
    {
      "cell_type": "markdown",
      "metadata": {
        "id": "view-in-github",
        "colab_type": "text"
      },
      "source": [
        "<a href=\"https://colab.research.google.com/github/sefeoglu/AE_Parseval_Network/blob/master/src/notebooks/ResNet_Tensorflow_keras.ipynb\" target=\"_parent\"><img src=\"https://colab.research.google.com/assets/colab-badge.svg\" alt=\"Open In Colab\"/></a>"
      ]
    },
    {
      "cell_type": "markdown",
      "metadata": {
        "id": "cczYDRrfFlDx",
        "colab_type": "text"
      },
      "source": [
        "# Wide ResNet 16_2"
      ]
    },
    {
      "cell_type": "code",
      "metadata": {
        "id": "HWvd9YADGtMS",
        "colab_type": "code",
        "colab": {}
      },
      "source": [
        "import tensorflow as tf"
      ],
      "execution_count": null,
      "outputs": []
    },
    {
      "cell_type": "markdown",
      "metadata": {
        "id": "8aqbIFJTwXLH",
        "colab_type": "text"
      },
      "source": [
        "# Model"
      ]
    },
    {
      "cell_type": "code",
      "metadata": {
        "id": "QRdSMgRjG8ex",
        "colab_type": "code",
        "colab": {
          "base_uri": "https://localhost:8080/",
          "height": 1000
        },
        "outputId": "030355c8-0797-4bb1-a64a-c51b8864b736"
      },
      "source": [
        "from tensorflow.keras.models import Model\n",
        "from tensorflow.keras.layers import Input, Add, Activation, Dropout, Flatten, Dense\n",
        "from tensorflow.keras.layers import Convolution2D, MaxPooling2D, AveragePooling2D\n",
        "from tensorflow.keras.layers import BatchNormalization\n",
        "from tensorflow.keras.regularizers import l2\n",
        "from tensorflow.keras import backend as K\n",
        "import warnings\n",
        "\n",
        "warnings.filterwarnings(\"ignore\")\n",
        "weight_decay = 0.0001\n",
        "\n",
        "\n",
        "def initial_conv(input):\n",
        "  \n",
        "    x = Convolution2D(16, (3, 3), padding='same', kernel_initializer='he_normal',\n",
        "                      kernel_regularizer=l2(weight_decay),\n",
        "                      use_bias=False)(input)\n",
        "\n",
        "    channel_axis = 1 if K.image_data_format() == \"channels_first\" else -1\n",
        "\n",
        "    x = BatchNormalization(axis=channel_axis, momentum=0.1, epsilon=1e-5, gamma_initializer='uniform')(x)\n",
        "    x = Activation('relu')(x)\n",
        "    return x\n",
        "\n",
        "\n",
        "def expand_conv(init, base, k, strides=(1, 1)):\n",
        "    x = Convolution2D(base * k, (3, 3), padding='same', strides=strides, kernel_initializer='he_normal', kernel_regularizer=l2(weight_decay),\n",
        "                      use_bias=False)(init)\n",
        "\n",
        "    channel_axis = 1 if K.image_data_format() == \"channels_first\" else -1\n",
        "\n",
        "    x = BatchNormalization(axis=channel_axis, momentum=0.1, epsilon=1e-5, gamma_initializer='uniform')(x)\n",
        "    x = Activation('relu')(x)\n",
        "\n",
        "    x = Convolution2D(base * k, (3, 3), padding='same', kernel_initializer='he_normal',\n",
        "                      kernel_regularizer=l2(weight_decay),\n",
        "                      use_bias=False)(x)\n",
        "\n",
        "    skip = Convolution2D(base * k, (1, 1), padding='same', strides=strides, kernel_initializer='he_normal',\n",
        "                      kernel_regularizer=l2(weight_decay),\n",
        "                      use_bias=False)(init)\n",
        "\n",
        "    m = Add()([x, skip])\n",
        "\n",
        "    return m\n",
        "\n",
        "\n",
        "def conv1_block(input, k=1, dropout=0.0):\n",
        "    init = input\n",
        "\n",
        "    channel_axis = 1 if K.image_data_format() == \"channels_first\" else -1\n",
        "\n",
        "    x = BatchNormalization(axis=channel_axis, momentum=0.1, epsilon=1e-5, gamma_initializer='uniform')(input)\n",
        "    x = Activation('relu')(x)\n",
        "    x = Convolution2D(16 * k, (3, 3), padding='same', kernel_initializer='he_normal',\n",
        "                      kernel_regularizer=l2(weight_decay),\n",
        "                      use_bias=False)(x)\n",
        "\n",
        "    if dropout > 0.0: x = Dropout(dropout)(x)\n",
        "\n",
        "    x = BatchNormalization(axis=channel_axis, momentum=0.1, epsilon=1e-5, gamma_initializer='uniform')(x)\n",
        "    x = Activation('relu')(x)\n",
        "    x = Convolution2D(16 * k, (3, 3), padding='same', kernel_initializer='he_normal',\n",
        "                      kernel_regularizer=l2(weight_decay),\n",
        "                      use_bias=False)(x)\n",
        "\n",
        "    m = Add()([init, x])\n",
        "    return m\n",
        "\n",
        "def conv2_block(input, k=1, dropout=0.0):\n",
        "    init = input\n",
        "\n",
        "    channel_axis = 1 if K.image_data_format() == \"channels_first\" else -1\n",
        "    print(\"conv2:channel:  {}\".format(channel_axis))\n",
        "    x = BatchNormalization(axis=channel_axis, momentum=0.1, epsilon=1e-5, gamma_initializer='uniform')(input)\n",
        "    x = Activation('relu')(x)\n",
        "    x = Convolution2D(32 * k, (3, 3), padding='same', kernel_initializer='he_normal',\n",
        "                      kernel_regularizer=l2(weight_decay),\n",
        "                      use_bias=False)(x)\n",
        "\n",
        "    if dropout > 0.0: x = Dropout(dropout)(x)\n",
        "\n",
        "    x = BatchNormalization(axis=channel_axis, momentum=0.1, epsilon=1e-5, gamma_initializer='uniform')(x)\n",
        "    x = Activation('relu')(x)\n",
        "    x = Convolution2D(32 * k, (3, 3), padding='same', kernel_initializer='he_normal',\n",
        "                      kernel_regularizer=l2(weight_decay),\n",
        "                      use_bias=False)(x)\n",
        "\n",
        "    m = Add()([init, x])\n",
        "    return m\n",
        "\n",
        "def conv3_block(input, k=1, dropout=0.0):\n",
        "    init = input\n",
        "\n",
        "    channel_axis = 1 if K.image_data_format() == \"channels_first\" else -1\n",
        "    print(\"conv3 channel_axis:{} \".format(channel_axis))\n",
        "    x = BatchNormalization(axis=channel_axis, momentum=0.1, epsilon=1e-5, gamma_initializer='uniform')(input)\n",
        "    x = Activation('relu')(x)\n",
        "    x = Convolution2D(64 * k, (3, 3), padding='same', kernel_initializer='he_normal',\n",
        "                      kernel_regularizer=l2(weight_decay),\n",
        "                      use_bias=False)(x)\n",
        "\n",
        "    if dropout > 0.0: x = Dropout(dropout)(x)\n",
        "\n",
        "    x = BatchNormalization(axis=channel_axis, momentum=0.1, epsilon=1e-5, gamma_initializer='uniform')(x)\n",
        "    x = Activation('relu')(x)\n",
        "    x = Convolution2D(64 * k, (3, 3), padding='same', kernel_initializer='he_normal',\n",
        "                      kernel_regularizer=l2(weight_decay),\n",
        "                      use_bias=False)(x)\n",
        "\n",
        "    m = Add()([init, x])\n",
        "    return m\n",
        "\n",
        "def create_wide_residual_network(input_dim, nb_classes=100, N=2, k=1, dropout=0.0, verbose=1):\n",
        "    \"\"\"\n",
        "    Creates a Wide Residual Network with specified parameters\n",
        "\n",
        "    :param input: Input Keras object\n",
        "    :param nb_classes: Number of output classes\n",
        "    :param N: Depth of the network. Compute N = (n - 4) / 6.\n",
        "              Example : For a depth of 16, n = 16, N = (16 - 4) / 6 = 2\n",
        "              Example2: For a depth of 28, n = 28, N = (28 - 4) / 6 = 4\n",
        "              Example3: For a depth of 40, n = 40, N = (40 - 4) / 6 = 6\n",
        "    :param k: Width of the network.\n",
        "    :param dropout: Adds dropout if value is greater than 0.0\n",
        "    :param verbose: Debug info to describe created WRN\n",
        "    :return:\n",
        "    \"\"\"\n",
        "    channel_axis = 1 if K.image_data_format() == \"channels_first\" else -1\n",
        "\n",
        "    ip = Input(shape=input_dim)\n",
        "\n",
        "    x = initial_conv(ip)\n",
        "    nb_conv = 4\n",
        "\n",
        "    x = expand_conv(x, 16, k)\n",
        "    nb_conv += 2\n",
        "\n",
        "    for i in range(N - 1):\n",
        "        x = conv1_block(x, k, dropout)\n",
        "        nb_conv += 2\n",
        "\n",
        "    x = BatchNormalization(axis=channel_axis, momentum=0.1, epsilon=1e-5, gamma_initializer='uniform')(x)\n",
        "    x = Activation('relu')(x)\n",
        "\n",
        "    x = expand_conv(x, 32, k, strides=(2, 2))\n",
        "    nb_conv += 2\n",
        "\n",
        "    for i in range(N - 1):\n",
        "        x = conv2_block(x, k, dropout)\n",
        "        nb_conv += 2\n",
        "\n",
        "    x = BatchNormalization(axis=channel_axis, momentum=0.1, epsilon=1e-5, gamma_initializer='uniform')(x)\n",
        "    x = Activation('relu')(x)\n",
        "\n",
        "    x = expand_conv(x, 64, k, strides=(2, 2))\n",
        "    nb_conv += 2\n",
        "\n",
        "    for i in range(N - 1):\n",
        "        x = conv3_block(x, k, dropout)\n",
        "        nb_conv += 2\n",
        "\n",
        "    x = BatchNormalization(axis=channel_axis, momentum=0.1, epsilon=1e-5, gamma_initializer='uniform')(x)\n",
        "    x = Activation('relu')(x)\n",
        "\n",
        "    x = AveragePooling2D((8, 8))(x)\n",
        "    x = Flatten()(x)\n",
        "\n",
        "    x = Dense(nb_classes, kernel_regularizer=l2(weight_decay), activation='softmax')(x)\n",
        "\n",
        "    model = Model(ip, x)\n",
        "\n",
        "    if verbose: print(\"Wide Residual Network-%d-%d created.\" % (nb_conv, k))\n",
        "    return model\n",
        "\n",
        "if __name__ == \"__main__\":\n",
        "\n",
        "    init = (32, 32,1)\n",
        "\n",
        "    wrn_16_2 = create_wide_residual_network(init, nb_classes=4, N=2, k=2, dropout=0.5)\n",
        "\n",
        "    wrn_16_2.summary()\n",
        "\n"
      ],
      "execution_count": null,
      "outputs": [
        {
          "output_type": "stream",
          "text": [
            "conv2:channel:  -1\n",
            "conv3 channel_axis:-1 \n",
            "Wide Residual Network-16-2 created.\n",
            "Model: \"model_8\"\n",
            "__________________________________________________________________________________________________\n",
            "Layer (type)                    Output Shape         Param #     Connected to                     \n",
            "==================================================================================================\n",
            "input_7 (InputLayer)            [(None, 32, 32, 1)]  0                                            \n",
            "__________________________________________________________________________________________________\n",
            "conv2d_96 (Conv2D)              (None, 32, 32, 16)   144         input_7[0][0]                    \n",
            "__________________________________________________________________________________________________\n",
            "batch_normalization_78 (BatchNo (None, 32, 32, 16)   64          conv2d_96[0][0]                  \n",
            "__________________________________________________________________________________________________\n",
            "activation_78 (Activation)      (None, 32, 32, 16)   0           batch_normalization_78[0][0]     \n",
            "__________________________________________________________________________________________________\n",
            "conv2d_97 (Conv2D)              (None, 32, 32, 32)   4608        activation_78[0][0]              \n",
            "__________________________________________________________________________________________________\n",
            "batch_normalization_79 (BatchNo (None, 32, 32, 32)   128         conv2d_97[0][0]                  \n",
            "__________________________________________________________________________________________________\n",
            "activation_79 (Activation)      (None, 32, 32, 32)   0           batch_normalization_79[0][0]     \n",
            "__________________________________________________________________________________________________\n",
            "conv2d_98 (Conv2D)              (None, 32, 32, 32)   9216        activation_79[0][0]              \n",
            "__________________________________________________________________________________________________\n",
            "conv2d_99 (Conv2D)              (None, 32, 32, 32)   512         activation_78[0][0]              \n",
            "__________________________________________________________________________________________________\n",
            "add_36 (Add)                    (None, 32, 32, 32)   0           conv2d_98[0][0]                  \n",
            "                                                                 conv2d_99[0][0]                  \n",
            "__________________________________________________________________________________________________\n",
            "batch_normalization_80 (BatchNo (None, 32, 32, 32)   128         add_36[0][0]                     \n",
            "__________________________________________________________________________________________________\n",
            "activation_80 (Activation)      (None, 32, 32, 32)   0           batch_normalization_80[0][0]     \n",
            "__________________________________________________________________________________________________\n",
            "conv2d_100 (Conv2D)             (None, 32, 32, 32)   9216        activation_80[0][0]              \n",
            "__________________________________________________________________________________________________\n",
            "dropout_18 (Dropout)            (None, 32, 32, 32)   0           conv2d_100[0][0]                 \n",
            "__________________________________________________________________________________________________\n",
            "batch_normalization_81 (BatchNo (None, 32, 32, 32)   128         dropout_18[0][0]                 \n",
            "__________________________________________________________________________________________________\n",
            "activation_81 (Activation)      (None, 32, 32, 32)   0           batch_normalization_81[0][0]     \n",
            "__________________________________________________________________________________________________\n",
            "conv2d_101 (Conv2D)             (None, 32, 32, 32)   9216        activation_81[0][0]              \n",
            "__________________________________________________________________________________________________\n",
            "add_37 (Add)                    (None, 32, 32, 32)   0           add_36[0][0]                     \n",
            "                                                                 conv2d_101[0][0]                 \n",
            "__________________________________________________________________________________________________\n",
            "batch_normalization_82 (BatchNo (None, 32, 32, 32)   128         add_37[0][0]                     \n",
            "__________________________________________________________________________________________________\n",
            "activation_82 (Activation)      (None, 32, 32, 32)   0           batch_normalization_82[0][0]     \n",
            "__________________________________________________________________________________________________\n",
            "conv2d_102 (Conv2D)             (None, 16, 16, 64)   18432       activation_82[0][0]              \n",
            "__________________________________________________________________________________________________\n",
            "batch_normalization_83 (BatchNo (None, 16, 16, 64)   256         conv2d_102[0][0]                 \n",
            "__________________________________________________________________________________________________\n",
            "activation_83 (Activation)      (None, 16, 16, 64)   0           batch_normalization_83[0][0]     \n",
            "__________________________________________________________________________________________________\n",
            "conv2d_103 (Conv2D)             (None, 16, 16, 64)   36864       activation_83[0][0]              \n",
            "__________________________________________________________________________________________________\n",
            "conv2d_104 (Conv2D)             (None, 16, 16, 64)   2048        activation_82[0][0]              \n",
            "__________________________________________________________________________________________________\n",
            "add_38 (Add)                    (None, 16, 16, 64)   0           conv2d_103[0][0]                 \n",
            "                                                                 conv2d_104[0][0]                 \n",
            "__________________________________________________________________________________________________\n",
            "batch_normalization_84 (BatchNo (None, 16, 16, 64)   256         add_38[0][0]                     \n",
            "__________________________________________________________________________________________________\n",
            "activation_84 (Activation)      (None, 16, 16, 64)   0           batch_normalization_84[0][0]     \n",
            "__________________________________________________________________________________________________\n",
            "conv2d_105 (Conv2D)             (None, 16, 16, 64)   36864       activation_84[0][0]              \n",
            "__________________________________________________________________________________________________\n",
            "dropout_19 (Dropout)            (None, 16, 16, 64)   0           conv2d_105[0][0]                 \n",
            "__________________________________________________________________________________________________\n",
            "batch_normalization_85 (BatchNo (None, 16, 16, 64)   256         dropout_19[0][0]                 \n",
            "__________________________________________________________________________________________________\n",
            "activation_85 (Activation)      (None, 16, 16, 64)   0           batch_normalization_85[0][0]     \n",
            "__________________________________________________________________________________________________\n",
            "conv2d_106 (Conv2D)             (None, 16, 16, 64)   36864       activation_85[0][0]              \n",
            "__________________________________________________________________________________________________\n",
            "add_39 (Add)                    (None, 16, 16, 64)   0           add_38[0][0]                     \n",
            "                                                                 conv2d_106[0][0]                 \n",
            "__________________________________________________________________________________________________\n",
            "batch_normalization_86 (BatchNo (None, 16, 16, 64)   256         add_39[0][0]                     \n",
            "__________________________________________________________________________________________________\n",
            "activation_86 (Activation)      (None, 16, 16, 64)   0           batch_normalization_86[0][0]     \n",
            "__________________________________________________________________________________________________\n",
            "conv2d_107 (Conv2D)             (None, 8, 8, 128)    73728       activation_86[0][0]              \n",
            "__________________________________________________________________________________________________\n",
            "batch_normalization_87 (BatchNo (None, 8, 8, 128)    512         conv2d_107[0][0]                 \n",
            "__________________________________________________________________________________________________\n",
            "activation_87 (Activation)      (None, 8, 8, 128)    0           batch_normalization_87[0][0]     \n",
            "__________________________________________________________________________________________________\n",
            "conv2d_108 (Conv2D)             (None, 8, 8, 128)    147456      activation_87[0][0]              \n",
            "__________________________________________________________________________________________________\n",
            "conv2d_109 (Conv2D)             (None, 8, 8, 128)    8192        activation_86[0][0]              \n",
            "__________________________________________________________________________________________________\n",
            "add_40 (Add)                    (None, 8, 8, 128)    0           conv2d_108[0][0]                 \n",
            "                                                                 conv2d_109[0][0]                 \n",
            "__________________________________________________________________________________________________\n",
            "batch_normalization_88 (BatchNo (None, 8, 8, 128)    512         add_40[0][0]                     \n",
            "__________________________________________________________________________________________________\n",
            "activation_88 (Activation)      (None, 8, 8, 128)    0           batch_normalization_88[0][0]     \n",
            "__________________________________________________________________________________________________\n",
            "conv2d_110 (Conv2D)             (None, 8, 8, 128)    147456      activation_88[0][0]              \n",
            "__________________________________________________________________________________________________\n",
            "dropout_20 (Dropout)            (None, 8, 8, 128)    0           conv2d_110[0][0]                 \n",
            "__________________________________________________________________________________________________\n",
            "batch_normalization_89 (BatchNo (None, 8, 8, 128)    512         dropout_20[0][0]                 \n",
            "__________________________________________________________________________________________________\n",
            "activation_89 (Activation)      (None, 8, 8, 128)    0           batch_normalization_89[0][0]     \n",
            "__________________________________________________________________________________________________\n",
            "conv2d_111 (Conv2D)             (None, 8, 8, 128)    147456      activation_89[0][0]              \n",
            "__________________________________________________________________________________________________\n",
            "add_41 (Add)                    (None, 8, 8, 128)    0           add_40[0][0]                     \n",
            "                                                                 conv2d_111[0][0]                 \n",
            "__________________________________________________________________________________________________\n",
            "batch_normalization_90 (BatchNo (None, 8, 8, 128)    512         add_41[0][0]                     \n",
            "__________________________________________________________________________________________________\n",
            "activation_90 (Activation)      (None, 8, 8, 128)    0           batch_normalization_90[0][0]     \n",
            "__________________________________________________________________________________________________\n",
            "average_pooling2d_6 (AveragePoo (None, 1, 1, 128)    0           activation_90[0][0]              \n",
            "__________________________________________________________________________________________________\n",
            "flatten_6 (Flatten)             (None, 128)          0           average_pooling2d_6[0][0]        \n",
            "__________________________________________________________________________________________________\n",
            "dense_6 (Dense)                 (None, 4)            516         flatten_6[0][0]                  \n",
            "==================================================================================================\n",
            "Total params: 692,436\n",
            "Trainable params: 690,612\n",
            "Non-trainable params: 1,824\n",
            "__________________________________________________________________________________________________\n"
          ],
          "name": "stdout"
        }
      ]
    },
    {
      "cell_type": "markdown",
      "metadata": {
        "id": "ffNo5x-Ft9Fe",
        "colab_type": "text"
      },
      "source": [
        "# Data Prepare and Processing\n",
        "\n",
        "\n"
      ]
    },
    {
      "cell_type": "code",
      "metadata": {
        "id": "AJqH742XcPQv",
        "colab_type": "code",
        "colab": {}
      },
      "source": [
        "from sklearn.model_selection import train_test_split\n",
        "import gzip\n",
        "import pickle\n",
        "\n",
        "import numpy as np"
      ],
      "execution_count": null,
      "outputs": []
    },
    {
      "cell_type": "code",
      "metadata": {
        "id": "pBRh7YDqiuqw",
        "colab_type": "code",
        "colab": {}
      },
      "source": [
        "\n",
        "with open('data_set.pickle', 'rb') as f:\n",
        "    x = pickle.load(f)"
      ],
      "execution_count": null,
      "outputs": []
    },
    {
      "cell_type": "code",
      "metadata": {
        "id": "ONi_4KtjjNE2",
        "colab_type": "code",
        "colab": {}
      },
      "source": [
        "X_train, y_train,X_test, y_test, X_val, y_val = x['X_train'], x['y_train'], x['X_test'], x['y_test'], x['X_val'], x['y_val']"
      ],
      "execution_count": null,
      "outputs": []
    },
    {
      "cell_type": "code",
      "metadata": {
        "id": "fNBI_SkvuzgK",
        "colab_type": "code",
        "colab": {}
      },
      "source": [
        "def read_data():\n",
        "    with open(\"data.pz\", 'rb') as file_:\n",
        "        with gzip.GzipFile(fileobj=file_) as gzf:\n",
        "            data = pickle.load(gzf, encoding='latin1', fix_imports=True)\n",
        "    return data\n",
        "data = read_data()\n"
      ],
      "execution_count": null,
      "outputs": []
    },
    {
      "cell_type": "code",
      "metadata": {
        "id": "4euxwMe2jIoX",
        "colab_type": "code",
        "colab": {
          "base_uri": "https://localhost:8080/",
          "height": 34
        },
        "outputId": "b8a89af9-b15e-428f-81f2-ba981804c810"
      },
      "source": [
        "import cv2\n",
        "new_data_X = []\n",
        "Y_data = []\n",
        "for row in data:\n",
        "    new_data_X.append(cv2.resize(row['crop'], (32,32)))\n",
        "    Y_data.append(row['label'])\n",
        "new_data_X = np.array(new_data_X)\n",
        "new_data_X.shape"
      ],
      "execution_count": null,
      "outputs": [
        {
          "output_type": "execute_result",
          "data": {
            "text/plain": [
              "(5722, 32, 32)"
            ]
          },
          "metadata": {
            "tags": []
          },
          "execution_count": 53
        }
      ]
    },
    {
      "cell_type": "code",
      "metadata": {
        "id": "TNBsNVDNu6Ku",
        "colab_type": "code",
        "colab": {
          "base_uri": "https://localhost:8080/",
          "height": 34
        },
        "outputId": "2266e79c-ba96-48fd-9247-86b41b5c9362"
      },
      "source": [
        "X = new_data_X.astype('float32')\n",
        "X.shape"
      ],
      "execution_count": null,
      "outputs": [
        {
          "output_type": "execute_result",
          "data": {
            "text/plain": [
              "(5722, 32, 32)"
            ]
          },
          "metadata": {
            "tags": []
          },
          "execution_count": 54
        }
      ]
    },
    {
      "cell_type": "markdown",
      "metadata": {
        "id": "MFQdrnTKuM8c",
        "colab_type": "text"
      },
      "source": [
        "# Preprocessing"
      ]
    },
    {
      "cell_type": "code",
      "metadata": {
        "id": "uqf-dZOrvC0e",
        "colab_type": "code",
        "colab": {}
      },
      "source": [
        "img_rows, img_cols = X[0].shape\n",
        "\n",
        "# transform data set\n",
        "if K.image_data_format() == 'channels_first':\n",
        "    X = X.reshape(X.shape[0], 1, img_rows, img_cols)\n",
        "    input_shape = (1, img_rows, img_cols)\n",
        "else:\n",
        "    X = X.reshape(X.shape[0], img_rows, img_cols, 1)\n",
        "    input_shape = (img_rows, img_cols, 1)"
      ],
      "execution_count": null,
      "outputs": []
    },
    {
      "cell_type": "code",
      "metadata": {
        "id": "2eEHVf2Bu9xt",
        "colab_type": "code",
        "colab": {}
      },
      "source": [
        "import pandas as pd\n",
        "import numpy as np\n",
        "from sklearn.preprocessing import LabelEncoder\n",
        "\n",
        "labelencoder = LabelEncoder()\n",
        "y_df = pd.DataFrame(Y_data, columns=['Label'])\n",
        "y_df['Encoded'] = labelencoder.fit_transform(y_df['Label'])"
      ],
      "execution_count": null,
      "outputs": []
    },
    {
      "cell_type": "code",
      "metadata": {
        "id": "56hwq9R2jruF",
        "colab_type": "code",
        "colab": {
          "base_uri": "https://localhost:8080/",
          "height": 104
        },
        "outputId": "fde82827-16be-4fb3-93a9-d908e5350f28"
      },
      "source": [
        "y_df['Label'].value_counts()"
      ],
      "execution_count": null,
      "outputs": [
        {
          "output_type": "execute_result",
          "data": {
            "text/plain": [
              "closed           1500\n",
              "open             1500\n",
              "partiallyOpen    1376\n",
              "notVisible       1346\n",
              "Name: Label, dtype: int64"
            ]
          },
          "metadata": {
            "tags": []
          },
          "execution_count": 57
        }
      ]
    },
    {
      "cell_type": "code",
      "metadata": {
        "id": "WxAYuiEzj4Bp",
        "colab_type": "code",
        "colab": {
          "base_uri": "https://localhost:8080/",
          "height": 104
        },
        "outputId": "0289812a-6ff3-4727-9b99-fe5276b85a17"
      },
      "source": [
        "y_df['Encoded'].value_counts()\n"
      ],
      "execution_count": null,
      "outputs": [
        {
          "output_type": "execute_result",
          "data": {
            "text/plain": [
              "2    1500\n",
              "0    1500\n",
              "3    1376\n",
              "1    1346\n",
              "Name: Encoded, dtype: int64"
            ]
          },
          "metadata": {
            "tags": []
          },
          "execution_count": 58
        }
      ]
    },
    {
      "cell_type": "code",
      "metadata": {
        "id": "wdkpb2Jkqu6t",
        "colab_type": "code",
        "colab": {}
      },
      "source": [
        "from tensorflow.keras.utils import to_categorical\n",
        "\n",
        "y_cat = to_categorical(y_df['Encoded'])"
      ],
      "execution_count": null,
      "outputs": []
    },
    {
      "cell_type": "markdown",
      "metadata": {
        "id": "Kif3Li9NuSnV",
        "colab_type": "text"
      },
      "source": [
        "# Training"
      ]
    },
    {
      "cell_type": "code",
      "metadata": {
        "id": "rghSgp3NvhhV",
        "colab_type": "code",
        "colab": {}
      },
      "source": [
        "from tensorflow.keras.optimizers import SGD\n",
        "from tensorflow.keras.callbacks import Callback, LearningRateScheduler, EarlyStopping\n",
        "import tensorflow\n",
        "\n",
        "EPOCHS = 200\n",
        "BS = 128\n",
        "sgd = SGD(lr=0.1, momentum=0.6)"
      ],
      "execution_count": null,
      "outputs": []
    },
    {
      "cell_type": "code",
      "metadata": {
        "id": "yBnqXaiNwHGl",
        "colab_type": "code",
        "colab": {
          "base_uri": "https://localhost:8080/",
          "height": 34
        },
        "outputId": "1fe43458-2453-4180-aaf7-fed9fecc1983"
      },
      "source": [
        "wrn_16_2.compile(loss=\"categorical_crossentropy\", optimizer=sgd, metrics=[\"acc\"])\n",
        "print(\"Finished compiling\")\n"
      ],
      "execution_count": null,
      "outputs": [
        {
          "output_type": "stream",
          "text": [
            "Finished compiling\n"
          ],
          "name": "stdout"
        }
      ]
    },
    {
      "cell_type": "code",
      "metadata": {
        "id": "88yOqhbSwjPa",
        "colab_type": "code",
        "colab": {}
      },
      "source": [
        "def lr_sch(epoch):\n",
        "    if epoch < 30:\n",
        "        return 0.1\n",
        "    elif epoch < 50:\n",
        "        return 0.001\n",
        "    elif epoch < 60:\n",
        "        return 0.001\n",
        "    else:\n",
        "        return 0.00001\n",
        "\n",
        "# Learning rate scheduler callback\n",
        "lr_scheduler = LearningRateScheduler(lr_sch)"
      ],
      "execution_count": null,
      "outputs": []
    },
    {
      "cell_type": "code",
      "metadata": {
        "id": "TbpiWMEgRpWa",
        "colab_type": "code",
        "colab": {}
      },
      "source": [
        "generator = tensorflow.keras.preprocessing.image.ImageDataGenerator(rotation_range=10,\n",
        "                               width_shift_range=5./32,\n",
        "                               height_shift_range=5./32,)"
      ],
      "execution_count": null,
      "outputs": []
    },
    {
      "cell_type": "code",
      "metadata": {
        "id": "uo-6r-Zvva5l",
        "colab_type": "code",
        "colab": {}
      },
      "source": [
        "X_train, X_test, y_train, y_test = train_test_split(X, y_cat, test_size = 0.1)\n",
        "X_train, X_val, y_train, y_val = train_test_split(X_train, y_train, test_size = 0.1)"
      ],
      "execution_count": null,
      "outputs": []
    },
    {
      "cell_type": "code",
      "metadata": {
        "id": "JVs_QNHoEKji",
        "colab_type": "code",
        "colab": {
          "base_uri": "https://localhost:8080/",
          "height": 1000
        },
        "outputId": "667112ab-7e45-43b4-fbf6-95adc9b26425"
      },
      "source": [
        "hist = wrn_16_2.fit(generator.flow(X_train, y_train, batch_size=BS), steps_per_epoch=len(X_train) // BS, epochs=EPOCHS,\n",
        "                   callbacks = [lr_scheduler],\n",
        "                   validation_data=(X_val, y_val),\n",
        "                   validation_steps=X_val.shape[0] // BS,)"
      ],
      "execution_count": null,
      "outputs": [
        {
          "output_type": "stream",
          "text": [
            "Epoch 1/200\n",
            "36/36 [==============================] - 4s 99ms/step - loss: 1.5968 - acc: 0.2887 - val_loss: 1.5523 - val_acc: 0.3728 - lr: 0.1000\n",
            "Epoch 2/200\n",
            "36/36 [==============================] - 3s 85ms/step - loss: 1.5177 - acc: 0.3644 - val_loss: 1.4944 - val_acc: 0.3553 - lr: 0.1000\n",
            "Epoch 3/200\n",
            "36/36 [==============================] - 3s 85ms/step - loss: 1.4817 - acc: 0.3686 - val_loss: 1.5421 - val_acc: 0.3728 - lr: 0.1000\n",
            "Epoch 4/200\n",
            "36/36 [==============================] - 3s 85ms/step - loss: 1.4696 - acc: 0.3806 - val_loss: 1.4461 - val_acc: 0.3825 - lr: 0.1000\n",
            "Epoch 5/200\n",
            "36/36 [==============================] - 3s 86ms/step - loss: 1.4390 - acc: 0.3946 - val_loss: 1.4198 - val_acc: 0.4311 - lr: 0.1000\n",
            "Epoch 6/200\n",
            "36/36 [==============================] - 3s 85ms/step - loss: 1.4277 - acc: 0.4203 - val_loss: 1.4223 - val_acc: 0.4272 - lr: 0.1000\n",
            "Epoch 7/200\n",
            "36/36 [==============================] - 3s 86ms/step - loss: 1.4161 - acc: 0.4265 - val_loss: 1.4206 - val_acc: 0.4039 - lr: 0.1000\n",
            "Epoch 8/200\n",
            "36/36 [==============================] - 3s 84ms/step - loss: 1.4081 - acc: 0.4239 - val_loss: 1.3780 - val_acc: 0.4563 - lr: 0.1000\n",
            "Epoch 9/200\n",
            "36/36 [==============================] - 3s 85ms/step - loss: 1.3903 - acc: 0.4543 - val_loss: 1.3802 - val_acc: 0.4757 - lr: 0.1000\n",
            "Epoch 10/200\n",
            "36/36 [==============================] - 3s 85ms/step - loss: 1.3719 - acc: 0.4916 - val_loss: 1.3552 - val_acc: 0.5146 - lr: 0.1000\n",
            "Epoch 11/200\n",
            "36/36 [==============================] - 3s 85ms/step - loss: 1.3420 - acc: 0.5138 - val_loss: 1.3238 - val_acc: 0.5359 - lr: 0.1000\n",
            "Epoch 12/200\n",
            "36/36 [==============================] - 3s 85ms/step - loss: 1.3060 - acc: 0.5348 - val_loss: 1.3135 - val_acc: 0.5437 - lr: 0.1000\n",
            "Epoch 13/200\n",
            "36/36 [==============================] - 3s 86ms/step - loss: 1.2819 - acc: 0.5464 - val_loss: 1.2836 - val_acc: 0.5282 - lr: 0.1000\n",
            "Epoch 14/200\n",
            "36/36 [==============================] - 3s 85ms/step - loss: 1.2473 - acc: 0.5690 - val_loss: 1.1906 - val_acc: 0.6000 - lr: 0.1000\n",
            "Epoch 15/200\n",
            "36/36 [==============================] - 3s 85ms/step - loss: 1.2211 - acc: 0.5839 - val_loss: 1.2597 - val_acc: 0.5612 - lr: 0.1000\n",
            "Epoch 16/200\n",
            "36/36 [==============================] - 3s 86ms/step - loss: 1.2297 - acc: 0.5857 - val_loss: 1.3231 - val_acc: 0.5359 - lr: 0.1000\n",
            "Epoch 17/200\n",
            "36/36 [==============================] - 3s 86ms/step - loss: 1.1772 - acc: 0.6021 - val_loss: 1.2012 - val_acc: 0.6039 - lr: 0.1000\n",
            "Epoch 18/200\n",
            "36/36 [==============================] - 3s 85ms/step - loss: 1.1467 - acc: 0.6134 - val_loss: 1.0857 - val_acc: 0.6291 - lr: 0.1000\n",
            "Epoch 19/200\n",
            "36/36 [==============================] - 3s 86ms/step - loss: 1.0990 - acc: 0.6347 - val_loss: 1.1452 - val_acc: 0.6175 - lr: 0.1000\n",
            "Epoch 20/200\n",
            "36/36 [==============================] - 3s 85ms/step - loss: 1.1167 - acc: 0.6358 - val_loss: 1.0988 - val_acc: 0.6544 - lr: 0.1000\n",
            "Epoch 21/200\n",
            "36/36 [==============================] - 3s 86ms/step - loss: 1.0698 - acc: 0.6571 - val_loss: 1.2731 - val_acc: 0.5650 - lr: 0.1000\n",
            "Epoch 22/200\n",
            "36/36 [==============================] - 3s 84ms/step - loss: 1.0429 - acc: 0.6671 - val_loss: 1.0747 - val_acc: 0.6602 - lr: 0.1000\n",
            "Epoch 23/200\n",
            "36/36 [==============================] - 3s 85ms/step - loss: 1.0128 - acc: 0.6707 - val_loss: 1.0902 - val_acc: 0.6641 - lr: 0.1000\n",
            "Epoch 24/200\n",
            "36/36 [==============================] - 3s 86ms/step - loss: 0.9995 - acc: 0.6829 - val_loss: 1.0860 - val_acc: 0.6816 - lr: 0.1000\n",
            "Epoch 25/200\n",
            "36/36 [==============================] - 3s 85ms/step - loss: 0.9993 - acc: 0.6873 - val_loss: 1.0466 - val_acc: 0.6660 - lr: 0.1000\n",
            "Epoch 26/200\n",
            "36/36 [==============================] - 3s 85ms/step - loss: 0.9876 - acc: 0.6944 - val_loss: 1.0822 - val_acc: 0.6777 - lr: 0.1000\n",
            "Epoch 27/200\n",
            "36/36 [==============================] - 3s 86ms/step - loss: 0.9469 - acc: 0.7151 - val_loss: 1.0636 - val_acc: 0.6583 - lr: 0.1000\n",
            "Epoch 28/200\n",
            "36/36 [==============================] - 3s 85ms/step - loss: 0.9556 - acc: 0.6984 - val_loss: 1.2248 - val_acc: 0.5864 - lr: 0.1000\n",
            "Epoch 29/200\n",
            "36/36 [==============================] - 3s 86ms/step - loss: 0.9447 - acc: 0.7093 - val_loss: 1.0476 - val_acc: 0.6874 - lr: 0.1000\n",
            "Epoch 30/200\n",
            "36/36 [==============================] - 3s 85ms/step - loss: 0.9273 - acc: 0.7162 - val_loss: 1.0054 - val_acc: 0.7126 - lr: 0.1000\n",
            "Epoch 31/200\n",
            "36/36 [==============================] - 3s 86ms/step - loss: 0.9330 - acc: 0.7155 - val_loss: 1.0164 - val_acc: 0.7126 - lr: 0.0010\n",
            "Epoch 32/200\n",
            "36/36 [==============================] - 3s 85ms/step - loss: 0.8916 - acc: 0.7315 - val_loss: 0.9829 - val_acc: 0.7204 - lr: 0.0010\n",
            "Epoch 33/200\n",
            "36/36 [==============================] - 3s 85ms/step - loss: 0.8717 - acc: 0.7452 - val_loss: 0.9727 - val_acc: 0.7243 - lr: 0.0010\n",
            "Epoch 34/200\n",
            "36/36 [==============================] - 3s 85ms/step - loss: 0.8591 - acc: 0.7428 - val_loss: 0.9755 - val_acc: 0.7301 - lr: 0.0010\n",
            "Epoch 35/200\n",
            "36/36 [==============================] - 3s 85ms/step - loss: 0.8520 - acc: 0.7530 - val_loss: 0.9420 - val_acc: 0.7243 - lr: 0.0010\n",
            "Epoch 36/200\n",
            "36/36 [==============================] - 3s 85ms/step - loss: 0.8618 - acc: 0.7412 - val_loss: 0.9673 - val_acc: 0.7223 - lr: 0.0010\n",
            "Epoch 37/200\n",
            "36/36 [==============================] - 3s 86ms/step - loss: 0.8464 - acc: 0.7565 - val_loss: 0.9583 - val_acc: 0.7320 - lr: 0.0010\n",
            "Epoch 38/200\n",
            "36/36 [==============================] - 3s 87ms/step - loss: 0.8496 - acc: 0.7492 - val_loss: 0.9766 - val_acc: 0.7223 - lr: 0.0010\n",
            "Epoch 39/200\n",
            "36/36 [==============================] - 3s 86ms/step - loss: 0.8583 - acc: 0.7479 - val_loss: 0.9616 - val_acc: 0.7301 - lr: 0.0010\n",
            "Epoch 40/200\n",
            "36/36 [==============================] - 3s 86ms/step - loss: 0.8413 - acc: 0.7550 - val_loss: 0.9530 - val_acc: 0.7262 - lr: 0.0010\n",
            "Epoch 41/200\n",
            "36/36 [==============================] - 3s 85ms/step - loss: 0.8426 - acc: 0.7557 - val_loss: 0.9700 - val_acc: 0.7204 - lr: 0.0010\n",
            "Epoch 42/200\n",
            "36/36 [==============================] - 3s 87ms/step - loss: 0.8416 - acc: 0.7577 - val_loss: 1.0036 - val_acc: 0.7049 - lr: 0.0010\n",
            "Epoch 43/200\n",
            "36/36 [==============================] - 3s 86ms/step - loss: 0.8365 - acc: 0.7583 - val_loss: 0.9554 - val_acc: 0.7282 - lr: 0.0010\n",
            "Epoch 44/200\n",
            "36/36 [==============================] - 3s 86ms/step - loss: 0.8367 - acc: 0.7521 - val_loss: 0.9684 - val_acc: 0.7282 - lr: 0.0010\n",
            "Epoch 45/200\n",
            "36/36 [==============================] - 3s 85ms/step - loss: 0.8276 - acc: 0.7583 - val_loss: 0.9664 - val_acc: 0.7204 - lr: 0.0010\n",
            "Epoch 46/200\n",
            "36/36 [==============================] - 3s 84ms/step - loss: 0.8347 - acc: 0.7577 - val_loss: 0.9624 - val_acc: 0.7107 - lr: 0.0010\n",
            "Epoch 47/200\n",
            "36/36 [==============================] - 3s 85ms/step - loss: 0.8262 - acc: 0.7557 - val_loss: 0.9999 - val_acc: 0.7165 - lr: 0.0010\n",
            "Epoch 48/200\n",
            "36/36 [==============================] - 3s 85ms/step - loss: 0.8343 - acc: 0.7563 - val_loss: 0.9543 - val_acc: 0.7223 - lr: 0.0010\n",
            "Epoch 49/200\n",
            "36/36 [==============================] - 3s 86ms/step - loss: 0.8225 - acc: 0.7672 - val_loss: 0.9584 - val_acc: 0.7165 - lr: 0.0010\n",
            "Epoch 50/200\n",
            "36/36 [==============================] - 3s 85ms/step - loss: 0.8357 - acc: 0.7592 - val_loss: 0.9463 - val_acc: 0.7262 - lr: 0.0010\n",
            "Epoch 51/200\n",
            "36/36 [==============================] - 3s 85ms/step - loss: 0.8240 - acc: 0.7659 - val_loss: 0.9806 - val_acc: 0.7184 - lr: 0.0010\n",
            "Epoch 52/200\n",
            "36/36 [==============================] - 3s 85ms/step - loss: 0.8276 - acc: 0.7628 - val_loss: 0.9786 - val_acc: 0.7184 - lr: 0.0010\n",
            "Epoch 53/200\n",
            "36/36 [==============================] - 3s 85ms/step - loss: 0.8230 - acc: 0.7583 - val_loss: 0.9576 - val_acc: 0.7262 - lr: 0.0010\n",
            "Epoch 54/200\n",
            "36/36 [==============================] - 3s 86ms/step - loss: 0.8202 - acc: 0.7605 - val_loss: 0.9977 - val_acc: 0.7126 - lr: 0.0010\n",
            "Epoch 55/200\n",
            "36/36 [==============================] - 3s 86ms/step - loss: 0.8235 - acc: 0.7577 - val_loss: 0.9706 - val_acc: 0.7184 - lr: 0.0010\n",
            "Epoch 56/200\n",
            "36/36 [==============================] - 3s 84ms/step - loss: 0.8274 - acc: 0.7648 - val_loss: 0.9679 - val_acc: 0.7126 - lr: 0.0010\n",
            "Epoch 57/200\n",
            "36/36 [==============================] - 3s 85ms/step - loss: 0.8248 - acc: 0.7643 - val_loss: 0.9601 - val_acc: 0.7223 - lr: 0.0010\n",
            "Epoch 58/200\n",
            "36/36 [==============================] - 3s 85ms/step - loss: 0.8291 - acc: 0.7550 - val_loss: 0.9697 - val_acc: 0.7204 - lr: 0.0010\n",
            "Epoch 59/200\n",
            "36/36 [==============================] - 3s 85ms/step - loss: 0.8257 - acc: 0.7592 - val_loss: 0.9721 - val_acc: 0.7126 - lr: 0.0010\n",
            "Epoch 60/200\n",
            "36/36 [==============================] - 3s 83ms/step - loss: 0.8238 - acc: 0.7597 - val_loss: 0.9525 - val_acc: 0.7204 - lr: 0.0010\n",
            "Epoch 61/200\n",
            "36/36 [==============================] - 3s 86ms/step - loss: 0.8157 - acc: 0.7656 - val_loss: 0.9548 - val_acc: 0.7223 - lr: 1.0000e-05\n",
            "Epoch 62/200\n",
            "36/36 [==============================] - 3s 85ms/step - loss: 0.8202 - acc: 0.7734 - val_loss: 0.9813 - val_acc: 0.7282 - lr: 1.0000e-05\n",
            "Epoch 63/200\n",
            "36/36 [==============================] - 3s 85ms/step - loss: 0.8244 - acc: 0.7674 - val_loss: 1.0269 - val_acc: 0.6990 - lr: 1.0000e-05\n",
            "Epoch 64/200\n",
            "36/36 [==============================] - 3s 85ms/step - loss: 0.8208 - acc: 0.7641 - val_loss: 0.9356 - val_acc: 0.7340 - lr: 1.0000e-05\n",
            "Epoch 65/200\n",
            "36/36 [==============================] - 3s 85ms/step - loss: 0.8165 - acc: 0.7699 - val_loss: 0.9475 - val_acc: 0.7301 - lr: 1.0000e-05\n",
            "Epoch 66/200\n",
            "36/36 [==============================] - 3s 85ms/step - loss: 0.8198 - acc: 0.7590 - val_loss: 0.9709 - val_acc: 0.7087 - lr: 1.0000e-05\n",
            "Epoch 67/200\n",
            "36/36 [==============================] - 3s 85ms/step - loss: 0.8248 - acc: 0.7523 - val_loss: 0.9383 - val_acc: 0.7146 - lr: 1.0000e-05\n",
            "Epoch 68/200\n",
            "36/36 [==============================] - 3s 86ms/step - loss: 0.8140 - acc: 0.7676 - val_loss: 0.9767 - val_acc: 0.7282 - lr: 1.0000e-05\n",
            "Epoch 69/200\n",
            "36/36 [==============================] - 3s 86ms/step - loss: 0.8219 - acc: 0.7581 - val_loss: 0.9592 - val_acc: 0.7204 - lr: 1.0000e-05\n",
            "Epoch 70/200\n",
            "36/36 [==============================] - 3s 85ms/step - loss: 0.8173 - acc: 0.7592 - val_loss: 0.9639 - val_acc: 0.7165 - lr: 1.0000e-05\n",
            "Epoch 71/200\n",
            "36/36 [==============================] - 3s 86ms/step - loss: 0.8253 - acc: 0.7603 - val_loss: 1.0317 - val_acc: 0.6951 - lr: 1.0000e-05\n",
            "Epoch 72/200\n",
            "36/36 [==============================] - 3s 85ms/step - loss: 0.8215 - acc: 0.7617 - val_loss: 0.9433 - val_acc: 0.7282 - lr: 1.0000e-05\n",
            "Epoch 73/200\n",
            "36/36 [==============================] - 3s 87ms/step - loss: 0.8257 - acc: 0.7565 - val_loss: 0.9764 - val_acc: 0.7223 - lr: 1.0000e-05\n",
            "Epoch 74/200\n",
            "36/36 [==============================] - 3s 85ms/step - loss: 0.8219 - acc: 0.7579 - val_loss: 0.9653 - val_acc: 0.7262 - lr: 1.0000e-05\n",
            "Epoch 75/200\n",
            "36/36 [==============================] - 3s 84ms/step - loss: 0.8274 - acc: 0.7590 - val_loss: 0.9451 - val_acc: 0.7223 - lr: 1.0000e-05\n",
            "Epoch 76/200\n",
            "36/36 [==============================] - 3s 85ms/step - loss: 0.8168 - acc: 0.7645 - val_loss: 0.9433 - val_acc: 0.7146 - lr: 1.0000e-05\n",
            "Epoch 77/200\n",
            "36/36 [==============================] - 3s 87ms/step - loss: 0.8254 - acc: 0.7617 - val_loss: 0.9492 - val_acc: 0.7204 - lr: 1.0000e-05\n",
            "Epoch 78/200\n",
            "36/36 [==============================] - 3s 86ms/step - loss: 0.8291 - acc: 0.7545 - val_loss: 0.9667 - val_acc: 0.7243 - lr: 1.0000e-05\n",
            "Epoch 79/200\n",
            "36/36 [==============================] - 3s 85ms/step - loss: 0.8319 - acc: 0.7552 - val_loss: 0.9548 - val_acc: 0.7146 - lr: 1.0000e-05\n",
            "Epoch 80/200\n",
            "36/36 [==============================] - 3s 86ms/step - loss: 0.8132 - acc: 0.7683 - val_loss: 0.9632 - val_acc: 0.7243 - lr: 1.0000e-05\n",
            "Epoch 81/200\n",
            "36/36 [==============================] - 3s 87ms/step - loss: 0.8241 - acc: 0.7599 - val_loss: 0.9503 - val_acc: 0.7223 - lr: 1.0000e-05\n",
            "Epoch 82/200\n",
            "36/36 [==============================] - 3s 86ms/step - loss: 0.8167 - acc: 0.7643 - val_loss: 0.9461 - val_acc: 0.7184 - lr: 1.0000e-05\n",
            "Epoch 83/200\n",
            "36/36 [==============================] - 3s 85ms/step - loss: 0.8292 - acc: 0.7572 - val_loss: 0.9554 - val_acc: 0.7243 - lr: 1.0000e-05\n",
            "Epoch 84/200\n",
            "36/36 [==============================] - 3s 84ms/step - loss: 0.8178 - acc: 0.7621 - val_loss: 0.9811 - val_acc: 0.7126 - lr: 1.0000e-05\n",
            "Epoch 85/200\n",
            "36/36 [==============================] - 3s 84ms/step - loss: 0.8127 - acc: 0.7617 - val_loss: 0.9585 - val_acc: 0.7262 - lr: 1.0000e-05\n",
            "Epoch 86/200\n",
            "36/36 [==============================] - 3s 85ms/step - loss: 0.8310 - acc: 0.7550 - val_loss: 0.9397 - val_acc: 0.7301 - lr: 1.0000e-05\n",
            "Epoch 87/200\n",
            "36/36 [==============================] - 3s 85ms/step - loss: 0.8241 - acc: 0.7625 - val_loss: 0.9679 - val_acc: 0.7126 - lr: 1.0000e-05\n",
            "Epoch 88/200\n",
            "36/36 [==============================] - 3s 85ms/step - loss: 0.8161 - acc: 0.7681 - val_loss: 0.9554 - val_acc: 0.7262 - lr: 1.0000e-05\n",
            "Epoch 89/200\n",
            "36/36 [==============================] - 3s 84ms/step - loss: 0.8245 - acc: 0.7594 - val_loss: 0.9493 - val_acc: 0.7204 - lr: 1.0000e-05\n",
            "Epoch 90/200\n",
            "36/36 [==============================] - 3s 85ms/step - loss: 0.8273 - acc: 0.7581 - val_loss: 0.9752 - val_acc: 0.7184 - lr: 1.0000e-05\n",
            "Epoch 91/200\n",
            "36/36 [==============================] - 3s 85ms/step - loss: 0.8202 - acc: 0.7619 - val_loss: 0.9543 - val_acc: 0.7204 - lr: 1.0000e-05\n",
            "Epoch 92/200\n",
            "36/36 [==============================] - 3s 84ms/step - loss: 0.8211 - acc: 0.7605 - val_loss: 0.9515 - val_acc: 0.7204 - lr: 1.0000e-05\n",
            "Epoch 93/200\n",
            "36/36 [==============================] - 3s 85ms/step - loss: 0.8206 - acc: 0.7594 - val_loss: 0.9616 - val_acc: 0.7184 - lr: 1.0000e-05\n",
            "Epoch 94/200\n",
            "36/36 [==============================] - 3s 85ms/step - loss: 0.8181 - acc: 0.7610 - val_loss: 0.9832 - val_acc: 0.7107 - lr: 1.0000e-05\n",
            "Epoch 95/200\n",
            "36/36 [==============================] - 3s 84ms/step - loss: 0.8210 - acc: 0.7581 - val_loss: 0.9653 - val_acc: 0.7243 - lr: 1.0000e-05\n",
            "Epoch 96/200\n",
            "36/36 [==============================] - 3s 84ms/step - loss: 0.8208 - acc: 0.7608 - val_loss: 0.9679 - val_acc: 0.7262 - lr: 1.0000e-05\n",
            "Epoch 97/200\n",
            "36/36 [==============================] - 3s 85ms/step - loss: 0.8114 - acc: 0.7694 - val_loss: 1.0202 - val_acc: 0.6893 - lr: 1.0000e-05\n",
            "Epoch 98/200\n",
            "36/36 [==============================] - 3s 87ms/step - loss: 0.8193 - acc: 0.7654 - val_loss: 1.0054 - val_acc: 0.7146 - lr: 1.0000e-05\n",
            "Epoch 99/200\n",
            "36/36 [==============================] - 3s 86ms/step - loss: 0.8214 - acc: 0.7594 - val_loss: 0.9813 - val_acc: 0.7146 - lr: 1.0000e-05\n",
            "Epoch 100/200\n",
            "36/36 [==============================] - 3s 85ms/step - loss: 0.8264 - acc: 0.7559 - val_loss: 0.9565 - val_acc: 0.7223 - lr: 1.0000e-05\n",
            "Epoch 101/200\n",
            "36/36 [==============================] - 3s 85ms/step - loss: 0.8155 - acc: 0.7665 - val_loss: 0.9903 - val_acc: 0.7223 - lr: 1.0000e-05\n",
            "Epoch 102/200\n",
            "36/36 [==============================] - 3s 86ms/step - loss: 0.8274 - acc: 0.7550 - val_loss: 0.9495 - val_acc: 0.7146 - lr: 1.0000e-05\n",
            "Epoch 103/200\n",
            "36/36 [==============================] - 3s 86ms/step - loss: 0.8211 - acc: 0.7597 - val_loss: 0.9556 - val_acc: 0.7262 - lr: 1.0000e-05\n",
            "Epoch 104/200\n",
            "36/36 [==============================] - 3s 87ms/step - loss: 0.8216 - acc: 0.7672 - val_loss: 0.9650 - val_acc: 0.7282 - lr: 1.0000e-05\n",
            "Epoch 105/200\n",
            "36/36 [==============================] - 3s 87ms/step - loss: 0.8309 - acc: 0.7523 - val_loss: 0.9620 - val_acc: 0.7204 - lr: 1.0000e-05\n",
            "Epoch 106/200\n",
            "36/36 [==============================] - 3s 85ms/step - loss: 0.8197 - acc: 0.7623 - val_loss: 0.9702 - val_acc: 0.7165 - lr: 1.0000e-05\n",
            "Epoch 107/200\n",
            "36/36 [==============================] - 3s 85ms/step - loss: 0.8139 - acc: 0.7600 - val_loss: 0.9466 - val_acc: 0.7262 - lr: 1.0000e-05\n",
            "Epoch 108/200\n",
            "36/36 [==============================] - 3s 86ms/step - loss: 0.8250 - acc: 0.7581 - val_loss: 0.9471 - val_acc: 0.7223 - lr: 1.0000e-05\n",
            "Epoch 109/200\n",
            "36/36 [==============================] - 3s 86ms/step - loss: 0.8277 - acc: 0.7554 - val_loss: 0.9412 - val_acc: 0.7184 - lr: 1.0000e-05\n",
            "Epoch 110/200\n",
            "36/36 [==============================] - 3s 84ms/step - loss: 0.8201 - acc: 0.7570 - val_loss: 0.9765 - val_acc: 0.7223 - lr: 1.0000e-05\n",
            "Epoch 111/200\n",
            "36/36 [==============================] - 3s 85ms/step - loss: 0.8374 - acc: 0.7548 - val_loss: 1.0087 - val_acc: 0.7184 - lr: 1.0000e-05\n",
            "Epoch 112/200\n",
            "36/36 [==============================] - 3s 85ms/step - loss: 0.8243 - acc: 0.7577 - val_loss: 0.9867 - val_acc: 0.7262 - lr: 1.0000e-05\n",
            "Epoch 113/200\n",
            "36/36 [==============================] - 3s 85ms/step - loss: 0.8215 - acc: 0.7583 - val_loss: 0.9459 - val_acc: 0.7204 - lr: 1.0000e-05\n",
            "Epoch 114/200\n",
            "36/36 [==============================] - 3s 85ms/step - loss: 0.8283 - acc: 0.7574 - val_loss: 0.9566 - val_acc: 0.7087 - lr: 1.0000e-05\n",
            "Epoch 115/200\n",
            "36/36 [==============================] - 3s 85ms/step - loss: 0.8232 - acc: 0.7612 - val_loss: 1.0302 - val_acc: 0.7049 - lr: 1.0000e-05\n",
            "Epoch 116/200\n",
            "36/36 [==============================] - 3s 84ms/step - loss: 0.8221 - acc: 0.7585 - val_loss: 0.9567 - val_acc: 0.7204 - lr: 1.0000e-05\n",
            "Epoch 117/200\n",
            "36/36 [==============================] - 3s 85ms/step - loss: 0.8168 - acc: 0.7636 - val_loss: 0.9622 - val_acc: 0.7107 - lr: 1.0000e-05\n",
            "Epoch 118/200\n",
            "36/36 [==============================] - 3s 85ms/step - loss: 0.8219 - acc: 0.7585 - val_loss: 0.9395 - val_acc: 0.7301 - lr: 1.0000e-05\n",
            "Epoch 119/200\n",
            "36/36 [==============================] - 3s 85ms/step - loss: 0.8246 - acc: 0.7579 - val_loss: 0.9636 - val_acc: 0.7184 - lr: 1.0000e-05\n",
            "Epoch 120/200\n",
            "36/36 [==============================] - 3s 85ms/step - loss: 0.8255 - acc: 0.7621 - val_loss: 0.9751 - val_acc: 0.7282 - lr: 1.0000e-05\n",
            "Epoch 121/200\n",
            "36/36 [==============================] - 3s 85ms/step - loss: 0.8189 - acc: 0.7654 - val_loss: 0.9534 - val_acc: 0.7204 - lr: 1.0000e-05\n",
            "Epoch 122/200\n",
            "36/36 [==============================] - 3s 86ms/step - loss: 0.8086 - acc: 0.7703 - val_loss: 0.9455 - val_acc: 0.7243 - lr: 1.0000e-05\n",
            "Epoch 123/200\n",
            "36/36 [==============================] - 3s 85ms/step - loss: 0.8219 - acc: 0.7599 - val_loss: 0.9766 - val_acc: 0.7146 - lr: 1.0000e-05\n",
            "Epoch 124/200\n",
            "36/36 [==============================] - 3s 86ms/step - loss: 0.8258 - acc: 0.7590 - val_loss: 0.9628 - val_acc: 0.7223 - lr: 1.0000e-05\n",
            "Epoch 125/200\n",
            "36/36 [==============================] - 3s 85ms/step - loss: 0.8340 - acc: 0.7474 - val_loss: 0.9701 - val_acc: 0.7223 - lr: 1.0000e-05\n",
            "Epoch 126/200\n",
            "36/36 [==============================] - 3s 87ms/step - loss: 0.8183 - acc: 0.7632 - val_loss: 0.9518 - val_acc: 0.7204 - lr: 1.0000e-05\n",
            "Epoch 127/200\n",
            "36/36 [==============================] - 3s 85ms/step - loss: 0.8187 - acc: 0.7630 - val_loss: 0.9420 - val_acc: 0.7223 - lr: 1.0000e-05\n",
            "Epoch 128/200\n",
            "36/36 [==============================] - 3s 85ms/step - loss: 0.8164 - acc: 0.7552 - val_loss: 0.9631 - val_acc: 0.7146 - lr: 1.0000e-05\n",
            "Epoch 129/200\n",
            "36/36 [==============================] - 3s 86ms/step - loss: 0.8228 - acc: 0.7643 - val_loss: 0.9613 - val_acc: 0.7262 - lr: 1.0000e-05\n",
            "Epoch 130/200\n",
            "36/36 [==============================] - 3s 84ms/step - loss: 0.8151 - acc: 0.7636 - val_loss: 0.9393 - val_acc: 0.7340 - lr: 1.0000e-05\n",
            "Epoch 131/200\n",
            "36/36 [==============================] - 3s 84ms/step - loss: 0.8272 - acc: 0.7590 - val_loss: 0.9679 - val_acc: 0.7165 - lr: 1.0000e-05\n",
            "Epoch 132/200\n",
            "36/36 [==============================] - 3s 86ms/step - loss: 0.8128 - acc: 0.7603 - val_loss: 0.9667 - val_acc: 0.7165 - lr: 1.0000e-05\n",
            "Epoch 133/200\n",
            "36/36 [==============================] - 3s 87ms/step - loss: 0.8289 - acc: 0.7563 - val_loss: 0.9771 - val_acc: 0.7320 - lr: 1.0000e-05\n",
            "Epoch 134/200\n",
            "36/36 [==============================] - 3s 86ms/step - loss: 0.8142 - acc: 0.7650 - val_loss: 0.9595 - val_acc: 0.7243 - lr: 1.0000e-05\n",
            "Epoch 135/200\n",
            "36/36 [==============================] - 3s 86ms/step - loss: 0.8142 - acc: 0.7672 - val_loss: 1.0081 - val_acc: 0.7029 - lr: 1.0000e-05\n",
            "Epoch 136/200\n",
            "36/36 [==============================] - 3s 85ms/step - loss: 0.8151 - acc: 0.7641 - val_loss: 0.9560 - val_acc: 0.7146 - lr: 1.0000e-05\n",
            "Epoch 137/200\n",
            "36/36 [==============================] - 3s 87ms/step - loss: 0.8259 - acc: 0.7559 - val_loss: 0.9873 - val_acc: 0.7146 - lr: 1.0000e-05\n",
            "Epoch 138/200\n",
            "36/36 [==============================] - 3s 84ms/step - loss: 0.8209 - acc: 0.7612 - val_loss: 0.9568 - val_acc: 0.7146 - lr: 1.0000e-05\n",
            "Epoch 139/200\n",
            "36/36 [==============================] - 3s 86ms/step - loss: 0.8167 - acc: 0.7672 - val_loss: 1.0281 - val_acc: 0.6951 - lr: 1.0000e-05\n",
            "Epoch 140/200\n",
            "36/36 [==============================] - 3s 84ms/step - loss: 0.8255 - acc: 0.7583 - val_loss: 0.9460 - val_acc: 0.7243 - lr: 1.0000e-05\n",
            "Epoch 141/200\n",
            "36/36 [==============================] - 3s 86ms/step - loss: 0.8235 - acc: 0.7605 - val_loss: 0.9558 - val_acc: 0.7184 - lr: 1.0000e-05\n",
            "Epoch 142/200\n",
            "36/36 [==============================] - 3s 86ms/step - loss: 0.8253 - acc: 0.7663 - val_loss: 0.9547 - val_acc: 0.7165 - lr: 1.0000e-05\n",
            "Epoch 143/200\n",
            "36/36 [==============================] - 3s 86ms/step - loss: 0.8154 - acc: 0.7632 - val_loss: 0.9716 - val_acc: 0.7126 - lr: 1.0000e-05\n",
            "Epoch 144/200\n",
            "36/36 [==============================] - 3s 86ms/step - loss: 0.8248 - acc: 0.7581 - val_loss: 0.9702 - val_acc: 0.7282 - lr: 1.0000e-05\n",
            "Epoch 145/200\n",
            "36/36 [==============================] - 3s 85ms/step - loss: 0.8187 - acc: 0.7561 - val_loss: 1.0131 - val_acc: 0.7107 - lr: 1.0000e-05\n",
            "Epoch 146/200\n",
            "36/36 [==============================] - 3s 87ms/step - loss: 0.8141 - acc: 0.7659 - val_loss: 0.9837 - val_acc: 0.7184 - lr: 1.0000e-05\n",
            "Epoch 147/200\n",
            "36/36 [==============================] - 3s 86ms/step - loss: 0.8238 - acc: 0.7610 - val_loss: 0.9577 - val_acc: 0.7223 - lr: 1.0000e-05\n",
            "Epoch 148/200\n",
            "36/36 [==============================] - 3s 86ms/step - loss: 0.8209 - acc: 0.7674 - val_loss: 0.9721 - val_acc: 0.7146 - lr: 1.0000e-05\n",
            "Epoch 149/200\n",
            "36/36 [==============================] - 3s 86ms/step - loss: 0.8233 - acc: 0.7572 - val_loss: 0.9446 - val_acc: 0.7262 - lr: 1.0000e-05\n",
            "Epoch 150/200\n",
            "36/36 [==============================] - 3s 86ms/step - loss: 0.8220 - acc: 0.7654 - val_loss: 1.0010 - val_acc: 0.7126 - lr: 1.0000e-05\n",
            "Epoch 151/200\n",
            "36/36 [==============================] - 3s 85ms/step - loss: 0.8227 - acc: 0.7641 - val_loss: 1.0108 - val_acc: 0.7107 - lr: 1.0000e-05\n",
            "Epoch 152/200\n",
            "36/36 [==============================] - 3s 87ms/step - loss: 0.8217 - acc: 0.7624 - val_loss: 0.9991 - val_acc: 0.7126 - lr: 1.0000e-05\n",
            "Epoch 153/200\n",
            "36/36 [==============================] - 3s 86ms/step - loss: 0.8217 - acc: 0.7603 - val_loss: 0.9715 - val_acc: 0.7223 - lr: 1.0000e-05\n",
            "Epoch 154/200\n",
            "36/36 [==============================] - 3s 86ms/step - loss: 0.8250 - acc: 0.7603 - val_loss: 0.9812 - val_acc: 0.7184 - lr: 1.0000e-05\n",
            "Epoch 155/200\n",
            "36/36 [==============================] - 3s 85ms/step - loss: 0.8185 - acc: 0.7643 - val_loss: 0.9540 - val_acc: 0.7243 - lr: 1.0000e-05\n",
            "Epoch 156/200\n",
            "36/36 [==============================] - 3s 86ms/step - loss: 0.8154 - acc: 0.7663 - val_loss: 1.0014 - val_acc: 0.7223 - lr: 1.0000e-05\n",
            "Epoch 157/200\n",
            "36/36 [==============================] - 3s 85ms/step - loss: 0.8147 - acc: 0.7621 - val_loss: 0.9904 - val_acc: 0.7146 - lr: 1.0000e-05\n",
            "Epoch 158/200\n",
            "36/36 [==============================] - 3s 85ms/step - loss: 0.8160 - acc: 0.7656 - val_loss: 0.9494 - val_acc: 0.7165 - lr: 1.0000e-05\n",
            "Epoch 159/200\n",
            "36/36 [==============================] - 3s 85ms/step - loss: 0.8146 - acc: 0.7568 - val_loss: 0.9552 - val_acc: 0.7243 - lr: 1.0000e-05\n",
            "Epoch 160/200\n",
            "36/36 [==============================] - 3s 84ms/step - loss: 0.8248 - acc: 0.7605 - val_loss: 0.9637 - val_acc: 0.7184 - lr: 1.0000e-05\n",
            "Epoch 161/200\n",
            "36/36 [==============================] - 3s 87ms/step - loss: 0.8158 - acc: 0.7661 - val_loss: 0.9546 - val_acc: 0.7204 - lr: 1.0000e-05\n",
            "Epoch 162/200\n",
            "36/36 [==============================] - 3s 86ms/step - loss: 0.8204 - acc: 0.7672 - val_loss: 0.9502 - val_acc: 0.7223 - lr: 1.0000e-05\n",
            "Epoch 163/200\n",
            "36/36 [==============================] - 3s 85ms/step - loss: 0.8224 - acc: 0.7636 - val_loss: 0.9616 - val_acc: 0.7146 - lr: 1.0000e-05\n",
            "Epoch 164/200\n",
            "36/36 [==============================] - 3s 86ms/step - loss: 0.8275 - acc: 0.7590 - val_loss: 0.9497 - val_acc: 0.7184 - lr: 1.0000e-05\n",
            "Epoch 165/200\n",
            "36/36 [==============================] - 3s 85ms/step - loss: 0.8148 - acc: 0.7676 - val_loss: 0.9971 - val_acc: 0.7068 - lr: 1.0000e-05\n",
            "Epoch 166/200\n",
            "36/36 [==============================] - 3s 86ms/step - loss: 0.8242 - acc: 0.7628 - val_loss: 1.0037 - val_acc: 0.7087 - lr: 1.0000e-05\n",
            "Epoch 167/200\n",
            "36/36 [==============================] - 3s 86ms/step - loss: 0.8200 - acc: 0.7605 - val_loss: 0.9506 - val_acc: 0.7243 - lr: 1.0000e-05\n",
            "Epoch 168/200\n",
            "36/36 [==============================] - 3s 86ms/step - loss: 0.8207 - acc: 0.7561 - val_loss: 0.9521 - val_acc: 0.7243 - lr: 1.0000e-05\n",
            "Epoch 169/200\n",
            "36/36 [==============================] - 3s 85ms/step - loss: 0.8263 - acc: 0.7599 - val_loss: 0.9576 - val_acc: 0.7204 - lr: 1.0000e-05\n",
            "Epoch 170/200\n",
            "36/36 [==============================] - 3s 87ms/step - loss: 0.8309 - acc: 0.7550 - val_loss: 0.9760 - val_acc: 0.7146 - lr: 1.0000e-05\n",
            "Epoch 171/200\n",
            "36/36 [==============================] - 3s 86ms/step - loss: 0.8197 - acc: 0.7669 - val_loss: 0.9619 - val_acc: 0.7223 - lr: 1.0000e-05\n",
            "Epoch 172/200\n",
            "36/36 [==============================] - 3s 87ms/step - loss: 0.8139 - acc: 0.7661 - val_loss: 0.9476 - val_acc: 0.7282 - lr: 1.0000e-05\n",
            "Epoch 173/200\n",
            "36/36 [==============================] - 3s 86ms/step - loss: 0.8285 - acc: 0.7537 - val_loss: 0.9710 - val_acc: 0.7204 - lr: 1.0000e-05\n",
            "Epoch 174/200\n",
            "36/36 [==============================] - 3s 87ms/step - loss: 0.8095 - acc: 0.7654 - val_loss: 0.9612 - val_acc: 0.7223 - lr: 1.0000e-05\n",
            "Epoch 175/200\n",
            "36/36 [==============================] - 3s 84ms/step - loss: 0.8188 - acc: 0.7632 - val_loss: 0.9594 - val_acc: 0.7204 - lr: 1.0000e-05\n",
            "Epoch 176/200\n",
            "36/36 [==============================] - 3s 86ms/step - loss: 0.8256 - acc: 0.7603 - val_loss: 0.9764 - val_acc: 0.7262 - lr: 1.0000e-05\n",
            "Epoch 177/200\n",
            "36/36 [==============================] - 3s 86ms/step - loss: 0.8252 - acc: 0.7581 - val_loss: 0.9657 - val_acc: 0.7184 - lr: 1.0000e-05\n",
            "Epoch 178/200\n",
            "36/36 [==============================] - 3s 87ms/step - loss: 0.8207 - acc: 0.7672 - val_loss: 0.9590 - val_acc: 0.7068 - lr: 1.0000e-05\n",
            "Epoch 179/200\n",
            "36/36 [==============================] - 3s 87ms/step - loss: 0.8195 - acc: 0.7672 - val_loss: 1.0009 - val_acc: 0.7126 - lr: 1.0000e-05\n",
            "Epoch 180/200\n",
            "36/36 [==============================] - 3s 84ms/step - loss: 0.8266 - acc: 0.7621 - val_loss: 0.9478 - val_acc: 0.7320 - lr: 1.0000e-05\n",
            "Epoch 181/200\n",
            "36/36 [==============================] - 3s 85ms/step - loss: 0.8277 - acc: 0.7594 - val_loss: 0.9561 - val_acc: 0.7204 - lr: 1.0000e-05\n",
            "Epoch 182/200\n",
            "36/36 [==============================] - 3s 85ms/step - loss: 0.8187 - acc: 0.7639 - val_loss: 0.9513 - val_acc: 0.7204 - lr: 1.0000e-05\n",
            "Epoch 183/200\n",
            "36/36 [==============================] - 3s 86ms/step - loss: 0.8182 - acc: 0.7688 - val_loss: 0.9759 - val_acc: 0.7282 - lr: 1.0000e-05\n",
            "Epoch 184/200\n",
            "36/36 [==============================] - 3s 85ms/step - loss: 0.8178 - acc: 0.7634 - val_loss: 0.9547 - val_acc: 0.7184 - lr: 1.0000e-05\n",
            "Epoch 185/200\n",
            "36/36 [==============================] - 3s 87ms/step - loss: 0.8124 - acc: 0.7659 - val_loss: 0.9600 - val_acc: 0.7223 - lr: 1.0000e-05\n",
            "Epoch 186/200\n",
            "36/36 [==============================] - 3s 86ms/step - loss: 0.8169 - acc: 0.7588 - val_loss: 0.9453 - val_acc: 0.7223 - lr: 1.0000e-05\n",
            "Epoch 187/200\n",
            "36/36 [==============================] - 3s 86ms/step - loss: 0.8182 - acc: 0.7652 - val_loss: 0.9683 - val_acc: 0.7146 - lr: 1.0000e-05\n",
            "Epoch 188/200\n",
            "36/36 [==============================] - 3s 85ms/step - loss: 0.8249 - acc: 0.7612 - val_loss: 0.9651 - val_acc: 0.7165 - lr: 1.0000e-05\n",
            "Epoch 189/200\n",
            "36/36 [==============================] - 3s 85ms/step - loss: 0.8266 - acc: 0.7603 - val_loss: 0.9585 - val_acc: 0.7204 - lr: 1.0000e-05\n",
            "Epoch 190/200\n",
            "36/36 [==============================] - 3s 86ms/step - loss: 0.8204 - acc: 0.7559 - val_loss: 0.9419 - val_acc: 0.7223 - lr: 1.0000e-05\n",
            "Epoch 191/200\n",
            "36/36 [==============================] - 3s 86ms/step - loss: 0.8191 - acc: 0.7674 - val_loss: 0.9580 - val_acc: 0.7165 - lr: 1.0000e-05\n",
            "Epoch 192/200\n",
            "36/36 [==============================] - 3s 86ms/step - loss: 0.8224 - acc: 0.7621 - val_loss: 0.9820 - val_acc: 0.7146 - lr: 1.0000e-05\n",
            "Epoch 193/200\n",
            "36/36 [==============================] - 3s 86ms/step - loss: 0.8167 - acc: 0.7671 - val_loss: 0.9617 - val_acc: 0.7223 - lr: 1.0000e-05\n",
            "Epoch 194/200\n",
            "36/36 [==============================] - 3s 85ms/step - loss: 0.8195 - acc: 0.7648 - val_loss: 0.9558 - val_acc: 0.7243 - lr: 1.0000e-05\n",
            "Epoch 195/200\n",
            "36/36 [==============================] - 3s 86ms/step - loss: 0.8130 - acc: 0.7656 - val_loss: 0.9745 - val_acc: 0.7204 - lr: 1.0000e-05\n",
            "Epoch 196/200\n",
            "36/36 [==============================] - 3s 86ms/step - loss: 0.8225 - acc: 0.7574 - val_loss: 0.9459 - val_acc: 0.7262 - lr: 1.0000e-05\n",
            "Epoch 197/200\n",
            "36/36 [==============================] - 3s 87ms/step - loss: 0.8183 - acc: 0.7650 - val_loss: 0.9645 - val_acc: 0.7223 - lr: 1.0000e-05\n",
            "Epoch 198/200\n",
            "36/36 [==============================] - 3s 88ms/step - loss: 0.8204 - acc: 0.7623 - val_loss: 0.9580 - val_acc: 0.7184 - lr: 1.0000e-05\n",
            "Epoch 199/200\n",
            "36/36 [==============================] - 3s 86ms/step - loss: 0.8118 - acc: 0.7665 - val_loss: 0.9901 - val_acc: 0.7146 - lr: 1.0000e-05\n",
            "Epoch 200/200\n",
            "36/36 [==============================] - 3s 87ms/step - loss: 0.8252 - acc: 0.7588 - val_loss: 0.9659 - val_acc: 0.7262 - lr: 1.0000e-05\n"
          ],
          "name": "stdout"
        }
      ]
    },
    {
      "cell_type": "code",
      "metadata": {
        "id": "xI39Sx-kYyUx",
        "colab_type": "code",
        "colab": {}
      },
      "source": [
        "wrn_16_2.save(\"wrn_model.h5\")"
      ],
      "execution_count": null,
      "outputs": []
    },
    {
      "cell_type": "markdown",
      "metadata": {
        "id": "djH4uwAnvkfb",
        "colab_type": "text"
      },
      "source": [
        "**Visualization**"
      ]
    },
    {
      "cell_type": "code",
      "metadata": {
        "id": "lr_quzDGwKGM",
        "colab_type": "code",
        "colab": {
          "base_uri": "https://localhost:8080/",
          "height": 607
        },
        "outputId": "c692763a-8f23-4947-878b-52264d50539d"
      },
      "source": [
        "import matplotlib.pyplot as plt\n",
        "\n",
        "history = hist\n",
        "print(history.history.keys())\n",
        "# summarize history for accuracy\n",
        "plt.plot(history.history['acc'])\n",
        "plt.plot(history.history['val_acc'])\n",
        "plt.title('model accuracy')\n",
        "plt.ylabel('accuracy')\n",
        "plt.xlabel('epoch')\n",
        "plt.legend(['train', 'test'], loc='upper left')\n",
        "plt.show()\n",
        "plt.savefig(\"wrn_tensor.png\")\n",
        "# summarize history for loss\n",
        "plt.plot(history.history['loss'])\n",
        "plt.plot(history.history['val_loss'])\n",
        "plt.title('model loss')\n",
        "plt.ylabel('loss')\n",
        "plt.xlabel('epoch')\n",
        "plt.legend(['train', 'test'], loc='upper left')\n",
        "plt.show()\n",
        "plt.savefig(\"deneme.png\")"
      ],
      "execution_count": null,
      "outputs": [
        {
          "output_type": "stream",
          "text": [
            "dict_keys(['loss', 'acc', 'val_loss', 'val_acc', 'lr'])\n"
          ],
          "name": "stdout"
        },
        {
          "output_type": "display_data",
          "data": {
            "image/png": "[encoded data removed]",
            "text/plain": [
              "<Figure size 432x288 with 1 Axes>"
            ]
          },
          "metadata": {
            "tags": [],
            "needs_background": "light"
          }
        },
        {
          "output_type": "display_data",
          "data": {
            "image/png": "[encoded data removed]",
            "text/plain": [
              "<Figure size 432x288 with 1 Axes>"
            ]
          },
          "metadata": {
            "tags": [],
            "needs_background": "light"
          }
        },
        {
          "output_type": "display_data",
          "data": {
            "text/plain": [
              "<Figure size 432x288 with 0 Axes>"
            ]
          },
          "metadata": {
            "tags": []
          }
        }
      ]
    },
    {
      "cell_type": "code",
      "metadata": {
        "id": "iE16jXuZw8xb",
        "colab_type": "code",
        "colab": {
          "base_uri": "https://localhost:8080/",
          "height": 51
        },
        "outputId": "a2fcea8a-df01-41c4-9566-5129f8c87150"
      },
      "source": [
        "wrn_16_2.evaluate(X_test,y_test)"
      ],
      "execution_count": null,
      "outputs": [
        {
          "output_type": "stream",
          "text": [
            "18/18 [==============================] - 0s 13ms/step - loss: 0.9431 - acc: 0.7225\n"
          ],
          "name": "stdout"
        },
        {
          "output_type": "execute_result",
          "data": {
            "text/plain": [
              "[0.9430834054946899, 0.7225130796432495]"
            ]
          },
          "metadata": {
            "tags": []
          },
          "execution_count": 87
        }
      ]
    },
    {
      "cell_type": "markdown",
      "metadata": {
        "id": "vEDHJIheU8bm",
        "colab_type": "text"
      },
      "source": [
        "# Adversarial Examples\n"
      ]
    },
    {
      "cell_type": "code",
      "metadata": {
        "id": "5QB8zFSSU7Qy",
        "colab_type": "code",
        "colab": {
          "base_uri": "https://localhost:8080/",
          "height": 394
        },
        "outputId": "f1f16779-09b8-41ff-9675-923a506e900f"
      },
      "source": [
        "!pip install -q tensorflow==2.0.0b1\n",
        "# Install bleeding edge version of cleverhans\n",
        "!pip install git+https://github.com/tensorflow/cleverhans.git#egg=cleverhans\n",
        "\n",
        "import cleverhans\n",
        "import tensorflow as tf\n",
        "import numpy as np\n",
        "import matplotlib.pyplot as plt\n",
        "\n",
        "print(\"\\nTensorflow Version: \" + tf.__version__)\n",
        "print(\"Cleverhans Version: \" + cleverhans.__version__)\n",
        "print(\"GPU Available: \", tf.test.is_gpu_available())"
      ],
      "execution_count": null,
      "outputs": [
        {
          "output_type": "stream",
          "text": [
            "Requirement already satisfied: cleverhans from git+https://github.com/tensorflow/cleverhans.git#egg=cleverhans in /usr/local/lib/python3.6/dist-packages (3.0.1)\n",
            "Requirement already satisfied: scipy in /usr/local/lib/python3.6/dist-packages (from cleverhans) (1.4.1)\n",
            "Requirement already satisfied: tensorflow-probability in /usr/local/lib/python3.6/dist-packages (from cleverhans) (0.10.0)\n",
            "Requirement already satisfied: joblib in /usr/local/lib/python3.6/dist-packages (from cleverhans) (0.15.1)\n",
            "Requirement already satisfied: nose in /usr/local/lib/python3.6/dist-packages (from cleverhans) (1.3.7)\n",
            "Requirement already satisfied: mnist~=0.2 in /usr/local/lib/python3.6/dist-packages (from cleverhans) (0.2.2)\n",
            "Requirement already satisfied: pycodestyle in /usr/local/lib/python3.6/dist-packages (from cleverhans) (2.6.0)\n",
            "Requirement already satisfied: numpy in /usr/local/lib/python3.6/dist-packages (from cleverhans) (1.18.5)\n",
            "Requirement already satisfied: matplotlib in /usr/local/lib/python3.6/dist-packages (from cleverhans) (3.2.1)\n",
            "Requirement already satisfied: cloudpickle>=1.2.2 in /usr/local/lib/python3.6/dist-packages (from tensorflow-probability->cleverhans) (1.3.0)\n",
            "Requirement already satisfied: gast>=0.3.2 in /usr/local/lib/python3.6/dist-packages (from tensorflow-probability->cleverhans) (0.3.3)\n",
            "Requirement already satisfied: decorator in /usr/local/lib/python3.6/dist-packages (from tensorflow-probability->cleverhans) (4.4.2)\n",
            "Requirement already satisfied: six>=1.10.0 in /usr/local/lib/python3.6/dist-packages (from tensorflow-probability->cleverhans) (1.12.0)\n",
            "Requirement already satisfied: cycler>=0.10 in /usr/local/lib/python3.6/dist-packages (from matplotlib->cleverhans) (0.10.0)\n",
            "Requirement already satisfied: pyparsing!=2.0.4,!=2.1.2,!=2.1.6,>=2.0.1 in /usr/local/lib/python3.6/dist-packages (from matplotlib->cleverhans) (2.4.7)\n",
            "Requirement already satisfied: kiwisolver>=1.0.1 in /usr/local/lib/python3.6/dist-packages (from matplotlib->cleverhans) (1.2.0)\n",
            "Requirement already satisfied: python-dateutil>=2.1 in /usr/local/lib/python3.6/dist-packages (from matplotlib->cleverhans) (2.8.1)\n",
            "\n",
            "Tensorflow Version: 2.2.0\n",
            "Cleverhans Version: 3.0.1-fc7b7c7ec903258e0e3fb88503fa629f\n",
            "GPU Available:  True\n"
          ],
          "name": "stdout"
        }
      ]
    },
    {
      "cell_type": "code",
      "metadata": {
        "id": "2_bfZ4G8W_sM",
        "colab_type": "code",
        "colab": {}
      },
      "source": [
        "from cleverhans.future.tf2.attacks import fast_gradient_method\n",
        "\n",
        "#The attack requires the model to ouput the logits\n",
        "\n",
        "logits_model = tf.keras.Model(wrn_16_2.input,wrn_16_2.layers[-1].output)"
      ],
      "execution_count": null,
      "outputs": []
    },
    {
      "cell_type": "code",
      "metadata": {
        "id": "gGWIlakqVD_i",
        "colab_type": "code",
        "colab": {}
      },
      "source": [
        "X_adv = []\n",
        "epsilon_list = [0.02]\n",
        "for j in range(len(epsilon_list)):\n",
        "  epsilon = epsilon_list[j]\n",
        "  for i in range(len(X_test)):\n",
        "    random_index = i\n",
        "    original_image = X_test[random_index]\n",
        "    original_image = tf.convert_to_tensor(original_image.reshape((1,32,32))) #The .reshape just gives it the proper form to input into the model, a batch of 1 a.k.a a tensor\n",
        "    original_label = y_test[random_index]\n",
        "    original_label = np.reshape(np.argmax(original_label), (1,)).astype('int64')\n",
        "    adv_example_targeted_label = fast_gradient_method(logits_model, original_image, epsilon, np.inf,y=original_label, targeted=False)\n",
        "    X_adv.append(np.array(adv_example_targeted_label).reshape(32,32,1))"
      ],
      "execution_count": null,
      "outputs": []
    },
    {
      "cell_type": "code",
      "metadata": {
        "id": "O8XZJIGBkUku",
        "colab_type": "code",
        "colab": {
          "base_uri": "https://localhost:8080/",
          "height": 51
        },
        "outputId": "d01098ea-f914-4b38-bb45-379668d68add"
      },
      "source": [
        "  X_adv = np.array(X_adv)\n",
        "  print(\"epsilon: {} and test evalution : {}\".format(epsilon,wrn_16_2.evaluate(X_adv,y_test)))"
      ],
      "execution_count": null,
      "outputs": [
        {
          "output_type": "stream",
          "text": [
            "18/18 [==============================] - 0s 12ms/step - loss: 1.0489 - acc: 0.6911\n",
            "epsilon: 0.003 and test evalution : [1.0489426851272583, 0.6910994648933411]\n"
          ],
          "name": "stdout"
        }
      ]
    },
    {
      "cell_type": "code",
      "metadata": {
        "id": "SB2PbXrudUWL",
        "colab_type": "code",
        "colab": {
          "base_uri": "https://localhost:8080/",
          "height": 34
        },
        "outputId": "1095dfa1-7b14-4bd0-c803-233f6984270a"
      },
      "source": [
        "20*np.log10(np.linalg.norm(X_test)/np.linalg.norm(X_test-X_adv))"
      ],
      "execution_count": null,
      "outputs": [
        {
          "output_type": "execute_result",
          "data": {
            "text/plain": [
              "50.228538513183594"
            ]
          },
          "metadata": {
            "tags": []
          },
          "execution_count": 93
        }
      ]
    },
    {
      "cell_type": "code",
      "metadata": {
        "id": "M1DCXV9Tc9B0",
        "colab_type": "code",
        "colab": {
          "base_uri": "https://localhost:8080/",
          "height": 51
        },
        "outputId": "492ad00d-dbd5-462a-8cf8-917b151bf2f7"
      },
      "source": [
        "  X_adv = np.array(X_adv)\n",
        "  print(\"epsilon: {} and test evalution : {}\".format(epsilon,wrn_16_2.evaluate(X_adv,y_test)))"
      ],
      "execution_count": null,
      "outputs": [
        {
          "output_type": "stream",
          "text": [
            "18/18 [==============================] - 0s 13ms/step - loss: 1.1244 - acc: 0.6614\n",
            "epsilon: 0.005 and test evalution : [1.124449372291565, 0.661431074142456]\n"
          ],
          "name": "stdout"
        }
      ]
    },
    {
      "cell_type": "code",
      "metadata": {
        "id": "WGgsDCDodU_P",
        "colab_type": "code",
        "colab": {
          "base_uri": "https://localhost:8080/",
          "height": 34
        },
        "outputId": "3686bfaa-b695-4e0b-e6d4-352d3be899b4"
      },
      "source": [
        "20*np.log10(np.linalg.norm(X_test)/np.linalg.norm(X_test-X_adv))"
      ],
      "execution_count": null,
      "outputs": [
        {
          "output_type": "execute_result",
          "data": {
            "text/plain": [
              "45.79124450683594"
            ]
          },
          "metadata": {
            "tags": []
          },
          "execution_count": 97
        }
      ]
    },
    {
      "cell_type": "code",
      "metadata": {
        "id": "Q7Ah3eA2kYBp",
        "colab_type": "code",
        "colab": {
          "base_uri": "https://localhost:8080/",
          "height": 51
        },
        "outputId": "28105974-2f9c-475d-dfab-d5a402d223f0"
      },
      "source": [
        "  X_adv = np.array(X_adv)\n",
        "  print(\"epsilon: {} and test evalution : {}\".format(epsilon,wrn_16_2.evaluate(X_adv,y_test)))"
      ],
      "execution_count": null,
      "outputs": [
        {
          "output_type": "stream",
          "text": [
            "18/18 [==============================] - 0s 12ms/step - loss: 1.3272 - acc: 0.5689\n",
            "epsilon: 0.01 and test evalution : [1.3272491693496704, 0.5689354538917542]\n"
          ],
          "name": "stdout"
        }
      ]
    },
    {
      "cell_type": "code",
      "metadata": {
        "id": "YjfdNA70dVoW",
        "colab_type": "code",
        "colab": {
          "base_uri": "https://localhost:8080/",
          "height": 34
        },
        "outputId": "823284d4-c58c-40dd-88a1-3857d942695c"
      },
      "source": [
        "20*np.log10(np.linalg.norm(X_test)/np.linalg.norm(X_test-X_adv))"
      ],
      "execution_count": null,
      "outputs": [
        {
          "output_type": "execute_result",
          "data": {
            "text/plain": [
              "39.77065086364746"
            ]
          },
          "metadata": {
            "tags": []
          },
          "execution_count": 100
        }
      ]
    },
    {
      "cell_type": "code",
      "metadata": {
        "id": "Xed10n0QmMqr",
        "colab_type": "code",
        "colab": {
          "base_uri": "https://localhost:8080/",
          "height": 51
        },
        "outputId": "b80f9c7d-4342-4724-d02d-ee56a1eb2b24"
      },
      "source": [
        "  X_adv = np.array(X_adv)\n",
        "  print(\"epsilon: {} and test evalution : {}\".format(epsilon,wrn_16_2.evaluate(X_adv,y_test)))"
      ],
      "execution_count": null,
      "outputs": [
        {
          "output_type": "stream",
          "text": [
            "18/18 [==============================] - 0s 13ms/step - loss: 1.7637 - acc: 0.4642\n",
            "epsilon: 0.02 and test evalution : [1.7636723518371582, 0.46422338485717773]\n"
          ],
          "name": "stdout"
        }
      ]
    },
    {
      "cell_type": "code",
      "metadata": {
        "id": "RbqrQrSZdWX6",
        "colab_type": "code",
        "colab": {
          "base_uri": "https://localhost:8080/",
          "height": 34
        },
        "outputId": "149bfd90-9342-47ea-a757-4796ebd05a8d"
      },
      "source": [
        "20*np.log10(np.linalg.norm(X_test)/np.linalg.norm(X_test-X_adv))"
      ],
      "execution_count": null,
      "outputs": [
        {
          "output_type": "execute_result",
          "data": {
            "text/plain": [
              "33.75005006790161"
            ]
          },
          "metadata": {
            "tags": []
          },
          "execution_count": 103
        }
      ]
    },
    {
      "cell_type": "markdown",
      "metadata": {
        "id": "ZuWpwrKuwmsc",
        "colab_type": "text"
      },
      "source": [
        "# Adversarial Training"
      ]
    },
    {
      "cell_type": "code",
      "metadata": {
        "id": "0p3bOQqOO5yX",
        "colab_type": "code",
        "colab": {}
      },
      "source": [
        "def adversarial_example(epsilon):\n",
        "  X_adv = []\n",
        "  for i in range(len(X_test)):\n",
        "    random_index = i\n",
        "    original_image = X_test[random_index]\n",
        "    original_image = tf.convert_to_tensor(original_image.reshape((1,32,32))) #The .reshape just gives it the proper form to input into the model, a batch of 1 a.k.a a tensor\n",
        "    original_label = y_test[random_index]\n",
        "    original_label = np.reshape(np.argmax(original_label), (1,)).astype('int64')\n",
        "    adv_example_targeted_label = fast_gradient_method(logits_model, original_image, epsilon, np.inf,y=original_label, targeted=False)\n",
        "    X_adv.append(np.array(adv_example_targeted_label).reshape(32,32,1))\n",
        "  return X_adv\n"
      ],
      "execution_count": null,
      "outputs": []
    },
    {
      "cell_type": "markdown",
      "metadata": {
        "id": "FOvOBknOPTHx",
        "colab_type": "text"
      },
      "source": [
        "**Mini batch training**"
      ]
    },
    {
      "cell_type": "code",
      "metadata": {
        "id": "MDxVNgZvPRHP",
        "colab_type": "code",
        "colab": {}
      },
      "source": [
        "\"\"\" Adversarial Training \"\"\"\n",
        "\n",
        "import numpy as np\n",
        "class AdversarialTraining(object):\n",
        "    \"\"\"Adversarial Training  \"\"\"\n",
        "    def __init__(self):\n",
        "        pass\n",
        "    def train(self, model, X_train, pretrained_model, Y_train, epochs, batch_size, epsilon, model_type= \"Parseval\"):\n",
        "        \n",
        "        step_on_epoch = len(X_train[0]/batch_size)\n",
        "        for epoch in range(0, epochs):\n",
        "            for j in range(0, step_on_epoch):\n",
        "                self.mini_batch_train(model,X_train, Y_train, batch_size, pretrained_model)\n",
        "            ###TODO###\n",
        "            ### add validation test\n",
        "\n",
        "\n",
        "    def mini_batch_train(self, model, X_train,Y_train, batch_size, pretrained_model):\n",
        "\n",
        "        x_train, y_train = self.data_augmentation(X_train, Y_train, batch_size, start_index)\n",
        "        hist = model.fit(x_train, y_train, batch_size=batch_size, epochs = 1, steps_per_epoch=1)\n",
        "        ### TODO ###\n",
        "        ## Save hist on file.###\n",
        "\n",
        "\n",
        "    def data_augmentation(self, X_train, Y_train, batch_size, pretrained_model):\n",
        "      ### divide data 16,16,16,16 for 4 different epsilons and 64 is true image. ### \n",
        "        start_index = data_iteration(X_train, batch_size)\n",
        "        first_half_end = start_index+batch_size/2\n",
        "        second_half_end = start_index+batch_size\n",
        "        x_clean, y_clean = X_train[start_index:first_half_end,:,:,:], Y_train[start_index:first_half_end]\n",
        "        x_adv, y_adv = self.get_adversarial(X_train[first_half_end:second_half_end),:,:,:], Y_train[first_half_end:second_half_end], epsilon), Y_train[first_half_end:second_half_end]\n",
        "        ### TODO###\n",
        "        # Mixture data for 4 epsilon values\n",
        "        return x_mix, y_mix\n",
        "\n",
        "    def data_iteration(self, X_train, batch_size):\n",
        "        N = x_train.shape[0]\n",
        "        start = np.random.randint(0, N-batch_size)\n",
        "        return start\n",
        "\n",
        "    def get_adversarial(self, X_true, y_true, epsilon):\n",
        "\n",
        "        return self.adversarial_example(X_true, y_true, epsilon)\n",
        "\n",
        "    def adversarial_example(self, X_true, y_true, epsilon):\n",
        "      X_adv = []\n",
        "      for i in range(len(X_true)):\n",
        "        random_index = i\n",
        "        original_image = X_true[random_index]\n",
        "        original_image = tf.convert_to_tensor(original_image.reshape((1,32,32))) #The .reshape just gives it the proper form to input into the model, a batch of 1 a.k.a a tensor\n",
        "        original_label = y_true[random_index]\n",
        "        original_label = np.reshape(np.argmax(original_label), (1,)).astype('int64')\n",
        "        adv_example_targeted_label = fast_gradient_method(logits_model, original_image, epsilon, np.inf,y=original_label, targeted=False)\n",
        "        X_adv.append(np.array(adv_example_targeted_label).reshape(32,32,1))\n",
        "      return X_adv\n"
      ],
      "execution_count": null,
      "outputs": []
    }
  ]
}