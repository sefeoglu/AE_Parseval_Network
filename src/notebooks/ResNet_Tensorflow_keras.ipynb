{
  "nbformat": 4,
  "nbformat_minor": 0,
  "metadata": {
    "colab": {
      "name": "ResNet_Tensorflow_keras.ipynb",
      "provenance": [],
      "authorship_tag": "ABX9TyOkYBETTxXlVZVQDMtmvk2Q",
      "include_colab_link": true
    },
    "kernelspec": {
      "name": "python3",
      "display_name": "Python 3"
    },
    "accelerator": "GPU"
  },
  "cells": [
    {
      "cell_type": "markdown",
      "metadata": {
        "id": "view-in-github",
        "colab_type": "text"
      },
      "source": [
        "<a href=\"https://colab.research.google.com/github/sefeoglu/AE_Parseval_Network/blob/master/src/notebooks/ResNet_Tensorflow_keras.ipynb\" target=\"_parent\"><img src=\"https://colab.research.google.com/assets/colab-badge.svg\" alt=\"Open In Colab\"/></a>"
      ]
    },
    {
      "cell_type": "markdown",
      "metadata": {
        "id": "cczYDRrfFlDx",
        "colab_type": "text"
      },
      "source": [
        "# New ResNet"
      ]
    },
    {
      "cell_type": "code",
      "metadata": {
        "id": "HWvd9YADGtMS",
        "colab_type": "code",
        "colab": {}
      },
      "source": [
        "import tensorflow as tf"
      ],
      "execution_count": 0,
      "outputs": []
    },
    {
      "cell_type": "code",
      "metadata": {
        "id": "AZYgCQ_-FkSn",
        "colab_type": "code",
        "colab": {}
      },
      "source": [
        "\n",
        "from tensorflow.keras.models import Model\n",
        "from tensorflow.keras.layers import  Input, Add, Activation, Dropout, Flatten, Dense\n",
        "from tensorflow.keras.layers import Convolution2D, MaxPooling2D, AveragePooling2D\n",
        "from tensorflow.keras.layers import BatchNormalization\n",
        "from tensorflow.keras.regularizers import  l2\n",
        "from tensorflow.keras import backend as K\n",
        "import warnings\n",
        "\n",
        "warnings.filterwarnings(\"ignore\")\n",
        "weight_decay = 0.0005"
      ],
      "execution_count": 0,
      "outputs": []
    },
    {
      "cell_type": "code",
      "metadata": {
        "id": "5bt9111oHGs_",
        "colab_type": "code",
        "colab": {}
      },
      "source": [
        "def initial_conv(input):\n",
        "  x = Convolution2D(16,(3,3),padding=\"same\", kernel_initializer='he_normal',\n",
        "                    kernel_regularizer=l2(weight_decay),use_bias=False)(input)\n",
        "  channel_axis = 1 if K.image_data_format() == \"channels_first\" else -1\n",
        "  x = BatchNormalization(axis=channel_axis, momentum=0.1, epsilon=1e-5, gamma_initializer='uniform')(x)\n",
        "  x = Activation('relu')(x)\n",
        "  return x"
      ],
      "execution_count": 0,
      "outputs": []
    },
    {
      "cell_type": "code",
      "metadata": {
        "id": "Z2-99bU_HGrq",
        "colab_type": "code",
        "colab": {}
      },
      "source": [
        "def expand_conv(init, base, k, strides = (1,1)):\n",
        "  x = Convolution2D(base * k, kernel_size=(3,3),padding= \"same\", strides=strides, kernel_initializer=\"he_normal\", kernel_regularizer=l2(weight_decay),\n",
        "                    use_bias=False)(init)\n",
        "  channel_axis = 1 if K.image_data_format() == \"channels_first\" else -1\n",
        "\n",
        "  x = BatchNormalization(axis=channel_axis, momentum=0.1, epsilon= 1e-5, gamma_initializer= 'uniform')(x)\n",
        "  x = Activation('relu')(x)\n",
        "\n",
        "  x = Convolution2D(base * k, kernel_size=(3,3), padding = 'same', kernel_initializer = 'he_normal',kernel_regularizer=l2(weight_decay),\n",
        "                    use_bias = False)(x)\n",
        "  skip = Convolution2D(base * k, kernel_size=(1,1), padding='same', strides=strides, kernel_initializer='he_normal',\n",
        "                       kernel_regularizer=l2(weight_decay),\n",
        "                       use_bias = False)(init)\n",
        "  m = Add()([x, skip])\n",
        "  return m"
      ],
      "execution_count": 0,
      "outputs": []
    },
    {
      "cell_type": "code",
      "metadata": {
        "id": "y8-3eRVvL3dA",
        "colab_type": "code",
        "colab": {}
      },
      "source": [
        "def conv1_block(input, k=1, dropout = 0.0):\n",
        "  init = input\n",
        "  \n",
        "  channel_axis = 1 if K.image_data_format() == \"channels_first\" else -1\n",
        "\n",
        "  x = BatchNormalization(axis=channel_axis, momentum=0.1, epsilon=1e-5, gamma_initializer='uniform')(input)\n",
        "  x = Activation('relu')(x)\n",
        "  x = Convolution2D(16 * k, kernel_size=(3,3), padding='same', kernel_initializer='he_normal', kernel_regularizer=l2(weight_decay),\n",
        "                    use_bias=False)(x)\n",
        "  if dropout > 0.0: x = Dropout(dropout)(x)\n",
        "\n",
        "  x = BatchNormalization(axis=channel_axis, momentum=0.1, epsilon=1e-5, gamma_initializer='uniform')(x)\n",
        "  x = Activation('relu')(x)\n",
        "  x = Convolution2D(16 * k, kernel_size=(3,3), padding='same', kernel_initializer='he_normal',kernel_regularizer=l2(weight_decay),\n",
        "                    use_bias = False)(x)\n",
        "  m = Add()([init, x])\n",
        "  return m"
      ],
      "execution_count": 0,
      "outputs": []
    },
    {
      "cell_type": "code",
      "metadata": {
        "id": "l8Qzpd9HVBXQ",
        "colab_type": "code",
        "colab": {}
      },
      "source": [
        "def  conv2_block(input, k=1, dropout = 0.0):\n",
        "  init = input\n",
        "\n",
        "  channel_axis = 1 \n",
        "\n",
        "  x = BatchNormalization(axis=channel_axis, momentum=0.1, epsilon=1e-5, gamma_initializer='uniform')(input)\n",
        "  x = Activation('relu')(x)\n",
        "  x = Convolution2D(32 * k, kernel_size=(3,3), padding='same', kernel_initializer='he_normal',\n",
        "                    kernel_regularizer = l2(weight_decay), use_bias = False)(x)\n",
        "  \n",
        "  if dropout > 0.0: x = Dropout(dropout)(x)\n",
        "\n",
        "  x = BatchNormalization(axis=channel_axis, momentum=0.1, epsilon=1e-5, gamma_initializer='uniform')(x)\n",
        "  x = Activation('relu')(x)\n",
        "  x = Convolution2D(32*k, kernel_size=(3,3), padding='same', kernel_initializer='he_normal',\n",
        "                    kernel_regularizer= l2(weight_decay),\n",
        "                    use_bias = False)(x)\n",
        "  \n",
        "  m = Add()([init, x])\n",
        "  return m\n"
      ],
      "execution_count": 0,
      "outputs": []
    },
    {
      "cell_type": "code",
      "metadata": {
        "id": "xydZpkBAYi1p",
        "colab_type": "code",
        "colab": {}
      },
      "source": [
        "def conv3_block(input, k=1, dropout=0.0):\n",
        "  init = input\n",
        "\n",
        "  channel_axis = 1 \n",
        "\n",
        "  x = BatchNormalization(axis=channel_axis, momentum= 0.1, epsilon = 1e-5, gamma_initializer='uniform' )(input)\n",
        "  x = Activation('relu')(x)\n",
        "  x = Convolution2D(64 * k, kernel_size=(3,3), padding='same', kernel_initializer='he_normal',\n",
        "                    kernel_regularizer= l2(weight_decay),\n",
        "                    use_bias = False)(x)\n",
        "  \n",
        "  if dropout > 0.0: x = Dropout(dropout)(x)\n",
        "\n",
        "  x = BatchNormalization(axis=channel_axis, momentum=0.1, epsilon=1e-5, gamma_initializer='uniform')(x)\n",
        "  x = Activation('relu')(x)\n",
        "  x = Convolution2D(64 * k, kernel_size=(3,3), padding='same', kernel_initializer='he_normal',\n",
        "                    kernel_regularizer=l2(weight_decay),\n",
        "                    use_bias=False)(x)\n",
        "  m = Add()([init, x])\n",
        "  return m\n"
      ],
      "execution_count": 0,
      "outputs": []
    },
    {
      "cell_type": "code",
      "metadata": {
        "id": "QRdSMgRjG8ex",
        "colab_type": "code",
        "colab": {}
      },
      "source": [
        "def create_wide_residual_network(input_dim, nb_classes=4, N=2, k=2, dropout = 0.0, verbose=1):\n",
        "  channel_axis = 1 if K.image_data_format() == \"channels_first\" else -1\n",
        "\n",
        "  ip = Input(shape=input_dim)\n",
        "\n",
        "  x = initial_conv(ip)\n",
        "  nb_conv = 4\n",
        "  x = expand_conv(x, 16, k)\n",
        "  nb_conv +=2\n",
        "\n",
        "  for i in range(N-1):\n",
        "    x = conv1_block(x, k, dropout)\n",
        "    nb_conv +=2\n",
        "  x = BatchNormalization(axis=channel_axis, momentum=0.1, epsilon=1e-5, gamma_initializer='uniform')(x)\n",
        "  x = Activation('relu')(x)\n",
        "\n",
        "  x = expand_conv(x, 32, k, strides=(1, 1))\n",
        "  nb_conv += 2\n",
        "  for i in range(N - 1):\n",
        "    x = conv2_block(x, k, dropout)\n",
        "    nb_conv += 2\n",
        "  \n",
        "  x = BatchNormalization(axis=channel_axis, momentum=0.1, epsilon=1e-5, gamma_initializer='uniform')(x)\n",
        "  x = Activation('relu')(x)\n",
        "  \n",
        "  x = expand_conv(x, 64, k, strides=(1, 1))\n",
        "  nb_conv += 2\n",
        "  \n",
        "  for i in range(N - 1):\n",
        "    x = conv3_block(x, k, dropout)\n",
        "    nb_conv += 2\n",
        "    \n",
        "  x = BatchNormalization(axis=channel_axis, momentum=0.1, epsilon=1e-5, gamma_initializer='uniform')(x)\n",
        "  x = Activation('relu')(x)\n",
        "  \n",
        "  x = AveragePooling2D((8, 8))(x)\n",
        "  x = Flatten()(x)\n",
        "  \n",
        "  x = Dense(nb_classes, kernel_regularizer=l2(weight_decay), activation='softmax')(x)\n",
        "  \n",
        "  model = Model(ip, x)\n",
        "  \n",
        "  if verbose: print(\"Wide Residual Network-%d-%d created.\" % (nb_conv, k))\n",
        "  \n",
        "  return model\n",
        "\n",
        "\n",
        "\n"
      ],
      "execution_count": 0,
      "outputs": []
    },
    {
      "cell_type": "code",
      "metadata": {
        "id": "4bjIRpiBcPSR",
        "colab_type": "code",
        "outputId": "e8b37486-c838-4e03-8de6-573a4f20b88f",
        "colab": {
          "base_uri": "https://localhost:8080/",
          "height": 34
        }
      },
      "source": [
        "if __name__ == \"__main__\":\n",
        "    from tensorflow.keras.utils import plot_model\n",
        "    from tensorflow.keras.layers import Input\n",
        "    from tensorflow.keras.models import Model\n",
        "\n",
        "    init = (68, 100,1)\n",
        "    wrn28_10 = create_wide_residual_network(init, nb_classes=4, N=2, k=2, dropout = 0.0, verbose=1)\n",
        "  "
      ],
      "execution_count": 129,
      "outputs": [
        {
          "output_type": "stream",
          "text": [
            "Wide Residual Network-16-2 created.\n"
          ],
          "name": "stdout"
        }
      ]
    },
    {
      "cell_type": "code",
      "metadata": {
        "id": "AJqH742XcPQv",
        "colab_type": "code",
        "colab": {}
      },
      "source": [
        "from sklearn.model_selection import train_test_split\n",
        "import gzip\n",
        "import pickle\n",
        "import numpy as np"
      ],
      "execution_count": 0,
      "outputs": []
    },
    {
      "cell_type": "code",
      "metadata": {
        "id": "fNBI_SkvuzgK",
        "colab_type": "code",
        "outputId": "f3454a49-f12b-452d-c574-fd2d93e5cf9d",
        "colab": {
          "base_uri": "https://localhost:8080/",
          "height": 34
        }
      },
      "source": [
        "def read_data():\n",
        "    with open(\"data.pz\", 'rb') as file_:\n",
        "        with gzip.GzipFile(fileobj=file_) as gzf:\n",
        "            data = pickle.load(gzf, encoding='latin1', fix_imports=True)\n",
        "    return data\n",
        "data = read_data()\n",
        "new_data_X = []\n",
        "Y_data = []\n",
        "for row in data:\n",
        "    new_data_X.append(row['crop'])\n",
        "    Y_data.append(row['label'])\n",
        "new_data_X = np.array(new_data_X)\n",
        "new_data_X.shape"
      ],
      "execution_count": 156,
      "outputs": [
        {
          "output_type": "execute_result",
          "data": {
            "text/plain": [
              "(5722, 68, 100)"
            ]
          },
          "metadata": {
            "tags": []
          },
          "execution_count": 156
        }
      ]
    },
    {
      "cell_type": "code",
      "metadata": {
        "id": "jNro9iNCu2v6",
        "colab_type": "code",
        "colab": {}
      },
      "source": [
        "#X_train, X_test, y_train,y_test = train_test_split(new_data_X, Y_data,test_size=0.33,shuffle=True)"
      ],
      "execution_count": 0,
      "outputs": []
    },
    {
      "cell_type": "code",
      "metadata": {
        "id": "Nq9lsgeg90hT",
        "colab_type": "code",
        "colab": {}
      },
      "source": [
        "from sklearn.utils import shuffle\n",
        "#X_train, y_train = shuffle(X_train, y_train)"
      ],
      "execution_count": 0,
      "outputs": []
    },
    {
      "cell_type": "code",
      "metadata": {
        "id": "TNBsNVDNu6Ku",
        "colab_type": "code",
        "colab": {
          "base_uri": "https://localhost:8080/",
          "height": 34
        },
        "outputId": "8680f7d4-750f-4e81-eacc-f043d26e6b3f"
      },
      "source": [
        "X_train = new_data_X.astype('float32')\n",
        "X_train[0].shape"
      ],
      "execution_count": 167,
      "outputs": [
        {
          "output_type": "execute_result",
          "data": {
            "text/plain": [
              "(68, 100)"
            ]
          },
          "metadata": {
            "tags": []
          },
          "execution_count": 167
        }
      ]
    },
    {
      "cell_type": "code",
      "metadata": {
        "id": "uqf-dZOrvC0e",
        "colab_type": "code",
        "colab": {}
      },
      "source": [
        "\n",
        "img_rows, img_cols = X_train[0].shape\n",
        "\n",
        "# transform data set\n",
        "if K.image_data_format() == 'channels_first':\n",
        "    X_train = X_train.reshape(X_train.shape[0], 1, img_rows, img_cols)\n",
        "    input_shape = (1, img_rows, img_cols)\n",
        "else:\n",
        "    X_train = X_train.reshape(X_train.shape[0], img_rows, img_cols, 1)\n",
        "    input_shape = (1, img_rows, img_cols)"
      ],
      "execution_count": 0,
      "outputs": []
    },
    {
      "cell_type": "code",
      "metadata": {
        "id": "2eEHVf2Bu9xt",
        "colab_type": "code",
        "colab": {}
      },
      "source": [
        "import pandas as pd\n",
        "import numpy as np\n",
        "from sklearn.preprocessing import LabelEncoder\n",
        "\n",
        "# creating initial dataframe\n",
        "y_train_df = pd.DataFrame(Y_data, columns=['Label'])\n",
        "# creating instance of labelencoder\n",
        "labelencoder = LabelEncoder()\n",
        "# Assigning numerical values and storing in another column\n",
        "y_train_df['New'] = labelencoder.fit_transform(y_train_df['Label'])"
      ],
      "execution_count": 0,
      "outputs": []
    },
    {
      "cell_type": "code",
      "metadata": {
        "id": "1cGiQ8dlHUIc",
        "colab_type": "code",
        "colab": {}
      },
      "source": [
        "X_train, X_test, y_train,y_test = train_test_split(X_train, to_categorical(y_train_df['New']),test_size=0.33,shuffle=True)"
      ],
      "execution_count": 0,
      "outputs": []
    },
    {
      "cell_type": "code",
      "metadata": {
        "id": "rghSgp3NvhhV",
        "colab_type": "code",
        "colab": {}
      },
      "source": [
        "from tensorflow.keras.optimizers import SGD\n",
        "\n",
        "EPOCHS = 200\n",
        "BS = 128"
      ],
      "execution_count": 0,
      "outputs": []
    },
    {
      "cell_type": "code",
      "metadata": {
        "id": "PUHIVZnNwLL0",
        "colab_type": "code",
        "colab": {}
      },
      "source": [
        "sgd = SGD(lr=0.1, momentum=0.9)"
      ],
      "execution_count": 0,
      "outputs": []
    },
    {
      "cell_type": "code",
      "metadata": {
        "id": "yBnqXaiNwHGl",
        "colab_type": "code",
        "outputId": "8d93f462-f8ba-4788-c27d-b6919fd637ae",
        "colab": {
          "base_uri": "https://localhost:8080/",
          "height": 34
        }
      },
      "source": [
        "wrn28_10.compile(loss=\"categorical_crossentropy\", optimizer=sgd, metrics=[\"acc\"])\n",
        "print(\"Finished compiling\")"
      ],
      "execution_count": 173,
      "outputs": [
        {
          "output_type": "stream",
          "text": [
            "Finished compiling\n"
          ],
          "name": "stdout"
        }
      ]
    },
    {
      "cell_type": "code",
      "metadata": {
        "id": "4HA8PdUYwhsH",
        "colab_type": "code",
        "colab": {}
      },
      "source": [
        "from tensorflow.keras.utils import to_categorical\n",
        "from tensorflow.keras.callbacks import Callback, LearningRateScheduler, EarlyStopping\n"
      ],
      "execution_count": 0,
      "outputs": []
    },
    {
      "cell_type": "code",
      "metadata": {
        "id": "4zRSLe6NP6n9",
        "colab_type": "code",
        "colab": {
          "base_uri": "https://localhost:8080/",
          "height": 34
        },
        "outputId": "e12f89c6-4bbb-4912-a830-5cd60d09a37d"
      },
      "source": [
        "X_train.shape"
      ],
      "execution_count": 175,
      "outputs": [
        {
          "output_type": "execute_result",
          "data": {
            "text/plain": [
              "(3833, 68, 100, 1)"
            ]
          },
          "metadata": {
            "tags": []
          },
          "execution_count": 175
        }
      ]
    },
    {
      "cell_type": "code",
      "metadata": {
        "id": "88yOqhbSwjPa",
        "colab_type": "code",
        "colab": {}
      },
      "source": [
        "def lr_sch(epoch):\n",
        "    if epoch < 60:\n",
        "        return 0.1\n",
        "    elif epoch < 120:\n",
        "        return 0.02\n",
        "    elif epoch < 160:\n",
        "        return 0.004\n",
        "    else:\n",
        "        return 0.0008\n",
        "\n",
        "# Learning rate scheduler callback\n",
        "lr_scheduler = LearningRateScheduler(lr_sch)"
      ],
      "execution_count": 0,
      "outputs": []
    },
    {
      "cell_type": "code",
      "metadata": {
        "id": "JVs_QNHoEKji",
        "colab_type": "code",
        "colab": {
          "base_uri": "https://localhost:8080/",
          "height": 1000
        },
        "outputId": "8f368f15-a407-4049-80de-8f5827f06172"
      },
      "source": [
        " hist = wrn28_10.fit(X_train, y_train, \n",
        "                        batch_size=BS, epochs=EPOCHS, verbose=1,\n",
        "                        validation_data=(X_test,y_test), shuffle=True, callbacks=[lr_scheduler])"
      ],
      "execution_count": 145,
      "outputs": [
        {
          "output_type": "stream",
          "text": [
            "Epoch 1/200\n",
            "30/30 [==============================] - 16s 529ms/step - loss: 2.4286 - acc: 0.3444 - val_loss: 2.5457 - val_acc: 0.3483 - lr: 0.1000\n",
            "Epoch 2/200\n",
            "30/30 [==============================] - 15s 515ms/step - loss: 2.2757 - acc: 0.4380 - val_loss: 2.2390 - val_acc: 0.4410 - lr: 0.1000\n",
            "Epoch 3/200\n",
            "30/30 [==============================] - 15s 515ms/step - loss: 2.1454 - acc: 0.4949 - val_loss: 2.1853 - val_acc: 0.4584 - lr: 0.1000\n",
            "Epoch 4/200\n",
            "30/30 [==============================] - 15s 514ms/step - loss: 2.0489 - acc: 0.5213 - val_loss: 2.0628 - val_acc: 0.5024 - lr: 0.1000\n",
            "Epoch 5/200\n",
            "30/30 [==============================] - 15s 514ms/step - loss: 1.9316 - acc: 0.5520 - val_loss: 2.0063 - val_acc: 0.5135 - lr: 0.1000\n",
            "Epoch 6/200\n",
            "30/30 [==============================] - 15s 515ms/step - loss: 1.8439 - acc: 0.5784 - val_loss: 2.0058 - val_acc: 0.5304 - lr: 0.1000\n",
            "Epoch 7/200\n",
            "30/30 [==============================] - 15s 515ms/step - loss: 1.7448 - acc: 0.6058 - val_loss: 1.9668 - val_acc: 0.5124 - lr: 0.1000\n",
            "Epoch 8/200\n",
            "30/30 [==============================] - 15s 515ms/step - loss: 1.6964 - acc: 0.6115 - val_loss: 1.9569 - val_acc: 0.4849 - lr: 0.1000\n",
            "Epoch 9/200\n",
            "30/30 [==============================] - 15s 515ms/step - loss: 1.6143 - acc: 0.6371 - val_loss: 1.9870 - val_acc: 0.5124 - lr: 0.1000\n",
            "Epoch 10/200\n",
            "30/30 [==============================] - 15s 515ms/step - loss: 1.5110 - acc: 0.6710 - val_loss: 1.7725 - val_acc: 0.5590 - lr: 0.1000\n",
            "Epoch 11/200\n",
            "30/30 [==============================] - 15s 515ms/step - loss: 1.4071 - acc: 0.6979 - val_loss: 1.8210 - val_acc: 0.5421 - lr: 0.1000\n",
            "Epoch 12/200\n",
            "30/30 [==============================] - 15s 515ms/step - loss: 1.3918 - acc: 0.6929 - val_loss: 1.8044 - val_acc: 0.5214 - lr: 0.1000\n",
            "Epoch 13/200\n",
            "30/30 [==============================] - 15s 514ms/step - loss: 1.2909 - acc: 0.7263 - val_loss: 1.7610 - val_acc: 0.5659 - lr: 0.1000\n",
            "Epoch 14/200\n",
            "30/30 [==============================] - 15s 515ms/step - loss: 1.2079 - acc: 0.7592 - val_loss: 1.8358 - val_acc: 0.5447 - lr: 0.1000\n",
            "Epoch 15/200\n",
            "30/30 [==============================] - 15s 515ms/step - loss: 1.1992 - acc: 0.7469 - val_loss: 1.7316 - val_acc: 0.5611 - lr: 0.1000\n",
            "Epoch 16/200\n",
            "30/30 [==============================] - 15s 515ms/step - loss: 1.1179 - acc: 0.7801 - val_loss: 1.8586 - val_acc: 0.5490 - lr: 0.1000\n",
            "Epoch 17/200\n",
            "30/30 [==============================] - 15s 514ms/step - loss: 1.0370 - acc: 0.7965 - val_loss: 1.9592 - val_acc: 0.5490 - lr: 0.1000\n",
            "Epoch 18/200\n",
            "30/30 [==============================] - 15s 514ms/step - loss: 1.0177 - acc: 0.7968 - val_loss: 1.8038 - val_acc: 0.5696 - lr: 0.1000\n",
            "Epoch 19/200\n",
            "30/30 [==============================] - 15s 514ms/step - loss: 0.9918 - acc: 0.7996 - val_loss: 1.7967 - val_acc: 0.5654 - lr: 0.1000\n",
            "Epoch 20/200\n",
            "30/30 [==============================] - 15s 514ms/step - loss: 0.9037 - acc: 0.8260 - val_loss: 1.8297 - val_acc: 0.5749 - lr: 0.1000\n",
            "Epoch 21/200\n",
            "30/30 [==============================] - 15s 514ms/step - loss: 0.8707 - acc: 0.8427 - val_loss: 2.0109 - val_acc: 0.5442 - lr: 0.1000\n",
            "Epoch 22/200\n",
            "30/30 [==============================] - 15s 515ms/step - loss: 0.8284 - acc: 0.8547 - val_loss: 2.0524 - val_acc: 0.5659 - lr: 0.1000\n",
            "Epoch 23/200\n",
            "30/30 [==============================] - 15s 514ms/step - loss: 0.7649 - acc: 0.8735 - val_loss: 1.8853 - val_acc: 0.5654 - lr: 0.1000\n",
            "Epoch 24/200\n",
            "30/30 [==============================] - 15s 515ms/step - loss: 0.7268 - acc: 0.8860 - val_loss: 2.2807 - val_acc: 0.5606 - lr: 0.1000\n",
            "Epoch 25/200\n",
            "30/30 [==============================] - 15s 514ms/step - loss: 0.7652 - acc: 0.8638 - val_loss: 2.0304 - val_acc: 0.5633 - lr: 0.1000\n",
            "Epoch 26/200\n",
            "30/30 [==============================] - 15s 515ms/step - loss: 0.6994 - acc: 0.8839 - val_loss: 2.1513 - val_acc: 0.5569 - lr: 0.1000\n",
            "Epoch 27/200\n",
            "30/30 [==============================] - 15s 515ms/step - loss: 0.6187 - acc: 0.9204 - val_loss: 2.1260 - val_acc: 0.5749 - lr: 0.1000\n",
            "Epoch 28/200\n",
            "30/30 [==============================] - 15s 514ms/step - loss: 0.6011 - acc: 0.9189 - val_loss: 2.3970 - val_acc: 0.5686 - lr: 0.1000\n",
            "Epoch 29/200\n",
            "30/30 [==============================] - 15s 514ms/step - loss: 0.5527 - acc: 0.9376 - val_loss: 2.2865 - val_acc: 0.5770 - lr: 0.1000\n",
            "Epoch 30/200\n",
            "30/30 [==============================] - 15s 515ms/step - loss: 0.5424 - acc: 0.9371 - val_loss: 2.3733 - val_acc: 0.5791 - lr: 0.1000\n",
            "Epoch 31/200\n",
            "30/30 [==============================] - 15s 515ms/step - loss: 0.5478 - acc: 0.9301 - val_loss: 2.4165 - val_acc: 0.5606 - lr: 0.1000\n",
            "Epoch 32/200\n",
            "30/30 [==============================] - 15s 514ms/step - loss: 0.5900 - acc: 0.9113 - val_loss: 2.3718 - val_acc: 0.5585 - lr: 0.1000\n",
            "Epoch 33/200\n",
            "30/30 [==============================] - 15s 515ms/step - loss: 0.5725 - acc: 0.9173 - val_loss: 2.4364 - val_acc: 0.5384 - lr: 0.1000\n",
            "Epoch 34/200\n",
            "30/30 [==============================] - 15s 515ms/step - loss: 0.5180 - acc: 0.9350 - val_loss: 2.3007 - val_acc: 0.5855 - lr: 0.1000\n",
            "Epoch 35/200\n",
            "30/30 [==============================] - 15s 514ms/step - loss: 0.4793 - acc: 0.9517 - val_loss: 2.2797 - val_acc: 0.5940 - lr: 0.1000\n",
            "Epoch 36/200\n",
            "30/30 [==============================] - 15s 514ms/step - loss: 0.4449 - acc: 0.9624 - val_loss: 2.4111 - val_acc: 0.5765 - lr: 0.1000\n",
            "Epoch 37/200\n",
            "30/30 [==============================] - 15s 515ms/step - loss: 0.4132 - acc: 0.9703 - val_loss: 2.5802 - val_acc: 0.5903 - lr: 0.1000\n",
            "Epoch 38/200\n",
            "30/30 [==============================] - 15s 514ms/step - loss: 0.4343 - acc: 0.9570 - val_loss: 2.6397 - val_acc: 0.5627 - lr: 0.1000\n",
            "Epoch 39/200\n",
            "30/30 [==============================] - 15s 514ms/step - loss: 0.4604 - acc: 0.9478 - val_loss: 2.6579 - val_acc: 0.5373 - lr: 0.1000\n",
            "Epoch 40/200\n",
            "30/30 [==============================] - 15s 514ms/step - loss: 0.5228 - acc: 0.9228 - val_loss: 2.7127 - val_acc: 0.5701 - lr: 0.1000\n",
            "Epoch 41/200\n",
            "30/30 [==============================] - 15s 515ms/step - loss: 0.5540 - acc: 0.9079 - val_loss: 2.2325 - val_acc: 0.5627 - lr: 0.1000\n",
            "Epoch 42/200\n",
            "30/30 [==============================] - 15s 515ms/step - loss: 0.5024 - acc: 0.9306 - val_loss: 2.3295 - val_acc: 0.5770 - lr: 0.1000\n",
            "Epoch 43/200\n",
            "30/30 [==============================] - 15s 514ms/step - loss: 0.4225 - acc: 0.9588 - val_loss: 2.3537 - val_acc: 0.5855 - lr: 0.1000\n",
            "Epoch 44/200\n",
            "30/30 [==============================] - 15s 514ms/step - loss: 0.3544 - acc: 0.9870 - val_loss: 2.4701 - val_acc: 0.5892 - lr: 0.1000\n",
            "Epoch 45/200\n",
            "30/30 [==============================] - 15s 515ms/step - loss: 0.3155 - acc: 0.9979 - val_loss: 2.5107 - val_acc: 0.5934 - lr: 0.1000\n",
            "Epoch 46/200\n",
            "30/30 [==============================] - 15s 514ms/step - loss: 0.2885 - acc: 0.9997 - val_loss: 2.5176 - val_acc: 0.6003 - lr: 0.1000\n",
            "Epoch 47/200\n",
            "30/30 [==============================] - 15s 515ms/step - loss: 0.2687 - acc: 1.0000 - val_loss: 2.4508 - val_acc: 0.6046 - lr: 0.1000\n",
            "Epoch 48/200\n",
            "30/30 [==============================] - 15s 514ms/step - loss: 0.2517 - acc: 1.0000 - val_loss: 2.3707 - val_acc: 0.6061 - lr: 0.1000\n",
            "Epoch 49/200\n",
            "30/30 [==============================] - 15s 514ms/step - loss: 0.2372 - acc: 1.0000 - val_loss: 2.3589 - val_acc: 0.6019 - lr: 0.1000\n",
            "Epoch 50/200\n",
            "30/30 [==============================] - 15s 515ms/step - loss: 0.2237 - acc: 1.0000 - val_loss: 2.3146 - val_acc: 0.6088 - lr: 0.1000\n",
            "Epoch 51/200\n",
            "30/30 [==============================] - 15s 515ms/step - loss: 0.2112 - acc: 1.0000 - val_loss: 2.3638 - val_acc: 0.6072 - lr: 0.1000\n",
            "Epoch 52/200\n",
            "30/30 [==============================] - 15s 515ms/step - loss: 0.1995 - acc: 1.0000 - val_loss: 2.3070 - val_acc: 0.6136 - lr: 0.1000\n",
            "Epoch 53/200\n",
            "23/30 [======================>.......] - ETA: 3s - loss: 0.1896 - acc: 1.0000"
          ],
          "name": "stdout"
        },
        {
          "output_type": "error",
          "ename": "KeyboardInterrupt",
          "evalue": "ignored",
          "traceback": [
            "\u001b[0;31m---------------------------------------------------------------------------\u001b[0m",
            "\u001b[0;31mKeyboardInterrupt\u001b[0m                         Traceback (most recent call last)",
            "\u001b[0;32m<ipython-input-145-659e7d60b7aa>\u001b[0m in \u001b[0;36m<module>\u001b[0;34m()\u001b[0m\n\u001b[1;32m      1\u001b[0m hist = wrn28_10.fit(X_train, y_train, \n\u001b[1;32m      2\u001b[0m                        \u001b[0mbatch_size\u001b[0m\u001b[0;34m=\u001b[0m\u001b[0mBS\u001b[0m\u001b[0;34m,\u001b[0m \u001b[0mepochs\u001b[0m\u001b[0;34m=\u001b[0m\u001b[0mEPOCHS\u001b[0m\u001b[0;34m,\u001b[0m \u001b[0mverbose\u001b[0m\u001b[0;34m=\u001b[0m\u001b[0;36m1\u001b[0m\u001b[0;34m,\u001b[0m\u001b[0;34m\u001b[0m\u001b[0;34m\u001b[0m\u001b[0m\n\u001b[0;32m----> 3\u001b[0;31m                        validation_data=(X_test,y_test), shuffle=True, callbacks=[lr_scheduler])\n\u001b[0m",
            "\u001b[0;32m/usr/local/lib/python3.6/dist-packages/tensorflow/python/keras/engine/training.py\u001b[0m in \u001b[0;36m_method_wrapper\u001b[0;34m(self, *args, **kwargs)\u001b[0m\n\u001b[1;32m     64\u001b[0m                                         'keras api usage', 'method')\n\u001b[1;32m     65\u001b[0m \u001b[0;34m\u001b[0m\u001b[0m\n\u001b[0;32m---> 66\u001b[0;31m \u001b[0;34m\u001b[0m\u001b[0m\n\u001b[0m\u001b[1;32m     67\u001b[0m \u001b[0;34m@\u001b[0m\u001b[0mkeras_export\u001b[0m\u001b[0;34m(\u001b[0m\u001b[0;34m'keras.models.Model'\u001b[0m\u001b[0;34m,\u001b[0m \u001b[0;34m'keras.Model'\u001b[0m\u001b[0;34m)\u001b[0m\u001b[0;34m\u001b[0m\u001b[0;34m\u001b[0m\u001b[0m\n\u001b[1;32m     68\u001b[0m \u001b[0;32mclass\u001b[0m \u001b[0mModel\u001b[0m\u001b[0;34m(\u001b[0m\u001b[0mnetwork\u001b[0m\u001b[0;34m.\u001b[0m\u001b[0mNetwork\u001b[0m\u001b[0;34m)\u001b[0m\u001b[0;34m:\u001b[0m\u001b[0;34m\u001b[0m\u001b[0;34m\u001b[0m\u001b[0m\n",
            "\u001b[0;32m/usr/local/lib/python3.6/dist-packages/tensorflow/python/keras/engine/training.py\u001b[0m in \u001b[0;36mfit\u001b[0;34m(self, x, y, batch_size, epochs, verbose, callbacks, validation_split, validation_data, shuffle, class_weight, sample_weight, initial_epoch, steps_per_epoch, validation_steps, validation_batch_size, validation_freq, max_queue_size, workers, use_multiprocessing)\u001b[0m\n\u001b[1;32m    853\u001b[0m               \u001b[0;32mif\u001b[0m \u001b[0mthe\u001b[0m \u001b[0mmodel\u001b[0m \u001b[0mhas\u001b[0m \u001b[0mnamed\u001b[0m \u001b[0minputs\u001b[0m\u001b[0;34m.\u001b[0m\u001b[0;34m\u001b[0m\u001b[0;34m\u001b[0m\u001b[0m\n\u001b[1;32m    854\u001b[0m           \u001b[0;34m-\u001b[0m \u001b[0mA\u001b[0m\u001b[0;31m \u001b[0m\u001b[0;31m`\u001b[0m\u001b[0mtf\u001b[0m\u001b[0;34m.\u001b[0m\u001b[0mdata\u001b[0m\u001b[0;31m`\u001b[0m \u001b[0mdataset\u001b[0m \u001b[0;32mor\u001b[0m \u001b[0ma\u001b[0m \u001b[0mdataset\u001b[0m \u001b[0miterator\u001b[0m\u001b[0;34m.\u001b[0m\u001b[0;34m\u001b[0m\u001b[0;34m\u001b[0m\u001b[0m\n\u001b[0;32m--> 855\u001b[0;31m         \u001b[0my\u001b[0m\u001b[0;34m:\u001b[0m \u001b[0mTarget\u001b[0m \u001b[0mdata\u001b[0m\u001b[0;34m.\u001b[0m \u001b[0mLike\u001b[0m \u001b[0mthe\u001b[0m \u001b[0minput\u001b[0m \u001b[0mdata\u001b[0m\u001b[0;31m \u001b[0m\u001b[0;31m`\u001b[0m\u001b[0mx\u001b[0m\u001b[0;31m`\u001b[0m\u001b[0;34m,\u001b[0m \u001b[0mit\u001b[0m \u001b[0mcould\u001b[0m \u001b[0mbe\u001b[0m \u001b[0meither\u001b[0m \u001b[0mNumpy\u001b[0m\u001b[0;34m\u001b[0m\u001b[0;34m\u001b[0m\u001b[0m\n\u001b[0m\u001b[1;32m    856\u001b[0m           \u001b[0marray\u001b[0m\u001b[0;34m(\u001b[0m\u001b[0ms\u001b[0m\u001b[0;34m)\u001b[0m \u001b[0;32mor\u001b[0m \u001b[0mTensorFlow\u001b[0m \u001b[0mtensor\u001b[0m\u001b[0;34m(\u001b[0m\u001b[0ms\u001b[0m\u001b[0;34m)\u001b[0m\u001b[0;34m.\u001b[0m \u001b[0mIt\u001b[0m \u001b[0mshould\u001b[0m \u001b[0mbe\u001b[0m \u001b[0mconsistent\u001b[0m \u001b[0;32mwith\u001b[0m\u001b[0;31m \u001b[0m\u001b[0;31m`\u001b[0m\u001b[0mx\u001b[0m\u001b[0;31m`\u001b[0m\u001b[0;34m\u001b[0m\u001b[0;34m\u001b[0m\u001b[0m\n\u001b[1;32m    857\u001b[0m           \u001b[0;34m(\u001b[0m\u001b[0myou\u001b[0m \u001b[0mcannot\u001b[0m \u001b[0mhave\u001b[0m \u001b[0mNumpy\u001b[0m \u001b[0minputs\u001b[0m \u001b[0;32mand\u001b[0m \u001b[0mtensor\u001b[0m \u001b[0mtargets\u001b[0m\u001b[0;34m,\u001b[0m \u001b[0;32mor\u001b[0m \u001b[0minversely\u001b[0m\u001b[0;34m)\u001b[0m\u001b[0;34m.\u001b[0m \u001b[0mIf\u001b[0m\u001b[0;34m\u001b[0m\u001b[0;34m\u001b[0m\u001b[0m\n",
            "\u001b[0;32m/usr/local/lib/python3.6/dist-packages/tensorflow/python/keras/callbacks.py\u001b[0m in \u001b[0;36mon_train_batch_end\u001b[0;34m(self, batch, logs)\u001b[0m\n\u001b[1;32m    387\u001b[0m     \u001b[0mArguments\u001b[0m\u001b[0;34m:\u001b[0m\u001b[0;34m\u001b[0m\u001b[0;34m\u001b[0m\u001b[0m\n\u001b[1;32m    388\u001b[0m         \u001b[0mlogs\u001b[0m\u001b[0;34m:\u001b[0m \u001b[0mdict\u001b[0m\u001b[0;34m.\u001b[0m \u001b[0mCurrently\u001b[0m \u001b[0mno\u001b[0m \u001b[0mdata\u001b[0m \u001b[0;32mis\u001b[0m \u001b[0mpassed\u001b[0m \u001b[0mto\u001b[0m \u001b[0mthis\u001b[0m \u001b[0margument\u001b[0m \u001b[0;32mfor\u001b[0m \u001b[0mthis\u001b[0m \u001b[0mmethod\u001b[0m\u001b[0;34m\u001b[0m\u001b[0;34m\u001b[0m\u001b[0m\n\u001b[0;32m--> 389\u001b[0;31m           \u001b[0mbut\u001b[0m \u001b[0mthat\u001b[0m \u001b[0mmay\u001b[0m \u001b[0mchange\u001b[0m \u001b[0;32min\u001b[0m \u001b[0mthe\u001b[0m \u001b[0mfuture\u001b[0m\u001b[0;34m.\u001b[0m\u001b[0;34m\u001b[0m\u001b[0;34m\u001b[0m\u001b[0m\n\u001b[0m\u001b[1;32m    390\u001b[0m     \"\"\"\n\u001b[1;32m    391\u001b[0m     \u001b[0;32mfor\u001b[0m \u001b[0mcallback\u001b[0m \u001b[0;32min\u001b[0m \u001b[0mself\u001b[0m\u001b[0;34m.\u001b[0m\u001b[0mcallbacks\u001b[0m\u001b[0;34m:\u001b[0m\u001b[0;34m\u001b[0m\u001b[0;34m\u001b[0m\u001b[0m\n",
            "\u001b[0;32m/usr/local/lib/python3.6/dist-packages/tensorflow/python/keras/callbacks.py\u001b[0m in \u001b[0;36m_process_logs\u001b[0;34m(self, logs)\u001b[0m\n\u001b[1;32m    263\u001b[0m \u001b[0;34m\u001b[0m\u001b[0m\n\u001b[1;32m    264\u001b[0m   \u001b[0;32mdef\u001b[0m \u001b[0mon_batch_end\u001b[0m\u001b[0;34m(\u001b[0m\u001b[0mself\u001b[0m\u001b[0;34m,\u001b[0m \u001b[0mbatch\u001b[0m\u001b[0;34m,\u001b[0m \u001b[0mlogs\u001b[0m\u001b[0;34m=\u001b[0m\u001b[0;32mNone\u001b[0m\u001b[0;34m)\u001b[0m\u001b[0;34m:\u001b[0m\u001b[0;34m\u001b[0m\u001b[0;34m\u001b[0m\u001b[0m\n\u001b[0;32m--> 265\u001b[0;31m     \u001b[0mself\u001b[0m\u001b[0;34m.\u001b[0m\u001b[0m_call_batch_hook\u001b[0m\u001b[0;34m(\u001b[0m\u001b[0mModeKeys\u001b[0m\u001b[0;34m.\u001b[0m\u001b[0mTRAIN\u001b[0m\u001b[0;34m,\u001b[0m \u001b[0;34m'end'\u001b[0m\u001b[0;34m,\u001b[0m \u001b[0mbatch\u001b[0m\u001b[0;34m,\u001b[0m \u001b[0mlogs\u001b[0m\u001b[0;34m=\u001b[0m\u001b[0mlogs\u001b[0m\u001b[0;34m)\u001b[0m\u001b[0;34m\u001b[0m\u001b[0;34m\u001b[0m\u001b[0m\n\u001b[0m\u001b[1;32m    266\u001b[0m \u001b[0;34m\u001b[0m\u001b[0m\n\u001b[1;32m    267\u001b[0m   \u001b[0;32mdef\u001b[0m \u001b[0mon_epoch_begin\u001b[0m\u001b[0;34m(\u001b[0m\u001b[0mself\u001b[0m\u001b[0;34m,\u001b[0m \u001b[0mepoch\u001b[0m\u001b[0;34m,\u001b[0m \u001b[0mlogs\u001b[0m\u001b[0;34m=\u001b[0m\u001b[0;32mNone\u001b[0m\u001b[0;34m)\u001b[0m\u001b[0;34m:\u001b[0m\u001b[0;34m\u001b[0m\u001b[0;34m\u001b[0m\u001b[0m\n",
            "\u001b[0;32m/usr/local/lib/python3.6/dist-packages/tensorflow/python/keras/utils/tf_utils.py\u001b[0m in \u001b[0;36mto_numpy_or_python_type\u001b[0;34m(tensors)\u001b[0m\n",
            "\u001b[0;32m/usr/local/lib/python3.6/dist-packages/tensorflow/python/util/nest.py\u001b[0m in \u001b[0;36mmap_structure\u001b[0;34m(func, *structure, **kwargs)\u001b[0m\n\u001b[1;32m    615\u001b[0m     \u001b[0minput_tree\u001b[0m\u001b[0;34m.\u001b[0m\u001b[0;34m\u001b[0m\u001b[0;34m\u001b[0m\u001b[0m\n\u001b[1;32m    616\u001b[0m   \"\"\"\n\u001b[0;32m--> 617\u001b[0;31m   \u001b[0;32mif\u001b[0m \u001b[0;32mnot\u001b[0m \u001b[0mis_seq\u001b[0m\u001b[0;34m(\u001b[0m\u001b[0mshallow_tree\u001b[0m\u001b[0;34m)\u001b[0m\u001b[0;34m:\u001b[0m\u001b[0;34m\u001b[0m\u001b[0;34m\u001b[0m\u001b[0m\n\u001b[0m\u001b[1;32m    618\u001b[0m     \u001b[0;32myield\u001b[0m \u001b[0;34m(\u001b[0m\u001b[0mpath\u001b[0m\u001b[0;34m,\u001b[0m \u001b[0minput_tree\u001b[0m\u001b[0;34m)\u001b[0m\u001b[0;34m\u001b[0m\u001b[0;34m\u001b[0m\u001b[0m\n\u001b[1;32m    619\u001b[0m   \u001b[0;32melse\u001b[0m\u001b[0;34m:\u001b[0m\u001b[0;34m\u001b[0m\u001b[0;34m\u001b[0m\u001b[0m\n",
            "\u001b[0;32m/usr/local/lib/python3.6/dist-packages/tensorflow/python/util/nest.py\u001b[0m in \u001b[0;36m<listcomp>\u001b[0;34m(.0)\u001b[0m\n\u001b[1;32m    615\u001b[0m     \u001b[0minput_tree\u001b[0m\u001b[0;34m.\u001b[0m\u001b[0;34m\u001b[0m\u001b[0;34m\u001b[0m\u001b[0m\n\u001b[1;32m    616\u001b[0m   \"\"\"\n\u001b[0;32m--> 617\u001b[0;31m   \u001b[0;32mif\u001b[0m \u001b[0;32mnot\u001b[0m \u001b[0mis_seq\u001b[0m\u001b[0;34m(\u001b[0m\u001b[0mshallow_tree\u001b[0m\u001b[0;34m)\u001b[0m\u001b[0;34m:\u001b[0m\u001b[0;34m\u001b[0m\u001b[0;34m\u001b[0m\u001b[0m\n\u001b[0m\u001b[1;32m    618\u001b[0m     \u001b[0;32myield\u001b[0m \u001b[0;34m(\u001b[0m\u001b[0mpath\u001b[0m\u001b[0;34m,\u001b[0m \u001b[0minput_tree\u001b[0m\u001b[0;34m)\u001b[0m\u001b[0;34m\u001b[0m\u001b[0;34m\u001b[0m\u001b[0m\n\u001b[1;32m    619\u001b[0m   \u001b[0;32melse\u001b[0m\u001b[0;34m:\u001b[0m\u001b[0;34m\u001b[0m\u001b[0;34m\u001b[0m\u001b[0m\n",
            "\u001b[0;32m/usr/local/lib/python3.6/dist-packages/tensorflow/python/keras/utils/tf_utils.py\u001b[0m in \u001b[0;36m_to_single_numpy_or_python_type\u001b[0;34m(t)\u001b[0m\n",
            "\u001b[0;32m/usr/local/lib/python3.6/dist-packages/tensorflow/python/framework/ops.py\u001b[0m in \u001b[0;36mnumpy\u001b[0;34m(self)\u001b[0m\n\u001b[1;32m    959\u001b[0m     \"\"\"A copy of this Tensor with contents backed by memory on the GPU.\n\u001b[1;32m    960\u001b[0m \u001b[0;34m\u001b[0m\u001b[0m\n\u001b[0;32m--> 961\u001b[0;31m     \u001b[0mArguments\u001b[0m\u001b[0;34m:\u001b[0m\u001b[0;34m\u001b[0m\u001b[0;34m\u001b[0m\u001b[0m\n\u001b[0m\u001b[1;32m    962\u001b[0m       \u001b[0mgpu_index\u001b[0m\u001b[0;34m:\u001b[0m \u001b[0mIdentifies\u001b[0m \u001b[0mwhich\u001b[0m \u001b[0mGPU\u001b[0m \u001b[0mto\u001b[0m \u001b[0mplace\u001b[0m \u001b[0mthe\u001b[0m \u001b[0mcontents\u001b[0m \u001b[0mon\u001b[0m \u001b[0mthe\u001b[0m \u001b[0mreturned\u001b[0m\u001b[0;34m\u001b[0m\u001b[0;34m\u001b[0m\u001b[0m\n\u001b[1;32m    963\u001b[0m         \u001b[0mTensor\u001b[0m \u001b[0;32min\u001b[0m\u001b[0;34m.\u001b[0m\u001b[0;34m\u001b[0m\u001b[0;34m\u001b[0m\u001b[0m\n",
            "\u001b[0;32m/usr/local/lib/python3.6/dist-packages/tensorflow/python/framework/ops.py\u001b[0m in \u001b[0;36m_numpy\u001b[0;34m(self)\u001b[0m\n\u001b[1;32m    925\u001b[0m   \u001b[0;32mdef\u001b[0m \u001b[0mget_shape\u001b[0m\u001b[0;34m(\u001b[0m\u001b[0mself\u001b[0m\u001b[0;34m)\u001b[0m\u001b[0;34m:\u001b[0m\u001b[0;34m\u001b[0m\u001b[0;34m\u001b[0m\u001b[0m\n\u001b[1;32m    926\u001b[0m     \u001b[0;34m\"\"\"Alias of Tensor.shape.\"\"\"\u001b[0m\u001b[0;34m\u001b[0m\u001b[0;34m\u001b[0m\u001b[0m\n\u001b[0;32m--> 927\u001b[0;31m     \u001b[0;32mreturn\u001b[0m \u001b[0mself\u001b[0m\u001b[0;34m.\u001b[0m\u001b[0mshape\u001b[0m\u001b[0;34m\u001b[0m\u001b[0;34m\u001b[0m\u001b[0m\n\u001b[0m\u001b[1;32m    928\u001b[0m \u001b[0;34m\u001b[0m\u001b[0m\n\u001b[1;32m    929\u001b[0m   \u001b[0;32mdef\u001b[0m \u001b[0m_shape_as_list\u001b[0m\u001b[0;34m(\u001b[0m\u001b[0mself\u001b[0m\u001b[0;34m)\u001b[0m\u001b[0;34m:\u001b[0m\u001b[0;34m\u001b[0m\u001b[0;34m\u001b[0m\u001b[0m\n",
            "\u001b[0;31mKeyboardInterrupt\u001b[0m: "
          ]
        }
      ]
    },
    {
      "cell_type": "code",
      "metadata": {
        "id": "UUmbja_jwwnR",
        "colab_type": "code",
        "colab": {}
      },
      "source": [
        "#hist = wrn28_10.fit(X_train, to_categorical(y_train_df['New']), validation_split=0.33, epochs=EPOCHS, batch_size=BS, verbose=2)"
      ],
      "execution_count": 0,
      "outputs": []
    },
    {
      "cell_type": "code",
      "metadata": {
        "id": "E4SrDGNyOAB3",
        "colab_type": "code",
        "colab": {}
      },
      "source": [
        "# construct the training image generator for data augmentation\n",
        "aug = ImageDataGenerator(rotation_range=20, zoom_range=0.15,\n",
        "width_shift_range=0.2, height_shift_range=0.2, shear_range=0.15,\n",
        "horizontal_flip=True, fill_mode=\"nearest\")"
      ],
      "execution_count": 0,
      "outputs": []
    },
    {
      "cell_type": "code",
      "metadata": {
        "id": "lNyErPGJOFml",
        "colab_type": "code",
        "colab": {
          "base_uri": "https://localhost:8080/",
          "height": 1000
        },
        "outputId": "b4315fad-6a70-4ac3-955d-2bd96e429e13"
      },
      "source": [
        "hist_1 = wrn28_10.fit_generator(aug.flow(X_train, y_train, batch_size=BS),validation_data=(X_test, y_test),callbacks =[lr_scheduler],verbose=1, epochs=EPOCHS)"
      ],
      "execution_count": 178,
      "outputs": [
        {
          "output_type": "stream",
          "text": [
            "WARNING:tensorflow:From <ipython-input-178-348aabd9b1cc>:1: Model.fit_generator (from tensorflow.python.keras.engine.training) is deprecated and will be removed in a future version.\n",
            "Instructions for updating:\n",
            "Please use Model.fit, which supports generators.\n",
            "Epoch 1/200\n",
            "30/30 [==============================] - 16s 544ms/step - loss: 1.9087 - acc: 0.3999 - val_loss: 1.4611 - val_acc: 0.4426 - lr: 0.1000\n",
            "Epoch 2/200\n",
            "30/30 [==============================] - 16s 523ms/step - loss: 1.4513 - acc: 0.4318 - val_loss: 1.4212 - val_acc: 0.4558 - lr: 0.1000\n",
            "Epoch 3/200\n",
            "30/30 [==============================] - 16s 521ms/step - loss: 1.3905 - acc: 0.4871 - val_loss: 1.3084 - val_acc: 0.5331 - lr: 0.1000\n",
            "Epoch 4/200\n",
            "30/30 [==============================] - 16s 521ms/step - loss: 1.3562 - acc: 0.4931 - val_loss: 1.3522 - val_acc: 0.4881 - lr: 0.1000\n",
            "Epoch 5/200\n",
            "30/30 [==============================] - 16s 522ms/step - loss: 1.3162 - acc: 0.5085 - val_loss: 1.2383 - val_acc: 0.5580 - lr: 0.1000\n",
            "Epoch 6/200\n",
            "30/30 [==============================] - 16s 522ms/step - loss: 1.2961 - acc: 0.5270 - val_loss: 1.3042 - val_acc: 0.5008 - lr: 0.1000\n",
            "Epoch 7/200\n",
            "30/30 [==============================] - 16s 522ms/step - loss: 1.2915 - acc: 0.5294 - val_loss: 1.2285 - val_acc: 0.5638 - lr: 0.1000\n",
            "Epoch 8/200\n",
            "30/30 [==============================] - 16s 521ms/step - loss: 1.2865 - acc: 0.5304 - val_loss: 1.2789 - val_acc: 0.5304 - lr: 0.1000\n",
            "Epoch 9/200\n",
            "30/30 [==============================] - 16s 522ms/step - loss: 1.2375 - acc: 0.5489 - val_loss: 1.2258 - val_acc: 0.5527 - lr: 0.1000\n",
            "Epoch 10/200\n",
            "30/30 [==============================] - 16s 522ms/step - loss: 1.2323 - acc: 0.5427 - val_loss: 1.2309 - val_acc: 0.5601 - lr: 0.1000\n",
            "Epoch 11/200\n",
            "30/30 [==============================] - 16s 522ms/step - loss: 1.2047 - acc: 0.5656 - val_loss: 1.1733 - val_acc: 0.5929 - lr: 0.1000\n",
            "Epoch 12/200\n",
            "30/30 [==============================] - 16s 522ms/step - loss: 1.2038 - acc: 0.5515 - val_loss: 1.2200 - val_acc: 0.5331 - lr: 0.1000\n",
            "Epoch 13/200\n",
            "30/30 [==============================] - 16s 521ms/step - loss: 1.1912 - acc: 0.5609 - val_loss: 1.2273 - val_acc: 0.5289 - lr: 0.1000\n",
            "Epoch 14/200\n",
            "30/30 [==============================] - 16s 522ms/step - loss: 1.1755 - acc: 0.5601 - val_loss: 1.2295 - val_acc: 0.5379 - lr: 0.1000\n",
            "Epoch 15/200\n",
            "30/30 [==============================] - 16s 523ms/step - loss: 1.1743 - acc: 0.5703 - val_loss: 1.0959 - val_acc: 0.5966 - lr: 0.1000\n",
            "Epoch 16/200\n",
            "30/30 [==============================] - 16s 521ms/step - loss: 1.1486 - acc: 0.5789 - val_loss: 1.1415 - val_acc: 0.5860 - lr: 0.1000\n",
            "Epoch 17/200\n",
            "30/30 [==============================] - 16s 521ms/step - loss: 1.1206 - acc: 0.5901 - val_loss: 1.1241 - val_acc: 0.5924 - lr: 0.1000\n",
            "Epoch 18/200\n",
            "30/30 [==============================] - 16s 521ms/step - loss: 1.1097 - acc: 0.5909 - val_loss: 1.0819 - val_acc: 0.6067 - lr: 0.1000\n",
            "Epoch 19/200\n",
            "30/30 [==============================] - 16s 521ms/step - loss: 1.1180 - acc: 0.5834 - val_loss: 1.0770 - val_acc: 0.6040 - lr: 0.1000\n",
            "Epoch 20/200\n",
            "30/30 [==============================] - 16s 522ms/step - loss: 1.1037 - acc: 0.5946 - val_loss: 1.0892 - val_acc: 0.5839 - lr: 0.1000\n",
            "Epoch 21/200\n",
            "30/30 [==============================] - 16s 521ms/step - loss: 1.0736 - acc: 0.6092 - val_loss: 1.0557 - val_acc: 0.6130 - lr: 0.1000\n",
            "Epoch 22/200\n",
            "30/30 [==============================] - 16s 522ms/step - loss: 1.1002 - acc: 0.5956 - val_loss: 1.0527 - val_acc: 0.6458 - lr: 0.1000\n",
            "Epoch 23/200\n",
            "30/30 [==============================] - 16s 521ms/step - loss: 1.1063 - acc: 0.6074 - val_loss: 1.1676 - val_acc: 0.5823 - lr: 0.1000\n",
            "Epoch 24/200\n",
            "30/30 [==============================] - 16s 520ms/step - loss: 1.0634 - acc: 0.6110 - val_loss: 1.0671 - val_acc: 0.6247 - lr: 0.1000\n",
            "Epoch 25/200\n",
            "30/30 [==============================] - 16s 521ms/step - loss: 1.0701 - acc: 0.6040 - val_loss: 1.0292 - val_acc: 0.6284 - lr: 0.1000\n",
            "Epoch 26/200\n",
            "30/30 [==============================] - 16s 522ms/step - loss: 1.0815 - acc: 0.6050 - val_loss: 1.0386 - val_acc: 0.6088 - lr: 0.1000\n",
            "Epoch 27/200\n",
            "30/30 [==============================] - 16s 521ms/step - loss: 1.0482 - acc: 0.6191 - val_loss: 1.0276 - val_acc: 0.6305 - lr: 0.1000\n",
            "Epoch 28/200\n",
            "30/30 [==============================] - 16s 522ms/step - loss: 1.0198 - acc: 0.6290 - val_loss: 1.0030 - val_acc: 0.6379 - lr: 0.1000\n",
            "Epoch 29/200\n",
            "30/30 [==============================] - 16s 521ms/step - loss: 1.0510 - acc: 0.6154 - val_loss: 1.1078 - val_acc: 0.6030 - lr: 0.1000\n",
            "Epoch 30/200\n",
            "30/30 [==============================] - 16s 521ms/step - loss: 1.0478 - acc: 0.6178 - val_loss: 1.0765 - val_acc: 0.5924 - lr: 0.1000\n",
            "Epoch 31/200\n",
            "30/30 [==============================] - 16s 520ms/step - loss: 1.0408 - acc: 0.6274 - val_loss: 1.0092 - val_acc: 0.6437 - lr: 0.1000\n",
            "Epoch 32/200\n",
            "30/30 [==============================] - 16s 521ms/step - loss: 1.0021 - acc: 0.6423 - val_loss: 1.0258 - val_acc: 0.6210 - lr: 0.1000\n",
            "Epoch 33/200\n",
            "30/30 [==============================] - 16s 521ms/step - loss: 1.0041 - acc: 0.6306 - val_loss: 1.2441 - val_acc: 0.5696 - lr: 0.1000\n",
            "Epoch 34/200\n",
            "30/30 [==============================] - 16s 522ms/step - loss: 1.0441 - acc: 0.6199 - val_loss: 1.0161 - val_acc: 0.6448 - lr: 0.1000\n",
            "Epoch 35/200\n",
            "30/30 [==============================] - 16s 522ms/step - loss: 1.0255 - acc: 0.6348 - val_loss: 1.0923 - val_acc: 0.5918 - lr: 0.1000\n",
            "Epoch 36/200\n",
            "30/30 [==============================] - 16s 521ms/step - loss: 0.9999 - acc: 0.6460 - val_loss: 1.0069 - val_acc: 0.6247 - lr: 0.1000\n",
            "Epoch 37/200\n",
            "30/30 [==============================] - 16s 521ms/step - loss: 1.0095 - acc: 0.6421 - val_loss: 0.9916 - val_acc: 0.6490 - lr: 0.1000\n",
            "Epoch 38/200\n",
            "30/30 [==============================] - 16s 521ms/step - loss: 1.0149 - acc: 0.6413 - val_loss: 1.0087 - val_acc: 0.6453 - lr: 0.1000\n",
            "Epoch 39/200\n",
            "30/30 [==============================] - 16s 521ms/step - loss: 1.0021 - acc: 0.6387 - val_loss: 0.9969 - val_acc: 0.6485 - lr: 0.1000\n",
            "Epoch 40/200\n",
            "30/30 [==============================] - 16s 521ms/step - loss: 0.9719 - acc: 0.6556 - val_loss: 1.1297 - val_acc: 0.5786 - lr: 0.1000\n",
            "Epoch 41/200\n",
            "30/30 [==============================] - 16s 522ms/step - loss: 1.0164 - acc: 0.6418 - val_loss: 1.0748 - val_acc: 0.6384 - lr: 0.1000\n",
            "Epoch 42/200\n",
            "30/30 [==============================] - 16s 521ms/step - loss: 1.0182 - acc: 0.6379 - val_loss: 0.9810 - val_acc: 0.6681 - lr: 0.1000\n",
            "Epoch 43/200\n",
            "30/30 [==============================] - 16s 522ms/step - loss: 1.0012 - acc: 0.6345 - val_loss: 1.0949 - val_acc: 0.6210 - lr: 0.1000\n",
            "Epoch 44/200\n",
            "30/30 [==============================] - 16s 521ms/step - loss: 1.0051 - acc: 0.6423 - val_loss: 0.9930 - val_acc: 0.6474 - lr: 0.1000\n",
            "Epoch 45/200\n",
            "30/30 [==============================] - 16s 522ms/step - loss: 0.9859 - acc: 0.6522 - val_loss: 1.0642 - val_acc: 0.6056 - lr: 0.1000\n",
            "Epoch 46/200\n",
            "30/30 [==============================] - 16s 521ms/step - loss: 0.9922 - acc: 0.6454 - val_loss: 1.1531 - val_acc: 0.6120 - lr: 0.1000\n",
            "Epoch 47/200\n",
            "30/30 [==============================] - 16s 521ms/step - loss: 0.9873 - acc: 0.6465 - val_loss: 1.0713 - val_acc: 0.6204 - lr: 0.1000\n",
            "Epoch 48/200\n",
            "30/30 [==============================] - 16s 522ms/step - loss: 0.9889 - acc: 0.6473 - val_loss: 0.9511 - val_acc: 0.6681 - lr: 0.1000\n",
            "Epoch 49/200\n",
            "30/30 [==============================] - 16s 521ms/step - loss: 0.9702 - acc: 0.6556 - val_loss: 1.2381 - val_acc: 0.5918 - lr: 0.1000\n",
            "Epoch 50/200\n",
            "30/30 [==============================] - 16s 521ms/step - loss: 0.9749 - acc: 0.6530 - val_loss: 0.9561 - val_acc: 0.6623 - lr: 0.1000\n",
            "Epoch 51/200\n",
            "30/30 [==============================] - 16s 521ms/step - loss: 0.9652 - acc: 0.6593 - val_loss: 1.0040 - val_acc: 0.6273 - lr: 0.1000\n",
            "Epoch 52/200\n",
            "30/30 [==============================] - 16s 521ms/step - loss: 0.9605 - acc: 0.6585 - val_loss: 0.9842 - val_acc: 0.6580 - lr: 0.1000\n",
            "Epoch 53/200\n",
            "30/30 [==============================] - 16s 523ms/step - loss: 0.9647 - acc: 0.6543 - val_loss: 0.9017 - val_acc: 0.6972 - lr: 0.1000\n",
            "Epoch 54/200\n",
            "30/30 [==============================] - 16s 522ms/step - loss: 0.9645 - acc: 0.6593 - val_loss: 0.9801 - val_acc: 0.6760 - lr: 0.1000\n",
            "Epoch 55/200\n",
            "30/30 [==============================] - 16s 521ms/step - loss: 0.9920 - acc: 0.6556 - val_loss: 0.9331 - val_acc: 0.6840 - lr: 0.1000\n",
            "Epoch 56/200\n",
            "30/30 [==============================] - 16s 522ms/step - loss: 0.9507 - acc: 0.6713 - val_loss: 1.0254 - val_acc: 0.6247 - lr: 0.1000\n",
            "Epoch 57/200\n",
            "30/30 [==============================] - 16s 521ms/step - loss: 0.9453 - acc: 0.6689 - val_loss: 1.1426 - val_acc: 0.6278 - lr: 0.1000\n",
            "Epoch 58/200\n",
            "30/30 [==============================] - 16s 521ms/step - loss: 0.9570 - acc: 0.6650 - val_loss: 1.0566 - val_acc: 0.6490 - lr: 0.1000\n",
            "Epoch 59/200\n",
            "30/30 [==============================] - 16s 521ms/step - loss: 0.9599 - acc: 0.6642 - val_loss: 0.9631 - val_acc: 0.6559 - lr: 0.1000\n",
            "Epoch 60/200\n",
            "30/30 [==============================] - 16s 522ms/step - loss: 0.9249 - acc: 0.6815 - val_loss: 0.9970 - val_acc: 0.6527 - lr: 0.1000\n",
            "Epoch 61/200\n",
            "30/30 [==============================] - 16s 521ms/step - loss: 0.9821 - acc: 0.6661 - val_loss: 0.9931 - val_acc: 0.6601 - lr: 0.0200\n",
            "Epoch 62/200\n",
            "30/30 [==============================] - 16s 521ms/step - loss: 0.8697 - acc: 0.7034 - val_loss: 0.9142 - val_acc: 0.6945 - lr: 0.0200\n",
            "Epoch 63/200\n",
            "30/30 [==============================] - 16s 521ms/step - loss: 0.8574 - acc: 0.7122 - val_loss: 0.9115 - val_acc: 0.6972 - lr: 0.0200\n",
            "Epoch 64/200\n",
            "30/30 [==============================] - 16s 521ms/step - loss: 0.8350 - acc: 0.7156 - val_loss: 0.8761 - val_acc: 0.7035 - lr: 0.0200\n",
            "Epoch 65/200\n",
            "30/30 [==============================] - 16s 521ms/step - loss: 0.8213 - acc: 0.7255 - val_loss: 0.8783 - val_acc: 0.7041 - lr: 0.0200\n",
            "Epoch 66/200\n",
            "30/30 [==============================] - 16s 522ms/step - loss: 0.8212 - acc: 0.7248 - val_loss: 0.8854 - val_acc: 0.7099 - lr: 0.0200\n",
            "Epoch 67/200\n",
            "30/30 [==============================] - 16s 522ms/step - loss: 0.8110 - acc: 0.7274 - val_loss: 0.8688 - val_acc: 0.7163 - lr: 0.0200\n",
            "Epoch 68/200\n",
            "30/30 [==============================] - 16s 522ms/step - loss: 0.8071 - acc: 0.7347 - val_loss: 0.8758 - val_acc: 0.7073 - lr: 0.0200\n",
            "Epoch 69/200\n",
            "30/30 [==============================] - 16s 522ms/step - loss: 0.7985 - acc: 0.7352 - val_loss: 0.8712 - val_acc: 0.7184 - lr: 0.0200\n",
            "Epoch 70/200\n",
            "30/30 [==============================] - 16s 524ms/step - loss: 0.7906 - acc: 0.7391 - val_loss: 0.8931 - val_acc: 0.7025 - lr: 0.0200\n",
            "Epoch 71/200\n",
            "30/30 [==============================] - 16s 522ms/step - loss: 0.8099 - acc: 0.7352 - val_loss: 0.9041 - val_acc: 0.7030 - lr: 0.0200\n",
            "Epoch 72/200\n",
            "30/30 [==============================] - 16s 522ms/step - loss: 0.7817 - acc: 0.7308 - val_loss: 0.9989 - val_acc: 0.6638 - lr: 0.0200\n",
            "Epoch 73/200\n",
            "30/30 [==============================] - 16s 523ms/step - loss: 0.7890 - acc: 0.7360 - val_loss: 0.8450 - val_acc: 0.7136 - lr: 0.0200\n",
            "Epoch 74/200\n",
            "30/30 [==============================] - 16s 521ms/step - loss: 0.7794 - acc: 0.7394 - val_loss: 0.8443 - val_acc: 0.7200 - lr: 0.0200\n",
            "Epoch 75/200\n",
            "30/30 [==============================] - 16s 521ms/step - loss: 0.7810 - acc: 0.7428 - val_loss: 0.9444 - val_acc: 0.6908 - lr: 0.0200\n",
            "Epoch 76/200\n",
            "30/30 [==============================] - 16s 522ms/step - loss: 0.7869 - acc: 0.7328 - val_loss: 0.8347 - val_acc: 0.7226 - lr: 0.0200\n",
            "Epoch 77/200\n",
            "30/30 [==============================] - 16s 522ms/step - loss: 0.7760 - acc: 0.7402 - val_loss: 0.8662 - val_acc: 0.7035 - lr: 0.0200\n",
            "Epoch 78/200\n",
            "30/30 [==============================] - 16s 522ms/step - loss: 0.7735 - acc: 0.7407 - val_loss: 0.8784 - val_acc: 0.7120 - lr: 0.0200\n",
            "Epoch 79/200\n",
            "30/30 [==============================] - 16s 522ms/step - loss: 0.7629 - acc: 0.7430 - val_loss: 0.8576 - val_acc: 0.7083 - lr: 0.0200\n",
            "Epoch 80/200\n",
            "30/30 [==============================] - 16s 522ms/step - loss: 0.7595 - acc: 0.7407 - val_loss: 0.8401 - val_acc: 0.7237 - lr: 0.0200\n",
            "Epoch 81/200\n",
            "30/30 [==============================] - 16s 523ms/step - loss: 0.7650 - acc: 0.7454 - val_loss: 0.8759 - val_acc: 0.7210 - lr: 0.0200\n",
            "Epoch 82/200\n",
            "30/30 [==============================] - 16s 521ms/step - loss: 0.7594 - acc: 0.7438 - val_loss: 0.8465 - val_acc: 0.7120 - lr: 0.0200\n",
            "Epoch 83/200\n",
            "30/30 [==============================] - 16s 522ms/step - loss: 0.7458 - acc: 0.7516 - val_loss: 0.8502 - val_acc: 0.7014 - lr: 0.0200\n",
            "Epoch 84/200\n",
            "30/30 [==============================] - 16s 521ms/step - loss: 0.7644 - acc: 0.7501 - val_loss: 0.8301 - val_acc: 0.7221 - lr: 0.0200\n",
            "Epoch 85/200\n",
            "30/30 [==============================] - 16s 521ms/step - loss: 0.7593 - acc: 0.7428 - val_loss: 0.8282 - val_acc: 0.7374 - lr: 0.0200\n",
            "Epoch 86/200\n",
            "30/30 [==============================] - 16s 521ms/step - loss: 0.7379 - acc: 0.7495 - val_loss: 0.8513 - val_acc: 0.7115 - lr: 0.0200\n",
            "Epoch 87/200\n",
            "30/30 [==============================] - 16s 522ms/step - loss: 0.7567 - acc: 0.7540 - val_loss: 0.8508 - val_acc: 0.7337 - lr: 0.0200\n",
            "Epoch 88/200\n",
            "30/30 [==============================] - 16s 521ms/step - loss: 0.7693 - acc: 0.7381 - val_loss: 0.8486 - val_acc: 0.7300 - lr: 0.0200\n",
            "Epoch 89/200\n",
            "30/30 [==============================] - 16s 523ms/step - loss: 0.7690 - acc: 0.7435 - val_loss: 0.8718 - val_acc: 0.7200 - lr: 0.0200\n",
            "Epoch 90/200\n",
            "30/30 [==============================] - 16s 521ms/step - loss: 0.7329 - acc: 0.7608 - val_loss: 0.8170 - val_acc: 0.7353 - lr: 0.0200\n",
            "Epoch 91/200\n",
            "30/30 [==============================] - 16s 523ms/step - loss: 0.7210 - acc: 0.7691 - val_loss: 0.8464 - val_acc: 0.7152 - lr: 0.0200\n",
            "Epoch 92/200\n",
            "30/30 [==============================] - 16s 522ms/step - loss: 0.7274 - acc: 0.7527 - val_loss: 0.8479 - val_acc: 0.7094 - lr: 0.0200\n",
            "Epoch 93/200\n",
            "30/30 [==============================] - 16s 521ms/step - loss: 0.7275 - acc: 0.7503 - val_loss: 0.8501 - val_acc: 0.7242 - lr: 0.0200\n",
            "Epoch 94/200\n",
            "30/30 [==============================] - 16s 522ms/step - loss: 0.7349 - acc: 0.7571 - val_loss: 0.8699 - val_acc: 0.7147 - lr: 0.0200\n",
            "Epoch 95/200\n",
            "30/30 [==============================] - 16s 522ms/step - loss: 0.7335 - acc: 0.7495 - val_loss: 0.8246 - val_acc: 0.7189 - lr: 0.0200\n",
            "Epoch 96/200\n",
            "30/30 [==============================] - 16s 522ms/step - loss: 0.7498 - acc: 0.7417 - val_loss: 0.8291 - val_acc: 0.7274 - lr: 0.0200\n",
            "Epoch 97/200\n",
            "30/30 [==============================] - 16s 520ms/step - loss: 0.7355 - acc: 0.7592 - val_loss: 0.8448 - val_acc: 0.7088 - lr: 0.0200\n",
            "Epoch 98/200\n",
            "30/30 [==============================] - 16s 521ms/step - loss: 0.7287 - acc: 0.7519 - val_loss: 0.8390 - val_acc: 0.7237 - lr: 0.0200\n",
            "Epoch 99/200\n",
            "30/30 [==============================] - 16s 521ms/step - loss: 0.7150 - acc: 0.7657 - val_loss: 0.8981 - val_acc: 0.7041 - lr: 0.0200\n",
            "Epoch 100/200\n",
            "30/30 [==============================] - 16s 521ms/step - loss: 0.7105 - acc: 0.7628 - val_loss: 0.8632 - val_acc: 0.7305 - lr: 0.0200\n",
            "Epoch 101/200\n",
            "30/30 [==============================] - 16s 523ms/step - loss: 0.7367 - acc: 0.7610 - val_loss: 0.8894 - val_acc: 0.7157 - lr: 0.0200\n",
            "Epoch 102/200\n",
            "30/30 [==============================] - 16s 522ms/step - loss: 0.7321 - acc: 0.7571 - val_loss: 0.8258 - val_acc: 0.7131 - lr: 0.0200\n",
            "Epoch 103/200\n",
            "30/30 [==============================] - 16s 522ms/step - loss: 0.7205 - acc: 0.7662 - val_loss: 0.8559 - val_acc: 0.7157 - lr: 0.0200\n",
            "Epoch 104/200\n",
            "30/30 [==============================] - 16s 522ms/step - loss: 0.7344 - acc: 0.7636 - val_loss: 0.8099 - val_acc: 0.7321 - lr: 0.0200\n",
            "Epoch 105/200\n",
            "30/30 [==============================] - 16s 521ms/step - loss: 0.7077 - acc: 0.7615 - val_loss: 0.8528 - val_acc: 0.7226 - lr: 0.0200\n",
            "Epoch 106/200\n",
            "30/30 [==============================] - 16s 521ms/step - loss: 0.7047 - acc: 0.7615 - val_loss: 0.8121 - val_acc: 0.7279 - lr: 0.0200\n",
            "Epoch 107/200\n",
            "30/30 [==============================] - 16s 521ms/step - loss: 0.7053 - acc: 0.7649 - val_loss: 0.9969 - val_acc: 0.6522 - lr: 0.0200\n",
            "Epoch 108/200\n",
            "30/30 [==============================] - 16s 521ms/step - loss: 0.7355 - acc: 0.7608 - val_loss: 0.8897 - val_acc: 0.7057 - lr: 0.0200\n",
            "Epoch 109/200\n",
            "30/30 [==============================] - 16s 521ms/step - loss: 0.7171 - acc: 0.7545 - val_loss: 0.8511 - val_acc: 0.7242 - lr: 0.0200\n",
            "Epoch 110/200\n",
            "30/30 [==============================] - 16s 522ms/step - loss: 0.7123 - acc: 0.7657 - val_loss: 0.9133 - val_acc: 0.6977 - lr: 0.0200\n",
            "Epoch 111/200\n",
            "30/30 [==============================] - 16s 520ms/step - loss: 0.7050 - acc: 0.7691 - val_loss: 0.9664 - val_acc: 0.7051 - lr: 0.0200\n",
            "Epoch 112/200\n",
            "30/30 [==============================] - 16s 521ms/step - loss: 0.7209 - acc: 0.7660 - val_loss: 0.9446 - val_acc: 0.6765 - lr: 0.0200\n",
            "Epoch 113/200\n",
            "30/30 [==============================] - 16s 522ms/step - loss: 0.7362 - acc: 0.7561 - val_loss: 0.8597 - val_acc: 0.7120 - lr: 0.0200\n",
            "Epoch 114/200\n",
            "30/30 [==============================] - 16s 523ms/step - loss: 0.6954 - acc: 0.7683 - val_loss: 0.9004 - val_acc: 0.7184 - lr: 0.0200\n",
            "Epoch 115/200\n",
            "30/30 [==============================] - 16s 521ms/step - loss: 0.7167 - acc: 0.7665 - val_loss: 0.8979 - val_acc: 0.7057 - lr: 0.0200\n",
            "Epoch 116/200\n",
            "30/30 [==============================] - 16s 520ms/step - loss: 0.7167 - acc: 0.7522 - val_loss: 0.8580 - val_acc: 0.7263 - lr: 0.0200\n",
            "Epoch 117/200\n",
            "30/30 [==============================] - 16s 523ms/step - loss: 0.7062 - acc: 0.7657 - val_loss: 0.8421 - val_acc: 0.7364 - lr: 0.0200\n",
            "Epoch 118/200\n",
            "30/30 [==============================] - 16s 522ms/step - loss: 0.6983 - acc: 0.7720 - val_loss: 0.8307 - val_acc: 0.7221 - lr: 0.0200\n",
            "Epoch 119/200\n",
            "30/30 [==============================] - 16s 521ms/step - loss: 0.6994 - acc: 0.7728 - val_loss: 0.8124 - val_acc: 0.7253 - lr: 0.0200\n",
            "Epoch 120/200\n",
            "30/30 [==============================] - 16s 521ms/step - loss: 0.7061 - acc: 0.7655 - val_loss: 0.8568 - val_acc: 0.7295 - lr: 0.0200\n",
            "Epoch 121/200\n",
            "30/30 [==============================] - 16s 521ms/step - loss: 0.7140 - acc: 0.7652 - val_loss: 0.8297 - val_acc: 0.7300 - lr: 0.0040\n",
            "Epoch 122/200\n",
            "30/30 [==============================] - 16s 523ms/step - loss: 0.6423 - acc: 0.7994 - val_loss: 0.7782 - val_acc: 0.7448 - lr: 0.0040\n",
            "Epoch 123/200\n",
            "30/30 [==============================] - 16s 522ms/step - loss: 0.6195 - acc: 0.8020 - val_loss: 0.8010 - val_acc: 0.7380 - lr: 0.0040\n",
            "Epoch 124/200\n",
            "30/30 [==============================] - 16s 522ms/step - loss: 0.6148 - acc: 0.8088 - val_loss: 0.7820 - val_acc: 0.7470 - lr: 0.0040\n",
            "Epoch 125/200\n",
            "30/30 [==============================] - 16s 523ms/step - loss: 0.6115 - acc: 0.8093 - val_loss: 0.8052 - val_acc: 0.7327 - lr: 0.0040\n",
            "Epoch 126/200\n",
            "30/30 [==============================] - 16s 522ms/step - loss: 0.6056 - acc: 0.8106 - val_loss: 0.7775 - val_acc: 0.7422 - lr: 0.0040\n",
            "Epoch 127/200\n",
            "30/30 [==============================] - 16s 522ms/step - loss: 0.6027 - acc: 0.8067 - val_loss: 0.8295 - val_acc: 0.7258 - lr: 0.0040\n",
            "Epoch 128/200\n",
            "30/30 [==============================] - 16s 521ms/step - loss: 0.5768 - acc: 0.8197 - val_loss: 0.7660 - val_acc: 0.7565 - lr: 0.0040\n",
            "Epoch 129/200\n",
            "30/30 [==============================] - 16s 522ms/step - loss: 0.5990 - acc: 0.8082 - val_loss: 0.7597 - val_acc: 0.7612 - lr: 0.0040\n",
            "Epoch 130/200\n",
            "30/30 [==============================] - 16s 521ms/step - loss: 0.6038 - acc: 0.8098 - val_loss: 0.7804 - val_acc: 0.7470 - lr: 0.0040\n",
            "Epoch 131/200\n",
            "30/30 [==============================] - 16s 523ms/step - loss: 0.5985 - acc: 0.8093 - val_loss: 0.7658 - val_acc: 0.7517 - lr: 0.0040\n",
            "Epoch 132/200\n",
            "30/30 [==============================] - 16s 523ms/step - loss: 0.5754 - acc: 0.8179 - val_loss: 0.8053 - val_acc: 0.7395 - lr: 0.0040\n",
            "Epoch 133/200\n",
            "30/30 [==============================] - 16s 522ms/step - loss: 0.5958 - acc: 0.8116 - val_loss: 0.7842 - val_acc: 0.7443 - lr: 0.0040\n",
            "Epoch 134/200\n",
            "30/30 [==============================] - 16s 521ms/step - loss: 0.5870 - acc: 0.8174 - val_loss: 0.8317 - val_acc: 0.7332 - lr: 0.0040\n",
            "Epoch 135/200\n",
            "30/30 [==============================] - 16s 522ms/step - loss: 0.5859 - acc: 0.8184 - val_loss: 0.8247 - val_acc: 0.7258 - lr: 0.0040\n",
            "Epoch 136/200\n",
            "30/30 [==============================] - 16s 522ms/step - loss: 0.5683 - acc: 0.8197 - val_loss: 0.8046 - val_acc: 0.7353 - lr: 0.0040\n",
            "Epoch 137/200\n",
            "30/30 [==============================] - 16s 521ms/step - loss: 0.5769 - acc: 0.8247 - val_loss: 0.7840 - val_acc: 0.7491 - lr: 0.0040\n",
            "Epoch 138/200\n",
            "30/30 [==============================] - 16s 522ms/step - loss: 0.5682 - acc: 0.8302 - val_loss: 0.8349 - val_acc: 0.7300 - lr: 0.0040\n",
            "Epoch 139/200\n",
            "30/30 [==============================] - 16s 521ms/step - loss: 0.5792 - acc: 0.8179 - val_loss: 0.8288 - val_acc: 0.7348 - lr: 0.0040\n",
            "Epoch 140/200\n",
            "30/30 [==============================] - 16s 522ms/step - loss: 0.5815 - acc: 0.8223 - val_loss: 0.7908 - val_acc: 0.7501 - lr: 0.0040\n",
            "Epoch 141/200\n",
            "30/30 [==============================] - 16s 522ms/step - loss: 0.5772 - acc: 0.8215 - val_loss: 0.7955 - val_acc: 0.7464 - lr: 0.0040\n",
            "Epoch 142/200\n",
            "30/30 [==============================] - 16s 522ms/step - loss: 0.5845 - acc: 0.8161 - val_loss: 0.7676 - val_acc: 0.7538 - lr: 0.0040\n",
            "Epoch 143/200\n",
            "30/30 [==============================] - 16s 521ms/step - loss: 0.5727 - acc: 0.8236 - val_loss: 0.7862 - val_acc: 0.7485 - lr: 0.0040\n",
            "Epoch 144/200\n",
            "30/30 [==============================] - 16s 523ms/step - loss: 0.5706 - acc: 0.8192 - val_loss: 0.7861 - val_acc: 0.7522 - lr: 0.0040\n",
            "Epoch 145/200\n",
            "30/30 [==============================] - 16s 522ms/step - loss: 0.5715 - acc: 0.8223 - val_loss: 0.8250 - val_acc: 0.7417 - lr: 0.0040\n",
            "Epoch 146/200\n",
            "30/30 [==============================] - 16s 522ms/step - loss: 0.5672 - acc: 0.8218 - val_loss: 0.8041 - val_acc: 0.7422 - lr: 0.0040\n",
            "Epoch 147/200\n",
            "30/30 [==============================] - 16s 523ms/step - loss: 0.5607 - acc: 0.8262 - val_loss: 0.8007 - val_acc: 0.7443 - lr: 0.0040\n",
            "Epoch 148/200\n",
            "30/30 [==============================] - 16s 523ms/step - loss: 0.5680 - acc: 0.8218 - val_loss: 0.7853 - val_acc: 0.7517 - lr: 0.0040\n",
            "Epoch 149/200\n",
            "30/30 [==============================] - 16s 523ms/step - loss: 0.5666 - acc: 0.8244 - val_loss: 0.7904 - val_acc: 0.7533 - lr: 0.0040\n",
            "Epoch 150/200\n",
            "30/30 [==============================] - 16s 521ms/step - loss: 0.5806 - acc: 0.8189 - val_loss: 0.7909 - val_acc: 0.7549 - lr: 0.0040\n",
            "Epoch 151/200\n",
            "30/30 [==============================] - 16s 522ms/step - loss: 0.5530 - acc: 0.8315 - val_loss: 0.7945 - val_acc: 0.7480 - lr: 0.0040\n",
            "Epoch 152/200\n",
            "30/30 [==============================] - 16s 520ms/step - loss: 0.5663 - acc: 0.8260 - val_loss: 0.7716 - val_acc: 0.7522 - lr: 0.0040\n",
            "Epoch 153/200\n",
            "30/30 [==============================] - 16s 521ms/step - loss: 0.5646 - acc: 0.8255 - val_loss: 0.7520 - val_acc: 0.7639 - lr: 0.0040\n",
            "Epoch 154/200\n",
            "30/30 [==============================] - 16s 523ms/step - loss: 0.5551 - acc: 0.8315 - val_loss: 0.7854 - val_acc: 0.7496 - lr: 0.0040\n",
            "Epoch 155/200\n",
            "30/30 [==============================] - 16s 522ms/step - loss: 0.5640 - acc: 0.8270 - val_loss: 0.8056 - val_acc: 0.7475 - lr: 0.0040\n",
            "Epoch 156/200\n",
            "30/30 [==============================] - 16s 521ms/step - loss: 0.5536 - acc: 0.8281 - val_loss: 0.8003 - val_acc: 0.7433 - lr: 0.0040\n",
            "Epoch 157/200\n",
            "30/30 [==============================] - 16s 522ms/step - loss: 0.5483 - acc: 0.8278 - val_loss: 0.8059 - val_acc: 0.7411 - lr: 0.0040\n",
            "Epoch 158/200\n",
            "30/30 [==============================] - 16s 522ms/step - loss: 0.5544 - acc: 0.8276 - val_loss: 0.7768 - val_acc: 0.7522 - lr: 0.0040\n",
            "Epoch 159/200\n",
            "30/30 [==============================] - 16s 522ms/step - loss: 0.5546 - acc: 0.8234 - val_loss: 0.8217 - val_acc: 0.7427 - lr: 0.0040\n",
            "Epoch 160/200\n",
            "30/30 [==============================] - 16s 521ms/step - loss: 0.5478 - acc: 0.8320 - val_loss: 0.8064 - val_acc: 0.7512 - lr: 0.0040\n",
            "Epoch 161/200\n",
            "30/30 [==============================] - 16s 521ms/step - loss: 0.5429 - acc: 0.8286 - val_loss: 0.8167 - val_acc: 0.7390 - lr: 8.0000e-04\n",
            "Epoch 162/200\n",
            "30/30 [==============================] - 16s 522ms/step - loss: 0.5190 - acc: 0.8458 - val_loss: 0.7974 - val_acc: 0.7480 - lr: 8.0000e-04\n",
            "Epoch 163/200\n",
            "30/30 [==============================] - 16s 522ms/step - loss: 0.5192 - acc: 0.8445 - val_loss: 0.8179 - val_acc: 0.7470 - lr: 8.0000e-04\n",
            "Epoch 164/200\n",
            "30/30 [==============================] - 16s 522ms/step - loss: 0.5149 - acc: 0.8453 - val_loss: 0.7860 - val_acc: 0.7544 - lr: 8.0000e-04\n",
            "Epoch 165/200\n",
            "30/30 [==============================] - 16s 522ms/step - loss: 0.5071 - acc: 0.8463 - val_loss: 0.7726 - val_acc: 0.7602 - lr: 8.0000e-04\n",
            "Epoch 166/200\n",
            "30/30 [==============================] - 16s 524ms/step - loss: 0.5126 - acc: 0.8466 - val_loss: 0.7913 - val_acc: 0.7470 - lr: 8.0000e-04\n",
            "Epoch 167/200\n",
            "30/30 [==============================] - 16s 522ms/step - loss: 0.5207 - acc: 0.8416 - val_loss: 0.7958 - val_acc: 0.7517 - lr: 8.0000e-04\n",
            "Epoch 168/200\n",
            "30/30 [==============================] - 16s 522ms/step - loss: 0.5130 - acc: 0.8432 - val_loss: 0.8060 - val_acc: 0.7507 - lr: 8.0000e-04\n",
            "Epoch 169/200\n",
            "30/30 [==============================] - 16s 522ms/step - loss: 0.5142 - acc: 0.8440 - val_loss: 0.7590 - val_acc: 0.7634 - lr: 8.0000e-04\n",
            "Epoch 170/200\n",
            "30/30 [==============================] - 16s 521ms/step - loss: 0.5173 - acc: 0.8442 - val_loss: 0.7719 - val_acc: 0.7618 - lr: 8.0000e-04\n",
            "Epoch 171/200\n",
            "30/30 [==============================] - 16s 522ms/step - loss: 0.5187 - acc: 0.8380 - val_loss: 0.8020 - val_acc: 0.7560 - lr: 8.0000e-04\n",
            "Epoch 172/200\n",
            "30/30 [==============================] - 16s 522ms/step - loss: 0.5148 - acc: 0.8508 - val_loss: 0.7780 - val_acc: 0.7602 - lr: 8.0000e-04\n",
            "Epoch 173/200\n",
            "30/30 [==============================] - 16s 521ms/step - loss: 0.5003 - acc: 0.8539 - val_loss: 0.7689 - val_acc: 0.7538 - lr: 8.0000e-04\n",
            "Epoch 174/200\n",
            "30/30 [==============================] - 16s 522ms/step - loss: 0.5029 - acc: 0.8474 - val_loss: 0.7722 - val_acc: 0.7581 - lr: 8.0000e-04\n",
            "Epoch 175/200\n",
            "30/30 [==============================] - 16s 521ms/step - loss: 0.5089 - acc: 0.8456 - val_loss: 0.7875 - val_acc: 0.7507 - lr: 8.0000e-04\n",
            "Epoch 176/200\n",
            "30/30 [==============================] - 16s 523ms/step - loss: 0.5218 - acc: 0.8367 - val_loss: 0.7910 - val_acc: 0.7485 - lr: 8.0000e-04\n",
            "Epoch 177/200\n",
            "30/30 [==============================] - 16s 522ms/step - loss: 0.5165 - acc: 0.8435 - val_loss: 0.7545 - val_acc: 0.7586 - lr: 8.0000e-04\n",
            "Epoch 178/200\n",
            "30/30 [==============================] - 16s 522ms/step - loss: 0.4987 - acc: 0.8510 - val_loss: 0.7844 - val_acc: 0.7607 - lr: 8.0000e-04\n",
            "Epoch 179/200\n",
            "30/30 [==============================] - 16s 521ms/step - loss: 0.4987 - acc: 0.8534 - val_loss: 0.7813 - val_acc: 0.7560 - lr: 8.0000e-04\n",
            "Epoch 180/200\n",
            "30/30 [==============================] - 16s 522ms/step - loss: 0.5171 - acc: 0.8440 - val_loss: 0.7805 - val_acc: 0.7575 - lr: 8.0000e-04\n",
            "Epoch 181/200\n",
            "30/30 [==============================] - 16s 522ms/step - loss: 0.4978 - acc: 0.8508 - val_loss: 0.7797 - val_acc: 0.7607 - lr: 8.0000e-04\n",
            "Epoch 182/200\n",
            "30/30 [==============================] - 16s 522ms/step - loss: 0.4975 - acc: 0.8544 - val_loss: 0.7625 - val_acc: 0.7549 - lr: 8.0000e-04\n",
            "Epoch 183/200\n",
            "30/30 [==============================] - 16s 521ms/step - loss: 0.5052 - acc: 0.8479 - val_loss: 0.8103 - val_acc: 0.7438 - lr: 8.0000e-04\n",
            "Epoch 184/200\n",
            "30/30 [==============================] - 16s 521ms/step - loss: 0.4986 - acc: 0.8521 - val_loss: 0.7683 - val_acc: 0.7538 - lr: 8.0000e-04\n",
            "Epoch 185/200\n",
            "30/30 [==============================] - 16s 522ms/step - loss: 0.5049 - acc: 0.8437 - val_loss: 0.7979 - val_acc: 0.7538 - lr: 8.0000e-04\n",
            "Epoch 186/200\n",
            "30/30 [==============================] - 16s 521ms/step - loss: 0.5015 - acc: 0.8516 - val_loss: 0.7546 - val_acc: 0.7639 - lr: 8.0000e-04\n",
            "Epoch 187/200\n",
            "30/30 [==============================] - 16s 523ms/step - loss: 0.4998 - acc: 0.8505 - val_loss: 0.7873 - val_acc: 0.7544 - lr: 8.0000e-04\n",
            "Epoch 188/200\n",
            "30/30 [==============================] - 16s 522ms/step - loss: 0.5094 - acc: 0.8461 - val_loss: 0.7933 - val_acc: 0.7475 - lr: 8.0000e-04\n",
            "Epoch 189/200\n",
            "30/30 [==============================] - 16s 521ms/step - loss: 0.4921 - acc: 0.8565 - val_loss: 0.7635 - val_acc: 0.7560 - lr: 8.0000e-04\n",
            "Epoch 190/200\n",
            "30/30 [==============================] - 16s 522ms/step - loss: 0.4985 - acc: 0.8495 - val_loss: 0.7871 - val_acc: 0.7560 - lr: 8.0000e-04\n",
            "Epoch 191/200\n",
            "30/30 [==============================] - 16s 522ms/step - loss: 0.4969 - acc: 0.8500 - val_loss: 0.8186 - val_acc: 0.7448 - lr: 8.0000e-04\n",
            "Epoch 192/200\n",
            "30/30 [==============================] - 16s 521ms/step - loss: 0.5050 - acc: 0.8461 - val_loss: 0.7980 - val_acc: 0.7623 - lr: 8.0000e-04\n",
            "Epoch 193/200\n",
            "30/30 [==============================] - 16s 522ms/step - loss: 0.4968 - acc: 0.8594 - val_loss: 0.7839 - val_acc: 0.7575 - lr: 8.0000e-04\n",
            "Epoch 194/200\n",
            "30/30 [==============================] - 16s 521ms/step - loss: 0.5026 - acc: 0.8484 - val_loss: 0.7748 - val_acc: 0.7618 - lr: 8.0000e-04\n",
            "Epoch 195/200\n",
            "30/30 [==============================] - 16s 522ms/step - loss: 0.4898 - acc: 0.8516 - val_loss: 0.7899 - val_acc: 0.7544 - lr: 8.0000e-04\n",
            "Epoch 196/200\n",
            "30/30 [==============================] - 16s 523ms/step - loss: 0.5079 - acc: 0.8450 - val_loss: 0.7791 - val_acc: 0.7549 - lr: 8.0000e-04\n",
            "Epoch 197/200\n",
            "30/30 [==============================] - 16s 521ms/step - loss: 0.4884 - acc: 0.8500 - val_loss: 0.7653 - val_acc: 0.7581 - lr: 8.0000e-04\n",
            "Epoch 198/200\n",
            "30/30 [==============================] - 16s 522ms/step - loss: 0.4941 - acc: 0.8471 - val_loss: 0.7749 - val_acc: 0.7639 - lr: 8.0000e-04\n",
            "Epoch 199/200\n",
            "30/30 [==============================] - 16s 522ms/step - loss: 0.4961 - acc: 0.8502 - val_loss: 0.7982 - val_acc: 0.7522 - lr: 8.0000e-04\n",
            "Epoch 200/200\n",
            "30/30 [==============================] - 16s 522ms/step - loss: 0.5029 - acc: 0.8469 - val_loss: 0.8084 - val_acc: 0.7512 - lr: 8.0000e-04\n"
          ],
          "name": "stdout"
        }
      ]
    },
    {
      "cell_type": "code",
      "metadata": {
        "id": "xI39Sx-kYyUx",
        "colab_type": "code",
        "colab": {}
      },
      "source": [
        "wrn28_10.save(\"model_last.h5\")"
      ],
      "execution_count": 0,
      "outputs": []
    },
    {
      "cell_type": "code",
      "metadata": {
        "id": "5Paxp_UhrduV",
        "colab_type": "code",
        "outputId": "0c8495d9-3f48-4078-9b78-ad26e5bf8b0c",
        "colab": {
          "base_uri": "https://localhost:8080/",
          "height": 34
        }
      },
      "source": [
        "img = X_train[8]\n",
        "img.shape"
      ],
      "execution_count": 181,
      "outputs": [
        {
          "output_type": "execute_result",
          "data": {
            "text/plain": [
              "(68, 100, 1)"
            ]
          },
          "metadata": {
            "tags": []
          },
          "execution_count": 181
        }
      ]
    },
    {
      "cell_type": "code",
      "metadata": {
        "id": "AO-_q-QUsn-T",
        "colab_type": "code",
        "outputId": "34089a38-b40d-48db-dd3c-01a9784188fc",
        "colab": {
          "base_uri": "https://localhost:8080/",
          "height": 34
        }
      },
      "source": [
        "y_train[8]"
      ],
      "execution_count": 186,
      "outputs": [
        {
          "output_type": "execute_result",
          "data": {
            "text/plain": [
              "array([0., 1., 0., 0.], dtype=float32)"
            ]
          },
          "metadata": {
            "tags": []
          },
          "execution_count": 186
        }
      ]
    },
    {
      "cell_type": "code",
      "metadata": {
        "id": "SIs_x5kasn9K",
        "colab_type": "code",
        "colab": {
          "base_uri": "https://localhost:8080/",
          "height": 34
        },
        "outputId": "17c94b47-ca64-4c92-f40a-1c50fb0d1f69"
      },
      "source": [
        "np.argmax(wrn28_10(image))"
      ],
      "execution_count": 184,
      "outputs": [
        {
          "output_type": "execute_result",
          "data": {
            "text/plain": [
              "1"
            ]
          },
          "metadata": {
            "tags": []
          },
          "execution_count": 184
        }
      ]
    },
    {
      "cell_type": "code",
      "metadata": {
        "id": "FFw-Cjamdsi8",
        "colab_type": "code",
        "colab": {
          "base_uri": "https://localhost:8080/",
          "height": 306
        },
        "outputId": "19a89c54-ed5d-4ce5-e18a-5e0cead140a3"
      },
      "source": [
        "y_train_df['Label'])"
      ],
      "execution_count": 198,
      "outputs": [
        {
          "output_type": "error",
          "ename": "ValueError",
          "evalue": "ignored",
          "traceback": [
            "\u001b[0;31m---------------------------------------------------------------------------\u001b[0m",
            "\u001b[0;31mValueError\u001b[0m                                Traceback (most recent call last)",
            "\u001b[0;32m<ipython-input-198-4aef0e77f3f2>\u001b[0m in \u001b[0;36m<module>\u001b[0;34m()\u001b[0m\n\u001b[0;32m----> 1\u001b[0;31m \u001b[0mto_categorical\u001b[0m\u001b[0;34m(\u001b[0m\u001b[0my_train_df\u001b[0m\u001b[0;34m[\u001b[0m\u001b[0;34m'Label'\u001b[0m\u001b[0;34m]\u001b[0m\u001b[0;34m)\u001b[0m\u001b[0;34m\u001b[0m\u001b[0;34m\u001b[0m\u001b[0m\n\u001b[0m",
            "\u001b[0;32m/usr/local/lib/python3.6/dist-packages/tensorflow/python/keras/utils/np_utils.py\u001b[0m in \u001b[0;36mto_categorical\u001b[0;34m(y, num_classes, dtype)\u001b[0m\n\u001b[1;32m     47\u001b[0m   \u001b[0mn\u001b[0m \u001b[0;34m=\u001b[0m \u001b[0my\u001b[0m\u001b[0;34m.\u001b[0m\u001b[0mshape\u001b[0m\u001b[0;34m[\u001b[0m\u001b[0;36m0\u001b[0m\u001b[0;34m]\u001b[0m\u001b[0;34m\u001b[0m\u001b[0;34m\u001b[0m\u001b[0m\n\u001b[1;32m     48\u001b[0m   \u001b[0mcategorical\u001b[0m \u001b[0;34m=\u001b[0m \u001b[0mnp\u001b[0m\u001b[0;34m.\u001b[0m\u001b[0mzeros\u001b[0m\u001b[0;34m(\u001b[0m\u001b[0;34m(\u001b[0m\u001b[0mn\u001b[0m\u001b[0;34m,\u001b[0m \u001b[0mnum_classes\u001b[0m\u001b[0;34m)\u001b[0m\u001b[0;34m,\u001b[0m \u001b[0mdtype\u001b[0m\u001b[0;34m=\u001b[0m\u001b[0mdtype\u001b[0m\u001b[0;34m)\u001b[0m\u001b[0;34m\u001b[0m\u001b[0;34m\u001b[0m\u001b[0m\n\u001b[0;32m---> 49\u001b[0;31m   \u001b[0mcategorical\u001b[0m\u001b[0;34m[\u001b[0m\u001b[0mnp\u001b[0m\u001b[0;34m.\u001b[0m\u001b[0marange\u001b[0m\u001b[0;34m(\u001b[0m\u001b[0mn\u001b[0m\u001b[0;34m)\u001b[0m\u001b[0;34m,\u001b[0m \u001b[0my\u001b[0m\u001b[0;34m]\u001b[0m \u001b[0;34m=\u001b[0m \u001b[0;36m1\u001b[0m\u001b[0;34m\u001b[0m\u001b[0;34m\u001b[0m\u001b[0m\n\u001b[0m\u001b[1;32m     50\u001b[0m   \u001b[0moutput_shape\u001b[0m \u001b[0;34m=\u001b[0m \u001b[0minput_shape\u001b[0m \u001b[0;34m+\u001b[0m \u001b[0;34m(\u001b[0m\u001b[0mnum_classes\u001b[0m\u001b[0;34m,\u001b[0m\u001b[0;34m)\u001b[0m\u001b[0;34m\u001b[0m\u001b[0;34m\u001b[0m\u001b[0m\n\u001b[1;32m     51\u001b[0m   \u001b[0mcategorical\u001b[0m \u001b[0;34m=\u001b[0m \u001b[0mnp\u001b[0m\u001b[0;34m.\u001b[0m\u001b[0mreshape\u001b[0m\u001b[0;34m(\u001b[0m\u001b[0mcategorical\u001b[0m\u001b[0;34m,\u001b[0m \u001b[0moutput_shape\u001b[0m\u001b[0;34m)\u001b[0m\u001b[0;34m\u001b[0m\u001b[0;34m\u001b[0m\u001b[0m\n",
            "\u001b[0;32m/usr/local/lib/python3.6/dist-packages/pandas/core/series.py\u001b[0m in \u001b[0;36m__array__\u001b[0;34m(self, dtype)\u001b[0m\n\u001b[1;32m    752\u001b[0m               dtype='datetime64[ns]')\n\u001b[1;32m    753\u001b[0m         \"\"\"\n\u001b[0;32m--> 754\u001b[0;31m         \u001b[0;32mreturn\u001b[0m \u001b[0mnp\u001b[0m\u001b[0;34m.\u001b[0m\u001b[0masarray\u001b[0m\u001b[0;34m(\u001b[0m\u001b[0mself\u001b[0m\u001b[0;34m.\u001b[0m\u001b[0marray\u001b[0m\u001b[0;34m,\u001b[0m \u001b[0mdtype\u001b[0m\u001b[0;34m)\u001b[0m\u001b[0;34m\u001b[0m\u001b[0;34m\u001b[0m\u001b[0m\n\u001b[0m\u001b[1;32m    755\u001b[0m \u001b[0;34m\u001b[0m\u001b[0m\n\u001b[1;32m    756\u001b[0m     \u001b[0;31m# ----------------------------------------------------------------------\u001b[0m\u001b[0;34m\u001b[0m\u001b[0;34m\u001b[0m\u001b[0;34m\u001b[0m\u001b[0m\n",
            "\u001b[0;32m/usr/local/lib/python3.6/dist-packages/numpy/core/_asarray.py\u001b[0m in \u001b[0;36masarray\u001b[0;34m(a, dtype, order)\u001b[0m\n\u001b[1;32m     83\u001b[0m \u001b[0;34m\u001b[0m\u001b[0m\n\u001b[1;32m     84\u001b[0m     \"\"\"\n\u001b[0;32m---> 85\u001b[0;31m     \u001b[0;32mreturn\u001b[0m \u001b[0marray\u001b[0m\u001b[0;34m(\u001b[0m\u001b[0ma\u001b[0m\u001b[0;34m,\u001b[0m \u001b[0mdtype\u001b[0m\u001b[0;34m,\u001b[0m \u001b[0mcopy\u001b[0m\u001b[0;34m=\u001b[0m\u001b[0;32mFalse\u001b[0m\u001b[0;34m,\u001b[0m \u001b[0morder\u001b[0m\u001b[0;34m=\u001b[0m\u001b[0morder\u001b[0m\u001b[0;34m)\u001b[0m\u001b[0;34m\u001b[0m\u001b[0;34m\u001b[0m\u001b[0m\n\u001b[0m\u001b[1;32m     86\u001b[0m \u001b[0;34m\u001b[0m\u001b[0m\n\u001b[1;32m     87\u001b[0m \u001b[0;34m\u001b[0m\u001b[0m\n",
            "\u001b[0;32m/usr/local/lib/python3.6/dist-packages/pandas/core/arrays/numpy_.py\u001b[0m in \u001b[0;36m__array__\u001b[0;34m(self, dtype)\u001b[0m\n\u001b[1;32m    182\u001b[0m \u001b[0;34m\u001b[0m\u001b[0m\n\u001b[1;32m    183\u001b[0m     \u001b[0;32mdef\u001b[0m \u001b[0m__array__\u001b[0m\u001b[0;34m(\u001b[0m\u001b[0mself\u001b[0m\u001b[0;34m,\u001b[0m \u001b[0mdtype\u001b[0m\u001b[0;34m=\u001b[0m\u001b[0;32mNone\u001b[0m\u001b[0;34m)\u001b[0m \u001b[0;34m->\u001b[0m \u001b[0mnp\u001b[0m\u001b[0;34m.\u001b[0m\u001b[0mndarray\u001b[0m\u001b[0;34m:\u001b[0m\u001b[0;34m\u001b[0m\u001b[0;34m\u001b[0m\u001b[0m\n\u001b[0;32m--> 184\u001b[0;31m         \u001b[0;32mreturn\u001b[0m \u001b[0mnp\u001b[0m\u001b[0;34m.\u001b[0m\u001b[0masarray\u001b[0m\u001b[0;34m(\u001b[0m\u001b[0mself\u001b[0m\u001b[0;34m.\u001b[0m\u001b[0m_ndarray\u001b[0m\u001b[0;34m,\u001b[0m \u001b[0mdtype\u001b[0m\u001b[0;34m=\u001b[0m\u001b[0mdtype\u001b[0m\u001b[0;34m)\u001b[0m\u001b[0;34m\u001b[0m\u001b[0;34m\u001b[0m\u001b[0m\n\u001b[0m\u001b[1;32m    185\u001b[0m \u001b[0;34m\u001b[0m\u001b[0m\n\u001b[1;32m    186\u001b[0m     \u001b[0m_HANDLED_TYPES\u001b[0m \u001b[0;34m=\u001b[0m \u001b[0;34m(\u001b[0m\u001b[0mnp\u001b[0m\u001b[0;34m.\u001b[0m\u001b[0mndarray\u001b[0m\u001b[0;34m,\u001b[0m \u001b[0mnumbers\u001b[0m\u001b[0;34m.\u001b[0m\u001b[0mNumber\u001b[0m\u001b[0;34m)\u001b[0m\u001b[0;34m\u001b[0m\u001b[0;34m\u001b[0m\u001b[0m\n",
            "\u001b[0;32m/usr/local/lib/python3.6/dist-packages/numpy/core/_asarray.py\u001b[0m in \u001b[0;36masarray\u001b[0;34m(a, dtype, order)\u001b[0m\n\u001b[1;32m     83\u001b[0m \u001b[0;34m\u001b[0m\u001b[0m\n\u001b[1;32m     84\u001b[0m     \"\"\"\n\u001b[0;32m---> 85\u001b[0;31m     \u001b[0;32mreturn\u001b[0m \u001b[0marray\u001b[0m\u001b[0;34m(\u001b[0m\u001b[0ma\u001b[0m\u001b[0;34m,\u001b[0m \u001b[0mdtype\u001b[0m\u001b[0;34m,\u001b[0m \u001b[0mcopy\u001b[0m\u001b[0;34m=\u001b[0m\u001b[0;32mFalse\u001b[0m\u001b[0;34m,\u001b[0m \u001b[0morder\u001b[0m\u001b[0;34m=\u001b[0m\u001b[0morder\u001b[0m\u001b[0;34m)\u001b[0m\u001b[0;34m\u001b[0m\u001b[0;34m\u001b[0m\u001b[0m\n\u001b[0m\u001b[1;32m     86\u001b[0m \u001b[0;34m\u001b[0m\u001b[0m\n\u001b[1;32m     87\u001b[0m \u001b[0;34m\u001b[0m\u001b[0m\n",
            "\u001b[0;31mValueError\u001b[0m: invalid literal for int() with base 10: 'open'"
          ]
        }
      ]
    },
    {
      "cell_type": "code",
      "metadata": {
        "id": "05uG_KVUd5vv",
        "colab_type": "code",
        "colab": {
          "base_uri": "https://localhost:8080/",
          "height": 34
        },
        "outputId": "f49ff92b-f48c-4fc0-f383-21d41c7c2561"
      },
      "source": [
        ""
      ],
      "execution_count": 210,
      "outputs": [
        {
          "output_type": "execute_result",
          "data": {
            "text/plain": [
              "5722"
            ]
          },
          "metadata": {
            "tags": []
          },
          "execution_count": 210
        }
      ]
    },
    {
      "cell_type": "code",
      "metadata": {
        "id": "34o55oPUdsgq",
        "colab_type": "code",
        "colab": {}
      },
      "source": [
        ""
      ],
      "execution_count": 0,
      "outputs": []
    },
    {
      "cell_type": "code",
      "metadata": {
        "id": "SnGwju3tsP6f",
        "colab_type": "code",
        "colab": {}
      },
      "source": [
        "def preprocess(image):\n",
        "  image = tf.cast(image, tf.float32)\n",
        "  image = tf.image.resize(image, (68, 100))\n",
        "  image = tf.keras.applications.mobilenet_v2.preprocess_input(image)\n",
        "  image = image[None, ...]\n",
        "  return image\n",
        "\n",
        "# Helper function to extract labels from probability vector"
      ],
      "execution_count": 0,
      "outputs": []
    },
    {
      "cell_type": "code",
      "metadata": {
        "id": "eIB3X0K0sK9g",
        "colab_type": "code",
        "colab": {}
      },
      "source": [
        "import tensorflow as tf\n",
        "image = tf.convert_to_tensor(img)\n",
        "image = preprocess(image)\n",
        "image.shape"
      ],
      "execution_count": 0,
      "outputs": []
    },
    {
      "cell_type": "code",
      "metadata": {
        "id": "G7SaMPbmsZdE",
        "colab_type": "code",
        "colab": {}
      },
      "source": [
        "probs = wrn28_10.predict(image,batch_size=None,steps=1)\n",
        "\n",
        "label = tf.one_hot(2, probs.shape[-1])\n",
        "label = tf.reshape(label, (1, probs.shape[-1]))\n",
        "label"
      ],
      "execution_count": 0,
      "outputs": []
    },
    {
      "cell_type": "code",
      "metadata": {
        "id": "LUX_CF5CsZbo",
        "colab_type": "code",
        "colab": {}
      },
      "source": [
        "probs"
      ],
      "execution_count": 0,
      "outputs": []
    },
    {
      "cell_type": "code",
      "metadata": {
        "id": "zHgf-nCnvvBu",
        "colab_type": "code",
        "colab": {}
      },
      "source": [
        "wrn28_10(image)"
      ],
      "execution_count": 0,
      "outputs": []
    },
    {
      "cell_type": "code",
      "metadata": {
        "id": "M_tkKMXgv2X0",
        "colab_type": "code",
        "colab": {}
      },
      "source": [
        "np.argmax(probs)"
      ],
      "execution_count": 0,
      "outputs": []
    },
    {
      "cell_type": "code",
      "metadata": {
        "id": "lr_quzDGwKGM",
        "colab_type": "code",
        "outputId": "c69de59f-c9e3-4dd0-a41c-fe5c52d2480b",
        "colab": {
          "base_uri": "https://localhost:8080/",
          "height": 590
        }
      },
      "source": [
        "import matplotlib.pyplot as plt\n",
        "\n",
        "history = hist_1\n",
        "print(history.history.keys())\n",
        "# summarize history for accuracy\n",
        "plt.plot(history.history['acc'])\n",
        "plt.plot(history.history['val_acc'])\n",
        "plt.title('model accuracy')\n",
        "plt.ylabel('accuracy')\n",
        "plt.xlabel('epoch')\n",
        "plt.legend(['train', 'test'], loc='upper left')\n",
        "plt.show()\n",
        "# summarize history for loss\n",
        "plt.plot(history.history['loss'])\n",
        "plt.plot(history.history['val_loss'])\n",
        "plt.title('model loss')\n",
        "plt.ylabel('loss')\n",
        "plt.xlabel('epoch')\n",
        "plt.legend(['train', 'test'], loc='upper left')\n",
        "plt.show()"
      ],
      "execution_count": 211,
      "outputs": [
        {
          "output_type": "stream",
          "text": [
            "dict_keys(['loss', 'acc', 'val_loss', 'val_acc', 'lr'])\n"
          ],
          "name": "stdout"
        },
        {
          "output_type": "display_data",
          "data": {
            "image/png": "[encoded data removed]",
            "text/plain": [
              "<Figure size 432x288 with 1 Axes>"
            ]
          },
          "metadata": {
            "tags": [],
            "needs_background": "light"
          }
        },
        {
          "output_type": "display_data",
          "data": {
            "image/png": "[encoded data removed]",
            "text/plain": [
              "<Figure size 432x288 with 1 Axes>"
            ]
          },
          "metadata": {
            "tags": [],
            "needs_background": "light"
          }
        }
      ]
    },
    {
      "cell_type": "code",
      "metadata": {
        "id": "mAoD2fTdwyf5",
        "colab_type": "code",
        "colab": {}
      },
      "source": [
        "model = wrn28_10"
      ],
      "execution_count": 0,
      "outputs": []
    },
    {
      "cell_type": "code",
      "metadata": {
        "id": "CWzbk6bgxIw5",
        "colab_type": "code",
        "colab": {}
      },
      "source": [
        "!pip install -q tensorflow==2.0.0b1\n",
        "# Install bleeding edge version of cleverhans\n",
        "!pip install git+https://github.com/tensorflow/cleverhans.git#egg=cleverhans\n",
        "\n",
        "import cleverhans\n",
        "import tensorflow as tf\n",
        "import numpy as np\n",
        "import matplotlib.pyplot as plt\n",
        "\n",
        "print(\"\\nTensorflow Version: \" + tf.__version__)\n",
        "print(\"Cleverhans Version: \" + cleverhans.__version__)\n",
        "print(\"GPU Available: \", tf.test.is_gpu_available())"
      ],
      "execution_count": 0,
      "outputs": []
    },
    {
      "cell_type": "code",
      "metadata": {
        "id": "YtQtt8aiw8zr",
        "colab_type": "code",
        "colab": {}
      },
      "source": [
        "# Import the attack\n",
        "from cleverhans.future.tf2.attacks import fast_gradient_method\n",
        "\n",
        "#The attack requires the model to ouput the logits\n",
        "logits_model = tf.keras.Model(model.input,model.layers[-1].output)"
      ],
      "execution_count": 0,
      "outputs": []
    },
    {
      "cell_type": "code",
      "metadata": {
        "id": "irGjBxSNw8yw",
        "colab_type": "code",
        "colab": {}
      },
      "source": [
        "epsilon = 0.05\n",
        "\n",
        "adv_example_untargeted_label = fast_gradient_method(logits_model, image, epsilon, np.inf, targeted=False)\n",
        "\n",
        "adv_example_untargeted_label_pred = model.predict(adv_example_untargeted_label)"
      ],
      "execution_count": 0,
      "outputs": []
    },
    {
      "cell_type": "code",
      "metadata": {
        "id": "fuWVMjA9x9-w",
        "colab_type": "code",
        "colab": {}
      },
      "source": [
        "np.argmax(adv_example_untargeted_label_pred)"
      ],
      "execution_count": 0,
      "outputs": []
    },
    {
      "cell_type": "code",
      "metadata": {
        "id": "iE16jXuZw8xb",
        "colab_type": "code",
        "colab": {}
      },
      "source": [
        ""
      ],
      "execution_count": 0,
      "outputs": []
    }
  ]
}