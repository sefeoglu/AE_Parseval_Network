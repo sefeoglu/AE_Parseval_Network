{
  "nbformat": 4,
  "nbformat_minor": 0,
  "metadata": {
    "colab": {
      "name": "ResNet_Tensorflow_keras.ipynb",
      "provenance": [],
      "authorship_tag": "ABX9TyOrEYhbxErkT1Wa/tmwXikY",
      "include_colab_link": true
    },
    "kernelspec": {
      "name": "python3",
      "display_name": "Python 3"
    },
    "accelerator": "GPU"
  },
  "cells": [
    {
      "cell_type": "markdown",
      "metadata": {
        "id": "view-in-github",
        "colab_type": "text"
      },
      "source": [
        "<a href=\"https://colab.research.google.com/github/sefeoglu/AE_Parseval_Network/blob/master/src/notebooks/ResNet_Tensorflow_keras.ipynb\" target=\"_parent\"><img src=\"https://colab.research.google.com/assets/colab-badge.svg\" alt=\"Open In Colab\"/></a>"
      ]
    },
    {
      "cell_type": "markdown",
      "metadata": {
        "id": "cczYDRrfFlDx",
        "colab_type": "text"
      },
      "source": [
        "# Wide ResNet 16_2"
      ]
    },
    {
      "cell_type": "code",
      "metadata": {
        "id": "HWvd9YADGtMS",
        "colab_type": "code",
        "colab": {}
      },
      "source": [
        "import tensorflow as tf"
      ],
      "execution_count": 0,
      "outputs": []
    },
    {
      "cell_type": "code",
      "metadata": {
        "id": "AZYgCQ_-FkSn",
        "colab_type": "code",
        "colab": {}
      },
      "source": [
        "\n",
        "from tensorflow.keras.models import Model\n",
        "from tensorflow.keras.layers import  Input, Add, Activation, Dropout, Flatten, Dense\n",
        "from tensorflow.keras.layers import Convolution2D, MaxPooling2D, AveragePooling2D\n",
        "from tensorflow.keras.layers import BatchNormalization\n",
        "from tensorflow.keras.regularizers import  l2\n",
        "from tensorflow.keras import backend as K\n",
        "import warnings\n",
        "\n",
        "warnings.filterwarnings(\"ignore\")\n",
        "weight_decay = 0.0005"
      ],
      "execution_count": 0,
      "outputs": []
    },
    {
      "cell_type": "code",
      "metadata": {
        "id": "5bt9111oHGs_",
        "colab_type": "code",
        "colab": {}
      },
      "source": [
        "def initial_conv(input):\n",
        "  x = Convolution2D(16,(3,3),padding=\"same\", kernel_initializer='he_normal',\n",
        "                    kernel_regularizer=l2(weight_decay),use_bias=False)(input)\n",
        "  channel_axis = 1 if K.image_data_format() == \"channels_first\" else -1\n",
        "  x = BatchNormalization(axis=channel_axis, momentum=0.1, epsilon=1e-5, gamma_initializer='uniform')(x)\n",
        "  x = Activation('relu')(x)\n",
        "  return x"
      ],
      "execution_count": 0,
      "outputs": []
    },
    {
      "cell_type": "code",
      "metadata": {
        "id": "Z2-99bU_HGrq",
        "colab_type": "code",
        "colab": {}
      },
      "source": [
        "def expand_conv(init, base, k, strides = (1,1)):\n",
        "  x = Convolution2D(base * k, kernel_size=(3,3),padding= \"same\", strides=strides, kernel_initializer=\"he_normal\", kernel_regularizer=l2(weight_decay),\n",
        "                    use_bias=False)(init)\n",
        "  channel_axis = 1 if K.image_data_format() == \"channels_first\" else -1\n",
        "\n",
        "  x = BatchNormalization(axis=channel_axis, momentum=0.1, epsilon= 1e-5, gamma_initializer= 'uniform')(x)\n",
        "  x = Activation('relu')(x)\n",
        "\n",
        "  x = Convolution2D(base * k, kernel_size=(3,3), padding = 'same', kernel_initializer = 'he_normal',kernel_regularizer=l2(weight_decay),\n",
        "                    use_bias = False)(x)\n",
        "  skip = Convolution2D(base * k, kernel_size=(1,1), padding='same', strides=strides, kernel_initializer='he_normal',\n",
        "                       kernel_regularizer=l2(weight_decay),\n",
        "                       use_bias = False)(init)\n",
        "  m = Add()([x, skip])\n",
        "  return m"
      ],
      "execution_count": 0,
      "outputs": []
    },
    {
      "cell_type": "code",
      "metadata": {
        "id": "y8-3eRVvL3dA",
        "colab_type": "code",
        "colab": {}
      },
      "source": [
        "def conv1_block(input, k=1, dropout = 0.0):\n",
        "  init = input\n",
        "  \n",
        "  channel_axis = 1 if K.image_data_format() == \"channels_first\" else -1\n",
        "\n",
        "  x = BatchNormalization(axis=channel_axis, momentum=0.1, epsilon=1e-5, gamma_initializer='uniform')(input)\n",
        "  x = Activation('relu')(x)\n",
        "  x = Convolution2D(16 * k, kernel_size=(3,3), padding='same', kernel_initializer='he_normal', kernel_regularizer=l2(weight_decay),\n",
        "                    use_bias=False)(x)\n",
        "  if dropout > 0.0: x = Dropout(dropout)(x)\n",
        "\n",
        "  x = BatchNormalization(axis=channel_axis, momentum=0.1, epsilon=1e-5, gamma_initializer='uniform')(x)\n",
        "  x = Activation('relu')(x)\n",
        "  x = Convolution2D(16 * k, kernel_size=(3,3), padding='same', kernel_initializer='he_normal',kernel_regularizer=l2(weight_decay),\n",
        "                    use_bias = False)(x)\n",
        "  m = Add()([init, x])\n",
        "  return m"
      ],
      "execution_count": 0,
      "outputs": []
    },
    {
      "cell_type": "code",
      "metadata": {
        "id": "l8Qzpd9HVBXQ",
        "colab_type": "code",
        "colab": {}
      },
      "source": [
        "def  conv2_block(input, k=1, dropout = 0.0):\n",
        "  init = input\n",
        "\n",
        "  channel_axis = 1 \n",
        "\n",
        "  x = BatchNormalization(axis=channel_axis, momentum=0.1, epsilon=1e-5, gamma_initializer='uniform')(input)\n",
        "  x = Activation('relu')(x)\n",
        "  x = Convolution2D(32 * k, kernel_size=(3,3), padding='same', kernel_initializer='he_normal',\n",
        "                    kernel_regularizer = l2(weight_decay), use_bias = False)(x)\n",
        "  \n",
        "  if dropout > 0.0: x = Dropout(dropout)(x)\n",
        "\n",
        "  x = BatchNormalization(axis=channel_axis, momentum=0.1, epsilon=1e-5, gamma_initializer='uniform')(x)\n",
        "  x = Activation('relu')(x)\n",
        "  x = Convolution2D(32*k, kernel_size=(3,3), padding='same', kernel_initializer='he_normal',\n",
        "                    kernel_regularizer= l2(weight_decay),\n",
        "                    use_bias = False)(x)\n",
        "  \n",
        "  m = Add()([init, x])\n",
        "  return m\n"
      ],
      "execution_count": 0,
      "outputs": []
    },
    {
      "cell_type": "code",
      "metadata": {
        "id": "xydZpkBAYi1p",
        "colab_type": "code",
        "colab": {}
      },
      "source": [
        "def conv3_block(input, k=1, dropout=0.0):\n",
        "  init = input\n",
        "\n",
        "  channel_axis = 1 \n",
        "\n",
        "  x = BatchNormalization(axis=channel_axis, momentum= 0.1, epsilon = 1e-5, gamma_initializer='uniform' )(input)\n",
        "  x = Activation('relu')(x)\n",
        "  x = Convolution2D(64 * k, kernel_size=(3,3), padding='same', kernel_initializer='he_normal',\n",
        "                    kernel_regularizer= l2(weight_decay),\n",
        "                    use_bias = False)(x)\n",
        "  \n",
        "  if dropout > 0.0: x = Dropout(dropout)(x)\n",
        "\n",
        "  x = BatchNormalization(axis=channel_axis, momentum=0.1, epsilon=1e-5, gamma_initializer='uniform')(x)\n",
        "  x = Activation('relu')(x)\n",
        "  x = Convolution2D(64 * k, kernel_size=(3,3), padding='same', kernel_initializer='he_normal',\n",
        "                    kernel_regularizer=l2(weight_decay),\n",
        "                    use_bias=False)(x)\n",
        "  m = Add()([init, x])\n",
        "  return m\n"
      ],
      "execution_count": 0,
      "outputs": []
    },
    {
      "cell_type": "code",
      "metadata": {
        "id": "QRdSMgRjG8ex",
        "colab_type": "code",
        "colab": {}
      },
      "source": [
        "def create_wide_residual_network(input_dim, nb_classes=4, N=2, k=2, dropout = 0.0, verbose=1):\n",
        "  channel_axis = 1 if K.image_data_format() == \"channels_first\" else -1\n",
        "\n",
        "  ip = Input(shape=input_dim)\n",
        "\n",
        "  x = initial_conv(ip)\n",
        "  nb_conv = 4\n",
        "  x = expand_conv(x, 16, k)\n",
        "  nb_conv +=2\n",
        "\n",
        "  for i in range(N-1):\n",
        "    x = conv1_block(x, k, dropout)\n",
        "    nb_conv +=2\n",
        "  x = BatchNormalization(axis=channel_axis, momentum=0.1, epsilon=1e-5, gamma_initializer='uniform')(x)\n",
        "  x = Activation('relu')(x)\n",
        "\n",
        "  x = expand_conv(x, 32, k, strides=(1, 1))\n",
        "  nb_conv += 2\n",
        "  for i in range(N - 1):\n",
        "    x = conv2_block(x, k, dropout)\n",
        "    nb_conv += 2\n",
        "  \n",
        "  x = BatchNormalization(axis=channel_axis, momentum=0.1, epsilon=1e-5, gamma_initializer='uniform')(x)\n",
        "  x = Activation('relu')(x)\n",
        "  \n",
        "  x = expand_conv(x, 64, k, strides=(1, 1))\n",
        "  nb_conv += 2\n",
        "  \n",
        "  for i in range(N - 1):\n",
        "    x = conv3_block(x, k, dropout)\n",
        "    nb_conv += 2\n",
        "    \n",
        "  x = BatchNormalization(axis=channel_axis, momentum=0.1, epsilon=1e-5, gamma_initializer='uniform')(x)\n",
        "  x = Activation('relu')(x)\n",
        "  \n",
        "  x = AveragePooling2D((8, 8))(x)\n",
        "  x = Flatten()(x)\n",
        "  \n",
        "  x = Dense(nb_classes, kernel_regularizer=l2(weight_decay), activation='softmax')(x)\n",
        "  \n",
        "  model = Model(ip, x)\n",
        "  \n",
        "  if verbose: print(\"Wide Residual Network-%d-%d created.\" % (nb_conv, k))\n",
        "  \n",
        "  return model\n",
        "\n",
        "\n",
        "\n"
      ],
      "execution_count": 0,
      "outputs": []
    },
    {
      "cell_type": "code",
      "metadata": {
        "id": "4bjIRpiBcPSR",
        "colab_type": "code",
        "outputId": "9bf90efd-31a4-48e8-f618-de7ae9657d74",
        "colab": {
          "base_uri": "https://localhost:8080/",
          "height": 34
        }
      },
      "source": [
        "if __name__ == \"__main__\":\n",
        "    from tensorflow.keras.layers import Input\n",
        "    from tensorflow.keras.models import Model\n",
        "\n",
        "    init = (32, 32,1)\n",
        "    wrn16_2 = create_wide_residual_network(init, nb_classes=4, N=2, k=2, dropout = 0.4, verbose=1)\n",
        "  "
      ],
      "execution_count": 9,
      "outputs": [
        {
          "output_type": "stream",
          "text": [
            "Wide Residual Network-16-2 created.\n"
          ],
          "name": "stdout"
        }
      ]
    },
    {
      "cell_type": "code",
      "metadata": {
        "id": "IS19DfEuH_Eo",
        "colab_type": "code",
        "colab": {}
      },
      "source": [
        "import skimage.util, skimage.transform\n",
        "import numpy as np\n",
        "\n",
        "\n",
        "def crop(image: np.ndarray, maxshape):\n",
        "    d = [max(0, image.shape[i] - maxshape[i]) for i in [0, 1]]\n",
        "    if (np.sum(d) == 0):\n",
        "        return image\n",
        "    return image[(d[0] + 1) // 2:image.shape[0] - (d[0] // 2), (d[1] + 1) // 2:\n",
        "                 image.shape[1] - (d[1] // 2)]\n",
        "\n",
        "\n",
        "def pad(image: np.ndarray, padding: int):\n",
        "    pad_width = [[padding] * 2] * 2\n",
        "    if len(image.shape) == 3: pad_width.append((0, 0))\n",
        "    return np.pad(image, pad_width, mode='constant')\n",
        "\n",
        "\n",
        "def pad_to_shape(image: np.ndarray, shape):\n",
        "    d = [shape[i] - image.shape[i] for i in [0, 1]]\n",
        "    pad_width = [((d[0] + 1) // 2, d[0] // 2), ((d[1] + 1) // 2, d[1] // 2)]\n",
        "    if len(image.shape) == 3: pad_width.append((0, 0))\n",
        "    return np.pad(image, pad_width, mode='constant')\n",
        "\n",
        "\n",
        "def adjust_shape(image: np.ndarray, shape):\n",
        "    return pad_to_shape(crop(image, shape), shape)\n",
        "\n",
        "\n",
        "def resize(image: np.ndarray, shape):\n",
        "    return skimage.transform.resize(image, shape, anti_aliasing=True)\n"
      ],
      "execution_count": 0,
      "outputs": []
    },
    {
      "cell_type": "code",
      "metadata": {
        "id": "gOWFA7tXIDQC",
        "colab_type": "code",
        "colab": {}
      },
      "source": [
        "import numpy as np\n",
        "\n",
        "def random_crop(im, shape):\n",
        "    d = [im.shape[i] - shape[i] + 1 for i in [0, 1]]\n",
        "    d = list(map(np.random.randint, d))\n",
        "    return im[d[0]:d[0] + shape[0], d[1]:d[1] + shape[1]]\n",
        "\n",
        "\n",
        "def augment_cifar(im):\n",
        "    im = pad(im, 4)\n",
        "    im = random_crop(im, [32,32])\n",
        "    if np.random.rand() > .5:\n",
        "        im = np.fliplr(im)\n",
        "    return im\n"
      ],
      "execution_count": 0,
      "outputs": []
    },
    {
      "cell_type": "code",
      "metadata": {
        "id": "AJqH742XcPQv",
        "colab_type": "code",
        "colab": {}
      },
      "source": [
        "from sklearn.model_selection import train_test_split\n",
        "import gzip\n",
        "import pickle\n",
        "import numpy as np"
      ],
      "execution_count": 0,
      "outputs": []
    },
    {
      "cell_type": "code",
      "metadata": {
        "id": "fNBI_SkvuzgK",
        "colab_type": "code",
        "colab": {}
      },
      "source": [
        "def read_data():\n",
        "    with open(\"data.pz\", 'rb') as file_:\n",
        "        with gzip.GzipFile(fileobj=file_) as gzf:\n",
        "            data = pickle.load(gzf, encoding='latin1', fix_imports=True)\n",
        "    return data\n",
        "data = read_data()\n"
      ],
      "execution_count": 0,
      "outputs": []
    },
    {
      "cell_type": "code",
      "metadata": {
        "id": "4euxwMe2jIoX",
        "colab_type": "code",
        "outputId": "7327647f-820c-47c9-eee4-db3c9729f509",
        "colab": {
          "base_uri": "https://localhost:8080/",
          "height": 34
        }
      },
      "source": [
        "new_data_X = []\n",
        "Y_data = []\n",
        "for row in data:\n",
        "    new_data_X.append(row['crop'])\n",
        "    Y_data.append(row['label'])\n",
        "new_data_X = np.array(new_data_X)\n",
        "new_data_X.shape"
      ],
      "execution_count": 14,
      "outputs": [
        {
          "output_type": "execute_result",
          "data": {
            "text/plain": [
              "(5722, 68, 100)"
            ]
          },
          "metadata": {
            "tags": []
          },
          "execution_count": 14
        }
      ]
    },
    {
      "cell_type": "code",
      "metadata": {
        "id": "TNBsNVDNu6Ku",
        "colab_type": "code",
        "outputId": "56e501da-2e85-4463-fa87-74db4815aa42",
        "colab": {
          "base_uri": "https://localhost:8080/",
          "height": 34
        }
      },
      "source": [
        "X = new_data_X.astype('float32')\n",
        "X[0].shape"
      ],
      "execution_count": 15,
      "outputs": [
        {
          "output_type": "execute_result",
          "data": {
            "text/plain": [
              "(68, 100)"
            ]
          },
          "metadata": {
            "tags": []
          },
          "execution_count": 15
        }
      ]
    },
    {
      "cell_type": "code",
      "metadata": {
        "id": "Rv-A3B72JXDE",
        "colab_type": "code",
        "colab": {
          "base_uri": "https://localhost:8080/",
          "height": 34
        },
        "outputId": "11669d4f-8a74-4119-c88c-33253705e2ea"
      },
      "source": [
        "X = list(map(augment_cifar, X))\n",
        "X = np.array(X)\n",
        "X.shape"
      ],
      "execution_count": 16,
      "outputs": [
        {
          "output_type": "execute_result",
          "data": {
            "text/plain": [
              "(5722, 32, 32)"
            ]
          },
          "metadata": {
            "tags": []
          },
          "execution_count": 16
        }
      ]
    },
    {
      "cell_type": "code",
      "metadata": {
        "id": "uqf-dZOrvC0e",
        "colab_type": "code",
        "colab": {}
      },
      "source": [
        "img_rows, img_cols = X[0].shape\n",
        "\n",
        "# transform data set\n",
        "if K.image_data_format() == 'channels_first':\n",
        "    X = X.reshape(X.shape[0], 1, img_rows, img_cols)\n",
        "    input_shape = (1, img_rows, img_cols)\n",
        "else:\n",
        "    X = X.reshape(X.shape[0], img_rows, img_cols, 1)\n",
        "    input_shape = (img_rows, img_cols, 1)"
      ],
      "execution_count": 0,
      "outputs": []
    },
    {
      "cell_type": "code",
      "metadata": {
        "id": "I7Z7UDOByArq",
        "colab_type": "code",
        "outputId": "65db819e-9b3a-4fc0-c260-f4040e4a8894",
        "colab": {
          "base_uri": "https://localhost:8080/",
          "height": 34
        }
      },
      "source": [
        "X.shape"
      ],
      "execution_count": 18,
      "outputs": [
        {
          "output_type": "execute_result",
          "data": {
            "text/plain": [
              "(5722, 32, 32, 1)"
            ]
          },
          "metadata": {
            "tags": []
          },
          "execution_count": 18
        }
      ]
    },
    {
      "cell_type": "code",
      "metadata": {
        "id": "2eEHVf2Bu9xt",
        "colab_type": "code",
        "colab": {}
      },
      "source": [
        "import pandas as pd\n",
        "import numpy as np\n",
        "from sklearn.preprocessing import LabelEncoder\n",
        "\n",
        "labelencoder = LabelEncoder()\n",
        "y_df = pd.DataFrame(Y_data, columns=['Label'])\n",
        "y_df['Encoded'] = labelencoder.fit_transform(y_df['Label'])"
      ],
      "execution_count": 0,
      "outputs": []
    },
    {
      "cell_type": "code",
      "metadata": {
        "id": "56hwq9R2jruF",
        "colab_type": "code",
        "outputId": "7b91e141-394e-4328-dc9b-548a9c6fd3fb",
        "colab": {
          "base_uri": "https://localhost:8080/",
          "height": 102
        }
      },
      "source": [
        "y_df['Label'].value_counts()"
      ],
      "execution_count": 20,
      "outputs": [
        {
          "output_type": "execute_result",
          "data": {
            "text/plain": [
              "closed           1500\n",
              "open             1500\n",
              "partiallyOpen    1376\n",
              "notVisible       1346\n",
              "Name: Label, dtype: int64"
            ]
          },
          "metadata": {
            "tags": []
          },
          "execution_count": 20
        }
      ]
    },
    {
      "cell_type": "code",
      "metadata": {
        "id": "WxAYuiEzj4Bp",
        "colab_type": "code",
        "outputId": "62299e46-e739-4ccf-d54b-1ea94496204f",
        "colab": {
          "base_uri": "https://localhost:8080/",
          "height": 102
        }
      },
      "source": [
        "y_df['Encoded'].value_counts()\n"
      ],
      "execution_count": 21,
      "outputs": [
        {
          "output_type": "execute_result",
          "data": {
            "text/plain": [
              "2    1500\n",
              "0    1500\n",
              "3    1376\n",
              "1    1346\n",
              "Name: Encoded, dtype: int64"
            ]
          },
          "metadata": {
            "tags": []
          },
          "execution_count": 21
        }
      ]
    },
    {
      "cell_type": "code",
      "metadata": {
        "id": "wdkpb2Jkqu6t",
        "colab_type": "code",
        "colab": {}
      },
      "source": [
        "from tensorflow.keras.utils import to_categorical\n",
        "\n",
        "y_cat = to_categorical(y_df['Encoded'])"
      ],
      "execution_count": 0,
      "outputs": []
    },
    {
      "cell_type": "code",
      "metadata": {
        "id": "rghSgp3NvhhV",
        "colab_type": "code",
        "colab": {}
      },
      "source": [
        "from tensorflow.keras.optimizers import SGD\n",
        "\n",
        "EPOCHS = 160\n",
        "BS = 128"
      ],
      "execution_count": 0,
      "outputs": []
    },
    {
      "cell_type": "code",
      "metadata": {
        "id": "PUHIVZnNwLL0",
        "colab_type": "code",
        "colab": {}
      },
      "source": [
        "sgd = SGD(lr=0.01, momentum=0.9)"
      ],
      "execution_count": 0,
      "outputs": []
    },
    {
      "cell_type": "code",
      "metadata": {
        "id": "yBnqXaiNwHGl",
        "colab_type": "code",
        "outputId": "dd3dafa1-b10c-4051-dcb4-95dac6b1019b",
        "colab": {
          "base_uri": "https://localhost:8080/",
          "height": 34
        }
      },
      "source": [
        "wrn16_2.compile(loss=\"categorical_crossentropy\", optimizer=sgd, metrics=[\"acc\"])\n",
        "print(\"Finished compiling\")"
      ],
      "execution_count": 25,
      "outputs": [
        {
          "output_type": "stream",
          "text": [
            "Finished compiling\n"
          ],
          "name": "stdout"
        }
      ]
    },
    {
      "cell_type": "code",
      "metadata": {
        "id": "4HA8PdUYwhsH",
        "colab_type": "code",
        "colab": {}
      },
      "source": [
        "from tensorflow.keras.utils import to_categorical\n",
        "from tensorflow.keras.callbacks import Callback, LearningRateScheduler, EarlyStopping\n"
      ],
      "execution_count": 0,
      "outputs": []
    },
    {
      "cell_type": "code",
      "metadata": {
        "id": "88yOqhbSwjPa",
        "colab_type": "code",
        "colab": {}
      },
      "source": [
        "def lr_sch(epoch):\n",
        "    if epoch < 60:\n",
        "        return 0.1\n",
        "    elif epoch < 120:\n",
        "        return 0.02\n",
        "    elif epoch < 160:\n",
        "        return 0.004\n",
        "    else:\n",
        "        return 0.0008\n",
        "\n",
        "# Learning rate scheduler callback\n",
        "lr_scheduler = LearningRateScheduler(lr_sch)"
      ],
      "execution_count": 0,
      "outputs": []
    },
    {
      "cell_type": "code",
      "metadata": {
        "id": "4sSnh9ASTMX3",
        "colab_type": "code",
        "outputId": "3160ec80-18ff-4009-80f6-9bc925b0f657",
        "colab": {
          "base_uri": "https://localhost:8080/",
          "height": 1000
        }
      },
      "source": [
        "from sklearn.model_selection import KFold\n",
        "cv = KFold(n_splits=10, random_state=42, shuffle=False)\n",
        "hist_list = []\n",
        "train_set= []\n",
        "test_set = []\n",
        "\n",
        "for train_index, test_index in cv.split(X):\n",
        "    print(\"Train Index: \", train_index, \"\\n\")\n",
        "    print(\"Test Index: \", test_index)\n",
        "    train_set.append(train_index)\n",
        "    test_set.append(test_index)\n",
        "    X_train, X_test, y_train, y_test = X[train_index], X[test_index], y_cat[train_index], y_cat[test_index]\n",
        "    hist = wrn16_2.fit(X_train, y_train, \n",
        "                        batch_size=BS, epochs=EPOCHS, verbose=2, validation_data = (X_test, y_test),\n",
        "                         shuffle=False, callbacks=[lr_scheduler])\n",
        "    hist_list.append(hist)\n",
        "    "
      ],
      "execution_count": 0,
      "outputs": [
        {
          "output_type": "stream",
          "text": [
            "Train Index:  [ 573  574  575 ... 5719 5720 5721] \n",
            "\n",
            "Test Index:  [  0   1   2   3   4   5   6   7   8   9  10  11  12  13  14  15  16  17\n",
            "  18  19  20  21  22  23  24  25  26  27  28  29  30  31  32  33  34  35\n",
            "  36  37  38  39  40  41  42  43  44  45  46  47  48  49  50  51  52  53\n",
            "  54  55  56  57  58  59  60  61  62  63  64  65  66  67  68  69  70  71\n",
            "  72  73  74  75  76  77  78  79  80  81  82  83  84  85  86  87  88  89\n",
            "  90  91  92  93  94  95  96  97  98  99 100 101 102 103 104 105 106 107\n",
            " 108 109 110 111 112 113 114 115 116 117 118 119 120 121 122 123 124 125\n",
            " 126 127 128 129 130 131 132 133 134 135 136 137 138 139 140 141 142 143\n",
            " 144 145 146 147 148 149 150 151 152 153 154 155 156 157 158 159 160 161\n",
            " 162 163 164 165 166 167 168 169 170 171 172 173 174 175 176 177 178 179\n",
            " 180 181 182 183 184 185 186 187 188 189 190 191 192 193 194 195 196 197\n",
            " 198 199 200 201 202 203 204 205 206 207 208 209 210 211 212 213 214 215\n",
            " 216 217 218 219 220 221 222 223 224 225 226 227 228 229 230 231 232 233\n",
            " 234 235 236 237 238 239 240 241 242 243 244 245 246 247 248 249 250 251\n",
            " 252 253 254 255 256 257 258 259 260 261 262 263 264 265 266 267 268 269\n",
            " 270 271 272 273 274 275 276 277 278 279 280 281 282 283 284 285 286 287\n",
            " 288 289 290 291 292 293 294 295 296 297 298 299 300 301 302 303 304 305\n",
            " 306 307 308 309 310 311 312 313 314 315 316 317 318 319 320 321 322 323\n",
            " 324 325 326 327 328 329 330 331 332 333 334 335 336 337 338 339 340 341\n",
            " 342 343 344 345 346 347 348 349 350 351 352 353 354 355 356 357 358 359\n",
            " 360 361 362 363 364 365 366 367 368 369 370 371 372 373 374 375 376 377\n",
            " 378 379 380 381 382 383 384 385 386 387 388 389 390 391 392 393 394 395\n",
            " 396 397 398 399 400 401 402 403 404 405 406 407 408 409 410 411 412 413\n",
            " 414 415 416 417 418 419 420 421 422 423 424 425 426 427 428 429 430 431\n",
            " 432 433 434 435 436 437 438 439 440 441 442 443 444 445 446 447 448 449\n",
            " 450 451 452 453 454 455 456 457 458 459 460 461 462 463 464 465 466 467\n",
            " 468 469 470 471 472 473 474 475 476 477 478 479 480 481 482 483 484 485\n",
            " 486 487 488 489 490 491 492 493 494 495 496 497 498 499 500 501 502 503\n",
            " 504 505 506 507 508 509 510 511 512 513 514 515 516 517 518 519 520 521\n",
            " 522 523 524 525 526 527 528 529 530 531 532 533 534 535 536 537 538 539\n",
            " 540 541 542 543 544 545 546 547 548 549 550 551 552 553 554 555 556 557\n",
            " 558 559 560 561 562 563 564 565 566 567 568 569 570 571 572]\n",
            "Epoch 1/160\n",
            "41/41 - 4s - loss: 2.5237 - acc: 0.2569 - val_loss: 2.5118 - val_acc: 0.2653 - lr: 0.0100\n",
            "Epoch 2/160\n",
            "41/41 - 3s - loss: 2.5005 - acc: 0.3395 - val_loss: 2.4586 - val_acc: 0.3839 - lr: 0.0100\n",
            "Epoch 3/160\n",
            "41/41 - 3s - loss: 2.4462 - acc: 0.3575 - val_loss: 2.3688 - val_acc: 0.3962 - lr: 0.0100\n",
            "Epoch 4/160\n",
            "41/41 - 3s - loss: 2.4139 - acc: 0.3690 - val_loss: 2.3581 - val_acc: 0.3822 - lr: 0.0100\n",
            "Epoch 5/160\n",
            "41/41 - 3s - loss: 2.3981 - acc: 0.3741 - val_loss: 2.3369 - val_acc: 0.3717 - lr: 0.0100\n",
            "Epoch 6/160\n",
            "41/41 - 3s - loss: 2.3805 - acc: 0.3793 - val_loss: 2.3277 - val_acc: 0.3787 - lr: 0.0100\n",
            "Epoch 7/160\n",
            "41/41 - 3s - loss: 2.3681 - acc: 0.3774 - val_loss: 2.3198 - val_acc: 0.3717 - lr: 0.0100\n",
            "Epoch 8/160\n",
            "41/41 - 3s - loss: 2.3507 - acc: 0.3838 - val_loss: 2.3060 - val_acc: 0.3647 - lr: 0.0100\n",
            "Epoch 9/160\n",
            "41/41 - 3s - loss: 2.3375 - acc: 0.3855 - val_loss: 2.3012 - val_acc: 0.3665 - lr: 0.0100\n",
            "Epoch 10/160\n",
            "41/41 - 3s - loss: 2.3249 - acc: 0.3853 - val_loss: 2.2970 - val_acc: 0.3613 - lr: 0.0100\n",
            "Epoch 11/160\n",
            "41/41 - 3s - loss: 2.3103 - acc: 0.3892 - val_loss: 2.2910 - val_acc: 0.3613 - lr: 0.0100\n",
            "Epoch 12/160\n",
            "41/41 - 3s - loss: 2.2983 - acc: 0.3908 - val_loss: 2.2883 - val_acc: 0.3665 - lr: 0.0100\n",
            "Epoch 13/160\n",
            "41/41 - 3s - loss: 2.2867 - acc: 0.3962 - val_loss: 2.2834 - val_acc: 0.3595 - lr: 0.0100\n",
            "Epoch 14/160\n",
            "41/41 - 3s - loss: 2.2757 - acc: 0.3962 - val_loss: 2.2825 - val_acc: 0.3595 - lr: 0.0100\n",
            "Epoch 15/160\n",
            "41/41 - 3s - loss: 2.2640 - acc: 0.3991 - val_loss: 2.2754 - val_acc: 0.3647 - lr: 0.0100\n",
            "Epoch 16/160\n",
            "41/41 - 3s - loss: 2.2536 - acc: 0.4016 - val_loss: 2.2711 - val_acc: 0.3735 - lr: 0.0100\n",
            "Epoch 17/160\n",
            "41/41 - 3s - loss: 2.2407 - acc: 0.4044 - val_loss: 2.2672 - val_acc: 0.3752 - lr: 0.0100\n",
            "Epoch 18/160\n",
            "41/41 - 3s - loss: 2.2317 - acc: 0.4096 - val_loss: 2.2612 - val_acc: 0.3682 - lr: 0.0100\n",
            "Epoch 19/160\n",
            "41/41 - 3s - loss: 2.2190 - acc: 0.4160 - val_loss: 2.2637 - val_acc: 0.3787 - lr: 0.0100\n",
            "Epoch 20/160\n",
            "41/41 - 3s - loss: 2.2078 - acc: 0.4183 - val_loss: 2.2513 - val_acc: 0.3805 - lr: 0.0100\n",
            "Epoch 21/160\n",
            "41/41 - 3s - loss: 2.1962 - acc: 0.4228 - val_loss: 2.2452 - val_acc: 0.3787 - lr: 0.0100\n",
            "Epoch 22/160\n",
            "41/41 - 3s - loss: 2.1830 - acc: 0.4280 - val_loss: 2.2432 - val_acc: 0.3787 - lr: 0.0100\n",
            "Epoch 23/160\n",
            "41/41 - 3s - loss: 2.1727 - acc: 0.4317 - val_loss: 2.2342 - val_acc: 0.3735 - lr: 0.0100\n",
            "Epoch 24/160\n",
            "41/41 - 3s - loss: 2.1615 - acc: 0.4409 - val_loss: 2.2329 - val_acc: 0.3805 - lr: 0.0100\n",
            "Epoch 25/160\n",
            "41/41 - 3s - loss: 2.1478 - acc: 0.4442 - val_loss: 2.2314 - val_acc: 0.3805 - lr: 0.0100\n",
            "Epoch 26/160\n",
            "41/41 - 3s - loss: 2.1355 - acc: 0.4453 - val_loss: 2.2266 - val_acc: 0.3822 - lr: 0.0100\n",
            "Epoch 27/160\n",
            "41/41 - 3s - loss: 2.1244 - acc: 0.4479 - val_loss: 2.2162 - val_acc: 0.3839 - lr: 0.0100\n",
            "Epoch 28/160\n",
            "41/41 - 3s - loss: 2.1145 - acc: 0.4523 - val_loss: 2.2132 - val_acc: 0.3805 - lr: 0.0100\n",
            "Epoch 29/160\n",
            "41/41 - 3s - loss: 2.1013 - acc: 0.4572 - val_loss: 2.1961 - val_acc: 0.3909 - lr: 0.0100\n",
            "Epoch 30/160\n",
            "41/41 - 3s - loss: 2.0914 - acc: 0.4539 - val_loss: 2.1775 - val_acc: 0.4031 - lr: 0.0100\n",
            "Epoch 31/160\n",
            "41/41 - 3s - loss: 2.0802 - acc: 0.4572 - val_loss: 2.1919 - val_acc: 0.3839 - lr: 0.0100\n",
            "Epoch 32/160\n",
            "41/41 - 3s - loss: 2.0710 - acc: 0.4655 - val_loss: 2.1949 - val_acc: 0.3717 - lr: 0.0100\n",
            "Epoch 33/160\n",
            "41/41 - 3s - loss: 2.0605 - acc: 0.4634 - val_loss: 2.1803 - val_acc: 0.3892 - lr: 0.0100\n",
            "Epoch 34/160\n",
            "41/41 - 3s - loss: 2.0493 - acc: 0.4667 - val_loss: 2.1924 - val_acc: 0.3735 - lr: 0.0100\n",
            "Epoch 35/160\n",
            "41/41 - 3s - loss: 2.0377 - acc: 0.4729 - val_loss: 2.1763 - val_acc: 0.3787 - lr: 0.0100\n",
            "Epoch 36/160\n",
            "41/41 - 3s - loss: 2.0250 - acc: 0.4766 - val_loss: 2.1741 - val_acc: 0.3874 - lr: 0.0100\n",
            "Epoch 37/160\n",
            "41/41 - 3s - loss: 2.0198 - acc: 0.4748 - val_loss: 2.1654 - val_acc: 0.3997 - lr: 0.0100\n",
            "Epoch 38/160\n",
            "41/41 - 3s - loss: 2.0098 - acc: 0.4791 - val_loss: 2.1619 - val_acc: 0.3874 - lr: 0.0100\n",
            "Epoch 39/160\n",
            "41/41 - 3s - loss: 1.9988 - acc: 0.4849 - val_loss: 2.1463 - val_acc: 0.4049 - lr: 0.0100\n",
            "Epoch 40/160\n",
            "41/41 - 3s - loss: 1.9888 - acc: 0.4830 - val_loss: 2.1532 - val_acc: 0.3857 - lr: 0.0100\n",
            "Epoch 41/160\n",
            "41/41 - 3s - loss: 1.9785 - acc: 0.4818 - val_loss: 2.1605 - val_acc: 0.3822 - lr: 0.0100\n",
            "Epoch 42/160\n",
            "41/41 - 3s - loss: 1.9662 - acc: 0.4834 - val_loss: 2.1639 - val_acc: 0.3857 - lr: 0.0100\n",
            "Epoch 43/160\n",
            "41/41 - 3s - loss: 1.9522 - acc: 0.4865 - val_loss: 2.1408 - val_acc: 0.3822 - lr: 0.0100\n",
            "Epoch 44/160\n",
            "41/41 - 3s - loss: 1.9538 - acc: 0.4830 - val_loss: 2.1508 - val_acc: 0.3822 - lr: 0.0100\n",
            "Epoch 45/160\n",
            "41/41 - 3s - loss: 1.9458 - acc: 0.4840 - val_loss: 2.1562 - val_acc: 0.3717 - lr: 0.0100\n",
            "Epoch 46/160\n",
            "41/41 - 3s - loss: 1.9382 - acc: 0.4834 - val_loss: 2.1557 - val_acc: 0.3770 - lr: 0.0100\n",
            "Epoch 47/160\n",
            "41/41 - 3s - loss: 1.9325 - acc: 0.4782 - val_loss: 2.1467 - val_acc: 0.3822 - lr: 0.0100\n",
            "Epoch 48/160\n",
            "41/41 - 3s - loss: 1.9088 - acc: 0.4894 - val_loss: 2.1518 - val_acc: 0.3839 - lr: 0.0100\n",
            "Epoch 49/160\n",
            "41/41 - 3s - loss: 1.8923 - acc: 0.5022 - val_loss: 2.1329 - val_acc: 0.3997 - lr: 0.0100\n",
            "Epoch 50/160\n",
            "41/41 - 3s - loss: 1.8808 - acc: 0.5038 - val_loss: 2.1542 - val_acc: 0.3997 - lr: 0.0100\n",
            "Epoch 51/160\n",
            "41/41 - 3s - loss: 1.8734 - acc: 0.5149 - val_loss: 2.1391 - val_acc: 0.3909 - lr: 0.0100\n",
            "Epoch 52/160\n",
            "41/41 - 3s - loss: 1.8597 - acc: 0.5180 - val_loss: 2.1634 - val_acc: 0.3770 - lr: 0.0100\n",
            "Epoch 53/160\n",
            "41/41 - 3s - loss: 1.8491 - acc: 0.5191 - val_loss: 2.1854 - val_acc: 0.3770 - lr: 0.0100\n",
            "Epoch 54/160\n",
            "41/41 - 3s - loss: 1.8270 - acc: 0.5265 - val_loss: 2.2135 - val_acc: 0.3752 - lr: 0.0100\n",
            "Epoch 55/160\n",
            "41/41 - 3s - loss: 1.8140 - acc: 0.5327 - val_loss: 2.2030 - val_acc: 0.3822 - lr: 0.0100\n",
            "Epoch 56/160\n",
            "41/41 - 3s - loss: 1.8070 - acc: 0.5333 - val_loss: 2.1624 - val_acc: 0.3787 - lr: 0.0100\n",
            "Epoch 57/160\n",
            "41/41 - 3s - loss: 1.8034 - acc: 0.5329 - val_loss: 2.1726 - val_acc: 0.3927 - lr: 0.0100\n",
            "Epoch 58/160\n",
            "41/41 - 3s - loss: 1.7902 - acc: 0.5422 - val_loss: 2.1576 - val_acc: 0.3752 - lr: 0.0100\n",
            "Epoch 59/160\n",
            "41/41 - 3s - loss: 1.7774 - acc: 0.5403 - val_loss: 2.1503 - val_acc: 0.3839 - lr: 0.0100\n",
            "Epoch 60/160\n",
            "41/41 - 3s - loss: 1.7621 - acc: 0.5465 - val_loss: 2.1974 - val_acc: 0.3857 - lr: 0.0100\n",
            "Epoch 61/160\n",
            "41/41 - 3s - loss: 1.7516 - acc: 0.5564 - val_loss: 2.1998 - val_acc: 0.3874 - lr: 0.0100\n",
            "Epoch 62/160\n",
            "41/41 - 3s - loss: 1.7431 - acc: 0.5539 - val_loss: 2.2357 - val_acc: 0.3665 - lr: 0.0100\n",
            "Epoch 63/160\n",
            "41/41 - 3s - loss: 1.7307 - acc: 0.5584 - val_loss: 2.1600 - val_acc: 0.3717 - lr: 0.0100\n",
            "Epoch 64/160\n",
            "41/41 - 3s - loss: 1.7143 - acc: 0.5541 - val_loss: 2.1320 - val_acc: 0.3700 - lr: 0.0100\n",
            "Epoch 65/160\n",
            "41/41 - 3s - loss: 1.6993 - acc: 0.5669 - val_loss: 2.1821 - val_acc: 0.3630 - lr: 0.0100\n",
            "Epoch 66/160\n",
            "41/41 - 3s - loss: 1.6876 - acc: 0.5659 - val_loss: 2.1425 - val_acc: 0.3857 - lr: 0.0100\n",
            "Epoch 67/160\n",
            "41/41 - 3s - loss: 1.6882 - acc: 0.5574 - val_loss: 2.1461 - val_acc: 0.3735 - lr: 0.0100\n",
            "Epoch 68/160\n",
            "41/41 - 3s - loss: 1.6804 - acc: 0.5611 - val_loss: 2.2544 - val_acc: 0.3421 - lr: 0.0100\n",
            "Epoch 69/160\n",
            "41/41 - 3s - loss: 1.6738 - acc: 0.5665 - val_loss: 2.1949 - val_acc: 0.3421 - lr: 0.0100\n",
            "Epoch 70/160\n",
            "41/41 - 3s - loss: 1.6814 - acc: 0.5599 - val_loss: 2.2092 - val_acc: 0.3647 - lr: 0.0100\n",
            "Epoch 71/160\n",
            "41/41 - 3s - loss: 1.6579 - acc: 0.5766 - val_loss: 2.2037 - val_acc: 0.3490 - lr: 0.0100\n",
            "Epoch 72/160\n",
            "41/41 - 3s - loss: 1.6289 - acc: 0.5910 - val_loss: 2.2097 - val_acc: 0.3438 - lr: 0.0100\n",
            "Epoch 73/160\n",
            "41/41 - 3s - loss: 1.6038 - acc: 0.5976 - val_loss: 2.2316 - val_acc: 0.3595 - lr: 0.0100\n",
            "Epoch 74/160\n",
            "41/41 - 3s - loss: 1.5789 - acc: 0.6112 - val_loss: 2.1553 - val_acc: 0.3892 - lr: 0.0100\n",
            "Epoch 75/160\n",
            "41/41 - 3s - loss: 1.5591 - acc: 0.6201 - val_loss: 2.2157 - val_acc: 0.3665 - lr: 0.0100\n",
            "Epoch 76/160\n",
            "41/41 - 3s - loss: 1.5438 - acc: 0.6258 - val_loss: 2.2332 - val_acc: 0.3595 - lr: 0.0100\n",
            "Epoch 77/160\n",
            "41/41 - 3s - loss: 1.5194 - acc: 0.6273 - val_loss: 2.2903 - val_acc: 0.3717 - lr: 0.0100\n",
            "Epoch 78/160\n",
            "41/41 - 3s - loss: 1.5332 - acc: 0.6225 - val_loss: 2.2979 - val_acc: 0.3787 - lr: 0.0100\n",
            "Epoch 79/160\n",
            "41/41 - 3s - loss: 1.5053 - acc: 0.6324 - val_loss: 2.3568 - val_acc: 0.3787 - lr: 0.0100\n",
            "Epoch 80/160\n",
            "41/41 - 3s - loss: 1.5060 - acc: 0.6327 - val_loss: 2.3343 - val_acc: 0.3473 - lr: 0.0100\n",
            "Epoch 81/160\n",
            "41/41 - 3s - loss: 1.6092 - acc: 0.5873 - val_loss: 2.3053 - val_acc: 0.3543 - lr: 0.0010\n",
            "Epoch 82/160\n",
            "41/41 - 3s - loss: 1.4633 - acc: 0.6568 - val_loss: 2.3422 - val_acc: 0.3578 - lr: 0.0010\n",
            "Epoch 83/160\n",
            "41/41 - 3s - loss: 1.4084 - acc: 0.6906 - val_loss: 2.3448 - val_acc: 0.3613 - lr: 0.0010\n",
            "Epoch 84/160\n",
            "41/41 - 3s - loss: 1.3806 - acc: 0.6974 - val_loss: 2.3872 - val_acc: 0.3613 - lr: 0.0010\n",
            "Epoch 85/160\n",
            "41/41 - 3s - loss: 1.3610 - acc: 0.7097 - val_loss: 2.4196 - val_acc: 0.3525 - lr: 0.0010\n",
            "Epoch 86/160\n",
            "41/41 - 3s - loss: 1.3520 - acc: 0.7170 - val_loss: 2.4119 - val_acc: 0.3508 - lr: 0.0010\n",
            "Epoch 87/160\n",
            "41/41 - 3s - loss: 1.3379 - acc: 0.7217 - val_loss: 2.4306 - val_acc: 0.3578 - lr: 0.0010\n",
            "Epoch 88/160\n",
            "41/41 - 3s - loss: 1.3239 - acc: 0.7262 - val_loss: 2.4179 - val_acc: 0.3595 - lr: 0.0010\n",
            "Epoch 89/160\n",
            "41/41 - 3s - loss: 1.3198 - acc: 0.7308 - val_loss: 2.4528 - val_acc: 0.3455 - lr: 0.0010\n",
            "Epoch 90/160\n",
            "41/41 - 3s - loss: 1.3070 - acc: 0.7380 - val_loss: 2.4655 - val_acc: 0.3490 - lr: 0.0010\n",
            "Epoch 91/160\n",
            "41/41 - 3s - loss: 1.2974 - acc: 0.7431 - val_loss: 2.4420 - val_acc: 0.3490 - lr: 0.0010\n",
            "Epoch 92/160\n",
            "41/41 - 3s - loss: 1.2908 - acc: 0.7438 - val_loss: 2.4325 - val_acc: 0.3630 - lr: 0.0010\n",
            "Epoch 93/160\n",
            "41/41 - 3s - loss: 1.2800 - acc: 0.7553 - val_loss: 2.4575 - val_acc: 0.3455 - lr: 0.0010\n",
            "Epoch 94/160\n",
            "41/41 - 3s - loss: 1.2707 - acc: 0.7586 - val_loss: 2.4863 - val_acc: 0.3386 - lr: 0.0010\n",
            "Epoch 95/160\n",
            "41/41 - 3s - loss: 1.2636 - acc: 0.7580 - val_loss: 2.4500 - val_acc: 0.3403 - lr: 0.0010\n",
            "Epoch 96/160\n",
            "41/41 - 3s - loss: 1.2529 - acc: 0.7646 - val_loss: 2.4675 - val_acc: 0.3281 - lr: 0.0010\n",
            "Epoch 97/160\n",
            "41/41 - 3s - loss: 1.2468 - acc: 0.7687 - val_loss: 2.4951 - val_acc: 0.3508 - lr: 0.0010\n",
            "Epoch 98/160\n",
            "41/41 - 3s - loss: 1.2413 - acc: 0.7697 - val_loss: 2.4677 - val_acc: 0.3333 - lr: 0.0010\n",
            "Epoch 99/160\n",
            "41/41 - 3s - loss: 1.2286 - acc: 0.7743 - val_loss: 2.5103 - val_acc: 0.3281 - lr: 0.0010\n",
            "Epoch 100/160\n",
            "41/41 - 3s - loss: 1.2264 - acc: 0.7819 - val_loss: 2.5294 - val_acc: 0.3351 - lr: 0.0010\n",
            "Epoch 101/160\n",
            "41/41 - 3s - loss: 1.2188 - acc: 0.7790 - val_loss: 2.5335 - val_acc: 0.3386 - lr: 0.0010\n",
            "Epoch 102/160\n",
            "41/41 - 3s - loss: 1.2057 - acc: 0.7885 - val_loss: 2.5231 - val_acc: 0.3386 - lr: 0.0010\n",
            "Epoch 103/160\n",
            "41/41 - 3s - loss: 1.1982 - acc: 0.7916 - val_loss: 2.5663 - val_acc: 0.3316 - lr: 0.0010\n",
            "Epoch 104/160\n",
            "41/41 - 3s - loss: 1.1881 - acc: 0.7947 - val_loss: 2.5889 - val_acc: 0.3316 - lr: 0.0010\n",
            "Epoch 105/160\n",
            "41/41 - 3s - loss: 1.1805 - acc: 0.7974 - val_loss: 2.5393 - val_acc: 0.3351 - lr: 0.0010\n",
            "Epoch 106/160\n",
            "41/41 - 3s - loss: 1.1778 - acc: 0.8011 - val_loss: 2.5485 - val_acc: 0.3386 - lr: 0.0010\n",
            "Epoch 107/160\n",
            "41/41 - 3s - loss: 1.1699 - acc: 0.7998 - val_loss: 2.5488 - val_acc: 0.3490 - lr: 0.0010\n",
            "Epoch 108/160\n",
            "41/41 - 3s - loss: 1.1573 - acc: 0.8120 - val_loss: 2.6128 - val_acc: 0.3333 - lr: 0.0010\n",
            "Epoch 109/160\n",
            "41/41 - 3s - loss: 1.1575 - acc: 0.8095 - val_loss: 2.5999 - val_acc: 0.3386 - lr: 0.0010\n",
            "Epoch 110/160\n",
            "41/41 - 3s - loss: 1.1461 - acc: 0.8143 - val_loss: 2.5998 - val_acc: 0.3386 - lr: 0.0010\n",
            "Epoch 111/160\n",
            "41/41 - 3s - loss: 1.1387 - acc: 0.8211 - val_loss: 2.6064 - val_acc: 0.3281 - lr: 0.0010\n",
            "Epoch 112/160\n",
            "41/41 - 3s - loss: 1.1300 - acc: 0.8237 - val_loss: 2.6040 - val_acc: 0.3333 - lr: 0.0010\n",
            "Epoch 113/160\n",
            "41/41 - 3s - loss: 1.1240 - acc: 0.8256 - val_loss: 2.6192 - val_acc: 0.3333 - lr: 0.0010\n",
            "Epoch 114/160\n",
            "41/41 - 3s - loss: 1.1148 - acc: 0.8326 - val_loss: 2.6350 - val_acc: 0.3229 - lr: 0.0010\n",
            "Epoch 115/160\n",
            "41/41 - 3s - loss: 1.1060 - acc: 0.8338 - val_loss: 2.6534 - val_acc: 0.3246 - lr: 0.0010\n",
            "Epoch 116/160\n",
            "41/41 - 3s - loss: 1.1021 - acc: 0.8411 - val_loss: 2.6327 - val_acc: 0.3333 - lr: 0.0010\n",
            "Epoch 117/160\n",
            "41/41 - 3s - loss: 1.0940 - acc: 0.8437 - val_loss: 2.6397 - val_acc: 0.3333 - lr: 0.0010\n",
            "Epoch 118/160\n",
            "41/41 - 3s - loss: 1.0881 - acc: 0.8409 - val_loss: 2.6563 - val_acc: 0.3333 - lr: 0.0010\n",
            "Epoch 119/160\n",
            "41/41 - 3s - loss: 1.0818 - acc: 0.8475 - val_loss: 2.6306 - val_acc: 0.3508 - lr: 0.0010\n",
            "Epoch 120/160\n",
            "41/41 - 3s - loss: 1.0758 - acc: 0.8472 - val_loss: 2.6187 - val_acc: 0.3595 - lr: 0.0010\n",
            "Epoch 121/160\n",
            "41/41 - 3s - loss: 1.0620 - acc: 0.8493 - val_loss: 2.6831 - val_acc: 0.3229 - lr: 1.0000e-04\n",
            "Epoch 122/160\n",
            "41/41 - 3s - loss: 1.0416 - acc: 0.8652 - val_loss: 2.7003 - val_acc: 0.3281 - lr: 1.0000e-04\n",
            "Epoch 123/160\n",
            "41/41 - 3s - loss: 1.0372 - acc: 0.8666 - val_loss: 2.6863 - val_acc: 0.3351 - lr: 1.0000e-04\n",
            "Epoch 124/160\n",
            "41/41 - 3s - loss: 1.0360 - acc: 0.8672 - val_loss: 2.7184 - val_acc: 0.3264 - lr: 1.0000e-04\n",
            "Epoch 125/160\n",
            "41/41 - 3s - loss: 1.0330 - acc: 0.8707 - val_loss: 2.6873 - val_acc: 0.3316 - lr: 1.0000e-04\n",
            "Epoch 126/160\n",
            "41/41 - 3s - loss: 1.0345 - acc: 0.8672 - val_loss: 2.7000 - val_acc: 0.3211 - lr: 1.0000e-04\n",
            "Epoch 127/160\n",
            "41/41 - 3s - loss: 1.0284 - acc: 0.8742 - val_loss: 2.6992 - val_acc: 0.3246 - lr: 1.0000e-04\n",
            "Epoch 128/160\n",
            "41/41 - 3s - loss: 1.0353 - acc: 0.8697 - val_loss: 2.7170 - val_acc: 0.3298 - lr: 1.0000e-04\n",
            "Epoch 129/160\n",
            "41/41 - 3s - loss: 1.0334 - acc: 0.8668 - val_loss: 2.6843 - val_acc: 0.3264 - lr: 1.0000e-04\n",
            "Epoch 130/160\n",
            "41/41 - 3s - loss: 1.0285 - acc: 0.8726 - val_loss: 2.7149 - val_acc: 0.3246 - lr: 1.0000e-04\n",
            "Epoch 131/160\n",
            "41/41 - 3s - loss: 1.0316 - acc: 0.8749 - val_loss: 2.7289 - val_acc: 0.3229 - lr: 1.0000e-04\n",
            "Epoch 132/160\n",
            "41/41 - 3s - loss: 1.0281 - acc: 0.8708 - val_loss: 2.6682 - val_acc: 0.3298 - lr: 1.0000e-04\n",
            "Epoch 133/160\n",
            "41/41 - 3s - loss: 1.0289 - acc: 0.8728 - val_loss: 2.7034 - val_acc: 0.3211 - lr: 1.0000e-04\n",
            "Epoch 134/160\n",
            "41/41 - 3s - loss: 1.0277 - acc: 0.8753 - val_loss: 2.6804 - val_acc: 0.3246 - lr: 1.0000e-04\n",
            "Epoch 135/160\n",
            "41/41 - 3s - loss: 1.0200 - acc: 0.8776 - val_loss: 2.7061 - val_acc: 0.3246 - lr: 1.0000e-04\n",
            "Epoch 136/160\n",
            "41/41 - 3s - loss: 1.0240 - acc: 0.8757 - val_loss: 2.6845 - val_acc: 0.3316 - lr: 1.0000e-04\n",
            "Epoch 137/160\n",
            "41/41 - 3s - loss: 1.0202 - acc: 0.8788 - val_loss: 2.6610 - val_acc: 0.3368 - lr: 1.0000e-04\n",
            "Epoch 138/160\n",
            "41/41 - 3s - loss: 1.0240 - acc: 0.8794 - val_loss: 2.7070 - val_acc: 0.3403 - lr: 1.0000e-04\n",
            "Epoch 139/160\n",
            "41/41 - 3s - loss: 1.0259 - acc: 0.8769 - val_loss: 2.7261 - val_acc: 0.3264 - lr: 1.0000e-04\n",
            "Epoch 140/160\n",
            "41/41 - 3s - loss: 1.0240 - acc: 0.8743 - val_loss: 2.7150 - val_acc: 0.3281 - lr: 1.0000e-04\n",
            "Epoch 141/160\n",
            "41/41 - 3s - loss: 1.0248 - acc: 0.8747 - val_loss: 2.7035 - val_acc: 0.3368 - lr: 1.0000e-04\n",
            "Epoch 142/160\n",
            "41/41 - 3s - loss: 1.0153 - acc: 0.8808 - val_loss: 2.7309 - val_acc: 0.3246 - lr: 1.0000e-04\n",
            "Epoch 143/160\n",
            "41/41 - 3s - loss: 1.0206 - acc: 0.8776 - val_loss: 2.6849 - val_acc: 0.3438 - lr: 1.0000e-04\n",
            "Epoch 144/160\n",
            "41/41 - 3s - loss: 1.0166 - acc: 0.8771 - val_loss: 2.7033 - val_acc: 0.3298 - lr: 1.0000e-04\n",
            "Epoch 145/160\n",
            "41/41 - 3s - loss: 1.0141 - acc: 0.8796 - val_loss: 2.7307 - val_acc: 0.3264 - lr: 1.0000e-04\n",
            "Epoch 146/160\n",
            "41/41 - 3s - loss: 1.0175 - acc: 0.8837 - val_loss: 2.7417 - val_acc: 0.3264 - lr: 1.0000e-04\n",
            "Epoch 147/160\n",
            "41/41 - 3s - loss: 1.0138 - acc: 0.8780 - val_loss: 2.7202 - val_acc: 0.3211 - lr: 1.0000e-04\n",
            "Epoch 148/160\n",
            "41/41 - 3s - loss: 1.0142 - acc: 0.8788 - val_loss: 2.7206 - val_acc: 0.3316 - lr: 1.0000e-04\n",
            "Epoch 149/160\n",
            "41/41 - 3s - loss: 1.0113 - acc: 0.8844 - val_loss: 2.7188 - val_acc: 0.3281 - lr: 1.0000e-04\n",
            "Epoch 150/160\n",
            "41/41 - 3s - loss: 1.0075 - acc: 0.8881 - val_loss: 2.7046 - val_acc: 0.3421 - lr: 1.0000e-04\n",
            "Epoch 151/160\n",
            "41/41 - 3s - loss: 1.0079 - acc: 0.8808 - val_loss: 2.7187 - val_acc: 0.3176 - lr: 1.0000e-04\n",
            "Epoch 152/160\n",
            "41/41 - 3s - loss: 1.0096 - acc: 0.8831 - val_loss: 2.7174 - val_acc: 0.3281 - lr: 1.0000e-04\n",
            "Epoch 153/160\n",
            "41/41 - 3s - loss: 1.0058 - acc: 0.8802 - val_loss: 2.7268 - val_acc: 0.3264 - lr: 1.0000e-04\n",
            "Epoch 154/160\n",
            "41/41 - 3s - loss: 1.0130 - acc: 0.8804 - val_loss: 2.7342 - val_acc: 0.3264 - lr: 1.0000e-04\n",
            "Epoch 155/160\n",
            "41/41 - 3s - loss: 1.0068 - acc: 0.8866 - val_loss: 2.7383 - val_acc: 0.3246 - lr: 1.0000e-04\n",
            "Epoch 156/160\n",
            "41/41 - 3s - loss: 1.0121 - acc: 0.8856 - val_loss: 2.7120 - val_acc: 0.3211 - lr: 1.0000e-04\n",
            "Epoch 157/160\n",
            "41/41 - 3s - loss: 1.0026 - acc: 0.8831 - val_loss: 2.7597 - val_acc: 0.3298 - lr: 1.0000e-04\n",
            "Epoch 158/160\n",
            "41/41 - 3s - loss: 1.0060 - acc: 0.8835 - val_loss: 2.7376 - val_acc: 0.3386 - lr: 1.0000e-04\n",
            "Epoch 159/160\n",
            "41/41 - 3s - loss: 1.0024 - acc: 0.8837 - val_loss: 2.7341 - val_acc: 0.3281 - lr: 1.0000e-04\n",
            "Epoch 160/160\n",
            "41/41 - 3s - loss: 1.0047 - acc: 0.8796 - val_loss: 2.7270 - val_acc: 0.3298 - lr: 1.0000e-04\n",
            "Train Index:  [   0    1    2 ... 5719 5720 5721] \n",
            "\n",
            "Test Index:  [ 573  574  575  576  577  578  579  580  581  582  583  584  585  586\n",
            "  587  588  589  590  591  592  593  594  595  596  597  598  599  600\n",
            "  601  602  603  604  605  606  607  608  609  610  611  612  613  614\n",
            "  615  616  617  618  619  620  621  622  623  624  625  626  627  628\n",
            "  629  630  631  632  633  634  635  636  637  638  639  640  641  642\n",
            "  643  644  645  646  647  648  649  650  651  652  653  654  655  656\n",
            "  657  658  659  660  661  662  663  664  665  666  667  668  669  670\n",
            "  671  672  673  674  675  676  677  678  679  680  681  682  683  684\n",
            "  685  686  687  688  689  690  691  692  693  694  695  696  697  698\n",
            "  699  700  701  702  703  704  705  706  707  708  709  710  711  712\n",
            "  713  714  715  716  717  718  719  720  721  722  723  724  725  726\n",
            "  727  728  729  730  731  732  733  734  735  736  737  738  739  740\n",
            "  741  742  743  744  745  746  747  748  749  750  751  752  753  754\n",
            "  755  756  757  758  759  760  761  762  763  764  765  766  767  768\n",
            "  769  770  771  772  773  774  775  776  777  778  779  780  781  782\n",
            "  783  784  785  786  787  788  789  790  791  792  793  794  795  796\n",
            "  797  798  799  800  801  802  803  804  805  806  807  808  809  810\n",
            "  811  812  813  814  815  816  817  818  819  820  821  822  823  824\n",
            "  825  826  827  828  829  830  831  832  833  834  835  836  837  838\n",
            "  839  840  841  842  843  844  845  846  847  848  849  850  851  852\n",
            "  853  854  855  856  857  858  859  860  861  862  863  864  865  866\n",
            "  867  868  869  870  871  872  873  874  875  876  877  878  879  880\n",
            "  881  882  883  884  885  886  887  888  889  890  891  892  893  894\n",
            "  895  896  897  898  899  900  901  902  903  904  905  906  907  908\n",
            "  909  910  911  912  913  914  915  916  917  918  919  920  921  922\n",
            "  923  924  925  926  927  928  929  930  931  932  933  934  935  936\n",
            "  937  938  939  940  941  942  943  944  945  946  947  948  949  950\n",
            "  951  952  953  954  955  956  957  958  959  960  961  962  963  964\n",
            "  965  966  967  968  969  970  971  972  973  974  975  976  977  978\n",
            "  979  980  981  982  983  984  985  986  987  988  989  990  991  992\n",
            "  993  994  995  996  997  998  999 1000 1001 1002 1003 1004 1005 1006\n",
            " 1007 1008 1009 1010 1011 1012 1013 1014 1015 1016 1017 1018 1019 1020\n",
            " 1021 1022 1023 1024 1025 1026 1027 1028 1029 1030 1031 1032 1033 1034\n",
            " 1035 1036 1037 1038 1039 1040 1041 1042 1043 1044 1045 1046 1047 1048\n",
            " 1049 1050 1051 1052 1053 1054 1055 1056 1057 1058 1059 1060 1061 1062\n",
            " 1063 1064 1065 1066 1067 1068 1069 1070 1071 1072 1073 1074 1075 1076\n",
            " 1077 1078 1079 1080 1081 1082 1083 1084 1085 1086 1087 1088 1089 1090\n",
            " 1091 1092 1093 1094 1095 1096 1097 1098 1099 1100 1101 1102 1103 1104\n",
            " 1105 1106 1107 1108 1109 1110 1111 1112 1113 1114 1115 1116 1117 1118\n",
            " 1119 1120 1121 1122 1123 1124 1125 1126 1127 1128 1129 1130 1131 1132\n",
            " 1133 1134 1135 1136 1137 1138 1139 1140 1141 1142 1143 1144 1145]\n",
            "Epoch 1/160\n",
            "41/41 - 3s - loss: 2.0416 - acc: 0.3898 - val_loss: 1.8864 - val_acc: 0.3979 - lr: 0.0100\n",
            "Epoch 2/160\n",
            "41/41 - 3s - loss: 1.8327 - acc: 0.4325 - val_loss: 1.9152 - val_acc: 0.4206 - lr: 0.0100\n",
            "Epoch 3/160\n",
            "41/41 - 3s - loss: 1.7367 - acc: 0.4900 - val_loss: 1.9820 - val_acc: 0.4328 - lr: 0.0100\n",
            "Epoch 4/160\n",
            "41/41 - 3s - loss: 1.6686 - acc: 0.5281 - val_loss: 2.0936 - val_acc: 0.4346 - lr: 0.0100\n",
            "Epoch 5/160\n",
            "41/41 - 3s - loss: 1.5825 - acc: 0.5747 - val_loss: 2.0420 - val_acc: 0.4729 - lr: 0.0100\n",
            "Epoch 6/160\n",
            "41/41 - 3s - loss: 1.5010 - acc: 0.6168 - val_loss: 2.0825 - val_acc: 0.4712 - lr: 0.0100\n",
            "Epoch 7/160\n",
            "41/41 - 3s - loss: 1.4443 - acc: 0.6432 - val_loss: 2.1730 - val_acc: 0.4572 - lr: 0.0100\n",
            "Epoch 8/160\n",
            "41/41 - 3s - loss: 1.4106 - acc: 0.6671 - val_loss: 2.0725 - val_acc: 0.4764 - lr: 0.0100\n",
            "Epoch 9/160\n",
            "41/41 - 3s - loss: 1.3664 - acc: 0.6776 - val_loss: 2.0783 - val_acc: 0.4869 - lr: 0.0100\n",
            "Epoch 10/160\n",
            "41/41 - 3s - loss: 1.3321 - acc: 0.6974 - val_loss: 2.1452 - val_acc: 0.4625 - lr: 0.0100\n",
            "Epoch 11/160\n",
            "41/41 - 3s - loss: 1.3552 - acc: 0.6815 - val_loss: 2.1735 - val_acc: 0.4415 - lr: 0.0100\n",
            "Epoch 12/160\n",
            "41/41 - 3s - loss: 1.3576 - acc: 0.6759 - val_loss: 2.3468 - val_acc: 0.4380 - lr: 0.0100\n",
            "Epoch 13/160\n",
            "41/41 - 3s - loss: 1.3324 - acc: 0.6906 - val_loss: 2.2033 - val_acc: 0.4485 - lr: 0.0100\n",
            "Epoch 14/160\n",
            "41/41 - 3s - loss: 1.2947 - acc: 0.7122 - val_loss: 2.1905 - val_acc: 0.4520 - lr: 0.0100\n",
            "Epoch 15/160\n",
            "41/41 - 3s - loss: 1.2933 - acc: 0.7089 - val_loss: 2.3059 - val_acc: 0.4276 - lr: 0.0100\n",
            "Epoch 16/160\n",
            "41/41 - 3s - loss: 1.2962 - acc: 0.7075 - val_loss: 2.1735 - val_acc: 0.4503 - lr: 0.0100\n",
            "Epoch 17/160\n",
            "41/41 - 3s - loss: 1.2502 - acc: 0.7318 - val_loss: 2.3005 - val_acc: 0.4328 - lr: 0.0100\n",
            "Epoch 18/160\n",
            "41/41 - 3s - loss: 1.2320 - acc: 0.7370 - val_loss: 2.2887 - val_acc: 0.4450 - lr: 0.0100\n",
            "Epoch 19/160\n",
            "41/41 - 3s - loss: 1.2294 - acc: 0.7318 - val_loss: 2.2240 - val_acc: 0.4188 - lr: 0.0100\n",
            "Epoch 20/160\n",
            "41/41 - 3s - loss: 1.2205 - acc: 0.7357 - val_loss: 2.3082 - val_acc: 0.4346 - lr: 0.0100\n",
            "Epoch 21/160\n",
            "41/41 - 3s - loss: 1.1860 - acc: 0.7462 - val_loss: 2.1923 - val_acc: 0.4590 - lr: 0.0100\n",
            "Epoch 22/160\n",
            "41/41 - 3s - loss: 1.1605 - acc: 0.7627 - val_loss: 2.4514 - val_acc: 0.4363 - lr: 0.0100\n",
            "Epoch 23/160\n",
            "41/41 - 3s - loss: 1.1032 - acc: 0.7922 - val_loss: 2.4201 - val_acc: 0.4468 - lr: 0.0100\n",
            "Epoch 24/160\n",
            "41/41 - 3s - loss: 1.1375 - acc: 0.7714 - val_loss: 2.3530 - val_acc: 0.4328 - lr: 0.0100\n",
            "Epoch 25/160\n",
            "41/41 - 3s - loss: 1.1177 - acc: 0.7702 - val_loss: 2.5489 - val_acc: 0.4119 - lr: 0.0100\n",
            "Epoch 26/160\n",
            "41/41 - 3s - loss: 1.1350 - acc: 0.7631 - val_loss: 2.5418 - val_acc: 0.4276 - lr: 0.0100\n",
            "Epoch 27/160\n",
            "41/41 - 3s - loss: 1.1102 - acc: 0.7846 - val_loss: 2.3682 - val_acc: 0.4485 - lr: 0.0100\n",
            "Epoch 28/160\n",
            "41/41 - 3s - loss: 1.0725 - acc: 0.7916 - val_loss: 2.2523 - val_acc: 0.4625 - lr: 0.0100\n",
            "Epoch 29/160\n",
            "41/41 - 3s - loss: 1.0456 - acc: 0.8054 - val_loss: 2.4259 - val_acc: 0.4450 - lr: 0.0100\n",
            "Epoch 30/160\n",
            "41/41 - 3s - loss: 1.0099 - acc: 0.8238 - val_loss: 2.5009 - val_acc: 0.4346 - lr: 0.0100\n",
            "Epoch 31/160\n",
            "41/41 - 3s - loss: 0.9725 - acc: 0.8433 - val_loss: 2.4510 - val_acc: 0.4223 - lr: 0.0100\n",
            "Epoch 32/160\n",
            "41/41 - 3s - loss: 0.9607 - acc: 0.8458 - val_loss: 2.5363 - val_acc: 0.4241 - lr: 0.0100\n",
            "Epoch 33/160\n",
            "41/41 - 3s - loss: 0.9529 - acc: 0.8452 - val_loss: 2.7709 - val_acc: 0.4241 - lr: 0.0100\n",
            "Epoch 34/160\n",
            "41/41 - 3s - loss: 0.9288 - acc: 0.8571 - val_loss: 2.5563 - val_acc: 0.4066 - lr: 0.0100\n",
            "Epoch 35/160\n",
            "41/41 - 3s - loss: 0.9131 - acc: 0.8613 - val_loss: 2.6196 - val_acc: 0.4538 - lr: 0.0100\n",
            "Epoch 36/160\n",
            "41/41 - 3s - loss: 0.9183 - acc: 0.8606 - val_loss: 2.6686 - val_acc: 0.4188 - lr: 0.0100\n",
            "Epoch 37/160\n",
            "41/41 - 3s - loss: 0.8944 - acc: 0.8660 - val_loss: 2.5610 - val_acc: 0.4468 - lr: 0.0100\n",
            "Epoch 38/160\n",
            "41/41 - 3s - loss: 0.8808 - acc: 0.8728 - val_loss: 2.5975 - val_acc: 0.4485 - lr: 0.0100\n",
            "Epoch 39/160\n",
            "41/41 - 3s - loss: 0.8615 - acc: 0.8813 - val_loss: 2.4719 - val_acc: 0.3909 - lr: 0.0100\n",
            "Epoch 40/160\n",
            "41/41 - 3s - loss: 0.8489 - acc: 0.8839 - val_loss: 2.9785 - val_acc: 0.4049 - lr: 0.0100\n",
            "Epoch 41/160\n",
            "41/41 - 3s - loss: 0.9050 - acc: 0.8538 - val_loss: 2.9551 - val_acc: 0.4119 - lr: 0.0100\n",
            "Epoch 42/160\n",
            "41/41 - 3s - loss: 0.8936 - acc: 0.8596 - val_loss: 3.1601 - val_acc: 0.3997 - lr: 0.0100\n",
            "Epoch 43/160\n",
            "41/41 - 3s - loss: 0.8797 - acc: 0.8654 - val_loss: 3.1295 - val_acc: 0.4119 - lr: 0.0100\n",
            "Epoch 44/160\n",
            "41/41 - 3s - loss: 0.8578 - acc: 0.8778 - val_loss: 2.8325 - val_acc: 0.4031 - lr: 0.0100\n",
            "Epoch 45/160\n",
            "41/41 - 3s - loss: 0.8429 - acc: 0.8858 - val_loss: 3.9464 - val_acc: 0.3647 - lr: 0.0100\n",
            "Epoch 46/160\n",
            "41/41 - 3s - loss: 0.8235 - acc: 0.8895 - val_loss: 3.4192 - val_acc: 0.4014 - lr: 0.0100\n",
            "Epoch 47/160\n",
            "41/41 - 3s - loss: 0.8076 - acc: 0.8910 - val_loss: 3.3979 - val_acc: 0.3927 - lr: 0.0100\n",
            "Epoch 48/160\n",
            "41/41 - 3s - loss: 0.7713 - acc: 0.9095 - val_loss: 2.8740 - val_acc: 0.4311 - lr: 0.0100\n",
            "Epoch 49/160\n",
            "41/41 - 3s - loss: 0.7592 - acc: 0.9128 - val_loss: 2.8741 - val_acc: 0.4293 - lr: 0.0100\n",
            "Epoch 50/160\n",
            "41/41 - 3s - loss: 0.7583 - acc: 0.9165 - val_loss: 2.9754 - val_acc: 0.3944 - lr: 0.0100\n",
            "Epoch 51/160\n",
            "41/41 - 3s - loss: 0.7879 - acc: 0.8961 - val_loss: 3.3306 - val_acc: 0.4171 - lr: 0.0100\n",
            "Epoch 52/160\n",
            "41/41 - 3s - loss: 0.7728 - acc: 0.9077 - val_loss: 3.1144 - val_acc: 0.4031 - lr: 0.0100\n",
            "Epoch 53/160\n",
            "41/41 - 3s - loss: 0.7461 - acc: 0.9178 - val_loss: 3.6512 - val_acc: 0.3822 - lr: 0.0100\n",
            "Epoch 54/160\n",
            "41/41 - 3s - loss: 0.7714 - acc: 0.9076 - val_loss: 3.5309 - val_acc: 0.3927 - lr: 0.0100\n",
            "Epoch 55/160\n",
            "41/41 - 3s - loss: 0.7597 - acc: 0.9128 - val_loss: 3.3109 - val_acc: 0.3997 - lr: 0.0100\n",
            "Epoch 56/160\n",
            "41/41 - 3s - loss: 0.7633 - acc: 0.9056 - val_loss: 3.1941 - val_acc: 0.3997 - lr: 0.0100\n",
            "Epoch 57/160\n",
            "41/41 - 3s - loss: 0.7184 - acc: 0.9266 - val_loss: 2.8815 - val_acc: 0.4084 - lr: 0.0100\n",
            "Epoch 58/160\n",
            "41/41 - 3s - loss: 0.7108 - acc: 0.9278 - val_loss: 3.1693 - val_acc: 0.3892 - lr: 0.0100\n",
            "Epoch 59/160\n",
            "41/41 - 3s - loss: 0.7070 - acc: 0.9281 - val_loss: 3.4851 - val_acc: 0.3735 - lr: 0.0100\n",
            "Epoch 60/160\n",
            "41/41 - 3s - loss: 0.7091 - acc: 0.9295 - val_loss: 3.3411 - val_acc: 0.4014 - lr: 0.0100\n",
            "Epoch 61/160\n",
            "41/41 - 3s - loss: 0.7092 - acc: 0.9227 - val_loss: 3.5016 - val_acc: 0.3595 - lr: 0.0100\n",
            "Epoch 62/160\n",
            "41/41 - 3s - loss: 0.7174 - acc: 0.9200 - val_loss: 3.0908 - val_acc: 0.3665 - lr: 0.0100\n",
            "Epoch 63/160\n",
            "41/41 - 3s - loss: 0.7333 - acc: 0.9130 - val_loss: 2.9732 - val_acc: 0.3979 - lr: 0.0100\n",
            "Epoch 64/160\n",
            "41/41 - 3s - loss: 0.6971 - acc: 0.9314 - val_loss: 2.8977 - val_acc: 0.3874 - lr: 0.0100\n",
            "Epoch 65/160\n",
            "41/41 - 3s - loss: 0.6771 - acc: 0.9367 - val_loss: 3.1456 - val_acc: 0.3543 - lr: 0.0100\n",
            "Epoch 66/160\n",
            "41/41 - 3s - loss: 0.6733 - acc: 0.9384 - val_loss: 3.6573 - val_acc: 0.3264 - lr: 0.0100\n",
            "Epoch 67/160\n",
            "41/41 - 3s - loss: 0.6774 - acc: 0.9347 - val_loss: 3.2035 - val_acc: 0.3717 - lr: 0.0100\n",
            "Epoch 68/160\n",
            "41/41 - 3s - loss: 0.6607 - acc: 0.9429 - val_loss: 3.6519 - val_acc: 0.3490 - lr: 0.0100\n",
            "Epoch 69/160\n",
            "41/41 - 3s - loss: 0.6583 - acc: 0.9441 - val_loss: 3.0440 - val_acc: 0.3735 - lr: 0.0100\n",
            "Epoch 70/160\n",
            "41/41 - 3s - loss: 0.6818 - acc: 0.9297 - val_loss: 3.1450 - val_acc: 0.4066 - lr: 0.0100\n",
            "Epoch 71/160\n",
            "41/41 - 3s - loss: 0.6660 - acc: 0.9357 - val_loss: 3.4451 - val_acc: 0.3857 - lr: 0.0100\n",
            "Epoch 72/160\n",
            "41/41 - 3s - loss: 0.6988 - acc: 0.9245 - val_loss: 3.2093 - val_acc: 0.4031 - lr: 0.0100\n",
            "Epoch 73/160\n",
            "41/41 - 3s - loss: 0.6717 - acc: 0.9351 - val_loss: 3.3501 - val_acc: 0.3944 - lr: 0.0100\n",
            "Epoch 74/160\n",
            "41/41 - 3s - loss: 0.6552 - acc: 0.9435 - val_loss: 3.4879 - val_acc: 0.3543 - lr: 0.0100\n",
            "Epoch 75/160\n",
            "41/41 - 3s - loss: 0.6620 - acc: 0.9369 - val_loss: 3.9132 - val_acc: 0.3368 - lr: 0.0100\n",
            "Epoch 76/160\n",
            "41/41 - 3s - loss: 0.6840 - acc: 0.9309 - val_loss: 3.1665 - val_acc: 0.3752 - lr: 0.0100\n",
            "Epoch 77/160\n",
            "41/41 - 3s - loss: 0.6212 - acc: 0.9546 - val_loss: 3.8496 - val_acc: 0.3717 - lr: 0.0100\n",
            "Epoch 78/160\n",
            "41/41 - 3s - loss: 0.6051 - acc: 0.9579 - val_loss: 3.4902 - val_acc: 0.3822 - lr: 0.0100\n",
            "Epoch 79/160\n",
            "41/41 - 3s - loss: 0.6047 - acc: 0.9577 - val_loss: 3.5854 - val_acc: 0.3839 - lr: 0.0100\n",
            "Epoch 80/160\n",
            "41/41 - 3s - loss: 0.5798 - acc: 0.9689 - val_loss: 3.4430 - val_acc: 0.3892 - lr: 0.0100\n",
            "Epoch 81/160\n",
            "41/41 - 3s - loss: 0.6768 - acc: 0.9272 - val_loss: 3.5641 - val_acc: 0.3839 - lr: 0.0010\n",
            "Epoch 82/160\n",
            "41/41 - 3s - loss: 0.5169 - acc: 0.9936 - val_loss: 3.4699 - val_acc: 0.3752 - lr: 0.0010\n",
            "Epoch 83/160\n",
            "41/41 - 3s - loss: 0.5039 - acc: 0.9969 - val_loss: 3.5378 - val_acc: 0.3752 - lr: 0.0010\n",
            "Epoch 84/160\n",
            "41/41 - 3s - loss: 0.4982 - acc: 0.9986 - val_loss: 3.6088 - val_acc: 0.3735 - lr: 0.0010\n",
            "Epoch 85/160\n",
            "41/41 - 3s - loss: 0.4960 - acc: 0.9977 - val_loss: 3.5655 - val_acc: 0.3735 - lr: 0.0010\n",
            "Epoch 86/160\n",
            "41/41 - 3s - loss: 0.4919 - acc: 0.9988 - val_loss: 3.6482 - val_acc: 0.3630 - lr: 0.0010\n",
            "Epoch 87/160\n",
            "41/41 - 3s - loss: 0.4911 - acc: 0.9992 - val_loss: 3.6017 - val_acc: 0.3665 - lr: 0.0010\n",
            "Epoch 88/160\n",
            "41/41 - 3s - loss: 0.4890 - acc: 0.9994 - val_loss: 3.7442 - val_acc: 0.3700 - lr: 0.0010\n",
            "Epoch 89/160\n",
            "41/41 - 3s - loss: 0.4865 - acc: 1.0000 - val_loss: 3.7362 - val_acc: 0.3647 - lr: 0.0010\n",
            "Epoch 90/160\n",
            "41/41 - 3s - loss: 0.4872 - acc: 0.9988 - val_loss: 3.7255 - val_acc: 0.3647 - lr: 0.0010\n",
            "Epoch 91/160\n",
            "41/41 - 3s - loss: 0.4854 - acc: 1.0000 - val_loss: 3.6636 - val_acc: 0.3700 - lr: 0.0010\n",
            "Epoch 92/160\n",
            "41/41 - 3s - loss: 0.4834 - acc: 1.0000 - val_loss: 3.7292 - val_acc: 0.3735 - lr: 0.0010\n",
            "Epoch 93/160\n",
            "41/41 - 3s - loss: 0.4842 - acc: 0.9996 - val_loss: 3.6859 - val_acc: 0.3717 - lr: 0.0010\n",
            "Epoch 94/160\n",
            "41/41 - 3s - loss: 0.4829 - acc: 0.9996 - val_loss: 3.7658 - val_acc: 0.3630 - lr: 0.0010\n",
            "Epoch 95/160\n",
            "41/41 - 3s - loss: 0.4817 - acc: 1.0000 - val_loss: 3.7771 - val_acc: 0.3682 - lr: 0.0010\n",
            "Epoch 96/160\n",
            "41/41 - 3s - loss: 0.4813 - acc: 0.9998 - val_loss: 3.8171 - val_acc: 0.3700 - lr: 0.0010\n",
            "Epoch 97/160\n",
            "41/41 - 3s - loss: 0.4805 - acc: 0.9998 - val_loss: 3.8809 - val_acc: 0.3595 - lr: 0.0010\n",
            "Epoch 98/160\n",
            "41/41 - 3s - loss: 0.4802 - acc: 0.9996 - val_loss: 3.7650 - val_acc: 0.3647 - lr: 0.0010\n",
            "Epoch 99/160\n",
            "41/41 - 3s - loss: 0.4795 - acc: 0.9998 - val_loss: 3.7532 - val_acc: 0.3665 - lr: 0.0010\n",
            "Epoch 100/160\n",
            "41/41 - 3s - loss: 0.4784 - acc: 1.0000 - val_loss: 3.8495 - val_acc: 0.3682 - lr: 0.0010\n",
            "Epoch 101/160\n",
            "41/41 - 3s - loss: 0.4784 - acc: 0.9996 - val_loss: 3.8495 - val_acc: 0.3647 - lr: 0.0010\n",
            "Epoch 102/160\n",
            "41/41 - 3s - loss: 0.4776 - acc: 1.0000 - val_loss: 3.7642 - val_acc: 0.3700 - lr: 0.0010\n",
            "Epoch 103/160\n",
            "41/41 - 3s - loss: 0.4770 - acc: 0.9998 - val_loss: 3.7573 - val_acc: 0.3735 - lr: 0.0010\n",
            "Epoch 104/160\n",
            "41/41 - 3s - loss: 0.4763 - acc: 1.0000 - val_loss: 3.7511 - val_acc: 0.3665 - lr: 0.0010\n",
            "Epoch 105/160\n",
            "41/41 - 3s - loss: 0.4757 - acc: 1.0000 - val_loss: 3.7449 - val_acc: 0.3717 - lr: 0.0010\n",
            "Epoch 106/160\n",
            "41/41 - 3s - loss: 0.4752 - acc: 1.0000 - val_loss: 3.7184 - val_acc: 0.3682 - lr: 0.0010\n",
            "Epoch 107/160\n",
            "41/41 - 3s - loss: 0.4748 - acc: 0.9998 - val_loss: 3.7920 - val_acc: 0.3805 - lr: 0.0010\n",
            "Epoch 108/160\n",
            "41/41 - 3s - loss: 0.4738 - acc: 1.0000 - val_loss: 3.8002 - val_acc: 0.3700 - lr: 0.0010\n",
            "Epoch 109/160\n",
            "41/41 - 3s - loss: 0.4738 - acc: 0.9998 - val_loss: 3.7521 - val_acc: 0.3682 - lr: 0.0010\n",
            "Epoch 110/160\n",
            "41/41 - 3s - loss: 0.4733 - acc: 1.0000 - val_loss: 3.9049 - val_acc: 0.3717 - lr: 0.0010\n",
            "Epoch 111/160\n",
            "41/41 - 3s - loss: 0.4726 - acc: 1.0000 - val_loss: 3.7991 - val_acc: 0.3700 - lr: 0.0010\n",
            "Epoch 112/160\n",
            "41/41 - 3s - loss: 0.4722 - acc: 1.0000 - val_loss: 3.7521 - val_acc: 0.3822 - lr: 0.0010\n",
            "Epoch 113/160\n",
            "41/41 - 3s - loss: 0.4716 - acc: 1.0000 - val_loss: 3.8587 - val_acc: 0.3717 - lr: 0.0010\n",
            "Epoch 114/160\n",
            "41/41 - 3s - loss: 0.4711 - acc: 1.0000 - val_loss: 3.8409 - val_acc: 0.3682 - lr: 0.0010\n",
            "Epoch 115/160\n",
            "41/41 - 3s - loss: 0.4705 - acc: 1.0000 - val_loss: 3.8444 - val_acc: 0.3735 - lr: 0.0010\n",
            "Epoch 116/160\n",
            "41/41 - 3s - loss: 0.4698 - acc: 1.0000 - val_loss: 3.7714 - val_acc: 0.3874 - lr: 0.0010\n",
            "Epoch 117/160\n",
            "41/41 - 3s - loss: 0.4699 - acc: 1.0000 - val_loss: 3.7384 - val_acc: 0.3665 - lr: 0.0010\n",
            "Epoch 118/160\n",
            "41/41 - 3s - loss: 0.4693 - acc: 1.0000 - val_loss: 3.7715 - val_acc: 0.3752 - lr: 0.0010\n",
            "Epoch 119/160\n",
            "41/41 - 3s - loss: 0.4689 - acc: 0.9998 - val_loss: 3.8032 - val_acc: 0.3770 - lr: 0.0010\n",
            "Epoch 120/160\n",
            "41/41 - 3s - loss: 0.4680 - acc: 1.0000 - val_loss: 3.7920 - val_acc: 0.3735 - lr: 0.0010\n",
            "Epoch 121/160\n",
            "41/41 - 3s - loss: 0.4685 - acc: 0.9998 - val_loss: 3.7603 - val_acc: 0.3665 - lr: 1.0000e-04\n",
            "Epoch 122/160\n",
            "41/41 - 3s - loss: 0.4684 - acc: 1.0000 - val_loss: 3.7793 - val_acc: 0.3805 - lr: 1.0000e-04\n",
            "Epoch 123/160\n",
            "41/41 - 3s - loss: 0.4678 - acc: 1.0000 - val_loss: 3.7411 - val_acc: 0.3647 - lr: 1.0000e-04\n",
            "Epoch 124/160\n",
            "41/41 - 3s - loss: 0.4674 - acc: 1.0000 - val_loss: 3.8078 - val_acc: 0.3682 - lr: 1.0000e-04\n",
            "Epoch 125/160\n",
            "41/41 - 3s - loss: 0.4678 - acc: 0.9998 - val_loss: 3.9634 - val_acc: 0.3752 - lr: 1.0000e-04\n",
            "Epoch 126/160\n",
            "41/41 - 3s - loss: 0.4674 - acc: 1.0000 - val_loss: 3.8327 - val_acc: 0.3717 - lr: 1.0000e-04\n",
            "Epoch 127/160\n",
            "41/41 - 3s - loss: 0.4672 - acc: 1.0000 - val_loss: 3.8492 - val_acc: 0.3752 - lr: 1.0000e-04\n",
            "Epoch 128/160\n",
            "41/41 - 3s - loss: 0.4672 - acc: 1.0000 - val_loss: 3.8926 - val_acc: 0.3647 - lr: 1.0000e-04\n",
            "Epoch 129/160\n",
            "41/41 - 3s - loss: 0.4673 - acc: 1.0000 - val_loss: 3.7861 - val_acc: 0.3752 - lr: 1.0000e-04\n",
            "Epoch 130/160\n",
            "41/41 - 3s - loss: 0.4675 - acc: 1.0000 - val_loss: 3.9659 - val_acc: 0.3647 - lr: 1.0000e-04\n",
            "Epoch 131/160\n",
            "41/41 - 3s - loss: 0.4677 - acc: 1.0000 - val_loss: 3.7782 - val_acc: 0.3700 - lr: 1.0000e-04\n",
            "Epoch 132/160\n",
            "41/41 - 3s - loss: 0.4676 - acc: 0.9998 - val_loss: 3.8822 - val_acc: 0.3735 - lr: 1.0000e-04\n",
            "Epoch 133/160\n",
            "41/41 - 3s - loss: 0.4678 - acc: 0.9998 - val_loss: 3.9598 - val_acc: 0.3717 - lr: 1.0000e-04\n",
            "Epoch 134/160\n",
            "41/41 - 3s - loss: 0.4675 - acc: 1.0000 - val_loss: 3.9070 - val_acc: 0.3665 - lr: 1.0000e-04\n",
            "Epoch 135/160\n",
            "41/41 - 3s - loss: 0.4671 - acc: 1.0000 - val_loss: 3.8323 - val_acc: 0.3787 - lr: 1.0000e-04\n",
            "Epoch 136/160\n",
            "41/41 - 3s - loss: 0.4674 - acc: 1.0000 - val_loss: 3.8449 - val_acc: 0.3752 - lr: 1.0000e-04\n",
            "Epoch 137/160\n",
            "41/41 - 3s - loss: 0.4673 - acc: 1.0000 - val_loss: 3.8745 - val_acc: 0.3735 - lr: 1.0000e-04\n",
            "Epoch 138/160\n",
            "41/41 - 3s - loss: 0.4671 - acc: 0.9998 - val_loss: 3.8091 - val_acc: 0.3700 - lr: 1.0000e-04\n",
            "Epoch 139/160\n",
            "41/41 - 3s - loss: 0.4672 - acc: 0.9996 - val_loss: 3.7978 - val_acc: 0.3752 - lr: 1.0000e-04\n",
            "Epoch 140/160\n",
            "41/41 - 3s - loss: 0.4670 - acc: 0.9998 - val_loss: 3.8535 - val_acc: 0.3613 - lr: 1.0000e-04\n",
            "Epoch 141/160\n",
            "41/41 - 3s - loss: 0.4667 - acc: 1.0000 - val_loss: 3.8456 - val_acc: 0.3700 - lr: 1.0000e-04\n",
            "Epoch 142/160\n",
            "41/41 - 3s - loss: 0.4669 - acc: 1.0000 - val_loss: 3.8968 - val_acc: 0.3700 - lr: 1.0000e-04\n",
            "Epoch 143/160\n",
            "41/41 - 3s - loss: 0.4667 - acc: 1.0000 - val_loss: 3.7506 - val_acc: 0.3752 - lr: 1.0000e-04\n",
            "Epoch 144/160\n",
            "41/41 - 3s - loss: 0.4663 - acc: 1.0000 - val_loss: 3.9069 - val_acc: 0.3700 - lr: 1.0000e-04\n",
            "Epoch 145/160\n",
            "41/41 - 3s - loss: 0.4668 - acc: 1.0000 - val_loss: 3.8664 - val_acc: 0.3700 - lr: 1.0000e-04\n",
            "Epoch 146/160\n",
            "41/41 - 3s - loss: 0.4668 - acc: 1.0000 - val_loss: 3.7685 - val_acc: 0.3735 - lr: 1.0000e-04\n",
            "Epoch 147/160\n",
            "41/41 - 3s - loss: 0.4668 - acc: 0.9998 - val_loss: 3.7748 - val_acc: 0.3787 - lr: 1.0000e-04\n",
            "Epoch 148/160\n",
            "41/41 - 3s - loss: 0.4665 - acc: 1.0000 - val_loss: 3.7420 - val_acc: 0.3822 - lr: 1.0000e-04\n",
            "Epoch 149/160\n",
            "41/41 - 3s - loss: 0.4666 - acc: 1.0000 - val_loss: 3.8572 - val_acc: 0.3717 - lr: 1.0000e-04\n",
            "Epoch 150/160\n",
            "41/41 - 3s - loss: 0.4667 - acc: 1.0000 - val_loss: 3.6273 - val_acc: 0.3770 - lr: 1.0000e-04\n",
            "Epoch 151/160\n",
            "41/41 - 3s - loss: 0.4665 - acc: 1.0000 - val_loss: 3.9428 - val_acc: 0.3613 - lr: 1.0000e-04\n",
            "Epoch 152/160\n",
            "41/41 - 3s - loss: 0.4665 - acc: 0.9998 - val_loss: 3.8938 - val_acc: 0.3700 - lr: 1.0000e-04\n",
            "Epoch 153/160\n",
            "41/41 - 3s - loss: 0.4661 - acc: 1.0000 - val_loss: 3.8163 - val_acc: 0.3700 - lr: 1.0000e-04\n",
            "Epoch 154/160\n",
            "41/41 - 3s - loss: 0.4660 - acc: 0.9998 - val_loss: 3.9369 - val_acc: 0.3717 - lr: 1.0000e-04\n",
            "Epoch 155/160\n",
            "41/41 - 3s - loss: 0.4664 - acc: 1.0000 - val_loss: 3.8841 - val_acc: 0.3682 - lr: 1.0000e-04\n",
            "Epoch 156/160\n",
            "41/41 - 3s - loss: 0.4666 - acc: 1.0000 - val_loss: 3.8086 - val_acc: 0.3700 - lr: 1.0000e-04\n",
            "Epoch 157/160\n",
            "41/41 - 3s - loss: 0.4663 - acc: 1.0000 - val_loss: 3.8699 - val_acc: 0.3682 - lr: 1.0000e-04\n",
            "Epoch 158/160\n",
            "41/41 - 3s - loss: 0.4659 - acc: 1.0000 - val_loss: 3.9375 - val_acc: 0.3647 - lr: 1.0000e-04\n",
            "Epoch 159/160\n",
            "41/41 - 3s - loss: 0.4659 - acc: 1.0000 - val_loss: 3.7039 - val_acc: 0.3630 - lr: 1.0000e-04\n",
            "Epoch 160/160\n",
            "41/41 - 3s - loss: 0.4662 - acc: 0.9998 - val_loss: 3.8207 - val_acc: 0.3682 - lr: 1.0000e-04\n",
            "Train Index:  [   0    1    2 ... 5719 5720 5721] \n",
            "\n",
            "Test Index:  [1146 1147 1148 1149 1150 1151 1152 1153 1154 1155 1156 1157 1158 1159\n",
            " 1160 1161 1162 1163 1164 1165 1166 1167 1168 1169 1170 1171 1172 1173\n",
            " 1174 1175 1176 1177 1178 1179 1180 1181 1182 1183 1184 1185 1186 1187\n",
            " 1188 1189 1190 1191 1192 1193 1194 1195 1196 1197 1198 1199 1200 1201\n",
            " 1202 1203 1204 1205 1206 1207 1208 1209 1210 1211 1212 1213 1214 1215\n",
            " 1216 1217 1218 1219 1220 1221 1222 1223 1224 1225 1226 1227 1228 1229\n",
            " 1230 1231 1232 1233 1234 1235 1236 1237 1238 1239 1240 1241 1242 1243\n",
            " 1244 1245 1246 1247 1248 1249 1250 1251 1252 1253 1254 1255 1256 1257\n",
            " 1258 1259 1260 1261 1262 1263 1264 1265 1266 1267 1268 1269 1270 1271\n",
            " 1272 1273 1274 1275 1276 1277 1278 1279 1280 1281 1282 1283 1284 1285\n",
            " 1286 1287 1288 1289 1290 1291 1292 1293 1294 1295 1296 1297 1298 1299\n",
            " 1300 1301 1302 1303 1304 1305 1306 1307 1308 1309 1310 1311 1312 1313\n",
            " 1314 1315 1316 1317 1318 1319 1320 1321 1322 1323 1324 1325 1326 1327\n",
            " 1328 1329 1330 1331 1332 1333 1334 1335 1336 1337 1338 1339 1340 1341\n",
            " 1342 1343 1344 1345 1346 1347 1348 1349 1350 1351 1352 1353 1354 1355\n",
            " 1356 1357 1358 1359 1360 1361 1362 1363 1364 1365 1366 1367 1368 1369\n",
            " 1370 1371 1372 1373 1374 1375 1376 1377 1378 1379 1380 1381 1382 1383\n",
            " 1384 1385 1386 1387 1388 1389 1390 1391 1392 1393 1394 1395 1396 1397\n",
            " 1398 1399 1400 1401 1402 1403 1404 1405 1406 1407 1408 1409 1410 1411\n",
            " 1412 1413 1414 1415 1416 1417 1418 1419 1420 1421 1422 1423 1424 1425\n",
            " 1426 1427 1428 1429 1430 1431 1432 1433 1434 1435 1436 1437 1438 1439\n",
            " 1440 1441 1442 1443 1444 1445 1446 1447 1448 1449 1450 1451 1452 1453\n",
            " 1454 1455 1456 1457 1458 1459 1460 1461 1462 1463 1464 1465 1466 1467\n",
            " 1468 1469 1470 1471 1472 1473 1474 1475 1476 1477 1478 1479 1480 1481\n",
            " 1482 1483 1484 1485 1486 1487 1488 1489 1490 1491 1492 1493 1494 1495\n",
            " 1496 1497 1498 1499 1500 1501 1502 1503 1504 1505 1506 1507 1508 1509\n",
            " 1510 1511 1512 1513 1514 1515 1516 1517 1518 1519 1520 1521 1522 1523\n",
            " 1524 1525 1526 1527 1528 1529 1530 1531 1532 1533 1534 1535 1536 1537\n",
            " 1538 1539 1540 1541 1542 1543 1544 1545 1546 1547 1548 1549 1550 1551\n",
            " 1552 1553 1554 1555 1556 1557 1558 1559 1560 1561 1562 1563 1564 1565\n",
            " 1566 1567 1568 1569 1570 1571 1572 1573 1574 1575 1576 1577 1578 1579\n",
            " 1580 1581 1582 1583 1584 1585 1586 1587 1588 1589 1590 1591 1592 1593\n",
            " 1594 1595 1596 1597 1598 1599 1600 1601 1602 1603 1604 1605 1606 1607\n",
            " 1608 1609 1610 1611 1612 1613 1614 1615 1616 1617 1618 1619 1620 1621\n",
            " 1622 1623 1624 1625 1626 1627 1628 1629 1630 1631 1632 1633 1634 1635\n",
            " 1636 1637 1638 1639 1640 1641 1642 1643 1644 1645 1646 1647 1648 1649\n",
            " 1650 1651 1652 1653 1654 1655 1656 1657 1658 1659 1660 1661 1662 1663\n",
            " 1664 1665 1666 1667 1668 1669 1670 1671 1672 1673 1674 1675 1676 1677\n",
            " 1678 1679 1680 1681 1682 1683 1684 1685 1686 1687 1688 1689 1690 1691\n",
            " 1692 1693 1694 1695 1696 1697 1698 1699 1700 1701 1702 1703 1704 1705\n",
            " 1706 1707 1708 1709 1710 1711 1712 1713 1714 1715 1716 1717]\n",
            "Epoch 1/160\n",
            "41/41 - 3s - loss: 1.0670 - acc: 0.8223 - val_loss: 1.3841 - val_acc: 0.6608 - lr: 0.0100\n",
            "Epoch 2/160\n",
            "41/41 - 3s - loss: 0.7727 - acc: 0.8917 - val_loss: 1.5464 - val_acc: 0.6329 - lr: 0.0100\n",
            "Epoch 3/160\n",
            "41/41 - 3s - loss: 0.6913 - acc: 0.9243 - val_loss: 1.2595 - val_acc: 0.6923 - lr: 0.0100\n",
            "Epoch 4/160\n",
            "41/41 - 3s - loss: 0.6426 - acc: 0.9340 - val_loss: 2.0192 - val_acc: 0.5035 - lr: 0.0100\n",
            "Epoch 5/160\n",
            "41/41 - 3s - loss: 0.6280 - acc: 0.9419 - val_loss: 1.4796 - val_acc: 0.6259 - lr: 0.0100\n",
            "Epoch 6/160\n",
            "41/41 - 3s - loss: 0.5647 - acc: 0.9678 - val_loss: 1.5178 - val_acc: 0.6049 - lr: 0.0100\n",
            "Epoch 7/160\n",
            "41/41 - 3s - loss: 0.5380 - acc: 0.9784 - val_loss: 1.6497 - val_acc: 0.5682 - lr: 0.0100\n",
            "Epoch 8/160\n",
            "41/41 - 3s - loss: 0.5505 - acc: 0.9678 - val_loss: 1.4533 - val_acc: 0.6434 - lr: 0.0100\n",
            "Epoch 9/160\n",
            "41/41 - 3s - loss: 0.5356 - acc: 0.9753 - val_loss: 1.4916 - val_acc: 0.6084 - lr: 0.0100\n",
            "Epoch 10/160\n",
            "41/41 - 3s - loss: 0.5154 - acc: 0.9821 - val_loss: 1.4293 - val_acc: 0.6783 - lr: 0.0100\n",
            "Epoch 11/160\n",
            "41/41 - 3s - loss: 0.4910 - acc: 0.9901 - val_loss: 2.1374 - val_acc: 0.4878 - lr: 0.0100\n",
            "Epoch 12/160\n",
            "41/41 - 3s - loss: 0.4768 - acc: 0.9934 - val_loss: 1.9879 - val_acc: 0.5052 - lr: 0.0100\n",
            "Epoch 13/160\n",
            "41/41 - 3s - loss: 0.4650 - acc: 0.9955 - val_loss: 1.3901 - val_acc: 0.6888 - lr: 0.0100\n",
            "Epoch 14/160\n",
            "41/41 - 3s - loss: 0.4538 - acc: 0.9979 - val_loss: 1.7306 - val_acc: 0.5699 - lr: 0.0100\n",
            "Epoch 15/160\n",
            "41/41 - 3s - loss: 0.4508 - acc: 0.9967 - val_loss: 1.4136 - val_acc: 0.6906 - lr: 0.0100\n",
            "Epoch 16/160\n",
            "41/41 - 3s - loss: 0.4519 - acc: 0.9965 - val_loss: 1.9175 - val_acc: 0.5857 - lr: 0.0100\n",
            "Epoch 17/160\n",
            "41/41 - 3s - loss: 0.4405 - acc: 0.9984 - val_loss: 1.7090 - val_acc: 0.6171 - lr: 0.0100\n",
            "Epoch 18/160\n",
            "41/41 - 3s - loss: 0.4410 - acc: 0.9967 - val_loss: 1.5900 - val_acc: 0.5979 - lr: 0.0100\n",
            "Epoch 19/160\n",
            "41/41 - 3s - loss: 0.4290 - acc: 0.9994 - val_loss: 2.0567 - val_acc: 0.5315 - lr: 0.0100\n",
            "Epoch 20/160\n",
            "41/41 - 3s - loss: 0.4232 - acc: 0.9994 - val_loss: 1.8978 - val_acc: 0.5629 - lr: 0.0100\n",
            "Epoch 21/160\n",
            "41/41 - 3s - loss: 0.4183 - acc: 0.9998 - val_loss: 1.8336 - val_acc: 0.5857 - lr: 0.0100\n",
            "Epoch 22/160\n"
          ],
          "name": "stdout"
        }
      ]
    },
    {
      "cell_type": "code",
      "metadata": {
        "id": "JVs_QNHoEKji",
        "colab_type": "code",
        "colab": {}
      },
      "source": [
        "\n",
        " hist = wrn28_10.fit(X_train, y_train_cat, \n",
        "                        batch_size=BS, epochs=EPOCHS, verbose=2,\n",
        "                        validation_split = 0.25,\n",
        "                         shuffle=False, callbacks=[lr_scheduler])"
      ],
      "execution_count": 0,
      "outputs": []
    },
    {
      "cell_type": "code",
      "metadata": {
        "id": "N7UNUagAV373",
        "colab_type": "code",
        "colab": {}
      },
      "source": [
        "\"\"\" New model\"\"\"\n",
        "\n",
        "EPOCHS_120 = 120\n",
        "wrn16_4 = create_wide_residual_network(init, nb_classes=4, N=2, k=2, dropout = 0.0, verbose=1)\n",
        "  \n",
        "hist2 = wrn16_4.fit(X_train, y_train_cat, \n",
        "                        batch_size=BS, epochs=EPOCHS, verbose=1,\n",
        "                        validation_data=(X_test,y_test_cat), shuffle=True, callbacks=[lr_scheduler])"
      ],
      "execution_count": 0,
      "outputs": []
    },
    {
      "cell_type": "code",
      "metadata": {
        "id": "NdrFWGzfV35Y",
        "colab_type": "code",
        "colab": {}
      },
      "source": [
        ""
      ],
      "execution_count": 0,
      "outputs": []
    },
    {
      "cell_type": "code",
      "metadata": {
        "id": "UUmbja_jwwnR",
        "colab_type": "code",
        "colab": {}
      },
      "source": [
        "#hist = wrn28_10.fit(X_train, to_categorical(y_train_df['New']), validation_split=0.33, epochs=EPOCHS, batch_size=BS, verbose=2)"
      ],
      "execution_count": 0,
      "outputs": []
    },
    {
      "cell_type": "code",
      "metadata": {
        "id": "E4SrDGNyOAB3",
        "colab_type": "code",
        "colab": {}
      },
      "source": [
        "# construct the training image generator for data augmentation\n",
        "aug = ImageDataGenerator(rotation_range=20, zoom_range=0.15,\n",
        "width_shift_range=0.2, height_shift_range=0.2, shear_range=0.15,\n",
        "horizontal_flip=True, fill_mode=\"nearest\")"
      ],
      "execution_count": 0,
      "outputs": []
    },
    {
      "cell_type": "code",
      "metadata": {
        "id": "lNyErPGJOFml",
        "colab_type": "code",
        "colab": {}
      },
      "source": [
        "hist_1 = wrn28_10.fit_generator(aug.flow(X_train, y_train, batch_size=BS),validation_data=(X_test, y_test),callbacks =[lr_scheduler],verbose=1, epochs=EPOCHS)"
      ],
      "execution_count": 0,
      "outputs": []
    },
    {
      "cell_type": "code",
      "metadata": {
        "id": "xI39Sx-kYyUx",
        "colab_type": "code",
        "colab": {}
      },
      "source": [
        "wrn28_10.save(\"model_last.h5\")"
      ],
      "execution_count": 0,
      "outputs": []
    },
    {
      "cell_type": "code",
      "metadata": {
        "id": "5Paxp_UhrduV",
        "colab_type": "code",
        "colab": {}
      },
      "source": [
        "img = X_train[8]\n",
        "img.shape"
      ],
      "execution_count": 0,
      "outputs": []
    },
    {
      "cell_type": "code",
      "metadata": {
        "id": "AO-_q-QUsn-T",
        "colab_type": "code",
        "colab": {}
      },
      "source": [
        "y_train[8]"
      ],
      "execution_count": 0,
      "outputs": []
    },
    {
      "cell_type": "code",
      "metadata": {
        "id": "SIs_x5kasn9K",
        "colab_type": "code",
        "colab": {}
      },
      "source": [
        "np.argmax(wrn28_10(image))"
      ],
      "execution_count": 0,
      "outputs": []
    },
    {
      "cell_type": "code",
      "metadata": {
        "id": "FFw-Cjamdsi8",
        "colab_type": "code",
        "colab": {}
      },
      "source": [
        "y_train_df['Label'])"
      ],
      "execution_count": 0,
      "outputs": []
    },
    {
      "cell_type": "code",
      "metadata": {
        "id": "05uG_KVUd5vv",
        "colab_type": "code",
        "colab": {}
      },
      "source": [
        ""
      ],
      "execution_count": 0,
      "outputs": []
    },
    {
      "cell_type": "code",
      "metadata": {
        "id": "34o55oPUdsgq",
        "colab_type": "code",
        "colab": {}
      },
      "source": [
        ""
      ],
      "execution_count": 0,
      "outputs": []
    },
    {
      "cell_type": "code",
      "metadata": {
        "id": "SnGwju3tsP6f",
        "colab_type": "code",
        "colab": {}
      },
      "source": [
        "def preprocess(image):\n",
        "  image = tf.cast(image, tf.float32)\n",
        "  image = tf.image.resize(image, (68, 100))\n",
        "  image = tf.keras.applications.mobilenet_v2.preprocess_input(image)\n",
        "  image = image[None, ...]\n",
        "  return image\n",
        "\n",
        "# Helper function to extract labels from probability vector"
      ],
      "execution_count": 0,
      "outputs": []
    },
    {
      "cell_type": "code",
      "metadata": {
        "id": "eIB3X0K0sK9g",
        "colab_type": "code",
        "colab": {}
      },
      "source": [
        "import tensorflow as tf\n",
        "image = tf.convert_to_tensor(img)\n",
        "image = preprocess(image)\n",
        "image.shape"
      ],
      "execution_count": 0,
      "outputs": []
    },
    {
      "cell_type": "code",
      "metadata": {
        "id": "G7SaMPbmsZdE",
        "colab_type": "code",
        "colab": {}
      },
      "source": [
        "probs = wrn28_10.predict(image,batch_size=None,steps=1)\n",
        "\n",
        "label = tf.one_hot(2, probs.shape[-1])\n",
        "label = tf.reshape(label, (1, probs.shape[-1]))\n",
        "label"
      ],
      "execution_count": 0,
      "outputs": []
    },
    {
      "cell_type": "code",
      "metadata": {
        "id": "LUX_CF5CsZbo",
        "colab_type": "code",
        "colab": {}
      },
      "source": [
        "probs"
      ],
      "execution_count": 0,
      "outputs": []
    },
    {
      "cell_type": "code",
      "metadata": {
        "id": "zHgf-nCnvvBu",
        "colab_type": "code",
        "colab": {}
      },
      "source": [
        "wrn28_10(image)"
      ],
      "execution_count": 0,
      "outputs": []
    },
    {
      "cell_type": "code",
      "metadata": {
        "id": "M_tkKMXgv2X0",
        "colab_type": "code",
        "colab": {}
      },
      "source": [
        "np.argmax(probs)"
      ],
      "execution_count": 0,
      "outputs": []
    },
    {
      "cell_type": "code",
      "metadata": {
        "id": "lr_quzDGwKGM",
        "colab_type": "code",
        "colab": {}
      },
      "source": [
        "import matplotlib.pyplot as plt\n",
        "\n",
        "history = hist_1\n",
        "print(history.history.keys())\n",
        "# summarize history for accuracy\n",
        "plt.plot(history.history['acc'])\n",
        "plt.plot(history.history['val_acc'])\n",
        "plt.title('model accuracy')\n",
        "plt.ylabel('accuracy')\n",
        "plt.xlabel('epoch')\n",
        "plt.legend(['train', 'test'], loc='upper left')\n",
        "plt.show()\n",
        "# summarize history for loss\n",
        "plt.plot(history.history['loss'])\n",
        "plt.plot(history.history['val_loss'])\n",
        "plt.title('model loss')\n",
        "plt.ylabel('loss')\n",
        "plt.xlabel('epoch')\n",
        "plt.legend(['train', 'test'], loc='upper left')\n",
        "plt.show()"
      ],
      "execution_count": 0,
      "outputs": []
    },
    {
      "cell_type": "code",
      "metadata": {
        "id": "mAoD2fTdwyf5",
        "colab_type": "code",
        "colab": {}
      },
      "source": [
        "model = wrn28_10"
      ],
      "execution_count": 0,
      "outputs": []
    },
    {
      "cell_type": "code",
      "metadata": {
        "id": "CWzbk6bgxIw5",
        "colab_type": "code",
        "colab": {}
      },
      "source": [
        "!pip install -q tensorflow==2.0.0b1\n",
        "# Install bleeding edge version of cleverhans\n",
        "!pip install git+https://github.com/tensorflow/cleverhans.git#egg=cleverhans\n",
        "\n",
        "import cleverhans\n",
        "import tensorflow as tf\n",
        "import numpy as np\n",
        "import matplotlib.pyplot as plt\n",
        "\n",
        "print(\"\\nTensorflow Version: \" + tf.__version__)\n",
        "print(\"Cleverhans Version: \" + cleverhans.__version__)\n",
        "print(\"GPU Available: \", tf.test.is_gpu_available())"
      ],
      "execution_count": 0,
      "outputs": []
    },
    {
      "cell_type": "code",
      "metadata": {
        "id": "YtQtt8aiw8zr",
        "colab_type": "code",
        "colab": {}
      },
      "source": [
        "# Import the attack\n",
        "from cleverhans.future.tf2.attacks import fast_gradient_method\n",
        "\n",
        "#The attack requires the model to ouput the logits\n",
        "logits_model = tf.keras.Model(model.input,model.layers[-1].output)"
      ],
      "execution_count": 0,
      "outputs": []
    },
    {
      "cell_type": "code",
      "metadata": {
        "id": "irGjBxSNw8yw",
        "colab_type": "code",
        "colab": {}
      },
      "source": [
        "epsilon = 0.05\n",
        "\n",
        "adv_example_untargeted_label = fast_gradient_method(logits_model, image, epsilon, np.inf, targeted=False)\n",
        "\n",
        "adv_example_untargeted_label_pred = model.predict(adv_example_untargeted_label)"
      ],
      "execution_count": 0,
      "outputs": []
    },
    {
      "cell_type": "code",
      "metadata": {
        "id": "fuWVMjA9x9-w",
        "colab_type": "code",
        "colab": {}
      },
      "source": [
        "np.argmax(adv_example_untargeted_label_pred)"
      ],
      "execution_count": 0,
      "outputs": []
    },
    {
      "cell_type": "code",
      "metadata": {
        "id": "iE16jXuZw8xb",
        "colab_type": "code",
        "colab": {}
      },
      "source": [
        ""
      ],
      "execution_count": 0,
      "outputs": []
    }
  ]
}