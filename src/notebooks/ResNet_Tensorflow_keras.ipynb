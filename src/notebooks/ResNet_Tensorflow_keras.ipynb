{
  "nbformat": 4,
  "nbformat_minor": 0,
  "metadata": {
    "colab": {
      "name": "ResNet_Tensorflow_keras.ipynb",
      "provenance": [],
      "toc_visible": true,
      "include_colab_link": true
    },
    "kernelspec": {
      "name": "python3",
      "display_name": "Python 3"
    },
    "accelerator": "GPU"
  },
  "cells": [
    {
      "cell_type": "markdown",
      "metadata": {
        "id": "view-in-github",
        "colab_type": "text"
      },
      "source": [
        "<a href=\"https://colab.research.google.com/github/sefeoglu/AE_Parseval_Network/blob/master/src/notebooks/ResNet_Tensorflow_keras.ipynb\" target=\"_parent\"><img src=\"https://colab.research.google.com/assets/colab-badge.svg\" alt=\"Open In Colab\"/></a>"
      ]
    },
    {
      "cell_type": "markdown",
      "metadata": {
        "id": "cczYDRrfFlDx",
        "colab_type": "text"
      },
      "source": [
        "# Wide ResNet 16_2"
      ]
    },
    {
      "cell_type": "code",
      "metadata": {
        "id": "HWvd9YADGtMS",
        "colab_type": "code",
        "colab": {}
      },
      "source": [
        "import tensorflow as tf"
      ],
      "execution_count": 0,
      "outputs": []
    },
    {
      "cell_type": "markdown",
      "metadata": {
        "id": "8aqbIFJTwXLH",
        "colab_type": "text"
      },
      "source": [
        "# Model"
      ]
    },
    {
      "cell_type": "code",
      "metadata": {
        "id": "QRdSMgRjG8ex",
        "colab_type": "code",
        "outputId": "01866fb9-604a-447c-e70b-b49f94854cca",
        "colab": {
          "base_uri": "https://localhost:8080/",
          "height": 1000
        }
      },
      "source": [
        "from tensorflow.keras.models import Model\n",
        "from tensorflow.keras.layers import Input, Add, Activation, Dropout, Flatten, Dense\n",
        "from tensorflow.keras.layers import Convolution2D, MaxPooling2D, AveragePooling2D\n",
        "from tensorflow.keras.layers import BatchNormalization\n",
        "from tensorflow.keras.regularizers import l2\n",
        "from tensorflow.keras import backend as K\n",
        "import warnings\n",
        "\n",
        "warnings.filterwarnings(\"ignore\")\n",
        "weight_decay = 0.0005\n",
        "\n",
        "\n",
        "def initial_conv(input):\n",
        "  \n",
        "    x = Convolution2D(16, (3, 3), padding='same', kernel_initializer='he_normal',\n",
        "                      kernel_regularizer=l2(weight_decay),\n",
        "                      use_bias=False)(input)\n",
        "\n",
        "    channel_axis = 1 if K.image_data_format() == \"channels_first\" else -1\n",
        "\n",
        "    x = BatchNormalization(axis=channel_axis, momentum=0.1, epsilon=1e-5, gamma_initializer='uniform')(x)\n",
        "    x = Activation('relu')(x)\n",
        "    return x\n",
        "\n",
        "\n",
        "def expand_conv(init, base, k, strides=(1, 1)):\n",
        "    x = Convolution2D(base * k, (3, 3), padding='same', strides=strides, kernel_initializer='he_normal', kernel_regularizer=l2(weight_decay),\n",
        "                      use_bias=False)(init)\n",
        "\n",
        "    channel_axis = 1 if K.image_data_format() == \"channels_first\" else -1\n",
        "\n",
        "    x = BatchNormalization(axis=channel_axis, momentum=0.1, epsilon=1e-5, gamma_initializer='uniform')(x)\n",
        "    x = Activation('relu')(x)\n",
        "\n",
        "    x = Convolution2D(base * k, (3, 3), padding='same', kernel_initializer='he_normal',\n",
        "                      kernel_regularizer=l2(weight_decay),\n",
        "                      use_bias=False)(x)\n",
        "\n",
        "    skip = Convolution2D(base * k, (1, 1), padding='same', strides=strides, kernel_initializer='he_normal',\n",
        "                      kernel_regularizer=l2(weight_decay),\n",
        "                      use_bias=False)(init)\n",
        "\n",
        "    m = Add()([x, skip])\n",
        "\n",
        "    return m\n",
        "\n",
        "\n",
        "def conv1_block(input, k=1, dropout=0.0):\n",
        "    init = input\n",
        "\n",
        "    channel_axis = 1 if K.image_data_format() == \"channels_first\" else -1\n",
        "\n",
        "    x = BatchNormalization(axis=channel_axis, momentum=0.1, epsilon=1e-5, gamma_initializer='uniform')(input)\n",
        "    x = Activation('relu')(x)\n",
        "    x = Convolution2D(16 * k, (3, 3), padding='same', kernel_initializer='he_normal',\n",
        "                      kernel_regularizer=l2(weight_decay),\n",
        "                      use_bias=False)(x)\n",
        "\n",
        "    if dropout > 0.0: x = Dropout(dropout)(x)\n",
        "\n",
        "    x = BatchNormalization(axis=channel_axis, momentum=0.1, epsilon=1e-5, gamma_initializer='uniform')(x)\n",
        "    x = Activation('relu')(x)\n",
        "    x = Convolution2D(16 * k, (3, 3), padding='same', kernel_initializer='he_normal',\n",
        "                      kernel_regularizer=l2(weight_decay),\n",
        "                      use_bias=False)(x)\n",
        "\n",
        "    m = Add()([init, x])\n",
        "    return m\n",
        "\n",
        "def conv2_block(input, k=1, dropout=0.0):\n",
        "    init = input\n",
        "\n",
        "    channel_axis = 1 if K.image_data_format() == \"channels_first\" else -1\n",
        "    print(\"conv2:channel:  {}\".format(channel_axis))\n",
        "    x = BatchNormalization(axis=channel_axis, momentum=0.1, epsilon=1e-5, gamma_initializer='uniform')(input)\n",
        "    x = Activation('relu')(x)\n",
        "    x = Convolution2D(32 * k, (3, 3), padding='same', kernel_initializer='he_normal',\n",
        "                      kernel_regularizer=l2(weight_decay),\n",
        "                      use_bias=False)(x)\n",
        "\n",
        "    if dropout > 0.0: x = Dropout(dropout)(x)\n",
        "\n",
        "    x = BatchNormalization(axis=channel_axis, momentum=0.1, epsilon=1e-5, gamma_initializer='uniform')(x)\n",
        "    x = Activation('relu')(x)\n",
        "    x = Convolution2D(32 * k, (3, 3), padding='same', kernel_initializer='he_normal',\n",
        "                      kernel_regularizer=l2(weight_decay),\n",
        "                      use_bias=False)(x)\n",
        "\n",
        "    m = Add()([init, x])\n",
        "    return m\n",
        "\n",
        "def conv3_block(input, k=1, dropout=0.0):\n",
        "    init = input\n",
        "\n",
        "    channel_axis = 1 if K.image_data_format() == \"channels_first\" else -1\n",
        "    print(\"conv3 channel_axis:{} \".format(channel_axis))\n",
        "    x = BatchNormalization(axis=channel_axis, momentum=0.1, epsilon=1e-5, gamma_initializer='uniform')(input)\n",
        "    x = Activation('relu')(x)\n",
        "    x = Convolution2D(64 * k, (3, 3), padding='same', kernel_initializer='he_normal',\n",
        "                      kernel_regularizer=l2(weight_decay),\n",
        "                      use_bias=False)(x)\n",
        "\n",
        "    if dropout > 0.0: x = Dropout(dropout)(x)\n",
        "\n",
        "    x = BatchNormalization(axis=channel_axis, momentum=0.1, epsilon=1e-5, gamma_initializer='uniform')(x)\n",
        "    x = Activation('relu')(x)\n",
        "    x = Convolution2D(64 * k, (3, 3), padding='same', kernel_initializer='he_normal',\n",
        "                      kernel_regularizer=l2(weight_decay),\n",
        "                      use_bias=False)(x)\n",
        "\n",
        "    m = Add()([init, x])\n",
        "    return m\n",
        "\n",
        "def create_wide_residual_network(input_dim, nb_classes=100, N=2, k=1, dropout=0.0, verbose=1):\n",
        "    \"\"\"\n",
        "    Creates a Wide Residual Network with specified parameters\n",
        "\n",
        "    :param input: Input Keras object\n",
        "    :param nb_classes: Number of output classes\n",
        "    :param N: Depth of the network. Compute N = (n - 4) / 6.\n",
        "              Example : For a depth of 16, n = 16, N = (16 - 4) / 6 = 2\n",
        "              Example2: For a depth of 28, n = 28, N = (28 - 4) / 6 = 4\n",
        "              Example3: For a depth of 40, n = 40, N = (40 - 4) / 6 = 6\n",
        "    :param k: Width of the network.\n",
        "    :param dropout: Adds dropout if value is greater than 0.0\n",
        "    :param verbose: Debug info to describe created WRN\n",
        "    :return:\n",
        "    \"\"\"\n",
        "    channel_axis = 1 if K.image_data_format() == \"channels_first\" else -1\n",
        "\n",
        "    ip = Input(shape=input_dim)\n",
        "\n",
        "    x = initial_conv(ip)\n",
        "    nb_conv = 4\n",
        "\n",
        "    x = expand_conv(x, 16, k)\n",
        "    nb_conv += 2\n",
        "\n",
        "    for i in range(N - 1):\n",
        "        x = conv1_block(x, k, dropout)\n",
        "        nb_conv += 2\n",
        "\n",
        "    x = BatchNormalization(axis=channel_axis, momentum=0.1, epsilon=1e-5, gamma_initializer='uniform')(x)\n",
        "    x = Activation('relu')(x)\n",
        "\n",
        "    x = expand_conv(x, 32, k, strides=(2, 2))\n",
        "    nb_conv += 2\n",
        "\n",
        "    for i in range(N - 1):\n",
        "        x = conv2_block(x, k, dropout)\n",
        "        nb_conv += 2\n",
        "\n",
        "    x = BatchNormalization(axis=channel_axis, momentum=0.1, epsilon=1e-5, gamma_initializer='uniform')(x)\n",
        "    x = Activation('relu')(x)\n",
        "\n",
        "    x = expand_conv(x, 64, k, strides=(2, 2))\n",
        "    nb_conv += 2\n",
        "\n",
        "    for i in range(N - 1):\n",
        "        x = conv3_block(x, k, dropout)\n",
        "        nb_conv += 2\n",
        "\n",
        "    x = BatchNormalization(axis=channel_axis, momentum=0.1, epsilon=1e-5, gamma_initializer='uniform')(x)\n",
        "    x = Activation('relu')(x)\n",
        "\n",
        "    x = AveragePooling2D((8, 8))(x)\n",
        "    x = Flatten()(x)\n",
        "\n",
        "    x = Dense(nb_classes, kernel_regularizer=l2(weight_decay), activation='softmax')(x)\n",
        "\n",
        "    model = Model(ip, x)\n",
        "\n",
        "    if verbose: print(\"Wide Residual Network-%d-%d created.\" % (nb_conv, k))\n",
        "    return model\n",
        "\n",
        "if __name__ == \"__main__\":\n",
        "\n",
        "    init = (32, 32,1)\n",
        "\n",
        "    wrn_16_2 = create_wide_residual_network(init, nb_classes=4, N=2, k=2, dropout=0.5)\n",
        "\n",
        "    wrn_16_2.summary()\n",
        "\n"
      ],
      "execution_count": 0,
      "outputs": [
        {
          "output_type": "stream",
          "text": [
            "conv2:channel:  -1\n",
            "conv3 channel_axis:-1 \n",
            "Parseval Residual Network-16-2 created.\n",
            "Model: \"model\"\n",
            "__________________________________________________________________________________________________\n",
            "Layer (type)                    Output Shape         Param #     Connected to                     \n",
            "==================================================================================================\n",
            "input_1 (InputLayer)            [(None, 68, 100, 1)] 0                                            \n",
            "__________________________________________________________________________________________________\n",
            "conv2d (Conv2D)                 (None, 68, 100, 16)  144         input_1[0][0]                    \n",
            "__________________________________________________________________________________________________\n",
            "batch_normalization (BatchNorma (None, 68, 100, 16)  64          conv2d[0][0]                     \n",
            "__________________________________________________________________________________________________\n",
            "activation (Activation)         (None, 68, 100, 16)  0           batch_normalization[0][0]        \n",
            "__________________________________________________________________________________________________\n",
            "conv2d_1 (Conv2D)               (None, 68, 100, 32)  4608        activation[0][0]                 \n",
            "__________________________________________________________________________________________________\n",
            "batch_normalization_1 (BatchNor (None, 68, 100, 32)  128         conv2d_1[0][0]                   \n",
            "__________________________________________________________________________________________________\n",
            "activation_1 (Activation)       (None, 68, 100, 32)  0           batch_normalization_1[0][0]      \n",
            "__________________________________________________________________________________________________\n",
            "conv2d_2 (Conv2D)               (None, 68, 100, 32)  9216        activation_1[0][0]               \n",
            "__________________________________________________________________________________________________\n",
            "conv2d_3 (Conv2D)               (None, 68, 100, 32)  512         activation[0][0]                 \n",
            "__________________________________________________________________________________________________\n",
            "add (Add)                       (None, 68, 100, 32)  0           conv2d_2[0][0]                   \n",
            "                                                                 conv2d_3[0][0]                   \n",
            "__________________________________________________________________________________________________\n",
            "batch_normalization_2 (BatchNor (None, 68, 100, 32)  128         add[0][0]                        \n",
            "__________________________________________________________________________________________________\n",
            "activation_2 (Activation)       (None, 68, 100, 32)  0           batch_normalization_2[0][0]      \n",
            "__________________________________________________________________________________________________\n",
            "conv2d_4 (Conv2D)               (None, 68, 100, 32)  9216        activation_2[0][0]               \n",
            "__________________________________________________________________________________________________\n",
            "batch_normalization_3 (BatchNor (None, 68, 100, 32)  128         conv2d_4[0][0]                   \n",
            "__________________________________________________________________________________________________\n",
            "activation_3 (Activation)       (None, 68, 100, 32)  0           batch_normalization_3[0][0]      \n",
            "__________________________________________________________________________________________________\n",
            "conv2d_5 (Conv2D)               (None, 68, 100, 32)  9216        activation_3[0][0]               \n",
            "__________________________________________________________________________________________________\n",
            "add_1 (Add)                     (None, 68, 100, 32)  0           add[0][0]                        \n",
            "                                                                 conv2d_5[0][0]                   \n",
            "__________________________________________________________________________________________________\n",
            "batch_normalization_4 (BatchNor (None, 68, 100, 32)  128         add_1[0][0]                      \n",
            "__________________________________________________________________________________________________\n",
            "activation_4 (Activation)       (None, 68, 100, 32)  0           batch_normalization_4[0][0]      \n",
            "__________________________________________________________________________________________________\n",
            "conv2d_6 (Conv2D)               (None, 34, 50, 64)   18432       activation_4[0][0]               \n",
            "__________________________________________________________________________________________________\n",
            "batch_normalization_5 (BatchNor (None, 34, 50, 64)   256         conv2d_6[0][0]                   \n",
            "__________________________________________________________________________________________________\n",
            "activation_5 (Activation)       (None, 34, 50, 64)   0           batch_normalization_5[0][0]      \n",
            "__________________________________________________________________________________________________\n",
            "conv2d_7 (Conv2D)               (None, 34, 50, 64)   36864       activation_5[0][0]               \n",
            "__________________________________________________________________________________________________\n",
            "conv2d_8 (Conv2D)               (None, 34, 50, 64)   2048        activation_4[0][0]               \n",
            "__________________________________________________________________________________________________\n",
            "add_2 (Add)                     (None, 34, 50, 64)   0           conv2d_7[0][0]                   \n",
            "                                                                 conv2d_8[0][0]                   \n",
            "__________________________________________________________________________________________________\n",
            "batch_normalization_6 (BatchNor (None, 34, 50, 64)   256         add_2[0][0]                      \n",
            "__________________________________________________________________________________________________\n",
            "activation_6 (Activation)       (None, 34, 50, 64)   0           batch_normalization_6[0][0]      \n",
            "__________________________________________________________________________________________________\n",
            "conv2d_9 (Conv2D)               (None, 34, 50, 64)   36864       activation_6[0][0]               \n",
            "__________________________________________________________________________________________________\n",
            "batch_normalization_7 (BatchNor (None, 34, 50, 64)   256         conv2d_9[0][0]                   \n",
            "__________________________________________________________________________________________________\n",
            "activation_7 (Activation)       (None, 34, 50, 64)   0           batch_normalization_7[0][0]      \n",
            "__________________________________________________________________________________________________\n",
            "conv2d_10 (Conv2D)              (None, 34, 50, 64)   36864       activation_7[0][0]               \n",
            "__________________________________________________________________________________________________\n",
            "add_3 (Add)                     (None, 34, 50, 64)   0           add_2[0][0]                      \n",
            "                                                                 conv2d_10[0][0]                  \n",
            "__________________________________________________________________________________________________\n",
            "batch_normalization_8 (BatchNor (None, 34, 50, 64)   256         add_3[0][0]                      \n",
            "__________________________________________________________________________________________________\n",
            "activation_8 (Activation)       (None, 34, 50, 64)   0           batch_normalization_8[0][0]      \n",
            "__________________________________________________________________________________________________\n",
            "conv2d_11 (Conv2D)              (None, 17, 25, 128)  73728       activation_8[0][0]               \n",
            "__________________________________________________________________________________________________\n",
            "batch_normalization_9 (BatchNor (None, 17, 25, 128)  512         conv2d_11[0][0]                  \n",
            "__________________________________________________________________________________________________\n",
            "activation_9 (Activation)       (None, 17, 25, 128)  0           batch_normalization_9[0][0]      \n",
            "__________________________________________________________________________________________________\n",
            "conv2d_12 (Conv2D)              (None, 17, 25, 128)  147456      activation_9[0][0]               \n",
            "__________________________________________________________________________________________________\n",
            "conv2d_13 (Conv2D)              (None, 17, 25, 128)  8192        activation_8[0][0]               \n",
            "__________________________________________________________________________________________________\n",
            "add_4 (Add)                     (None, 17, 25, 128)  0           conv2d_12[0][0]                  \n",
            "                                                                 conv2d_13[0][0]                  \n",
            "__________________________________________________________________________________________________\n",
            "batch_normalization_10 (BatchNo (None, 17, 25, 128)  512         add_4[0][0]                      \n",
            "__________________________________________________________________________________________________\n",
            "activation_10 (Activation)      (None, 17, 25, 128)  0           batch_normalization_10[0][0]     \n",
            "__________________________________________________________________________________________________\n",
            "conv2d_14 (Conv2D)              (None, 17, 25, 128)  147456      activation_10[0][0]              \n",
            "__________________________________________________________________________________________________\n",
            "batch_normalization_11 (BatchNo (None, 17, 25, 128)  512         conv2d_14[0][0]                  \n",
            "__________________________________________________________________________________________________\n",
            "activation_11 (Activation)      (None, 17, 25, 128)  0           batch_normalization_11[0][0]     \n",
            "__________________________________________________________________________________________________\n",
            "conv2d_15 (Conv2D)              (None, 17, 25, 128)  147456      activation_11[0][0]              \n",
            "__________________________________________________________________________________________________\n",
            "add_5 (Add)                     (None, 17, 25, 128)  0           add_4[0][0]                      \n",
            "                                                                 conv2d_15[0][0]                  \n",
            "__________________________________________________________________________________________________\n",
            "batch_normalization_12 (BatchNo (None, 17, 25, 128)  512         add_5[0][0]                      \n",
            "__________________________________________________________________________________________________\n",
            "activation_12 (Activation)      (None, 17, 25, 128)  0           batch_normalization_12[0][0]     \n",
            "__________________________________________________________________________________________________\n",
            "average_pooling2d (AveragePooli (None, 2, 3, 128)    0           activation_12[0][0]              \n",
            "__________________________________________________________________________________________________\n",
            "flatten (Flatten)               (None, 768)          0           average_pooling2d[0][0]          \n",
            "__________________________________________________________________________________________________\n",
            "dense (Dense)                   (None, 4)            3076        flatten[0][0]                    \n",
            "==================================================================================================\n",
            "Total params: 694,996\n",
            "Trainable params: 693,172\n",
            "Non-trainable params: 1,824\n",
            "__________________________________________________________________________________________________\n"
          ],
          "name": "stdout"
        }
      ]
    },
    {
      "cell_type": "markdown",
      "metadata": {
        "id": "ffNo5x-Ft9Fe",
        "colab_type": "text"
      },
      "source": [
        "# Data Prepare and Processing\n",
        "\n",
        "\n"
      ]
    },
    {
      "cell_type": "code",
      "metadata": {
        "id": "AJqH742XcPQv",
        "colab_type": "code",
        "colab": {}
      },
      "source": [
        "from sklearn.model_selection import train_test_split\n",
        "import gzip\n",
        "import pickle\n",
        "\n",
        "import numpy as np"
      ],
      "execution_count": 0,
      "outputs": []
    },
    {
      "cell_type": "code",
      "metadata": {
        "id": "fNBI_SkvuzgK",
        "colab_type": "code",
        "colab": {}
      },
      "source": [
        "def read_data():\n",
        "    with open(\"data.pz\", 'rb') as file_:\n",
        "        with gzip.GzipFile(fileobj=file_) as gzf:\n",
        "            data = pickle.load(gzf, encoding='latin1', fix_imports=True)\n",
        "    return data\n",
        "data = read_data()\n"
      ],
      "execution_count": 0,
      "outputs": []
    },
    {
      "cell_type": "code",
      "metadata": {
        "id": "4euxwMe2jIoX",
        "colab_type": "code",
        "outputId": "8436705d-ae3c-4faa-ea7a-5eab83c4ce59",
        "colab": {
          "base_uri": "https://localhost:8080/",
          "height": 34
        }
      },
      "source": [
        "import cv2\n",
        "new_data_X = []\n",
        "Y_data = []\n",
        "for row in data:\n",
        "    new_data_X.append(cv2.resize(row['crop'], (32,32)))\n",
        "    Y_data.append(row['label'])\n",
        "new_data_X = np.array(new_data_X)\n",
        "new_data_X.shape"
      ],
      "execution_count": 0,
      "outputs": [
        {
          "output_type": "execute_result",
          "data": {
            "text/plain": [
              "(5722, 68, 100)"
            ]
          },
          "metadata": {
            "tags": []
          },
          "execution_count": 5
        }
      ]
    },
    {
      "cell_type": "code",
      "metadata": {
        "id": "TNBsNVDNu6Ku",
        "colab_type": "code",
        "outputId": "2dff0949-1bf5-492a-b73e-975f9c2cb799",
        "colab": {
          "base_uri": "https://localhost:8080/",
          "height": 34
        }
      },
      "source": [
        "X = new_data_X.astype('float32')\n",
        "X.shape"
      ],
      "execution_count": 0,
      "outputs": [
        {
          "output_type": "execute_result",
          "data": {
            "text/plain": [
              "(5722, 68, 100)"
            ]
          },
          "metadata": {
            "tags": []
          },
          "execution_count": 6
        }
      ]
    },
    {
      "cell_type": "markdown",
      "metadata": {
        "id": "MFQdrnTKuM8c",
        "colab_type": "text"
      },
      "source": [
        "# Preprocessing"
      ]
    },
    {
      "cell_type": "code",
      "metadata": {
        "id": "uqf-dZOrvC0e",
        "colab_type": "code",
        "colab": {}
      },
      "source": [
        "img_rows, img_cols = X[0].shape\n",
        "\n",
        "# transform data set\n",
        "if K.image_data_format() == 'channels_first':\n",
        "    X = X.reshape(X.shape[0], 1, img_rows, img_cols)\n",
        "    input_shape = (1, img_rows, img_cols)\n",
        "else:\n",
        "    X = X.reshape(X.shape[0], img_rows, img_cols, 1)\n",
        "    input_shape = (img_rows, img_cols, 1)"
      ],
      "execution_count": 0,
      "outputs": []
    },
    {
      "cell_type": "code",
      "metadata": {
        "id": "2eEHVf2Bu9xt",
        "colab_type": "code",
        "colab": {}
      },
      "source": [
        "import pandas as pd\n",
        "import numpy as np\n",
        "from sklearn.preprocessing import LabelEncoder\n",
        "\n",
        "labelencoder = LabelEncoder()\n",
        "y_df = pd.DataFrame(Y_data, columns=['Label'])\n",
        "y_df['Encoded'] = labelencoder.fit_transform(y_df['Label'])"
      ],
      "execution_count": 0,
      "outputs": []
    },
    {
      "cell_type": "code",
      "metadata": {
        "id": "56hwq9R2jruF",
        "colab_type": "code",
        "outputId": "d9155a59-78f6-49d7-a02f-430b1fe8fbea",
        "colab": {
          "base_uri": "https://localhost:8080/",
          "height": 102
        }
      },
      "source": [
        "y_df['Label'].value_counts()"
      ],
      "execution_count": 0,
      "outputs": [
        {
          "output_type": "execute_result",
          "data": {
            "text/plain": [
              "closed           1500\n",
              "open             1500\n",
              "partiallyOpen    1376\n",
              "notVisible       1346\n",
              "Name: Label, dtype: int64"
            ]
          },
          "metadata": {
            "tags": []
          },
          "execution_count": 9
        }
      ]
    },
    {
      "cell_type": "code",
      "metadata": {
        "id": "WxAYuiEzj4Bp",
        "colab_type": "code",
        "outputId": "23474b02-0e14-4d43-a00d-a3d6fe31d637",
        "colab": {
          "base_uri": "https://localhost:8080/",
          "height": 102
        }
      },
      "source": [
        "y_df['Encoded'].value_counts()\n"
      ],
      "execution_count": 0,
      "outputs": [
        {
          "output_type": "execute_result",
          "data": {
            "text/plain": [
              "2    1500\n",
              "0    1500\n",
              "3    1376\n",
              "1    1346\n",
              "Name: Encoded, dtype: int64"
            ]
          },
          "metadata": {
            "tags": []
          },
          "execution_count": 10
        }
      ]
    },
    {
      "cell_type": "code",
      "metadata": {
        "id": "wdkpb2Jkqu6t",
        "colab_type": "code",
        "colab": {}
      },
      "source": [
        "from tensorflow.keras.utils import to_categorical\n",
        "\n",
        "y_cat = to_categorical(y_df['Encoded'])"
      ],
      "execution_count": 0,
      "outputs": []
    },
    {
      "cell_type": "markdown",
      "metadata": {
        "id": "Kif3Li9NuSnV",
        "colab_type": "text"
      },
      "source": [
        "# Training"
      ]
    },
    {
      "cell_type": "code",
      "metadata": {
        "id": "rghSgp3NvhhV",
        "colab_type": "code",
        "colab": {}
      },
      "source": [
        "from tensorflow.keras.optimizers import SGD\n",
        "from tensorflow.keras.callbacks import Callback, LearningRateScheduler, EarlyStopping\n",
        "import tensorflow\n",
        "\n",
        "EPOCHS = 200\n",
        "BS = 128\n",
        "sgd = SGD(lr=0.1, momentum=0.9)"
      ],
      "execution_count": 0,
      "outputs": []
    },
    {
      "cell_type": "code",
      "metadata": {
        "id": "yBnqXaiNwHGl",
        "colab_type": "code",
        "outputId": "f4b7ad2b-b0bc-44d2-d20e-abdab6649deb",
        "colab": {
          "base_uri": "https://localhost:8080/",
          "height": 34
        }
      },
      "source": [
        "wrn_16_2.compile(loss=\"categorical_crossentropy\", optimizer=sgd, metrics=[\"acc\"])\n",
        "print(\"Finished compiling\")\n"
      ],
      "execution_count": 0,
      "outputs": [
        {
          "output_type": "stream",
          "text": [
            "Finished compiling\n"
          ],
          "name": "stdout"
        }
      ]
    },
    {
      "cell_type": "code",
      "metadata": {
        "id": "88yOqhbSwjPa",
        "colab_type": "code",
        "colab": {}
      },
      "source": [
        "def lr_sch(epoch):\n",
        "    if epoch < 60:\n",
        "        return 0.1\n",
        "    elif epoch < 120:\n",
        "        return 0.02\n",
        "    elif epoch < 160:\n",
        "        return 0.004\n",
        "    else:\n",
        "        return 0.0008\n",
        "\n",
        "# Learning rate scheduler callback\n",
        "lr_scheduler = LearningRateScheduler(lr_sch)"
      ],
      "execution_count": 0,
      "outputs": []
    },
    {
      "cell_type": "code",
      "metadata": {
        "id": "TbpiWMEgRpWa",
        "colab_type": "code",
        "colab": {}
      },
      "source": [
        "generator = tensorflow.keras.preprocessing.image.ImageDataGenerator(rotation_range=10,\n",
        "                               width_shift_range=5./32,\n",
        "                               height_shift_range=5./32,)"
      ],
      "execution_count": 0,
      "outputs": []
    },
    {
      "cell_type": "code",
      "metadata": {
        "id": "uo-6r-Zvva5l",
        "colab_type": "code",
        "colab": {}
      },
      "source": [
        "X_train, X_test, y_train, y_test = train_test_split(X, y_cat, test_size = 0.2)\n",
        "X_train, X_val, y_train, y_val = train_test_split(X_train, y_train, test_size = 0.2)"
      ],
      "execution_count": 0,
      "outputs": []
    },
    {
      "cell_type": "code",
      "metadata": {
        "id": "JVs_QNHoEKji",
        "colab_type": "code",
        "outputId": "2fa0271a-edc0-477d-9cb7-f707740c852a",
        "colab": {
          "base_uri": "https://localhost:8080/",
          "height": 1000
        }
      },
      "source": [
        "hist = wrn_16_2.fit_generator(generator.flow(X_train, y_train, batch_size=BS), steps_per_epoch=len(X_train) // BS, epochs=EPOCHS,\n",
        "                   callbacks=[lr_scheduler],\n",
        "                   validation_data=(X_val, y_val),\n",
        "                   validation_steps=X_val.shape[0] // BS,)"
      ],
      "execution_count": 0,
      "outputs": [
        {
          "output_type": "stream",
          "text": [
            "WARNING:tensorflow:From <ipython-input-17-2b92cc683fef>:4: Model.fit_generator (from tensorflow.python.keras.engine.training) is deprecated and will be removed in a future version.\n",
            "Instructions for updating:\n",
            "Please use Model.fit, which supports generators.\n",
            "Epoch 1/200\n",
            "29/29 [==============================] - 10s 353ms/step - loss: 2.4514 - acc: 0.3228 - val_loss: 2.4902 - val_acc: 0.3277 - lr: 0.1000\n",
            "Epoch 2/200\n",
            "29/29 [==============================] - 7s 242ms/step - loss: 2.3224 - acc: 0.3889 - val_loss: 2.2545 - val_acc: 0.3960 - lr: 0.1000\n",
            "Epoch 3/200\n",
            "29/29 [==============================] - 7s 245ms/step - loss: 2.2397 - acc: 0.4240 - val_loss: 2.1669 - val_acc: 0.4653 - lr: 0.1000\n",
            "Epoch 4/200\n",
            "29/29 [==============================] - 7s 245ms/step - loss: 2.1567 - acc: 0.4370 - val_loss: 2.0554 - val_acc: 0.5013 - lr: 0.1000\n",
            "Epoch 5/200\n",
            "29/29 [==============================] - 7s 245ms/step - loss: 2.0634 - acc: 0.4826 - val_loss: 2.0451 - val_acc: 0.4770 - lr: 0.1000\n",
            "Epoch 6/200\n",
            "29/29 [==============================] - 7s 248ms/step - loss: 1.9623 - acc: 0.5171 - val_loss: 2.0136 - val_acc: 0.5019 - lr: 0.1000\n",
            "Epoch 7/200\n",
            "29/29 [==============================] - 7s 249ms/step - loss: 1.8814 - acc: 0.5355 - val_loss: 1.9232 - val_acc: 0.4764 - lr: 0.1000\n",
            "Epoch 8/200\n",
            "29/29 [==============================] - 7s 251ms/step - loss: 1.8005 - acc: 0.5547 - val_loss: 1.7118 - val_acc: 0.5971 - lr: 0.1000\n",
            "Epoch 9/200\n",
            "29/29 [==============================] - 7s 253ms/step - loss: 1.7594 - acc: 0.5622 - val_loss: 1.7318 - val_acc: 0.5675 - lr: 0.1000\n",
            "Epoch 10/200\n",
            "29/29 [==============================] - 7s 255ms/step - loss: 1.6905 - acc: 0.5706 - val_loss: 1.5456 - val_acc: 0.6284 - lr: 0.1000\n",
            "Epoch 11/200\n",
            "29/29 [==============================] - 7s 256ms/step - loss: 1.6119 - acc: 0.5940 - val_loss: 1.5082 - val_acc: 0.6638 - lr: 0.1000\n",
            "Epoch 12/200\n",
            "29/29 [==============================] - 7s 259ms/step - loss: 1.5620 - acc: 0.6035 - val_loss: 1.5770 - val_acc: 0.5813 - lr: 0.1000\n",
            "Epoch 13/200\n",
            "29/29 [==============================] - 8s 261ms/step - loss: 1.4922 - acc: 0.6309 - val_loss: 1.3643 - val_acc: 0.6834 - lr: 0.1000\n",
            "Epoch 14/200\n",
            "29/29 [==============================] - 8s 260ms/step - loss: 1.4420 - acc: 0.6362 - val_loss: 1.3532 - val_acc: 0.6845 - lr: 0.1000\n",
            "Epoch 15/200\n",
            "29/29 [==============================] - 8s 260ms/step - loss: 1.3864 - acc: 0.6702 - val_loss: 1.4583 - val_acc: 0.6379 - lr: 0.1000\n",
            "Epoch 16/200\n",
            "29/29 [==============================] - 8s 262ms/step - loss: 1.3222 - acc: 0.6845 - val_loss: 1.2703 - val_acc: 0.7083 - lr: 0.1000\n",
            "Epoch 17/200\n",
            "29/29 [==============================] - 8s 263ms/step - loss: 1.3276 - acc: 0.6804 - val_loss: 1.1901 - val_acc: 0.7464 - lr: 0.1000\n",
            "Epoch 18/200\n",
            "29/29 [==============================] - 8s 265ms/step - loss: 1.2588 - acc: 0.6961 - val_loss: 1.2306 - val_acc: 0.7035 - lr: 0.1000\n",
            "Epoch 19/200\n",
            "29/29 [==============================] - 8s 265ms/step - loss: 1.1957 - acc: 0.7142 - val_loss: 1.1807 - val_acc: 0.7125 - lr: 0.1000\n",
            "Epoch 20/200\n",
            "29/29 [==============================] - 8s 263ms/step - loss: 1.1885 - acc: 0.7126 - val_loss: 1.0908 - val_acc: 0.7480 - lr: 0.1000\n",
            "Epoch 21/200\n",
            "29/29 [==============================] - 8s 261ms/step - loss: 1.1192 - acc: 0.7355 - val_loss: 1.0783 - val_acc: 0.7411 - lr: 0.1000\n",
            "Epoch 22/200\n",
            "29/29 [==============================] - 8s 261ms/step - loss: 1.0658 - acc: 0.7466 - val_loss: 1.2094 - val_acc: 0.6697 - lr: 0.1000\n",
            "Epoch 23/200\n",
            "29/29 [==============================] - 8s 264ms/step - loss: 1.0699 - acc: 0.7312 - val_loss: 1.1278 - val_acc: 0.7268 - lr: 0.1000\n",
            "Epoch 24/200\n",
            "29/29 [==============================] - 8s 259ms/step - loss: 1.0460 - acc: 0.7430 - val_loss: 1.2099 - val_acc: 0.6496 - lr: 0.1000\n",
            "Epoch 25/200\n",
            "29/29 [==============================] - 8s 260ms/step - loss: 1.0445 - acc: 0.7355 - val_loss: 1.0298 - val_acc: 0.7612 - lr: 0.1000\n",
            "Epoch 26/200\n",
            "29/29 [==============================] - 8s 261ms/step - loss: 0.9888 - acc: 0.7609 - val_loss: 1.2448 - val_acc: 0.6861 - lr: 0.1000\n",
            "Epoch 27/200\n",
            "29/29 [==============================] - 8s 262ms/step - loss: 1.0003 - acc: 0.7511 - val_loss: 0.9650 - val_acc: 0.7628 - lr: 0.1000\n",
            "Epoch 28/200\n",
            "29/29 [==============================] - 8s 261ms/step - loss: 1.0051 - acc: 0.7444 - val_loss: 0.9630 - val_acc: 0.7612 - lr: 0.1000\n",
            "Epoch 29/200\n",
            "29/29 [==============================] - 8s 262ms/step - loss: 0.9357 - acc: 0.7619 - val_loss: 1.1159 - val_acc: 0.7035 - lr: 0.1000\n",
            "Epoch 30/200\n",
            "29/29 [==============================] - 8s 261ms/step - loss: 0.9157 - acc: 0.7741 - val_loss: 1.0880 - val_acc: 0.6908 - lr: 0.1000\n",
            "Epoch 31/200\n",
            "29/29 [==============================] - 8s 262ms/step - loss: 0.9147 - acc: 0.7694 - val_loss: 1.0684 - val_acc: 0.7125 - lr: 0.1000\n",
            "Epoch 32/200\n",
            "29/29 [==============================] - 8s 261ms/step - loss: 0.8635 - acc: 0.7827 - val_loss: 0.9241 - val_acc: 0.7650 - lr: 0.1000\n",
            "Epoch 33/200\n",
            "29/29 [==============================] - 8s 260ms/step - loss: 0.8777 - acc: 0.7717 - val_loss: 1.0489 - val_acc: 0.7300 - lr: 0.1000\n",
            "Epoch 34/200\n",
            "29/29 [==============================] - 8s 260ms/step - loss: 0.8543 - acc: 0.7865 - val_loss: 1.1321 - val_acc: 0.6765 - lr: 0.1000\n",
            "Epoch 35/200\n",
            "29/29 [==============================] - 8s 260ms/step - loss: 0.8251 - acc: 0.7879 - val_loss: 0.8990 - val_acc: 0.7544 - lr: 0.1000\n",
            "Epoch 36/200\n",
            "29/29 [==============================] - 8s 261ms/step - loss: 0.8288 - acc: 0.7924 - val_loss: 0.8577 - val_acc: 0.7766 - lr: 0.1000\n",
            "Epoch 37/200\n",
            "29/29 [==============================] - 8s 261ms/step - loss: 0.7966 - acc: 0.7987 - val_loss: 0.9583 - val_acc: 0.7364 - lr: 0.1000\n",
            "Epoch 38/200\n",
            "29/29 [==============================] - 8s 261ms/step - loss: 0.8065 - acc: 0.7930 - val_loss: 0.9752 - val_acc: 0.7258 - lr: 0.1000\n",
            "Epoch 39/200\n",
            "29/29 [==============================] - 8s 261ms/step - loss: 0.7863 - acc: 0.7981 - val_loss: 0.8997 - val_acc: 0.7533 - lr: 0.1000\n",
            "Epoch 40/200\n",
            "29/29 [==============================] - 8s 262ms/step - loss: 0.7907 - acc: 0.7908 - val_loss: 0.8390 - val_acc: 0.7750 - lr: 0.1000\n",
            "Epoch 41/200\n",
            "29/29 [==============================] - 8s 262ms/step - loss: 0.7808 - acc: 0.7973 - val_loss: 0.8783 - val_acc: 0.7597 - lr: 0.1000\n",
            "Epoch 42/200\n",
            "29/29 [==============================] - 8s 261ms/step - loss: 0.7493 - acc: 0.8194 - val_loss: 0.8809 - val_acc: 0.7607 - lr: 0.1000\n",
            "Epoch 43/200\n",
            "29/29 [==============================] - 8s 261ms/step - loss: 0.7089 - acc: 0.8286 - val_loss: 0.7714 - val_acc: 0.7941 - lr: 0.1000\n",
            "Epoch 44/200\n",
            "29/29 [==============================] - 8s 261ms/step - loss: 0.7460 - acc: 0.8157 - val_loss: 0.8113 - val_acc: 0.7808 - lr: 0.1000\n",
            "Epoch 45/200\n",
            "29/29 [==============================] - 8s 260ms/step - loss: 0.7462 - acc: 0.8157 - val_loss: 0.8895 - val_acc: 0.7560 - lr: 0.1000\n",
            "Epoch 46/200\n",
            "29/29 [==============================] - 8s 260ms/step - loss: 0.7104 - acc: 0.8235 - val_loss: 0.9553 - val_acc: 0.7427 - lr: 0.1000\n",
            "Epoch 47/200\n",
            "29/29 [==============================] - 8s 261ms/step - loss: 0.7192 - acc: 0.8170 - val_loss: 0.8979 - val_acc: 0.7618 - lr: 0.1000\n",
            "Epoch 48/200\n",
            "29/29 [==============================] - 8s 261ms/step - loss: 0.7101 - acc: 0.8251 - val_loss: 0.7633 - val_acc: 0.8036 - lr: 0.1000\n",
            "Epoch 49/200\n",
            "29/29 [==============================] - 8s 261ms/step - loss: 0.6689 - acc: 0.8383 - val_loss: 0.8311 - val_acc: 0.7740 - lr: 0.1000\n",
            "Epoch 50/200\n",
            "29/29 [==============================] - 8s 261ms/step - loss: 0.6822 - acc: 0.8337 - val_loss: 0.9405 - val_acc: 0.7411 - lr: 0.1000\n",
            "Epoch 51/200\n",
            "29/29 [==============================] - 8s 261ms/step - loss: 0.6686 - acc: 0.8386 - val_loss: 0.8230 - val_acc: 0.7930 - lr: 0.1000\n",
            "Epoch 52/200\n",
            "29/29 [==============================] - 8s 260ms/step - loss: 0.6612 - acc: 0.8367 - val_loss: 0.8473 - val_acc: 0.7798 - lr: 0.1000\n",
            "Epoch 53/200\n",
            "29/29 [==============================] - 8s 261ms/step - loss: 0.6988 - acc: 0.8267 - val_loss: 1.2158 - val_acc: 0.6252 - lr: 0.1000\n",
            "Epoch 54/200\n",
            "29/29 [==============================] - 8s 261ms/step - loss: 0.6875 - acc: 0.8310 - val_loss: 0.9552 - val_acc: 0.7454 - lr: 0.1000\n",
            "Epoch 55/200\n",
            "29/29 [==============================] - 8s 262ms/step - loss: 0.6615 - acc: 0.8489 - val_loss: 0.8325 - val_acc: 0.7898 - lr: 0.1000\n",
            "Epoch 56/200\n",
            "29/29 [==============================] - 8s 261ms/step - loss: 0.6377 - acc: 0.8462 - val_loss: 0.8796 - val_acc: 0.7676 - lr: 0.1000\n",
            "Epoch 57/200\n",
            "29/29 [==============================] - 8s 262ms/step - loss: 0.6776 - acc: 0.8313 - val_loss: 0.8195 - val_acc: 0.7909 - lr: 0.1000\n",
            "Epoch 58/200\n",
            "29/29 [==============================] - 8s 260ms/step - loss: 0.6584 - acc: 0.8432 - val_loss: 0.8294 - val_acc: 0.7893 - lr: 0.1000\n",
            "Epoch 59/200\n",
            "29/29 [==============================] - 8s 261ms/step - loss: 0.6295 - acc: 0.8561 - val_loss: 0.9671 - val_acc: 0.7522 - lr: 0.1000\n",
            "Epoch 60/200\n",
            "29/29 [==============================] - 8s 261ms/step - loss: 0.6234 - acc: 0.8505 - val_loss: 0.8871 - val_acc: 0.7777 - lr: 0.1000\n",
            "Epoch 61/200\n",
            "29/29 [==============================] - 8s 262ms/step - loss: 0.6108 - acc: 0.8629 - val_loss: 0.7311 - val_acc: 0.8280 - lr: 0.0200\n",
            "Epoch 62/200\n",
            "29/29 [==============================] - 8s 261ms/step - loss: 0.4893 - acc: 0.9104 - val_loss: 0.7732 - val_acc: 0.8158 - lr: 0.0200\n",
            "Epoch 63/200\n",
            "29/29 [==============================] - 8s 261ms/step - loss: 0.4400 - acc: 0.9269 - val_loss: 0.7289 - val_acc: 0.8354 - lr: 0.0200\n",
            "Epoch 64/200\n",
            "29/29 [==============================] - 8s 261ms/step - loss: 0.4208 - acc: 0.9393 - val_loss: 0.7411 - val_acc: 0.8232 - lr: 0.0200\n",
            "Epoch 65/200\n",
            "29/29 [==============================] - 8s 261ms/step - loss: 0.4159 - acc: 0.9355 - val_loss: 0.7531 - val_acc: 0.8322 - lr: 0.0200\n",
            "Epoch 66/200\n",
            "29/29 [==============================] - 8s 260ms/step - loss: 0.4057 - acc: 0.9428 - val_loss: 0.7764 - val_acc: 0.8253 - lr: 0.0200\n",
            "Epoch 67/200\n",
            "29/29 [==============================] - 8s 261ms/step - loss: 0.3857 - acc: 0.9444 - val_loss: 0.7568 - val_acc: 0.8354 - lr: 0.0200\n",
            "Epoch 68/200\n",
            "29/29 [==============================] - 8s 261ms/step - loss: 0.3735 - acc: 0.9501 - val_loss: 0.7452 - val_acc: 0.8422 - lr: 0.0200\n",
            "Epoch 69/200\n",
            "29/29 [==============================] - 8s 261ms/step - loss: 0.3561 - acc: 0.9563 - val_loss: 0.7706 - val_acc: 0.8364 - lr: 0.0200\n",
            "Epoch 70/200\n",
            "29/29 [==============================] - 8s 261ms/step - loss: 0.3534 - acc: 0.9536 - val_loss: 0.7446 - val_acc: 0.8391 - lr: 0.0200\n",
            "Epoch 71/200\n",
            "29/29 [==============================] - 8s 261ms/step - loss: 0.3415 - acc: 0.9622 - val_loss: 0.7542 - val_acc: 0.8317 - lr: 0.0200\n",
            "Epoch 72/200\n",
            "29/29 [==============================] - 8s 261ms/step - loss: 0.3413 - acc: 0.9603 - val_loss: 0.7640 - val_acc: 0.8401 - lr: 0.0200\n",
            "Epoch 73/200\n",
            "29/29 [==============================] - 8s 261ms/step - loss: 0.3340 - acc: 0.9595 - val_loss: 0.7607 - val_acc: 0.8438 - lr: 0.0200\n",
            "Epoch 74/200\n",
            "29/29 [==============================] - 8s 260ms/step - loss: 0.3279 - acc: 0.9619 - val_loss: 0.7842 - val_acc: 0.8364 - lr: 0.0200\n",
            "Epoch 75/200\n",
            "29/29 [==============================] - 8s 261ms/step - loss: 0.3257 - acc: 0.9636 - val_loss: 0.7608 - val_acc: 0.8380 - lr: 0.0200\n",
            "Epoch 76/200\n",
            "29/29 [==============================] - 8s 262ms/step - loss: 0.3174 - acc: 0.9674 - val_loss: 0.7913 - val_acc: 0.8322 - lr: 0.0200\n",
            "Epoch 77/200\n",
            "29/29 [==============================] - 8s 262ms/step - loss: 0.3152 - acc: 0.9665 - val_loss: 0.8460 - val_acc: 0.8274 - lr: 0.0200\n",
            "Epoch 78/200\n",
            "29/29 [==============================] - 8s 260ms/step - loss: 0.3233 - acc: 0.9609 - val_loss: 0.7645 - val_acc: 0.8306 - lr: 0.0200\n",
            "Epoch 79/200\n",
            "29/29 [==============================] - 8s 261ms/step - loss: 0.3026 - acc: 0.9684 - val_loss: 0.7933 - val_acc: 0.8317 - lr: 0.0200\n",
            "Epoch 80/200\n",
            "29/29 [==============================] - 8s 261ms/step - loss: 0.3012 - acc: 0.9684 - val_loss: 0.8066 - val_acc: 0.8396 - lr: 0.0200\n",
            "Epoch 81/200\n",
            "29/29 [==============================] - 8s 262ms/step - loss: 0.2943 - acc: 0.9690 - val_loss: 0.8499 - val_acc: 0.8338 - lr: 0.0200\n",
            "Epoch 82/200\n",
            "29/29 [==============================] - 8s 261ms/step - loss: 0.2927 - acc: 0.9706 - val_loss: 0.8846 - val_acc: 0.8232 - lr: 0.0200\n",
            "Epoch 83/200\n",
            "29/29 [==============================] - 8s 261ms/step - loss: 0.2929 - acc: 0.9703 - val_loss: 0.8171 - val_acc: 0.8375 - lr: 0.0200\n",
            "Epoch 84/200\n",
            "29/29 [==============================] - 8s 262ms/step - loss: 0.2851 - acc: 0.9700 - val_loss: 0.8503 - val_acc: 0.8274 - lr: 0.0200\n",
            "Epoch 85/200\n",
            "29/29 [==============================] - 8s 262ms/step - loss: 0.2860 - acc: 0.9719 - val_loss: 0.8652 - val_acc: 0.8428 - lr: 0.0200\n",
            "Epoch 86/200\n",
            "29/29 [==============================] - 8s 261ms/step - loss: 0.2881 - acc: 0.9687 - val_loss: 0.8177 - val_acc: 0.8380 - lr: 0.0200\n",
            "Epoch 87/200\n",
            "29/29 [==============================] - 8s 260ms/step - loss: 0.2762 - acc: 0.9714 - val_loss: 0.8261 - val_acc: 0.8385 - lr: 0.0200\n",
            "Epoch 88/200\n",
            "29/29 [==============================] - 8s 261ms/step - loss: 0.2682 - acc: 0.9771 - val_loss: 0.8377 - val_acc: 0.8460 - lr: 0.0200\n",
            "Epoch 89/200\n",
            "29/29 [==============================] - 8s 261ms/step - loss: 0.2640 - acc: 0.9776 - val_loss: 0.9290 - val_acc: 0.8190 - lr: 0.0200\n",
            "Epoch 90/200\n",
            "29/29 [==============================] - 8s 261ms/step - loss: 0.2871 - acc: 0.9671 - val_loss: 0.8952 - val_acc: 0.8227 - lr: 0.0200\n",
            "Epoch 91/200\n",
            "29/29 [==============================] - 8s 261ms/step - loss: 0.2740 - acc: 0.9741 - val_loss: 0.9044 - val_acc: 0.8295 - lr: 0.0200\n",
            "Epoch 92/200\n",
            "29/29 [==============================] - 8s 261ms/step - loss: 0.2820 - acc: 0.9682 - val_loss: 0.8964 - val_acc: 0.8285 - lr: 0.0200\n",
            "Epoch 93/200\n",
            "29/29 [==============================] - 8s 261ms/step - loss: 0.2815 - acc: 0.9684 - val_loss: 0.8564 - val_acc: 0.8332 - lr: 0.0200\n",
            "Epoch 94/200\n",
            "29/29 [==============================] - 8s 262ms/step - loss: 0.2729 - acc: 0.9733 - val_loss: 0.8370 - val_acc: 0.8364 - lr: 0.0200\n",
            "Epoch 95/200\n",
            "29/29 [==============================] - 8s 260ms/step - loss: 0.2598 - acc: 0.9754 - val_loss: 0.8693 - val_acc: 0.8385 - lr: 0.0200\n",
            "Epoch 96/200\n",
            "29/29 [==============================] - 8s 262ms/step - loss: 0.2586 - acc: 0.9762 - val_loss: 0.8500 - val_acc: 0.8317 - lr: 0.0200\n",
            "Epoch 97/200\n",
            "29/29 [==============================] - 8s 261ms/step - loss: 0.2594 - acc: 0.9752 - val_loss: 0.8395 - val_acc: 0.8274 - lr: 0.0200\n",
            "Epoch 98/200\n",
            "29/29 [==============================] - 8s 260ms/step - loss: 0.2544 - acc: 0.9773 - val_loss: 0.8577 - val_acc: 0.8428 - lr: 0.0200\n",
            "Epoch 99/200\n",
            "29/29 [==============================] - 8s 260ms/step - loss: 0.2492 - acc: 0.9773 - val_loss: 0.8230 - val_acc: 0.8354 - lr: 0.0200\n",
            "Epoch 100/200\n",
            "29/29 [==============================] - 8s 261ms/step - loss: 0.2391 - acc: 0.9854 - val_loss: 0.8283 - val_acc: 0.8375 - lr: 0.0200\n",
            "Epoch 101/200\n",
            "29/29 [==============================] - 8s 260ms/step - loss: 0.2575 - acc: 0.9749 - val_loss: 0.8471 - val_acc: 0.8475 - lr: 0.0200\n",
            "Epoch 102/200\n",
            "29/29 [==============================] - 8s 262ms/step - loss: 0.2678 - acc: 0.9688 - val_loss: 0.8949 - val_acc: 0.8348 - lr: 0.0200\n",
            "Epoch 103/200\n",
            "29/29 [==============================] - 8s 260ms/step - loss: 0.2576 - acc: 0.9717 - val_loss: 0.8315 - val_acc: 0.8359 - lr: 0.0200\n",
            "Epoch 104/200\n",
            "29/29 [==============================] - 8s 261ms/step - loss: 0.2540 - acc: 0.9752 - val_loss: 0.9077 - val_acc: 0.8380 - lr: 0.0200\n",
            "Epoch 105/200\n",
            "29/29 [==============================] - 8s 261ms/step - loss: 0.2685 - acc: 0.9711 - val_loss: 0.8415 - val_acc: 0.8354 - lr: 0.0200\n",
            "Epoch 106/200\n",
            "29/29 [==============================] - 8s 261ms/step - loss: 0.2556 - acc: 0.9749 - val_loss: 0.8702 - val_acc: 0.8216 - lr: 0.0200\n",
            "Epoch 107/200\n",
            "29/29 [==============================] - 8s 260ms/step - loss: 0.2465 - acc: 0.9746 - val_loss: 0.8650 - val_acc: 0.8322 - lr: 0.0200\n",
            "Epoch 108/200\n",
            "29/29 [==============================] - 8s 261ms/step - loss: 0.2388 - acc: 0.9784 - val_loss: 0.8731 - val_acc: 0.8370 - lr: 0.0200\n",
            "Epoch 109/200\n",
            "29/29 [==============================] - 8s 261ms/step - loss: 0.2455 - acc: 0.9776 - val_loss: 0.8701 - val_acc: 0.8380 - lr: 0.0200\n",
            "Epoch 110/200\n",
            "29/29 [==============================] - 8s 261ms/step - loss: 0.2257 - acc: 0.9816 - val_loss: 0.8099 - val_acc: 0.8412 - lr: 0.0200\n",
            "Epoch 111/200\n",
            "29/29 [==============================] - 8s 261ms/step - loss: 0.2213 - acc: 0.9862 - val_loss: 0.8323 - val_acc: 0.8417 - lr: 0.0200\n",
            "Epoch 112/200\n",
            "29/29 [==============================] - 8s 261ms/step - loss: 0.2204 - acc: 0.9838 - val_loss: 0.8869 - val_acc: 0.8274 - lr: 0.0200\n",
            "Epoch 113/200\n",
            "29/29 [==============================] - 8s 260ms/step - loss: 0.2210 - acc: 0.9833 - val_loss: 0.9161 - val_acc: 0.8359 - lr: 0.0200\n",
            "Epoch 114/200\n",
            "29/29 [==============================] - 8s 261ms/step - loss: 0.2284 - acc: 0.9830 - val_loss: 0.8681 - val_acc: 0.8311 - lr: 0.0200\n",
            "Epoch 115/200\n",
            "29/29 [==============================] - 8s 261ms/step - loss: 0.2308 - acc: 0.9814 - val_loss: 0.8650 - val_acc: 0.8343 - lr: 0.0200\n",
            "Epoch 116/200\n",
            "29/29 [==============================] - 8s 261ms/step - loss: 0.2282 - acc: 0.9798 - val_loss: 0.8863 - val_acc: 0.8258 - lr: 0.0200\n",
            "Epoch 117/200\n",
            "29/29 [==============================] - 8s 260ms/step - loss: 0.2392 - acc: 0.9749 - val_loss: 0.8656 - val_acc: 0.8147 - lr: 0.0200\n",
            "Epoch 118/200\n",
            "29/29 [==============================] - 8s 260ms/step - loss: 0.2433 - acc: 0.9773 - val_loss: 0.8853 - val_acc: 0.8274 - lr: 0.0200\n",
            "Epoch 119/200\n",
            "29/29 [==============================] - 8s 261ms/step - loss: 0.2243 - acc: 0.9830 - val_loss: 0.8374 - val_acc: 0.8301 - lr: 0.0200\n",
            "Epoch 120/200\n",
            "29/29 [==============================] - 8s 262ms/step - loss: 0.2154 - acc: 0.9876 - val_loss: 0.8096 - val_acc: 0.8396 - lr: 0.0200\n",
            "Epoch 121/200\n",
            "29/29 [==============================] - 8s 260ms/step - loss: 0.2094 - acc: 0.9873 - val_loss: 0.8333 - val_acc: 0.8306 - lr: 0.0040\n",
            "Epoch 122/200\n",
            "29/29 [==============================] - 8s 260ms/step - loss: 0.1924 - acc: 0.9935 - val_loss: 0.7988 - val_acc: 0.8433 - lr: 0.0040\n",
            "Epoch 123/200\n",
            "29/29 [==============================] - 8s 260ms/step - loss: 0.1864 - acc: 0.9935 - val_loss: 0.8210 - val_acc: 0.8449 - lr: 0.0040\n",
            "Epoch 124/200\n",
            "29/29 [==============================] - 8s 260ms/step - loss: 0.1811 - acc: 0.9973 - val_loss: 0.8200 - val_acc: 0.8391 - lr: 0.0040\n",
            "Epoch 125/200\n",
            "29/29 [==============================] - 8s 260ms/step - loss: 0.1815 - acc: 0.9962 - val_loss: 0.8115 - val_acc: 0.8460 - lr: 0.0040\n",
            "Epoch 126/200\n",
            "29/29 [==============================] - 8s 260ms/step - loss: 0.1792 - acc: 0.9968 - val_loss: 0.7970 - val_acc: 0.8491 - lr: 0.0040\n",
            "Epoch 127/200\n",
            "29/29 [==============================] - 8s 260ms/step - loss: 0.1796 - acc: 0.9965 - val_loss: 0.7988 - val_acc: 0.8502 - lr: 0.0040\n",
            "Epoch 128/200\n",
            "29/29 [==============================] - 8s 261ms/step - loss: 0.1788 - acc: 0.9970 - val_loss: 0.8073 - val_acc: 0.8475 - lr: 0.0040\n",
            "Epoch 129/200\n",
            "29/29 [==============================] - 8s 261ms/step - loss: 0.1774 - acc: 0.9960 - val_loss: 0.8347 - val_acc: 0.8422 - lr: 0.0040\n",
            "Epoch 130/200\n",
            "29/29 [==============================] - 8s 260ms/step - loss: 0.1752 - acc: 0.9978 - val_loss: 0.8151 - val_acc: 0.8518 - lr: 0.0040\n",
            "Epoch 131/200\n",
            "29/29 [==============================] - 8s 260ms/step - loss: 0.1753 - acc: 0.9973 - val_loss: 0.8051 - val_acc: 0.8539 - lr: 0.0040\n",
            "Epoch 132/200\n",
            "29/29 [==============================] - 8s 261ms/step - loss: 0.1737 - acc: 0.9981 - val_loss: 0.8714 - val_acc: 0.8380 - lr: 0.0040\n",
            "Epoch 133/200\n",
            "29/29 [==============================] - 8s 260ms/step - loss: 0.1712 - acc: 0.9989 - val_loss: 0.8260 - val_acc: 0.8544 - lr: 0.0040\n",
            "Epoch 134/200\n",
            "29/29 [==============================] - 8s 261ms/step - loss: 0.1732 - acc: 0.9989 - val_loss: 0.8162 - val_acc: 0.8528 - lr: 0.0040\n",
            "Epoch 135/200\n",
            "29/29 [==============================] - 8s 261ms/step - loss: 0.1709 - acc: 0.9984 - val_loss: 0.8321 - val_acc: 0.8465 - lr: 0.0040\n",
            "Epoch 136/200\n",
            "29/29 [==============================] - 8s 260ms/step - loss: 0.1698 - acc: 0.9987 - val_loss: 0.8272 - val_acc: 0.8528 - lr: 0.0040\n",
            "Epoch 137/200\n",
            "29/29 [==============================] - 8s 260ms/step - loss: 0.1727 - acc: 0.9965 - val_loss: 0.8203 - val_acc: 0.8486 - lr: 0.0040\n",
            "Epoch 138/200\n",
            "29/29 [==============================] - 8s 260ms/step - loss: 0.1705 - acc: 0.9981 - val_loss: 0.8219 - val_acc: 0.8481 - lr: 0.0040\n",
            "Epoch 139/200\n",
            "29/29 [==============================] - 8s 261ms/step - loss: 0.1697 - acc: 0.9984 - val_loss: 0.9197 - val_acc: 0.8317 - lr: 0.0040\n",
            "Epoch 140/200\n",
            "29/29 [==============================] - 8s 261ms/step - loss: 0.1672 - acc: 0.9987 - val_loss: 0.8496 - val_acc: 0.8481 - lr: 0.0040\n",
            "Epoch 141/200\n",
            "29/29 [==============================] - 8s 261ms/step - loss: 0.1700 - acc: 0.9973 - val_loss: 0.8145 - val_acc: 0.8523 - lr: 0.0040\n",
            "Epoch 142/200\n",
            "29/29 [==============================] - 8s 260ms/step - loss: 0.1689 - acc: 0.9978 - val_loss: 0.8294 - val_acc: 0.8539 - lr: 0.0040\n",
            "Epoch 143/200\n",
            "29/29 [==============================] - 8s 260ms/step - loss: 0.1658 - acc: 0.9989 - val_loss: 0.8388 - val_acc: 0.8507 - lr: 0.0040\n",
            "Epoch 144/200\n",
            "29/29 [==============================] - 8s 261ms/step - loss: 0.1675 - acc: 0.9984 - val_loss: 0.8283 - val_acc: 0.8497 - lr: 0.0040\n",
            "Epoch 145/200\n",
            "29/29 [==============================] - 8s 261ms/step - loss: 0.1671 - acc: 0.9981 - val_loss: 0.8415 - val_acc: 0.8433 - lr: 0.0040\n",
            "Epoch 146/200\n",
            "29/29 [==============================] - 8s 261ms/step - loss: 0.1648 - acc: 0.9989 - val_loss: 0.8219 - val_acc: 0.8512 - lr: 0.0040\n",
            "Epoch 147/200\n",
            "29/29 [==============================] - 8s 262ms/step - loss: 0.1657 - acc: 0.9981 - val_loss: 0.8448 - val_acc: 0.8417 - lr: 0.0040\n",
            "Epoch 148/200\n",
            "29/29 [==============================] - 8s 261ms/step - loss: 0.1634 - acc: 0.9992 - val_loss: 0.8686 - val_acc: 0.8343 - lr: 0.0040\n",
            "Epoch 149/200\n",
            "29/29 [==============================] - 8s 261ms/step - loss: 0.1644 - acc: 0.9989 - val_loss: 0.8602 - val_acc: 0.8438 - lr: 0.0040\n",
            "Epoch 150/200\n",
            "29/29 [==============================] - 8s 261ms/step - loss: 0.1627 - acc: 0.9989 - val_loss: 0.8262 - val_acc: 0.8497 - lr: 0.0040\n",
            "Epoch 151/200\n",
            "29/29 [==============================] - 8s 261ms/step - loss: 0.1626 - acc: 0.9995 - val_loss: 0.8425 - val_acc: 0.8460 - lr: 0.0040\n",
            "Epoch 152/200\n",
            "29/29 [==============================] - 8s 262ms/step - loss: 0.1625 - acc: 0.9987 - val_loss: 0.8471 - val_acc: 0.8380 - lr: 0.0040\n",
            "Epoch 153/200\n",
            "29/29 [==============================] - 8s 262ms/step - loss: 0.1626 - acc: 0.9989 - val_loss: 0.8460 - val_acc: 0.8470 - lr: 0.0040\n",
            "Epoch 154/200\n",
            "29/29 [==============================] - 8s 261ms/step - loss: 0.1616 - acc: 0.9987 - val_loss: 0.8104 - val_acc: 0.8486 - lr: 0.0040\n",
            "Epoch 155/200\n",
            "29/29 [==============================] - 8s 261ms/step - loss: 0.1612 - acc: 0.9989 - val_loss: 0.8296 - val_acc: 0.8475 - lr: 0.0040\n",
            "Epoch 156/200\n",
            "29/29 [==============================] - 8s 262ms/step - loss: 0.1601 - acc: 0.9989 - val_loss: 0.8703 - val_acc: 0.8444 - lr: 0.0040\n",
            "Epoch 157/200\n",
            "29/29 [==============================] - 8s 261ms/step - loss: 0.1611 - acc: 0.9987 - val_loss: 0.8262 - val_acc: 0.8481 - lr: 0.0040\n",
            "Epoch 158/200\n",
            "29/29 [==============================] - 8s 261ms/step - loss: 0.1589 - acc: 0.9997 - val_loss: 0.8578 - val_acc: 0.8475 - lr: 0.0040\n",
            "Epoch 159/200\n",
            "29/29 [==============================] - 8s 261ms/step - loss: 0.1608 - acc: 0.9978 - val_loss: 0.8322 - val_acc: 0.8491 - lr: 0.0040\n",
            "Epoch 160/200\n",
            "29/29 [==============================] - 8s 260ms/step - loss: 0.1597 - acc: 0.9995 - val_loss: 0.8338 - val_acc: 0.8539 - lr: 0.0040\n",
            "Epoch 161/200\n",
            "29/29 [==============================] - 8s 262ms/step - loss: 0.1592 - acc: 0.9989 - val_loss: 0.8812 - val_acc: 0.8470 - lr: 8.0000e-04\n",
            "Epoch 162/200\n",
            "29/29 [==============================] - 8s 261ms/step - loss: 0.1583 - acc: 0.9992 - val_loss: 0.8460 - val_acc: 0.8475 - lr: 8.0000e-04\n",
            "Epoch 163/200\n",
            "29/29 [==============================] - 8s 262ms/step - loss: 0.1583 - acc: 0.9989 - val_loss: 0.8231 - val_acc: 0.8518 - lr: 8.0000e-04\n",
            "Epoch 164/200\n",
            "29/29 [==============================] - 8s 262ms/step - loss: 0.1588 - acc: 0.9995 - val_loss: 0.8668 - val_acc: 0.8449 - lr: 8.0000e-04\n",
            "Epoch 165/200\n",
            "29/29 [==============================] - 8s 261ms/step - loss: 0.1586 - acc: 0.9992 - val_loss: 0.8265 - val_acc: 0.8502 - lr: 8.0000e-04\n",
            "Epoch 166/200\n",
            "29/29 [==============================] - 8s 260ms/step - loss: 0.1569 - acc: 0.9997 - val_loss: 0.8483 - val_acc: 0.8491 - lr: 8.0000e-04\n",
            "Epoch 167/200\n",
            "29/29 [==============================] - 8s 262ms/step - loss: 0.1585 - acc: 0.9984 - val_loss: 0.8375 - val_acc: 0.8454 - lr: 8.0000e-04\n",
            "Epoch 168/200\n",
            "29/29 [==============================] - 8s 261ms/step - loss: 0.1580 - acc: 0.9997 - val_loss: 0.8443 - val_acc: 0.8497 - lr: 8.0000e-04\n",
            "Epoch 169/200\n",
            "29/29 [==============================] - 8s 261ms/step - loss: 0.1585 - acc: 0.9992 - val_loss: 0.8439 - val_acc: 0.8486 - lr: 8.0000e-04\n",
            "Epoch 170/200\n",
            "29/29 [==============================] - 8s 261ms/step - loss: 0.1567 - acc: 0.9992 - val_loss: 0.8287 - val_acc: 0.8544 - lr: 8.0000e-04\n",
            "Epoch 171/200\n",
            "29/29 [==============================] - 8s 261ms/step - loss: 0.1560 - acc: 0.9995 - val_loss: 0.8143 - val_acc: 0.8518 - lr: 8.0000e-04\n",
            "Epoch 172/200\n",
            "29/29 [==============================] - 8s 261ms/step - loss: 0.1578 - acc: 0.9989 - val_loss: 0.8449 - val_acc: 0.8497 - lr: 8.0000e-04\n",
            "Epoch 173/200\n",
            "29/29 [==============================] - 8s 261ms/step - loss: 0.1562 - acc: 0.9995 - val_loss: 0.8350 - val_acc: 0.8481 - lr: 8.0000e-04\n",
            "Epoch 174/200\n",
            "29/29 [==============================] - 8s 262ms/step - loss: 0.1573 - acc: 0.9989 - val_loss: 0.8513 - val_acc: 0.8470 - lr: 8.0000e-04\n",
            "Epoch 175/200\n",
            "29/29 [==============================] - 8s 261ms/step - loss: 0.1559 - acc: 0.9995 - val_loss: 0.8410 - val_acc: 0.8581 - lr: 8.0000e-04\n",
            "Epoch 176/200\n",
            "29/29 [==============================] - 8s 260ms/step - loss: 0.1577 - acc: 0.9989 - val_loss: 0.8659 - val_acc: 0.8454 - lr: 8.0000e-04\n",
            "Epoch 177/200\n",
            "29/29 [==============================] - 8s 260ms/step - loss: 0.1564 - acc: 0.9995 - val_loss: 0.8264 - val_acc: 0.8502 - lr: 8.0000e-04\n",
            "Epoch 178/200\n",
            "29/29 [==============================] - 8s 260ms/step - loss: 0.1571 - acc: 0.9992 - val_loss: 0.8304 - val_acc: 0.8539 - lr: 8.0000e-04\n",
            "Epoch 179/200\n",
            "29/29 [==============================] - 8s 260ms/step - loss: 0.1564 - acc: 0.9992 - val_loss: 0.8314 - val_acc: 0.8555 - lr: 8.0000e-04\n",
            "Epoch 180/200\n",
            "29/29 [==============================] - 8s 261ms/step - loss: 0.1572 - acc: 0.9995 - val_loss: 0.8489 - val_acc: 0.8497 - lr: 8.0000e-04\n",
            "Epoch 181/200\n",
            "29/29 [==============================] - 8s 261ms/step - loss: 0.1556 - acc: 0.9992 - val_loss: 0.8677 - val_acc: 0.8412 - lr: 8.0000e-04\n",
            "Epoch 182/200\n",
            "29/29 [==============================] - 8s 261ms/step - loss: 0.1556 - acc: 0.9989 - val_loss: 0.8409 - val_acc: 0.8502 - lr: 8.0000e-04\n",
            "Epoch 183/200\n",
            "29/29 [==============================] - 8s 261ms/step - loss: 0.1557 - acc: 0.9995 - val_loss: 0.8428 - val_acc: 0.8465 - lr: 8.0000e-04\n",
            "Epoch 184/200\n",
            "29/29 [==============================] - 8s 261ms/step - loss: 0.1547 - acc: 0.9997 - val_loss: 0.8497 - val_acc: 0.8491 - lr: 8.0000e-04\n",
            "Epoch 185/200\n",
            "29/29 [==============================] - 8s 261ms/step - loss: 0.1560 - acc: 0.9995 - val_loss: 0.8432 - val_acc: 0.8576 - lr: 8.0000e-04\n",
            "Epoch 186/200\n",
            "29/29 [==============================] - 8s 260ms/step - loss: 0.1548 - acc: 0.9995 - val_loss: 0.8324 - val_acc: 0.8460 - lr: 8.0000e-04\n",
            "Epoch 187/200\n",
            "29/29 [==============================] - 8s 261ms/step - loss: 0.1573 - acc: 0.9989 - val_loss: 0.8692 - val_acc: 0.8444 - lr: 8.0000e-04\n",
            "Epoch 188/200\n",
            "29/29 [==============================] - 8s 261ms/step - loss: 0.1559 - acc: 0.9992 - val_loss: 0.8428 - val_acc: 0.8491 - lr: 8.0000e-04\n",
            "Epoch 189/200\n",
            "29/29 [==============================] - 8s 260ms/step - loss: 0.1568 - acc: 0.9987 - val_loss: 0.8207 - val_acc: 0.8534 - lr: 8.0000e-04\n",
            "Epoch 190/200\n",
            "29/29 [==============================] - 8s 261ms/step - loss: 0.1558 - acc: 0.9997 - val_loss: 0.8406 - val_acc: 0.8481 - lr: 8.0000e-04\n",
            "Epoch 191/200\n",
            "29/29 [==============================] - 8s 260ms/step - loss: 0.1568 - acc: 0.9987 - val_loss: 0.8483 - val_acc: 0.8460 - lr: 8.0000e-04\n",
            "Epoch 192/200\n",
            "29/29 [==============================] - 8s 261ms/step - loss: 0.1546 - acc: 1.0000 - val_loss: 0.8429 - val_acc: 0.8497 - lr: 8.0000e-04\n",
            "Epoch 193/200\n",
            "29/29 [==============================] - 8s 261ms/step - loss: 0.1543 - acc: 0.9995 - val_loss: 0.8623 - val_acc: 0.8449 - lr: 8.0000e-04\n",
            "Epoch 194/200\n",
            "29/29 [==============================] - 8s 261ms/step - loss: 0.1547 - acc: 0.9997 - val_loss: 0.8588 - val_acc: 0.8507 - lr: 8.0000e-04\n",
            "Epoch 195/200\n",
            "29/29 [==============================] - 8s 261ms/step - loss: 0.1564 - acc: 0.9984 - val_loss: 0.8459 - val_acc: 0.8470 - lr: 8.0000e-04\n",
            "Epoch 196/200\n",
            "29/29 [==============================] - 8s 261ms/step - loss: 0.1555 - acc: 0.9989 - val_loss: 0.8776 - val_acc: 0.8449 - lr: 8.0000e-04\n",
            "Epoch 197/200\n",
            "29/29 [==============================] - 8s 261ms/step - loss: 0.1536 - acc: 0.9997 - val_loss: 0.8624 - val_acc: 0.8438 - lr: 8.0000e-04\n",
            "Epoch 198/200\n",
            "29/29 [==============================] - 8s 261ms/step - loss: 0.1557 - acc: 0.9992 - val_loss: 0.8387 - val_acc: 0.8486 - lr: 8.0000e-04\n",
            "Epoch 199/200\n",
            "29/29 [==============================] - 8s 261ms/step - loss: 0.1545 - acc: 0.9987 - val_loss: 0.8375 - val_acc: 0.8475 - lr: 8.0000e-04\n",
            "Epoch 200/200\n",
            "29/29 [==============================] - 8s 261ms/step - loss: 0.1549 - acc: 0.9995 - val_loss: 0.8576 - val_acc: 0.8481 - lr: 8.0000e-04\n"
          ],
          "name": "stdout"
        }
      ]
    },
    {
      "cell_type": "code",
      "metadata": {
        "id": "xI39Sx-kYyUx",
        "colab_type": "code",
        "colab": {}
      },
      "source": [
        "wrn_16_2.save(\"model_wrn_last.h5\")"
      ],
      "execution_count": 0,
      "outputs": []
    },
    {
      "cell_type": "markdown",
      "metadata": {
        "id": "djH4uwAnvkfb",
        "colab_type": "text"
      },
      "source": [
        "**Visualization**"
      ]
    },
    {
      "cell_type": "code",
      "metadata": {
        "id": "lr_quzDGwKGM",
        "colab_type": "code",
        "outputId": "ed4eed97-c71f-437c-8613-c9b1fdfa2385",
        "colab": {
          "base_uri": "https://localhost:8080/",
          "height": 607
        }
      },
      "source": [
        "import matplotlib.pyplot as plt\n",
        "\n",
        "history = hist\n",
        "print(history.history.keys())\n",
        "# summarize history for accuracy\n",
        "plt.plot(history.history['acc'])\n",
        "plt.plot(history.history['val_acc'])\n",
        "plt.title('model accuracy')\n",
        "plt.ylabel('accuracy')\n",
        "plt.xlabel('epoch')\n",
        "plt.legend(['train', 'test'], loc='upper left')\n",
        "plt.show()\n",
        "plt.savefig(\"wrn_tensor.png\")\n",
        "# summarize history for loss\n",
        "plt.plot(history.history['loss'])\n",
        "plt.plot(history.history['val_loss'])\n",
        "plt.title('model loss')\n",
        "plt.ylabel('loss')\n",
        "plt.xlabel('epoch')\n",
        "plt.legend(['train', 'test'], loc='upper left')\n",
        "plt.show()\n",
        "plt.savefig(\"deneme.png\")"
      ],
      "execution_count": 0,
      "outputs": [
        {
          "output_type": "stream",
          "text": [
            "dict_keys(['loss', 'acc', 'val_loss', 'val_acc', 'lr'])\n"
          ],
          "name": "stdout"
        },
        {
          "output_type": "display_data",
          "data": {
            "image/png": "[encoded data removed]",
            "text/plain": [
              "<Figure size 432x288 with 1 Axes>"
            ]
          },
          "metadata": {
            "tags": [],
            "needs_background": "light"
          }
        },
        {
          "output_type": "display_data",
          "data": {
            "image/png": "[encoded data removed]",
            "text/plain": [
              "<Figure size 432x288 with 1 Axes>"
            ]
          },
          "metadata": {
            "tags": [],
            "needs_background": "light"
          }
        },
        {
          "output_type": "display_data",
          "data": {
            "text/plain": [
              "<Figure size 432x288 with 0 Axes>"
            ]
          },
          "metadata": {
            "tags": []
          }
        }
      ]
    },
    {
      "cell_type": "code",
      "metadata": {
        "id": "iE16jXuZw8xb",
        "colab_type": "code",
        "outputId": "efa50e79-2844-4d98-dd64-bb18a4d4eecd",
        "colab": {
          "base_uri": "https://localhost:8080/",
          "height": 51
        }
      },
      "source": [
        "wrn_16_2.evaluate(X_test,y_test)"
      ],
      "execution_count": 0,
      "outputs": [
        {
          "output_type": "stream",
          "text": [
            "60/60 [==============================] - 1s 18ms/step - loss: 0.8576 - acc: 0.8481\n"
          ],
          "name": "stdout"
        },
        {
          "output_type": "execute_result",
          "data": {
            "text/plain": [
              "[0.8576360940933228, 0.8480677604675293]"
            ]
          },
          "metadata": {
            "tags": []
          },
          "execution_count": 20
        }
      ]
    },
    {
      "cell_type": "code",
      "metadata": {
        "id": "SmZpcppX5u_C",
        "colab_type": "code",
        "outputId": "41daa711-ba42-41a3-cee8-7324b8e674f8",
        "colab": {
          "base_uri": "https://localhost:8080/",
          "height": 51
        }
      },
      "source": [
        "wrn_16_2.evaluate(X_train,y_train)"
      ],
      "execution_count": 0,
      "outputs": [
        {
          "output_type": "stream",
          "text": [
            "120/120 [==============================] - 2s 18ms/step - loss: 0.1522 - acc: 0.9995\n"
          ],
          "name": "stdout"
        },
        {
          "output_type": "execute_result",
          "data": {
            "text/plain": [
              "[0.1521795243024826, 0.9994782209396362]"
            ]
          },
          "metadata": {
            "tags": []
          },
          "execution_count": 21
        }
      ]
    },
    {
      "cell_type": "markdown",
      "metadata": {
        "id": "vEDHJIheU8bm",
        "colab_type": "text"
      },
      "source": [
        "# Adversarial Examples\n"
      ]
    },
    {
      "cell_type": "code",
      "metadata": {
        "id": "5QB8zFSSU7Qy",
        "colab_type": "code",
        "outputId": "3000a58d-2976-4198-c33f-663c0853adc0",
        "colab": {
          "base_uri": "https://localhost:8080/",
          "height": 734
        }
      },
      "source": [
        "!pip install -q tensorflow==2.0.0b1\n",
        "# Install bleeding edge version of cleverhans\n",
        "!pip install git+https://github.com/tensorflow/cleverhans.git#egg=cleverhans\n",
        "\n",
        "import cleverhans\n",
        "import tensorflow as tf\n",
        "import numpy as np\n",
        "import matplotlib.pyplot as plt\n",
        "\n",
        "print(\"\\nTensorflow Version: \" + tf.__version__)\n",
        "print(\"Cleverhans Version: \" + cleverhans.__version__)\n",
        "print(\"GPU Available: \", tf.test.is_gpu_available())"
      ],
      "execution_count": 0,
      "outputs": [
        {
          "output_type": "stream",
          "text": [
            "\u001b[K     |████████████████████████████████| 87.9MB 52kB/s \n",
            "\u001b[K     |████████████████████████████████| 3.1MB 59.7MB/s \n",
            "\u001b[K     |████████████████████████████████| 501kB 50.8MB/s \n",
            "\u001b[?25hCollecting cleverhans\n",
            "  Cloning https://github.com/tensorflow/cleverhans.git to /tmp/pip-install-lre8x7zq/cleverhans\n",
            "  Running command git clone -q https://github.com/tensorflow/cleverhans.git /tmp/pip-install-lre8x7zq/cleverhans\n",
            "Collecting nose\n",
            "\u001b[?25l  Downloading https://files.pythonhosted.org/packages/15/d8/dd071918c040f50fa1cf80da16423af51ff8ce4a0f2399b7bf8de45ac3d9/nose-1.3.7-py3-none-any.whl (154kB)\n",
            "\u001b[K     |████████████████████████████████| 163kB 9.9MB/s \n",
            "\u001b[?25hCollecting pycodestyle\n",
            "\u001b[?25l  Downloading https://files.pythonhosted.org/packages/10/5b/88879fb861ab79aef45c7e199cae3ef7af487b5603dcb363517a50602dd7/pycodestyle-2.6.0-py2.py3-none-any.whl (41kB)\n",
            "\u001b[K     |████████████████████████████████| 51kB 7.2MB/s \n",
            "\u001b[?25hRequirement already satisfied: scipy in /usr/local/lib/python3.6/dist-packages (from cleverhans) (1.4.1)\n",
            "Requirement already satisfied: matplotlib in /usr/local/lib/python3.6/dist-packages (from cleverhans) (3.2.1)\n",
            "Collecting mnist~=0.2\n",
            "  Downloading https://files.pythonhosted.org/packages/c6/c4/5db3bfe009f8d71f1d532bbadbd0ec203764bba3a469e4703a889db8e5e0/mnist-0.2.2-py2.py3-none-any.whl\n",
            "Requirement already satisfied: numpy in /usr/local/lib/python3.6/dist-packages (from cleverhans) (1.18.4)\n",
            "Requirement already satisfied: tensorflow-probability in /usr/local/lib/python3.6/dist-packages (from cleverhans) (0.10.0)\n",
            "Requirement already satisfied: joblib in /usr/local/lib/python3.6/dist-packages (from cleverhans) (0.15.1)\n",
            "Requirement already satisfied: kiwisolver>=1.0.1 in /usr/local/lib/python3.6/dist-packages (from matplotlib->cleverhans) (1.2.0)\n",
            "Requirement already satisfied: python-dateutil>=2.1 in /usr/local/lib/python3.6/dist-packages (from matplotlib->cleverhans) (2.8.1)\n",
            "Requirement already satisfied: cycler>=0.10 in /usr/local/lib/python3.6/dist-packages (from matplotlib->cleverhans) (0.10.0)\n",
            "Requirement already satisfied: pyparsing!=2.0.4,!=2.1.2,!=2.1.6,>=2.0.1 in /usr/local/lib/python3.6/dist-packages (from matplotlib->cleverhans) (2.4.7)\n",
            "Requirement already satisfied: decorator in /usr/local/lib/python3.6/dist-packages (from tensorflow-probability->cleverhans) (4.4.2)\n",
            "Requirement already satisfied: gast>=0.3.2 in /usr/local/lib/python3.6/dist-packages (from tensorflow-probability->cleverhans) (0.3.3)\n",
            "Requirement already satisfied: six>=1.10.0 in /usr/local/lib/python3.6/dist-packages (from tensorflow-probability->cleverhans) (1.12.0)\n",
            "Requirement already satisfied: cloudpickle>=1.2.2 in /usr/local/lib/python3.6/dist-packages (from tensorflow-probability->cleverhans) (1.3.0)\n",
            "Building wheels for collected packages: cleverhans\n",
            "  Building wheel for cleverhans (setup.py) ... \u001b[?25l\u001b[?25hdone\n",
            "  Created wheel for cleverhans: filename=cleverhans-3.0.1-cp36-none-any.whl size=262572 sha256=095e958ec6d618a1a10164c3c7cef515b0ca1e7b431cd57ded44b74e6f0afe52\n",
            "  Stored in directory: /tmp/pip-ephem-wheel-cache-drhvuq2w/wheels/6e/59/ec/723a6f654aaf62c8c40f0f0850fdf71a4948598697f56c3bfa\n",
            "Successfully built cleverhans\n",
            "Installing collected packages: nose, pycodestyle, mnist, cleverhans\n",
            "Successfully installed cleverhans-3.0.1 mnist-0.2.2 nose-1.3.7 pycodestyle-2.6.0\n",
            "\n",
            "Tensorflow Version: 2.2.0\n",
            "Cleverhans Version: 3.0.1-fc7b7c7ec903258e0e3fb88503fa629f\n",
            "WARNING:tensorflow:From <ipython-input-22-67a2c783edbc>:12: is_gpu_available (from tensorflow.python.framework.test_util) is deprecated and will be removed in a future version.\n",
            "Instructions for updating:\n",
            "Use `tf.config.list_physical_devices('GPU')` instead.\n",
            "GPU Available:  True\n"
          ],
          "name": "stdout"
        }
      ]
    },
    {
      "cell_type": "code",
      "metadata": {
        "id": "2_bfZ4G8W_sM",
        "colab_type": "code",
        "colab": {}
      },
      "source": [
        "from cleverhans.future.tf2.attacks import fast_gradient_method\n",
        "\n",
        "#The attack requires the model to ouput the logits\n",
        "logits_model = tf.keras.Model(wrn_16_2.input,wrn_16_2.layers[-1].output)"
      ],
      "execution_count": 0,
      "outputs": []
    },
    {
      "cell_type": "code",
      "metadata": {
        "id": "gGWIlakqVD_i",
        "colab_type": "code",
        "colab": {}
      },
      "source": [
        "X_adv = []\n",
        "y_adv = []\n",
        "for i in range(len(X)):\n",
        "  random_index = i\n",
        "  original_image = X[random_index]\n",
        "  original_image = tf.convert_to_tensor(original_image.reshape((1,68,100))) #The .reshape just gives it the proper form to input into the model, a batch of 1 a.k.a a tensor\n",
        "\n",
        "  original_label = y_cat[random_index]\n",
        "\n",
        "  epsilon = 0.5\n",
        "  original_label\n",
        "  adv_example_targeted_label = fast_gradient_method(logits_model, original_image, epsilon, np.inf, targeted=False)\n",
        "\n",
        "  adv_example_targeted_label_pred = wrn_16_2.predict(adv_example_targeted_label)\n",
        "  X_adv.append(adv_example_targeted_label)\n",
        "  y_adv.append(np.argmax(adv_example_targeted_label_pred))"
      ],
      "execution_count": 0,
      "outputs": []
    },
    {
      "cell_type": "code",
      "metadata": {
        "id": "M1DCXV9Tc9B0",
        "colab_type": "code",
        "colab": {}
      },
      "source": [
        "import pickle\n",
        "\n",
        "my_data = {'image': X_adv,\n",
        "           'label': y_adv_df['Encoded']\n",
        "           }\n",
        "output = open('data_adv_50.pkl', 'wb')\n",
        "pickle.dump(my_data, output)\n",
        "output.close()"
      ],
      "execution_count": 0,
      "outputs": []
    },
    {
      "cell_type": "markdown",
      "metadata": {
        "id": "ZuWpwrKuwmsc",
        "colab_type": "text"
      },
      "source": [
        "# Adversarial Training"
      ]
    },
    {
      "cell_type": "code",
      "metadata": {
        "id": "nfF0d5ePbXK0",
        "colab_type": "code",
        "colab": {}
      },
      "source": [
        "y_adv = np.array(y_adv)"
      ],
      "execution_count": 0,
      "outputs": []
    },
    {
      "cell_type": "code",
      "metadata": {
        "id": "d5I9X-0mboqa",
        "colab_type": "code",
        "colab": {}
      },
      "source": [
        "y_adv_df = pd.DataFrame(y_adv, columns=['Encoded'])\n",
        "y_adv_df['Encoded'] = labelencoder.fit_transform(y_adv)"
      ],
      "execution_count": 0,
      "outputs": []
    },
    {
      "cell_type": "code",
      "metadata": {
        "id": "IcxHP-bTcIwR",
        "colab_type": "code",
        "outputId": "8d3a987f-14db-4cc5-a9a7-f547ae57b149",
        "colab": {
          "base_uri": "https://localhost:8080/",
          "height": 102
        }
      },
      "source": [
        "y_adv_df['Encoded'].value_counts()"
      ],
      "execution_count": 0,
      "outputs": [
        {
          "output_type": "execute_result",
          "data": {
            "text/plain": [
              "1    2446\n",
              "2    1485\n",
              "0    1435\n",
              "3     356\n",
              "Name: Encoded, dtype: int64"
            ]
          },
          "metadata": {
            "tags": []
          },
          "execution_count": 27
        }
      ]
    },
    {
      "cell_type": "code",
      "metadata": {
        "id": "J1mGBoQbd46-",
        "colab_type": "code",
        "colab": {}
      },
      "source": [
        "X_new = []\n",
        "X_adv =my_data['image']\n",
        "for i in range(len(X_adv)):\n",
        "  a = np.array(X_adv[i])\n",
        "  X_new.append(a.reshape(68,100,1))"
      ],
      "execution_count": 0,
      "outputs": []
    },
    {
      "cell_type": "code",
      "metadata": {
        "id": "DdE_WN8Ffgyz",
        "colab_type": "code",
        "colab": {}
      },
      "source": [
        "for i in range(len(X)):\n",
        "  a = np.array(X[i])\n",
        "  X_new.append(a)"
      ],
      "execution_count": 0,
      "outputs": []
    },
    {
      "cell_type": "code",
      "metadata": {
        "id": "YKAnXO0Vfg1T",
        "colab_type": "code",
        "colab": {}
      },
      "source": [
        "X_third = np.array(X_new)"
      ],
      "execution_count": 0,
      "outputs": []
    },
    {
      "cell_type": "code",
      "metadata": {
        "id": "D_jH1i_FMA2V",
        "colab_type": "code",
        "colab": {}
      },
      "source": [
        "X_adv_a = np.array(X_new)"
      ],
      "execution_count": 0,
      "outputs": []
    },
    {
      "cell_type": "code",
      "metadata": {
        "id": "Dackr68mMA0Y",
        "colab_type": "code",
        "outputId": "d8982972-079c-4875-cbaa-e41c46e261a2",
        "colab": {
          "base_uri": "https://localhost:8080/",
          "height": 34
        }
      },
      "source": [
        "X_adv_a.shape"
      ],
      "execution_count": 0,
      "outputs": [
        {
          "output_type": "execute_result",
          "data": {
            "text/plain": [
              "(5722, 68, 100, 1)"
            ]
          },
          "metadata": {
            "tags": []
          },
          "execution_count": 67
        }
      ]
    },
    {
      "cell_type": "code",
      "metadata": {
        "id": "m9UIXimpiKWk",
        "colab_type": "code",
        "colab": {}
      },
      "source": [
        "y_new = []\n",
        "for j in range(0,2):\n",
        "  for i in range(len(y_cat)):\n",
        "    y_new.append(y_cat[i])\n",
        "y_third = np.array(y_new)"
      ],
      "execution_count": 0,
      "outputs": []
    },
    {
      "cell_type": "code",
      "metadata": {
        "id": "vuRIuXcNiKY4",
        "colab_type": "code",
        "colab": {}
      },
      "source": [
        "X_all, y_all = X_third, y_third"
      ],
      "execution_count": 0,
      "outputs": []
    },
    {
      "cell_type": "code",
      "metadata": {
        "id": "qJXveP1Veo7G",
        "colab_type": "code",
        "colab": {}
      },
      "source": [
        "X_train_adv, X_test_adv, y_train_adv, y_test_adv = train_test_split( X_all,y_all, test_size = 0.33, shuffle=True)"
      ],
      "execution_count": 0,
      "outputs": []
    },
    {
      "cell_type": "code",
      "metadata": {
        "id": "WMJjEg9qiI0n",
        "colab_type": "code",
        "colab": {}
      },
      "source": [
        ""
      ],
      "execution_count": 0,
      "outputs": []
    },
    {
      "cell_type": "code",
      "metadata": {
        "id": "HibsOpTIcNq8",
        "colab_type": "code",
        "outputId": "51b89374-b048-42ff-affa-ead4e67a376f",
        "colab": {
          "base_uri": "https://localhost:8080/",
          "height": 68
        }
      },
      "source": [
        "wrn_16_2_adv = create_wide_residual_network(init, nb_classes=4, N=2, k=2, dropout=0.3)"
      ],
      "execution_count": 0,
      "outputs": [
        {
          "output_type": "stream",
          "text": [
            "conv2:channel:  -1\n",
            "conv3 channel_axis:-1 \n",
            "Parseval Residual Network-16-2 created.\n"
          ],
          "name": "stdout"
        }
      ]
    },
    {
      "cell_type": "code",
      "metadata": {
        "id": "q96wjHqxeTJ-",
        "colab_type": "code",
        "outputId": "a4d368aa-851b-40db-bd49-861a8da51ad4",
        "colab": {
          "base_uri": "https://localhost:8080/",
          "height": 34
        }
      },
      "source": [
        "wrn_16_2_adv.compile(loss=\"categorical_crossentropy\", optimizer=sgd, metrics=[\"acc\"])\n",
        "print(\"Finished compiling\")\n",
        "BS_adv= 100\n",
        "EPOCHS_adv = 50"
      ],
      "execution_count": 0,
      "outputs": [
        {
          "output_type": "stream",
          "text": [
            "Finished compiling\n"
          ],
          "name": "stdout"
        }
      ]
    },
    {
      "cell_type": "code",
      "metadata": {
        "id": "-Jewqs8yxlnf",
        "colab_type": "code",
        "colab": {}
      },
      "source": [
        "def lr_sch_train(epoch):\n",
        "    if epoch < 10:\n",
        "        return 0.1\n",
        "    elif epoch <20:\n",
        "        return 0.1/2.0\n",
        "    elif epoch < 30:\n",
        "        return 0.1/2.0**2\n",
        "    elif epoch < 40:\n",
        "        return 0.1/2.0**3\n",
        "    else:\n",
        "        return 0.1/2.0**4\n",
        "\n",
        "# Learning rate scheduler callback\n",
        "lr_scheduler_train = LearningRateScheduler(lr_sch_train)"
      ],
      "execution_count": 0,
      "outputs": []
    },
    {
      "cell_type": "code",
      "metadata": {
        "id": "9FIn8khEd45J",
        "colab_type": "code",
        "outputId": "aab6bbd4-fde4-49ff-99b6-8c5343ced09c",
        "colab": {
          "base_uri": "https://localhost:8080/",
          "height": 1000
        }
      },
      "source": [
        "\n",
        "hist = wrn_16_2_adv.fit_generator(generator.flow(X_train_adv, y_train_adv, batch_size=BS_adv), steps_per_epoch=len(X_train_adv) // BS_adv, epochs=EPOCHS_adv,\n",
        "                   callbacks=[lr_scheduler_train],\n",
        "                   validation_data=(X_test_adv, y_test_adv),\n",
        "                   validation_steps=X_test_adv.shape[0] // BS_adv,)"
      ],
      "execution_count": 0,
      "outputs": [
        {
          "output_type": "stream",
          "text": [
            "Epoch 1/50\n",
            "76/76 [==============================] - 19s 255ms/step - loss: 2.3848 - acc: 0.3534 - val_loss: 2.2511 - val_acc: 0.3950 - lr: 0.1000\n",
            "Epoch 2/50\n",
            "76/76 [==============================] - 17s 222ms/step - loss: 2.1788 - acc: 0.4086 - val_loss: 2.0734 - val_acc: 0.4376 - lr: 0.1000\n",
            "Epoch 3/50\n",
            "76/76 [==============================] - 17s 218ms/step - loss: 2.0265 - acc: 0.4284 - val_loss: 1.9182 - val_acc: 0.4631 - lr: 0.1000\n",
            "Epoch 4/50\n",
            "76/76 [==============================] - 16s 217ms/step - loss: 1.8597 - acc: 0.4746 - val_loss: 1.8200 - val_acc: 0.5150 - lr: 0.1000\n",
            "Epoch 5/50\n",
            "76/76 [==============================] - 17s 219ms/step - loss: 1.7616 - acc: 0.4787 - val_loss: 1.6950 - val_acc: 0.5068 - lr: 0.1000\n",
            "Epoch 6/50\n",
            "76/76 [==============================] - 17s 219ms/step - loss: 1.6339 - acc: 0.5143 - val_loss: 1.6061 - val_acc: 0.5052 - lr: 0.1000\n",
            "Epoch 7/50\n",
            "76/76 [==============================] - 17s 218ms/step - loss: 1.5403 - acc: 0.5389 - val_loss: 1.4748 - val_acc: 0.5536 - lr: 0.1000\n",
            "Epoch 8/50\n",
            "76/76 [==============================] - 17s 218ms/step - loss: 1.4556 - acc: 0.5525 - val_loss: 1.3954 - val_acc: 0.5613 - lr: 0.1000\n",
            "Epoch 9/50\n",
            "76/76 [==============================] - 17s 217ms/step - loss: 1.3813 - acc: 0.5605 - val_loss: 1.3430 - val_acc: 0.5790 - lr: 0.1000\n",
            "Epoch 10/50\n",
            "76/76 [==============================] - 17s 218ms/step - loss: 1.3228 - acc: 0.5680 - val_loss: 1.3049 - val_acc: 0.5703 - lr: 0.1000\n",
            "Epoch 11/50\n",
            "76/76 [==============================] - 17s 218ms/step - loss: 1.2557 - acc: 0.5913 - val_loss: 1.1921 - val_acc: 0.6315 - lr: 0.0500\n",
            "Epoch 12/50\n",
            "76/76 [==============================] - 17s 218ms/step - loss: 1.1975 - acc: 0.6125 - val_loss: 1.1714 - val_acc: 0.6195 - lr: 0.0500\n",
            "Epoch 13/50\n",
            "76/76 [==============================] - 17s 218ms/step - loss: 1.1625 - acc: 0.6191 - val_loss: 1.2266 - val_acc: 0.5917 - lr: 0.0500\n",
            "Epoch 14/50\n",
            "76/76 [==============================] - 17s 218ms/step - loss: 1.1293 - acc: 0.6346 - val_loss: 1.1366 - val_acc: 0.6325 - lr: 0.0500\n",
            "Epoch 15/50\n",
            "76/76 [==============================] - 17s 218ms/step - loss: 1.1171 - acc: 0.6367 - val_loss: 1.1104 - val_acc: 0.6262 - lr: 0.0500\n",
            "Epoch 16/50\n",
            "76/76 [==============================] - 17s 218ms/step - loss: 1.0976 - acc: 0.6469 - val_loss: 1.0555 - val_acc: 0.6534 - lr: 0.0500\n",
            "Epoch 17/50\n",
            "76/76 [==============================] - 17s 218ms/step - loss: 1.0620 - acc: 0.6530 - val_loss: 1.1669 - val_acc: 0.6068 - lr: 0.0500\n",
            "Epoch 18/50\n",
            "76/76 [==============================] - 17s 218ms/step - loss: 1.0588 - acc: 0.6522 - val_loss: 1.0620 - val_acc: 0.6579 - lr: 0.0500\n",
            "Epoch 19/50\n",
            "76/76 [==============================] - 17s 218ms/step - loss: 1.0264 - acc: 0.6630 - val_loss: 0.9788 - val_acc: 0.6892 - lr: 0.0500\n",
            "Epoch 20/50\n",
            "76/76 [==============================] - 17s 218ms/step - loss: 0.9989 - acc: 0.6769 - val_loss: 0.9914 - val_acc: 0.6685 - lr: 0.0500\n",
            "Epoch 21/50\n",
            "76/76 [==============================] - 17s 217ms/step - loss: 0.9293 - acc: 0.7077 - val_loss: 0.9673 - val_acc: 0.6871 - lr: 0.0250\n",
            "Epoch 22/50\n",
            "76/76 [==============================] - 17s 218ms/step - loss: 0.8905 - acc: 0.7245 - val_loss: 0.9596 - val_acc: 0.6976 - lr: 0.0250\n",
            "Epoch 23/50\n",
            "76/76 [==============================] - 17s 217ms/step - loss: 0.8782 - acc: 0.7308 - val_loss: 0.9576 - val_acc: 0.6976 - lr: 0.0250\n",
            "Epoch 24/50\n",
            "76/76 [==============================] - 17s 218ms/step - loss: 0.8521 - acc: 0.7406 - val_loss: 0.9376 - val_acc: 0.6950 - lr: 0.0250\n",
            "Epoch 25/50\n",
            "76/76 [==============================] - 17s 218ms/step - loss: 0.8239 - acc: 0.7467 - val_loss: 0.9470 - val_acc: 0.7019 - lr: 0.0250\n",
            "Epoch 26/50\n",
            "76/76 [==============================] - 17s 218ms/step - loss: 0.8176 - acc: 0.7497 - val_loss: 0.9426 - val_acc: 0.7125 - lr: 0.0250\n",
            "Epoch 27/50\n",
            "76/76 [==============================] - 17s 217ms/step - loss: 0.8047 - acc: 0.7534 - val_loss: 0.8452 - val_acc: 0.7498 - lr: 0.0250\n",
            "Epoch 28/50\n",
            "76/76 [==============================] - 17s 218ms/step - loss: 0.7779 - acc: 0.7675 - val_loss: 0.8121 - val_acc: 0.7543 - lr: 0.0250\n",
            "Epoch 29/50\n",
            "76/76 [==============================] - 17s 218ms/step - loss: 0.7733 - acc: 0.7642 - val_loss: 0.9208 - val_acc: 0.7111 - lr: 0.0250\n",
            "Epoch 30/50\n",
            "76/76 [==============================] - 17s 218ms/step - loss: 0.7388 - acc: 0.7849 - val_loss: 0.7853 - val_acc: 0.7723 - lr: 0.0250\n",
            "Epoch 31/50\n",
            "76/76 [==============================] - 17s 218ms/step - loss: 0.6801 - acc: 0.8117 - val_loss: 0.7965 - val_acc: 0.7609 - lr: 0.0125\n",
            "Epoch 32/50\n",
            "76/76 [==============================] - 17s 218ms/step - loss: 0.6577 - acc: 0.8183 - val_loss: 0.8175 - val_acc: 0.7715 - lr: 0.0125\n",
            "Epoch 33/50\n",
            "76/76 [==============================] - 17s 218ms/step - loss: 0.6350 - acc: 0.8256 - val_loss: 0.7401 - val_acc: 0.7927 - lr: 0.0125\n",
            "Epoch 34/50\n",
            "76/76 [==============================] - 17s 218ms/step - loss: 0.6199 - acc: 0.8307 - val_loss: 0.7623 - val_acc: 0.7887 - lr: 0.0125\n",
            "Epoch 35/50\n",
            "76/76 [==============================] - 17s 218ms/step - loss: 0.6059 - acc: 0.8323 - val_loss: 0.7908 - val_acc: 0.7697 - lr: 0.0125\n",
            "Epoch 36/50\n",
            "76/76 [==============================] - 17s 218ms/step - loss: 0.6048 - acc: 0.8345 - val_loss: 0.7155 - val_acc: 0.7956 - lr: 0.0125\n",
            "Epoch 37/50\n",
            "76/76 [==============================] - 17s 218ms/step - loss: 0.5955 - acc: 0.8414 - val_loss: 0.7919 - val_acc: 0.7813 - lr: 0.0125\n",
            "Epoch 38/50\n",
            "76/76 [==============================] - 17s 218ms/step - loss: 0.5999 - acc: 0.8429 - val_loss: 0.7933 - val_acc: 0.7792 - lr: 0.0125\n",
            "Epoch 39/50\n",
            "76/76 [==============================] - 17s 218ms/step - loss: 0.5791 - acc: 0.8521 - val_loss: 0.7347 - val_acc: 0.7967 - lr: 0.0125\n",
            "Epoch 40/50\n",
            "76/76 [==============================] - 17s 219ms/step - loss: 0.5745 - acc: 0.8455 - val_loss: 0.9108 - val_acc: 0.7572 - lr: 0.0125\n",
            "Epoch 41/50\n",
            "76/76 [==============================] - 17s 218ms/step - loss: 0.5123 - acc: 0.8772 - val_loss: 0.7802 - val_acc: 0.7930 - lr: 0.0063\n",
            "Epoch 42/50\n",
            "76/76 [==============================] - 17s 218ms/step - loss: 0.4852 - acc: 0.8893 - val_loss: 0.7905 - val_acc: 0.7879 - lr: 0.0063\n",
            "Epoch 43/50\n",
            "76/76 [==============================] - 17s 218ms/step - loss: 0.4624 - acc: 0.8937 - val_loss: 0.7319 - val_acc: 0.8091 - lr: 0.0063\n",
            "Epoch 44/50\n",
            "76/76 [==============================] - 17s 218ms/step - loss: 0.4544 - acc: 0.8941 - val_loss: 0.6936 - val_acc: 0.8210 - lr: 0.0063\n",
            "Epoch 45/50\n",
            "76/76 [==============================] - 17s 218ms/step - loss: 0.4508 - acc: 0.8986 - val_loss: 0.6839 - val_acc: 0.8155 - lr: 0.0063\n",
            "Epoch 46/50\n",
            "76/76 [==============================] - 17s 218ms/step - loss: 0.4444 - acc: 0.8998 - val_loss: 0.7637 - val_acc: 0.8030 - lr: 0.0063\n",
            "Epoch 47/50\n",
            "76/76 [==============================] - 17s 218ms/step - loss: 0.4333 - acc: 0.9002 - val_loss: 0.6777 - val_acc: 0.8306 - lr: 0.0063\n",
            "Epoch 48/50\n",
            "76/76 [==============================] - 17s 218ms/step - loss: 0.4468 - acc: 0.9000 - val_loss: 0.8016 - val_acc: 0.7967 - lr: 0.0063\n",
            "Epoch 49/50\n",
            "76/76 [==============================] - 17s 218ms/step - loss: 0.4254 - acc: 0.9079 - val_loss: 0.9029 - val_acc: 0.7683 - lr: 0.0063\n",
            "Epoch 50/50\n",
            "76/76 [==============================] - 17s 219ms/step - loss: 0.4225 - acc: 0.9034 - val_loss: 0.7920 - val_acc: 0.7927 - lr: 0.0063\n"
          ],
          "name": "stdout"
        }
      ]
    },
    {
      "cell_type": "code",
      "metadata": {
        "id": "3qXnteSOpFZH",
        "colab_type": "code",
        "colab": {}
      },
      "source": [
        "wrn_16_2_adv.save(\"model_adv_wrn_tensor_dropout.h5\")"
      ],
      "execution_count": 0,
      "outputs": []
    },
    {
      "cell_type": "markdown",
      "metadata": {
        "id": "CeetxZrNv9oM",
        "colab_type": "text"
      },
      "source": [
        "**Visualization**"
      ]
    },
    {
      "cell_type": "code",
      "metadata": {
        "id": "-S5IjLivpMbp",
        "colab_type": "code",
        "outputId": "2c8e4446-b0d0-45dc-b633-854cd1e1fb63",
        "colab": {
          "base_uri": "https://localhost:8080/",
          "height": 607
        }
      },
      "source": [
        "import matplotlib.pyplot as plt\n",
        "\n",
        "history = hist\n",
        "print(history.history.keys())\n",
        "# summarize history for accuracy\n",
        "plt.plot(history.history['acc'])\n",
        "plt.plot(history.history['val_acc'])\n",
        "plt.title('model accuracy')\n",
        "plt.ylabel('accuracy')\n",
        "plt.xlabel('epoch')\n",
        "plt.legend(['train', 'test'], loc='upper left')\n",
        "plt.show()\n",
        "plt.savefig(\"wrn_tensor.png\")\n",
        "# summarize history for loss\n",
        "plt.plot(history.history['loss'])\n",
        "plt.plot(history.history['val_loss'])\n",
        "plt.title('model loss')\n",
        "plt.ylabel('loss')\n",
        "plt.xlabel('epoch')\n",
        "plt.legend(['train', 'test'], loc='upper left')\n",
        "plt.show()\n",
        "plt.savefig(\"deneme.png\")"
      ],
      "execution_count": 0,
      "outputs": [
        {
          "output_type": "stream",
          "text": [
            "dict_keys(['loss', 'acc', 'val_loss', 'val_acc', 'lr'])\n"
          ],
          "name": "stdout"
        },
        {
          "output_type": "display_data",
          "data": {
            "image/png": "[encoded data removed]",
            "text/plain": [
              "<Figure size 432x288 with 1 Axes>"
            ]
          },
          "metadata": {
            "tags": [],
            "needs_background": "light"
          }
        },
        {
          "output_type": "display_data",
          "data": {
            "image/png": "[encoded data removed]",
            "text/plain": [
              "<Figure size 432x288 with 1 Axes>"
            ]
          },
          "metadata": {
            "tags": [],
            "needs_background": "light"
          }
        },
        {
          "output_type": "display_data",
          "data": {
            "text/plain": [
              "<Figure size 432x288 with 0 Axes>"
            ]
          },
          "metadata": {
            "tags": []
          }
        }
      ]
    },
    {
      "cell_type": "markdown",
      "metadata": {
        "id": "ftcU_6z90QSJ",
        "colab_type": "text"
      },
      "source": [
        "**CleanExperiment**"
      ]
    },
    {
      "cell_type": "code",
      "metadata": {
        "id": "3i5qUE6j0JUE",
        "colab_type": "code",
        "outputId": "824fb8f1-c0a4-4e25-d711-6ae18f60fa9b",
        "colab": {
          "base_uri": "https://localhost:8080/",
          "height": 68
        }
      },
      "source": [
        "wrn_16_2_clean = create_wide_residual_network(init, nb_classes=4, N=2, k=2, dropout=0.3)"
      ],
      "execution_count": 0,
      "outputs": [
        {
          "output_type": "stream",
          "text": [
            "conv2:channel:  -1\n",
            "conv3 channel_axis:-1 \n",
            "Parseval Residual Network-16-2 created.\n"
          ],
          "name": "stdout"
        }
      ]
    },
    {
      "cell_type": "code",
      "metadata": {
        "id": "X4p2TUIj0csZ",
        "colab_type": "code",
        "outputId": "088a7bbd-4388-4f74-b42d-4ec566cf41c5",
        "colab": {
          "base_uri": "https://localhost:8080/",
          "height": 34
        }
      },
      "source": [
        "wrn_16_2_clean.compile(loss=\"categorical_crossentropy\", optimizer=sgd, metrics=[\"acc\"])\n",
        "print(\"Finished compiling\")"
      ],
      "execution_count": 0,
      "outputs": [
        {
          "output_type": "stream",
          "text": [
            "Finished compiling\n"
          ],
          "name": "stdout"
        }
      ]
    },
    {
      "cell_type": "code",
      "metadata": {
        "id": "5rQljdkd0he9",
        "colab_type": "code",
        "outputId": "a10f7989-0a7b-42b2-c04a-99b147a73568",
        "colab": {
          "base_uri": "https://localhost:8080/",
          "height": 1000
        }
      },
      "source": [
        "hist_clean = wrn_16_2_clean.fit_generator(generator.flow(X_train, y_train, batch_size=BS_adv), steps_per_epoch=len(X_train) // BS_adv, epochs=EPOCHS_adv,\n",
        "                   callbacks=[lr_scheduler_train],\n",
        "                   validation_data=(X_test, y_test),\n",
        "                   validation_steps=X_test.shape[0] // BS_adv,)"
      ],
      "execution_count": 0,
      "outputs": [
        {
          "output_type": "stream",
          "text": [
            "Epoch 1/50\n",
            "38/38 [==============================] - 10s 268ms/step - loss: 2.4503 - acc: 0.3255 - val_loss: 2.3941 - val_acc: 0.3838 - lr: 0.1000\n",
            "Epoch 2/50\n",
            "38/38 [==============================] - 8s 215ms/step - loss: 2.3068 - acc: 0.3825 - val_loss: 2.2536 - val_acc: 0.3992 - lr: 0.1000\n",
            "Epoch 3/50\n",
            "38/38 [==============================] - 8s 215ms/step - loss: 2.2091 - acc: 0.4120 - val_loss: 2.1142 - val_acc: 0.4627 - lr: 0.1000\n",
            "Epoch 4/50\n",
            "38/38 [==============================] - 8s 215ms/step - loss: 2.1355 - acc: 0.4061 - val_loss: 2.0448 - val_acc: 0.4484 - lr: 0.1000\n",
            "Epoch 5/50\n",
            "38/38 [==============================] - 8s 215ms/step - loss: 2.0459 - acc: 0.4366 - val_loss: 1.9408 - val_acc: 0.4876 - lr: 0.1000\n",
            "Epoch 6/50\n",
            "38/38 [==============================] - 8s 217ms/step - loss: 1.9699 - acc: 0.4545 - val_loss: 1.8559 - val_acc: 0.5040 - lr: 0.1000\n",
            "Epoch 7/50\n",
            "38/38 [==============================] - 8s 214ms/step - loss: 1.8702 - acc: 0.4913 - val_loss: 1.7496 - val_acc: 0.5686 - lr: 0.1000\n",
            "Epoch 8/50\n",
            "38/38 [==============================] - 8s 213ms/step - loss: 1.7667 - acc: 0.5221 - val_loss: 1.6291 - val_acc: 0.5940 - lr: 0.1000\n",
            "Epoch 9/50\n",
            "38/38 [==============================] - 8s 214ms/step - loss: 1.7040 - acc: 0.5309 - val_loss: 1.6678 - val_acc: 0.5484 - lr: 0.1000\n",
            "Epoch 10/50\n",
            "38/38 [==============================] - 8s 213ms/step - loss: 1.6246 - acc: 0.5553 - val_loss: 1.4651 - val_acc: 0.6437 - lr: 0.1000\n",
            "Epoch 11/50\n",
            "38/38 [==============================] - 8s 213ms/step - loss: 1.5266 - acc: 0.5883 - val_loss: 1.4456 - val_acc: 0.6241 - lr: 0.0500\n",
            "Epoch 12/50\n",
            "38/38 [==============================] - 8s 212ms/step - loss: 1.4793 - acc: 0.6035 - val_loss: 1.3680 - val_acc: 0.6533 - lr: 0.0500\n",
            "Epoch 13/50\n",
            "38/38 [==============================] - 8s 213ms/step - loss: 1.4161 - acc: 0.6268 - val_loss: 1.5318 - val_acc: 0.5675 - lr: 0.0500\n",
            "Epoch 14/50\n",
            "38/38 [==============================] - 8s 213ms/step - loss: 1.3805 - acc: 0.6512 - val_loss: 1.4380 - val_acc: 0.6008 - lr: 0.0500\n",
            "Epoch 15/50\n",
            "38/38 [==============================] - 8s 214ms/step - loss: 1.3492 - acc: 0.6593 - val_loss: 1.2121 - val_acc: 0.7088 - lr: 0.0500\n",
            "Epoch 16/50\n",
            "38/38 [==============================] - 8s 214ms/step - loss: 1.3070 - acc: 0.6603 - val_loss: 1.2489 - val_acc: 0.6755 - lr: 0.0500\n",
            "Epoch 17/50\n",
            "38/38 [==============================] - 8s 214ms/step - loss: 1.2857 - acc: 0.6732 - val_loss: 1.2421 - val_acc: 0.6871 - lr: 0.0500\n",
            "Epoch 18/50\n",
            "38/38 [==============================] - 8s 214ms/step - loss: 1.2558 - acc: 0.6764 - val_loss: 1.2413 - val_acc: 0.6792 - lr: 0.0500\n",
            "Epoch 19/50\n",
            "38/38 [==============================] - 8s 214ms/step - loss: 1.1985 - acc: 0.6863 - val_loss: 1.1478 - val_acc: 0.7253 - lr: 0.0500\n",
            "Epoch 20/50\n",
            "38/38 [==============================] - 8s 214ms/step - loss: 1.1931 - acc: 0.6952 - val_loss: 1.1562 - val_acc: 0.7094 - lr: 0.0500\n",
            "Epoch 21/50\n",
            "38/38 [==============================] - 8s 214ms/step - loss: 1.1325 - acc: 0.7163 - val_loss: 1.0830 - val_acc: 0.7274 - lr: 0.0250\n",
            "Epoch 22/50\n",
            "38/38 [==============================] - 8s 213ms/step - loss: 1.0843 - acc: 0.7418 - val_loss: 1.0645 - val_acc: 0.7401 - lr: 0.0250\n",
            "Epoch 23/50\n",
            "38/38 [==============================] - 8s 214ms/step - loss: 1.0619 - acc: 0.7522 - val_loss: 1.0738 - val_acc: 0.7300 - lr: 0.0250\n",
            "Epoch 24/50\n",
            "38/38 [==============================] - 8s 214ms/step - loss: 1.0546 - acc: 0.7450 - val_loss: 1.0289 - val_acc: 0.7459 - lr: 0.0250\n",
            "Epoch 25/50\n",
            "38/38 [==============================] - 8s 215ms/step - loss: 1.0250 - acc: 0.7576 - val_loss: 1.0322 - val_acc: 0.7427 - lr: 0.0250\n",
            "Epoch 26/50\n",
            "38/38 [==============================] - 8s 217ms/step - loss: 1.0086 - acc: 0.7539 - val_loss: 1.0352 - val_acc: 0.7475 - lr: 0.0250\n",
            "Epoch 27/50\n",
            "38/38 [==============================] - 8s 213ms/step - loss: 0.9837 - acc: 0.7726 - val_loss: 0.9872 - val_acc: 0.7729 - lr: 0.0250\n",
            "Epoch 28/50\n",
            "38/38 [==============================] - 8s 214ms/step - loss: 0.9710 - acc: 0.7779 - val_loss: 1.1086 - val_acc: 0.7157 - lr: 0.0250\n",
            "Epoch 29/50\n",
            "38/38 [==============================] - 8s 213ms/step - loss: 0.9594 - acc: 0.7742 - val_loss: 0.9908 - val_acc: 0.7687 - lr: 0.0250\n",
            "Epoch 30/50\n",
            "38/38 [==============================] - 8s 213ms/step - loss: 0.9550 - acc: 0.7771 - val_loss: 0.9743 - val_acc: 0.7665 - lr: 0.0250\n",
            "Epoch 31/50\n",
            "38/38 [==============================] - 8s 215ms/step - loss: 0.9205 - acc: 0.7809 - val_loss: 0.9721 - val_acc: 0.7676 - lr: 0.0125\n",
            "Epoch 32/50\n",
            "38/38 [==============================] - 8s 213ms/step - loss: 0.8630 - acc: 0.8098 - val_loss: 0.9819 - val_acc: 0.7623 - lr: 0.0125\n",
            "Epoch 33/50\n",
            "38/38 [==============================] - 8s 214ms/step - loss: 0.8479 - acc: 0.8200 - val_loss: 0.9853 - val_acc: 0.7697 - lr: 0.0125\n",
            "Epoch 34/50\n",
            "38/38 [==============================] - 8s 214ms/step - loss: 0.8488 - acc: 0.8184 - val_loss: 0.9555 - val_acc: 0.7835 - lr: 0.0125\n",
            "Epoch 35/50\n",
            "38/38 [==============================] - 8s 214ms/step - loss: 0.8282 - acc: 0.8251 - val_loss: 0.9149 - val_acc: 0.7941 - lr: 0.0125\n",
            "Epoch 36/50\n",
            "38/38 [==============================] - 8s 213ms/step - loss: 0.8289 - acc: 0.8186 - val_loss: 0.9759 - val_acc: 0.7644 - lr: 0.0125\n",
            "Epoch 37/50\n",
            "38/38 [==============================] - 8s 213ms/step - loss: 0.8106 - acc: 0.8339 - val_loss: 0.9577 - val_acc: 0.7814 - lr: 0.0125\n",
            "Epoch 38/50\n",
            "38/38 [==============================] - 8s 214ms/step - loss: 0.7929 - acc: 0.8344 - val_loss: 0.9939 - val_acc: 0.7671 - lr: 0.0125\n",
            "Epoch 39/50\n",
            "38/38 [==============================] - 8s 213ms/step - loss: 0.8008 - acc: 0.8296 - val_loss: 0.9532 - val_acc: 0.7830 - lr: 0.0125\n",
            "Epoch 40/50\n",
            "38/38 [==============================] - 8s 214ms/step - loss: 0.7781 - acc: 0.8382 - val_loss: 1.0131 - val_acc: 0.7612 - lr: 0.0125\n",
            "Epoch 41/50\n",
            "38/38 [==============================] - 8s 214ms/step - loss: 0.7592 - acc: 0.8497 - val_loss: 0.9398 - val_acc: 0.7909 - lr: 0.0063\n",
            "Epoch 42/50\n",
            "38/38 [==============================] - 8s 213ms/step - loss: 0.7100 - acc: 0.8647 - val_loss: 0.9294 - val_acc: 0.7888 - lr: 0.0063\n",
            "Epoch 43/50\n",
            "38/38 [==============================] - 8s 212ms/step - loss: 0.7013 - acc: 0.8650 - val_loss: 0.9098 - val_acc: 0.8041 - lr: 0.0063\n",
            "Epoch 44/50\n",
            "38/38 [==============================] - 8s 213ms/step - loss: 0.7042 - acc: 0.8623 - val_loss: 0.9666 - val_acc: 0.7814 - lr: 0.0063\n",
            "Epoch 45/50\n",
            "38/38 [==============================] - 8s 213ms/step - loss: 0.6918 - acc: 0.8695 - val_loss: 0.9671 - val_acc: 0.7882 - lr: 0.0063\n",
            "Epoch 46/50\n",
            "38/38 [==============================] - 8s 213ms/step - loss: 0.6790 - acc: 0.8728 - val_loss: 0.9920 - val_acc: 0.7729 - lr: 0.0063\n",
            "Epoch 47/50\n",
            "38/38 [==============================] - 8s 212ms/step - loss: 0.6693 - acc: 0.8765 - val_loss: 0.9339 - val_acc: 0.7930 - lr: 0.0063\n",
            "Epoch 48/50\n",
            "38/38 [==============================] - 8s 213ms/step - loss: 0.6812 - acc: 0.8682 - val_loss: 0.9401 - val_acc: 0.7988 - lr: 0.0063\n",
            "Epoch 49/50\n",
            "38/38 [==============================] - 8s 213ms/step - loss: 0.6841 - acc: 0.8693 - val_loss: 0.9424 - val_acc: 0.7909 - lr: 0.0063\n",
            "Epoch 50/50\n",
            "38/38 [==============================] - 8s 213ms/step - loss: 0.6651 - acc: 0.8738 - val_loss: 0.9685 - val_acc: 0.7872 - lr: 0.0063\n"
          ],
          "name": "stdout"
        }
      ]
    },
    {
      "cell_type": "code",
      "metadata": {
        "id": "1acrchBU185p",
        "colab_type": "code",
        "colab": {}
      },
      "source": [
        "wrn_16_2_clean.save(\"model_adv_train_clean_dropout.h5\")"
      ],
      "execution_count": 0,
      "outputs": []
    },
    {
      "cell_type": "markdown",
      "metadata": {
        "id": "i9hLRXbmwETE",
        "colab_type": "text"
      },
      "source": [
        "**Visualization**"
      ]
    },
    {
      "cell_type": "code",
      "metadata": {
        "id": "_pgU_KsH0yVM",
        "colab_type": "code",
        "outputId": "7af4dac4-2348-4dcd-80ae-2179e727e27c",
        "colab": {
          "base_uri": "https://localhost:8080/",
          "height": 607
        }
      },
      "source": [
        "import matplotlib.pyplot as plt\n",
        "\n",
        "history = hist_clean\n",
        "print(history.history.keys())\n",
        "# summarize history for accuracy\n",
        "plt.plot(history.history['acc'])\n",
        "plt.plot(history.history['val_acc'])\n",
        "plt.title('model accuracy')\n",
        "plt.ylabel('accuracy')\n",
        "plt.xlabel('epoch')\n",
        "plt.legend(['train', 'test'], loc='upper left')\n",
        "plt.show()\n",
        "plt.savefig(\"wrn_tensor.png\")\n",
        "# summarize history for loss\n",
        "plt.plot(history.history['loss'])\n",
        "plt.plot(history.history['val_loss'])\n",
        "plt.title('model loss')\n",
        "plt.ylabel('loss')\n",
        "plt.xlabel('epoch')\n",
        "plt.legend(['train', 'test'], loc='upper left')\n",
        "plt.show()\n",
        "plt.savefig(\"deneme.png\")"
      ],
      "execution_count": 0,
      "outputs": [
        {
          "output_type": "stream",
          "text": [
            "dict_keys(['loss', 'acc', 'val_loss', 'val_acc', 'lr'])\n"
          ],
          "name": "stdout"
        },
        {
          "output_type": "display_data",
          "data": {
            "image/png": "[encoded data removed]",
            "text/plain": [
              "<Figure size 432x288 with 1 Axes>"
            ]
          },
          "metadata": {
            "tags": [],
            "needs_background": "light"
          }
        },
        {
          "output_type": "display_data",
          "data": {
            "image/png": "[encoded data removed]",
            "text/plain": [
              "<Figure size 432x288 with 1 Axes>"
            ]
          },
          "metadata": {
            "tags": [],
            "needs_background": "light"
          }
        },
        {
          "output_type": "display_data",
          "data": {
            "text/plain": [
              "<Figure size 432x288 with 0 Axes>"
            ]
          },
          "metadata": {
            "tags": []
          }
        }
      ]
    },
    {
      "cell_type": "markdown",
      "metadata": {
        "id": "UCKONCZ0Jzfi",
        "colab_type": "text"
      },
      "source": [
        "**Adversarial Training**"
      ]
    },
    {
      "cell_type": "code",
      "metadata": {
        "id": "pFgpFgWbKeR_",
        "colab_type": "code",
        "outputId": "c71f3236-f709-45c3-c783-668e065e9557",
        "colab": {
          "base_uri": "https://localhost:8080/",
          "height": 51
        }
      },
      "source": [
        "wrn_16_2_adv.evaluate(X_train,y_train)"
      ],
      "execution_count": 0,
      "outputs": [
        {
          "output_type": "stream",
          "text": [
            "120/120 [==============================] - 2s 17ms/step - loss: 0.5356 - acc: 0.8628\n"
          ],
          "name": "stdout"
        },
        {
          "output_type": "execute_result",
          "data": {
            "text/plain": [
              "[0.5356114506721497, 0.862770676612854]"
            ]
          },
          "metadata": {
            "tags": []
          },
          "execution_count": 46
        }
      ]
    },
    {
      "cell_type": "code",
      "metadata": {
        "id": "XhiqvES18c-j",
        "colab_type": "code",
        "outputId": "0317b24c-35ab-4d50-8609-d0fa8fae54b2",
        "colab": {
          "base_uri": "https://localhost:8080/",
          "height": 51
        }
      },
      "source": [
        "wrn_16_2_adv.evaluate(X_train_adv,y_train_adv)"
      ],
      "execution_count": 0,
      "outputs": [
        {
          "output_type": "stream",
          "text": [
            "240/240 [==============================] - 4s 17ms/step - loss: 0.4602 - acc: 0.8861\n"
          ],
          "name": "stdout"
        },
        {
          "output_type": "execute_result",
          "data": {
            "text/plain": [
              "[0.46023231744766235, 0.8861353993415833]"
            ]
          },
          "metadata": {
            "tags": []
          },
          "execution_count": 47
        }
      ]
    },
    {
      "cell_type": "code",
      "metadata": {
        "id": "tjHVWy96Llce",
        "colab_type": "code",
        "outputId": "2aa808da-5ea8-46f4-8923-b88c844a7505",
        "colab": {
          "base_uri": "https://localhost:8080/",
          "height": 51
        }
      },
      "source": [
        "wrn_16_2_adv.evaluate(X_test,y_test)"
      ],
      "execution_count": 0,
      "outputs": [
        {
          "output_type": "stream",
          "text": [
            "60/60 [==============================] - 1s 16ms/step - loss: 0.4678 - acc: 0.8894\n"
          ],
          "name": "stdout"
        },
        {
          "output_type": "execute_result",
          "data": {
            "text/plain": [
              "[0.46778157353401184, 0.8893594741821289]"
            ]
          },
          "metadata": {
            "tags": []
          },
          "execution_count": 48
        }
      ]
    },
    {
      "cell_type": "code",
      "metadata": {
        "id": "Uqj_Ax7MI4SC",
        "colab_type": "code",
        "outputId": "3dcd9e1f-1b7b-4b13-8943-8ec47cff0510",
        "colab": {
          "base_uri": "https://localhost:8080/",
          "height": 51
        }
      },
      "source": [
        "wrn_16_2_adv.evaluate(X_adv_a,y_cat)"
      ],
      "execution_count": 0,
      "outputs": [
        {
          "output_type": "stream",
          "text": [
            "179/179 [==============================] - 3s 18ms/step - loss: 0.6262 - acc: 0.8390\n"
          ],
          "name": "stdout"
        },
        {
          "output_type": "execute_result",
          "data": {
            "text/plain": [
              "[0.6262125372886658, 0.8390423059463501]"
            ]
          },
          "metadata": {
            "tags": []
          },
          "execution_count": 68
        }
      ]
    },
    {
      "cell_type": "code",
      "metadata": {
        "id": "JXT3YD6iLl0N",
        "colab_type": "code",
        "outputId": "5e6c40f1-d3a8-4a62-a463-779ab2ea56ef",
        "colab": {
          "base_uri": "https://localhost:8080/",
          "height": 51
        }
      },
      "source": [
        "wrn_16_2_adv.evaluate(X_test_adv,y_test_adv)"
      ],
      "execution_count": 0,
      "outputs": [
        {
          "output_type": "stream",
          "text": [
            "119/119 [==============================] - 2s 16ms/step - loss: 0.7920 - acc: 0.7927\n"
          ],
          "name": "stdout"
        },
        {
          "output_type": "execute_result",
          "data": {
            "text/plain": [
              "[0.7919574975967407, 0.7926926016807556]"
            ]
          },
          "metadata": {
            "tags": []
          },
          "execution_count": 49
        }
      ]
    },
    {
      "cell_type": "markdown",
      "metadata": {
        "id": "-fKhEMXgKAnZ",
        "colab_type": "text"
      },
      "source": [
        "**Non_Adversarial_Training**"
      ]
    },
    {
      "cell_type": "code",
      "metadata": {
        "id": "ouj6OqTD8VdE",
        "colab_type": "code",
        "outputId": "08ec52ba-295c-4671-b52a-ec1e2e496013",
        "colab": {
          "base_uri": "https://localhost:8080/",
          "height": 51
        }
      },
      "source": [
        "wrn_16_2_clean.evaluate(X_train, y_train)"
      ],
      "execution_count": 0,
      "outputs": [
        {
          "output_type": "stream",
          "text": [
            "120/120 [==============================] - 2s 16ms/step - loss: 0.6291 - acc: 0.8891\n"
          ],
          "name": "stdout"
        },
        {
          "output_type": "execute_result",
          "data": {
            "text/plain": [
              "[0.6291201114654541, 0.8891208171844482]"
            ]
          },
          "metadata": {
            "tags": []
          },
          "execution_count": 50
        }
      ]
    },
    {
      "cell_type": "code",
      "metadata": {
        "id": "sfkUSeV6KHp5",
        "colab_type": "code",
        "outputId": "9e565cd3-05b4-4b2d-ae96-6c402b9582ca",
        "colab": {
          "base_uri": "https://localhost:8080/",
          "height": 51
        }
      },
      "source": [
        "wrn_16_2_clean.evaluate(X_train_adv,y_train_adv)"
      ],
      "execution_count": 0,
      "outputs": [
        {
          "output_type": "stream",
          "text": [
            "240/240 [==============================] - 4s 17ms/step - loss: 2.8766 - acc: 0.5515\n"
          ],
          "name": "stdout"
        },
        {
          "output_type": "execute_result",
          "data": {
            "text/plain": [
              "[2.8765788078308105, 0.5514543056488037]"
            ]
          },
          "metadata": {
            "tags": []
          },
          "execution_count": 51
        }
      ]
    },
    {
      "cell_type": "code",
      "metadata": {
        "id": "kZFJl2D4Hbxa",
        "colab_type": "code",
        "outputId": "069c54bb-7314-4d75-afac-8658e88f7f93",
        "colab": {
          "base_uri": "https://localhost:8080/",
          "height": 51
        }
      },
      "source": [
        "wrn_16_2_clean.evaluate(X_test, y_test)"
      ],
      "execution_count": 0,
      "outputs": [
        {
          "output_type": "stream",
          "text": [
            "60/60 [==============================] - 1s 16ms/step - loss: 0.9685 - acc: 0.7872\n"
          ],
          "name": "stdout"
        },
        {
          "output_type": "execute_result",
          "data": {
            "text/plain": [
              "[0.9685336947441101, 0.7871890068054199]"
            ]
          },
          "metadata": {
            "tags": []
          },
          "execution_count": 52
        }
      ]
    },
    {
      "cell_type": "code",
      "metadata": {
        "id": "8gJh7MDHChHo",
        "colab_type": "code",
        "outputId": "417569ac-0743-44c3-8018-aeabefa93209",
        "colab": {
          "base_uri": "https://localhost:8080/",
          "height": 51
        }
      },
      "source": [
        "wrn_16_2_clean.evaluate(X_adv_a,y_cat)"
      ],
      "execution_count": 0,
      "outputs": [
        {
          "output_type": "stream",
          "text": [
            "179/179 [==============================] - 3s 17ms/step - loss: 5.0271 - acc: 0.2543\n"
          ],
          "name": "stdout"
        },
        {
          "output_type": "execute_result",
          "data": {
            "text/plain": [
              "[5.027136325836182, 0.2542817294597626]"
            ]
          },
          "metadata": {
            "tags": []
          },
          "execution_count": 69
        }
      ]
    },
    {
      "cell_type": "code",
      "metadata": {
        "id": "nZuONcAeAwQb",
        "colab_type": "code",
        "outputId": "2eca973a-2d03-40b3-fd9d-eaedc3b1c147",
        "colab": {
          "base_uri": "https://localhost:8080/",
          "height": 51
        }
      },
      "source": [
        "wrn_16_2_clean.evaluate(X_test_adv, y_test_adv)"
      ],
      "execution_count": 0,
      "outputs": [
        {
          "output_type": "stream",
          "text": [
            "119/119 [==============================] - 2s 16ms/step - loss: 2.8995 - acc: 0.5618\n"
          ],
          "name": "stdout"
        },
        {
          "output_type": "execute_result",
          "data": {
            "text/plain": [
              "[2.8995306491851807, 0.5618215799331665]"
            ]
          },
          "metadata": {
            "tags": []
          },
          "execution_count": 53
        }
      ]
    }
  ]
}