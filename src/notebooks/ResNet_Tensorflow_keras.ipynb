{
  "nbformat": 4,
  "nbformat_minor": 0,
  "metadata": {
    "colab": {
      "name": "ResNet_Tensorflow_keras.ipynb",
      "provenance": [],
      "toc_visible": true,
      "include_colab_link": true
    },
    "kernelspec": {
      "name": "python3",
      "display_name": "Python 3"
    },
    "accelerator": "GPU"
  },
  "cells": [
    {
      "cell_type": "markdown",
      "metadata": {
        "id": "view-in-github",
        "colab_type": "text"
      },
      "source": [
        "<a href=\"https://colab.research.google.com/github/sefeoglu/AE_Parseval_Network/blob/master/src/notebooks/ResNet_Tensorflow_keras.ipynb\" target=\"_parent\"><img src=\"https://colab.research.google.com/assets/colab-badge.svg\" alt=\"Open In Colab\"/></a>"
      ]
    },
    {
      "cell_type": "markdown",
      "metadata": {
        "id": "cczYDRrfFlDx",
        "colab_type": "text"
      },
      "source": [
        "# Wide ResNet 16_2"
      ]
    },
    {
      "cell_type": "code",
      "metadata": {
        "id": "HWvd9YADGtMS",
        "colab_type": "code",
        "colab": {}
      },
      "source": [
        "import tensorflow as tf"
      ],
      "execution_count": 0,
      "outputs": []
    },
    {
      "cell_type": "markdown",
      "metadata": {
        "id": "8aqbIFJTwXLH",
        "colab_type": "text"
      },
      "source": [
        "# Model"
      ]
    },
    {
      "cell_type": "code",
      "metadata": {
        "id": "QRdSMgRjG8ex",
        "colab_type": "code",
        "outputId": "6470cf29-0c3c-4951-f9a5-911d6fdf23d1",
        "colab": {
          "base_uri": "https://localhost:8080/",
          "height": 1000
        }
      },
      "source": [
        "from tensorflow.keras.models import Model\n",
        "from tensorflow.keras.layers import Input, Add, Activation, Dropout, Flatten, Dense\n",
        "from tensorflow.keras.layers import Convolution2D, MaxPooling2D, AveragePooling2D\n",
        "from tensorflow.keras.layers import BatchNormalization\n",
        "from tensorflow.keras.regularizers import l2\n",
        "from tensorflow.keras import backend as K\n",
        "import warnings\n",
        "\n",
        "warnings.filterwarnings(\"ignore\")\n",
        "weight_decay = 0.0005\n",
        "\n",
        "\n",
        "def initial_conv(input):\n",
        "  \n",
        "    x = Convolution2D(16, (3, 3), padding='same', kernel_initializer='he_normal',\n",
        "                      kernel_regularizer=l2(weight_decay),\n",
        "                      use_bias=False)(input)\n",
        "\n",
        "    channel_axis = 1 if K.image_data_format() == \"channels_first\" else -1\n",
        "\n",
        "    x = BatchNormalization(axis=channel_axis, momentum=0.1, epsilon=1e-5, gamma_initializer='uniform')(x)\n",
        "    x = Activation('relu')(x)\n",
        "    return x\n",
        "\n",
        "\n",
        "def expand_conv(init, base, k, strides=(1, 1)):\n",
        "    x = Convolution2D(base * k, (3, 3), padding='same', strides=strides, kernel_initializer='he_normal', kernel_regularizer=l2(weight_decay),\n",
        "                      use_bias=False)(init)\n",
        "\n",
        "    channel_axis = 1 if K.image_data_format() == \"channels_first\" else -1\n",
        "\n",
        "    x = BatchNormalization(axis=channel_axis, momentum=0.1, epsilon=1e-5, gamma_initializer='uniform')(x)\n",
        "    x = Activation('relu')(x)\n",
        "\n",
        "    x = Convolution2D(base * k, (3, 3), padding='same', kernel_initializer='he_normal',\n",
        "                      kernel_regularizer=l2(weight_decay),\n",
        "                      use_bias=False)(x)\n",
        "\n",
        "    skip = Convolution2D(base * k, (1, 1), padding='same', strides=strides, kernel_initializer='he_normal',\n",
        "                      kernel_regularizer=l2(weight_decay),\n",
        "                      use_bias=False)(init)\n",
        "\n",
        "    m = Add()([x, skip])\n",
        "\n",
        "    return m\n",
        "\n",
        "\n",
        "def conv1_block(input, k=1, dropout=0.0):\n",
        "    init = input\n",
        "\n",
        "    channel_axis = 1 if K.image_data_format() == \"channels_first\" else -1\n",
        "\n",
        "    x = BatchNormalization(axis=channel_axis, momentum=0.1, epsilon=1e-5, gamma_initializer='uniform')(input)\n",
        "    x = Activation('relu')(x)\n",
        "    x = Convolution2D(16 * k, (3, 3), padding='same', kernel_initializer='he_normal',\n",
        "                      kernel_regularizer=l2(weight_decay),\n",
        "                      use_bias=False)(x)\n",
        "\n",
        "    if dropout > 0.0: x = Dropout(dropout)(x)\n",
        "\n",
        "    x = BatchNormalization(axis=channel_axis, momentum=0.1, epsilon=1e-5, gamma_initializer='uniform')(x)\n",
        "    x = Activation('relu')(x)\n",
        "    x = Convolution2D(16 * k, (3, 3), padding='same', kernel_initializer='he_normal',\n",
        "                      kernel_regularizer=l2(weight_decay),\n",
        "                      use_bias=False)(x)\n",
        "\n",
        "    m = Add()([init, x])\n",
        "    return m\n",
        "\n",
        "def conv2_block(input, k=1, dropout=0.0):\n",
        "    init = input\n",
        "\n",
        "    channel_axis = 1 if K.image_data_format() == \"channels_first\" else -1\n",
        "    print(\"conv2:channel:  {}\".format(channel_axis))\n",
        "    x = BatchNormalization(axis=channel_axis, momentum=0.1, epsilon=1e-5, gamma_initializer='uniform')(input)\n",
        "    x = Activation('relu')(x)\n",
        "    x = Convolution2D(32 * k, (3, 3), padding='same', kernel_initializer='he_normal',\n",
        "                      kernel_regularizer=l2(weight_decay),\n",
        "                      use_bias=False)(x)\n",
        "\n",
        "    if dropout > 0.0: x = Dropout(dropout)(x)\n",
        "\n",
        "    x = BatchNormalization(axis=channel_axis, momentum=0.1, epsilon=1e-5, gamma_initializer='uniform')(x)\n",
        "    x = Activation('relu')(x)\n",
        "    x = Convolution2D(32 * k, (3, 3), padding='same', kernel_initializer='he_normal',\n",
        "                      kernel_regularizer=l2(weight_decay),\n",
        "                      use_bias=False)(x)\n",
        "\n",
        "    m = Add()([init, x])\n",
        "    return m\n",
        "\n",
        "def conv3_block(input, k=1, dropout=0.0):\n",
        "    init = input\n",
        "\n",
        "    channel_axis = 1 if K.image_data_format() == \"channels_first\" else -1\n",
        "    print(\"conv3 channel_axis:{} \".format(channel_axis))\n",
        "    x = BatchNormalization(axis=channel_axis, momentum=0.1, epsilon=1e-5, gamma_initializer='uniform')(input)\n",
        "    x = Activation('relu')(x)\n",
        "    x = Convolution2D(64 * k, (3, 3), padding='same', kernel_initializer='he_normal',\n",
        "                      kernel_regularizer=l2(weight_decay),\n",
        "                      use_bias=False)(x)\n",
        "\n",
        "    if dropout > 0.0: x = Dropout(dropout)(x)\n",
        "\n",
        "    x = BatchNormalization(axis=channel_axis, momentum=0.1, epsilon=1e-5, gamma_initializer='uniform')(x)\n",
        "    x = Activation('relu')(x)\n",
        "    x = Convolution2D(64 * k, (3, 3), padding='same', kernel_initializer='he_normal',\n",
        "                      kernel_regularizer=l2(weight_decay),\n",
        "                      use_bias=False)(x)\n",
        "\n",
        "    m = Add()([init, x])\n",
        "    return m\n",
        "\n",
        "def create_wide_residual_network(input_dim, nb_classes=100, N=2, k=1, dropout=0.0, verbose=1):\n",
        "    \"\"\"\n",
        "    Creates a Wide Residual Network with specified parameters\n",
        "\n",
        "    :param input: Input Keras object\n",
        "    :param nb_classes: Number of output classes\n",
        "    :param N: Depth of the network. Compute N = (n - 4) / 6.\n",
        "              Example : For a depth of 16, n = 16, N = (16 - 4) / 6 = 2\n",
        "              Example2: For a depth of 28, n = 28, N = (28 - 4) / 6 = 4\n",
        "              Example3: For a depth of 40, n = 40, N = (40 - 4) / 6 = 6\n",
        "    :param k: Width of the network.\n",
        "    :param dropout: Adds dropout if value is greater than 0.0\n",
        "    :param verbose: Debug info to describe created WRN\n",
        "    :return:\n",
        "    \"\"\"\n",
        "    channel_axis = 1 if K.image_data_format() == \"channels_first\" else -1\n",
        "\n",
        "    ip = Input(shape=input_dim)\n",
        "\n",
        "    x = initial_conv(ip)\n",
        "    nb_conv = 4\n",
        "\n",
        "    x = expand_conv(x, 16, k)\n",
        "    nb_conv += 2\n",
        "\n",
        "    for i in range(N - 1):\n",
        "        x = conv1_block(x, k, dropout)\n",
        "        nb_conv += 2\n",
        "\n",
        "    x = BatchNormalization(axis=channel_axis, momentum=0.1, epsilon=1e-5, gamma_initializer='uniform')(x)\n",
        "    x = Activation('relu')(x)\n",
        "\n",
        "    x = expand_conv(x, 32, k, strides=(2, 2))\n",
        "    nb_conv += 2\n",
        "\n",
        "    for i in range(N - 1):\n",
        "        x = conv2_block(x, k, dropout)\n",
        "        nb_conv += 2\n",
        "\n",
        "    x = BatchNormalization(axis=channel_axis, momentum=0.1, epsilon=1e-5, gamma_initializer='uniform')(x)\n",
        "    x = Activation('relu')(x)\n",
        "\n",
        "    x = expand_conv(x, 64, k, strides=(2, 2))\n",
        "    nb_conv += 2\n",
        "\n",
        "    for i in range(N - 1):\n",
        "        x = conv3_block(x, k, dropout)\n",
        "        nb_conv += 2\n",
        "\n",
        "    x = BatchNormalization(axis=channel_axis, momentum=0.1, epsilon=1e-5, gamma_initializer='uniform')(x)\n",
        "    x = Activation('relu')(x)\n",
        "\n",
        "    x = AveragePooling2D((8, 8))(x)\n",
        "    x = Flatten()(x)\n",
        "\n",
        "    x = Dense(nb_classes, kernel_regularizer=l2(weight_decay), activation='softmax')(x)\n",
        "\n",
        "    model = Model(ip, x)\n",
        "\n",
        "    if verbose: print(\"Wide Residual Network-%d-%d created.\" % (nb_conv, k))\n",
        "    return model\n",
        "\n",
        "if __name__ == \"__main__\":\n",
        "\n",
        "    init = (32, 32,1)\n",
        "\n",
        "    wrn_16_2 = create_wide_residual_network(init, nb_classes=4, N=2, k=2, dropout=0.5)\n",
        "\n",
        "    wrn_16_2.summary()\n",
        "\n"
      ],
      "execution_count": 716,
      "outputs": [
        {
          "output_type": "stream",
          "text": [
            "conv2:channel:  -1\n",
            "conv3 channel_axis:-1 \n",
            "Wide Residual Network-16-2 created.\n",
            "Model: \"model_56\"\n",
            "__________________________________________________________________________________________________\n",
            "Layer (type)                    Output Shape         Param #     Connected to                     \n",
            "==================================================================================================\n",
            "input_33 (InputLayer)           [(None, 32, 32, 1)]  0                                            \n",
            "__________________________________________________________________________________________________\n",
            "conv2d_512 (Conv2D)             (None, 32, 32, 16)   144         input_33[0][0]                   \n",
            "__________________________________________________________________________________________________\n",
            "batch_normalization_416 (BatchN (None, 32, 32, 16)   64          conv2d_512[0][0]                 \n",
            "__________________________________________________________________________________________________\n",
            "activation_416 (Activation)     (None, 32, 32, 16)   0           batch_normalization_416[0][0]    \n",
            "__________________________________________________________________________________________________\n",
            "conv2d_513 (Conv2D)             (None, 32, 32, 32)   4608        activation_416[0][0]             \n",
            "__________________________________________________________________________________________________\n",
            "batch_normalization_417 (BatchN (None, 32, 32, 32)   128         conv2d_513[0][0]                 \n",
            "__________________________________________________________________________________________________\n",
            "activation_417 (Activation)     (None, 32, 32, 32)   0           batch_normalization_417[0][0]    \n",
            "__________________________________________________________________________________________________\n",
            "conv2d_514 (Conv2D)             (None, 32, 32, 32)   9216        activation_417[0][0]             \n",
            "__________________________________________________________________________________________________\n",
            "conv2d_515 (Conv2D)             (None, 32, 32, 32)   512         activation_416[0][0]             \n",
            "__________________________________________________________________________________________________\n",
            "add_192 (Add)                   (None, 32, 32, 32)   0           conv2d_514[0][0]                 \n",
            "                                                                 conv2d_515[0][0]                 \n",
            "__________________________________________________________________________________________________\n",
            "batch_normalization_418 (BatchN (None, 32, 32, 32)   128         add_192[0][0]                    \n",
            "__________________________________________________________________________________________________\n",
            "activation_418 (Activation)     (None, 32, 32, 32)   0           batch_normalization_418[0][0]    \n",
            "__________________________________________________________________________________________________\n",
            "conv2d_516 (Conv2D)             (None, 32, 32, 32)   9216        activation_418[0][0]             \n",
            "__________________________________________________________________________________________________\n",
            "dropout_96 (Dropout)            (None, 32, 32, 32)   0           conv2d_516[0][0]                 \n",
            "__________________________________________________________________________________________________\n",
            "batch_normalization_419 (BatchN (None, 32, 32, 32)   128         dropout_96[0][0]                 \n",
            "__________________________________________________________________________________________________\n",
            "activation_419 (Activation)     (None, 32, 32, 32)   0           batch_normalization_419[0][0]    \n",
            "__________________________________________________________________________________________________\n",
            "conv2d_517 (Conv2D)             (None, 32, 32, 32)   9216        activation_419[0][0]             \n",
            "__________________________________________________________________________________________________\n",
            "add_193 (Add)                   (None, 32, 32, 32)   0           add_192[0][0]                    \n",
            "                                                                 conv2d_517[0][0]                 \n",
            "__________________________________________________________________________________________________\n",
            "batch_normalization_420 (BatchN (None, 32, 32, 32)   128         add_193[0][0]                    \n",
            "__________________________________________________________________________________________________\n",
            "activation_420 (Activation)     (None, 32, 32, 32)   0           batch_normalization_420[0][0]    \n",
            "__________________________________________________________________________________________________\n",
            "conv2d_518 (Conv2D)             (None, 16, 16, 64)   18432       activation_420[0][0]             \n",
            "__________________________________________________________________________________________________\n",
            "batch_normalization_421 (BatchN (None, 16, 16, 64)   256         conv2d_518[0][0]                 \n",
            "__________________________________________________________________________________________________\n",
            "activation_421 (Activation)     (None, 16, 16, 64)   0           batch_normalization_421[0][0]    \n",
            "__________________________________________________________________________________________________\n",
            "conv2d_519 (Conv2D)             (None, 16, 16, 64)   36864       activation_421[0][0]             \n",
            "__________________________________________________________________________________________________\n",
            "conv2d_520 (Conv2D)             (None, 16, 16, 64)   2048        activation_420[0][0]             \n",
            "__________________________________________________________________________________________________\n",
            "add_194 (Add)                   (None, 16, 16, 64)   0           conv2d_519[0][0]                 \n",
            "                                                                 conv2d_520[0][0]                 \n",
            "__________________________________________________________________________________________________\n",
            "batch_normalization_422 (BatchN (None, 16, 16, 64)   256         add_194[0][0]                    \n",
            "__________________________________________________________________________________________________\n",
            "activation_422 (Activation)     (None, 16, 16, 64)   0           batch_normalization_422[0][0]    \n",
            "__________________________________________________________________________________________________\n",
            "conv2d_521 (Conv2D)             (None, 16, 16, 64)   36864       activation_422[0][0]             \n",
            "__________________________________________________________________________________________________\n",
            "dropout_97 (Dropout)            (None, 16, 16, 64)   0           conv2d_521[0][0]                 \n",
            "__________________________________________________________________________________________________\n",
            "batch_normalization_423 (BatchN (None, 16, 16, 64)   256         dropout_97[0][0]                 \n",
            "__________________________________________________________________________________________________\n",
            "activation_423 (Activation)     (None, 16, 16, 64)   0           batch_normalization_423[0][0]    \n",
            "__________________________________________________________________________________________________\n",
            "conv2d_522 (Conv2D)             (None, 16, 16, 64)   36864       activation_423[0][0]             \n",
            "__________________________________________________________________________________________________\n",
            "add_195 (Add)                   (None, 16, 16, 64)   0           add_194[0][0]                    \n",
            "                                                                 conv2d_522[0][0]                 \n",
            "__________________________________________________________________________________________________\n",
            "batch_normalization_424 (BatchN (None, 16, 16, 64)   256         add_195[0][0]                    \n",
            "__________________________________________________________________________________________________\n",
            "activation_424 (Activation)     (None, 16, 16, 64)   0           batch_normalization_424[0][0]    \n",
            "__________________________________________________________________________________________________\n",
            "conv2d_523 (Conv2D)             (None, 8, 8, 128)    73728       activation_424[0][0]             \n",
            "__________________________________________________________________________________________________\n",
            "batch_normalization_425 (BatchN (None, 8, 8, 128)    512         conv2d_523[0][0]                 \n",
            "__________________________________________________________________________________________________\n",
            "activation_425 (Activation)     (None, 8, 8, 128)    0           batch_normalization_425[0][0]    \n",
            "__________________________________________________________________________________________________\n",
            "conv2d_524 (Conv2D)             (None, 8, 8, 128)    147456      activation_425[0][0]             \n",
            "__________________________________________________________________________________________________\n",
            "conv2d_525 (Conv2D)             (None, 8, 8, 128)    8192        activation_424[0][0]             \n",
            "__________________________________________________________________________________________________\n",
            "add_196 (Add)                   (None, 8, 8, 128)    0           conv2d_524[0][0]                 \n",
            "                                                                 conv2d_525[0][0]                 \n",
            "__________________________________________________________________________________________________\n",
            "batch_normalization_426 (BatchN (None, 8, 8, 128)    512         add_196[0][0]                    \n",
            "__________________________________________________________________________________________________\n",
            "activation_426 (Activation)     (None, 8, 8, 128)    0           batch_normalization_426[0][0]    \n",
            "__________________________________________________________________________________________________\n",
            "conv2d_526 (Conv2D)             (None, 8, 8, 128)    147456      activation_426[0][0]             \n",
            "__________________________________________________________________________________________________\n",
            "dropout_98 (Dropout)            (None, 8, 8, 128)    0           conv2d_526[0][0]                 \n",
            "__________________________________________________________________________________________________\n",
            "batch_normalization_427 (BatchN (None, 8, 8, 128)    512         dropout_98[0][0]                 \n",
            "__________________________________________________________________________________________________\n",
            "activation_427 (Activation)     (None, 8, 8, 128)    0           batch_normalization_427[0][0]    \n",
            "__________________________________________________________________________________________________\n",
            "conv2d_527 (Conv2D)             (None, 8, 8, 128)    147456      activation_427[0][0]             \n",
            "__________________________________________________________________________________________________\n",
            "add_197 (Add)                   (None, 8, 8, 128)    0           add_196[0][0]                    \n",
            "                                                                 conv2d_527[0][0]                 \n",
            "__________________________________________________________________________________________________\n",
            "batch_normalization_428 (BatchN (None, 8, 8, 128)    512         add_197[0][0]                    \n",
            "__________________________________________________________________________________________________\n",
            "activation_428 (Activation)     (None, 8, 8, 128)    0           batch_normalization_428[0][0]    \n",
            "__________________________________________________________________________________________________\n",
            "average_pooling2d_32 (AveragePo (None, 1, 1, 128)    0           activation_428[0][0]             \n",
            "__________________________________________________________________________________________________\n",
            "flatten_32 (Flatten)            (None, 128)          0           average_pooling2d_32[0][0]       \n",
            "__________________________________________________________________________________________________\n",
            "dense_32 (Dense)                (None, 4)            516         flatten_32[0][0]                 \n",
            "==================================================================================================\n",
            "Total params: 692,436\n",
            "Trainable params: 690,612\n",
            "Non-trainable params: 1,824\n",
            "__________________________________________________________________________________________________\n"
          ],
          "name": "stdout"
        }
      ]
    },
    {
      "cell_type": "markdown",
      "metadata": {
        "id": "ffNo5x-Ft9Fe",
        "colab_type": "text"
      },
      "source": [
        "# Data Prepare and Processing\n",
        "\n",
        "\n"
      ]
    },
    {
      "cell_type": "code",
      "metadata": {
        "id": "AJqH742XcPQv",
        "colab_type": "code",
        "colab": {}
      },
      "source": [
        "from sklearn.model_selection import train_test_split\n",
        "import gzip\n",
        "import pickle\n",
        "\n",
        "import numpy as np"
      ],
      "execution_count": 0,
      "outputs": []
    },
    {
      "cell_type": "code",
      "metadata": {
        "id": "fNBI_SkvuzgK",
        "colab_type": "code",
        "colab": {}
      },
      "source": [
        "def read_data():\n",
        "    with open(\"data.pz\", 'rb') as file_:\n",
        "        with gzip.GzipFile(fileobj=file_) as gzf:\n",
        "            data = pickle.load(gzf, encoding='latin1', fix_imports=True)\n",
        "    return data\n",
        "data = read_data()\n"
      ],
      "execution_count": 0,
      "outputs": []
    },
    {
      "cell_type": "code",
      "metadata": {
        "id": "4euxwMe2jIoX",
        "colab_type": "code",
        "outputId": "242e5446-2ad7-4a35-ae63-e85d40c302be",
        "colab": {
          "base_uri": "https://localhost:8080/",
          "height": 34
        }
      },
      "source": [
        "import cv2\n",
        "new_data_X = []\n",
        "Y_data = []\n",
        "for row in data:\n",
        "    new_data_X.append(cv2.resize(row['crop'], (32,32)))\n",
        "    Y_data.append(row['label'])\n",
        "new_data_X = np.array(new_data_X)\n",
        "new_data_X.shape"
      ],
      "execution_count": 719,
      "outputs": [
        {
          "output_type": "execute_result",
          "data": {
            "text/plain": [
              "(5722, 32, 32)"
            ]
          },
          "metadata": {
            "tags": []
          },
          "execution_count": 719
        }
      ]
    },
    {
      "cell_type": "code",
      "metadata": {
        "id": "TNBsNVDNu6Ku",
        "colab_type": "code",
        "outputId": "90416f52-3a40-48ba-edf6-4e4d80f0b6d0",
        "colab": {
          "base_uri": "https://localhost:8080/",
          "height": 34
        }
      },
      "source": [
        "X = new_data_X.astype('float32')\n",
        "X.shape"
      ],
      "execution_count": 720,
      "outputs": [
        {
          "output_type": "execute_result",
          "data": {
            "text/plain": [
              "(5722, 32, 32)"
            ]
          },
          "metadata": {
            "tags": []
          },
          "execution_count": 720
        }
      ]
    },
    {
      "cell_type": "markdown",
      "metadata": {
        "id": "MFQdrnTKuM8c",
        "colab_type": "text"
      },
      "source": [
        "# Preprocessing"
      ]
    },
    {
      "cell_type": "code",
      "metadata": {
        "id": "uqf-dZOrvC0e",
        "colab_type": "code",
        "colab": {}
      },
      "source": [
        "img_rows, img_cols = X[0].shape\n",
        "\n",
        "# transform data set\n",
        "if K.image_data_format() == 'channels_first':\n",
        "    X = X.reshape(X.shape[0], 1, img_rows, img_cols)\n",
        "    input_shape = (1, img_rows, img_cols)\n",
        "else:\n",
        "    X = X.reshape(X.shape[0], img_rows, img_cols, 1)\n",
        "    input_shape = (img_rows, img_cols, 1)"
      ],
      "execution_count": 0,
      "outputs": []
    },
    {
      "cell_type": "code",
      "metadata": {
        "id": "2eEHVf2Bu9xt",
        "colab_type": "code",
        "colab": {}
      },
      "source": [
        "import pandas as pd\n",
        "import numpy as np\n",
        "from sklearn.preprocessing import LabelEncoder\n",
        "\n",
        "labelencoder = LabelEncoder()\n",
        "y_df = pd.DataFrame(Y_data, columns=['Label'])\n",
        "y_df['Encoded'] = labelencoder.fit_transform(y_df['Label'])"
      ],
      "execution_count": 0,
      "outputs": []
    },
    {
      "cell_type": "code",
      "metadata": {
        "id": "56hwq9R2jruF",
        "colab_type": "code",
        "outputId": "099ffcbf-8380-40c6-8dfc-eab319cc3b9a",
        "colab": {
          "base_uri": "https://localhost:8080/",
          "height": 104
        }
      },
      "source": [
        "y_df['Label'].value_counts()"
      ],
      "execution_count": 723,
      "outputs": [
        {
          "output_type": "execute_result",
          "data": {
            "text/plain": [
              "open             1500\n",
              "closed           1500\n",
              "partiallyOpen    1376\n",
              "notVisible       1346\n",
              "Name: Label, dtype: int64"
            ]
          },
          "metadata": {
            "tags": []
          },
          "execution_count": 723
        }
      ]
    },
    {
      "cell_type": "code",
      "metadata": {
        "id": "WxAYuiEzj4Bp",
        "colab_type": "code",
        "outputId": "6855b355-0dea-4177-e130-2d904057d9d4",
        "colab": {
          "base_uri": "https://localhost:8080/",
          "height": 104
        }
      },
      "source": [
        "y_df['Encoded'].value_counts()\n"
      ],
      "execution_count": 724,
      "outputs": [
        {
          "output_type": "execute_result",
          "data": {
            "text/plain": [
              "2    1500\n",
              "0    1500\n",
              "3    1376\n",
              "1    1346\n",
              "Name: Encoded, dtype: int64"
            ]
          },
          "metadata": {
            "tags": []
          },
          "execution_count": 724
        }
      ]
    },
    {
      "cell_type": "code",
      "metadata": {
        "id": "wdkpb2Jkqu6t",
        "colab_type": "code",
        "colab": {}
      },
      "source": [
        "from tensorflow.keras.utils import to_categorical\n",
        "\n",
        "y_cat = to_categorical(y_df['Encoded'])"
      ],
      "execution_count": 0,
      "outputs": []
    },
    {
      "cell_type": "markdown",
      "metadata": {
        "id": "Kif3Li9NuSnV",
        "colab_type": "text"
      },
      "source": [
        "# Training"
      ]
    },
    {
      "cell_type": "code",
      "metadata": {
        "id": "rghSgp3NvhhV",
        "colab_type": "code",
        "colab": {}
      },
      "source": [
        "from tensorflow.keras.optimizers import SGD\n",
        "from tensorflow.keras.callbacks import Callback, LearningRateScheduler, EarlyStopping\n",
        "import tensorflow\n",
        "\n",
        "EPOCHS = 200\n",
        "BS = 256\n",
        "sgd = SGD(lr=0.1, momentum=0.9)"
      ],
      "execution_count": 0,
      "outputs": []
    },
    {
      "cell_type": "code",
      "metadata": {
        "id": "yBnqXaiNwHGl",
        "colab_type": "code",
        "outputId": "c3ede4d2-63b8-4623-91f2-1a0a2005d1e7",
        "colab": {
          "base_uri": "https://localhost:8080/",
          "height": 34
        }
      },
      "source": [
        "wrn_16_2.compile(loss=\"categorical_crossentropy\", optimizer=sgd, metrics=[\"acc\"])\n",
        "print(\"Finished compiling\")\n"
      ],
      "execution_count": 727,
      "outputs": [
        {
          "output_type": "stream",
          "text": [
            "Finished compiling\n"
          ],
          "name": "stdout"
        }
      ]
    },
    {
      "cell_type": "code",
      "metadata": {
        "id": "88yOqhbSwjPa",
        "colab_type": "code",
        "colab": {}
      },
      "source": [
        "def lr_sch(epoch):\n",
        "    if epoch < 80:\n",
        "        return 0.01\n",
        "    elif epoch < 100:\n",
        "        return 0.001\n",
        "    elif epoch < 120:\n",
        "        return 0.001\n",
        "    else:\n",
        "        return 0.0001\n",
        "\n",
        "# Learning rate scheduler callback\n",
        "lr_scheduler = LearningRateScheduler(lr_sch)"
      ],
      "execution_count": 0,
      "outputs": []
    },
    {
      "cell_type": "code",
      "metadata": {
        "id": "TbpiWMEgRpWa",
        "colab_type": "code",
        "colab": {}
      },
      "source": [
        "generator = tensorflow.keras.preprocessing.image.ImageDataGenerator(rotation_range=10,\n",
        "                               width_shift_range=5./32,\n",
        "                               height_shift_range=5./32,)"
      ],
      "execution_count": 0,
      "outputs": []
    },
    {
      "cell_type": "code",
      "metadata": {
        "id": "uo-6r-Zvva5l",
        "colab_type": "code",
        "colab": {}
      },
      "source": [
        "X_train, X_test, y_train, y_test = train_test_split(X, y_cat, test_size = 0.1)\n",
        "X_train, X_val, y_train, y_val = train_test_split(X_train, y_train, test_size = 0.1)"
      ],
      "execution_count": 0,
      "outputs": []
    },
    {
      "cell_type": "code",
      "metadata": {
        "id": "JVs_QNHoEKji",
        "colab_type": "code",
        "outputId": "733be8af-81ff-44af-b9f1-24341e488ebb",
        "colab": {
          "base_uri": "https://localhost:8080/",
          "height": 1000
        }
      },
      "source": [
        "hist = wrn_16_2.fit_generator(generator.flow(X_train, y_train, batch_size=BS), steps_per_epoch=len(X_train) // BS, epochs=EPOCHS,\n",
        "                   callbacks=[lr_scheduler],\n",
        "                   validation_data=(X_val, y_val),\n",
        "                   validation_steps=X_val.shape[0] // BS,)"
      ],
      "execution_count": 731,
      "outputs": [
        {
          "output_type": "stream",
          "text": [
            "Epoch 1/200\n",
            "18/18 [==============================] - 2s 106ms/step - loss: 2.5230 - acc: 0.2691 - val_loss: 2.5212 - val_acc: 0.2447 - lr: 0.0100\n",
            "Epoch 2/200\n",
            "18/18 [==============================] - 2s 88ms/step - loss: 2.5175 - acc: 0.2501 - val_loss: 2.5164 - val_acc: 0.2602 - lr: 0.0100\n",
            "Epoch 3/200\n",
            "18/18 [==============================] - 2s 88ms/step - loss: 2.5107 - acc: 0.2711 - val_loss: 2.5095 - val_acc: 0.2447 - lr: 0.0100\n",
            "Epoch 4/200\n",
            "18/18 [==============================] - 2s 88ms/step - loss: 2.4964 - acc: 0.3458 - val_loss: 2.4919 - val_acc: 0.3184 - lr: 0.0100\n",
            "Epoch 5/200\n",
            "18/18 [==============================] - 2s 89ms/step - loss: 2.4659 - acc: 0.3730 - val_loss: 2.4589 - val_acc: 0.3417 - lr: 0.0100\n",
            "Epoch 6/200\n",
            "18/18 [==============================] - 2s 88ms/step - loss: 2.4315 - acc: 0.3728 - val_loss: 2.4222 - val_acc: 0.3456 - lr: 0.0100\n",
            "Epoch 7/200\n",
            "18/18 [==============================] - 2s 86ms/step - loss: 2.4000 - acc: 0.3794 - val_loss: 2.4181 - val_acc: 0.3495 - lr: 0.0100\n",
            "Epoch 8/200\n",
            "18/18 [==============================] - 2s 87ms/step - loss: 2.3741 - acc: 0.3878 - val_loss: 2.4139 - val_acc: 0.3359 - lr: 0.0100\n",
            "Epoch 9/200\n",
            "18/18 [==============================] - 2s 88ms/step - loss: 2.3661 - acc: 0.3844 - val_loss: 2.3813 - val_acc: 0.3534 - lr: 0.0100\n",
            "Epoch 10/200\n",
            "18/18 [==============================] - 2s 88ms/step - loss: 2.3540 - acc: 0.3830 - val_loss: 2.3725 - val_acc: 0.3534 - lr: 0.0100\n",
            "Epoch 11/200\n",
            "18/18 [==============================] - 2s 88ms/step - loss: 2.3382 - acc: 0.3826 - val_loss: 2.3426 - val_acc: 0.3709 - lr: 0.0100\n",
            "Epoch 12/200\n",
            "18/18 [==============================] - 2s 87ms/step - loss: 2.3369 - acc: 0.3831 - val_loss: 2.3858 - val_acc: 0.3417 - lr: 0.0100\n",
            "Epoch 13/200\n",
            "18/18 [==============================] - 2s 86ms/step - loss: 2.3318 - acc: 0.3828 - val_loss: 2.3510 - val_acc: 0.3670 - lr: 0.0100\n",
            "Epoch 14/200\n",
            "18/18 [==============================] - 2s 90ms/step - loss: 2.3102 - acc: 0.3922 - val_loss: 2.3449 - val_acc: 0.3806 - lr: 0.0100\n",
            "Epoch 15/200\n",
            "18/18 [==============================] - 2s 91ms/step - loss: 2.3003 - acc: 0.4002 - val_loss: 2.3129 - val_acc: 0.4117 - lr: 0.0100\n",
            "Epoch 16/200\n",
            "18/18 [==============================] - 2s 86ms/step - loss: 2.2925 - acc: 0.4148 - val_loss: 2.3112 - val_acc: 0.4155 - lr: 0.0100\n",
            "Epoch 17/200\n",
            "18/18 [==============================] - 2s 86ms/step - loss: 2.2886 - acc: 0.4063 - val_loss: 2.3238 - val_acc: 0.4019 - lr: 0.0100\n",
            "Epoch 18/200\n",
            "18/18 [==============================] - 2s 86ms/step - loss: 2.2789 - acc: 0.4091 - val_loss: 2.3021 - val_acc: 0.4311 - lr: 0.0100\n",
            "Epoch 19/200\n",
            "18/18 [==============================] - 2s 86ms/step - loss: 2.2673 - acc: 0.4141 - val_loss: 2.2913 - val_acc: 0.4485 - lr: 0.0100\n",
            "Epoch 20/200\n",
            "18/18 [==============================] - 2s 97ms/step - loss: 2.2511 - acc: 0.4308 - val_loss: 2.2720 - val_acc: 0.4291 - lr: 0.0100\n",
            "Epoch 21/200\n",
            "18/18 [==============================] - 2s 108ms/step - loss: 2.2446 - acc: 0.4434 - val_loss: 2.3027 - val_acc: 0.4019 - lr: 0.0100\n",
            "Epoch 22/200\n",
            "18/18 [==============================] - 2s 100ms/step - loss: 2.2324 - acc: 0.4356 - val_loss: 2.2779 - val_acc: 0.4291 - lr: 0.0100\n",
            "Epoch 23/200\n",
            "18/18 [==============================] - 2s 89ms/step - loss: 2.2236 - acc: 0.4390 - val_loss: 2.2644 - val_acc: 0.4330 - lr: 0.0100\n",
            "Epoch 24/200\n",
            "18/18 [==============================] - 2s 86ms/step - loss: 2.2218 - acc: 0.4545 - val_loss: 2.2499 - val_acc: 0.4466 - lr: 0.0100\n",
            "Epoch 25/200\n",
            "18/18 [==============================] - 2s 86ms/step - loss: 2.2107 - acc: 0.4466 - val_loss: 2.2251 - val_acc: 0.4447 - lr: 0.0100\n",
            "Epoch 26/200\n",
            "18/18 [==============================] - 2s 88ms/step - loss: 2.2071 - acc: 0.4561 - val_loss: 2.2283 - val_acc: 0.4854 - lr: 0.0100\n",
            "Epoch 27/200\n",
            "18/18 [==============================] - 2s 89ms/step - loss: 2.1946 - acc: 0.4596 - val_loss: 2.2114 - val_acc: 0.4544 - lr: 0.0100\n",
            "Epoch 28/200\n",
            "18/18 [==============================] - 2s 87ms/step - loss: 2.1921 - acc: 0.4609 - val_loss: 2.2069 - val_acc: 0.4757 - lr: 0.0100\n",
            "Epoch 29/200\n",
            "18/18 [==============================] - 2s 91ms/step - loss: 2.1859 - acc: 0.4653 - val_loss: 2.2089 - val_acc: 0.4485 - lr: 0.0100\n",
            "Epoch 30/200\n",
            "18/18 [==============================] - 2s 88ms/step - loss: 2.1650 - acc: 0.4746 - val_loss: 2.1935 - val_acc: 0.4660 - lr: 0.0100\n",
            "Epoch 31/200\n",
            "18/18 [==============================] - 2s 88ms/step - loss: 2.1554 - acc: 0.4847 - val_loss: 2.2353 - val_acc: 0.4583 - lr: 0.0100\n",
            "Epoch 32/200\n",
            "18/18 [==============================] - 2s 87ms/step - loss: 2.1540 - acc: 0.5050 - val_loss: 2.1830 - val_acc: 0.4990 - lr: 0.0100\n",
            "Epoch 33/200\n",
            "18/18 [==============================] - 2s 86ms/step - loss: 2.1346 - acc: 0.5139 - val_loss: 2.1536 - val_acc: 0.5223 - lr: 0.0100\n",
            "Epoch 34/200\n",
            "18/18 [==============================] - 2s 86ms/step - loss: 2.1233 - acc: 0.5187 - val_loss: 2.1274 - val_acc: 0.5243 - lr: 0.0100\n",
            "Epoch 35/200\n",
            "18/18 [==============================] - 2s 86ms/step - loss: 2.1064 - acc: 0.5249 - val_loss: 2.1324 - val_acc: 0.4777 - lr: 0.0100\n",
            "Epoch 36/200\n",
            "18/18 [==============================] - 2s 87ms/step - loss: 2.0739 - acc: 0.5349 - val_loss: 2.0899 - val_acc: 0.5476 - lr: 0.0100\n",
            "Epoch 37/200\n",
            "18/18 [==============================] - 2s 86ms/step - loss: 2.0615 - acc: 0.5420 - val_loss: 2.0890 - val_acc: 0.5379 - lr: 0.0100\n",
            "Epoch 38/200\n",
            "18/18 [==============================] - 2s 86ms/step - loss: 2.0794 - acc: 0.5340 - val_loss: 2.0789 - val_acc: 0.5223 - lr: 0.0100\n",
            "Epoch 39/200\n",
            "18/18 [==============================] - 2s 87ms/step - loss: 2.0584 - acc: 0.5448 - val_loss: 2.1000 - val_acc: 0.5301 - lr: 0.0100\n",
            "Epoch 40/200\n",
            "18/18 [==============================] - 2s 86ms/step - loss: 2.0428 - acc: 0.5557 - val_loss: 2.0701 - val_acc: 0.5068 - lr: 0.0100\n",
            "Epoch 41/200\n",
            "18/18 [==============================] - 2s 89ms/step - loss: 2.0297 - acc: 0.5640 - val_loss: 2.0354 - val_acc: 0.5417 - lr: 0.0100\n",
            "Epoch 42/200\n",
            "18/18 [==============================] - 2s 88ms/step - loss: 2.0017 - acc: 0.5818 - val_loss: 2.0131 - val_acc: 0.5612 - lr: 0.0100\n",
            "Epoch 43/200\n",
            "18/18 [==============================] - 2s 85ms/step - loss: 1.9770 - acc: 0.5815 - val_loss: 1.9985 - val_acc: 0.5806 - lr: 0.0100\n",
            "Epoch 44/200\n",
            "18/18 [==============================] - 2s 89ms/step - loss: 1.9794 - acc: 0.5788 - val_loss: 2.0260 - val_acc: 0.5534 - lr: 0.0100\n",
            "Epoch 45/200\n",
            "18/18 [==============================] - 2s 89ms/step - loss: 1.9553 - acc: 0.5914 - val_loss: 1.9709 - val_acc: 0.5767 - lr: 0.0100\n",
            "Epoch 46/200\n",
            "18/18 [==============================] - 2s 86ms/step - loss: 1.9519 - acc: 0.5914 - val_loss: 2.0287 - val_acc: 0.5437 - lr: 0.0100\n",
            "Epoch 47/200\n",
            "18/18 [==============================] - 2s 86ms/step - loss: 1.9262 - acc: 0.6074 - val_loss: 2.0309 - val_acc: 0.5592 - lr: 0.0100\n",
            "Epoch 48/200\n",
            "18/18 [==============================] - 2s 86ms/step - loss: 1.9227 - acc: 0.6058 - val_loss: 1.9410 - val_acc: 0.5786 - lr: 0.0100\n",
            "Epoch 49/200\n",
            "18/18 [==============================] - 2s 90ms/step - loss: 1.9001 - acc: 0.6085 - val_loss: 1.9248 - val_acc: 0.5825 - lr: 0.0100\n",
            "Epoch 50/200\n",
            "18/18 [==============================] - 2s 88ms/step - loss: 1.8853 - acc: 0.6156 - val_loss: 1.9481 - val_acc: 0.5864 - lr: 0.0100\n",
            "Epoch 51/200\n",
            "18/18 [==============================] - 2s 89ms/step - loss: 1.8873 - acc: 0.6108 - val_loss: 1.9021 - val_acc: 0.5709 - lr: 0.0100\n",
            "Epoch 52/200\n",
            "18/18 [==============================] - 2s 85ms/step - loss: 1.8477 - acc: 0.6359 - val_loss: 2.0342 - val_acc: 0.5573 - lr: 0.0100\n",
            "Epoch 53/200\n",
            "18/18 [==============================] - 2s 87ms/step - loss: 1.8752 - acc: 0.6053 - val_loss: 1.8947 - val_acc: 0.5806 - lr: 0.0100\n",
            "Epoch 54/200\n",
            "18/18 [==============================] - 2s 86ms/step - loss: 1.8368 - acc: 0.6279 - val_loss: 1.8703 - val_acc: 0.6155 - lr: 0.0100\n",
            "Epoch 55/200\n",
            "18/18 [==============================] - 2s 91ms/step - loss: 1.8220 - acc: 0.6471 - val_loss: 1.9281 - val_acc: 0.5864 - lr: 0.0100\n",
            "Epoch 56/200\n",
            "18/18 [==============================] - 2s 86ms/step - loss: 1.8053 - acc: 0.6519 - val_loss: 1.9319 - val_acc: 0.6000 - lr: 0.0100\n",
            "Epoch 57/200\n",
            "18/18 [==============================] - 2s 89ms/step - loss: 1.7925 - acc: 0.6515 - val_loss: 1.8706 - val_acc: 0.6155 - lr: 0.0100\n",
            "Epoch 58/200\n",
            "18/18 [==============================] - 2s 86ms/step - loss: 1.7781 - acc: 0.6549 - val_loss: 1.8688 - val_acc: 0.6330 - lr: 0.0100\n",
            "Epoch 59/200\n",
            "18/18 [==============================] - 2s 90ms/step - loss: 1.7762 - acc: 0.6601 - val_loss: 1.8537 - val_acc: 0.6350 - lr: 0.0100\n",
            "Epoch 60/200\n",
            "18/18 [==============================] - 2s 89ms/step - loss: 1.7463 - acc: 0.6750 - val_loss: 1.8710 - val_acc: 0.6155 - lr: 0.0100\n",
            "Epoch 61/200\n",
            "18/18 [==============================] - 2s 88ms/step - loss: 1.7451 - acc: 0.6706 - val_loss: 1.8653 - val_acc: 0.6233 - lr: 0.0100\n",
            "Epoch 62/200\n",
            "18/18 [==============================] - 2s 87ms/step - loss: 1.7494 - acc: 0.6656 - val_loss: 1.8924 - val_acc: 0.5961 - lr: 0.0100\n",
            "Epoch 63/200\n",
            "18/18 [==============================] - 2s 87ms/step - loss: 1.7222 - acc: 0.6768 - val_loss: 1.8193 - val_acc: 0.6447 - lr: 0.0100\n",
            "Epoch 64/200\n",
            "18/18 [==============================] - 2s 87ms/step - loss: 1.7171 - acc: 0.6846 - val_loss: 1.9057 - val_acc: 0.6175 - lr: 0.0100\n",
            "Epoch 65/200\n",
            "18/18 [==============================] - 2s 87ms/step - loss: 1.6968 - acc: 0.6852 - val_loss: 1.8146 - val_acc: 0.6350 - lr: 0.0100\n",
            "Epoch 66/200\n",
            "18/18 [==============================] - 2s 86ms/step - loss: 1.6774 - acc: 0.6887 - val_loss: 1.8547 - val_acc: 0.6447 - lr: 0.0100\n",
            "Epoch 67/200\n",
            "18/18 [==============================] - 2s 90ms/step - loss: 1.6652 - acc: 0.7063 - val_loss: 1.7750 - val_acc: 0.6350 - lr: 0.0100\n",
            "Epoch 68/200\n",
            "18/18 [==============================] - 2s 86ms/step - loss: 1.6471 - acc: 0.7072 - val_loss: 1.7724 - val_acc: 0.6427 - lr: 0.0100\n",
            "Epoch 69/200\n",
            "18/18 [==============================] - 2s 86ms/step - loss: 1.6499 - acc: 0.7069 - val_loss: 1.8694 - val_acc: 0.6330 - lr: 0.0100\n",
            "Epoch 70/200\n",
            "18/18 [==============================] - 2s 88ms/step - loss: 1.6704 - acc: 0.6931 - val_loss: 1.7974 - val_acc: 0.6350 - lr: 0.0100\n",
            "Epoch 71/200\n",
            "18/18 [==============================] - 2s 86ms/step - loss: 1.6543 - acc: 0.6953 - val_loss: 1.7170 - val_acc: 0.6621 - lr: 0.0100\n",
            "Epoch 72/200\n",
            "18/18 [==============================] - 2s 87ms/step - loss: 1.6179 - acc: 0.7111 - val_loss: 1.6916 - val_acc: 0.6835 - lr: 0.0100\n",
            "Epoch 73/200\n",
            "18/18 [==============================] - 2s 88ms/step - loss: 1.6496 - acc: 0.7067 - val_loss: 1.6866 - val_acc: 0.6816 - lr: 0.0100\n",
            "Epoch 74/200\n",
            "18/18 [==============================] - 2s 87ms/step - loss: 1.6139 - acc: 0.7165 - val_loss: 2.0306 - val_acc: 0.5845 - lr: 0.0100\n",
            "Epoch 75/200\n",
            "18/18 [==============================] - 2s 89ms/step - loss: 1.6458 - acc: 0.7040 - val_loss: 1.7361 - val_acc: 0.6485 - lr: 0.0100\n",
            "Epoch 76/200\n",
            "18/18 [==============================] - 2s 87ms/step - loss: 1.5945 - acc: 0.7161 - val_loss: 1.7098 - val_acc: 0.6718 - lr: 0.0100\n",
            "Epoch 77/200\n",
            "18/18 [==============================] - 2s 90ms/step - loss: 1.5803 - acc: 0.7274 - val_loss: 1.6954 - val_acc: 0.6874 - lr: 0.0100\n",
            "Epoch 78/200\n",
            "18/18 [==============================] - 2s 86ms/step - loss: 1.5759 - acc: 0.7227 - val_loss: 1.7583 - val_acc: 0.6563 - lr: 0.0100\n",
            "Epoch 79/200\n",
            "18/18 [==============================] - 2s 89ms/step - loss: 1.5816 - acc: 0.7218 - val_loss: 1.6746 - val_acc: 0.6718 - lr: 0.0100\n",
            "Epoch 80/200\n",
            "18/18 [==============================] - 2s 86ms/step - loss: 1.5586 - acc: 0.7360 - val_loss: 1.6529 - val_acc: 0.6932 - lr: 0.0100\n",
            "Epoch 81/200\n",
            "18/18 [==============================] - 2s 86ms/step - loss: 1.6500 - acc: 0.6855 - val_loss: 1.7652 - val_acc: 0.6505 - lr: 0.0010\n",
            "Epoch 82/200\n",
            "18/18 [==============================] - 2s 86ms/step - loss: 1.5814 - acc: 0.7229 - val_loss: 1.7360 - val_acc: 0.6777 - lr: 0.0010\n",
            "Epoch 83/200\n",
            "18/18 [==============================] - 2s 86ms/step - loss: 1.5389 - acc: 0.7414 - val_loss: 1.7418 - val_acc: 0.6583 - lr: 0.0010\n",
            "Epoch 84/200\n",
            "18/18 [==============================] - 2s 87ms/step - loss: 1.5258 - acc: 0.7540 - val_loss: 1.6481 - val_acc: 0.6990 - lr: 0.0010\n",
            "Epoch 85/200\n",
            "18/18 [==============================] - 2s 87ms/step - loss: 1.5228 - acc: 0.7524 - val_loss: 1.6558 - val_acc: 0.6854 - lr: 0.0010\n",
            "Epoch 86/200\n",
            "18/18 [==============================] - 2s 87ms/step - loss: 1.5026 - acc: 0.7579 - val_loss: 1.6413 - val_acc: 0.6854 - lr: 0.0010\n",
            "Epoch 87/200\n",
            "18/18 [==============================] - 2s 88ms/step - loss: 1.5063 - acc: 0.7556 - val_loss: 1.6317 - val_acc: 0.6932 - lr: 0.0010\n",
            "Epoch 88/200\n",
            "18/18 [==============================] - 2s 88ms/step - loss: 1.4953 - acc: 0.7559 - val_loss: 1.6295 - val_acc: 0.6971 - lr: 0.0010\n",
            "Epoch 89/200\n",
            "18/18 [==============================] - 2s 89ms/step - loss: 1.4842 - acc: 0.7630 - val_loss: 1.6261 - val_acc: 0.7049 - lr: 0.0010\n",
            "Epoch 90/200\n",
            "18/18 [==============================] - 2s 90ms/step - loss: 1.4885 - acc: 0.7597 - val_loss: 1.6363 - val_acc: 0.7049 - lr: 0.0010\n",
            "Epoch 91/200\n",
            "18/18 [==============================] - 2s 88ms/step - loss: 1.4820 - acc: 0.7661 - val_loss: 1.6224 - val_acc: 0.7184 - lr: 0.0010\n",
            "Epoch 92/200\n",
            "18/18 [==============================] - 2s 91ms/step - loss: 1.4821 - acc: 0.7675 - val_loss: 1.6345 - val_acc: 0.6990 - lr: 0.0010\n",
            "Epoch 93/200\n",
            "18/18 [==============================] - 2s 86ms/step - loss: 1.4813 - acc: 0.7586 - val_loss: 1.6241 - val_acc: 0.7049 - lr: 0.0010\n",
            "Epoch 94/200\n",
            "18/18 [==============================] - 2s 87ms/step - loss: 1.4740 - acc: 0.7670 - val_loss: 1.6348 - val_acc: 0.6990 - lr: 0.0010\n",
            "Epoch 95/200\n",
            "18/18 [==============================] - 2s 88ms/step - loss: 1.4658 - acc: 0.7734 - val_loss: 1.6607 - val_acc: 0.6893 - lr: 0.0010\n",
            "Epoch 96/200\n",
            "18/18 [==============================] - 2s 88ms/step - loss: 1.4803 - acc: 0.7615 - val_loss: 1.6513 - val_acc: 0.7010 - lr: 0.0010\n",
            "Epoch 97/200\n",
            "18/18 [==============================] - 2s 86ms/step - loss: 1.4659 - acc: 0.7704 - val_loss: 1.6534 - val_acc: 0.6913 - lr: 0.0010\n",
            "Epoch 98/200\n",
            "18/18 [==============================] - 2s 87ms/step - loss: 1.4721 - acc: 0.7624 - val_loss: 1.6342 - val_acc: 0.7146 - lr: 0.0010\n",
            "Epoch 99/200\n",
            "18/18 [==============================] - 2s 87ms/step - loss: 1.4689 - acc: 0.7597 - val_loss: 1.6449 - val_acc: 0.7049 - lr: 0.0010\n",
            "Epoch 100/200\n",
            "18/18 [==============================] - 2s 86ms/step - loss: 1.4685 - acc: 0.7650 - val_loss: 1.6220 - val_acc: 0.7165 - lr: 0.0010\n",
            "Epoch 101/200\n",
            "18/18 [==============================] - 2s 87ms/step - loss: 1.4702 - acc: 0.7677 - val_loss: 1.6309 - val_acc: 0.7068 - lr: 0.0010\n",
            "Epoch 102/200\n",
            "18/18 [==============================] - 2s 86ms/step - loss: 1.4658 - acc: 0.7707 - val_loss: 1.6262 - val_acc: 0.7107 - lr: 0.0010\n",
            "Epoch 103/200\n",
            "18/18 [==============================] - 2s 89ms/step - loss: 1.4671 - acc: 0.7693 - val_loss: 1.6376 - val_acc: 0.7107 - lr: 0.0010\n",
            "Epoch 104/200\n",
            "18/18 [==============================] - 2s 92ms/step - loss: 1.4656 - acc: 0.7719 - val_loss: 1.6359 - val_acc: 0.6913 - lr: 0.0010\n",
            "Epoch 105/200\n",
            "18/18 [==============================] - 2s 87ms/step - loss: 1.4625 - acc: 0.7714 - val_loss: 1.6399 - val_acc: 0.7049 - lr: 0.0010\n",
            "Epoch 106/200\n",
            "18/18 [==============================] - 2s 91ms/step - loss: 1.4771 - acc: 0.7611 - val_loss: 1.6533 - val_acc: 0.6971 - lr: 0.0010\n",
            "Epoch 107/200\n",
            "18/18 [==============================] - 2s 87ms/step - loss: 1.4545 - acc: 0.7734 - val_loss: 1.6125 - val_acc: 0.7223 - lr: 0.0010\n",
            "Epoch 108/200\n",
            "18/18 [==============================] - 2s 88ms/step - loss: 1.4557 - acc: 0.7679 - val_loss: 1.6312 - val_acc: 0.7029 - lr: 0.0010\n",
            "Epoch 109/200\n",
            "18/18 [==============================] - 2s 86ms/step - loss: 1.4539 - acc: 0.7752 - val_loss: 1.6445 - val_acc: 0.6932 - lr: 0.0010\n",
            "Epoch 110/200\n",
            "18/18 [==============================] - 2s 88ms/step - loss: 1.4455 - acc: 0.7787 - val_loss: 1.6383 - val_acc: 0.7107 - lr: 0.0010\n",
            "Epoch 111/200\n",
            "18/18 [==============================] - 2s 87ms/step - loss: 1.4403 - acc: 0.7759 - val_loss: 1.6279 - val_acc: 0.7029 - lr: 0.0010\n",
            "Epoch 112/200\n",
            "18/18 [==============================] - 2s 89ms/step - loss: 1.4464 - acc: 0.7782 - val_loss: 1.6160 - val_acc: 0.7223 - lr: 0.0010\n",
            "Epoch 113/200\n",
            "18/18 [==============================] - 2s 86ms/step - loss: 1.4474 - acc: 0.7702 - val_loss: 1.6181 - val_acc: 0.7126 - lr: 0.0010\n",
            "Epoch 114/200\n",
            "18/18 [==============================] - 2s 89ms/step - loss: 1.4506 - acc: 0.7757 - val_loss: 1.6310 - val_acc: 0.6990 - lr: 0.0010\n",
            "Epoch 115/200\n",
            "18/18 [==============================] - 2s 87ms/step - loss: 1.4440 - acc: 0.7755 - val_loss: 1.6132 - val_acc: 0.7126 - lr: 0.0010\n",
            "Epoch 116/200\n",
            "18/18 [==============================] - 2s 89ms/step - loss: 1.4472 - acc: 0.7693 - val_loss: 1.6152 - val_acc: 0.7087 - lr: 0.0010\n",
            "Epoch 117/200\n",
            "18/18 [==============================] - 2s 87ms/step - loss: 1.4407 - acc: 0.7837 - val_loss: 1.6139 - val_acc: 0.7165 - lr: 0.0010\n",
            "Epoch 118/200\n",
            "18/18 [==============================] - 2s 87ms/step - loss: 1.4432 - acc: 0.7734 - val_loss: 1.6238 - val_acc: 0.7184 - lr: 0.0010\n",
            "Epoch 119/200\n",
            "18/18 [==============================] - 2s 89ms/step - loss: 1.4473 - acc: 0.7714 - val_loss: 1.6213 - val_acc: 0.7262 - lr: 0.0010\n",
            "Epoch 120/200\n",
            "18/18 [==============================] - 2s 86ms/step - loss: 1.4346 - acc: 0.7750 - val_loss: 1.6275 - val_acc: 0.7184 - lr: 0.0010\n",
            "Epoch 121/200\n",
            "18/18 [==============================] - 2s 86ms/step - loss: 1.4399 - acc: 0.7800 - val_loss: 1.6235 - val_acc: 0.7340 - lr: 1.0000e-04\n",
            "Epoch 122/200\n",
            "18/18 [==============================] - 2s 88ms/step - loss: 1.4349 - acc: 0.7725 - val_loss: 1.6242 - val_acc: 0.7087 - lr: 1.0000e-04\n",
            "Epoch 123/200\n",
            "18/18 [==============================] - 2s 90ms/step - loss: 1.4435 - acc: 0.7768 - val_loss: 1.6252 - val_acc: 0.7204 - lr: 1.0000e-04\n",
            "Epoch 124/200\n",
            "18/18 [==============================] - 2s 87ms/step - loss: 1.4279 - acc: 0.7819 - val_loss: 1.6407 - val_acc: 0.7126 - lr: 1.0000e-04\n",
            "Epoch 125/200\n",
            "18/18 [==============================] - 2s 86ms/step - loss: 1.4307 - acc: 0.7839 - val_loss: 1.6903 - val_acc: 0.6893 - lr: 1.0000e-04\n",
            "Epoch 126/200\n",
            "18/18 [==============================] - 2s 90ms/step - loss: 1.4257 - acc: 0.7837 - val_loss: 1.6234 - val_acc: 0.7165 - lr: 1.0000e-04\n",
            "Epoch 127/200\n",
            "18/18 [==============================] - 2s 88ms/step - loss: 1.4294 - acc: 0.7796 - val_loss: 1.6131 - val_acc: 0.7184 - lr: 1.0000e-04\n",
            "Epoch 128/200\n",
            "18/18 [==============================] - 2s 88ms/step - loss: 1.4328 - acc: 0.7794 - val_loss: 1.6197 - val_acc: 0.7204 - lr: 1.0000e-04\n",
            "Epoch 129/200\n",
            "18/18 [==============================] - 2s 86ms/step - loss: 1.4283 - acc: 0.7812 - val_loss: 1.6088 - val_acc: 0.7262 - lr: 1.0000e-04\n",
            "Epoch 130/200\n",
            "18/18 [==============================] - 2s 85ms/step - loss: 1.4277 - acc: 0.7723 - val_loss: 1.6209 - val_acc: 0.7107 - lr: 1.0000e-04\n",
            "Epoch 131/200\n",
            "18/18 [==============================] - 2s 86ms/step - loss: 1.4310 - acc: 0.7771 - val_loss: 1.6195 - val_acc: 0.7204 - lr: 1.0000e-04\n",
            "Epoch 132/200\n",
            "18/18 [==============================] - 2s 87ms/step - loss: 1.4298 - acc: 0.7803 - val_loss: 1.6119 - val_acc: 0.7184 - lr: 1.0000e-04\n",
            "Epoch 133/200\n",
            "18/18 [==============================] - 2s 87ms/step - loss: 1.4197 - acc: 0.7796 - val_loss: 1.6186 - val_acc: 0.7107 - lr: 1.0000e-04\n",
            "Epoch 134/200\n",
            "18/18 [==============================] - 2s 88ms/step - loss: 1.4403 - acc: 0.7748 - val_loss: 1.6149 - val_acc: 0.7146 - lr: 1.0000e-04\n",
            "Epoch 135/200\n",
            "18/18 [==============================] - 2s 89ms/step - loss: 1.4334 - acc: 0.7750 - val_loss: 1.6403 - val_acc: 0.7087 - lr: 1.0000e-04\n",
            "Epoch 136/200\n",
            "18/18 [==============================] - 2s 92ms/step - loss: 1.4272 - acc: 0.7852 - val_loss: 1.6266 - val_acc: 0.7165 - lr: 1.0000e-04\n",
            "Epoch 137/200\n",
            "18/18 [==============================] - 2s 86ms/step - loss: 1.4296 - acc: 0.7816 - val_loss: 1.6081 - val_acc: 0.7146 - lr: 1.0000e-04\n",
            "Epoch 138/200\n",
            "18/18 [==============================] - 2s 87ms/step - loss: 1.4294 - acc: 0.7755 - val_loss: 1.6139 - val_acc: 0.7165 - lr: 1.0000e-04\n",
            "Epoch 139/200\n",
            "18/18 [==============================] - 2s 87ms/step - loss: 1.4337 - acc: 0.7734 - val_loss: 1.6203 - val_acc: 0.7165 - lr: 1.0000e-04\n",
            "Epoch 140/200\n",
            "18/18 [==============================] - 2s 87ms/step - loss: 1.4346 - acc: 0.7798 - val_loss: 1.6235 - val_acc: 0.7107 - lr: 1.0000e-04\n",
            "Epoch 141/200\n",
            "18/18 [==============================] - 2s 89ms/step - loss: 1.4244 - acc: 0.7873 - val_loss: 1.6322 - val_acc: 0.7087 - lr: 1.0000e-04\n",
            "Epoch 142/200\n",
            "18/18 [==============================] - 2s 86ms/step - loss: 1.4187 - acc: 0.7876 - val_loss: 1.6403 - val_acc: 0.7049 - lr: 1.0000e-04\n",
            "Epoch 143/200\n",
            "18/18 [==============================] - 2s 91ms/step - loss: 1.4295 - acc: 0.7791 - val_loss: 1.6263 - val_acc: 0.7204 - lr: 1.0000e-04\n",
            "Epoch 144/200\n",
            "18/18 [==============================] - 2s 88ms/step - loss: 1.4230 - acc: 0.7797 - val_loss: 1.6334 - val_acc: 0.7068 - lr: 1.0000e-04\n",
            "Epoch 145/200\n",
            "18/18 [==============================] - 2s 87ms/step - loss: 1.4256 - acc: 0.7796 - val_loss: 1.6218 - val_acc: 0.7204 - lr: 1.0000e-04\n",
            "Epoch 146/200\n",
            "18/18 [==============================] - 2s 86ms/step - loss: 1.4230 - acc: 0.7814 - val_loss: 1.6166 - val_acc: 0.7184 - lr: 1.0000e-04\n",
            "Epoch 147/200\n",
            "18/18 [==============================] - 2s 87ms/step - loss: 1.4262 - acc: 0.7844 - val_loss: 1.6213 - val_acc: 0.7087 - lr: 1.0000e-04\n",
            "Epoch 148/200\n",
            "18/18 [==============================] - 2s 88ms/step - loss: 1.4309 - acc: 0.7771 - val_loss: 1.6194 - val_acc: 0.7204 - lr: 1.0000e-04\n",
            "Epoch 149/200\n",
            "18/18 [==============================] - 2s 87ms/step - loss: 1.4268 - acc: 0.7803 - val_loss: 1.6354 - val_acc: 0.7146 - lr: 1.0000e-04\n",
            "Epoch 150/200\n",
            "18/18 [==============================] - 2s 86ms/step - loss: 1.4176 - acc: 0.7837 - val_loss: 1.6086 - val_acc: 0.7301 - lr: 1.0000e-04\n",
            "Epoch 151/200\n",
            "18/18 [==============================] - 2s 88ms/step - loss: 1.4223 - acc: 0.7855 - val_loss: 1.6347 - val_acc: 0.7126 - lr: 1.0000e-04\n",
            "Epoch 152/200\n",
            "18/18 [==============================] - 2s 88ms/step - loss: 1.4312 - acc: 0.7778 - val_loss: 1.6186 - val_acc: 0.7184 - lr: 1.0000e-04\n",
            "Epoch 153/200\n",
            "18/18 [==============================] - 2s 87ms/step - loss: 1.4192 - acc: 0.7846 - val_loss: 1.6189 - val_acc: 0.7204 - lr: 1.0000e-04\n",
            "Epoch 154/200\n",
            "18/18 [==============================] - 2s 87ms/step - loss: 1.4263 - acc: 0.7851 - val_loss: 1.6175 - val_acc: 0.7301 - lr: 1.0000e-04\n",
            "Epoch 155/200\n",
            "18/18 [==============================] - 2s 87ms/step - loss: 1.4345 - acc: 0.7762 - val_loss: 1.6187 - val_acc: 0.7184 - lr: 1.0000e-04\n",
            "Epoch 156/200\n",
            "18/18 [==============================] - 2s 87ms/step - loss: 1.4235 - acc: 0.7839 - val_loss: 1.6174 - val_acc: 0.7184 - lr: 1.0000e-04\n",
            "Epoch 157/200\n",
            "18/18 [==============================] - 2s 91ms/step - loss: 1.4260 - acc: 0.7784 - val_loss: 1.6298 - val_acc: 0.7068 - lr: 1.0000e-04\n",
            "Epoch 158/200\n",
            "18/18 [==============================] - 2s 87ms/step - loss: 1.4217 - acc: 0.7752 - val_loss: 1.6069 - val_acc: 0.7320 - lr: 1.0000e-04\n",
            "Epoch 159/200\n",
            "18/18 [==============================] - 2s 88ms/step - loss: 1.4307 - acc: 0.7780 - val_loss: 1.6103 - val_acc: 0.7146 - lr: 1.0000e-04\n",
            "Epoch 160/200\n",
            "18/18 [==============================] - 2s 87ms/step - loss: 1.4297 - acc: 0.7812 - val_loss: 1.6084 - val_acc: 0.7262 - lr: 1.0000e-04\n",
            "Epoch 161/200\n",
            "18/18 [==============================] - 2s 93ms/step - loss: 1.4280 - acc: 0.7757 - val_loss: 1.6153 - val_acc: 0.7184 - lr: 1.0000e-04\n",
            "Epoch 162/200\n",
            "18/18 [==============================] - 2s 86ms/step - loss: 1.4221 - acc: 0.7814 - val_loss: 1.6205 - val_acc: 0.7126 - lr: 1.0000e-04\n",
            "Epoch 163/200\n",
            "18/18 [==============================] - 2s 87ms/step - loss: 1.4271 - acc: 0.7787 - val_loss: 1.6273 - val_acc: 0.7107 - lr: 1.0000e-04\n",
            "Epoch 164/200\n",
            "18/18 [==============================] - 2s 92ms/step - loss: 1.4296 - acc: 0.7787 - val_loss: 1.6193 - val_acc: 0.7107 - lr: 1.0000e-04\n",
            "Epoch 165/200\n",
            "18/18 [==============================] - 2s 87ms/step - loss: 1.4256 - acc: 0.7819 - val_loss: 1.6251 - val_acc: 0.7107 - lr: 1.0000e-04\n",
            "Epoch 166/200\n",
            "18/18 [==============================] - 2s 87ms/step - loss: 1.4187 - acc: 0.7828 - val_loss: 1.6239 - val_acc: 0.7146 - lr: 1.0000e-04\n",
            "Epoch 167/200\n",
            "18/18 [==============================] - 2s 89ms/step - loss: 1.4194 - acc: 0.7860 - val_loss: 1.6113 - val_acc: 0.7243 - lr: 1.0000e-04\n",
            "Epoch 168/200\n",
            "18/18 [==============================] - 2s 87ms/step - loss: 1.4343 - acc: 0.7816 - val_loss: 1.6073 - val_acc: 0.7282 - lr: 1.0000e-04\n",
            "Epoch 169/200\n",
            "18/18 [==============================] - 2s 87ms/step - loss: 1.4255 - acc: 0.7810 - val_loss: 1.7967 - val_acc: 0.6796 - lr: 1.0000e-04\n",
            "Epoch 170/200\n",
            "18/18 [==============================] - 2s 89ms/step - loss: 1.4278 - acc: 0.7839 - val_loss: 1.6204 - val_acc: 0.7223 - lr: 1.0000e-04\n",
            "Epoch 171/200\n",
            "18/18 [==============================] - 2s 88ms/step - loss: 1.4326 - acc: 0.7784 - val_loss: 1.6132 - val_acc: 0.7146 - lr: 1.0000e-04\n",
            "Epoch 172/200\n",
            "18/18 [==============================] - 2s 87ms/step - loss: 1.4247 - acc: 0.7819 - val_loss: 1.6197 - val_acc: 0.7146 - lr: 1.0000e-04\n",
            "Epoch 173/200\n",
            "18/18 [==============================] - 2s 89ms/step - loss: 1.4270 - acc: 0.7807 - val_loss: 1.6133 - val_acc: 0.7184 - lr: 1.0000e-04\n",
            "Epoch 174/200\n",
            "18/18 [==============================] - 2s 86ms/step - loss: 1.4247 - acc: 0.7851 - val_loss: 1.6119 - val_acc: 0.7184 - lr: 1.0000e-04\n",
            "Epoch 175/200\n",
            "18/18 [==============================] - 2s 86ms/step - loss: 1.4173 - acc: 0.7835 - val_loss: 1.6147 - val_acc: 0.7184 - lr: 1.0000e-04\n",
            "Epoch 176/200\n",
            "18/18 [==============================] - 2s 89ms/step - loss: 1.4231 - acc: 0.7816 - val_loss: 1.6028 - val_acc: 0.7243 - lr: 1.0000e-04\n",
            "Epoch 177/200\n",
            "18/18 [==============================] - 2s 87ms/step - loss: 1.4305 - acc: 0.7730 - val_loss: 1.6011 - val_acc: 0.7184 - lr: 1.0000e-04\n",
            "Epoch 178/200\n",
            "18/18 [==============================] - 2s 86ms/step - loss: 1.4293 - acc: 0.7778 - val_loss: 1.6259 - val_acc: 0.7146 - lr: 1.0000e-04\n",
            "Epoch 179/200\n",
            "18/18 [==============================] - 2s 88ms/step - loss: 1.4230 - acc: 0.7844 - val_loss: 1.6156 - val_acc: 0.7107 - lr: 1.0000e-04\n",
            "Epoch 180/200\n",
            "18/18 [==============================] - 2s 88ms/step - loss: 1.4263 - acc: 0.7741 - val_loss: 1.6060 - val_acc: 0.7262 - lr: 1.0000e-04\n",
            "Epoch 181/200\n",
            "18/18 [==============================] - 2s 88ms/step - loss: 1.4202 - acc: 0.7917 - val_loss: 1.6166 - val_acc: 0.7146 - lr: 1.0000e-04\n",
            "Epoch 182/200\n",
            "18/18 [==============================] - 2s 87ms/step - loss: 1.4225 - acc: 0.7880 - val_loss: 1.6147 - val_acc: 0.7204 - lr: 1.0000e-04\n",
            "Epoch 183/200\n",
            "18/18 [==============================] - 2s 86ms/step - loss: 1.4171 - acc: 0.7862 - val_loss: 1.6271 - val_acc: 0.7165 - lr: 1.0000e-04\n",
            "Epoch 184/200\n",
            "18/18 [==============================] - 2s 87ms/step - loss: 1.4280 - acc: 0.7825 - val_loss: 1.6264 - val_acc: 0.7029 - lr: 1.0000e-04\n",
            "Epoch 185/200\n",
            "18/18 [==============================] - 2s 89ms/step - loss: 1.4162 - acc: 0.7862 - val_loss: 1.6363 - val_acc: 0.7126 - lr: 1.0000e-04\n",
            "Epoch 186/200\n",
            "18/18 [==============================] - 2s 87ms/step - loss: 1.4112 - acc: 0.7803 - val_loss: 1.6383 - val_acc: 0.7049 - lr: 1.0000e-04\n",
            "Epoch 187/200\n",
            "18/18 [==============================] - 2s 87ms/step - loss: 1.4230 - acc: 0.7853 - val_loss: 1.6416 - val_acc: 0.7107 - lr: 1.0000e-04\n",
            "Epoch 188/200\n",
            "18/18 [==============================] - 2s 87ms/step - loss: 1.4193 - acc: 0.7828 - val_loss: 1.6159 - val_acc: 0.7243 - lr: 1.0000e-04\n",
            "Epoch 189/200\n",
            "18/18 [==============================] - 2s 88ms/step - loss: 1.4227 - acc: 0.7885 - val_loss: 1.6812 - val_acc: 0.7010 - lr: 1.0000e-04\n",
            "Epoch 190/200\n",
            "18/18 [==============================] - 2s 87ms/step - loss: 1.4143 - acc: 0.7869 - val_loss: 1.6241 - val_acc: 0.7165 - lr: 1.0000e-04\n",
            "Epoch 191/200\n",
            "18/18 [==============================] - 2s 87ms/step - loss: 1.4218 - acc: 0.7821 - val_loss: 1.6109 - val_acc: 0.7262 - lr: 1.0000e-04\n",
            "Epoch 192/200\n",
            "18/18 [==============================] - 2s 88ms/step - loss: 1.4221 - acc: 0.7828 - val_loss: 1.6190 - val_acc: 0.7223 - lr: 1.0000e-04\n",
            "Epoch 193/200\n",
            "18/18 [==============================] - 2s 86ms/step - loss: 1.4344 - acc: 0.7805 - val_loss: 1.6320 - val_acc: 0.7087 - lr: 1.0000e-04\n",
            "Epoch 194/200\n",
            "18/18 [==============================] - 2s 87ms/step - loss: 1.4243 - acc: 0.7846 - val_loss: 1.6079 - val_acc: 0.7184 - lr: 1.0000e-04\n",
            "Epoch 195/200\n",
            "18/18 [==============================] - 2s 87ms/step - loss: 1.4220 - acc: 0.7835 - val_loss: 1.6137 - val_acc: 0.7184 - lr: 1.0000e-04\n",
            "Epoch 196/200\n",
            "18/18 [==============================] - 2s 87ms/step - loss: 1.4208 - acc: 0.7864 - val_loss: 1.6192 - val_acc: 0.7204 - lr: 1.0000e-04\n",
            "Epoch 197/200\n",
            "18/18 [==============================] - 2s 86ms/step - loss: 1.4144 - acc: 0.7860 - val_loss: 1.6291 - val_acc: 0.7049 - lr: 1.0000e-04\n",
            "Epoch 198/200\n",
            "18/18 [==============================] - 2s 87ms/step - loss: 1.4177 - acc: 0.7828 - val_loss: 1.6361 - val_acc: 0.7049 - lr: 1.0000e-04\n",
            "Epoch 199/200\n",
            "18/18 [==============================] - 2s 87ms/step - loss: 1.4216 - acc: 0.7860 - val_loss: 1.6194 - val_acc: 0.7243 - lr: 1.0000e-04\n",
            "Epoch 200/200\n",
            "18/18 [==============================] - 2s 88ms/step - loss: 1.4302 - acc: 0.7791 - val_loss: 1.6291 - val_acc: 0.7049 - lr: 1.0000e-04\n"
          ],
          "name": "stdout"
        }
      ]
    },
    {
      "cell_type": "code",
      "metadata": {
        "id": "xI39Sx-kYyUx",
        "colab_type": "code",
        "colab": {}
      },
      "source": [
        "wrn_16_2.save(\"model_wrn_last.h5\")"
      ],
      "execution_count": 0,
      "outputs": []
    },
    {
      "cell_type": "markdown",
      "metadata": {
        "id": "djH4uwAnvkfb",
        "colab_type": "text"
      },
      "source": [
        "**Visualization**"
      ]
    },
    {
      "cell_type": "code",
      "metadata": {
        "id": "lr_quzDGwKGM",
        "colab_type": "code",
        "outputId": "b29d26fb-b41d-4c33-e4b7-0f280250a971",
        "colab": {
          "base_uri": "https://localhost:8080/",
          "height": 608
        }
      },
      "source": [
        "import matplotlib.pyplot as plt\n",
        "\n",
        "history = hist\n",
        "print(history.history.keys())\n",
        "# summarize history for accuracy\n",
        "plt.plot(history.history['acc'])\n",
        "plt.plot(history.history['val_acc'])\n",
        "plt.title('model accuracy')\n",
        "plt.ylabel('accuracy')\n",
        "plt.xlabel('epoch')\n",
        "plt.legend(['train', 'test'], loc='upper left')\n",
        "plt.show()\n",
        "plt.savefig(\"wrn_tensor.png\")\n",
        "# summarize history for loss\n",
        "plt.plot(history.history['loss'])\n",
        "plt.plot(history.history['val_loss'])\n",
        "plt.title('model loss')\n",
        "plt.ylabel('loss')\n",
        "plt.xlabel('epoch')\n",
        "plt.legend(['train', 'test'], loc='upper left')\n",
        "plt.show()\n",
        "plt.savefig(\"deneme.png\")"
      ],
      "execution_count": 733,
      "outputs": [
        {
          "output_type": "stream",
          "text": [
            "dict_keys(['loss', 'acc', 'val_loss', 'val_acc', 'lr'])\n"
          ],
          "name": "stdout"
        },
        {
          "output_type": "display_data",
          "data": {
            "image/png": "[encoded data removed]",
            "text/plain": [
              "<Figure size 432x288 with 1 Axes>"
            ]
          },
          "metadata": {
            "tags": [],
            "needs_background": "light"
          }
        },
        {
          "output_type": "display_data",
          "data": {
            "image/png": "[encoded data removed]",
            "text/plain": [
              "<Figure size 432x288 with 1 Axes>"
            ]
          },
          "metadata": {
            "tags": [],
            "needs_background": "light"
          }
        },
        {
          "output_type": "display_data",
          "data": {
            "text/plain": [
              "<Figure size 432x288 with 0 Axes>"
            ]
          },
          "metadata": {
            "tags": []
          }
        }
      ]
    },
    {
      "cell_type": "code",
      "metadata": {
        "id": "iE16jXuZw8xb",
        "colab_type": "code",
        "outputId": "715418d3-5202-4025-83b3-26a3d9c84bd4",
        "colab": {
          "base_uri": "https://localhost:8080/",
          "height": 52
        }
      },
      "source": [
        "wrn_16_2.evaluate(X_test,y_test)"
      ],
      "execution_count": 734,
      "outputs": [
        {
          "output_type": "stream",
          "text": [
            "18/18 [==============================] - 0s 5ms/step - loss: 1.5513 - acc: 0.7295\n"
          ],
          "name": "stdout"
        },
        {
          "output_type": "execute_result",
          "data": {
            "text/plain": [
              "[1.5512733459472656, 0.7294939160346985]"
            ]
          },
          "metadata": {
            "tags": []
          },
          "execution_count": 734
        }
      ]
    },
    {
      "cell_type": "code",
      "metadata": {
        "id": "SmZpcppX5u_C",
        "colab_type": "code",
        "outputId": "b6cc5aad-996f-47c0-df01-86560f9f7d3d",
        "colab": {
          "base_uri": "https://localhost:8080/",
          "height": 52
        }
      },
      "source": [
        "wrn_16_2.evaluate(X_train,y_train)"
      ],
      "execution_count": 735,
      "outputs": [
        {
          "output_type": "stream",
          "text": [
            "145/145 [==============================] - 1s 6ms/step - loss: 1.4045 - acc: 0.7892\n"
          ],
          "name": "stdout"
        },
        {
          "output_type": "execute_result",
          "data": {
            "text/plain": [
              "[1.4044981002807617, 0.789167046546936]"
            ]
          },
          "metadata": {
            "tags": []
          },
          "execution_count": 735
        }
      ]
    },
    {
      "cell_type": "markdown",
      "metadata": {
        "id": "vEDHJIheU8bm",
        "colab_type": "text"
      },
      "source": [
        "# Adversarial Examples\n"
      ]
    },
    {
      "cell_type": "code",
      "metadata": {
        "id": "5QB8zFSSU7Qy",
        "colab_type": "code",
        "outputId": "933eeb18-6759-415a-823b-dd1df2035c92",
        "colab": {
          "base_uri": "https://localhost:8080/",
          "height": 402
        }
      },
      "source": [
        "!pip install -q tensorflow==2.0.0b1\n",
        "# Install bleeding edge version of cleverhans\n",
        "!pip install git+https://github.com/tensorflow/cleverhans.git#egg=cleverhans\n",
        "\n",
        "import cleverhans\n",
        "import tensorflow as tf\n",
        "import numpy as np\n",
        "import matplotlib.pyplot as plt\n",
        "\n",
        "print(\"\\nTensorflow Version: \" + tf.__version__)\n",
        "print(\"Cleverhans Version: \" + cleverhans.__version__)\n",
        "print(\"GPU Available: \", tf.test.is_gpu_available())"
      ],
      "execution_count": 736,
      "outputs": [
        {
          "output_type": "stream",
          "text": [
            "Requirement already satisfied: cleverhans from git+https://github.com/tensorflow/cleverhans.git#egg=cleverhans in /usr/local/lib/python3.6/dist-packages (3.0.1)\n",
            "Requirement already satisfied: joblib in /usr/local/lib/python3.6/dist-packages (from cleverhans) (0.15.1)\n",
            "Requirement already satisfied: numpy in /usr/local/lib/python3.6/dist-packages (from cleverhans) (1.18.5)\n",
            "Requirement already satisfied: matplotlib in /usr/local/lib/python3.6/dist-packages (from cleverhans) (3.2.1)\n",
            "Requirement already satisfied: mnist~=0.2 in /usr/local/lib/python3.6/dist-packages (from cleverhans) (0.2.2)\n",
            "Requirement already satisfied: tensorflow-probability in /usr/local/lib/python3.6/dist-packages (from cleverhans) (0.10.0)\n",
            "Requirement already satisfied: pycodestyle in /usr/local/lib/python3.6/dist-packages (from cleverhans) (2.6.0)\n",
            "Requirement already satisfied: nose in /usr/local/lib/python3.6/dist-packages (from cleverhans) (1.3.7)\n",
            "Requirement already satisfied: scipy in /usr/local/lib/python3.6/dist-packages (from cleverhans) (1.4.1)\n",
            "Requirement already satisfied: pyparsing!=2.0.4,!=2.1.2,!=2.1.6,>=2.0.1 in /usr/local/lib/python3.6/dist-packages (from matplotlib->cleverhans) (2.4.7)\n",
            "Requirement already satisfied: python-dateutil>=2.1 in /usr/local/lib/python3.6/dist-packages (from matplotlib->cleverhans) (2.8.1)\n",
            "Requirement already satisfied: cycler>=0.10 in /usr/local/lib/python3.6/dist-packages (from matplotlib->cleverhans) (0.10.0)\n",
            "Requirement already satisfied: kiwisolver>=1.0.1 in /usr/local/lib/python3.6/dist-packages (from matplotlib->cleverhans) (1.2.0)\n",
            "Requirement already satisfied: gast>=0.3.2 in /usr/local/lib/python3.6/dist-packages (from tensorflow-probability->cleverhans) (0.3.3)\n",
            "Requirement already satisfied: six>=1.10.0 in /usr/local/lib/python3.6/dist-packages (from tensorflow-probability->cleverhans) (1.12.0)\n",
            "Requirement already satisfied: cloudpickle>=1.2.2 in /usr/local/lib/python3.6/dist-packages (from tensorflow-probability->cleverhans) (1.3.0)\n",
            "Requirement already satisfied: decorator in /usr/local/lib/python3.6/dist-packages (from tensorflow-probability->cleverhans) (4.4.2)\n",
            "\n",
            "Tensorflow Version: 2.2.0\n",
            "Cleverhans Version: 3.0.1-fc7b7c7ec903258e0e3fb88503fa629f\n",
            "GPU Available:  True\n"
          ],
          "name": "stdout"
        }
      ]
    },
    {
      "cell_type": "code",
      "metadata": {
        "id": "2_bfZ4G8W_sM",
        "colab_type": "code",
        "colab": {}
      },
      "source": [
        "from cleverhans.future.tf2.attacks import fast_gradient_method\n",
        "\n",
        "#The attack requires the model to ouput the logits\n",
        "logits_model = tf.keras.Model(wrn_16_2.input,wrn_16_2.layers[-1].output)"
      ],
      "execution_count": 0,
      "outputs": []
    },
    {
      "cell_type": "code",
      "metadata": {
        "id": "gGWIlakqVD_i",
        "colab_type": "code",
        "colab": {
          "base_uri": "https://localhost:8080/",
          "height": 256
        },
        "outputId": "40c12b72-c99e-4b2d-e0b3-5614d69aff79"
      },
      "source": [
        "X_adv = []\n",
        "y_adv = []\n",
        "for i in range(len(X)):\n",
        "  random_index = i\n",
        "  original_image = X[random_index]\n",
        "  original_image = tf.convert_to_tensor(original_image.reshape((1,68,100))) #The .reshape just gives it the proper form to input into the model, a batch of 1 a.k.a a tensor\n",
        "\n",
        "  original_label = y_cat[random_index]\n",
        "\n",
        "  epsilon = 0.5\n",
        "  original_label\n",
        "  adv_example_targeted_label = fast_gradient_method(logits_model, original_image, epsilon, np.inf, targeted=False)\n",
        "\n",
        "  adv_example_targeted_label_pred = wrn_16_2.predict(adv_example_targeted_label)\n",
        "  X_adv.append(adv_example_targeted_label)\n",
        "  y_adv.append(np.argmax(adv_example_targeted_label_pred))"
      ],
      "execution_count": 738,
      "outputs": [
        {
          "output_type": "error",
          "ename": "ValueError",
          "evalue": "ignored",
          "traceback": [
            "\u001b[0;31m---------------------------------------------------------------------------\u001b[0m",
            "\u001b[0;31mValueError\u001b[0m                                Traceback (most recent call last)",
            "\u001b[0;32m<ipython-input-738-ec2b7f04f08a>\u001b[0m in \u001b[0;36m<module>\u001b[0;34m()\u001b[0m\n\u001b[1;32m      4\u001b[0m   \u001b[0mrandom_index\u001b[0m \u001b[0;34m=\u001b[0m \u001b[0mi\u001b[0m\u001b[0;34m\u001b[0m\u001b[0;34m\u001b[0m\u001b[0m\n\u001b[1;32m      5\u001b[0m   \u001b[0moriginal_image\u001b[0m \u001b[0;34m=\u001b[0m \u001b[0mX\u001b[0m\u001b[0;34m[\u001b[0m\u001b[0mrandom_index\u001b[0m\u001b[0;34m]\u001b[0m\u001b[0;34m\u001b[0m\u001b[0;34m\u001b[0m\u001b[0m\n\u001b[0;32m----> 6\u001b[0;31m   \u001b[0moriginal_image\u001b[0m \u001b[0;34m=\u001b[0m \u001b[0mtf\u001b[0m\u001b[0;34m.\u001b[0m\u001b[0mconvert_to_tensor\u001b[0m\u001b[0;34m(\u001b[0m\u001b[0moriginal_image\u001b[0m\u001b[0;34m.\u001b[0m\u001b[0mreshape\u001b[0m\u001b[0;34m(\u001b[0m\u001b[0;34m(\u001b[0m\u001b[0;36m1\u001b[0m\u001b[0;34m,\u001b[0m\u001b[0;36m68\u001b[0m\u001b[0;34m,\u001b[0m\u001b[0;36m100\u001b[0m\u001b[0;34m)\u001b[0m\u001b[0;34m)\u001b[0m\u001b[0;34m)\u001b[0m \u001b[0;31m#The .reshape just gives it the proper form to input into the model, a batch of 1 a.k.a a tensor\u001b[0m\u001b[0;34m\u001b[0m\u001b[0;34m\u001b[0m\u001b[0m\n\u001b[0m\u001b[1;32m      7\u001b[0m \u001b[0;34m\u001b[0m\u001b[0m\n\u001b[1;32m      8\u001b[0m   \u001b[0moriginal_label\u001b[0m \u001b[0;34m=\u001b[0m \u001b[0my_cat\u001b[0m\u001b[0;34m[\u001b[0m\u001b[0mrandom_index\u001b[0m\u001b[0;34m]\u001b[0m\u001b[0;34m\u001b[0m\u001b[0;34m\u001b[0m\u001b[0m\n",
            "\u001b[0;31mValueError\u001b[0m: cannot reshape array of size 1024 into shape (1,68,100)"
          ]
        }
      ]
    },
    {
      "cell_type": "code",
      "metadata": {
        "id": "M1DCXV9Tc9B0",
        "colab_type": "code",
        "colab": {}
      },
      "source": [
        "import pickle\n",
        "\n",
        "my_data = {'image': X_adv,\n",
        "           'label': y_adv_df['Encoded']\n",
        "           }\n",
        "output = open('data_adv_50.pkl', 'wb')\n",
        "pickle.dump(my_data, output)\n",
        "output.close()"
      ],
      "execution_count": 0,
      "outputs": []
    },
    {
      "cell_type": "markdown",
      "metadata": {
        "id": "ZuWpwrKuwmsc",
        "colab_type": "text"
      },
      "source": [
        "# Adversarial Training"
      ]
    },
    {
      "cell_type": "code",
      "metadata": {
        "id": "nfF0d5ePbXK0",
        "colab_type": "code",
        "colab": {}
      },
      "source": [
        "y_adv = np.array(y_adv)"
      ],
      "execution_count": 0,
      "outputs": []
    },
    {
      "cell_type": "code",
      "metadata": {
        "id": "d5I9X-0mboqa",
        "colab_type": "code",
        "colab": {}
      },
      "source": [
        "y_adv_df = pd.DataFrame(y_adv, columns=['Encoded'])\n",
        "y_adv_df['Encoded'] = labelencoder.fit_transform(y_adv)"
      ],
      "execution_count": 0,
      "outputs": []
    },
    {
      "cell_type": "code",
      "metadata": {
        "id": "IcxHP-bTcIwR",
        "colab_type": "code",
        "colab": {}
      },
      "source": [
        "y_adv_df['Encoded'].value_counts()"
      ],
      "execution_count": 0,
      "outputs": []
    },
    {
      "cell_type": "code",
      "metadata": {
        "id": "J1mGBoQbd46-",
        "colab_type": "code",
        "colab": {}
      },
      "source": [
        "X_new = []\n",
        "X_adv =my_data['image']\n",
        "for i in range(len(X_adv)):\n",
        "  a = np.array(X_adv[i])\n",
        "  X_new.append(a.reshape(68,100,1))"
      ],
      "execution_count": 0,
      "outputs": []
    },
    {
      "cell_type": "code",
      "metadata": {
        "id": "DdE_WN8Ffgyz",
        "colab_type": "code",
        "colab": {}
      },
      "source": [
        "for i in range(len(X)):\n",
        "  a = np.array(X[i])\n",
        "  X_new.append(a)"
      ],
      "execution_count": 0,
      "outputs": []
    },
    {
      "cell_type": "code",
      "metadata": {
        "id": "YKAnXO0Vfg1T",
        "colab_type": "code",
        "colab": {}
      },
      "source": [
        "X_third = np.array(X_new)"
      ],
      "execution_count": 0,
      "outputs": []
    },
    {
      "cell_type": "code",
      "metadata": {
        "id": "D_jH1i_FMA2V",
        "colab_type": "code",
        "colab": {}
      },
      "source": [
        "X_adv_a = np.array(X_new)"
      ],
      "execution_count": 0,
      "outputs": []
    },
    {
      "cell_type": "code",
      "metadata": {
        "id": "Dackr68mMA0Y",
        "colab_type": "code",
        "colab": {}
      },
      "source": [
        "X_adv_a.shape"
      ],
      "execution_count": 0,
      "outputs": []
    },
    {
      "cell_type": "code",
      "metadata": {
        "id": "m9UIXimpiKWk",
        "colab_type": "code",
        "colab": {}
      },
      "source": [
        "y_new = []\n",
        "for j in range(0,2):\n",
        "  for i in range(len(y_cat)):\n",
        "    y_new.append(y_cat[i])\n",
        "y_third = np.array(y_new)"
      ],
      "execution_count": 0,
      "outputs": []
    },
    {
      "cell_type": "code",
      "metadata": {
        "id": "vuRIuXcNiKY4",
        "colab_type": "code",
        "colab": {}
      },
      "source": [
        "X_all, y_all = X_third, y_third"
      ],
      "execution_count": 0,
      "outputs": []
    },
    {
      "cell_type": "code",
      "metadata": {
        "id": "qJXveP1Veo7G",
        "colab_type": "code",
        "colab": {}
      },
      "source": [
        "X_train_adv, X_test_adv, y_train_adv, y_test_adv = train_test_split( X_all,y_all, test_size = 0.33, shuffle=True)"
      ],
      "execution_count": 0,
      "outputs": []
    },
    {
      "cell_type": "code",
      "metadata": {
        "id": "WMJjEg9qiI0n",
        "colab_type": "code",
        "colab": {}
      },
      "source": [
        ""
      ],
      "execution_count": 0,
      "outputs": []
    },
    {
      "cell_type": "code",
      "metadata": {
        "id": "HibsOpTIcNq8",
        "colab_type": "code",
        "colab": {}
      },
      "source": [
        "wrn_16_2_adv = create_wide_residual_network(init, nb_classes=4, N=2, k=2, dropout=0.3)"
      ],
      "execution_count": 0,
      "outputs": []
    },
    {
      "cell_type": "code",
      "metadata": {
        "id": "q96wjHqxeTJ-",
        "colab_type": "code",
        "colab": {}
      },
      "source": [
        "wrn_16_2_adv.compile(loss=\"categorical_crossentropy\", optimizer=sgd, metrics=[\"acc\"])\n",
        "print(\"Finished compiling\")\n",
        "BS_adv= 100\n",
        "EPOCHS_adv = 50"
      ],
      "execution_count": 0,
      "outputs": []
    },
    {
      "cell_type": "code",
      "metadata": {
        "id": "-Jewqs8yxlnf",
        "colab_type": "code",
        "colab": {}
      },
      "source": [
        "def lr_sch_train(epoch):\n",
        "    if epoch < 10:\n",
        "        return 0.1\n",
        "    elif epoch <20:\n",
        "        return 0.1/2.0\n",
        "    elif epoch < 30:\n",
        "        return 0.1/2.0**2\n",
        "    elif epoch < 40:\n",
        "        return 0.1/2.0**3\n",
        "    else:\n",
        "        return 0.1/2.0**4\n",
        "\n",
        "# Learning rate scheduler callback\n",
        "lr_scheduler_train = LearningRateScheduler(lr_sch_train)"
      ],
      "execution_count": 0,
      "outputs": []
    },
    {
      "cell_type": "code",
      "metadata": {
        "id": "9FIn8khEd45J",
        "colab_type": "code",
        "colab": {}
      },
      "source": [
        "\n",
        "hist = wrn_16_2_adv.fit_generator(generator.flow(X_train_adv, y_train_adv, batch_size=BS_adv), steps_per_epoch=len(X_train_adv) // BS_adv, epochs=EPOCHS_adv,\n",
        "                   callbacks=[lr_scheduler_train],\n",
        "                   validation_data=(X_test_adv, y_test_adv),\n",
        "                   validation_steps=X_test_adv.shape[0] // BS_adv,)"
      ],
      "execution_count": 0,
      "outputs": []
    },
    {
      "cell_type": "code",
      "metadata": {
        "id": "3qXnteSOpFZH",
        "colab_type": "code",
        "colab": {}
      },
      "source": [
        "wrn_16_2_adv.save(\"model_adv_wrn_tensor_dropout.h5\")"
      ],
      "execution_count": 0,
      "outputs": []
    },
    {
      "cell_type": "markdown",
      "metadata": {
        "id": "CeetxZrNv9oM",
        "colab_type": "text"
      },
      "source": [
        "**Visualization**"
      ]
    },
    {
      "cell_type": "code",
      "metadata": {
        "id": "-S5IjLivpMbp",
        "colab_type": "code",
        "colab": {}
      },
      "source": [
        "import matplotlib.pyplot as plt\n",
        "\n",
        "history = hist\n",
        "print(history.history.keys())\n",
        "# summarize history for accuracy\n",
        "plt.plot(history.history['acc'])\n",
        "plt.plot(history.history['val_acc'])\n",
        "plt.title('model accuracy')\n",
        "plt.ylabel('accuracy')\n",
        "plt.xlabel('epoch')\n",
        "plt.legend(['train', 'test'], loc='upper left')\n",
        "plt.show()\n",
        "plt.savefig(\"wrn_tensor.png\")\n",
        "# summarize history for loss\n",
        "plt.plot(history.history['loss'])\n",
        "plt.plot(history.history['val_loss'])\n",
        "plt.title('model loss')\n",
        "plt.ylabel('loss')\n",
        "plt.xlabel('epoch')\n",
        "plt.legend(['train', 'test'], loc='upper left')\n",
        "plt.show()\n",
        "plt.savefig(\"deneme.png\")"
      ],
      "execution_count": 0,
      "outputs": []
    },
    {
      "cell_type": "markdown",
      "metadata": {
        "id": "ftcU_6z90QSJ",
        "colab_type": "text"
      },
      "source": [
        "**CleanExperiment**"
      ]
    },
    {
      "cell_type": "code",
      "metadata": {
        "id": "3i5qUE6j0JUE",
        "colab_type": "code",
        "colab": {}
      },
      "source": [
        "wrn_16_2_clean = create_wide_residual_network(init, nb_classes=4, N=2, k=2, dropout=0.3)"
      ],
      "execution_count": 0,
      "outputs": []
    },
    {
      "cell_type": "code",
      "metadata": {
        "id": "X4p2TUIj0csZ",
        "colab_type": "code",
        "colab": {}
      },
      "source": [
        "wrn_16_2_clean.compile(loss=\"categorical_crossentropy\", optimizer=sgd, metrics=[\"acc\"])\n",
        "print(\"Finished compiling\")"
      ],
      "execution_count": 0,
      "outputs": []
    },
    {
      "cell_type": "code",
      "metadata": {
        "id": "5rQljdkd0he9",
        "colab_type": "code",
        "colab": {}
      },
      "source": [
        "hist_clean = wrn_16_2_clean.fit_generator(generator.flow(X_train, y_train, batch_size=BS_adv), steps_per_epoch=len(X_train) // BS_adv, epochs=EPOCHS_adv,\n",
        "                   callbacks=[lr_scheduler_train],\n",
        "                   validation_data=(X_test, y_test),\n",
        "                   validation_steps=X_test.shape[0] // BS_adv,)"
      ],
      "execution_count": 0,
      "outputs": []
    },
    {
      "cell_type": "code",
      "metadata": {
        "id": "1acrchBU185p",
        "colab_type": "code",
        "colab": {}
      },
      "source": [
        "wrn_16_2_clean.save(\"model_adv_train_clean_dropout.h5\")"
      ],
      "execution_count": 0,
      "outputs": []
    },
    {
      "cell_type": "markdown",
      "metadata": {
        "id": "i9hLRXbmwETE",
        "colab_type": "text"
      },
      "source": [
        "**Visualization**"
      ]
    },
    {
      "cell_type": "code",
      "metadata": {
        "id": "_pgU_KsH0yVM",
        "colab_type": "code",
        "colab": {}
      },
      "source": [
        "import matplotlib.pyplot as plt\n",
        "\n",
        "history = hist_clean\n",
        "print(history.history.keys())\n",
        "# summarize history for accuracy\n",
        "plt.plot(history.history['acc'])\n",
        "plt.plot(history.history['val_acc'])\n",
        "plt.title('model accuracy')\n",
        "plt.ylabel('accuracy')\n",
        "plt.xlabel('epoch')\n",
        "plt.legend(['train', 'test'], loc='upper left')\n",
        "plt.show()\n",
        "plt.savefig(\"wrn_tensor.png\")\n",
        "# summarize history for loss\n",
        "plt.plot(history.history['loss'])\n",
        "plt.plot(history.history['val_loss'])\n",
        "plt.title('model loss')\n",
        "plt.ylabel('loss')\n",
        "plt.xlabel('epoch')\n",
        "plt.legend(['train', 'test'], loc='upper left')\n",
        "plt.show()\n",
        "plt.savefig(\"deneme.png\")"
      ],
      "execution_count": 0,
      "outputs": []
    },
    {
      "cell_type": "markdown",
      "metadata": {
        "id": "UCKONCZ0Jzfi",
        "colab_type": "text"
      },
      "source": [
        "**Adversarial Training**"
      ]
    },
    {
      "cell_type": "code",
      "metadata": {
        "id": "pFgpFgWbKeR_",
        "colab_type": "code",
        "colab": {}
      },
      "source": [
        "wrn_16_2_adv.evaluate(X_train,y_train)"
      ],
      "execution_count": 0,
      "outputs": []
    },
    {
      "cell_type": "code",
      "metadata": {
        "id": "XhiqvES18c-j",
        "colab_type": "code",
        "colab": {}
      },
      "source": [
        "wrn_16_2_adv.evaluate(X_train_adv,y_train_adv)"
      ],
      "execution_count": 0,
      "outputs": []
    },
    {
      "cell_type": "code",
      "metadata": {
        "id": "tjHVWy96Llce",
        "colab_type": "code",
        "colab": {}
      },
      "source": [
        "wrn_16_2_adv.evaluate(X_test,y_test)"
      ],
      "execution_count": 0,
      "outputs": []
    },
    {
      "cell_type": "code",
      "metadata": {
        "id": "Uqj_Ax7MI4SC",
        "colab_type": "code",
        "colab": {}
      },
      "source": [
        "wrn_16_2_adv.evaluate(X_adv_a,y_cat)"
      ],
      "execution_count": 0,
      "outputs": []
    },
    {
      "cell_type": "code",
      "metadata": {
        "id": "JXT3YD6iLl0N",
        "colab_type": "code",
        "colab": {}
      },
      "source": [
        "wrn_16_2_adv.evaluate(X_test_adv,y_test_adv)"
      ],
      "execution_count": 0,
      "outputs": []
    },
    {
      "cell_type": "markdown",
      "metadata": {
        "id": "-fKhEMXgKAnZ",
        "colab_type": "text"
      },
      "source": [
        "**Non_Adversarial_Training**"
      ]
    },
    {
      "cell_type": "code",
      "metadata": {
        "id": "ouj6OqTD8VdE",
        "colab_type": "code",
        "colab": {}
      },
      "source": [
        "wrn_16_2_clean.evaluate(X_train, y_train)"
      ],
      "execution_count": 0,
      "outputs": []
    },
    {
      "cell_type": "code",
      "metadata": {
        "id": "sfkUSeV6KHp5",
        "colab_type": "code",
        "colab": {}
      },
      "source": [
        "wrn_16_2_clean.evaluate(X_train_adv,y_train_adv)"
      ],
      "execution_count": 0,
      "outputs": []
    },
    {
      "cell_type": "code",
      "metadata": {
        "id": "kZFJl2D4Hbxa",
        "colab_type": "code",
        "colab": {}
      },
      "source": [
        "wrn_16_2_clean.evaluate(X_test, y_test)"
      ],
      "execution_count": 0,
      "outputs": []
    },
    {
      "cell_type": "code",
      "metadata": {
        "id": "8gJh7MDHChHo",
        "colab_type": "code",
        "colab": {}
      },
      "source": [
        "wrn_16_2_clean.evaluate(X_adv_a,y_cat)"
      ],
      "execution_count": 0,
      "outputs": []
    },
    {
      "cell_type": "code",
      "metadata": {
        "id": "nZuONcAeAwQb",
        "colab_type": "code",
        "colab": {}
      },
      "source": [
        "wrn_16_2_clean.evaluate(X_test_adv, y_test_adv)"
      ],
      "execution_count": 0,
      "outputs": []
    }
  ]
}