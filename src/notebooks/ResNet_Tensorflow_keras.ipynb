{
  "nbformat": 4,
  "nbformat_minor": 0,
  "metadata": {
    "colab": {
      "name": "ResNet_Tensorflow_keras.ipynb",
      "provenance": [],
      "toc_visible": true,
      "include_colab_link": true
    },
    "kernelspec": {
      "name": "python3",
      "display_name": "Python 3"
    },
    "accelerator": "GPU"
  },
  "cells": [
    {
      "cell_type": "markdown",
      "metadata": {
        "id": "view-in-github",
        "colab_type": "text"
      },
      "source": [
        "<a href=\"https://colab.research.google.com/github/sefeoglu/AE_Parseval_Network/blob/master/src/notebooks/ResNet_Tensorflow_keras.ipynb\" target=\"_parent\"><img src=\"https://colab.research.google.com/assets/colab-badge.svg\" alt=\"Open In Colab\"/></a>"
      ]
    },
    {
      "cell_type": "markdown",
      "metadata": {
        "id": "cczYDRrfFlDx",
        "colab_type": "text"
      },
      "source": [
        "# Wide ResNet 16_2"
      ]
    },
    {
      "cell_type": "code",
      "metadata": {
        "id": "HWvd9YADGtMS",
        "colab_type": "code",
        "colab": {}
      },
      "source": [
        "import tensorflow as tf"
      ],
      "execution_count": 0,
      "outputs": []
    },
    {
      "cell_type": "markdown",
      "metadata": {
        "id": "8aqbIFJTwXLH",
        "colab_type": "text"
      },
      "source": [
        "# Model"
      ]
    },
    {
      "cell_type": "code",
      "metadata": {
        "id": "QRdSMgRjG8ex",
        "colab_type": "code",
        "outputId": "7c813df2-fd2b-4f6d-e1ff-f931d55a41b2",
        "colab": {
          "base_uri": "https://localhost:8080/",
          "height": 1000
        }
      },
      "source": [
        "from tensorflow.keras.models import Model\n",
        "from tensorflow.keras.layers import Input, Add, Activation, Dropout, Flatten, Dense\n",
        "from tensorflow.keras.layers import Convolution2D, MaxPooling2D, AveragePooling2D\n",
        "from tensorflow.keras.layers import BatchNormalization\n",
        "from tensorflow.keras.regularizers import l2\n",
        "from tensorflow.keras import backend as K\n",
        "import warnings\n",
        "\n",
        "warnings.filterwarnings(\"ignore\")\n",
        "weight_decay = 0.0005\n",
        "\n",
        "\n",
        "def initial_conv(input):\n",
        "  \n",
        "    x = Convolution2D(16, (3, 3), padding='same', kernel_initializer='he_normal',\n",
        "                      kernel_regularizer=l2(weight_decay),\n",
        "                      use_bias=False)(input)\n",
        "\n",
        "    channel_axis = 1 if K.image_data_format() == \"channels_first\" else -1\n",
        "\n",
        "    x = BatchNormalization(axis=channel_axis, momentum=0.1, epsilon=1e-5, gamma_initializer='uniform')(x)\n",
        "    x = Activation('relu')(x)\n",
        "    return x\n",
        "\n",
        "\n",
        "def expand_conv(init, base, k, strides=(1, 1)):\n",
        "    x = Convolution2D(base * k, (3, 3), padding='same', strides=strides, kernel_initializer='he_normal', kernel_regularizer=l2(weight_decay),\n",
        "                      use_bias=False)(init)\n",
        "\n",
        "    channel_axis = 1 if K.image_data_format() == \"channels_first\" else -1\n",
        "\n",
        "    x = BatchNormalization(axis=channel_axis, momentum=0.1, epsilon=1e-5, gamma_initializer='uniform')(x)\n",
        "    x = Activation('relu')(x)\n",
        "\n",
        "    x = Convolution2D(base * k, (3, 3), padding='same', kernel_initializer='he_normal',\n",
        "                      kernel_regularizer=l2(weight_decay),\n",
        "                      use_bias=False)(x)\n",
        "\n",
        "    skip = Convolution2D(base * k, (1, 1), padding='same', strides=strides, kernel_initializer='he_normal',\n",
        "                      kernel_regularizer=l2(weight_decay),\n",
        "                      use_bias=False)(init)\n",
        "\n",
        "    m = Add()([x, skip])\n",
        "\n",
        "    return m\n",
        "\n",
        "\n",
        "def conv1_block(input, k=1, dropout=0.0):\n",
        "    init = input\n",
        "\n",
        "    channel_axis = 1 if K.image_data_format() == \"channels_first\" else -1\n",
        "\n",
        "    x = BatchNormalization(axis=channel_axis, momentum=0.1, epsilon=1e-5, gamma_initializer='uniform')(input)\n",
        "    x = Activation('relu')(x)\n",
        "    x = Convolution2D(16 * k, (3, 3), padding='same', kernel_initializer='he_normal',\n",
        "                      kernel_regularizer=l2(weight_decay),\n",
        "                      use_bias=False)(x)\n",
        "\n",
        "    if dropout > 0.0: x = Dropout(dropout)(x)\n",
        "\n",
        "    x = BatchNormalization(axis=channel_axis, momentum=0.1, epsilon=1e-5, gamma_initializer='uniform')(x)\n",
        "    x = Activation('relu')(x)\n",
        "    x = Convolution2D(16 * k, (3, 3), padding='same', kernel_initializer='he_normal',\n",
        "                      kernel_regularizer=l2(weight_decay),\n",
        "                      use_bias=False)(x)\n",
        "\n",
        "    m = Add()([init, x])\n",
        "    return m\n",
        "\n",
        "def conv2_block(input, k=1, dropout=0.0):\n",
        "    init = input\n",
        "\n",
        "    channel_axis = 1 if K.image_data_format() == \"channels_first\" else -1\n",
        "    print(\"conv2:channel:  {}\".format(channel_axis))\n",
        "    x = BatchNormalization(axis=channel_axis, momentum=0.1, epsilon=1e-5, gamma_initializer='uniform')(input)\n",
        "    x = Activation('relu')(x)\n",
        "    x = Convolution2D(32 * k, (3, 3), padding='same', kernel_initializer='he_normal',\n",
        "                      kernel_regularizer=l2(weight_decay),\n",
        "                      use_bias=False)(x)\n",
        "\n",
        "    if dropout > 0.0: x = Dropout(dropout)(x)\n",
        "\n",
        "    x = BatchNormalization(axis=channel_axis, momentum=0.1, epsilon=1e-5, gamma_initializer='uniform')(x)\n",
        "    x = Activation('relu')(x)\n",
        "    x = Convolution2D(32 * k, (3, 3), padding='same', kernel_initializer='he_normal',\n",
        "                      kernel_regularizer=l2(weight_decay),\n",
        "                      use_bias=False)(x)\n",
        "\n",
        "    m = Add()([init, x])\n",
        "    return m\n",
        "\n",
        "def conv3_block(input, k=1, dropout=0.0):\n",
        "    init = input\n",
        "\n",
        "    channel_axis = 1 if K.image_data_format() == \"channels_first\" else -1\n",
        "    print(\"conv3 channel_axis:{} \".format(channel_axis))\n",
        "    x = BatchNormalization(axis=channel_axis, momentum=0.1, epsilon=1e-5, gamma_initializer='uniform')(input)\n",
        "    x = Activation('relu')(x)\n",
        "    x = Convolution2D(64 * k, (3, 3), padding='same', kernel_initializer='he_normal',\n",
        "                      kernel_regularizer=l2(weight_decay),\n",
        "                      use_bias=False)(x)\n",
        "\n",
        "    if dropout > 0.0: x = Dropout(dropout)(x)\n",
        "\n",
        "    x = BatchNormalization(axis=channel_axis, momentum=0.1, epsilon=1e-5, gamma_initializer='uniform')(x)\n",
        "    x = Activation('relu')(x)\n",
        "    x = Convolution2D(64 * k, (3, 3), padding='same', kernel_initializer='he_normal',\n",
        "                      kernel_regularizer=l2(weight_decay),\n",
        "                      use_bias=False)(x)\n",
        "\n",
        "    m = Add()([init, x])\n",
        "    return m\n",
        "\n",
        "def create_wide_residual_network(input_dim, nb_classes=100, N=2, k=1, dropout=0.0, verbose=1):\n",
        "    \"\"\"\n",
        "    Creates a Wide Residual Network with specified parameters\n",
        "\n",
        "    :param input: Input Keras object\n",
        "    :param nb_classes: Number of output classes\n",
        "    :param N: Depth of the network. Compute N = (n - 4) / 6.\n",
        "              Example : For a depth of 16, n = 16, N = (16 - 4) / 6 = 2\n",
        "              Example2: For a depth of 28, n = 28, N = (28 - 4) / 6 = 4\n",
        "              Example3: For a depth of 40, n = 40, N = (40 - 4) / 6 = 6\n",
        "    :param k: Width of the network.\n",
        "    :param dropout: Adds dropout if value is greater than 0.0\n",
        "    :param verbose: Debug info to describe created WRN\n",
        "    :return:\n",
        "    \"\"\"\n",
        "    channel_axis = 1 if K.image_data_format() == \"channels_first\" else -1\n",
        "\n",
        "    ip = Input(shape=input_dim)\n",
        "\n",
        "    x = initial_conv(ip)\n",
        "    nb_conv = 4\n",
        "\n",
        "    x = expand_conv(x, 16, k)\n",
        "    nb_conv += 2\n",
        "\n",
        "    for i in range(N - 1):\n",
        "        x = conv1_block(x, k, dropout)\n",
        "        nb_conv += 2\n",
        "\n",
        "    x = BatchNormalization(axis=channel_axis, momentum=0.1, epsilon=1e-5, gamma_initializer='uniform')(x)\n",
        "    x = Activation('relu')(x)\n",
        "\n",
        "    x = expand_conv(x, 32, k, strides=(2, 2))\n",
        "    nb_conv += 2\n",
        "\n",
        "    for i in range(N - 1):\n",
        "        x = conv2_block(x, k, dropout)\n",
        "        nb_conv += 2\n",
        "\n",
        "    x = BatchNormalization(axis=channel_axis, momentum=0.1, epsilon=1e-5, gamma_initializer='uniform')(x)\n",
        "    x = Activation('relu')(x)\n",
        "\n",
        "    x = expand_conv(x, 64, k, strides=(2, 2))\n",
        "    nb_conv += 2\n",
        "\n",
        "    for i in range(N - 1):\n",
        "        x = conv3_block(x, k, dropout)\n",
        "        nb_conv += 2\n",
        "\n",
        "    x = BatchNormalization(axis=channel_axis, momentum=0.1, epsilon=1e-5, gamma_initializer='uniform')(x)\n",
        "    x = Activation('relu')(x)\n",
        "\n",
        "    x = AveragePooling2D((8, 8))(x)\n",
        "    x = Flatten()(x)\n",
        "\n",
        "    x = Dense(nb_classes, kernel_regularizer=l2(weight_decay), activation='softmax')(x)\n",
        "\n",
        "    model = Model(ip, x)\n",
        "\n",
        "    if verbose: print(\"Wide Residual Network-%d-%d created.\" % (nb_conv, k))\n",
        "    return model\n",
        "\n",
        "if __name__ == \"__main__\":\n",
        "\n",
        "    init = (32, 32,1)\n",
        "\n",
        "    wrn_16_2 = create_wide_residual_network(init, nb_classes=4, N=2, k=2, dropout=0.5)\n",
        "\n",
        "    wrn_16_2.summary()\n",
        "\n"
      ],
      "execution_count": 50,
      "outputs": [
        {
          "output_type": "stream",
          "text": [
            "conv2:channel:  -1\n",
            "conv3 channel_axis:-1 \n",
            "Wide Residual Network-16-2 created.\n",
            "Model: \"model_4\"\n",
            "__________________________________________________________________________________________________\n",
            "Layer (type)                    Output Shape         Param #     Connected to                     \n",
            "==================================================================================================\n",
            "input_3 (InputLayer)            [(None, 32, 32, 1)]  0                                            \n",
            "__________________________________________________________________________________________________\n",
            "conv2d_32 (Conv2D)              (None, 32, 32, 16)   144         input_3[0][0]                    \n",
            "__________________________________________________________________________________________________\n",
            "batch_normalization_26 (BatchNo (None, 32, 32, 16)   64          conv2d_32[0][0]                  \n",
            "__________________________________________________________________________________________________\n",
            "activation_26 (Activation)      (None, 32, 32, 16)   0           batch_normalization_26[0][0]     \n",
            "__________________________________________________________________________________________________\n",
            "conv2d_33 (Conv2D)              (None, 32, 32, 32)   4608        activation_26[0][0]              \n",
            "__________________________________________________________________________________________________\n",
            "batch_normalization_27 (BatchNo (None, 32, 32, 32)   128         conv2d_33[0][0]                  \n",
            "__________________________________________________________________________________________________\n",
            "activation_27 (Activation)      (None, 32, 32, 32)   0           batch_normalization_27[0][0]     \n",
            "__________________________________________________________________________________________________\n",
            "conv2d_34 (Conv2D)              (None, 32, 32, 32)   9216        activation_27[0][0]              \n",
            "__________________________________________________________________________________________________\n",
            "conv2d_35 (Conv2D)              (None, 32, 32, 32)   512         activation_26[0][0]              \n",
            "__________________________________________________________________________________________________\n",
            "add_12 (Add)                    (None, 32, 32, 32)   0           conv2d_34[0][0]                  \n",
            "                                                                 conv2d_35[0][0]                  \n",
            "__________________________________________________________________________________________________\n",
            "batch_normalization_28 (BatchNo (None, 32, 32, 32)   128         add_12[0][0]                     \n",
            "__________________________________________________________________________________________________\n",
            "activation_28 (Activation)      (None, 32, 32, 32)   0           batch_normalization_28[0][0]     \n",
            "__________________________________________________________________________________________________\n",
            "conv2d_36 (Conv2D)              (None, 32, 32, 32)   9216        activation_28[0][0]              \n",
            "__________________________________________________________________________________________________\n",
            "dropout_6 (Dropout)             (None, 32, 32, 32)   0           conv2d_36[0][0]                  \n",
            "__________________________________________________________________________________________________\n",
            "batch_normalization_29 (BatchNo (None, 32, 32, 32)   128         dropout_6[0][0]                  \n",
            "__________________________________________________________________________________________________\n",
            "activation_29 (Activation)      (None, 32, 32, 32)   0           batch_normalization_29[0][0]     \n",
            "__________________________________________________________________________________________________\n",
            "conv2d_37 (Conv2D)              (None, 32, 32, 32)   9216        activation_29[0][0]              \n",
            "__________________________________________________________________________________________________\n",
            "add_13 (Add)                    (None, 32, 32, 32)   0           add_12[0][0]                     \n",
            "                                                                 conv2d_37[0][0]                  \n",
            "__________________________________________________________________________________________________\n",
            "batch_normalization_30 (BatchNo (None, 32, 32, 32)   128         add_13[0][0]                     \n",
            "__________________________________________________________________________________________________\n",
            "activation_30 (Activation)      (None, 32, 32, 32)   0           batch_normalization_30[0][0]     \n",
            "__________________________________________________________________________________________________\n",
            "conv2d_38 (Conv2D)              (None, 16, 16, 64)   18432       activation_30[0][0]              \n",
            "__________________________________________________________________________________________________\n",
            "batch_normalization_31 (BatchNo (None, 16, 16, 64)   256         conv2d_38[0][0]                  \n",
            "__________________________________________________________________________________________________\n",
            "activation_31 (Activation)      (None, 16, 16, 64)   0           batch_normalization_31[0][0]     \n",
            "__________________________________________________________________________________________________\n",
            "conv2d_39 (Conv2D)              (None, 16, 16, 64)   36864       activation_31[0][0]              \n",
            "__________________________________________________________________________________________________\n",
            "conv2d_40 (Conv2D)              (None, 16, 16, 64)   2048        activation_30[0][0]              \n",
            "__________________________________________________________________________________________________\n",
            "add_14 (Add)                    (None, 16, 16, 64)   0           conv2d_39[0][0]                  \n",
            "                                                                 conv2d_40[0][0]                  \n",
            "__________________________________________________________________________________________________\n",
            "batch_normalization_32 (BatchNo (None, 16, 16, 64)   256         add_14[0][0]                     \n",
            "__________________________________________________________________________________________________\n",
            "activation_32 (Activation)      (None, 16, 16, 64)   0           batch_normalization_32[0][0]     \n",
            "__________________________________________________________________________________________________\n",
            "conv2d_41 (Conv2D)              (None, 16, 16, 64)   36864       activation_32[0][0]              \n",
            "__________________________________________________________________________________________________\n",
            "dropout_7 (Dropout)             (None, 16, 16, 64)   0           conv2d_41[0][0]                  \n",
            "__________________________________________________________________________________________________\n",
            "batch_normalization_33 (BatchNo (None, 16, 16, 64)   256         dropout_7[0][0]                  \n",
            "__________________________________________________________________________________________________\n",
            "activation_33 (Activation)      (None, 16, 16, 64)   0           batch_normalization_33[0][0]     \n",
            "__________________________________________________________________________________________________\n",
            "conv2d_42 (Conv2D)              (None, 16, 16, 64)   36864       activation_33[0][0]              \n",
            "__________________________________________________________________________________________________\n",
            "add_15 (Add)                    (None, 16, 16, 64)   0           add_14[0][0]                     \n",
            "                                                                 conv2d_42[0][0]                  \n",
            "__________________________________________________________________________________________________\n",
            "batch_normalization_34 (BatchNo (None, 16, 16, 64)   256         add_15[0][0]                     \n",
            "__________________________________________________________________________________________________\n",
            "activation_34 (Activation)      (None, 16, 16, 64)   0           batch_normalization_34[0][0]     \n",
            "__________________________________________________________________________________________________\n",
            "conv2d_43 (Conv2D)              (None, 8, 8, 128)    73728       activation_34[0][0]              \n",
            "__________________________________________________________________________________________________\n",
            "batch_normalization_35 (BatchNo (None, 8, 8, 128)    512         conv2d_43[0][0]                  \n",
            "__________________________________________________________________________________________________\n",
            "activation_35 (Activation)      (None, 8, 8, 128)    0           batch_normalization_35[0][0]     \n",
            "__________________________________________________________________________________________________\n",
            "conv2d_44 (Conv2D)              (None, 8, 8, 128)    147456      activation_35[0][0]              \n",
            "__________________________________________________________________________________________________\n",
            "conv2d_45 (Conv2D)              (None, 8, 8, 128)    8192        activation_34[0][0]              \n",
            "__________________________________________________________________________________________________\n",
            "add_16 (Add)                    (None, 8, 8, 128)    0           conv2d_44[0][0]                  \n",
            "                                                                 conv2d_45[0][0]                  \n",
            "__________________________________________________________________________________________________\n",
            "batch_normalization_36 (BatchNo (None, 8, 8, 128)    512         add_16[0][0]                     \n",
            "__________________________________________________________________________________________________\n",
            "activation_36 (Activation)      (None, 8, 8, 128)    0           batch_normalization_36[0][0]     \n",
            "__________________________________________________________________________________________________\n",
            "conv2d_46 (Conv2D)              (None, 8, 8, 128)    147456      activation_36[0][0]              \n",
            "__________________________________________________________________________________________________\n",
            "dropout_8 (Dropout)             (None, 8, 8, 128)    0           conv2d_46[0][0]                  \n",
            "__________________________________________________________________________________________________\n",
            "batch_normalization_37 (BatchNo (None, 8, 8, 128)    512         dropout_8[0][0]                  \n",
            "__________________________________________________________________________________________________\n",
            "activation_37 (Activation)      (None, 8, 8, 128)    0           batch_normalization_37[0][0]     \n",
            "__________________________________________________________________________________________________\n",
            "conv2d_47 (Conv2D)              (None, 8, 8, 128)    147456      activation_37[0][0]              \n",
            "__________________________________________________________________________________________________\n",
            "add_17 (Add)                    (None, 8, 8, 128)    0           add_16[0][0]                     \n",
            "                                                                 conv2d_47[0][0]                  \n",
            "__________________________________________________________________________________________________\n",
            "batch_normalization_38 (BatchNo (None, 8, 8, 128)    512         add_17[0][0]                     \n",
            "__________________________________________________________________________________________________\n",
            "activation_38 (Activation)      (None, 8, 8, 128)    0           batch_normalization_38[0][0]     \n",
            "__________________________________________________________________________________________________\n",
            "average_pooling2d_2 (AveragePoo (None, 1, 1, 128)    0           activation_38[0][0]              \n",
            "__________________________________________________________________________________________________\n",
            "flatten_2 (Flatten)             (None, 128)          0           average_pooling2d_2[0][0]        \n",
            "__________________________________________________________________________________________________\n",
            "dense_2 (Dense)                 (None, 4)            516         flatten_2[0][0]                  \n",
            "==================================================================================================\n",
            "Total params: 692,436\n",
            "Trainable params: 690,612\n",
            "Non-trainable params: 1,824\n",
            "__________________________________________________________________________________________________\n"
          ],
          "name": "stdout"
        }
      ]
    },
    {
      "cell_type": "markdown",
      "metadata": {
        "id": "ffNo5x-Ft9Fe",
        "colab_type": "text"
      },
      "source": [
        "# Data Prepare and Processing\n",
        "\n",
        "\n"
      ]
    },
    {
      "cell_type": "code",
      "metadata": {
        "id": "AJqH742XcPQv",
        "colab_type": "code",
        "colab": {}
      },
      "source": [
        "from sklearn.model_selection import train_test_split\n",
        "import gzip\n",
        "import pickle\n",
        "\n",
        "import numpy as np"
      ],
      "execution_count": 0,
      "outputs": []
    },
    {
      "cell_type": "code",
      "metadata": {
        "id": "fNBI_SkvuzgK",
        "colab_type": "code",
        "colab": {}
      },
      "source": [
        "def read_data():\n",
        "    with open(\"data.pz\", 'rb') as file_:\n",
        "        with gzip.GzipFile(fileobj=file_) as gzf:\n",
        "            data = pickle.load(gzf, encoding='latin1', fix_imports=True)\n",
        "    return data\n",
        "data = read_data()\n"
      ],
      "execution_count": 0,
      "outputs": []
    },
    {
      "cell_type": "code",
      "metadata": {
        "id": "4euxwMe2jIoX",
        "colab_type": "code",
        "outputId": "b8a89af9-b15e-428f-81f2-ba981804c810",
        "colab": {
          "base_uri": "https://localhost:8080/",
          "height": 34
        }
      },
      "source": [
        "import cv2\n",
        "new_data_X = []\n",
        "Y_data = []\n",
        "for row in data:\n",
        "    new_data_X.append(cv2.resize(row['crop'], (32,32)))\n",
        "    Y_data.append(row['label'])\n",
        "new_data_X = np.array(new_data_X)\n",
        "new_data_X.shape"
      ],
      "execution_count": 53,
      "outputs": [
        {
          "output_type": "execute_result",
          "data": {
            "text/plain": [
              "(5722, 32, 32)"
            ]
          },
          "metadata": {
            "tags": []
          },
          "execution_count": 53
        }
      ]
    },
    {
      "cell_type": "code",
      "metadata": {
        "id": "TNBsNVDNu6Ku",
        "colab_type": "code",
        "outputId": "2266e79c-ba96-48fd-9247-86b41b5c9362",
        "colab": {
          "base_uri": "https://localhost:8080/",
          "height": 34
        }
      },
      "source": [
        "X = new_data_X.astype('float32')\n",
        "X.shape"
      ],
      "execution_count": 54,
      "outputs": [
        {
          "output_type": "execute_result",
          "data": {
            "text/plain": [
              "(5722, 32, 32)"
            ]
          },
          "metadata": {
            "tags": []
          },
          "execution_count": 54
        }
      ]
    },
    {
      "cell_type": "markdown",
      "metadata": {
        "id": "MFQdrnTKuM8c",
        "colab_type": "text"
      },
      "source": [
        "# Preprocessing"
      ]
    },
    {
      "cell_type": "code",
      "metadata": {
        "id": "uqf-dZOrvC0e",
        "colab_type": "code",
        "colab": {}
      },
      "source": [
        "img_rows, img_cols = X[0].shape\n",
        "\n",
        "# transform data set\n",
        "if K.image_data_format() == 'channels_first':\n",
        "    X = X.reshape(X.shape[0], 1, img_rows, img_cols)\n",
        "    input_shape = (1, img_rows, img_cols)\n",
        "else:\n",
        "    X = X.reshape(X.shape[0], img_rows, img_cols, 1)\n",
        "    input_shape = (img_rows, img_cols, 1)"
      ],
      "execution_count": 0,
      "outputs": []
    },
    {
      "cell_type": "code",
      "metadata": {
        "id": "2eEHVf2Bu9xt",
        "colab_type": "code",
        "colab": {}
      },
      "source": [
        "import pandas as pd\n",
        "import numpy as np\n",
        "from sklearn.preprocessing import LabelEncoder\n",
        "\n",
        "labelencoder = LabelEncoder()\n",
        "y_df = pd.DataFrame(Y_data, columns=['Label'])\n",
        "y_df['Encoded'] = labelencoder.fit_transform(y_df['Label'])"
      ],
      "execution_count": 0,
      "outputs": []
    },
    {
      "cell_type": "code",
      "metadata": {
        "id": "56hwq9R2jruF",
        "colab_type": "code",
        "outputId": "fde82827-16be-4fb3-93a9-d908e5350f28",
        "colab": {
          "base_uri": "https://localhost:8080/",
          "height": 104
        }
      },
      "source": [
        "y_df['Label'].value_counts()"
      ],
      "execution_count": 57,
      "outputs": [
        {
          "output_type": "execute_result",
          "data": {
            "text/plain": [
              "closed           1500\n",
              "open             1500\n",
              "partiallyOpen    1376\n",
              "notVisible       1346\n",
              "Name: Label, dtype: int64"
            ]
          },
          "metadata": {
            "tags": []
          },
          "execution_count": 57
        }
      ]
    },
    {
      "cell_type": "code",
      "metadata": {
        "id": "WxAYuiEzj4Bp",
        "colab_type": "code",
        "outputId": "0289812a-6ff3-4727-9b99-fe5276b85a17",
        "colab": {
          "base_uri": "https://localhost:8080/",
          "height": 104
        }
      },
      "source": [
        "y_df['Encoded'].value_counts()\n"
      ],
      "execution_count": 58,
      "outputs": [
        {
          "output_type": "execute_result",
          "data": {
            "text/plain": [
              "2    1500\n",
              "0    1500\n",
              "3    1376\n",
              "1    1346\n",
              "Name: Encoded, dtype: int64"
            ]
          },
          "metadata": {
            "tags": []
          },
          "execution_count": 58
        }
      ]
    },
    {
      "cell_type": "code",
      "metadata": {
        "id": "wdkpb2Jkqu6t",
        "colab_type": "code",
        "colab": {}
      },
      "source": [
        "from tensorflow.keras.utils import to_categorical\n",
        "\n",
        "y_cat = to_categorical(y_df['Encoded'])"
      ],
      "execution_count": 0,
      "outputs": []
    },
    {
      "cell_type": "markdown",
      "metadata": {
        "id": "Kif3Li9NuSnV",
        "colab_type": "text"
      },
      "source": [
        "# Training"
      ]
    },
    {
      "cell_type": "code",
      "metadata": {
        "id": "rghSgp3NvhhV",
        "colab_type": "code",
        "colab": {}
      },
      "source": [
        "from tensorflow.keras.optimizers import SGD\n",
        "from tensorflow.keras.callbacks import Callback, LearningRateScheduler, EarlyStopping\n",
        "import tensorflow\n",
        "\n",
        "EPOCHS = 100\n",
        "BS = 128\n",
        "sgd = SGD(lr=0.1, momentum=0.6)"
      ],
      "execution_count": 0,
      "outputs": []
    },
    {
      "cell_type": "code",
      "metadata": {
        "id": "yBnqXaiNwHGl",
        "colab_type": "code",
        "outputId": "f92f02e6-c305-459a-f7ed-52b514ea847c",
        "colab": {
          "base_uri": "https://localhost:8080/",
          "height": 34
        }
      },
      "source": [
        "wrn_16_2.compile(loss=\"categorical_crossentropy\", optimizer=sgd, metrics=[\"acc\"])\n",
        "print(\"Finished compiling\")\n"
      ],
      "execution_count": 61,
      "outputs": [
        {
          "output_type": "stream",
          "text": [
            "Finished compiling\n"
          ],
          "name": "stdout"
        }
      ]
    },
    {
      "cell_type": "code",
      "metadata": {
        "id": "88yOqhbSwjPa",
        "colab_type": "code",
        "colab": {}
      },
      "source": [
        "def lr_sch(epoch):\n",
        "    if epoch < 30:\n",
        "        return 0.1\n",
        "    elif epoch < 50:\n",
        "        return 0.01\n",
        "    elif epoch < 100:\n",
        "        return 0.001\n",
        "    else:\n",
        "        return 0.0001\n",
        "\n",
        "# Learning rate scheduler callback\n",
        "lr_scheduler = LearningRateScheduler(lr_sch)"
      ],
      "execution_count": 0,
      "outputs": []
    },
    {
      "cell_type": "code",
      "metadata": {
        "id": "TbpiWMEgRpWa",
        "colab_type": "code",
        "colab": {}
      },
      "source": [
        "generator = tensorflow.keras.preprocessing.image.ImageDataGenerator(rotation_range=10,\n",
        "                               width_shift_range=5./32,\n",
        "                               height_shift_range=5./32,)"
      ],
      "execution_count": 0,
      "outputs": []
    },
    {
      "cell_type": "code",
      "metadata": {
        "id": "uo-6r-Zvva5l",
        "colab_type": "code",
        "colab": {}
      },
      "source": [
        "X_train, X_test, y_train, y_test = train_test_split(X, y_cat, test_size = 0.1)\n",
        "X_train, X_val, y_train, y_val = train_test_split(X_train, y_train, test_size = 0.1)"
      ],
      "execution_count": 0,
      "outputs": []
    },
    {
      "cell_type": "code",
      "metadata": {
        "id": "n33l2yoxJe1T",
        "colab_type": "code",
        "colab": {}
      },
      "source": [
        ""
      ],
      "execution_count": 0,
      "outputs": []
    },
    {
      "cell_type": "code",
      "metadata": {
        "id": "JVs_QNHoEKji",
        "colab_type": "code",
        "outputId": "be0e5f01-c9bd-4df1-9289-7a3a9be7f124",
        "colab": {
          "base_uri": "https://localhost:8080/",
          "height": 1000
        }
      },
      "source": [
        "hist = wrn_16_2.fit(generator.flow(X_train, y_train, batch_size=BS), steps_per_epoch=len(X_train) // BS, epochs=EPOCHS,\n",
        "                   callbacks = [lr_scheduler],\n",
        "                   validation_data=(X_val, y_val),\n",
        "                   validation_steps=X_val.shape[0] // BS,)"
      ],
      "execution_count": 65,
      "outputs": [
        {
          "output_type": "stream",
          "text": [
            "Epoch 1/100\n",
            "36/36 [==============================] - 2s 48ms/step - loss: 2.5135 - acc: 0.2807 - val_loss: 2.4693 - val_acc: 0.3922 - lr: 0.1000\n",
            "Epoch 2/100\n",
            "36/36 [==============================] - 1s 38ms/step - loss: 2.4120 - acc: 0.3695 - val_loss: 2.3477 - val_acc: 0.3748 - lr: 0.1000\n",
            "Epoch 3/100\n",
            "36/36 [==============================] - 1s 39ms/step - loss: 2.3472 - acc: 0.3937 - val_loss: 2.3185 - val_acc: 0.3845 - lr: 0.1000\n",
            "Epoch 4/100\n",
            "36/36 [==============================] - 1s 39ms/step - loss: 2.3144 - acc: 0.3939 - val_loss: 2.3016 - val_acc: 0.3942 - lr: 0.1000\n",
            "Epoch 5/100\n",
            "36/36 [==============================] - 1s 39ms/step - loss: 2.2741 - acc: 0.4190 - val_loss: 2.2229 - val_acc: 0.4000 - lr: 0.1000\n",
            "Epoch 6/100\n",
            "36/36 [==============================] - 1s 38ms/step - loss: 2.2342 - acc: 0.4436 - val_loss: 2.1983 - val_acc: 0.4505 - lr: 0.1000\n",
            "Epoch 7/100\n",
            "36/36 [==============================] - 1s 39ms/step - loss: 2.1912 - acc: 0.4774 - val_loss: 2.1055 - val_acc: 0.5359 - lr: 0.1000\n",
            "Epoch 8/100\n",
            "36/36 [==============================] - 1s 39ms/step - loss: 2.1534 - acc: 0.4976 - val_loss: 2.1046 - val_acc: 0.5223 - lr: 0.1000\n",
            "Epoch 9/100\n",
            "36/36 [==============================] - 1s 39ms/step - loss: 2.1140 - acc: 0.5135 - val_loss: 2.1380 - val_acc: 0.4835 - lr: 0.1000\n",
            "Epoch 10/100\n",
            "36/36 [==============================] - 1s 38ms/step - loss: 2.0593 - acc: 0.5439 - val_loss: 2.0144 - val_acc: 0.5650 - lr: 0.1000\n",
            "Epoch 11/100\n",
            "36/36 [==============================] - 1s 40ms/step - loss: 2.0126 - acc: 0.5502 - val_loss: 2.2094 - val_acc: 0.4466 - lr: 0.1000\n",
            "Epoch 12/100\n",
            "36/36 [==============================] - 1s 39ms/step - loss: 1.9531 - acc: 0.5730 - val_loss: 1.9456 - val_acc: 0.5767 - lr: 0.1000\n",
            "Epoch 13/100\n",
            "36/36 [==============================] - 1s 39ms/step - loss: 1.9029 - acc: 0.5974 - val_loss: 1.8448 - val_acc: 0.6155 - lr: 0.1000\n",
            "Epoch 14/100\n",
            "36/36 [==============================] - 1s 39ms/step - loss: 1.8696 - acc: 0.5965 - val_loss: 1.9936 - val_acc: 0.4874 - lr: 0.1000\n",
            "Epoch 15/100\n",
            "36/36 [==============================] - 1s 39ms/step - loss: 1.8273 - acc: 0.6158 - val_loss: 2.0866 - val_acc: 0.5417 - lr: 0.1000\n",
            "Epoch 16/100\n",
            "36/36 [==============================] - 1s 39ms/step - loss: 1.7815 - acc: 0.6272 - val_loss: 1.7319 - val_acc: 0.6796 - lr: 0.1000\n",
            "Epoch 17/100\n",
            "36/36 [==============================] - 1s 39ms/step - loss: 1.7542 - acc: 0.6403 - val_loss: 1.7486 - val_acc: 0.6524 - lr: 0.1000\n",
            "Epoch 18/100\n",
            "36/36 [==============================] - 1s 38ms/step - loss: 1.7132 - acc: 0.6514 - val_loss: 1.8239 - val_acc: 0.6311 - lr: 0.1000\n",
            "Epoch 19/100\n",
            "36/36 [==============================] - 1s 38ms/step - loss: 1.6628 - acc: 0.6738 - val_loss: 1.6750 - val_acc: 0.6835 - lr: 0.1000\n",
            "Epoch 20/100\n",
            "36/36 [==============================] - 1s 39ms/step - loss: 1.6434 - acc: 0.6718 - val_loss: 1.7186 - val_acc: 0.6524 - lr: 0.1000\n",
            "Epoch 21/100\n",
            "36/36 [==============================] - 1s 38ms/step - loss: 1.6075 - acc: 0.6773 - val_loss: 1.6590 - val_acc: 0.6971 - lr: 0.1000\n",
            "Epoch 22/100\n",
            "36/36 [==============================] - 1s 38ms/step - loss: 1.5822 - acc: 0.6915 - val_loss: 1.5848 - val_acc: 0.6816 - lr: 0.1000\n",
            "Epoch 23/100\n",
            "36/36 [==============================] - 1s 39ms/step - loss: 1.5459 - acc: 0.6953 - val_loss: 1.6068 - val_acc: 0.6951 - lr: 0.1000\n",
            "Epoch 24/100\n",
            "36/36 [==============================] - 1s 39ms/step - loss: 1.5457 - acc: 0.6940 - val_loss: 1.7794 - val_acc: 0.6505 - lr: 0.1000\n",
            "Epoch 25/100\n",
            "36/36 [==============================] - 1s 39ms/step - loss: 1.5000 - acc: 0.7117 - val_loss: 1.5733 - val_acc: 0.7087 - lr: 0.1000\n",
            "Epoch 26/100\n",
            "36/36 [==============================] - 1s 39ms/step - loss: 1.4900 - acc: 0.7088 - val_loss: 1.4910 - val_acc: 0.7087 - lr: 0.1000\n",
            "Epoch 27/100\n",
            "36/36 [==============================] - 1s 38ms/step - loss: 1.4761 - acc: 0.7159 - val_loss: 1.5216 - val_acc: 0.7068 - lr: 0.1000\n",
            "Epoch 28/100\n",
            "36/36 [==============================] - 1s 39ms/step - loss: 1.4382 - acc: 0.7168 - val_loss: 1.5002 - val_acc: 0.6990 - lr: 0.1000\n",
            "Epoch 29/100\n",
            "36/36 [==============================] - 1s 38ms/step - loss: 1.4263 - acc: 0.7213 - val_loss: 1.4594 - val_acc: 0.7223 - lr: 0.1000\n",
            "Epoch 30/100\n",
            "36/36 [==============================] - 1s 39ms/step - loss: 1.4155 - acc: 0.7204 - val_loss: 1.5556 - val_acc: 0.6854 - lr: 0.1000\n",
            "Epoch 31/100\n",
            "36/36 [==============================] - 1s 39ms/step - loss: 1.4080 - acc: 0.7279 - val_loss: 1.3861 - val_acc: 0.7359 - lr: 0.0100\n",
            "Epoch 32/100\n",
            "36/36 [==============================] - 1s 40ms/step - loss: 1.3398 - acc: 0.7543 - val_loss: 1.3703 - val_acc: 0.7359 - lr: 0.0100\n",
            "Epoch 33/100\n",
            "36/36 [==============================] - 1s 39ms/step - loss: 1.3218 - acc: 0.7632 - val_loss: 1.3795 - val_acc: 0.7301 - lr: 0.0100\n",
            "Epoch 34/100\n",
            "36/36 [==============================] - 1s 39ms/step - loss: 1.3061 - acc: 0.7745 - val_loss: 1.3842 - val_acc: 0.7379 - lr: 0.0100\n",
            "Epoch 35/100\n",
            "36/36 [==============================] - 1s 39ms/step - loss: 1.2988 - acc: 0.7719 - val_loss: 1.3609 - val_acc: 0.7379 - lr: 0.0100\n",
            "Epoch 36/100\n",
            "36/36 [==============================] - 1s 39ms/step - loss: 1.2884 - acc: 0.7710 - val_loss: 1.3682 - val_acc: 0.7379 - lr: 0.0100\n",
            "Epoch 37/100\n",
            "36/36 [==============================] - 1s 38ms/step - loss: 1.2671 - acc: 0.7816 - val_loss: 1.3961 - val_acc: 0.7340 - lr: 0.0100\n",
            "Epoch 38/100\n",
            "36/36 [==============================] - 1s 38ms/step - loss: 1.2670 - acc: 0.7845 - val_loss: 1.3745 - val_acc: 0.7379 - lr: 0.0100\n",
            "Epoch 39/100\n",
            "36/36 [==============================] - 1s 39ms/step - loss: 1.2556 - acc: 0.7878 - val_loss: 1.4361 - val_acc: 0.7359 - lr: 0.0100\n",
            "Epoch 40/100\n",
            "36/36 [==============================] - 1s 38ms/step - loss: 1.2632 - acc: 0.7865 - val_loss: 1.4529 - val_acc: 0.7282 - lr: 0.0100\n",
            "Epoch 41/100\n",
            "36/36 [==============================] - 1s 39ms/step - loss: 1.2511 - acc: 0.7883 - val_loss: 1.3887 - val_acc: 0.7437 - lr: 0.0100\n",
            "Epoch 42/100\n",
            "36/36 [==============================] - 1s 39ms/step - loss: 1.2621 - acc: 0.7779 - val_loss: 1.3683 - val_acc: 0.7476 - lr: 0.0100\n",
            "Epoch 43/100\n",
            "36/36 [==============================] - 1s 38ms/step - loss: 1.2363 - acc: 0.7912 - val_loss: 1.3766 - val_acc: 0.7476 - lr: 0.0100\n",
            "Epoch 44/100\n",
            "36/36 [==============================] - 1s 38ms/step - loss: 1.2381 - acc: 0.7883 - val_loss: 1.4408 - val_acc: 0.7359 - lr: 0.0100\n",
            "Epoch 45/100\n",
            "36/36 [==============================] - 1s 39ms/step - loss: 1.2341 - acc: 0.7889 - val_loss: 1.3963 - val_acc: 0.7437 - lr: 0.0100\n",
            "Epoch 46/100\n",
            "36/36 [==============================] - 1s 38ms/step - loss: 1.2309 - acc: 0.7909 - val_loss: 1.4243 - val_acc: 0.7359 - lr: 0.0100\n",
            "Epoch 47/100\n",
            "36/36 [==============================] - 1s 38ms/step - loss: 1.2251 - acc: 0.7907 - val_loss: 1.4182 - val_acc: 0.7437 - lr: 0.0100\n",
            "Epoch 48/100\n",
            "36/36 [==============================] - 1s 38ms/step - loss: 1.2192 - acc: 0.7901 - val_loss: 1.3616 - val_acc: 0.7631 - lr: 0.0100\n",
            "Epoch 49/100\n",
            "36/36 [==============================] - 1s 38ms/step - loss: 1.2064 - acc: 0.8009 - val_loss: 1.4588 - val_acc: 0.7456 - lr: 0.0100\n",
            "Epoch 50/100\n",
            "36/36 [==============================] - 1s 39ms/step - loss: 1.1982 - acc: 0.8038 - val_loss: 1.3863 - val_acc: 0.7709 - lr: 0.0100\n",
            "Epoch 51/100\n",
            "36/36 [==============================] - 1s 38ms/step - loss: 1.2049 - acc: 0.7965 - val_loss: 1.3255 - val_acc: 0.7670 - lr: 0.0010\n",
            "Epoch 52/100\n",
            "36/36 [==============================] - 1s 38ms/step - loss: 1.1923 - acc: 0.8018 - val_loss: 1.3882 - val_acc: 0.7456 - lr: 0.0010\n",
            "Epoch 53/100\n",
            "36/36 [==============================] - 1s 39ms/step - loss: 1.1965 - acc: 0.8018 - val_loss: 1.3524 - val_acc: 0.7573 - lr: 0.0010\n",
            "Epoch 54/100\n",
            "36/36 [==============================] - 1s 39ms/step - loss: 1.1925 - acc: 0.8116 - val_loss: 1.3887 - val_acc: 0.7515 - lr: 0.0010\n",
            "Epoch 55/100\n",
            "36/36 [==============================] - 1s 38ms/step - loss: 1.1910 - acc: 0.8003 - val_loss: 1.3584 - val_acc: 0.7612 - lr: 0.0010\n",
            "Epoch 56/100\n",
            "36/36 [==============================] - 1s 38ms/step - loss: 1.1863 - acc: 0.8083 - val_loss: 1.3276 - val_acc: 0.7767 - lr: 0.0010\n",
            "Epoch 57/100\n",
            "36/36 [==============================] - 1s 38ms/step - loss: 1.1943 - acc: 0.8049 - val_loss: 1.3918 - val_acc: 0.7495 - lr: 0.0010\n",
            "Epoch 58/100\n",
            "36/36 [==============================] - 1s 38ms/step - loss: 1.1943 - acc: 0.8054 - val_loss: 1.3418 - val_acc: 0.7670 - lr: 0.0010\n",
            "Epoch 59/100\n",
            "36/36 [==============================] - 1s 38ms/step - loss: 1.2010 - acc: 0.8060 - val_loss: 1.3830 - val_acc: 0.7553 - lr: 0.0010\n",
            "Epoch 60/100\n",
            "36/36 [==============================] - 1s 38ms/step - loss: 1.1816 - acc: 0.8116 - val_loss: 1.4654 - val_acc: 0.7573 - lr: 0.0010\n",
            "Epoch 61/100\n",
            "36/36 [==============================] - 1s 39ms/step - loss: 1.1870 - acc: 0.8089 - val_loss: 1.3559 - val_acc: 0.7534 - lr: 0.0010\n",
            "Epoch 62/100\n",
            "36/36 [==============================] - 1s 40ms/step - loss: 1.1850 - acc: 0.8071 - val_loss: 1.3682 - val_acc: 0.7553 - lr: 0.0010\n",
            "Epoch 63/100\n",
            "36/36 [==============================] - 1s 39ms/step - loss: 1.1880 - acc: 0.8140 - val_loss: 1.3965 - val_acc: 0.7515 - lr: 0.0010\n",
            "Epoch 64/100\n",
            "36/36 [==============================] - 1s 39ms/step - loss: 1.1930 - acc: 0.8090 - val_loss: 1.4059 - val_acc: 0.7612 - lr: 0.0010\n",
            "Epoch 65/100\n",
            "36/36 [==============================] - 1s 39ms/step - loss: 1.1918 - acc: 0.8047 - val_loss: 1.3454 - val_acc: 0.7553 - lr: 0.0010\n",
            "Epoch 66/100\n",
            "36/36 [==============================] - 1s 40ms/step - loss: 1.1890 - acc: 0.8036 - val_loss: 1.3935 - val_acc: 0.7515 - lr: 0.0010\n",
            "Epoch 67/100\n",
            "36/36 [==============================] - 1s 39ms/step - loss: 1.1825 - acc: 0.8079 - val_loss: 1.3522 - val_acc: 0.7592 - lr: 0.0010\n",
            "Epoch 68/100\n",
            "36/36 [==============================] - 1s 40ms/step - loss: 1.1967 - acc: 0.8020 - val_loss: 1.4152 - val_acc: 0.7495 - lr: 0.0010\n",
            "Epoch 69/100\n",
            "36/36 [==============================] - 1s 39ms/step - loss: 1.1863 - acc: 0.8094 - val_loss: 1.3432 - val_acc: 0.7670 - lr: 0.0010\n",
            "Epoch 70/100\n",
            "36/36 [==============================] - 1s 39ms/step - loss: 1.1823 - acc: 0.8063 - val_loss: 1.3726 - val_acc: 0.7612 - lr: 0.0010\n",
            "Epoch 71/100\n",
            "36/36 [==============================] - 1s 39ms/step - loss: 1.1775 - acc: 0.8060 - val_loss: 1.4515 - val_acc: 0.7398 - lr: 0.0010\n",
            "Epoch 72/100\n",
            "36/36 [==============================] - 1s 39ms/step - loss: 1.1778 - acc: 0.8096 - val_loss: 1.4884 - val_acc: 0.7359 - lr: 0.0010\n",
            "Epoch 73/100\n",
            "36/36 [==============================] - 1s 41ms/step - loss: 1.1742 - acc: 0.8069 - val_loss: 1.3526 - val_acc: 0.7650 - lr: 0.0010\n",
            "Epoch 74/100\n",
            "36/36 [==============================] - 1s 38ms/step - loss: 1.1815 - acc: 0.8100 - val_loss: 1.3125 - val_acc: 0.7786 - lr: 0.0010\n",
            "Epoch 75/100\n",
            "36/36 [==============================] - 1s 39ms/step - loss: 1.1792 - acc: 0.8105 - val_loss: 1.4166 - val_acc: 0.7495 - lr: 0.0010\n",
            "Epoch 76/100\n",
            "36/36 [==============================] - 1s 37ms/step - loss: 1.1719 - acc: 0.8176 - val_loss: 1.3857 - val_acc: 0.7553 - lr: 0.0010\n",
            "Epoch 77/100\n",
            "36/36 [==============================] - 1s 38ms/step - loss: 1.1798 - acc: 0.8065 - val_loss: 1.4173 - val_acc: 0.7476 - lr: 0.0010\n",
            "Epoch 78/100\n",
            "36/36 [==============================] - 1s 39ms/step - loss: 1.1819 - acc: 0.8089 - val_loss: 1.3543 - val_acc: 0.7592 - lr: 0.0010\n",
            "Epoch 79/100\n",
            "36/36 [==============================] - 1s 38ms/step - loss: 1.1754 - acc: 0.8105 - val_loss: 1.3723 - val_acc: 0.7592 - lr: 0.0010\n",
            "Epoch 80/100\n",
            "36/36 [==============================] - 1s 38ms/step - loss: 1.1687 - acc: 0.8103 - val_loss: 1.3373 - val_acc: 0.7728 - lr: 0.0010\n",
            "Epoch 81/100\n",
            "36/36 [==============================] - 1s 38ms/step - loss: 1.1704 - acc: 0.8174 - val_loss: 1.3718 - val_acc: 0.7573 - lr: 0.0010\n",
            "Epoch 82/100\n",
            "36/36 [==============================] - 1s 39ms/step - loss: 1.1654 - acc: 0.8140 - val_loss: 1.4066 - val_acc: 0.7534 - lr: 0.0010\n",
            "Epoch 83/100\n",
            "36/36 [==============================] - 1s 39ms/step - loss: 1.1714 - acc: 0.8103 - val_loss: 1.3815 - val_acc: 0.7612 - lr: 0.0010\n",
            "Epoch 84/100\n",
            "36/36 [==============================] - 1s 38ms/step - loss: 1.1833 - acc: 0.8114 - val_loss: 1.3718 - val_acc: 0.7573 - lr: 0.0010\n",
            "Epoch 85/100\n",
            "36/36 [==============================] - 1s 38ms/step - loss: 1.1704 - acc: 0.8105 - val_loss: 1.4850 - val_acc: 0.7340 - lr: 0.0010\n",
            "Epoch 86/100\n",
            "36/36 [==============================] - 1s 38ms/step - loss: 1.1756 - acc: 0.8176 - val_loss: 1.3358 - val_acc: 0.7728 - lr: 0.0010\n",
            "Epoch 87/100\n",
            "36/36 [==============================] - 1s 38ms/step - loss: 1.1850 - acc: 0.8100 - val_loss: 1.3718 - val_acc: 0.7631 - lr: 0.0010\n",
            "Epoch 88/100\n",
            "36/36 [==============================] - 1s 39ms/step - loss: 1.1821 - acc: 0.8049 - val_loss: 1.4200 - val_acc: 0.7495 - lr: 0.0010\n",
            "Epoch 89/100\n",
            "36/36 [==============================] - 1s 38ms/step - loss: 1.1786 - acc: 0.8116 - val_loss: 1.3624 - val_acc: 0.7553 - lr: 0.0010\n",
            "Epoch 90/100\n",
            "36/36 [==============================] - 1s 38ms/step - loss: 1.1733 - acc: 0.8154 - val_loss: 1.4404 - val_acc: 0.7456 - lr: 0.0010\n",
            "Epoch 91/100\n",
            "36/36 [==============================] - 1s 39ms/step - loss: 1.1699 - acc: 0.8149 - val_loss: 1.3657 - val_acc: 0.7612 - lr: 0.0010\n",
            "Epoch 92/100\n",
            "36/36 [==============================] - 1s 38ms/step - loss: 1.1779 - acc: 0.8078 - val_loss: 1.3982 - val_acc: 0.7515 - lr: 0.0010\n",
            "Epoch 93/100\n",
            "36/36 [==============================] - 1s 38ms/step - loss: 1.1683 - acc: 0.8118 - val_loss: 1.3691 - val_acc: 0.7573 - lr: 0.0010\n",
            "Epoch 94/100\n",
            "36/36 [==============================] - 1s 38ms/step - loss: 1.1892 - acc: 0.8082 - val_loss: 1.3518 - val_acc: 0.7631 - lr: 0.0010\n",
            "Epoch 95/100\n",
            "36/36 [==============================] - 1s 39ms/step - loss: 1.1663 - acc: 0.8127 - val_loss: 1.3591 - val_acc: 0.7670 - lr: 0.0010\n",
            "Epoch 96/100\n",
            "36/36 [==============================] - 1s 39ms/step - loss: 1.1750 - acc: 0.8127 - val_loss: 1.4182 - val_acc: 0.7495 - lr: 0.0010\n",
            "Epoch 97/100\n",
            "36/36 [==============================] - 1s 39ms/step - loss: 1.1611 - acc: 0.8169 - val_loss: 1.3981 - val_acc: 0.7417 - lr: 0.0010\n",
            "Epoch 98/100\n",
            "36/36 [==============================] - 1s 38ms/step - loss: 1.1690 - acc: 0.8174 - val_loss: 1.3420 - val_acc: 0.7670 - lr: 0.0010\n",
            "Epoch 99/100\n",
            "36/36 [==============================] - 1s 37ms/step - loss: 1.1684 - acc: 0.8142 - val_loss: 1.3870 - val_acc: 0.7437 - lr: 0.0010\n",
            "Epoch 100/100\n",
            "36/36 [==============================] - 1s 39ms/step - loss: 1.1734 - acc: 0.8096 - val_loss: 1.3698 - val_acc: 0.7534 - lr: 0.0010\n"
          ],
          "name": "stdout"
        }
      ]
    },
    {
      "cell_type": "code",
      "metadata": {
        "id": "xI39Sx-kYyUx",
        "colab_type": "code",
        "colab": {}
      },
      "source": [
        "wrn_16_2.save(\"model_wrn_last.h5\")"
      ],
      "execution_count": 0,
      "outputs": []
    },
    {
      "cell_type": "markdown",
      "metadata": {
        "id": "djH4uwAnvkfb",
        "colab_type": "text"
      },
      "source": [
        "**Visualization**"
      ]
    },
    {
      "cell_type": "code",
      "metadata": {
        "id": "lr_quzDGwKGM",
        "colab_type": "code",
        "colab": {
          "base_uri": "https://localhost:8080/",
          "height": 608
        },
        "outputId": "7b1955ca-db9b-4270-bda5-51799e14203c"
      },
      "source": [
        "import matplotlib.pyplot as plt\n",
        "\n",
        "history = hist\n",
        "print(history.history.keys())\n",
        "# summarize history for accuracy\n",
        "plt.plot(history.history['acc'])\n",
        "plt.plot(history.history['val_acc'])\n",
        "plt.title('model accuracy')\n",
        "plt.ylabel('accuracy')\n",
        "plt.xlabel('epoch')\n",
        "plt.legend(['train', 'test'], loc='upper left')\n",
        "plt.show()\n",
        "plt.savefig(\"wrn_tensor.png\")\n",
        "# summarize history for loss\n",
        "plt.plot(history.history['loss'])\n",
        "plt.plot(history.history['val_loss'])\n",
        "plt.title('model loss')\n",
        "plt.ylabel('loss')\n",
        "plt.xlabel('epoch')\n",
        "plt.legend(['train', 'test'], loc='upper left')\n",
        "plt.show()\n",
        "plt.savefig(\"deneme.png\")"
      ],
      "execution_count": 67,
      "outputs": [
        {
          "output_type": "stream",
          "text": [
            "dict_keys(['loss', 'acc', 'val_loss', 'val_acc', 'lr'])\n"
          ],
          "name": "stdout"
        },
        {
          "output_type": "display_data",
          "data": {
            "image/png": "[encoded data removed]",
            "text/plain": [
              "<Figure size 432x288 with 1 Axes>"
            ]
          },
          "metadata": {
            "tags": [],
            "needs_background": "light"
          }
        },
        {
          "output_type": "display_data",
          "data": {
            "image/png": "[encoded data removed]",
            "text/plain": [
              "<Figure size 432x288 with 1 Axes>"
            ]
          },
          "metadata": {
            "tags": [],
            "needs_background": "light"
          }
        },
        {
          "output_type": "display_data",
          "data": {
            "text/plain": [
              "<Figure size 432x288 with 0 Axes>"
            ]
          },
          "metadata": {
            "tags": []
          }
        }
      ]
    },
    {
      "cell_type": "code",
      "metadata": {
        "id": "iE16jXuZw8xb",
        "colab_type": "code",
        "colab": {
          "base_uri": "https://localhost:8080/",
          "height": 52
        },
        "outputId": "5559e83f-7ff2-4826-c18b-810ff6ef0579"
      },
      "source": [
        "wrn_16_2.evaluate(X_test,y_test)"
      ],
      "execution_count": 68,
      "outputs": [
        {
          "output_type": "stream",
          "text": [
            "18/18 [==============================] - 0s 4ms/step - loss: 1.3849 - acc: 0.7557\n"
          ],
          "name": "stdout"
        },
        {
          "output_type": "execute_result",
          "data": {
            "text/plain": [
              "[1.3848695755004883, 0.7556719183921814]"
            ]
          },
          "metadata": {
            "tags": []
          },
          "execution_count": 68
        }
      ]
    },
    {
      "cell_type": "code",
      "metadata": {
        "id": "SmZpcppX5u_C",
        "colab_type": "code",
        "colab": {
          "base_uri": "https://localhost:8080/",
          "height": 52
        },
        "outputId": "d8c5c032-3668-4397-cbc0-4ea363b2a2d8"
      },
      "source": [
        "wrn_16_2.evaluate(X_train,y_train)"
      ],
      "execution_count": 69,
      "outputs": [
        {
          "output_type": "stream",
          "text": [
            "145/145 [==============================] - 1s 4ms/step - loss: 1.1210 - acc: 0.8323\n"
          ],
          "name": "stdout"
        },
        {
          "output_type": "execute_result",
          "data": {
            "text/plain": [
              "[1.1209561824798584, 0.8323262929916382]"
            ]
          },
          "metadata": {
            "tags": []
          },
          "execution_count": 69
        }
      ]
    },
    {
      "cell_type": "markdown",
      "metadata": {
        "id": "vEDHJIheU8bm",
        "colab_type": "text"
      },
      "source": [
        "# Adversarial Examples\n"
      ]
    },
    {
      "cell_type": "code",
      "metadata": {
        "id": "5QB8zFSSU7Qy",
        "colab_type": "code",
        "colab": {
          "base_uri": "https://localhost:8080/",
          "height": 402
        },
        "outputId": "c5a6e6f3-9294-4955-c3df-8867315112de"
      },
      "source": [
        "!pip install -q tensorflow==2.0.0b1\n",
        "# Install bleeding edge version of cleverhans\n",
        "!pip install git+https://github.com/tensorflow/cleverhans.git#egg=cleverhans\n",
        "\n",
        "import cleverhans\n",
        "import tensorflow as tf\n",
        "import numpy as np\n",
        "import matplotlib.pyplot as plt\n",
        "\n",
        "print(\"\\nTensorflow Version: \" + tf.__version__)\n",
        "print(\"Cleverhans Version: \" + cleverhans.__version__)\n",
        "print(\"GPU Available: \", tf.test.is_gpu_available())"
      ],
      "execution_count": 70,
      "outputs": [
        {
          "output_type": "stream",
          "text": [
            "Requirement already satisfied: cleverhans from git+https://github.com/tensorflow/cleverhans.git#egg=cleverhans in /usr/local/lib/python3.6/dist-packages (3.0.1)\n",
            "Requirement already satisfied: nose in /usr/local/lib/python3.6/dist-packages (from cleverhans) (1.3.7)\n",
            "Requirement already satisfied: numpy in /usr/local/lib/python3.6/dist-packages (from cleverhans) (1.18.5)\n",
            "Requirement already satisfied: matplotlib in /usr/local/lib/python3.6/dist-packages (from cleverhans) (3.2.1)\n",
            "Requirement already satisfied: scipy in /usr/local/lib/python3.6/dist-packages (from cleverhans) (1.4.1)\n",
            "Requirement already satisfied: joblib in /usr/local/lib/python3.6/dist-packages (from cleverhans) (0.15.1)\n",
            "Requirement already satisfied: tensorflow-probability in /usr/local/lib/python3.6/dist-packages (from cleverhans) (0.10.0)\n",
            "Requirement already satisfied: pycodestyle in /usr/local/lib/python3.6/dist-packages (from cleverhans) (2.6.0)\n",
            "Requirement already satisfied: mnist~=0.2 in /usr/local/lib/python3.6/dist-packages (from cleverhans) (0.2.2)\n",
            "Requirement already satisfied: python-dateutil>=2.1 in /usr/local/lib/python3.6/dist-packages (from matplotlib->cleverhans) (2.8.1)\n",
            "Requirement already satisfied: cycler>=0.10 in /usr/local/lib/python3.6/dist-packages (from matplotlib->cleverhans) (0.10.0)\n",
            "Requirement already satisfied: pyparsing!=2.0.4,!=2.1.2,!=2.1.6,>=2.0.1 in /usr/local/lib/python3.6/dist-packages (from matplotlib->cleverhans) (2.4.7)\n",
            "Requirement already satisfied: kiwisolver>=1.0.1 in /usr/local/lib/python3.6/dist-packages (from matplotlib->cleverhans) (1.2.0)\n",
            "Requirement already satisfied: gast>=0.3.2 in /usr/local/lib/python3.6/dist-packages (from tensorflow-probability->cleverhans) (0.3.3)\n",
            "Requirement already satisfied: cloudpickle>=1.2.2 in /usr/local/lib/python3.6/dist-packages (from tensorflow-probability->cleverhans) (1.3.0)\n",
            "Requirement already satisfied: six>=1.10.0 in /usr/local/lib/python3.6/dist-packages (from tensorflow-probability->cleverhans) (1.12.0)\n",
            "Requirement already satisfied: decorator in /usr/local/lib/python3.6/dist-packages (from tensorflow-probability->cleverhans) (4.4.2)\n",
            "\n",
            "Tensorflow Version: 2.2.0\n",
            "Cleverhans Version: 3.0.1-fc7b7c7ec903258e0e3fb88503fa629f\n",
            "GPU Available:  True\n"
          ],
          "name": "stdout"
        }
      ]
    },
    {
      "cell_type": "code",
      "metadata": {
        "id": "2_bfZ4G8W_sM",
        "colab_type": "code",
        "colab": {}
      },
      "source": [
        "from cleverhans.future.tf2.attacks import fast_gradient_method\n",
        "\n",
        "#The attack requires the model to ouput the logits\n",
        "logits_model = tf.keras.Model(wrn_16_2.input,wrn_16_2.layers[-1].output)"
      ],
      "execution_count": 0,
      "outputs": []
    },
    {
      "cell_type": "code",
      "metadata": {
        "id": "gGWIlakqVD_i",
        "colab_type": "code",
        "colab": {
          "base_uri": "https://localhost:8080/",
          "height": 256
        },
        "outputId": "4acbdb27-aa7a-43c2-a3a7-00b4ec492cae"
      },
      "source": [
        "X_adv = []\n",
        "y_adv = []\n",
        "for i in range(len(X)):\n",
        "  random_index = i\n",
        "  original_image = X[random_index]\n",
        "  original_image = tf.convert_to_tensor(original_image.reshape((1,68,100))) #The .reshape just gives it the proper form to input into the model, a batch of 1 a.k.a a tensor\n",
        "\n",
        "  original_label = y_cat[random_index]\n",
        "\n",
        "  epsilon = 0.5\n",
        "  original_label\n",
        "  adv_example_targeted_label = fast_gradient_method(logits_model, original_image, epsilon, np.inf, targeted=False)\n",
        "\n",
        "  adv_example_targeted_label_pred = wrn_16_2.predict(adv_example_targeted_label)\n",
        "  X_adv.append(adv_example_targeted_label)\n",
        "  y_adv.append(np.argmax(adv_example_targeted_label_pred))"
      ],
      "execution_count": 72,
      "outputs": [
        {
          "output_type": "error",
          "ename": "ValueError",
          "evalue": "ignored",
          "traceback": [
            "\u001b[0;31m---------------------------------------------------------------------------\u001b[0m",
            "\u001b[0;31mValueError\u001b[0m                                Traceback (most recent call last)",
            "\u001b[0;32m<ipython-input-72-ec2b7f04f08a>\u001b[0m in \u001b[0;36m<module>\u001b[0;34m()\u001b[0m\n\u001b[1;32m      4\u001b[0m   \u001b[0mrandom_index\u001b[0m \u001b[0;34m=\u001b[0m \u001b[0mi\u001b[0m\u001b[0;34m\u001b[0m\u001b[0;34m\u001b[0m\u001b[0m\n\u001b[1;32m      5\u001b[0m   \u001b[0moriginal_image\u001b[0m \u001b[0;34m=\u001b[0m \u001b[0mX\u001b[0m\u001b[0;34m[\u001b[0m\u001b[0mrandom_index\u001b[0m\u001b[0;34m]\u001b[0m\u001b[0;34m\u001b[0m\u001b[0;34m\u001b[0m\u001b[0m\n\u001b[0;32m----> 6\u001b[0;31m   \u001b[0moriginal_image\u001b[0m \u001b[0;34m=\u001b[0m \u001b[0mtf\u001b[0m\u001b[0;34m.\u001b[0m\u001b[0mconvert_to_tensor\u001b[0m\u001b[0;34m(\u001b[0m\u001b[0moriginal_image\u001b[0m\u001b[0;34m.\u001b[0m\u001b[0mreshape\u001b[0m\u001b[0;34m(\u001b[0m\u001b[0;34m(\u001b[0m\u001b[0;36m1\u001b[0m\u001b[0;34m,\u001b[0m\u001b[0;36m68\u001b[0m\u001b[0;34m,\u001b[0m\u001b[0;36m100\u001b[0m\u001b[0;34m)\u001b[0m\u001b[0;34m)\u001b[0m\u001b[0;34m)\u001b[0m \u001b[0;31m#The .reshape just gives it the proper form to input into the model, a batch of 1 a.k.a a tensor\u001b[0m\u001b[0;34m\u001b[0m\u001b[0;34m\u001b[0m\u001b[0m\n\u001b[0m\u001b[1;32m      7\u001b[0m \u001b[0;34m\u001b[0m\u001b[0m\n\u001b[1;32m      8\u001b[0m   \u001b[0moriginal_label\u001b[0m \u001b[0;34m=\u001b[0m \u001b[0my_cat\u001b[0m\u001b[0;34m[\u001b[0m\u001b[0mrandom_index\u001b[0m\u001b[0;34m]\u001b[0m\u001b[0;34m\u001b[0m\u001b[0;34m\u001b[0m\u001b[0m\n",
            "\u001b[0;31mValueError\u001b[0m: cannot reshape array of size 1024 into shape (1,68,100)"
          ]
        }
      ]
    },
    {
      "cell_type": "code",
      "metadata": {
        "id": "M1DCXV9Tc9B0",
        "colab_type": "code",
        "colab": {}
      },
      "source": [
        "import pickle\n",
        "\n",
        "my_data = {'image': X_adv,\n",
        "           'label': y_adv_df['Encoded']\n",
        "           }\n",
        "output = open('data_adv_50.pkl', 'wb')\n",
        "pickle.dump(my_data, output)\n",
        "output.close()"
      ],
      "execution_count": 0,
      "outputs": []
    },
    {
      "cell_type": "markdown",
      "metadata": {
        "id": "ZuWpwrKuwmsc",
        "colab_type": "text"
      },
      "source": [
        "# Adversarial Training"
      ]
    },
    {
      "cell_type": "code",
      "metadata": {
        "id": "nfF0d5ePbXK0",
        "colab_type": "code",
        "colab": {}
      },
      "source": [
        "y_adv = np.array(y_adv)"
      ],
      "execution_count": 0,
      "outputs": []
    },
    {
      "cell_type": "code",
      "metadata": {
        "id": "d5I9X-0mboqa",
        "colab_type": "code",
        "colab": {}
      },
      "source": [
        "y_adv_df = pd.DataFrame(y_adv, columns=['Encoded'])\n",
        "y_adv_df['Encoded'] = labelencoder.fit_transform(y_adv)"
      ],
      "execution_count": 0,
      "outputs": []
    },
    {
      "cell_type": "code",
      "metadata": {
        "id": "IcxHP-bTcIwR",
        "colab_type": "code",
        "colab": {}
      },
      "source": [
        "y_adv_df['Encoded'].value_counts()"
      ],
      "execution_count": 0,
      "outputs": []
    },
    {
      "cell_type": "code",
      "metadata": {
        "id": "J1mGBoQbd46-",
        "colab_type": "code",
        "colab": {}
      },
      "source": [
        "X_new = []\n",
        "X_adv =my_data['image']\n",
        "for i in range(len(X_adv)):\n",
        "  a = np.array(X_adv[i])\n",
        "  X_new.append(a.reshape(68,100,1))"
      ],
      "execution_count": 0,
      "outputs": []
    },
    {
      "cell_type": "code",
      "metadata": {
        "id": "DdE_WN8Ffgyz",
        "colab_type": "code",
        "colab": {}
      },
      "source": [
        "for i in range(len(X)):\n",
        "  a = np.array(X[i])\n",
        "  X_new.append(a)"
      ],
      "execution_count": 0,
      "outputs": []
    },
    {
      "cell_type": "code",
      "metadata": {
        "id": "YKAnXO0Vfg1T",
        "colab_type": "code",
        "colab": {}
      },
      "source": [
        "X_third = np.array(X_new)"
      ],
      "execution_count": 0,
      "outputs": []
    },
    {
      "cell_type": "code",
      "metadata": {
        "id": "D_jH1i_FMA2V",
        "colab_type": "code",
        "colab": {}
      },
      "source": [
        "X_adv_a = np.array(X_new)"
      ],
      "execution_count": 0,
      "outputs": []
    },
    {
      "cell_type": "code",
      "metadata": {
        "id": "Dackr68mMA0Y",
        "colab_type": "code",
        "colab": {}
      },
      "source": [
        "X_adv_a.shape"
      ],
      "execution_count": 0,
      "outputs": []
    },
    {
      "cell_type": "code",
      "metadata": {
        "id": "m9UIXimpiKWk",
        "colab_type": "code",
        "colab": {}
      },
      "source": [
        "y_new = []\n",
        "for j in range(0,2):\n",
        "  for i in range(len(y_cat)):\n",
        "    y_new.append(y_cat[i])\n",
        "y_third = np.array(y_new)"
      ],
      "execution_count": 0,
      "outputs": []
    },
    {
      "cell_type": "code",
      "metadata": {
        "id": "vuRIuXcNiKY4",
        "colab_type": "code",
        "colab": {}
      },
      "source": [
        "X_all, y_all = X_third, y_third"
      ],
      "execution_count": 0,
      "outputs": []
    },
    {
      "cell_type": "code",
      "metadata": {
        "id": "qJXveP1Veo7G",
        "colab_type": "code",
        "colab": {}
      },
      "source": [
        "X_train_adv, X_test_adv, y_train_adv, y_test_adv = train_test_split( X_all,y_all, test_size = 0.33, shuffle=True)"
      ],
      "execution_count": 0,
      "outputs": []
    },
    {
      "cell_type": "code",
      "metadata": {
        "id": "WMJjEg9qiI0n",
        "colab_type": "code",
        "colab": {}
      },
      "source": [
        ""
      ],
      "execution_count": 0,
      "outputs": []
    },
    {
      "cell_type": "code",
      "metadata": {
        "id": "HibsOpTIcNq8",
        "colab_type": "code",
        "colab": {}
      },
      "source": [
        "wrn_16_2_adv = create_wide_residual_network(init, nb_classes=4, N=2, k=2, dropout=0.3)"
      ],
      "execution_count": 0,
      "outputs": []
    },
    {
      "cell_type": "code",
      "metadata": {
        "id": "q96wjHqxeTJ-",
        "colab_type": "code",
        "colab": {}
      },
      "source": [
        "wrn_16_2_adv.compile(loss=\"categorical_crossentropy\", optimizer=sgd, metrics=[\"acc\"])\n",
        "print(\"Finished compiling\")\n",
        "BS_adv= 100\n",
        "EPOCHS_adv = 50"
      ],
      "execution_count": 0,
      "outputs": []
    },
    {
      "cell_type": "code",
      "metadata": {
        "id": "-Jewqs8yxlnf",
        "colab_type": "code",
        "colab": {}
      },
      "source": [
        "def lr_sch_train(epoch):\n",
        "    if epoch < 10:\n",
        "        return 0.1\n",
        "    elif epoch <20:\n",
        "        return 0.1/2.0\n",
        "    elif epoch < 30:\n",
        "        return 0.1/2.0**2\n",
        "    elif epoch < 40:\n",
        "        return 0.1/2.0**3\n",
        "    else:\n",
        "        return 0.1/2.0**4\n",
        "\n",
        "# Learning rate scheduler callback\n",
        "lr_scheduler_train = LearningRateScheduler(lr_sch_train)"
      ],
      "execution_count": 0,
      "outputs": []
    },
    {
      "cell_type": "code",
      "metadata": {
        "id": "9FIn8khEd45J",
        "colab_type": "code",
        "colab": {}
      },
      "source": [
        "\n",
        "hist = wrn_16_2_adv.fit_generator(generator.flow(X_train_adv, y_train_adv, batch_size=BS_adv), steps_per_epoch=len(X_train_adv) // BS_adv, epochs=EPOCHS_adv,\n",
        "                   callbacks=[lr_scheduler_train],\n",
        "                   validation_data=(X_test_adv, y_test_adv),\n",
        "                   validation_steps=X_test_adv.shape[0] // BS_adv,)"
      ],
      "execution_count": 0,
      "outputs": []
    },
    {
      "cell_type": "code",
      "metadata": {
        "id": "3qXnteSOpFZH",
        "colab_type": "code",
        "colab": {}
      },
      "source": [
        "wrn_16_2_adv.save(\"model_adv_wrn_tensor_dropout.h5\")"
      ],
      "execution_count": 0,
      "outputs": []
    },
    {
      "cell_type": "markdown",
      "metadata": {
        "id": "CeetxZrNv9oM",
        "colab_type": "text"
      },
      "source": [
        "**Visualization**"
      ]
    },
    {
      "cell_type": "code",
      "metadata": {
        "id": "-S5IjLivpMbp",
        "colab_type": "code",
        "colab": {}
      },
      "source": [
        "import matplotlib.pyplot as plt\n",
        "\n",
        "history = hist\n",
        "print(history.history.keys())\n",
        "# summarize history for accuracy\n",
        "plt.plot(history.history['acc'])\n",
        "plt.plot(history.history['val_acc'])\n",
        "plt.title('model accuracy')\n",
        "plt.ylabel('accuracy')\n",
        "plt.xlabel('epoch')\n",
        "plt.legend(['train', 'test'], loc='upper left')\n",
        "plt.show()\n",
        "plt.savefig(\"wrn_tensor.png\")\n",
        "# summarize history for loss\n",
        "plt.plot(history.history['loss'])\n",
        "plt.plot(history.history['val_loss'])\n",
        "plt.title('model loss')\n",
        "plt.ylabel('loss')\n",
        "plt.xlabel('epoch')\n",
        "plt.legend(['train', 'test'], loc='upper left')\n",
        "plt.show()\n",
        "plt.savefig(\"deneme.png\")"
      ],
      "execution_count": 0,
      "outputs": []
    },
    {
      "cell_type": "markdown",
      "metadata": {
        "id": "ftcU_6z90QSJ",
        "colab_type": "text"
      },
      "source": [
        "**CleanExperiment**"
      ]
    },
    {
      "cell_type": "code",
      "metadata": {
        "id": "3i5qUE6j0JUE",
        "colab_type": "code",
        "colab": {}
      },
      "source": [
        "wrn_16_2_clean = create_wide_residual_network(init, nb_classes=4, N=2, k=2, dropout=0.3)"
      ],
      "execution_count": 0,
      "outputs": []
    },
    {
      "cell_type": "code",
      "metadata": {
        "id": "X4p2TUIj0csZ",
        "colab_type": "code",
        "colab": {}
      },
      "source": [
        "wrn_16_2_clean.compile(loss=\"categorical_crossentropy\", optimizer=sgd, metrics=[\"acc\"])\n",
        "print(\"Finished compiling\")"
      ],
      "execution_count": 0,
      "outputs": []
    },
    {
      "cell_type": "code",
      "metadata": {
        "id": "5rQljdkd0he9",
        "colab_type": "code",
        "colab": {}
      },
      "source": [
        "hist_clean = wrn_16_2_clean.fit_generator(generator.flow(X_train, y_train, batch_size=BS_adv), steps_per_epoch=len(X_train) // BS_adv, epochs=EPOCHS_adv,\n",
        "                   callbacks=[lr_scheduler_train],\n",
        "                   validation_data=(X_test, y_test),\n",
        "                   validation_steps=X_test.shape[0] // BS_adv,)"
      ],
      "execution_count": 0,
      "outputs": []
    },
    {
      "cell_type": "code",
      "metadata": {
        "id": "1acrchBU185p",
        "colab_type": "code",
        "colab": {}
      },
      "source": [
        "wrn_16_2_clean.save(\"model_adv_train_clean_dropout.h5\")"
      ],
      "execution_count": 0,
      "outputs": []
    },
    {
      "cell_type": "markdown",
      "metadata": {
        "id": "i9hLRXbmwETE",
        "colab_type": "text"
      },
      "source": [
        "**Visualization**"
      ]
    },
    {
      "cell_type": "code",
      "metadata": {
        "id": "_pgU_KsH0yVM",
        "colab_type": "code",
        "colab": {}
      },
      "source": [
        "import matplotlib.pyplot as plt\n",
        "\n",
        "history = hist_clean\n",
        "print(history.history.keys())\n",
        "# summarize history for accuracy\n",
        "plt.plot(history.history['acc'])\n",
        "plt.plot(history.history['val_acc'])\n",
        "plt.title('model accuracy')\n",
        "plt.ylabel('accuracy')\n",
        "plt.xlabel('epoch')\n",
        "plt.legend(['train', 'test'], loc='upper left')\n",
        "plt.show()\n",
        "plt.savefig(\"wrn_tensor.png\")\n",
        "# summarize history for loss\n",
        "plt.plot(history.history['loss'])\n",
        "plt.plot(history.history['val_loss'])\n",
        "plt.title('model loss')\n",
        "plt.ylabel('loss')\n",
        "plt.xlabel('epoch')\n",
        "plt.legend(['train', 'test'], loc='upper left')\n",
        "plt.show()\n",
        "plt.savefig(\"deneme.png\")"
      ],
      "execution_count": 0,
      "outputs": []
    },
    {
      "cell_type": "markdown",
      "metadata": {
        "id": "UCKONCZ0Jzfi",
        "colab_type": "text"
      },
      "source": [
        "**Adversarial Training**"
      ]
    },
    {
      "cell_type": "code",
      "metadata": {
        "id": "pFgpFgWbKeR_",
        "colab_type": "code",
        "colab": {}
      },
      "source": [
        "wrn_16_2_adv.evaluate(X_train,y_train)"
      ],
      "execution_count": 0,
      "outputs": []
    },
    {
      "cell_type": "code",
      "metadata": {
        "id": "XhiqvES18c-j",
        "colab_type": "code",
        "colab": {}
      },
      "source": [
        "wrn_16_2_adv.evaluate(X_train_adv,y_train_adv)"
      ],
      "execution_count": 0,
      "outputs": []
    },
    {
      "cell_type": "code",
      "metadata": {
        "id": "tjHVWy96Llce",
        "colab_type": "code",
        "colab": {}
      },
      "source": [
        "wrn_16_2_adv.evaluate(X_test,y_test)"
      ],
      "execution_count": 0,
      "outputs": []
    },
    {
      "cell_type": "code",
      "metadata": {
        "id": "Uqj_Ax7MI4SC",
        "colab_type": "code",
        "colab": {}
      },
      "source": [
        "wrn_16_2_adv.evaluate(X_adv_a,y_cat)"
      ],
      "execution_count": 0,
      "outputs": []
    },
    {
      "cell_type": "code",
      "metadata": {
        "id": "JXT3YD6iLl0N",
        "colab_type": "code",
        "colab": {}
      },
      "source": [
        "wrn_16_2_adv.evaluate(X_test_adv,y_test_adv)"
      ],
      "execution_count": 0,
      "outputs": []
    },
    {
      "cell_type": "markdown",
      "metadata": {
        "id": "-fKhEMXgKAnZ",
        "colab_type": "text"
      },
      "source": [
        "**Non_Adversarial_Training**"
      ]
    },
    {
      "cell_type": "code",
      "metadata": {
        "id": "ouj6OqTD8VdE",
        "colab_type": "code",
        "colab": {}
      },
      "source": [
        "wrn_16_2_clean.evaluate(X_train, y_train)"
      ],
      "execution_count": 0,
      "outputs": []
    },
    {
      "cell_type": "code",
      "metadata": {
        "id": "sfkUSeV6KHp5",
        "colab_type": "code",
        "colab": {}
      },
      "source": [
        "wrn_16_2_clean.evaluate(X_train_adv,y_train_adv)"
      ],
      "execution_count": 0,
      "outputs": []
    },
    {
      "cell_type": "code",
      "metadata": {
        "id": "kZFJl2D4Hbxa",
        "colab_type": "code",
        "colab": {}
      },
      "source": [
        "wrn_16_2_clean.evaluate(X_test, y_test)"
      ],
      "execution_count": 0,
      "outputs": []
    },
    {
      "cell_type": "code",
      "metadata": {
        "id": "8gJh7MDHChHo",
        "colab_type": "code",
        "colab": {}
      },
      "source": [
        "wrn_16_2_clean.evaluate(X_adv_a,y_cat)"
      ],
      "execution_count": 0,
      "outputs": []
    },
    {
      "cell_type": "code",
      "metadata": {
        "id": "nZuONcAeAwQb",
        "colab_type": "code",
        "colab": {}
      },
      "source": [
        "wrn_16_2_clean.evaluate(X_test_adv, y_test_adv)"
      ],
      "execution_count": 0,
      "outputs": []
    }
  ]
}