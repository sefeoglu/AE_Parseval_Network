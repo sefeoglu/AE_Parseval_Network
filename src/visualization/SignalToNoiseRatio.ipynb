{
  "nbformat": 4,
  "nbformat_minor": 0,
  "metadata": {
    "accelerator": "GPU",
    "colab": {
      "name": "SignalToNoiseRatio.ipynb",
      "provenance": []
    },
    "kernelspec": {
      "display_name": "Python 3",
      "language": "python",
      "name": "python3"
    },
    "language_info": {
      "codemirror_mode": {
        "name": "ipython",
        "version": 3
      },
      "file_extension": ".py",
      "mimetype": "text/x-python",
      "name": "python",
      "nbconvert_exporter": "python",
      "pygments_lexer": "ipython3",
      "version": "3.7.4"
    }
  },
  "cells": [
    {
      "cell_type": "markdown",
      "metadata": {
        "id": "kkK5yOtaEOWL"
      },
      "source": [
        "# <font color=\"purple\">SNR Result</font>"
      ]
    },
    {
      "cell_type": "code",
      "metadata": {
        "id": "scrFZBY5ErKc",
        "outputId": "4cc9c7ad-8fb4-49ce-9bbe-a2034464011d",
        "colab": {
          "base_uri": "https://localhost:8080/"
        }
      },
      "source": [
        "!pip install -qq -e git+http://github.com/tensorflow/cleverhans.git#egg=cleverhans\n",
        "import sys\n",
        "sys.path.append('/content/src/cleverhans')\n",
        "import cleverhans"
      ],
      "execution_count": null,
      "outputs": [
        {
          "output_type": "stream",
          "text": [
            "\u001b[?25l\r\u001b[K     |██▏                             | 10kB 23.5MB/s eta 0:00:01\r\u001b[K     |████▎                           | 20kB 29.5MB/s eta 0:00:01\r\u001b[K     |██████▍                         | 30kB 14.3MB/s eta 0:00:01\r\u001b[K     |████████▌                       | 40kB 10.6MB/s eta 0:00:01\r\u001b[K     |██████████▋                     | 51kB 7.6MB/s eta 0:00:01\r\u001b[K     |████████████▊                   | 61kB 8.1MB/s eta 0:00:01\r\u001b[K     |██████████████▉                 | 71kB 8.4MB/s eta 0:00:01\r\u001b[K     |█████████████████               | 81kB 8.6MB/s eta 0:00:01\r\u001b[K     |███████████████████             | 92kB 8.4MB/s eta 0:00:01\r\u001b[K     |█████████████████████▏          | 102kB 9.0MB/s eta 0:00:01\r\u001b[K     |███████████████████████▎        | 112kB 9.0MB/s eta 0:00:01\r\u001b[K     |█████████████████████████▍      | 122kB 9.0MB/s eta 0:00:01\r\u001b[K     |███████████████████████████▌    | 133kB 9.0MB/s eta 0:00:01\r\u001b[K     |█████████████████████████████▋  | 143kB 9.0MB/s eta 0:00:01\r\u001b[K     |███████████████████████████████▊| 153kB 9.0MB/s eta 0:00:01\r\u001b[K     |████████████████████████████████| 163kB 9.0MB/s \n",
            "\u001b[?25h\u001b[?25l\r\u001b[K     |████████                        | 10kB 30.0MB/s eta 0:00:01\r\u001b[K     |███████████████▉                | 20kB 34.8MB/s eta 0:00:01\r\u001b[K     |███████████████████████▊        | 30kB 38.7MB/s eta 0:00:01\r\u001b[K     |███████████████████████████████▊| 40kB 30.8MB/s eta 0:00:01\r\u001b[K     |████████████████████████████████| 51kB 8.2MB/s \n",
            "\u001b[?25h"
          ],
          "name": "stdout"
        }
      ]
    },
    {
      "cell_type": "code",
      "metadata": {
        "id": "P3Ic_pclEOWd",
        "outputId": "6d0f9943-89e2-4c2c-cb20-99eb4bd62436",
        "colab": {
          "base_uri": "https://localhost:8080/"
        }
      },
      "source": [
        "import tensorflow as tf\n",
        "from cleverhans.future.tf2.attacks import fast_gradient_method\n",
        "from tensorflow.keras.optimizers import SGD\n",
        "from tensorflow.keras.callbacks import Callback, LearningRateScheduler, EarlyStopping\n",
        "from sklearn.model_selection import train_test_split\n",
        "import pandas as pd\n",
        "import numpy as np\n",
        "from sklearn.preprocessing import LabelEncoder\n",
        "from tensorflow.keras.utils import to_categorical\n",
        "\n",
        "from sklearn.model_selection import  KFold\n",
        "import gzip\n",
        "import pickle\n",
        "import numpy as np\n",
        "\n",
        "import warnings\n",
        "warnings.filterwarnings(\"ignore\")\n",
        "\n",
        "print(\"\\nTensorflow Version: \" + tf.__version__)\n",
        "\n",
        "\n",
        "# defined utility functions\n",
        "from preprocessing import preprocessing_data\n",
        "\n",
        "from _utility import lrate, get_adversarial_examples, print_test"
      ],
      "execution_count": null,
      "outputs": [
        {
          "output_type": "stream",
          "text": [
            "\n",
            "Tensorflow Version: 2.3.0\n"
          ],
          "name": "stdout"
        }
      ]
    },
    {
      "cell_type": "code",
      "metadata": {
        "id": "sPqR9xN9EOWp"
      },
      "source": [
        "epsilon_list = [i/1000 for i in range(0,33)]"
      ],
      "execution_count": null,
      "outputs": []
    },
    {
      "cell_type": "code",
      "metadata": {
        "id": "vcvhi2xNEOWu"
      },
      "source": [
        "def read_data():\n",
        "    with open(\"data.pz\", 'rb') as file_:\n",
        "        with gzip.GzipFile(fileobj=file_) as gzf:\n",
        "            data = pickle.load(gzf, encoding='latin1', fix_imports=True)\n",
        "    return data\n",
        "data = read_data()"
      ],
      "execution_count": null,
      "outputs": []
    },
    {
      "cell_type": "code",
      "metadata": {
        "id": "tYtYNWlmE-yj"
      },
      "source": [
        "X, y = preprocessing_data(data)\n",
        "X_train, X_test, Y_train, y_test = train_test_split(X, y, test_size = 0.1)\n",
        "x_train, x_val, y_train, y_val = train_test_split(X_train, Y_train, test_size = 0.1)"
      ],
      "execution_count": null,
      "outputs": []
    },
    {
      "cell_type": "code",
      "metadata": {
        "id": "jYqrfPnwFEV8",
        "outputId": "5efb4899-a644-4609-896e-2e3b0d90e232",
        "colab": {
          "base_uri": "https://localhost:8080/"
        }
      },
      "source": [
        "model_Adv_Resnet = tf.keras.models.load_model(\"ResNet_Adv.h5\")\n",
        "column_2 = []\n",
        "evaluation_accuracy_2 = []\n",
        "\n",
        "for eps in epsilon_list:\n",
        "  if eps !=0:\n",
        "    x_adv  =  get_adversarial_examples(model_Adv_Resnet, X_test, y_test, eps)\n",
        "    test = model_Adv_Resnet.evaluate(x_adv, y_test)\n",
        "    SNR = 20*np.log10(np.linalg.norm(X_test)/np.linalg.norm(X_test-x_adv))\n",
        "    column_2.append(SNR)\n",
        "    evaluation_accuracy_2.append(test[1])\n"
      ],
      "execution_count": null,
      "outputs": [
        {
          "output_type": "stream",
          "text": [
            "18/18 [==============================] - 0s 6ms/step - loss: 0.6304 - acc: 0.8080\n",
            "18/18 [==============================] - 0s 4ms/step - loss: 0.6543 - acc: 0.7958\n",
            "18/18 [==============================] - 0s 4ms/step - loss: 0.6790 - acc: 0.7906\n",
            "18/18 [==============================] - 0s 4ms/step - loss: 0.7045 - acc: 0.7801\n",
            "18/18 [==============================] - 0s 4ms/step - loss: 0.7309 - acc: 0.7679\n",
            "18/18 [==============================] - 0s 4ms/step - loss: 0.7581 - acc: 0.7644\n",
            "18/18 [==============================] - 0s 4ms/step - loss: 0.7860 - acc: 0.7417\n",
            "18/18 [==============================] - 0s 3ms/step - loss: 0.8149 - acc: 0.7330\n",
            "18/18 [==============================] - 0s 4ms/step - loss: 0.8445 - acc: 0.7243\n",
            "18/18 [==============================] - 0s 3ms/step - loss: 0.8750 - acc: 0.7103\n",
            "18/18 [==============================] - 0s 4ms/step - loss: 0.9061 - acc: 0.7016\n",
            "18/18 [==============================] - 0s 3ms/step - loss: 0.9378 - acc: 0.6911\n",
            "18/18 [==============================] - 0s 4ms/step - loss: 0.9701 - acc: 0.6789\n",
            "18/18 [==============================] - 0s 3ms/step - loss: 1.0029 - acc: 0.6719\n",
            "18/18 [==============================] - 0s 4ms/step - loss: 1.0363 - acc: 0.6597\n",
            "18/18 [==============================] - 0s 4ms/step - loss: 1.0703 - acc: 0.6475\n",
            "18/18 [==============================] - 0s 3ms/step - loss: 1.1048 - acc: 0.6230\n",
            "18/18 [==============================] - 0s 4ms/step - loss: 1.1399 - acc: 0.6143\n",
            "18/18 [==============================] - 0s 4ms/step - loss: 1.1754 - acc: 0.5969\n",
            "18/18 [==============================] - 0s 4ms/step - loss: 1.2113 - acc: 0.5899\n",
            "18/18 [==============================] - 0s 3ms/step - loss: 1.2476 - acc: 0.5794\n",
            "18/18 [==============================] - 0s 3ms/step - loss: 1.2841 - acc: 0.5724\n",
            "18/18 [==============================] - 0s 3ms/step - loss: 1.3209 - acc: 0.5637\n",
            "18/18 [==============================] - 0s 4ms/step - loss: 1.3580 - acc: 0.5567\n",
            "18/18 [==============================] - 0s 3ms/step - loss: 1.3952 - acc: 0.5497\n",
            "18/18 [==============================] - 0s 4ms/step - loss: 1.4328 - acc: 0.5410\n",
            "18/18 [==============================] - 0s 4ms/step - loss: 1.4705 - acc: 0.5288\n",
            "18/18 [==============================] - 0s 4ms/step - loss: 1.5084 - acc: 0.5236\n",
            "18/18 [==============================] - 0s 4ms/step - loss: 1.5465 - acc: 0.5201\n",
            "18/18 [==============================] - 0s 3ms/step - loss: 1.5847 - acc: 0.5061\n",
            "18/18 [==============================] - 0s 4ms/step - loss: 1.6231 - acc: 0.5061\n",
            "18/18 [==============================] - 0s 3ms/step - loss: 1.6616 - acc: 0.4956\n"
          ],
          "name": "stdout"
        }
      ]
    },
    {
      "cell_type": "code",
      "metadata": {
        "id": "o2iZ1K4xT7vE",
        "outputId": "4c9505c6-fb87-4388-8bf9-69278e7372d2",
        "colab": {
          "base_uri": "https://localhost:8080/"
        }
      },
      "source": [
        "column = []\n",
        "evaluation_accuracy = []\n",
        "model_Resnet = tf.keras.models.load_model(\"ResNet_non_Adv.h5\")\n",
        "\n",
        "for eps in epsilon_list:\n",
        "  if eps !=0:\n",
        "    x_adv  =  get_adversarial_examples(model_Resnet,X_test, y_test, eps)\n",
        "    test = model_Resnet.evaluate(x_adv, y_test)\n",
        "    SNR = 20*np.log10(np.linalg.norm(X_test)/np.linalg.norm(X_test-x_adv))\n",
        "    column.append(SNR)\n",
        "    evaluation_accuracy.append(test[1])\n"
      ],
      "execution_count": null,
      "outputs": [
        {
          "output_type": "stream",
          "text": [
            "18/18 [==============================] - 0s 3ms/step - loss: 0.6386 - acc: 0.8202\n",
            "18/18 [==============================] - 0s 4ms/step - loss: 0.6869 - acc: 0.7976\n",
            "18/18 [==============================] - 0s 4ms/step - loss: 0.7384 - acc: 0.7714\n",
            "18/18 [==============================] - 0s 3ms/step - loss: 0.7932 - acc: 0.7574\n",
            "18/18 [==============================] - 0s 3ms/step - loss: 0.8509 - acc: 0.7347\n",
            "18/18 [==============================] - 0s 4ms/step - loss: 0.9115 - acc: 0.7103\n",
            "18/18 [==============================] - 0s 3ms/step - loss: 0.9743 - acc: 0.6946\n",
            "18/18 [==============================] - 0s 4ms/step - loss: 1.0391 - acc: 0.6789\n",
            "18/18 [==============================] - 0s 3ms/step - loss: 1.1056 - acc: 0.6527\n",
            "18/18 [==============================] - 0s 3ms/step - loss: 1.1733 - acc: 0.6335\n",
            "18/18 [==============================] - 0s 4ms/step - loss: 1.2422 - acc: 0.6248\n",
            "18/18 [==============================] - 0s 4ms/step - loss: 1.3120 - acc: 0.6073\n",
            "18/18 [==============================] - 0s 4ms/step - loss: 1.3825 - acc: 0.5864\n",
            "18/18 [==============================] - 0s 4ms/step - loss: 1.4536 - acc: 0.5672\n",
            "18/18 [==============================] - 0s 4ms/step - loss: 1.5251 - acc: 0.5532\n",
            "18/18 [==============================] - 0s 4ms/step - loss: 1.5964 - acc: 0.5375\n",
            "18/18 [==============================] - 0s 3ms/step - loss: 1.6674 - acc: 0.5253\n",
            "18/18 [==============================] - 0s 3ms/step - loss: 1.7381 - acc: 0.5113\n",
            "18/18 [==============================] - 0s 4ms/step - loss: 1.8085 - acc: 0.4921\n",
            "18/18 [==============================] - 0s 4ms/step - loss: 1.8783 - acc: 0.4747\n",
            "18/18 [==============================] - 0s 3ms/step - loss: 1.9478 - acc: 0.4642\n",
            "18/18 [==============================] - 0s 4ms/step - loss: 2.0166 - acc: 0.4503\n",
            "18/18 [==============================] - 0s 3ms/step - loss: 2.0848 - acc: 0.4450\n",
            "18/18 [==============================] - 0s 4ms/step - loss: 2.1524 - acc: 0.4328\n",
            "18/18 [==============================] - 0s 4ms/step - loss: 2.2194 - acc: 0.4223\n",
            "18/18 [==============================] - 0s 4ms/step - loss: 2.2855 - acc: 0.4136\n",
            "18/18 [==============================] - 0s 4ms/step - loss: 2.3507 - acc: 0.3997\n",
            "18/18 [==============================] - 0s 4ms/step - loss: 2.4150 - acc: 0.3962\n",
            "18/18 [==============================] - 0s 4ms/step - loss: 2.4785 - acc: 0.3839\n",
            "18/18 [==============================] - 0s 3ms/step - loss: 2.5410 - acc: 0.3770\n",
            "18/18 [==============================] - 0s 4ms/step - loss: 2.6024 - acc: 0.3665\n",
            "18/18 [==============================] - 0s 3ms/step - loss: 2.6628 - acc: 0.3630\n"
          ],
          "name": "stdout"
        }
      ]
    },
    {
      "cell_type": "code",
      "metadata": {
        "id": "6sdUdzSCEOW7",
        "outputId": "e7fcc8b8-cac8-4879-f8c8-5712483539db",
        "colab": {
          "base_uri": "https://localhost:8080/",
          "height": 325
        }
      },
      "source": [
        "import matplotlib.pyplot as plt\n",
        "\n",
        "legend = [\"ResNet\", \"ResNet_Adv\"]\n",
        "#plt.plot(column, resnet, 'o-')\n",
        "plt.plot(column, evaluation_accuracy, 'o-')\n",
        "#plt.plot(column, parseval, 'o-')\n",
        "plt.plot(column_2, evaluation_accuracy_2, 'o-')\n",
        "plt.title(\"The Performance of the models \\n for varios magnitudes \\n adversarial noise\")\n",
        "plt.ylabel('accuracy')\n",
        "plt.xlabel('SNR')\n",
        "plt.legend(legend, loc='lower right')\n",
        "plt.show()"
      ],
      "execution_count": null,
      "outputs": [
        {
          "output_type": "display_data",
          "data": {
            "image/png": "[encoded data removed]",
            "text/plain": [
              "<Figure size 432x288 with 1 Axes>"
            ]
          },
          "metadata": {
            "tags": [],
            "needs_background": "light"
          }
        }
      ]
    }
  ]
}