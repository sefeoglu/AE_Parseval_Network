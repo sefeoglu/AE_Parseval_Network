{
 "cells": [
  {
   "cell_type": "markdown",
   "metadata": {
    "id": "kkK5yOtaEOWL"
   },
   "source": [
    "# <font color=\"purple\">SNR Result</font>"
   ]
  },
  {
   "cell_type": "code",
   "execution_count": 1,
   "metadata": {
    "id": "scrFZBY5ErKc"
   },
   "outputs": [],
   "source": [
    "!pip install -qq -e git+http://github.com/tensorflow/cleverhans.git#egg=cleverhans\n",
    "import sys\n",
    "sys.path.append('/content/src/cleverhans')\n",
    "import cleverhans\n",
    "folder_name = \"./adversarial_examples_parseval_net/src/logs/saved_models/\"\n",
    "folder_name = \"\""
   ]
  },
  {
   "cell_type": "code",
   "execution_count": 2,
   "metadata": {
    "colab": {
     "base_uri": "https://localhost:8080/"
    },
    "id": "P3Ic_pclEOWd",
    "outputId": "dce0b9e8-8358-4fd5-c085-7c0dd12a2052"
   },
   "outputs": [
    {
     "name": "stdout",
     "output_type": "stream",
     "text": [
      "\n",
      "Tensorflow Version: 2.4.0\n"
     ]
    }
   ],
   "source": [
    "import tensorflow as tf\n",
    "from cleverhans.future.tf2.attacks import fast_gradient_method\n",
    "from tensorflow.keras.optimizers import SGD\n",
    "from tensorflow.keras.callbacks import Callback, LearningRateScheduler, EarlyStopping\n",
    "from sklearn.model_selection import train_test_split\n",
    "import pandas as pd\n",
    "import numpy as np\n",
    "from sklearn.preprocessing import LabelEncoder\n",
    "from tensorflow.keras.utils import to_categorical\n",
    "\n",
    "from sklearn.model_selection import  KFold\n",
    "import gzip\n",
    "import pickle\n",
    "import numpy as np\n",
    "\n",
    "import warnings\n",
    "warnings.filterwarnings(\"ignore\")\n",
    "\n",
    "print(\"\\nTensorflow Version: \" + tf.__version__)\n",
    "\n",
    "\n",
    "# defined utility functions\n",
    "#from preprocessing import preprocessing_data\n",
    "\n",
    "from _utility import lrate, get_adversarial_examples, print_test\n",
    "from wresnet import WideResidualNetwork\n",
    "from parsevalnet import ParsevalNetwork\n",
    "import pandas as pd\n",
    " "
   ]
  },
  {
   "cell_type": "code",
   "execution_count": 3,
   "metadata": {
    "id": "sPqR9xN9EOWp"
   },
   "outputs": [],
   "source": [
    "epsilon_list = [i/1000 for i in range(0,33)]"
   ]
  },
  {
   "cell_type": "code",
   "execution_count": 4,
   "metadata": {
    "colab": {
     "base_uri": "https://localhost:8080/"
    },
    "id": "3A8qMxGap02K",
    "outputId": "45945217-1074-4f61-c682-d0494f32864e"
   },
   "outputs": [
    {
     "name": "stdout",
     "output_type": "stream",
     "text": [
      "Requirement already satisfied: hickle in /usr/local/lib/python3.6/dist-packages (4.0.3)\n",
      "Requirement already satisfied: numpy>=1.8 in /usr/local/lib/python3.6/dist-packages (from hickle) (1.19.4)\n",
      "Requirement already satisfied: dill>=0.3.0 in /usr/local/lib/python3.6/dist-packages (from hickle) (0.3.3)\n",
      "Requirement already satisfied: h5py<3.0.0,>=2.8.0 in /usr/local/lib/python3.6/dist-packages (from hickle) (2.10.0)\n",
      "Requirement already satisfied: six>=1.11.0 in /usr/local/lib/python3.6/dist-packages (from hickle) (1.15.0)\n"
     ]
    }
   ],
   "source": [
    "!pip install hickle\n",
    "import hickle as hkl"
   ]
  },
  {
   "cell_type": "code",
   "execution_count": 5,
   "metadata": {
    "id": "tYtYNWlmE-yj"
   },
   "outputs": [],
   "source": [
    "data = hkl.load(\"data.hkl\")\n",
    "X_train, X_test, Y_train, y_test = data['xtrain'], data['xtest'], data['ytrain'], data['ytest']"
   ]
  },
  {
   "cell_type": "code",
   "execution_count": 50,
   "metadata": {
    "colab": {
     "base_uri": "https://localhost:8080/"
    },
    "id": "lxrpq-u_cSEd",
    "outputId": "5941fc7a-05d6-4ad6-d75c-0b90aacf84be"
   },
   "outputs": [
    {
     "name": "stdout",
     "output_type": "stream",
     "text": [
      "Parseval  Network-16-1 created.\n",
      "Parseval  Network-16-1 created.\n",
      "conv2:channel:  -1\n",
      "Wide Residual Network-16-1 created.\n",
      "conv2:channel:  -1\n",
      "Wide Residual Network-16-1 created.\n"
     ]
    }
   ],
   "source": [
    "init = (32, 32,1)\n",
    "parseval = ParsevalNetwork(init, 0.0001, 0.9, nb_classes=4, N=2, k=1, dropout=0.0)\n",
    "resnet = WideResidualNetwork(init, 0.0001, 0.9, nb_classes=4, N=2, k=1, dropout=0.0)\n",
    "BS = 64\n",
    "init = (32, 32,1)\n",
    "sgd = SGD(lr=0.1, momentum=0.9)\n",
    "parseval_model = parseval.create_wide_residual_network()\n",
    "parseval_model_da = parseval.create_wide_residual_network()\n",
    "resnet_model = resnet.create_wide_residual_network()\n",
    "resnet_model_da = resnet.create_wide_residual_network()"
   ]
  },
  {
   "cell_type": "code",
   "execution_count": 56,
   "metadata": {
    "id": "YA4uSa__VoEe"
   },
   "outputs": [],
   "source": [
    "def evaluation_result(frame, model, model_da, index):\n",
    "    test = model.evaluate(X_test, y_test, verbose = 0.0)\n",
    "    test_da = model_da.evaluate(X_test, y_test, verbose = 0.0)\n",
    "    row = {\"acc\":test[1], \"acc_da\": test_da[1]}\n",
    "    frame = frame.append(row,  ignore_index=True)\n",
    "    for i, epsilon in enumerate(epsilon_list):\n",
    "        x_adv  =  get_adversarial_examples(model,X_test, y_test, epsilon)\n",
    "        SNR = 20*np.log10(np.linalg.norm(X_test)/np.linalg.norm(X_test-x_adv))\n",
    "        test = model.evaluate(x_adv, y_test, verbose = 0.0)\n",
    "        test_da = model_da.evaluate(x_adv, y_test, verbose = 0.0)\n",
    "        row = {\"acc\":test[1], \"acc_da\": test_da[1]}\n",
    "        frame = frame.append(row,  ignore_index=True)\n",
    "    return frame"
   ]
  },
  {
   "cell_type": "code",
   "execution_count": 13,
   "metadata": {
    "id": "azXld8ReZcGG"
   },
   "outputs": [],
   "source": [
    "df_parseval_1 = pd.DataFrame()\n",
    "df_parseval_2 = pd.DataFrame()\n",
    "df_parseval_3 = pd.DataFrame()\n",
    "df_parseval_4 = pd.DataFrame()\n",
    "df_parseval_5 = pd.DataFrame()\n",
    "df_parseval_6 = pd.DataFrame()\n",
    "df_parseval_7 = pd.DataFrame()\n",
    "df_parseval_8 = pd.DataFrame()\n",
    "df_parseval_9 = pd.DataFrame()\n",
    "df_parseval_0 = pd.DataFrame()\n"
   ]
  },
  {
   "cell_type": "code",
   "execution_count": 14,
   "metadata": {
    "id": "-87OuDRbtLbW"
   },
   "outputs": [],
   "source": [
    "list_df = []\n",
    "list_df.append(df_parseval_0)\n",
    "list_df.append(df_parseval_1)\n",
    "list_df.append(df_parseval_2)\n",
    "list_df.append(df_parseval_3)\n",
    "list_df.append(df_parseval_4)\n",
    "list_df.append(df_parseval_5)\n",
    "list_df.append(df_parseval_6)\n",
    "list_df.append(df_parseval_7)\n",
    "list_df.append(df_parseval_8)\n",
    "list_df.append(df_parseval_9)"
   ]
  },
  {
   "cell_type": "code",
   "execution_count": 31,
   "metadata": {
    "id": "tx9dfUCwUoU9"
   },
   "outputs": [],
   "source": [
    "column_name = \"test_\"\n",
    "column_name_da = \"test_da_\"\n",
    "\n",
    "for i in range(10):\n",
    "    model_name = \"Parseval_\"+str(i)+\".h5\"\n",
    "    model_name_da = \"Parseval_da_\"+str(i)+\".h5\"\n",
    "    parseval_model.load_weights(model_name)\n",
    "    parseval_model_da.load_weights(model_name_da)\n",
    "    parseval_model.compile(loss=\"categorical_crossentropy\", optimizer=sgd, metrics=[\"acc\"])\n",
    "    parseval_model_da.compile(loss=\"categorical_crossentropy\", optimizer=sgd, metrics=[\"acc\"])\n",
    "    list_df[i] = evaluation_result(list_df[i], parseval_model, parseval_model_da, i)"
   ]
  },
  {
   "cell_type": "code",
   "execution_count": 44,
   "metadata": {
    "id": "TB2Qf4h-uCEW"
   },
   "outputs": [],
   "source": [
    "mean_acc = (list_df[0][\"acc\"]+list_df[1][\"acc\"]+list_df[2][\"acc\"]+list_df[3][\"acc\"]+list_df[4][\"acc\"]+list_df[5][\"acc\"]+list_df[6][\"acc\"]+list_df[7][\"acc\"]+list_df[8][\"acc\"]+list_df[9][\"acc\"])/10"
   ]
  },
  {
   "cell_type": "code",
   "execution_count": 45,
   "metadata": {
    "id": "Ih9SU1Q91zP9"
   },
   "outputs": [],
   "source": [
    "mean_acc_da = (list_df[0][\"acc_da\"]+list_df[1][\"acc_da\"]+list_df[2][\"acc_da\"]+list_df[3][\"acc_da\"]+list_df[4][\"acc_da\"]+list_df[5][\"acc_da\"]+list_df[6][\"acc_da\"]+list_df[7][\"acc_da\"]+list_df[8][\"acc_da\"]+list_df[9][\"acc_da\"])/10"
   ]
  },
  {
   "cell_type": "code",
   "execution_count": null,
   "metadata": {
    "id": "STiMuVEM2LaY"
   },
   "outputs": [],
   "source": []
  },
  {
   "cell_type": "code",
   "execution_count": 48,
   "metadata": {
    "id": "I3H-GhGMy88S"
   },
   "outputs": [],
   "source": [
    "df_resnet_1 = pd.DataFrame()\n",
    "df_resnet_2 = pd.DataFrame()\n",
    "df_resnet_3 = pd.DataFrame()\n",
    "df_resnet_4 = pd.DataFrame()\n",
    "df_resnet_5 = pd.DataFrame()\n",
    "df_resnet_6 = pd.DataFrame()\n",
    "df_resnet_7 = pd.DataFrame()\n",
    "df_resnet_8 = pd.DataFrame()\n",
    "df_resnet_9 = pd.DataFrame()\n",
    "df_resnet_0 = pd.DataFrame()\n",
    "list_df_r = []\n",
    "list_df_r.append(df_resnet_0)\n",
    "list_df_r.append(df_resnet_1)\n",
    "list_df_r.append(df_resnet_2)\n",
    "list_df_r.append(df_resnet_3)\n",
    "list_df_r.append(df_resnet_4)\n",
    "list_df_r.append(df_resnet_5)\n",
    "list_df_r.append(df_resnet_6)\n",
    "list_df_r.append(df_resnet_7)\n",
    "list_df_r.append(df_resnet_8)\n",
    "list_df_r.append(df_resnet_9)"
   ]
  },
  {
   "cell_type": "code",
   "execution_count": 62,
   "metadata": {
    "id": "CDrVZvnMfyGe"
   },
   "outputs": [],
   "source": [
    "column_name = \"test_\"\n",
    "column_name_da = \"test_da_\"\n",
    "\n",
    "for i in range(10):\n",
    "    model_name = \"ResNet_\"+str(i)+\".h5\"\n",
    "    model_name_da = \"ResNet_da_\"+str(i)+\".h5\"\n",
    "    resnet_model.load_weights(model_name)\n",
    "    resnet_model_da.load_weights(model_name_da)\n",
    "    resnet_model.compile(loss=\"categorical_crossentropy\", optimizer=sgd, metrics=[\"acc\"])\n",
    "    resnet_model_da.compile(loss=\"categorical_crossentropy\", optimizer=sgd, metrics=[\"acc\"])\n",
    "    list_df_r[i] = evaluation_result(list_df_r[i], resnet_model, resnet_model_da, i)\n"
   ]
  },
  {
   "cell_type": "code",
   "execution_count": null,
   "metadata": {
    "id": "okr0CEf36OCR"
   },
   "outputs": [],
   "source": [
    "list_df_r[9]"
   ]
  },
  {
   "cell_type": "code",
   "execution_count": 65,
   "metadata": {
    "id": "Bi3ArlH7hFMr"
   },
   "outputs": [],
   "source": [
    "mean_acc_r = (list_df_r[0][\"acc\"]+list_df_r[1][\"acc\"]+list_df_r[2][\"acc\"]+list_df_r[3][\"acc\"]+list_df_r[4][\"acc\"]+list_df_r[5][\"acc\"]+list_df_r[6][\"acc\"]+list_df_r[7][\"acc\"]+list_df_r[8][\"acc\"]+list_df_r[9][\"acc\"])/10"
   ]
  },
  {
   "cell_type": "code",
   "execution_count": 66,
   "metadata": {
    "id": "-UMhh1Wv44Y7"
   },
   "outputs": [],
   "source": [
    "mean_acc_da_r = (list_df_r[0][\"acc_da\"]+list_df_r[1][\"acc_da\"]+list_df_r[2][\"acc_da\"]+list_df_r[3][\"acc_da\"]+list_df_r[4][\"acc_da\"]+list_df_r[5][\"acc_da\"]+list_df_r[6][\"acc_da\"]+list_df_r[7][\"acc_da\"]+list_df_r[8][\"acc_da\"]+list_df_r[9][\"acc_da\"])/10"
   ]
  },
  {
   "cell_type": "code",
   "execution_count": 89,
   "metadata": {
    "colab": {
     "base_uri": "https://localhost:8080/"
    },
    "id": "eGssN3tQ8CMA",
    "outputId": "11053619-f9a2-4bf4-fe98-ab424306c3bb"
   },
   "outputs": [
    {
     "data": {
      "text/plain": [
       "0.6956369936466217"
      ]
     },
     "execution_count": 89,
     "metadata": {
      "tags": []
     },
     "output_type": "execute_result"
    }
   ],
   "source": [
    "mean_acc_r[1]"
   ]
  },
  {
   "cell_type": "code",
   "execution_count": 93,
   "metadata": {
    "colab": {
     "base_uri": "https://localhost:8080/"
    },
    "id": "_ew1CSd783Vf",
    "outputId": "780738dd-0ff8-443c-ba10-57fcbd29e234"
   },
   "outputs": [
    {
     "data": {
      "text/plain": [
       "33"
      ]
     },
     "execution_count": 93,
     "metadata": {
      "tags": []
     },
     "output_type": "execute_result"
    }
   ],
   "source": [
    "len(mean_acc_da_r[1:])"
   ]
  },
  {
   "cell_type": "code",
   "execution_count": 100,
   "metadata": {
    "colab": {
     "base_uri": "https://localhost:8080/",
     "height": 325
    },
    "id": "6sdUdzSCEOW7",
    "outputId": "8bd4ed1f-8278-4fc6-bddf-e9968432843f"
   },
   "outputs": [
    {
     "data": {
      "image/png": "[encoded data removed]",
      "text/plain": [
       "<Figure size 432x288 with 1 Axes>"
      ]
     },
     "metadata": {
      "needs_background": "light",
      "tags": []
     },
     "output_type": "display_data"
    }
   ],
   "source": [
    "import matplotlib.pyplot as plt\n",
    "\n",
    "legend = [\"ResNet\", \"ResNet_da\", \"Parseval\", \"Parseval_da\"]\n",
    "plt.plot(list_df_r[0][\"SNR\"], mean_acc_r, 'o-')\n",
    "plt.plot(list_df_r[0][\"SNR\"], mean_acc_da_r, 'o-')\n",
    "\n",
    "plt.plot(list_df_r[0][\"SNR\"], mean_acc, 'o-')\n",
    "plt.plot(list_df_r[0][\"SNR\"], mean_acc_da, 'o-')\n",
    "\n",
    "plt.title(\"The Performance of the models \\n for varios magnitudes \\n adversarial noise\")\n",
    "plt.ylabel('mean acc of \\n 10 Folds CV')\n",
    "plt.xlabel('SNR')\n",
    "plt.legend(legend, loc='lower right')\n",
    "plt.show()"
   ]
  },
  {
   "cell_type": "code",
   "execution_count": 101,
   "metadata": {
    "id": "caEi935p-frB"
   },
   "outputs": [],
   "source": []
  },
  {
   "cell_type": "code",
   "execution_count": 119,
   "metadata": {
    "id": "cPqVCc2J-6GU"
   },
   "outputs": [],
   "source": [
    "import json\n",
    "for i in range(34):\n",
    "    with open(\"result.json\", mode='a', encoding='utf-8') as feedsjson:\n",
    "        data = {\"SNR\":list_df_r[0][\"SNR\"][i], \"mean_ResNet\":mean_acc_r[i],\"mean_ResNet_da\":mean_acc_da_r[i], \"mean_Parseval\":mean_acc[i],\"mean_Parseval_da\":mean_acc_da[i]}\n",
    "        feedsjson.write(json.dumps(data, ensure_ascii=False, indent=4))\n",
    "        feedsjson.close()"
   ]
  }
 ],
 "metadata": {
  "accelerator": "GPU",
  "colab": {
   "name": "SignalToNoiseRatio.ipynb",
   "provenance": []
  },
  "kernelspec": {
   "display_name": "Python 3",
   "language": "python",
   "name": "python3"
  },
  "language_info": {
   "codemirror_mode": {
    "name": "ipython",
    "version": 3
   },
   "file_extension": ".py",
   "mimetype": "text/x-python",
   "name": "python",
   "nbconvert_exporter": "python",
   "pygments_lexer": "ipython3",
   "version": "3.7.4"
  }
 },
 "nbformat": 4,
 "nbformat_minor": 1
}
