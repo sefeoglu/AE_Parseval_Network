{
 "cells": [
  {
   "cell_type": "markdown",
   "metadata": {
    "id": "kkK5yOtaEOWL"
   },
   "source": [
    "# <font color=\"purple\">SNR Result</font>"
   ]
  },
  {
   "cell_type": "code",
   "execution_count": 1,
   "metadata": {
    "id": "scrFZBY5ErKc"
   },
   "outputs": [],
   "source": [
    "!pip install -qq -e git+http://github.com/tensorflow/cleverhans.git#egg=cleverhans\n",
    "import sys\n",
    "sys.path.append('/content/src/cleverhans')\n",
    "import cleverhans\n",
    "folder_name = \"./adversarial_examples_parseval_net/src/logs/saved_models/\"\n",
    "folder_name = \"\""
   ]
  },
  {
   "cell_type": "code",
   "execution_count": 2,
   "metadata": {
    "colab": {
     "base_uri": "https://localhost:8080/"
    },
    "id": "P3Ic_pclEOWd",
    "outputId": "dce0b9e8-8358-4fd5-c085-7c0dd12a2052"
   },
   "outputs": [
    {
     "name": "stdout",
     "output_type": "stream",
     "text": [
      "\n",
      "Tensorflow Version: 2.4.0\n"
     ]
    }
   ],
   "source": [
<<<<<<< HEAD
    "import tensorflow as tf\n",
    "from cleverhans.future.tf2.attacks import fast_gradient_method\n",
    "from tensorflow.keras.optimizers import SGD\n",
    "from tensorflow.keras.callbacks import Callback, LearningRateScheduler, EarlyStopping\n",
    "from sklearn.model_selection import train_test_split\n",
    "import pandas as pd\n",
    "import numpy as np\n",
    "from sklearn.preprocessing import LabelEncoder\n",
    "from tensorflow.keras.utils import to_categorical\n",
    "\n",
    "from sklearn.model_selection import  KFold\n",
    "import gzip\n",
    "import pickle\n",
    "import numpy as np\n",
    "\n",
    "import warnings\n",
    "warnings.filterwarnings(\"ignore\")\n",
    "\n",
    "print(\"\\nTensorflow Version: \" + tf.__version__)\n",
    "\n",
    "\n",
    "# defined utility functions\n",
    "#from preprocessing import preprocessing_data\n",
    "\n",
    "from _utility import lrate, get_adversarial_examples, print_test\n",
    "from wresnet import WideResidualNetwork\n",
    "from parsevalnet import ParsevalNetwork\n",
    "import pandas as pd\n",
    " "
=======
    "column = [100,50,45,40,33,0]\n",
    "# add results\n",
    "resnet_adv = [0.69808, 0.66911, 0.667016, 0.659511, 0.634031,0]\n",
    "resnet = [0.696684, 0.647469, 0.616056, 0.558464, 0.438045,0]"
>>>>>>> parent of ec36834... change Expose and Slide
   ]
  },
  {
   "cell_type": "code",
   "execution_count": 3,
   "metadata": {
    "id": "sPqR9xN9EOWp"
   },
   "outputs": [],
   "source": [
    "epsilon_list = [i/1000 for i in range(0,33)]"
   ]
  },
  {
   "cell_type": "code",
   "execution_count": 4,
   "metadata": {
    "colab": {
     "base_uri": "https://localhost:8080/"
    },
    "id": "3A8qMxGap02K",
    "outputId": "45945217-1074-4f61-c682-d0494f32864e"
   },
   "outputs": [
    {
     "name": "stdout",
     "output_type": "stream",
     "text": [
      "Requirement already satisfied: hickle in /usr/local/lib/python3.6/dist-packages (4.0.3)\n",
      "Requirement already satisfied: numpy>=1.8 in /usr/local/lib/python3.6/dist-packages (from hickle) (1.19.4)\n",
      "Requirement already satisfied: dill>=0.3.0 in /usr/local/lib/python3.6/dist-packages (from hickle) (0.3.3)\n",
      "Requirement already satisfied: h5py<3.0.0,>=2.8.0 in /usr/local/lib/python3.6/dist-packages (from hickle) (2.10.0)\n",
      "Requirement already satisfied: six>=1.11.0 in /usr/local/lib/python3.6/dist-packages (from hickle) (1.15.0)\n"
     ]
    }
   ],
   "source": [
    "!pip install hickle\n",
    "import hickle as hkl"
   ]
  },
  {
   "cell_type": "code",
   "execution_count": 5,
   "metadata": {
    "id": "tYtYNWlmE-yj"
   },
   "outputs": [],
   "source": [
    "data = hkl.load(\"data.hkl\")\n",
    "X_train, X_test, Y_train, y_test = data['xtrain'], data['xtest'], data['ytrain'], data['ytest']"
   ]
  },
  {
   "cell_type": "code",
   "execution_count": 50,
   "metadata": {
    "colab": {
     "base_uri": "https://localhost:8080/"
    },
    "id": "lxrpq-u_cSEd",
    "outputId": "5941fc7a-05d6-4ad6-d75c-0b90aacf84be"
   },
   "outputs": [
    {
     "name": "stdout",
     "output_type": "stream",
     "text": [
      "Parseval  Network-16-1 created.\n",
      "Parseval  Network-16-1 created.\n",
      "conv2:channel:  -1\n",
      "Wide Residual Network-16-1 created.\n",
      "conv2:channel:  -1\n",
      "Wide Residual Network-16-1 created.\n"
     ]
    }
   ],
   "source": [
    "init = (32, 32,1)\n",
    "parseval = ParsevalNetwork(init, 0.0001, 0.9, nb_classes=4, N=2, k=1, dropout=0.0)\n",
    "resnet = WideResidualNetwork(init, 0.0001, 0.9, nb_classes=4, N=2, k=1, dropout=0.0)\n",
    "BS = 64\n",
    "init = (32, 32,1)\n",
    "sgd = SGD(lr=0.1, momentum=0.9)\n",
    "parseval_model = parseval.create_wide_residual_network()\n",
    "parseval_model_da = parseval.create_wide_residual_network()\n",
    "resnet_model = resnet.create_wide_residual_network()\n",
    "resnet_model_da = resnet.create_wide_residual_network()"
   ]
  },
  {
   "cell_type": "code",
   "execution_count": 56,
   "metadata": {
    "id": "YA4uSa__VoEe"
   },
   "outputs": [],
   "source": [
    "def evaluation_result(frame, model, model_da, index):\n",
    "    test = model.evaluate(X_test, y_test, verbose = 0.0)\n",
    "    test_da = model_da.evaluate(X_test, y_test, verbose = 0.0)\n",
    "    row = {\"acc\":test[1], \"acc_da\": test_da[1]}\n",
    "    frame = frame.append(row,  ignore_index=True)\n",
    "    for i, epsilon in enumerate(epsilon_list):\n",
    "        x_adv  =  get_adversarial_examples(model,X_test, y_test, epsilon)\n",
    "        SNR = 20*np.log10(np.linalg.norm(X_test)/np.linalg.norm(X_test-x_adv))\n",
    "        test = model.evaluate(x_adv, y_test, verbose = 0.0)\n",
    "        test_da = model_da.evaluate(x_adv, y_test, verbose = 0.0)\n",
    "        row = {\"acc\":test[1], \"acc_da\": test_da[1]}\n",
    "        frame = frame.append(row,  ignore_index=True)\n",
    "    return frame"
   ]
  },
  {
   "cell_type": "code",
   "execution_count": 13,
   "metadata": {
    "id": "azXld8ReZcGG"
   },
   "outputs": [],
   "source": [
    "df_parseval_1 = pd.DataFrame()\n",
    "df_parseval_2 = pd.DataFrame()\n",
    "df_parseval_3 = pd.DataFrame()\n",
    "df_parseval_4 = pd.DataFrame()\n",
    "df_parseval_5 = pd.DataFrame()\n",
    "df_parseval_6 = pd.DataFrame()\n",
    "df_parseval_7 = pd.DataFrame()\n",
    "df_parseval_8 = pd.DataFrame()\n",
    "df_parseval_9 = pd.DataFrame()\n",
    "df_parseval_0 = pd.DataFrame()\n"
   ]
  },
  {
   "cell_type": "code",
   "execution_count": 14,
   "metadata": {
    "id": "-87OuDRbtLbW"
   },
   "outputs": [],
   "source": [
    "list_df = []\n",
    "list_df.append(df_parseval_0)\n",
    "list_df.append(df_parseval_1)\n",
    "list_df.append(df_parseval_2)\n",
    "list_df.append(df_parseval_3)\n",
    "list_df.append(df_parseval_4)\n",
    "list_df.append(df_parseval_5)\n",
    "list_df.append(df_parseval_6)\n",
    "list_df.append(df_parseval_7)\n",
    "list_df.append(df_parseval_8)\n",
    "list_df.append(df_parseval_9)"
   ]
  },
  {
   "cell_type": "code",
   "execution_count": 31,
   "metadata": {
    "id": "tx9dfUCwUoU9"
   },
   "outputs": [],
   "source": [
    "column_name = \"test_\"\n",
    "column_name_da = \"test_da_\"\n",
    "\n",
    "for i in range(10):\n",
    "    model_name = \"Parseval_\"+str(i)+\".h5\"\n",
    "    model_name_da = \"Parseval_da_\"+str(i)+\".h5\"\n",
    "    parseval_model.load_weights(model_name)\n",
    "    parseval_model_da.load_weights(model_name_da)\n",
    "    parseval_model.compile(loss=\"categorical_crossentropy\", optimizer=sgd, metrics=[\"acc\"])\n",
    "    parseval_model_da.compile(loss=\"categorical_crossentropy\", optimizer=sgd, metrics=[\"acc\"])\n",
    "    list_df[i] = evaluation_result(list_df[i], parseval_model, parseval_model_da, i)"
   ]
  },
  {
   "cell_type": "code",
   "execution_count": 44,
   "metadata": {
    "id": "TB2Qf4h-uCEW"
   },
   "outputs": [],
   "source": [
    "mean_acc = (list_df[0][\"acc\"]+list_df[1][\"acc\"]+list_df[2][\"acc\"]+list_df[3][\"acc\"]+list_df[4][\"acc\"]+list_df[5][\"acc\"]+list_df[6][\"acc\"]+list_df[7][\"acc\"]+list_df[8][\"acc\"]+list_df[9][\"acc\"])/10"
   ]
  },
  {
   "cell_type": "code",
   "execution_count": 45,
   "metadata": {
    "id": "Ih9SU1Q91zP9"
   },
   "outputs": [],
   "source": [
    "mean_acc_da = (list_df[0][\"acc_da\"]+list_df[1][\"acc_da\"]+list_df[2][\"acc_da\"]+list_df[3][\"acc_da\"]+list_df[4][\"acc_da\"]+list_df[5][\"acc_da\"]+list_df[6][\"acc_da\"]+list_df[7][\"acc_da\"]+list_df[8][\"acc_da\"]+list_df[9][\"acc_da\"])/10"
   ]
  },
  {
   "cell_type": "code",
   "execution_count": null,
   "metadata": {
    "id": "STiMuVEM2LaY"
   },
   "outputs": [],
   "source": []
  },
  {
   "cell_type": "code",
   "execution_count": 48,
   "metadata": {
    "id": "I3H-GhGMy88S"
   },
   "outputs": [],
   "source": [
    "df_resnet_1 = pd.DataFrame()\n",
    "df_resnet_2 = pd.DataFrame()\n",
    "df_resnet_3 = pd.DataFrame()\n",
    "df_resnet_4 = pd.DataFrame()\n",
    "df_resnet_5 = pd.DataFrame()\n",
    "df_resnet_6 = pd.DataFrame()\n",
    "df_resnet_7 = pd.DataFrame()\n",
    "df_resnet_8 = pd.DataFrame()\n",
    "df_resnet_9 = pd.DataFrame()\n",
    "df_resnet_0 = pd.DataFrame()\n",
    "list_df_r = []\n",
    "list_df_r.append(df_resnet_0)\n",
    "list_df_r.append(df_resnet_1)\n",
    "list_df_r.append(df_resnet_2)\n",
    "list_df_r.append(df_resnet_3)\n",
    "list_df_r.append(df_resnet_4)\n",
    "list_df_r.append(df_resnet_5)\n",
    "list_df_r.append(df_resnet_6)\n",
    "list_df_r.append(df_resnet_7)\n",
    "list_df_r.append(df_resnet_8)\n",
    "list_df_r.append(df_resnet_9)"
   ]
  },
  {
   "cell_type": "code",
   "execution_count": 62,
   "metadata": {
    "id": "CDrVZvnMfyGe"
   },
   "outputs": [],
   "source": [
    "column_name = \"test_\"\n",
    "column_name_da = \"test_da_\"\n",
    "\n",
    "for i in range(10):\n",
    "    model_name = \"ResNet_\"+str(i)+\".h5\"\n",
    "    model_name_da = \"ResNet_da_\"+str(i)+\".h5\"\n",
    "    resnet_model.load_weights(model_name)\n",
    "    resnet_model_da.load_weights(model_name_da)\n",
    "    resnet_model.compile(loss=\"categorical_crossentropy\", optimizer=sgd, metrics=[\"acc\"])\n",
    "    resnet_model_da.compile(loss=\"categorical_crossentropy\", optimizer=sgd, metrics=[\"acc\"])\n",
    "    list_df_r[i] = evaluation_result(list_df_r[i], resnet_model, resnet_model_da, i)\n"
   ]
  },
  {
   "cell_type": "code",
   "execution_count": null,
   "metadata": {
    "id": "okr0CEf36OCR"
   },
   "outputs": [],
   "source": [
    "list_df_r[9]"
   ]
  },
  {
   "cell_type": "code",
<<<<<<< HEAD
   "execution_count": 65,
   "metadata": {
    "id": "Bi3ArlH7hFMr"
   },
   "outputs": [],
   "source": [
    "mean_acc_r = (list_df_r[0][\"acc\"]+list_df_r[1][\"acc\"]+list_df_r[2][\"acc\"]+list_df_r[3][\"acc\"]+list_df_r[4][\"acc\"]+list_df_r[5][\"acc\"]+list_df_r[6][\"acc\"]+list_df_r[7][\"acc\"]+list_df_r[8][\"acc\"]+list_df_r[9][\"acc\"])/10"
   ]
  },
  {
   "cell_type": "code",
   "execution_count": 66,
   "metadata": {
    "id": "-UMhh1Wv44Y7"
   },
   "outputs": [],
   "source": [
    "mean_acc_da_r = (list_df_r[0][\"acc_da\"]+list_df_r[1][\"acc_da\"]+list_df_r[2][\"acc_da\"]+list_df_r[3][\"acc_da\"]+list_df_r[4][\"acc_da\"]+list_df_r[5][\"acc_da\"]+list_df_r[6][\"acc_da\"]+list_df_r[7][\"acc_da\"]+list_df_r[8][\"acc_da\"]+list_df_r[9][\"acc_da\"])/10"
   ]
  },
  {
   "cell_type": "code",
   "execution_count": 89,
   "metadata": {
    "colab": {
     "base_uri": "https://localhost:8080/"
    },
    "id": "eGssN3tQ8CMA",
    "outputId": "11053619-f9a2-4bf4-fe98-ab424306c3bb"
   },
   "outputs": [
    {
     "data": {
      "text/plain": [
       "0.6956369936466217"
      ]
     },
     "execution_count": 89,
     "metadata": {
      "tags": []
     },
     "output_type": "execute_result"
    }
   ],
   "source": [
    "mean_acc_r[1]"
   ]
  },
  {
   "cell_type": "code",
   "execution_count": 93,
   "metadata": {
    "colab": {
     "base_uri": "https://localhost:8080/"
    },
    "id": "_ew1CSd783Vf",
    "outputId": "780738dd-0ff8-443c-ba10-57fcbd29e234"
   },
   "outputs": [
    {
     "data": {
      "text/plain": [
       "33"
      ]
     },
     "execution_count": 93,
     "metadata": {
      "tags": []
     },
     "output_type": "execute_result"
    }
   ],
   "source": [
    "len(mean_acc_da_r[1:])"
   ]
  },
  {
   "cell_type": "code",
   "execution_count": 100,
   "metadata": {
    "colab": {
     "base_uri": "https://localhost:8080/",
     "height": 325
    },
    "id": "6sdUdzSCEOW7",
    "outputId": "8bd4ed1f-8278-4fc6-bddf-e9968432843f"
   },
   "outputs": [
    {
     "data": {
      "image/png": "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\n",
=======
   "execution_count": 4,
   "metadata": {},
   "outputs": [
    {
     "data": {
      "image/png": "iVBORw0KGgoAAAANSUhEUgAAAYIAAAEGCAYAAABo25JHAAAABHNCSVQICAgIfAhkiAAAAAlwSFlzAAALEgAACxIB0t1+/AAAADh0RVh0U29mdHdhcmUAbWF0cGxvdGxpYiB2ZXJzaW9uMy4xLjEsIGh0dHA6Ly9tYXRwbG90bGliLm9yZy8QZhcZAAAgAElEQVR4nOzdd3hURdvA4d9sSe+VXgWktyAiIr2pgLxWfPVFxS6CDQELouInVURFBEHBClhoAtJRFBFCC00IUhMgvW6y2TbfHxtCAptkCbtLIHNf117JaXOepcxzzpw5M0JKiaIoilJ1aa52AIqiKMrVpRKBoihKFacSgaIoShWnEoGiKEoVpxKBoihKFae72gFcroiICFmvXr2rHYaiKMo1ZefOnalSykhH2665RFCvXj1iY2OvdhiKoijXFCHEydK2qaYhRVGUKk4lAkVRlCpOJQJFUZQqTiUCRVGUKk4lAkVRlCpOJQJFUZRKbuWxlfT5sQ+tFrSiz499WHlspUvLv+a6jyqKolQlK4+tZPzW8RitRgDOGs4yfut4AO5ocIdLzqHuCBRFUSqZfEs+CTkJ7Enew6Ttk4qSwHlGq5EZu2a47HzqjkBRFMUDTFYTaflppOankmYs/FlsufjvBrOh3PLOGc65LDaVCBRFUSrIbDXbK/HCirysij7HlOOwjCCvICJ8Iwj3Dad5eHPCfcPtH59wInwjGLd1HE1ik3hwsyQ8G9KC4LtugmM31XLZ91CJQFEUpRiLzUKGMaPMK/e0/DRSjalkFWQ5LCNQH1hUoTcObVxU0Uf4RhRV8OG+4YT5hOGl9SoznrdyuhOy+nu8zfblyGx4erUks8mtLvvOKhEoinLds9qsZOSnk5qTRLohmYycFDIMaWQYUsjMSyPbkE6WIZ3c/CwM+dlobBKtDXQ2idYKWhv4402ILpBGugBitAEEihsI1PoRoPElQPjiL7zxEz74okdrA2kxg8WCtFiRlgKk5SRY/kWaLUiLBbPVyjmLGQqXL3zMYLEWLUcnJoC15PfxNkPNb3+DYa7581GJQFGuUNaKFSRP/xDL2bPoqlcn6sUXCB4w4GqHdUWklGA2l6ygzBawllwuquys1pLL57dbLSWXLZaLKshiy+e3F56jvApSms1YzAVYTAVYLSZsZvtHWixgsYLFirDa0NhsaK2gKZyePbTwc/nyCz/Jpe5RUPhBp0Oc/2i1oNdfWNbpEHodaHUl13l7ofH3L1zWFpahx3zqlMNzWc6erdC3cMStiUAI0Q+YAWiBuVLKiRdtnw50L1z0A6KklCHujElRHKloZZ61YgVn3xyHNNp7dVjOnOHsm29iyc4mqHt3xxVk4QdLKZXqxRVksUq16Lhiler5iq9EhVlUqVpLLpdWqVosFyp+qxWs1nK+uQtptUWVITodaDXYtBpsWoFVK7BoJGYhMQsbJmGlQFgowIJRWLBoJBYt2PRg8QerFqRWg97LB713EN56X7y9/fD28cfXJwBf70D8fYPw8w0iwCcIb28/hE6P0F84f/HK+XxlXLRdqy2xXOoxQrjsjydv504sZ85csl5XvbrLziGklC4rrETBQmiBI0BvIAHYAQyRUh4sZf/ngbZSysfKKjcmJkaqYagVV7q4MgcQ3l6EDh2Kb/MWWLOzsGVnY83Osf+elY01x/67cf8Bz1aaGs2FCuf8VWZhRYq+sNK6pCIrtnx+nxLHFDtOX6yyK1wuKkd70fL5ClGrvaTCLH5utFryMJFpySHNnEW6NYs0Uwap5kxSTRmkFaSXaH8328yXfG2dRke4T7jDdvbiD1bDfcMJ1Ae6tCK+2rJWrCDxtdcQZkvROqnXUfP//u+y7jyFEDullDGOtrnzjuAm4KiU8lhhEAuBQYDDRAAMAd5yYzyKUoItPx/jgQOce3dCiSQAIAtMpM/5vOQBWi3aoCC0QUFoCn+WlQSqT3j3QgV5GZWqfV3JSrVoP03lefUnz5xX9NDU/jD1tP3hqiG16IHq+YetBdaCS47XCi1hPmFE+EYQ5hvGDSE3OKzoI3wjCPIKuq4q98txRJ6hXvt0MuP8sORp0flZCWmVzRF5hg4uOoc7E0FN4HSx5QSgo6MdhRB1gfrARjfGo1znymrekVJiPn2a/D17yN+zl/y9ezEePgwWS5ll1l+2tKjyF35+l1RG8T16Or5tr1GDkHvucd2X85B8S36JCvziCr1475l8S/4lxwsEoT6hRPhGEOEbQd2guqVeuYd4h6ARlSexeYzNBmYDFOSCKRcKsov9ngumHCjIQRpzKcjLovmur/CrV0BkvdwSxVh3TYGBT7kkJHcmAkfpu7R2qAeAH6WUDi+vhBBPAk8C1KlTxzXRKdcVh231r79BzoaNyIIC8vfuxZqeDoDGzw+fVq0IHzYM3zatOTf+bSxJSZeUqatRA58mTco8b9SLL1zarOTjQ9SLL7jw210ZZ15kOr++tBeZQr1DiyrzVpGtSu0OGeIdgk5zHfZBsZqhwF5Bl6ywc8tZV3xbLrIgB0wGRKlV4QVSCkz4EEiBw9o0Sqa67Ou5828sAahdbLkWcOmlk90DwHOlFSSlnAPMAfszAlcFqFw/kqd/eGnzjslEzq+/4tWgAQFdu+Lbpg2+bVrjfcMN9nbtQrbc3ApX5ufvODzda8hsM5Oen17ULFPaVXtqfqpTLzI1C2vm8Ko9wjeCUJ9Q9Bq9W7+Py0kJ5rxiV9rFKubiFXbRupIVtr0yz77wu4OmLUdsGj0mbQAFGl/yhC8GfMmx+ZBpiyLdUptMize5+GCQPvZt0hcDPpi1fuj9gvH2C8InIAT/oBCCAoMID/Ch3/pe1ODSSj9ZRFDNRX9c7kwEO4BGQoj6QCL2yv7Bi3cSQjTB3pvrLzfGolynLGlpZK9c6bB5BgAhaLiq7JEar7Qy/6O5hhnPajln0FHNX8vI5hoqMhTY+ReZSqvQ0/MvPFTNLMh0WEbxF5kahTSiU/VOFX6RyeNs1pIVckHORRX2RZVzWZW4KQekzbnzegXYP94B4B2IzSsAc0AN8gNvIA9fcvEm2+pLhs2bdJMXqWY9yQV6zhr1nMnTkWnzJrewYjcXVqlCQKifF+H+XoQHeBER4F348SIqwJtwfy8iAr2J8PcmItALP6/Sq+Id6a8SuvMNfIWpaF2+9OJ0+1GVPxFIKS1CiOHAGuzdR7+QUh4QQrwDxEoplxfuOgRYKN3VfUm57thMJnI3bSZr6VJyt2yxt/Pr9WB20NvEyS52wQMGVOgqvryRIa02K5kFmZe+lVq8maZwfYYxA+mgycBP51dUgTcIaUCMT8yFK3afC1fuYT5h+Oh8Lvs7VJiUYCkos5279Cvy3EsrfQfPHBzS6MA7ELwC7ZW3VwD4BENQTfAOurCu8Kf0DsSo8SPb6k26xZs0s54UkxdJRj3n8jWk5FlIzSkgzWAiLaOAjLxL/x0BeGk1RATYK/DwMC/CA7xpUFi5RwR4Ex7gRXhhxR7m54VO65rnHx0GPsUOoPauKUTJVJJFBKfbj6KDi54PgBu7j7qL6j5aNUkpMcbFkbl0KdmrVmPLykIXFUXwwAEEDxqE8Z9/HDbvVH/3Hbc20/T5sQ9nDZe+2KPT6AjxDiHdmI7NwZWpj9an6Mq9eGXuqFukn97PdQHbbPbK15k2bWfW2cp+2F5E71eicnZUYV+6LrDoKt2+rvCnzhurhIw8E6m5BaTl2n+m5ppIyy24sM5gKqzgCzCaHd8dBPnoSlyZh/t7F7uCP1/B29cFerv2/QBPu1rdRxXlipnPniVr+Qqyli7FdPw4wseHwF69CB40CP9bOhW19Xs3agRcQVt93GLY8A5kJUBwLeg5DlrdV+5hpY0AabFZ6Fqra6ndIf10l/ZAKpXFVMF2bgfrTLnlnw9AaAor4sCSlXNAlPMVdvF1Gm25pzSaraQUXpmn5hSQlmWv3O0VeyapuUmk5ZpIMxSQbjBhc3ANq9OIYlfm3jSM8Ldfwfvbr+AjijXThPl74aWrgr2WHFCJQKl0bHl55KxbR+bSpeRt+xukxDemPdWHPUZgv35oAwIcHlfR5h3iFsOKEWAubJrIOm1fhlKTQVZBFvP2z3PYlANQXR/E+JbPlGznzkyCpH+dbOcuVulbTQ7PcQmdz0WVc6C94vZq4HyFff6n3tfe0H0FbDZJVr6ZtNQ8UnLsFfj5JpgLFfyFK3mDyfE7GQHeOiIC7BV53XA/2tcLJaKwjf3iK/hgX/01fdV+tahEoFwVF/f5j3xhJPqoaLKWLSNnzRpseXnoa9cm4rnnCB40EK/atcsvtIJX9Wx450ISOM+cD6tGQeYp++8WI5jzyDPl8k3+SeZbksjFRhujiUNeOgqKvejlY7MxMvEYTGtczonFhcq3+BW2X92LKudyKvHzy1r39+wpsFjtV+W5JlKLV+xFFfyFij3dYMLi4LJdIyDM/8LVeds6fkVt646aaHz05d9NKFdGPSNQPM7RkA4IAVKi8fcnsH8/Qu66C9/27Z2/urv4qh7sV7UDPrInA3O+vVLPOHHhk37c/jPlUNllCw0mvR8/BAUwx9+LdA10s+p5nlAan4plpb8fM0JDOKfTUs1iZWRGJncY8uCODxxU2MWaVfR+cJXfFJZSkm20lLgyL6rMDQWknr+SL7yCzzE6fibgo9eU6BlT8uGpd7EreC9C/LzQatRVu6eV9YxAJQLF40p7G1cbEsINmzai8fW9/EKnt7A36VxSqDf4hUHORQ909X4QWh9C68Hx3xy3nQfVxDp8JytPreXTvbNIzE2kQ7UOjGg7gjZRbco+b3BteHH/5X8PFzBbbaQbSj5ILfFA1XDhgWpargmT9dIHqWV1fwy/zO6PSuWgHhYrlUppw+das7IuPwlICUn7HVfGYH8RqEF3CCus9M9//CMvtIHHLWbl+lHMCPIruqofkZ2Hb8wDfLL6QY5mHqVZeDPG3TyOTjU6lbxL6TnO8Z1Iz3GX9z3K/IoSg8la8mr9ojb21NwLTTOZTnR/jAzwpmm1oBIPUN3V/VGp/FQiUDxOFx2F5ZyDIR2cHVZXSkjcBYeWwcHlkHG89H2Da8PgWWUWtzLAn/ER4RilvQI9q9fxWngw8vgP1Auqx7Su0+hdt7fjZqpW97HjREbJPt4tR9GhnGcTVpssv/tjsSt4Z7o/No4OoFODcIfdHyMCvAi4xrs/Ku6jEoHicV433HBJIih3SAebFU5tg0PL4dAKyE60v1hUvyt0HmnvH7/u9Qpdmc/YNaMoCZwnkQR7B7Nk0JIyx85ZujuRsTvqkm+eUbTOe7uGhzUHaRQdUKx3TMmf6XkmHLXKXtL9MTJAdX9U3E4lAsWjCo4fJ2/b3/h27Ij59Omy+/xbzXBii/2q/5+VYEi2t/nf0BN6vAlN+oFvsbmmfAJd+i5AdkF2uQOoTVlzmHxzyW6PBRYbc/+4cJeiuj8qlZ1KBIpHJU+dhsbLi1rDbkO38wPIOgPBGqhbeCVvNsKxTfbK//AqMGaC3h8a9YZmA6FRH3tPHEda3edcd9GLVPOv5vDt4Gr+ZY/kkm+ykpjpeFgEAWwZ3V11f1SuCSoRKB5j+Hs7uRs2EPlAT3RbXiv5Atey52D7HEg+ZO/B4x0MTfrbK/+GPezNPG7SKqLVJYnAR+vDyHYjHe5vs0mW7klkyprDpZZZI8SXWqEuHBpCUdxIJQLFI6TNRtKkieiqVyfMfxMYLrqStpogcSe0fdhe+de7DXTuHx1z65mtrDu1jlYRrUjJT+Gc4RzV/Ksxst1I7mhw6Rii246l8d7KQ+xLzKJlzWDubleTeX+cKNE85KvXMqpv2fMYKEplohKB4hFZy5ZTcPAQNaZMQbPzIcc7SQkDP/JYTGdyzzD699E0CG7A530+L3Nwt2Mpuby/+h/WHUyiRrAP0+9vzaDWNdFoBDdEBTJlzWHOZOZTI8SXUX2bcFfbmh77HopypVQiUNzOlpdHyocf4tOyJUF33A5Ha9of6F4suJbHYiqwFvDi5hex2Cx82P3DUpNAusHERxvi+WbbSXwKr/SH3Vq/RLv/XW1rqopfuaapRKC4XdqXX2JJSqLmB9Psk6836A67vy65k4tfwiqLlJL3tr3HwbSDfNzjY+oG1WXp7sQSV/Uv9mpEep6JjzcexVBgYchNdXihV2MiA709EqOieJJKBIpbmZOSSZs7j8C+ffFr3x7yM+29gcIagdV4+QPEucCP8T+y5OgSnmz1JN1qd7O/C/DzvqJ2/sTMfEb9GIcEujWJ5LXbm9I4upSeSopyHVCJQHGrlI9mIC0Wol5+yb5i80TIz4CHl0L1Vh6PJy4ljvf/fp/ONTrzbOtnAcfvAkgg3N+L+Y/e5PEYFcXT1GuJitsYDx0i6+clhD30EF516ti7hm6fA+0fuSpJIC0/jRc3v0iUXxSTbpuEtnCylDOlvAuQbnByHgBFuca5NREIIfoJIQ4LIY4KIcaUss99QoiDQogDQojv3BmP4jlSSpImTUYbHEzEM0/bewStHm1/Gaz7Gx6Px2KzMOr3UWQVZDG923SCvYOLtpXW7l8jxH3vLihKZeK2piEhhBaYCfQGEoAdQojlUsqDxfZpBIwFOkspM4QQUe6KR/Gs3M2bydu2jejXX0cbFGR/U/j4b3D7VPAP93g8M3bNYMe5Hbx363s0DW9atP5kmgGj+dKZsdS7AEpV4s47gpuAo1LKY1JKE7AQGHTRPk8AM6WUGQBSymQ3xqN4iDSbSZ48Ba969Qh94H77G8RrX4eo5tD+UY/Hs+bEGuYfmM/9Te5nYMOBResTMvJ48PO/0WgEo/o2oWaILwKoGeLL+/9pqbqEKlWGOx8W1wSKDxKfAHS8aJ/GAEKIPwEtMF5K+asbY1I8IGPRYkzHj1Pr008Rej38Nt0+O9jQX0Dr2f4J/2b+y5t/vknryNaM7jC6aP3ZrHyGfL6NHKOZ7564mRY1g3mu+w0ejU1RKgt3/q90NITixQPv6oBGQDegFrBFCNFCSplZoiAhngSeBKhTp47rI1VcxpqdTeonn+DXsSMB3btB5mnY8gE0Hwz1u3g0lhxTDi9segE/nR8fdPsAfeGcvsnZRh78/G8yDWa+ebwjLWoGl1OSolzf3Nk0lAAUn3G8FnDx/IQJwDIppVlKeRw4jD0xlCClnCOljJFSxkRGRrotYOXKpX42G2tWFtGjX7UPp7zuTfuG3u96NA6btPHGH29wOuc0U7tOJcrP/vgpJaeAIZ9vIznbyPzHOtC6dohH41KUysidiWAH0EgIUV8I4QU8ACy/aJ+lQHcAIUQE9qaiY26MSXEj0+nTZHz9NcGDB+PTrBkc3wIHlsCtL0JI7fILcKEv9n/BxtMbeTnmZWKq2adpTTeYeGju35zJNPLFIx1oXzfMozEpSmXltqYhKaVFCDEcWIO9/f8LKeUBIcQ7QKyUcnnhtj5CiIOAFRglpUxzV0yKeyVP+wB0OiJHjgSrxd5dNLgOdB7hkfOvPLaSGbtmFA0p3SqiFQ81tQ9wl5lnTwIn0gx8+UgHOjbwfM8lRams3PrkTkq5Clh10bpxxX6XwEuFH+UalrdrFzm//krE8OHoo6Ng++eQfADu+9qtcwmct/LYSsZvHY/RaixadyTjCKuOr+LW6n14eN52jibnMndoDLfcEOH2eBTlWqKGmFCumLTZSJo4CV1UFOGPPQqGNNg4wT6fcNMB5RfgAjN2zSiRBACMViPTd85gbkoI/5zLZvbD7bmtsXrGpCgXU0NMKFcse9VqjHFxRL7wAho/P9g0AQpyoP8k8ND8u6XNO5xkOMu+hCxmPtiOHjdGeyQWRbnWqESgXBGb0UjyB9PwbtaU4LsGwdk42DkfbnoSopqWe7yrlDa/sM0SwkdD2tKnednzDytKVaYSgXJF0hd8heXMWaJfHW3vLrp6NPiGQjeHQ0u5zb2N771knbTpua/Bk9zesrpHY1GUa41KBEqFWVJTSZszh4AePfC/uSPs/wlObbXPLeDr2f75G47tRtp02MzBSAk2UwjmpP/QOrSHR+NQlGuRelisVFjKx59gKygg6pVXwGSAtW9C9db2Ceg96FjWMQ5k/oEpvSumlH4ltk1Zc1iNGaQo5VB3BEqFGI8cIfOHHwgdMgTvBvXtw0jknIH+k0GjLb8AF5q3bx5S6jCn33rJttLmGlAU5QKVCJQKSZ4yFU1AABHPPgPpx2DrR9Dqfqhzs0fjSMxNZOWxlXjldUJaAy7ZruYUUJTyqUSgXLbcLVswbNlCxDPPoAsNhTVvgEYPvd72eCxf7v8SIQR1tLdfsk3NKaAozlGJQLks0mIhefJk9HXqEPrfB+HoBji8ErqOgiDP9s5JyUthSfwSOkT0Yc8J6N00Ss0poCgVoB4WK5cl86efKYg/Ss0ZM9BoBfw6BsIawM3PejyWrw5+hUVaiNvXlhuiAvjkv+3w1nn2+YSiXA/UHYHiNGtuLikffYRv+/YE9ultn4g+9Qj0mwg6x/P+ukumMZNFhxdRQ3czSRmBTLq7lUoCilJB6o5AcVranM+xpqUR/dkshCEFNk+EG3pD474ej+Xbf74l35LP4WM38Vjn+rSvG+rxGBTleqESgeIUc2Ii6fPnEzRgAL4tW8Ky5+xzEfd73+Ox5Jpy+fbgt+gLWlHLvwGv9FEPhBXlSqimIcUpydM/BCGIevEFSNgJu7+Bm5+BiEsmlHO7RYcXkWPOIfPMbUy8uyW+XqpJSFGuhEoESrny4+LI/uUXwh59BH21arD6VQiIhttGeTwWo8XIF/sWYMltxAOtb+GWhmpuAUW5UioRKGWSUpI0cRLaiAjCH38C4hZCYqz9nQGfII/Hs+jwj2SbMwg09mNs/xs9fn5FuR6pRKCUKWfNWvJ37SJyxPNodVZY9xbU6mB/i9jDzFYzs3bNw5JXl4m3DyLQR+/xGBTleuTWRCCE6CeEOCyEOCqEuGRcYiHEI0KIFCHEnsLP4+6MR7k8NpOJ5KlT8W7cmJC774bfJ4MhxT7hjMbz1xBzdv2AwZZKh+B76dFUTTKjKK7itl5DQggtMBPoDSQAO4QQy6WUBy/adZGUcri74lAqLuObbzEnJFB77lxExjHY9hm0fQhqtvd4LAVmM3P3zUNYa/Hh3Q94/PyKcj1z52XdTcBRKeUxKaUJWAgMcuP5FBeyZGSQOmsW/rd1IaDzLfY3iPW+0POtqxLPmLXfYNEm81CTRwkL8OzLa4pyvXNnIqgJnC62nFC47mJ3CyHihBA/CiFquzEe5TKkfjITW14e0a++CkfWwNH19lnHAjw/+fuRpGzWJn6HLzV4pcs9Hj+/olzv3JkIHM1aLi9aXgHUk1K2AtYDCxwWJMSTQohYIURsSkqKi8NULlZw7BgZCxcScu89eNerbb8biGhin4fYw6w2yfPLvkXjfY6RMU+hEap/g6K4mjv/VyUAxa/wawFniu8gpUyTUhYULn4OOGx8llLOkVLGSCljIiM9f0Va1SRPmYrGx4fI55+Hv2ZCxnHoPxG0nu+ls2DrcU7bVhCij+b+pgM9fn5FqQrcmQh2AI2EEPWFEF7AA8Dy4jsIIYqPWzwQOOTGeBQnGLZtI3fTJsKffgqdvgB+nwo33gkNPT/376m0PKb+/gta39MMb/cEOo0aEUVR3MFt/7OklBYhxHBgDaAFvpBSHhBCvAPESimXAyOEEAMBC5AOPOKueJTySauVpEmT0deoQdj//ge/DAebBfpM8HwsUjJ2SRyasI2EeUdwV6O7PB6DolQVbr3EklKuAlZdtG5csd/HAmPdGYPivKylyyg4dIga06aiSdoN+xbbh5EIq+/xWBbtOM1fibvwr/cvj7V8BW+t6imkKO6i7rUVAGwGAykffohv69YE9esLc3tAUE249UWPx3I2K5/3Vh6iWt0/0HqHcG/jez0eg6JUJaoLhgJA2hdfYklJIWr0aMSeb+DsXuj9Dnj5ezQOKSVvLNmPWZdAjnYfDzV9CD+9n0djUJSqRiUCBXNSEmnz5hHYvx9+TevBhnegzi3Q4m6Px7Jszxk2/JNMs6Y7CNAHMKTpEI/HoChVjUoECinTPwSrlaiXX7bPOpafYR9PSDh6FcR9UnMLeHvFAZrXNXLUsJUHbnyAIC/Pj3CqKFWNSgRVXP6BA2QtW0bo/x7GS58N2z+H9o9C9VYej+Wt5QcwFFhp2Gg73lpvHmr6kMdjUJSqSCWCKkxKSfKkyWhDQoh48kn4dTR4B0KPNzwey6/7z7Ey7iyPdgvm9zNruLvx3YT7hns8DkWpilQiqMJyN24kb/t2Ip4fjjZxMxz/3Z4E/MI8GkdWnpk3l+2nWfUgzAEbEELwSPNHPBqDolRlKhFUUdJkInnyFLwaNCB08ABY8wZEt7A3C3nYuysPkm4wMXZADZYdXcqghoOo5l/N43EoSlWl3iOoojIWLsJ08iS1PpuF+PtTyDoFg1eC1jP/JJbuTmTKmsMkZuYD0LtpFNvTl2KRFh5r8ZhHYlAUxU4lgirImpVF6syZ+N/SiYDW9WHm/dB8MNS71SPnX7o7kbE/7yPfbC1at+XYSXZpFtKvXj/qBNXxSByKotippqEqKHXWZ1izs4l69VXEunGAgN7veuz8U9YcLpEEAGyBf2CyGXm8pZqtVFE8zalEIIT4SQhxhxBqMPhrnenkSdK//Zbgu/+Dj3cyHFwKXV6CEM/NCXSmsDmoiMaIV9ifWHKa0Si0kcfiUBTFztmKfRbwIBAvhJgohLjRjTEpbpQ8dRpCrydy+HOwejSE1IFbnvdoDOEBXiWWvUK3IbRGggv6eTQORVHsnEoEUsr1Usr/Au2AE8A6IcRWIcSjQgjPz1aiVEhebCw569YR/vgw9CdXQPJB6Pt/9rmIPeR0eh75JuuF6euEGX3YH9jyGjGmRx+PxaEoygVON/UIIcKxzxfwOLAbmIE9MaxzS2SKS0mbjaSJk9BFRxN+3yDYNAEadLNPOuMh2UYzj83fgVYjGHP7jdQM8cUrZDsaXS6Pt3iCu9o6mtJaURR3c6rXkBDiZ+BG4GtggJTybOGmRUKIWHcFp7hO9i+/YNy/nxqTJqL5awoU5EI/z40nZLHaeO7bXRxPNfDVsJvIEH/jf8MMsg1n0Wv0NKphLQfGCpMAACAASURBVL8QRVHcwtnuo59IKTc62iCljHFhPIob2PLzSf5gOj7NmxMUUwc+nw83PwNRnnnUI6Vk/IoDbIlPZdLdLckQfzN+63iMViMAZpuZt/96GyEEdzS4wyMxKYpygbNNQ02FECHnF4QQoUKIZ90Uk+Ji6QsWYDl3zt5ddM1Y8AuHrqM9dv4v/zzBN9tO8dRtDbi/Qx1m7JpRlATOM1qNzNg1w2MxKYpygbOJ4AkpZeb5BSllBvCEe0JSXMmSkkLqnM8J7N0Lf79TcOov6DkOfEPKP9gFNv6TxISVB+nTLJrR/ex3IOcM5xzuW9p6RVHcy9lEoBHiQmOyEEILeJWx//n9+gkhDgshjgohxpSx3z1CCCmEUM1MLpby0cdIk4mo55+BtW9C9TbQ1jPDOx86m83z3+2mWY0gPnygDRqNQEqJj87H4f5qfCFFuTqcTQRrgMVCiJ5CiB7A98CvZR1QmCxmAv2BZsAQIUQzB/sFAiOAvy8ncKV8xsOHyfzpJ8L++yBep3+EnDPQfzJotG4/d3KOkWHzdxDgo2Pu/zrg52V/HPXR7o/It+SjEyUfT/lofRjZbqTb41IU5VLOJoLRwEbgGeA5YAPwajnH3AQclVIek1KagIXAIAf7vQtMBowOtikVdH6uAU1gIBFDboetH0OrB6BOR7ef22i28sRXO8nIMzNvaAeqBdvvAL479B1z983lnsb38G7nd6nuXx2BoLp/dcbfMl49KFaUq8SpXkNSShv2t4tnXUbZNYHTxZYTgBK1kBCiLVBbSvmLEOKV0goSQjwJPAlQp44akMwZhi1bMGzdSvTYMWj/mghaL+g13u3ntdkkLy/eS1xCJrMfak+LmsEArD2xlonbJ9Ktdjde7/g6Oo2OOxt67h0GRVFK5+xYQ42EED8KIQ4KIY6d/5R3mIN1sliZGmA68HJ555dSzpFSxkgpYyIjI50JuUqTFgtJkyajr1uH0A7RcHgV3DYKgqq7/dwfrDvCyn1nGdv/Rvo0t7f57zi3gzFbxtA6sjWTb5uMTqMGvVWUysTZpqEvsd8NWIDuwFfYXy4rSwJQfCSzWsCZYsuBQAtgsxDiBHAzsFw9ML5ymT/8gOnff4l+6UXEhjcgrKH9vQE3+2lnAp9sOsoDHWrzRJcGABxOP8yIjSOoHVibT3p+gq/Oc8NZKIriHGcTga+UcgMgpJQnpZTjgR7lHLMDaCSEqC+E8AIeAJaf3yilzJJSRkgp60kp6wHbgIFSSvWm8hWw5uSQ8vEn+MXEEBAQD2nx0O990Hm79bzbj6cz5uc4bmkYzrt3tUAIwdncszy7/ln8dH581uszgr2D3RqDoigV4+w9urGwKSdeCDEcSASiyjpASmkp3HcNoAW+kFIeEEK8A8RKKZeXdbxSMWlz5mBNTyfqw/cR6x+ERn2gcV+3nvNEqoGnvo6ldpgfs/7bHr1WQ6Yxk6fWP0W+JZ/5/edTPcD9zVKKolSMs4ngBcAPezfPd7E3Dw0t7yAp5Spg1UXrxpWybzcnY1FKYUpIJH3+AoIHDcL3zCKwGKHv+249Z1aemccW7EACXwztQLCfnnxLPsM3DichJ4HZvWfTOLSxW2NQFOXKlJsICt8HuE9KOQrIBTw/u7nilJQPPgCtlsgHesCye6HzSIi4wW3nM1ttPPPtTk6n5/HNsI7Ui/DHYrPw6u+vEpcSx9SuU+lQrYPbzq8oimuU+4xASmkF2hd/s1ipfPJ27yZ71SrCH30EfexECIi29xRyEykl45btZ+u/aUz8Tys6NghHSsmEbRPYfHozY24aQ596an4BRbkWONs0tBtYJoT4ATCcXyml/NktUSmXRUpJ8sRJaCMjCL8pCNbshMGzwTvQbeecu+U4328/zXPdG3J3+1oAfLb3M36K/4nHWz7Og00fdNu5FUVxLWcTQRiQRsmeQhJQiaASyPn1V/L37qX6W6+h+eMdqHUTtLzPbedbe+Ac/7f6ELe3rMbLvZsA8MORH/h076cMbDiQEW1HuO3ciqK4nrNvFqvnApWUraCA5KnT8G7ShOCQQ3A4BR5cBBqnJ5+7LPsTsxi5cA+tagYz7V77QHIbT21kwrYJ3FrzVsbfMh7Viqgo1xZnZyj7kmJvBZ8npXzM5REplyXj668xJyZSZ/rbiB3P2EcWrdnOLec6l2Xk8QWxhPrp+fx/Mfh6admdvJtXf3+VZmHNmNZ1GnqNmsJaUa41zjYN/VLsdx9gMCXfElauAkt6OqmfzSaga1f8UxeC3g96vuWWc+WZLDz+1Q5yjGZ+ePoWooJ8OJZ5jOEbhlPNvxoze83ET+/nlnMriuJezjYN/VR8WQjxPbDeLREpTkv95BNs+flE3Xsz/DHS/s5AgOvHYrLZJC8s3MPBM9l8/r8YmtUIIsmQxFPrn0Kv0TOr1yzCfMJcfl5FUTyjoqN/NQLUMKBXUcG//5KxaDGh996D94HpENEEbnLPpHGT1xxm7cEk3ryzGT2bRpNtyubp9U+TY8rhy75fUjuwdvmFKIpSaTn7jCCHks8IzmGfo0C5SpInT0Hj60vETTrYfgIeXgJa17fPL449zWe//ct/O9bhsc71KLAWMGLjCE5kn+DTnp/SNLypy8+pKIpnOds05L4O6cply/3zT3J/+42o4U+g2z0FbrwTGpY3BuDl++vfNF77eR9dGkUwfmBzbNLG2C1j2Zm0k0ldJtGpRieXn1NRFM9zdj6CwUKI4GLLIUKIu9wXllIaabWSPGky+lq1CI3YDzYr9H3P5ec5lpLL09/spF6EP5882A6dRjBx+0TWnVzHKzGvcHuD211+TkVRrg5nO5u/JaXMOr8gpcwE3NM9RSlT1pIlFBw5QtT/7kTzz0/28YRC67n0HJl5JoYtiEWrEfaB5Hz1zNs/j4WHFzK02VCGNi93vEFFUa4hziYCR/upaaY8zJprIHnGDHzbtCbQsBiCasKtL7j0HCaLjae+3kliRj5zHm5PnXA/lh5dyoxdM7i9/u28FPOSS8+nKMrV52wiiBVCfCCEaCiEaCCEmA7sdGdgyqXS5s3FmpJK9F0tEUn7oc+74OXvsvKllLy+ZB9/H09n8j2tiKkXxpaELYzfOp6bq9/MhM4T0Aj3vLGsKMrV4+z/6ucBE7AIWAzkA8+5KyjlUuazZ0n/cj5BfXvhe3Iu1O0Mzf/j0nN89tsxftiZwIiejbirbU32pezj5d9epnFoY6Z3m47eDb2SFEW5+pztNWQAxrg5FqUMKR9+CDYbkR0k/JsJ/SeBC8f0+XX/WSb9+g8DWtfgxV6NOJF1guc2PEeYTxif9vqUAK8Al51LUZTKxdleQ+uEECHFlkOFEGvcF5ZSXP6+/WQtW07YvXfg9e93EPMYVGvpsvLjEjJ5YdEe2tYJYco9rUgzpvH0+qcBmN17NhG+ES47l6IolY+zTUMRhT2FAJBSZlDOnMUAQoh+QojDQoijQohL7iiEEE8LIfYJIfYIIf4QQjRzPvSqQUpJ8qRJaMPCCI/aAz5B0P11l5V/NiufxxfEEu7vzZyHY7DIfJ5d/yzpxnRm9pxJ3aC6LjuXoiiVk7OJwCaEKBpSQghRDwejkRZXOMXlTKA/0AwY4qCi/05K2VJK2QaYDHzgZDxVRs769eTFxhJ5z21oz/4JPd4AP9eM62MosDBsfix5JitfPNKBED8NL2x+gSMZR5jWdRotI11316EoSuXlbBfQ14E/hBC/FS7fBjxZzjE3AUellMcAhBALgUHAwfM7SCmzi+3vTznJpaqRJhPJU6fi1bABIXI5RLeE9q6ZGsJqk4xcuJt/zmXzxSMdaBTtz5gtY/j77N9M6DyBLrW6uOQ8iqJUfk7dEUgpfwVigMPYew69jL3nUFlqAqeLLScUritBCPGcEOJf7HcEDqe2EkI8KYSIFULEpqSkOBPydSHj++8xnzxFdL/6iJwE+wNijdYlZb+/6hDrDyXz1oDmdGsSxQexH7D6+GpGthvJoBsGueQciqJcG5x9WPw4sAF7AngZ+BoYX95hDtY5mtxmppSyIfZB7N5wVJCUco6UMkZKGRMZ6fphlisja2YmKZ/Owr9je/wzf7B3Fa3X2SVlf/f3Keb+cZyhneoy9JZ6LDiwgAUHFzDkxiEMazHMJedQFOXa4ewzgpFAB+CklLI70BYo79I8ASg+PnEtyp7MZiGgxi8qlPLpp9hycoiKMdqnfuzzrkvK/SM+lTeX7adbk0jevLMZK4+tZGrsVHrX7c3oDqPVNJOKUgU5mwiMUkojgBDCW0r5D9CknGN2AI2EEPWFEF7AA8Dy4jsIIRoVW7wDiHcynutawfHjZHz3PSF9bsEnbR10eRmCa11xuUeTc3nm253cEBnAx0PasiPpb9748w1iomN4v8v7aF3U7KQoyrXF2YfFCYXvESwF1gkhMihnqkoppUUIMRxYA2iBL6SUB4QQ7wCxUsrlwHAhRC/ADGQAajQzIHnaNDReXkTW2AtedeGW56+4zHSDicfm78Bbp2HeIzEkGI7ywqYXqB9cnxk9ZuCt9XZB5IqiXIucfbN4cOGv44UQm4Bg4FcnjlsFrLpo3bhiv490PtSqwbB9O7nrNxB5zy3o8n6EAd+C3ueKyiywWHnq61jOZRtZ+OTNSF0az6x6hiDvIGb1nEWQV5CLolcU5Vp02SOISil/K38vpSKkzUbyxEnooqMI81kHdbrDjXdcWZlSMvanfew4kcHHQ9pSN9LG/1Y/jdlm5ou+XxDtH+2i6BVFuVapoSQrkazlyzEePEhUj2g0NoNLxhOauekoP+9O5KXejenZLIThG4aTlJfEzJ4zaRDSwEWRK4pyLVNzClQStvx8UqZ/iE+ThgTZ1kKnZyCyvOfxZfsl7gxT1x5hcNuaPN2tLiM3jeRg+kE+7PYhbaLauChyRVGudeqOoJJI+/JLLElJRLfLQfiHQ9fRV1Te7lMZvLx4LzF1Q3n/Py14+6+3+SPxD964+Q261+nuoqgVRbkeqERQCZiTkkn7fC6BHZvhJ/dAr7fAN6T8A0uRkJHHE1/tJDrIh9kPt2f2vpks/3c5z7Z+lnsb3+vCyBVFuR6opqFKIOWjGUizmah6B6BGW2jzUIXLyjGaeXxBLAUWKwuf7Mia0z8xd99c7ml8D0+3ftqFUSuKcr1QdwRXmfGff8j6eQlhtzXES5yF/pNBU7G/FovVxojvdxOfnMus/7bnWN5fTNw+kW61u/F6x9fVW8OKojik7giuIiklSRMnoQ0MICJsK7QeArVvqnB5E1YeYtPhFN4b3ALvwOOMWDeG1pGtmXzbZHQa9VetKIpj6o7gKsrdvJm8bduIuCUQrZ8eeo2vcFlf/3WC+VtPMOzW+sQ0MjJi4whqB9bmk56f4KvzdVXIiqJch9Rl4lUizWaSp0zFq2YUoUGx0PUdCKxWobJ+O5LC+BUH6XljFI92DWHo6ofx0/nxWa/PCPYOdnHkiqJcb9QdwVWSsXgxpmPHiGqdiYhoCB2fqVA5R5JyGP7tLhpFBfDOf+rz7IanybfkM6v3LKoHVHdx1IqiXI/UHcFVYM3OJvXjT/C7sQYBgbHQ7wfQeV12Oam5BTw2fwc+Xlo+faglo/94noScBGb3nk3j0MZuiFxRlOuRuiO4ClJnz8aalUV0w3hE477QuM9ll2E0W3nyq1hScwuY/VAbpseNIy4ljoldJtKhWgc3RK0oyvVKJQIPM50+TcZXXxPcLhqf4Dzo9/5llyGl5NUf49h1KpNp97ZmeeInbD69mTE3jaFPvctPKoqiVG0qEXhY8rQPQCuIrLkHOj0H4Q0vu4wZG+JZvvcMo/o24ZRtGT/F/8TjLR/nwaYPuiFiRVGud+oZgQfl7dpNzq+/EnGzP/qoKLjtlcsuY9meRD5cH8/d7WoRVWM372z7lIENBzKi7Qg3RKwoZTObzSQkJGA0Gq92KEohHx8fatWqhV6vd/oYlQg8RNpsJE2ciC4kgPBa8dB7NngHXlYZO0+mM+rHOG6qH0bfDqmM2jKBW2veyvhbxqu3hpWrIiEhgcDAQOrVq6f+DVYCUkrS0tJISEigfv36Th+nmoY8JHvVaoxxcUS2zERTrwO0uu+yjj+dnseTX+2kRrAPw/tpee3P0TQLa8a0rtPQa5zP/IriSkajkfDwcJUEKgkhBOHh4Zd9h+bWRCCE6CeEOCyEOCqEGONg+0tCiINCiDghxAYhRF13xnO12IxGkj+YhnfNYIJrpMDtky9rwplso5nH5u/AbLUx/p5Ixm59kWr+1ZjZayZ+ej83Rq4o5VNJoHKpyN+H2xKBEEILzAT6A82AIUKIZhftthuIkVK2An4EJrsrnqsp/auvsZw5S3STE4j2D9tHGHWSxWrjuW93cTzVwPv31eG9nS+i1+iZ1WsWYT5h7gtaUZQqw513BDcBR6WUx6SUJmAhMKj4DlLKTVLKvMLFbUAtN8ZzVVjS0kibPZuARgH41/aCHuOcPlZKydsrDrIlPpU3B9Zjbvxr5JhymNVrFrUDa7sxakVxj6W7E+k8cSP1x6yk88SNLN2deMVlarVa2rRpQ4sWLRgwYACZmZkVKqdbt27ExMQULcfGxtKtW7cyjzlx4gTfffddhc5XmbgzEdQEThdbTihcV5phwGpHG4QQTwohYoUQsSkpKS4M0f1SPv4YmzGfqEb/QvexEBDp9LHzt57g620nebxLLTZlTuZE9gmmd5tO0/CmboxYUdxj6e5Exv68j8TMfCSQmJnP2J/3XXEy8PX1Zc+ePezfv5+wsDBmzpxZ4bKSk5NZvdphNeTQ9ZII3NlryFFDlXS4oxAPATFAV0fbpZRzgDkAMTExDsuojAri48lc/AOhzcG7YSPo8LjTx278J4l3fzlI76aRpPstYOepnUzqMolONTq5MWJFqbi3Vxzg4JnsUrfvPpWJyWorsS7fbOXVH+P4fvsph8c0qxHEWwOaOx1Dp06diIuLK1qeMmUKixcvpqCggMGDB/P2229jMBi47777SEhIwGq18uabb3L//fcDMGrUKCZMmED//v1LlGu1WhkzZgybN2+moKCA5557jqeeeooxY8Zw6NAh2rRpw9ChQ3nxxRedjrUycWciSACKt1/UAs5cvJMQohfwOtBVSlngxng8LmnyFDQ+OiJuOAn9loDWud49h85m8/x3u2laI5BajdbyY/w6Xol5hdsb3O7miBXFfS5OAuWtv1xWq5UNGzYwbNgwANauXUt8fDzbt29HSsnAgQP5/fffSUlJoUaNGqxcuRKArKysojI6derEkiVL2LRpE4GBF7p3z5s3j+DgYHbs2EFBQQGdO3emT58+TJw4kalTp/LLL7+45DtcLe5MBDuARkKI+kAi8ABQ4tVXIURbYDbQT0qZ7MZYPC53yx8Ytmwhqn0+ujZ3QkPnJoxPzjEybP4OAnx09Lr5AF8cXMTQZkMZ2nyomyNWlCtT3pV754kbSczMv2R9zRBfFj1V8Tvd/Px82rRpw4kTJ2jfvj29e/cG7Ilg7dq1tG1r75yRm5tLfHw8Xbp04ZVXXmH06NHceeeddOnSpUR5b7zxBhMmTGDSpElF69auXUtcXBw//vgjYE8e8fHxeHld/mCRlZHbnhFIKS3AcGANcAhYLKU8IIR4RwgxsHC3KUAA8IMQYo8QYrm74vEkabGQPHkS+lBvQhvnQ5/3nDrOaLbyxFc7ycgz87/eKXxx8FNur387L8W85OaIFcX9RvVtgq9eW2Kdr17LqL5Nrqjc888ITp48iclkKnpGIKVk7Nix7Nmzhz179nD06FGGDRtG48aN2blzJy1btmTs2LG88847Jcrr0aMHRqORbdu2Fa2TUvLxxx8XlXX8+HH69Ll+xvVy63sEUspVUsrGUsqGUsr3CteNk1IuL/y9l5QyWkrZpvAzsOwSrw2ZP/1MQfxRopqdRdNlBISW/3qEzSZ5efFe4hIyeaq/ic8PTeLm6jczofMENEK996dc++5qW5P3/9OSmiG+COx3Au//pyV3tS2rD4nzgoOD+eijj5g6dSpms5m+ffvyxRdfkJubC0BiYiLJycmcOXMGPz8/HnroIV555RV27dp1SVmvv/46kydf6M3et29fZs2ahdlsBuDIkSMYDAYCAwPJyclxSfxXkxpiwsWsuQZSPpqBbw0dgc3C4VbnHh59sO4IK/ed5bEeGr47/jaNQxszvdt09E4+V1CUa8FdbWu6rOJ3pG3btrRu3ZqFCxfy8MMPc+jQITp1sjc7BQQE8M0333D06FFGjRqFRqNBr9cza9asS8q5/fbbiYy80MPv8ccf58SJE7Rr1w4pJZGRkSxdupRWrVqh0+lo3bo1jzzyyDX7sFhIec10wgHsvYZiY2OvdhilSp7+IWmzZ1Ovdwq+T82BFv8p95ifdibw8g97uaOdjn229/DT+/HN7d8Q4RvhgYgVpeIOHTpE06aqO3Nl4+jvRQixU0oZ42h/1ebgQuYzZ0if/yVBDaz4tusIzQeXe8z24+mM+TmOmAY6jmo+AGB279kqCSiK4jGqaciFkqd/CFYLUS3SoP/P5Y4ndDLNwFNfx1IzTCCj55KRm8G8PvOoG3RdDrmkKEolpe4IXCQ/Lo7sFSsIa5yNvuujUK1Fmftn5dsHkrNhoVaTxfybFc+0rtNoGdnSQxEriqLYqUTgAlJKkiZOQuunJbydFrq/Vub+ZquNZ7/dyan0XGJi1rI3LZa3b3mbLrW6lHmcoiiKO6hE4AI5a9eRv2sXkc3S0PZ9E/xKHxVUSsm4ZQf482ga3TrtYHvKBka2G8mgGwaVeoyiKIo7qURwhWwmE8lTJuMdCiGdGkD7R8rcf94fx/l++ym6dTjItrSfGXLjEIa1GOaZYBVFURxQieAKZXzzLeaERKJapSHumAwaban7rjuYxHurDhHT/Dg7c7+id93ejO4wWk3soVQdcYthegsYH2L/Gbf4akekoBLBFbFkZJD66Uz8a5gI6H0n1Otc6r4HzmQxcuFubqhzhn+ZR0x0DO93eR9tGYlDUa4rcYthxQjIOg1I+88VI644GVwv8xE88sgjRWMZeZrqPnoFUmd+is1gILq7EXq/U+p+SdlGhs2PJTAwiaygudQPrM+MHjPw1np7MFpFcbPVY+DcvtK3J+wA60UDDJvzYdlw2LnA8THVWkL/iWWe9vxYQwBDhw5l5syZvP7665cTeZHz8xFcPAx1ac4nggcffLD8nSsxdUdQQQXHjpPx/XeENDTgPeAFCHY8uVqeycLjC2LJsZxDX+sLQryDmdVzFkFeQR6OWFGusouTQHnrK6BTp04kJl6Y6GbKlCl06NCBVq1a8dZbbwFgMBi44447aN26NS1atGDRokVF+5+fj+CSEK1WRo0aVVTW7NmzARgzZgxbtmyhTZs2TJ8+3WFMJ06coEuXLrRr14527dqxdetWwN5xZPjw4TRr1ow77riD5GT7AMyrV6/mvvvuKzp+8+bNDBgw4Ar/ZMqm7ggqKHnKZDQaG5Gdg6HT8w73sdkkLy3ay4GkROq2+BqTtPBZry+J9o/2cLSK4gHlXLkzvUVhs9BFgmvDoyuv+PSVdT6CqKgo1q1bh4+PD/Hx8QwZMoTY2FiWLFnC4cOH2bdvH0lJSTRr1ozHHnuM3r1789RTT2EwGPD392fRokVFE+e4i7ojqADDtm3kbtpMeNNsdIMngt7H4X6T1xzm14MnadBiETmWVGb2nEmDkAYejlZRKome40DvW3Kd3te+/gqcn48gPDyc9PR0h/MRtGvXjn/++Yf4+HhatmzJ+vXrGT16NFu2bCE4OLhEeefnIyhu7dq1fPXVV7Rp04aOHTuSlpZGfHy8U/GZzWaeeOIJWrZsyb333svBgwcB+P333xkyZAharZYaNWrQo0cPAHQ6Hf369WPFihVYLBZWrlzJoEHu7V6uEsFlklYrSe//H3p/G2H9Y6CJ41nDFsee5rPfjtCwxc+kmP5lym1TaBPVxsPRKkol0uo+GPCR/Q4AYf854CP7+itQ2ecjmD59OtHR0ezdu5fY2FhMJlPRttJ6DN5///0sXryYjRs30qFDhxJ3J+6gEsFlylq2nILD8US2zkFz52SH4wn99W8ar/0cR50mK0m27OXNm9+kex3nZihTlOtaq/vgxf0wPtP+8wqTQHGVdT6CrKwsqlevjkaj4euvv8ZqtQJw2223sXDhQqxWK2fPnmXTpk1Fx3Tr1o1du3bx+eefu71ZCNQzgstiy8sjZdpkfMJNBN07FCIvnVnpWEouT3+zk/DaG8nQbOXZ1s9yT+N7rkK0ilL1VMb5CJ599lnuvvtufvjhB7p3746/vz8AgwcPZuPGjbRs2ZLGjRvTtWvXomO0Wi133nkn8+fPZ8GCUnpUuZCaj+AypHz8MakzP6XunRb8JsSCT8m2xcw8E4M/3Uq6diO2sCXc0/gext08Tr0wply31HwElVOlmo9ACNFPCHFYCHFUCDHGwfbbhBC7hBAWIUSlvmw2JyWRNvdzAmvn4/fguEuSgMli4+lvdnLW/DcybCnda3fn9Y6vqySgKEql57amISGEFpgJ9AYSgB1CiOVSyoPFdjsFPAK84q44XCVl2lQwm4jqXQva/LfENiklbyzdx45zOwist4iWEa2ZfNtkdBrV8qYoVcWaNWsYPXp0iXX169dnyZIlVyki57mzproJOCqlPAYghFgIDAKKEoGU8kThNpsb47hixoMHyVrxC2FNDHgN+Ro0JW+kZv9+jB/37SCk4bfUDqrNJz0/wUfnuEupoijXp759+9K3b9+rHUaFuLNpqCZQ/O2RhMJ1l00I8aQQIlYIEZuSkuKS4JwlpSRpwttovWxE3NcXancosf3X/eeYvH4boQ0WEOoTwGe9PiPYO7iU0hRFUSofdyYCR43jFXoyLaWcI6WMkVLGFH+S7wm5mzaRtyuOiNYmtANKvmSyLyGLF374g5AG8/HSW5jVexbVdl0MSQAAEiFJREFUA6p7ND5FUZQr5c6moQSgdrHlWsAZN57P5aTZTPJ7b+MVZCZ02PMQWK1o29msfB776k98ai0AXRof9ZhN49DGVzFaRVGUinHnHcEOoJEQov7/t3fv0VFV9wLHvz/yIISoxAgYgjZQEBI0JWAE1CAFb24EBFtAsN5ba2Whd/FOH3DLKyq00istImJ8FLAWTTQqF7BUC5QFC3mqGJ4XqBQICSQECAiEkOR3/5jJGGICgcwwZM7vs9aszJzZ55zfzs46v5x9ztlbREKBYcASH+7P6068s4jSwwW0SI5A7hvlWX7mfBk/X7iRc83+TEXoAV5IfoGkW5MusSVjDMDHX39MSnYKCW8lkJKdwsdf13+MoarDUA8ZMoSzZ896IVLvWLhwIaNGjbp8QT/zWSJQ1TJgFPAJsAt4T1V3iMhzIjIAQESSRCQXGAK8JiI7fBXPlSovLubYnNmEtzxPxNO/h+BQ1/IKZUzml+znbaTpDibeM5GU2Lo9am6Mk3389cekf5ZO/pl8FCX/TD7pn6XXOxlUDjGxfft2QkNDycjIqPO6lU/5Op1P729U1b8Cf622bGqV95txdRldd469NIvyMyW0fPxO5I5vD/QvLN/F2sJ3aNx8E8PvGs5P4hr2OOTGeMvMTTPZfXx3rd/nFOZQWlF60bKS8hKmrptK9p6aJ2TpeHNHJtwzocbvapKcnExOTg4AjzzyCIcOHaKkpISxY8cyYsQIwPWEcVpaGp988gmzZs1i2bJlLFmyhODgYFJSUnjxxRcpLCzkmWee4eDBgwDMnj2bHj160LZtW7Zu3UqzZs0AaNeuHevWrWPTpk1Mnz6d0tJSoqKiWLRoES1bNpxRhm2soRqUHjzI8axsbvr+ecKe+HaM8Xc3HWThtkwaN1/BgO8PYEziGD9GaUzDUj0JXG75lSorK2P58uXcddddAMyfP5/PP/+cLVu2MGfOHIqKigDXfAR33nknGzduJD4+no8++ogdO3aQk5PD5MmTARg7dizjx49n8+bNfPDBBwwfPpxGjRoxcOBAz3MBGzduJDY2lpYtW3L//fezYcMGvvzyS4YNG3bROEUNgT3xVIOC5ycjUk7zJx+FqO8DsG7fMaatyCKs1WLua3U/6fem21PDxlRxuf/cU7JTyD+T/53l0U2jWZC64Kr3WzkMNbjOCCrnI5gzZ47noH3o0CH27t1LVFQUQUFBDBo0CIAbb7yRsLAwhg8fTr9+/ejfvz8AK1as8AwXDXDq1ClOnz7N0KFDee6553jyySfJzMz0DAiXm5vL0KFDyc/Pp7S0lDZt2lx1ffzBzgiqObtpM6fXbibqB0LIw1MA2FfwDc+8n03jVu8SFxXPH3rNIqRRiJ8jNaZhGdtlLGFBFz9oGRYUxtguY+u13cprBFu3buXll18mNDSU1atXs2LFCtavX89XX31FYmIiJSUlrn2GhREU5JorPDg4mE2bNjFo0CAWL15MamoqABUVFaxfv96z3cOHD3PDDTfQo0cP9u3bR2FhIYsXL+bHP/4xAKNHj2bUqFFs27aN1157zbOvhsISQRVaUcHR9AkENyknatxkaBzB8TOlPPH2Umg5n5iIW8n4t3mEh4T7O1RjGpx+bfuRfm860U2jEYToptGk35tOv7b9vL6v4uJiIiMjCQ8PZ/fu3RfNLVDVN998Q3FxMX379mX27NmeuY9TUlKYO3eup1zlchHhRz/6EWlpacTFxREVFeXZX0yM63nZazFaqLdZ11AVpz56n5Kv84l+qDmN7n6c82Xl/Pztv1N80zyaNWnCG//+GjeH3ezvMI1psPq17eeTA391qampZGRkkJCQQIcOHejevXuN5U6fPs3AgQMpKSlBVT3zDs+ZM4eRI0eSkJBAWVkZPXv29NyNNHToUJKSkli4cKFnO+np6QwZMoSYmBi6d+/O/v37fV5Hb7JhqN0qSkr4Z697CZZTxL6fBTFdGJP1GSuLpxEefpq3+y4kLsqG2zWmKhuG+vp0XQ1D3ZAcf+VFyk6eo8Wj3ZHWXXlp1U5WHJ9JSFgRL/eZbUnAGBOwLBEAZQUFFL31DhG3ldF0xGyWfpVLxs4ZBDfdz2+Tp9OjVQ9/h2iMMT5jiQAofP7XVFyooOXIn/NlURATVj9PyI3bGJf4i2vSn2mMMf7k+ERQsmMbJ1dsJDKhMYXJI3nyo5kENfuMR9v/B08l/Mzf4RljjM85+q4hVaVg8jgahVQQ8avneSjrVcqbfUxydAqTevzK3+EZY8w14egzgjN/+4gzu/K4pff3+On2Qk6Ev0PHm7ryUp8XaCSO/tUYYxzEsUc7LSvj6O+mE3JDObOTBrNHX+HWsDYs6DuXkCB7atgYXyheupS9vfuwKy6evb37ULx0qb9DMjg4EZx8bSalBec4nNKZD0vmExEcSebAN4kIjfB3aMYEpOKlS8mfMpWyvDxQpSwvj/wpU+udDJwwH0FsbCzHjh3zQkQ1c+Q1gvLikxS+uYigW5WR38sjNEh45+E/cUuTW/wdmjEN1pHf/pbzu2ofhvrcV1+hpRePNKolJeRPmszJ996vcZ3GcR259Te/ueR+K8caAnj88cfJyMggLS2tTjGXl5d7xh1yMkeeERQ9P5byc8q03s1oFHqOjJRXadss1t9hGRPQqieByy2/GsnJyezbtw9wzUfQtWtXOnXqxOuvv+4pExERwdSpU+nWrRvr169n4sSJxMfHk5CQwC9/+UsACgsLGTRoEElJSSQlJbFu3ToqKiqIjY3l5MmTnm21a9eOo0ePsnTpUrp160ZiYiIPPvggR48erVO8ta1XVFRESkoKiYmJPP3001SOADFhwgTmzZvnWT89PZ1Zs2bV75cGrjtnGtKra9euWh/n927XXXEd9N1H4vXOBQm6ePeKem3PGCfbuXNnncvu+WFv3dmh43dee37Yu14xNG3aVFVVL1y4oAMGDNB58+apqmpRUZGqqp49e1Y7deqkx44dU1VVQLOysjxl7rjjDq2oqFBV1RMnTqiq6mOPPaZr165VVdUDBw5ox44dVVV1zJgxOn/+fFVV3bBhg/bp00dVVY8fP+7ZxhtvvKFpaWmqqrpgwQIdOXJkrbHXtt7o0aP12WefVVXVZcuWKaCFhYX6xRdfaM+ePT3rx8XF6YEDB76z3ZraBdiitRxXHdc1dHTSaC40gozewoj4iQzs0MffIRnjCC3GjyN/ylS0yhDNEhZGi/Hj6rXdhjwfQW3rrVmzhg8//BCAfv36ERkZCUBiYiIFBQXk5eVRWFhIZGQkt99+e71+f+DjawQikgq8BAQBb6rqC9W+bwz8GegKFAFDVfVf3o7jvclDafVpDjefAgE+by8kdXyK0fc85u1dGWNqcdPDDwNQ8MfZlOXnExwdTYvx4zzLr1bVawSVqs5HEB4eTq9evS45H8HKlSvJzMxk7ty5rFq1yjMfQZMmTS7abvX5CCpnNBs9ejRpaWkMGDCA1atXk56eXqfYL7VebRNfDR48mOzsbI4cOcKwYcPqtJ/L8dk1AhEJAl4BHgLigcdEJL5asaeAE6raDvgjMNPbcbw3eSh3LM4hyp0EADrvh7tX1zw+uTHGd256+GHar1pJ3K6dtF+1st5JoDYNZT6C2tbr2bMnixYtAmD58uWcOHHC892wYcPIzMwkOzubwYMH13lfl+LLi8X3APtU9WtVLQUygYHVygwEKmufDfQRL8//2OrTHBqXXbyscRnE/D3Hm7sxxlxHUlNTKSsrIyEhgSlTplxyPoL+/fuTkJDAAw88cNF8BFu2bCEhIYH4+HjPXATgmo/gL3/5i6dbCL6djyA5OZlbbqn73Ye1rTdt2jTWrFlDly5d+PTTTy/q/unUqROnT58mJiaG6OjoOu/rUnw2H4GIDAZSVXW4+/N/At1UdVSVMtvdZXLdn//pLnOs2rZGACMAbr/99q4HDhyocxw7OsbVmO0qgE67d11ZpYwxF7H5CK5P19N8BDX9Z18969SlDKr6uqrerap3N2/e/IqCOHHjlS03xhin8WUiyAVuq/K5NZBXWxkRCQZuAo57M4i8lATOV7skfj7YtdwYY66FGTNm0Llz54teM2bM8HdYHr68a2gz0F5E2gCHgWHAT6qVWQI8AawHBgOr1Mt9VY9Oz+I9XHcNRZ5ynQnkpSTw6PQsb+7GGMdS1VrvcDEukyZNYtKkSddkX1dzCPVZIlDVMhEZBXyC6/bR+aq6Q0Sew/VgwxLgT8DbIrIP15mAd+6FqubR6Vkw3RdbNsbZwsLCKCoqIioqypLBdUBVKSoqIiws7IrWs8nrjTFX7cKFC+Tm5nru0Tf+FxYWRuvWrQkJuXgU5UtdLHbck8XGGO8JCQmp81O05vrlyEHnjDHGfMsSgTHGOJwlAmOMcbgGd7FYRAqBuj9afLFbAN9N83N9sjo7g9XZGepT5++pao1P5Da4RFAfIrKltqvmgcrq7AxWZ2fwVZ2ta8gYYxzOEoExxjic0xLB65cvEnCszs5gdXYGn9TZUdcIjDHGfJfTzgiMMcZUY4nAGGMczjGJQERSReT/RGSfiEz0dzy+ICK3icg/RGSXiOwQkbHu5TeLyN9FZK/7Z6S/Y/UmEQkSkS9FZJn7cxsR2eiub5aIhPo7Rm8SkWYiki0iu91t3cMBbTze/Te9XUTeFZGwQGtnEZkvIgXumRsrl9XYruIyx308yxGRLvXZtyMSgYgEAa8ADwHxwGMiEu/fqHyiDPiFqsYB3YGR7npOBFaqantgpftzIBkLVJ13dCbwR3d9TwBP+SUq33kJ+JuqdgR+gKvuAdvGIhIDjAHuVtU7cQ1rP4zAa+eFQGq1ZbW160NAe/drBPBqfXbsiEQA3APsU9WvVbUUyAQG+jkmr1PVfFX9wv3+NK4DRAyuur7lLvYW8Ih/IvQ+EWkN9APedH8WoDeQ7S4SaPW9EeiJay4PVLVUVU8SwG3sFgw0cc9kGA7kE2DtrKpr+O4MjbW160Dgz+qyAWgmIlc9k71TEkEMcKjK51z3soAlIrFAIrARaKmq+eBKFkAL/0XmdbOBXwMV7s9RwElVLXN/DrS2bgsUAgvc3WFvikhTAriNVfUw8CJwEFcCKAY+J7DbuVJt7erVY5pTEkFNUycF7H2zIhIBfACMU9VT/o7HV0SkP1Cgqp9XXVxD0UBq62CgC/CqqiYCZwigbqCauPvFBwJtgFZAU1xdI9UFUjtfjlf/zp2SCHKB26p8bg3k+SkWnxKREFxJYJGqfuhefLTytNH9s8Bf8XnZfcAAEfkXru6+3rjOEJq5uxAg8No6F8hV1Y3uz9m4EkOgtjHAg8B+VS1U1QvAh8C9BHY7V6qtXb16THNKItgMtHffZRCK60LTEj/H5HXu/vE/AbtU9Q9VvloCPOF+/wTwv9c6Nl9Q1f9W1daqGourTVep6uPAP4DB7mIBU18AVT0CHBKRDu5FfYCdBGgbux0EuotIuPtvvLLOAdvOVdTWrkuAn7rvHuoOFFd2IV0VVXXEC+gL7AH+CUzydzw+quP9uE4Pc4Ct7ldfXP3mK4G97p83+ztWH9S9F7DM/b4tsAnYB7wPNPZ3fF6ua2dgi7udFwORgd7GwLPAbmA78DbQONDaGXgX1zWQC7j+43+qtnbF1TX0ivt4tg3XHVVXvW8bYsIYYxzOKV1DxhhjamGJwBhjHM4SgTHGOJwlAmOMcThLBMYY43CWCIypIxGZ5B4BM0dEtopINxFZLSJbqpS5W0RWu9/3EpFi91AQu0XkRb8Fb8wlWCIwpg5EpAfQH+iiqgm4nnatHOulhYjUNOQBwFp1DQWRCPQXkft8H60xV8YSgTF1Ew0cU9XzAKp6TFUrH+n/H2DypVZW1XO4HvALxIHRTANnicCYuvkUuE1E9ojIPBF5oMp364HzIvLD2lZ2D5zWHljj4ziNuWKWCIypA1X9BuiKaxKQQiBLRH5Wpch0aj4rSBaRHOAIriEwjvg6VmOulCUCY+pIVctVdbWqTgNGAYOqfLcKCMM1M1xVa93XFO4C/ktEOl+zgI2pI0sExtSBiHQQkfZVFnUGDlQrNgPXJDnfoap7gN8BE3wToTFXzxKBMXUTAbwlIjvdXT3xQHrVAqr6V1zdRrXJAHqKSBufRWnMVbDRR40xxuHsjMAYYxzOEoExxjicJQJjjHE4SwTGGONwlgiMMcbhLBEYY4zDWSIwxhiH+39nuhjFGzyd7QAAAABJRU5ErkJggg==\n",
>>>>>>> parent of ec36834... change Expose and Slide
      "text/plain": [
       "<Figure size 432x288 with 1 Axes>"
      ]
     },
     "metadata": {
      "needs_background": "light",
      "tags": []
     },
     "output_type": "display_data"
    }
   ],
   "source": [
<<<<<<< HEAD
    "import matplotlib.pyplot as plt\n",
    "\n",
    "legend = [\"ResNet\", \"ResNet_da\", \"Parseval\", \"Parseval_da\"]\n",
    "plt.plot(list_df_r[0][\"SNR\"], mean_acc_r, 'o-')\n",
    "plt.plot(list_df_r[0][\"SNR\"], mean_acc_da_r, 'o-')\n",
    "\n",
    "plt.plot(list_df_r[0][\"SNR\"], mean_acc, 'o-')\n",
    "plt.plot(list_df_r[0][\"SNR\"], mean_acc_da, 'o-')\n",
    "\n",
    "plt.title(\"The Performance of the models \\n for varios magnitudes \\n adversarial noise\")\n",
    "plt.ylabel('mean acc of \\n 10 Folds CV')\n",
=======
    "legend = [\"ResNet\", \"ResNet_adv\",\"Parseval\", \"Parseval_adv\"]\n",
    "plt.plot(column, resnet, 'o-')\n",
    "plt.plot(column, resnet_adv, 'o-')\n",
    "plt.plot(column, parseval, 'o-')\n",
    "plt.plot(column, parseval_adv, 'o-')\n",
    "\n",
    "plt.ylabel('accuracy')\n",
>>>>>>> parent of ec36834... change Expose and Slide
    "plt.xlabel('SNR')\n",
    "plt.legend(legend, loc='lower right')\n",
    "plt.show()"
   ]
  },
  {
   "cell_type": "code",
   "execution_count": 101,
   "metadata": {
    "id": "caEi935p-frB"
   },
   "outputs": [],
   "source": []
  },
  {
   "cell_type": "code",
   "execution_count": 119,
   "metadata": {
    "id": "cPqVCc2J-6GU"
   },
   "outputs": [],
   "source": [
    "import json\n",
    "for i in range(34):\n",
    "    with open(\"result.json\", mode='a', encoding='utf-8') as feedsjson:\n",
    "        data = {\"SNR\":list_df_r[0][\"SNR\"][i], \"mean_ResNet\":mean_acc_r[i],\"mean_ResNet_da\":mean_acc_da_r[i], \"mean_Parseval\":mean_acc[i],\"mean_Parseval_da\":mean_acc_da[i]}\n",
    "        feedsjson.write(json.dumps(data, ensure_ascii=False, indent=4))\n",
    "        feedsjson.close()"
   ]
  }
 ],
 "metadata": {
  "accelerator": "GPU",
  "colab": {
   "name": "SignalToNoiseRatio.ipynb",
   "provenance": []
  },
  "kernelspec": {
   "display_name": "Python 3",
   "language": "python",
   "name": "python3"
  },
  "language_info": {
   "codemirror_mode": {
    "name": "ipython",
    "version": 3
   },
   "file_extension": ".py",
   "mimetype": "text/x-python",
   "name": "python",
   "nbconvert_exporter": "python",
   "pygments_lexer": "ipython3",
   "version": "3.7.4"
  }
 },
 "nbformat": 4,
 "nbformat_minor": 1
}
