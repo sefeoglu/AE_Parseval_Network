{
 "cells": [
  {
   "cell_type": "markdown",
   "id": "related-myanmar",
   "metadata": {},
   "source": [
    "## <font color=\"purple\"> Random Noise Attacks</font>"
   ]
  },
  {
   "cell_type": "markdown",
   "id": "thirty-blanket",
   "metadata": {},
   "source": [
    "* Possion Noise Attack:"
   ]
  },
  {
   "cell_type": "code",
   "execution_count": 1,
   "id": "entitled-fault",
   "metadata": {},
   "outputs": [],
   "source": [
    "def possion_noise(size):\n",
    "    \"\"\"Args:\n",
    "        size: image size\n",
    "        Returns: possion noise\n",
    "    \"\"\"\n",
    "    return None\n",
    "    "
   ]
  },
  {
   "cell_type": "markdown",
   "id": "hindu-split",
   "metadata": {},
   "source": [
    "* Gaussian Noise Attacks:"
   ]
  },
  {
   "cell_type": "code",
   "execution_count": 2,
   "id": "floating-toolbox",
   "metadata": {},
   "outputs": [],
   "source": [
    "def gaussion_noise(size):\n",
    "    \"\"\"Args:\n",
    "        size: image size\n",
    "        Returns : gaussion noise\n",
    "    \"\"\"\n",
    "    return Noise\n",
    "\n"
   ]
  },
  {
   "cell_type": "markdown",
   "id": "lightweight-audience",
   "metadata": {},
   "source": [
    "## Convolutional Neural Network Models"
   ]
  },
  {
   "cell_type": "markdown",
   "id": "italian-newark",
   "metadata": {},
   "source": [
    "## Residual Networks and Parseval Networks"
   ]
  }
 ],
 "metadata": {
  "kernelspec": {
   "display_name": "Python 3",
   "language": "python",
   "name": "python3"
  },
  "language_info": {
   "codemirror_mode": {
    "name": "ipython",
    "version": 3
   },
   "file_extension": ".py",
   "mimetype": "text/x-python",
   "name": "python",
   "nbconvert_exporter": "python",
   "pygments_lexer": "ipython3",
   "version": "3.7.7"
  }
 },
 "nbformat": 4,
 "nbformat_minor": 5
}
