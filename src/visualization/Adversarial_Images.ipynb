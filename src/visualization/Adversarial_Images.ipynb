{
  "nbformat": 4,
  "nbformat_minor": 0,
  "metadata": {
    "colab": {
      "name": "Adversarial_Images.ipynb",
      "provenance": []
    },
    "kernelspec": {
      "display_name": "Python 3",
      "language": "python",
      "name": "python3"
    },
    "language_info": {
      "codemirror_mode": {
        "name": "ipython",
        "version": 3
      },
      "file_extension": ".py",
      "mimetype": "text/x-python",
      "name": "python",
      "nbconvert_exporter": "python",
      "pygments_lexer": "ipython3",
      "version": "3.7.4"
    },
    "accelerator": "GPU"
  },
  "cells": [
    {
      "cell_type": "code",
      "metadata": {
        "colab": {
          "base_uri": "https://localhost:8080/"
        },
        "id": "9qk1zJDcAPyb",
        "outputId": "f0d471cb-907c-45ee-acf6-0aa3f5e8d48e"
      },
      "source": [
        "!pip install -qq -e git+http://github.com/tensorflow/cleverhans.git#egg=cleverhans\n",
        "import sys\n",
        "sys.path.append('/content/src/cleverhans')\n",
        "import cleverhans"
      ],
      "execution_count": 3,
      "outputs": [
        {
          "output_type": "stream",
          "text": [
            "\u001b[?25l\r\u001b[K     |██▏                             | 10kB 22.7MB/s eta 0:00:01\r\u001b[K     |████▎                           | 20kB 29.3MB/s eta 0:00:01\r\u001b[K     |██████▍                         | 30kB 15.2MB/s eta 0:00:01\r\u001b[K     |████████▌                       | 40kB 11.1MB/s eta 0:00:01\r\u001b[K     |██████████▋                     | 51kB 6.6MB/s eta 0:00:01\r\u001b[K     |████████████▊                   | 61kB 7.0MB/s eta 0:00:01\r\u001b[K     |██████████████▉                 | 71kB 7.6MB/s eta 0:00:01\r\u001b[K     |█████████████████               | 81kB 7.9MB/s eta 0:00:01\r\u001b[K     |███████████████████             | 92kB 8.2MB/s eta 0:00:01\r\u001b[K     |█████████████████████▏          | 102kB 8.9MB/s eta 0:00:01\r\u001b[K     |███████████████████████▎        | 112kB 8.9MB/s eta 0:00:01\r\u001b[K     |█████████████████████████▍      | 122kB 8.9MB/s eta 0:00:01\r\u001b[K     |███████████████████████████▌    | 133kB 8.9MB/s eta 0:00:01\r\u001b[K     |█████████████████████████████▋  | 143kB 8.9MB/s eta 0:00:01\r\u001b[K     |███████████████████████████████▊| 153kB 8.9MB/s eta 0:00:01\r\u001b[K     |████████████████████████████████| 163kB 8.9MB/s \n",
            "\u001b[?25h\u001b[?25l\r\u001b[K     |████████                        | 10kB 31.3MB/s eta 0:00:01\r\u001b[K     |███████████████▉                | 20kB 36.4MB/s eta 0:00:01\r\u001b[K     |███████████████████████▊        | 30kB 41.1MB/s eta 0:00:01\r\u001b[K     |███████████████████████████████▊| 40kB 31.1MB/s eta 0:00:01\r\u001b[K     |████████████████████████████████| 51kB 8.5MB/s \n",
            "\u001b[?25h"
          ],
          "name": "stdout"
        }
      ]
    },
    {
      "cell_type": "code",
      "metadata": {
        "colab": {
          "base_uri": "https://localhost:8080/"
        },
        "id": "5R0e78sXAoFl",
        "outputId": "e3716b0c-75e4-420e-b509-f14e37ec7785"
      },
      "source": [
        "import tensorflow as tf\n",
        "from cleverhans.future.tf2.attacks import fast_gradient_method\n",
        "from tensorflow.keras.optimizers import SGD\n",
        "from sklearn.model_selection import train_test_split\n",
        "from wresnet import WideResidualNetwork\n",
        "\n",
        "import gzip\n",
        "import pickle\n",
        "import numpy as np\n",
        "import matplotlib.pyplot as plt\n",
        "import warnings\n",
        "warnings.filterwarnings(\"ignore\")\n",
        "\n",
        "print(\"\\nTensorflow Version: \" + tf.__version__)\n",
        "\n",
        "\n",
        "# defined utility functions\n",
        "from preprocessing import preprocessing_data"
      ],
      "execution_count": 4,
      "outputs": [
        {
          "output_type": "stream",
          "text": [
            "\n",
            "Tensorflow Version: 2.4.0\n"
          ],
          "name": "stdout"
        }
      ]
    },
    {
      "cell_type": "code",
      "metadata": {
        "colab": {
          "base_uri": "https://localhost:8080/"
        },
        "id": "WHKax8HV4L1A",
        "outputId": "3b493537-5f81-4b0a-8dcd-3d5346e6cb97"
      },
      "source": [
        "from google.colab import drive\n",
        "drive.mount('/content/drive')"
      ],
      "execution_count": 1,
      "outputs": [
        {
          "output_type": "stream",
          "text": [
            "Mounted at /content/drive\n"
          ],
          "name": "stdout"
        }
      ]
    },
    {
      "cell_type": "code",
      "metadata": {
        "id": "h5LxRSkt3ozC"
      },
      "source": [
        "!cp drive/MyDrive/adversarial_examples_parseval_net/data.pz sample_data/"
      ],
      "execution_count": 2,
      "outputs": []
    },
    {
      "cell_type": "code",
      "metadata": {
        "id": "R5LbimfDA7MR"
      },
      "source": [
        "def read_data():\n",
        "    with open(\"data.pz\", 'rb') as file_:\n",
        "        with gzip.GzipFile(fileobj=file_) as gzf:\n",
        "            data = pickle.load(gzf, encoding='latin1', fix_imports=True)\n",
        "    return data\n",
        "data = read_data()"
      ],
      "execution_count": 5,
      "outputs": []
    },
    {
      "cell_type": "code",
      "metadata": {
        "id": "eUQ-IwRpDXdZ"
      },
      "source": [
        "generator = tf.keras.preprocessing.image.ImageDataGenerator(rotation_range=10,\n",
        "                               width_shift_range=5./32,\n",
        "                               height_shift_range=5./32,)"
      ],
      "execution_count": 6,
      "outputs": []
    },
    {
      "cell_type": "code",
      "metadata": {
        "id": "NjPPU_u2BE7J"
      },
      "source": [
        "X, y = preprocessing_data(data)\n",
        "X_train, X_test, Y_train, y_test = train_test_split(X, y, test_size = 0.1)\n",
        "x_train, x_val, y_train, y_val = train_test_split(X_train, Y_train, test_size = 0.1)"
      ],
      "execution_count": 7,
      "outputs": []
    },
    {
      "cell_type": "code",
      "metadata": {
        "id": "CN6sQkhXBJoq"
      },
      "source": [
        "EPOCHS = 50\n",
        "BS = 64\n",
        "init = (32, 32,1)\n",
        "sgd = SGD(lr=0.1, momentum=0.9)\n",
        "parameter = {'epochs': EPOCHS, 'batch_size': BS, 'optimizer': sgd}"
      ],
      "execution_count": 8,
      "outputs": []
    },
    {
      "cell_type": "code",
      "metadata": {
        "id": "TM6hWyAHBLxG"
      },
      "source": [
        "wresnet_ins = WideResidualNetwork(init, 0.0001, 0.9, nb_classes=4, N=2, k=1, dropout=0.0)"
      ],
      "execution_count": 9,
      "outputs": []
    },
    {
      "cell_type": "code",
      "metadata": {
        "id": "NA7I7ZXEBP6h"
      },
      "source": [
        "model = wresnet_ins.create_wide_residual_network()\n",
        "model.compile(loss=\"categorical_crossentropy\", optimizer=sgd, metrics=[\"acc\"])\n",
        "model.fit(generator.flow(x_train, y_train, batch_size=BS),steps_per_epoch=len(x_train) // BS,\n",
        "          validation_data=(x_val, y_val),epochs = EPOCHS,\n",
        "          validation_steps=x_val.shape[0] // BS,)"
      ],
      "execution_count": null,
      "outputs": []
    },
    {
      "cell_type": "code",
      "metadata": {
        "id": "HFLFt-evCbuC"
      },
      "source": [
        "import cv2\n",
        "image = data[8] \n",
        "img= cv2.resize(image['crop'], (32, 32))\n",
        "\n",
        "img = img.reshape(1, 32, 32, 1)"
      ],
      "execution_count": 66,
      "outputs": []
    },
    {
      "cell_type": "code",
      "metadata": {
        "id": "qFjwgbBJIJin"
      },
      "source": [
        "from sklearn.preprocessing import LabelEncoder\n",
        "import pandas as pd\n",
        "label_orginal = image['label']\n",
        "label = y[8]"
      ],
      "execution_count": 67,
      "outputs": []
    },
    {
      "cell_type": "code",
      "metadata": {
        "colab": {
          "base_uri": "https://localhost:8080/",
          "height": 35
        },
        "id": "K3ZihnSl8bnM",
        "outputId": "5a00841b-88d6-44c8-c466-d3cb437fd3ca"
      },
      "source": [
        "label_orginal"
      ],
      "execution_count": 84,
      "outputs": [
        {
          "output_type": "execute_result",
          "data": {
            "application/vnd.google.colaboratory.intrinsic+json": {
              "type": "string"
            },
            "text/plain": [
              "'open'"
            ]
          },
          "metadata": {
            "tags": []
          },
          "execution_count": 84
        }
      ]
    },
    {
      "cell_type": "code",
      "metadata": {
        "id": "-S78HJ84Fe8Z"
      },
      "source": [
        "def adversarial(model, img, label, epsilon):\n",
        "    original_image = img\n",
        "    original_image = tf.convert_to_tensor(original_image.reshape((1,32,32))) #The .reshape just gives it the proper form to input into the model, a batch of 1 a.k.a a tensor\n",
        "    original_label = label\n",
        "    original_label = np.reshape(np.argmax(original_label), (1,)).astype('int64')\n",
        "    adv_example_targeted_label = fast_gradient_method(model, original_image, epsilon, np.inf,y=original_label, targeted=False)\n",
        "    adv_example_targeted_label = np.array(adv_example_targeted_label).reshape(32,32)\n",
        "    return adv_example_targeted_label"
      ],
      "execution_count": 68,
      "outputs": []
    },
    {
      "cell_type": "code",
      "metadata": {
        "id": "XUqkTcDeD5Dp"
      },
      "source": [
        "img_50 = adversarial(model,img, label,epsilon=0.003)\n",
        "img_50 = (img_50 - img_50.min()) * 255 / (img_50.max() - img_50.min())\n",
        "label_50 = np.argmax(model.predict(img_50.reshape(1,32,32)))\n",
        "img_45 = adversarial(model,img, label,epsilon=0.005)\n",
        "img_45 = (img_45 - img_45.min()) * 255 / (img_45.max() - img_45.min())\n",
        "label_45 = np.argmax(model.predict(img_45.reshape(1,32,32)))\n",
        "img_40 = adversarial(model,img, label,epsilon=0.01)\n",
        "img_40 = (img_40 - img_40.min()) * 255 / (img_40.max() - img_40.min())\n",
        "label_40 = np.argmax(model.predict(img_40.reshape(1,32,32)))\n",
        "img_33 = adversarial(model,img, label,epsilon=0.02)\n",
        "img_33 = (img_33 - img_33.min()) * 255 / (img_33.max() - img_33.min())\n",
        "label_33 = np.argmax(model.predict(img_33.reshape(1,32,32)))"
      ],
      "execution_count": 85,
      "outputs": []
    },
    {
      "cell_type": "code",
      "metadata": {
        "colab": {
          "base_uri": "https://localhost:8080/"
        },
        "id": "y_gDte-XLW5e",
        "outputId": "4e700ec9-9e9b-4f28-a0d9-4708ec0e3f07"
      },
      "source": [
        "print(\"img_50: {0} \\n, img_45: {1}, img_40: {2}, img_33:{3}\".format(label_50,label_45,label_40, label_33))"
      ],
      "execution_count": 79,
      "outputs": [
        {
          "output_type": "stream",
          "text": [
            "img_50: 1 \n",
            ", img_45: 1, img_40: 1, img_33:1\n"
          ],
          "name": "stdout"
        }
      ]
    },
    {
      "cell_type": "code",
      "metadata": {
        "colab": {
          "base_uri": "https://localhost:8080/",
          "height": 281
        },
        "id": "ty7sB8dJGz2B",
        "outputId": "a7403127-46e9-4e35-985a-361c4a5d5d05"
      },
      "source": [
        "original_img = data[8]['crop']\n",
        "label_orginal\n",
        "recovered = (original_img - original_img.min()) * 255 / (original_img.max() - original_img.min())\n",
        "plt.title(\"Image Label : {0}\".format(label_orginal))\n",
        "plt.imshow(recovered, cmap='gray')\n",
        "plt.savefig('Original.png')"
      ],
      "execution_count": 80,
      "outputs": [
        {
          "output_type": "display_data",
          "data": {
            "image/png": "[encoded data removed]",
            "text/plain": [
              "<Figure size 432x288 with 1 Axes>"
            ]
          },
          "metadata": {
            "tags": [],
            "needs_background": "light"
          }
        }
      ]
    },
    {
      "cell_type": "code",
      "metadata": {
        "colab": {
          "base_uri": "https://localhost:8080/",
          "height": 35
        },
        "id": "SY5LT50SHERi",
        "outputId": "83ed36a9-575e-4117-915d-e3c04814cec5"
      },
      "source": [
        "data[0]['label']"
      ],
      "execution_count": 72,
      "outputs": [
        {
          "output_type": "execute_result",
          "data": {
            "application/vnd.google.colaboratory.intrinsic+json": {
              "type": "string"
            },
            "text/plain": [
              "'open'"
            ]
          },
          "metadata": {
            "tags": []
          },
          "execution_count": 72
        }
      ]
    },
    {
      "cell_type": "code",
      "metadata": {
        "colab": {
          "base_uri": "https://localhost:8080/",
          "height": 326
        },
        "id": "7E-AAdfkG3ty",
        "outputId": "39efb788-1f0d-41e6-8b13-6ca78c367ea4"
      },
      "source": [
        "plt.figure(1)\n",
        "fig, _ = plt.subplots(2, 2)\n",
        "fig.tight_layout()\n",
        "\n",
        "plt.subplot(221)\n",
        "plt.title(\"SNR=50\")\n",
        "plt.imshow(img_50,cmap='gray' )\n",
        "plt.subplot(222)\n",
        "plt.title(\"SNR=45\")\n",
        "plt.imshow(img_45,cmap='gray' )\n",
        "plt.subplot(223)\n",
        "plt.title(\"SNR=40\")\n",
        "plt.imshow(img_40, cmap='gray')\n",
        "plt.subplot(224)\n",
        "plt.title(\"SNR=33\")\n",
        "plt.imshow(img_33, cmap='gray')\n",
        "plt.savefig('PertubatedImagesforDifferentSNR.png')\n",
        "plt.show()"
      ],
      "execution_count": 82,
      "outputs": [
        {
          "output_type": "display_data",
          "data": {
            "text/plain": [
              "<Figure size 432x288 with 0 Axes>"
            ]
          },
          "metadata": {
            "tags": []
          }
        },
        {
          "output_type": "display_data",
          "data": {
            "image/png": "[encoded data removed]",
            "text/plain": [
              "<Figure size 432x288 with 4 Axes>"
            ]
          },
          "metadata": {
            "tags": [],
            "needs_background": "light"
          }
        }
      ]
    }
  ]
}