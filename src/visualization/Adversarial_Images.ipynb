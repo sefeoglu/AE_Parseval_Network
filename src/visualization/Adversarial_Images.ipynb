{
  "nbformat": 4,
  "nbformat_minor": 0,
  "metadata": {
    "kernelspec": {
      "display_name": "Python 3",
      "language": "python",
      "name": "python3"
    },
    "language_info": {
      "codemirror_mode": {
        "name": "ipython",
        "version": 3
      },
      "file_extension": ".py",
      "mimetype": "text/x-python",
      "name": "python",
      "nbconvert_exporter": "python",
      "pygments_lexer": "ipython3",
      "version": "3.7.4"
    },
    "colab": {
      "name": "Adversarial_Images.ipynb",
      "provenance": []
    }
  },
  "cells": [
    {
      "cell_type": "code",
      "metadata": {
        "id": "9qk1zJDcAPyb"
      },
      "source": [
        "!pip install -qq -e git+http://github.com/tensorflow/cleverhans.git#egg=cleverhans\n",
        "import sys\n",
        "sys.path.append('/content/src/cleverhans')\n",
        "import cleverhans"
      ],
      "execution_count": 13,
      "outputs": []
    },
    {
      "cell_type": "code",
      "metadata": {
        "id": "5R0e78sXAoFl",
        "outputId": "cc79017a-bb12-42ce-a3ff-327fbf2ed3b5",
        "colab": {
          "base_uri": "https://localhost:8080/"
        }
      },
      "source": [
        "import tensorflow as tf\n",
        "from cleverhans.future.tf2.attacks import fast_gradient_method\n",
        "from tensorflow.keras.optimizers import SGD\n",
        "from sklearn.model_selection import train_test_split\n",
        "from wresnet import WideResidualNetwork\n",
        "\n",
        "import gzip\n",
        "import pickle\n",
        "import numpy as np\n",
        "import matplotlib.pyplot as plt\n",
        "import warnings\n",
        "warnings.filterwarnings(\"ignore\")\n",
        "\n",
        "print(\"\\nTensorflow Version: \" + tf.__version__)\n",
        "\n",
        "\n",
        "# defined utility functions\n",
        "from preprocessing import preprocessing_data"
      ],
      "execution_count": 2,
      "outputs": [
        {
          "output_type": "stream",
          "text": [
            "\n",
            "Tensorflow Version: 2.3.0\n"
          ],
          "name": "stdout"
        }
      ]
    },
    {
      "cell_type": "code",
      "metadata": {
        "id": "R5LbimfDA7MR"
      },
      "source": [
        "def read_data():\n",
        "    with open(\"data.pz\", 'rb') as file_:\n",
        "        with gzip.GzipFile(fileobj=file_) as gzf:\n",
        "            data = pickle.load(gzf, encoding='latin1', fix_imports=True)\n",
        "    return data\n",
        "data = read_data()"
      ],
      "execution_count": 14,
      "outputs": []
    },
    {
      "cell_type": "code",
      "metadata": {
        "id": "NjPPU_u2BE7J"
      },
      "source": [
        "X, y = preprocessing_data(data)\n",
        "X_train, X_test, Y_train, y_test = train_test_split(X, y, test_size = 0.1)\n",
        "x_train, X_val, y_train, y_val = train_test_split(X_train, Y_train, test_size = 0.1)"
      ],
      "execution_count": 15,
      "outputs": []
    },
    {
      "cell_type": "code",
      "metadata": {
        "id": "CN6sQkhXBJoq"
      },
      "source": [
        "EPOCHS = 50\n",
        "BS = 64\n",
        "init = (32, 32,1)\n",
        "sgd = SGD(lr=0.1, momentum=0.9)\n",
        "parameter = {'epochs': EPOCHS, 'batch_size': BS, 'optimizer': sgd}"
      ],
      "execution_count": 16,
      "outputs": []
    },
    {
      "cell_type": "code",
      "metadata": {
        "id": "TM6hWyAHBLxG"
      },
      "source": [
        "wresnet_ins = WideResidualNetwork(init, 0.0001, 0.9, nb_classes=4, N=2, k=1, dropout=0.0)"
      ],
      "execution_count": 17,
      "outputs": []
    },
    {
      "cell_type": "code",
      "metadata": {
        "id": "NA7I7ZXEBP6h",
        "outputId": "05c17783-9d84-4fac-c537-b69faa640298",
        "colab": {
          "base_uri": "https://localhost:8080/"
        }
      },
      "source": [
        "model = wresnet_ins.create_wide_residual_network()\n",
        "model.compile(loss=\"categorical_crossentropy\", optimizer=sgd, metrics=[\"acc\"])"
      ],
      "execution_count": 18,
      "outputs": [
        {
          "output_type": "stream",
          "text": [
            "conv2:channel:  -1\n",
            "Wide Residual Network-16-1 created.\n"
          ],
          "name": "stdout"
        }
      ]
    },
    {
      "cell_type": "code",
      "metadata": {
        "id": "HFLFt-evCbuC"
      },
      "source": [
        "img = X[0]\n",
        "label = y[0]"
      ],
      "execution_count": 19,
      "outputs": []
    },
    {
      "cell_type": "code",
      "metadata": {
        "id": "-S78HJ84Fe8Z"
      },
      "source": [
        "def adversarial(model, img, label, epsilon):\n",
        "  original_image = img\n",
        "  original_image = tf.convert_to_tensor(original_image.reshape((1,32,32))) #The .reshape just gives it the proper form to input into the model, a batch of 1 a.k.a a tensor\n",
        "  original_label = label\n",
        "  original_label = np.reshape(np.argmax(original_label), (1,)).astype('int64')\n",
        "  adv_example_targeted_label = fast_gradient_method(model, original_image, epsilon, np.inf,y=original_label, targeted=False)\n",
        "  adv_example_targeted_label = np.array(adv_example_targeted_label).reshape(32,32)\n",
        "  return adv_example_targeted_label"
      ],
      "execution_count": 20,
      "outputs": []
    },
    {
      "cell_type": "code",
      "metadata": {
        "id": "XUqkTcDeD5Dp"
      },
      "source": [
        "img_50 = adversarial(model,img, label,epsilon=0.02)\n",
        "img_45 = adversarial(model,img, label,epsilon=0.01)\n",
        "img_40 = adversarial(model,img, label,epsilon=0.005)\n",
        "img_33 = adversarial(model,img, label,epsilon=0.003)"
      ],
      "execution_count": 21,
      "outputs": []
    },
    {
      "cell_type": "code",
      "metadata": {
        "id": "ty7sB8dJGz2B",
        "outputId": "713bc791-d9bc-459d-fc98-167ff779d2f3",
        "colab": {
          "base_uri": "https://localhost:8080/",
          "height": 283
        }
      },
      "source": [
        "img = np.array(img).reshape(32,32)\n",
        "plt.imshow(img, cmap='hot')"
      ],
      "execution_count": 22,
      "outputs": [
        {
          "output_type": "execute_result",
          "data": {
            "text/plain": [
              "<matplotlib.image.AxesImage at 0x7ff4f95f11d0>"
            ]
          },
          "metadata": {
            "tags": []
          },
          "execution_count": 22
        },
        {
          "output_type": "display_data",
          "data": {
            "image/png": "[encoded data removed]",
            "text/plain": [
              "<Figure size 432x288 with 1 Axes>"
            ]
          },
          "metadata": {
            "tags": [],
            "needs_background": "light"
          }
        }
      ]
    },
    {
      "cell_type": "code",
      "metadata": {
        "id": "7E-AAdfkG3ty",
        "outputId": "b5311c31-6480-4f60-903b-3f8e93c1415a",
        "colab": {
          "base_uri": "https://localhost:8080/",
          "height": 326
        }
      },
      "source": [
        "plt.figure(1)\n",
        "fig, _ = plt.subplots(2, 2)\n",
        "fig.tight_layout()\n",
        "\n",
        "plt.subplot(221)\n",
        "plt.title(\"SNR=50\")\n",
        "plt.imshow(img_50, cmap='hot')\n",
        "plt.subplot(222)\n",
        "plt.title(\"SNR=45\")\n",
        "plt.imshow(img_45,cmap='hot' )\n",
        "plt.subplot(223)\n",
        "plt.title(\"SNR=40\")\n",
        "plt.imshow(img_40, cmap='hot')\n",
        "plt.subplot(224)\n",
        "plt.title(\"SNR=33\")\n",
        "plt.imshow(img_33, cmap='hot')\n",
        "\n",
        "plt.show()"
      ],
      "execution_count": 23,
      "outputs": [
        {
          "output_type": "display_data",
          "data": {
            "text/plain": [
              "<Figure size 432x288 with 0 Axes>"
            ]
          },
          "metadata": {
            "tags": []
          }
        },
        {
          "output_type": "display_data",
          "data": {
            "image/png": "[encoded data removed]",
            "text/plain": [
              "<Figure size 432x288 with 4 Axes>"
            ]
          },
          "metadata": {
            "tags": [],
            "needs_background": "light"
          }
        }
      ]
    }
  ]
}