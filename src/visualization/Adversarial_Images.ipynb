{
  "nbformat": 4,
  "nbformat_minor": 0,
  "metadata": {
    "colab": {
      "name": "Adversarial_Images.ipynb",
      "provenance": []
    },
    "kernelspec": {
      "display_name": "Python 3",
      "language": "python",
      "name": "python3"
    },
    "language_info": {
      "codemirror_mode": {
        "name": "ipython",
        "version": 3
      },
      "file_extension": ".py",
      "mimetype": "text/x-python",
      "name": "python",
      "nbconvert_exporter": "python",
      "pygments_lexer": "ipython3",
      "version": "3.7.4"
    }
  },
  "cells": [
    {
      "cell_type": "code",
      "metadata": {
        "id": "9qk1zJDcAPyb",
        "outputId": "c408e764-dd50-4d92-b0c1-ed4de3b943da",
        "colab": {
          "base_uri": "https://localhost:8080/"
        }
      },
      "source": [
        "!pip install -qq -e git+http://github.com/tensorflow/cleverhans.git#egg=cleverhans\n",
        "import sys\n",
        "sys.path.append('/content/src/cleverhans')\n",
        "import cleverhans"
      ],
      "execution_count": 1,
      "outputs": [
        {
          "output_type": "stream",
          "text": [
            "\u001b[K     |████████████████████████████████| 163kB 3.4MB/s \n",
            "\u001b[K     |████████████████████████████████| 51kB 5.0MB/s \n",
            "\u001b[?25h"
          ],
          "name": "stdout"
        }
      ]
    },
    {
      "cell_type": "code",
      "metadata": {
        "id": "5R0e78sXAoFl",
        "outputId": "d2f7262e-300e-4723-94f2-c4c1d202fda6",
        "colab": {
          "base_uri": "https://localhost:8080/"
        }
      },
      "source": [
        "import tensorflow as tf\n",
        "from cleverhans.future.tf2.attacks import fast_gradient_method\n",
        "from tensorflow.keras.optimizers import SGD\n",
        "from sklearn.model_selection import train_test_split\n",
        "from wresnet import WideResidualNetwork\n",
        "\n",
        "import gzip\n",
        "import pickle\n",
        "import numpy as np\n",
        "import matplotlib.pyplot as plt\n",
        "import warnings\n",
        "warnings.filterwarnings(\"ignore\")\n",
        "\n",
        "print(\"\\nTensorflow Version: \" + tf.__version__)\n",
        "\n",
        "\n",
        "# defined utility functions\n",
        "from preprocessing import preprocessing_data"
      ],
      "execution_count": 2,
      "outputs": [
        {
          "output_type": "stream",
          "text": [
            "\n",
            "Tensorflow Version: 2.3.0\n"
          ],
          "name": "stdout"
        }
      ]
    },
    {
      "cell_type": "code",
      "metadata": {
        "id": "R5LbimfDA7MR"
      },
      "source": [
        "def read_data():\n",
        "    with open(\"data.pz\", 'rb') as file_:\n",
        "        with gzip.GzipFile(fileobj=file_) as gzf:\n",
        "            data = pickle.load(gzf, encoding='latin1', fix_imports=True)\n",
        "    return data\n",
        "data = read_data()"
      ],
      "execution_count": 5,
      "outputs": []
    },
    {
      "cell_type": "code",
      "metadata": {
        "id": "eUQ-IwRpDXdZ"
      },
      "source": [
        "generator = tf.keras.preprocessing.image.ImageDataGenerator(rotation_range=10,\n",
        "                               width_shift_range=5./32,\n",
        "                               height_shift_range=5./32,)"
      ],
      "execution_count": 6,
      "outputs": []
    },
    {
      "cell_type": "code",
      "metadata": {
        "id": "NjPPU_u2BE7J"
      },
      "source": [
        "X, y = preprocessing_data(data)\n",
        "X_train, X_test, Y_train, y_test = train_test_split(X, y, test_size = 0.1)\n",
        "x_train, x_val, y_train, y_val = train_test_split(X_train, Y_train, test_size = 0.1)"
      ],
      "execution_count": 7,
      "outputs": []
    },
    {
      "cell_type": "code",
      "metadata": {
        "id": "CN6sQkhXBJoq"
      },
      "source": [
        "EPOCHS = 50\n",
        "BS = 64\n",
        "init = (32, 32,1)\n",
        "sgd = SGD(lr=0.1, momentum=0.9)\n",
        "parameter = {'epochs': EPOCHS, 'batch_size': BS, 'optimizer': sgd}"
      ],
      "execution_count": 8,
      "outputs": []
    },
    {
      "cell_type": "code",
      "metadata": {
        "id": "TM6hWyAHBLxG"
      },
      "source": [
        "wresnet_ins = WideResidualNetwork(init, 0.0001, 0.9, nb_classes=4, N=2, k=1, dropout=0.0)"
      ],
      "execution_count": 9,
      "outputs": []
    },
    {
      "cell_type": "code",
      "metadata": {
        "id": "NA7I7ZXEBP6h",
        "outputId": "03333f76-cd42-4263-ec03-defde6e3ea30",
        "colab": {
          "base_uri": "https://localhost:8080/"
        }
      },
      "source": [
        "model = wresnet_ins.create_wide_residual_network()\n",
        "model.compile(loss=\"categorical_crossentropy\", optimizer=sgd, metrics=[\"acc\"])\n",
        "model.fit(generator.flow(x_train, y_train, batch_size=BS),steps_per_epoch=len(x_train) // BS,\n",
        "          validation_data=(x_val, y_val),\n",
        "          validation_steps=x_val.shape[0] // BS,)"
      ],
      "execution_count": 11,
      "outputs": [
        {
          "output_type": "stream",
          "text": [
            "conv2:channel:  -1\n",
            "Wide Residual Network-16-1 created.\n",
            "72/72 [==============================] - 41s 569ms/step - loss: 1.4228 - acc: 0.3442 - val_loss: 1.4080 - val_acc: 0.3689\n"
          ],
          "name": "stdout"
        },
        {
          "output_type": "execute_result",
          "data": {
            "text/plain": [
              "<tensorflow.python.keras.callbacks.History at 0x7fc895404ac8>"
            ]
          },
          "metadata": {
            "tags": []
          },
          "execution_count": 11
        }
      ]
    },
    {
      "cell_type": "code",
      "metadata": {
        "id": "HFLFt-evCbuC"
      },
      "source": [
        "import cv2\n",
        "img= cv2.resize(data[0]['crop'], (32, 32))\n",
        "\n",
        "img = img.reshape(1, 32, 32, 1)"
      ],
      "execution_count": 58,
      "outputs": []
    },
    {
      "cell_type": "code",
      "metadata": {
        "id": "qFjwgbBJIJin"
      },
      "source": [
        "from sklearn.preprocessing import LabelEncoder\n",
        "import pandas as pd\n",
        "label_orginal = data[0]['label']\n",
        "label = y[0]"
      ],
      "execution_count": 59,
      "outputs": []
    },
    {
      "cell_type": "code",
      "metadata": {
        "id": "-S78HJ84Fe8Z"
      },
      "source": [
        "def adversarial(model, img, label, epsilon):\n",
        "    original_image = img\n",
        "    original_image = tf.convert_to_tensor(original_image.reshape((1,32,32))) #The .reshape just gives it the proper form to input into the model, a batch of 1 a.k.a a tensor\n",
        "    original_label = label\n",
        "    original_label = np.reshape(np.argmax(original_label), (1,)).astype('int64')\n",
        "    adv_example_targeted_label = fast_gradient_method(model, original_image, epsilon, np.inf,y=original_label, targeted=False)\n",
        "    adv_example_targeted_label = np.array(adv_example_targeted_label).reshape(32,32)\n",
        "    return adv_example_targeted_label"
      ],
      "execution_count": 110,
      "outputs": []
    },
    {
      "cell_type": "code",
      "metadata": {
        "id": "XUqkTcDeD5Dp"
      },
      "source": [
        "img_50 = adversarial(model,img, label,epsilon=0.003)\n",
        "label_50 = np.argmax(model.predict(img_50.reshape(1,32,32)))\n",
        "img_45 = adversarial(model,img, label,epsilon=0.005)\n",
        "label_45 = np.argmax(model.predict(img_45.reshape(1,32,32)))\n",
        "img_40 = adversarial(model,img, label,epsilon=0.01)\n",
        "label_40 = np.argmax(model.predict(img_40.reshape(1,32,32)))\n",
        "img_33 = adversarial(model,img, label,epsilon=0.02)\n",
        "label_33 = np.argmax(model.predict(img_33.reshape(1,32,32)))"
      ],
      "execution_count": 111,
      "outputs": []
    },
    {
      "cell_type": "code",
      "metadata": {
        "id": "y_gDte-XLW5e",
        "outputId": "7d86374d-8b59-4e3c-c1e2-5b2bb63b95ea",
        "colab": {
          "base_uri": "https://localhost:8080/"
        }
      },
      "source": [
        "print(\"img_50: {0} \\n, img_45: {1}, img_40: {2}, img_33:{3}\".format(label_50,label_45,label_40, label_33))"
      ],
      "execution_count": 112,
      "outputs": [
        {
          "output_type": "stream",
          "text": [
            "img_50: 2 \n",
            ", img_45: 2, img_40: 2, img_33:2\n"
          ],
          "name": "stdout"
        }
      ]
    },
    {
      "cell_type": "code",
      "metadata": {
        "id": "ty7sB8dJGz2B",
        "outputId": "30776323-dcc7-4722-f3e0-371e92e1b86a",
        "colab": {
          "base_uri": "https://localhost:8080/",
          "height": 281
        }
      },
      "source": [
        "\n",
        "original_img = data[0]['crop']\n",
        "plt.title(\"Image Label : {0}\".format(label_orginal))\n",
        "plt.imshow(original_img, cmap='hot')\n",
        "plt.savefig('Original.png')"
      ],
      "execution_count": 113,
      "outputs": [
        {
          "output_type": "display_data",
          "data": {
            "image/png": "[encoded data removed]",
            "text/plain": [
              "<Figure size 432x288 with 1 Axes>"
            ]
          },
          "metadata": {
            "tags": [],
            "needs_background": "light"
          }
        }
      ]
    },
    {
      "cell_type": "code",
      "metadata": {
        "id": "SY5LT50SHERi",
        "outputId": "d70a67cb-b575-4f5c-934c-d6bb7e27de9d",
        "colab": {
          "base_uri": "https://localhost:8080/",
          "height": 35
        }
      },
      "source": [
        "data[0]['label']"
      ],
      "execution_count": 114,
      "outputs": [
        {
          "output_type": "execute_result",
          "data": {
            "application/vnd.google.colaboratory.intrinsic+json": {
              "type": "string"
            },
            "text/plain": [
              "'open'"
            ]
          },
          "metadata": {
            "tags": []
          },
          "execution_count": 114
        }
      ]
    },
    {
      "cell_type": "code",
      "metadata": {
        "id": "7E-AAdfkG3ty",
        "outputId": "2e829fc7-a6ab-4995-b3f6-1d40fa94df79",
        "colab": {
          "base_uri": "https://localhost:8080/",
          "height": 326
        }
      },
      "source": [
        "plt.figure(1)\n",
        "fig, _ = plt.subplots(2, 2)\n",
        "fig.tight_layout()\n",
        "\n",
        "plt.subplot(221)\n",
        "plt.title(\"SNR=50\")\n",
        "plt.imshow(img_50, cmap='hot')\n",
        "plt.subplot(222)\n",
        "plt.title(\"SNR=45\")\n",
        "plt.imshow(img_45,cmap='hot' )\n",
        "plt.subplot(223)\n",
        "plt.title(\"SNR=40\")\n",
        "plt.imshow(img_40, cmap='hot')\n",
        "plt.subplot(224)\n",
        "plt.title(\"SNR=33\")\n",
        "plt.imshow(img_33, cmap='hot')\n",
        "plt.savefig('PertubatedImagesforDifferentSNR.png')\n",
        "plt.show()"
      ],
      "execution_count": 115,
      "outputs": [
        {
          "output_type": "display_data",
          "data": {
            "text/plain": [
              "<Figure size 432x288 with 0 Axes>"
            ]
          },
          "metadata": {
            "tags": []
          }
        },
        {
          "output_type": "display_data",
          "data": {
            "image/png": "[encoded data removed]",
            "text/plain": [
              "<Figure size 432x288 with 4 Axes>"
            ]
          },
          "metadata": {
            "tags": [],
            "needs_background": "light"
          }
        }
      ]
    }
  ]
}