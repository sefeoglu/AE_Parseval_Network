{
 "cells": [
  {
   "cell_type": "code",
   "execution_count": null,
   "metadata": {
    "id": "9qk1zJDcAPyb"
   },
   "outputs": [],
   "source": [
    "!pip install -qq -e git+http://github.com/tensorflow/cleverhans.git#egg=cleverhans\n",
    "import sys\n",
    "sys.path.append('/content/src/cleverhans')\n",
    "import cleverhans"
   ]
  },
  {
   "cell_type": "code",
   "execution_count": null,
   "metadata": {
    "colab": {
     "base_uri": "https://localhost:8080/"
    },
    "id": "5R0e78sXAoFl",
    "outputId": "cc79017a-bb12-42ce-a3ff-327fbf2ed3b5"
   },
   "outputs": [],
   "source": [
    "import tensorflow as tf\n",
    "from cleverhans.future.tf2.attacks import fast_gradient_method\n",
    "from tensorflow.keras.optimizers import SGD\n",
    "from sklearn.model_selection import train_test_split\n",
    "from wresnet import WideResidualNetwork\n",
    "\n",
    "import gzip\n",
    "import pickle\n",
    "import numpy as np\n",
    "import matplotlib.pyplot as plt\n",
    "import warnings\n",
    "warnings.filterwarnings(\"ignore\")\n",
    "\n",
    "print(\"\\nTensorflow Version: \" + tf.__version__)\n",
    "\n",
    "\n",
    "# defined utility functions\n",
    "from preprocessing import preprocessing_data"
   ]
  },
  {
   "cell_type": "code",
   "execution_count": null,
   "metadata": {
    "id": "R5LbimfDA7MR"
   },
   "outputs": [],
   "source": [
    "def read_data():\n",
    "    with open(\"data.pz\", 'rb') as file_:\n",
    "        with gzip.GzipFile(fileobj=file_) as gzf:\n",
    "            data = pickle.load(gzf, encoding='latin1', fix_imports=True)\n",
    "    return data\n",
    "data = read_data()"
   ]
  },
  {
   "cell_type": "code",
   "execution_count": null,
   "metadata": {},
   "outputs": [],
   "source": [
    "generator = tf.keras.preprocessing.image.ImageDataGenerator(rotation_range=10,\n",
    "                               width_shift_range=5./32,\n",
    "                               height_shift_range=5./32,)"
   ]
  },
  {
   "cell_type": "code",
   "execution_count": null,
   "metadata": {
    "id": "NjPPU_u2BE7J"
   },
   "outputs": [],
   "source": [
    "X, y = preprocessing_data(data)\n",
    "X_train, X_test, Y_train, y_test = train_test_split(X, y, test_size = 0.1)\n",
    "x_train, x_val, y_train, y_val = train_test_split(X_train, Y_train, test_size = 0.1)"
   ]
  },
  {
   "cell_type": "code",
   "execution_count": null,
   "metadata": {
    "id": "CN6sQkhXBJoq"
   },
   "outputs": [],
   "source": [
    "EPOCHS = 50\n",
    "BS = 64\n",
    "init = (32, 32,1)\n",
    "sgd = SGD(lr=0.1, momentum=0.9)\n",
    "parameter = {'epochs': EPOCHS, 'batch_size': BS, 'optimizer': sgd}"
   ]
  },
  {
   "cell_type": "code",
   "execution_count": null,
   "metadata": {
    "id": "TM6hWyAHBLxG"
   },
   "outputs": [],
   "source": [
    "wresnet_ins = WideResidualNetwork(init, 0.0001, 0.9, nb_classes=4, N=2, k=1, dropout=0.0)"
   ]
  },
  {
   "cell_type": "code",
   "execution_count": null,
   "metadata": {
    "colab": {
     "base_uri": "https://localhost:8080/"
    },
    "id": "NA7I7ZXEBP6h",
    "outputId": "05c17783-9d84-4fac-c537-b69faa640298"
   },
   "outputs": [],
   "source": [
    "model = wresnet_ins.create_wide_residual_network()\n",
    "model.compile(loss=\"categorical_crossentropy\", optimizer=sgd, metrics=[\"acc\"])\n",
    "model.fit(generator.flow(x_train, y_train, batch_size=BS),steps_per_epoch=len(x_train) // BS, \n",
    "          epochs= EPOCHS, callbacks = callbacks_list,\n",
    "          validation_data=(x_val, y_val),\n",
    "          validation_steps=x_val.shape[0] // BS,)"
   ]
  },
  {
   "cell_type": "code",
   "execution_count": null,
   "metadata": {
    "id": "HFLFt-evCbuC"
   },
   "outputs": [],
   "source": [
    "img = X[0]\n",
    "label = y[0]"
   ]
  },
  {
   "cell_type": "code",
   "execution_count": null,
   "metadata": {
    "id": "-S78HJ84Fe8Z"
   },
   "outputs": [],
   "source": [
    "def adversarial(model, img, label, epsilon):\n",
    "    original_image = img\n",
    "    original_image = tf.convert_to_tensor(original_image.reshape((1,32,32))) #The .reshape just gives it the proper form to input into the model, a batch of 1 a.k.a a tensor\n",
    "    original_label = label\n",
    "    original_label = np.reshape(np.argmax(original_label), (1,)).astype('int64')\n",
    "    adv_example_targeted_label = fast_gradient_method(model, original_image, epsilon, np.inf,y=original_label, targeted=False)\n",
    "    adv_example_targeted_label = np.array(adv_example_targeted_label).reshape(32,32)\n",
    "    return adv_example_targeted_label"
   ]
  },
  {
   "cell_type": "code",
   "execution_count": null,
   "metadata": {
    "id": "XUqkTcDeD5Dp"
   },
   "outputs": [],
   "source": [
    "img_50 = adversarial(model,img, label,epsilon=0.02)\n",
    "img_45 = adversarial(model,img, label,epsilon=0.01)\n",
    "img_40 = adversarial(model,img, label,epsilon=0.005)\n",
    "img_33 = adversarial(model,img, label,epsilon=0.003)"
   ]
  },
  {
   "cell_type": "code",
   "execution_count": null,
   "metadata": {
    "colab": {
     "base_uri": "https://localhost:8080/",
     "height": 283
    },
    "id": "ty7sB8dJGz2B",
    "outputId": "713bc791-d9bc-459d-fc98-167ff779d2f3"
   },
   "outputs": [],
   "source": [
    "img = np.array(img).reshape(32,32)\n",
    "plt.imshow(img, cmap='hot')"
   ]
  },
  {
   "cell_type": "code",
   "execution_count": null,
   "metadata": {
    "colab": {
     "base_uri": "https://localhost:8080/",
     "height": 326
    },
    "id": "7E-AAdfkG3ty",
    "outputId": "b5311c31-6480-4f60-903b-3f8e93c1415a"
   },
   "outputs": [],
   "source": [
    "plt.figure(1)\n",
    "fig, _ = plt.subplots(2, 2)\n",
    "fig.tight_layout()\n",
    "\n",
    "plt.subplot(221)\n",
    "plt.title(\"SNR=50\")\n",
    "plt.imshow(img_50, cmap='hot')\n",
    "plt.subplot(222)\n",
    "plt.title(\"SNR=45\")\n",
    "plt.imshow(img_45,cmap='hot' )\n",
    "plt.subplot(223)\n",
    "plt.title(\"SNR=40\")\n",
    "plt.imshow(img_40, cmap='hot')\n",
    "plt.subplot(224)\n",
    "plt.title(\"SNR=33\")\n",
    "plt.imshow(img_33, cmap='hot')\n",
    "\n",
    "plt.show()"
   ]
  }
 ],
 "metadata": {
  "colab": {
   "name": "Adversarial_Images.ipynb",
   "provenance": []
  },
  "kernelspec": {
   "display_name": "Python 3",
   "language": "python",
   "name": "python3"
  },
  "language_info": {
   "codemirror_mode": {
    "name": "ipython",
    "version": 3
   },
   "file_extension": ".py",
   "mimetype": "text/x-python",
   "name": "python",
   "nbconvert_exporter": "python",
   "pygments_lexer": "ipython3",
   "version": "3.7.4"
  }
 },
 "nbformat": 4,
 "nbformat_minor": 1
}
