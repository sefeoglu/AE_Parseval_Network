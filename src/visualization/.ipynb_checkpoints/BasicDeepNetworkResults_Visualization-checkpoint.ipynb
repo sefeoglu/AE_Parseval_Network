{
 "cells": [
  {
   "cell_type": "markdown",
   "metadata": {},
   "source": [
    "# <font color = \"purple\">  Evaluate Hyperparameter Tuning Results</font>"
   ]
  },
  {
   "cell_type": "markdown",
   "metadata": {},
   "source": [
    "Simple wide residual network has 16 hidden layers, and it is defined as WRN-N-k\n",
    "<li> k is the width factor </li>\n",
    "<li> N is the number of residual blocks in wide residual network </li>\n",
    "<li> to convert to residual network to wide, k should be selected greater than 1. </li>"
   ]
  },
  {
   "cell_type": "markdown",
   "metadata": {},
   "source": [
    "### <font color=\"blue\">Python libraries</font>"
   ]
  },
  {
   "cell_type": "code",
   "execution_count": 1,
   "metadata": {},
   "outputs": [],
   "source": [
    "import sys\n",
    "import matplotlib.pyplot as plt\n",
    "import pandas as pd\n",
    "import numpy as np\n",
    "import warnings\n",
    "import os\n",
    "import seaborn as sns\n",
    "warnings.filterwarnings(\"ignore\")"
   ]
  },
  {
   "cell_type": "markdown",
   "metadata": {},
   "source": [
    "## <font color=\"green\"> Simple Residual Network</font>\n",
    "Simple Residual Netwok, witdh factor (k) = 1"
   ]
  },
  {
   "cell_type": "code",
   "execution_count": 2,
   "metadata": {},
   "outputs": [],
   "source": [
    "data  = pd.read_csv(\"/home/sefika/AE_Parseval_Network/src/data/grid_16_1/grid_16_1.csv\", sep=\";\")"
   ]
  },
  {
   "cell_type": "code",
   "execution_count": 3,
   "metadata": {},
   "outputs": [
    {
     "data": {
      "text/html": [
       "<div>\n",
       "<style scoped>\n",
       "    .dataframe tbody tr th:only-of-type {\n",
       "        vertical-align: middle;\n",
       "    }\n",
       "\n",
       "    .dataframe tbody tr th {\n",
       "        vertical-align: top;\n",
       "    }\n",
       "\n",
       "    .dataframe thead th {\n",
       "        text-align: right;\n",
       "    }\n",
       "</style>\n",
       "<table border=\"1\" class=\"dataframe\">\n",
       "  <thead>\n",
       "    <tr style=\"text-align: right;\">\n",
       "      <th></th>\n",
       "      <th>Unnamed: 0</th>\n",
       "      <th>Unnamed: 0.1</th>\n",
       "      <th>momentum</th>\n",
       "      <th>learning rate</th>\n",
       "      <th>batch size</th>\n",
       "      <th>loss1</th>\n",
       "      <th>acc1</th>\n",
       "      <th>loss2</th>\n",
       "      <th>acc2</th>\n",
       "      <th>loss3</th>\n",
       "      <th>acc3</th>\n",
       "      <th>widing factor</th>\n",
       "      <th>epoch_stopped</th>\n",
       "      <th>reg_penalty</th>\n",
       "    </tr>\n",
       "  </thead>\n",
       "  <tbody>\n",
       "    <tr>\n",
       "      <td>0</td>\n",
       "      <td>0</td>\n",
       "      <td>0</td>\n",
       "      <td>0.9</td>\n",
       "      <td>0.1</td>\n",
       "      <td>64.0</td>\n",
       "      <td>0.940410</td>\n",
       "      <td>0.701571</td>\n",
       "      <td>1.201604</td>\n",
       "      <td>0.556719</td>\n",
       "      <td>1.026413</td>\n",
       "      <td>0.666667</td>\n",
       "      <td>2.0</td>\n",
       "      <td>50.0</td>\n",
       "      <td>0.010</td>\n",
       "    </tr>\n",
       "    <tr>\n",
       "      <td>1</td>\n",
       "      <td>1</td>\n",
       "      <td>1</td>\n",
       "      <td>0.9</td>\n",
       "      <td>0.1</td>\n",
       "      <td>64.0</td>\n",
       "      <td>1.059483</td>\n",
       "      <td>0.691099</td>\n",
       "      <td>1.330701</td>\n",
       "      <td>0.630017</td>\n",
       "      <td>1.191599</td>\n",
       "      <td>0.666667</td>\n",
       "      <td>2.0</td>\n",
       "      <td>100.0</td>\n",
       "      <td>0.010</td>\n",
       "    </tr>\n",
       "    <tr>\n",
       "      <td>2</td>\n",
       "      <td>2</td>\n",
       "      <td>2</td>\n",
       "      <td>0.9</td>\n",
       "      <td>0.1</td>\n",
       "      <td>64.0</td>\n",
       "      <td>1.691744</td>\n",
       "      <td>0.584642</td>\n",
       "      <td>1.147779</td>\n",
       "      <td>0.666667</td>\n",
       "      <td>1.305594</td>\n",
       "      <td>0.603839</td>\n",
       "      <td>2.0</td>\n",
       "      <td>150.0</td>\n",
       "      <td>0.010</td>\n",
       "    </tr>\n",
       "    <tr>\n",
       "      <td>3</td>\n",
       "      <td>3</td>\n",
       "      <td>3</td>\n",
       "      <td>0.9</td>\n",
       "      <td>0.1</td>\n",
       "      <td>64.0</td>\n",
       "      <td>1.706317</td>\n",
       "      <td>0.575916</td>\n",
       "      <td>1.286703</td>\n",
       "      <td>0.675393</td>\n",
       "      <td>1.279418</td>\n",
       "      <td>0.652705</td>\n",
       "      <td>2.0</td>\n",
       "      <td>50.0</td>\n",
       "      <td>0.001</td>\n",
       "    </tr>\n",
       "    <tr>\n",
       "      <td>4</td>\n",
       "      <td>4</td>\n",
       "      <td>4</td>\n",
       "      <td>0.9</td>\n",
       "      <td>0.1</td>\n",
       "      <td>64.0</td>\n",
       "      <td>1.126813</td>\n",
       "      <td>0.677138</td>\n",
       "      <td>1.485356</td>\n",
       "      <td>0.617801</td>\n",
       "      <td>1.464330</td>\n",
       "      <td>0.650960</td>\n",
       "      <td>2.0</td>\n",
       "      <td>100.0</td>\n",
       "      <td>0.001</td>\n",
       "    </tr>\n",
       "  </tbody>\n",
       "</table>\n",
       "</div>"
      ],
      "text/plain": [
       "   Unnamed: 0  Unnamed: 0.1  momentum  learning rate  batch size     loss1  \\\n",
       "0           0             0       0.9            0.1        64.0  0.940410   \n",
       "1           1             1       0.9            0.1        64.0  1.059483   \n",
       "2           2             2       0.9            0.1        64.0  1.691744   \n",
       "3           3             3       0.9            0.1        64.0  1.706317   \n",
       "4           4             4       0.9            0.1        64.0  1.126813   \n",
       "\n",
       "       acc1     loss2      acc2     loss3      acc3  widing factor  \\\n",
       "0  0.701571  1.201604  0.556719  1.026413  0.666667            2.0   \n",
       "1  0.691099  1.330701  0.630017  1.191599  0.666667            2.0   \n",
       "2  0.584642  1.147779  0.666667  1.305594  0.603839            2.0   \n",
       "3  0.575916  1.286703  0.675393  1.279418  0.652705            2.0   \n",
       "4  0.677138  1.485356  0.617801  1.464330  0.650960            2.0   \n",
       "\n",
       "   epoch_stopped  reg_penalty  \n",
       "0           50.0        0.010  \n",
       "1          100.0        0.010  \n",
       "2          150.0        0.010  \n",
       "3           50.0        0.001  \n",
       "4          100.0        0.001  "
      ]
     },
     "execution_count": 3,
     "metadata": {},
     "output_type": "execute_result"
    }
   ],
   "source": [
    "data.head(5)"
   ]
  },
  {
   "cell_type": "code",
   "execution_count": 6,
   "metadata": {},
   "outputs": [],
   "source": [
    "del data[data.columns[0]]\n"
   ]
  },
  {
   "cell_type": "code",
   "execution_count": 7,
   "metadata": {},
   "outputs": [
    {
     "name": "stdout",
     "output_type": "stream",
     "text": [
      "<class 'pandas.core.frame.DataFrame'>\n",
      "RangeIndex: 54 entries, 0 to 53\n",
      "Data columns (total 12 columns):\n",
      "momentum         54 non-null float64\n",
      "learning rate    54 non-null float64\n",
      "batch size       54 non-null float64\n",
      "loss1            54 non-null float64\n",
      "acc1             54 non-null float64\n",
      "loss2            54 non-null float64\n",
      "acc2             54 non-null float64\n",
      "loss3            54 non-null float64\n",
      "acc3             54 non-null float64\n",
      "widing factor    54 non-null float64\n",
      "epoch_stopped    54 non-null float64\n",
      "reg_penalty      54 non-null float64\n",
      "dtypes: float64(12)\n",
      "memory usage: 5.2 KB\n"
     ]
    }
   ],
   "source": [
    "data.drop_duplicates()\n",
    "data.info()"
   ]
  },
  {
   "cell_type": "code",
   "execution_count": 8,
   "metadata": {},
   "outputs": [
    {
     "data": {
      "text/html": [
       "<div>\n",
       "<style scoped>\n",
       "    .dataframe tbody tr th:only-of-type {\n",
       "        vertical-align: middle;\n",
       "    }\n",
       "\n",
       "    .dataframe tbody tr th {\n",
       "        vertical-align: top;\n",
       "    }\n",
       "\n",
       "    .dataframe thead th {\n",
       "        text-align: right;\n",
       "    }\n",
       "</style>\n",
       "<table border=\"1\" class=\"dataframe\">\n",
       "  <thead>\n",
       "    <tr style=\"text-align: right;\">\n",
       "      <th></th>\n",
       "      <th>momentum</th>\n",
       "      <th>learning rate</th>\n",
       "      <th>batch size</th>\n",
       "      <th>loss1</th>\n",
       "      <th>acc1</th>\n",
       "      <th>loss2</th>\n",
       "      <th>acc2</th>\n",
       "      <th>loss3</th>\n",
       "      <th>acc3</th>\n",
       "      <th>widing factor</th>\n",
       "      <th>epoch_stopped</th>\n",
       "      <th>reg_penalty</th>\n",
       "    </tr>\n",
       "  </thead>\n",
       "  <tbody>\n",
       "    <tr>\n",
       "      <td>0</td>\n",
       "      <td>0.9</td>\n",
       "      <td>0.1</td>\n",
       "      <td>64.0</td>\n",
       "      <td>0.940410</td>\n",
       "      <td>0.701571</td>\n",
       "      <td>1.201604</td>\n",
       "      <td>0.556719</td>\n",
       "      <td>1.026413</td>\n",
       "      <td>0.666667</td>\n",
       "      <td>2.0</td>\n",
       "      <td>50.0</td>\n",
       "      <td>0.010</td>\n",
       "    </tr>\n",
       "    <tr>\n",
       "      <td>1</td>\n",
       "      <td>0.9</td>\n",
       "      <td>0.1</td>\n",
       "      <td>64.0</td>\n",
       "      <td>1.059483</td>\n",
       "      <td>0.691099</td>\n",
       "      <td>1.330701</td>\n",
       "      <td>0.630017</td>\n",
       "      <td>1.191599</td>\n",
       "      <td>0.666667</td>\n",
       "      <td>2.0</td>\n",
       "      <td>100.0</td>\n",
       "      <td>0.010</td>\n",
       "    </tr>\n",
       "    <tr>\n",
       "      <td>2</td>\n",
       "      <td>0.9</td>\n",
       "      <td>0.1</td>\n",
       "      <td>64.0</td>\n",
       "      <td>1.691744</td>\n",
       "      <td>0.584642</td>\n",
       "      <td>1.147779</td>\n",
       "      <td>0.666667</td>\n",
       "      <td>1.305594</td>\n",
       "      <td>0.603839</td>\n",
       "      <td>2.0</td>\n",
       "      <td>150.0</td>\n",
       "      <td>0.010</td>\n",
       "    </tr>\n",
       "    <tr>\n",
       "      <td>3</td>\n",
       "      <td>0.9</td>\n",
       "      <td>0.1</td>\n",
       "      <td>64.0</td>\n",
       "      <td>1.706317</td>\n",
       "      <td>0.575916</td>\n",
       "      <td>1.286703</td>\n",
       "      <td>0.675393</td>\n",
       "      <td>1.279418</td>\n",
       "      <td>0.652705</td>\n",
       "      <td>2.0</td>\n",
       "      <td>50.0</td>\n",
       "      <td>0.001</td>\n",
       "    </tr>\n",
       "    <tr>\n",
       "      <td>4</td>\n",
       "      <td>0.9</td>\n",
       "      <td>0.1</td>\n",
       "      <td>64.0</td>\n",
       "      <td>1.126813</td>\n",
       "      <td>0.677138</td>\n",
       "      <td>1.485356</td>\n",
       "      <td>0.617801</td>\n",
       "      <td>1.464330</td>\n",
       "      <td>0.650960</td>\n",
       "      <td>2.0</td>\n",
       "      <td>100.0</td>\n",
       "      <td>0.001</td>\n",
       "    </tr>\n",
       "  </tbody>\n",
       "</table>\n",
       "</div>"
      ],
      "text/plain": [
       "   momentum  learning rate  batch size     loss1      acc1     loss2  \\\n",
       "0       0.9            0.1        64.0  0.940410  0.701571  1.201604   \n",
       "1       0.9            0.1        64.0  1.059483  0.691099  1.330701   \n",
       "2       0.9            0.1        64.0  1.691744  0.584642  1.147779   \n",
       "3       0.9            0.1        64.0  1.706317  0.575916  1.286703   \n",
       "4       0.9            0.1        64.0  1.126813  0.677138  1.485356   \n",
       "\n",
       "       acc2     loss3      acc3  widing factor  epoch_stopped  reg_penalty  \n",
       "0  0.556719  1.026413  0.666667            2.0           50.0        0.010  \n",
       "1  0.630017  1.191599  0.666667            2.0          100.0        0.010  \n",
       "2  0.666667  1.305594  0.603839            2.0          150.0        0.010  \n",
       "3  0.675393  1.279418  0.652705            2.0           50.0        0.001  \n",
       "4  0.617801  1.464330  0.650960            2.0          100.0        0.001  "
      ]
     },
     "execution_count": 8,
     "metadata": {},
     "output_type": "execute_result"
    }
   ],
   "source": [
    "data.head(5)"
   ]
  },
  {
   "cell_type": "markdown",
   "metadata": {},
   "source": [
    "## <font color =\"green\"> Evaluation of the hyperparameter tuning results</font>"
   ]
  },
  {
   "cell_type": "code",
   "execution_count": 9,
   "metadata": {},
   "outputs": [],
   "source": [
    "data[\"loss_mean\"] = (data[\"loss1\"]+data[\"loss2\"]+data[\"loss3\"])/3"
   ]
  },
  {
   "cell_type": "code",
   "execution_count": 10,
   "metadata": {},
   "outputs": [],
   "source": [
    "data[\"acc_mean\"] = (data[\"acc1\"]+data[\"acc2\"]+data[\"acc3\"])/3"
   ]
  },
  {
   "cell_type": "code",
   "execution_count": 11,
   "metadata": {},
   "outputs": [],
   "source": [
    "data['epoch'] = data['epoch_stopped']\n",
    "data['weight_decay'] = data['reg_penalty']"
   ]
  },
  {
   "cell_type": "code",
   "execution_count": 12,
   "metadata": {},
   "outputs": [],
   "source": [
    "column_list = [\"momentum\", \"learning rate\", \"epoch\",\"batch size\",\"weight_decay\",\"loss_mean\", \"acc_mean\"]"
   ]
  },
  {
   "cell_type": "code",
   "execution_count": 13,
   "metadata": {},
   "outputs": [
    {
     "data": {
      "text/html": [
       "<div>\n",
       "<style scoped>\n",
       "    .dataframe tbody tr th:only-of-type {\n",
       "        vertical-align: middle;\n",
       "    }\n",
       "\n",
       "    .dataframe tbody tr th {\n",
       "        vertical-align: top;\n",
       "    }\n",
       "\n",
       "    .dataframe thead th {\n",
       "        text-align: right;\n",
       "    }\n",
       "</style>\n",
       "<table border=\"1\" class=\"dataframe\">\n",
       "  <thead>\n",
       "    <tr style=\"text-align: right;\">\n",
       "      <th></th>\n",
       "      <th>momentum</th>\n",
       "      <th>learning rate</th>\n",
       "      <th>epoch</th>\n",
       "      <th>batch size</th>\n",
       "      <th>weight_decay</th>\n",
       "      <th>loss_mean</th>\n",
       "      <th>acc_mean</th>\n",
       "    </tr>\n",
       "  </thead>\n",
       "  <tbody>\n",
       "    <tr>\n",
       "      <td>6</td>\n",
       "      <td>0.9</td>\n",
       "      <td>0.10</td>\n",
       "      <td>50.0</td>\n",
       "      <td>64.0</td>\n",
       "      <td>0.0001</td>\n",
       "      <td>0.942042</td>\n",
       "      <td>0.667830</td>\n",
       "    </tr>\n",
       "    <tr>\n",
       "      <td>35</td>\n",
       "      <td>0.9</td>\n",
       "      <td>0.01</td>\n",
       "      <td>150.0</td>\n",
       "      <td>64.0</td>\n",
       "      <td>0.0001</td>\n",
       "      <td>1.028651</td>\n",
       "      <td>0.617219</td>\n",
       "    </tr>\n",
       "    <tr>\n",
       "      <td>0</td>\n",
       "      <td>0.9</td>\n",
       "      <td>0.10</td>\n",
       "      <td>50.0</td>\n",
       "      <td>64.0</td>\n",
       "      <td>0.0100</td>\n",
       "      <td>1.056142</td>\n",
       "      <td>0.641652</td>\n",
       "    </tr>\n",
       "  </tbody>\n",
       "</table>\n",
       "</div>"
      ],
      "text/plain": [
       "    momentum  learning rate  epoch  batch size  weight_decay  loss_mean  \\\n",
       "6        0.9           0.10   50.0        64.0        0.0001   0.942042   \n",
       "35       0.9           0.01  150.0        64.0        0.0001   1.028651   \n",
       "0        0.9           0.10   50.0        64.0        0.0100   1.056142   \n",
       "\n",
       "    acc_mean  \n",
       "6   0.667830  \n",
       "35  0.617219  \n",
       "0   0.641652  "
      ]
     },
     "execution_count": 13,
     "metadata": {},
     "output_type": "execute_result"
    }
   ],
   "source": [
    "data.sort_values(axis=0, by=\"loss_mean\", ascending=True)[column_list].head(3)"
   ]
  },
  {
   "cell_type": "code",
   "execution_count": 14,
   "metadata": {},
   "outputs": [],
   "source": [
    "data[\"loss_na\"] = data.loc[:,[\"loss1\",\"loss2\", \"loss3\"]].isnull().sum(1)"
   ]
  },
  {
   "cell_type": "code",
   "execution_count": 23,
   "metadata": {},
   "outputs": [
    {
     "data": {
      "text/html": [
       "<div>\n",
       "<style scoped>\n",
       "    .dataframe tbody tr th:only-of-type {\n",
       "        vertical-align: middle;\n",
       "    }\n",
       "\n",
       "    .dataframe tbody tr th {\n",
       "        vertical-align: top;\n",
       "    }\n",
       "\n",
       "    .dataframe thead th {\n",
       "        text-align: right;\n",
       "    }\n",
       "</style>\n",
       "<table border=\"1\" class=\"dataframe\">\n",
       "  <thead>\n",
       "    <tr style=\"text-align: right;\">\n",
       "      <th></th>\n",
       "      <th>momentum</th>\n",
       "      <th>learning rate</th>\n",
       "      <th>batch size</th>\n",
       "      <th>loss1</th>\n",
       "      <th>acc1</th>\n",
       "      <th>loss2</th>\n",
       "      <th>acc2</th>\n",
       "      <th>loss3</th>\n",
       "      <th>acc3</th>\n",
       "      <th>widing factor</th>\n",
       "      <th>epoch_stopped</th>\n",
       "      <th>reg_penalty</th>\n",
       "      <th>loss_mean</th>\n",
       "      <th>acc_mean</th>\n",
       "      <th>epoch</th>\n",
       "      <th>weight_decay</th>\n",
       "      <th>loss_na</th>\n",
       "    </tr>\n",
       "  </thead>\n",
       "  <tbody>\n",
       "    <tr>\n",
       "      <td>0</td>\n",
       "      <td>0.9</td>\n",
       "      <td>0.1</td>\n",
       "      <td>64.0</td>\n",
       "      <td>0.940410</td>\n",
       "      <td>0.701571</td>\n",
       "      <td>1.201604</td>\n",
       "      <td>0.556719</td>\n",
       "      <td>1.026413</td>\n",
       "      <td>0.666667</td>\n",
       "      <td>2.0</td>\n",
       "      <td>50.0</td>\n",
       "      <td>0.01</td>\n",
       "      <td>1.056142</td>\n",
       "      <td>0.641652</td>\n",
       "      <td>50.0</td>\n",
       "      <td>0.01</td>\n",
       "      <td>0</td>\n",
       "    </tr>\n",
       "    <tr>\n",
       "      <td>1</td>\n",
       "      <td>0.9</td>\n",
       "      <td>0.1</td>\n",
       "      <td>64.0</td>\n",
       "      <td>1.059483</td>\n",
       "      <td>0.691099</td>\n",
       "      <td>1.330701</td>\n",
       "      <td>0.630017</td>\n",
       "      <td>1.191599</td>\n",
       "      <td>0.666667</td>\n",
       "      <td>2.0</td>\n",
       "      <td>100.0</td>\n",
       "      <td>0.01</td>\n",
       "      <td>1.193928</td>\n",
       "      <td>0.662595</td>\n",
       "      <td>100.0</td>\n",
       "      <td>0.01</td>\n",
       "      <td>0</td>\n",
       "    </tr>\n",
       "    <tr>\n",
       "      <td>2</td>\n",
       "      <td>0.9</td>\n",
       "      <td>0.1</td>\n",
       "      <td>64.0</td>\n",
       "      <td>1.691744</td>\n",
       "      <td>0.584642</td>\n",
       "      <td>1.147779</td>\n",
       "      <td>0.666667</td>\n",
       "      <td>1.305594</td>\n",
       "      <td>0.603839</td>\n",
       "      <td>2.0</td>\n",
       "      <td>150.0</td>\n",
       "      <td>0.01</td>\n",
       "      <td>1.381706</td>\n",
       "      <td>0.618383</td>\n",
       "      <td>150.0</td>\n",
       "      <td>0.01</td>\n",
       "      <td>0</td>\n",
       "    </tr>\n",
       "  </tbody>\n",
       "</table>\n",
       "</div>"
      ],
      "text/plain": [
       "   momentum  learning rate  batch size     loss1      acc1     loss2  \\\n",
       "0       0.9            0.1        64.0  0.940410  0.701571  1.201604   \n",
       "1       0.9            0.1        64.0  1.059483  0.691099  1.330701   \n",
       "2       0.9            0.1        64.0  1.691744  0.584642  1.147779   \n",
       "\n",
       "       acc2     loss3      acc3  widing factor  epoch_stopped  reg_penalty  \\\n",
       "0  0.556719  1.026413  0.666667            2.0           50.0         0.01   \n",
       "1  0.630017  1.191599  0.666667            2.0          100.0         0.01   \n",
       "2  0.666667  1.305594  0.603839            2.0          150.0         0.01   \n",
       "\n",
       "   loss_mean  acc_mean  epoch  weight_decay  loss_na  \n",
       "0   1.056142  0.641652   50.0          0.01        0  \n",
       "1   1.193928  0.662595  100.0          0.01        0  \n",
       "2   1.381706  0.618383  150.0          0.01        0  "
      ]
     },
     "execution_count": 23,
     "metadata": {},
     "output_type": "execute_result"
    }
   ],
   "source": [
    "data.head(3)"
   ]
  },
  {
   "cell_type": "markdown",
   "metadata": {},
   "source": [
    "## <font color=\"green\">Increase the width factor to find the better model</font>\n",
    "Simple Wide Residual Netwok, witdh factor (k) = 2"
   ]
  },
  {
   "cell_type": "code",
   "execution_count": 24,
   "metadata": {},
   "outputs": [],
   "source": [
    "data_wide_basic  = pd.read_csv(\"/home/sefika/AE_Parseval_Network/src/data/grid_16_2/grid_16_2.csv\", sep=\";\")"
   ]
  },
  {
   "cell_type": "code",
   "execution_count": 25,
   "metadata": {},
   "outputs": [],
   "source": [
    "del data_wide_basic[data_wide_basic.columns[0]]"
   ]
  },
  {
   "cell_type": "code",
   "execution_count": 26,
   "metadata": {},
   "outputs": [
    {
     "data": {
      "text/html": [
       "<div>\n",
       "<style scoped>\n",
       "    .dataframe tbody tr th:only-of-type {\n",
       "        vertical-align: middle;\n",
       "    }\n",
       "\n",
       "    .dataframe tbody tr th {\n",
       "        vertical-align: top;\n",
       "    }\n",
       "\n",
       "    .dataframe thead th {\n",
       "        text-align: right;\n",
       "    }\n",
       "</style>\n",
       "<table border=\"1\" class=\"dataframe\">\n",
       "  <thead>\n",
       "    <tr style=\"text-align: right;\">\n",
       "      <th></th>\n",
       "      <th>momentum</th>\n",
       "      <th>learning rate</th>\n",
       "      <th>batch size</th>\n",
       "      <th>loss1</th>\n",
       "      <th>acc1</th>\n",
       "      <th>loss2</th>\n",
       "      <th>acc2</th>\n",
       "      <th>loss3</th>\n",
       "      <th>acc3</th>\n",
       "      <th>epoch_stopped1</th>\n",
       "      <th>epoch_stopped2</th>\n",
       "      <th>epoch_stopped3</th>\n",
       "      <th>reg_penalty</th>\n",
       "    </tr>\n",
       "  </thead>\n",
       "  <tbody>\n",
       "    <tr>\n",
       "      <td>0</td>\n",
       "      <td>0.9</td>\n",
       "      <td>0.1</td>\n",
       "      <td>64.0</td>\n",
       "      <td>1.345933</td>\n",
       "      <td>0.596859</td>\n",
       "      <td>1.252561</td>\n",
       "      <td>0.623037</td>\n",
       "      <td>1.135268</td>\n",
       "      <td>0.692845</td>\n",
       "      <td>50.0</td>\n",
       "      <td>50.0</td>\n",
       "      <td>50.0</td>\n",
       "      <td>0.010</td>\n",
       "    </tr>\n",
       "    <tr>\n",
       "      <td>1</td>\n",
       "      <td>0.9</td>\n",
       "      <td>0.1</td>\n",
       "      <td>64.0</td>\n",
       "      <td>1.203858</td>\n",
       "      <td>0.689354</td>\n",
       "      <td>1.075543</td>\n",
       "      <td>0.689354</td>\n",
       "      <td>1.317599</td>\n",
       "      <td>0.661431</td>\n",
       "      <td>100.0</td>\n",
       "      <td>100.0</td>\n",
       "      <td>100.0</td>\n",
       "      <td>0.010</td>\n",
       "    </tr>\n",
       "    <tr>\n",
       "      <td>2</td>\n",
       "      <td>0.9</td>\n",
       "      <td>0.1</td>\n",
       "      <td>64.0</td>\n",
       "      <td>1.368102</td>\n",
       "      <td>0.619546</td>\n",
       "      <td>1.155222</td>\n",
       "      <td>0.670157</td>\n",
       "      <td>1.955448</td>\n",
       "      <td>0.525305</td>\n",
       "      <td>150.0</td>\n",
       "      <td>150.0</td>\n",
       "      <td>150.0</td>\n",
       "      <td>0.010</td>\n",
       "    </tr>\n",
       "    <tr>\n",
       "      <td>3</td>\n",
       "      <td>0.9</td>\n",
       "      <td>0.1</td>\n",
       "      <td>64.0</td>\n",
       "      <td>1.613937</td>\n",
       "      <td>0.726003</td>\n",
       "      <td>1.624037</td>\n",
       "      <td>0.712042</td>\n",
       "      <td>2.574726</td>\n",
       "      <td>0.589878</td>\n",
       "      <td>50.0</td>\n",
       "      <td>50.0</td>\n",
       "      <td>50.0</td>\n",
       "      <td>0.001</td>\n",
       "    </tr>\n",
       "    <tr>\n",
       "      <td>4</td>\n",
       "      <td>0.9</td>\n",
       "      <td>0.1</td>\n",
       "      <td>64.0</td>\n",
       "      <td>1.439943</td>\n",
       "      <td>0.708551</td>\n",
       "      <td>1.538113</td>\n",
       "      <td>0.685864</td>\n",
       "      <td>1.712331</td>\n",
       "      <td>0.650960</td>\n",
       "      <td>100.0</td>\n",
       "      <td>100.0</td>\n",
       "      <td>100.0</td>\n",
       "      <td>0.001</td>\n",
       "    </tr>\n",
       "  </tbody>\n",
       "</table>\n",
       "</div>"
      ],
      "text/plain": [
       "   momentum  learning rate  batch size     loss1      acc1     loss2  \\\n",
       "0       0.9            0.1        64.0  1.345933  0.596859  1.252561   \n",
       "1       0.9            0.1        64.0  1.203858  0.689354  1.075543   \n",
       "2       0.9            0.1        64.0  1.368102  0.619546  1.155222   \n",
       "3       0.9            0.1        64.0  1.613937  0.726003  1.624037   \n",
       "4       0.9            0.1        64.0  1.439943  0.708551  1.538113   \n",
       "\n",
       "       acc2     loss3      acc3  epoch_stopped1  epoch_stopped2  \\\n",
       "0  0.623037  1.135268  0.692845            50.0            50.0   \n",
       "1  0.689354  1.317599  0.661431           100.0           100.0   \n",
       "2  0.670157  1.955448  0.525305           150.0           150.0   \n",
       "3  0.712042  2.574726  0.589878            50.0            50.0   \n",
       "4  0.685864  1.712331  0.650960           100.0           100.0   \n",
       "\n",
       "   epoch_stopped3  reg_penalty  \n",
       "0            50.0        0.010  \n",
       "1           100.0        0.010  \n",
       "2           150.0        0.010  \n",
       "3            50.0        0.001  \n",
       "4           100.0        0.001  "
      ]
     },
     "execution_count": 26,
     "metadata": {},
     "output_type": "execute_result"
    }
   ],
   "source": [
    "data_wide_basic.head(5)"
   ]
  },
  {
   "cell_type": "code",
   "execution_count": 27,
   "metadata": {},
   "outputs": [
    {
     "name": "stdout",
     "output_type": "stream",
     "text": [
      "<class 'pandas.core.frame.DataFrame'>\n",
      "RangeIndex: 54 entries, 0 to 53\n",
      "Data columns (total 13 columns):\n",
      "momentum          54 non-null float64\n",
      "learning rate     54 non-null float64\n",
      "batch size        54 non-null float64\n",
      "loss1             54 non-null float64\n",
      "acc1              54 non-null float64\n",
      "loss2             54 non-null float64\n",
      "acc2              54 non-null float64\n",
      "loss3             54 non-null float64\n",
      "acc3              54 non-null float64\n",
      "epoch_stopped1    54 non-null float64\n",
      "epoch_stopped2    54 non-null float64\n",
      "epoch_stopped3    54 non-null float64\n",
      "reg_penalty       54 non-null float64\n",
      "dtypes: float64(13)\n",
      "memory usage: 5.6 KB\n"
     ]
    }
   ],
   "source": [
    "data_wide_basic.info()"
   ]
  },
  {
   "cell_type": "code",
   "execution_count": 28,
   "metadata": {},
   "outputs": [],
   "source": [
    "data_wide_basic[\"loss_mean\"] = (data_wide_basic[\"loss1\"]+data_wide_basic[\"loss2\"]+data_wide_basic[\"loss3\"])/3"
   ]
  },
  {
   "cell_type": "code",
   "execution_count": 29,
   "metadata": {},
   "outputs": [],
   "source": [
    "data_wide_basic[\"acc_mean\"] = (data_wide_basic[\"acc1\"]+data_wide_basic[\"acc2\"]+data_wide_basic[\"acc3\"])/3"
   ]
  },
  {
   "cell_type": "code",
   "execution_count": 30,
   "metadata": {},
   "outputs": [],
   "source": [
    "data_wide_basic['epoch'] = data_wide_basic['epoch_stopped1']\n",
    "data_wide_basic['weight_decay'] = data_wide_basic['reg_penalty']"
   ]
  },
  {
   "cell_type": "code",
   "execution_count": 31,
   "metadata": {
    "scrolled": true
   },
   "outputs": [
    {
     "data": {
      "text/html": [
       "<div>\n",
       "<style scoped>\n",
       "    .dataframe tbody tr th:only-of-type {\n",
       "        vertical-align: middle;\n",
       "    }\n",
       "\n",
       "    .dataframe tbody tr th {\n",
       "        vertical-align: top;\n",
       "    }\n",
       "\n",
       "    .dataframe thead th {\n",
       "        text-align: right;\n",
       "    }\n",
       "</style>\n",
       "<table border=\"1\" class=\"dataframe\">\n",
       "  <thead>\n",
       "    <tr style=\"text-align: right;\">\n",
       "      <th></th>\n",
       "      <th>momentum</th>\n",
       "      <th>learning rate</th>\n",
       "      <th>epoch</th>\n",
       "      <th>batch size</th>\n",
       "      <th>weight_decay</th>\n",
       "      <th>loss_mean</th>\n",
       "      <th>acc_mean</th>\n",
       "    </tr>\n",
       "  </thead>\n",
       "  <tbody>\n",
       "    <tr>\n",
       "      <td>35</td>\n",
       "      <td>0.9</td>\n",
       "      <td>0.01</td>\n",
       "      <td>150.0</td>\n",
       "      <td>64.0</td>\n",
       "      <td>0.0001</td>\n",
       "      <td>1.077292</td>\n",
       "      <td>0.656195</td>\n",
       "    </tr>\n",
       "    <tr>\n",
       "      <td>34</td>\n",
       "      <td>0.9</td>\n",
       "      <td>0.01</td>\n",
       "      <td>100.0</td>\n",
       "      <td>64.0</td>\n",
       "      <td>0.0001</td>\n",
       "      <td>1.150234</td>\n",
       "      <td>0.609075</td>\n",
       "    </tr>\n",
       "    <tr>\n",
       "      <td>26</td>\n",
       "      <td>0.9</td>\n",
       "      <td>0.10</td>\n",
       "      <td>150.0</td>\n",
       "      <td>256.0</td>\n",
       "      <td>0.0001</td>\n",
       "      <td>1.177924</td>\n",
       "      <td>0.663176</td>\n",
       "    </tr>\n",
       "  </tbody>\n",
       "</table>\n",
       "</div>"
      ],
      "text/plain": [
       "    momentum  learning rate  epoch  batch size  weight_decay  loss_mean  \\\n",
       "35       0.9           0.01  150.0        64.0        0.0001   1.077292   \n",
       "34       0.9           0.01  100.0        64.0        0.0001   1.150234   \n",
       "26       0.9           0.10  150.0       256.0        0.0001   1.177924   \n",
       "\n",
       "    acc_mean  \n",
       "35  0.656195  \n",
       "34  0.609075  \n",
       "26  0.663176  "
      ]
     },
     "execution_count": 31,
     "metadata": {},
     "output_type": "execute_result"
    }
   ],
   "source": [
    "data_wide_basic.sort_values(axis=0, by=\"loss_mean\", ascending=True)[column_list].head(3)"
   ]
  },
  {
   "cell_type": "markdown",
   "metadata": {},
   "source": [
    "## <font color=\"green\"> Simple Residual Network</font>\n",
    "Simple Residual Netwok, witdh factor (k) = 4"
   ]
  },
  {
   "cell_type": "code",
   "execution_count": 32,
   "metadata": {},
   "outputs": [],
   "source": [
    "data_wide_k_4  = pd.read_csv(\"/home/sefika/AE_Parseval_Network/src/data/grid_16_4/grid_16_4.csv\", sep=\";\")"
   ]
  },
  {
   "cell_type": "code",
   "execution_count": 33,
   "metadata": {},
   "outputs": [
    {
     "data": {
      "text/html": [
       "<div>\n",
       "<style scoped>\n",
       "    .dataframe tbody tr th:only-of-type {\n",
       "        vertical-align: middle;\n",
       "    }\n",
       "\n",
       "    .dataframe tbody tr th {\n",
       "        vertical-align: top;\n",
       "    }\n",
       "\n",
       "    .dataframe thead th {\n",
       "        text-align: right;\n",
       "    }\n",
       "</style>\n",
       "<table border=\"1\" class=\"dataframe\">\n",
       "  <thead>\n",
       "    <tr style=\"text-align: right;\">\n",
       "      <th></th>\n",
       "      <th>Unnamed: 0</th>\n",
       "      <th>Unnamed: 0.1</th>\n",
       "      <th>momentum</th>\n",
       "      <th>learning rate</th>\n",
       "      <th>batch size</th>\n",
       "      <th>loss1</th>\n",
       "      <th>acc1</th>\n",
       "      <th>loss2</th>\n",
       "      <th>acc2</th>\n",
       "      <th>loss3</th>\n",
       "      <th>acc3</th>\n",
       "      <th>epoch_stopped1</th>\n",
       "      <th>epoch_stopped2</th>\n",
       "      <th>epoch_stopped3</th>\n",
       "      <th>reg_penalty</th>\n",
       "    </tr>\n",
       "  </thead>\n",
       "  <tbody>\n",
       "    <tr>\n",
       "      <td>0</td>\n",
       "      <td>0</td>\n",
       "      <td>0</td>\n",
       "      <td>0.9</td>\n",
       "      <td>0.1</td>\n",
       "      <td>64.0</td>\n",
       "      <td>1.298214</td>\n",
       "      <td>0.633508</td>\n",
       "      <td>1.236783</td>\n",
       "      <td>0.636998</td>\n",
       "      <td>4.305660</td>\n",
       "      <td>0.410122</td>\n",
       "      <td>50.0</td>\n",
       "      <td>50.0</td>\n",
       "      <td>50.0</td>\n",
       "      <td>0.010</td>\n",
       "    </tr>\n",
       "    <tr>\n",
       "      <td>1</td>\n",
       "      <td>1</td>\n",
       "      <td>1</td>\n",
       "      <td>0.9</td>\n",
       "      <td>0.1</td>\n",
       "      <td>64.0</td>\n",
       "      <td>1.396518</td>\n",
       "      <td>0.607330</td>\n",
       "      <td>1.308121</td>\n",
       "      <td>0.659686</td>\n",
       "      <td>1.420260</td>\n",
       "      <td>0.656195</td>\n",
       "      <td>100.0</td>\n",
       "      <td>100.0</td>\n",
       "      <td>100.0</td>\n",
       "      <td>0.010</td>\n",
       "    </tr>\n",
       "    <tr>\n",
       "      <td>2</td>\n",
       "      <td>2</td>\n",
       "      <td>2</td>\n",
       "      <td>0.9</td>\n",
       "      <td>0.1</td>\n",
       "      <td>64.0</td>\n",
       "      <td>1.306983</td>\n",
       "      <td>0.668412</td>\n",
       "      <td>1.291781</td>\n",
       "      <td>0.675393</td>\n",
       "      <td>1.731054</td>\n",
       "      <td>0.593368</td>\n",
       "      <td>150.0</td>\n",
       "      <td>150.0</td>\n",
       "      <td>150.0</td>\n",
       "      <td>0.010</td>\n",
       "    </tr>\n",
       "    <tr>\n",
       "      <td>3</td>\n",
       "      <td>3</td>\n",
       "      <td>3</td>\n",
       "      <td>0.9</td>\n",
       "      <td>0.1</td>\n",
       "      <td>64.0</td>\n",
       "      <td>2.661683</td>\n",
       "      <td>0.678883</td>\n",
       "      <td>2.509997</td>\n",
       "      <td>0.694590</td>\n",
       "      <td>2.837932</td>\n",
       "      <td>0.652705</td>\n",
       "      <td>50.0</td>\n",
       "      <td>50.0</td>\n",
       "      <td>50.0</td>\n",
       "      <td>0.001</td>\n",
       "    </tr>\n",
       "    <tr>\n",
       "      <td>4</td>\n",
       "      <td>4</td>\n",
       "      <td>4</td>\n",
       "      <td>0.9</td>\n",
       "      <td>0.1</td>\n",
       "      <td>64.0</td>\n",
       "      <td>2.100333</td>\n",
       "      <td>0.671902</td>\n",
       "      <td>2.129772</td>\n",
       "      <td>0.640489</td>\n",
       "      <td>2.361759</td>\n",
       "      <td>0.628272</td>\n",
       "      <td>100.0</td>\n",
       "      <td>100.0</td>\n",
       "      <td>100.0</td>\n",
       "      <td>0.001</td>\n",
       "    </tr>\n",
       "  </tbody>\n",
       "</table>\n",
       "</div>"
      ],
      "text/plain": [
       "   Unnamed: 0  Unnamed: 0.1  momentum  learning rate  batch size     loss1  \\\n",
       "0           0             0       0.9            0.1        64.0  1.298214   \n",
       "1           1             1       0.9            0.1        64.0  1.396518   \n",
       "2           2             2       0.9            0.1        64.0  1.306983   \n",
       "3           3             3       0.9            0.1        64.0  2.661683   \n",
       "4           4             4       0.9            0.1        64.0  2.100333   \n",
       "\n",
       "       acc1     loss2      acc2     loss3      acc3  epoch_stopped1  \\\n",
       "0  0.633508  1.236783  0.636998  4.305660  0.410122            50.0   \n",
       "1  0.607330  1.308121  0.659686  1.420260  0.656195           100.0   \n",
       "2  0.668412  1.291781  0.675393  1.731054  0.593368           150.0   \n",
       "3  0.678883  2.509997  0.694590  2.837932  0.652705            50.0   \n",
       "4  0.671902  2.129772  0.640489  2.361759  0.628272           100.0   \n",
       "\n",
       "   epoch_stopped2  epoch_stopped3  reg_penalty  \n",
       "0            50.0            50.0        0.010  \n",
       "1           100.0           100.0        0.010  \n",
       "2           150.0           150.0        0.010  \n",
       "3            50.0            50.0        0.001  \n",
       "4           100.0           100.0        0.001  "
      ]
     },
     "execution_count": 33,
     "metadata": {},
     "output_type": "execute_result"
    }
   ],
   "source": [
    "data_wide_k_4.head(5)"
   ]
  },
  {
   "cell_type": "code",
   "execution_count": 34,
   "metadata": {},
   "outputs": [],
   "source": [
    "del data_wide_k_4[data_wide_k_4.columns[0]]\n",
    "del data_wide_k_4[data_wide_k_4.columns[0]]"
   ]
  },
  {
   "cell_type": "code",
   "execution_count": 35,
   "metadata": {},
   "outputs": [
    {
     "data": {
      "text/html": [
       "<div>\n",
       "<style scoped>\n",
       "    .dataframe tbody tr th:only-of-type {\n",
       "        vertical-align: middle;\n",
       "    }\n",
       "\n",
       "    .dataframe tbody tr th {\n",
       "        vertical-align: top;\n",
       "    }\n",
       "\n",
       "    .dataframe thead th {\n",
       "        text-align: right;\n",
       "    }\n",
       "</style>\n",
       "<table border=\"1\" class=\"dataframe\">\n",
       "  <thead>\n",
       "    <tr style=\"text-align: right;\">\n",
       "      <th></th>\n",
       "      <th>momentum</th>\n",
       "      <th>learning rate</th>\n",
       "      <th>batch size</th>\n",
       "      <th>loss1</th>\n",
       "      <th>acc1</th>\n",
       "      <th>loss2</th>\n",
       "      <th>acc2</th>\n",
       "      <th>loss3</th>\n",
       "      <th>acc3</th>\n",
       "      <th>epoch_stopped1</th>\n",
       "      <th>epoch_stopped2</th>\n",
       "      <th>epoch_stopped3</th>\n",
       "      <th>reg_penalty</th>\n",
       "    </tr>\n",
       "  </thead>\n",
       "  <tbody>\n",
       "    <tr>\n",
       "      <td>0</td>\n",
       "      <td>0.9</td>\n",
       "      <td>0.1</td>\n",
       "      <td>64.0</td>\n",
       "      <td>1.298214</td>\n",
       "      <td>0.633508</td>\n",
       "      <td>1.236783</td>\n",
       "      <td>0.636998</td>\n",
       "      <td>4.305660</td>\n",
       "      <td>0.410122</td>\n",
       "      <td>50.0</td>\n",
       "      <td>50.0</td>\n",
       "      <td>50.0</td>\n",
       "      <td>0.010</td>\n",
       "    </tr>\n",
       "    <tr>\n",
       "      <td>1</td>\n",
       "      <td>0.9</td>\n",
       "      <td>0.1</td>\n",
       "      <td>64.0</td>\n",
       "      <td>1.396518</td>\n",
       "      <td>0.607330</td>\n",
       "      <td>1.308121</td>\n",
       "      <td>0.659686</td>\n",
       "      <td>1.420260</td>\n",
       "      <td>0.656195</td>\n",
       "      <td>100.0</td>\n",
       "      <td>100.0</td>\n",
       "      <td>100.0</td>\n",
       "      <td>0.010</td>\n",
       "    </tr>\n",
       "    <tr>\n",
       "      <td>2</td>\n",
       "      <td>0.9</td>\n",
       "      <td>0.1</td>\n",
       "      <td>64.0</td>\n",
       "      <td>1.306983</td>\n",
       "      <td>0.668412</td>\n",
       "      <td>1.291781</td>\n",
       "      <td>0.675393</td>\n",
       "      <td>1.731054</td>\n",
       "      <td>0.593368</td>\n",
       "      <td>150.0</td>\n",
       "      <td>150.0</td>\n",
       "      <td>150.0</td>\n",
       "      <td>0.010</td>\n",
       "    </tr>\n",
       "    <tr>\n",
       "      <td>3</td>\n",
       "      <td>0.9</td>\n",
       "      <td>0.1</td>\n",
       "      <td>64.0</td>\n",
       "      <td>2.661683</td>\n",
       "      <td>0.678883</td>\n",
       "      <td>2.509997</td>\n",
       "      <td>0.694590</td>\n",
       "      <td>2.837932</td>\n",
       "      <td>0.652705</td>\n",
       "      <td>50.0</td>\n",
       "      <td>50.0</td>\n",
       "      <td>50.0</td>\n",
       "      <td>0.001</td>\n",
       "    </tr>\n",
       "    <tr>\n",
       "      <td>4</td>\n",
       "      <td>0.9</td>\n",
       "      <td>0.1</td>\n",
       "      <td>64.0</td>\n",
       "      <td>2.100333</td>\n",
       "      <td>0.671902</td>\n",
       "      <td>2.129772</td>\n",
       "      <td>0.640489</td>\n",
       "      <td>2.361759</td>\n",
       "      <td>0.628272</td>\n",
       "      <td>100.0</td>\n",
       "      <td>100.0</td>\n",
       "      <td>100.0</td>\n",
       "      <td>0.001</td>\n",
       "    </tr>\n",
       "  </tbody>\n",
       "</table>\n",
       "</div>"
      ],
      "text/plain": [
       "   momentum  learning rate  batch size     loss1      acc1     loss2  \\\n",
       "0       0.9            0.1        64.0  1.298214  0.633508  1.236783   \n",
       "1       0.9            0.1        64.0  1.396518  0.607330  1.308121   \n",
       "2       0.9            0.1        64.0  1.306983  0.668412  1.291781   \n",
       "3       0.9            0.1        64.0  2.661683  0.678883  2.509997   \n",
       "4       0.9            0.1        64.0  2.100333  0.671902  2.129772   \n",
       "\n",
       "       acc2     loss3      acc3  epoch_stopped1  epoch_stopped2  \\\n",
       "0  0.636998  4.305660  0.410122            50.0            50.0   \n",
       "1  0.659686  1.420260  0.656195           100.0           100.0   \n",
       "2  0.675393  1.731054  0.593368           150.0           150.0   \n",
       "3  0.694590  2.837932  0.652705            50.0            50.0   \n",
       "4  0.640489  2.361759  0.628272           100.0           100.0   \n",
       "\n",
       "   epoch_stopped3  reg_penalty  \n",
       "0            50.0        0.010  \n",
       "1           100.0        0.010  \n",
       "2           150.0        0.010  \n",
       "3            50.0        0.001  \n",
       "4           100.0        0.001  "
      ]
     },
     "execution_count": 35,
     "metadata": {},
     "output_type": "execute_result"
    }
   ],
   "source": [
    "data_wide_k_4.head(5)"
   ]
  },
  {
   "cell_type": "code",
   "execution_count": 37,
   "metadata": {},
   "outputs": [
    {
     "data": {
      "text/html": [
       "<div>\n",
       "<style scoped>\n",
       "    .dataframe tbody tr th:only-of-type {\n",
       "        vertical-align: middle;\n",
       "    }\n",
       "\n",
       "    .dataframe tbody tr th {\n",
       "        vertical-align: top;\n",
       "    }\n",
       "\n",
       "    .dataframe thead th {\n",
       "        text-align: right;\n",
       "    }\n",
       "</style>\n",
       "<table border=\"1\" class=\"dataframe\">\n",
       "  <thead>\n",
       "    <tr style=\"text-align: right;\">\n",
       "      <th></th>\n",
       "      <th>momentum</th>\n",
       "      <th>learning rate</th>\n",
       "      <th>epoch</th>\n",
       "      <th>batch size</th>\n",
       "      <th>weight_decay</th>\n",
       "      <th>loss_mean</th>\n",
       "      <th>acc_mean</th>\n",
       "    </tr>\n",
       "  </thead>\n",
       "  <tbody>\n",
       "    <tr>\n",
       "      <td>1</td>\n",
       "      <td>0.9</td>\n",
       "      <td>0.1</td>\n",
       "      <td>100.0</td>\n",
       "      <td>64.0</td>\n",
       "      <td>0.0100</td>\n",
       "      <td>1.374967</td>\n",
       "      <td>0.641070</td>\n",
       "    </tr>\n",
       "    <tr>\n",
       "      <td>24</td>\n",
       "      <td>0.9</td>\n",
       "      <td>0.1</td>\n",
       "      <td>50.0</td>\n",
       "      <td>256.0</td>\n",
       "      <td>0.0001</td>\n",
       "      <td>1.435955</td>\n",
       "      <td>0.576498</td>\n",
       "    </tr>\n",
       "    <tr>\n",
       "      <td>9</td>\n",
       "      <td>0.9</td>\n",
       "      <td>0.1</td>\n",
       "      <td>50.0</td>\n",
       "      <td>128.0</td>\n",
       "      <td>0.0100</td>\n",
       "      <td>1.440504</td>\n",
       "      <td>0.646888</td>\n",
       "    </tr>\n",
       "  </tbody>\n",
       "</table>\n",
       "</div>"
      ],
      "text/plain": [
       "    momentum  learning rate  epoch  batch size  weight_decay  loss_mean  \\\n",
       "1        0.9            0.1  100.0        64.0        0.0100   1.374967   \n",
       "24       0.9            0.1   50.0       256.0        0.0001   1.435955   \n",
       "9        0.9            0.1   50.0       128.0        0.0100   1.440504   \n",
       "\n",
       "    acc_mean  \n",
       "1   0.641070  \n",
       "24  0.576498  \n",
       "9   0.646888  "
      ]
     },
     "execution_count": 37,
     "metadata": {},
     "output_type": "execute_result"
    }
   ],
   "source": [
    "data_wide_k_4[\"loss_mean\"] = (data_wide_k_4[\"loss1\"]+data_wide_k_4[\"loss2\"]+data_wide_k_4[\"loss3\"])/3\n",
    "data_wide_k_4[\"acc_mean\"] = (data_wide_k_4[\"acc1\"]+data_wide_k_4[\"acc2\"]+data_wide_k_4[\"acc3\"])/3\n",
    "data_wide_k_4['epoch'] = data_wide_k_4['epoch_stopped1']\n",
    "data_wide_k_4['weight_decay'] = data_wide_k_4['reg_penalty']\n",
    "data_wide_k_4.sort_values(axis=0, by=\"loss_mean\", ascending=True)[column_list].head(3)"
   ]
  },
  {
   "cell_type": "markdown",
   "metadata": {},
   "source": [
    "## <font color=\"purple\"> Visualization </font>"
   ]
  },
  {
   "cell_type": "code",
   "execution_count": 44,
   "metadata": {},
   "outputs": [],
   "source": [
    "data_k_4 = data_wide_k_4.sort_values(axis=0, by=\"loss_mean\", ascending=True)[column_list].head(1)\n",
    "data_k_2 = data_wide_basic.sort_values(axis=0, by=\"loss_mean\", ascending=True)[column_list].head(1)\n",
    "data_k_1 = data.sort_values(axis=0, by=\"loss_mean\", ascending=True)[column_list].head(1)"
   ]
  },
  {
   "cell_type": "markdown",
   "metadata": {},
   "source": [
    "## <font color = \"blue\"> BoxPlot</font>"
   ]
  },
  {
   "cell_type": "code",
   "execution_count": 45,
   "metadata": {},
   "outputs": [],
   "source": [
    "best_models = pd.concat([data_k_4, data_k_2, data_k_1])"
   ]
  },
  {
   "cell_type": "code",
   "execution_count": 52,
   "metadata": {},
   "outputs": [],
   "source": [
    "boxplot_data = {'NeuralNetwork': [\"ResNet16\", \"ResNet16\", \"ResNet16\",\n",
    "                                   \"WRN_16_2\", \"WRN_16_2\", \"WRN_16_2\",\n",
    "                                   \"WRN_16_4\",\"WRN_16_4\",\"WRN_16_4\"],\n",
    "                'Loss': [data['loss1'][6], data['loss2'][6], data['loss3'][6],\n",
    "                         data_wide_basic['loss1'][35], data_wide_basic['loss2'][35], data_wide_basic['loss3'][35],\n",
    "                         data_wide_k_4['loss1'][1], data_wide_k_4['loss2'][1], data_wide_k_4['loss3'][1] ]}\n",
    "boxplot_df = pd.DataFrame(data=boxplot_data)"
   ]
  },
  {
   "cell_type": "code",
   "execution_count": 61,
   "metadata": {},
   "outputs": [
    {
     "data": {
      "text/plain": [
       "Text(0.5, 1.0, 'Boxplot of the Best 3 Different Neural Network')"
      ]
     },
     "execution_count": 61,
     "metadata": {},
     "output_type": "execute_result"
    },
    {
     "data": {
      "image/png": "[encoded data removed]",
      "text/plain": [
       "<Figure size 432x288 with 1 Axes>"
      ]
     },
     "metadata": {
      "needs_background": "light"
     },
     "output_type": "display_data"
    }
   ],
   "source": [
    "sns.boxplot(x=boxplot_df[\"NeuralNetwork\"], y=boxplot_df[\"Loss\"], palette=\"Set2\")\n",
    "plt.title(\"Boxplot of the Best 3 Different Neural Network\")"
   ]
  },
  {
   "cell_type": "code",
   "execution_count": 49,
   "metadata": {},
   "outputs": [
    {
     "data": {
      "text/html": [
       "<div>\n",
       "<style scoped>\n",
       "    .dataframe tbody tr th:only-of-type {\n",
       "        vertical-align: middle;\n",
       "    }\n",
       "\n",
       "    .dataframe tbody tr th {\n",
       "        vertical-align: top;\n",
       "    }\n",
       "\n",
       "    .dataframe thead th {\n",
       "        text-align: right;\n",
       "    }\n",
       "</style>\n",
       "<table border=\"1\" class=\"dataframe\">\n",
       "  <thead>\n",
       "    <tr style=\"text-align: right;\">\n",
       "      <th></th>\n",
       "      <th>momentum</th>\n",
       "      <th>learning rate</th>\n",
       "      <th>epoch</th>\n",
       "      <th>batch size</th>\n",
       "      <th>weight_decay</th>\n",
       "      <th>loss_mean</th>\n",
       "      <th>acc_mean</th>\n",
       "    </tr>\n",
       "  </thead>\n",
       "  <tbody>\n",
       "    <tr>\n",
       "      <td>6</td>\n",
       "      <td>0.9</td>\n",
       "      <td>0.10</td>\n",
       "      <td>50.0</td>\n",
       "      <td>64.0</td>\n",
       "      <td>0.0001</td>\n",
       "      <td>0.942042</td>\n",
       "      <td>0.667830</td>\n",
       "    </tr>\n",
       "    <tr>\n",
       "      <td>35</td>\n",
       "      <td>0.9</td>\n",
       "      <td>0.01</td>\n",
       "      <td>150.0</td>\n",
       "      <td>64.0</td>\n",
       "      <td>0.0001</td>\n",
       "      <td>1.077292</td>\n",
       "      <td>0.656195</td>\n",
       "    </tr>\n",
       "    <tr>\n",
       "      <td>1</td>\n",
       "      <td>0.9</td>\n",
       "      <td>0.10</td>\n",
       "      <td>100.0</td>\n",
       "      <td>64.0</td>\n",
       "      <td>0.0100</td>\n",
       "      <td>1.374967</td>\n",
       "      <td>0.641070</td>\n",
       "    </tr>\n",
       "  </tbody>\n",
       "</table>\n",
       "</div>"
      ],
      "text/plain": [
       "    momentum  learning rate  epoch  batch size  weight_decay  loss_mean  \\\n",
       "6        0.9           0.10   50.0        64.0        0.0001   0.942042   \n",
       "35       0.9           0.01  150.0        64.0        0.0001   1.077292   \n",
       "1        0.9           0.10  100.0        64.0        0.0100   1.374967   \n",
       "\n",
       "    acc_mean  \n",
       "6   0.667830  \n",
       "35  0.656195  \n",
       "1   0.641070  "
      ]
     },
     "execution_count": 49,
     "metadata": {},
     "output_type": "execute_result"
    }
   ],
   "source": [
    "best_models.sort_values(axis=0, by=\"loss_mean\", ascending=True)[column_list]"
   ]
  },
  {
   "cell_type": "markdown",
   "metadata": {},
   "source": [
    "<font color=\"green\">Consequently, it can be seen that increasing the widing factor results in high loss values and loss mean on the results of hyperparameter tuning.\n",
    "   \n",
    "   However, we will train the simple residual network and simple wide residual networks on the rest of the project.</font>"
   ]
  },
  {
   "cell_type": "markdown",
   "metadata": {},
   "source": [
    "## <font color= \"Purple\">Visualize the parameters of the Best Model </font>"
   ]
  },
  {
   "cell_type": "code",
   "execution_count": 72,
   "metadata": {},
   "outputs": [
    {
     "data": {
      "image/png": "[encoded data removed]",
      "text/plain": [
       "<Figure size 648x216 with 2 Axes>"
      ]
     },
     "metadata": {
      "needs_background": "light"
     },
     "output_type": "display_data"
    }
   ],
   "source": [
    "g = sns.FacetGrid(data_wide_k_4, col=\"learning rate\", sharey=True, aspect=1.5, margin_titles=True)\n",
    "g.map(sns.barplot, \"weight_decay\", \"loss_mean\")\n",
    "plt.show()"
   ]
  },
  {
   "cell_type": "code",
   "execution_count": 71,
   "metadata": {},
   "outputs": [
    {
     "data": {
      "image/png": "[encoded data removed]",
      "text/plain": [
       "<Figure size 972x216 with 3 Axes>"
      ]
     },
     "metadata": {
      "needs_background": "light"
     },
     "output_type": "display_data"
    }
   ],
   "source": [
    "g = sns.FacetGrid(data, col = \"batch size\", sharey=True, aspect=1.5, margin_titles=True)\n",
    "g.map(sns.barplot, \"learning rate\", \"loss_mean\", order = [0.01, 0.1])\n",
    "plt.show()"
   ]
  },
  {
   "cell_type": "code",
   "execution_count": 74,
   "metadata": {},
   "outputs": [
    {
     "data": {
      "image/png": "[encoded data removed]",
      "text/plain": [
       "<Figure size 972x216 with 3 Axes>"
      ]
     },
     "metadata": {
      "needs_background": "light"
     },
     "output_type": "display_data"
    }
   ],
   "source": [
    "g = sns.FacetGrid(data_wide_k_4, col=\"epoch\", sharey=True, aspect=1.5, margin_titles=True)\n",
    "g.map(sns.barplot, \"weight_decay\", \"loss_mean\")\n",
    "plt.show()"
   ]
  },
  {
   "cell_type": "markdown",
   "metadata": {},
   "source": [
    "<font color= \"blue\">As a result of the analysis,   </font>"
   ]
  },
  {
   "cell_type": "markdown",
   "metadata": {},
   "source": [
    "## <font color=\"blue\"><b>Conclusion:</b></font>"
   ]
  },
  {
   "cell_type": "code",
   "execution_count": null,
   "metadata": {},
   "outputs": [],
   "source": []
  },
  {
   "cell_type": "markdown",
   "metadata": {},
   "source": [
    "<font color=\"purple\">\n",
    "    <b>\n",
    "        <center> Sefika Efeoglu</center>\n",
    "        <center>Universiteat Potsdam</center>\n",
    "    </b>\n",
    "</font>"
   ]
  }
 ],
 "metadata": {
  "kernelspec": {
   "display_name": "Python 3",
   "language": "python",
   "name": "python3"
  },
  "language_info": {
   "codemirror_mode": {
    "name": "ipython",
    "version": 3
   },
   "file_extension": ".py",
   "mimetype": "text/x-python",
   "name": "python",
   "nbconvert_exporter": "python",
   "pygments_lexer": "ipython3",
   "version": "3.7.4"
  }
 },
 "nbformat": 4,
 "nbformat_minor": 2
}
