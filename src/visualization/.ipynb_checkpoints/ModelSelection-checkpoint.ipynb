{
 "cells": [
  {
   "cell_type": "markdown",
   "metadata": {},
   "source": [
    "# <font color = \"purple\">  Evaluate Hyperparameter Tuning Results</font>"
   ]
  },
  {
   "cell_type": "markdown",
   "metadata": {},
   "source": [
    "Simple wide residual network has 16 hidden layers, and it is defined as WRN-N-k\n",
    "<li> k is the width factor </li>\n",
    "<li> N is the number of residual blocks in wide residual network </li>\n",
    "<li> to convert to residual network to wide, k should be selected greater than 1. </li>"
   ]
  },
  {
   "cell_type": "markdown",
   "metadata": {},
   "source": [
    "### <font color=\"blue\">Python libraries</font>"
   ]
  },
  {
   "cell_type": "code",
   "execution_count": 2,
   "metadata": {},
   "outputs": [],
   "source": [
    "import sys\n",
    "import matplotlib.pyplot as plt\n",
    "import pandas as pd\n",
    "import numpy as np\n",
    "import warnings\n",
    "import os\n",
    "import seaborn as sns\n",
    "warnings.filterwarnings(\"ignore\")\n",
    "plt.rcParams.update({'font.size': 12})"
   ]
  },
  {
   "cell_type": "code",
   "execution_count": 7,
   "metadata": {},
   "outputs": [],
   "source": [
    "folder =\"/Users/sefika/adversarial_examples_parseval_net/src/data/GridCV/\"\n",
    "pds = []\n",
    "for file in os.listdir(folder):\n",
    "    if file !=\".DS_Store\":\n",
    "        results = pd.DataFrame()\n",
    "        results = pd.read_csv(folder+file, index_col=False, delimiter=\";\")\n",
    "        pds.append(results)"
   ]
  },
  {
   "cell_type": "code",
   "execution_count": 8,
   "metadata": {},
   "outputs": [],
   "source": [
    "data = pd.concat(pds,ignore_index=True)"
   ]
  },
  {
   "cell_type": "code",
   "execution_count": 9,
   "metadata": {},
   "outputs": [
    {
     "data": {
      "text/html": [
       "<div>\n",
       "<style scoped>\n",
       "    .dataframe tbody tr th:only-of-type {\n",
       "        vertical-align: middle;\n",
       "    }\n",
       "\n",
       "    .dataframe tbody tr th {\n",
       "        vertical-align: top;\n",
       "    }\n",
       "\n",
       "    .dataframe thead th {\n",
       "        text-align: right;\n",
       "    }\n",
       "</style>\n",
       "<table border=\"1\" class=\"dataframe\">\n",
       "  <thead>\n",
       "    <tr style=\"text-align: right;\">\n",
       "      <th></th>\n",
       "      <th>Unnamed: 0</th>\n",
       "      <th>momentum</th>\n",
       "      <th>learning rate</th>\n",
       "      <th>batch size</th>\n",
       "      <th>loss1</th>\n",
       "      <th>acc1</th>\n",
       "      <th>loss2</th>\n",
       "      <th>acc2</th>\n",
       "      <th>loss3</th>\n",
       "      <th>acc3</th>\n",
       "      <th>...</th>\n",
       "      <th>acc9</th>\n",
       "      <th>epoch_stopped</th>\n",
       "      <th>loss10</th>\n",
       "      <th>loss4</th>\n",
       "      <th>loss5</th>\n",
       "      <th>loss6</th>\n",
       "      <th>loss7</th>\n",
       "      <th>loss8</th>\n",
       "      <th>loss9</th>\n",
       "      <th>reg_penalty</th>\n",
       "    </tr>\n",
       "  </thead>\n",
       "  <tbody>\n",
       "    <tr>\n",
       "      <th>0</th>\n",
       "      <td>0</td>\n",
       "      <td>0.9</td>\n",
       "      <td>0.1</td>\n",
       "      <td>64.0</td>\n",
       "      <td>1.473938</td>\n",
       "      <td>0.636998</td>\n",
       "      <td>0.979015</td>\n",
       "      <td>0.746946</td>\n",
       "      <td>0.972218</td>\n",
       "      <td>0.731239</td>\n",
       "      <td>...</td>\n",
       "      <td>0.727749</td>\n",
       "      <td>150.0</td>\n",
       "      <td>0.932918</td>\n",
       "      <td>1.041325</td>\n",
       "      <td>0.939665</td>\n",
       "      <td>1.056463</td>\n",
       "      <td>1.180550</td>\n",
       "      <td>1.017923</td>\n",
       "      <td>1.029265</td>\n",
       "      <td>0.0010</td>\n",
       "    </tr>\n",
       "    <tr>\n",
       "      <th>1</th>\n",
       "      <td>1</td>\n",
       "      <td>0.9</td>\n",
       "      <td>0.1</td>\n",
       "      <td>64.0</td>\n",
       "      <td>0.932459</td>\n",
       "      <td>0.696335</td>\n",
       "      <td>0.812001</td>\n",
       "      <td>0.739965</td>\n",
       "      <td>0.854554</td>\n",
       "      <td>0.719023</td>\n",
       "      <td>...</td>\n",
       "      <td>0.673647</td>\n",
       "      <td>50.0</td>\n",
       "      <td>0.865943</td>\n",
       "      <td>0.820558</td>\n",
       "      <td>0.900513</td>\n",
       "      <td>0.909224</td>\n",
       "      <td>0.896433</td>\n",
       "      <td>0.823886</td>\n",
       "      <td>0.927958</td>\n",
       "      <td>0.0001</td>\n",
       "    </tr>\n",
       "    <tr>\n",
       "      <th>2</th>\n",
       "      <td>2</td>\n",
       "      <td>0.9</td>\n",
       "      <td>0.1</td>\n",
       "      <td>64.0</td>\n",
       "      <td>0.948163</td>\n",
       "      <td>0.705061</td>\n",
       "      <td>0.809605</td>\n",
       "      <td>0.780105</td>\n",
       "      <td>0.897509</td>\n",
       "      <td>0.755672</td>\n",
       "      <td>...</td>\n",
       "      <td>0.743455</td>\n",
       "      <td>100.0</td>\n",
       "      <td>0.855287</td>\n",
       "      <td>0.824249</td>\n",
       "      <td>0.923284</td>\n",
       "      <td>0.841711</td>\n",
       "      <td>0.981435</td>\n",
       "      <td>1.083057</td>\n",
       "      <td>0.832216</td>\n",
       "      <td>0.0001</td>\n",
       "    </tr>\n",
       "    <tr>\n",
       "      <th>3</th>\n",
       "      <td>3</td>\n",
       "      <td>0.9</td>\n",
       "      <td>0.1</td>\n",
       "      <td>64.0</td>\n",
       "      <td>0.985574</td>\n",
       "      <td>0.720768</td>\n",
       "      <td>0.987147</td>\n",
       "      <td>0.729494</td>\n",
       "      <td>0.997408</td>\n",
       "      <td>0.741710</td>\n",
       "      <td>...</td>\n",
       "      <td>0.746946</td>\n",
       "      <td>150.0</td>\n",
       "      <td>0.929708</td>\n",
       "      <td>0.902130</td>\n",
       "      <td>0.901395</td>\n",
       "      <td>0.871781</td>\n",
       "      <td>1.064466</td>\n",
       "      <td>1.005045</td>\n",
       "      <td>1.027067</td>\n",
       "      <td>0.0001</td>\n",
       "    </tr>\n",
       "    <tr>\n",
       "      <th>4</th>\n",
       "      <td>4</td>\n",
       "      <td>0.9</td>\n",
       "      <td>0.1</td>\n",
       "      <td>128.0</td>\n",
       "      <td>1.121000</td>\n",
       "      <td>0.591623</td>\n",
       "      <td>1.309793</td>\n",
       "      <td>0.572426</td>\n",
       "      <td>1.362746</td>\n",
       "      <td>0.504363</td>\n",
       "      <td>...</td>\n",
       "      <td>0.684119</td>\n",
       "      <td>50.0</td>\n",
       "      <td>1.087746</td>\n",
       "      <td>1.015318</td>\n",
       "      <td>1.171576</td>\n",
       "      <td>1.052059</td>\n",
       "      <td>1.672253</td>\n",
       "      <td>1.046905</td>\n",
       "      <td>1.032066</td>\n",
       "      <td>0.0100</td>\n",
       "    </tr>\n",
       "    <tr>\n",
       "      <th>5</th>\n",
       "      <td>5</td>\n",
       "      <td>0.9</td>\n",
       "      <td>0.1</td>\n",
       "      <td>128.0</td>\n",
       "      <td>0.991778</td>\n",
       "      <td>0.713787</td>\n",
       "      <td>1.418078</td>\n",
       "      <td>0.530541</td>\n",
       "      <td>1.014928</td>\n",
       "      <td>0.699825</td>\n",
       "      <td>...</td>\n",
       "      <td>0.666667</td>\n",
       "      <td>100.0</td>\n",
       "      <td>1.315197</td>\n",
       "      <td>0.987770</td>\n",
       "      <td>1.113548</td>\n",
       "      <td>1.314808</td>\n",
       "      <td>1.541745</td>\n",
       "      <td>1.026822</td>\n",
       "      <td>1.134454</td>\n",
       "      <td>0.0100</td>\n",
       "    </tr>\n",
       "    <tr>\n",
       "      <th>6</th>\n",
       "      <td>0</td>\n",
       "      <td>0.9</td>\n",
       "      <td>0.1</td>\n",
       "      <td>128.0</td>\n",
       "      <td>1.038289</td>\n",
       "      <td>0.705061</td>\n",
       "      <td>1.169747</td>\n",
       "      <td>0.642234</td>\n",
       "      <td>1.234949</td>\n",
       "      <td>0.631763</td>\n",
       "      <td>...</td>\n",
       "      <td>0.705061</td>\n",
       "      <td>150.0</td>\n",
       "      <td>1.333741</td>\n",
       "      <td>1.103243</td>\n",
       "      <td>1.905991</td>\n",
       "      <td>1.375389</td>\n",
       "      <td>1.381897</td>\n",
       "      <td>1.238900</td>\n",
       "      <td>1.034917</td>\n",
       "      <td>0.0100</td>\n",
       "    </tr>\n",
       "    <tr>\n",
       "      <th>7</th>\n",
       "      <td>1</td>\n",
       "      <td>0.9</td>\n",
       "      <td>0.1</td>\n",
       "      <td>128.0</td>\n",
       "      <td>1.436633</td>\n",
       "      <td>0.668412</td>\n",
       "      <td>1.433625</td>\n",
       "      <td>0.677138</td>\n",
       "      <td>1.468548</td>\n",
       "      <td>0.656195</td>\n",
       "      <td>...</td>\n",
       "      <td>0.558464</td>\n",
       "      <td>50.0</td>\n",
       "      <td>1.538438</td>\n",
       "      <td>1.406662</td>\n",
       "      <td>1.422832</td>\n",
       "      <td>1.493037</td>\n",
       "      <td>1.575557</td>\n",
       "      <td>1.586586</td>\n",
       "      <td>1.737639</td>\n",
       "      <td>0.0010</td>\n",
       "    </tr>\n",
       "    <tr>\n",
       "      <th>8</th>\n",
       "      <td>2</td>\n",
       "      <td>0.9</td>\n",
       "      <td>0.1</td>\n",
       "      <td>128.0</td>\n",
       "      <td>1.255427</td>\n",
       "      <td>0.677138</td>\n",
       "      <td>1.165012</td>\n",
       "      <td>0.713787</td>\n",
       "      <td>1.186796</td>\n",
       "      <td>0.685864</td>\n",
       "      <td>...</td>\n",
       "      <td>0.678883</td>\n",
       "      <td>100.0</td>\n",
       "      <td>1.237072</td>\n",
       "      <td>1.647636</td>\n",
       "      <td>1.166318</td>\n",
       "      <td>1.915378</td>\n",
       "      <td>1.282239</td>\n",
       "      <td>1.165892</td>\n",
       "      <td>1.212269</td>\n",
       "      <td>0.0010</td>\n",
       "    </tr>\n",
       "    <tr>\n",
       "      <th>9</th>\n",
       "      <td>3</td>\n",
       "      <td>0.9</td>\n",
       "      <td>0.1</td>\n",
       "      <td>128.0</td>\n",
       "      <td>1.023322</td>\n",
       "      <td>0.715532</td>\n",
       "      <td>1.208556</td>\n",
       "      <td>0.663176</td>\n",
       "      <td>0.941410</td>\n",
       "      <td>0.727749</td>\n",
       "      <td>...</td>\n",
       "      <td>0.663176</td>\n",
       "      <td>150.0</td>\n",
       "      <td>0.987322</td>\n",
       "      <td>0.987239</td>\n",
       "      <td>1.000375</td>\n",
       "      <td>1.014935</td>\n",
       "      <td>1.270735</td>\n",
       "      <td>0.989209</td>\n",
       "      <td>1.209883</td>\n",
       "      <td>0.0010</td>\n",
       "    </tr>\n",
       "  </tbody>\n",
       "</table>\n",
       "<p>10 rows × 27 columns</p>\n",
       "</div>"
      ],
      "text/plain": [
       "   Unnamed: 0  momentum  learning rate  batch size     loss1      acc1  \\\n",
       "0           0       0.9            0.1        64.0  1.473938  0.636998   \n",
       "1           1       0.9            0.1        64.0  0.932459  0.696335   \n",
       "2           2       0.9            0.1        64.0  0.948163  0.705061   \n",
       "3           3       0.9            0.1        64.0  0.985574  0.720768   \n",
       "4           4       0.9            0.1       128.0  1.121000  0.591623   \n",
       "5           5       0.9            0.1       128.0  0.991778  0.713787   \n",
       "6           0       0.9            0.1       128.0  1.038289  0.705061   \n",
       "7           1       0.9            0.1       128.0  1.436633  0.668412   \n",
       "8           2       0.9            0.1       128.0  1.255427  0.677138   \n",
       "9           3       0.9            0.1       128.0  1.023322  0.715532   \n",
       "\n",
       "      loss2      acc2     loss3      acc3  ...      acc9  epoch_stopped  \\\n",
       "0  0.979015  0.746946  0.972218  0.731239  ...  0.727749          150.0   \n",
       "1  0.812001  0.739965  0.854554  0.719023  ...  0.673647           50.0   \n",
       "2  0.809605  0.780105  0.897509  0.755672  ...  0.743455          100.0   \n",
       "3  0.987147  0.729494  0.997408  0.741710  ...  0.746946          150.0   \n",
       "4  1.309793  0.572426  1.362746  0.504363  ...  0.684119           50.0   \n",
       "5  1.418078  0.530541  1.014928  0.699825  ...  0.666667          100.0   \n",
       "6  1.169747  0.642234  1.234949  0.631763  ...  0.705061          150.0   \n",
       "7  1.433625  0.677138  1.468548  0.656195  ...  0.558464           50.0   \n",
       "8  1.165012  0.713787  1.186796  0.685864  ...  0.678883          100.0   \n",
       "9  1.208556  0.663176  0.941410  0.727749  ...  0.663176          150.0   \n",
       "\n",
       "     loss10     loss4     loss5     loss6     loss7     loss8     loss9  \\\n",
       "0  0.932918  1.041325  0.939665  1.056463  1.180550  1.017923  1.029265   \n",
       "1  0.865943  0.820558  0.900513  0.909224  0.896433  0.823886  0.927958   \n",
       "2  0.855287  0.824249  0.923284  0.841711  0.981435  1.083057  0.832216   \n",
       "3  0.929708  0.902130  0.901395  0.871781  1.064466  1.005045  1.027067   \n",
       "4  1.087746  1.015318  1.171576  1.052059  1.672253  1.046905  1.032066   \n",
       "5  1.315197  0.987770  1.113548  1.314808  1.541745  1.026822  1.134454   \n",
       "6  1.333741  1.103243  1.905991  1.375389  1.381897  1.238900  1.034917   \n",
       "7  1.538438  1.406662  1.422832  1.493037  1.575557  1.586586  1.737639   \n",
       "8  1.237072  1.647636  1.166318  1.915378  1.282239  1.165892  1.212269   \n",
       "9  0.987322  0.987239  1.000375  1.014935  1.270735  0.989209  1.209883   \n",
       "\n",
       "   reg_penalty  \n",
       "0       0.0010  \n",
       "1       0.0001  \n",
       "2       0.0001  \n",
       "3       0.0001  \n",
       "4       0.0100  \n",
       "5       0.0100  \n",
       "6       0.0100  \n",
       "7       0.0010  \n",
       "8       0.0010  \n",
       "9       0.0010  \n",
       "\n",
       "[10 rows x 27 columns]"
      ]
     },
     "execution_count": 9,
     "metadata": {},
     "output_type": "execute_result"
    }
   ],
   "source": [
    "data.head(10)"
   ]
  },
  {
   "cell_type": "markdown",
   "metadata": {},
   "source": [
    "## <font color=\"green\"> Simple Residual Network</font>\n",
    "Simple Residual Netwok, witdh factor (k) = 1"
   ]
  },
  {
   "cell_type": "code",
   "execution_count": 10,
   "metadata": {},
   "outputs": [],
   "source": [
    "del data[data.columns[0]]\n"
   ]
  },
  {
   "cell_type": "code",
   "execution_count": 11,
   "metadata": {},
   "outputs": [
    {
     "name": "stdout",
     "output_type": "stream",
     "text": [
      "<class 'pandas.core.frame.DataFrame'>\n",
      "RangeIndex: 40 entries, 0 to 39\n",
      "Data columns (total 26 columns):\n",
      " #   Column         Non-Null Count  Dtype  \n",
      "---  ------         --------------  -----  \n",
      " 0   momentum       40 non-null     float64\n",
      " 1   learning rate  40 non-null     float64\n",
      " 2   batch size     40 non-null     float64\n",
      " 3   loss1          40 non-null     float64\n",
      " 4   acc1           40 non-null     float64\n",
      " 5   loss2          40 non-null     float64\n",
      " 6   acc2           40 non-null     float64\n",
      " 7   loss3          40 non-null     float64\n",
      " 8   acc3           40 non-null     float64\n",
      " 9   widing factor  40 non-null     float64\n",
      " 10  acc10          40 non-null     float64\n",
      " 11  acc4           40 non-null     float64\n",
      " 12  acc5           40 non-null     float64\n",
      " 13  acc6           40 non-null     float64\n",
      " 14  acc7           40 non-null     float64\n",
      " 15  acc8           40 non-null     float64\n",
      " 16  acc9           40 non-null     float64\n",
      " 17  epoch_stopped  40 non-null     float64\n",
      " 18  loss10         40 non-null     float64\n",
      " 19  loss4          40 non-null     float64\n",
      " 20  loss5          40 non-null     float64\n",
      " 21  loss6          40 non-null     float64\n",
      " 22  loss7          40 non-null     float64\n",
      " 23  loss8          40 non-null     float64\n",
      " 24  loss9          40 non-null     float64\n",
      " 25  reg_penalty    40 non-null     float64\n",
      "dtypes: float64(26)\n",
      "memory usage: 8.2 KB\n"
     ]
    }
   ],
   "source": [
    "data.drop_duplicates()\n",
    "data.info()"
   ]
  },
  {
   "cell_type": "code",
   "execution_count": 12,
   "metadata": {},
   "outputs": [
    {
     "data": {
      "text/html": [
       "<div>\n",
       "<style scoped>\n",
       "    .dataframe tbody tr th:only-of-type {\n",
       "        vertical-align: middle;\n",
       "    }\n",
       "\n",
       "    .dataframe tbody tr th {\n",
       "        vertical-align: top;\n",
       "    }\n",
       "\n",
       "    .dataframe thead th {\n",
       "        text-align: right;\n",
       "    }\n",
       "</style>\n",
       "<table border=\"1\" class=\"dataframe\">\n",
       "  <thead>\n",
       "    <tr style=\"text-align: right;\">\n",
       "      <th></th>\n",
       "      <th>momentum</th>\n",
       "      <th>learning rate</th>\n",
       "      <th>batch size</th>\n",
       "      <th>loss1</th>\n",
       "      <th>acc1</th>\n",
       "      <th>loss2</th>\n",
       "      <th>acc2</th>\n",
       "      <th>loss3</th>\n",
       "      <th>acc3</th>\n",
       "      <th>widing factor</th>\n",
       "      <th>...</th>\n",
       "      <th>acc9</th>\n",
       "      <th>epoch_stopped</th>\n",
       "      <th>loss10</th>\n",
       "      <th>loss4</th>\n",
       "      <th>loss5</th>\n",
       "      <th>loss6</th>\n",
       "      <th>loss7</th>\n",
       "      <th>loss8</th>\n",
       "      <th>loss9</th>\n",
       "      <th>reg_penalty</th>\n",
       "    </tr>\n",
       "  </thead>\n",
       "  <tbody>\n",
       "    <tr>\n",
       "      <th>0</th>\n",
       "      <td>0.9</td>\n",
       "      <td>0.1</td>\n",
       "      <td>64.0</td>\n",
       "      <td>1.473938</td>\n",
       "      <td>0.636998</td>\n",
       "      <td>0.979015</td>\n",
       "      <td>0.746946</td>\n",
       "      <td>0.972218</td>\n",
       "      <td>0.731239</td>\n",
       "      <td>1.0</td>\n",
       "      <td>...</td>\n",
       "      <td>0.727749</td>\n",
       "      <td>150.0</td>\n",
       "      <td>0.932918</td>\n",
       "      <td>1.041325</td>\n",
       "      <td>0.939665</td>\n",
       "      <td>1.056463</td>\n",
       "      <td>1.180550</td>\n",
       "      <td>1.017923</td>\n",
       "      <td>1.029265</td>\n",
       "      <td>0.0010</td>\n",
       "    </tr>\n",
       "    <tr>\n",
       "      <th>1</th>\n",
       "      <td>0.9</td>\n",
       "      <td>0.1</td>\n",
       "      <td>64.0</td>\n",
       "      <td>0.932459</td>\n",
       "      <td>0.696335</td>\n",
       "      <td>0.812001</td>\n",
       "      <td>0.739965</td>\n",
       "      <td>0.854554</td>\n",
       "      <td>0.719023</td>\n",
       "      <td>1.0</td>\n",
       "      <td>...</td>\n",
       "      <td>0.673647</td>\n",
       "      <td>50.0</td>\n",
       "      <td>0.865943</td>\n",
       "      <td>0.820558</td>\n",
       "      <td>0.900513</td>\n",
       "      <td>0.909224</td>\n",
       "      <td>0.896433</td>\n",
       "      <td>0.823886</td>\n",
       "      <td>0.927958</td>\n",
       "      <td>0.0001</td>\n",
       "    </tr>\n",
       "    <tr>\n",
       "      <th>2</th>\n",
       "      <td>0.9</td>\n",
       "      <td>0.1</td>\n",
       "      <td>64.0</td>\n",
       "      <td>0.948163</td>\n",
       "      <td>0.705061</td>\n",
       "      <td>0.809605</td>\n",
       "      <td>0.780105</td>\n",
       "      <td>0.897509</td>\n",
       "      <td>0.755672</td>\n",
       "      <td>1.0</td>\n",
       "      <td>...</td>\n",
       "      <td>0.743455</td>\n",
       "      <td>100.0</td>\n",
       "      <td>0.855287</td>\n",
       "      <td>0.824249</td>\n",
       "      <td>0.923284</td>\n",
       "      <td>0.841711</td>\n",
       "      <td>0.981435</td>\n",
       "      <td>1.083057</td>\n",
       "      <td>0.832216</td>\n",
       "      <td>0.0001</td>\n",
       "    </tr>\n",
       "    <tr>\n",
       "      <th>3</th>\n",
       "      <td>0.9</td>\n",
       "      <td>0.1</td>\n",
       "      <td>64.0</td>\n",
       "      <td>0.985574</td>\n",
       "      <td>0.720768</td>\n",
       "      <td>0.987147</td>\n",
       "      <td>0.729494</td>\n",
       "      <td>0.997408</td>\n",
       "      <td>0.741710</td>\n",
       "      <td>1.0</td>\n",
       "      <td>...</td>\n",
       "      <td>0.746946</td>\n",
       "      <td>150.0</td>\n",
       "      <td>0.929708</td>\n",
       "      <td>0.902130</td>\n",
       "      <td>0.901395</td>\n",
       "      <td>0.871781</td>\n",
       "      <td>1.064466</td>\n",
       "      <td>1.005045</td>\n",
       "      <td>1.027067</td>\n",
       "      <td>0.0001</td>\n",
       "    </tr>\n",
       "    <tr>\n",
       "      <th>4</th>\n",
       "      <td>0.9</td>\n",
       "      <td>0.1</td>\n",
       "      <td>128.0</td>\n",
       "      <td>1.121000</td>\n",
       "      <td>0.591623</td>\n",
       "      <td>1.309793</td>\n",
       "      <td>0.572426</td>\n",
       "      <td>1.362746</td>\n",
       "      <td>0.504363</td>\n",
       "      <td>1.0</td>\n",
       "      <td>...</td>\n",
       "      <td>0.684119</td>\n",
       "      <td>50.0</td>\n",
       "      <td>1.087746</td>\n",
       "      <td>1.015318</td>\n",
       "      <td>1.171576</td>\n",
       "      <td>1.052059</td>\n",
       "      <td>1.672253</td>\n",
       "      <td>1.046905</td>\n",
       "      <td>1.032066</td>\n",
       "      <td>0.0100</td>\n",
       "    </tr>\n",
       "  </tbody>\n",
       "</table>\n",
       "<p>5 rows × 26 columns</p>\n",
       "</div>"
      ],
      "text/plain": [
       "   momentum  learning rate  batch size     loss1      acc1     loss2  \\\n",
       "0       0.9            0.1        64.0  1.473938  0.636998  0.979015   \n",
       "1       0.9            0.1        64.0  0.932459  0.696335  0.812001   \n",
       "2       0.9            0.1        64.0  0.948163  0.705061  0.809605   \n",
       "3       0.9            0.1        64.0  0.985574  0.720768  0.987147   \n",
       "4       0.9            0.1       128.0  1.121000  0.591623  1.309793   \n",
       "\n",
       "       acc2     loss3      acc3  widing factor  ...      acc9  epoch_stopped  \\\n",
       "0  0.746946  0.972218  0.731239            1.0  ...  0.727749          150.0   \n",
       "1  0.739965  0.854554  0.719023            1.0  ...  0.673647           50.0   \n",
       "2  0.780105  0.897509  0.755672            1.0  ...  0.743455          100.0   \n",
       "3  0.729494  0.997408  0.741710            1.0  ...  0.746946          150.0   \n",
       "4  0.572426  1.362746  0.504363            1.0  ...  0.684119           50.0   \n",
       "\n",
       "     loss10     loss4     loss5     loss6     loss7     loss8     loss9  \\\n",
       "0  0.932918  1.041325  0.939665  1.056463  1.180550  1.017923  1.029265   \n",
       "1  0.865943  0.820558  0.900513  0.909224  0.896433  0.823886  0.927958   \n",
       "2  0.855287  0.824249  0.923284  0.841711  0.981435  1.083057  0.832216   \n",
       "3  0.929708  0.902130  0.901395  0.871781  1.064466  1.005045  1.027067   \n",
       "4  1.087746  1.015318  1.171576  1.052059  1.672253  1.046905  1.032066   \n",
       "\n",
       "   reg_penalty  \n",
       "0       0.0010  \n",
       "1       0.0001  \n",
       "2       0.0001  \n",
       "3       0.0001  \n",
       "4       0.0100  \n",
       "\n",
       "[5 rows x 26 columns]"
      ]
     },
     "execution_count": 12,
     "metadata": {},
     "output_type": "execute_result"
    }
   ],
   "source": [
    "data.head(5)"
   ]
  },
  {
   "cell_type": "markdown",
   "metadata": {},
   "source": [
    "## <font color =\"green\"> Evaluation of the hyperparameter tuning results</font>"
   ]
  },
  {
   "cell_type": "code",
   "execution_count": 13,
   "metadata": {},
   "outputs": [],
   "source": [
    "data[\"loss_mean\"] = (data[\"loss1\"]+data[\"loss2\"]+data[\"loss3\"]+data[\"loss4\"]+data[\"loss5\"]+data[\"loss6\"]+data[\"loss7\"]+data[\"loss8\"]+data[\"loss9\"]+data[\"loss10\"])/10"
   ]
  },
  {
   "cell_type": "code",
   "execution_count": 14,
   "metadata": {},
   "outputs": [],
   "source": [
    "data[\"acc_mean\"] = (data[\"acc1\"]+data[\"acc2\"]+data[\"acc3\"]+data[\"acc4\"]+data[\"acc5\"]+data[\"acc6\"]+data[\"acc7\"]+data[\"acc8\"]+data[\"acc9\"]+data[\"acc10\"])/10"
   ]
  },
  {
   "cell_type": "code",
   "execution_count": 15,
   "metadata": {},
   "outputs": [],
   "source": [
    "data['epoch'] = data['epoch_stopped']\n",
    "data['weight_decay'] = data['reg_penalty']"
   ]
  },
  {
   "cell_type": "code",
   "execution_count": 16,
   "metadata": {},
   "outputs": [],
   "source": [
    "column_list = [\"momentum\", \"learning rate\", \"epoch\",\"batch size\",\"weight_decay\",\"loss_mean\", \"acc_mean\"]"
   ]
  },
  {
   "cell_type": "code",
   "execution_count": 17,
   "metadata": {},
   "outputs": [
    {
     "name": "stdout",
     "output_type": "stream",
     "text": [
      "\\begin{tabular}{lrrrrrrr}\n",
      "\\toprule\n",
      "{} &  momentum &  learning rate &  epoch &  batch size &  weight\\_decay &  loss\\_mean &  acc\\_mean \\\\\n",
      "\\midrule\n",
      "1  &       0.9 &           0.10 &   50.0 &        64.0 &        0.0001 &   0.874353 &  0.707679 \\\\\n",
      "2  &       0.9 &           0.10 &  100.0 &        64.0 &        0.0001 &   0.899651 &  0.732461 \\\\\n",
      "27 &       0.9 &           0.01 &  150.0 &        64.0 &        0.0001 &   0.937435 &  0.682373 \\\\\n",
      "\\bottomrule\n",
      "\\end{tabular}\n",
      "\n"
     ]
    }
   ],
   "source": [
    "print(data.sort_values(axis=0, by=\"loss_mean\", ascending=True)[column_list].head(3).to_latex())"
   ]
  },
  {
   "cell_type": "code",
   "execution_count": 19,
   "metadata": {},
   "outputs": [],
   "source": [
    "data[\"loss_na\"] = data.loc[:,[\"loss1\",\"loss2\", \"loss3\", \"loss4\",\"loss5\",\"loss6\", \"loss7\",\"loss8\", \"loss9\",\"loss10\"]].isnull().sum(1)"
   ]
  },
  {
   "cell_type": "code",
   "execution_count": 20,
   "metadata": {
    "scrolled": true
   },
   "outputs": [
    {
     "data": {
      "text/html": [
       "<div>\n",
       "<style scoped>\n",
       "    .dataframe tbody tr th:only-of-type {\n",
       "        vertical-align: middle;\n",
       "    }\n",
       "\n",
       "    .dataframe tbody tr th {\n",
       "        vertical-align: top;\n",
       "    }\n",
       "\n",
       "    .dataframe thead th {\n",
       "        text-align: right;\n",
       "    }\n",
       "</style>\n",
       "<table border=\"1\" class=\"dataframe\">\n",
       "  <thead>\n",
       "    <tr style=\"text-align: right;\">\n",
       "      <th></th>\n",
       "      <th>momentum</th>\n",
       "      <th>learning rate</th>\n",
       "      <th>batch size</th>\n",
       "      <th>loss1</th>\n",
       "      <th>acc1</th>\n",
       "      <th>loss2</th>\n",
       "      <th>acc2</th>\n",
       "      <th>loss3</th>\n",
       "      <th>acc3</th>\n",
       "      <th>widing factor</th>\n",
       "      <th>...</th>\n",
       "      <th>loss6</th>\n",
       "      <th>loss7</th>\n",
       "      <th>loss8</th>\n",
       "      <th>loss9</th>\n",
       "      <th>reg_penalty</th>\n",
       "      <th>loss_mean</th>\n",
       "      <th>acc_mean</th>\n",
       "      <th>epoch</th>\n",
       "      <th>weight_decay</th>\n",
       "      <th>loss_na</th>\n",
       "    </tr>\n",
       "  </thead>\n",
       "  <tbody>\n",
       "    <tr>\n",
       "      <th>0</th>\n",
       "      <td>0.9</td>\n",
       "      <td>0.1</td>\n",
       "      <td>64.0</td>\n",
       "      <td>1.473938</td>\n",
       "      <td>0.636998</td>\n",
       "      <td>0.979015</td>\n",
       "      <td>0.746946</td>\n",
       "      <td>0.972218</td>\n",
       "      <td>0.731239</td>\n",
       "      <td>1.0</td>\n",
       "      <td>...</td>\n",
       "      <td>1.056463</td>\n",
       "      <td>1.180550</td>\n",
       "      <td>1.017923</td>\n",
       "      <td>1.029265</td>\n",
       "      <td>0.0010</td>\n",
       "      <td>1.062328</td>\n",
       "      <td>0.724782</td>\n",
       "      <td>150.0</td>\n",
       "      <td>0.0010</td>\n",
       "      <td>0</td>\n",
       "    </tr>\n",
       "    <tr>\n",
       "      <th>1</th>\n",
       "      <td>0.9</td>\n",
       "      <td>0.1</td>\n",
       "      <td>64.0</td>\n",
       "      <td>0.932459</td>\n",
       "      <td>0.696335</td>\n",
       "      <td>0.812001</td>\n",
       "      <td>0.739965</td>\n",
       "      <td>0.854554</td>\n",
       "      <td>0.719023</td>\n",
       "      <td>1.0</td>\n",
       "      <td>...</td>\n",
       "      <td>0.909224</td>\n",
       "      <td>0.896433</td>\n",
       "      <td>0.823886</td>\n",
       "      <td>0.927958</td>\n",
       "      <td>0.0001</td>\n",
       "      <td>0.874353</td>\n",
       "      <td>0.707679</td>\n",
       "      <td>50.0</td>\n",
       "      <td>0.0001</td>\n",
       "      <td>0</td>\n",
       "    </tr>\n",
       "    <tr>\n",
       "      <th>2</th>\n",
       "      <td>0.9</td>\n",
       "      <td>0.1</td>\n",
       "      <td>64.0</td>\n",
       "      <td>0.948163</td>\n",
       "      <td>0.705061</td>\n",
       "      <td>0.809605</td>\n",
       "      <td>0.780105</td>\n",
       "      <td>0.897509</td>\n",
       "      <td>0.755672</td>\n",
       "      <td>1.0</td>\n",
       "      <td>...</td>\n",
       "      <td>0.841711</td>\n",
       "      <td>0.981435</td>\n",
       "      <td>1.083057</td>\n",
       "      <td>0.832216</td>\n",
       "      <td>0.0001</td>\n",
       "      <td>0.899651</td>\n",
       "      <td>0.732461</td>\n",
       "      <td>100.0</td>\n",
       "      <td>0.0001</td>\n",
       "      <td>0</td>\n",
       "    </tr>\n",
       "  </tbody>\n",
       "</table>\n",
       "<p>3 rows × 31 columns</p>\n",
       "</div>"
      ],
      "text/plain": [
       "   momentum  learning rate  batch size     loss1      acc1     loss2  \\\n",
       "0       0.9            0.1        64.0  1.473938  0.636998  0.979015   \n",
       "1       0.9            0.1        64.0  0.932459  0.696335  0.812001   \n",
       "2       0.9            0.1        64.0  0.948163  0.705061  0.809605   \n",
       "\n",
       "       acc2     loss3      acc3  widing factor  ...     loss6     loss7  \\\n",
       "0  0.746946  0.972218  0.731239            1.0  ...  1.056463  1.180550   \n",
       "1  0.739965  0.854554  0.719023            1.0  ...  0.909224  0.896433   \n",
       "2  0.780105  0.897509  0.755672            1.0  ...  0.841711  0.981435   \n",
       "\n",
       "      loss8     loss9  reg_penalty  loss_mean  acc_mean  epoch  weight_decay  \\\n",
       "0  1.017923  1.029265       0.0010   1.062328  0.724782  150.0        0.0010   \n",
       "1  0.823886  0.927958       0.0001   0.874353  0.707679   50.0        0.0001   \n",
       "2  1.083057  0.832216       0.0001   0.899651  0.732461  100.0        0.0001   \n",
       "\n",
       "   loss_na  \n",
       "0        0  \n",
       "1        0  \n",
       "2        0  \n",
       "\n",
       "[3 rows x 31 columns]"
      ]
     },
     "execution_count": 20,
     "metadata": {},
     "output_type": "execute_result"
    }
   ],
   "source": [
    "data.head(3)"
   ]
  },
  {
   "cell_type": "markdown",
   "metadata": {},
   "source": [
    "## Visualization"
   ]
  },
  {
   "cell_type": "code",
   "execution_count": 17,
   "metadata": {},
   "outputs": [],
   "source": [
    "loss = [data[\"loss1\"][1],data[\"loss2\"][1],data[\"loss3\"][1],data[\"loss4\"][1],data[\"loss5\"][1],data[\"loss6\"][1],\n",
    "        data[\"loss7\"][1],data[\"loss8\"][1],data[\"loss9\"][1],data[\"loss10\"][1],data[\"loss1\"][2],\n",
    "        data[\"loss2\"][2],data[\"loss3\"][2],data[\"loss4\"][2],data[\"loss5\"][2],data[\"loss6\"][2],\n",
    "        data[\"loss7\"][2],data[\"loss8\"][2],data[\"loss9\"][2],data[\"loss10\"][2],\n",
    "        data[\"loss1\"][26],data[\"loss2\"][26],data[\"loss3\"][26],data[\"loss4\"][26],\n",
    "        data[\"loss5\"][26],data[\"loss6\"][26],data[\"loss7\"][26],data[\"loss8\"][26],\n",
    "        data[\"loss9\"][26],data[\"loss10\"][26]]"
   ]
  },
  {
   "cell_type": "code",
   "execution_count": 18,
   "metadata": {},
   "outputs": [],
   "source": [
    "boxplot_data = {'NeuralNetwork': [\"Model1\", \"Model1\", \"Model1\",\"Model1\", \"Model1\", \"Model1\",\"Model1\", \"Model1\", \"Model1\",\"Model1\",\n",
    "                                   \"Model2\", \"Model2\", \"Model2\",\"Model2\", \"Model2\", \"Model2\",\"Model2\", \"Model2\", \"Model2\",\"Model2\",\n",
    "                                   \"Model3\", \"Model3\", \"Model3\",\"Model3\", \"Model3\", \"Model3\",\"Model3\", \"Model3\", \"Model3\",\"Model3\"],\n",
    "                'Loss': loss}\n",
    "boxplot_df = pd.DataFrame(data=boxplot_data)"
   ]
  },
  {
   "cell_type": "markdown",
   "metadata": {},
   "source": [
    "## <font color = \"blue\"> BoxPlot</font>"
   ]
  },
  {
   "cell_type": "code",
   "execution_count": 21,
   "metadata": {},
   "outputs": [
    {
     "data": {
      "text/plain": [
       "Text(0.5, 1.0, 'Boxplot of the Best 3 Models')"
      ]
     },
     "execution_count": 21,
     "metadata": {},
     "output_type": "execute_result"
    },
    {
     "data": {
      "image/png": "[encoded data removed]",
      "text/plain": [
       "<Figure size 432x288 with 1 Axes>"
      ]
     },
     "metadata": {
      "needs_background": "light"
     },
     "output_type": "display_data"
    }
   ],
   "source": [
    "sns.boxplot(x=boxplot_df[\"NeuralNetwork\"], y=boxplot_df[\"Loss\"], palette=\"bright\")\n",
    "plt.title(\"Boxplot of the Best 3 Models\")"
   ]
  },
  {
   "cell_type": "code",
   "execution_count": 24,
   "metadata": {},
   "outputs": [],
   "source": [
    "best_model=pd.DataFrame()\n",
    "best_model =data.sort_values(axis=0, by=\"loss_mean\", ascending=True)[column_list][:3]"
   ]
  },
  {
   "cell_type": "markdown",
   "metadata": {},
   "source": [
    "<font color=\"green\">Consequently, it can be seen that increasing the widing factor results in high loss values and loss mean on the results of hyperparameter tuning.\n",
    "   \n",
    "   However, we will train the simple residual network and simple wide residual networks on the rest of the project.</font>"
   ]
  },
  {
   "cell_type": "markdown",
   "metadata": {},
   "source": [
    "## <font color= \"Purple\">Visualize the parameters of the Best Model </font>"
   ]
  },
  {
   "cell_type": "code",
   "execution_count": 25,
   "metadata": {},
   "outputs": [
    {
     "data": {
      "text/html": [
       "<div>\n",
       "<style scoped>\n",
       "    .dataframe tbody tr th:only-of-type {\n",
       "        vertical-align: middle;\n",
       "    }\n",
       "\n",
       "    .dataframe tbody tr th {\n",
       "        vertical-align: top;\n",
       "    }\n",
       "\n",
       "    .dataframe thead th {\n",
       "        text-align: right;\n",
       "    }\n",
       "</style>\n",
       "<table border=\"1\" class=\"dataframe\">\n",
       "  <thead>\n",
       "    <tr style=\"text-align: right;\">\n",
       "      <th></th>\n",
       "      <th>momentum</th>\n",
       "      <th>learning rate</th>\n",
       "      <th>epoch</th>\n",
       "      <th>batch size</th>\n",
       "      <th>weight_decay</th>\n",
       "      <th>loss_mean</th>\n",
       "      <th>acc_mean</th>\n",
       "    </tr>\n",
       "  </thead>\n",
       "  <tbody>\n",
       "    <tr>\n",
       "      <th>1</th>\n",
       "      <td>0.9</td>\n",
       "      <td>0.10</td>\n",
       "      <td>50.0</td>\n",
       "      <td>64.0</td>\n",
       "      <td>0.0001</td>\n",
       "      <td>0.874353</td>\n",
       "      <td>0.707679</td>\n",
       "    </tr>\n",
       "    <tr>\n",
       "      <th>2</th>\n",
       "      <td>0.9</td>\n",
       "      <td>0.10</td>\n",
       "      <td>100.0</td>\n",
       "      <td>64.0</td>\n",
       "      <td>0.0001</td>\n",
       "      <td>0.899651</td>\n",
       "      <td>0.732461</td>\n",
       "    </tr>\n",
       "    <tr>\n",
       "      <th>26</th>\n",
       "      <td>0.9</td>\n",
       "      <td>0.01</td>\n",
       "      <td>150.0</td>\n",
       "      <td>64.0</td>\n",
       "      <td>0.0001</td>\n",
       "      <td>0.937435</td>\n",
       "      <td>0.682373</td>\n",
       "    </tr>\n",
       "  </tbody>\n",
       "</table>\n",
       "</div>"
      ],
      "text/plain": [
       "    momentum  learning rate  epoch  batch size  weight_decay  loss_mean  \\\n",
       "1        0.9           0.10   50.0        64.0        0.0001   0.874353   \n",
       "2        0.9           0.10  100.0        64.0        0.0001   0.899651   \n",
       "26       0.9           0.01  150.0        64.0        0.0001   0.937435   \n",
       "\n",
       "    acc_mean  \n",
       "1   0.707679  \n",
       "2   0.732461  \n",
       "26  0.682373  "
      ]
     },
     "execution_count": 25,
     "metadata": {},
     "output_type": "execute_result"
    }
   ],
   "source": [
    "best_model"
   ]
  },
  {
   "cell_type": "code",
   "execution_count": 26,
   "metadata": {},
   "outputs": [
    {
     "data": {
      "image/png": "[encoded data removed]",
      "text/plain": [
       "<Figure size 648x216 with 2 Axes>"
      ]
     },
     "metadata": {
      "needs_background": "light"
     },
     "output_type": "display_data"
    }
   ],
   "source": [
    "g = sns.FacetGrid(best_model, col=\"learning rate\", sharey=True, aspect=1.5, margin_titles=True)\n",
    "g.map(sns.barplot, \"learning rate\", \"loss_mean\", order = [0.01, 0.1])\n",
    "plt.rcParams.update({'font.size': 10})\n",
    "g.map(sns.barplot, \"weight_decay\", \"loss_mean\")\n",
    "plt.show()"
   ]
  },
  {
   "cell_type": "code",
   "execution_count": 27,
   "metadata": {},
   "outputs": [
    {
     "data": {
      "image/png": "[encoded data removed]",
      "text/plain": [
       "<Figure size 324x216 with 1 Axes>"
      ]
     },
     "metadata": {
      "needs_background": "light"
     },
     "output_type": "display_data"
    }
   ],
   "source": [
    "plt.rcParams.update({'font.size': 14})\n",
    "g = sns.FacetGrid(best_model, col = \"batch size\", sharey=True, aspect=1.5, margin_titles=True)\n",
    "g.map(sns.barplot, \"learning rate\", \"loss_mean\", order = [0.01, 0.1])\n",
    "plt.rcParams.update({'font.size': 14})\n",
    "plt.show()"
   ]
  },
  {
   "cell_type": "code",
   "execution_count": 28,
   "metadata": {},
   "outputs": [
    {
     "data": {
      "image/png": "[encoded data removed]",
      "text/plain": [
       "<Figure size 972x216 with 3 Axes>"
      ]
     },
     "metadata": {
      "needs_background": "light"
     },
     "output_type": "display_data"
    }
   ],
   "source": [
    "g = sns.FacetGrid(best_model, col=\"epoch\", sharey=True, aspect=1.5, margin_titles=True)\n",
    "g.map(sns.barplot, \"weight_decay\", \"loss_mean\")\n",
    "plt.show()"
   ]
  },
  {
   "cell_type": "markdown",
   "metadata": {},
   "source": [
    "## <font color=\"green\">Increase the width factor to find the better model</font>\n",
    "Simple Wide Residual Netwok, witdh factor (k) = 2"
   ]
  },
  {
   "cell_type": "code",
   "execution_count": 21,
   "metadata": {},
   "outputs": [],
   "source": [
    "data_wide_basic  = pd.read_csv(\"/Users/sefika/adversarial_examples_parseval_net/src/data/GridCV/grid_16_2.csv\", sep=\";\")"
   ]
  },
  {
   "cell_type": "code",
   "execution_count": 23,
   "metadata": {},
   "outputs": [],
   "source": [
    "del data_wide_basic[data_wide_basic.columns[0]]"
   ]
  },
  {
   "cell_type": "code",
   "execution_count": 24,
   "metadata": {},
   "outputs": [
    {
     "data": {
      "text/html": [
       "<div>\n",
       "<style scoped>\n",
       "    .dataframe tbody tr th:only-of-type {\n",
       "        vertical-align: middle;\n",
       "    }\n",
       "\n",
       "    .dataframe tbody tr th {\n",
       "        vertical-align: top;\n",
       "    }\n",
       "\n",
       "    .dataframe thead th {\n",
       "        text-align: right;\n",
       "    }\n",
       "</style>\n",
       "<table border=\"1\" class=\"dataframe\">\n",
       "  <thead>\n",
       "    <tr style=\"text-align: right;\">\n",
       "      <th></th>\n",
       "      <th>momentum</th>\n",
       "      <th>learning rate</th>\n",
       "      <th>batch size</th>\n",
       "      <th>loss1</th>\n",
       "      <th>acc1</th>\n",
       "      <th>loss2</th>\n",
       "      <th>acc2</th>\n",
       "      <th>loss3</th>\n",
       "      <th>acc3</th>\n",
       "      <th>widing factor</th>\n",
       "      <th>...</th>\n",
       "      <th>acc9</th>\n",
       "      <th>epoch_stopped</th>\n",
       "      <th>loss10</th>\n",
       "      <th>loss4</th>\n",
       "      <th>loss5</th>\n",
       "      <th>loss6</th>\n",
       "      <th>loss7</th>\n",
       "      <th>loss8</th>\n",
       "      <th>loss9</th>\n",
       "      <th>reg_penalty</th>\n",
       "    </tr>\n",
       "  </thead>\n",
       "  <tbody>\n",
       "    <tr>\n",
       "      <th>0</th>\n",
       "      <td>0.9</td>\n",
       "      <td>0.1</td>\n",
       "      <td>64.0</td>\n",
       "      <td>1.211841</td>\n",
       "      <td>0.668412</td>\n",
       "      <td>1.187398</td>\n",
       "      <td>0.696335</td>\n",
       "      <td>1.048499</td>\n",
       "      <td>0.719023</td>\n",
       "      <td>2.0</td>\n",
       "      <td>...</td>\n",
       "      <td>0.680628</td>\n",
       "      <td>50.0</td>\n",
       "      <td>1.08041</td>\n",
       "      <td>1.004501</td>\n",
       "      <td>1.22866</td>\n",
       "      <td>0.99855</td>\n",
       "      <td>1.089862</td>\n",
       "      <td>0.941314</td>\n",
       "      <td>1.094591</td>\n",
       "      <td>0.0001</td>\n",
       "    </tr>\n",
       "  </tbody>\n",
       "</table>\n",
       "<p>1 rows × 26 columns</p>\n",
       "</div>"
      ],
      "text/plain": [
       "   momentum  learning rate  batch size     loss1      acc1     loss2  \\\n",
       "0       0.9            0.1        64.0  1.211841  0.668412  1.187398   \n",
       "\n",
       "       acc2     loss3      acc3  widing factor  ...      acc9  epoch_stopped  \\\n",
       "0  0.696335  1.048499  0.719023            2.0  ...  0.680628           50.0   \n",
       "\n",
       "    loss10     loss4    loss5    loss6     loss7     loss8     loss9  \\\n",
       "0  1.08041  1.004501  1.22866  0.99855  1.089862  0.941314  1.094591   \n",
       "\n",
       "   reg_penalty  \n",
       "0       0.0001  \n",
       "\n",
       "[1 rows x 26 columns]"
      ]
     },
     "execution_count": 24,
     "metadata": {},
     "output_type": "execute_result"
    }
   ],
   "source": [
    "data_wide_basic.head(1)"
   ]
  },
  {
   "cell_type": "code",
   "execution_count": 25,
   "metadata": {},
   "outputs": [
    {
     "name": "stdout",
     "output_type": "stream",
     "text": [
      "<class 'pandas.core.frame.DataFrame'>\n",
      "RangeIndex: 1 entries, 0 to 0\n",
      "Data columns (total 26 columns):\n",
      " #   Column         Non-Null Count  Dtype  \n",
      "---  ------         --------------  -----  \n",
      " 0   momentum       1 non-null      float64\n",
      " 1   learning rate  1 non-null      float64\n",
      " 2   batch size     1 non-null      float64\n",
      " 3   loss1          1 non-null      float64\n",
      " 4   acc1           1 non-null      float64\n",
      " 5   loss2          1 non-null      float64\n",
      " 6   acc2           1 non-null      float64\n",
      " 7   loss3          1 non-null      float64\n",
      " 8   acc3           1 non-null      float64\n",
      " 9   widing factor  1 non-null      float64\n",
      " 10  acc10          1 non-null      float64\n",
      " 11  acc4           1 non-null      float64\n",
      " 12  acc5           1 non-null      float64\n",
      " 13  acc6           1 non-null      float64\n",
      " 14  acc7           1 non-null      float64\n",
      " 15  acc8           1 non-null      float64\n",
      " 16  acc9           1 non-null      float64\n",
      " 17  epoch_stopped  1 non-null      float64\n",
      " 18  loss10         1 non-null      float64\n",
      " 19  loss4          1 non-null      float64\n",
      " 20  loss5          1 non-null      float64\n",
      " 21  loss6          1 non-null      float64\n",
      " 22  loss7          1 non-null      float64\n",
      " 23  loss8          1 non-null      float64\n",
      " 24  loss9          1 non-null      float64\n",
      " 25  reg_penalty    1 non-null      float64\n",
      "dtypes: float64(26)\n",
      "memory usage: 336.0 bytes\n"
     ]
    }
   ],
   "source": [
    "data_wide_basic.info()"
   ]
  },
  {
   "cell_type": "code",
   "execution_count": 26,
   "metadata": {},
   "outputs": [],
   "source": [
    "data_wide_basic[\"loss_mean\"] = (data_wide_basic[\"loss1\"]+data_wide_basic[\"loss2\"]+data_wide_basic[\"loss3\"]+data_wide_basic[\"loss4\"]+data_wide_basic[\"loss5\"]+data_wide_basic[\"loss6\"]+data_wide_basic[\"loss7\"]+data_wide_basic[\"loss8\"]+data_wide_basic[\"loss9\"]+data_wide_basic[\"loss10\"])/10"
   ]
  },
  {
   "cell_type": "code",
   "execution_count": 27,
   "metadata": {},
   "outputs": [],
   "source": [
    "data_wide_basic[\"acc_mean\"] = (data_wide_basic[\"acc1\"]+data_wide_basic[\"acc2\"]+data_wide_basic[\"acc3\"]+data_wide_basic[\"acc4\"]+data_wide_basic[\"acc5\"]+data_wide_basic[\"acc6\"]+data_wide_basic[\"acc7\"]+data_wide_basic[\"acc8\"]+data_wide_basic[\"acc9\"]+data_wide_basic[\"acc10\"])/10"
   ]
  },
  {
   "cell_type": "code",
   "execution_count": 29,
   "metadata": {},
   "outputs": [],
   "source": [
    "data_wide_basic['epoch'] = data_wide_basic['epoch_stopped']\n",
    "data_wide_basic['weight_decay'] = data_wide_basic['reg_penalty']"
   ]
  },
  {
   "cell_type": "code",
   "execution_count": 30,
   "metadata": {
    "scrolled": true
   },
   "outputs": [
    {
     "data": {
      "text/html": [
       "<div>\n",
       "<style scoped>\n",
       "    .dataframe tbody tr th:only-of-type {\n",
       "        vertical-align: middle;\n",
       "    }\n",
       "\n",
       "    .dataframe tbody tr th {\n",
       "        vertical-align: top;\n",
       "    }\n",
       "\n",
       "    .dataframe thead th {\n",
       "        text-align: right;\n",
       "    }\n",
       "</style>\n",
       "<table border=\"1\" class=\"dataframe\">\n",
       "  <thead>\n",
       "    <tr style=\"text-align: right;\">\n",
       "      <th></th>\n",
       "      <th>momentum</th>\n",
       "      <th>learning rate</th>\n",
       "      <th>epoch</th>\n",
       "      <th>batch size</th>\n",
       "      <th>weight_decay</th>\n",
       "      <th>loss_mean</th>\n",
       "      <th>acc_mean</th>\n",
       "    </tr>\n",
       "  </thead>\n",
       "  <tbody>\n",
       "    <tr>\n",
       "      <th>0</th>\n",
       "      <td>0.9</td>\n",
       "      <td>0.1</td>\n",
       "      <td>50.0</td>\n",
       "      <td>64.0</td>\n",
       "      <td>0.0001</td>\n",
       "      <td>1.088562</td>\n",
       "      <td>0.706981</td>\n",
       "    </tr>\n",
       "  </tbody>\n",
       "</table>\n",
       "</div>"
      ],
      "text/plain": [
       "   momentum  learning rate  epoch  batch size  weight_decay  loss_mean  \\\n",
       "0       0.9            0.1   50.0        64.0        0.0001   1.088562   \n",
       "\n",
       "   acc_mean  \n",
       "0  0.706981  "
      ]
     },
     "execution_count": 30,
     "metadata": {},
     "output_type": "execute_result"
    }
   ],
   "source": [
    "data_wide_basic.sort_values(axis=0, by=\"loss_mean\", ascending=True)[column_list].head(3)"
   ]
  },
  {
   "cell_type": "markdown",
   "metadata": {},
   "source": [
    "## <font color=\"green\"> Wide Residual Network</font>\n",
    "Wide Residual Netwok, witdh factor (k) = 4"
   ]
  },
  {
   "cell_type": "code",
   "execution_count": 31,
   "metadata": {},
   "outputs": [],
   "source": [
    "data_wide_k_4  = pd.read_csv(\"/Users/sefika/adversarial_examples_parseval_net/src/data/GridCV/grid_16_4.csv\", sep=\";\")"
   ]
  },
  {
   "cell_type": "code",
   "execution_count": 32,
   "metadata": {},
   "outputs": [
    {
     "data": {
      "text/html": [
       "<div>\n",
       "<style scoped>\n",
       "    .dataframe tbody tr th:only-of-type {\n",
       "        vertical-align: middle;\n",
       "    }\n",
       "\n",
       "    .dataframe tbody tr th {\n",
       "        vertical-align: top;\n",
       "    }\n",
       "\n",
       "    .dataframe thead th {\n",
       "        text-align: right;\n",
       "    }\n",
       "</style>\n",
       "<table border=\"1\" class=\"dataframe\">\n",
       "  <thead>\n",
       "    <tr style=\"text-align: right;\">\n",
       "      <th></th>\n",
       "      <th>Unnamed: 0</th>\n",
       "      <th>momentum</th>\n",
       "      <th>learning rate</th>\n",
       "      <th>batch size</th>\n",
       "      <th>loss1</th>\n",
       "      <th>acc1</th>\n",
       "      <th>loss2</th>\n",
       "      <th>acc2</th>\n",
       "      <th>loss3</th>\n",
       "      <th>acc3</th>\n",
       "      <th>...</th>\n",
       "      <th>acc9</th>\n",
       "      <th>epoch_stopped</th>\n",
       "      <th>loss10</th>\n",
       "      <th>loss4</th>\n",
       "      <th>loss5</th>\n",
       "      <th>loss6</th>\n",
       "      <th>loss7</th>\n",
       "      <th>loss8</th>\n",
       "      <th>loss9</th>\n",
       "      <th>reg_penalty</th>\n",
       "    </tr>\n",
       "  </thead>\n",
       "  <tbody>\n",
       "    <tr>\n",
       "      <th>0</th>\n",
       "      <td>0</td>\n",
       "      <td>0.9</td>\n",
       "      <td>0.1</td>\n",
       "      <td>64.0</td>\n",
       "      <td>1.273512</td>\n",
       "      <td>0.726003</td>\n",
       "      <td>1.209218</td>\n",
       "      <td>0.750436</td>\n",
       "      <td>1.570295</td>\n",
       "      <td>0.682373</td>\n",
       "      <td>...</td>\n",
       "      <td>0.764398</td>\n",
       "      <td>50.0</td>\n",
       "      <td>1.209179</td>\n",
       "      <td>1.446582</td>\n",
       "      <td>1.182434</td>\n",
       "      <td>1.072532</td>\n",
       "      <td>1.243928</td>\n",
       "      <td>1.248049</td>\n",
       "      <td>1.083073</td>\n",
       "      <td>0.0001</td>\n",
       "    </tr>\n",
       "  </tbody>\n",
       "</table>\n",
       "<p>1 rows × 27 columns</p>\n",
       "</div>"
      ],
      "text/plain": [
       "   Unnamed: 0  momentum  learning rate  batch size     loss1      acc1  \\\n",
       "0           0       0.9            0.1        64.0  1.273512  0.726003   \n",
       "\n",
       "      loss2      acc2     loss3      acc3  ...      acc9  epoch_stopped  \\\n",
       "0  1.209218  0.750436  1.570295  0.682373  ...  0.764398           50.0   \n",
       "\n",
       "     loss10     loss4     loss5     loss6     loss7     loss8     loss9  \\\n",
       "0  1.209179  1.446582  1.182434  1.072532  1.243928  1.248049  1.083073   \n",
       "\n",
       "   reg_penalty  \n",
       "0       0.0001  \n",
       "\n",
       "[1 rows x 27 columns]"
      ]
     },
     "execution_count": 32,
     "metadata": {},
     "output_type": "execute_result"
    }
   ],
   "source": [
    "data_wide_k_4.head(5)"
   ]
  },
  {
   "cell_type": "code",
   "execution_count": 33,
   "metadata": {},
   "outputs": [],
   "source": [
    "del data_wide_k_4[data_wide_k_4.columns[0]]\n"
   ]
  },
  {
   "cell_type": "code",
   "execution_count": 34,
   "metadata": {},
   "outputs": [
    {
     "data": {
      "text/html": [
       "<div>\n",
       "<style scoped>\n",
       "    .dataframe tbody tr th:only-of-type {\n",
       "        vertical-align: middle;\n",
       "    }\n",
       "\n",
       "    .dataframe tbody tr th {\n",
       "        vertical-align: top;\n",
       "    }\n",
       "\n",
       "    .dataframe thead th {\n",
       "        text-align: right;\n",
       "    }\n",
       "</style>\n",
       "<table border=\"1\" class=\"dataframe\">\n",
       "  <thead>\n",
       "    <tr style=\"text-align: right;\">\n",
       "      <th></th>\n",
       "      <th>momentum</th>\n",
       "      <th>learning rate</th>\n",
       "      <th>batch size</th>\n",
       "      <th>loss1</th>\n",
       "      <th>acc1</th>\n",
       "      <th>loss2</th>\n",
       "      <th>acc2</th>\n",
       "      <th>loss3</th>\n",
       "      <th>acc3</th>\n",
       "      <th>widing factor</th>\n",
       "      <th>...</th>\n",
       "      <th>acc9</th>\n",
       "      <th>epoch_stopped</th>\n",
       "      <th>loss10</th>\n",
       "      <th>loss4</th>\n",
       "      <th>loss5</th>\n",
       "      <th>loss6</th>\n",
       "      <th>loss7</th>\n",
       "      <th>loss8</th>\n",
       "      <th>loss9</th>\n",
       "      <th>reg_penalty</th>\n",
       "    </tr>\n",
       "  </thead>\n",
       "  <tbody>\n",
       "    <tr>\n",
       "      <th>0</th>\n",
       "      <td>0.9</td>\n",
       "      <td>0.1</td>\n",
       "      <td>64.0</td>\n",
       "      <td>1.273512</td>\n",
       "      <td>0.726003</td>\n",
       "      <td>1.209218</td>\n",
       "      <td>0.750436</td>\n",
       "      <td>1.570295</td>\n",
       "      <td>0.682373</td>\n",
       "      <td>4.0</td>\n",
       "      <td>...</td>\n",
       "      <td>0.764398</td>\n",
       "      <td>50.0</td>\n",
       "      <td>1.209179</td>\n",
       "      <td>1.446582</td>\n",
       "      <td>1.182434</td>\n",
       "      <td>1.072532</td>\n",
       "      <td>1.243928</td>\n",
       "      <td>1.248049</td>\n",
       "      <td>1.083073</td>\n",
       "      <td>0.0001</td>\n",
       "    </tr>\n",
       "  </tbody>\n",
       "</table>\n",
       "<p>1 rows × 26 columns</p>\n",
       "</div>"
      ],
      "text/plain": [
       "   momentum  learning rate  batch size     loss1      acc1     loss2  \\\n",
       "0       0.9            0.1        64.0  1.273512  0.726003  1.209218   \n",
       "\n",
       "       acc2     loss3      acc3  widing factor  ...      acc9  epoch_stopped  \\\n",
       "0  0.750436  1.570295  0.682373            4.0  ...  0.764398           50.0   \n",
       "\n",
       "     loss10     loss4     loss5     loss6     loss7     loss8     loss9  \\\n",
       "0  1.209179  1.446582  1.182434  1.072532  1.243928  1.248049  1.083073   \n",
       "\n",
       "   reg_penalty  \n",
       "0       0.0001  \n",
       "\n",
       "[1 rows x 26 columns]"
      ]
     },
     "execution_count": 34,
     "metadata": {},
     "output_type": "execute_result"
    }
   ],
   "source": [
    "data_wide_k_4.head(1)"
   ]
  },
  {
   "cell_type": "code",
   "execution_count": 35,
   "metadata": {},
   "outputs": [
    {
     "data": {
      "text/html": [
       "<div>\n",
       "<style scoped>\n",
       "    .dataframe tbody tr th:only-of-type {\n",
       "        vertical-align: middle;\n",
       "    }\n",
       "\n",
       "    .dataframe tbody tr th {\n",
       "        vertical-align: top;\n",
       "    }\n",
       "\n",
       "    .dataframe thead th {\n",
       "        text-align: right;\n",
       "    }\n",
       "</style>\n",
       "<table border=\"1\" class=\"dataframe\">\n",
       "  <thead>\n",
       "    <tr style=\"text-align: right;\">\n",
       "      <th></th>\n",
       "      <th>momentum</th>\n",
       "      <th>learning rate</th>\n",
       "      <th>epoch</th>\n",
       "      <th>batch size</th>\n",
       "      <th>weight_decay</th>\n",
       "      <th>loss_mean</th>\n",
       "      <th>acc_mean</th>\n",
       "    </tr>\n",
       "  </thead>\n",
       "  <tbody>\n",
       "    <tr>\n",
       "      <th>0</th>\n",
       "      <td>0.9</td>\n",
       "      <td>0.1</td>\n",
       "      <td>50.0</td>\n",
       "      <td>64.0</td>\n",
       "      <td>0.0001</td>\n",
       "      <td>1.25388</td>\n",
       "      <td>0.734729</td>\n",
       "    </tr>\n",
       "  </tbody>\n",
       "</table>\n",
       "</div>"
      ],
      "text/plain": [
       "   momentum  learning rate  epoch  batch size  weight_decay  loss_mean  \\\n",
       "0       0.9            0.1   50.0        64.0        0.0001    1.25388   \n",
       "\n",
       "   acc_mean  \n",
       "0  0.734729  "
      ]
     },
     "execution_count": 35,
     "metadata": {},
     "output_type": "execute_result"
    }
   ],
   "source": [
    "data_wide_k_4[\"acc_mean\"] = (data_wide_k_4[\"acc1\"]+data_wide_k_4[\"acc2\"]+data_wide_k_4[\"acc3\"]+data_wide_k_4[\"acc4\"]+data_wide_k_4[\"acc5\"]+data_wide_k_4[\"acc6\"]+data_wide_k_4[\"acc7\"]+data_wide_k_4[\"acc8\"]+data_wide_k_4[\"acc9\"]+data_wide_k_4[\"acc10\"])/10\n",
    "data_wide_k_4[\"loss_mean\"] = (data_wide_k_4[\"loss1\"]+data_wide_k_4[\"loss2\"]+data_wide_k_4[\"loss3\"]+data_wide_k_4[\"loss4\"]+data_wide_k_4[\"loss5\"]+data_wide_k_4[\"loss6\"]+data_wide_k_4[\"loss7\"]+data_wide_k_4[\"loss8\"]+data_wide_k_4[\"loss9\"]+data_wide_k_4[\"loss10\"])/10\n",
    "\n",
    "data_wide_k_4['epoch'] = data_wide_k_4['epoch_stopped']\n",
    "data_wide_k_4['weight_decay'] = data_wide_k_4['reg_penalty']\n",
    "data_wide_k_4.sort_values(axis=0, by=\"loss_mean\", ascending=True)[column_list].head(3)"
   ]
  },
  {
   "cell_type": "markdown",
   "metadata": {},
   "source": [
    "## <font color=\"purple\"> Visualization </font>"
   ]
  },
  {
   "cell_type": "code",
   "execution_count": 47,
   "metadata": {},
   "outputs": [],
   "source": [
    "column_list = [\"loss_mean\", \"acc_mean\", \"widing factor\"]"
   ]
  },
  {
   "cell_type": "code",
   "execution_count": 42,
   "metadata": {},
   "outputs": [],
   "source": [
    "data_k_4 = data_wide_k_4.sort_values(axis=0, by=\"loss_mean\", ascending=True)[column_list].head(1)\n",
    "data_k_2 = data_wide_basic.sort_values(axis=0, by=\"loss_mean\", ascending=True)[column_list].head(1)\n",
    "data_k_1 = data.sort_values(axis=0, by=\"loss_mean\", ascending=True)[column_list].head(1)"
   ]
  },
  {
   "cell_type": "code",
   "execution_count": 43,
   "metadata": {},
   "outputs": [],
   "source": [
    "best_model=pd.DataFrame()\n",
    "best_model = pd.concat([data_k_1, data_k_2, data_k_4], ignore_index=True)"
   ]
  },
  {
   "cell_type": "markdown",
   "metadata": {},
   "source": [
    "## <font color=\"blue\"><b>Conclusion:</b></font>"
   ]
  },
  {
   "cell_type": "code",
   "execution_count": 48,
   "metadata": {},
   "outputs": [
    {
     "name": "stdout",
     "output_type": "stream",
     "text": [
      "\\begin{tabular}{lrrr}\n",
      "\\toprule\n",
      "{} &  loss\\_mean &  acc\\_mean &  widing factor \\\\\n",
      "\\midrule\n",
      "0 &   0.874353 &  0.707679 &            1.0 \\\\\n",
      "1 &   1.088562 &  0.706981 &            2.0 \\\\\n",
      "2 &   1.253880 &  0.734729 &            4.0 \\\\\n",
      "\\bottomrule\n",
      "\\end{tabular}\n",
      "\n"
     ]
    }
   ],
   "source": [
    "print(best_model.sort_values(axis=0, by=\"loss_mean\", ascending=True)[column_list].head(3).to_latex())"
   ]
  },
  {
   "cell_type": "markdown",
   "metadata": {},
   "source": [
    "<font color=\"purple\">\n",
    "    <b>\n",
    "        <center> Sefika Efeoglu</center>\n",
    "        <center>Universiteat Potsdam</center>\n",
    "    </b>\n",
    "</font>"
   ]
  }
 ],
 "metadata": {
  "kernelspec": {
   "display_name": "Python 3",
   "language": "python",
   "name": "python3"
  },
  "language_info": {
   "codemirror_mode": {
    "name": "ipython",
    "version": 3
   },
   "file_extension": ".py",
   "mimetype": "text/x-python",
   "name": "python",
   "nbconvert_exporter": "python",
   "pygments_lexer": "ipython3",
   "version": "3.7.7"
  }
 },
 "nbformat": 4,
 "nbformat_minor": 2
}
