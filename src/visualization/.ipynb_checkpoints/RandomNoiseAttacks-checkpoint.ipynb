{
 "cells": [
  {
   "cell_type": "markdown",
   "id": "stupid-deployment",
   "metadata": {},
   "source": [
    "## <font color=\"purple\"> Random Noise Attacks</font>"
   ]
  },
  {
   "cell_type": "markdown",
   "id": "subject-table",
   "metadata": {},
   "source": [
    "* Possion Noise Attack:"
   ]
  },
  {
   "cell_type": "code",
   "execution_count": null,
   "id": "laughing-theater",
   "metadata": {},
   "outputs": [],
   "source": [
    "def possion_noise(size):\n",
    "    \"\"\"Args:\n",
    "        size: image size\n",
    "        Returns: possion noise\n",
    "    \"\"\"\n",
    "    return None\n",
    "    "
   ]
  },
  {
   "cell_type": "markdown",
   "id": "supposed-mouse",
   "metadata": {},
   "source": [
    "* Gaussian Noise Attacks:"
   ]
  },
  {
   "cell_type": "code",
   "execution_count": null,
   "id": "juvenile-scott",
   "metadata": {},
   "outputs": [],
   "source": [
    "def gaussion_noise(size):\n",
    "    \"\"\"Args:\n",
    "        size: image size\n",
    "        Returns : gaussion noise\n",
    "    \"\"\"\n",
    "    return Noise\n",
    "\n"
   ]
  }
 ],
 "metadata": {
  "kernelspec": {
   "display_name": "Python 3",
   "language": "python",
   "name": "python3"
  },
  "language_info": {
   "codemirror_mode": {
    "name": "ipython",
    "version": 3
   },
   "file_extension": ".py",
   "mimetype": "text/x-python",
   "name": "python",
   "nbconvert_exporter": "python",
   "pygments_lexer": "ipython3",
   "version": "3.7.7"
  }
 },
 "nbformat": 4,
 "nbformat_minor": 5
}
