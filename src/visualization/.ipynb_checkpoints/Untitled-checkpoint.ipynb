{
 "cells": [
  {
   "cell_type": "code",
   "execution_count": 2,
   "metadata": {},
   "outputs": [],
   "source": [
    "import sys\n",
    "import matplotlib.pyplot as plt\n",
    "import pandas as pd\n",
    "import numpy as np\n",
    "import warnings\n",
    "import os\n",
    "import seaborn as sns\n",
    "warnings.filterwarnings(\"ignore\")"
   ]
  },
  {
   "cell_type": "code",
   "execution_count": 10,
   "metadata": {},
   "outputs": [],
   "source": [
    "data1  = pd.read_csv(\"/home/sefika/AE_Parseval_Network/src/data/grid_16_8/grid_16_8_1.csv\", sep=\";\")"
   ]
  },
  {
   "cell_type": "code",
   "execution_count": 11,
   "metadata": {},
   "outputs": [],
   "source": [
    "data2 = pd.read_csv(\"/home/sefika/AE_Parseval_Network/src/data/grid_16_8/grid_16_8_2.csv\", sep=\";\")\n",
    "data3 = pd.read_csv(\"/home/sefika/AE_Parseval_Network/src/data/grid_16_8/grid_16_8_3.csv\", sep=\";\")\n",
    "data4 = pd.read_csv(\"/home/sefika/AE_Parseval_Network/src/data/grid_16_8/grid_16_8_4.csv\", sep=\";\")\n",
    "data5 = pd.read_csv(\"/home/sefika/AE_Parseval_Network/src/data/grid_16_8/grid_16_8_5.csv\", sep=\";\")\n",
    "data6 = pd.read_csv(\"/home/sefika/AE_Parseval_Network/src/data/grid_16_8/grid_16_8_6.csv\", sep=\";\")\n",
    "data7 = pd.read_csv(\"/home/sefika/AE_Parseval_Network/src/data/grid_16_8/grid_16_8_7.csv\", sep=\";\")\n",
    "data8 = pd.read_csv(\"/home/sefika/AE_Parseval_Network/src/data/grid_16_8/grid_16_8_8.csv\", sep=\";\")"
   ]
  },
  {
   "cell_type": "code",
   "execution_count": 12,
   "metadata": {},
   "outputs": [],
   "source": [
    "data_combine = pd.concat([data1, data2, data3, data4, data5, data6, data7, data8])"
   ]
  },
  {
   "cell_type": "code",
   "execution_count": 13,
   "metadata": {},
   "outputs": [],
   "source": [
    "data_combine.to_csv(\"/home/sefika/AE_Parseval_Network/src/data/grid_16_8/grid_16_8.csv\", sep=\";\")"
   ]
  },
  {
   "cell_type": "code",
   "execution_count": null,
   "metadata": {},
   "outputs": [],
   "source": []
  }
 ],
 "metadata": {
  "kernelspec": {
   "display_name": "Python 3",
   "language": "python",
   "name": "python3"
  },
  "language_info": {
   "codemirror_mode": {
    "name": "ipython",
    "version": 3
   },
   "file_extension": ".py",
   "mimetype": "text/x-python",
   "name": "python",
   "nbconvert_exporter": "python",
   "pygments_lexer": "ipython3",
   "version": "3.7.4"
  }
 },
 "nbformat": 4,
 "nbformat_minor": 2
}
