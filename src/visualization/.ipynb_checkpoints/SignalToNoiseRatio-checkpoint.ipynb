{
 "cells": [
  {
   "cell_type": "markdown",
   "metadata": {
    "id": "kkK5yOtaEOWL"
   },
   "source": [
    "# <font color=\"purple\">SNR Result</font>"
   ]
  },
  {
   "cell_type": "code",
   "execution_count": 2,
   "metadata": {
    "colab": {
     "base_uri": "https://localhost:8080/"
    },
    "id": "scrFZBY5ErKc",
    "outputId": "6450d5a3-b520-4fdf-9c0e-30c223684f54"
   },
   "outputs": [],
   "source": [
    "!pip install -qq -e git+http://github.com/tensorflow/cleverhans.git#egg=cleverhans\n",
    "import sys\n",
    "sys.path.append('/content/src/cleverhans')\n",
    "import cleverhans"
   ]
  },
  {
   "cell_type": "code",
   "execution_count": 3,
   "metadata": {
    "colab": {
     "base_uri": "https://localhost:8080/"
    },
    "id": "P3Ic_pclEOWd",
    "outputId": "a0375dcc-20c4-44bc-91af-20e4cc21e945"
   },
   "outputs": [
    {
     "name": "stdout",
     "output_type": "stream",
     "text": [
      "\n",
      "Tensorflow Version: 2.4.0-dev20201021\n"
     ]
    }
   ],
   "source": [
    "import tensorflow as tf\n",
    "from cleverhans.future.tf2.attacks import fast_gradient_method\n",
    "from tensorflow.keras.optimizers import SGD\n",
    "from tensorflow.keras.callbacks import Callback, LearningRateScheduler, EarlyStopping\n",
    "from sklearn.model_selection import train_test_split\n",
    "import pandas as pd\n",
    "import numpy as np\n",
    "from sklearn.preprocessing import LabelEncoder\n",
    "from tensorflow.keras.utils import to_categorical\n",
    "\n",
    "from sklearn.model_selection import  KFold\n",
    "import gzip\n",
    "import pickle\n",
    "import numpy as np\n",
    "\n",
    "import warnings\n",
    "warnings.filterwarnings(\"ignore\")\n",
    "\n",
    "sys.path.insert(2, '/home/sefika/adversarial_examples_parseval_net/src/models')\n",
    "sys.path.insert(3, '/home/sefika/adversarial_examples_parseval_net/src/models/widesesNet')\n",
    "sys.path.insert(4, '/home/sefika/adversarial_examples_parseval_net/src/models/Parseval_Networks')\n",
    "sys.path.insert(5, '/home/sefika/adversarial_examples_parseval_net/src/train')\n",
    "sys.path.insert(6, '/home/sefika/adversarial_examples_parseval_net/src/preprocessing')\n",
    "\n",
    "print(\"\\nTensorflow Version: \" + tf.__version__)\n",
    "\n",
    "\n",
    "# defined utility functions\n",
    "from preprocessing import preprocessing_data\n",
    "\n",
    "from _utility import lrate, get_adversarial_examples, print_test"
   ]
  },
  {
   "cell_type": "code",
   "execution_count": 4,
   "metadata": {
    "id": "sPqR9xN9EOWp"
   },
   "outputs": [],
   "source": [
    "epsilon_list = [i/1000 for i in range(0,33)]"
   ]
  },
  {
   "cell_type": "code",
   "execution_count": 5,
   "metadata": {
    "id": "3A8qMxGap02K"
   },
   "outputs": [
    {
     "name": "stdout",
     "output_type": "stream",
     "text": [
      "Requirement already satisfied: hickle in /home/sefika/anaconda3/lib/python3.7/site-packages (4.0.1)\r\n",
      "Requirement already satisfied: six>=1.11.0 in /home/sefika/anaconda3/lib/python3.7/site-packages (from hickle) (1.15.0)\r\n",
      "Requirement already satisfied: h5py>=2.8.0 in /home/sefika/anaconda3/lib/python3.7/site-packages (from hickle) (2.10.0)\r\n",
      "Requirement already satisfied: dill>=0.3.0 in /home/sefika/anaconda3/lib/python3.7/site-packages (from hickle) (0.3.3)\r\n",
      "Requirement already satisfied: numpy>=1.8 in /home/sefika/anaconda3/lib/python3.7/site-packages (from hickle) (1.19.2)\r\n"
     ]
    }
   ],
   "source": [
    "!pip install hickle"
   ]
  },
  {
   "cell_type": "code",
   "execution_count": 7,
   "metadata": {
    "id": "vcvhi2xNEOWu"
   },
   "outputs": [],
   "source": [
    "import hickle as hkl\n",
    "data = hkl.load(\"/home/sefika/adversarial_examples_parseval_net/data.hkl\")\n",
    "X_train, X_test, Y_train, y_test = data['xtrain'], data['xtest'], data['ytrain'], data['ytest']"
   ]
  },
  {
   "cell_type": "code",
   "execution_count": 11,
   "metadata": {
    "id": "jYqrfPnwFEV8"
   },
   "outputs": [
    {
     "name": "stdout",
     "output_type": "stream",
     "text": [
      "18/18 [==============================] - 1s 30ms/step - loss: 0.9521 - acc: 0.6789\n",
      "18/18 [==============================] - 1s 30ms/step - loss: 0.9380 - acc: 0.6806\n",
      "18/18 [==============================] - 1s 30ms/step - loss: 0.9375 - acc: 0.6806\n",
      "18/18 [==============================] - 1s 31ms/step - loss: 0.9707 - acc: 0.6684\n",
      "18/18 [==============================] - 1s 30ms/step - loss: 0.9422 - acc: 0.6806\n",
      "18/18 [==============================] - 1s 31ms/step - loss: 0.9413 - acc: 0.6789\n",
      "18/18 [==============================] - 1s 31ms/step - loss: 0.9895 - acc: 0.6545\n",
      "18/18 [==============================] - 1s 30ms/step - loss: 0.9464 - acc: 0.6806\n",
      "18/18 [==============================] - 1s 30ms/step - loss: 0.9451 - acc: 0.6789\n",
      "18/18 [==============================] - 1s 36ms/step - loss: 1.0085 - acc: 0.6422\n",
      "18/18 [==============================] - 1s 31ms/step - loss: 0.9507 - acc: 0.6771\n",
      "18/18 [==============================] - 1s 32ms/step - loss: 0.9489 - acc: 0.6771\n",
      "18/18 [==============================] - 1s 32ms/step - loss: 1.0276 - acc: 0.6387\n",
      "18/18 [==============================] - 1s 31ms/step - loss: 0.9551 - acc: 0.6754\n",
      "18/18 [==============================] - 1s 30ms/step - loss: 0.9528 - acc: 0.6754\n",
      "18/18 [==============================] - 1s 32ms/step - loss: 1.0469 - acc: 0.6335\n",
      "18/18 [==============================] - 1s 31ms/step - loss: 0.9594 - acc: 0.6736\n",
      "18/18 [==============================] - 1s 31ms/step - loss: 0.9567 - acc: 0.6719\n",
      "18/18 [==============================] - 1s 31ms/step - loss: 1.0663 - acc: 0.6230\n",
      "18/18 [==============================] - 1s 31ms/step - loss: 0.9638 - acc: 0.6702\n",
      "18/18 [==============================] - 1s 31ms/step - loss: 0.9606 - acc: 0.6702\n",
      "18/18 [==============================] - 1s 30ms/step - loss: 1.0859 - acc: 0.6038\n",
      "18/18 [==============================] - 1s 31ms/step - loss: 0.9683 - acc: 0.6667\n",
      "18/18 [==============================] - 1s 30ms/step - loss: 0.9645 - acc: 0.6667\n",
      "18/18 [==============================] - 1s 30ms/step - loss: 1.1056 - acc: 0.5986\n",
      "18/18 [==============================] - 1s 32ms/step - loss: 0.9728 - acc: 0.6579\n",
      "18/18 [==============================] - 1s 34ms/step - loss: 0.9685 - acc: 0.6649\n",
      "18/18 [==============================] - 1s 30ms/step - loss: 1.1254 - acc: 0.5951\n",
      "18/18 [==============================] - 1s 31ms/step - loss: 0.9773 - acc: 0.6510\n",
      "18/18 [==============================] - 1s 30ms/step - loss: 0.9725 - acc: 0.6614\n",
      "18/18 [==============================] - 1s 30ms/step - loss: 1.1454 - acc: 0.5881\n",
      "18/18 [==============================] - 1s 30ms/step - loss: 0.9818 - acc: 0.6510\n",
      "18/18 [==============================] - 1s 30ms/step - loss: 0.9765 - acc: 0.6597\n",
      "18/18 [==============================] - 1s 41ms/step - loss: 1.1655 - acc: 0.5846\n",
      "18/18 [==============================] - 1s 35ms/step - loss: 0.9864 - acc: 0.6475\n",
      "18/18 [==============================] - 1s 31ms/step - loss: 0.9805 - acc: 0.6597\n",
      "18/18 [==============================] - 1s 31ms/step - loss: 1.1856 - acc: 0.5794\n",
      "18/18 [==============================] - 1s 31ms/step - loss: 0.9909 - acc: 0.6475\n",
      "18/18 [==============================] - 1s 31ms/step - loss: 0.9846 - acc: 0.6579\n",
      "18/18 [==============================] - 1s 30ms/step - loss: 1.2059 - acc: 0.5724\n",
      "18/18 [==============================] - 1s 31ms/step - loss: 0.9956 - acc: 0.6475\n",
      "18/18 [==============================] - 1s 38ms/step - loss: 0.9887 - acc: 0.6579\n",
      "18/18 [==============================] - 1s 31ms/step - loss: 1.2261 - acc: 0.5689\n",
      "18/18 [==============================] - 1s 32ms/step - loss: 1.0002 - acc: 0.6405\n",
      "18/18 [==============================] - 1s 30ms/step - loss: 0.9928 - acc: 0.6562\n",
      "18/18 [==============================] - 1s 32ms/step - loss: 1.2465 - acc: 0.5620\n",
      "18/18 [==============================] - 1s 30ms/step - loss: 1.0048 - acc: 0.6370\n",
      "18/18 [==============================] - 1s 31ms/step - loss: 0.9969 - acc: 0.6545\n",
      "18/18 [==============================] - 1s 31ms/step - loss: 1.2669 - acc: 0.5550\n",
      "18/18 [==============================] - 1s 30ms/step - loss: 1.0095 - acc: 0.6353\n",
      "18/18 [==============================] - 1s 33ms/step - loss: 1.0011 - acc: 0.6510\n",
      "18/18 [==============================] - 1s 32ms/step - loss: 1.2874 - acc: 0.5462\n",
      "18/18 [==============================] - 1s 30ms/step - loss: 1.0142 - acc: 0.6353\n",
      "18/18 [==============================] - 1s 31ms/step - loss: 1.0053 - acc: 0.6475\n",
      "18/18 [==============================] - 1s 31ms/step - loss: 1.3079 - acc: 0.5410\n",
      "18/18 [==============================] - 1s 31ms/step - loss: 1.0189 - acc: 0.6353\n",
      "18/18 [==============================] - 1s 31ms/step - loss: 1.0096 - acc: 0.6422\n",
      "18/18 [==============================] - 1s 36ms/step - loss: 1.3285 - acc: 0.5323\n",
      "18/18 [==============================] - 1s 30ms/step - loss: 1.0236 - acc: 0.6318\n",
      "18/18 [==============================] - 1s 30ms/step - loss: 1.0138 - acc: 0.6405\n",
      "18/18 [==============================] - 1s 39ms/step - loss: 1.3491 - acc: 0.5253\n",
      "18/18 [==============================] - 1s 33ms/step - loss: 1.0284 - acc: 0.6318\n",
      "18/18 [==============================] - 1s 32ms/step - loss: 1.0181 - acc: 0.6405\n",
      "18/18 [==============================] - 1s 30ms/step - loss: 1.3698 - acc: 0.5166\n",
      "18/18 [==============================] - 1s 34ms/step - loss: 1.0332 - acc: 0.6318\n",
      "18/18 [==============================] - 1s 53ms/step - loss: 1.0225 - acc: 0.6405\n",
      "18/18 [==============================] - 1s 32ms/step - loss: 1.3904 - acc: 0.5113\n",
      "18/18 [==============================] - 1s 32ms/step - loss: 1.0380 - acc: 0.6283\n",
      "18/18 [==============================] - 1s 32ms/step - loss: 1.0268 - acc: 0.6387\n",
      "18/18 [==============================] - 1s 40ms/step - loss: 1.4111 - acc: 0.5061\n",
      "18/18 [==============================] - 1s 32ms/step - loss: 1.0429 - acc: 0.6283\n",
      "18/18 [==============================] - 1s 32ms/step - loss: 1.0312 - acc: 0.6370\n",
      "18/18 [==============================] - 1s 32ms/step - loss: 1.4318 - acc: 0.5044\n",
      "18/18 [==============================] - 1s 31ms/step - loss: 1.0477 - acc: 0.6283\n",
      "18/18 [==============================] - 1s 31ms/step - loss: 1.0356 - acc: 0.6318\n",
      "18/18 [==============================] - 1s 46ms/step - loss: 1.4524 - acc: 0.4974\n",
      "18/18 [==============================] - 1s 33ms/step - loss: 1.0526 - acc: 0.6283\n",
      "18/18 [==============================] - 1s 31ms/step - loss: 1.0400 - acc: 0.6283\n",
      "18/18 [==============================] - 1s 32ms/step - loss: 1.4730 - acc: 0.4904\n",
      "18/18 [==============================] - 1s 31ms/step - loss: 1.0575 - acc: 0.6248\n",
      "18/18 [==============================] - 1s 31ms/step - loss: 1.0445 - acc: 0.6283\n",
      "18/18 [==============================] - 1s 31ms/step - loss: 1.4936 - acc: 0.4799\n",
      "18/18 [==============================] - 1s 32ms/step - loss: 1.0624 - acc: 0.6213\n",
      "18/18 [==============================] - 1s 31ms/step - loss: 1.0489 - acc: 0.6265\n",
      "18/18 [==============================] - 1s 54ms/step - loss: 1.5142 - acc: 0.4660\n",
      "18/18 [==============================] - 1s 45ms/step - loss: 1.0673 - acc: 0.6213\n",
      "18/18 [==============================] - 1s 32ms/step - loss: 1.0534 - acc: 0.6265\n",
      "18/18 [==============================] - 1s 31ms/step - loss: 1.5347 - acc: 0.4642\n",
      "18/18 [==============================] - 1s 32ms/step - loss: 1.0722 - acc: 0.6195\n",
      "18/18 [==============================] - 1s 32ms/step - loss: 1.0580 - acc: 0.6248\n",
      "18/18 [==============================] - 1s 32ms/step - loss: 1.5551 - acc: 0.4625\n",
      "18/18 [==============================] - 1s 31ms/step - loss: 1.0772 - acc: 0.6178\n",
      "18/18 [==============================] - 1s 31ms/step - loss: 1.0625 - acc: 0.6213\n",
      "18/18 [==============================] - 1s 31ms/step - loss: 1.5755 - acc: 0.4485\n",
      "18/18 [==============================] - 1s 31ms/step - loss: 1.0822 - acc: 0.6161\n",
      "18/18 [==============================] - 1s 31ms/step - loss: 1.0671 - acc: 0.6213\n"
     ]
    }
   ],
   "source": [
    "model_Adv_Resnet_1 = tf.keras.models.load_model(\"ResNet_da_0.h5\")\n",
    "model_Adv_Resnet_2 = tf.keras.models.load_model(\"ResNet_da_1.h5\")\n",
    "model_Adv_Resnet_3 = tf.keras.models.load_model(\"ResNet_da_2.h5\")\n",
    "column_2 = []\n",
    "evaluation_accuracy_2 = []\n",
    "\n",
    "for eps in epsilon_list:\n",
    "    if eps !=0:\n",
    "        x_adv_1  =  get_adversarial_examples(model_Adv_Resnet_1, X_test, y_test, eps)\n",
    "        x_adv_2  =  get_adversarial_examples(model_Adv_Resnet_2, X_test, y_test, eps)\n",
    "        x_adv_3 =  get_adversarial_examples(model_Adv_Resnet_3, X_test, y_test, eps)\n",
    "        test_1 = model_Adv_Resnet_1.evaluate(x_adv_1, y_test)\n",
    "        test_2 = model_Adv_Resnet_1.evaluate(x_adv_2, y_test)\n",
    "        test_3 = model_Adv_Resnet_1.evaluate(x_adv_3, y_test)\n",
    "        SNR = 20*np.log10(np.linalg.norm(X_test)/np.linalg.norm(X_test-x_adv_1))\n",
    "        column_2.append(SNR)\n",
    "        mean = np.mean([test_1[1], test_2[1],test_3[1]])\n",
    "        evaluation_accuracy_2.append(mean)\n"
   ]
  },
  {
   "cell_type": "code",
   "execution_count": null,
   "metadata": {
    "colab": {
     "base_uri": "https://localhost:8080/"
    },
    "id": "RnjL5ZnbrsFJ",
    "outputId": "6841a2fc-abf6-47c2-cd93-13078de906b4"
   },
   "outputs": [],
   "source": [
    "parseval = tf.keras.models.load_model(\"Parseval.h5\")\n",
    "column_3 = []\n",
    "evaluation_accuracy_3 = []\n",
    "\n",
    "for eps in epsilon_list:\n",
    "    if eps !=0:\n",
    "        x_adv  =  get_adversarial_examples(parseval, X_test, y_test, eps)\n",
    "        test = parseval.evaluate(x_adv, y_test)\n",
    "        SNR = 20*np.log10(np.linalg.norm(X_test)/np.linalg.norm(X_test-x_adv))\n",
    "        column_3.append(SNR)\n",
    "        evaluation_accuracy_3.append(test[1])\n"
   ]
  },
  {
   "cell_type": "code",
   "execution_count": 12,
   "metadata": {
    "colab": {
     "base_uri": "https://localhost:8080/"
    },
    "id": "o2iZ1K4xT7vE",
    "outputId": "f91d5c04-b8ba-45b8-e650-0cdd6ff67544"
   },
   "outputs": [
    {
     "name": "stdout",
     "output_type": "stream",
     "text": [
      "WARNING:tensorflow:Error in loading the saved optimizer state. As a result, your model is starting with a freshly initialized optimizer.\n",
      "WARNING:tensorflow:Error in loading the saved optimizer state. As a result, your model is starting with a freshly initialized optimizer.\n",
      "18/18 [==============================] - 1s 35ms/step - loss: 0.9638 - acc: 0.6492\n",
      "18/18 [==============================] - 1s 31ms/step - loss: 1.0259 - acc: 0.6003\n",
      "18/18 [==============================] - 1s 32ms/step - loss: 0.9443 - acc: 0.6684\n",
      "18/18 [==============================] - 1s 31ms/step - loss: 0.9922 - acc: 0.6440\n",
      "18/18 [==============================] - 1s 35ms/step - loss: 1.0506 - acc: 0.5899\n",
      "18/18 [==============================] - 1s 32ms/step - loss: 0.9803 - acc: 0.6475\n",
      "18/18 [==============================] - 1s 41ms/step - loss: 1.0211 - acc: 0.6265\n",
      "18/18 [==============================] - 1s 30ms/step - loss: 1.0758 - acc: 0.5794\n",
      "18/18 [==============================] - 1s 32ms/step - loss: 1.0174 - acc: 0.6335\n",
      "18/18 [==============================] - 1s 31ms/step - loss: 1.0504 - acc: 0.6126\n",
      "18/18 [==============================] - 1s 32ms/step - loss: 1.1013 - acc: 0.5672\n",
      "18/18 [==============================] - 1s 39ms/step - loss: 1.0552 - acc: 0.6178\n",
      "18/18 [==============================] - 1s 32ms/step - loss: 1.0802 - acc: 0.6056\n",
      "18/18 [==============================] - 1s 32ms/step - loss: 1.1270 - acc: 0.5585\n",
      "18/18 [==============================] - 1s 33ms/step - loss: 1.0936 - acc: 0.5969\n",
      "18/18 [==============================] - 1s 32ms/step - loss: 1.1103 - acc: 0.5951\n",
      "18/18 [==============================] - 1s 36ms/step - loss: 1.1531 - acc: 0.5480\n",
      "18/18 [==============================] - 1s 34ms/step - loss: 1.1326 - acc: 0.5829\n",
      "18/18 [==============================] - 1s 31ms/step - loss: 1.1405 - acc: 0.5707\n",
      "18/18 [==============================] - 1s 32ms/step - loss: 1.1795 - acc: 0.5340\n",
      "18/18 [==============================] - 1s 31ms/step - loss: 1.1721 - acc: 0.5585\n",
      "18/18 [==============================] - 1s 32ms/step - loss: 1.1710 - acc: 0.5620\n",
      "18/18 [==============================] - 1s 31ms/step - loss: 1.2061 - acc: 0.5253\n",
      "18/18 [==============================] - 1s 33ms/step - loss: 1.2122 - acc: 0.5358\n",
      "18/18 [==============================] - 1s 32ms/step - loss: 1.2016 - acc: 0.5550\n",
      "18/18 [==============================] - 1s 32ms/step - loss: 1.2328 - acc: 0.5096\n",
      "18/18 [==============================] - 1s 31ms/step - loss: 1.2527 - acc: 0.5218\n",
      "18/18 [==============================] - 1s 31ms/step - loss: 1.2322 - acc: 0.5428\n",
      "18/18 [==============================] - 1s 31ms/step - loss: 1.2597 - acc: 0.4904\n",
      "18/18 [==============================] - 1s 31ms/step - loss: 1.2934 - acc: 0.5009\n",
      "18/18 [==============================] - 1s 31ms/step - loss: 1.2629 - acc: 0.5358\n",
      "18/18 [==============================] - 1s 31ms/step - loss: 1.2868 - acc: 0.4764\n",
      "18/18 [==============================] - 1s 32ms/step - loss: 1.3343 - acc: 0.4939\n",
      "18/18 [==============================] - 1s 31ms/step - loss: 1.2937 - acc: 0.5183\n",
      "18/18 [==============================] - 1s 31ms/step - loss: 1.3141 - acc: 0.4695\n",
      "18/18 [==============================] - 1s 31ms/step - loss: 1.3754 - acc: 0.4852\n",
      "18/18 [==============================] - 1s 32ms/step - loss: 1.3244 - acc: 0.5079\n",
      "18/18 [==============================] - 1s 34ms/step - loss: 1.3415 - acc: 0.4642\n",
      "18/18 [==============================] - 1s 32ms/step - loss: 1.4167 - acc: 0.4729\n",
      "18/18 [==============================] - 1s 37ms/step - loss: 1.3550 - acc: 0.4991\n",
      "18/18 [==============================] - 1s 34ms/step - loss: 1.3689 - acc: 0.4555\n",
      "18/18 [==============================] - 1s 32ms/step - loss: 1.4579 - acc: 0.4625\n",
      "18/18 [==============================] - 1s 31ms/step - loss: 1.3855 - acc: 0.4939\n",
      "18/18 [==============================] - 1s 31ms/step - loss: 1.3964 - acc: 0.4433\n",
      "18/18 [==============================] - 1s 31ms/step - loss: 1.4989 - acc: 0.4468\n",
      "18/18 [==============================] - 1s 32ms/step - loss: 1.4159 - acc: 0.4747\n",
      "18/18 [==============================] - 1s 32ms/step - loss: 1.4240 - acc: 0.4311\n",
      "18/18 [==============================] - 1s 31ms/step - loss: 1.5397 - acc: 0.4380\n",
      "18/18 [==============================] - 1s 32ms/step - loss: 1.4462 - acc: 0.4695\n",
      "18/18 [==============================] - 1s 32ms/step - loss: 1.4516 - acc: 0.4258\n",
      "18/18 [==============================] - 1s 32ms/step - loss: 1.5803 - acc: 0.4241\n",
      "18/18 [==============================] - 1s 32ms/step - loss: 1.4763 - acc: 0.4642\n",
      "18/18 [==============================] - 1s 33ms/step - loss: 1.4793 - acc: 0.4171\n",
      "18/18 [==============================] - 1s 31ms/step - loss: 1.6208 - acc: 0.4101\n",
      "18/18 [==============================] - 1s 39ms/step - loss: 1.5061 - acc: 0.4572\n",
      "18/18 [==============================] - 1s 31ms/step - loss: 1.5069 - acc: 0.4066\n",
      "18/18 [==============================] - 1s 32ms/step - loss: 1.6610 - acc: 0.3909\n",
      "18/18 [==============================] - 1s 31ms/step - loss: 1.5357 - acc: 0.4485\n",
      "18/18 [==============================] - 1s 33ms/step - loss: 1.5346 - acc: 0.4031\n",
      "18/18 [==============================] - 1s 32ms/step - loss: 1.7011 - acc: 0.3805\n",
      "18/18 [==============================] - 1s 39ms/step - loss: 1.5650 - acc: 0.4380\n",
      "18/18 [==============================] - 1s 40ms/step - loss: 1.5622 - acc: 0.3944\n",
      "18/18 [==============================] - 1s 40ms/step - loss: 1.7408 - acc: 0.3700\n",
      "18/18 [==============================] - 1s 42ms/step - loss: 1.5941 - acc: 0.4293\n",
      "18/18 [==============================] - 1s 31ms/step - loss: 1.5898 - acc: 0.3874\n",
      "18/18 [==============================] - 1s 31ms/step - loss: 1.7803 - acc: 0.3595\n",
      "18/18 [==============================] - 1s 33ms/step - loss: 1.6229 - acc: 0.4171\n",
      "18/18 [==============================] - 1s 32ms/step - loss: 1.6173 - acc: 0.3770\n",
      "18/18 [==============================] - 1s 27ms/step - loss: 1.8195 - acc: 0.3543\n",
      "18/18 [==============================] - 1s 32ms/step - loss: 1.6515 - acc: 0.4101\n",
      "18/18 [==============================] - 1s 32ms/step - loss: 1.6447 - acc: 0.3647\n",
      "18/18 [==============================] - 1s 31ms/step - loss: 1.8585 - acc: 0.3421\n",
      "18/18 [==============================] - 1s 33ms/step - loss: 1.6799 - acc: 0.3979\n",
      "18/18 [==============================] - 1s 32ms/step - loss: 1.6721 - acc: 0.3560\n",
      "18/18 [==============================] - 1s 32ms/step - loss: 1.8971 - acc: 0.3333\n",
      "18/18 [==============================] - 1s 31ms/step - loss: 1.7080 - acc: 0.3874\n",
      "18/18 [==============================] - 1s 40ms/step - loss: 1.6993 - acc: 0.3490\n",
      "18/18 [==============================] - 1s 32ms/step - loss: 1.9353 - acc: 0.3229\n",
      "18/18 [==============================] - 1s 31ms/step - loss: 1.7357 - acc: 0.3752\n",
      "18/18 [==============================] - 1s 31ms/step - loss: 1.7265 - acc: 0.3455\n",
      "18/18 [==============================] - 1s 31ms/step - loss: 1.9730 - acc: 0.3089\n",
      "18/18 [==============================] - 1s 31ms/step - loss: 1.7632 - acc: 0.3682\n",
      "18/18 [==============================] - 1s 34ms/step - loss: 1.7535 - acc: 0.3351\n",
      "18/18 [==============================] - 1s 43ms/step - loss: 2.0104 - acc: 0.3037\n",
      "18/18 [==============================] - 1s 34ms/step - loss: 1.7904 - acc: 0.3665\n",
      "18/18 [==============================] - 1s 32ms/step - loss: 1.7803 - acc: 0.3246\n",
      "18/18 [==============================] - 1s 32ms/step - loss: 2.0474 - acc: 0.2949\n",
      "18/18 [==============================] - 1s 36ms/step - loss: 1.8173 - acc: 0.3560\n",
      "18/18 [==============================] - 1s 31ms/step - loss: 1.8070 - acc: 0.3089\n",
      "18/18 [==============================] - 1s 33ms/step - loss: 2.0840 - acc: 0.2862\n",
      "18/18 [==============================] - 1s 40ms/step - loss: 1.8438 - acc: 0.3525\n",
      "18/18 [==============================] - 1s 41ms/step - loss: 1.8335 - acc: 0.2967\n",
      "18/18 [==============================] - 1s 33ms/step - loss: 2.1202 - acc: 0.2845\n",
      "18/18 [==============================] - 1s 42ms/step - loss: 1.8702 - acc: 0.3490\n",
      "18/18 [==============================] - 1s 52ms/step - loss: 1.8597 - acc: 0.2845\n"
     ]
    },
    {
     "name": "stdout",
     "output_type": "stream",
     "text": [
      "18/18 [==============================] - 1s 31ms/step - loss: 2.1560 - acc: 0.2723\n"
     ]
    }
   ],
   "source": [
    "column = []\n",
    "evaluation_accuracy = []\n",
    "model_Resnet_1 = tf.keras.models.load_model(\"ResNet_0.h5\")\n",
    "model_Resnet_2 = tf.keras.models.load_model(\"ResNet_1.h5\")\n",
    "model_Resnet_3 = tf.keras.models.load_model(\"ResNet_2.h5\")\n",
    "for eps in epsilon_list:\n",
    "    if eps !=0:\n",
    "        x_adv_1  =  get_adversarial_examples(model_Resnet_1,X_test, y_test, eps)\n",
    "        x_adv_2  =  get_adversarial_examples(model_Resnet_2,X_test, y_test, eps)\n",
    "        x_adv_3  =  get_adversarial_examples(model_Resnet_3,X_test, y_test, eps)\n",
    "        test_1 = model_Resnet_1.evaluate(x_adv_1, y_test)\n",
    "        test_2 = model_Resnet_2.evaluate(x_adv_2, y_test)\n",
    "        test_3 = model_Resnet_3.evaluate(x_adv_3, y_test)\n",
    "        SNR = 20*np.log10(np.linalg.norm(X_test)/np.linalg.norm(X_test-x_adv_1))\n",
    "        column.append(SNR)\n",
    "        mean =np.mean([test_1[1],test_2[1],test_3[1]])\n",
    "        evaluation_accuracy.append(mean)\n"
   ]
  },
  {
   "cell_type": "code",
   "execution_count": 76,
   "metadata": {},
   "outputs": [
    {
     "name": "stdout",
     "output_type": "stream",
     "text": [
      "18/18 [==============================] - 1s 30ms/step - loss: 0.9359 - acc: 0.6719\n",
      "18/18 [==============================] - 1s 32ms/step - loss: 1.0016 - acc: 0.6108\n",
      "18/18 [==============================] - 1s 31ms/step - loss: 0.9090 - acc: 0.6806\n"
     ]
    }
   ],
   "source": [
    "acc1 = model_Resnet_1.evaluate(X_test, y_test)\n",
    "acc2 = model_Resnet_2.evaluate(X_test,y_test)\n",
    "acc3 = model_Resnet_3.evaluate(X_test,y_test)\n",
    "column.append(100)\n",
    "evaluation_accuracy.append(np.mean([acc1[1], acc2[1], acc3[1]]))"
   ]
  },
  {
   "cell_type": "code",
   "execution_count": 77,
   "metadata": {},
   "outputs": [
    {
     "data": {
      "text/plain": [
       "[0.5619546274344126,\n",
       " 0.5671902398268381,\n",
       " 0.5695171554883321,\n",
       " 0.571262369553248,\n",
       " 0.5759162406126658,\n",
       " 0.5811518232027689,\n",
       " 0.5846422215302786,\n",
       " 0.5881326198577881,\n",
       " 0.5904595653216044,\n",
       " 0.5927864909172058,\n",
       " 0.5962768991788229,\n",
       " 0.599185566107432,\n",
       " 0.6015125115712484,\n",
       " 0.6061663826306661,\n",
       " 0.6096567908922831,\n",
       " 0.613728920618693,\n",
       " 0.6178010304768881,\n",
       " 0.6218731999397278,\n",
       " 0.6259453296661377,\n",
       " 0.6282722552617391,\n",
       " 0.6305991808573405,\n",
       " 0.6329261064529419,\n",
       " 0.6329261263211569,\n",
       " 0.635834793249766,\n",
       " 0.6404886643091837,\n",
       " 0.6457242767016093,\n",
       " 0.654450257619222,\n",
       " 0.654450257619222,\n",
       " 0.6596858501434326,\n",
       " 0.6631762782732645,\n",
       " 0.665503184000651,\n",
       " 0.6713205377260844,\n",
       " 0.6759744087855021]"
      ]
     },
     "execution_count": 77,
     "metadata": {},
     "output_type": "execute_result"
    }
   ],
   "source": [
    "sorted(column)\n",
    "sorted(column_2)\n",
    "sorted(evaluation_accuracy)\n",
    "sorted(evaluation_accuracy_2)"
   ]
  },
  {
   "cell_type": "code",
   "execution_count": 75,
   "metadata": {},
   "outputs": [
    {
     "name": "stdout",
     "output_type": "stream",
     "text": [
      "18/18 [==============================] - 1s 31ms/step - loss: 0.9338 - acc: 0.6806\n",
      "18/18 [==============================] - 1s 31ms/step - loss: 1.0298 - acc: 0.5794\n",
      "18/18 [==============================] - 1s 32ms/step - loss: 0.9808 - acc: 0.6387\n"
     ]
    }
   ],
   "source": [
    "acc1 = model_Adv_Resnet_1.evaluate(X_test, y_test)\n",
    "acc2 = model_Adv_Resnet_2.evaluate(X_test, y_test)\n",
    "acc3 = model_Adv_Resnet_3.evaluate(X_test, y_test)\n",
    "column_2.append(100)\n",
    "evaluation_accuracy_2.append(np.mean([acc1[1], acc2[1], acc3[1]]))"
   ]
  },
  {
   "cell_type": "code",
   "execution_count": 78,
   "metadata": {
    "colab": {
     "base_uri": "https://localhost:8080/",
     "height": 325
    },
    "id": "6sdUdzSCEOW7",
    "outputId": "39b309bd-6c1c-4a1f-c5f0-435c8bf6fba1"
   },
   "outputs": [
    {
     "data": {
      "image/png": "[encoded data removed]",
      "text/plain": [
       "<Figure size 432x288 with 1 Axes>"
      ]
     },
     "metadata": {
      "needs_background": "light"
     },
     "output_type": "display_data"
    }
   ],
   "source": [
    "import matplotlib.pyplot as plt\n",
    "\n",
    "legend = [\"ResNet\", \"ResNet_Adv\"]\n",
    "#plt.plot(column_3, evaluation_accuracy_3, 'o-')\n",
    "plt.plot(column, evaluation_accuracy, 'o-')\n",
    "#plt.plot(column, parseval, 'o-')\n",
    "plt.plot(column_2, evaluation_accuracy_2, 'o-')\n",
    "plt.title(\"The Performance of the models \\n for varios magnitudes \\n adversarial noise\")\n",
    "plt.ylabel('accuracy')\n",
    "plt.xlabel('SNR')\n",
    "plt.legend(legend, loc='lower right')\n",
    "plt.show()"
   ]
  },
  {
   "cell_type": "code",
   "execution_count": null,
   "metadata": {},
   "outputs": [],
   "source": []
  }
 ],
 "metadata": {
  "accelerator": "GPU",
  "colab": {
   "name": "SignalToNoiseRatio.ipynb",
   "provenance": [],
   "toc_visible": true
  },
  "kernelspec": {
   "display_name": "Python 3",
   "language": "python",
   "name": "python3"
  },
  "language_info": {
   "codemirror_mode": {
    "name": "ipython",
    "version": 3
   },
   "file_extension": ".py",
   "mimetype": "text/x-python",
   "name": "python",
   "nbconvert_exporter": "python",
   "pygments_lexer": "ipython3",
   "version": "3.7.4"
  }
 },
 "nbformat": 4,
 "nbformat_minor": 1
}
