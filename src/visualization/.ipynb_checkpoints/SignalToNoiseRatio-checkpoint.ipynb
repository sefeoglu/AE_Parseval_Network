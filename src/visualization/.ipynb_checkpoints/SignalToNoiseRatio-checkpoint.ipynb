{
 "cells": [
  {
   "cell_type": "markdown",
   "metadata": {
    "id": "kkK5yOtaEOWL"
   },
   "source": [
    "# <font color=\"purple\">SNR Result</font>"
   ]
  },
  {
   "cell_type": "markdown",
   "metadata": {
    "id": "kCzmRkwxler6"
   },
   "source": [
    "**Experiment of Residual Networks**"
   ]
  },
  {
   "cell_type": "code",
   "execution_count": 1,
   "metadata": {
    "colab": {
     "base_uri": "https://localhost:8080/"
    },
    "id": "scrFZBY5ErKc",
    "outputId": "6e55dc88-b560-4108-d874-7a74704d2b40"
   },
   "outputs": [
    {
     "name": "stdout",
     "output_type": "stream",
     "text": [
      "\u001b[?25l\r",
      "\u001b[K     |██▏                             | 10kB 31.5MB/s eta 0:00:01\r",
      "\u001b[K     |████▎                           | 20kB 34.3MB/s eta 0:00:01\r",
      "\u001b[K     |██████▍                         | 30kB 39.2MB/s eta 0:00:01\r",
      "\u001b[K     |████████▌                       | 40kB 28.0MB/s eta 0:00:01\r",
      "\u001b[K     |██████████▋                     | 51kB 30.6MB/s eta 0:00:01\r",
      "\u001b[K     |████████████▊                   | 61kB 26.3MB/s eta 0:00:01\r",
      "\u001b[K     |██████████████▉                 | 71kB 24.5MB/s eta 0:00:01\r",
      "\u001b[K     |█████████████████               | 81kB 23.6MB/s eta 0:00:01\r",
      "\u001b[K     |███████████████████             | 92kB 25.2MB/s eta 0:00:01\r",
      "\u001b[K     |█████████████████████▏          | 102kB 22.5MB/s eta 0:00:01\r",
      "\u001b[K     |███████████████████████▎        | 112kB 22.5MB/s eta 0:00:01\r",
      "\u001b[K     |█████████████████████████▍      | 122kB 22.5MB/s eta 0:00:01\r",
      "\u001b[K     |███████████████████████████▌    | 133kB 22.5MB/s eta 0:00:01\r",
      "\u001b[K     |█████████████████████████████▋  | 143kB 22.5MB/s eta 0:00:01\r",
      "\u001b[K     |███████████████████████████████▊| 153kB 22.5MB/s eta 0:00:01\r",
      "\u001b[K     |████████████████████████████████| 163kB 22.5MB/s \n",
      "\u001b[?25h\u001b[?25l\r",
      "\u001b[K     |████████                        | 10kB 35.3MB/s eta 0:00:01\r",
      "\u001b[K     |███████████████▉                | 20kB 39.4MB/s eta 0:00:01\r",
      "\u001b[K     |███████████████████████▊        | 30kB 43.7MB/s eta 0:00:01\r",
      "\u001b[K     |███████████████████████████████▊| 40kB 46.9MB/s eta 0:00:01\r",
      "\u001b[K     |████████████████████████████████| 51kB 9.3MB/s \n",
      "\u001b[?25h"
     ]
    }
   ],
   "source": [
    "!pip install -qq -e git+http://github.com/tensorflow/cleverhans.git#egg=cleverhans\n",
    "import sys\n",
    "sys.path.append('/content/src/cleverhans')\n",
    "import cleverhans\n",
    "folder_name = \"./adversarial_examples_parseval_net/src/logs/saved_models/\"\n",
    "folder_name = \"\""
   ]
  },
  {
   "cell_type": "code",
   "execution_count": 37,
   "metadata": {
    "colab": {
     "base_uri": "https://localhost:8080/"
    },
    "id": "P3Ic_pclEOWd",
    "outputId": "508c4768-c6b7-44f5-b875-9bc30b7e33b6"
   },
   "outputs": [
    {
     "name": "stdout",
     "output_type": "stream",
     "text": [
      "\n",
      "Tensorflow Version: 2.4.0\n"
     ]
    }
   ],
   "source": [
    "import tensorflow as tf\n",
    "from cleverhans.future.tf2.attacks import fast_gradient_method\n",
    "from tensorflow.keras.optimizers import SGD\n",
    "from tensorflow.keras.callbacks import Callback, LearningRateScheduler, EarlyStopping\n",
    "from sklearn.model_selection import train_test_split\n",
    "import pandas as pd\n",
    "import numpy as np\n",
    "from sklearn.preprocessing import LabelEncoder\n",
    "from tensorflow.keras.utils import to_categorical\n",
    "\n",
    "from sklearn.model_selection import  KFold\n",
    "import gzip\n",
    "import pickle\n",
    "import numpy as np\n",
    "\n",
    "import warnings\n",
    "warnings.filterwarnings(\"ignore\")\n",
    "\n",
    "print(\"\\nTensorflow Version: \" + tf.__version__)\n",
    "\n",
    "\n",
    "# defined utility functions\n",
    "#from preprocessing import preprocessing_data\n",
    "\n",
    "from _utility import lrate, get_adversarial_examples, print_test\n",
    "#from wresnet import WideResidualNetwork\n",
    "#from parsevalnet import ParsevalNetwork\n",
    "#import pandas as pd\n",
    " "
   ]
  },
  {
   "cell_type": "code",
   "execution_count": 5,
   "metadata": {
    "id": "PDl5l5VOPrDj"
   },
   "outputs": [],
   "source": [
    "!cp drive/MyDrive/ARAS/*  models/"
   ]
  },
  {
   "cell_type": "code",
   "execution_count": 11,
   "metadata": {
    "id": "7NJdmKEXQ7wY"
   },
   "outputs": [],
   "source": [
    "!cp drive/MyDrive/adversarial_examples_parseval_net/data.pz models/"
   ]
  },
  {
   "cell_type": "code",
   "execution_count": 4,
   "metadata": {
    "colab": {
     "base_uri": "https://localhost:8080/"
    },
    "id": "hcPFBUjdPrcD",
    "outputId": "588c52dd-a9fc-4eb7-e789-3adf3b434788"
   },
   "outputs": [
    {
     "name": "stdout",
     "output_type": "stream",
     "text": [
      "Mounted at /content/drive\n"
     ]
    }
   ],
   "source": [
    "from google.colab import drive\n",
    "drive.mount('/content/drive')"
   ]
  },
  {
   "cell_type": "code",
   "execution_count": null,
   "metadata": {
    "id": "Psk-FZmvP6m_"
   },
   "outputs": [],
   "source": []
  },
  {
   "cell_type": "code",
   "execution_count": 12,
   "metadata": {
    "id": "sPqR9xN9EOWp"
   },
   "outputs": [],
   "source": [
    "epsilon_list = [i/1000 for i in range(0,40)]"
   ]
  },
  {
   "cell_type": "code",
   "execution_count": null,
   "metadata": {
    "id": "gLczK1jwhP4L"
   },
   "outputs": [],
   "source": [
    "epsilon_list"
   ]
  },
  {
   "cell_type": "code",
   "execution_count": 14,
   "metadata": {
    "colab": {
     "base_uri": "https://localhost:8080/"
    },
    "id": "3A8qMxGap02K",
    "outputId": "34500939-0786-4d2e-949b-94ffe0d95ed3"
   },
   "outputs": [
    {
     "name": "stdout",
     "output_type": "stream",
     "text": [
      "Collecting hickle\n",
      "\u001b[?25l  Downloading https://files.pythonhosted.org/packages/24/c8/af2d17ea98d7eb60ad05689c0509c5c3538a603344818c3d5f0f5c004f1e/hickle-4.0.3-py3-none-any.whl (48kB)\n",
      "\r",
      "\u001b[K     |██████▊                         | 10kB 25.5MB/s eta 0:00:01\r",
      "\u001b[K     |█████████████▌                  | 20kB 16.2MB/s eta 0:00:01\r",
      "\u001b[K     |████████████████████▏           | 30kB 14.9MB/s eta 0:00:01\r",
      "\u001b[K     |███████████████████████████     | 40kB 14.8MB/s eta 0:00:01\r",
      "\u001b[K     |████████████████████████████████| 51kB 6.4MB/s \n",
      "\u001b[?25hRequirement already satisfied: h5py<3.0.0,>=2.8.0 in /usr/local/lib/python3.6/dist-packages (from hickle) (2.10.0)\n",
      "Requirement already satisfied: numpy>=1.8 in /usr/local/lib/python3.6/dist-packages (from hickle) (1.19.4)\n",
      "Requirement already satisfied: dill>=0.3.0 in /usr/local/lib/python3.6/dist-packages (from hickle) (0.3.3)\n",
      "Requirement already satisfied: six>=1.11.0 in /usr/local/lib/python3.6/dist-packages (from hickle) (1.15.0)\n",
      "Installing collected packages: hickle\n",
      "Successfully installed hickle-4.0.3\n"
     ]
    }
   ],
   "source": [
    "!pip install hickle\n",
    "import hickle as hkl"
   ]
  },
  {
   "cell_type": "code",
   "execution_count": 17,
   "metadata": {
    "id": "tYtYNWlmE-yj"
   },
   "outputs": [],
   "source": [
    "data = hkl.load(\"data.hkl\")\n",
    "X_train, X_test, Y_train, y_test = data['xtrain'], data['xtest'], data['ytrain'], data['ytest']"
   ]
  },
  {
   "cell_type": "code",
   "execution_count": 32,
   "metadata": {
    "id": "R69Nc9UkRrti"
   },
   "outputs": [],
   "source": [
    "\n",
    "BS = 64\n",
    "init = (32, 32,1)\n",
    "opt = SGD(lr=0.1, momentum=0.9)"
   ]
  },
  {
   "cell_type": "code",
   "execution_count": null,
   "metadata": {
    "id": "lxrpq-u_cSEd"
   },
   "outputs": [],
   "source": [
    "\n",
    "parseval = ParsevalNetwork(init, 0.0001, 0.9, nb_classes=4, N=2, k=1, dropout=0.0)\n",
    "resnet = WideResidualNetwork(init, 0.0001, 0.9, nb_classes=4, N=2, k=1, dropout=0.0)\n",
    "parseval_model = parseval.create_wide_residual_network()\n",
    "parseval_model_da = parseval.create_wide_residual_network()\n",
    "resnet_model = resnet.create_wide_residual_network()\n",
    "resnet_model_da = resnet.create_wide_residual_network()"
   ]
  },
  {
   "cell_type": "code",
   "execution_count": null,
   "metadata": {
    "id": "YA4uSa__VoEe"
   },
   "outputs": [],
   "source": [
    "def evaluation_result(frame, model, model_da, index):\n",
    "    for i, epsilon in enumerate(epsilon_list):\n",
    "        x_adv  =  get_adversarial_examples(model,X_test, y_test, epsilon)\n",
    "        SNR = 20*np.log10(np.linalg.norm(X_test)/np.linalg.norm(X_test-x_adv))\n",
    "        test = model.evaluate(x_adv, y_test, verbose = 0.0)\n",
    "        test_da = model_da.evaluate(x_adv, y_test, verbose = 0.0)\n",
    "        row = {\"acc\":test[1], \"acc_da\": test_da[1],\"SNR\":SNR}\n",
    "        frame = frame.append(row,  ignore_index=True)\n",
    "    return frame"
   ]
  },
  {
   "cell_type": "code",
   "execution_count": null,
   "metadata": {
    "id": "azXld8ReZcGG"
   },
   "outputs": [],
   "source": [
    "df_parseval_1 = pd.DataFrame()\n",
    "df_parseval_2 = pd.DataFrame()\n",
    "df_parseval_3 = pd.DataFrame()\n",
    "df_parseval_4 = pd.DataFrame()\n",
    "df_parseval_5 = pd.DataFrame()\n",
    "df_parseval_6 = pd.DataFrame()\n",
    "df_parseval_7 = pd.DataFrame()\n",
    "df_parseval_8 = pd.DataFrame()\n",
    "df_parseval_9 = pd.DataFrame()\n",
    "df_parseval_0 = pd.DataFrame()\n"
   ]
  },
  {
   "cell_type": "code",
   "execution_count": null,
   "metadata": {
    "id": "-87OuDRbtLbW"
   },
   "outputs": [],
   "source": [
    "list_df = []\n",
    "list_df.append(df_parseval_0)\n",
    "list_df.append(df_parseval_1)\n",
    "list_df.append(df_parseval_2)\n",
    "list_df.append(df_parseval_3)\n",
    "list_df.append(df_parseval_4)\n",
    "list_df.append(df_parseval_5)\n",
    "list_df.append(df_parseval_6)\n",
    "list_df.append(df_parseval_7)\n",
    "list_df.append(df_parseval_8)\n",
    "list_df.append(df_parseval_9)"
   ]
  },
  {
   "cell_type": "code",
   "execution_count": null,
   "metadata": {
    "id": "tx9dfUCwUoU9"
   },
   "outputs": [],
   "source": [
    "column_name = \"test_\"\n",
    "column_name_da = \"test_da_\"\n",
    "\n",
    "for i in range(10):\n",
    "    model_name = \"Parseval_\"+str(i)+\".h5\"\n",
    "    model_name_da = \"Parseval_da_\"+str(i)+\".h5\"\n",
    "    parseval_model.load_weights(model_name)\n",
    "    parseval_model_da.load_weights(model_name_da)\n",
    "    parseval_model.compile(loss=\"categorical_crossentropy\", optimizer=opt, metrics=[\"acc\"])\n",
    "    parseval_model_da.compile(loss=\"categorical_crossentropy\", optimizer=opt, metrics=[\"acc\"])\n",
    "    list_df[i] = evaluation_result(list_df[i], parseval_model, parseval_model_da, i)"
   ]
  },
  {
   "cell_type": "code",
   "execution_count": null,
   "metadata": {
    "id": "TB2Qf4h-uCEW"
   },
   "outputs": [],
   "source": [
    "mean_acc = (list_df[0][\"acc\"]+list_df[1][\"acc\"]+list_df[2][\"acc\"]+list_df[3][\"acc\"]+list_df[4][\"acc\"]+list_df[5][\"acc\"]+list_df[6][\"acc\"]+list_df[7][\"acc\"]+list_df[8][\"acc\"]+list_df[9][\"acc\"])/10"
   ]
  },
  {
   "cell_type": "code",
   "execution_count": null,
   "metadata": {
    "id": "Ih9SU1Q91zP9"
   },
   "outputs": [],
   "source": [
    "mean_acc_da = (list_df[0][\"acc_da\"]+list_df[1][\"acc_da\"]+list_df[2][\"acc_da\"]+list_df[3][\"acc_da\"]+list_df[4][\"acc_da\"]+list_df[5][\"acc_da\"]+list_df[6][\"acc_da\"]+list_df[7][\"acc_da\"]+list_df[8][\"acc_da\"]+list_df[9][\"acc_da\"])/10"
   ]
  },
  {
   "cell_type": "code",
   "execution_count": null,
   "metadata": {
    "id": "I3H-GhGMy88S"
   },
   "outputs": [],
   "source": [
    "df_resnet_1 = pd.DataFrame()\n",
    "df_resnet_2 = pd.DataFrame()\n",
    "df_resnet_3 = pd.DataFrame()\n",
    "df_resnet_4 = pd.DataFrame()\n",
    "df_resnet_5 = pd.DataFrame()\n",
    "df_resnet_6 = pd.DataFrame()\n",
    "df_resnet_7 = pd.DataFrame()\n",
    "df_resnet_8 = pd.DataFrame()\n",
    "df_resnet_9 = pd.DataFrame()\n",
    "df_resnet_0 = pd.DataFrame()\n",
    "list_df_r = []\n",
    "list_df_r.append(df_resnet_0)\n",
    "list_df_r.append(df_resnet_1)\n",
    "list_df_r.append(df_resnet_2)\n",
    "list_df_r.append(df_resnet_3)\n",
    "list_df_r.append(df_resnet_4)\n",
    "list_df_r.append(df_resnet_5)\n",
    "list_df_r.append(df_resnet_6)\n",
    "list_df_r.append(df_resnet_7)\n",
    "list_df_r.append(df_resnet_8)\n",
    "list_df_r.append(df_resnet_9)"
   ]
  },
  {
   "cell_type": "code",
   "execution_count": null,
   "metadata": {
    "id": "CDrVZvnMfyGe"
   },
   "outputs": [],
   "source": [
    "column_name = \"test_\"\n",
    "column_name_da = \"test_da_\"\n",
    "\n",
    "for i in range(10):\n",
    "    model_name = \"ResNet_\"+str(i)+\".h5\"\n",
    "    model_name_da = \"ResNet_da_\"+str(i)+\".h5\"\n",
    "    resnet_model.load_weights(model_name)\n",
    "    resnet_model_da.load_weights(model_name_da)\n",
    "    resnet_model.compile(loss=\"categorical_crossentropy\", optimizer=opt, metrics=[\"acc\"])\n",
    "    resnet_model_da.compile(loss=\"categorical_crossentropy\", optimizer=opt, metrics=[\"acc\"])\n",
    "    list_df_r[i] = evaluation_result(list_df_r[i], resnet_model, resnet_model_da, i)\n"
   ]
  },
  {
   "cell_type": "code",
   "execution_count": null,
   "metadata": {
    "id": "okr0CEf36OCR"
   },
   "outputs": [],
   "source": [
    "list_df[9]"
   ]
  },
  {
   "cell_type": "code",
   "execution_count": null,
   "metadata": {
    "id": "Bi3ArlH7hFMr"
   },
   "outputs": [],
   "source": [
    "mean_acc_r = (list_df_r[0][\"acc\"]+list_df_r[1][\"acc\"]+list_df_r[2][\"acc\"]+list_df_r[3][\"acc\"]+list_df_r[4][\"acc\"]+list_df_r[5][\"acc\"]+list_df_r[6][\"acc\"]+list_df_r[7][\"acc\"]+list_df_r[8][\"acc\"]+list_df_r[9][\"acc\"])/10"
   ]
  },
  {
   "cell_type": "code",
   "execution_count": null,
   "metadata": {
    "id": "-UMhh1Wv44Y7"
   },
   "outputs": [],
   "source": [
    "mean_acc_da_r = (list_df_r[0][\"acc_da\"]+list_df_r[1][\"acc_da\"]+list_df_r[2][\"acc_da\"]+list_df_r[3][\"acc_da\"]+list_df_r[4][\"acc_da\"]+list_df_r[5][\"acc_da\"]+list_df_r[6][\"acc_da\"]+list_df_r[7][\"acc_da\"]+list_df_r[8][\"acc_da\"]+list_df_r[9][\"acc_da\"])/10"
   ]
  },
  {
   "cell_type": "code",
   "execution_count": null,
   "metadata": {
    "colab": {
     "base_uri": "https://localhost:8080/"
    },
    "id": "eGssN3tQ8CMA",
    "outputId": "f66aafe2-fbe5-4673-f150-4f5218093b7e"
   },
   "outputs": [
    {
     "data": {
      "text/plain": [
       "0.6956369936466217"
      ]
     },
     "execution_count": 61,
     "metadata": {
      "tags": []
     },
     "output_type": "execute_result"
    }
   ],
   "source": [
    "mean_acc_r[0]"
   ]
  },
  {
   "cell_type": "code",
   "execution_count": null,
   "metadata": {
    "colab": {
     "base_uri": "https://localhost:8080/"
    },
    "id": "_ew1CSd783Vf",
    "outputId": "be0f983b-48d3-4c35-b5d3-4703d9d5cfdc"
   },
   "outputs": [
    {
     "data": {
      "text/plain": [
       "40"
      ]
     },
     "execution_count": 60,
     "metadata": {
      "tags": []
     },
     "output_type": "execute_result"
    }
   ],
   "source": [
    "len(mean_acc_da_r)"
   ]
  },
  {
   "cell_type": "code",
   "execution_count": null,
   "metadata": {
    "colab": {
     "base_uri": "https://localhost:8080/",
     "height": 325
    },
    "id": "6sdUdzSCEOW7",
    "outputId": "0a2bed53-afb1-425a-8d56-491578e2a7c8"
   },
   "outputs": [
    {
     "data": {
      "image/png": "[encoded data removed]",
      "text/plain": [
       "<Figure size 432x288 with 1 Axes>"
      ]
     },
     "metadata": {
      "needs_background": "light",
      "tags": []
     },
     "output_type": "display_data"
    }
   ],
   "source": [
    "import matplotlib.pyplot as plt\n",
    "\n",
    "legend = [\"ResNet\", \"ResNet_da\", \"Parseval\", \"Parseval_da\"]\n",
    "plt.plot(list_df_r[0][\"SNR\"], mean_acc_r, 'o-')\n",
    "plt.plot(list_df_r[0][\"SNR\"], mean_acc_da_r, 'o-')\n",
    "\n",
    "plt.plot(list_df_r[0][\"SNR\"], mean_acc, 'o-')\n",
    "plt.plot(list_df_r[0][\"SNR\"], mean_acc_da, 'o-')\n",
    "\n",
    "plt.title(\"The Performance of the models \\n for varios magnitudes \\n adversarial noise\")\n",
    "plt.ylabel('mean acc of \\n 10 Folds CV')\n",
    "plt.xlabel('SNR')\n",
    "plt.legend(legend, loc='lower right')\n",
    "plt.show()"
   ]
  },
  {
   "cell_type": "code",
   "execution_count": null,
   "metadata": {
    "id": "cPqVCc2J-6GU"
   },
   "outputs": [],
   "source": [
    "import json\n",
    "for i in range(len(epsilon_list)):\n",
    "    with open(\"result_ResNet.json\", mode='a', encoding='utf-8') as feedsjson:\n",
    "        data = {\"SNR\":list_df_r[0][\"SNR\"][i], \"mean_ResNet\":mean_acc_r[i],\"mean_ResNet_da\":mean_acc_da_r[i], \"mean_Parseval\":mean_acc[i],\"mean_Parseval_da\":mean_acc_da[i]}\n",
    "        feedsjson.write(json.dumps(data, ensure_ascii=False, indent=4))\n",
    "        feedsjson.close()"
   ]
  },
  {
   "cell_type": "code",
   "execution_count": 54,
   "metadata": {
    "id": "x7Tqobb5Ruuk"
   },
   "outputs": [],
   "source": [
    "df_sgd_1 = pd.DataFrame()\n",
    "df_sgd_2 = pd.DataFrame()\n",
    "df_sgd_3 = pd.DataFrame()\n",
    "df_sgd_4 = pd.DataFrame()\n",
    "df_sgd_5 = pd.DataFrame()\n",
    "df_sgd_6 = pd.DataFrame()\n",
    "df_sgd_7 = pd.DataFrame()\n",
    "df_sgd_8 = pd.DataFrame()\n",
    "df_sgd_9 = pd.DataFrame()\n",
    "df_sgd_0 = pd.DataFrame()\n",
    "list_df_c = []\n",
    "list_df_c.append(df_sgd_0)\n",
    "list_df_c.append(df_sgd_1)\n",
    "list_df_c.append(df_sgd_2)\n",
    "list_df_c.append(df_sgd_3)\n",
    "list_df_c.append(df_sgd_4)\n",
    "list_df_c.append(df_sgd_5)\n",
    "list_df_c.append(df_sgd_6)\n",
    "list_df_c.append(df_sgd_7)\n",
    "list_df_c.append(df_sgd_8)\n",
    "list_df_c.append(df_sgd_9)"
   ]
  },
  {
   "cell_type": "code",
   "execution_count": 24,
   "metadata": {
    "id": "meiehDfhTEuE"
   },
   "outputs": [],
   "source": [
    "from tensorflow.data import Dataset\n",
    "import tensorflow.keras as keras\n",
    "from tensorflow.keras.optimizers import Adam\n",
    "from tensorflow.keras.layers import Conv2D,Input,MaxPooling2D, Dense, Dropout, MaxPool1D, Flatten, AveragePooling1D, BatchNormalization\n",
    "from tensorflow.keras import Model\n",
    "import numpy as np\n",
    "import tensorflow as tf\n",
    "from tensorflow.keras.models import Sequential\n",
    "from tensorflow.keras.models import Model\n",
    "from tensorflow.keras.layers import Input, Add, Activation, Dropout, Flatten, Dense\n",
    "from tensorflow.keras.layers import Convolution2D, MaxPooling2D, AveragePooling2D\n",
    "from tensorflow.keras.layers import BatchNormalization\n",
    "from tensorflow.keras.regularizers import l2\n",
    "from tensorflow.keras import backend as K\n",
    "from tensorflow.keras.optimizers import SGD\n",
    "import warnings\n",
    "from constraint import tight_frame\n",
    "\n",
    "warnings.filterwarnings(\"ignore\")\n",
    "\n",
    "def model_parseval(weight_decay):\n",
    "  model = Sequential()\n",
    "  model.add(Conv2D(32, kernel_size=(3, 3),activation='relu', input_shape=(32, 32, 1),kernel_regularizer=l2(weight_decay),kernel_constraint=tight_frame(0.001),kernel_initializer='Orthogonal'))\n",
    "  model.add(Conv2D(64, kernel_size=(3, 3), activation='relu',kernel_regularizer=l2(weight_decay),kernel_initializer='Orthogonal',kernel_constraint=tight_frame(0.001)))\n",
    "  model.add(MaxPooling2D(pool_size=(2, 2)))\n",
    "  model.add(BatchNormalization())\n",
    "  model.add(Conv2D(128, kernel_size=(3, 3), activation='relu',kernel_initializer='Orthogonal',kernel_regularizer=l2(weight_decay),kernel_constraint=tight_frame(0.001)))\n",
    "  model.add(MaxPooling2D(pool_size=(2, 2)))\n",
    "  model.add(BatchNormalization())\n",
    "  model.add(Conv2D(256, kernel_size=(3, 3), activation='relu',kernel_initializer='Orthogonal', kernel_regularizer=l2(weight_decay),kernel_constraint=tight_frame(0.001)))\n",
    "  model.add(MaxPooling2D(pool_size=(2, 2)))\n",
    "  model.add(BatchNormalization())\n",
    "  model.add(Flatten())\n",
    "  model.add(Dense(4, activation='softmax',kernel_regularizer=l2(weight_decay)))\n",
    "  return model"
   ]
  },
  {
   "cell_type": "code",
   "execution_count": 25,
   "metadata": {
    "id": "rUabfb8RT-pC"
   },
   "outputs": [],
   "source": [
    "from tensorflow.data import Dataset\n",
    "import tensorflow.keras as keras\n",
    "from tensorflow.keras.optimizers import Adam\n",
    "from tensorflow.keras.layers import Conv2D,Input,MaxPooling2D, Dense, Dropout, MaxPool1D, Flatten, AveragePooling1D, BatchNormalization\n",
    "from tensorflow.keras import Model\n",
    "import numpy as np\n",
    "import tensorflow as tf\n",
    "from tensorflow.keras.models import Sequential\n",
    "from tensorflow.keras.models import Model\n",
    "from tensorflow.keras.layers import Input, Add, Activation, Dropout, Flatten, Dense\n",
    "from tensorflow.keras.layers import Convolution2D, MaxPooling2D, AveragePooling2D\n",
    "from tensorflow.keras.layers import BatchNormalization\n",
    "from tensorflow.keras.regularizers import l2\n",
    "from tensorflow.keras import backend as K\n",
    "from tensorflow.keras.optimizers import SGD\n",
    "import warnings\n",
    "from constraint import tight_frame\n",
    "from convexity_constraint import convex_add\n",
    "warnings.filterwarnings(\"ignore\")\n",
    "\n",
    "def basemodel(weight_decay):\n",
    "  #2 hidden layers\n",
    "    model_input = Input(shape=(32,32,1, ))\n",
    "    model = Conv2D(32, kernel_size=(3, 3), kernel_regularizer=l2(weight_decay),activation='relu', )(model_input)\n",
    "    model = Conv2D(64, kernel_size=(3, 3), kernel_regularizer=l2(weight_decay), activation='relu')(model)\n",
    "    model = MaxPooling2D(pool_size=(2, 2))(model)\n",
    "    model = BatchNormalization()(model)\n",
    "    model = Flatten()(model)\n",
    "    model = Dense(4, kernel_regularizer=l2(weight_decay),activation='softmax')(model)\n",
    "    model = Model(inputs=model_input, outputs=model)\n",
    "    return model\n",
    "\n",
    "\n",
    "def model_2(weight_decay):\n",
    "    model_input = Input(shape=(32,32,1, ))\n",
    "    model = Conv2D(32, kernel_size=(3, 3), kernel_regularizer=l2(weight_decay),activation='relu', )(model_input)\n",
    "    model = Conv2D(64, kernel_size=(3, 3), kernel_regularizer=l2(weight_decay), activation='relu')(model)\n",
    "    model = MaxPooling2D(pool_size=(2, 2))(model)\n",
    "    model = BatchNormalization()(model)\n",
    "    model = Conv2D(128, kernel_size=(3, 3), kernel_regularizer=l2(weight_decay), activation='relu')(model)\n",
    "    model = MaxPooling2D(pool_size=(2, 2))(model)\n",
    "    model = BatchNormalization()(model)\n",
    "    model = Flatten()(model)\n",
    "    model = Dense(4, kernel_regularizer=l2(weight_decay),activation='softmax')(model)\n",
    "    model = Model(inputs=model_input, outputs=model)\n",
    "    return model\n",
    "\n",
    "\n",
    "def model_3(weight_decay):\n",
    "  # 4 hidden layers\n",
    "    model_input = Input(shape=(32,32,1, ))\n",
    "    model = Conv2D(32, kernel_size=(3, 3), kernel_regularizer=l2(weight_decay),activation='relu', )(model_input)\n",
    "    model = Conv2D(64, kernel_size=(3, 3), kernel_regularizer=l2(weight_decay), activation='relu')(model)\n",
    "    model = MaxPooling2D(pool_size=(2, 2))(model)\n",
    "    model = BatchNormalization()(model)\n",
    "    model = Conv2D(128, kernel_size=(3, 3), kernel_regularizer=l2(weight_decay), activation='relu')(model)\n",
    "    model = MaxPooling2D(pool_size=(2, 2))(model)\n",
    "    model = BatchNormalization()(model)\n",
    "    model = Conv2D(256, kernel_size=(3, 3), kernel_regularizer=l2(weight_decay), activation='relu')(model)\n",
    "    model = MaxPooling2D(pool_size=(2, 2))(model)\n",
    "    model = BatchNormalization()(model)\n",
    "    model = Flatten()(model)\n",
    "    model = Dense(4, kernel_regularizer=l2(weight_decay),activation='softmax')(model)\n",
    "    model = Model(inputs=model_input, outputs=model)\n",
    "    return model"
   ]
  },
  {
   "cell_type": "code",
   "execution_count": 55,
   "metadata": {
    "id": "owqtAK0MRyUn"
   },
   "outputs": [],
   "source": [
    "def evaluation_result_fully_connected(frame, sgd, sgd_wd,sgd_wd_da,parseval, index):\n",
    "    test = sgd.evaluate(X_test, y_test, verbose = 0.0)\n",
    "    test_wd = sgd_wd.evaluate(X_test, y_test, verbose = 0.0)\n",
    "    test_wd_da = sgd_wd_da.evaluate(X_test, y_test, verbose = 0.0)\n",
    "    test_parseval = parseval.evaluate(X_test, y_test, verbose = 0.0)\n",
    "    row = {\"acc_sgd\":test[1], \"acc_sgd_wd\": test_wd[1],\"acc_sgd_wd_da\":test_wd_da[1],\"acc_parseval\":test_parseval[1], \"SNR\":100}\n",
    "    frame = frame.append(row,  ignore_index=True)\n",
    "    for i, epsilon in enumerate(epsilon_list):\n",
    "      x_adv  =  get_adversarial_examples(sgd,X_test, y_test, epsilon)\n",
    "      SNR = 20*np.log10(np.linalg.norm(X_test)/np.linalg.norm(X_test-x_adv))\n",
    "      test = sgd.evaluate(x_adv, y_test, verbose = 0.0)\n",
    "      test_wd = sgd_wd.evaluate(x_adv, y_test, verbose = 0.0)\n",
    "      test_wd_da = sgd_wd_da.evaluate(x_adv, y_test, verbose = 0.0)\n",
    "      test_parseval = parseval.evaluate(x_adv, y_test, verbose = 0.0)\n",
    "      row = {\"acc_sgd\":test[1], \"acc_sgd_wd\": test_wd[1],\"acc_sgd_wd_da\":test_wd_da[1],\"acc_parseval\":test_parseval[1], \"SNR\":SNR}\n",
    "      frame = frame.append(row,  ignore_index=True)\n",
    "\n",
    "    return frame"
   ]
  },
  {
   "cell_type": "code",
   "execution_count": 56,
   "metadata": {
    "id": "9Mm05Z2ASItk"
   },
   "outputs": [],
   "source": [
    "for i in range(10):\n",
    "    name_sgd = \"models/sgd_\"+str(i)+\".h5\"\n",
    "    name_sgd_wd = \"models/sgd_wd_\"+str(i)+\".h5\"\n",
    "    name_sgd_wd_da = \"models/conv_wd_da_\"+str(i)+\".h5\"\n",
    "    name_parseval = \"models/Parseval_\"+str(i)+\".h5\"\n",
    "    sgd = model_3(0)\n",
    "    sgd_wd = model_3(0.0001)\n",
    "    sgd_wd_da = model_3(0.0001)\n",
    "    parseval = model_parseval(0)\n",
    "    sgd.load_weights(name_sgd)\n",
    "    sgd_wd.load_weights(name_sgd_wd)\n",
    "    sgd_wd_da.load_weights(name_sgd_wd_da)\n",
    "    parseval.load_weights(name_parseval)\n",
    "    sgd.compile(loss=\"categorical_crossentropy\", optimizer=opt, metrics=[\"acc\"])\n",
    "    sgd_wd.compile(loss=\"categorical_crossentropy\", optimizer=opt, metrics=[\"acc\"])\n",
    "    sgd_wd_da.compile(loss=\"categorical_crossentropy\", optimizer=opt, metrics=[\"acc\"])\n",
    "    parseval.compile(loss=\"categorical_crossentropy\", optimizer=opt, metrics=[\"acc\"])\n",
    "    list_df_c[i] = evaluation_result_fully_connected(list_df_c[i],sgd, sgd_wd, sgd_wd_da, parseval, i)"
   ]
  },
  {
   "cell_type": "code",
   "execution_count": 57,
   "metadata": {
    "id": "Rwxqk_GqWGPS"
   },
   "outputs": [],
   "source": [
    "mean_acc_sgd = (list_df_c[0][\"acc_sgd\"]+list_df_c[1][\"acc_sgd\"]+list_df_c[2][\"acc_sgd\"]+list_df_c[3][\"acc_sgd\"]+list_df_c[4][\"acc_sgd\"]+list_df_c[5][\"acc_sgd\"]+list_df_c[6][\"acc_sgd\"]+list_df_c[7][\"acc_sgd\"]+list_df_c[8][\"acc_sgd\"]+list_df_c[9][\"acc_sgd\"])/10"
   ]
  },
  {
   "cell_type": "code",
   "execution_count": 58,
   "metadata": {
    "id": "Cyn71HxRWPUo"
   },
   "outputs": [],
   "source": [
    "mean_acc_sgd_wd = (list_df_c[0][\"acc_sgd_wd\"]+list_df_c[1][\"acc_sgd_wd\"]+list_df_c[2][\"acc_sgd_wd\"]+list_df_c[3][\"acc_sgd_wd\"]+list_df_c[4][\"acc_sgd_wd\"]+list_df_c[5][\"acc_sgd_wd\"]+list_df_c[6][\"acc_sgd_wd\"]+list_df_c[7][\"acc_sgd_wd\"]+list_df_c[8][\"acc_sgd_wd\"]+list_df_c[9][\"acc_sgd_wd\"])/10"
   ]
  },
  {
   "cell_type": "code",
   "execution_count": 59,
   "metadata": {
    "id": "RPwV2ATuWVBc"
   },
   "outputs": [],
   "source": [
    "mean_acc_sgd_wd_da = (list_df_c[0][\"acc_sgd_wd_da\"]+list_df_c[1][\"acc_sgd_wd_da\"]+list_df_c[2][\"acc_sgd_wd_da\"]+list_df_c[3][\"acc_sgd_wd_da\"]+list_df_c[4][\"acc_sgd_wd_da\"]+list_df_c[5][\"acc_sgd_wd_da\"]+list_df_c[6][\"acc_sgd_wd_da\"]+list_df_c[7][\"acc_sgd_wd_da\"]+list_df_c[8][\"acc_sgd_wd_da\"]+list_df_c[9][\"acc_sgd_wd_da\"])/10"
   ]
  },
  {
   "cell_type": "code",
   "execution_count": 61,
   "metadata": {
    "id": "yTXtBL3fWWt6"
   },
   "outputs": [],
   "source": [
    "mean_acc_parseval = (list_df_c[0][\"acc_parseval\"]+list_df_c[1][\"acc_parseval\"]+list_df_c[2][\"acc_parseval\"]+list_df_c[3][\"acc_parseval\"]+list_df_c[4][\"acc_parseval\"]+list_df_c[5][\"acc_parseval\"]+list_df_c[6][\"acc_parseval\"]+list_df_c[7][\"acc_parseval\"]+list_df_c[8][\"acc_parseval\"]+list_df_c[9][\"acc_parseval\"])/10"
   ]
  },
  {
   "cell_type": "code",
   "execution_count": 66,
   "metadata": {
    "id": "p5MZNkMeeuIt"
   },
   "outputs": [],
   "source": [
    "list_df_c[0][\"SNR\"][1] =100"
   ]
  },
  {
   "cell_type": "code",
   "execution_count": 70,
   "metadata": {
    "colab": {
     "base_uri": "https://localhost:8080/",
     "height": 325
    },
    "id": "2fGWosoyXL3t",
    "outputId": "b144105e-b51d-4ea0-fa95-e5da0460c44d"
   },
   "outputs": [
    {
     "data": {
      "image/png": "[encoded data removed]",
      "text/plain": [
       "<Figure size 432x288 with 1 Axes>"
      ]
     },
     "metadata": {
      "needs_background": "light",
      "tags": []
     },
     "output_type": "display_data"
    }
   ],
   "source": [
    "import matplotlib.pyplot as plt\n",
    "\n",
    "legend = [\"SGD\", \"SGD_WD\", \"SGD_WD_DA\"]\n",
    "plt.plot(list_df_c[0][\"SNR\"], mean_acc_sgd, 'o-')\n",
    "plt.plot(list_df_c[0][\"SNR\"], mean_acc_sgd_wd, 'o-')\n",
    "\n",
    "plt.plot(list_df_c[0][\"SNR\"], mean_acc_sgd_wd_da, 'o-')\n",
    "\n",
    "\n",
    "plt.title(\"The Performance of the models \\n for varios magnitudes \\n adversarial noise\")\n",
    "plt.ylabel('mean acc of \\n 10 Fold CV')\n",
    "plt.xlabel('SNR')\n",
    "plt.legend(legend, loc='lower right')\n",
    "plt.show()"
   ]
  },
  {
   "cell_type": "code",
   "execution_count": 71,
   "metadata": {
    "colab": {
     "base_uri": "https://localhost:8080/",
     "height": 325
    },
    "id": "PquRKjgJfDZ6",
    "outputId": "8a1fe62d-1e95-4027-ccda-f6a4bff62b53"
   },
   "outputs": [
    {
     "data": {
      "image/png": "[encoded data removed]",
      "text/plain": [
       "<Figure size 432x288 with 1 Axes>"
      ]
     },
     "metadata": {
      "needs_background": "light",
      "tags": []
     },
     "output_type": "display_data"
    }
   ],
   "source": [
    "import matplotlib.pyplot as plt\n",
    "\n",
    "legend = [\"SGD\", \"SGD_WD\", \"SGD_WD_DA\", \"Parseval\"]\n",
    "plt.plot(list_df_c[0][\"SNR\"], mean_acc_sgd, 'o-')\n",
    "plt.plot(list_df_c[0][\"SNR\"], mean_acc_sgd_wd, 'o-')\n",
    "\n",
    "plt.plot(list_df_c[0][\"SNR\"], mean_acc_sgd_wd_da, 'o-')\n",
    "plt.plot(list_df_c[0][\"SNR\"], mean_acc_parseval, 'o-')\n",
    "\n",
    "plt.title(\"The Performance of the models \\n for varios magnitudes \\n adversarial noise\")\n",
    "plt.ylabel('mean acc of \\n 10 Fold CV')\n",
    "plt.xlabel('SNR')\n",
    "plt.legend(legend, loc='lower right')\n",
    "plt.show()"
   ]
  },
  {
   "cell_type": "code",
   "execution_count": 63,
   "metadata": {
    "id": "KJZAOKuOZLjj"
   },
   "outputs": [],
   "source": [
    "import json\n",
    "for i in range(len(epsilon_list)):\n",
    "    with open(\"result_CNN.json\", mode='a', encoding='utf-8') as feedsjson:\n",
    "        data = {\"SNR\":list_df_c[0][\"SNR\"][i], \"mean_acc_sgd\":mean_acc_sgd[i],\"mean_acc_sgd_wd\":mean_acc_sgd_wd[i], \"mean_acc_sgd_wd_da\":mean_acc_sgd_wd_da[i],\"mean_acc_parseval\":mean_acc_parseval[i]}\n",
    "        feedsjson.write(json.dumps(data, ensure_ascii=False, indent=4))\n",
    "        feedsjson.close()"
   ]
  },
  {
   "cell_type": "code",
   "execution_count": 72,
   "metadata": {
    "id": "8M4y0dUweL3l"
   },
   "outputs": [],
   "source": [
    "!cp result_CNN.json drive/MyDrive/ARAS/"
   ]
  },
  {
   "cell_type": "markdown",
   "metadata": {},
   "source": [
    "## Signal to Noise Ratio Visualization"
   ]
  },
  {
   "cell_type": "markdown",
   "metadata": {},
   "source": [
    "## WhiteBox Attacker for CNN"
   ]
  },
  {
   "cell_type": "code",
   "execution_count": 21,
   "metadata": {},
   "outputs": [],
   "source": [
    "import json\n",
    "import pandas as pd\n",
    "base_path = \"/Users/sefika/adversarial_examples_parseval_net/src/logs/SNR_Experiments/result_CNN.json\"\n",
    "\n",
    "SNR = []\n",
    "mean_acc_sgd = []\n",
    "mean_acc_sgd_wd = []\n",
    "mean_acc_sgd_wd_da = []\n",
    "mean_acc_parseval = []\n",
    "\n",
    "\n",
    "f = open(base_path, \"r\")\n",
    "data = f.read()\n",
    "\n",
    "results = data.replace(\"{\",\"\").split(\"}\")\n",
    "\n",
    "for result in results:\n",
    "    data = result.split(\",\")\n",
    "    if len(data) != 1:\n",
    "        SNR.append(round(float(data[0].split(\":\")[-1]),2))\n",
    "        mean_acc_sgd.append(round(float(data[1].split(\":\")[-1]),2))\n",
    "        mean_acc_sgd_wd.append(round(float(data[2].split(\":\")[-1]),2))\n",
    "        mean_acc_sgd_wd_da.append(round(float(data[3].split(\":\")[-1]),2))\n",
    "        mean_acc_parseval.append(round(float(data[4].split(\":\")[-1]), 2))"
   ]
  },
  {
   "cell_type": "code",
   "execution_count": 24,
   "metadata": {},
   "outputs": [],
   "source": [
    "list_data = [mean_acc_sgd, mean_acc_sgd_wd, mean_acc_sgd_wd_da,mean_acc_parseval]\n",
    "\n",
    "\n",
    "cnn_results_df = pd.DataFrame()\n",
    "# cnn_results_df[\"SNR\"] = SNR\n",
    "cnn_results_df[\"CNN_SGD\"] = mean_acc_sgd\n",
    "cnn_results_df[\"CNN_SGD_WD\"] = mean_acc_sgd_wd\n",
    "cnn_results_df[\"CNN_SGD_WD_AD\"] = mean_acc_sgd_wd_da\n",
    "cnn_results_df[\"Parseval\"] = mean_acc_parseval"
   ]
  },
  {
   "cell_type": "code",
   "execution_count": 4,
   "metadata": {},
   "outputs": [
    {
     "name": "stdout",
     "output_type": "stream",
     "text": [
      "Collecting plotly==4.14.3\n",
      "  Using cached plotly-4.14.3-py2.py3-none-any.whl (13.2 MB)\n",
      "Collecting retrying>=1.3.3\n",
      "  Using cached retrying-1.3.3.tar.gz (10 kB)\n",
      "Requirement already satisfied: six in /Users/sefika/opt/anaconda3/lib/python3.7/site-packages (from plotly==4.14.3) (1.15.0)\n",
      "Building wheels for collected packages: retrying\n",
      "  Building wheel for retrying (setup.py) ... \u001b[?25ldone\n",
      "\u001b[?25h  Created wheel for retrying: filename=retrying-1.3.3-py3-none-any.whl size=11429 sha256=8764663d57f4288a1c61abea910e217a5d705e2be9bdb7a7e7ab163034c79576\n",
      "  Stored in directory: /Users/sefika/Library/Caches/pip/wheels/f9/8d/8d/f6af3f7f9eea3553bc2fe6d53e4b287dad18b06a861ac56ddf\n",
      "Successfully built retrying\n",
      "Installing collected packages: retrying, plotly\n",
      "Successfully installed plotly-4.14.3 retrying-1.3.3\n",
      "\u001b[33mWARNING: You are using pip version 21.0.1; however, version 21.1.2 is available.\n",
      "You should consider upgrading via the '/Users/sefika/opt/anaconda3/bin/python -m pip install --upgrade pip' command.\u001b[0m\n",
      "Note: you may need to restart the kernel to use updated packages.\n"
     ]
    }
   ],
   "source": [
    "pip install plotly==4.14.3"
   ]
  },
  {
   "cell_type": "code",
   "execution_count": 44,
   "metadata": {},
   "outputs": [
    {
     "data": {
      "application/vnd.plotly.v1+json": {
       "config": {
        "plotlyServerURL": "https://plot.ly"
       },
       "data": [
        {
         "alignmentgroup": "True",
         "hovertemplate": "variable=%{x}<br>value=%{y}<extra></extra>",
         "legendgroup": "",
         "marker": {
          "color": "#636efa"
         },
         "name": "",
         "notched": false,
         "offsetgroup": "",
         "orientation": "v",
         "showlegend": false,
         "type": "box",
         "x": [
          "CNN_SGD",
          "CNN_SGD",
          "CNN_SGD",
          "CNN_SGD",
          "CNN_SGD",
          "CNN_SGD",
          "CNN_SGD",
          "CNN_SGD",
          "CNN_SGD",
          "CNN_SGD",
          "CNN_SGD",
          "CNN_SGD",
          "CNN_SGD",
          "CNN_SGD",
          "CNN_SGD",
          "CNN_SGD",
          "CNN_SGD",
          "CNN_SGD",
          "CNN_SGD",
          "CNN_SGD",
          "CNN_SGD",
          "CNN_SGD",
          "CNN_SGD",
          "CNN_SGD",
          "CNN_SGD",
          "CNN_SGD",
          "CNN_SGD",
          "CNN_SGD",
          "CNN_SGD",
          "CNN_SGD",
          "CNN_SGD",
          "CNN_SGD",
          "CNN_SGD",
          "CNN_SGD",
          "CNN_SGD",
          "CNN_SGD",
          "CNN_SGD",
          "CNN_SGD",
          "CNN_SGD",
          "CNN_SGD",
          "CNN_SGD_WD",
          "CNN_SGD_WD",
          "CNN_SGD_WD",
          "CNN_SGD_WD",
          "CNN_SGD_WD",
          "CNN_SGD_WD",
          "CNN_SGD_WD",
          "CNN_SGD_WD",
          "CNN_SGD_WD",
          "CNN_SGD_WD",
          "CNN_SGD_WD",
          "CNN_SGD_WD",
          "CNN_SGD_WD",
          "CNN_SGD_WD",
          "CNN_SGD_WD",
          "CNN_SGD_WD",
          "CNN_SGD_WD",
          "CNN_SGD_WD",
          "CNN_SGD_WD",
          "CNN_SGD_WD",
          "CNN_SGD_WD",
          "CNN_SGD_WD",
          "CNN_SGD_WD",
          "CNN_SGD_WD",
          "CNN_SGD_WD",
          "CNN_SGD_WD",
          "CNN_SGD_WD",
          "CNN_SGD_WD",
          "CNN_SGD_WD",
          "CNN_SGD_WD",
          "CNN_SGD_WD",
          "CNN_SGD_WD",
          "CNN_SGD_WD",
          "CNN_SGD_WD",
          "CNN_SGD_WD",
          "CNN_SGD_WD",
          "CNN_SGD_WD",
          "CNN_SGD_WD",
          "CNN_SGD_WD",
          "CNN_SGD_WD",
          "CNN_SGD_WD_AD",
          "CNN_SGD_WD_AD",
          "CNN_SGD_WD_AD",
          "CNN_SGD_WD_AD",
          "CNN_SGD_WD_AD",
          "CNN_SGD_WD_AD",
          "CNN_SGD_WD_AD",
          "CNN_SGD_WD_AD",
          "CNN_SGD_WD_AD",
          "CNN_SGD_WD_AD",
          "CNN_SGD_WD_AD",
          "CNN_SGD_WD_AD",
          "CNN_SGD_WD_AD",
          "CNN_SGD_WD_AD",
          "CNN_SGD_WD_AD",
          "CNN_SGD_WD_AD",
          "CNN_SGD_WD_AD",
          "CNN_SGD_WD_AD",
          "CNN_SGD_WD_AD",
          "CNN_SGD_WD_AD",
          "CNN_SGD_WD_AD",
          "CNN_SGD_WD_AD",
          "CNN_SGD_WD_AD",
          "CNN_SGD_WD_AD",
          "CNN_SGD_WD_AD",
          "CNN_SGD_WD_AD",
          "CNN_SGD_WD_AD",
          "CNN_SGD_WD_AD",
          "CNN_SGD_WD_AD",
          "CNN_SGD_WD_AD",
          "CNN_SGD_WD_AD",
          "CNN_SGD_WD_AD",
          "CNN_SGD_WD_AD",
          "CNN_SGD_WD_AD",
          "CNN_SGD_WD_AD",
          "CNN_SGD_WD_AD",
          "CNN_SGD_WD_AD",
          "CNN_SGD_WD_AD",
          "CNN_SGD_WD_AD",
          "CNN_SGD_WD_AD",
          "Parseval",
          "Parseval",
          "Parseval",
          "Parseval",
          "Parseval",
          "Parseval",
          "Parseval",
          "Parseval",
          "Parseval",
          "Parseval",
          "Parseval",
          "Parseval",
          "Parseval",
          "Parseval",
          "Parseval",
          "Parseval",
          "Parseval",
          "Parseval",
          "Parseval",
          "Parseval",
          "Parseval",
          "Parseval",
          "Parseval",
          "Parseval",
          "Parseval",
          "Parseval",
          "Parseval",
          "Parseval",
          "Parseval",
          "Parseval",
          "Parseval",
          "Parseval",
          "Parseval",
          "Parseval",
          "Parseval",
          "Parseval",
          "Parseval",
          "Parseval",
          "Parseval",
          "Parseval"
         ],
         "x0": " ",
         "xaxis": "x",
         "y": [
          0.71,
          0.71,
          0.7,
          0.68,
          0.67,
          0.66,
          0.65,
          0.64,
          0.63,
          0.62,
          0.61,
          0.6,
          0.59,
          0.58,
          0.57,
          0.56,
          0.55,
          0.54,
          0.53,
          0.52,
          0.5,
          0.49,
          0.48,
          0.47,
          0.46,
          0.45,
          0.44,
          0.43,
          0.43,
          0.42,
          0.41,
          0.4,
          0.39,
          0.39,
          0.38,
          0.37,
          0.36,
          0.35,
          0.34,
          0.34,
          0.7,
          0.7,
          0.7,
          0.7,
          0.69,
          0.69,
          0.68,
          0.68,
          0.68,
          0.67,
          0.67,
          0.67,
          0.66,
          0.66,
          0.65,
          0.65,
          0.65,
          0.64,
          0.64,
          0.63,
          0.63,
          0.62,
          0.62,
          0.62,
          0.61,
          0.61,
          0.6,
          0.6,
          0.59,
          0.59,
          0.58,
          0.58,
          0.58,
          0.57,
          0.57,
          0.57,
          0.56,
          0.56,
          0.55,
          0.55,
          0.7,
          0.7,
          0.7,
          0.7,
          0.69,
          0.69,
          0.69,
          0.69,
          0.68,
          0.68,
          0.68,
          0.68,
          0.67,
          0.67,
          0.67,
          0.67,
          0.67,
          0.66,
          0.66,
          0.66,
          0.65,
          0.65,
          0.65,
          0.64,
          0.64,
          0.63,
          0.63,
          0.63,
          0.63,
          0.62,
          0.62,
          0.62,
          0.62,
          0.61,
          0.61,
          0.6,
          0.6,
          0.6,
          0.6,
          0.59,
          0.7,
          0.7,
          0.69,
          0.69,
          0.69,
          0.68,
          0.68,
          0.68,
          0.68,
          0.67,
          0.67,
          0.67,
          0.67,
          0.66,
          0.66,
          0.65,
          0.65,
          0.65,
          0.64,
          0.64,
          0.64,
          0.63,
          0.63,
          0.63,
          0.62,
          0.62,
          0.62,
          0.61,
          0.61,
          0.61,
          0.6,
          0.6,
          0.6,
          0.59,
          0.59,
          0.59,
          0.58,
          0.58,
          0.58,
          0.57
         ],
         "y0": " ",
         "yaxis": "y"
        }
       ],
       "layout": {
        "boxmode": "group",
        "legend": {
         "tracegroupgap": 0
        },
        "margin": {
         "t": 60
        },
        "template": {
         "data": {
          "bar": [
           {
            "error_x": {
             "color": "#2a3f5f"
            },
            "error_y": {
             "color": "#2a3f5f"
            },
            "marker": {
             "line": {
              "color": "#E5ECF6",
              "width": 0.5
             }
            },
            "type": "bar"
           }
          ],
          "barpolar": [
           {
            "marker": {
             "line": {
              "color": "#E5ECF6",
              "width": 0.5
             }
            },
            "type": "barpolar"
           }
          ],
          "carpet": [
           {
            "aaxis": {
             "endlinecolor": "#2a3f5f",
             "gridcolor": "white",
             "linecolor": "white",
             "minorgridcolor": "white",
             "startlinecolor": "#2a3f5f"
            },
            "baxis": {
             "endlinecolor": "#2a3f5f",
             "gridcolor": "white",
             "linecolor": "white",
             "minorgridcolor": "white",
             "startlinecolor": "#2a3f5f"
            },
            "type": "carpet"
           }
          ],
          "choropleth": [
           {
            "colorbar": {
             "outlinewidth": 0,
             "ticks": ""
            },
            "type": "choropleth"
           }
          ],
          "contour": [
           {
            "colorbar": {
             "outlinewidth": 0,
             "ticks": ""
            },
            "colorscale": [
             [
              0,
              "#0d0887"
             ],
             [
              0.1111111111111111,
              "#46039f"
             ],
             [
              0.2222222222222222,
              "#7201a8"
             ],
             [
              0.3333333333333333,
              "#9c179e"
             ],
             [
              0.4444444444444444,
              "#bd3786"
             ],
             [
              0.5555555555555556,
              "#d8576b"
             ],
             [
              0.6666666666666666,
              "#ed7953"
             ],
             [
              0.7777777777777778,
              "#fb9f3a"
             ],
             [
              0.8888888888888888,
              "#fdca26"
             ],
             [
              1,
              "#f0f921"
             ]
            ],
            "type": "contour"
           }
          ],
          "contourcarpet": [
           {
            "colorbar": {
             "outlinewidth": 0,
             "ticks": ""
            },
            "type": "contourcarpet"
           }
          ],
          "heatmap": [
           {
            "colorbar": {
             "outlinewidth": 0,
             "ticks": ""
            },
            "colorscale": [
             [
              0,
              "#0d0887"
             ],
             [
              0.1111111111111111,
              "#46039f"
             ],
             [
              0.2222222222222222,
              "#7201a8"
             ],
             [
              0.3333333333333333,
              "#9c179e"
             ],
             [
              0.4444444444444444,
              "#bd3786"
             ],
             [
              0.5555555555555556,
              "#d8576b"
             ],
             [
              0.6666666666666666,
              "#ed7953"
             ],
             [
              0.7777777777777778,
              "#fb9f3a"
             ],
             [
              0.8888888888888888,
              "#fdca26"
             ],
             [
              1,
              "#f0f921"
             ]
            ],
            "type": "heatmap"
           }
          ],
          "heatmapgl": [
           {
            "colorbar": {
             "outlinewidth": 0,
             "ticks": ""
            },
            "colorscale": [
             [
              0,
              "#0d0887"
             ],
             [
              0.1111111111111111,
              "#46039f"
             ],
             [
              0.2222222222222222,
              "#7201a8"
             ],
             [
              0.3333333333333333,
              "#9c179e"
             ],
             [
              0.4444444444444444,
              "#bd3786"
             ],
             [
              0.5555555555555556,
              "#d8576b"
             ],
             [
              0.6666666666666666,
              "#ed7953"
             ],
             [
              0.7777777777777778,
              "#fb9f3a"
             ],
             [
              0.8888888888888888,
              "#fdca26"
             ],
             [
              1,
              "#f0f921"
             ]
            ],
            "type": "heatmapgl"
           }
          ],
          "histogram": [
           {
            "marker": {
             "colorbar": {
              "outlinewidth": 0,
              "ticks": ""
             }
            },
            "type": "histogram"
           }
          ],
          "histogram2d": [
           {
            "colorbar": {
             "outlinewidth": 0,
             "ticks": ""
            },
            "colorscale": [
             [
              0,
              "#0d0887"
             ],
             [
              0.1111111111111111,
              "#46039f"
             ],
             [
              0.2222222222222222,
              "#7201a8"
             ],
             [
              0.3333333333333333,
              "#9c179e"
             ],
             [
              0.4444444444444444,
              "#bd3786"
             ],
             [
              0.5555555555555556,
              "#d8576b"
             ],
             [
              0.6666666666666666,
              "#ed7953"
             ],
             [
              0.7777777777777778,
              "#fb9f3a"
             ],
             [
              0.8888888888888888,
              "#fdca26"
             ],
             [
              1,
              "#f0f921"
             ]
            ],
            "type": "histogram2d"
           }
          ],
          "histogram2dcontour": [
           {
            "colorbar": {
             "outlinewidth": 0,
             "ticks": ""
            },
            "colorscale": [
             [
              0,
              "#0d0887"
             ],
             [
              0.1111111111111111,
              "#46039f"
             ],
             [
              0.2222222222222222,
              "#7201a8"
             ],
             [
              0.3333333333333333,
              "#9c179e"
             ],
             [
              0.4444444444444444,
              "#bd3786"
             ],
             [
              0.5555555555555556,
              "#d8576b"
             ],
             [
              0.6666666666666666,
              "#ed7953"
             ],
             [
              0.7777777777777778,
              "#fb9f3a"
             ],
             [
              0.8888888888888888,
              "#fdca26"
             ],
             [
              1,
              "#f0f921"
             ]
            ],
            "type": "histogram2dcontour"
           }
          ],
          "mesh3d": [
           {
            "colorbar": {
             "outlinewidth": 0,
             "ticks": ""
            },
            "type": "mesh3d"
           }
          ],
          "parcoords": [
           {
            "line": {
             "colorbar": {
              "outlinewidth": 0,
              "ticks": ""
             }
            },
            "type": "parcoords"
           }
          ],
          "pie": [
           {
            "automargin": true,
            "type": "pie"
           }
          ],
          "scatter": [
           {
            "marker": {
             "colorbar": {
              "outlinewidth": 0,
              "ticks": ""
             }
            },
            "type": "scatter"
           }
          ],
          "scatter3d": [
           {
            "line": {
             "colorbar": {
              "outlinewidth": 0,
              "ticks": ""
             }
            },
            "marker": {
             "colorbar": {
              "outlinewidth": 0,
              "ticks": ""
             }
            },
            "type": "scatter3d"
           }
          ],
          "scattercarpet": [
           {
            "marker": {
             "colorbar": {
              "outlinewidth": 0,
              "ticks": ""
             }
            },
            "type": "scattercarpet"
           }
          ],
          "scattergeo": [
           {
            "marker": {
             "colorbar": {
              "outlinewidth": 0,
              "ticks": ""
             }
            },
            "type": "scattergeo"
           }
          ],
          "scattergl": [
           {
            "marker": {
             "colorbar": {
              "outlinewidth": 0,
              "ticks": ""
             }
            },
            "type": "scattergl"
           }
          ],
          "scattermapbox": [
           {
            "marker": {
             "colorbar": {
              "outlinewidth": 0,
              "ticks": ""
             }
            },
            "type": "scattermapbox"
           }
          ],
          "scatterpolar": [
           {
            "marker": {
             "colorbar": {
              "outlinewidth": 0,
              "ticks": ""
             }
            },
            "type": "scatterpolar"
           }
          ],
          "scatterpolargl": [
           {
            "marker": {
             "colorbar": {
              "outlinewidth": 0,
              "ticks": ""
             }
            },
            "type": "scatterpolargl"
           }
          ],
          "scatterternary": [
           {
            "marker": {
             "colorbar": {
              "outlinewidth": 0,
              "ticks": ""
             }
            },
            "type": "scatterternary"
           }
          ],
          "surface": [
           {
            "colorbar": {
             "outlinewidth": 0,
             "ticks": ""
            },
            "colorscale": [
             [
              0,
              "#0d0887"
             ],
             [
              0.1111111111111111,
              "#46039f"
             ],
             [
              0.2222222222222222,
              "#7201a8"
             ],
             [
              0.3333333333333333,
              "#9c179e"
             ],
             [
              0.4444444444444444,
              "#bd3786"
             ],
             [
              0.5555555555555556,
              "#d8576b"
             ],
             [
              0.6666666666666666,
              "#ed7953"
             ],
             [
              0.7777777777777778,
              "#fb9f3a"
             ],
             [
              0.8888888888888888,
              "#fdca26"
             ],
             [
              1,
              "#f0f921"
             ]
            ],
            "type": "surface"
           }
          ],
          "table": [
           {
            "cells": {
             "fill": {
              "color": "#EBF0F8"
             },
             "line": {
              "color": "white"
             }
            },
            "header": {
             "fill": {
              "color": "#C8D4E3"
             },
             "line": {
              "color": "white"
             }
            },
            "type": "table"
           }
          ]
         },
         "layout": {
          "annotationdefaults": {
           "arrowcolor": "#2a3f5f",
           "arrowhead": 0,
           "arrowwidth": 1
          },
          "autotypenumbers": "strict",
          "coloraxis": {
           "colorbar": {
            "outlinewidth": 0,
            "ticks": ""
           }
          },
          "colorscale": {
           "diverging": [
            [
             0,
             "#8e0152"
            ],
            [
             0.1,
             "#c51b7d"
            ],
            [
             0.2,
             "#de77ae"
            ],
            [
             0.3,
             "#f1b6da"
            ],
            [
             0.4,
             "#fde0ef"
            ],
            [
             0.5,
             "#f7f7f7"
            ],
            [
             0.6,
             "#e6f5d0"
            ],
            [
             0.7,
             "#b8e186"
            ],
            [
             0.8,
             "#7fbc41"
            ],
            [
             0.9,
             "#4d9221"
            ],
            [
             1,
             "#276419"
            ]
           ],
           "sequential": [
            [
             0,
             "#0d0887"
            ],
            [
             0.1111111111111111,
             "#46039f"
            ],
            [
             0.2222222222222222,
             "#7201a8"
            ],
            [
             0.3333333333333333,
             "#9c179e"
            ],
            [
             0.4444444444444444,
             "#bd3786"
            ],
            [
             0.5555555555555556,
             "#d8576b"
            ],
            [
             0.6666666666666666,
             "#ed7953"
            ],
            [
             0.7777777777777778,
             "#fb9f3a"
            ],
            [
             0.8888888888888888,
             "#fdca26"
            ],
            [
             1,
             "#f0f921"
            ]
           ],
           "sequentialminus": [
            [
             0,
             "#0d0887"
            ],
            [
             0.1111111111111111,
             "#46039f"
            ],
            [
             0.2222222222222222,
             "#7201a8"
            ],
            [
             0.3333333333333333,
             "#9c179e"
            ],
            [
             0.4444444444444444,
             "#bd3786"
            ],
            [
             0.5555555555555556,
             "#d8576b"
            ],
            [
             0.6666666666666666,
             "#ed7953"
            ],
            [
             0.7777777777777778,
             "#fb9f3a"
            ],
            [
             0.8888888888888888,
             "#fdca26"
            ],
            [
             1,
             "#f0f921"
            ]
           ]
          },
          "colorway": [
           "#636efa",
           "#EF553B",
           "#00cc96",
           "#ab63fa",
           "#FFA15A",
           "#19d3f3",
           "#FF6692",
           "#B6E880",
           "#FF97FF",
           "#FECB52"
          ],
          "font": {
           "color": "#2a3f5f"
          },
          "geo": {
           "bgcolor": "white",
           "lakecolor": "white",
           "landcolor": "#E5ECF6",
           "showlakes": true,
           "showland": true,
           "subunitcolor": "white"
          },
          "hoverlabel": {
           "align": "left"
          },
          "hovermode": "closest",
          "mapbox": {
           "style": "light"
          },
          "paper_bgcolor": "white",
          "plot_bgcolor": "#E5ECF6",
          "polar": {
           "angularaxis": {
            "gridcolor": "white",
            "linecolor": "white",
            "ticks": ""
           },
           "bgcolor": "#E5ECF6",
           "radialaxis": {
            "gridcolor": "white",
            "linecolor": "white",
            "ticks": ""
           }
          },
          "scene": {
           "xaxis": {
            "backgroundcolor": "#E5ECF6",
            "gridcolor": "white",
            "gridwidth": 2,
            "linecolor": "white",
            "showbackground": true,
            "ticks": "",
            "zerolinecolor": "white"
           },
           "yaxis": {
            "backgroundcolor": "#E5ECF6",
            "gridcolor": "white",
            "gridwidth": 2,
            "linecolor": "white",
            "showbackground": true,
            "ticks": "",
            "zerolinecolor": "white"
           },
           "zaxis": {
            "backgroundcolor": "#E5ECF6",
            "gridcolor": "white",
            "gridwidth": 2,
            "linecolor": "white",
            "showbackground": true,
            "ticks": "",
            "zerolinecolor": "white"
           }
          },
          "shapedefaults": {
           "line": {
            "color": "#2a3f5f"
           }
          },
          "ternary": {
           "aaxis": {
            "gridcolor": "white",
            "linecolor": "white",
            "ticks": ""
           },
           "baxis": {
            "gridcolor": "white",
            "linecolor": "white",
            "ticks": ""
           },
           "bgcolor": "#E5ECF6",
           "caxis": {
            "gridcolor": "white",
            "linecolor": "white",
            "ticks": ""
           }
          },
          "title": {
           "x": 0.05
          },
          "xaxis": {
           "automargin": true,
           "gridcolor": "white",
           "linecolor": "white",
           "ticks": "",
           "title": {
            "standoff": 15
           },
           "zerolinecolor": "white",
           "zerolinewidth": 2
          },
          "yaxis": {
           "automargin": true,
           "gridcolor": "white",
           "linecolor": "white",
           "ticks": "",
           "title": {
            "standoff": 15
           },
           "zerolinecolor": "white",
           "zerolinewidth": 2
          }
         }
        },
        "title": {
         "text": "The model accuracies against adversarial attacks between 28 and infinity SNR values."
        },
        "xaxis": {
         "anchor": "y",
         "domain": [
          0,
          1
         ],
         "title": {
          "text": "Model Names"
         }
        },
        "yaxis": {
         "anchor": "x",
         "domain": [
          0,
          1
         ],
         "title": {
          "text": "Accuracy"
         }
        }
       }
      },
      "text/html": [
       "<div>                            <div id=\"5c33e2f0-c503-4d0c-9f66-72d3957aa22b\" class=\"plotly-graph-div\" style=\"height:525px; width:100%;\"></div>            <script type=\"text/javascript\">                require([\"plotly\"], function(Plotly) {                    window.PLOTLYENV=window.PLOTLYENV || {};                                    if (document.getElementById(\"5c33e2f0-c503-4d0c-9f66-72d3957aa22b\")) {                    Plotly.newPlot(                        \"5c33e2f0-c503-4d0c-9f66-72d3957aa22b\",                        [{\"alignmentgroup\": \"True\", \"hovertemplate\": \"variable=%{x}<br>value=%{y}<extra></extra>\", \"legendgroup\": \"\", \"marker\": {\"color\": \"#636efa\"}, \"name\": \"\", \"notched\": false, \"offsetgroup\": \"\", \"orientation\": \"v\", \"showlegend\": false, \"type\": \"box\", \"x\": [\"CNN_SGD\", \"CNN_SGD\", \"CNN_SGD\", \"CNN_SGD\", \"CNN_SGD\", \"CNN_SGD\", \"CNN_SGD\", \"CNN_SGD\", \"CNN_SGD\", \"CNN_SGD\", \"CNN_SGD\", \"CNN_SGD\", \"CNN_SGD\", \"CNN_SGD\", \"CNN_SGD\", \"CNN_SGD\", \"CNN_SGD\", \"CNN_SGD\", \"CNN_SGD\", \"CNN_SGD\", \"CNN_SGD\", \"CNN_SGD\", \"CNN_SGD\", \"CNN_SGD\", \"CNN_SGD\", \"CNN_SGD\", \"CNN_SGD\", \"CNN_SGD\", \"CNN_SGD\", \"CNN_SGD\", \"CNN_SGD\", \"CNN_SGD\", \"CNN_SGD\", \"CNN_SGD\", \"CNN_SGD\", \"CNN_SGD\", \"CNN_SGD\", \"CNN_SGD\", \"CNN_SGD\", \"CNN_SGD\", \"CNN_SGD_WD\", \"CNN_SGD_WD\", \"CNN_SGD_WD\", \"CNN_SGD_WD\", \"CNN_SGD_WD\", \"CNN_SGD_WD\", \"CNN_SGD_WD\", \"CNN_SGD_WD\", \"CNN_SGD_WD\", \"CNN_SGD_WD\", \"CNN_SGD_WD\", \"CNN_SGD_WD\", \"CNN_SGD_WD\", \"CNN_SGD_WD\", \"CNN_SGD_WD\", \"CNN_SGD_WD\", \"CNN_SGD_WD\", \"CNN_SGD_WD\", \"CNN_SGD_WD\", \"CNN_SGD_WD\", \"CNN_SGD_WD\", \"CNN_SGD_WD\", \"CNN_SGD_WD\", \"CNN_SGD_WD\", \"CNN_SGD_WD\", \"CNN_SGD_WD\", \"CNN_SGD_WD\", \"CNN_SGD_WD\", \"CNN_SGD_WD\", \"CNN_SGD_WD\", \"CNN_SGD_WD\", \"CNN_SGD_WD\", \"CNN_SGD_WD\", \"CNN_SGD_WD\", \"CNN_SGD_WD\", \"CNN_SGD_WD\", \"CNN_SGD_WD\", \"CNN_SGD_WD\", \"CNN_SGD_WD\", \"CNN_SGD_WD\", \"CNN_SGD_WD_AD\", \"CNN_SGD_WD_AD\", \"CNN_SGD_WD_AD\", \"CNN_SGD_WD_AD\", \"CNN_SGD_WD_AD\", \"CNN_SGD_WD_AD\", \"CNN_SGD_WD_AD\", \"CNN_SGD_WD_AD\", \"CNN_SGD_WD_AD\", \"CNN_SGD_WD_AD\", \"CNN_SGD_WD_AD\", \"CNN_SGD_WD_AD\", \"CNN_SGD_WD_AD\", \"CNN_SGD_WD_AD\", \"CNN_SGD_WD_AD\", \"CNN_SGD_WD_AD\", \"CNN_SGD_WD_AD\", \"CNN_SGD_WD_AD\", \"CNN_SGD_WD_AD\", \"CNN_SGD_WD_AD\", \"CNN_SGD_WD_AD\", \"CNN_SGD_WD_AD\", \"CNN_SGD_WD_AD\", \"CNN_SGD_WD_AD\", \"CNN_SGD_WD_AD\", \"CNN_SGD_WD_AD\", \"CNN_SGD_WD_AD\", \"CNN_SGD_WD_AD\", \"CNN_SGD_WD_AD\", \"CNN_SGD_WD_AD\", \"CNN_SGD_WD_AD\", \"CNN_SGD_WD_AD\", \"CNN_SGD_WD_AD\", \"CNN_SGD_WD_AD\", \"CNN_SGD_WD_AD\", \"CNN_SGD_WD_AD\", \"CNN_SGD_WD_AD\", \"CNN_SGD_WD_AD\", \"CNN_SGD_WD_AD\", \"CNN_SGD_WD_AD\", \"Parseval\", \"Parseval\", \"Parseval\", \"Parseval\", \"Parseval\", \"Parseval\", \"Parseval\", \"Parseval\", \"Parseval\", \"Parseval\", \"Parseval\", \"Parseval\", \"Parseval\", \"Parseval\", \"Parseval\", \"Parseval\", \"Parseval\", \"Parseval\", \"Parseval\", \"Parseval\", \"Parseval\", \"Parseval\", \"Parseval\", \"Parseval\", \"Parseval\", \"Parseval\", \"Parseval\", \"Parseval\", \"Parseval\", \"Parseval\", \"Parseval\", \"Parseval\", \"Parseval\", \"Parseval\", \"Parseval\", \"Parseval\", \"Parseval\", \"Parseval\", \"Parseval\", \"Parseval\"], \"x0\": \" \", \"xaxis\": \"x\", \"y\": [0.71, 0.71, 0.7, 0.68, 0.67, 0.66, 0.65, 0.64, 0.63, 0.62, 0.61, 0.6, 0.59, 0.58, 0.57, 0.56, 0.55, 0.54, 0.53, 0.52, 0.5, 0.49, 0.48, 0.47, 0.46, 0.45, 0.44, 0.43, 0.43, 0.42, 0.41, 0.4, 0.39, 0.39, 0.38, 0.37, 0.36, 0.35, 0.34, 0.34, 0.7, 0.7, 0.7, 0.7, 0.69, 0.69, 0.68, 0.68, 0.68, 0.67, 0.67, 0.67, 0.66, 0.66, 0.65, 0.65, 0.65, 0.64, 0.64, 0.63, 0.63, 0.62, 0.62, 0.62, 0.61, 0.61, 0.6, 0.6, 0.59, 0.59, 0.58, 0.58, 0.58, 0.57, 0.57, 0.57, 0.56, 0.56, 0.55, 0.55, 0.7, 0.7, 0.7, 0.7, 0.69, 0.69, 0.69, 0.69, 0.68, 0.68, 0.68, 0.68, 0.67, 0.67, 0.67, 0.67, 0.67, 0.66, 0.66, 0.66, 0.65, 0.65, 0.65, 0.64, 0.64, 0.63, 0.63, 0.63, 0.63, 0.62, 0.62, 0.62, 0.62, 0.61, 0.61, 0.6, 0.6, 0.6, 0.6, 0.59, 0.7, 0.7, 0.69, 0.69, 0.69, 0.68, 0.68, 0.68, 0.68, 0.67, 0.67, 0.67, 0.67, 0.66, 0.66, 0.65, 0.65, 0.65, 0.64, 0.64, 0.64, 0.63, 0.63, 0.63, 0.62, 0.62, 0.62, 0.61, 0.61, 0.61, 0.6, 0.6, 0.6, 0.59, 0.59, 0.59, 0.58, 0.58, 0.58, 0.57], \"y0\": \" \", \"yaxis\": \"y\"}],                        {\"boxmode\": \"group\", \"legend\": {\"tracegroupgap\": 0}, \"margin\": {\"t\": 60}, \"template\": {\"data\": {\"bar\": [{\"error_x\": {\"color\": \"#2a3f5f\"}, \"error_y\": {\"color\": \"#2a3f5f\"}, \"marker\": {\"line\": {\"color\": \"#E5ECF6\", \"width\": 0.5}}, \"type\": \"bar\"}], \"barpolar\": [{\"marker\": {\"line\": {\"color\": \"#E5ECF6\", \"width\": 0.5}}, \"type\": \"barpolar\"}], \"carpet\": [{\"aaxis\": {\"endlinecolor\": \"#2a3f5f\", \"gridcolor\": \"white\", \"linecolor\": \"white\", \"minorgridcolor\": \"white\", \"startlinecolor\": \"#2a3f5f\"}, \"baxis\": {\"endlinecolor\": \"#2a3f5f\", \"gridcolor\": \"white\", \"linecolor\": \"white\", \"minorgridcolor\": \"white\", \"startlinecolor\": \"#2a3f5f\"}, \"type\": \"carpet\"}], \"choropleth\": [{\"colorbar\": {\"outlinewidth\": 0, \"ticks\": \"\"}, \"type\": \"choropleth\"}], \"contour\": [{\"colorbar\": {\"outlinewidth\": 0, \"ticks\": \"\"}, \"colorscale\": [[0.0, \"#0d0887\"], [0.1111111111111111, \"#46039f\"], [0.2222222222222222, \"#7201a8\"], [0.3333333333333333, \"#9c179e\"], [0.4444444444444444, \"#bd3786\"], [0.5555555555555556, \"#d8576b\"], [0.6666666666666666, \"#ed7953\"], [0.7777777777777778, \"#fb9f3a\"], [0.8888888888888888, \"#fdca26\"], [1.0, \"#f0f921\"]], \"type\": \"contour\"}], \"contourcarpet\": [{\"colorbar\": {\"outlinewidth\": 0, \"ticks\": \"\"}, \"type\": \"contourcarpet\"}], \"heatmap\": [{\"colorbar\": {\"outlinewidth\": 0, \"ticks\": \"\"}, \"colorscale\": [[0.0, \"#0d0887\"], [0.1111111111111111, \"#46039f\"], [0.2222222222222222, \"#7201a8\"], [0.3333333333333333, \"#9c179e\"], [0.4444444444444444, \"#bd3786\"], [0.5555555555555556, \"#d8576b\"], [0.6666666666666666, \"#ed7953\"], [0.7777777777777778, \"#fb9f3a\"], [0.8888888888888888, \"#fdca26\"], [1.0, \"#f0f921\"]], \"type\": \"heatmap\"}], \"heatmapgl\": [{\"colorbar\": {\"outlinewidth\": 0, \"ticks\": \"\"}, \"colorscale\": [[0.0, \"#0d0887\"], [0.1111111111111111, \"#46039f\"], [0.2222222222222222, \"#7201a8\"], [0.3333333333333333, \"#9c179e\"], [0.4444444444444444, \"#bd3786\"], [0.5555555555555556, \"#d8576b\"], [0.6666666666666666, \"#ed7953\"], [0.7777777777777778, \"#fb9f3a\"], [0.8888888888888888, \"#fdca26\"], [1.0, \"#f0f921\"]], \"type\": \"heatmapgl\"}], \"histogram\": [{\"marker\": {\"colorbar\": {\"outlinewidth\": 0, \"ticks\": \"\"}}, \"type\": \"histogram\"}], \"histogram2d\": [{\"colorbar\": {\"outlinewidth\": 0, \"ticks\": \"\"}, \"colorscale\": [[0.0, \"#0d0887\"], [0.1111111111111111, \"#46039f\"], [0.2222222222222222, \"#7201a8\"], [0.3333333333333333, \"#9c179e\"], [0.4444444444444444, \"#bd3786\"], [0.5555555555555556, \"#d8576b\"], [0.6666666666666666, \"#ed7953\"], [0.7777777777777778, \"#fb9f3a\"], [0.8888888888888888, \"#fdca26\"], [1.0, \"#f0f921\"]], \"type\": \"histogram2d\"}], \"histogram2dcontour\": [{\"colorbar\": {\"outlinewidth\": 0, \"ticks\": \"\"}, \"colorscale\": [[0.0, \"#0d0887\"], [0.1111111111111111, \"#46039f\"], [0.2222222222222222, \"#7201a8\"], [0.3333333333333333, \"#9c179e\"], [0.4444444444444444, \"#bd3786\"], [0.5555555555555556, \"#d8576b\"], [0.6666666666666666, \"#ed7953\"], [0.7777777777777778, \"#fb9f3a\"], [0.8888888888888888, \"#fdca26\"], [1.0, \"#f0f921\"]], \"type\": \"histogram2dcontour\"}], \"mesh3d\": [{\"colorbar\": {\"outlinewidth\": 0, \"ticks\": \"\"}, \"type\": \"mesh3d\"}], \"parcoords\": [{\"line\": {\"colorbar\": {\"outlinewidth\": 0, \"ticks\": \"\"}}, \"type\": \"parcoords\"}], \"pie\": [{\"automargin\": true, \"type\": \"pie\"}], \"scatter\": [{\"marker\": {\"colorbar\": {\"outlinewidth\": 0, \"ticks\": \"\"}}, \"type\": \"scatter\"}], \"scatter3d\": [{\"line\": {\"colorbar\": {\"outlinewidth\": 0, \"ticks\": \"\"}}, \"marker\": {\"colorbar\": {\"outlinewidth\": 0, \"ticks\": \"\"}}, \"type\": \"scatter3d\"}], \"scattercarpet\": [{\"marker\": {\"colorbar\": {\"outlinewidth\": 0, \"ticks\": \"\"}}, \"type\": \"scattercarpet\"}], \"scattergeo\": [{\"marker\": {\"colorbar\": {\"outlinewidth\": 0, \"ticks\": \"\"}}, \"type\": \"scattergeo\"}], \"scattergl\": [{\"marker\": {\"colorbar\": {\"outlinewidth\": 0, \"ticks\": \"\"}}, \"type\": \"scattergl\"}], \"scattermapbox\": [{\"marker\": {\"colorbar\": {\"outlinewidth\": 0, \"ticks\": \"\"}}, \"type\": \"scattermapbox\"}], \"scatterpolar\": [{\"marker\": {\"colorbar\": {\"outlinewidth\": 0, \"ticks\": \"\"}}, \"type\": \"scatterpolar\"}], \"scatterpolargl\": [{\"marker\": {\"colorbar\": {\"outlinewidth\": 0, \"ticks\": \"\"}}, \"type\": \"scatterpolargl\"}], \"scatterternary\": [{\"marker\": {\"colorbar\": {\"outlinewidth\": 0, \"ticks\": \"\"}}, \"type\": \"scatterternary\"}], \"surface\": [{\"colorbar\": {\"outlinewidth\": 0, \"ticks\": \"\"}, \"colorscale\": [[0.0, \"#0d0887\"], [0.1111111111111111, \"#46039f\"], [0.2222222222222222, \"#7201a8\"], [0.3333333333333333, \"#9c179e\"], [0.4444444444444444, \"#bd3786\"], [0.5555555555555556, \"#d8576b\"], [0.6666666666666666, \"#ed7953\"], [0.7777777777777778, \"#fb9f3a\"], [0.8888888888888888, \"#fdca26\"], [1.0, \"#f0f921\"]], \"type\": \"surface\"}], \"table\": [{\"cells\": {\"fill\": {\"color\": \"#EBF0F8\"}, \"line\": {\"color\": \"white\"}}, \"header\": {\"fill\": {\"color\": \"#C8D4E3\"}, \"line\": {\"color\": \"white\"}}, \"type\": \"table\"}]}, \"layout\": {\"annotationdefaults\": {\"arrowcolor\": \"#2a3f5f\", \"arrowhead\": 0, \"arrowwidth\": 1}, \"autotypenumbers\": \"strict\", \"coloraxis\": {\"colorbar\": {\"outlinewidth\": 0, \"ticks\": \"\"}}, \"colorscale\": {\"diverging\": [[0, \"#8e0152\"], [0.1, \"#c51b7d\"], [0.2, \"#de77ae\"], [0.3, \"#f1b6da\"], [0.4, \"#fde0ef\"], [0.5, \"#f7f7f7\"], [0.6, \"#e6f5d0\"], [0.7, \"#b8e186\"], [0.8, \"#7fbc41\"], [0.9, \"#4d9221\"], [1, \"#276419\"]], \"sequential\": [[0.0, \"#0d0887\"], [0.1111111111111111, \"#46039f\"], [0.2222222222222222, \"#7201a8\"], [0.3333333333333333, \"#9c179e\"], [0.4444444444444444, \"#bd3786\"], [0.5555555555555556, \"#d8576b\"], [0.6666666666666666, \"#ed7953\"], [0.7777777777777778, \"#fb9f3a\"], [0.8888888888888888, \"#fdca26\"], [1.0, \"#f0f921\"]], \"sequentialminus\": [[0.0, \"#0d0887\"], [0.1111111111111111, \"#46039f\"], [0.2222222222222222, \"#7201a8\"], [0.3333333333333333, \"#9c179e\"], [0.4444444444444444, \"#bd3786\"], [0.5555555555555556, \"#d8576b\"], [0.6666666666666666, \"#ed7953\"], [0.7777777777777778, \"#fb9f3a\"], [0.8888888888888888, \"#fdca26\"], [1.0, \"#f0f921\"]]}, \"colorway\": [\"#636efa\", \"#EF553B\", \"#00cc96\", \"#ab63fa\", \"#FFA15A\", \"#19d3f3\", \"#FF6692\", \"#B6E880\", \"#FF97FF\", \"#FECB52\"], \"font\": {\"color\": \"#2a3f5f\"}, \"geo\": {\"bgcolor\": \"white\", \"lakecolor\": \"white\", \"landcolor\": \"#E5ECF6\", \"showlakes\": true, \"showland\": true, \"subunitcolor\": \"white\"}, \"hoverlabel\": {\"align\": \"left\"}, \"hovermode\": \"closest\", \"mapbox\": {\"style\": \"light\"}, \"paper_bgcolor\": \"white\", \"plot_bgcolor\": \"#E5ECF6\", \"polar\": {\"angularaxis\": {\"gridcolor\": \"white\", \"linecolor\": \"white\", \"ticks\": \"\"}, \"bgcolor\": \"#E5ECF6\", \"radialaxis\": {\"gridcolor\": \"white\", \"linecolor\": \"white\", \"ticks\": \"\"}}, \"scene\": {\"xaxis\": {\"backgroundcolor\": \"#E5ECF6\", \"gridcolor\": \"white\", \"gridwidth\": 2, \"linecolor\": \"white\", \"showbackground\": true, \"ticks\": \"\", \"zerolinecolor\": \"white\"}, \"yaxis\": {\"backgroundcolor\": \"#E5ECF6\", \"gridcolor\": \"white\", \"gridwidth\": 2, \"linecolor\": \"white\", \"showbackground\": true, \"ticks\": \"\", \"zerolinecolor\": \"white\"}, \"zaxis\": {\"backgroundcolor\": \"#E5ECF6\", \"gridcolor\": \"white\", \"gridwidth\": 2, \"linecolor\": \"white\", \"showbackground\": true, \"ticks\": \"\", \"zerolinecolor\": \"white\"}}, \"shapedefaults\": {\"line\": {\"color\": \"#2a3f5f\"}}, \"ternary\": {\"aaxis\": {\"gridcolor\": \"white\", \"linecolor\": \"white\", \"ticks\": \"\"}, \"baxis\": {\"gridcolor\": \"white\", \"linecolor\": \"white\", \"ticks\": \"\"}, \"bgcolor\": \"#E5ECF6\", \"caxis\": {\"gridcolor\": \"white\", \"linecolor\": \"white\", \"ticks\": \"\"}}, \"title\": {\"x\": 0.05}, \"xaxis\": {\"automargin\": true, \"gridcolor\": \"white\", \"linecolor\": \"white\", \"ticks\": \"\", \"title\": {\"standoff\": 15}, \"zerolinecolor\": \"white\", \"zerolinewidth\": 2}, \"yaxis\": {\"automargin\": true, \"gridcolor\": \"white\", \"linecolor\": \"white\", \"ticks\": \"\", \"title\": {\"standoff\": 15}, \"zerolinecolor\": \"white\", \"zerolinewidth\": 2}}}, \"title\": {\"text\": \"The model accuracies against adversarial attacks between 28 and infinity SNR values.\"}, \"xaxis\": {\"anchor\": \"y\", \"domain\": [0.0, 1.0], \"title\": {\"text\": \"Model Names\"}}, \"yaxis\": {\"anchor\": \"x\", \"domain\": [0.0, 1.0], \"title\": {\"text\": \"Accuracy\"}}},                        {\"responsive\": true}                    ).then(function(){\n",
       "                            \n",
       "var gd = document.getElementById('5c33e2f0-c503-4d0c-9f66-72d3957aa22b');\n",
       "var x = new MutationObserver(function (mutations, observer) {{\n",
       "        var display = window.getComputedStyle(gd).display;\n",
       "        if (!display || display === 'none') {{\n",
       "            console.log([gd, 'removed!']);\n",
       "            Plotly.purge(gd);\n",
       "            observer.disconnect();\n",
       "        }}\n",
       "}});\n",
       "\n",
       "// Listen for the removal of the full notebook cells\n",
       "var notebookContainer = gd.closest('#notebook-container');\n",
       "if (notebookContainer) {{\n",
       "    x.observe(notebookContainer, {childList: true});\n",
       "}}\n",
       "\n",
       "// Listen for the clearing of the current output cell\n",
       "var outputEl = gd.closest('.output');\n",
       "if (outputEl) {{\n",
       "    x.observe(outputEl, {childList: true});\n",
       "}}\n",
       "\n",
       "                        })                };                });            </script>        </div>"
      ]
     },
     "metadata": {},
     "output_type": "display_data"
    }
   ],
   "source": [
    "import plotly.express as px\n",
    "df = px.data.tips()\n",
    "fig = px.box(cnn_results_df)\n",
    "fig.update_layout(\n",
    "    title=\"The model accuracies against adversarial attacks between 28 and infinity SNR values.\",\n",
    "    xaxis_title=\"Model Names\",\n",
    "    yaxis_title=\"Accuracy\"\n",
    ")\n",
    "fig.show()"
   ]
  },
  {
   "cell_type": "markdown",
   "metadata": {},
   "source": [
    "## WhiteBox Attacker for ResNet"
   ]
  },
  {
   "cell_type": "code",
   "execution_count": 41,
   "metadata": {},
   "outputs": [],
   "source": [
    "import json\n",
    "\n",
    "base_path = \"/Users/sefika/adversarial_examples_parseval_net/src/logs/SNR_Experiments/result_ResNet.json\"\n",
    "\n",
    "SNR = []\n",
    "mean_ResNet = []\n",
    "mean_ResNet_da = []\n",
    "mean_Parseval = []\n",
    "mean_Parseval_da = []\n",
    "f = open(base_path, \"r\")\n",
    "data = f.read()\n",
    "\n",
    "results = data.replace(\"{\",\"\").split(\"}\")\n",
    "\n",
    "for result in results:\n",
    "    data = result.split(\",\")\n",
    "    if len(data) != 1:\n",
    "        SNR.append(round(float(data[0].split(\":\")[-1]),3))\n",
    "        mean_ResNet.append(round(float(data[1].split(\":\")[-1]),3))\n",
    "        mean_ResNet_da.append(round(float(data[2].split(\":\")[-1]),3))\n",
    "        mean_Parseval.append(round(float(data[3].split(\":\")[-1]),3))\n",
    "        mean_Parseval_da.append(round(float(data[4].split(\":\")[-1]), 3))"
   ]
  },
  {
   "cell_type": "code",
   "execution_count": 42,
   "metadata": {},
   "outputs": [],
   "source": [
    "list_data = [mean_acc_sgd, mean_acc_sgd_wd, mean_acc_sgd_wd_da,mean_acc_parseval]\n",
    "\n",
    "\n",
    "resnet_results_df = pd.DataFrame()\n",
    "# cnn_results_df[\"SNR\"] = SNR\n",
    "resnet_results_df[\"ResNet\"] = mean_ResNet\n",
    "resnet_results_df[\"ResNet_AD\"] = mean_ResNet_da\n",
    "resnet_results_df[\"Parseval\"] = mean_Parseval\n",
    "resnet_results_df[\"Parseval_AD\"] = mean_Parseval_da"
   ]
  },
  {
   "cell_type": "code",
   "execution_count": 43,
   "metadata": {},
   "outputs": [
    {
     "data": {
      "application/vnd.plotly.v1+json": {
       "config": {
        "plotlyServerURL": "https://plot.ly"
       },
       "data": [
        {
         "alignmentgroup": "True",
         "hovertemplate": "variable=%{x}<br>value=%{y}<extra></extra>",
         "legendgroup": "",
         "marker": {
          "color": "#636efa"
         },
         "name": "",
         "notched": false,
         "offsetgroup": "",
         "orientation": "v",
         "showlegend": false,
         "type": "box",
         "x": [
          "ResNet",
          "ResNet",
          "ResNet",
          "ResNet",
          "ResNet",
          "ResNet",
          "ResNet",
          "ResNet",
          "ResNet",
          "ResNet",
          "ResNet",
          "ResNet",
          "ResNet",
          "ResNet",
          "ResNet",
          "ResNet",
          "ResNet",
          "ResNet",
          "ResNet",
          "ResNet",
          "ResNet",
          "ResNet",
          "ResNet",
          "ResNet",
          "ResNet",
          "ResNet",
          "ResNet",
          "ResNet",
          "ResNet",
          "ResNet",
          "ResNet",
          "ResNet",
          "ResNet",
          "ResNet",
          "ResNet",
          "ResNet",
          "ResNet",
          "ResNet",
          "ResNet",
          "ResNet",
          "ResNet_AD",
          "ResNet_AD",
          "ResNet_AD",
          "ResNet_AD",
          "ResNet_AD",
          "ResNet_AD",
          "ResNet_AD",
          "ResNet_AD",
          "ResNet_AD",
          "ResNet_AD",
          "ResNet_AD",
          "ResNet_AD",
          "ResNet_AD",
          "ResNet_AD",
          "ResNet_AD",
          "ResNet_AD",
          "ResNet_AD",
          "ResNet_AD",
          "ResNet_AD",
          "ResNet_AD",
          "ResNet_AD",
          "ResNet_AD",
          "ResNet_AD",
          "ResNet_AD",
          "ResNet_AD",
          "ResNet_AD",
          "ResNet_AD",
          "ResNet_AD",
          "ResNet_AD",
          "ResNet_AD",
          "ResNet_AD",
          "ResNet_AD",
          "ResNet_AD",
          "ResNet_AD",
          "ResNet_AD",
          "ResNet_AD",
          "ResNet_AD",
          "ResNet_AD",
          "ResNet_AD",
          "ResNet_AD",
          "Parseval",
          "Parseval",
          "Parseval",
          "Parseval",
          "Parseval",
          "Parseval",
          "Parseval",
          "Parseval",
          "Parseval",
          "Parseval",
          "Parseval",
          "Parseval",
          "Parseval",
          "Parseval",
          "Parseval",
          "Parseval",
          "Parseval",
          "Parseval",
          "Parseval",
          "Parseval",
          "Parseval",
          "Parseval",
          "Parseval",
          "Parseval",
          "Parseval",
          "Parseval",
          "Parseval",
          "Parseval",
          "Parseval",
          "Parseval",
          "Parseval",
          "Parseval",
          "Parseval",
          "Parseval",
          "Parseval",
          "Parseval",
          "Parseval",
          "Parseval",
          "Parseval",
          "Parseval",
          "Parseval_AD",
          "Parseval_AD",
          "Parseval_AD",
          "Parseval_AD",
          "Parseval_AD",
          "Parseval_AD",
          "Parseval_AD",
          "Parseval_AD",
          "Parseval_AD",
          "Parseval_AD",
          "Parseval_AD",
          "Parseval_AD",
          "Parseval_AD",
          "Parseval_AD",
          "Parseval_AD",
          "Parseval_AD",
          "Parseval_AD",
          "Parseval_AD",
          "Parseval_AD",
          "Parseval_AD",
          "Parseval_AD",
          "Parseval_AD",
          "Parseval_AD",
          "Parseval_AD",
          "Parseval_AD",
          "Parseval_AD",
          "Parseval_AD",
          "Parseval_AD",
          "Parseval_AD",
          "Parseval_AD",
          "Parseval_AD",
          "Parseval_AD",
          "Parseval_AD",
          "Parseval_AD",
          "Parseval_AD",
          "Parseval_AD",
          "Parseval_AD",
          "Parseval_AD",
          "Parseval_AD",
          "Parseval_AD"
         ],
         "x0": " ",
         "xaxis": "x",
         "y": [
          0.696,
          0.682,
          0.666,
          0.652,
          0.637,
          0.623,
          0.611,
          0.597,
          0.579,
          0.563,
          0.546,
          0.535,
          0.52,
          0.504,
          0.489,
          0.476,
          0.464,
          0.449,
          0.434,
          0.42,
          0.408,
          0.396,
          0.387,
          0.378,
          0.367,
          0.354,
          0.344,
          0.333,
          0.324,
          0.314,
          0.307,
          0.299,
          0.292,
          0.286,
          0.278,
          0.27,
          0.261,
          0.256,
          0.249,
          0.242,
          0.692,
          0.689,
          0.688,
          0.685,
          0.684,
          0.682,
          0.681,
          0.679,
          0.676,
          0.675,
          0.673,
          0.671,
          0.668,
          0.666,
          0.664,
          0.662,
          0.661,
          0.659,
          0.657,
          0.655,
          0.654,
          0.651,
          0.649,
          0.647,
          0.645,
          0.644,
          0.642,
          0.641,
          0.638,
          0.636,
          0.635,
          0.632,
          0.629,
          0.627,
          0.624,
          0.622,
          0.62,
          0.617,
          0.616,
          0.614,
          0.714,
          0.696,
          0.679,
          0.665,
          0.646,
          0.629,
          0.612,
          0.597,
          0.578,
          0.562,
          0.547,
          0.533,
          0.519,
          0.506,
          0.492,
          0.478,
          0.464,
          0.453,
          0.44,
          0.426,
          0.414,
          0.399,
          0.39,
          0.381,
          0.369,
          0.36,
          0.351,
          0.341,
          0.331,
          0.322,
          0.314,
          0.305,
          0.296,
          0.287,
          0.279,
          0.27,
          0.263,
          0.257,
          0.25,
          0.243,
          0.703,
          0.701,
          0.699,
          0.697,
          0.696,
          0.694,
          0.692,
          0.691,
          0.688,
          0.687,
          0.684,
          0.683,
          0.68,
          0.679,
          0.677,
          0.675,
          0.674,
          0.672,
          0.67,
          0.668,
          0.666,
          0.665,
          0.662,
          0.66,
          0.658,
          0.655,
          0.653,
          0.652,
          0.65,
          0.649,
          0.646,
          0.643,
          0.641,
          0.639,
          0.636,
          0.634,
          0.633,
          0.631,
          0.628,
          0.626
         ],
         "y0": " ",
         "yaxis": "y"
        }
       ],
       "layout": {
        "boxmode": "group",
        "legend": {
         "tracegroupgap": 0
        },
        "margin": {
         "t": 60
        },
        "template": {
         "data": {
          "bar": [
           {
            "error_x": {
             "color": "#2a3f5f"
            },
            "error_y": {
             "color": "#2a3f5f"
            },
            "marker": {
             "line": {
              "color": "#E5ECF6",
              "width": 0.5
             }
            },
            "type": "bar"
           }
          ],
          "barpolar": [
           {
            "marker": {
             "line": {
              "color": "#E5ECF6",
              "width": 0.5
             }
            },
            "type": "barpolar"
           }
          ],
          "carpet": [
           {
            "aaxis": {
             "endlinecolor": "#2a3f5f",
             "gridcolor": "white",
             "linecolor": "white",
             "minorgridcolor": "white",
             "startlinecolor": "#2a3f5f"
            },
            "baxis": {
             "endlinecolor": "#2a3f5f",
             "gridcolor": "white",
             "linecolor": "white",
             "minorgridcolor": "white",
             "startlinecolor": "#2a3f5f"
            },
            "type": "carpet"
           }
          ],
          "choropleth": [
           {
            "colorbar": {
             "outlinewidth": 0,
             "ticks": ""
            },
            "type": "choropleth"
           }
          ],
          "contour": [
           {
            "colorbar": {
             "outlinewidth": 0,
             "ticks": ""
            },
            "colorscale": [
             [
              0,
              "#0d0887"
             ],
             [
              0.1111111111111111,
              "#46039f"
             ],
             [
              0.2222222222222222,
              "#7201a8"
             ],
             [
              0.3333333333333333,
              "#9c179e"
             ],
             [
              0.4444444444444444,
              "#bd3786"
             ],
             [
              0.5555555555555556,
              "#d8576b"
             ],
             [
              0.6666666666666666,
              "#ed7953"
             ],
             [
              0.7777777777777778,
              "#fb9f3a"
             ],
             [
              0.8888888888888888,
              "#fdca26"
             ],
             [
              1,
              "#f0f921"
             ]
            ],
            "type": "contour"
           }
          ],
          "contourcarpet": [
           {
            "colorbar": {
             "outlinewidth": 0,
             "ticks": ""
            },
            "type": "contourcarpet"
           }
          ],
          "heatmap": [
           {
            "colorbar": {
             "outlinewidth": 0,
             "ticks": ""
            },
            "colorscale": [
             [
              0,
              "#0d0887"
             ],
             [
              0.1111111111111111,
              "#46039f"
             ],
             [
              0.2222222222222222,
              "#7201a8"
             ],
             [
              0.3333333333333333,
              "#9c179e"
             ],
             [
              0.4444444444444444,
              "#bd3786"
             ],
             [
              0.5555555555555556,
              "#d8576b"
             ],
             [
              0.6666666666666666,
              "#ed7953"
             ],
             [
              0.7777777777777778,
              "#fb9f3a"
             ],
             [
              0.8888888888888888,
              "#fdca26"
             ],
             [
              1,
              "#f0f921"
             ]
            ],
            "type": "heatmap"
           }
          ],
          "heatmapgl": [
           {
            "colorbar": {
             "outlinewidth": 0,
             "ticks": ""
            },
            "colorscale": [
             [
              0,
              "#0d0887"
             ],
             [
              0.1111111111111111,
              "#46039f"
             ],
             [
              0.2222222222222222,
              "#7201a8"
             ],
             [
              0.3333333333333333,
              "#9c179e"
             ],
             [
              0.4444444444444444,
              "#bd3786"
             ],
             [
              0.5555555555555556,
              "#d8576b"
             ],
             [
              0.6666666666666666,
              "#ed7953"
             ],
             [
              0.7777777777777778,
              "#fb9f3a"
             ],
             [
              0.8888888888888888,
              "#fdca26"
             ],
             [
              1,
              "#f0f921"
             ]
            ],
            "type": "heatmapgl"
           }
          ],
          "histogram": [
           {
            "marker": {
             "colorbar": {
              "outlinewidth": 0,
              "ticks": ""
             }
            },
            "type": "histogram"
           }
          ],
          "histogram2d": [
           {
            "colorbar": {
             "outlinewidth": 0,
             "ticks": ""
            },
            "colorscale": [
             [
              0,
              "#0d0887"
             ],
             [
              0.1111111111111111,
              "#46039f"
             ],
             [
              0.2222222222222222,
              "#7201a8"
             ],
             [
              0.3333333333333333,
              "#9c179e"
             ],
             [
              0.4444444444444444,
              "#bd3786"
             ],
             [
              0.5555555555555556,
              "#d8576b"
             ],
             [
              0.6666666666666666,
              "#ed7953"
             ],
             [
              0.7777777777777778,
              "#fb9f3a"
             ],
             [
              0.8888888888888888,
              "#fdca26"
             ],
             [
              1,
              "#f0f921"
             ]
            ],
            "type": "histogram2d"
           }
          ],
          "histogram2dcontour": [
           {
            "colorbar": {
             "outlinewidth": 0,
             "ticks": ""
            },
            "colorscale": [
             [
              0,
              "#0d0887"
             ],
             [
              0.1111111111111111,
              "#46039f"
             ],
             [
              0.2222222222222222,
              "#7201a8"
             ],
             [
              0.3333333333333333,
              "#9c179e"
             ],
             [
              0.4444444444444444,
              "#bd3786"
             ],
             [
              0.5555555555555556,
              "#d8576b"
             ],
             [
              0.6666666666666666,
              "#ed7953"
             ],
             [
              0.7777777777777778,
              "#fb9f3a"
             ],
             [
              0.8888888888888888,
              "#fdca26"
             ],
             [
              1,
              "#f0f921"
             ]
            ],
            "type": "histogram2dcontour"
           }
          ],
          "mesh3d": [
           {
            "colorbar": {
             "outlinewidth": 0,
             "ticks": ""
            },
            "type": "mesh3d"
           }
          ],
          "parcoords": [
           {
            "line": {
             "colorbar": {
              "outlinewidth": 0,
              "ticks": ""
             }
            },
            "type": "parcoords"
           }
          ],
          "pie": [
           {
            "automargin": true,
            "type": "pie"
           }
          ],
          "scatter": [
           {
            "marker": {
             "colorbar": {
              "outlinewidth": 0,
              "ticks": ""
             }
            },
            "type": "scatter"
           }
          ],
          "scatter3d": [
           {
            "line": {
             "colorbar": {
              "outlinewidth": 0,
              "ticks": ""
             }
            },
            "marker": {
             "colorbar": {
              "outlinewidth": 0,
              "ticks": ""
             }
            },
            "type": "scatter3d"
           }
          ],
          "scattercarpet": [
           {
            "marker": {
             "colorbar": {
              "outlinewidth": 0,
              "ticks": ""
             }
            },
            "type": "scattercarpet"
           }
          ],
          "scattergeo": [
           {
            "marker": {
             "colorbar": {
              "outlinewidth": 0,
              "ticks": ""
             }
            },
            "type": "scattergeo"
           }
          ],
          "scattergl": [
           {
            "marker": {
             "colorbar": {
              "outlinewidth": 0,
              "ticks": ""
             }
            },
            "type": "scattergl"
           }
          ],
          "scattermapbox": [
           {
            "marker": {
             "colorbar": {
              "outlinewidth": 0,
              "ticks": ""
             }
            },
            "type": "scattermapbox"
           }
          ],
          "scatterpolar": [
           {
            "marker": {
             "colorbar": {
              "outlinewidth": 0,
              "ticks": ""
             }
            },
            "type": "scatterpolar"
           }
          ],
          "scatterpolargl": [
           {
            "marker": {
             "colorbar": {
              "outlinewidth": 0,
              "ticks": ""
             }
            },
            "type": "scatterpolargl"
           }
          ],
          "scatterternary": [
           {
            "marker": {
             "colorbar": {
              "outlinewidth": 0,
              "ticks": ""
             }
            },
            "type": "scatterternary"
           }
          ],
          "surface": [
           {
            "colorbar": {
             "outlinewidth": 0,
             "ticks": ""
            },
            "colorscale": [
             [
              0,
              "#0d0887"
             ],
             [
              0.1111111111111111,
              "#46039f"
             ],
             [
              0.2222222222222222,
              "#7201a8"
             ],
             [
              0.3333333333333333,
              "#9c179e"
             ],
             [
              0.4444444444444444,
              "#bd3786"
             ],
             [
              0.5555555555555556,
              "#d8576b"
             ],
             [
              0.6666666666666666,
              "#ed7953"
             ],
             [
              0.7777777777777778,
              "#fb9f3a"
             ],
             [
              0.8888888888888888,
              "#fdca26"
             ],
             [
              1,
              "#f0f921"
             ]
            ],
            "type": "surface"
           }
          ],
          "table": [
           {
            "cells": {
             "fill": {
              "color": "#EBF0F8"
             },
             "line": {
              "color": "white"
             }
            },
            "header": {
             "fill": {
              "color": "#C8D4E3"
             },
             "line": {
              "color": "white"
             }
            },
            "type": "table"
           }
          ]
         },
         "layout": {
          "annotationdefaults": {
           "arrowcolor": "#2a3f5f",
           "arrowhead": 0,
           "arrowwidth": 1
          },
          "autotypenumbers": "strict",
          "coloraxis": {
           "colorbar": {
            "outlinewidth": 0,
            "ticks": ""
           }
          },
          "colorscale": {
           "diverging": [
            [
             0,
             "#8e0152"
            ],
            [
             0.1,
             "#c51b7d"
            ],
            [
             0.2,
             "#de77ae"
            ],
            [
             0.3,
             "#f1b6da"
            ],
            [
             0.4,
             "#fde0ef"
            ],
            [
             0.5,
             "#f7f7f7"
            ],
            [
             0.6,
             "#e6f5d0"
            ],
            [
             0.7,
             "#b8e186"
            ],
            [
             0.8,
             "#7fbc41"
            ],
            [
             0.9,
             "#4d9221"
            ],
            [
             1,
             "#276419"
            ]
           ],
           "sequential": [
            [
             0,
             "#0d0887"
            ],
            [
             0.1111111111111111,
             "#46039f"
            ],
            [
             0.2222222222222222,
             "#7201a8"
            ],
            [
             0.3333333333333333,
             "#9c179e"
            ],
            [
             0.4444444444444444,
             "#bd3786"
            ],
            [
             0.5555555555555556,
             "#d8576b"
            ],
            [
             0.6666666666666666,
             "#ed7953"
            ],
            [
             0.7777777777777778,
             "#fb9f3a"
            ],
            [
             0.8888888888888888,
             "#fdca26"
            ],
            [
             1,
             "#f0f921"
            ]
           ],
           "sequentialminus": [
            [
             0,
             "#0d0887"
            ],
            [
             0.1111111111111111,
             "#46039f"
            ],
            [
             0.2222222222222222,
             "#7201a8"
            ],
            [
             0.3333333333333333,
             "#9c179e"
            ],
            [
             0.4444444444444444,
             "#bd3786"
            ],
            [
             0.5555555555555556,
             "#d8576b"
            ],
            [
             0.6666666666666666,
             "#ed7953"
            ],
            [
             0.7777777777777778,
             "#fb9f3a"
            ],
            [
             0.8888888888888888,
             "#fdca26"
            ],
            [
             1,
             "#f0f921"
            ]
           ]
          },
          "colorway": [
           "#636efa",
           "#EF553B",
           "#00cc96",
           "#ab63fa",
           "#FFA15A",
           "#19d3f3",
           "#FF6692",
           "#B6E880",
           "#FF97FF",
           "#FECB52"
          ],
          "font": {
           "color": "#2a3f5f"
          },
          "geo": {
           "bgcolor": "white",
           "lakecolor": "white",
           "landcolor": "#E5ECF6",
           "showlakes": true,
           "showland": true,
           "subunitcolor": "white"
          },
          "hoverlabel": {
           "align": "left"
          },
          "hovermode": "closest",
          "mapbox": {
           "style": "light"
          },
          "paper_bgcolor": "white",
          "plot_bgcolor": "#E5ECF6",
          "polar": {
           "angularaxis": {
            "gridcolor": "white",
            "linecolor": "white",
            "ticks": ""
           },
           "bgcolor": "#E5ECF6",
           "radialaxis": {
            "gridcolor": "white",
            "linecolor": "white",
            "ticks": ""
           }
          },
          "scene": {
           "xaxis": {
            "backgroundcolor": "#E5ECF6",
            "gridcolor": "white",
            "gridwidth": 2,
            "linecolor": "white",
            "showbackground": true,
            "ticks": "",
            "zerolinecolor": "white"
           },
           "yaxis": {
            "backgroundcolor": "#E5ECF6",
            "gridcolor": "white",
            "gridwidth": 2,
            "linecolor": "white",
            "showbackground": true,
            "ticks": "",
            "zerolinecolor": "white"
           },
           "zaxis": {
            "backgroundcolor": "#E5ECF6",
            "gridcolor": "white",
            "gridwidth": 2,
            "linecolor": "white",
            "showbackground": true,
            "ticks": "",
            "zerolinecolor": "white"
           }
          },
          "shapedefaults": {
           "line": {
            "color": "#2a3f5f"
           }
          },
          "ternary": {
           "aaxis": {
            "gridcolor": "white",
            "linecolor": "white",
            "ticks": ""
           },
           "baxis": {
            "gridcolor": "white",
            "linecolor": "white",
            "ticks": ""
           },
           "bgcolor": "#E5ECF6",
           "caxis": {
            "gridcolor": "white",
            "linecolor": "white",
            "ticks": ""
           }
          },
          "title": {
           "x": 0.05
          },
          "xaxis": {
           "automargin": true,
           "gridcolor": "white",
           "linecolor": "white",
           "ticks": "",
           "title": {
            "standoff": 15
           },
           "zerolinecolor": "white",
           "zerolinewidth": 2
          },
          "yaxis": {
           "automargin": true,
           "gridcolor": "white",
           "linecolor": "white",
           "ticks": "",
           "title": {
            "standoff": 15
           },
           "zerolinecolor": "white",
           "zerolinewidth": 2
          }
         }
        },
        "title": {
         "text": "The model accuracies against adversarial attacks between 28 and infinity SNR values."
        },
        "xaxis": {
         "anchor": "y",
         "domain": [
          0,
          1
         ],
         "title": {
          "text": "Model Names"
         }
        },
        "yaxis": {
         "anchor": "x",
         "domain": [
          0,
          1
         ],
         "title": {
          "text": "Accuracy"
         }
        }
       }
      },
      "text/html": [
       "<div>                            <div id=\"eb1830d6-e025-4e44-830d-a9414c247463\" class=\"plotly-graph-div\" style=\"height:525px; width:100%;\"></div>            <script type=\"text/javascript\">                require([\"plotly\"], function(Plotly) {                    window.PLOTLYENV=window.PLOTLYENV || {};                                    if (document.getElementById(\"eb1830d6-e025-4e44-830d-a9414c247463\")) {                    Plotly.newPlot(                        \"eb1830d6-e025-4e44-830d-a9414c247463\",                        [{\"alignmentgroup\": \"True\", \"hovertemplate\": \"variable=%{x}<br>value=%{y}<extra></extra>\", \"legendgroup\": \"\", \"marker\": {\"color\": \"#636efa\"}, \"name\": \"\", \"notched\": false, \"offsetgroup\": \"\", \"orientation\": \"v\", \"showlegend\": false, \"type\": \"box\", \"x\": [\"ResNet\", \"ResNet\", \"ResNet\", \"ResNet\", \"ResNet\", \"ResNet\", \"ResNet\", \"ResNet\", \"ResNet\", \"ResNet\", \"ResNet\", \"ResNet\", \"ResNet\", \"ResNet\", \"ResNet\", \"ResNet\", \"ResNet\", \"ResNet\", \"ResNet\", \"ResNet\", \"ResNet\", \"ResNet\", \"ResNet\", \"ResNet\", \"ResNet\", \"ResNet\", \"ResNet\", \"ResNet\", \"ResNet\", \"ResNet\", \"ResNet\", \"ResNet\", \"ResNet\", \"ResNet\", \"ResNet\", \"ResNet\", \"ResNet\", \"ResNet\", \"ResNet\", \"ResNet\", \"ResNet_AD\", \"ResNet_AD\", \"ResNet_AD\", \"ResNet_AD\", \"ResNet_AD\", \"ResNet_AD\", \"ResNet_AD\", \"ResNet_AD\", \"ResNet_AD\", \"ResNet_AD\", \"ResNet_AD\", \"ResNet_AD\", \"ResNet_AD\", \"ResNet_AD\", \"ResNet_AD\", \"ResNet_AD\", \"ResNet_AD\", \"ResNet_AD\", \"ResNet_AD\", \"ResNet_AD\", \"ResNet_AD\", \"ResNet_AD\", \"ResNet_AD\", \"ResNet_AD\", \"ResNet_AD\", \"ResNet_AD\", \"ResNet_AD\", \"ResNet_AD\", \"ResNet_AD\", \"ResNet_AD\", \"ResNet_AD\", \"ResNet_AD\", \"ResNet_AD\", \"ResNet_AD\", \"ResNet_AD\", \"ResNet_AD\", \"ResNet_AD\", \"ResNet_AD\", \"ResNet_AD\", \"ResNet_AD\", \"Parseval\", \"Parseval\", \"Parseval\", \"Parseval\", \"Parseval\", \"Parseval\", \"Parseval\", \"Parseval\", \"Parseval\", \"Parseval\", \"Parseval\", \"Parseval\", \"Parseval\", \"Parseval\", \"Parseval\", \"Parseval\", \"Parseval\", \"Parseval\", \"Parseval\", \"Parseval\", \"Parseval\", \"Parseval\", \"Parseval\", \"Parseval\", \"Parseval\", \"Parseval\", \"Parseval\", \"Parseval\", \"Parseval\", \"Parseval\", \"Parseval\", \"Parseval\", \"Parseval\", \"Parseval\", \"Parseval\", \"Parseval\", \"Parseval\", \"Parseval\", \"Parseval\", \"Parseval\", \"Parseval_AD\", \"Parseval_AD\", \"Parseval_AD\", \"Parseval_AD\", \"Parseval_AD\", \"Parseval_AD\", \"Parseval_AD\", \"Parseval_AD\", \"Parseval_AD\", \"Parseval_AD\", \"Parseval_AD\", \"Parseval_AD\", \"Parseval_AD\", \"Parseval_AD\", \"Parseval_AD\", \"Parseval_AD\", \"Parseval_AD\", \"Parseval_AD\", \"Parseval_AD\", \"Parseval_AD\", \"Parseval_AD\", \"Parseval_AD\", \"Parseval_AD\", \"Parseval_AD\", \"Parseval_AD\", \"Parseval_AD\", \"Parseval_AD\", \"Parseval_AD\", \"Parseval_AD\", \"Parseval_AD\", \"Parseval_AD\", \"Parseval_AD\", \"Parseval_AD\", \"Parseval_AD\", \"Parseval_AD\", \"Parseval_AD\", \"Parseval_AD\", \"Parseval_AD\", \"Parseval_AD\", \"Parseval_AD\"], \"x0\": \" \", \"xaxis\": \"x\", \"y\": [0.696, 0.682, 0.666, 0.652, 0.637, 0.623, 0.611, 0.597, 0.579, 0.563, 0.546, 0.535, 0.52, 0.504, 0.489, 0.476, 0.464, 0.449, 0.434, 0.42, 0.408, 0.396, 0.387, 0.378, 0.367, 0.354, 0.344, 0.333, 0.324, 0.314, 0.307, 0.299, 0.292, 0.286, 0.278, 0.27, 0.261, 0.256, 0.249, 0.242, 0.692, 0.689, 0.688, 0.685, 0.684, 0.682, 0.681, 0.679, 0.676, 0.675, 0.673, 0.671, 0.668, 0.666, 0.664, 0.662, 0.661, 0.659, 0.657, 0.655, 0.654, 0.651, 0.649, 0.647, 0.645, 0.644, 0.642, 0.641, 0.638, 0.636, 0.635, 0.632, 0.629, 0.627, 0.624, 0.622, 0.62, 0.617, 0.616, 0.614, 0.714, 0.696, 0.679, 0.665, 0.646, 0.629, 0.612, 0.597, 0.578, 0.562, 0.547, 0.533, 0.519, 0.506, 0.492, 0.478, 0.464, 0.453, 0.44, 0.426, 0.414, 0.399, 0.39, 0.381, 0.369, 0.36, 0.351, 0.341, 0.331, 0.322, 0.314, 0.305, 0.296, 0.287, 0.279, 0.27, 0.263, 0.257, 0.25, 0.243, 0.703, 0.701, 0.699, 0.697, 0.696, 0.694, 0.692, 0.691, 0.688, 0.687, 0.684, 0.683, 0.68, 0.679, 0.677, 0.675, 0.674, 0.672, 0.67, 0.668, 0.666, 0.665, 0.662, 0.66, 0.658, 0.655, 0.653, 0.652, 0.65, 0.649, 0.646, 0.643, 0.641, 0.639, 0.636, 0.634, 0.633, 0.631, 0.628, 0.626], \"y0\": \" \", \"yaxis\": \"y\"}],                        {\"boxmode\": \"group\", \"legend\": {\"tracegroupgap\": 0}, \"margin\": {\"t\": 60}, \"template\": {\"data\": {\"bar\": [{\"error_x\": {\"color\": \"#2a3f5f\"}, \"error_y\": {\"color\": \"#2a3f5f\"}, \"marker\": {\"line\": {\"color\": \"#E5ECF6\", \"width\": 0.5}}, \"type\": \"bar\"}], \"barpolar\": [{\"marker\": {\"line\": {\"color\": \"#E5ECF6\", \"width\": 0.5}}, \"type\": \"barpolar\"}], \"carpet\": [{\"aaxis\": {\"endlinecolor\": \"#2a3f5f\", \"gridcolor\": \"white\", \"linecolor\": \"white\", \"minorgridcolor\": \"white\", \"startlinecolor\": \"#2a3f5f\"}, \"baxis\": {\"endlinecolor\": \"#2a3f5f\", \"gridcolor\": \"white\", \"linecolor\": \"white\", \"minorgridcolor\": \"white\", \"startlinecolor\": \"#2a3f5f\"}, \"type\": \"carpet\"}], \"choropleth\": [{\"colorbar\": {\"outlinewidth\": 0, \"ticks\": \"\"}, \"type\": \"choropleth\"}], \"contour\": [{\"colorbar\": {\"outlinewidth\": 0, \"ticks\": \"\"}, \"colorscale\": [[0.0, \"#0d0887\"], [0.1111111111111111, \"#46039f\"], [0.2222222222222222, \"#7201a8\"], [0.3333333333333333, \"#9c179e\"], [0.4444444444444444, \"#bd3786\"], [0.5555555555555556, \"#d8576b\"], [0.6666666666666666, \"#ed7953\"], [0.7777777777777778, \"#fb9f3a\"], [0.8888888888888888, \"#fdca26\"], [1.0, \"#f0f921\"]], \"type\": \"contour\"}], \"contourcarpet\": [{\"colorbar\": {\"outlinewidth\": 0, \"ticks\": \"\"}, \"type\": \"contourcarpet\"}], \"heatmap\": [{\"colorbar\": {\"outlinewidth\": 0, \"ticks\": \"\"}, \"colorscale\": [[0.0, \"#0d0887\"], [0.1111111111111111, \"#46039f\"], [0.2222222222222222, \"#7201a8\"], [0.3333333333333333, \"#9c179e\"], [0.4444444444444444, \"#bd3786\"], [0.5555555555555556, \"#d8576b\"], [0.6666666666666666, \"#ed7953\"], [0.7777777777777778, \"#fb9f3a\"], [0.8888888888888888, \"#fdca26\"], [1.0, \"#f0f921\"]], \"type\": \"heatmap\"}], \"heatmapgl\": [{\"colorbar\": {\"outlinewidth\": 0, \"ticks\": \"\"}, \"colorscale\": [[0.0, \"#0d0887\"], [0.1111111111111111, \"#46039f\"], [0.2222222222222222, \"#7201a8\"], [0.3333333333333333, \"#9c179e\"], [0.4444444444444444, \"#bd3786\"], [0.5555555555555556, \"#d8576b\"], [0.6666666666666666, \"#ed7953\"], [0.7777777777777778, \"#fb9f3a\"], [0.8888888888888888, \"#fdca26\"], [1.0, \"#f0f921\"]], \"type\": \"heatmapgl\"}], \"histogram\": [{\"marker\": {\"colorbar\": {\"outlinewidth\": 0, \"ticks\": \"\"}}, \"type\": \"histogram\"}], \"histogram2d\": [{\"colorbar\": {\"outlinewidth\": 0, \"ticks\": \"\"}, \"colorscale\": [[0.0, \"#0d0887\"], [0.1111111111111111, \"#46039f\"], [0.2222222222222222, \"#7201a8\"], [0.3333333333333333, \"#9c179e\"], [0.4444444444444444, \"#bd3786\"], [0.5555555555555556, \"#d8576b\"], [0.6666666666666666, \"#ed7953\"], [0.7777777777777778, \"#fb9f3a\"], [0.8888888888888888, \"#fdca26\"], [1.0, \"#f0f921\"]], \"type\": \"histogram2d\"}], \"histogram2dcontour\": [{\"colorbar\": {\"outlinewidth\": 0, \"ticks\": \"\"}, \"colorscale\": [[0.0, \"#0d0887\"], [0.1111111111111111, \"#46039f\"], [0.2222222222222222, \"#7201a8\"], [0.3333333333333333, \"#9c179e\"], [0.4444444444444444, \"#bd3786\"], [0.5555555555555556, \"#d8576b\"], [0.6666666666666666, \"#ed7953\"], [0.7777777777777778, \"#fb9f3a\"], [0.8888888888888888, \"#fdca26\"], [1.0, \"#f0f921\"]], \"type\": \"histogram2dcontour\"}], \"mesh3d\": [{\"colorbar\": {\"outlinewidth\": 0, \"ticks\": \"\"}, \"type\": \"mesh3d\"}], \"parcoords\": [{\"line\": {\"colorbar\": {\"outlinewidth\": 0, \"ticks\": \"\"}}, \"type\": \"parcoords\"}], \"pie\": [{\"automargin\": true, \"type\": \"pie\"}], \"scatter\": [{\"marker\": {\"colorbar\": {\"outlinewidth\": 0, \"ticks\": \"\"}}, \"type\": \"scatter\"}], \"scatter3d\": [{\"line\": {\"colorbar\": {\"outlinewidth\": 0, \"ticks\": \"\"}}, \"marker\": {\"colorbar\": {\"outlinewidth\": 0, \"ticks\": \"\"}}, \"type\": \"scatter3d\"}], \"scattercarpet\": [{\"marker\": {\"colorbar\": {\"outlinewidth\": 0, \"ticks\": \"\"}}, \"type\": \"scattercarpet\"}], \"scattergeo\": [{\"marker\": {\"colorbar\": {\"outlinewidth\": 0, \"ticks\": \"\"}}, \"type\": \"scattergeo\"}], \"scattergl\": [{\"marker\": {\"colorbar\": {\"outlinewidth\": 0, \"ticks\": \"\"}}, \"type\": \"scattergl\"}], \"scattermapbox\": [{\"marker\": {\"colorbar\": {\"outlinewidth\": 0, \"ticks\": \"\"}}, \"type\": \"scattermapbox\"}], \"scatterpolar\": [{\"marker\": {\"colorbar\": {\"outlinewidth\": 0, \"ticks\": \"\"}}, \"type\": \"scatterpolar\"}], \"scatterpolargl\": [{\"marker\": {\"colorbar\": {\"outlinewidth\": 0, \"ticks\": \"\"}}, \"type\": \"scatterpolargl\"}], \"scatterternary\": [{\"marker\": {\"colorbar\": {\"outlinewidth\": 0, \"ticks\": \"\"}}, \"type\": \"scatterternary\"}], \"surface\": [{\"colorbar\": {\"outlinewidth\": 0, \"ticks\": \"\"}, \"colorscale\": [[0.0, \"#0d0887\"], [0.1111111111111111, \"#46039f\"], [0.2222222222222222, \"#7201a8\"], [0.3333333333333333, \"#9c179e\"], [0.4444444444444444, \"#bd3786\"], [0.5555555555555556, \"#d8576b\"], [0.6666666666666666, \"#ed7953\"], [0.7777777777777778, \"#fb9f3a\"], [0.8888888888888888, \"#fdca26\"], [1.0, \"#f0f921\"]], \"type\": \"surface\"}], \"table\": [{\"cells\": {\"fill\": {\"color\": \"#EBF0F8\"}, \"line\": {\"color\": \"white\"}}, \"header\": {\"fill\": {\"color\": \"#C8D4E3\"}, \"line\": {\"color\": \"white\"}}, \"type\": \"table\"}]}, \"layout\": {\"annotationdefaults\": {\"arrowcolor\": \"#2a3f5f\", \"arrowhead\": 0, \"arrowwidth\": 1}, \"autotypenumbers\": \"strict\", \"coloraxis\": {\"colorbar\": {\"outlinewidth\": 0, \"ticks\": \"\"}}, \"colorscale\": {\"diverging\": [[0, \"#8e0152\"], [0.1, \"#c51b7d\"], [0.2, \"#de77ae\"], [0.3, \"#f1b6da\"], [0.4, \"#fde0ef\"], [0.5, \"#f7f7f7\"], [0.6, \"#e6f5d0\"], [0.7, \"#b8e186\"], [0.8, \"#7fbc41\"], [0.9, \"#4d9221\"], [1, \"#276419\"]], \"sequential\": [[0.0, \"#0d0887\"], [0.1111111111111111, \"#46039f\"], [0.2222222222222222, \"#7201a8\"], [0.3333333333333333, \"#9c179e\"], [0.4444444444444444, \"#bd3786\"], [0.5555555555555556, \"#d8576b\"], [0.6666666666666666, \"#ed7953\"], [0.7777777777777778, \"#fb9f3a\"], [0.8888888888888888, \"#fdca26\"], [1.0, \"#f0f921\"]], \"sequentialminus\": [[0.0, \"#0d0887\"], [0.1111111111111111, \"#46039f\"], [0.2222222222222222, \"#7201a8\"], [0.3333333333333333, \"#9c179e\"], [0.4444444444444444, \"#bd3786\"], [0.5555555555555556, \"#d8576b\"], [0.6666666666666666, \"#ed7953\"], [0.7777777777777778, \"#fb9f3a\"], [0.8888888888888888, \"#fdca26\"], [1.0, \"#f0f921\"]]}, \"colorway\": [\"#636efa\", \"#EF553B\", \"#00cc96\", \"#ab63fa\", \"#FFA15A\", \"#19d3f3\", \"#FF6692\", \"#B6E880\", \"#FF97FF\", \"#FECB52\"], \"font\": {\"color\": \"#2a3f5f\"}, \"geo\": {\"bgcolor\": \"white\", \"lakecolor\": \"white\", \"landcolor\": \"#E5ECF6\", \"showlakes\": true, \"showland\": true, \"subunitcolor\": \"white\"}, \"hoverlabel\": {\"align\": \"left\"}, \"hovermode\": \"closest\", \"mapbox\": {\"style\": \"light\"}, \"paper_bgcolor\": \"white\", \"plot_bgcolor\": \"#E5ECF6\", \"polar\": {\"angularaxis\": {\"gridcolor\": \"white\", \"linecolor\": \"white\", \"ticks\": \"\"}, \"bgcolor\": \"#E5ECF6\", \"radialaxis\": {\"gridcolor\": \"white\", \"linecolor\": \"white\", \"ticks\": \"\"}}, \"scene\": {\"xaxis\": {\"backgroundcolor\": \"#E5ECF6\", \"gridcolor\": \"white\", \"gridwidth\": 2, \"linecolor\": \"white\", \"showbackground\": true, \"ticks\": \"\", \"zerolinecolor\": \"white\"}, \"yaxis\": {\"backgroundcolor\": \"#E5ECF6\", \"gridcolor\": \"white\", \"gridwidth\": 2, \"linecolor\": \"white\", \"showbackground\": true, \"ticks\": \"\", \"zerolinecolor\": \"white\"}, \"zaxis\": {\"backgroundcolor\": \"#E5ECF6\", \"gridcolor\": \"white\", \"gridwidth\": 2, \"linecolor\": \"white\", \"showbackground\": true, \"ticks\": \"\", \"zerolinecolor\": \"white\"}}, \"shapedefaults\": {\"line\": {\"color\": \"#2a3f5f\"}}, \"ternary\": {\"aaxis\": {\"gridcolor\": \"white\", \"linecolor\": \"white\", \"ticks\": \"\"}, \"baxis\": {\"gridcolor\": \"white\", \"linecolor\": \"white\", \"ticks\": \"\"}, \"bgcolor\": \"#E5ECF6\", \"caxis\": {\"gridcolor\": \"white\", \"linecolor\": \"white\", \"ticks\": \"\"}}, \"title\": {\"x\": 0.05}, \"xaxis\": {\"automargin\": true, \"gridcolor\": \"white\", \"linecolor\": \"white\", \"ticks\": \"\", \"title\": {\"standoff\": 15}, \"zerolinecolor\": \"white\", \"zerolinewidth\": 2}, \"yaxis\": {\"automargin\": true, \"gridcolor\": \"white\", \"linecolor\": \"white\", \"ticks\": \"\", \"title\": {\"standoff\": 15}, \"zerolinecolor\": \"white\", \"zerolinewidth\": 2}}}, \"title\": {\"text\": \"The model accuracies against adversarial attacks between 28 and infinity SNR values.\"}, \"xaxis\": {\"anchor\": \"y\", \"domain\": [0.0, 1.0], \"title\": {\"text\": \"Model Names\"}}, \"yaxis\": {\"anchor\": \"x\", \"domain\": [0.0, 1.0], \"title\": {\"text\": \"Accuracy\"}}},                        {\"responsive\": true}                    ).then(function(){\n",
       "                            \n",
       "var gd = document.getElementById('eb1830d6-e025-4e44-830d-a9414c247463');\n",
       "var x = new MutationObserver(function (mutations, observer) {{\n",
       "        var display = window.getComputedStyle(gd).display;\n",
       "        if (!display || display === 'none') {{\n",
       "            console.log([gd, 'removed!']);\n",
       "            Plotly.purge(gd);\n",
       "            observer.disconnect();\n",
       "        }}\n",
       "}});\n",
       "\n",
       "// Listen for the removal of the full notebook cells\n",
       "var notebookContainer = gd.closest('#notebook-container');\n",
       "if (notebookContainer) {{\n",
       "    x.observe(notebookContainer, {childList: true});\n",
       "}}\n",
       "\n",
       "// Listen for the clearing of the current output cell\n",
       "var outputEl = gd.closest('.output');\n",
       "if (outputEl) {{\n",
       "    x.observe(outputEl, {childList: true});\n",
       "}}\n",
       "\n",
       "                        })                };                });            </script>        </div>"
      ]
     },
     "metadata": {},
     "output_type": "display_data"
    }
   ],
   "source": [
    "import plotly.express as px\n",
    "df = px.data.tips()\n",
    "fig = px.box(resnet_results_df)\n",
    "fig.update_layout(\n",
    "    title=\"The model accuracies against adversarial attacks between 28 and infinity SNR values.\",\n",
    "    xaxis_title=\"Model Names\",\n",
    "    yaxis_title=\"Accuracy\"\n",
    ")\n",
    "fig.show()"
   ]
  },
  {
   "cell_type": "markdown",
   "metadata": {},
   "source": [
    "# Random Noise Attacks"
   ]
  },
  {
   "cell_type": "markdown",
   "metadata": {},
   "source": [
    "## CNN Models"
   ]
  },
  {
   "cell_type": "markdown",
   "metadata": {},
   "source": [
    "## ResNet and Parseval Networks"
   ]
  }
 ],
 "metadata": {
  "accelerator": "GPU",
  "colab": {
   "name": "SignalToNoiseRatio.ipynb",
   "provenance": [],
   "toc_visible": true
  },
  "kernelspec": {
   "display_name": "Python 3",
   "language": "python",
   "name": "python3"
  },
  "language_info": {
   "codemirror_mode": {
    "name": "ipython",
    "version": 3
   },
   "file_extension": ".py",
   "mimetype": "text/x-python",
   "name": "python",
   "nbconvert_exporter": "python",
   "pygments_lexer": "ipython3",
   "version": "3.7.7"
  }
 },
 "nbformat": 4,
 "nbformat_minor": 1
}
